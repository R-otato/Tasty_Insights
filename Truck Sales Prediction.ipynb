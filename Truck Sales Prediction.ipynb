{
 "cells": [
  {
   "cell_type": "markdown",
   "metadata": {},
   "source": [
    "# Import Statements"
   ]
  },
  {
   "cell_type": "code",
   "execution_count": 346,
   "metadata": {},
   "outputs": [],
   "source": [
    "# IMPORT STATEMENTS\n",
    "\n",
    "#Import Python packages\n",
    "import pandas as pd\n",
    "import json\n",
    "import matplotlib.pyplot as plt\n",
    "import numpy as np\n",
    "import ast\n",
    "\n",
    "# Import Snowflake modules\n",
    "from snowflake.snowpark import Session\n",
    "#from pyspark.sql.functions import year\n",
    "import snowflake.snowpark.functions as F\n",
    "# import snowflake.snowpark.types as T\n",
    "\n",
    "# import matplotlib and seaborn to plot charts and graphs\n",
    "import matplotlib.pyplot as plt\n",
    "import seaborn as sns\n",
    "\n",
    "# to split training and testing data\n",
    "from sklearn.model_selection import train_test_split\n",
    "\n",
    "# DATA PREPARATION\n",
    "from feature_engine.encoding import OneHotEncoder\n",
    "from sklearn.preprocessing import MinMaxScaler\n",
    "from sklearn.preprocessing import StandardScaler\n",
    "from sklearn.preprocessing import RobustScaler\n",
    "\n",
    "# MODEL BUILDING\n",
    "from sklearn.linear_model import LinearRegression\n",
    "from xgboost import XGBRegressor\n",
    "from sklearn.tree import DecisionTreeRegressor\n",
    "from sklearn.neural_network import MLPRegressor\n",
    "from sklearn. ensemble import RandomForestRegressor, AdaBoostRegressor\n",
    "from sklearn.svm import SVR\n",
    "\n",
    "# MODEL EVALUATION & IMPROVEMENT\n",
    "from sklearn.metrics import mean_squared_error, r2_score\n",
    "from sklearn.model_selection import GridSearchCV\n",
    "\n",
    "# to export model\n",
    "import joblib"
   ]
  },
  {
   "cell_type": "markdown",
   "metadata": {},
   "source": [
    "# Functions"
   ]
  },
  {
   "cell_type": "code",
   "execution_count": 347,
   "metadata": {},
   "outputs": [],
   "source": [
    "def model_performance(model):\n",
    "    print('the training root mean squared error is: ',  np.sqrt(mean_squared_error(model.predict(X_train_scaled), y_train)))\n",
    "    print('the testing root mean squared error is: ',  np.sqrt(mean_squared_error(model.predict(X_test_scaled), y_test)))\n",
    "\n",
    "    print()\n",
    "\n",
    "    #training mse\n",
    "    train_mse = mean_squared_error(model.predict(X_train_scaled), y_train)\n",
    "    print('the training mean squared error is: ', train_mse)\n",
    "    #testing mse\n",
    "    test_mse = mean_squared_error(model.predict(X_test_scaled), y_test)\n",
    "    print('the testing mean squared error is: ', test_mse)\n",
    "\n",
    "    print()\n",
    "\n",
    "    print('training accuracy is: ', model.score(X_train_scaled, y_train))\n",
    "    print('testing accuracy is: ', model.score(X_test_scaled, y_test))\n"
   ]
  },
  {
   "cell_type": "markdown",
   "metadata": {},
   "source": [
    "# Load Tables From Snowflake"
   ]
  },
  {
   "cell_type": "code",
   "execution_count": 348,
   "metadata": {},
   "outputs": [],
   "source": [
    "# Get account credentials from a json file\n",
    "with open(\"data_scientist_auth.json\") as f:\n",
    "    data = json.load(f)\n",
    "    username = data[\"username\"]\n",
    "    password = data[\"password\"]\n",
    "    account = data[\"account\"]\n",
    "\n",
    "# Specify connection parameters\n",
    "connection_parameters = {\n",
    "    \"account\": account,\n",
    "    \"user\": username,\n",
    "    \"password\": password,\n",
    "    \"role\": \"TASTY_BI\",\n",
    "    \"warehouse\": \"TASTY_BI_WH\",\n",
    "    \"database\": \"frostbyte_tasty_bytes\",\n",
    "    \"schema\": \"raw_pos\",\n",
    "}\n",
    "\n",
    "# Create Snowpark session\n",
    "session = Session.builder.configs(connection_parameters).create()"
   ]
  },
  {
   "cell_type": "code",
   "execution_count": 349,
   "metadata": {},
   "outputs": [],
   "source": [
    "# retrieve order details usa table from snowflake\n",
    "menu_table = session.table(\"frostbyte_tasty_bytes.raw_pos.MENU\")\n",
    "order_header = session.table(\"frostbyte_tasty_bytes.raw_pos.ORDER_HEADER\")\n",
    "truck_table = session.table(\"frostbyte_tasty_bytes.raw_pos.TRUCK\")"
   ]
  },
  {
   "cell_type": "code",
   "execution_count": 350,
   "metadata": {},
   "outputs": [
    {
     "name": "stdout",
     "output_type": "stream",
     "text": [
      "-----------------------------------------------------------------------------------------------------------------------------------------------------------------------------------------------------------------------------------\n",
      "|\"TRUCK_ID\"  |\"MENU_TYPE_ID\"  |\"PRIMARY_CITY\"  |\"REGION\"    |\"ISO_REGION\"  |\"COUNTRY\"      |\"ISO_COUNTRY_CODE\"  |\"FRANCHISE_FLAG\"  |\"YEAR\"  |\"MAKE\"        |\"MODEL\"           |\"EV_FLAG\"  |\"FRANCHISE_ID\"  |\"TRUCK_OPENING_DATE\"  |\n",
      "-----------------------------------------------------------------------------------------------------------------------------------------------------------------------------------------------------------------------------------\n",
      "|1           |1               |San Mateo       |California  |CA            |United States  |US                  |0                 |2009    |Ford_         |Step Van          |0          |1               |2019-01-01            |\n",
      "|2           |2               |San Mateo       |California  |CA            |United States  |US                  |0                 |2015    |Ford_         |Step Van          |0          |1               |2020-07-01            |\n",
      "|3           |3               |San Mateo       |California  |CA            |United States  |US                  |1                 |2004    |Freightliner  |MT45 Utilimaster  |0          |2               |2021-10-01            |\n",
      "|4           |4               |San Mateo       |California  |CA            |United States  |US                  |1                 |1997    |Chevrolet     |P30               |1          |3               |2021-01-01            |\n",
      "|5           |5               |San Mateo       |California  |CA            |United States  |US                  |1                 |2010    |Custom        |Van               |1          |4               |2022-04-01            |\n",
      "|6           |6               |San Mateo       |California  |CA            |United States  |US                  |1                 |2010    |Airstream     |Trailer           |0          |5               |2019-07-01            |\n",
      "|7           |7               |San Mateo       |California  |CA            |United States  |US                  |1                 |2010    |Custom        |Van               |0          |6               |2021-01-01            |\n",
      "|8           |8               |San Mateo       |California  |CA            |United States  |US                  |1                 |1999    |Chevrolet     |P30               |1          |7               |2022-04-01            |\n",
      "|9           |9               |San Mateo       |California  |CA            |United States  |US                  |1                 |2008    |Custom        |Box Truck         |0          |8               |2020-07-01            |\n",
      "|10          |10              |San Mateo       |California  |CA            |United States  |US                  |1                 |2009    |Ford_         |Step Van          |0          |9               |2021-10-01            |\n",
      "-----------------------------------------------------------------------------------------------------------------------------------------------------------------------------------------------------------------------------------\n",
      "\n"
     ]
    }
   ],
   "source": [
    "truck_table.show()"
   ]
  },
  {
   "cell_type": "code",
   "execution_count": 351,
   "metadata": {},
   "outputs": [],
   "source": [
    "# Get a list of TRUCK_IDs where the COUNTRY column's value is 'United States'\n",
    "## Filter the 'location_table' where the 'COUNTRY' column is 'United States'\n",
    "filtered_location_table = truck_table.filter(truck_table['COUNTRY'] == 'United States')\n",
    "\n",
    "## Select the 'TRUCK_ID' column from the filtered DataFrame\n",
    "truck_id_df = filtered_location_table.select('TRUCK_ID')\n",
    "\n",
    "## Convert the 'LOCATION_ID' column to a Python list\n",
    "location_id_list = truck_id_df.collect()\n",
    "\n",
    "## Extract the values from the DataFrame and convert them to a list\n",
    "location_id_list = [row['TRUCK_ID'] for row in location_id_list]"
   ]
  },
  {
   "cell_type": "markdown",
   "metadata": {},
   "source": [
    "## Order Header table"
   ]
  },
  {
   "cell_type": "code",
   "execution_count": 352,
   "metadata": {},
   "outputs": [
    {
     "name": "stdout",
     "output_type": "stream",
     "text": [
      "-----------------------------------------------------------------------------------------------------------------------------------------------------------------------------------------------------------------------------------------------------------------------------------------\n",
      "|\"ORDER_ID\"  |\"TRUCK_ID\"  |\"LOCATION_ID\"  |\"CUSTOMER_ID\"  |\"DISCOUNT_ID\"  |\"SHIFT_ID\"  |\"SHIFT_START_TIME\"  |\"SHIFT_END_TIME\"  |\"ORDER_CHANNEL\"  |\"ORDER_TS\"           |\"SERVED_TS\"  |\"ORDER_CURRENCY\"  |\"ORDER_AMOUNT\"  |\"ORDER_TAX_AMOUNT\"  |\"ORDER_DISCOUNT_AMOUNT\"  |\"ORDER_TOTAL\"  |\n",
      "-----------------------------------------------------------------------------------------------------------------------------------------------------------------------------------------------------------------------------------------------------------------------------------------\n",
      "|369186517   |339         |11823.0        |NULL           |NULL           |200372773   |15:30:00            |22:30:00          |NULL             |2021-05-12 18:24:46  |NULL         |USD               |11.0000         |NULL                |NULL                     |11.0000        |\n",
      "|369186518   |339         |11823.0        |NULL           |NULL           |200372773   |15:30:00            |22:30:00          |NULL             |2021-05-12 18:24:49  |NULL         |USD               |76.0000         |NULL                |NULL                     |76.0000        |\n",
      "|369186519   |339         |11823.0        |NULL           |NULL           |200372773   |15:30:00            |22:30:00          |NULL             |2021-05-12 18:25:34  |NULL         |USD               |13.0000         |NULL                |NULL                     |13.0000        |\n",
      "|369186520   |339         |11823.0        |NULL           |NULL           |200372773   |15:30:00            |22:30:00          |NULL             |2021-05-12 18:26:20  |NULL         |USD               |26.0000         |NULL                |NULL                     |26.0000        |\n",
      "|369186521   |339         |11823.0        |NULL           |NULL           |200372773   |15:30:00            |22:30:00          |NULL             |2021-05-12 18:26:20  |NULL         |USD               |29.0000         |NULL                |NULL                     |29.0000        |\n",
      "|369186522   |339         |11823.0        |NULL           |NULL           |200372773   |15:30:00            |22:30:00          |NULL             |2021-05-12 18:27:12  |NULL         |USD               |68.0000         |NULL                |NULL                     |68.0000        |\n",
      "|369186523   |339         |11823.0        |NULL           |NULL           |200372773   |15:30:00            |22:30:00          |NULL             |2021-05-12 18:29:37  |NULL         |USD               |9.0000          |NULL                |NULL                     |9.0000         |\n",
      "|369186524   |339         |11823.0        |NULL           |NULL           |200372773   |15:30:00            |22:30:00          |NULL             |2021-05-12 18:29:41  |NULL         |USD               |18.0000         |NULL                |NULL                     |18.0000        |\n",
      "|369186525   |339         |11823.0        |NULL           |NULL           |200372773   |15:30:00            |22:30:00          |NULL             |2021-05-12 18:30:14  |NULL         |USD               |87.0000         |NULL                |NULL                     |87.0000        |\n",
      "|369186526   |339         |11823.0        |NULL           |NULL           |200372773   |15:30:00            |22:30:00          |NULL             |2021-05-12 18:34:08  |NULL         |USD               |48.0000         |NULL                |NULL                     |48.0000        |\n",
      "-----------------------------------------------------------------------------------------------------------------------------------------------------------------------------------------------------------------------------------------------------------------------------------------\n",
      "\n"
     ]
    }
   ],
   "source": [
    "order_header.show()"
   ]
  },
  {
   "cell_type": "code",
   "execution_count": 353,
   "metadata": {},
   "outputs": [],
   "source": [
    "# # Filter only for the United States\n",
    "# order_header = order_header[order_header['ORDER_CURRENCY'] == 'USD']"
   ]
  },
  {
   "cell_type": "code",
   "execution_count": 354,
   "metadata": {},
   "outputs": [
    {
     "name": "stdout",
     "output_type": "stream",
     "text": [
      "-----------------------------------------------------------------------------------------------------------------------------------------------------------------------------------------------------------------------------------------------------------------------------------------\n",
      "|\"ORDER_ID\"  |\"TRUCK_ID\"  |\"LOCATION_ID\"  |\"CUSTOMER_ID\"  |\"DISCOUNT_ID\"  |\"SHIFT_ID\"  |\"SHIFT_START_TIME\"  |\"SHIFT_END_TIME\"  |\"ORDER_CHANNEL\"  |\"ORDER_TS\"           |\"SERVED_TS\"  |\"ORDER_CURRENCY\"  |\"ORDER_AMOUNT\"  |\"ORDER_TAX_AMOUNT\"  |\"ORDER_DISCOUNT_AMOUNT\"  |\"ORDER_TOTAL\"  |\n",
      "-----------------------------------------------------------------------------------------------------------------------------------------------------------------------------------------------------------------------------------------------------------------------------------------\n",
      "|403869687   |399         |13574.0        |NULL           |NULL           |200444741   |15:00:00            |22:00:00          |NULL             |2022-03-05 20:46:18  |NULL         |USD               |22.0000         |NULL                |NULL                     |22.0000        |\n",
      "|403869688   |399         |13574.0        |NULL           |NULL           |200444741   |15:00:00            |22:00:00          |NULL             |2022-03-05 20:46:44  |NULL         |USD               |11.0000         |NULL                |NULL                     |11.0000        |\n",
      "|403869689   |399         |13574.0        |NULL           |NULL           |200444741   |15:00:00            |22:00:00          |NULL             |2022-03-05 20:46:50  |NULL         |USD               |9.0000          |NULL                |NULL                     |9.0000         |\n",
      "|403869690   |399         |13574.0        |NULL           |NULL           |200444741   |15:00:00            |22:00:00          |NULL             |2022-03-05 20:47:44  |NULL         |USD               |9.0000          |NULL                |NULL                     |9.0000         |\n",
      "|403869691   |399         |13574.0        |NULL           |NULL           |200444741   |15:00:00            |22:00:00          |NULL             |2022-03-05 20:48:52  |NULL         |USD               |9.0000          |NULL                |NULL                     |9.0000         |\n",
      "|403869692   |399         |13574.0        |NULL           |NULL           |200444741   |15:00:00            |22:00:00          |NULL             |2022-03-05 20:50:00  |NULL         |USD               |20.0000         |NULL                |NULL                     |20.0000        |\n",
      "|403869693   |399         |13574.0        |NULL           |NULL           |200444741   |15:00:00            |22:00:00          |NULL             |2022-03-05 20:50:37  |NULL         |USD               |75.0000         |NULL                |NULL                     |75.0000        |\n",
      "|403869694   |399         |13574.0        |NULL           |NULL           |200444741   |15:00:00            |22:00:00          |NULL             |2022-03-05 20:52:28  |NULL         |USD               |77.0000         |NULL                |NULL                     |77.0000        |\n",
      "|403869695   |399         |13574.0        |NULL           |NULL           |200444741   |15:00:00            |22:00:00          |NULL             |2022-03-05 20:52:58  |NULL         |USD               |69.0000         |NULL                |NULL                     |69.0000        |\n",
      "|403869696   |399         |13574.0        |NULL           |NULL           |200444741   |15:00:00            |22:00:00          |NULL             |2022-03-05 20:53:30  |NULL         |USD               |98.0000         |NULL                |NULL                     |98.0000        |\n",
      "-----------------------------------------------------------------------------------------------------------------------------------------------------------------------------------------------------------------------------------------------------------------------------------------\n",
      "\n"
     ]
    }
   ],
   "source": [
    "# Filter only for the United States\n",
    "order_header = order_header.filter(F.col(\"ORDER_CURRENCY\") == \"USD\")\n",
    "\n",
    "order_header.show()"
   ]
  },
  {
   "cell_type": "code",
   "execution_count": 355,
   "metadata": {},
   "outputs": [],
   "source": [
    "\n",
    "# List of unwanted columns\n",
    "unwanted_columns = [\n",
    "    \"ORDER_ID\", \"SHIFT_ID\", \"SHIFT_START_TIME\", \"SHIFT_END_TIME\", \"ORDER_CHANNEL\", \"SERVED_TS\",\n",
    "    \"E_MAIL\", \"PHONE_NUMBER\", \"ORDER_DETAIL_ID\", \"DISCOUNT_ID\", \"LINE_NUMBER\", \"QUANTITY\", \"UNIT_PRICE\",\n",
    "    \"PRICE\", \"ORDER_ITEM_DISCOUNT_AMOUNT\", \"BIRTHDAY_DATE\", \"SIGN_UP_DATE\", \"CHILDREN_COUNT\", \"MARITAL_STATUS\",\n",
    "    \"FAVOURITE_BRAND\", \"GENDER\", \"PREFERRED_LANGUAGE\", \"POSTAL_CODE\", \"COUNTRY\", \"FIRST_NAME\",\n",
    "    \"MAX_ORDER_TS\", \"ORDER_DISCOUNT_AMOUNT\", \"ORDER_TAX_AMOUNT\", \"ORDER_AMOUNT\", \"ORDER_CURRENCY\",\n",
    "    \"LAST_NAME\", \"MENU_ITEM_ID\", \"CUSTOMER_ID\", \"CITY\"\n",
    "]\n",
    "\n",
    "# Drop the unwanted columns from the DataFrame\n",
    "order_header = order_header.drop(unwanted_columns)"
   ]
  },
  {
   "cell_type": "code",
   "execution_count": 356,
   "metadata": {},
   "outputs": [
    {
     "name": "stdout",
     "output_type": "stream",
     "text": [
      "--------------------------------------------------------------------\n",
      "|\"TRUCK_ID\"  |\"LOCATION_ID\"  |\"ORDER_TS\"           |\"ORDER_TOTAL\"  |\n",
      "--------------------------------------------------------------------\n",
      "|339         |11823.0        |2021-05-12 18:24:46  |11.0000        |\n",
      "|339         |11823.0        |2021-05-12 18:24:49  |76.0000        |\n",
      "|339         |11823.0        |2021-05-12 18:25:34  |13.0000        |\n",
      "|339         |11823.0        |2021-05-12 18:26:20  |26.0000        |\n",
      "|339         |11823.0        |2021-05-12 18:26:20  |29.0000        |\n",
      "|339         |11823.0        |2021-05-12 18:27:12  |68.0000        |\n",
      "|339         |11823.0        |2021-05-12 18:29:37  |9.0000         |\n",
      "|339         |11823.0        |2021-05-12 18:29:41  |18.0000        |\n",
      "|339         |11823.0        |2021-05-12 18:30:14  |87.0000        |\n",
      "|339         |11823.0        |2021-05-12 18:34:08  |48.0000        |\n",
      "--------------------------------------------------------------------\n",
      "\n"
     ]
    }
   ],
   "source": [
    "order_header.show()"
   ]
  },
  {
   "cell_type": "code",
   "execution_count": 357,
   "metadata": {},
   "outputs": [
    {
     "name": "stdout",
     "output_type": "stream",
     "text": [
      "-------------------------------------------------------\n",
      "|\"TRUCK_ID\"  |\"LOCATION_ID\"  |\"ORDER_TOTAL\"  |\"YEAR\"  |\n",
      "-------------------------------------------------------\n",
      "|90          |2666.0         |11.0000        |2021    |\n",
      "|90          |2666.0         |11.0000        |2021    |\n",
      "|90          |2666.0         |11.0000        |2021    |\n",
      "|90          |2666.0         |57.0000        |2021    |\n",
      "|90          |2666.0         |24.0000        |2021    |\n",
      "|90          |2666.0         |33.0000        |2021    |\n",
      "|90          |2666.0         |71.0000        |2021    |\n",
      "|90          |2666.0         |33.0000        |2021    |\n",
      "|90          |2666.0         |39.0000        |2021    |\n",
      "|90          |2666.0         |69.0000        |2021    |\n",
      "-------------------------------------------------------\n",
      "\n"
     ]
    }
   ],
   "source": [
    "# Convert the 'ORDER_TS' column to a java.sql.Timestamp object\n",
    "order_header = order_header.withColumn('ORDER_TS', F.to_timestamp(order_header['ORDER_TS']))\n",
    "\n",
    "# Extract the year from the 'ORDER_TS' column\n",
    "order_header = order_header.withColumn('YEAR', F.year(order_header['ORDER_TS']))\n",
    "\n",
    "# Drop the 'ORDER_TS' column\n",
    "order_header = order_header.drop('ORDER_TS')\n",
    "\n",
    "# Show the modified DataFrame with the 'YEAR' column\n",
    "order_header.show()"
   ]
  },
  {
   "cell_type": "code",
   "execution_count": 358,
   "metadata": {},
   "outputs": [
    {
     "name": "stdout",
     "output_type": "stream",
     "text": [
      "Unique years:\n",
      "2021\n",
      "2019\n",
      "2020\n",
      "2022\n"
     ]
    }
   ],
   "source": [
    "# View the unique years in the DataFrame\n",
    "unique_years = order_header.select('YEAR').distinct().collect()\n",
    "print(\"Unique years:\")\n",
    "for row in unique_years:\n",
    "    print(row.YEAR)"
   ]
  },
  {
   "cell_type": "code",
   "execution_count": 359,
   "metadata": {},
   "outputs": [
    {
     "name": "stdout",
     "output_type": "stream",
     "text": [
      "------------------------------------------------\n",
      "|\"YEAR\"  |\"TRUCK_ID\"  |\"TOTAL_SALES_PER_YEAR\"  |\n",
      "------------------------------------------------\n",
      "|2019    |1           |545419.5000             |\n",
      "|2019    |6           |213249.0000             |\n",
      "|2019    |17          |4540667.0000            |\n",
      "|2019    |21          |2114105.0000            |\n",
      "|2019    |33          |1436266.5000            |\n",
      "|2019    |81          |9012208.0000            |\n",
      "|2019    |97          |4307481.0000            |\n",
      "|2019    |100         |3189152.0000            |\n",
      "|2019    |113         |13513295.0000           |\n",
      "|2019    |145         |2474361.0000            |\n",
      "------------------------------------------------\n",
      "\n"
     ]
    }
   ],
   "source": [
    "# Group by 'YEAR' and 'TRUCK_ID' and calculate the sum of 'ORDER_TOTAL'\n",
    "total_sales_by_truck = order_header.group_by(['YEAR', 'TRUCK_ID']) \\\n",
    "                           .agg(F.sum(order_header['ORDER_TOTAL']).alias('TOTAL_SALES_PER_YEAR')) \\\n",
    "                           .orderBy(['YEAR', 'TRUCK_ID'])\n",
    "\n",
    "# View the data\n",
    "total_sales_by_truck.show()"
   ]
  },
  {
   "cell_type": "code",
   "execution_count": 360,
   "metadata": {},
   "outputs": [],
   "source": [
    "# Use collect() to get a list of Row objects\n",
    "truck_df_grp_by = total_sales_by_truck.collect()\n",
    "\n",
    "# Convert the list of Row objects to a pandas DataFrame\n",
    "total_sales_by_truck_df = pd.DataFrame(truck_df_grp_by)"
   ]
  },
  {
   "cell_type": "code",
   "execution_count": 361,
   "metadata": {},
   "outputs": [],
   "source": [
    "total_sales_by_truck_df.to_csv('StreamlitApp/assets/total_sales_by_truck.csv', index=False)"
   ]
  },
  {
   "cell_type": "markdown",
   "metadata": {},
   "source": [
    "## Truck table"
   ]
  },
  {
   "cell_type": "code",
   "execution_count": 362,
   "metadata": {},
   "outputs": [
    {
     "name": "stdout",
     "output_type": "stream",
     "text": [
      "-----------------------------------------------------------------------------------------------------------------------------------------------------------------------------------------------------------------------------------\n",
      "|\"TRUCK_ID\"  |\"MENU_TYPE_ID\"  |\"PRIMARY_CITY\"  |\"REGION\"    |\"ISO_REGION\"  |\"COUNTRY\"      |\"ISO_COUNTRY_CODE\"  |\"FRANCHISE_FLAG\"  |\"YEAR\"  |\"MAKE\"        |\"MODEL\"           |\"EV_FLAG\"  |\"FRANCHISE_ID\"  |\"TRUCK_OPENING_DATE\"  |\n",
      "-----------------------------------------------------------------------------------------------------------------------------------------------------------------------------------------------------------------------------------\n",
      "|1           |1               |San Mateo       |California  |CA            |United States  |US                  |0                 |2009    |Ford_         |Step Van          |0          |1               |2019-01-01            |\n",
      "|2           |2               |San Mateo       |California  |CA            |United States  |US                  |0                 |2015    |Ford_         |Step Van          |0          |1               |2020-07-01            |\n",
      "|3           |3               |San Mateo       |California  |CA            |United States  |US                  |1                 |2004    |Freightliner  |MT45 Utilimaster  |0          |2               |2021-10-01            |\n",
      "|4           |4               |San Mateo       |California  |CA            |United States  |US                  |1                 |1997    |Chevrolet     |P30               |1          |3               |2021-01-01            |\n",
      "|5           |5               |San Mateo       |California  |CA            |United States  |US                  |1                 |2010    |Custom        |Van               |1          |4               |2022-04-01            |\n",
      "|6           |6               |San Mateo       |California  |CA            |United States  |US                  |1                 |2010    |Airstream     |Trailer           |0          |5               |2019-07-01            |\n",
      "|7           |7               |San Mateo       |California  |CA            |United States  |US                  |1                 |2010    |Custom        |Van               |0          |6               |2021-01-01            |\n",
      "|8           |8               |San Mateo       |California  |CA            |United States  |US                  |1                 |1999    |Chevrolet     |P30               |1          |7               |2022-04-01            |\n",
      "|9           |9               |San Mateo       |California  |CA            |United States  |US                  |1                 |2008    |Custom        |Box Truck         |0          |8               |2020-07-01            |\n",
      "|10          |10              |San Mateo       |California  |CA            |United States  |US                  |1                 |2009    |Ford_         |Step Van          |0          |9               |2021-10-01            |\n",
      "-----------------------------------------------------------------------------------------------------------------------------------------------------------------------------------------------------------------------------------\n",
      "\n"
     ]
    }
   ],
   "source": [
    "truck_table.show()"
   ]
  },
  {
   "cell_type": "code",
   "execution_count": 363,
   "metadata": {},
   "outputs": [],
   "source": [
    "# # Filter only for the United States\n",
    "# truck_table = truck_table[truck_table['COUNTRY'] == 'United States']"
   ]
  },
  {
   "cell_type": "code",
   "execution_count": 364,
   "metadata": {},
   "outputs": [
    {
     "name": "stdout",
     "output_type": "stream",
     "text": [
      "-----------------------------------------------------------------------------------------------------------------------------------------------------------------------------------------------------------------------------------\n",
      "|\"TRUCK_ID\"  |\"MENU_TYPE_ID\"  |\"PRIMARY_CITY\"  |\"REGION\"    |\"ISO_REGION\"  |\"COUNTRY\"      |\"ISO_COUNTRY_CODE\"  |\"FRANCHISE_FLAG\"  |\"YEAR\"  |\"MAKE\"        |\"MODEL\"           |\"EV_FLAG\"  |\"FRANCHISE_ID\"  |\"TRUCK_OPENING_DATE\"  |\n",
      "-----------------------------------------------------------------------------------------------------------------------------------------------------------------------------------------------------------------------------------\n",
      "|1           |1               |San Mateo       |California  |CA            |United States  |US                  |0                 |2009    |Ford_         |Step Van          |0          |1               |2019-01-01            |\n",
      "|2           |2               |San Mateo       |California  |CA            |United States  |US                  |0                 |2015    |Ford_         |Step Van          |0          |1               |2020-07-01            |\n",
      "|3           |3               |San Mateo       |California  |CA            |United States  |US                  |1                 |2004    |Freightliner  |MT45 Utilimaster  |0          |2               |2021-10-01            |\n",
      "|4           |4               |San Mateo       |California  |CA            |United States  |US                  |1                 |1997    |Chevrolet     |P30               |1          |3               |2021-01-01            |\n",
      "|5           |5               |San Mateo       |California  |CA            |United States  |US                  |1                 |2010    |Custom        |Van               |1          |4               |2022-04-01            |\n",
      "|6           |6               |San Mateo       |California  |CA            |United States  |US                  |1                 |2010    |Airstream     |Trailer           |0          |5               |2019-07-01            |\n",
      "|7           |7               |San Mateo       |California  |CA            |United States  |US                  |1                 |2010    |Custom        |Van               |0          |6               |2021-01-01            |\n",
      "|8           |8               |San Mateo       |California  |CA            |United States  |US                  |1                 |1999    |Chevrolet     |P30               |1          |7               |2022-04-01            |\n",
      "|9           |9               |San Mateo       |California  |CA            |United States  |US                  |1                 |2008    |Custom        |Box Truck         |0          |8               |2020-07-01            |\n",
      "|10          |10              |San Mateo       |California  |CA            |United States  |US                  |1                 |2009    |Ford_         |Step Van          |0          |9               |2021-10-01            |\n",
      "-----------------------------------------------------------------------------------------------------------------------------------------------------------------------------------------------------------------------------------\n",
      "\n"
     ]
    }
   ],
   "source": [
    "# Filter only for the United States\n",
    "truck_table = truck_table.filter(F.col(\"COUNTRY\") == \"United States\")\n",
    "\n",
    "truck_table.show()"
   ]
  },
  {
   "cell_type": "code",
   "execution_count": 365,
   "metadata": {},
   "outputs": [],
   "source": [
    "# List of unwanted columns\n",
    "unwanted_columns = [\n",
    "    \"REGION\", \"ISO_REGION\", \"COUNTRY\", \"ISO_COUNTRY_CODE\", \"FRANCHISE_FLAG\", \"YEAR\", \"MAKE\",\n",
    "    \"MODEL\", \"EV_FLAG\", \"FRANCHISE_ID\", \"TRUCK_OPENING_DATE\"\n",
    "]\n",
    "\n",
    "# Drop the unwanted columns from the DataFrame\n",
    "truck_table = truck_table.drop(unwanted_columns)"
   ]
  },
  {
   "cell_type": "code",
   "execution_count": 366,
   "metadata": {},
   "outputs": [
    {
     "name": "stdout",
     "output_type": "stream",
     "text": [
      "------------------------------------------------\n",
      "|\"TRUCK_ID\"  |\"MENU_TYPE_ID\"  |\"PRIMARY_CITY\"  |\n",
      "------------------------------------------------\n",
      "|1           |1               |San Mateo       |\n",
      "|2           |2               |San Mateo       |\n",
      "|3           |3               |San Mateo       |\n",
      "|4           |4               |San Mateo       |\n",
      "|5           |5               |San Mateo       |\n",
      "|6           |6               |San Mateo       |\n",
      "|7           |7               |San Mateo       |\n",
      "|8           |8               |San Mateo       |\n",
      "|9           |9               |San Mateo       |\n",
      "|10          |10              |San Mateo       |\n",
      "------------------------------------------------\n",
      "\n"
     ]
    }
   ],
   "source": [
    "# Display the modified DataFrame\n",
    "truck_table.show()"
   ]
  },
  {
   "cell_type": "markdown",
   "metadata": {},
   "source": [
    "## Final table"
   ]
  },
  {
   "cell_type": "code",
   "execution_count": 367,
   "metadata": {},
   "outputs": [],
   "source": [
    "# Merge the two tables using the 'TRUCK_ID' column as the common key\n",
    "final_df = truck_table.join(total_sales_by_truck, on='TRUCK_ID', how='inner')"
   ]
  },
  {
   "cell_type": "code",
   "execution_count": 368,
   "metadata": {},
   "outputs": [
    {
     "name": "stdout",
     "output_type": "stream",
     "text": [
      "----------------------------------------------------------------------------------\n",
      "|\"TRUCK_ID\"  |\"MENU_TYPE_ID\"  |\"PRIMARY_CITY\"  |\"YEAR\"  |\"TOTAL_SALES_PER_YEAR\"  |\n",
      "----------------------------------------------------------------------------------\n",
      "|14          |14              |San Mateo       |2020    |255431.0000             |\n",
      "|17          |2               |Denver          |2020    |5375269.0000            |\n",
      "|18          |3               |Denver          |2020    |4846710.0000            |\n",
      "|21          |6               |Denver          |2020    |2534957.0000            |\n",
      "|23          |8               |Denver          |2020    |5110518.0000            |\n",
      "|27          |12              |Denver          |2020    |3125578.0000            |\n",
      "|1           |1               |San Mateo       |2019    |545419.5000             |\n",
      "|6           |6               |San Mateo       |2019    |213249.0000             |\n",
      "|17          |2               |Denver          |2019    |4540667.0000            |\n",
      "|21          |6               |Denver          |2019    |2114105.0000            |\n",
      "----------------------------------------------------------------------------------\n",
      "\n"
     ]
    }
   ],
   "source": [
    "final_df.show()"
   ]
  },
  {
   "cell_type": "code",
   "execution_count": 369,
   "metadata": {},
   "outputs": [
    {
     "name": "stdout",
     "output_type": "stream",
     "text": [
      "Unique city:\n",
      "New York City\n",
      "San Mateo\n",
      "Boston\n",
      "Seattle\n",
      "Denver\n"
     ]
    }
   ],
   "source": [
    "# View the unique city in the DataFrame\n",
    "unique_years = final_df.select('PRIMARY_CITY').distinct().collect()\n",
    "print(\"Unique city:\")\n",
    "for row in unique_years:\n",
    "    print(row.PRIMARY_CITY)"
   ]
  },
  {
   "cell_type": "code",
   "execution_count": 370,
   "metadata": {},
   "outputs": [],
   "source": [
    "# # Get rows where the LOCATION_ID is for United States\n",
    "# final_df = final_df.filter(F.col('TRUCK_ID').isin(location_id_list))"
   ]
  },
  {
   "cell_type": "code",
   "execution_count": 371,
   "metadata": {},
   "outputs": [],
   "source": [
    "# Use collect() to get a list of Row objects\n",
    "row_list = final_df.collect()\n",
    "\n",
    "# Convert the list of Row objects to a pandas DataFrame\n",
    "final_df = pd.DataFrame(row_list)"
   ]
  },
  {
   "cell_type": "code",
   "execution_count": 372,
   "metadata": {},
   "outputs": [
    {
     "data": {
      "text/html": [
       "<div>\n",
       "<style scoped>\n",
       "    .dataframe tbody tr th:only-of-type {\n",
       "        vertical-align: middle;\n",
       "    }\n",
       "\n",
       "    .dataframe tbody tr th {\n",
       "        vertical-align: top;\n",
       "    }\n",
       "\n",
       "    .dataframe thead th {\n",
       "        text-align: right;\n",
       "    }\n",
       "</style>\n",
       "<table border=\"1\" class=\"dataframe\">\n",
       "  <thead>\n",
       "    <tr style=\"text-align: right;\">\n",
       "      <th></th>\n",
       "      <th>TRUCK_ID</th>\n",
       "      <th>MENU_TYPE_ID</th>\n",
       "      <th>PRIMARY_CITY</th>\n",
       "      <th>YEAR</th>\n",
       "      <th>TOTAL_SALES_PER_YEAR</th>\n",
       "    </tr>\n",
       "  </thead>\n",
       "  <tbody>\n",
       "    <tr>\n",
       "      <th>0</th>\n",
       "      <td>1</td>\n",
       "      <td>1</td>\n",
       "      <td>San Mateo</td>\n",
       "      <td>2019</td>\n",
       "      <td>545419.5000</td>\n",
       "    </tr>\n",
       "    <tr>\n",
       "      <th>1</th>\n",
       "      <td>6</td>\n",
       "      <td>6</td>\n",
       "      <td>San Mateo</td>\n",
       "      <td>2019</td>\n",
       "      <td>213249.0000</td>\n",
       "    </tr>\n",
       "    <tr>\n",
       "      <th>2</th>\n",
       "      <td>17</td>\n",
       "      <td>2</td>\n",
       "      <td>Denver</td>\n",
       "      <td>2019</td>\n",
       "      <td>4540667.0000</td>\n",
       "    </tr>\n",
       "    <tr>\n",
       "      <th>3</th>\n",
       "      <td>21</td>\n",
       "      <td>6</td>\n",
       "      <td>Denver</td>\n",
       "      <td>2019</td>\n",
       "      <td>2114105.0000</td>\n",
       "    </tr>\n",
       "    <tr>\n",
       "      <th>4</th>\n",
       "      <td>33</td>\n",
       "      <td>3</td>\n",
       "      <td>Seattle</td>\n",
       "      <td>2019</td>\n",
       "      <td>1436266.5000</td>\n",
       "    </tr>\n",
       "  </tbody>\n",
       "</table>\n",
       "</div>"
      ],
      "text/plain": [
       "   TRUCK_ID  MENU_TYPE_ID PRIMARY_CITY  YEAR TOTAL_SALES_PER_YEAR\n",
       "0         1             1    San Mateo  2019          545419.5000\n",
       "1         6             6    San Mateo  2019          213249.0000\n",
       "2        17             2       Denver  2019         4540667.0000\n",
       "3        21             6       Denver  2019         2114105.0000\n",
       "4        33             3      Seattle  2019         1436266.5000"
      ]
     },
     "execution_count": 372,
     "metadata": {},
     "output_type": "execute_result"
    }
   ],
   "source": [
    "final_df.head()"
   ]
  },
  {
   "cell_type": "code",
   "execution_count": 373,
   "metadata": {},
   "outputs": [],
   "source": [
    "# Convert 'TOTAL_SALES_PER_YEAR' column to numeric data type (decimal.Decimal to float)\n",
    "final_df['TOTAL_SALES_PER_YEAR'] = final_df['TOTAL_SALES_PER_YEAR'].astype(float)"
   ]
  },
  {
   "cell_type": "code",
   "execution_count": 374,
   "metadata": {},
   "outputs": [
    {
     "name": "stdout",
     "output_type": "stream",
     "text": [
      "Range: 164502.0 - 31450411.0\n"
     ]
    }
   ],
   "source": [
    "# Calculate the minimum and maximum values of the 'TOTAL_QTY_SOLD' column\n",
    "min_value = final_df['TOTAL_SALES_PER_YEAR'].min()\n",
    "max_value = final_df['TOTAL_SALES_PER_YEAR'].max()\n",
    "\n",
    "# Calculate the range\n",
    "column_range = max_value - min_value\n",
    "\n",
    "print(\"Range: {} - {}\".format(min_value, max_value))"
   ]
  },
  {
   "cell_type": "markdown",
   "metadata": {},
   "source": [
    "# Check for Missing Values"
   ]
  },
  {
   "cell_type": "code",
   "execution_count": 375,
   "metadata": {},
   "outputs": [
    {
     "data": {
      "text/plain": [
       "TRUCK_ID                0\n",
       "MENU_TYPE_ID            0\n",
       "PRIMARY_CITY            0\n",
       "YEAR                    0\n",
       "TOTAL_SALES_PER_YEAR    0\n",
       "dtype: int64"
      ]
     },
     "execution_count": 375,
     "metadata": {},
     "output_type": "execute_result"
    }
   ],
   "source": [
    "final_df.isnull().sum()"
   ]
  },
  {
   "cell_type": "markdown",
   "metadata": {},
   "source": [
    "There are no missing values detected. Hence, no process required at this stage."
   ]
  },
  {
   "cell_type": "markdown",
   "metadata": {},
   "source": [
    "# Dealing with Outliers"
   ]
  },
  {
   "cell_type": "code",
   "execution_count": 376,
   "metadata": {},
   "outputs": [
    {
     "data": {
      "image/png": "[encoded data removed]",
      "text/plain": [
       "<Figure size 300x500 with 1 Axes>"
      ]
     },
     "metadata": {},
     "output_type": "display_data"
    }
   ],
   "source": [
    "# plot box plot for 'minimum_nights' variable\n",
    "plt.figure(figsize=(3,5))\n",
    "sns.boxplot(y=final_df['TOTAL_SALES_PER_YEAR'])\n",
    "plt.title('TOTAL_SALES_PER_YEAR boxplot')\n",
    "plt.show()"
   ]
  },
  {
   "cell_type": "markdown",
   "metadata": {},
   "source": [
    "Outliers for the target variable wold not dealt with even if observed as it would be considered cherry picking convenient data. Furthermore, due to the relatively small number of menu items, if subsetting of the target variable was done, there might be too limited data to build an accurate model."
   ]
  },
  {
   "cell_type": "markdown",
   "metadata": {},
   "source": [
    "# Train Test Split"
   ]
  },
  {
   "cell_type": "code",
   "execution_count": 377,
   "metadata": {},
   "outputs": [
    {
     "data": {
      "text/plain": [
       "((117, 4), (51, 4))"
      ]
     },
     "execution_count": 377,
     "metadata": {},
     "output_type": "execute_result"
    }
   ],
   "source": [
    "X_train, X_test, y_train, y_test = train_test_split(\n",
    "    final_df.drop('TOTAL_SALES_PER_YEAR', axis=1), final_df['TOTAL_SALES_PER_YEAR'], test_size=0.3, random_state=0)\n",
    "\n",
    "X_train.shape, X_test.shape"
   ]
  },
  {
   "cell_type": "markdown",
   "metadata": {},
   "source": [
    "# Categorical Variable Encoding "
   ]
  },
  {
   "cell_type": "code",
   "execution_count": 378,
   "metadata": {},
   "outputs": [],
   "source": [
    "# let's create the encoder\n",
    "\n",
    "ohe_enc = OneHotEncoder(\n",
    "    top_categories=None,\n",
    "    drop_last=True)  # to return k-1, false to return k"
   ]
  },
  {
   "cell_type": "code",
   "execution_count": 379,
   "metadata": {},
   "outputs": [
    {
     "data": {
      "text/html": [
       "<style>#sk-container-id-9 {color: black;}#sk-container-id-9 pre{padding: 0;}#sk-container-id-9 div.sk-toggleable {background-color: white;}#sk-container-id-9 label.sk-toggleable__label {cursor: pointer;display: block;width: 100%;margin-bottom: 0;padding: 0.3em;box-sizing: border-box;text-align: center;}#sk-container-id-9 label.sk-toggleable__label-arrow:before {content: \"▸\";float: left;margin-right: 0.25em;color: #696969;}#sk-container-id-9 label.sk-toggleable__label-arrow:hover:before {color: black;}#sk-container-id-9 div.sk-estimator:hover label.sk-toggleable__label-arrow:before {color: black;}#sk-container-id-9 div.sk-toggleable__content {max-height: 0;max-width: 0;overflow: hidden;text-align: left;background-color: #f0f8ff;}#sk-container-id-9 div.sk-toggleable__content pre {margin: 0.2em;color: black;border-radius: 0.25em;background-color: #f0f8ff;}#sk-container-id-9 input.sk-toggleable__control:checked~div.sk-toggleable__content {max-height: 200px;max-width: 100%;overflow: auto;}#sk-container-id-9 input.sk-toggleable__control:checked~label.sk-toggleable__label-arrow:before {content: \"▾\";}#sk-container-id-9 div.sk-estimator input.sk-toggleable__control:checked~label.sk-toggleable__label {background-color: #d4ebff;}#sk-container-id-9 div.sk-label input.sk-toggleable__control:checked~label.sk-toggleable__label {background-color: #d4ebff;}#sk-container-id-9 input.sk-hidden--visually {border: 0;clip: rect(1px 1px 1px 1px);clip: rect(1px, 1px, 1px, 1px);height: 1px;margin: -1px;overflow: hidden;padding: 0;position: absolute;width: 1px;}#sk-container-id-9 div.sk-estimator {font-family: monospace;background-color: #f0f8ff;border: 1px dotted black;border-radius: 0.25em;box-sizing: border-box;margin-bottom: 0.5em;}#sk-container-id-9 div.sk-estimator:hover {background-color: #d4ebff;}#sk-container-id-9 div.sk-parallel-item::after {content: \"\";width: 100%;border-bottom: 1px solid gray;flex-grow: 1;}#sk-container-id-9 div.sk-label:hover label.sk-toggleable__label {background-color: #d4ebff;}#sk-container-id-9 div.sk-serial::before {content: \"\";position: absolute;border-left: 1px solid gray;box-sizing: border-box;top: 0;bottom: 0;left: 50%;z-index: 0;}#sk-container-id-9 div.sk-serial {display: flex;flex-direction: column;align-items: center;background-color: white;padding-right: 0.2em;padding-left: 0.2em;position: relative;}#sk-container-id-9 div.sk-item {position: relative;z-index: 1;}#sk-container-id-9 div.sk-parallel {display: flex;align-items: stretch;justify-content: center;background-color: white;position: relative;}#sk-container-id-9 div.sk-item::before, #sk-container-id-9 div.sk-parallel-item::before {content: \"\";position: absolute;border-left: 1px solid gray;box-sizing: border-box;top: 0;bottom: 0;left: 50%;z-index: -1;}#sk-container-id-9 div.sk-parallel-item {display: flex;flex-direction: column;z-index: 1;position: relative;background-color: white;}#sk-container-id-9 div.sk-parallel-item:first-child::after {align-self: flex-end;width: 50%;}#sk-container-id-9 div.sk-parallel-item:last-child::after {align-self: flex-start;width: 50%;}#sk-container-id-9 div.sk-parallel-item:only-child::after {width: 0;}#sk-container-id-9 div.sk-dashed-wrapped {border: 1px dashed gray;margin: 0 0.4em 0.5em 0.4em;box-sizing: border-box;padding-bottom: 0.4em;background-color: white;}#sk-container-id-9 div.sk-label label {font-family: monospace;font-weight: bold;display: inline-block;line-height: 1.2em;}#sk-container-id-9 div.sk-label-container {text-align: center;}#sk-container-id-9 div.sk-container {/* jupyter's `normalize.less` sets `[hidden] { display: none; }` but bootstrap.min.css set `[hidden] { display: none !important; }` so we also need the `!important` here to be able to override the default hidden behavior on the sphinx rendered scikit-learn.org. See: https://github.com/scikit-learn/scikit-learn/issues/21755 */display: inline-block !important;position: relative;}#sk-container-id-9 div.sk-text-repr-fallback {display: none;}</style><div id=\"sk-container-id-9\" class=\"sk-top-container\"><div class=\"sk-text-repr-fallback\"><pre>OneHotEncoder(drop_last=True)</pre><b>In a Jupyter environment, please rerun this cell to show the HTML representation or trust the notebook. <br />On GitHub, the HTML representation is unable to render, please try loading this page with nbviewer.org.</b></div><div class=\"sk-container\" hidden><div class=\"sk-item\"><div class=\"sk-estimator sk-toggleable\"><input class=\"sk-toggleable__control sk-hidden--visually\" id=\"sk-estimator-id-11\" type=\"checkbox\" checked><label for=\"sk-estimator-id-11\" class=\"sk-toggleable__label sk-toggleable__label-arrow\">OneHotEncoder</label><div class=\"sk-toggleable__content\"><pre>OneHotEncoder(drop_last=True)</pre></div></div></div></div></div>"
      ],
      "text/plain": [
       "OneHotEncoder(drop_last=True)"
      ]
     },
     "execution_count": 379,
     "metadata": {},
     "output_type": "execute_result"
    }
   ],
   "source": [
    "# fit the encoder to the train set: it will learn the variables and \n",
    "# categories to encode\n",
    "ohe_enc.fit(X_train)"
   ]
  },
  {
   "cell_type": "code",
   "execution_count": 380,
   "metadata": {},
   "outputs": [],
   "source": [
    "X_train = ohe_enc.transform(X_train)\n",
    "X_test = ohe_enc.transform(X_test)"
   ]
  },
  {
   "cell_type": "markdown",
   "metadata": {},
   "source": [
    "# Scaling"
   ]
  },
  {
   "cell_type": "markdown",
   "metadata": {},
   "source": [
    "## Min Max Scaler"
   ]
  },
  {
   "cell_type": "code",
   "execution_count": 381,
   "metadata": {},
   "outputs": [],
   "source": [
    "# set up the scaler\n",
    "scaler = MinMaxScaler()\n",
    "\n",
    "# fit the scaler to the train set, it will learn the parameters\n",
    "scaler.fit(X_train)\n",
    "\n",
    "# transform train and test sets\n",
    "X_train_scaled = scaler.transform(X_train)\n",
    "X_test_scaled = scaler.transform(X_test)"
   ]
  },
  {
   "cell_type": "code",
   "execution_count": 382,
   "metadata": {},
   "outputs": [
    {
     "data": {
      "text/plain": [
       "['StreamlitApp/assets/truck_min_max_scaler.joblib']"
      ]
     },
     "execution_count": 382,
     "metadata": {},
     "output_type": "execute_result"
    }
   ],
   "source": [
    "# Save the model to a file\n",
    "joblib.dump(scaler, \"StreamlitApp/assets/truck_min_max_scaler.joblib\")"
   ]
  },
  {
   "cell_type": "markdown",
   "metadata": {},
   "source": [
    "## Standard Scaler"
   ]
  },
  {
   "cell_type": "code",
   "execution_count": 383,
   "metadata": {},
   "outputs": [],
   "source": [
    "# # set up the scaler\n",
    "# scaler = StandardScaler()\n",
    "\n",
    "# # fit the scaler to the train set, it will learn the parameters\n",
    "# scaler.fit(X_train)\n",
    "\n",
    "# # transform train and test sets\n",
    "# X_train_scaled = scaler.transform(X_train)\n",
    "# X_test_scaled = scaler.transform(X_test)"
   ]
  },
  {
   "cell_type": "markdown",
   "metadata": {},
   "source": [
    "Standard Scaler did not lead to a difference in result."
   ]
  },
  {
   "cell_type": "code",
   "execution_count": 384,
   "metadata": {},
   "outputs": [],
   "source": [
    "# # set up the scaler\n",
    "# scaler = RobustScaler()\n",
    "\n",
    "# # fit the scaler to the train set, it will learn the parameters\n",
    "# scaler.fit(X_train)\n",
    "\n",
    "# # transform train and test sets\n",
    "# X_train_scaled = scaler.transform(X_train)\n",
    "# X_test_scaled = scaler.transform(X_test)"
   ]
  },
  {
   "cell_type": "markdown",
   "metadata": {},
   "source": [
    "Robust Scaler did not lead to a difference in result."
   ]
  },
  {
   "cell_type": "code",
   "execution_count": 385,
   "metadata": {},
   "outputs": [],
   "source": [
    "# let's transform the returned NumPy arrays to dataframes\n",
    "X_train_scaled = pd.DataFrame(X_train_scaled, columns=X_train.columns)\n",
    "X_test_scaled = pd.DataFrame(X_test_scaled, columns=X_test.columns)"
   ]
  },
  {
   "cell_type": "markdown",
   "metadata": {},
   "source": [
    "# Build Models"
   ]
  },
  {
   "cell_type": "markdown",
   "metadata": {},
   "source": [
    "## Linear Regression"
   ]
  },
  {
   "cell_type": "code",
   "execution_count": 386,
   "metadata": {},
   "outputs": [
    {
     "data": {
      "text/html": [
       "<style>#sk-container-id-10 {color: black;}#sk-container-id-10 pre{padding: 0;}#sk-container-id-10 div.sk-toggleable {background-color: white;}#sk-container-id-10 label.sk-toggleable__label {cursor: pointer;display: block;width: 100%;margin-bottom: 0;padding: 0.3em;box-sizing: border-box;text-align: center;}#sk-container-id-10 label.sk-toggleable__label-arrow:before {content: \"▸\";float: left;margin-right: 0.25em;color: #696969;}#sk-container-id-10 label.sk-toggleable__label-arrow:hover:before {color: black;}#sk-container-id-10 div.sk-estimator:hover label.sk-toggleable__label-arrow:before {color: black;}#sk-container-id-10 div.sk-toggleable__content {max-height: 0;max-width: 0;overflow: hidden;text-align: left;background-color: #f0f8ff;}#sk-container-id-10 div.sk-toggleable__content pre {margin: 0.2em;color: black;border-radius: 0.25em;background-color: #f0f8ff;}#sk-container-id-10 input.sk-toggleable__control:checked~div.sk-toggleable__content {max-height: 200px;max-width: 100%;overflow: auto;}#sk-container-id-10 input.sk-toggleable__control:checked~label.sk-toggleable__label-arrow:before {content: \"▾\";}#sk-container-id-10 div.sk-estimator input.sk-toggleable__control:checked~label.sk-toggleable__label {background-color: #d4ebff;}#sk-container-id-10 div.sk-label input.sk-toggleable__control:checked~label.sk-toggleable__label {background-color: #d4ebff;}#sk-container-id-10 input.sk-hidden--visually {border: 0;clip: rect(1px 1px 1px 1px);clip: rect(1px, 1px, 1px, 1px);height: 1px;margin: -1px;overflow: hidden;padding: 0;position: absolute;width: 1px;}#sk-container-id-10 div.sk-estimator {font-family: monospace;background-color: #f0f8ff;border: 1px dotted black;border-radius: 0.25em;box-sizing: border-box;margin-bottom: 0.5em;}#sk-container-id-10 div.sk-estimator:hover {background-color: #d4ebff;}#sk-container-id-10 div.sk-parallel-item::after {content: \"\";width: 100%;border-bottom: 1px solid gray;flex-grow: 1;}#sk-container-id-10 div.sk-label:hover label.sk-toggleable__label {background-color: #d4ebff;}#sk-container-id-10 div.sk-serial::before {content: \"\";position: absolute;border-left: 1px solid gray;box-sizing: border-box;top: 0;bottom: 0;left: 50%;z-index: 0;}#sk-container-id-10 div.sk-serial {display: flex;flex-direction: column;align-items: center;background-color: white;padding-right: 0.2em;padding-left: 0.2em;position: relative;}#sk-container-id-10 div.sk-item {position: relative;z-index: 1;}#sk-container-id-10 div.sk-parallel {display: flex;align-items: stretch;justify-content: center;background-color: white;position: relative;}#sk-container-id-10 div.sk-item::before, #sk-container-id-10 div.sk-parallel-item::before {content: \"\";position: absolute;border-left: 1px solid gray;box-sizing: border-box;top: 0;bottom: 0;left: 50%;z-index: -1;}#sk-container-id-10 div.sk-parallel-item {display: flex;flex-direction: column;z-index: 1;position: relative;background-color: white;}#sk-container-id-10 div.sk-parallel-item:first-child::after {align-self: flex-end;width: 50%;}#sk-container-id-10 div.sk-parallel-item:last-child::after {align-self: flex-start;width: 50%;}#sk-container-id-10 div.sk-parallel-item:only-child::after {width: 0;}#sk-container-id-10 div.sk-dashed-wrapped {border: 1px dashed gray;margin: 0 0.4em 0.5em 0.4em;box-sizing: border-box;padding-bottom: 0.4em;background-color: white;}#sk-container-id-10 div.sk-label label {font-family: monospace;font-weight: bold;display: inline-block;line-height: 1.2em;}#sk-container-id-10 div.sk-label-container {text-align: center;}#sk-container-id-10 div.sk-container {/* jupyter's `normalize.less` sets `[hidden] { display: none; }` but bootstrap.min.css set `[hidden] { display: none !important; }` so we also need the `!important` here to be able to override the default hidden behavior on the sphinx rendered scikit-learn.org. See: https://github.com/scikit-learn/scikit-learn/issues/21755 */display: inline-block !important;position: relative;}#sk-container-id-10 div.sk-text-repr-fallback {display: none;}</style><div id=\"sk-container-id-10\" class=\"sk-top-container\"><div class=\"sk-text-repr-fallback\"><pre>LinearRegression()</pre><b>In a Jupyter environment, please rerun this cell to show the HTML representation or trust the notebook. <br />On GitHub, the HTML representation is unable to render, please try loading this page with nbviewer.org.</b></div><div class=\"sk-container\" hidden><div class=\"sk-item\"><div class=\"sk-estimator sk-toggleable\"><input class=\"sk-toggleable__control sk-hidden--visually\" id=\"sk-estimator-id-12\" type=\"checkbox\" checked><label for=\"sk-estimator-id-12\" class=\"sk-toggleable__label sk-toggleable__label-arrow\">LinearRegression</label><div class=\"sk-toggleable__content\"><pre>LinearRegression()</pre></div></div></div></div></div>"
      ],
      "text/plain": [
       "LinearRegression()"
      ]
     },
     "execution_count": 386,
     "metadata": {},
     "output_type": "execute_result"
    }
   ],
   "source": [
    "# create the linear regression model\n",
    "# fit the model to the training data\n",
    "lm = LinearRegression()\n",
    "lm.fit(X_train, y_train)"
   ]
  },
  {
   "cell_type": "code",
   "execution_count": 387,
   "metadata": {},
   "outputs": [],
   "source": [
    "# Calculated the fitted values for training set\n",
    "y_fitted = lm.predict(X_train)\n",
    "\n",
    "# Task 5a: calculated the predicated value for testing data\n",
    "y_pred = lm.predict(X_test)"
   ]
  },
  {
   "cell_type": "code",
   "execution_count": 388,
   "metadata": {},
   "outputs": [
    {
     "name": "stdout",
     "output_type": "stream",
     "text": [
      "the training root mean squared error is:  1290231425.0314953\n",
      "the testing root mean squared error is:  1290064011.8458033\n",
      "\n",
      "the training mean squared error is:  1.664697130138803e+18\n",
      "the testing mean squared error is:  1.664265154659689e+18\n",
      "\n",
      "training accuracy is:  -47557.710450377366\n",
      "testing accuracy is:  -42206.45040750081\n"
     ]
    }
   ],
   "source": [
    "model_performance(lm)"
   ]
  },
  {
   "cell_type": "markdown",
   "metadata": {},
   "source": [
    "## Decision Tree"
   ]
  },
  {
   "cell_type": "code",
   "execution_count": 389,
   "metadata": {},
   "outputs": [
    {
     "data": {
      "text/html": [
       "<style>#sk-container-id-11 {color: black;}#sk-container-id-11 pre{padding: 0;}#sk-container-id-11 div.sk-toggleable {background-color: white;}#sk-container-id-11 label.sk-toggleable__label {cursor: pointer;display: block;width: 100%;margin-bottom: 0;padding: 0.3em;box-sizing: border-box;text-align: center;}#sk-container-id-11 label.sk-toggleable__label-arrow:before {content: \"▸\";float: left;margin-right: 0.25em;color: #696969;}#sk-container-id-11 label.sk-toggleable__label-arrow:hover:before {color: black;}#sk-container-id-11 div.sk-estimator:hover label.sk-toggleable__label-arrow:before {color: black;}#sk-container-id-11 div.sk-toggleable__content {max-height: 0;max-width: 0;overflow: hidden;text-align: left;background-color: #f0f8ff;}#sk-container-id-11 div.sk-toggleable__content pre {margin: 0.2em;color: black;border-radius: 0.25em;background-color: #f0f8ff;}#sk-container-id-11 input.sk-toggleable__control:checked~div.sk-toggleable__content {max-height: 200px;max-width: 100%;overflow: auto;}#sk-container-id-11 input.sk-toggleable__control:checked~label.sk-toggleable__label-arrow:before {content: \"▾\";}#sk-container-id-11 div.sk-estimator input.sk-toggleable__control:checked~label.sk-toggleable__label {background-color: #d4ebff;}#sk-container-id-11 div.sk-label input.sk-toggleable__control:checked~label.sk-toggleable__label {background-color: #d4ebff;}#sk-container-id-11 input.sk-hidden--visually {border: 0;clip: rect(1px 1px 1px 1px);clip: rect(1px, 1px, 1px, 1px);height: 1px;margin: -1px;overflow: hidden;padding: 0;position: absolute;width: 1px;}#sk-container-id-11 div.sk-estimator {font-family: monospace;background-color: #f0f8ff;border: 1px dotted black;border-radius: 0.25em;box-sizing: border-box;margin-bottom: 0.5em;}#sk-container-id-11 div.sk-estimator:hover {background-color: #d4ebff;}#sk-container-id-11 div.sk-parallel-item::after {content: \"\";width: 100%;border-bottom: 1px solid gray;flex-grow: 1;}#sk-container-id-11 div.sk-label:hover label.sk-toggleable__label {background-color: #d4ebff;}#sk-container-id-11 div.sk-serial::before {content: \"\";position: absolute;border-left: 1px solid gray;box-sizing: border-box;top: 0;bottom: 0;left: 50%;z-index: 0;}#sk-container-id-11 div.sk-serial {display: flex;flex-direction: column;align-items: center;background-color: white;padding-right: 0.2em;padding-left: 0.2em;position: relative;}#sk-container-id-11 div.sk-item {position: relative;z-index: 1;}#sk-container-id-11 div.sk-parallel {display: flex;align-items: stretch;justify-content: center;background-color: white;position: relative;}#sk-container-id-11 div.sk-item::before, #sk-container-id-11 div.sk-parallel-item::before {content: \"\";position: absolute;border-left: 1px solid gray;box-sizing: border-box;top: 0;bottom: 0;left: 50%;z-index: -1;}#sk-container-id-11 div.sk-parallel-item {display: flex;flex-direction: column;z-index: 1;position: relative;background-color: white;}#sk-container-id-11 div.sk-parallel-item:first-child::after {align-self: flex-end;width: 50%;}#sk-container-id-11 div.sk-parallel-item:last-child::after {align-self: flex-start;width: 50%;}#sk-container-id-11 div.sk-parallel-item:only-child::after {width: 0;}#sk-container-id-11 div.sk-dashed-wrapped {border: 1px dashed gray;margin: 0 0.4em 0.5em 0.4em;box-sizing: border-box;padding-bottom: 0.4em;background-color: white;}#sk-container-id-11 div.sk-label label {font-family: monospace;font-weight: bold;display: inline-block;line-height: 1.2em;}#sk-container-id-11 div.sk-label-container {text-align: center;}#sk-container-id-11 div.sk-container {/* jupyter's `normalize.less` sets `[hidden] { display: none; }` but bootstrap.min.css set `[hidden] { display: none !important; }` so we also need the `!important` here to be able to override the default hidden behavior on the sphinx rendered scikit-learn.org. See: https://github.com/scikit-learn/scikit-learn/issues/21755 */display: inline-block !important;position: relative;}#sk-container-id-11 div.sk-text-repr-fallback {display: none;}</style><div id=\"sk-container-id-11\" class=\"sk-top-container\"><div class=\"sk-text-repr-fallback\"><pre>DecisionTreeRegressor(max_depth=2, random_state=2)</pre><b>In a Jupyter environment, please rerun this cell to show the HTML representation or trust the notebook. <br />On GitHub, the HTML representation is unable to render, please try loading this page with nbviewer.org.</b></div><div class=\"sk-container\" hidden><div class=\"sk-item\"><div class=\"sk-estimator sk-toggleable\"><input class=\"sk-toggleable__control sk-hidden--visually\" id=\"sk-estimator-id-13\" type=\"checkbox\" checked><label for=\"sk-estimator-id-13\" class=\"sk-toggleable__label sk-toggleable__label-arrow\">DecisionTreeRegressor</label><div class=\"sk-toggleable__content\"><pre>DecisionTreeRegressor(max_depth=2, random_state=2)</pre></div></div></div></div></div>"
      ],
      "text/plain": [
       "DecisionTreeRegressor(max_depth=2, random_state=2)"
      ]
     },
     "execution_count": 389,
     "metadata": {},
     "output_type": "execute_result"
    }
   ],
   "source": [
    "# Create Decision Tree Regressor with random state equal to 2\n",
    "# fit the model to the training data\n",
    "tree_reg = DecisionTreeRegressor(max_depth=2, random_state=2)\n",
    "tree_reg.fit(X_train, y_train)"
   ]
  },
  {
   "cell_type": "code",
   "execution_count": 390,
   "metadata": {},
   "outputs": [
    {
     "name": "stdout",
     "output_type": "stream",
     "text": [
      "the training root mean squared error is:  7996898.489744338\n",
      "the testing root mean squared error is:  7687132.2414846\n",
      "\n",
      "the training mean squared error is:  63950385455275.27\n",
      "the testing mean squared error is:  59092002098072.05\n",
      "\n",
      "training accuracy is:  -0.8269977222846945\n",
      "testing accuracy is:  -0.4986330399643024\n"
     ]
    }
   ],
   "source": [
    "model_performance(tree_reg)"
   ]
  },
  {
   "cell_type": "markdown",
   "metadata": {},
   "source": [
    "## MLP Regressor"
   ]
  },
  {
   "cell_type": "code",
   "execution_count": 391,
   "metadata": {},
   "outputs": [
    {
     "data": {
      "text/html": [
       "<style>#sk-container-id-12 {color: black;}#sk-container-id-12 pre{padding: 0;}#sk-container-id-12 div.sk-toggleable {background-color: white;}#sk-container-id-12 label.sk-toggleable__label {cursor: pointer;display: block;width: 100%;margin-bottom: 0;padding: 0.3em;box-sizing: border-box;text-align: center;}#sk-container-id-12 label.sk-toggleable__label-arrow:before {content: \"▸\";float: left;margin-right: 0.25em;color: #696969;}#sk-container-id-12 label.sk-toggleable__label-arrow:hover:before {color: black;}#sk-container-id-12 div.sk-estimator:hover label.sk-toggleable__label-arrow:before {color: black;}#sk-container-id-12 div.sk-toggleable__content {max-height: 0;max-width: 0;overflow: hidden;text-align: left;background-color: #f0f8ff;}#sk-container-id-12 div.sk-toggleable__content pre {margin: 0.2em;color: black;border-radius: 0.25em;background-color: #f0f8ff;}#sk-container-id-12 input.sk-toggleable__control:checked~div.sk-toggleable__content {max-height: 200px;max-width: 100%;overflow: auto;}#sk-container-id-12 input.sk-toggleable__control:checked~label.sk-toggleable__label-arrow:before {content: \"▾\";}#sk-container-id-12 div.sk-estimator input.sk-toggleable__control:checked~label.sk-toggleable__label {background-color: #d4ebff;}#sk-container-id-12 div.sk-label input.sk-toggleable__control:checked~label.sk-toggleable__label {background-color: #d4ebff;}#sk-container-id-12 input.sk-hidden--visually {border: 0;clip: rect(1px 1px 1px 1px);clip: rect(1px, 1px, 1px, 1px);height: 1px;margin: -1px;overflow: hidden;padding: 0;position: absolute;width: 1px;}#sk-container-id-12 div.sk-estimator {font-family: monospace;background-color: #f0f8ff;border: 1px dotted black;border-radius: 0.25em;box-sizing: border-box;margin-bottom: 0.5em;}#sk-container-id-12 div.sk-estimator:hover {background-color: #d4ebff;}#sk-container-id-12 div.sk-parallel-item::after {content: \"\";width: 100%;border-bottom: 1px solid gray;flex-grow: 1;}#sk-container-id-12 div.sk-label:hover label.sk-toggleable__label {background-color: #d4ebff;}#sk-container-id-12 div.sk-serial::before {content: \"\";position: absolute;border-left: 1px solid gray;box-sizing: border-box;top: 0;bottom: 0;left: 50%;z-index: 0;}#sk-container-id-12 div.sk-serial {display: flex;flex-direction: column;align-items: center;background-color: white;padding-right: 0.2em;padding-left: 0.2em;position: relative;}#sk-container-id-12 div.sk-item {position: relative;z-index: 1;}#sk-container-id-12 div.sk-parallel {display: flex;align-items: stretch;justify-content: center;background-color: white;position: relative;}#sk-container-id-12 div.sk-item::before, #sk-container-id-12 div.sk-parallel-item::before {content: \"\";position: absolute;border-left: 1px solid gray;box-sizing: border-box;top: 0;bottom: 0;left: 50%;z-index: -1;}#sk-container-id-12 div.sk-parallel-item {display: flex;flex-direction: column;z-index: 1;position: relative;background-color: white;}#sk-container-id-12 div.sk-parallel-item:first-child::after {align-self: flex-end;width: 50%;}#sk-container-id-12 div.sk-parallel-item:last-child::after {align-self: flex-start;width: 50%;}#sk-container-id-12 div.sk-parallel-item:only-child::after {width: 0;}#sk-container-id-12 div.sk-dashed-wrapped {border: 1px dashed gray;margin: 0 0.4em 0.5em 0.4em;box-sizing: border-box;padding-bottom: 0.4em;background-color: white;}#sk-container-id-12 div.sk-label label {font-family: monospace;font-weight: bold;display: inline-block;line-height: 1.2em;}#sk-container-id-12 div.sk-label-container {text-align: center;}#sk-container-id-12 div.sk-container {/* jupyter's `normalize.less` sets `[hidden] { display: none; }` but bootstrap.min.css set `[hidden] { display: none !important; }` so we also need the `!important` here to be able to override the default hidden behavior on the sphinx rendered scikit-learn.org. See: https://github.com/scikit-learn/scikit-learn/issues/21755 */display: inline-block !important;position: relative;}#sk-container-id-12 div.sk-text-repr-fallback {display: none;}</style><div id=\"sk-container-id-12\" class=\"sk-top-container\"><div class=\"sk-text-repr-fallback\"><pre>MLPRegressor(hidden_layer_sizes=(10,), max_iter=2000, random_state=2,\n",
       "             solver=&#x27;sgd&#x27;)</pre><b>In a Jupyter environment, please rerun this cell to show the HTML representation or trust the notebook. <br />On GitHub, the HTML representation is unable to render, please try loading this page with nbviewer.org.</b></div><div class=\"sk-container\" hidden><div class=\"sk-item\"><div class=\"sk-estimator sk-toggleable\"><input class=\"sk-toggleable__control sk-hidden--visually\" id=\"sk-estimator-id-14\" type=\"checkbox\" checked><label for=\"sk-estimator-id-14\" class=\"sk-toggleable__label sk-toggleable__label-arrow\">MLPRegressor</label><div class=\"sk-toggleable__content\"><pre>MLPRegressor(hidden_layer_sizes=(10,), max_iter=2000, random_state=2,\n",
       "             solver=&#x27;sgd&#x27;)</pre></div></div></div></div></div>"
      ],
      "text/plain": [
       "MLPRegressor(hidden_layer_sizes=(10,), max_iter=2000, random_state=2,\n",
       "             solver='sgd')"
      ]
     },
     "execution_count": 391,
     "metadata": {},
     "output_type": "execute_result"
    }
   ],
   "source": [
    "# Create the ann model\n",
    "mlp = MLPRegressor(activation ='relu', hidden_layer_sizes=(10,), max_iter= 2000, solver = 'sgd', random_state=2)\n",
    "# Fit the model to the training set\n",
    "mlp.fit(X_train,y_train)"
   ]
  },
  {
   "cell_type": "code",
   "execution_count": 392,
   "metadata": {},
   "outputs": [
    {
     "name": "stdout",
     "output_type": "stream",
     "text": [
      "the training root mean squared error is:  4413765234543.244\n",
      "the testing root mean squared error is:  4413764288383.284\n",
      "\n",
      "the training mean squared error is:  1.9481323545662575e+25\n",
      "the testing mean squared error is:  1.94813151934076e+25\n",
      "\n",
      "training accuracy is:  -556561676549.156\n",
      "testing accuracy is:  -494065890038.4867\n"
     ]
    }
   ],
   "source": [
    "model_performance(mlp)"
   ]
  },
  {
   "cell_type": "markdown",
   "metadata": {},
   "source": [
    "## ADA Boost Regressor"
   ]
  },
  {
   "cell_type": "code",
   "execution_count": 393,
   "metadata": {},
   "outputs": [
    {
     "data": {
      "text/html": [
       "<style>#sk-container-id-13 {color: black;}#sk-container-id-13 pre{padding: 0;}#sk-container-id-13 div.sk-toggleable {background-color: white;}#sk-container-id-13 label.sk-toggleable__label {cursor: pointer;display: block;width: 100%;margin-bottom: 0;padding: 0.3em;box-sizing: border-box;text-align: center;}#sk-container-id-13 label.sk-toggleable__label-arrow:before {content: \"▸\";float: left;margin-right: 0.25em;color: #696969;}#sk-container-id-13 label.sk-toggleable__label-arrow:hover:before {color: black;}#sk-container-id-13 div.sk-estimator:hover label.sk-toggleable__label-arrow:before {color: black;}#sk-container-id-13 div.sk-toggleable__content {max-height: 0;max-width: 0;overflow: hidden;text-align: left;background-color: #f0f8ff;}#sk-container-id-13 div.sk-toggleable__content pre {margin: 0.2em;color: black;border-radius: 0.25em;background-color: #f0f8ff;}#sk-container-id-13 input.sk-toggleable__control:checked~div.sk-toggleable__content {max-height: 200px;max-width: 100%;overflow: auto;}#sk-container-id-13 input.sk-toggleable__control:checked~label.sk-toggleable__label-arrow:before {content: \"▾\";}#sk-container-id-13 div.sk-estimator input.sk-toggleable__control:checked~label.sk-toggleable__label {background-color: #d4ebff;}#sk-container-id-13 div.sk-label input.sk-toggleable__control:checked~label.sk-toggleable__label {background-color: #d4ebff;}#sk-container-id-13 input.sk-hidden--visually {border: 0;clip: rect(1px 1px 1px 1px);clip: rect(1px, 1px, 1px, 1px);height: 1px;margin: -1px;overflow: hidden;padding: 0;position: absolute;width: 1px;}#sk-container-id-13 div.sk-estimator {font-family: monospace;background-color: #f0f8ff;border: 1px dotted black;border-radius: 0.25em;box-sizing: border-box;margin-bottom: 0.5em;}#sk-container-id-13 div.sk-estimator:hover {background-color: #d4ebff;}#sk-container-id-13 div.sk-parallel-item::after {content: \"\";width: 100%;border-bottom: 1px solid gray;flex-grow: 1;}#sk-container-id-13 div.sk-label:hover label.sk-toggleable__label {background-color: #d4ebff;}#sk-container-id-13 div.sk-serial::before {content: \"\";position: absolute;border-left: 1px solid gray;box-sizing: border-box;top: 0;bottom: 0;left: 50%;z-index: 0;}#sk-container-id-13 div.sk-serial {display: flex;flex-direction: column;align-items: center;background-color: white;padding-right: 0.2em;padding-left: 0.2em;position: relative;}#sk-container-id-13 div.sk-item {position: relative;z-index: 1;}#sk-container-id-13 div.sk-parallel {display: flex;align-items: stretch;justify-content: center;background-color: white;position: relative;}#sk-container-id-13 div.sk-item::before, #sk-container-id-13 div.sk-parallel-item::before {content: \"\";position: absolute;border-left: 1px solid gray;box-sizing: border-box;top: 0;bottom: 0;left: 50%;z-index: -1;}#sk-container-id-13 div.sk-parallel-item {display: flex;flex-direction: column;z-index: 1;position: relative;background-color: white;}#sk-container-id-13 div.sk-parallel-item:first-child::after {align-self: flex-end;width: 50%;}#sk-container-id-13 div.sk-parallel-item:last-child::after {align-self: flex-start;width: 50%;}#sk-container-id-13 div.sk-parallel-item:only-child::after {width: 0;}#sk-container-id-13 div.sk-dashed-wrapped {border: 1px dashed gray;margin: 0 0.4em 0.5em 0.4em;box-sizing: border-box;padding-bottom: 0.4em;background-color: white;}#sk-container-id-13 div.sk-label label {font-family: monospace;font-weight: bold;display: inline-block;line-height: 1.2em;}#sk-container-id-13 div.sk-label-container {text-align: center;}#sk-container-id-13 div.sk-container {/* jupyter's `normalize.less` sets `[hidden] { display: none; }` but bootstrap.min.css set `[hidden] { display: none !important; }` so we also need the `!important` here to be able to override the default hidden behavior on the sphinx rendered scikit-learn.org. See: https://github.com/scikit-learn/scikit-learn/issues/21755 */display: inline-block !important;position: relative;}#sk-container-id-13 div.sk-text-repr-fallback {display: none;}</style><div id=\"sk-container-id-13\" class=\"sk-top-container\"><div class=\"sk-text-repr-fallback\"><pre>AdaBoostRegressor(estimator=DecisionTreeRegressor(max_depth=3),\n",
       "                  learning_rate=0.1, n_estimators=20)</pre><b>In a Jupyter environment, please rerun this cell to show the HTML representation or trust the notebook. <br />On GitHub, the HTML representation is unable to render, please try loading this page with nbviewer.org.</b></div><div class=\"sk-container\" hidden><div class=\"sk-item sk-dashed-wrapped\"><div class=\"sk-label-container\"><div class=\"sk-label sk-toggleable\"><input class=\"sk-toggleable__control sk-hidden--visually\" id=\"sk-estimator-id-15\" type=\"checkbox\" ><label for=\"sk-estimator-id-15\" class=\"sk-toggleable__label sk-toggleable__label-arrow\">AdaBoostRegressor</label><div class=\"sk-toggleable__content\"><pre>AdaBoostRegressor(estimator=DecisionTreeRegressor(max_depth=3),\n",
       "                  learning_rate=0.1, n_estimators=20)</pre></div></div></div><div class=\"sk-parallel\"><div class=\"sk-parallel-item\"><div class=\"sk-item\"><div class=\"sk-label-container\"><div class=\"sk-label sk-toggleable\"><input class=\"sk-toggleable__control sk-hidden--visually\" id=\"sk-estimator-id-16\" type=\"checkbox\" ><label for=\"sk-estimator-id-16\" class=\"sk-toggleable__label sk-toggleable__label-arrow\">estimator: DecisionTreeRegressor</label><div class=\"sk-toggleable__content\"><pre>DecisionTreeRegressor(max_depth=3)</pre></div></div></div><div class=\"sk-serial\"><div class=\"sk-item\"><div class=\"sk-estimator sk-toggleable\"><input class=\"sk-toggleable__control sk-hidden--visually\" id=\"sk-estimator-id-17\" type=\"checkbox\" ><label for=\"sk-estimator-id-17\" class=\"sk-toggleable__label sk-toggleable__label-arrow\">DecisionTreeRegressor</label><div class=\"sk-toggleable__content\"><pre>DecisionTreeRegressor(max_depth=3)</pre></div></div></div></div></div></div></div></div></div></div>"
      ],
      "text/plain": [
       "AdaBoostRegressor(estimator=DecisionTreeRegressor(max_depth=3),\n",
       "                  learning_rate=0.1, n_estimators=20)"
      ]
     },
     "execution_count": 393,
     "metadata": {},
     "output_type": "execute_result"
    }
   ],
   "source": [
    "# Build Ada Boost Model \n",
    "ada_reg = AdaBoostRegressor(DecisionTreeRegressor(max_depth=3), n_estimators = 20, learning_rate =0.1)\n",
    "# fit the model to the training data\n",
    "ada_reg.fit(X_train, y_train)"
   ]
  },
  {
   "cell_type": "code",
   "execution_count": 394,
   "metadata": {},
   "outputs": [
    {
     "name": "stdout",
     "output_type": "stream",
     "text": [
      "the training root mean squared error is:  6647898.739203958\n",
      "the testing root mean squared error is:  6570229.18784104\n",
      "\n",
      "the training mean squared error is:  44194557646709.57\n",
      "the testing mean squared error is:  43167911580758.33\n",
      "\n",
      "training accuracy is:  -0.26259373705240874\n",
      "testing accuracy is:  -0.09478197157399681\n"
     ]
    }
   ],
   "source": [
    "model_performance(ada_reg)"
   ]
  },
  {
   "cell_type": "markdown",
   "metadata": {},
   "source": [
    "## SVR"
   ]
  },
  {
   "cell_type": "code",
   "execution_count": 395,
   "metadata": {},
   "outputs": [
    {
     "data": {
      "text/html": [
       "<style>#sk-container-id-14 {color: black;}#sk-container-id-14 pre{padding: 0;}#sk-container-id-14 div.sk-toggleable {background-color: white;}#sk-container-id-14 label.sk-toggleable__label {cursor: pointer;display: block;width: 100%;margin-bottom: 0;padding: 0.3em;box-sizing: border-box;text-align: center;}#sk-container-id-14 label.sk-toggleable__label-arrow:before {content: \"▸\";float: left;margin-right: 0.25em;color: #696969;}#sk-container-id-14 label.sk-toggleable__label-arrow:hover:before {color: black;}#sk-container-id-14 div.sk-estimator:hover label.sk-toggleable__label-arrow:before {color: black;}#sk-container-id-14 div.sk-toggleable__content {max-height: 0;max-width: 0;overflow: hidden;text-align: left;background-color: #f0f8ff;}#sk-container-id-14 div.sk-toggleable__content pre {margin: 0.2em;color: black;border-radius: 0.25em;background-color: #f0f8ff;}#sk-container-id-14 input.sk-toggleable__control:checked~div.sk-toggleable__content {max-height: 200px;max-width: 100%;overflow: auto;}#sk-container-id-14 input.sk-toggleable__control:checked~label.sk-toggleable__label-arrow:before {content: \"▾\";}#sk-container-id-14 div.sk-estimator input.sk-toggleable__control:checked~label.sk-toggleable__label {background-color: #d4ebff;}#sk-container-id-14 div.sk-label input.sk-toggleable__control:checked~label.sk-toggleable__label {background-color: #d4ebff;}#sk-container-id-14 input.sk-hidden--visually {border: 0;clip: rect(1px 1px 1px 1px);clip: rect(1px, 1px, 1px, 1px);height: 1px;margin: -1px;overflow: hidden;padding: 0;position: absolute;width: 1px;}#sk-container-id-14 div.sk-estimator {font-family: monospace;background-color: #f0f8ff;border: 1px dotted black;border-radius: 0.25em;box-sizing: border-box;margin-bottom: 0.5em;}#sk-container-id-14 div.sk-estimator:hover {background-color: #d4ebff;}#sk-container-id-14 div.sk-parallel-item::after {content: \"\";width: 100%;border-bottom: 1px solid gray;flex-grow: 1;}#sk-container-id-14 div.sk-label:hover label.sk-toggleable__label {background-color: #d4ebff;}#sk-container-id-14 div.sk-serial::before {content: \"\";position: absolute;border-left: 1px solid gray;box-sizing: border-box;top: 0;bottom: 0;left: 50%;z-index: 0;}#sk-container-id-14 div.sk-serial {display: flex;flex-direction: column;align-items: center;background-color: white;padding-right: 0.2em;padding-left: 0.2em;position: relative;}#sk-container-id-14 div.sk-item {position: relative;z-index: 1;}#sk-container-id-14 div.sk-parallel {display: flex;align-items: stretch;justify-content: center;background-color: white;position: relative;}#sk-container-id-14 div.sk-item::before, #sk-container-id-14 div.sk-parallel-item::before {content: \"\";position: absolute;border-left: 1px solid gray;box-sizing: border-box;top: 0;bottom: 0;left: 50%;z-index: -1;}#sk-container-id-14 div.sk-parallel-item {display: flex;flex-direction: column;z-index: 1;position: relative;background-color: white;}#sk-container-id-14 div.sk-parallel-item:first-child::after {align-self: flex-end;width: 50%;}#sk-container-id-14 div.sk-parallel-item:last-child::after {align-self: flex-start;width: 50%;}#sk-container-id-14 div.sk-parallel-item:only-child::after {width: 0;}#sk-container-id-14 div.sk-dashed-wrapped {border: 1px dashed gray;margin: 0 0.4em 0.5em 0.4em;box-sizing: border-box;padding-bottom: 0.4em;background-color: white;}#sk-container-id-14 div.sk-label label {font-family: monospace;font-weight: bold;display: inline-block;line-height: 1.2em;}#sk-container-id-14 div.sk-label-container {text-align: center;}#sk-container-id-14 div.sk-container {/* jupyter's `normalize.less` sets `[hidden] { display: none; }` but bootstrap.min.css set `[hidden] { display: none !important; }` so we also need the `!important` here to be able to override the default hidden behavior on the sphinx rendered scikit-learn.org. See: https://github.com/scikit-learn/scikit-learn/issues/21755 */display: inline-block !important;position: relative;}#sk-container-id-14 div.sk-text-repr-fallback {display: none;}</style><div id=\"sk-container-id-14\" class=\"sk-top-container\"><div class=\"sk-text-repr-fallback\"><pre>SVR(C=0.8)</pre><b>In a Jupyter environment, please rerun this cell to show the HTML representation or trust the notebook. <br />On GitHub, the HTML representation is unable to render, please try loading this page with nbviewer.org.</b></div><div class=\"sk-container\" hidden><div class=\"sk-item\"><div class=\"sk-estimator sk-toggleable\"><input class=\"sk-toggleable__control sk-hidden--visually\" id=\"sk-estimator-id-18\" type=\"checkbox\" checked><label for=\"sk-estimator-id-18\" class=\"sk-toggleable__label sk-toggleable__label-arrow\">SVR</label><div class=\"sk-toggleable__content\"><pre>SVR(C=0.8)</pre></div></div></div></div></div>"
      ],
      "text/plain": [
       "SVR(C=0.8)"
      ]
     },
     "execution_count": 395,
     "metadata": {},
     "output_type": "execute_result"
    }
   ],
   "source": [
    "svr = SVR(C=0.8, kernel ='rbf')\n",
    "svr.fit(X_train, y_train)"
   ]
  },
  {
   "cell_type": "code",
   "execution_count": 396,
   "metadata": {},
   "outputs": [
    {
     "name": "stdout",
     "output_type": "stream",
     "text": [
      "the training root mean squared error is:  6086572.767193928\n",
      "the testing root mean squared error is:  6297951.009890252\n",
      "\n",
      "the training mean squared error is:  37046368050346.75\n",
      "the testing mean squared error is:  39664186922977.64\n",
      "\n",
      "training accuracy is:  -0.058377202342894785\n",
      "testing accuracy is:  -0.005923964590695219\n"
     ]
    }
   ],
   "source": [
    "model_performance(svr)"
   ]
  },
  {
   "cell_type": "markdown",
   "metadata": {},
   "source": [
    "## XGBoost Regressor"
   ]
  },
  {
   "cell_type": "code",
   "execution_count": 397,
   "metadata": {},
   "outputs": [
    {
     "name": "stdout",
     "output_type": "stream",
     "text": [
      "the training root mean squared error is:  2255369.479510499\n",
      "the testing root mean squared error is:  3641987.453192496\n",
      "\n",
      "the training mean squared error is:  5086691489107.459\n",
      "the testing mean squared error is:  13264072609211.564\n",
      "\n",
      "training accuracy is:  0.8546783776453741\n",
      "testing accuracy is:  0.6636096806525615\n"
     ]
    }
   ],
   "source": [
    "# Build XGBoost Model\n",
    "xgb = XGBRegressor(n_estimators = 20, learning_rate = 0.1, use_label_encoder = False, eval_metric='logloss')\n",
    "# fit the model to the training data\n",
    "xgb.fit(X_train_scaled, y_train)\n",
    "model_performance(xgb)"
   ]
  },
  {
   "cell_type": "markdown",
   "metadata": {},
   "source": [
    "# Model Improvement (GridSearch CV)"
   ]
  },
  {
   "cell_type": "code",
   "execution_count": 398,
   "metadata": {},
   "outputs": [
    {
     "name": "stdout",
     "output_type": "stream",
     "text": [
      "Best parameters found:  {'learning_rate': 0.2, 'max_depth': 3, 'n_estimators': 10}\n",
      "Best score found:  0.6290224643594817\n"
     ]
    }
   ],
   "source": [
    "param_grid = {'n_estimators': [10, 20, 30, 40],\n",
    "              'learning_rate': [0.1, 0.2, 0.3, 0.4],\n",
    "              'max_depth': [3,4,5,6,7,8]}\n",
    "\n",
    "xgb_grid = GridSearchCV(xgb, param_grid, cv=5)\n",
    "xgb_grid.fit(X_train_scaled, y_train)\n",
    "\n",
    "best_params = xgb_grid.best_params_\n",
    "print(\"Best parameters found: \", best_params)\n",
    "print(\"Best score found: \", xgb_grid.best_score_)"
   ]
  },
  {
   "cell_type": "markdown",
   "metadata": {},
   "source": [
    "# Improved Model "
   ]
  },
  {
   "cell_type": "code",
   "execution_count": 399,
   "metadata": {},
   "outputs": [
    {
     "name": "stdout",
     "output_type": "stream",
     "text": [
      "the training root mean squared error is:  2639914.9054087666\n",
      "the testing root mean squared error is:  3066088.0258347974\n",
      "\n",
      "the training mean squared error is:  6969150707799.376\n",
      "the testing mean squared error is:  9400895782167.525\n",
      "\n",
      "training accuracy is:  0.8008984249467427\n",
      "testing accuracy is:  0.7615837588133274\n"
     ]
    }
   ],
   "source": [
    "# Build XGBoost Model\n",
    "xgb_improved = XGBRegressor(**best_params)\n",
    "# fit the model to the training data\n",
    "xgb_improved.fit(X_train_scaled, y_train)\n",
    "\n",
    "model_performance(xgb_improved)"
   ]
  },
  {
   "cell_type": "code",
   "execution_count": 400,
   "metadata": {},
   "outputs": [
    {
     "data": {
      "text/plain": [
       "['StreamlitApp/assets/truck_xgb_improved.joblib']"
      ]
     },
     "execution_count": 400,
     "metadata": {},
     "output_type": "execute_result"
    }
   ],
   "source": [
    "# Save the model to a file\n",
    "joblib.dump(xgb_improved, \"StreamlitApp/assets/truck_xgb_improved.joblib\")"
   ]
  },
  {
   "cell_type": "code",
   "execution_count": 401,
   "metadata": {},
   "outputs": [
    {
     "data": {
      "text/plain": [
       "array([0.91651326, 0.03331277, 0.02900281, 0.02117116, 0.        ,\n",
       "       0.        , 0.        ], dtype=float32)"
      ]
     },
     "execution_count": 401,
     "metadata": {},
     "output_type": "execute_result"
    }
   ],
   "source": [
    "xgb_improved.feature_importances_"
   ]
  },
  {
   "cell_type": "code",
   "execution_count": 402,
   "metadata": {},
   "outputs": [
    {
     "name": "stdout",
     "output_type": "stream",
     "text": [
      "                      Feature  Importance\n",
      "0                    TRUCK_ID    0.916513\n",
      "1                MENU_TYPE_ID    0.033313\n",
      "2                        YEAR    0.029003\n",
      "3         PRIMARY_CITY_Denver    0.021171\n",
      "4      PRIMARY_CITY_San Mateo    0.000000\n",
      "5         PRIMARY_CITY_Boston    0.000000\n",
      "6  PRIMARY_CITY_New York City    0.000000\n"
     ]
    }
   ],
   "source": [
    "# Get the feature importances\n",
    "feature_importance = xgb_improved.feature_importances_\n",
    "\n",
    "# Create a DataFrame to display the feature importances\n",
    "feature_importance_df = pd.DataFrame({'Feature': X_train.columns, 'Importance': feature_importance})\n",
    "\n",
    "# Sort the DataFrame by importance in descending order\n",
    "feature_importance_df = feature_importance_df.sort_values(by='Importance', ascending=False)\n",
    "\n",
    "# Display the feature importances\n",
    "print(feature_importance_df)"
   ]
  },
  {
   "cell_type": "code",
   "execution_count": 403,
   "metadata": {},
   "outputs": [
    {
     "data": {
      "text/html": [
       "<div>\n",
       "<style scoped>\n",
       "    .dataframe tbody tr th:only-of-type {\n",
       "        vertical-align: middle;\n",
       "    }\n",
       "\n",
       "    .dataframe tbody tr th {\n",
       "        vertical-align: top;\n",
       "    }\n",
       "\n",
       "    .dataframe thead th {\n",
       "        text-align: right;\n",
       "    }\n",
       "</style>\n",
       "<table border=\"1\" class=\"dataframe\">\n",
       "  <thead>\n",
       "    <tr style=\"text-align: right;\">\n",
       "      <th></th>\n",
       "      <th>TRUCK_ID</th>\n",
       "      <th>MENU_TYPE_ID</th>\n",
       "      <th>YEAR</th>\n",
       "      <th>PRIMARY_CITY_Denver</th>\n",
       "      <th>PRIMARY_CITY_San Mateo</th>\n",
       "      <th>PRIMARY_CITY_Boston</th>\n",
       "      <th>PRIMARY_CITY_New York City</th>\n",
       "    </tr>\n",
       "  </thead>\n",
       "  <tbody>\n",
       "    <tr>\n",
       "      <th>121</th>\n",
       "      <td>29</td>\n",
       "      <td>14</td>\n",
       "      <td>2022</td>\n",
       "      <td>1</td>\n",
       "      <td>0</td>\n",
       "      <td>0</td>\n",
       "      <td>0</td>\n",
       "    </tr>\n",
       "    <tr>\n",
       "      <th>104</th>\n",
       "      <td>12</td>\n",
       "      <td>12</td>\n",
       "      <td>2022</td>\n",
       "      <td>0</td>\n",
       "      <td>1</td>\n",
       "      <td>0</td>\n",
       "      <td>0</td>\n",
       "    </tr>\n",
       "    <tr>\n",
       "      <th>109</th>\n",
       "      <td>17</td>\n",
       "      <td>2</td>\n",
       "      <td>2022</td>\n",
       "      <td>1</td>\n",
       "      <td>0</td>\n",
       "      <td>0</td>\n",
       "      <td>0</td>\n",
       "    </tr>\n",
       "    <tr>\n",
       "      <th>27</th>\n",
       "      <td>60</td>\n",
       "      <td>15</td>\n",
       "      <td>2020</td>\n",
       "      <td>0</td>\n",
       "      <td>0</td>\n",
       "      <td>1</td>\n",
       "      <td>0</td>\n",
       "    </tr>\n",
       "    <tr>\n",
       "      <th>90</th>\n",
       "      <td>73</td>\n",
       "      <td>13</td>\n",
       "      <td>2021</td>\n",
       "      <td>0</td>\n",
       "      <td>0</td>\n",
       "      <td>0</td>\n",
       "      <td>1</td>\n",
       "    </tr>\n",
       "  </tbody>\n",
       "</table>\n",
       "</div>"
      ],
      "text/plain": [
       "     TRUCK_ID  MENU_TYPE_ID  YEAR  PRIMARY_CITY_Denver  \\\n",
       "121        29            14  2022                    1   \n",
       "104        12            12  2022                    0   \n",
       "109        17             2  2022                    1   \n",
       "27         60            15  2020                    0   \n",
       "90         73            13  2021                    0   \n",
       "\n",
       "     PRIMARY_CITY_San Mateo  PRIMARY_CITY_Boston  PRIMARY_CITY_New York City  \n",
       "121                       0                    0                           0  \n",
       "104                       1                    0                           0  \n",
       "109                       0                    0                           0  \n",
       "27                        0                    1                           0  \n",
       "90                        0                    0                           1  "
      ]
     },
     "execution_count": 403,
     "metadata": {},
     "output_type": "execute_result"
    }
   ],
   "source": [
    "X_train.head()"
   ]
  },
  {
   "cell_type": "code",
   "execution_count": 404,
   "metadata": {},
   "outputs": [
    {
     "data": {
      "text/plain": [
       "Index(['TRUCK_ID', 'MENU_TYPE_ID', 'YEAR', 'PRIMARY_CITY_Denver',\n",
       "       'PRIMARY_CITY_San Mateo', 'PRIMARY_CITY_Boston',\n",
       "       'PRIMARY_CITY_New York City'],\n",
       "      dtype='object')"
      ]
     },
     "execution_count": 404,
     "metadata": {},
     "output_type": "execute_result"
    }
   ],
   "source": [
    "X_train.columns"
   ]
  }
 ],
 "metadata": {
  "kernelspec": {
   "display_name": "streamlit_delete_later_env",
   "language": "python",
   "name": "python3"
  },
  "language_info": {
   "codemirror_mode": {
    "name": "ipython",
    "version": 3
   },
   "file_extension": ".py",
   "mimetype": "text/x-python",
   "name": "python",
   "nbconvert_exporter": "python",
   "pygments_lexer": "ipython3",
   "version": "3.8.16"
  },
  "orig_nbformat": 4
 },
 "nbformat": 4,
 "nbformat_minor": 2
}
