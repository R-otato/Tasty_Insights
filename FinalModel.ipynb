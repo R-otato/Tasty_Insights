{
 "cells": [
  {
   "cell_type": "code",
   "execution_count": 77,
   "metadata": {},
   "outputs": [],
   "source": [
    "# Import Python packages\n",
    "import pandas as pd\n",
    "import plotly.express as px\n",
    "import json\n",
    "import sys\n",
    "import cachetools\n",
    "\n",
    "# Import Snowflake modules\n",
    "from snowflake.snowpark import Session\n",
    "import snowflake.snowpark.functions as F\n",
    "import snowflake.snowpark.types as T\n",
    "from snowflake.snowpark import Window"
   ]
  },
  {
   "cell_type": "code",
   "execution_count": 78,
   "metadata": {},
   "outputs": [],
   "source": [
    "# Get account credentials from a json file\n",
    "with open(\"data_scientist_auth.json\") as f:\n",
    "    data = json.load(f)\n",
    "    username = data[\"username\"]\n",
    "    password = data[\"password\"]\n",
    "    account = data[\"account\"]\n",
    "\n",
    "# Specify connection parameters\n",
    "connection_parameters = {\n",
    "    \"account\": account,\n",
    "    \"user\": username,\n",
    "    \"password\": password,\n",
    "    \"role\": \"TASTY_BI\",\n",
    "    \"warehouse\": \"TASTY_BI_WH\",\n",
    "    \"database\": \"frostbyte_tasty_bytes\",\n",
    "    \"schema\": \"analytics\",\n",
    "}\n",
    "\n",
    "# Create Snowpark session\n",
    "session = Session.builder.configs(connection_parameters).create()"
   ]
  },
  {
   "cell_type": "code",
   "execution_count": 79,
   "metadata": {},
   "outputs": [
    {
     "data": {
      "text/plain": [
       "[Row(status='MODEL_STAGE already exists, statement succeeded.')]"
      ]
     },
     "execution_count": 79,
     "metadata": {},
     "output_type": "execute_result"
    }
   ],
   "source": [
    "# Create stage\n",
    "session.sql(\"CREATE STAGE IF NOT EXISTS model_stage\").collect()"
   ]
  },
  {
   "cell_type": "code",
   "execution_count": 80,
   "metadata": {},
   "outputs": [],
   "source": [
    "train_table = session.table(name=\"train_table\")\n",
    "test_table=session.table(name=\"test_table\")"
   ]
  },
  {
   "cell_type": "code",
   "execution_count": 86,
   "metadata": {},
   "outputs": [],
   "source": [
    "# This local Python-function will be registered as a Stored Procedure and runs in Snowflake\n",
    "def sproc_train_xgboost_model(session: Session, \n",
    "                              training_table: str, \n",
    "                              feature_cols: list,\n",
    "                              target_col: str,\n",
    "                              model_name: str) -> T.Variant:\n",
    "    from joblib import dump\n",
    "    import os\n",
    "    # Loading data into pandas dataframe\n",
    "    local_training_data = session.table(training_table).to_pandas()\n",
    "\n",
    "    # Define features and label\n",
    "    X = local_training_data[feature_cols]\n",
    "    y = local_training_data[target_col]\n",
    "\n",
    "    # Actual model training\n",
    "    from xgboost import XGBClassifier\n",
    "    xgbmodel = XGBClassifier(random_state=123)\n",
    "    xgbmodel.fit(X,y)\n",
    "    \n",
    "    # Getting model coefficients\n",
    "    feat_importance = pd.DataFrame(xgbmodel.feature_importances_,feature_cols,columns=['FeatImportance']).to_dict()\n",
    "\n",
    "    # Save model as file and upload to Snowflake stage\n",
    "    model_file = os.path.join('/tmp', model_name)\n",
    "    dump(xgbmodel, model_file)\n",
    "    session.file.put(model_file, '@MODEL_STAGE', auto_compress=False, overwrite=True)\n",
    "\n",
    "    return feat_importance"
   ]
  },
  {
   "cell_type": "code",
   "execution_count": 87,
   "metadata": {},
   "outputs": [
    {
     "name": "stderr",
     "output_type": "stream",
     "text": [
      "The version of package xgboost in the local environment is 1.7.5, which does not fit the criteria for the requirement xgboost==1.7.3. Your UDF might not work when the package version is different between the server and your local environment\n",
      "The version of package joblib in the local environment is 1.2.0, which does not fit the criteria for the requirement joblib==1.1.1. Your UDF might not work when the package version is different between the server and your local environment\n"
     ]
    }
   ],
   "source": [
    "# Registering the function as a Stored Procedure\n",
    "sproc_xgboost_model = session.sproc.register(func=sproc_train_xgboost_model, \n",
    "                                            name='sproc_train_xgboost_model', \n",
    "                                            is_permanent=True, \n",
    "                                            replace=True, \n",
    "                                            stage_location='@MODEL_STAGE', \n",
    "                                            packages=[f'snowflake-snowpark-python==1.3.0'\n",
    "                                                      ,f'scikit-learn==1.2.2'\n",
    "                                                      ,f'xgboost==1.7.3'\n",
    "                                                      ,f'joblib==1.1.1'])"
   ]
  },
  {
   "cell_type": "code",
   "execution_count": 90,
   "metadata": {},
   "outputs": [],
   "source": [
    "training_table = \"frostbyte_tasty_bytes.analytics.train_table\"\n",
    "# get feature columns\n",
    "feature_cols = train_table.drop('NEXTPURCHASEDAYRANGE').columns\n",
    "target_col = 'NEXTPURCHASEDAYRANGE'\n",
    "model_name = 'xgboost_model.sav'\n",
    "\n",
    "feature_importance = sproc_xgboost_model(training_table, \n",
    "                                         feature_cols, \n",
    "                                         target_col,\n",
    "                                         model_name, \n",
    "                                         session=session)\n",
    "\n",
    "feature_importance = pd.DataFrame(eval(feature_importance))"
   ]
  },
  {
   "cell_type": "code",
   "execution_count": 91,
   "metadata": {},
   "outputs": [
    {
     "data": {
      "text/html": [
       "<div>\n",
       "<style scoped>\n",
       "    .dataframe tbody tr th:only-of-type {\n",
       "        vertical-align: middle;\n",
       "    }\n",
       "\n",
       "    .dataframe tbody tr th {\n",
       "        vertical-align: top;\n",
       "    }\n",
       "\n",
       "    .dataframe thead th {\n",
       "        text-align: right;\n",
       "    }\n",
       "</style>\n",
       "<table border=\"1\" class=\"dataframe\">\n",
       "  <thead>\n",
       "    <tr style=\"text-align: right;\">\n",
       "      <th></th>\n",
       "      <th>name</th>\n",
       "      <th>size</th>\n",
       "      <th>md5</th>\n",
       "      <th>last_modified</th>\n",
       "    </tr>\n",
       "  </thead>\n",
       "  <tbody>\n",
       "    <tr>\n",
       "      <th>0</th>\n",
       "      <td>model_stage/xgb_churn_model.sav</td>\n",
       "      <td>36528</td>\n",
       "      <td>1a05a2eefcaccff7b8f7d6f9a016fb40</td>\n",
       "      <td>Tue, 23 May 2023 15:04:42 GMT</td>\n",
       "    </tr>\n",
       "    <tr>\n",
       "      <th>1</th>\n",
       "      <td>model_stage/xgboost_model.sav</td>\n",
       "      <td>320464</td>\n",
       "      <td>2534e1d9664c0248413e16244bee02e6</td>\n",
       "      <td>Tue, 23 May 2023 15:59:37 GMT</td>\n",
       "    </tr>\n",
       "  </tbody>\n",
       "</table>\n",
       "</div>"
      ],
      "text/plain": [
       "                              name    size                               md5  \\\n",
       "0  model_stage/xgb_churn_model.sav   36528  1a05a2eefcaccff7b8f7d6f9a016fb40   \n",
       "1    model_stage/xgboost_model.sav  320464  2534e1d9664c0248413e16244bee02e6   \n",
       "\n",
       "                   last_modified  \n",
       "0  Tue, 23 May 2023 15:04:42 GMT  \n",
       "1  Tue, 23 May 2023 15:59:37 GMT  "
      ]
     },
     "execution_count": 91,
     "metadata": {},
     "output_type": "execute_result"
    }
   ],
   "source": [
    "# The model is now stored in a Snowflake stage\n",
    "pd.DataFrame(session.sql('LIST @MODEL_STAGE').collect())"
   ]
  },
  {
   "cell_type": "code",
   "execution_count": 92,
   "metadata": {},
   "outputs": [
    {
     "data": {
      "text/plain": [
       "<Axes: >"
      ]
     },
     "execution_count": 92,
     "metadata": {},
     "output_type": "execute_result"
    },
    {
     "data": {
      "image/png": "[encoded data removed]",
      "text/plain": [
       "<Figure size 500x1500 with 1 Axes>"
      ]
     },
     "metadata": {},
     "output_type": "display_data"
    }
   ],
   "source": [
    "# Plot Feature Importance\n",
    "feature_importance.sort_values('FeatImportance').plot.barh(y='FeatImportance', figsize=(5,15))"
   ]
  },
  {
   "cell_type": "code",
   "execution_count": 93,
   "metadata": {},
   "outputs": [],
   "source": [
    "# Define a simple scoring function\n",
    "from cachetools import cached\n",
    "\n",
    "@cached(cache={})\n",
    "def load_model(model_path: str) -> object:\n",
    "    from joblib import load\n",
    "    model = load(model_path)\n",
    "    return model\n",
    "\n",
    "def udf_score_logistic_xgboost_model_vec_cached(df: pd.DataFrame) -> pd.Series:\n",
    "    import os\n",
    "    import sys\n",
    "    # file-dependencies of UDFs are available in snowflake_import_directory\n",
    "    IMPORT_DIRECTORY_NAME = \"snowflake_import_directory\"\n",
    "    import_dir = sys._xoptions[IMPORT_DIRECTORY_NAME]\n",
    "    model_name = 'xgboost_model.sav'\n",
    "    model = load_model(import_dir+model_name)\n",
    "    df.columns = feature_cols\n",
    "    scored_data = pd.Series(model.predict(df))\n",
    "    return scored_data"
   ]
  },
  {
   "cell_type": "code",
   "execution_count": 94,
   "metadata": {},
   "outputs": [
    {
     "name": "stderr",
     "output_type": "stream",
     "text": [
      "The version of package xgboost in the local environment is 1.7.5, which does not fit the criteria for the requirement xgboost==1.7.3. Your UDF might not work when the package version is different between the server and your local environment\n",
      "The version of package joblib in the local environment is 1.2.0, which does not fit the criteria for the requirement joblib==1.1.1. Your UDF might not work when the package version is different between the server and your local environment\n",
      "The version of package cachetools in the local environment is 5.3.0, which does not fit the criteria for the requirement cachetools==4.2.2. Your UDF might not work when the package version is different between the server and your local environment\n"
     ]
    }
   ],
   "source": [
    "# Register UDF\n",
    "udf_score_logistic_xgboost_model_vec_cached = session.udf.register(func=udf_score_logistic_xgboost_model_vec_cached, \n",
    "                                                                   name=\"udf_score_xgboost_model\", \n",
    "                                                                   stage_location='@MODEL_STAGE',\n",
    "                                                                   input_types=[T.FloatType()]*len(feature_cols),\n",
    "                                                                   return_type = T.FloatType(),\n",
    "                                                                   replace=True, \n",
    "                                                                   is_permanent=True, \n",
    "                                                                   imports=['@MODEL_STAGE/xgboost_model.sav'],\n",
    "                                                                   packages=[f'scikit-learn==1.2.2'\n",
    "                                                                             ,f'xgboost==1.7.3'\n",
    "                                                                             ,f'joblib==1.1.1'\n",
    "                                                                             ,f'cachetools==4.2.2'], \n",
    "                                                                   session=session)"
   ]
  },
  {
   "cell_type": "code",
   "execution_count": 95,
   "metadata": {},
   "outputs": [
    {
     "name": "stdout",
     "output_type": "stream",
     "text": [
      "CPU times: total: 0 ns\n",
      "Wall time: 3.51 s\n"
     ]
    }
   ],
   "source": [
    "%%time\n",
    "# Scoring test data with scalar UDF but caching the model\n",
    "scored_sdf = test_table.with_column('PREDICTION', udf_score_logistic_xgboost_model_vec_cached(*feature_cols))\n",
    "scored_sdf.write.save_as_table(table_name='frostbyte_tasty_bytes.analytics.test_table', mode='overwrite')"
   ]
  },
  {
   "cell_type": "code",
   "execution_count": null,
   "metadata": {},
   "outputs": [],
   "source": []
  },
  {
   "cell_type": "code",
   "execution_count": null,
   "metadata": {},
   "outputs": [],
   "source": []
  }
 ],
 "metadata": {
  "kernelspec": {
   "display_name": "py38_env",
   "language": "python",
   "name": "python3"
  },
  "language_info": {
   "codemirror_mode": {
    "name": "ipython",
    "version": 3
   },
   "file_extension": ".py",
   "mimetype": "text/x-python",
   "name": "python",
   "nbconvert_exporter": "python",
   "pygments_lexer": "ipython3",
   "version": "3.8.16"
  },
  "orig_nbformat": 4
 },
 "nbformat": 4,
 "nbformat_minor": 2
}
