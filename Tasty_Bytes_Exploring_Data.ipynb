{
 "cells": [
  {
   "cell_type": "markdown",
   "id": "eaeb5653",
   "metadata": {},
   "source": [
    "![download.png](download.png)\n"
   ]
  },
  {
   "cell_type": "markdown",
   "id": "9f8d1940",
   "metadata": {},
   "source": [
    "## Import Packages"
   ]
  },
  {
   "cell_type": "code",
   "execution_count": 40,
   "id": "2b76a42a",
   "metadata": {},
   "outputs": [],
   "source": [
    "#Import Python packages\n",
    "import pandas as pd\n",
    "import plotly.express as px\n",
    "import json\n",
    "import sys\n",
    "import cachetools\n",
    "import matplotlib.pyplot as plt\n",
    "\n",
    "# Import Snowflake modules\n",
    "from snowflake.snowpark import Session\n",
    "import snowflake.snowpark.functions as F\n",
    "import snowflake.snowpark.types as T\n",
    "from snowflake.snowpark import Window"
   ]
  },
  {
   "cell_type": "markdown",
   "id": "c689510f",
   "metadata": {},
   "source": [
    "## Connect to Snowflake"
   ]
  },
  {
   "cell_type": "code",
   "execution_count": 2,
   "id": "4f9ed021",
   "metadata": {},
   "outputs": [],
   "source": [
    "# Get account credentials from a json file\n",
    "\n",
    "#Ryan Liam: To create a json file?\n",
    "'''with open(\"data_scientist_auth.json\") as f:\n",
    "    data = json.load(f)\n",
    "    username = data[\"username\"]\n",
    "    password = data[\"password\"]\n",
    "    account = data[\"account\"]'''\n",
    "\n",
    "# Specify connection parameters\n",
    "connection_parameters = {\n",
    "    \"account\": 'OIBYVZR-PJ46704',\n",
    "    \"user\": 'RYANLIAM',\n",
    "    \"password\": 'Cats2004',\n",
    "    \"role\": \"tasty_data_scientist\",\n",
    "    \"warehouse\": \"tasty_ds_wh\",\n",
    "    \"database\": \"frostbyte_tasty_bytes\",\n",
    "    \"schema\": \"analytics\",\n",
    "}\n",
    "\n",
    "# Create Snowpark session\n",
    "session = Session.builder.configs(connection_parameters).create()"
   ]
  },
  {
   "cell_type": "markdown",
   "id": "c3d02814",
   "metadata": {},
   "source": [
    "## Gathering Data as Snowpark DataFrame"
   ]
  },
  {
   "cell_type": "code",
   "execution_count": 3,
   "id": "93bc4928",
   "metadata": {
    "scrolled": false
   },
   "outputs": [],
   "source": [
    "#Country\n",
    "tasty_bytes_country = session.table(\"frostbyte_tasty_bytes.raw_pos.country\")\n",
    "#Franchise\n",
    "tasty_bytes_franchise = session.table(\"frostbyte_tasty_bytes.raw_pos.franchise\")\n",
    "#Location\n",
    "tasty_bytes_location = session.table(\"frostbyte_tasty_bytes.raw_pos.location\")\n",
    "#Menu\n",
    "tasty_bytes_menu = session.table(\"frostbyte_tasty_bytes.raw_pos.menu\")\n",
    "#Order Detail\n",
    "tasty_bytes_order_detail = session.table(\"frostbyte_tasty_bytes.raw_pos.order_detail\")\n",
    "#Order Header\n",
    "tasty_bytes_order_header = session.table(\"frostbyte_tasty_bytes.raw_pos.order_header\")\n",
    "#Truck\n",
    "tasty_bytes_truck = session.table(\"frostbyte_tasty_bytes.raw_pos.truck\")\n",
    "#Customer Loyalty\n",
    "tasty_bytes_customer_loyalty = session.table(\"frostbyte_tasty_bytes.raw_customer.customer_loyalty\")\n"
   ]
  },
  {
   "attachments": {},
   "cell_type": "markdown",
   "id": "461b0173",
   "metadata": {},
   "source": [
    "## Preview The Data"
   ]
  },
  {
   "cell_type": "code",
   "execution_count": 4,
   "id": "39db0154",
   "metadata": {},
   "outputs": [
    {
     "name": "stdout",
     "output_type": "stream",
     "text": [
      "Number of rows: 30\n",
      "--------------------------------------------------------------------------------------------------------------\n",
      "|\"COUNTRY_ID\"  |\"COUNTRY\"  |\"ISO_CURRENCY\"  |\"ISO_COUNTRY\"  |\"CITY_ID\"  |\"CITY\"          |\"CITY_POPULATION\"  |\n",
      "--------------------------------------------------------------------------------------------------------------\n",
      "|1             |Australia  |AUD             |AU             |10026      |Sydney          |5231147            |\n",
      "|1             |Australia  |AUD             |AU             |10013      |Melbourne       |4917750            |\n",
      "|2             |Brazil     |BRL             |BR             |10022      |Sao Paulo       |12400232           |\n",
      "|2             |Brazil     |BRL             |BR             |10020      |Rio de Janeiro  |6747815            |\n",
      "|3             |Canada     |CAD             |CA             |10014      |Montreal        |1762949            |\n",
      "|3             |Canada     |CAD             |CA             |10028      |Toronto         |2794356            |\n",
      "|3             |Canada     |CAD             |CA             |10029      |Vancouver       |662248             |\n",
      "|4             |Egypt      |EGP             |EG             |10004      |Cairo           |1010166            |\n",
      "|5             |England    |EUR             |GB             |10010      |London          |8799800            |\n",
      "|5             |England    |EUR             |GB             |10012      |Manchester      |552858             |\n",
      "--------------------------------------------------------------------------------------------------------------\n",
      "\n"
     ]
    }
   ],
   "source": [
    "print(\"Number of rows:\", tasty_bytes_country.count())\n",
    "tasty_bytes_country.show()"
   ]
  },
  {
   "cell_type": "code",
   "execution_count": 5,
   "id": "2de5da31",
   "metadata": {},
   "outputs": [
    {
     "name": "stdout",
     "output_type": "stream",
     "text": [
      "Number of rows: 335\n",
      "--------------------------------------------------------------------------------------------------------------------------\n",
      "|\"FRANCHISE_ID\"  |\"FIRST_NAME\"  |\"LAST_NAME\"  |\"CITY\"     |\"COUNTRY\"      |\"E_MAIL\"                     |\"PHONE_NUMBER\"  |\n",
      "--------------------------------------------------------------------------------------------------------------------------\n",
      "|1               |Corporate     |Owned        |San Mateo  |United States  |TastyBytes@Gmail.com         |434-928-2233    |\n",
      "|2               |Annette       |Gates        |San Mateo  |United States  |Annette.Gates@yahoo.com      |949-148-5165    |\n",
      "|3               |Steven        |Phelps       |San Mateo  |United States  |Steven.Phelps@aol.com        |746-288-2047    |\n",
      "|4               |Sandra        |Dunn         |San Mateo  |United States  |Sandra.Dunn@ymail.com        |043-798-0237    |\n",
      "|5               |Diane         |Cruz         |San Mateo  |United States  |Diane.Cruz@gmail.com         |850-879-6541    |\n",
      "|6               |Nicole        |Strickland   |San Mateo  |United States  |Nicole.Strickland@yahoo.com  |110-993-0855    |\n",
      "|7               |Kimberly      |Johnson      |San Mateo  |United States  |Kimberly.Johnson@ymail.com   |743-886-7951    |\n",
      "|8               |Jason         |Silva        |San Mateo  |United States  |Jason.Silva@gmail.com        |618-036-5189    |\n",
      "|9               |Antonio       |Lee          |San Mateo  |United States  |Antonio.Lee@ymail.com        |710-281-7504    |\n",
      "|10              |George        |Thompson     |San Mateo  |United States  |George.Thompson@gmail.com    |865-015-6733    |\n",
      "--------------------------------------------------------------------------------------------------------------------------\n",
      "\n"
     ]
    }
   ],
   "source": [
    "print(\"Number of rows:\", tasty_bytes_franchise.count())\n",
    "tasty_bytes_franchise.show()"
   ]
  },
  {
   "cell_type": "code",
   "execution_count": 6,
   "id": "7eb05616",
   "metadata": {},
   "outputs": [
    {
     "name": "stdout",
     "output_type": "stream",
     "text": [
      "Number of rows: 13093\n",
      "----------------------------------------------------------------------------------------------------------------------------------------------------------------------------------\n",
      "|\"LOCATION_ID\"  |\"PLACEKEY\"           |\"LOCATION\"                                          |\"CITY\"      |\"REGION\"                               |\"ISO_COUNTRY_CODE\"  |\"COUNTRY\"  |\n",
      "----------------------------------------------------------------------------------------------------------------------------------------------------------------------------------\n",
      "|1001           |222-222@4hf-nch-k2k  |Seasoners Fine Foods                                |Manchester  |Greater Manchester                     |GB                  |England    |\n",
      "|1002           |222-222@4hf-ndn-4sq  |HM Music Promotions                                 |Manchester  |Greater Manchester                     |GB                  |England    |\n",
      "|1003           |222-222@4hf-ndp-grk  |G J Hull                                            |Manchester  |Greater Manchester                     |GB                  |England    |\n",
      "|1004           |222-222@4hf-pr3-8qf  |Allens Bakery                                       |Manchester  |Greater Manchester                     |GB                  |England    |\n",
      "|1005           |222-222@4hh-ztb-rrk  |Just Box                                            |London      |Greater London                         |GB                  |England    |\n",
      "|1007           |222-222@4hh-zvh-389  |South Of England Athletic Association               |London      |Greater London                         |GB                  |England    |\n",
      "|1008           |222-222@4hh-zvp-zs5  |Come Play Sport                                     |London      |City and County of the City of London  |GB                  |England    |\n",
      "|1009           |222-222@4hh-zzq-h3q  |Richardson Evans Memorial Playing Fields            |London      |Greater London                         |GB                  |England    |\n",
      "|1010           |222-222@4hj-zt5-ty9  |Capital Ring Section 15 Beckton District Park t...  |London      |Greater London                         |GB                  |England    |\n",
      "|1011           |222-222@4hk-wyd-fvf  |Woodsend Park                                       |Manchester  |Greater Manchester                     |GB                  |England    |\n",
      "----------------------------------------------------------------------------------------------------------------------------------------------------------------------------------\n",
      "\n"
     ]
    }
   ],
   "source": [
    "print(\"Number of rows:\", tasty_bytes_location.count())\n",
    "tasty_bytes_location.show()"
   ]
  },
  {
   "cell_type": "code",
   "execution_count": 7,
   "id": "b8af8921",
   "metadata": {},
   "outputs": [
    {
     "name": "stdout",
     "output_type": "stream",
     "text": [
      "Number of rows: 100\n",
      "---------------------------------------------------------------------------------------------------------------------------------------------------------------------------------------------------------------------------\n",
      "|\"MENU_ID\"  |\"MENU_TYPE_ID\"  |\"MENU_TYPE\"  |\"TRUCK_BRAND_NAME\"  |\"MENU_ITEM_ID\"  |\"MENU_ITEM_NAME\"    |\"ITEM_CATEGORY\"  |\"ITEM_SUBCATEGORY\"  |\"COST_OF_GOODS_USD\"  |\"SALE_PRICE_USD\"  |\"MENU_ITEM_HEALTH_METRICS_OBJ\"     |\n",
      "---------------------------------------------------------------------------------------------------------------------------------------------------------------------------------------------------------------------------\n",
      "|10001      |1               |Ice Cream    |Freezing Point      |10              |Lemonade            |Beverage         |Cold Option         |0.6500               |3.5000            |{                                  |\n",
      "|           |                |             |                    |                |                    |                 |                    |                     |                  |  \"menu_item_health_metrics\": [    |\n",
      "|           |                |             |                    |                |                    |                 |                    |                     |                  |    {                              |\n",
      "|           |                |             |                    |                |                    |                 |                    |                     |                  |      \"ingredients\": [             |\n",
      "|           |                |             |                    |                |                    |                 |                    |                     |                  |        \"Lemons\",                  |\n",
      "|           |                |             |                    |                |                    |                 |                    |                     |                  |        \"Sugar\",                   |\n",
      "|           |                |             |                    |                |                    |                 |                    |                     |                  |        \"Water\"                    |\n",
      "|           |                |             |                    |                |                    |                 |                    |                     |                  |      ],                           |\n",
      "|           |                |             |                    |                |                    |                 |                    |                     |                  |      \"is_dairy_free_flag\": \"Y\",   |\n",
      "|           |                |             |                    |                |                    |                 |                    |                     |                  |      \"is_gluten_free_flag\": \"Y\",  |\n",
      "|           |                |             |                    |                |                    |                 |                    |                     |                  |      \"is_healthy_flag\": \"N\",      |\n",
      "|           |                |             |                    |                |                    |                 |                    |                     |                  |      \"is_nut_free_flag\": \"Y\"      |\n",
      "|           |                |             |                    |                |                    |                 |                    |                     |                  |    }                              |\n",
      "|           |                |             |                    |                |                    |                 |                    |                     |                  |  ],                               |\n",
      "|           |                |             |                    |                |                    |                 |                    |                     |                  |  \"menu_item_id\": 10               |\n",
      "|           |                |             |                    |                |                    |                 |                    |                     |                  |}                                  |\n",
      "|10002      |1               |Ice Cream    |Freezing Point      |11              |Sugar Cone          |Dessert          |Cold Option         |2.5000               |6.0000            |{                                  |\n",
      "|           |                |             |                    |                |                    |                 |                    |                     |                  |  \"menu_item_health_metrics\": [    |\n",
      "|           |                |             |                    |                |                    |                 |                    |                     |                  |    {                              |\n",
      "|           |                |             |                    |                |                    |                 |                    |                     |                  |      \"ingredients\": [             |\n",
      "|           |                |             |                    |                |                    |                 |                    |                     |                  |        \"One Scoop\",               |\n",
      "|           |                |             |                    |                |                    |                 |                    |                     |                  |        \"Sugar Cone\"               |\n",
      "|           |                |             |                    |                |                    |                 |                    |                     |                  |      ],                           |\n",
      "|           |                |             |                    |                |                    |                 |                    |                     |                  |      \"is_dairy_free_flag\": \"Y\",   |\n",
      "|           |                |             |                    |                |                    |                 |                    |                     |                  |      \"is_gluten_free_flag\": \"Y\",  |\n",
      "|           |                |             |                    |                |                    |                 |                    |                     |                  |      \"is_healthy_flag\": \"N\",      |\n",
      "|           |                |             |                    |                |                    |                 |                    |                     |                  |      \"is_nut_free_flag\": \"Y\"      |\n",
      "|           |                |             |                    |                |                    |                 |                    |                     |                  |    }                              |\n",
      "|           |                |             |                    |                |                    |                 |                    |                     |                  |  ],                               |\n",
      "|           |                |             |                    |                |                    |                 |                    |                     |                  |  \"menu_item_id\": 11               |\n",
      "|           |                |             |                    |                |                    |                 |                    |                     |                  |}                                  |\n",
      "|10003      |1               |Ice Cream    |Freezing Point      |12              |Waffle Cone         |Dessert          |Cold Option         |2.5000               |6.0000            |{                                  |\n",
      "|           |                |             |                    |                |                    |                 |                    |                     |                  |  \"menu_item_health_metrics\": [    |\n",
      "|           |                |             |                    |                |                    |                 |                    |                     |                  |    {                              |\n",
      "|           |                |             |                    |                |                    |                 |                    |                     |                  |      \"ingredients\": [             |\n",
      "|           |                |             |                    |                |                    |                 |                    |                     |                  |        \"One Scoop\",               |\n",
      "|           |                |             |                    |                |                    |                 |                    |                     |                  |        \"Waffle Cone\"              |\n",
      "|           |                |             |                    |                |                    |                 |                    |                     |                  |      ],                           |\n",
      "|           |                |             |                    |                |                    |                 |                    |                     |                  |      \"is_dairy_free_flag\": \"N\",   |\n",
      "|           |                |             |                    |                |                    |                 |                    |                     |                  |      \"is_gluten_free_flag\": \"N\",  |\n",
      "|           |                |             |                    |                |                    |                 |                    |                     |                  |      \"is_healthy_flag\": \"N\",      |\n",
      "|           |                |             |                    |                |                    |                 |                    |                     |                  |      \"is_nut_free_flag\": \"Y\"      |\n",
      "|           |                |             |                    |                |                    |                 |                    |                     |                  |    }                              |\n",
      "|           |                |             |                    |                |                    |                 |                    |                     |                  |  ],                               |\n",
      "|           |                |             |                    |                |                    |                 |                    |                     |                  |  \"menu_item_id\": 12               |\n",
      "|           |                |             |                    |                |                    |                 |                    |                     |                  |}                                  |\n",
      "|10004      |1               |Ice Cream    |Freezing Point      |13              |Two Scoop Bowl      |Dessert          |Cold Option         |3.0000               |7.0000            |{                                  |\n",
      "|           |                |             |                    |                |                    |                 |                    |                     |                  |  \"menu_item_health_metrics\": [    |\n",
      "|           |                |             |                    |                |                    |                 |                    |                     |                  |    {                              |\n",
      "|           |                |             |                    |                |                    |                 |                    |                     |                  |      \"ingredients\": [             |\n",
      "|           |                |             |                    |                |                    |                 |                    |                     |                  |        \"Two Scoops\"               |\n",
      "|           |                |             |                    |                |                    |                 |                    |                     |                  |      ],                           |\n",
      "|           |                |             |                    |                |                    |                 |                    |                     |                  |      \"is_dairy_free_flag\": \"N\",   |\n",
      "|           |                |             |                    |                |                    |                 |                    |                     |                  |      \"is_gluten_free_flag\": \"Y\",  |\n",
      "|           |                |             |                    |                |                    |                 |                    |                     |                  |      \"is_healthy_flag\": \"N\",      |\n",
      "|           |                |             |                    |                |                    |                 |                    |                     |                  |      \"is_nut_free_flag\": \"Y\"      |\n",
      "|           |                |             |                    |                |                    |                 |                    |                     |                  |    }                              |\n",
      "|           |                |             |                    |                |                    |                 |                    |                     |                  |  ],                               |\n",
      "|           |                |             |                    |                |                    |                 |                    |                     |                  |  \"menu_item_id\": 13               |\n",
      "|           |                |             |                    |                |                    |                 |                    |                     |                  |}                                  |\n",
      "|10005      |1               |Ice Cream    |Freezing Point      |14              |Bottled Water       |Beverage         |Cold Option         |0.5000               |2.0000            |{                                  |\n",
      "|           |                |             |                    |                |                    |                 |                    |                     |                  |  \"menu_item_health_metrics\": [    |\n",
      "|           |                |             |                    |                |                    |                 |                    |                     |                  |    {                              |\n",
      "|           |                |             |                    |                |                    |                 |                    |                     |                  |      \"ingredients\": [             |\n",
      "|           |                |             |                    |                |                    |                 |                    |                     |                  |        \"12 Oz Bottle Water\"       |\n",
      "|           |                |             |                    |                |                    |                 |                    |                     |                  |      ],                           |\n",
      "|           |                |             |                    |                |                    |                 |                    |                     |                  |      \"is_dairy_free_flag\": \"Y\",   |\n",
      "|           |                |             |                    |                |                    |                 |                    |                     |                  |      \"is_gluten_free_flag\": \"Y\",  |\n",
      "|           |                |             |                    |                |                    |                 |                    |                     |                  |      \"is_healthy_flag\": \"Y\",      |\n",
      "|           |                |             |                    |                |                    |                 |                    |                     |                  |      \"is_nut_free_flag\": \"Y\"      |\n",
      "|           |                |             |                    |                |                    |                 |                    |                     |                  |    }                              |\n",
      "|           |                |             |                    |                |                    |                 |                    |                     |                  |  ],                               |\n",
      "|           |                |             |                    |                |                    |                 |                    |                     |                  |  \"menu_item_id\": 14               |\n",
      "|           |                |             |                    |                |                    |                 |                    |                     |                  |}                                  |\n",
      "|10006      |1               |Ice Cream    |Freezing Point      |15              |Bottled Soda        |Beverage         |Cold Option         |0.5000               |3.0000            |{                                  |\n",
      "|           |                |             |                    |                |                    |                 |                    |                     |                  |  \"menu_item_health_metrics\": [    |\n",
      "|           |                |             |                    |                |                    |                 |                    |                     |                  |    {                              |\n",
      "|           |                |             |                    |                |                    |                 |                    |                     |                  |      \"ingredients\": [             |\n",
      "|           |                |             |                    |                |                    |                 |                    |                     |                  |        \"12 Oz Bottle Soda\"        |\n",
      "|           |                |             |                    |                |                    |                 |                    |                     |                  |      ],                           |\n",
      "|           |                |             |                    |                |                    |                 |                    |                     |                  |      \"is_dairy_free_flag\": \"Y\",   |\n",
      "|           |                |             |                    |                |                    |                 |                    |                     |                  |      \"is_gluten_free_flag\": \"Y\",  |\n",
      "|           |                |             |                    |                |                    |                 |                    |                     |                  |      \"is_healthy_flag\": \"N\",      |\n",
      "|           |                |             |                    |                |                    |                 |                    |                     |                  |      \"is_nut_free_flag\": \"Y\"      |\n",
      "|           |                |             |                    |                |                    |                 |                    |                     |                  |    }                              |\n",
      "|           |                |             |                    |                |                    |                 |                    |                     |                  |  ],                               |\n",
      "|           |                |             |                    |                |                    |                 |                    |                     |                  |  \"menu_item_id\": 15               |\n",
      "|           |                |             |                    |                |                    |                 |                    |                     |                  |}                                  |\n",
      "|10007      |1               |Ice Cream    |Freezing Point      |16              |Ice Tea             |Beverage         |Cold Option         |0.7500               |3.0000            |{                                  |\n",
      "|           |                |             |                    |                |                    |                 |                    |                     |                  |  \"menu_item_health_metrics\": [    |\n",
      "|           |                |             |                    |                |                    |                 |                    |                     |                  |    {                              |\n",
      "|           |                |             |                    |                |                    |                 |                    |                     |                  |      \"ingredients\": [             |\n",
      "|           |                |             |                    |                |                    |                 |                    |                     |                  |        \"12 Oz Bottle Ice Tea\"     |\n",
      "|           |                |             |                    |                |                    |                 |                    |                     |                  |      ],                           |\n",
      "|           |                |             |                    |                |                    |                 |                    |                     |                  |      \"is_dairy_free_flag\": \"Y\",   |\n",
      "|           |                |             |                    |                |                    |                 |                    |                     |                  |      \"is_gluten_free_flag\": \"Y\",  |\n",
      "|           |                |             |                    |                |                    |                 |                    |                     |                  |      \"is_healthy_flag\": \"N\",      |\n",
      "|           |                |             |                    |                |                    |                 |                    |                     |                  |      \"is_nut_free_flag\": \"Y\"      |\n",
      "|           |                |             |                    |                |                    |                 |                    |                     |                  |    }                              |\n",
      "|           |                |             |                    |                |                    |                 |                    |                     |                  |  ],                               |\n",
      "|           |                |             |                    |                |                    |                 |                    |                     |                  |  \"menu_item_id\": 16               |\n",
      "|           |                |             |                    |                |                    |                 |                    |                     |                  |}                                  |\n",
      "|10008      |1               |Ice Cream    |Freezing Point      |17              |Ice Cream Sandwich  |Dessert          |Cold Option         |1.0000               |4.0000            |{                                  |\n",
      "|           |                |             |                    |                |                    |                 |                    |                     |                  |  \"menu_item_health_metrics\": [    |\n",
      "|           |                |             |                    |                |                    |                 |                    |                     |                  |    {                              |\n",
      "|           |                |             |                    |                |                    |                 |                    |                     |                  |      \"ingredients\": [             |\n",
      "|           |                |             |                    |                |                    |                 |                    |                     |                  |        \"Ice Cream Sandwich\"       |\n",
      "|           |                |             |                    |                |                    |                 |                    |                     |                  |      ],                           |\n",
      "|           |                |             |                    |                |                    |                 |                    |                     |                  |      \"is_dairy_free_flag\": \"N\",   |\n",
      "|           |                |             |                    |                |                    |                 |                    |                     |                  |      \"is_gluten_free_flag\": \"N\",  |\n",
      "|           |                |             |                    |                |                    |                 |                    |                     |                  |      \"is_healthy_flag\": \"N\",      |\n",
      "|           |                |             |                    |                |                    |                 |                    |                     |                  |      \"is_nut_free_flag\": \"Y\"      |\n",
      "|           |                |             |                    |                |                    |                 |                    |                     |                  |    }                              |\n",
      "|           |                |             |                    |                |                    |                 |                    |                     |                  |  ],                               |\n",
      "|           |                |             |                    |                |                    |                 |                    |                     |                  |  \"menu_item_id\": 17               |\n",
      "|           |                |             |                    |                |                    |                 |                    |                     |                  |}                                  |\n",
      "|10009      |1               |Ice Cream    |Freezing Point      |18              |Mango Sticky Rice   |Dessert          |Cold Option         |1.2500               |5.0000            |{                                  |\n",
      "|           |                |             |                    |                |                    |                 |                    |                     |                  |  \"menu_item_health_metrics\": [    |\n",
      "|           |                |             |                    |                |                    |                 |                    |                     |                  |    {                              |\n",
      "|           |                |             |                    |                |                    |                 |                    |                     |                  |      \"ingredients\": [             |\n",
      "|           |                |             |                    |                |                    |                 |                    |                     |                  |        \"Sweet Mango\",             |\n",
      "|           |                |             |                    |                |                    |                 |                    |                     |                  |        \"Sticky Salted Rice\",      |\n",
      "|           |                |             |                    |                |                    |                 |                    |                     |                  |        \"Coconut Milk\",            |\n",
      "|           |                |             |                    |                |                    |                 |                    |                     |                  |        \"Sesame Seeds\"             |\n",
      "|           |                |             |                    |                |                    |                 |                    |                     |                  |      ],                           |\n",
      "|           |                |             |                    |                |                    |                 |                    |                     |                  |      \"is_dairy_free_flag\": \"N\",   |\n",
      "|           |                |             |                    |                |                    |                 |                    |                     |                  |      \"is_gluten_free_flag\": \"N\",  |\n",
      "|           |                |             |                    |                |                    |                 |                    |                     |                  |      \"is_healthy_flag\": \"N\",      |\n",
      "|           |                |             |                    |                |                    |                 |                    |                     |                  |      \"is_nut_free_flag\": \"Y\"      |\n",
      "|           |                |             |                    |                |                    |                 |                    |                     |                  |    }                              |\n",
      "|           |                |             |                    |                |                    |                 |                    |                     |                  |  ],                               |\n",
      "|           |                |             |                    |                |                    |                 |                    |                     |                  |  \"menu_item_id\": 18               |\n",
      "|           |                |             |                    |                |                    |                 |                    |                     |                  |}                                  |\n",
      "|10010      |1               |Ice Cream    |Freezing Point      |19              |Popsicle            |Dessert          |Cold Option         |0.5000               |3.0000            |{                                  |\n",
      "|           |                |             |                    |                |                    |                 |                    |                     |                  |  \"menu_item_health_metrics\": [    |\n",
      "|           |                |             |                    |                |                    |                 |                    |                     |                  |    {                              |\n",
      "|           |                |             |                    |                |                    |                 |                    |                     |                  |      \"ingredients\": [             |\n",
      "|           |                |             |                    |                |                    |                 |                    |                     |                  |        \"Popsicle\"                 |\n",
      "|           |                |             |                    |                |                    |                 |                    |                     |                  |      ],                           |\n",
      "|           |                |             |                    |                |                    |                 |                    |                     |                  |      \"is_dairy_free_flag\": \"Y\",   |\n",
      "|           |                |             |                    |                |                    |                 |                    |                     |                  |      \"is_gluten_free_flag\": \"Y\",  |\n",
      "|           |                |             |                    |                |                    |                 |                    |                     |                  |      \"is_healthy_flag\": \"N\",      |\n",
      "|           |                |             |                    |                |                    |                 |                    |                     |                  |      \"is_nut_free_flag\": \"Y\"      |\n",
      "|           |                |             |                    |                |                    |                 |                    |                     |                  |    }                              |\n",
      "|           |                |             |                    |                |                    |                 |                    |                     |                  |  ],                               |\n",
      "|           |                |             |                    |                |                    |                 |                    |                     |                  |  \"menu_item_id\": 19               |\n",
      "|           |                |             |                    |                |                    |                 |                    |                     |                  |}                                  |\n",
      "---------------------------------------------------------------------------------------------------------------------------------------------------------------------------------------------------------------------------\n",
      "\n"
     ]
    }
   ],
   "source": [
    "print(\"Number of rows:\", tasty_bytes_menu.count())\n",
    "tasty_bytes_menu.show()"
   ]
  },
  {
   "cell_type": "code",
   "execution_count": 8,
   "id": "e6603903",
   "metadata": {},
   "outputs": [
    {
     "name": "stdout",
     "output_type": "stream",
     "text": [
      "Number of rows: 673655465\n",
      "--------------------------------------------------------------------------------------------------------------------------------------------------------\n",
      "|\"ORDER_DETAIL_ID\"  |\"ORDER_ID\"  |\"MENU_ITEM_ID\"  |\"DISCOUNT_ID\"  |\"LINE_NUMBER\"  |\"QUANTITY\"  |\"UNIT_PRICE\"  |\"PRICE\"  |\"ORDER_ITEM_DISCOUNT_AMOUNT\"  |\n",
      "--------------------------------------------------------------------------------------------------------------------------------------------------------\n",
      "|757380337          |405331986   |113             |NULL           |1              |2           |14.0000       |28.0000  |NULL                          |\n",
      "|757380338          |405331987   |112             |NULL           |0              |1           |12.0000       |12.0000  |NULL                          |\n",
      "|757380339          |405331987   |113             |NULL           |1              |3           |14.0000       |42.0000  |NULL                          |\n",
      "|757380340          |405331987   |111             |NULL           |2              |3           |12.0000       |36.0000  |NULL                          |\n",
      "|757380341          |405331988   |112             |NULL           |0              |2           |12.0000       |24.0000  |NULL                          |\n",
      "|757380342          |405331988   |114             |NULL           |1              |1           |2.0000        |2.0000   |NULL                          |\n",
      "|757380343          |405331988   |111             |NULL           |2              |1           |12.0000       |12.0000  |NULL                          |\n",
      "|757380344          |405331989   |112             |NULL           |0              |1           |12.0000       |12.0000  |NULL                          |\n",
      "|757380345          |405331989   |111             |NULL           |1              |1           |12.0000       |12.0000  |NULL                          |\n",
      "|757380346          |405331990   |112             |NULL           |0              |3           |12.0000       |36.0000  |NULL                          |\n",
      "--------------------------------------------------------------------------------------------------------------------------------------------------------\n",
      "\n"
     ]
    }
   ],
   "source": [
    "print(\"Number of rows:\", tasty_bytes_order_detail.count())\n",
    "tasty_bytes_order_detail.show()"
   ]
  },
  {
   "cell_type": "code",
   "execution_count": 9,
   "id": "a65e9135",
   "metadata": {},
   "outputs": [
    {
     "name": "stdout",
     "output_type": "stream",
     "text": [
      "Number of rows: 248201269\n",
      "-----------------------------------------------------------------------------------------------------------------------------------------------------------------------------------------------------------------------------------------------------------------------------------------\n",
      "|\"ORDER_ID\"  |\"TRUCK_ID\"  |\"LOCATION_ID\"  |\"CUSTOMER_ID\"  |\"DISCOUNT_ID\"  |\"SHIFT_ID\"  |\"SHIFT_START_TIME\"  |\"SHIFT_END_TIME\"  |\"ORDER_CHANNEL\"  |\"ORDER_TS\"           |\"SERVED_TS\"  |\"ORDER_CURRENCY\"  |\"ORDER_AMOUNT\"  |\"ORDER_TAX_AMOUNT\"  |\"ORDER_DISCOUNT_AMOUNT\"  |\"ORDER_TOTAL\"  |\n",
      "-----------------------------------------------------------------------------------------------------------------------------------------------------------------------------------------------------------------------------------------------------------------------------------------\n",
      "|14271673    |90          |2666.0         |NULL           |NULL           |63645       |15:30:00            |22:30:00          |NULL             |2021-05-25 16:53:13  |NULL         |USD               |11.0000         |NULL                |NULL                     |11.0000        |\n",
      "|14271674    |90          |2666.0         |59685          |NULL           |63645       |15:30:00            |22:30:00          |NULL             |2021-05-25 16:53:26  |NULL         |USD               |11.0000         |NULL                |NULL                     |11.0000        |\n",
      "|14271675    |90          |2666.0         |NULL           |NULL           |63645       |15:30:00            |22:30:00          |NULL             |2021-05-25 16:53:26  |NULL         |USD               |11.0000         |NULL                |NULL                     |11.0000        |\n",
      "|14271676    |90          |2666.0         |NULL           |NULL           |63645       |15:30:00            |22:30:00          |NULL             |2021-05-25 16:53:29  |NULL         |USD               |57.0000         |NULL                |NULL                     |57.0000        |\n",
      "|14271677    |90          |2666.0         |NULL           |NULL           |63645       |15:30:00            |22:30:00          |NULL             |2021-05-25 16:53:49  |NULL         |USD               |24.0000         |NULL                |NULL                     |24.0000        |\n",
      "|14271678    |90          |2666.0         |NULL           |NULL           |63645       |15:30:00            |22:30:00          |NULL             |2021-05-25 16:54:11  |NULL         |USD               |33.0000         |NULL                |NULL                     |33.0000        |\n",
      "|14271679    |90          |2666.0         |NULL           |NULL           |63645       |15:30:00            |22:30:00          |NULL             |2021-05-25 16:54:25  |NULL         |USD               |71.0000         |NULL                |NULL                     |71.0000        |\n",
      "|14271680    |90          |2666.0         |NULL           |NULL           |63645       |15:30:00            |22:30:00          |NULL             |2021-05-25 16:54:57  |NULL         |USD               |33.0000         |NULL                |NULL                     |33.0000        |\n",
      "|14271681    |90          |2666.0         |NULL           |NULL           |63645       |15:30:00            |22:30:00          |NULL             |2021-05-25 16:55:00  |NULL         |USD               |39.0000         |NULL                |NULL                     |39.0000        |\n",
      "|14271682    |90          |2666.0         |NULL           |NULL           |63645       |15:30:00            |22:30:00          |NULL             |2021-05-25 16:55:03  |NULL         |USD               |69.0000         |NULL                |NULL                     |69.0000        |\n",
      "-----------------------------------------------------------------------------------------------------------------------------------------------------------------------------------------------------------------------------------------------------------------------------------------\n",
      "\n"
     ]
    }
   ],
   "source": [
    "print(\"Number of rows:\", tasty_bytes_order_header.count())\n",
    "tasty_bytes_order_header.show()"
   ]
  },
  {
   "cell_type": "code",
   "execution_count": 10,
   "id": "f15cd13f",
   "metadata": {},
   "outputs": [
    {
     "name": "stdout",
     "output_type": "stream",
     "text": [
      "Number of rows: 450\n",
      "-----------------------------------------------------------------------------------------------------------------------------------------------------------------------------------------------------------------------------------\n",
      "|\"TRUCK_ID\"  |\"MENU_TYPE_ID\"  |\"PRIMARY_CITY\"  |\"REGION\"    |\"ISO_REGION\"  |\"COUNTRY\"      |\"ISO_COUNTRY_CODE\"  |\"FRANCHISE_FLAG\"  |\"YEAR\"  |\"MAKE\"        |\"MODEL\"           |\"EV_FLAG\"  |\"FRANCHISE_ID\"  |\"TRUCK_OPENING_DATE\"  |\n",
      "-----------------------------------------------------------------------------------------------------------------------------------------------------------------------------------------------------------------------------------\n",
      "|1           |1               |San Mateo       |California  |CA            |United States  |US                  |0                 |2009    |Ford_         |Step Van          |0          |1               |2019-01-01            |\n",
      "|2           |2               |San Mateo       |California  |CA            |United States  |US                  |0                 |2015    |Ford_         |Step Van          |0          |1               |2020-07-01            |\n",
      "|3           |3               |San Mateo       |California  |CA            |United States  |US                  |1                 |2004    |Freightliner  |MT45 Utilimaster  |0          |2               |2021-10-01            |\n",
      "|4           |4               |San Mateo       |California  |CA            |United States  |US                  |1                 |1997    |Chevrolet     |P30               |1          |3               |2021-01-01            |\n",
      "|5           |5               |San Mateo       |California  |CA            |United States  |US                  |1                 |2010    |Custom        |Van               |1          |4               |2022-04-01            |\n",
      "|6           |6               |San Mateo       |California  |CA            |United States  |US                  |1                 |2010    |Airstream     |Trailer           |0          |5               |2019-07-01            |\n",
      "|7           |7               |San Mateo       |California  |CA            |United States  |US                  |1                 |2010    |Custom        |Van               |0          |6               |2021-01-01            |\n",
      "|8           |8               |San Mateo       |California  |CA            |United States  |US                  |1                 |1999    |Chevrolet     |P30               |1          |7               |2022-04-01            |\n",
      "|9           |9               |San Mateo       |California  |CA            |United States  |US                  |1                 |2008    |Custom        |Box Truck         |0          |8               |2020-07-01            |\n",
      "|10          |10              |San Mateo       |California  |CA            |United States  |US                  |1                 |2009    |Ford_         |Step Van          |0          |9               |2021-10-01            |\n",
      "-----------------------------------------------------------------------------------------------------------------------------------------------------------------------------------------------------------------------------------\n",
      "\n"
     ]
    }
   ],
   "source": [
    "print(\"Number of rows:\", tasty_bytes_truck.count())\n",
    "tasty_bytes_truck.show()"
   ]
  },
  {
   "cell_type": "code",
   "execution_count": 11,
   "id": "2f239bc8",
   "metadata": {},
   "outputs": [
    {
     "name": "stdout",
     "output_type": "stream",
     "text": [
      "Number of rows: 222540\n",
      "-------------------------------------------------------------------------------------------------------------------------------------------------------------------------------------------------------------------------------------------------------------------------\n",
      "|\"CUSTOMER_ID\"  |\"FIRST_NAME\"  |\"LAST_NAME\"  |\"CITY\"          |\"COUNTRY\"  |\"POSTAL_CODE\"  |\"PREFERRED_LANGUAGE\"  |\"GENDER\"     |\"FAVOURITE_BRAND\"  |\"MARITAL_STATUS\"  |\"CHILDREN_COUNT\"  |\"SIGN_UP_DATE\"  |\"BIRTHDAY_DATE\"  |\"E_MAIL\"                  |\"PHONE_NUMBER\"  |\n",
      "-------------------------------------------------------------------------------------------------------------------------------------------------------------------------------------------------------------------------------------------------------------------------\n",
      "|1              |Rodolfo       |Tucker       |Hamburg         |Germany    |21129          |German                |Female       |NULL               |Single            |0                 |2019-02-19      |1953-12-01       |Rodolfo.Tucker@ymail.com  |007-506-6068    |\n",
      "|2              |Karla         |Mullen       |Rio de Janeiro  |Brazil     |22753-000      |Portuguese            |Male         |NULL               |Single            |0                 |2019-10-07      |1973-09-21       |Karla.Mullen@hotmail.com  |431-122-6142    |\n",
      "|3              |Cortez        |Douglas      |Krakow          |Poland     |31-5           |Polish                |Female       |NULL               |Married           |2                 |2020-09-11      |2000-09-04       |Cortez.Douglas@gmail.com  |157-518-3848    |\n",
      "|4              |Janiya        |Pope         |Krakow          |Poland     |31-5           |Polish                |Female       |NULL               |Single            |1                 |2021-09-09      |1950-03-05       |Janiya.Pope@ymail.com     |872-718-6879    |\n",
      "|5              |Zaiden        |Knapp        |Barcelona       |Spain      |08013          |English               |Female       |NULL               |Married           |1                 |2022-06-17      |1978-10-29       |Zaiden.Knapp@hotmail.com  |545-152-4832    |\n",
      "|6              |Micah         |Beard        |Hamburg         |Germany    |21129          |German                |Male         |NULL               |Single            |0                 |2021-06-02      |1969-08-17       |Micah.Beard@aol.com       |535-753-3461    |\n",
      "|7              |Ricardo       |Byrd         |Barcelona       |Spain      |08013          |English               |Male         |NULL               |Undisclosed       |Undisclosed       |2020-09-29      |1961-12-23       |Ricardo.Byrd@aol.com      |138-082-1391    |\n",
      "|8              |Marie         |Boyer        |Hamburg         |Germany    |21129          |German                |Female       |NULL               |Single            |0                 |2021-04-08      |1960-07-12       |Marie.Boyer@aol.com       |587-006-4451    |\n",
      "|9              |Josie         |Glass        |Stockholm       |Sweden     |6206           |Swedish               |Male         |NULL               |Single            |0                 |2020-10-30      |1970-09-11       |Josie.Glass@hotmail.com   |023-863-4028    |\n",
      "|10             |Korbin        |Ward         |Cairo           |Egypt      |00000          |Arabic                |Undisclosed  |NULL               |Single            |0                 |2020-06-04      |1989-05-27       |Korbin.Ward@gmail.com     |049-196-8102    |\n",
      "-------------------------------------------------------------------------------------------------------------------------------------------------------------------------------------------------------------------------------------------------------------------------\n",
      "\n"
     ]
    }
   ],
   "source": [
    "print(\"Number of rows:\", tasty_bytes_customer_loyalty.count())\n",
    "tasty_bytes_customer_loyalty.show()"
   ]
  },
  {
   "attachments": {},
   "cell_type": "markdown",
   "id": "feae8662",
   "metadata": {},
   "source": [
    "## Data Exploration"
   ]
  },
  {
   "cell_type": "code",
   "execution_count": 12,
   "id": "5b4aa9f6",
   "metadata": {},
   "outputs": [],
   "source": [
    "tasty_bytes_order_header=tasty_bytes_order_header.drop('ORDER_DISCOUNT_AMOUNT', 'ORDER_TAX_AMOUNT', 'ORDER_CHANNEL', 'SERVED_TS', 'DISCOUNT_ID' )"
   ]
  },
  {
   "cell_type": "code",
   "execution_count": 13,
   "id": "da73acd7",
   "metadata": {},
   "outputs": [],
   "source": [
    "tasty_bytes_order_detail=tasty_bytes_order_detail.drop('ORDER_ITEM_DISCOUNT_AMOUNT', 'DISCOUNT_ID')"
   ]
  },
  {
   "cell_type": "code",
   "execution_count": 14,
   "id": "63ab649c",
   "metadata": {},
   "outputs": [],
   "source": [
    "tasty_bytes_customer_loyalty=tasty_bytes_customer_loyalty.drop('FAVOURITE_BRAND')"
   ]
  },
  {
   "cell_type": "code",
   "execution_count": 23,
   "id": "46d72c1e",
   "metadata": {},
   "outputs": [
    {
     "name": "stdout",
     "output_type": "stream",
     "text": [
      "------------------------------------------------------------------------------------------------------------------------------------------------------------------------------------------\n",
      "|\"ORDER_ID\"  |\"TRUCK_ID\"  |\"LOCATION_ID\"  |\"CUSTOMER_ID\"  |\"SHIFT_ID\"  |\"SHIFT_START_TIME\"  |\"SHIFT_END_TIME\"  |\"ORDER_TS\"           |\"ORDER_CURRENCY\"  |\"ORDER_AMOUNT\"  |\"ORDER_TOTAL\"  |\n",
      "------------------------------------------------------------------------------------------------------------------------------------------------------------------------------------------\n",
      "|386457962   |368         |4644.0         |1              |200404684   |08:30:00            |14:30:00          |2020-12-10 12:43:46  |USD               |98.0000         |98.0000        |\n",
      "|386575445   |361         |13460.0        |1              |200404971   |15:30:00            |22:30:00          |2021-01-07 19:13:08  |USD               |5.0000          |5.0000         |\n",
      "|389786685   |365         |8077.0         |1              |200411799   |15:00:00            |22:00:00          |2022-04-07 20:03:55  |USD               |106.5000        |106.5000       |\n",
      "|389805840   |373         |4573.0         |1              |200411843   |16:00:00            |23:00:00          |2022-04-08 18:37:04  |USD               |63.0000         |63.0000        |\n",
      "|389903051   |362         |9453.0         |1              |200412045   |15:00:00            |22:00:00          |2022-04-16 15:53:02  |USD               |29.0000         |29.0000        |\n",
      "|389932167   |375         |4500.0         |1              |200412097   |15:30:00            |22:30:00          |2022-04-17 15:48:42  |USD               |22.0000         |22.0000        |\n",
      "|391524074   |361         |4545.0         |1              |200415375   |15:00:00            |22:00:00          |2022-08-13 21:15:20  |USD               |14.5000         |14.5000        |\n",
      "|391593898   |367         |12400.0        |1              |200415526   |09:00:00            |15:00:00          |2022-08-18 10:17:48  |USD               |9.0000          |9.0000         |\n",
      "|387928878   |363         |4616.0         |1              |200407889   |15:00:00            |22:00:00          |2021-09-07 16:54:27  |USD               |21.0000         |21.0000        |\n",
      "|386652207   |365         |8141.0         |1              |200405143   |15:30:00            |22:30:00          |2021-01-21 17:50:31  |USD               |163.2500        |163.2500       |\n",
      "------------------------------------------------------------------------------------------------------------------------------------------------------------------------------------------\n",
      "\n"
     ]
    }
   ],
   "source": [
    "tasty_bytes_order_header.where(F.col('CUSTOMER_ID')==1).show()"
   ]
  },
  {
   "cell_type": "code",
   "execution_count": 40,
   "id": "ae32a998",
   "metadata": {},
   "outputs": [
    {
     "name": "stdout",
     "output_type": "stream",
     "text": [
      "----------------------------------------------------\n",
      "|\"SHIFT_START_TIME\"  |\"SHIFT_END_TIME\"  |\"COUNT\"   |\n",
      "----------------------------------------------------\n",
      "|09:00:00            |15:00:00          |22059682  |\n",
      "|16:00:00            |23:00:00          |26819987  |\n",
      "|08:30:00            |14:30:00          |33848580  |\n",
      "|15:30:00            |22:30:00          |40631827  |\n",
      "|08:00:00            |14:00:00          |57114439  |\n",
      "|15:00:00            |22:00:00          |67726754  |\n",
      "----------------------------------------------------\n",
      "\n"
     ]
    }
   ],
   "source": [
    "tasty_bytes_order_header.group_by('SHIFT_START_TIME',\"SHIFT_END_TIME\").count().order_by(\"COUNT\").show()"
   ]
  },
  {
   "cell_type": "code",
   "execution_count": 25,
   "id": "260e4342",
   "metadata": {},
   "outputs": [
    {
     "name": "stdout",
     "output_type": "stream",
     "text": [
      "Number of rows: 673655465\n",
      "-------------------------------------------------------------------------------------------------------------------------------------------------------------------------------------------------------------------------------------------------------------------------------------\n",
      "|\"ORDER_ID\"  |\"ORDER_DETAIL_ID\"  |\"MENU_ITEM_ID\"  |\"LINE_NUMBER\"  |\"QUANTITY\"  |\"UNIT_PRICE\"  |\"PRICE\"  |\"TRUCK_ID\"  |\"LOCATION_ID\"  |\"CUSTOMER_ID\"  |\"SHIFT_ID\"  |\"SHIFT_START_TIME\"  |\"SHIFT_END_TIME\"  |\"ORDER_TS\"           |\"ORDER_CURRENCY\"  |\"ORDER_AMOUNT\"  |\"ORDER_TOTAL\"  |\n",
      "-------------------------------------------------------------------------------------------------------------------------------------------------------------------------------------------------------------------------------------------------------------------------------------\n",
      "|405332097   |757380613          |122             |0              |1           |12.0000       |12.0000  |402         |13111.0        |NULL           |200446986   |08:00:00            |14:00:00          |2022-05-24 08:41:35  |USD               |47.0000         |47.0000        |\n",
      "|405332097   |757380614          |123             |1              |3           |11.0000       |33.0000  |402         |13111.0        |NULL           |200446986   |08:00:00            |14:00:00          |2022-05-24 08:41:35  |USD               |47.0000         |47.0000        |\n",
      "|405332097   |757380615          |124             |2              |1           |2.0000        |2.0000   |402         |13111.0        |NULL           |200446986   |08:00:00            |14:00:00          |2022-05-24 08:41:35  |USD               |47.0000         |47.0000        |\n",
      "|405332192   |757380865          |121             |0              |1           |20.0000       |20.0000  |402         |13111.0        |NULL           |200446986   |08:00:00            |14:00:00          |2022-05-24 09:34:29  |USD               |44.0000         |44.0000        |\n",
      "|405332192   |757380866          |122             |1              |2           |12.0000       |24.0000  |402         |13111.0        |NULL           |200446986   |08:00:00            |14:00:00          |2022-05-24 09:34:29  |USD               |44.0000         |44.0000        |\n",
      "|405332361   |757381287          |122             |0              |1           |12.0000       |12.0000  |402         |13111.0        |NULL           |200446986   |08:00:00            |14:00:00          |2022-05-24 11:10:07  |USD               |23.0000         |23.0000        |\n",
      "|405332361   |757381288          |123             |1              |1           |11.0000       |11.0000  |402         |13111.0        |NULL           |200446986   |08:00:00            |14:00:00          |2022-05-24 11:10:07  |USD               |23.0000         |23.0000        |\n",
      "|405332405   |757381391          |121             |0              |2           |20.0000       |40.0000  |402         |13111.0        |NULL           |200446986   |08:00:00            |14:00:00          |2022-05-24 11:39:19  |USD               |120.0000        |120.0000       |\n",
      "|405332405   |757381392          |122             |1              |1           |12.0000       |12.0000  |402         |13111.0        |NULL           |200446986   |08:00:00            |14:00:00          |2022-05-24 11:39:19  |USD               |120.0000        |120.0000       |\n",
      "|405332405   |757381393          |123             |2              |6           |11.0000       |66.0000  |402         |13111.0        |NULL           |200446986   |08:00:00            |14:00:00          |2022-05-24 11:39:19  |USD               |120.0000        |120.0000       |\n",
      "-------------------------------------------------------------------------------------------------------------------------------------------------------------------------------------------------------------------------------------------------------------------------------------\n",
      "\n"
     ]
    }
   ],
   "source": [
    "merged_df = tasty_bytes_order_detail.join(\n",
    "    right=tasty_bytes_order_header,\n",
    "    on=\"ORDER_ID\",\n",
    "    how=\"inner\"\n",
    ")\n",
    "print(\"Number of rows:\", merged_df.count())\n",
    "merged_df.show()"
   ]
  },
  {
   "cell_type": "code",
   "execution_count": 26,
   "id": "d4fc999a",
   "metadata": {},
   "outputs": [
    {
     "name": "stdout",
     "output_type": "stream",
     "text": [
      "Number of rows: 673655465\n",
      "---------------------------------------------------------------------------------------------------------------------------------------------------------------------------------------------------------------------------------------------------------------------------------------------------------------------------------------------------------------------------------------------------------------------------------------\n",
      "|\"MENU_ITEM_ID\"  |\"ORDER_ID\"  |\"ORDER_DETAIL_ID\"  |\"LINE_NUMBER\"  |\"QUANTITY\"  |\"UNIT_PRICE\"  |\"PRICE\"  |\"TRUCK_ID\"  |\"LOCATION_ID\"  |\"CUSTOMER_ID\"  |\"SHIFT_ID\"  |\"SHIFT_START_TIME\"  |\"SHIFT_END_TIME\"  |\"ORDER_TS\"           |\"ORDER_CURRENCY\"  |\"ORDER_AMOUNT\"  |\"ORDER_TOTAL\"  |\"MENU_ID\"  |\"MENU_TYPE_ID\"  |\"MENU_TYPE\"  |\"TRUCK_BRAND_NAME\"    |\"MENU_ITEM_NAME\"  |\"ITEM_CATEGORY\"  |\"ITEM_SUBCATEGORY\"  |\"COST_OF_GOODS_USD\"  |\n",
      "---------------------------------------------------------------------------------------------------------------------------------------------------------------------------------------------------------------------------------------------------------------------------------------------------------------------------------------------------------------------------------------------------------------------------------------\n",
      "|112             |405331994   |757380355          |0              |1           |12.0000       |12.0000  |401         |5799.0         |NULL           |200446985   |15:00:00            |22:00:00          |2022-05-24 21:43:12  |USD               |24.0000         |24.0000        |10072      |11              |Poutine      |Revenge of the Curds  |Mothers Favorite  |Main             |Hot Option          |4.5000               |\n",
      "|111             |405331994   |757380356          |1              |1           |12.0000       |12.0000  |401         |5799.0         |NULL           |200446985   |15:00:00            |22:00:00          |2022-05-24 21:43:12  |USD               |24.0000         |24.0000        |10071      |11              |Poutine      |Revenge of the Curds  |The Classic       |Main             |Hot Option          |4.0000               |\n",
      "|121             |405332132   |757380696          |0              |1           |20.0000       |20.0000  |402         |13111.0        |NULL           |200446986   |08:00:00            |14:00:00          |2022-05-24 08:58:21  |USD               |20.0000         |20.0000        |10077      |12              |Gyros        |Cheeky Greek          |The King Combo    |Main             |Hot Option          |12.0000              |\n",
      "|123             |405332397   |757381373          |0              |2           |11.0000       |22.0000  |402         |13111.0        |NULL           |200446986   |08:00:00            |14:00:00          |2022-05-24 11:36:37  |USD               |27.0000         |27.0000        |10079      |12              |Gyros        |Cheeky Greek          |Greek Salad       |Snack            |Warm Option         |4.0000               |\n",
      "|124             |405332397   |757381374          |1              |1           |2.0000        |2.0000   |402         |13111.0        |NULL           |200446986   |08:00:00            |14:00:00          |2022-05-24 11:36:37  |USD               |27.0000         |27.0000        |10080      |12              |Gyros        |Cheeky Greek          |Bottled Water     |Beverage         |Cold Option         |0.5000               |\n",
      "|126             |405332397   |757381375          |2              |1           |3.0000        |3.0000   |402         |13111.0        |NULL           |200446986   |08:00:00            |14:00:00          |2022-05-24 11:36:37  |USD               |27.0000         |27.0000        |10082      |12              |Gyros        |Cheeky Greek          |Ice Tea           |Beverage         |Cold Option         |0.7500               |\n",
      "|121             |405332521   |757381684          |0              |1           |20.0000       |20.0000  |402         |13111.0        |NULL           |200446986   |08:00:00            |14:00:00          |2022-05-24 12:34:54  |USD               |75.0000         |75.0000        |10077      |12              |Gyros        |Cheeky Greek          |The King Combo    |Main             |Hot Option          |12.0000              |\n",
      "|122             |405332521   |757381685          |1              |2           |12.0000       |24.0000  |402         |13111.0        |NULL           |200446986   |08:00:00            |14:00:00          |2022-05-24 12:34:54  |USD               |75.0000         |75.0000        |10078      |12              |Gyros        |Cheeky Greek          |Gyro Plate        |Main             |Hot Option          |8.0000               |\n",
      "|123             |405332521   |757381686          |2              |2           |11.0000       |22.0000  |402         |13111.0        |NULL           |200446986   |08:00:00            |14:00:00          |2022-05-24 12:34:54  |USD               |75.0000         |75.0000        |10079      |12              |Gyros        |Cheeky Greek          |Greek Salad       |Snack            |Warm Option         |4.0000               |\n",
      "|125             |405332521   |757381687          |3              |1           |3.0000        |3.0000   |402         |13111.0        |NULL           |200446986   |08:00:00            |14:00:00          |2022-05-24 12:34:54  |USD               |75.0000         |75.0000        |10081      |12              |Gyros        |Cheeky Greek          |Bottled Soda      |Beverage         |Cold Option         |0.5000               |\n",
      "---------------------------------------------------------------------------------------------------------------------------------------------------------------------------------------------------------------------------------------------------------------------------------------------------------------------------------------------------------------------------------------------------------------------------------------\n",
      "\n"
     ]
    }
   ],
   "source": [
    "merged_df_2 = merged_df.join(\n",
    "    right=tasty_bytes_menu,\n",
    "    on=\"MENU_ITEM_ID\",\n",
    "    how=\"inner\"\n",
    ")\n",
    "print(\"Number of rows:\", merged_df_2.count())\n",
    "merged_df_2=merged_df_2.drop('SALE_PRICE_USD','MENU_ITEM_HEALTH_METRICS_OBJ')\n",
    "merged_df_2.show()"
   ]
  },
  {
   "cell_type": "code",
   "execution_count": 34,
   "id": "23305f9b",
   "metadata": {},
   "outputs": [],
   "source": [
    "truck_and_menu=tasty_bytes_truck.join(\n",
    "    right=tasty_bytes_menu,\n",
    "    on=\"MENU_TYPE_ID\",\n",
    "    how=\"inner\"\n",
    ")"
   ]
  },
  {
   "cell_type": "code",
   "execution_count": 42,
   "id": "feb3469f",
   "metadata": {},
   "outputs": [
    {
     "data": {
      "image/png": "[encoded data removed]",
      "text/plain": [
       "<Figure size 640x480 with 1 Axes>"
      ]
     },
     "metadata": {},
     "output_type": "display_data"
    }
   ],
   "source": [
    "truck_and_menu.group_by('TRUCK_ID').count().to_pandas().hist('COUNT')\n",
    "plt.title('Number of Menu Items in a Food Truck')\n",
    "plt.show()"
   ]
  },
  {
   "cell_type": "code",
   "execution_count": null,
   "id": "853277e9",
   "metadata": {},
   "outputs": [],
   "source": []
  }
 ],
 "metadata": {
  "kernelspec": {
   "display_name": "py38_env",
   "language": "python",
   "name": "python3"
  },
  "language_info": {
   "codemirror_mode": {
    "name": "ipython",
    "version": 3
   },
   "file_extension": ".py",
   "mimetype": "text/x-python",
   "name": "python",
   "nbconvert_exporter": "python",
   "pygments_lexer": "ipython3",
   "version": "3.8.16"
  }
 },
 "nbformat": 4,
 "nbformat_minor": 5
}
