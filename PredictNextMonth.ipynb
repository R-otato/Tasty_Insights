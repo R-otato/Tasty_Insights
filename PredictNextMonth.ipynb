{
 "cells": [
  {
   "cell_type": "code",
   "execution_count": 67,
   "metadata": {},
   "outputs": [],
   "source": [
    "#Import Python packages\n",
    "import pandas as pd\n",
    "import json\n",
    "import matplotlib.pyplot as plt\n",
    "import seaborn as sns\n",
    "import json\n",
    "import datetime\n",
    "\n",
    "# Import Snowflake modules\n",
    "from snowflake.snowpark import Session\n",
    "import snowflake.snowpark.functions as F\n",
    "import snowflake.snowpark.types as T\n",
    "from snowflake.snowpark import Window"
   ]
  },
  {
   "cell_type": "code",
   "execution_count": 68,
   "metadata": {},
   "outputs": [],
   "source": [
    "# Get account credentials from a json file\n",
    "with open(\"data_scientist_auth.json\") as f:\n",
    "    data = json.load(f)\n",
    "    username = data[\"username\"]\n",
    "    password = data[\"password\"]\n",
    "    account = data[\"account\"]\n",
    "\n",
    "# Specify connection parameters\n",
    "connection_parameters = {\n",
    "    \"account\": account,\n",
    "    \"user\": username,\n",
    "    \"password\": password,\n",
    "    \"role\": \"TASTY_BI\",\n",
    "    \"warehouse\": \"TASTY_BI_WH\",\n",
    "    \"database\": \"frostbyte_tasty_bytes\",\n",
    "    \"schema\": \"analytics\",\n",
    "}\n",
    "\n",
    "# Create Snowpark session\n",
    "session = Session.builder.configs(connection_parameters).create()"
   ]
  },
  {
   "cell_type": "code",
   "execution_count": 69,
   "metadata": {},
   "outputs": [],
   "source": [
    "#Function to remove and rename columns after inner join\n",
    "def remove_dup_join_col(df):\n",
    "    # capitalise all columns\n",
    "    for col in df.columns:\n",
    "        df = df.withColumnRenamed(col, col.upper())\n",
    "    \n",
    "    # get list of renamable columns for left and right join\n",
    "    left_dup_col = [col_name for col_name in df.columns if col_name.startswith('L_')]\n",
    "    right_dup_col = [col_name for col_name in df.columns if col_name.startswith('R_')]\n",
    "    old_columns = df.columns\n",
    "    \n",
    "    # rename the list with the most number of renamable columns\n",
    "    # drop the list of columns with less number of renamable columns\n",
    "    if len(left_dup_col)>len(right_dup_col):\n",
    "        columns_rename=left_dup_col\n",
    "        df= df.drop(*right_dup_col)\n",
    "    else:\n",
    "        columns_rename=right_dup_col\n",
    "        df= df.drop(*left_dup_col)\n",
    "    \n",
    "    for old_column in old_columns:\n",
    "        if old_column in columns_rename:\n",
    "            # get string to remove\n",
    "            string_to_replace = columns_rename[0][:7]\n",
    "            # replace starting string\n",
    "            new_column = old_column.replace(string_to_replace, \"\")\n",
    "            df = df.withColumnRenamed(old_column, new_column)\n",
    "    \n",
    "    return df"
   ]
  },
  {
   "cell_type": "code",
   "execution_count": 70,
   "metadata": {},
   "outputs": [],
   "source": [
    "orders_df = session.table(\"tran_anal\")"
   ]
  },
  {
   "cell_type": "code",
   "execution_count": 71,
   "metadata": {},
   "outputs": [
    {
     "name": "stdout",
     "output_type": "stream",
     "text": [
      "--------------------------------------------------------------------------------------------------------------------------------------------------------------------------------------------------------------------------------------------------------------------------------------------------------------------------------------------------------------------------------------------------------------------------------------------------------------------------------------------------------------------------------------------------------\n",
      "|\"ORDER_ID\"  |\"TRUCK_ID\"  |\"LOCATION_ID\"  |\"DISCOUNT_ID\"  |\"SHIFT_ID\"  |\"SHIFT_START_TIME\"  |\"SHIFT_END_TIME\"  |\"ORDER_CHANNEL\"  |\"ORDER_TS\"           |\"SERVED_TS\"  |\"ORDER_CURRENCY\"  |\"ORDER_AMOUNT\"  |\"ORDER_TAX_AMOUNT\"  |\"ORDER_DISCOUNT_AMOUNT\"  |\"ORDER_TOTAL\"  |\"CUSTOMER_ID\"  |\"FIRST_NAME\"  |\"LAST_NAME\"  |\"CITY\"         |\"COUNTRY\"      |\"POSTAL_CODE\"  |\"PREFERRED_LANGUAGE\"  |\"GENDER\"  |\"FAVOURITE_BRAND\"  |\"MARITAL_STATUS\"  |\"CHILDREN_COUNT\"  |\"SIGN_UP_DATE\"  |\"BIRTHDAY_DATE\"  |\"E_MAIL\"                |\"PHONE_NUMBER\"  |\"DTNO\"  |\n",
      "--------------------------------------------------------------------------------------------------------------------------------------------------------------------------------------------------------------------------------------------------------------------------------------------------------------------------------------------------------------------------------------------------------------------------------------------------------------------------------------------------------------------------------------------------------\n",
      "|436041107   |73          |12058.0        |NULL           |200508580   |09:00:00            |15:00:00          |NULL             |2020-01-28 12:39:15  |NULL         |USD               |38.0000         |NULL                |NULL                     |38.0000        |156193         |Dereon        |Burns        |New York City  |United States  |11373          |English               |Male      |NULL               |Single            |0                 |2019-06-05      |1953-03-25       |Dereon.Burns@ymail.com  |274-738-0158    |75      |\n",
      "|436261022   |73          |11598.0        |NULL           |200508880   |08:30:00            |14:30:00          |NULL             |2020-04-12 12:02:34  |NULL         |USD               |91.0000         |NULL                |NULL                     |91.0000        |156193         |Dereon        |Burns        |New York City  |United States  |11373          |English               |Male      |NULL               |Single            |0                 |2019-06-05      |1953-03-25       |Dereon.Burns@ymail.com  |274-738-0158    |113     |\n",
      "|436592008   |73          |3717.0         |NULL           |200509332   |08:30:00            |14:30:00          |NULL             |2020-08-03 12:28:56  |NULL         |USD               |31.0000         |NULL                |NULL                     |31.0000        |156193         |Dereon        |Burns        |New York City  |United States  |11373          |English               |Male      |NULL               |Single            |0                 |2019-06-05      |1953-03-25       |Dereon.Burns@ymail.com  |274-738-0158    |50      |\n",
      "|436739574   |73          |3252.0         |NULL           |200509533   |15:00:00            |22:00:00          |NULL             |2020-09-22 19:33:47  |NULL         |USD               |61.0000         |NULL                |NULL                     |61.0000        |156193         |Dereon        |Burns        |New York City  |United States  |11373          |English               |Male      |NULL               |Single            |0                 |2019-06-05      |1953-03-25       |Dereon.Burns@ymail.com  |274-738-0158    |2       |\n",
      "|436744991   |73          |10409.0        |NULL           |200509541   |15:00:00            |22:00:00          |NULL             |2020-09-24 15:07:08  |NULL         |USD               |11.0000         |NULL                |NULL                     |11.0000        |156193         |Dereon        |Burns        |New York City  |United States  |11373          |English               |Male      |NULL               |Single            |0                 |2019-06-05      |1953-03-25       |Dereon.Burns@ymail.com  |274-738-0158    |23      |\n",
      "|436858583   |71          |10412.0        |NULL           |200509697   |15:00:00            |22:00:00          |NULL             |2020-10-17 15:24:43  |NULL         |USD               |28.0000         |NULL                |NULL                     |28.0000        |156193         |Dereon        |Burns        |New York City  |United States  |11373          |English               |Male      |NULL               |Single            |0                 |2019-06-05      |1953-03-25       |Dereon.Burns@ymail.com  |274-738-0158    |5       |\n",
      "|436891183   |74          |15130.0        |NULL           |200509741   |15:00:00            |22:00:00          |NULL             |2020-10-22 16:10:38  |NULL         |USD               |137.0000        |NULL                |NULL                     |137.0000       |156193         |Dereon        |Burns        |New York City  |United States  |11373          |English               |Male      |NULL               |Single            |0                 |2019-06-05      |1953-03-25       |Dereon.Burns@ymail.com  |274-738-0158    |21      |\n",
      "|437011350   |71          |2520.0         |NULL           |200509904   |08:00:00            |14:00:00          |NULL             |2020-11-12 09:52:39  |NULL         |USD               |12.0000         |NULL                |NULL                     |12.0000        |156193         |Dereon        |Burns        |New York City  |United States  |11373          |English               |Male      |NULL               |Single            |0                 |2019-06-05      |1953-03-25       |Dereon.Burns@ymail.com  |274-738-0158    |34      |\n",
      "|437211657   |71          |2185.0         |NULL           |200510177   |15:00:00            |22:00:00          |NULL             |2020-12-16 17:41:42  |NULL         |USD               |90.0000         |NULL                |NULL                     |90.0000        |156193         |Dereon        |Burns        |New York City  |United States  |11373          |English               |Male      |NULL               |Single            |0                 |2019-06-05      |1953-03-25       |Dereon.Burns@ymail.com  |274-738-0158    |32      |\n",
      "|437477105   |73          |12057.0        |NULL           |200510536   |08:30:00            |14:30:00          |NULL             |2021-01-17 09:19:38  |NULL         |USD               |11.0000         |NULL                |NULL                     |11.0000        |156193         |Dereon        |Burns        |New York City  |United States  |11373          |English               |Male      |NULL               |Single            |0                 |2019-06-05      |1953-03-25       |Dereon.Burns@ymail.com  |274-738-0158    |14      |\n",
      "--------------------------------------------------------------------------------------------------------------------------------------------------------------------------------------------------------------------------------------------------------------------------------------------------------------------------------------------------------------------------------------------------------------------------------------------------------------------------------------------------------------------------------------------------------\n",
      "\n"
     ]
    }
   ],
   "source": [
    "orders_df.show()"
   ]
  },
  {
   "cell_type": "code",
   "execution_count": 72,
   "metadata": {},
   "outputs": [
    {
     "name": "stdout",
     "output_type": "stream",
     "text": [
      "------------------------------------------------------------------------------------------------------------------------------------------------------------------------------------------------------------------------------------------------------------------------------------------------------------------------------------------------------------------------------------------------------------------------------------------------------------------------------------------------------------------------------------------------------------\n",
      "|\"ORDER_ID\"  |\"TRUCK_ID\"  |\"LOCATION_ID\"  |\"DISCOUNT_ID\"  |\"SHIFT_ID\"  |\"SHIFT_START_TIME\"  |\"SHIFT_END_TIME\"  |\"ORDER_CHANNEL\"  |\"ORDER_TS\"           |\"SERVED_TS\"  |\"ORDER_CURRENCY\"  |\"ORDER_AMOUNT\"  |\"ORDER_TAX_AMOUNT\"  |\"ORDER_DISCOUNT_AMOUNT\"  |\"ORDER_TOTAL\"  |\"CUSTOMER_ID\"  |\"FIRST_NAME\"  |\"LAST_NAME\"  |\"CITY\"         |\"COUNTRY\"      |\"POSTAL_CODE\"  |\"PREFERRED_LANGUAGE\"  |\"GENDER\"     |\"FAVOURITE_BRAND\"  |\"MARITAL_STATUS\"  |\"CHILDREN_COUNT\"  |\"SIGN_UP_DATE\"  |\"BIRTHDAY_DATE\"  |\"E_MAIL\"                 |\"PHONE_NUMBER\"  |\"DTNO\"  |\n",
      "------------------------------------------------------------------------------------------------------------------------------------------------------------------------------------------------------------------------------------------------------------------------------------------------------------------------------------------------------------------------------------------------------------------------------------------------------------------------------------------------------------------------------------------------------------\n",
      "|435960495   |67          |13630.0        |NULL           |200508471   |15:00:00            |22:00:00          |NULL             |2020-01-01 20:07:59  |NULL         |USD               |49.0000         |NULL                |NULL                     |49.0000        |189041         |Taniyah       |Terry        |New York City  |United States  |11373          |English               |Undisclosed  |NULL               |Single            |0                 |2020-05-27      |1945-11-29       |Taniyah.Terry@ymail.com  |324-573-5589    |46      |\n",
      "|436095460   |67          |15137.0        |NULL           |200508655   |15:00:00            |22:00:00          |NULL             |2020-02-16 15:48:24  |NULL         |USD               |51.0000         |NULL                |NULL                     |51.0000        |189041         |Taniyah       |Terry        |New York City  |United States  |11373          |English               |Undisclosed  |NULL               |Single            |0                 |2020-05-27      |1945-11-29       |Taniyah.Terry@ymail.com  |324-573-5589    |113     |\n",
      "|436428166   |73          |1422.0         |NULL           |200509108   |08:30:00            |14:30:00          |NULL             |2020-06-08 09:46:45  |NULL         |USD               |6.0000          |NULL                |NULL                     |6.0000         |189041         |Taniyah       |Terry        |New York City  |United States  |11373          |English               |Undisclosed  |NULL               |Single            |0                 |2020-05-27      |1945-11-29       |Taniyah.Terry@ymail.com  |324-573-5589    |68      |\n",
      "|436626788   |67          |2804.0         |NULL           |200509379   |15:00:00            |22:00:00          |NULL             |2020-08-15 21:35:44  |NULL         |USD               |71.0000         |NULL                |NULL                     |71.0000        |189041         |Taniyah       |Terry        |New York City  |United States  |11373          |English               |Undisclosed  |NULL               |Single            |0                 |2020-05-27      |1945-11-29       |Taniyah.Terry@ymail.com  |324-573-5589    |24      |\n",
      "|436697935   |73          |3467.0         |NULL           |200509476   |08:00:00            |14:00:00          |NULL             |2020-09-08 13:07:09  |NULL         |USD               |106.0000        |NULL                |NULL                     |106.0000       |189041         |Taniyah       |Terry        |New York City  |United States  |11373          |English               |Undisclosed  |NULL               |Single            |0                 |2020-05-27      |1945-11-29       |Taniyah.Terry@ymail.com  |324-573-5589    |4       |\n",
      "|436709098   |67          |3725.0         |NULL           |200509491   |15:30:00            |22:30:00          |NULL             |2020-09-12 22:03:27  |NULL         |USD               |16.0000         |NULL                |NULL                     |16.0000        |189041         |Taniyah       |Terry        |New York City  |United States  |11373          |English               |Undisclosed  |NULL               |Single            |0                 |2020-05-27      |1945-11-29       |Taniyah.Terry@ymail.com  |324-573-5589    |5       |\n",
      "|436723184   |67          |1927.0         |NULL           |200509511   |15:00:00            |22:00:00          |NULL             |2020-09-17 16:32:01  |NULL         |USD               |70.0000         |NULL                |NULL                     |70.0000        |189041         |Taniyah       |Terry        |New York City  |United States  |11373          |English               |Undisclosed  |NULL               |Single            |0                 |2020-05-27      |1945-11-29       |Taniyah.Terry@ymail.com  |324-573-5589    |6       |\n",
      "|436741721   |73          |12448.0        |NULL           |200509536   |09:00:00            |15:00:00          |NULL             |2020-09-23 11:43:01  |NULL         |USD               |41.0000         |NULL                |NULL                     |41.0000        |189041         |Taniyah       |Terry        |New York City  |United States  |11373          |English               |Undisclosed  |NULL               |Single            |0                 |2020-05-27      |1945-11-29       |Taniyah.Terry@ymail.com  |324-573-5589    |17      |\n",
      "|436815926   |67          |2181.0         |NULL           |200509638   |08:00:00            |14:00:00          |NULL             |2020-10-10 09:38:44  |NULL         |USD               |24.0000         |NULL                |NULL                     |24.0000        |189041         |Taniyah       |Terry        |New York City  |United States  |11373          |English               |Undisclosed  |NULL               |Single            |0                 |2020-05-27      |1945-11-29       |Taniyah.Terry@ymail.com  |324-573-5589    |30      |\n",
      "|436995078   |71          |5213.0         |NULL           |200509881   |15:00:00            |22:00:00          |NULL             |2020-11-09 21:41:13  |NULL         |USD               |28.0000         |NULL                |NULL                     |28.0000        |189041         |Taniyah       |Terry        |New York City  |United States  |11373          |English               |Undisclosed  |NULL               |Single            |0                 |2020-05-27      |1945-11-29       |Taniyah.Terry@ymail.com  |324-573-5589    |43      |\n",
      "------------------------------------------------------------------------------------------------------------------------------------------------------------------------------------------------------------------------------------------------------------------------------------------------------------------------------------------------------------------------------------------------------------------------------------------------------------------------------------------------------------------------------------------------------------\n",
      "\n"
     ]
    }
   ],
   "source": [
    "orders_df = orders_df.filter(F.col(\"COUNTRY\") == \"United States\")\n",
    "\n",
    "orders_df.show()"
   ]
  },
  {
   "cell_type": "code",
   "execution_count": 73,
   "metadata": {},
   "outputs": [
    {
     "name": "stdout",
     "output_type": "stream",
     "text": [
      "------------------------------------------------------------------------------------------------------------------------------------------------------------------------------------------------------------------------------------------------------------------------------------------------------------------------------------------------------------------------------------------------------------------------------------------------------------------------------------------------------------------------------------------------------------------------------------\n",
      "|\"ORDER_ID\"  |\"TRUCK_ID\"  |\"LOCATION_ID\"  |\"DISCOUNT_ID\"  |\"SHIFT_ID\"  |\"SHIFT_START_TIME\"  |\"SHIFT_END_TIME\"  |\"ORDER_CHANNEL\"  |\"ORDER_TS\"           |\"SERVED_TS\"  |\"ORDER_CURRENCY\"  |\"ORDER_AMOUNT\"  |\"ORDER_TAX_AMOUNT\"  |\"ORDER_DISCOUNT_AMOUNT\"  |\"ORDER_TOTAL\"  |\"CUSTOMER_ID\"  |\"FIRST_NAME\"  |\"LAST_NAME\"  |\"CITY\"   |\"COUNTRY\"      |\"POSTAL_CODE\"  |\"PREFERRED_LANGUAGE\"  |\"GENDER\"  |\"FAVOURITE_BRAND\"  |\"MARITAL_STATUS\"  |\"CHILDREN_COUNT\"  |\"SIGN_UP_DATE\"  |\"BIRTHDAY_DATE\"  |\"E_MAIL\"                |\"PHONE_NUMBER\"  |\"DTNO\"  |\"YEAR\"  |\"MONTH\"  |\"YEAR_MONTH\"  |\n",
      "------------------------------------------------------------------------------------------------------------------------------------------------------------------------------------------------------------------------------------------------------------------------------------------------------------------------------------------------------------------------------------------------------------------------------------------------------------------------------------------------------------------------------------------------------------------------------------\n",
      "|452737203   |33          |2482.0         |NULL           |200546895   |15:00:00            |22:00:00          |NULL             |2019-10-10 18:57:42  |NULL         |USD               |58.5000         |NULL                |NULL                     |58.5000        |116170         |Warren        |Burke        |Seattle  |United States  |98170          |English               |Male      |NULL               |Undisclosed       |Undisclosed       |2021-09-02      |1946-01-20       |Warren.Burke@ymail.com  |504-466-2500    |73      |2019    |10       |201910        |\n",
      "|452765389   |33          |1384.0         |NULL           |200547040   |08:00:00            |14:00:00          |NULL             |2019-12-22 09:04:11  |NULL         |USD               |37.0000         |NULL                |NULL                     |37.0000        |116170         |Warren        |Burke        |Seattle  |United States  |98170          |English               |Male      |NULL               |Undisclosed       |Undisclosed       |2021-09-02      |1946-01-20       |Warren.Burke@ymail.com  |504-466-2500    |21      |2019    |12       |201912        |\n",
      "|452775847   |31          |1724.0         |NULL           |200547104   |08:00:00            |14:00:00          |NULL             |2020-01-12 13:22:22  |NULL         |USD               |40.5000         |NULL                |NULL                     |40.5000        |116170         |Warren        |Burke        |Seattle  |United States  |98170          |English               |Male      |NULL               |Undisclosed       |Undisclosed       |2021-09-02      |1946-01-20       |Warren.Burke@ymail.com  |504-466-2500    |6       |2020    |1        |20201         |\n",
      "|452779447   |33          |4121.0         |NULL           |200547130   |08:00:00            |14:00:00          |NULL             |2020-01-18 08:56:37  |NULL         |USD               |50.0000         |NULL                |NULL                     |50.0000        |116170         |Warren        |Burke        |Seattle  |United States  |98170          |English               |Male      |NULL               |Undisclosed       |Undisclosed       |2021-09-02      |1946-01-20       |Warren.Burke@ymail.com  |504-466-2500    |1       |2020    |1        |20201         |\n",
      "|452779876   |31          |5163.0         |NULL           |200547132   |08:00:00            |14:00:00          |NULL             |2020-01-19 12:04:28  |NULL         |USD               |16.0000         |NULL                |NULL                     |16.0000        |116170         |Warren        |Burke        |Seattle  |United States  |98170          |English               |Male      |NULL               |Undisclosed       |Undisclosed       |2021-09-02      |1946-01-20       |Warren.Burke@ymail.com  |504-466-2500    |51      |2020    |1        |20201         |\n",
      "|452811752   |31          |15018.0        |NULL           |200547337   |15:30:00            |22:30:00          |NULL             |2020-03-10 19:38:39  |NULL         |USD               |23.0000         |NULL                |NULL                     |23.0000        |116170         |Warren        |Burke        |Seattle  |United States  |98170          |English               |Male      |NULL               |Undisclosed       |Undisclosed       |2021-09-02      |1946-01-20       |Warren.Burke@ymail.com  |504-466-2500    |20      |2020    |3        |20203         |\n",
      "|452825768   |33          |2116.0         |NULL           |200547419   |16:00:00            |23:00:00          |NULL             |2020-03-30 20:55:49  |NULL         |USD               |37.5000         |NULL                |NULL                     |37.5000        |116170         |Warren        |Burke        |Seattle  |United States  |98170          |English               |Male      |NULL               |Undisclosed       |Undisclosed       |2021-09-02      |1946-01-20       |Warren.Burke@ymail.com  |504-466-2500    |61      |2020    |3        |20203         |\n",
      "|452886382   |31          |2021.0         |NULL           |200547779   |15:30:00            |22:30:00          |NULL             |2020-05-30 21:50:44  |NULL         |USD               |5.0000          |NULL                |NULL                     |5.0000         |116170         |Warren        |Burke        |Seattle  |United States  |98170          |English               |Male      |NULL               |Undisclosed       |Undisclosed       |2021-09-02      |1946-01-20       |Warren.Burke@ymail.com  |504-466-2500    |9       |2020    |5        |20205         |\n",
      "|452895542   |45          |1674.0         |NULL           |200547837   |15:30:00            |22:30:00          |NULL             |2020-06-08 18:47:31  |NULL         |USD               |11.0000         |NULL                |NULL                     |11.0000        |116170         |Warren        |Burke        |Seattle  |United States  |98170          |English               |Male      |NULL               |Undisclosed       |Undisclosed       |2021-09-02      |1946-01-20       |Warren.Burke@ymail.com  |504-466-2500    |19      |2020    |6        |20206         |\n",
      "|452914028   |31          |15007.0        |NULL           |200547947   |15:30:00            |22:30:00          |NULL             |2020-06-27 21:15:12  |NULL         |USD               |14.0000         |NULL                |NULL                     |14.0000        |116170         |Warren        |Burke        |Seattle  |United States  |98170          |English               |Male      |NULL               |Undisclosed       |Undisclosed       |2021-09-02      |1946-01-20       |Warren.Burke@ymail.com  |504-466-2500    |27      |2020    |6        |20206         |\n",
      "------------------------------------------------------------------------------------------------------------------------------------------------------------------------------------------------------------------------------------------------------------------------------------------------------------------------------------------------------------------------------------------------------------------------------------------------------------------------------------------------------------------------------------------------------------------------------------\n",
      "\n"
     ]
    }
   ],
   "source": [
    "orders_df = orders_df.with_column(\"YEAR\", F.year(\"ORDER_TS\"))\n",
    "orders_df = orders_df.with_column(\"MONTH\", F.month(\"ORDER_TS\"))\n",
    "orders_df = orders_df.with_column(\"YEAR_MONTH\", F.concat(F.col(\"YEAR\"), F.col(\"MONTH\")))\n",
    "orders_df.show()"
   ]
  },
  {
   "cell_type": "code",
   "execution_count": 74,
   "metadata": {},
   "outputs": [
    {
     "name": "stdout",
     "output_type": "stream",
     "text": [
      "-----------------------------------------------------------------------------------------------------------------------------------------------------------------------------------------------------------------------------------------------------------------------------------------------------------------------------------------------------------------------------------------------------------------------------------------------------------------------------------------------------------------------------------------------------------------------------------------------\n",
      "|\"ORDER_ID\"  |\"TRUCK_ID\"  |\"LOCATION_ID\"  |\"DISCOUNT_ID\"  |\"SHIFT_ID\"  |\"SHIFT_START_TIME\"  |\"SHIFT_END_TIME\"  |\"ORDER_CHANNEL\"  |\"ORDER_TS\"           |\"SERVED_TS\"  |\"ORDER_CURRENCY\"  |\"ORDER_AMOUNT\"  |\"ORDER_TAX_AMOUNT\"  |\"ORDER_DISCOUNT_AMOUNT\"  |\"ORDER_TOTAL\"  |\"CUSTOMER_ID\"  |\"FIRST_NAME\"  |\"LAST_NAME\"  |\"CITY\"   |\"COUNTRY\"      |\"POSTAL_CODE\"  |\"PREFERRED_LANGUAGE\"  |\"GENDER\"  |\"FAVOURITE_BRAND\"  |\"MARITAL_STATUS\"  |\"CHILDREN_COUNT\"  |\"SIGN_UP_DATE\"  |\"BIRTHDAY_DATE\"  |\"E_MAIL\"                   |\"PHONE_NUMBER\"  |\"DTNO\"  |\"YEAR\"  |\"MONTH\"  |\"YEAR_MONTH\"  |\"AGE\"  |\n",
      "-----------------------------------------------------------------------------------------------------------------------------------------------------------------------------------------------------------------------------------------------------------------------------------------------------------------------------------------------------------------------------------------------------------------------------------------------------------------------------------------------------------------------------------------------------------------------------------------------\n",
      "|452735964   |33          |5156.0         |NULL           |200546888   |09:00:00            |15:00:00          |NULL             |2019-10-07 13:52:52  |NULL         |USD               |12.5000         |NULL                |NULL                     |12.5000        |102032         |Sasha         |Wilkinson    |Seattle  |United States  |98117          |English               |Female    |NULL               |Married           |2                 |2022-03-09      |1944-10-26       |Sasha.Wilkinson@ymail.com  |369-064-7824    |112     |2019    |10       |201910        |78     |\n",
      "|452784567   |31          |3664.0         |NULL           |200547164   |08:30:00            |14:30:00          |NULL             |2020-01-27 11:20:07  |NULL         |USD               |30.0000         |NULL                |NULL                     |30.0000        |102032         |Sasha         |Wilkinson    |Seattle  |United States  |98117          |English               |Female    |NULL               |Married           |2                 |2022-03-09      |1944-10-26       |Sasha.Wilkinson@ymail.com  |369-064-7824    |33      |2020    |1        |20201         |78     |\n",
      "|452805311   |31          |1331.0         |NULL           |200547296   |08:00:00            |14:00:00          |NULL             |2020-02-29 09:36:23  |NULL         |USD               |7.0000          |NULL                |NULL                     |7.0000         |102032         |Sasha         |Wilkinson    |Seattle  |United States  |98117          |English               |Female    |NULL               |Married           |2                 |2022-03-09      |1944-10-26       |Sasha.Wilkinson@ymail.com  |369-064-7824    |6       |2020    |2        |20202         |78     |\n",
      "|452809339   |33          |2759.0         |NULL           |200547322   |09:00:00            |15:00:00          |NULL             |2020-03-06 13:39:08  |NULL         |USD               |11.0000         |NULL                |NULL                     |11.0000        |102032         |Sasha         |Wilkinson    |Seattle  |United States  |98117          |English               |Female    |NULL               |Married           |2                 |2022-03-09      |1944-10-26       |Sasha.Wilkinson@ymail.com  |369-064-7824    |108     |2020    |3        |20203         |78     |\n",
      "|452908610   |31          |15097.0        |NULL           |200547917   |15:00:00            |22:00:00          |NULL             |2020-06-22 20:50:43  |NULL         |USD               |19.0000         |NULL                |NULL                     |19.0000        |102032         |Sasha         |Wilkinson    |Seattle  |United States  |98117          |English               |Female    |NULL               |Married           |2                 |2022-03-09      |1944-10-26       |Sasha.Wilkinson@ymail.com  |369-064-7824    |30      |2020    |6        |20206         |78     |\n",
      "|452948210   |33          |14967.0        |NULL           |200548141   |15:00:00            |22:00:00          |NULL             |2020-07-22 20:12:49  |NULL         |USD               |47.5000         |NULL                |NULL                     |47.5000        |102032         |Sasha         |Wilkinson    |Seattle  |United States  |98117          |English               |Female    |NULL               |Married           |2                 |2022-03-09      |1944-10-26       |Sasha.Wilkinson@ymail.com  |369-064-7824    |11      |2020    |7        |20207         |78     |\n",
      "|452964394   |33          |2786.0         |NULL           |200548228   |08:00:00            |14:00:00          |NULL             |2020-08-02 08:49:42  |NULL         |USD               |28.0000         |NULL                |NULL                     |28.0000        |102032         |Sasha         |Wilkinson    |Seattle  |United States  |98117          |English               |Female    |NULL               |Married           |2                 |2022-03-09      |1944-10-26       |Sasha.Wilkinson@ymail.com  |369-064-7824    |13      |2020    |8        |20208         |78     |\n",
      "|452982536   |33          |2759.0         |NULL           |200548332   |08:30:00            |14:30:00          |NULL             |2020-08-15 11:09:41  |NULL         |USD               |11.0000         |NULL                |NULL                     |11.0000        |102032         |Sasha         |Wilkinson    |Seattle  |United States  |98117          |English               |Female    |NULL               |Married           |2                 |2022-03-09      |1944-10-26       |Sasha.Wilkinson@ymail.com  |369-064-7824    |40      |2020    |8        |20208         |78     |\n",
      "|453039268   |39          |1805.0         |NULL           |200548655   |15:00:00            |22:00:00          |NULL             |2020-09-24 17:04:54  |NULL         |USD               |37.0000         |NULL                |NULL                     |37.0000        |102032         |Sasha         |Wilkinson    |Seattle  |United States  |98117          |English               |Female    |NULL               |Married           |2                 |2022-03-09      |1944-10-26       |Sasha.Wilkinson@ymail.com  |369-064-7824    |62      |2020    |9        |20209         |78     |\n",
      "|453138766   |42          |4121.0         |NULL           |200549263   |15:30:00            |22:30:00          |NULL             |2020-11-25 20:13:33  |NULL         |USD               |75.0000         |NULL                |NULL                     |75.0000        |102032         |Sasha         |Wilkinson    |Seattle  |United States  |98117          |English               |Female    |NULL               |Married           |2                 |2022-03-09      |1944-10-26       |Sasha.Wilkinson@ymail.com  |369-064-7824    |28      |2020    |11       |202011        |78     |\n",
      "-----------------------------------------------------------------------------------------------------------------------------------------------------------------------------------------------------------------------------------------------------------------------------------------------------------------------------------------------------------------------------------------------------------------------------------------------------------------------------------------------------------------------------------------------------------------------------------------------\n",
      "\n"
     ]
    }
   ],
   "source": [
    "#Get last purchase date as a variable\n",
    "lastdate=orders_df.select(F.max('ORDER_TS')).first()[0]\n",
    "\n",
    "# get AGE variable\n",
    "orders_df = orders_df.withColumn(\"AGE\", F.datediff('year', F.col(\"BIRTHDAY_DATE\"),F.lit(lastdate)))\n",
    "orders_df.show()"
   ]
  },
  {
   "cell_type": "code",
   "execution_count": 75,
   "metadata": {},
   "outputs": [
    {
     "name": "stdout",
     "output_type": "stream",
     "text": [
      "----------------------------------------------------------------------------------------------------------------------------------------------------------------------------------------------------------------------------------------------------------------------------------------------------------------------------------------------------------------------------------------------------------------------------------------------------------------------------------------------------------------------------------------------------------------------------------------------------------------\n",
      "|\"ORDER_ID\"  |\"TRUCK_ID\"  |\"LOCATION_ID\"  |\"DISCOUNT_ID\"  |\"SHIFT_ID\"  |\"SHIFT_START_TIME\"  |\"SHIFT_END_TIME\"  |\"ORDER_CHANNEL\"  |\"ORDER_TS\"           |\"SERVED_TS\"  |\"ORDER_CURRENCY\"  |\"ORDER_AMOUNT\"  |\"ORDER_TAX_AMOUNT\"  |\"ORDER_DISCOUNT_AMOUNT\"  |\"ORDER_TOTAL\"  |\"CUSTOMER_ID\"  |\"FIRST_NAME\"  |\"LAST_NAME\"  |\"CITY\"         |\"COUNTRY\"      |\"POSTAL_CODE\"  |\"PREFERRED_LANGUAGE\"  |\"GENDER\"     |\"FAVOURITE_BRAND\"  |\"MARITAL_STATUS\"  |\"CHILDREN_COUNT\"  |\"SIGN_UP_DATE\"  |\"BIRTHDAY_DATE\"  |\"E_MAIL\"                 |\"PHONE_NUMBER\"  |\"DTNO\"  |\"YEAR\"  |\"MONTH\"  |\"YEAR_MONTH\"  |\"AGE\"  |\"CHURN\"  |\n",
      "----------------------------------------------------------------------------------------------------------------------------------------------------------------------------------------------------------------------------------------------------------------------------------------------------------------------------------------------------------------------------------------------------------------------------------------------------------------------------------------------------------------------------------------------------------------------------------------------------------------\n",
      "|436084537   |73          |2358.0         |NULL           |200508640   |09:00:00            |15:00:00          |NULL             |2020-02-12 10:34:31  |NULL         |USD               |55.0000         |NULL                |NULL                     |55.0000        |50392          |Kailyn        |Porter       |New York City  |United States  |11226          |English               |Undisclosed  |NULL               |Married           |1                 |2019-11-07      |1996-09-16       |Kailyn.Porter@gmail.com  |357-734-8685    |33      |2020    |2        |20202         |26     |1        |\n",
      "|436180790   |67          |1906.0         |NULL           |200508771   |15:00:00            |22:00:00          |NULL             |2020-03-16 17:04:00  |NULL         |USD               |33.0000         |NULL                |NULL                     |33.0000        |50392          |Kailyn        |Porter       |New York City  |United States  |11226          |English               |Undisclosed  |NULL               |Married           |1                 |2019-11-07      |1996-09-16       |Kailyn.Porter@gmail.com  |357-734-8685    |43      |2020    |3        |20203         |26     |1        |\n",
      "|436307739   |73          |2068.0         |NULL           |200508945   |16:00:00            |23:00:00          |NULL             |2020-04-28 16:58:15  |NULL         |USD               |13.0000         |NULL                |NULL                     |13.0000        |50392          |Kailyn        |Porter       |New York City  |United States  |11226          |English               |Undisclosed  |NULL               |Married           |1                 |2019-11-07      |1996-09-16       |Kailyn.Porter@gmail.com  |357-734-8685    |9       |2020    |4        |20204         |26     |0        |\n",
      "|436333037   |73          |5223.0         |NULL           |200508980   |08:00:00            |14:00:00          |NULL             |2020-05-07 08:24:37  |NULL         |USD               |47.0000         |NULL                |NULL                     |47.0000        |50392          |Kailyn        |Porter       |New York City  |United States  |11226          |English               |Undisclosed  |NULL               |Married           |1                 |2019-11-07      |1996-09-16       |Kailyn.Porter@gmail.com  |357-734-8685    |4       |2020    |5        |20205         |26     |0        |\n",
      "|436345439   |73          |15157.0        |NULL           |200508997   |15:00:00            |22:00:00          |NULL             |2020-05-11 15:06:47  |NULL         |USD               |12.0000         |NULL                |NULL                     |12.0000        |50392          |Kailyn        |Porter       |New York City  |United States  |11226          |English               |Undisclosed  |NULL               |Married           |1                 |2019-11-07      |1996-09-16       |Kailyn.Porter@gmail.com  |357-734-8685    |4       |2020    |5        |20205         |26     |0        |\n",
      "|436355559   |67          |3202.0         |NULL           |200509010   |08:00:00            |14:00:00          |NULL             |2020-05-15 13:08:37  |NULL         |USD               |63.0000         |NULL                |NULL                     |63.0000        |50392          |Kailyn        |Porter       |New York City  |United States  |11226          |English               |Undisclosed  |NULL               |Married           |1                 |2019-11-07      |1996-09-16       |Kailyn.Porter@gmail.com  |357-734-8685    |52      |2020    |5        |20205         |26     |1        |\n",
      "|436508473   |67          |9648.0         |NULL           |200509218   |09:00:00            |15:00:00          |NULL             |2020-07-06 11:11:01  |NULL         |USD               |23.0000         |NULL                |NULL                     |23.0000        |50392          |Kailyn        |Porter       |New York City  |United States  |11226          |English               |Undisclosed  |NULL               |Married           |1                 |2019-11-07      |1996-09-16       |Kailyn.Porter@gmail.com  |357-734-8685    |7       |2020    |7        |20207         |26     |0        |\n",
      "|436531063   |73          |5202.0         |NULL           |200509249   |15:00:00            |22:00:00          |NULL             |2020-07-13 19:50:25  |NULL         |USD               |74.0000         |NULL                |NULL                     |74.0000        |50392          |Kailyn        |Porter       |New York City  |United States  |11226          |English               |Undisclosed  |NULL               |Married           |1                 |2019-11-07      |1996-09-16       |Kailyn.Porter@gmail.com  |357-734-8685    |31      |2020    |7        |20207         |26     |1        |\n",
      "|436619737   |67          |15514.0        |NULL           |200509370   |08:30:00            |14:30:00          |NULL             |2020-08-13 11:11:05  |NULL         |USD               |7.0000          |NULL                |NULL                     |7.0000         |50392          |Kailyn        |Porter       |New York City  |United States  |11226          |English               |Undisclosed  |NULL               |Married           |1                 |2019-11-07      |1996-09-16       |Kailyn.Porter@gmail.com  |357-734-8685    |30      |2020    |8        |20208         |26     |1        |\n",
      "|436708503   |67          |3725.0         |NULL           |200509491   |15:30:00            |22:30:00          |NULL             |2020-09-12 16:35:03  |NULL         |USD               |59.0000         |NULL                |NULL                     |59.0000        |50392          |Kailyn        |Porter       |New York City  |United States  |11226          |English               |Undisclosed  |NULL               |Married           |1                 |2019-11-07      |1996-09-16       |Kailyn.Porter@gmail.com  |357-734-8685    |29      |2020    |9        |20209         |26     |1        |\n",
      "----------------------------------------------------------------------------------------------------------------------------------------------------------------------------------------------------------------------------------------------------------------------------------------------------------------------------------------------------------------------------------------------------------------------------------------------------------------------------------------------------------------------------------------------------------------------------------------------------------------\n",
      "\n"
     ]
    }
   ],
   "source": [
    "churn_YN = orders_df.with_column(\"CHURN\", F.iff(F.col(\"DTNO\") > 9, \"1\", \"0\"))\n",
    "\n",
    "churn_YN.show()"
   ]
  },
  {
   "cell_type": "code",
   "execution_count": 76,
   "metadata": {},
   "outputs": [
    {
     "name": "stdout",
     "output_type": "stream",
     "text": [
      "---------------------------------------------------------\n",
      "|\"YEAR\"  |\"MONTH\"  |\"CITY\"         |\"SUM(ORDER_TOTAL)\"  |\n",
      "---------------------------------------------------------\n",
      "|2021    |3        |New York City  |536115.5000         |\n",
      "|2019    |12       |Denver         |194667.0000         |\n",
      "|2022    |5        |Denver         |932059.2500         |\n",
      "|2022    |10       |San Mateo      |490403.5000         |\n",
      "|2022    |9        |Seattle        |694222.7500         |\n",
      "|2021    |10       |San Mateo      |580027.0000         |\n",
      "|2021    |4        |New York City  |573694.0000         |\n",
      "|2021    |12       |New York City  |796126.0000         |\n",
      "|2020    |8        |San Mateo      |210172.0000         |\n",
      "|2021    |7        |Seattle        |398261.5000         |\n",
      "---------------------------------------------------------\n",
      "\n"
     ]
    }
   ],
   "source": [
    "SUM_SALES_YM_CITY = orders_df.groupBy(F.col(\"YEAR\"),F.col(\"MONTH\"), F.col(\"CITY\")).agg(F.sum('\"ORDER_TOTAL\"'))\n",
    "SUM_SALES_YM_CITY.show()"
   ]
  },
  {
   "cell_type": "code",
   "execution_count": 77,
   "metadata": {},
   "outputs": [
    {
     "name": "stdout",
     "output_type": "stream",
     "text": [
      "----------------------------------------------------------------------------------------------\n",
      "|\"DIVIDE(SUM(CHURN), COUNT(CHURN))\"  |\"YEAR\"  |\"MONTH\"  |\"CITY\"         |\"SUM(ORDER_TOTAL)\"  |\n",
      "----------------------------------------------------------------------------------------------\n",
      "|0.5189675203313633                  |2022    |6        |Boston         |795908.0000         |\n",
      "|0.6181337427499147                  |2021    |1        |Seattle        |432131.5000         |\n",
      "|0.6507231958368409                  |2021    |3        |Denver         |540388.5000         |\n",
      "|0.5933842846907094                  |2021    |5        |Denver         |701366.0000         |\n",
      "|0.48398758133798325                 |2022    |1        |New York City  |966830.2500         |\n",
      "|0.5084762228590858                  |2022    |5        |Boston         |834712.2500         |\n",
      "|0.27111111111111114                 |2022    |10       |Seattle        |568301.0000         |\n",
      "|0.926942404329339                   |2019    |8        |San Mateo      |52814.0000          |\n",
      "|0.8392447503088054                  |2020    |9        |San Mateo      |193104.5000         |\n",
      "|0.5549023101134272                  |2021    |8        |Boston         |642713.5000         |\n",
      "----------------------------------------------------------------------------------------------\n",
      "\n"
     ]
    }
   ],
   "source": [
    "churn_rate_YM_CITY = churn_YN.group_by(F.col(\"YEAR\"), F.col(\"MONTH\"), F.col(\"CITY\")).agg(F.sum(\"CHURN\")/F.count(\"CHURN\"))\n",
    "\n",
    "churn_to_sales_CITY = churn_rate_YM_CITY.join(SUM_SALES_YM_CITY, (churn_rate_YM_CITY[\"YEAR\"] == SUM_SALES_YM_CITY[\"YEAR\"]) & (churn_rate_YM_CITY[\"MONTH\"] == SUM_SALES_YM_CITY[\"MONTH\"]) & (churn_rate_YM_CITY[\"CITY\"] == SUM_SALES_YM_CITY[\"CITY\"]), how=\"inner\")\n",
    "churn_to_sales_CITY = remove_dup_join_col(churn_to_sales_CITY)\n",
    "churn_to_sales_CITY.show()"
   ]
  },
  {
   "cell_type": "code",
   "execution_count": 78,
   "metadata": {},
   "outputs": [
    {
     "name": "stdout",
     "output_type": "stream",
     "text": [
      "------------------------------------------------------------------------------------------------------------------------------\n",
      "|\"DIVIDE(SUM(CHURN), COUNT(CHURN))\"  |\"SUM(ORDER_TOTAL)\"  |\"YEAR\"  |\"MONTH\"  |\"CITY\"         |\"COUNT(DISTINCT CUSTOMER_ID)\"  |\n",
      "------------------------------------------------------------------------------------------------------------------------------\n",
      "|0.5161159125571937                  |833850.5000         |2021    |12       |Denver         |8172                           |\n",
      "|0.49650633734156646                 |985278.7500         |2022    |8        |New York City  |9296                           |\n",
      "|0.9607376561570494                  |32390.0000          |2019    |6        |San Mateo      |1554                           |\n",
      "|0.5981267933517406                  |725403.5000         |2021    |7        |New York City  |8510                           |\n",
      "|0.47477423890120585                 |745909.2500         |2022    |3        |Seattle        |6795                           |\n",
      "|0.6422540555924485                  |405560.5000         |2020    |12       |Seattle        |5680                           |\n",
      "|0.7677127912505944                  |314105.5000         |2020    |3        |Denver         |5563                           |\n",
      "|0.7093084638395214                  |393077.0000         |2020    |9        |New York City  |6935                           |\n",
      "|0.8247579529737206                  |279131.5000         |2020    |10       |San Mateo      |5258                           |\n",
      "|0.4920137333930437                  |809689.5000         |2022    |9        |New York City  |8747                           |\n",
      "------------------------------------------------------------------------------------------------------------------------------\n",
      "\n"
     ]
    }
   ],
   "source": [
    "churn_members = churn_YN.group_by(F.col(\"YEAR\"), F.col(\"MONTH\"), F.col(\"CITY\")).agg(F.count_distinct('CUSTOMER_ID'))\n",
    "\n",
    "churn_to_sales_CITY = churn_to_sales_CITY.join(churn_members, (churn_members[\"YEAR\"] == churn_to_sales_CITY[\"YEAR\"]) & (churn_members[\"MONTH\"] == churn_to_sales_CITY[\"MONTH\"]) & (churn_members[\"CITY\"] == churn_to_sales_CITY[\"CITY\"]), how=\"inner\")\n",
    "\n",
    "churn_to_sales_new = remove_dup_join_col(churn_to_sales_CITY)\n",
    "churn_to_sales_new.show()"
   ]
  },
  {
   "cell_type": "code",
   "execution_count": 79,
   "metadata": {},
   "outputs": [
    {
     "name": "stdout",
     "output_type": "stream",
     "text": [
      "-------------------------------------------------------------------------------------------------------------------------------------------\n",
      "|\"DIVIDE(SUM(CHURN), COUNT(CHURN))\"  |\"SUM(ORDER_TOTAL)\"  |\"COUNT(DISTINCT CUSTOMER_ID)\"  |\"YEAR\"  |\"MONTH\"  |\"CITY\"         |\"AVG(AGE)\"  |\n",
      "-------------------------------------------------------------------------------------------------------------------------------------------\n",
      "|0.6762660718971398                  |580027.0000         |8204                           |2021    |10       |San Mateo      |49.332590   |\n",
      "|0.3230442593499918                  |490403.5000         |6546                           |2022    |10       |San Mateo      |49.362486   |\n",
      "|0.8215978334461747                  |194667.0000         |4388                           |2019    |12       |Denver         |49.613406   |\n",
      "|0.4690076466316374                  |932059.2500         |8504                           |2022    |5        |Denver         |49.883506   |\n",
      "|0.6542634580609265                  |536115.5000         |7769                           |2021    |3        |New York City  |49.375713   |\n",
      "|0.46136521136521136                 |694222.7500         |6657                           |2022    |9        |Seattle        |49.278067   |\n",
      "|0.7148904382470119                  |519330.0000         |7136                           |2020    |10       |New York City  |49.923307   |\n",
      "|0.6207528441627854                  |495825.0000         |7384                           |2021    |2        |New York City  |49.724364   |\n",
      "|0.7344591643616247                  |230039.5000         |4512                           |2020    |4        |Seattle        |49.399185   |\n",
      "|0.6663455362877329                  |323942.0000         |5312                           |2020    |8        |Seattle        |49.313851   |\n",
      "-------------------------------------------------------------------------------------------------------------------------------------------\n",
      "\n"
     ]
    }
   ],
   "source": [
    "member_age = churn_YN.group_by(F.col(\"YEAR\"), F.col(\"MONTH\"), F.col(\"CITY\")).agg(F.avg(\"AGE\"))\n",
    "\n",
    "churn_to_sales_new = churn_to_sales_new.join(member_age, (member_age[\"YEAR\"] == churn_to_sales_new[\"YEAR\"]) & (member_age[\"MONTH\"] == churn_to_sales_new[\"MONTH\"]) & (member_age[\"CITY\"] == churn_to_sales_new[\"CITY\"]), how=\"inner\")\n",
    "\n",
    "churn_to_sales_new = remove_dup_join_col(churn_to_sales_new)\n",
    "churn_to_sales_new.show()"
   ]
  },
  {
   "cell_type": "code",
   "execution_count": 80,
   "metadata": {},
   "outputs": [
    {
     "name": "stdout",
     "output_type": "stream",
     "text": [
      "---------------------------------------------------------------------------------------------------------------\n",
      "|\"CHURN_RATE\"         |\"SALES\"       |\"DISTINCT_CUSTOMER\"  |\"YEAR\"  |\"MONTH\"  |\"CITY\"         |\"AVERAGE_AGE\"  |\n",
      "---------------------------------------------------------------------------------------------------------------\n",
      "|0.7196962681729789   |430358.5000   |6447                 |2020    |7        |Denver         |49.912862      |\n",
      "|0.478101675820307    |855831.7500   |8284                 |2022    |9        |Denver         |49.551425      |\n",
      "|0.4285927306616962   |1085504.2500  |9400                 |2022    |7        |New York City  |49.512693      |\n",
      "|0.6455549099360837   |516319.5000   |7341                 |2021    |5        |Boston         |48.981479      |\n",
      "|0.5185103081356683   |728891.7500   |7980                 |2022    |9        |Boston         |48.884283      |\n",
      "|0.823012834947084    |182218.5000   |3356                 |2019    |12       |Seattle        |49.054042      |\n",
      "|0.4585148142173469   |752386.5000   |6755                 |2022    |7        |Seattle        |49.231758      |\n",
      "|0.9666036546943919   |30628.0000    |1496                 |2019    |3        |San Mateo      |48.713296      |\n",
      "|0.27111111111111114  |568301.0000   |5904                 |2022    |10       |Seattle        |49.395132      |\n",
      "|0.5084762228590858   |834712.2500   |8342                 |2022    |5        |Boston         |49.334532      |\n",
      "---------------------------------------------------------------------------------------------------------------\n",
      "\n"
     ]
    }
   ],
   "source": [
    "pred = churn_to_sales_new.withColumnRenamed(\"DIVIDE(SUM(CHURN), COUNT(CHURN))\",\"CHURN_RATE\")\n",
    "pred = pred.withColumnRenamed(\"SUM(ORDER_TOTAL)\", \"SALES\")\n",
    "pred = pred.withColumnRenamed(\"COUNT(DISTINCT CUSTOMER_ID)\", \"DISTINCT_CUSTOMER\")\n",
    "pred = pred.withColumnRenamed(\"AVG(AGE)\", \"AVERAGE_AGE\")\n",
    "\n",
    "pred.show()"
   ]
  },
  {
   "cell_type": "code",
   "execution_count": 81,
   "metadata": {},
   "outputs": [],
   "source": [
    "df = pred.to_pandas()"
   ]
  },
  {
   "cell_type": "code",
   "execution_count": 82,
   "metadata": {},
   "outputs": [
    {
     "data": {
      "text/html": [
       "<div>\n",
       "<style scoped>\n",
       "    .dataframe tbody tr th:only-of-type {\n",
       "        vertical-align: middle;\n",
       "    }\n",
       "\n",
       "    .dataframe tbody tr th {\n",
       "        vertical-align: top;\n",
       "    }\n",
       "\n",
       "    .dataframe thead th {\n",
       "        text-align: right;\n",
       "    }\n",
       "</style>\n",
       "<table border=\"1\" class=\"dataframe\">\n",
       "  <thead>\n",
       "    <tr style=\"text-align: right;\">\n",
       "      <th></th>\n",
       "      <th>CHURN_RATE</th>\n",
       "      <th>SALES</th>\n",
       "      <th>DISTINCT_CUSTOMER</th>\n",
       "      <th>YEAR</th>\n",
       "      <th>MONTH</th>\n",
       "      <th>CITY</th>\n",
       "      <th>AVERAGE_AGE</th>\n",
       "    </tr>\n",
       "  </thead>\n",
       "  <tbody>\n",
       "    <tr>\n",
       "      <th>0</th>\n",
       "      <td>0.469008</td>\n",
       "      <td>932059.25</td>\n",
       "      <td>8504</td>\n",
       "      <td>2022</td>\n",
       "      <td>5</td>\n",
       "      <td>Denver</td>\n",
       "      <td>49.883506</td>\n",
       "    </tr>\n",
       "    <tr>\n",
       "      <th>1</th>\n",
       "      <td>0.676266</td>\n",
       "      <td>580027.00</td>\n",
       "      <td>8204</td>\n",
       "      <td>2021</td>\n",
       "      <td>10</td>\n",
       "      <td>San Mateo</td>\n",
       "      <td>49.332590</td>\n",
       "    </tr>\n",
       "    <tr>\n",
       "      <th>2</th>\n",
       "      <td>0.461365</td>\n",
       "      <td>694222.75</td>\n",
       "      <td>6657</td>\n",
       "      <td>2022</td>\n",
       "      <td>9</td>\n",
       "      <td>Seattle</td>\n",
       "      <td>49.278067</td>\n",
       "    </tr>\n",
       "    <tr>\n",
       "      <th>3</th>\n",
       "      <td>0.821598</td>\n",
       "      <td>194667.00</td>\n",
       "      <td>4388</td>\n",
       "      <td>2019</td>\n",
       "      <td>12</td>\n",
       "      <td>Denver</td>\n",
       "      <td>49.613406</td>\n",
       "    </tr>\n",
       "    <tr>\n",
       "      <th>4</th>\n",
       "      <td>0.654263</td>\n",
       "      <td>536115.50</td>\n",
       "      <td>7769</td>\n",
       "      <td>2021</td>\n",
       "      <td>3</td>\n",
       "      <td>New York City</td>\n",
       "      <td>49.375713</td>\n",
       "    </tr>\n",
       "    <tr>\n",
       "      <th>...</th>\n",
       "      <td>...</td>\n",
       "      <td>...</td>\n",
       "      <td>...</td>\n",
       "      <td>...</td>\n",
       "      <td>...</td>\n",
       "      <td>...</td>\n",
       "      <td>...</td>\n",
       "    </tr>\n",
       "    <tr>\n",
       "      <th>189</th>\n",
       "      <td>0.930334</td>\n",
       "      <td>50654.50</td>\n",
       "      <td>2253</td>\n",
       "      <td>2019</td>\n",
       "      <td>7</td>\n",
       "      <td>San Mateo</td>\n",
       "      <td>49.489650</td>\n",
       "    </tr>\n",
       "    <tr>\n",
       "      <th>190</th>\n",
       "      <td>0.597644</td>\n",
       "      <td>701537.00</td>\n",
       "      <td>8629</td>\n",
       "      <td>2022</td>\n",
       "      <td>7</td>\n",
       "      <td>San Mateo</td>\n",
       "      <td>49.200627</td>\n",
       "    </tr>\n",
       "    <tr>\n",
       "      <th>191</th>\n",
       "      <td>0.687888</td>\n",
       "      <td>475562.00</td>\n",
       "      <td>6829</td>\n",
       "      <td>2020</td>\n",
       "      <td>12</td>\n",
       "      <td>Boston</td>\n",
       "      <td>49.407567</td>\n",
       "    </tr>\n",
       "    <tr>\n",
       "      <th>192</th>\n",
       "      <td>0.761827</td>\n",
       "      <td>315791.00</td>\n",
       "      <td>6092</td>\n",
       "      <td>2020</td>\n",
       "      <td>4</td>\n",
       "      <td>New York City</td>\n",
       "      <td>49.455682</td>\n",
       "    </tr>\n",
       "    <tr>\n",
       "      <th>193</th>\n",
       "      <td>0.836338</td>\n",
       "      <td>172150.00</td>\n",
       "      <td>3256</td>\n",
       "      <td>2019</td>\n",
       "      <td>11</td>\n",
       "      <td>Seattle</td>\n",
       "      <td>48.959494</td>\n",
       "    </tr>\n",
       "  </tbody>\n",
       "</table>\n",
       "<p>194 rows × 7 columns</p>\n",
       "</div>"
      ],
      "text/plain": [
       "     CHURN_RATE      SALES  DISTINCT_CUSTOMER  YEAR  MONTH           CITY  \\\n",
       "0      0.469008  932059.25               8504  2022      5         Denver   \n",
       "1      0.676266  580027.00               8204  2021     10      San Mateo   \n",
       "2      0.461365  694222.75               6657  2022      9        Seattle   \n",
       "3      0.821598  194667.00               4388  2019     12         Denver   \n",
       "4      0.654263  536115.50               7769  2021      3  New York City   \n",
       "..          ...        ...                ...   ...    ...            ...   \n",
       "189    0.930334   50654.50               2253  2019      7      San Mateo   \n",
       "190    0.597644  701537.00               8629  2022      7      San Mateo   \n",
       "191    0.687888  475562.00               6829  2020     12         Boston   \n",
       "192    0.761827  315791.00               6092  2020      4  New York City   \n",
       "193    0.836338  172150.00               3256  2019     11        Seattle   \n",
       "\n",
       "    AVERAGE_AGE  \n",
       "0     49.883506  \n",
       "1     49.332590  \n",
       "2     49.278067  \n",
       "3     49.613406  \n",
       "4     49.375713  \n",
       "..          ...  \n",
       "189   49.489650  \n",
       "190   49.200627  \n",
       "191   49.407567  \n",
       "192   49.455682  \n",
       "193   48.959494  \n",
       "\n",
       "[194 rows x 7 columns]"
      ]
     },
     "execution_count": 82,
     "metadata": {},
     "output_type": "execute_result"
    }
   ],
   "source": [
    "df"
   ]
  },
  {
   "cell_type": "code",
   "execution_count": 90,
   "metadata": {},
   "outputs": [],
   "source": [
    "from sklearn.linear_model import LinearRegression\n",
    "from sklearn.model_selection import train_test_split"
   ]
  },
  {
   "cell_type": "code",
   "execution_count": 87,
   "metadata": {},
   "outputs": [
    {
     "data": {
      "text/html": [
       "<div>\n",
       "<style scoped>\n",
       "    .dataframe tbody tr th:only-of-type {\n",
       "        vertical-align: middle;\n",
       "    }\n",
       "\n",
       "    .dataframe tbody tr th {\n",
       "        vertical-align: top;\n",
       "    }\n",
       "\n",
       "    .dataframe thead th {\n",
       "        text-align: right;\n",
       "    }\n",
       "</style>\n",
       "<table border=\"1\" class=\"dataframe\">\n",
       "  <thead>\n",
       "    <tr style=\"text-align: right;\">\n",
       "      <th></th>\n",
       "      <th>CHURN_RATE</th>\n",
       "      <th>SALES</th>\n",
       "      <th>DISTINCT_CUSTOMER</th>\n",
       "      <th>YEAR</th>\n",
       "      <th>MONTH</th>\n",
       "      <th>AVERAGE_AGE</th>\n",
       "    </tr>\n",
       "  </thead>\n",
       "  <tbody>\n",
       "    <tr>\n",
       "      <th>0</th>\n",
       "      <td>0.469008</td>\n",
       "      <td>932059.25</td>\n",
       "      <td>8504</td>\n",
       "      <td>2022</td>\n",
       "      <td>5</td>\n",
       "      <td>49.883506</td>\n",
       "    </tr>\n",
       "    <tr>\n",
       "      <th>1</th>\n",
       "      <td>0.676266</td>\n",
       "      <td>580027.00</td>\n",
       "      <td>8204</td>\n",
       "      <td>2021</td>\n",
       "      <td>10</td>\n",
       "      <td>49.332590</td>\n",
       "    </tr>\n",
       "    <tr>\n",
       "      <th>2</th>\n",
       "      <td>0.461365</td>\n",
       "      <td>694222.75</td>\n",
       "      <td>6657</td>\n",
       "      <td>2022</td>\n",
       "      <td>9</td>\n",
       "      <td>49.278067</td>\n",
       "    </tr>\n",
       "    <tr>\n",
       "      <th>3</th>\n",
       "      <td>0.821598</td>\n",
       "      <td>194667.00</td>\n",
       "      <td>4388</td>\n",
       "      <td>2019</td>\n",
       "      <td>12</td>\n",
       "      <td>49.613406</td>\n",
       "    </tr>\n",
       "    <tr>\n",
       "      <th>4</th>\n",
       "      <td>0.654263</td>\n",
       "      <td>536115.50</td>\n",
       "      <td>7769</td>\n",
       "      <td>2021</td>\n",
       "      <td>3</td>\n",
       "      <td>49.375713</td>\n",
       "    </tr>\n",
       "    <tr>\n",
       "      <th>...</th>\n",
       "      <td>...</td>\n",
       "      <td>...</td>\n",
       "      <td>...</td>\n",
       "      <td>...</td>\n",
       "      <td>...</td>\n",
       "      <td>...</td>\n",
       "    </tr>\n",
       "    <tr>\n",
       "      <th>189</th>\n",
       "      <td>0.930334</td>\n",
       "      <td>50654.50</td>\n",
       "      <td>2253</td>\n",
       "      <td>2019</td>\n",
       "      <td>7</td>\n",
       "      <td>49.489650</td>\n",
       "    </tr>\n",
       "    <tr>\n",
       "      <th>190</th>\n",
       "      <td>0.597644</td>\n",
       "      <td>701537.00</td>\n",
       "      <td>8629</td>\n",
       "      <td>2022</td>\n",
       "      <td>7</td>\n",
       "      <td>49.200627</td>\n",
       "    </tr>\n",
       "    <tr>\n",
       "      <th>191</th>\n",
       "      <td>0.687888</td>\n",
       "      <td>475562.00</td>\n",
       "      <td>6829</td>\n",
       "      <td>2020</td>\n",
       "      <td>12</td>\n",
       "      <td>49.407567</td>\n",
       "    </tr>\n",
       "    <tr>\n",
       "      <th>192</th>\n",
       "      <td>0.761827</td>\n",
       "      <td>315791.00</td>\n",
       "      <td>6092</td>\n",
       "      <td>2020</td>\n",
       "      <td>4</td>\n",
       "      <td>49.455682</td>\n",
       "    </tr>\n",
       "    <tr>\n",
       "      <th>193</th>\n",
       "      <td>0.836338</td>\n",
       "      <td>172150.00</td>\n",
       "      <td>3256</td>\n",
       "      <td>2019</td>\n",
       "      <td>11</td>\n",
       "      <td>48.959494</td>\n",
       "    </tr>\n",
       "  </tbody>\n",
       "</table>\n",
       "<p>194 rows × 6 columns</p>\n",
       "</div>"
      ],
      "text/plain": [
       "     CHURN_RATE      SALES  DISTINCT_CUSTOMER  YEAR  MONTH AVERAGE_AGE\n",
       "0      0.469008  932059.25               8504  2022      5   49.883506\n",
       "1      0.676266  580027.00               8204  2021     10   49.332590\n",
       "2      0.461365  694222.75               6657  2022      9   49.278067\n",
       "3      0.821598  194667.00               4388  2019     12   49.613406\n",
       "4      0.654263  536115.50               7769  2021      3   49.375713\n",
       "..          ...        ...                ...   ...    ...         ...\n",
       "189    0.930334   50654.50               2253  2019      7   49.489650\n",
       "190    0.597644  701537.00               8629  2022      7   49.200627\n",
       "191    0.687888  475562.00               6829  2020     12   49.407567\n",
       "192    0.761827  315791.00               6092  2020      4   49.455682\n",
       "193    0.836338  172150.00               3256  2019     11   48.959494\n",
       "\n",
       "[194 rows x 6 columns]"
      ]
     },
     "execution_count": 87,
     "metadata": {},
     "output_type": "execute_result"
    }
   ],
   "source": [
    "df = df.drop(axis=1, columns=\"CITY\")\n",
    "df"
   ]
  },
  {
   "cell_type": "code",
   "execution_count": 91,
   "metadata": {},
   "outputs": [],
   "source": [
    "train_x = df.drop(axis=1, columns=[\"SALES\", \"YEAR\"])\n",
    "train_y = df[\"SALES\"]\n",
    "\n",
    "X_train, X_test, y_train, y_test = train_test_split(train_x, train_y, test_size=0.3, random_state=10)"
   ]
  },
  {
   "cell_type": "code",
   "execution_count": 94,
   "metadata": {},
   "outputs": [
    {
     "name": "stdout",
     "output_type": "stream",
     "text": [
      "69948.93045674295 (Train RMSE)\n",
      "0.9255714867910557 (Train R^2 Value)\n"
     ]
    }
   ],
   "source": [
    "from math import sqrt\n",
    "from sklearn.metrics import mean_squared_error\n",
    "\n",
    "LR = LinearRegression()\n",
    "LR.fit(X_train, y_train)\n",
    "\n",
    "y_fitted = LR.predict(X_train)\n",
    "print(sqrt(mean_squared_error(y_fitted, y_train)), '(Train RMSE)') # the lower the better\n",
    "print(LR.score(X_train, y_train), '(Train R^2 Value)') # higher better"
   ]
  },
  {
   "cell_type": "code",
   "execution_count": 95,
   "metadata": {},
   "outputs": [
    {
     "name": "stdout",
     "output_type": "stream",
     "text": [
      "93039.09927575946 (Test RMSE)\n",
      "0.8946651190403448 (Test R^2 Value)\n"
     ]
    }
   ],
   "source": [
    "y_fitted2 = LR.predict(X_test)\n",
    "print(sqrt(mean_squared_error(y_fitted2, y_test)), '(Test RMSE)') # the lower the better\n",
    "print(LR.score(X_test, y_test), '(Test R^2 Value)') # higher better"
   ]
  },
  {
   "cell_type": "code",
   "execution_count": 98,
   "metadata": {},
   "outputs": [
    {
     "data": {
      "text/plain": [
       "array([-7.38158153e+05,  7.36264000e+01,  2.58992191e+03,  3.18397288e+04])"
      ]
     },
     "execution_count": 98,
     "metadata": {},
     "output_type": "execute_result"
    }
   ],
   "source": [
    "# Coefficients of the logistic regression model\n",
    "coefficients = LR.coef_\n",
    "coefficients"
   ]
  }
 ],
 "metadata": {
  "kernelspec": {
   "display_name": "py38_env",
   "language": "python",
   "name": "python3"
  },
  "language_info": {
   "codemirror_mode": {
    "name": "ipython",
    "version": 3
   },
   "file_extension": ".py",
   "mimetype": "text/x-python",
   "name": "python",
   "nbconvert_exporter": "python",
   "pygments_lexer": "ipython3",
   "version": "3.8.16"
  },
  "orig_nbformat": 4
 },
 "nbformat": 4,
 "nbformat_minor": 2
}
