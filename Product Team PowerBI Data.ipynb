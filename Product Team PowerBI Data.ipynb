{
 "cells": [
  {
   "cell_type": "code",
   "execution_count": 94,
   "metadata": {},
   "outputs": [],
   "source": [
    "# IMPORT STATEMENTS\n",
    "\n",
    "#Import Python packages\n",
    "import pandas as pd\n",
    "import json\n",
    "import matplotlib.pyplot as plt\n",
    "import numpy as np\n",
    "import ast\n",
    "\n",
    "# Import Snowflake modules\n",
    "from snowflake.snowpark import Session, DataFrame\n",
    "from pyspark.sql.functions import year\n",
    "import snowflake.snowpark.functions as F\n",
    "from snowflake.snowpark.types import *\n",
    "\n",
    "# import matplotlib and seaborn to plot charts and graphs\n",
    "import matplotlib.pyplot as plt\n",
    "import seaborn as sns"
   ]
  },
  {
   "cell_type": "code",
   "execution_count": 95,
   "metadata": {},
   "outputs": [],
   "source": [
    "# Get account credentials from a json file\n",
    "with open(\"data_scientist_auth.json\") as f:\n",
    "    data = json.load(f)\n",
    "    username = data[\"username\"]\n",
    "    password = data[\"password\"]\n",
    "    account = data[\"account\"]\n",
    "\n",
    "# Specify connection parameters\n",
    "connection_parameters = {\n",
    "    \"account\": account,\n",
    "    \"user\": username,\n",
    "    \"password\": password,\n",
    "    \"role\": \"TASTY_BI\",\n",
    "    \"warehouse\": \"TASTY_BI_WH\",\n",
    "    \"database\": \"frostbyte_tasty_bytes\",\n",
    "    \"schema\": \"raw_pos\",\n",
    "}\n",
    "\n",
    "# Create Snowpark session\n",
    "session = Session.builder.configs(connection_parameters).create()"
   ]
  },
  {
   "cell_type": "code",
   "execution_count": 96,
   "metadata": {},
   "outputs": [],
   "source": [
    "# retrieve order details usa table from snowflake\n",
    "order_detail = session.table(\"frostbyte_tasty_bytes.raw_pos.ORDER_DETAIL\")\n",
    "order_header = session.table(\"frostbyte_tasty_bytes.raw_pos.ORDER_HEADER\")\n",
    "location_table = session.table(\"frostbyte_tasty_bytes.raw_pos.LOCATION\")\n",
    "menu_table = session.table(\"frostbyte_tasty_bytes.raw_pos.MENU\")"
   ]
  },
  {
   "cell_type": "code",
   "execution_count": 97,
   "metadata": {},
   "outputs": [],
   "source": [
    "# Get a list of LOCATION_IDs where the COUNTRY column's value is 'United States'\n",
    "## Filter the 'location_table' where the 'COUNTRY' column is 'United States'\n",
    "filtered_location_table = location_table.filter(location_table['COUNTRY'] == 'United States')\n",
    "\n",
    "## Select the 'LOCATION_ID' column from the filtered DataFrame\n",
    "location_id_df = filtered_location_table.select('LOCATION_ID')\n",
    "\n",
    "## Convert the 'LOCATION_ID' column to a Python list\n",
    "location_id_list = location_id_df.collect()\n",
    "\n",
    "## Extract the values from the DataFrame and convert them to a list\n",
    "location_id_list = [row['LOCATION_ID'] for row in location_id_list]"
   ]
  },
  {
   "cell_type": "code",
   "execution_count": 98,
   "metadata": {},
   "outputs": [],
   "source": [
    "# Merge the two tables using the 'ORDER_ID' column as the common key\n",
    "merged_df = order_detail.join(order_header, on='ORDER_ID', how='inner')"
   ]
  },
  {
   "cell_type": "code",
   "execution_count": 99,
   "metadata": {},
   "outputs": [],
   "source": [
    "# Get rows where the LOCATION_ID is for United States\n",
    "merged_df = merged_df.filter(F.col('LOCATION_ID').isin(location_id_list))"
   ]
  },
  {
   "cell_type": "code",
   "execution_count": 100,
   "metadata": {},
   "outputs": [
    {
     "name": "stdout",
     "output_type": "stream",
     "text": [
      "-------------------------------------------------------------------------------------------------------------------------------------------------------------------------------------------------------------------------------------------------------------------------------------------------------------------------------------------------------------------------------------------------------------------------------------------------\n",
      "|\"ORDER_ID\"  |\"ORDER_DETAIL_ID\"  |\"MENU_ITEM_ID\"  |\"l_9928_DISCOUNT_ID\"  |\"LINE_NUMBER\"  |\"QUANTITY\"  |\"UNIT_PRICE\"  |\"PRICE\"  |\"ORDER_ITEM_DISCOUNT_AMOUNT\"  |\"TRUCK_ID\"  |\"LOCATION_ID\"  |\"CUSTOMER_ID\"  |\"r_s599_DISCOUNT_ID\"  |\"SHIFT_ID\"  |\"SHIFT_START_TIME\"  |\"SHIFT_END_TIME\"  |\"ORDER_CHANNEL\"  |\"ORDER_TS\"           |\"SERVED_TS\"  |\"ORDER_CURRENCY\"  |\"ORDER_AMOUNT\"  |\"ORDER_TAX_AMOUNT\"  |\"ORDER_DISCOUNT_AMOUNT\"  |\"ORDER_TOTAL\"  |\n",
      "-------------------------------------------------------------------------------------------------------------------------------------------------------------------------------------------------------------------------------------------------------------------------------------------------------------------------------------------------------------------------------------------------------------------------------------------------\n",
      "|440500502   |852793976          |81              |NULL                  |0              |2           |12.0000       |24.0000  |NULL                          |68          |3161.0         |79190          |NULL                  |200514628   |08:00:00            |14:00:00          |NULL             |2021-09-10 11:49:25  |NULL         |USD               |53.0000         |NULL                |NULL                     |53.0000        |\n",
      "|440500502   |852793980          |85              |NULL                  |4              |1           |3.0000        |3.0000   |NULL                          |68          |3161.0         |79190          |NULL                  |200514628   |08:00:00            |14:00:00          |NULL             |2021-09-10 11:49:25  |NULL         |USD               |53.0000         |NULL                |NULL                     |53.0000        |\n",
      "|440500502   |852793979          |84              |NULL                  |3              |1           |2.0000        |2.0000   |NULL                          |68          |3161.0         |79190          |NULL                  |200514628   |08:00:00            |14:00:00          |NULL             |2021-09-10 11:49:25  |NULL         |USD               |53.0000         |NULL                |NULL                     |53.0000        |\n",
      "|440500502   |852793977          |82              |NULL                  |1              |1           |15.0000       |15.0000  |NULL                          |68          |3161.0         |79190          |NULL                  |200514628   |08:00:00            |14:00:00          |NULL             |2021-09-10 11:49:25  |NULL         |USD               |53.0000         |NULL                |NULL                     |53.0000        |\n",
      "|440500502   |852793978          |83              |NULL                  |2              |1           |9.0000        |9.0000   |NULL                          |68          |3161.0         |79190          |NULL                  |200514628   |08:00:00            |14:00:00          |NULL             |2021-09-10 11:49:25  |NULL         |USD               |53.0000         |NULL                |NULL                     |53.0000        |\n",
      "|440500504   |852793984          |85              |NULL                  |2              |1           |3.0000        |3.0000   |NULL                          |68          |3161.0         |NULL           |NULL                  |200514628   |08:00:00            |14:00:00          |NULL             |2021-09-10 11:50:48  |NULL         |USD               |75.0000         |NULL                |NULL                     |75.0000        |\n",
      "|440500504   |852793983          |82              |NULL                  |1              |4           |15.0000       |60.0000  |NULL                          |68          |3161.0         |NULL           |NULL                  |200514628   |08:00:00            |14:00:00          |NULL             |2021-09-10 11:50:48  |NULL         |USD               |75.0000         |NULL                |NULL                     |75.0000        |\n",
      "|440500504   |852793982          |81              |NULL                  |0              |1           |12.0000       |12.0000  |NULL                          |68          |3161.0         |NULL           |NULL                  |200514628   |08:00:00            |14:00:00          |NULL             |2021-09-10 11:50:48  |NULL         |USD               |75.0000         |NULL                |NULL                     |75.0000        |\n",
      "|440500529   |852794059          |83              |NULL                  |1              |1           |9.0000        |9.0000   |NULL                          |68          |3161.0         |NULL           |NULL                  |200514628   |08:00:00            |14:00:00          |NULL             |2021-09-10 11:58:08  |NULL         |USD               |24.0000         |NULL                |NULL                     |24.0000        |\n",
      "|440500529   |852794058          |82              |NULL                  |0              |1           |15.0000       |15.0000  |NULL                          |68          |3161.0         |NULL           |NULL                  |200514628   |08:00:00            |14:00:00          |NULL             |2021-09-10 11:58:08  |NULL         |USD               |24.0000         |NULL                |NULL                     |24.0000        |\n",
      "-------------------------------------------------------------------------------------------------------------------------------------------------------------------------------------------------------------------------------------------------------------------------------------------------------------------------------------------------------------------------------------------------------------------------------------------------\n",
      "\n"
     ]
    }
   ],
   "source": [
    "merged_df.show()"
   ]
  },
  {
   "cell_type": "code",
   "execution_count": 101,
   "metadata": {},
   "outputs": [],
   "source": [
    "final_df = merged_df.select(\"MENU_ITEM_ID\", \"ORDER_ID\", \"QUANTITY\", \"UNIT_PRICE\", \"PRICE\", \"ORDER_TS\", \"ORDER_TOTAL\")"
   ]
  },
  {
   "cell_type": "code",
   "execution_count": 102,
   "metadata": {},
   "outputs": [
    {
     "name": "stdout",
     "output_type": "stream",
     "text": [
      "-----------------------------------------------------------------------------------------------------------\n",
      "|\"MENU_ITEM_ID\"  |\"ORDER_ID\"  |\"QUANTITY\"  |\"UNIT_PRICE\"  |\"PRICE\"  |\"ORDER_TS\"           |\"ORDER_TOTAL\"  |\n",
      "-----------------------------------------------------------------------------------------------------------\n",
      "|106             |456679686   |1           |3.0000        |3.0000   |2020-11-28 16:18:38  |67.0000        |\n",
      "|106             |456679687   |3           |3.0000        |9.0000   |2020-11-28 16:20:53  |64.0000        |\n",
      "|105             |456679687   |1           |3.0000        |3.0000   |2020-11-28 16:20:53  |64.0000        |\n",
      "|103             |456679687   |1           |10.0000       |10.0000  |2020-11-28 16:20:53  |64.0000        |\n",
      "|101             |456679687   |3           |8.0000        |24.0000  |2020-11-28 16:20:53  |64.0000        |\n",
      "|102             |456679687   |2           |9.0000        |18.0000  |2020-11-28 16:20:53  |64.0000        |\n",
      "|103             |456679688   |1           |10.0000       |10.0000  |2020-11-28 16:22:12  |10.0000        |\n",
      "|102             |456679689   |1           |9.0000        |9.0000   |2020-11-28 16:32:55  |9.0000         |\n",
      "|104             |456679690   |1           |2.0000        |2.0000   |2020-11-28 17:01:16  |48.0000        |\n",
      "|105             |456679690   |1           |3.0000        |3.0000   |2020-11-28 17:01:16  |48.0000        |\n",
      "-----------------------------------------------------------------------------------------------------------\n",
      "\n"
     ]
    }
   ],
   "source": [
    "final_df.show()"
   ]
  },
  {
   "cell_type": "code",
   "execution_count": 103,
   "metadata": {},
   "outputs": [],
   "source": [
    "final_df = final_df.to_pandas()"
   ]
  },
  {
   "cell_type": "code",
   "execution_count": 104,
   "metadata": {},
   "outputs": [
    {
     "data": {
      "text/html": [
       "<div>\n",
       "<style scoped>\n",
       "    .dataframe tbody tr th:only-of-type {\n",
       "        vertical-align: middle;\n",
       "    }\n",
       "\n",
       "    .dataframe tbody tr th {\n",
       "        vertical-align: top;\n",
       "    }\n",
       "\n",
       "    .dataframe thead th {\n",
       "        text-align: right;\n",
       "    }\n",
       "</style>\n",
       "<table border=\"1\" class=\"dataframe\">\n",
       "  <thead>\n",
       "    <tr style=\"text-align: right;\">\n",
       "      <th></th>\n",
       "      <th>MENU_ITEM_ID</th>\n",
       "      <th>ORDER_ID</th>\n",
       "      <th>QUANTITY</th>\n",
       "      <th>UNIT_PRICE</th>\n",
       "      <th>PRICE</th>\n",
       "      <th>ORDER_TS</th>\n",
       "      <th>ORDER_TOTAL</th>\n",
       "    </tr>\n",
       "  </thead>\n",
       "  <tbody>\n",
       "    <tr>\n",
       "      <th>0</th>\n",
       "      <td>43</td>\n",
       "      <td>438422784</td>\n",
       "      <td>1</td>\n",
       "      <td>15.0</td>\n",
       "      <td>15.0</td>\n",
       "      <td>2021-04-15 19:59:23</td>\n",
       "      <td>28.0</td>\n",
       "    </tr>\n",
       "    <tr>\n",
       "      <th>1</th>\n",
       "      <td>41</td>\n",
       "      <td>438422785</td>\n",
       "      <td>4</td>\n",
       "      <td>8.0</td>\n",
       "      <td>32.0</td>\n",
       "      <td>2021-04-15 20:01:21</td>\n",
       "      <td>92.0</td>\n",
       "    </tr>\n",
       "    <tr>\n",
       "      <th>2</th>\n",
       "      <td>42</td>\n",
       "      <td>438422785</td>\n",
       "      <td>1</td>\n",
       "      <td>10.0</td>\n",
       "      <td>10.0</td>\n",
       "      <td>2021-04-15 20:01:21</td>\n",
       "      <td>92.0</td>\n",
       "    </tr>\n",
       "    <tr>\n",
       "      <th>3</th>\n",
       "      <td>43</td>\n",
       "      <td>438422785</td>\n",
       "      <td>3</td>\n",
       "      <td>15.0</td>\n",
       "      <td>45.0</td>\n",
       "      <td>2021-04-15 20:01:21</td>\n",
       "      <td>92.0</td>\n",
       "    </tr>\n",
       "    <tr>\n",
       "      <th>4</th>\n",
       "      <td>44</td>\n",
       "      <td>438422785</td>\n",
       "      <td>1</td>\n",
       "      <td>2.0</td>\n",
       "      <td>2.0</td>\n",
       "      <td>2021-04-15 20:01:21</td>\n",
       "      <td>92.0</td>\n",
       "    </tr>\n",
       "    <tr>\n",
       "      <th>...</th>\n",
       "      <td>...</td>\n",
       "      <td>...</td>\n",
       "      <td>...</td>\n",
       "      <td>...</td>\n",
       "      <td>...</td>\n",
       "      <td>...</td>\n",
       "      <td>...</td>\n",
       "    </tr>\n",
       "    <tr>\n",
       "      <th>65483023</th>\n",
       "      <td>151</td>\n",
       "      <td>447755751</td>\n",
       "      <td>3</td>\n",
       "      <td>11.0</td>\n",
       "      <td>33.0</td>\n",
       "      <td>2022-09-21 09:14:12</td>\n",
       "      <td>66.0</td>\n",
       "    </tr>\n",
       "    <tr>\n",
       "      <th>65483024</th>\n",
       "      <td>152</td>\n",
       "      <td>447755752</td>\n",
       "      <td>2</td>\n",
       "      <td>11.0</td>\n",
       "      <td>22.0</td>\n",
       "      <td>2022-09-21 09:15:24</td>\n",
       "      <td>36.0</td>\n",
       "    </tr>\n",
       "    <tr>\n",
       "      <th>65483025</th>\n",
       "      <td>153</td>\n",
       "      <td>447755752</td>\n",
       "      <td>1</td>\n",
       "      <td>11.0</td>\n",
       "      <td>11.0</td>\n",
       "      <td>2022-09-21 09:15:24</td>\n",
       "      <td>36.0</td>\n",
       "    </tr>\n",
       "    <tr>\n",
       "      <th>65483026</th>\n",
       "      <td>155</td>\n",
       "      <td>447755752</td>\n",
       "      <td>1</td>\n",
       "      <td>3.0</td>\n",
       "      <td>3.0</td>\n",
       "      <td>2022-09-21 09:15:24</td>\n",
       "      <td>36.0</td>\n",
       "    </tr>\n",
       "    <tr>\n",
       "      <th>65483027</th>\n",
       "      <td>153</td>\n",
       "      <td>447755753</td>\n",
       "      <td>1</td>\n",
       "      <td>11.0</td>\n",
       "      <td>11.0</td>\n",
       "      <td>2022-09-21 09:17:21</td>\n",
       "      <td>11.0</td>\n",
       "    </tr>\n",
       "  </tbody>\n",
       "</table>\n",
       "<p>65483028 rows × 7 columns</p>\n",
       "</div>"
      ],
      "text/plain": [
       "          MENU_ITEM_ID   ORDER_ID  QUANTITY  UNIT_PRICE  PRICE  \\\n",
       "0                   43  438422784         1        15.0   15.0   \n",
       "1                   41  438422785         4         8.0   32.0   \n",
       "2                   42  438422785         1        10.0   10.0   \n",
       "3                   43  438422785         3        15.0   45.0   \n",
       "4                   44  438422785         1         2.0    2.0   \n",
       "...                ...        ...       ...         ...    ...   \n",
       "65483023           151  447755751         3        11.0   33.0   \n",
       "65483024           152  447755752         2        11.0   22.0   \n",
       "65483025           153  447755752         1        11.0   11.0   \n",
       "65483026           155  447755752         1         3.0    3.0   \n",
       "65483027           153  447755753         1        11.0   11.0   \n",
       "\n",
       "                    ORDER_TS  ORDER_TOTAL  \n",
       "0        2021-04-15 19:59:23         28.0  \n",
       "1        2021-04-15 20:01:21         92.0  \n",
       "2        2021-04-15 20:01:21         92.0  \n",
       "3        2021-04-15 20:01:21         92.0  \n",
       "4        2021-04-15 20:01:21         92.0  \n",
       "...                      ...          ...  \n",
       "65483023 2022-09-21 09:14:12         66.0  \n",
       "65483024 2022-09-21 09:15:24         36.0  \n",
       "65483025 2022-09-21 09:15:24         36.0  \n",
       "65483026 2022-09-21 09:15:24         36.0  \n",
       "65483027 2022-09-21 09:17:21         11.0  \n",
       "\n",
       "[65483028 rows x 7 columns]"
      ]
     },
     "execution_count": 104,
     "metadata": {},
     "output_type": "execute_result"
    }
   ],
   "source": [
    "final_df"
   ]
  },
  {
   "cell_type": "code",
   "execution_count": 105,
   "metadata": {},
   "outputs": [],
   "source": [
    "final_df.to_csv('C:/Users/donsu/Downloads/product_team_orders_info.csv', index=False)"
   ]
  },
  {
   "cell_type": "code",
   "execution_count": 106,
   "metadata": {},
   "outputs": [],
   "source": [
    "# Get the unique values from the \"MENU_ITEM_ID\" column\n",
    "unique_menu_item_ids = final_df[\"MENU_ITEM_ID\"].unique().tolist()"
   ]
  },
  {
   "cell_type": "code",
   "execution_count": 107,
   "metadata": {},
   "outputs": [],
   "source": [
    "menu_df = menu_table.to_pandas()"
   ]
  },
  {
   "cell_type": "code",
   "execution_count": 108,
   "metadata": {},
   "outputs": [],
   "source": [
    "# Convert unique_menu_item_ids to a set for faster lookup\n",
    "unique_menu_item_ids_set = set(unique_menu_item_ids)\n",
    "\n",
    "# Filter the menu_df DataFrame\n",
    "menu_df = menu_df[menu_df[\"MENU_ITEM_ID\"].isin(unique_menu_item_ids_set)]"
   ]
  },
  {
   "cell_type": "code",
   "execution_count": 109,
   "metadata": {},
   "outputs": [],
   "source": [
    "# Convert the string JSON data to a nested dictionary\n",
    "menu_df['MENU_ITEM_HEALTH_METRICS_OBJ'] = menu_df['MENU_ITEM_HEALTH_METRICS_OBJ'].apply(ast.literal_eval)\n",
    "\n",
    "# Use json_normalize to flatten the nested JSON data\n",
    "menu_item_metrics = pd.json_normalize(menu_df['MENU_ITEM_HEALTH_METRICS_OBJ'], record_path='menu_item_health_metrics')\n",
    "\n",
    "# Rename the columns\n",
    "menu_item_metrics = menu_item_metrics.rename(columns={\n",
    "    'is_dairy_free_flag': 'DAIRY_FREE',\n",
    "    'is_gluten_free_flag': 'GLUTEN_FREE',\n",
    "    'is_healthy_flag': 'HEALTHY',\n",
    "    'is_nut_free_flag': 'NUT_FREE'\n",
    "})\n",
    "\n",
    "# Replace 'Y' with 'Yes' and 'N' with 'No' in the DataFrame\n",
    "menu_item_metrics = menu_item_metrics.replace({'Y': 1, 'N': 0})\n",
    "\n",
    "# Concatenate the flattened DataFrame with the original DataFrame\n",
    "menu_df = pd.concat([menu_df, menu_item_metrics], axis=1)\n",
    "\n",
    "# Drop the original 'MENU_ITEM_HEALTH_METRICS_OBJ' and 'ingredients' column \n",
    "menu_df = menu_df.drop(columns=['MENU_ITEM_HEALTH_METRICS_OBJ', 'ingredients'])"
   ]
  },
  {
   "cell_type": "code",
   "execution_count": 110,
   "metadata": {},
   "outputs": [],
   "source": [
    "menu_df.to_csv('C:/Users/donsu/Downloads/product_team_menu_info.csv', index=False)"
   ]
  },
  {
   "cell_type": "code",
   "execution_count": 111,
   "metadata": {},
   "outputs": [],
   "source": [
    "# # Merge 'menu_filtered_df' and 'final_df' on the common column 'MENU_ITEM_ID'\n",
    "# final_merged_df = pd.merge(menu_df, final_df, on='MENU_ITEM_ID', how='inner')"
   ]
  },
  {
   "cell_type": "code",
   "execution_count": 112,
   "metadata": {},
   "outputs": [],
   "source": [
    "# # Assuming 'ORDER_TS' column is in datetime format\n",
    "# final_merged_df['YEAR'] = final_merged_df['ORDER_TS'].dt.year\n",
    "# final_merged_df['MONTH'] = final_merged_df['ORDER_TS'].dt.month"
   ]
  },
  {
   "cell_type": "code",
   "execution_count": 113,
   "metadata": {},
   "outputs": [],
   "source": [
    "# final_merged_df.head()"
   ]
  },
  {
   "cell_type": "code",
   "execution_count": 115,
   "metadata": {},
   "outputs": [
    {
     "data": {
      "text/plain": [
       "947663807.75"
      ]
     },
     "execution_count": 115,
     "metadata": {},
     "output_type": "execute_result"
    }
   ],
   "source": [
    "final_df[\"PRICE\"].sum()"
   ]
  }
 ],
 "metadata": {
  "kernelspec": {
   "display_name": "py38_env",
   "language": "python",
   "name": "python3"
  },
  "language_info": {
   "codemirror_mode": {
    "name": "ipython",
    "version": 3
   },
   "file_extension": ".py",
   "mimetype": "text/x-python",
   "name": "python",
   "nbconvert_exporter": "python",
   "pygments_lexer": "ipython3",
   "version": "3.8.16"
  },
  "orig_nbformat": 4
 },
 "nbformat": 4,
 "nbformat_minor": 2
}
