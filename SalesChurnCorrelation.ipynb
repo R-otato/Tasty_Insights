{
 "cells": [
  {
   "cell_type": "code",
   "execution_count": 1,
   "metadata": {},
   "outputs": [],
   "source": [
    "#Import Python packages\n",
    "import pandas as pd\n",
    "import json\n",
    "import matplotlib.pyplot as plt\n",
    "import seaborn as sns\n",
    "import json\n",
    "import datetime\n",
    "\n",
    "# Import Snowflake modules\n",
    "from snowflake.snowpark import Session\n",
    "import snowflake.snowpark.functions as F\n",
    "import snowflake.snowpark.types as T\n",
    "from snowflake.snowpark import Window"
   ]
  },
  {
   "cell_type": "code",
   "execution_count": 2,
   "metadata": {},
   "outputs": [],
   "source": [
    "# Get account credentials from a json file\n",
    "with open(\"data_scientist_auth.json\") as f:\n",
    "    data = json.load(f)\n",
    "    username = data[\"username\"]\n",
    "    password = data[\"password\"]\n",
    "    account = data[\"account\"]\n",
    "\n",
    "# Specify connection parameters\n",
    "connection_parameters = {\n",
    "    \"account\": account,\n",
    "    \"user\": username,\n",
    "    \"password\": password,\n",
    "    \"role\": \"TASTY_BI\",\n",
    "    \"warehouse\": \"TASTY_BI_WH\",\n",
    "    \"database\": \"frostbyte_tasty_bytes\",\n",
    "    \"schema\": \"analytics\",\n",
    "}\n",
    "\n",
    "# Create Snowpark session\n",
    "session = Session.builder.configs(connection_parameters).create()"
   ]
  },
  {
   "cell_type": "code",
   "execution_count": 3,
   "metadata": {},
   "outputs": [],
   "source": [
    "#Function to remove and rename columns after inner join\n",
    "def remove_dup_join_col(df):\n",
    "    # capitalise all columns\n",
    "    for col in df.columns:\n",
    "        df = df.withColumnRenamed(col, col.upper())\n",
    "    \n",
    "    # get list of renamable columns for left and right join\n",
    "    left_dup_col = [col_name for col_name in df.columns if col_name.startswith('L_')]\n",
    "    right_dup_col = [col_name for col_name in df.columns if col_name.startswith('R_')]\n",
    "    old_columns = df.columns\n",
    "    \n",
    "    # rename the list with the most number of renamable columns\n",
    "    # drop the list of columns with less number of renamable columns\n",
    "    if len(left_dup_col)>len(right_dup_col):\n",
    "        columns_rename=left_dup_col\n",
    "        df= df.drop(*right_dup_col)\n",
    "    else:\n",
    "        columns_rename=right_dup_col\n",
    "        df= df.drop(*left_dup_col)\n",
    "    \n",
    "    for old_column in old_columns:\n",
    "        if old_column in columns_rename:\n",
    "            # get string to remove\n",
    "            string_to_replace = columns_rename[0][:7]\n",
    "            # replace starting string\n",
    "            new_column = old_column.replace(string_to_replace, \"\")\n",
    "            df = df.withColumnRenamed(old_column, new_column)\n",
    "    \n",
    "    return df"
   ]
  },
  {
   "attachments": {},
   "cell_type": "markdown",
   "metadata": {},
   "source": [
    "Objective of this notebook is to rebuild a NPS_Compare or similar to do high level correlation"
   ]
  },
  {
   "cell_type": "code",
   "execution_count": 4,
   "metadata": {},
   "outputs": [],
   "source": [
    "ORDER_HEADERS = session.table(\"FROSTBYTE_TASTY_BYTES.RAW_POS.ORDER_HEADER\")\n",
    "CUSTOMERS = session.table(\"FROSTBYTE_TASTY_BYTES.RAW_CUSTOMER.CUSTOMER_LOYALTY\")"
   ]
  },
  {
   "cell_type": "code",
   "execution_count": 5,
   "metadata": {},
   "outputs": [
    {
     "name": "stdout",
     "output_type": "stream",
     "text": [
      "-----------------------------------------------------------------------------------------------------------------------------------------------------------------------------------------------------------------------------------------------------------------------------------------\n",
      "|\"ORDER_ID\"  |\"TRUCK_ID\"  |\"LOCATION_ID\"  |\"CUSTOMER_ID\"  |\"DISCOUNT_ID\"  |\"SHIFT_ID\"  |\"SHIFT_START_TIME\"  |\"SHIFT_END_TIME\"  |\"ORDER_CHANNEL\"  |\"ORDER_TS\"           |\"SERVED_TS\"  |\"ORDER_CURRENCY\"  |\"ORDER_AMOUNT\"  |\"ORDER_TAX_AMOUNT\"  |\"ORDER_DISCOUNT_AMOUNT\"  |\"ORDER_TOTAL\"  |\n",
      "-----------------------------------------------------------------------------------------------------------------------------------------------------------------------------------------------------------------------------------------------------------------------------------------\n",
      "|14271673    |90          |2666.0         |NULL           |NULL           |63645       |15:30:00            |22:30:00          |NULL             |2021-05-25 16:53:13  |NULL         |USD               |11.0000         |NULL                |NULL                     |11.0000        |\n",
      "|14271674    |90          |2666.0         |59685          |NULL           |63645       |15:30:00            |22:30:00          |NULL             |2021-05-25 16:53:26  |NULL         |USD               |11.0000         |NULL                |NULL                     |11.0000        |\n",
      "|14271675    |90          |2666.0         |NULL           |NULL           |63645       |15:30:00            |22:30:00          |NULL             |2021-05-25 16:53:26  |NULL         |USD               |11.0000         |NULL                |NULL                     |11.0000        |\n",
      "|14271676    |90          |2666.0         |NULL           |NULL           |63645       |15:30:00            |22:30:00          |NULL             |2021-05-25 16:53:29  |NULL         |USD               |57.0000         |NULL                |NULL                     |57.0000        |\n",
      "|14271677    |90          |2666.0         |NULL           |NULL           |63645       |15:30:00            |22:30:00          |NULL             |2021-05-25 16:53:49  |NULL         |USD               |24.0000         |NULL                |NULL                     |24.0000        |\n",
      "|14271678    |90          |2666.0         |NULL           |NULL           |63645       |15:30:00            |22:30:00          |NULL             |2021-05-25 16:54:11  |NULL         |USD               |33.0000         |NULL                |NULL                     |33.0000        |\n",
      "|14271679    |90          |2666.0         |NULL           |NULL           |63645       |15:30:00            |22:30:00          |NULL             |2021-05-25 16:54:25  |NULL         |USD               |71.0000         |NULL                |NULL                     |71.0000        |\n",
      "|14271680    |90          |2666.0         |NULL           |NULL           |63645       |15:30:00            |22:30:00          |NULL             |2021-05-25 16:54:57  |NULL         |USD               |33.0000         |NULL                |NULL                     |33.0000        |\n",
      "|14271681    |90          |2666.0         |NULL           |NULL           |63645       |15:30:00            |22:30:00          |NULL             |2021-05-25 16:55:00  |NULL         |USD               |39.0000         |NULL                |NULL                     |39.0000        |\n",
      "|14271682    |90          |2666.0         |NULL           |NULL           |63645       |15:30:00            |22:30:00          |NULL             |2021-05-25 16:55:03  |NULL         |USD               |69.0000         |NULL                |NULL                     |69.0000        |\n",
      "-----------------------------------------------------------------------------------------------------------------------------------------------------------------------------------------------------------------------------------------------------------------------------------------\n",
      "\n"
     ]
    }
   ],
   "source": [
    "ORDER_HEADERS.show()"
   ]
  },
  {
   "cell_type": "code",
   "execution_count": 6,
   "metadata": {},
   "outputs": [
    {
     "name": "stdout",
     "output_type": "stream",
     "text": [
      "-------------------------------------------------------------------------------------------------------------------------------------------------------------------------------------------------------------------------------------------------------------------------\n",
      "|\"CUSTOMER_ID\"  |\"FIRST_NAME\"  |\"LAST_NAME\"  |\"CITY\"          |\"COUNTRY\"  |\"POSTAL_CODE\"  |\"PREFERRED_LANGUAGE\"  |\"GENDER\"     |\"FAVOURITE_BRAND\"  |\"MARITAL_STATUS\"  |\"CHILDREN_COUNT\"  |\"SIGN_UP_DATE\"  |\"BIRTHDAY_DATE\"  |\"E_MAIL\"                  |\"PHONE_NUMBER\"  |\n",
      "-------------------------------------------------------------------------------------------------------------------------------------------------------------------------------------------------------------------------------------------------------------------------\n",
      "|1              |Rodolfo       |Tucker       |Hamburg         |Germany    |21129          |German                |Female       |NULL               |Single            |0                 |2019-02-19      |1953-12-01       |Rodolfo.Tucker@ymail.com  |007-506-6068    |\n",
      "|2              |Karla         |Mullen       |Rio de Janeiro  |Brazil     |22753-000      |Portuguese            |Male         |NULL               |Single            |0                 |2019-10-07      |1973-09-21       |Karla.Mullen@hotmail.com  |431-122-6142    |\n",
      "|3              |Cortez        |Douglas      |Krakow          |Poland     |31-5           |Polish                |Female       |NULL               |Married           |2                 |2020-09-11      |2000-09-04       |Cortez.Douglas@gmail.com  |157-518-3848    |\n",
      "|4              |Janiya        |Pope         |Krakow          |Poland     |31-5           |Polish                |Female       |NULL               |Single            |1                 |2021-09-09      |1950-03-05       |Janiya.Pope@ymail.com     |872-718-6879    |\n",
      "|5              |Zaiden        |Knapp        |Barcelona       |Spain      |08013          |English               |Female       |NULL               |Married           |1                 |2022-06-17      |1978-10-29       |Zaiden.Knapp@hotmail.com  |545-152-4832    |\n",
      "|6              |Micah         |Beard        |Hamburg         |Germany    |21129          |German                |Male         |NULL               |Single            |0                 |2021-06-02      |1969-08-17       |Micah.Beard@aol.com       |535-753-3461    |\n",
      "|7              |Ricardo       |Byrd         |Barcelona       |Spain      |08013          |English               |Male         |NULL               |Undisclosed       |Undisclosed       |2020-09-29      |1961-12-23       |Ricardo.Byrd@aol.com      |138-082-1391    |\n",
      "|8              |Marie         |Boyer        |Hamburg         |Germany    |21129          |German                |Female       |NULL               |Single            |0                 |2021-04-08      |1960-07-12       |Marie.Boyer@aol.com       |587-006-4451    |\n",
      "|9              |Josie         |Glass        |Stockholm       |Sweden     |6206           |Swedish               |Male         |NULL               |Single            |0                 |2020-10-30      |1970-09-11       |Josie.Glass@hotmail.com   |023-863-4028    |\n",
      "|10             |Korbin        |Ward         |Cairo           |Egypt      |00000          |Arabic                |Undisclosed  |NULL               |Single            |0                 |2020-06-04      |1989-05-27       |Korbin.Ward@gmail.com     |049-196-8102    |\n",
      "-------------------------------------------------------------------------------------------------------------------------------------------------------------------------------------------------------------------------------------------------------------------------\n",
      "\n"
     ]
    }
   ],
   "source": [
    "CUSTOMERS.show()"
   ]
  },
  {
   "cell_type": "code",
   "execution_count": 7,
   "metadata": {},
   "outputs": [
    {
     "name": "stdout",
     "output_type": "stream",
     "text": [
      "-------------------------------------------------------------------------------------------------------------------------------------------------------------------------------------------------------------------------------------------------------------------------------------------------------------------------------------------------------------------------------------------------------------------------------------------------------------------------------------------------------------------------------------------------------------\n",
      "|\"ORDER_ID\"  |\"TRUCK_ID\"  |\"LOCATION_ID\"  |\"DISCOUNT_ID\"  |\"SHIFT_ID\"  |\"SHIFT_START_TIME\"  |\"SHIFT_END_TIME\"  |\"ORDER_CHANNEL\"  |\"ORDER_TS\"           |\"SERVED_TS\"  |\"ORDER_CURRENCY\"  |\"ORDER_AMOUNT\"  |\"ORDER_TAX_AMOUNT\"  |\"ORDER_DISCOUNT_AMOUNT\"  |\"ORDER_TOTAL\"  |\"CUSTOMER_ID\"  |\"FIRST_NAME\"  |\"LAST_NAME\"  |\"CITY\"     |\"COUNTRY\"     |\"POSTAL_CODE\"  |\"PREFERRED_LANGUAGE\"  |\"GENDER\"     |\"FAVOURITE_BRAND\"  |\"MARITAL_STATUS\"  |\"CHILDREN_COUNT\"  |\"SIGN_UP_DATE\"  |\"BIRTHDAY_DATE\"  |\"E_MAIL\"                                |\"PHONE_NUMBER\"  |\n",
      "-------------------------------------------------------------------------------------------------------------------------------------------------------------------------------------------------------------------------------------------------------------------------------------------------------------------------------------------------------------------------------------------------------------------------------------------------------------------------------------------------------------------------------------------------------------\n",
      "|424632656   |450         |10047.0        |NULL           |200492436   |08:00:00            |14:00:00          |NULL             |2020-11-13 09:35:45  |NULL         |USD               |73.0000         |NULL                |NULL                     |73.0000        |214002         |Danielle      |Baker        |Cape Town  |South Africa  |8005           |English               |Undisclosed  |NULL               |Married           |3                 |2019-01-08      |1952-09-23       |**~MASKED~**.**~MASKED~**@att.net       |111-111-1111    |\n",
      "|424632668   |450         |10047.0        |NULL           |200492436   |08:00:00            |14:00:00          |NULL             |2020-11-13 09:39:20  |NULL         |USD               |33.0000         |NULL                |NULL                     |33.0000        |214207         |Kaiya         |Booker       |Cape Town  |South Africa  |8005           |English               |Male         |NULL               |Single            |0                 |2019-08-20      |1985-08-27       |**~MASKED~**.**~MASKED~**@gmail.com     |111-111-1111    |\n",
      "|424632671   |450         |10047.0        |NULL           |200492436   |08:00:00            |14:00:00          |NULL             |2020-11-13 09:39:51  |NULL         |USD               |11.0000         |NULL                |NULL                     |11.0000        |14596          |Markus        |Daniels      |Cape Town  |South Africa  |8005           |English               |Female       |NULL               |Single            |0                 |2021-01-31      |1973-08-08       |Markus.Daniels@hotmail.com              |346-805-9253    |\n",
      "|424632689   |450         |10047.0        |NULL           |200492436   |08:00:00            |14:00:00          |NULL             |2020-11-13 09:53:58  |NULL         |USD               |69.0000         |NULL                |NULL                     |69.0000        |207567         |Jaden         |Maldonado    |Cape Town  |South Africa  |8005           |English               |Female       |NULL               |Married           |0                 |2019-02-12      |1974-06-11       |**~MASKED~**.**~MASKED~**@gmail.com     |111-111-1111    |\n",
      "|424632704   |450         |10047.0        |NULL           |200492436   |08:00:00            |14:00:00          |NULL             |2020-11-13 10:02:28  |NULL         |USD               |33.0000         |NULL                |NULL                     |33.0000        |214222         |Clare         |Vaughan      |Cape Town  |South Africa  |8005           |English               |Female       |NULL               |Married           |2                 |2019-04-30      |1953-05-19       |**~MASKED~**.**~MASKED~**@att.net       |111-111-1111    |\n",
      "|424632803   |450         |10047.0        |NULL           |200492436   |08:00:00            |14:00:00          |NULL             |2020-11-13 10:55:28  |NULL         |USD               |33.0000         |NULL                |NULL                     |33.0000        |208017         |Hailee        |Pratt        |Cape Town  |South Africa  |8005           |English               |Female       |NULL               |Married           |1                 |2019-06-11      |1959-07-07       |**~MASKED~**.**~MASKED~**@netscape.net  |111-111-1111    |\n",
      "|424632835   |450         |10047.0        |NULL           |200492436   |08:00:00            |14:00:00          |NULL             |2020-11-13 11:13:16  |NULL         |USD               |11.0000         |NULL                |NULL                     |11.0000        |2261           |Jazmyn        |Glover       |Cape Town  |South Africa  |8005           |English               |Female       |NULL               |Single            |2                 |2022-06-30      |1991-05-03       |Jazmyn.Glover@gmail.com                 |459-949-6544    |\n",
      "|424632856   |450         |10047.0        |NULL           |200492436   |08:00:00            |14:00:00          |NULL             |2020-11-13 11:21:49  |NULL         |USD               |33.0000         |NULL                |NULL                     |33.0000        |7655           |Paula         |Burgess      |Cape Town  |South Africa  |8005           |English               |Female       |NULL               |Married           |1                 |2021-06-14      |1963-11-06       |Paula.Burgess@aol.com                   |499-883-6745    |\n",
      "|424632859   |450         |10047.0        |NULL           |200492436   |08:00:00            |14:00:00          |NULL             |2020-11-13 11:24:11  |NULL         |USD               |22.0000         |NULL                |NULL                     |22.0000        |27080          |Max           |Leblanc      |Cape Town  |South Africa  |8005           |English               |Male         |NULL               |Single            |2                 |2019-12-30      |1968-09-09       |Max.Leblanc@aol.com                     |035-701-6921    |\n",
      "|387872379   |361         |10774.0        |NULL           |200407778   |08:30:00            |14:30:00          |NULL             |2021-08-29 12:42:06  |NULL         |USD               |26.5000         |NULL                |NULL                     |26.5000        |15767          |Kendrick      |Haynes       |Hamburg    |Germany       |21129          |German                |Female       |NULL               |Single            |0                 |2020-02-05      |1958-06-25       |Kendrick.Haynes@aol.com                 |904-894-2509    |\n",
      "-------------------------------------------------------------------------------------------------------------------------------------------------------------------------------------------------------------------------------------------------------------------------------------------------------------------------------------------------------------------------------------------------------------------------------------------------------------------------------------------------------------------------------------------------------------\n",
      "\n"
     ]
    }
   ],
   "source": [
    "LOOKER = ORDER_HEADERS.join(CUSTOMERS, CUSTOMERS['CUSTOMER_ID'] == ORDER_HEADERS['CUSTOMER_ID'], 'inner')\n",
    "\n",
    "LOOKER = remove_dup_join_col(LOOKER)\n",
    "\n",
    "LOOKER.show()"
   ]
  },
  {
   "cell_type": "code",
   "execution_count": 8,
   "metadata": {},
   "outputs": [
    {
     "name": "stdout",
     "output_type": "stream",
     "text": [
      "-------------------------------------------------------------------------------------------------------------------------------------------------------------------------------------------------------------------------------------------------------------------------------------------------------------------------------------------------------------------------------------------------------------------------------------------------------------------------------------------------------------------------------------------------\n",
      "|\"ORDER_ID\"  |\"TRUCK_ID\"  |\"LOCATION_ID\"  |\"DISCOUNT_ID\"  |\"SHIFT_ID\"  |\"SHIFT_START_TIME\"  |\"SHIFT_END_TIME\"  |\"ORDER_CHANNEL\"  |\"ORDER_TS\"           |\"SERVED_TS\"  |\"ORDER_CURRENCY\"  |\"ORDER_AMOUNT\"  |\"ORDER_TAX_AMOUNT\"  |\"ORDER_DISCOUNT_AMOUNT\"  |\"ORDER_TOTAL\"  |\"CUSTOMER_ID\"  |\"FIRST_NAME\"  |\"LAST_NAME\"  |\"CITY\"    |\"COUNTRY\"  |\"POSTAL_CODE\"  |\"PREFERRED_LANGUAGE\"  |\"GENDER\"     |\"FAVOURITE_BRAND\"  |\"MARITAL_STATUS\"  |\"CHILDREN_COUNT\"  |\"SIGN_UP_DATE\"  |\"BIRTHDAY_DATE\"  |\"E_MAIL\"               |\"PHONE_NUMBER\"  |\"DTNO\"  |\n",
      "-------------------------------------------------------------------------------------------------------------------------------------------------------------------------------------------------------------------------------------------------------------------------------------------------------------------------------------------------------------------------------------------------------------------------------------------------------------------------------------------------------------------------------------------------\n",
      "|26030800    |113         |1504.0         |NULL           |98921       |15:00:00            |22:00:00          |NULL             |2019-04-03 20:25:21  |NULL         |USD               |72.0000         |NULL                |NULL                     |72.0000        |103334         |Fabian        |Greene       |Montreal  |Canada     |H4E 1B5        |English               |Undisclosed  |NULL               |Married           |0                 |2021-05-23      |1964-01-14       |Fabian.Greene@aol.com  |289-231-0822    |208     |\n",
      "|26217894    |113         |5371.0         |NULL           |99337       |15:00:00            |22:00:00          |NULL             |2019-10-28 21:27:10  |NULL         |USD               |48.0000         |NULL                |NULL                     |48.0000        |103334         |Fabian        |Greene       |Montreal  |Canada     |H4E 1B5        |English               |Undisclosed  |NULL               |Married           |0                 |2021-05-23      |1964-01-14       |Fabian.Greene@aol.com  |289-231-0822    |73      |\n",
      "|26287627    |113         |5353.0         |NULL           |99517       |15:00:00            |22:00:00          |NULL             |2020-01-09 16:26:21  |NULL         |USD               |9.0000          |NULL                |NULL                     |9.0000         |103334         |Fabian        |Greene       |Montreal  |Canada     |H4E 1B5        |English               |Undisclosed  |NULL               |Married           |0                 |2021-05-23      |1964-01-14       |Fabian.Greene@aol.com  |289-231-0822    |24      |\n",
      "|26340416    |116         |5389.0         |NULL           |99663       |16:00:00            |23:00:00          |NULL             |2020-02-02 16:18:24  |NULL         |USD               |97.0000         |NULL                |NULL                     |97.0000        |103334         |Fabian        |Greene       |Montreal  |Canada     |H4E 1B5        |English               |Undisclosed  |NULL               |Married           |0                 |2021-05-23      |1964-01-14       |Fabian.Greene@aol.com  |289-231-0822    |67      |\n",
      "|26490716    |113         |5360.0         |NULL           |100063      |15:00:00            |22:00:00          |NULL             |2020-04-09 17:44:40  |NULL         |USD               |68.0000         |NULL                |NULL                     |68.0000        |103334         |Fabian        |Greene       |Montreal  |Canada     |H4E 1B5        |English               |Undisclosed  |NULL               |Married           |0                 |2021-05-23      |1964-01-14       |Fabian.Greene@aol.com  |289-231-0822    |2       |\n",
      "|26495728    |113         |8472.0         |NULL           |100075      |15:00:00            |22:00:00          |NULL             |2020-04-11 20:39:26  |NULL         |USD               |84.0000         |NULL                |NULL                     |84.0000        |103334         |Fabian        |Greene       |Montreal  |Canada     |H4E 1B5        |English               |Undisclosed  |NULL               |Married           |0                 |2021-05-23      |1964-01-14       |Fabian.Greene@aol.com  |289-231-0822    |42      |\n",
      "|26598351    |113         |1391.0         |NULL           |100326      |08:00:00            |14:00:00          |NULL             |2020-05-23 09:48:57  |NULL         |USD               |24.0000         |NULL                |NULL                     |24.0000        |103334         |Fabian        |Greene       |Montreal  |Canada     |H4E 1B5        |English               |Undisclosed  |NULL               |Married           |0                 |2021-05-23      |1964-01-14       |Fabian.Greene@aol.com  |289-231-0822    |9       |\n",
      "|26618790    |109         |3826.0         |NULL           |100378      |09:00:00            |15:00:00          |NULL             |2020-06-01 11:48:04  |NULL         |USD               |29.0000         |NULL                |NULL                     |29.0000        |103334         |Fabian        |Greene       |Montreal  |Canada     |H4E 1B5        |English               |Undisclosed  |NULL               |Married           |0                 |2021-05-23      |1964-01-14       |Fabian.Greene@aol.com  |289-231-0822    |1       |\n",
      "|26622109    |113         |8460.0         |NULL           |100387      |15:00:00            |22:00:00          |NULL             |2020-06-02 21:47:48  |NULL         |USD               |9.0000          |NULL                |NULL                     |9.0000         |103334         |Fabian        |Greene       |Montreal  |Canada     |H4E 1B5        |English               |Undisclosed  |NULL               |Married           |0                 |2021-05-23      |1964-01-14       |Fabian.Greene@aol.com  |289-231-0822    |12      |\n",
      "|26651585    |109         |1432.0         |NULL           |100457      |16:00:00            |23:00:00          |NULL             |2020-06-14 21:48:56  |NULL         |USD               |44.0000         |NULL                |NULL                     |44.0000        |103334         |Fabian        |Greene       |Montreal  |Canada     |H4E 1B5        |English               |Undisclosed  |NULL               |Married           |0                 |2021-05-23      |1964-01-14       |Fabian.Greene@aol.com  |289-231-0822    |28      |\n",
      "-------------------------------------------------------------------------------------------------------------------------------------------------------------------------------------------------------------------------------------------------------------------------------------------------------------------------------------------------------------------------------------------------------------------------------------------------------------------------------------------------------------------------------------------------\n",
      "\n"
     ]
    }
   ],
   "source": [
    "# Define a window partitioned by customer and menu item, ordered by date\n",
    "window_spec = Window.partitionBy(\"CUSTOMER_ID\").orderBy(\"ORDER_TS\")\n",
    "\n",
    "# Add a column with the date of the prior order for each customer and order\n",
    "orders_df_pre = LOOKER.withColumn(\"DTNO\", F.lead(\"ORDER_TS\").over(window_spec))\n",
    "\n",
    "orders_df = orders_df_pre.withColumn(\"DTNO\", F.datediff(col1=\"ORDER_TS\", col2=\"DTNO\",part='day'))\n",
    "orders_df = orders_df.na.drop(subset=[\"DTNO\"])\n",
    "\n",
    "orders_df.show()"
   ]
  },
  {
   "cell_type": "code",
   "execution_count": 9,
   "metadata": {},
   "outputs": [],
   "source": [
    "orders_df.write.save_as_table(table_name=\"tran_anal\", mode='overwrite')"
   ]
  },
  {
   "cell_type": "code",
   "execution_count": 10,
   "metadata": {},
   "outputs": [],
   "source": [
    "orders_df = session.table(\"tran_anal\")"
   ]
  },
  {
   "cell_type": "code",
   "execution_count": 11,
   "metadata": {},
   "outputs": [
    {
     "name": "stdout",
     "output_type": "stream",
     "text": [
      "----------------------------------------------------------------------------------------------------------------------------------------------------------------------------------------------------------------------------------------------------------------------------------------------------------------------------------------------------------------------------------------------------------------------------------------------------------------------------------------------------------------------------------------------\n",
      "|\"ORDER_ID\"  |\"TRUCK_ID\"  |\"LOCATION_ID\"  |\"DISCOUNT_ID\"  |\"SHIFT_ID\"  |\"SHIFT_START_TIME\"  |\"SHIFT_END_TIME\"  |\"ORDER_CHANNEL\"  |\"ORDER_TS\"           |\"SERVED_TS\"  |\"ORDER_CURRENCY\"  |\"ORDER_AMOUNT\"  |\"ORDER_TAX_AMOUNT\"  |\"ORDER_DISCOUNT_AMOUNT\"  |\"ORDER_TOTAL\"  |\"CUSTOMER_ID\"  |\"FIRST_NAME\"  |\"LAST_NAME\"  |\"CITY\"  |\"COUNTRY\"  |\"POSTAL_CODE\"  |\"PREFERRED_LANGUAGE\"  |\"GENDER\"  |\"FAVOURITE_BRAND\"  |\"MARITAL_STATUS\"  |\"CHILDREN_COUNT\"  |\"SIGN_UP_DATE\"  |\"BIRTHDAY_DATE\"  |\"E_MAIL\"                 |\"PHONE_NUMBER\"  |\"DTNO\"  |\n",
      "----------------------------------------------------------------------------------------------------------------------------------------------------------------------------------------------------------------------------------------------------------------------------------------------------------------------------------------------------------------------------------------------------------------------------------------------------------------------------------------------------------------------------------------------\n",
      "|67803124    |224         |6714.0         |NULL           |212160      |08:00:00            |14:00:00          |NULL             |2019-08-30 13:25:40  |NULL         |USD               |17.0000         |NULL                |NULL                     |17.0000        |59323          |Dillon        |Keller       |Mumbai  |India      |400058         |Hindi                 |Male      |NULL               |Single            |0                 |2019-03-19      |1998-10-26       |Dillon.Keller@gmail.com  |693-949-0464    |42      |\n",
      "|67865143    |224         |6751.0         |NULL           |212244      |08:30:00            |14:30:00          |NULL             |2019-10-11 12:29:37  |NULL         |USD               |36.0000         |NULL                |NULL                     |36.0000        |59323          |Dillon        |Keller       |Mumbai  |India      |400058         |Hindi                 |Male      |NULL               |Single            |0                 |2019-03-19      |1998-10-26       |Dillon.Keller@gmail.com  |693-949-0464    |122     |\n",
      "|68106769    |224         |6695.0         |NULL           |212571      |15:00:00            |22:00:00          |NULL             |2020-02-10 19:10:39  |NULL         |USD               |33.0000         |NULL                |NULL                     |33.0000        |59323          |Dillon        |Keller       |Mumbai  |India      |400058         |Hindi                 |Male      |NULL               |Single            |0                 |2019-03-19      |1998-10-26       |Dillon.Keller@gmail.com  |693-949-0464    |26      |\n",
      "|68183427    |224         |10622.0        |NULL           |212674      |08:00:00            |14:00:00          |NULL             |2020-03-07 13:00:26  |NULL         |USD               |32.0000         |NULL                |NULL                     |32.0000        |59323          |Dillon        |Keller       |Mumbai  |India      |400058         |Hindi                 |Male      |NULL               |Single            |0                 |2019-03-19      |1998-10-26       |Dillon.Keller@gmail.com  |693-949-0464    |9       |\n",
      "|68208765    |213         |9943.0         |NULL           |212708      |09:00:00            |15:00:00          |NULL             |2020-03-16 12:41:00  |NULL         |USD               |12.5000         |NULL                |NULL                     |12.5000        |59323          |Dillon        |Keller       |Mumbai  |India      |400058         |Hindi                 |Male      |NULL               |Single            |0                 |2019-03-19      |1998-10-26       |Dillon.Keller@gmail.com  |693-949-0464    |76      |\n",
      "|68523998    |213         |6780.0         |NULL           |213132      |08:00:00            |14:00:00          |NULL             |2020-05-31 13:30:08  |NULL         |USD               |101.0000        |NULL                |NULL                     |101.0000       |59323          |Dillon        |Keller       |Mumbai  |India      |400058         |Hindi                 |Male      |NULL               |Single            |0                 |2019-03-19      |1998-10-26       |Dillon.Keller@gmail.com  |693-949-0464    |3       |\n",
      "|68541125    |224         |10617.0        |NULL           |213155      |15:00:00            |22:00:00          |NULL             |2020-06-03 21:28:43  |NULL         |USD               |35.0000         |NULL                |NULL                     |35.0000        |59323          |Dillon        |Keller       |Mumbai  |India      |400058         |Hindi                 |Male      |NULL               |Single            |0                 |2019-03-19      |1998-10-26       |Dillon.Keller@gmail.com  |693-949-0464    |9       |\n",
      "|68577948    |213         |9007.0         |NULL           |213205      |16:00:00            |23:00:00          |NULL             |2020-06-12 16:57:12  |NULL         |USD               |37.5000         |NULL                |NULL                     |37.5000        |59323          |Dillon        |Keller       |Mumbai  |India      |400058         |Hindi                 |Male      |NULL               |Single            |0                 |2019-03-19      |1998-10-26       |Dillon.Keller@gmail.com  |693-949-0464    |15      |\n",
      "|68647490    |224         |6600.0         |NULL           |213298      |08:00:00            |14:00:00          |NULL             |2020-06-27 13:11:08  |NULL         |USD               |33.0000         |NULL                |NULL                     |33.0000        |59323          |Dillon        |Keller       |Mumbai  |India      |400058         |Hindi                 |Male      |NULL               |Single            |0                 |2019-03-19      |1998-10-26       |Dillon.Keller@gmail.com  |693-949-0464    |27      |\n",
      "|68839774    |224         |6711.0         |NULL           |213557      |15:30:00            |22:30:00          |NULL             |2020-07-24 20:59:19  |NULL         |USD               |18.0000         |NULL                |NULL                     |18.0000        |59323          |Dillon        |Keller       |Mumbai  |India      |400058         |Hindi                 |Male      |NULL               |Single            |0                 |2019-03-19      |1998-10-26       |Dillon.Keller@gmail.com  |693-949-0464    |14      |\n",
      "----------------------------------------------------------------------------------------------------------------------------------------------------------------------------------------------------------------------------------------------------------------------------------------------------------------------------------------------------------------------------------------------------------------------------------------------------------------------------------------------------------------------------------------------\n",
      "\n"
     ]
    }
   ],
   "source": [
    "orders_df.show()"
   ]
  },
  {
   "cell_type": "code",
   "execution_count": 12,
   "metadata": {},
   "outputs": [
    {
     "name": "stdout",
     "output_type": "stream",
     "text": [
      "--------------------------------------------------------------------------------------------------------------------------------------------------------------------------------------------------------------------------------------------------------------------------------------------------------------------------------------------------------------------------------------------------------------------------------------------------------------------------------------------------------------------------------------------------------------------------------\n",
      "|\"ORDER_ID\"  |\"TRUCK_ID\"  |\"LOCATION_ID\"  |\"DISCOUNT_ID\"  |\"SHIFT_ID\"  |\"SHIFT_START_TIME\"  |\"SHIFT_END_TIME\"  |\"ORDER_CHANNEL\"  |\"ORDER_TS\"           |\"SERVED_TS\"  |\"ORDER_CURRENCY\"  |\"ORDER_AMOUNT\"  |\"ORDER_TAX_AMOUNT\"  |\"ORDER_DISCOUNT_AMOUNT\"  |\"ORDER_TOTAL\"  |\"CUSTOMER_ID\"  |\"FIRST_NAME\"  |\"LAST_NAME\"  |\"CITY\"  |\"COUNTRY\"  |\"POSTAL_CODE\"  |\"PREFERRED_LANGUAGE\"  |\"GENDER\"  |\"FAVOURITE_BRAND\"  |\"MARITAL_STATUS\"  |\"CHILDREN_COUNT\"  |\"SIGN_UP_DATE\"  |\"BIRTHDAY_DATE\"  |\"E_MAIL\"                 |\"PHONE_NUMBER\"  |\"DTNO\"  |\"YEAR\"  |\"MONTH\"  |\"YEAR_MONTH\"  |\n",
      "--------------------------------------------------------------------------------------------------------------------------------------------------------------------------------------------------------------------------------------------------------------------------------------------------------------------------------------------------------------------------------------------------------------------------------------------------------------------------------------------------------------------------------------------------------------------------------\n",
      "|67803124    |224         |6714.0         |NULL           |212160      |08:00:00            |14:00:00          |NULL             |2019-08-30 13:25:40  |NULL         |USD               |17.0000         |NULL                |NULL                     |17.0000        |59323          |Dillon        |Keller       |Mumbai  |India      |400058         |Hindi                 |Male      |NULL               |Single            |0                 |2019-03-19      |1998-10-26       |Dillon.Keller@gmail.com  |693-949-0464    |42      |2019    |8        |20198         |\n",
      "|67865143    |224         |6751.0         |NULL           |212244      |08:30:00            |14:30:00          |NULL             |2019-10-11 12:29:37  |NULL         |USD               |36.0000         |NULL                |NULL                     |36.0000        |59323          |Dillon        |Keller       |Mumbai  |India      |400058         |Hindi                 |Male      |NULL               |Single            |0                 |2019-03-19      |1998-10-26       |Dillon.Keller@gmail.com  |693-949-0464    |122     |2019    |10       |201910        |\n",
      "|68106769    |224         |6695.0         |NULL           |212571      |15:00:00            |22:00:00          |NULL             |2020-02-10 19:10:39  |NULL         |USD               |33.0000         |NULL                |NULL                     |33.0000        |59323          |Dillon        |Keller       |Mumbai  |India      |400058         |Hindi                 |Male      |NULL               |Single            |0                 |2019-03-19      |1998-10-26       |Dillon.Keller@gmail.com  |693-949-0464    |26      |2020    |2        |20202         |\n",
      "|68183427    |224         |10622.0        |NULL           |212674      |08:00:00            |14:00:00          |NULL             |2020-03-07 13:00:26  |NULL         |USD               |32.0000         |NULL                |NULL                     |32.0000        |59323          |Dillon        |Keller       |Mumbai  |India      |400058         |Hindi                 |Male      |NULL               |Single            |0                 |2019-03-19      |1998-10-26       |Dillon.Keller@gmail.com  |693-949-0464    |9       |2020    |3        |20203         |\n",
      "|68208765    |213         |9943.0         |NULL           |212708      |09:00:00            |15:00:00          |NULL             |2020-03-16 12:41:00  |NULL         |USD               |12.5000         |NULL                |NULL                     |12.5000        |59323          |Dillon        |Keller       |Mumbai  |India      |400058         |Hindi                 |Male      |NULL               |Single            |0                 |2019-03-19      |1998-10-26       |Dillon.Keller@gmail.com  |693-949-0464    |76      |2020    |3        |20203         |\n",
      "|68523998    |213         |6780.0         |NULL           |213132      |08:00:00            |14:00:00          |NULL             |2020-05-31 13:30:08  |NULL         |USD               |101.0000        |NULL                |NULL                     |101.0000       |59323          |Dillon        |Keller       |Mumbai  |India      |400058         |Hindi                 |Male      |NULL               |Single            |0                 |2019-03-19      |1998-10-26       |Dillon.Keller@gmail.com  |693-949-0464    |3       |2020    |5        |20205         |\n",
      "|68541125    |224         |10617.0        |NULL           |213155      |15:00:00            |22:00:00          |NULL             |2020-06-03 21:28:43  |NULL         |USD               |35.0000         |NULL                |NULL                     |35.0000        |59323          |Dillon        |Keller       |Mumbai  |India      |400058         |Hindi                 |Male      |NULL               |Single            |0                 |2019-03-19      |1998-10-26       |Dillon.Keller@gmail.com  |693-949-0464    |9       |2020    |6        |20206         |\n",
      "|68577948    |213         |9007.0         |NULL           |213205      |16:00:00            |23:00:00          |NULL             |2020-06-12 16:57:12  |NULL         |USD               |37.5000         |NULL                |NULL                     |37.5000        |59323          |Dillon        |Keller       |Mumbai  |India      |400058         |Hindi                 |Male      |NULL               |Single            |0                 |2019-03-19      |1998-10-26       |Dillon.Keller@gmail.com  |693-949-0464    |15      |2020    |6        |20206         |\n",
      "|68647490    |224         |6600.0         |NULL           |213298      |08:00:00            |14:00:00          |NULL             |2020-06-27 13:11:08  |NULL         |USD               |33.0000         |NULL                |NULL                     |33.0000        |59323          |Dillon        |Keller       |Mumbai  |India      |400058         |Hindi                 |Male      |NULL               |Single            |0                 |2019-03-19      |1998-10-26       |Dillon.Keller@gmail.com  |693-949-0464    |27      |2020    |6        |20206         |\n",
      "|68839774    |224         |6711.0         |NULL           |213557      |15:30:00            |22:30:00          |NULL             |2020-07-24 20:59:19  |NULL         |USD               |18.0000         |NULL                |NULL                     |18.0000        |59323          |Dillon        |Keller       |Mumbai  |India      |400058         |Hindi                 |Male      |NULL               |Single            |0                 |2019-03-19      |1998-10-26       |Dillon.Keller@gmail.com  |693-949-0464    |14      |2020    |7        |20207         |\n",
      "--------------------------------------------------------------------------------------------------------------------------------------------------------------------------------------------------------------------------------------------------------------------------------------------------------------------------------------------------------------------------------------------------------------------------------------------------------------------------------------------------------------------------------------------------------------------------------\n",
      "\n"
     ]
    }
   ],
   "source": [
    "orders_df = orders_df.with_column(\"YEAR\", F.year(\"ORDER_TS\"))\n",
    "orders_df = orders_df.with_column(\"MONTH\", F.month(\"ORDER_TS\"))\n",
    "orders_df = orders_df.with_column(\"YEAR_MONTH\", F.concat(F.col(\"YEAR\"), F.col(\"MONTH\")))\n",
    "orders_df.show()"
   ]
  },
  {
   "cell_type": "code",
   "execution_count": 13,
   "metadata": {},
   "outputs": [
    {
     "name": "stdout",
     "output_type": "stream",
     "text": [
      "-----------------------------------------\n",
      "|\"YEAR\"  |\"MONTH\"  |\"AVG(ORDER_TOTAL)\"  |\n",
      "-----------------------------------------\n",
      "|2020    |12       |42.0045579794       |\n",
      "|2021    |11       |41.1920454646       |\n",
      "|2019    |4        |34.3819085775       |\n",
      "|2020    |6        |40.9888317457       |\n",
      "|2021    |12       |41.1608334972       |\n",
      "|2020    |4        |40.7051582147       |\n",
      "|2022    |8        |40.1918689593       |\n",
      "|2021    |4        |41.1524909228       |\n",
      "|2019    |8        |37.3881462334       |\n",
      "|2022    |7        |40.2391587444       |\n",
      "-----------------------------------------\n",
      "\n",
      "-----------------------------------------\n",
      "|\"YEAR\"  |\"MONTH\"  |\"SUM(ORDER_TOTAL)\"  |\n",
      "-----------------------------------------\n",
      "|2020    |6        |9440465.7500        |\n",
      "|2020    |11       |12565341.2500       |\n",
      "|2021    |12       |19045652.7500       |\n",
      "|2020    |3        |7968823.0000        |\n",
      "|2022    |5        |21085421.7500       |\n",
      "|2019    |12       |3351061.5000        |\n",
      "|2021    |7        |16620161.2500       |\n",
      "|2020    |8        |11055566.7500       |\n",
      "|2022    |7        |21768942.2500       |\n",
      "|2020    |10       |12856739.2500       |\n",
      "-----------------------------------------\n",
      "\n"
     ]
    }
   ],
   "source": [
    "AVG_SALES_YM = orders_df.groupBy(F.col(\"YEAR\"),F.col(\"MONTH\")).agg(F.avg('\"ORDER_TOTAL\"'))\n",
    "SUM_SALES_YM = orders_df.groupBy(F.col(\"YEAR\"),F.col(\"MONTH\")).agg(F.sum('\"ORDER_TOTAL\"'))\n",
    "\n",
    "AVG_SALES_YM.show()\n",
    "SUM_SALES_YM.show()"
   ]
  },
  {
   "cell_type": "code",
   "execution_count": 14,
   "metadata": {},
   "outputs": [
    {
     "name": "stdout",
     "output_type": "stream",
     "text": [
      "---------------------------------------------------------------------------------------------------------------------------------------------------------------------------------------------------------------------------------------------------------------------------------------------------------------------------------------------------------------------------------------------------------------------------------------------------------------------------------------------------------------------------------------------------------------------------------------------------\n",
      "|\"ORDER_ID\"  |\"TRUCK_ID\"  |\"LOCATION_ID\"  |\"DISCOUNT_ID\"  |\"SHIFT_ID\"  |\"SHIFT_START_TIME\"  |\"SHIFT_END_TIME\"  |\"ORDER_CHANNEL\"  |\"ORDER_TS\"           |\"SERVED_TS\"  |\"ORDER_CURRENCY\"  |\"ORDER_AMOUNT\"  |\"ORDER_TAX_AMOUNT\"  |\"ORDER_DISCOUNT_AMOUNT\"  |\"ORDER_TOTAL\"  |\"CUSTOMER_ID\"  |\"FIRST_NAME\"  |\"LAST_NAME\"  |\"CITY\"     |\"COUNTRY\"     |\"POSTAL_CODE\"  |\"PREFERRED_LANGUAGE\"  |\"GENDER\"  |\"FAVOURITE_BRAND\"  |\"MARITAL_STATUS\"  |\"CHILDREN_COUNT\"  |\"SIGN_UP_DATE\"  |\"BIRTHDAY_DATE\"  |\"E_MAIL\"                    |\"PHONE_NUMBER\"  |\"DTNO\"  |\"YEAR\"  |\"MONTH\"  |\"YEAR_MONTH\"  |\"CHURN\"  |\n",
      "---------------------------------------------------------------------------------------------------------------------------------------------------------------------------------------------------------------------------------------------------------------------------------------------------------------------------------------------------------------------------------------------------------------------------------------------------------------------------------------------------------------------------------------------------------------------------------------------------\n",
      "|422336732   |436         |7605.0         |NULL           |200489117   |15:00:00            |22:00:00          |NULL             |2019-04-21 17:24:08  |NULL         |USD               |7.0000          |NULL                |NULL                     |7.0000         |24747          |Rhianna       |Foster       |Cape Town  |South Africa  |8005           |English               |Female    |NULL               |Married           |2                 |2020-01-11      |1982-12-11       |Rhianna.Foster@hotmail.com  |061-442-9038    |3       |2019    |4        |20194         |0        |\n",
      "|422341467   |436         |7536.0         |NULL           |200489123   |15:00:00            |22:00:00          |NULL             |2019-04-24 21:07:58  |NULL         |USD               |12.0000         |NULL                |NULL                     |12.0000        |24747          |Rhianna       |Foster       |Cape Town  |South Africa  |8005           |English               |Female    |NULL               |Married           |2                 |2020-01-11      |1982-12-11       |Rhianna.Foster@hotmail.com  |061-442-9038    |45      |2019    |4        |20194         |1        |\n",
      "|422404181   |436         |7547.0         |NULL           |200489213   |15:00:00            |22:00:00          |NULL             |2019-06-08 18:42:36  |NULL         |USD               |15.0000         |NULL                |NULL                     |15.0000        |24747          |Rhianna       |Foster       |Cape Town  |South Africa  |8005           |English               |Female    |NULL               |Married           |2                 |2020-01-11      |1982-12-11       |Rhianna.Foster@hotmail.com  |061-442-9038    |3       |2019    |6        |20196         |0        |\n",
      "|422408652   |436         |14721.0        |NULL           |200489219   |15:30:00            |22:30:00          |NULL             |2019-06-11 21:32:31  |NULL         |USD               |20.0000         |NULL                |NULL                     |20.0000        |24747          |Rhianna       |Foster       |Cape Town  |South Africa  |8005           |English               |Female    |NULL               |Married           |2                 |2020-01-11      |1982-12-11       |Rhianna.Foster@hotmail.com  |061-442-9038    |19      |2019    |6        |20196         |1        |\n",
      "|422434881   |436         |7574.0         |NULL           |200489257   |15:30:00            |22:30:00          |NULL             |2019-06-30 15:42:37  |NULL         |USD               |33.0000         |NULL                |NULL                     |33.0000        |24747          |Rhianna       |Foster       |Cape Town  |South Africa  |8005           |English               |Female    |NULL               |Married           |2                 |2020-01-11      |1982-12-11       |Rhianna.Foster@hotmail.com  |061-442-9038    |54      |2019    |6        |20196         |1        |\n",
      "|422584637   |436         |7501.0         |NULL           |200489470   |08:00:00            |14:00:00          |NULL             |2019-08-23 13:13:39  |NULL         |USD               |45.0000         |NULL                |NULL                     |45.0000        |24747          |Rhianna       |Foster       |Cape Town  |South Africa  |8005           |English               |Female    |NULL               |Married           |2                 |2020-01-11      |1982-12-11       |Rhianna.Foster@hotmail.com  |061-442-9038    |19      |2019    |8        |20198         |1        |\n",
      "|422639485   |448         |7532.0         |NULL           |200489548   |08:30:00            |14:30:00          |NULL             |2019-09-11 09:06:31  |NULL         |USD               |28.0000         |NULL                |NULL                     |28.0000        |24747          |Rhianna       |Foster       |Cape Town  |South Africa  |8005           |English               |Female    |NULL               |Married           |2                 |2020-01-11      |1982-12-11       |Rhianna.Foster@hotmail.com  |061-442-9038    |29      |2019    |9        |20199         |1        |\n",
      "|422720064   |436         |7500.0         |NULL           |200489662   |08:30:00            |14:30:00          |NULL             |2019-10-10 08:38:20  |NULL         |USD               |4.0000          |NULL                |NULL                     |4.0000         |24747          |Rhianna       |Foster       |Cape Town  |South Africa  |8005           |English               |Female    |NULL               |Married           |2                 |2020-01-11      |1982-12-11       |Rhianna.Foster@hotmail.com  |061-442-9038    |4       |2019    |10       |201910        |0        |\n",
      "|422732165   |436         |9195.0         |NULL           |200489679   |15:30:00            |22:30:00          |NULL             |2019-10-14 16:20:27  |NULL         |USD               |19.5000         |NULL                |NULL                     |19.5000        |24747          |Rhianna       |Foster       |Cape Town  |South Africa  |8005           |English               |Female    |NULL               |Married           |2                 |2020-01-11      |1982-12-11       |Rhianna.Foster@hotmail.com  |061-442-9038    |28      |2019    |10       |201910        |1        |\n",
      "|422811898   |448         |7492.0         |NULL           |200489792   |08:00:00            |14:00:00          |NULL             |2019-11-11 11:33:26  |NULL         |USD               |24.0000         |NULL                |NULL                     |24.0000        |24747          |Rhianna       |Foster       |Cape Town  |South Africa  |8005           |English               |Female    |NULL               |Married           |2                 |2020-01-11      |1982-12-11       |Rhianna.Foster@hotmail.com  |061-442-9038    |13      |2019    |11       |201911        |1        |\n",
      "---------------------------------------------------------------------------------------------------------------------------------------------------------------------------------------------------------------------------------------------------------------------------------------------------------------------------------------------------------------------------------------------------------------------------------------------------------------------------------------------------------------------------------------------------------------------------------------------------\n",
      "\n"
     ]
    }
   ],
   "source": [
    "churn_YN = orders_df.with_column(\"CHURN\", F.iff(F.col(\"DTNO\") > 9, \"1\", \"0\"))\n",
    "\n",
    "churn_YN.show()"
   ]
  },
  {
   "cell_type": "code",
   "execution_count": 18,
   "metadata": {},
   "outputs": [
    {
     "name": "stdout",
     "output_type": "stream",
     "text": [
      "------------------------------------------------------------------------------------\n",
      "|\"DIVIDE(SUM(CHURN), COUNT(CUSTOMER_ID))\"  |\"YEAR\"  |\"MONTH\"  |\"SUM(ORDER_TOTAL)\"  |\n",
      "------------------------------------------------------------------------------------\n",
      "|0.5310078032590082                        |2021    |11       |18665928.2500       |\n",
      "|0.643117106215968                         |2020    |12       |13399496.0000       |\n",
      "|0.9200656465704494                        |2019    |4        |712290.0000         |\n",
      "|0.7965229761471532                        |2019    |9        |2217703.0000        |\n",
      "|0.5354679898770944                        |2021    |12       |19045652.7500       |\n",
      "|0.719340519323051                         |2020    |3        |7968823.0000        |\n",
      "|0.6992038797823706                        |2020    |5        |9389166.7500        |\n",
      "|0.9666611101850309                        |2019    |2        |220793.5000         |\n",
      "|0.6468843225061566                        |2020    |11       |12565341.2500       |\n",
      "|0.6558098792951859                        |2020    |10       |12856739.2500       |\n",
      "------------------------------------------------------------------------------------\n",
      "\n"
     ]
    }
   ],
   "source": [
    "churn_rate_YM = churn_YN.group_by(F.col(\"YEAR\"), F.col(\"MONTH\")).agg(F.sum(\"CHURN\")/F.count(\"CUSTOMER_ID\"))\n",
    "\n",
    "churn_to_sales = churn_rate_YM.join(SUM_SALES_YM, (churn_rate_YM[\"YEAR\"] == SUM_SALES_YM[\"YEAR\"]) & (churn_rate_YM[\"MONTH\"] == SUM_SALES_YM[\"MONTH\"]), how=\"inner\")\n",
    "\n",
    "churn_to_sales = remove_dup_join_col(churn_to_sales)\n",
    "churn_to_sales.show()"
   ]
  },
  {
   "cell_type": "code",
   "execution_count": 53,
   "metadata": {},
   "outputs": [
    {
     "name": "stdout",
     "output_type": "stream",
     "text": [
      "--------------------------------------------------------\n",
      "|\"YEAR\"  |\"MONTH\"  |\"CHURN_RATE\"        |\"SALES\"       |\n",
      "--------------------------------------------------------\n",
      "|2019    |1        |0.9816951850378034  |91308.5000    |\n",
      "|2019    |2        |0.9666611101850309  |220793.5000   |\n",
      "|2019    |3        |0.9417467398764585  |425460.0000   |\n",
      "|2019    |4        |0.9200656465704494  |712290.0000   |\n",
      "|2019    |5        |0.9008302747389801  |979719.5000   |\n",
      "|2019    |6        |0.8789374410562716  |1109682.0000  |\n",
      "|2019    |7        |0.8436551305403764  |1690853.5000  |\n",
      "|2019    |8        |0.8197562776957164  |2024942.0000  |\n",
      "|2019    |9        |0.7965229761471532  |2217703.0000  |\n",
      "|2019    |10       |0.7886291932264503  |2920658.0000  |\n",
      "--------------------------------------------------------\n",
      "\n"
     ]
    }
   ],
   "source": [
    "churn_to_sales_push = churn_to_sales.select(\"YEAR\", \"MONTH\", \"DIVIDE(SUM(CHURN), COUNT(CUSTOMER_ID))\", \"SUM(ORDER_TOTAL)\")\n",
    "\n",
    "churn_to_sales_push = churn_to_sales_push.withColumnRenamed(\"DIVIDE(SUM(CHURN), COUNT(CUSTOMER_ID))\",\"CHURN_RATE\")\n",
    "churn_to_sales_push = churn_to_sales_push.withColumnRenamed(\"SUM(ORDER_TOTAL)\", \"SALES\")\n",
    "\n",
    "churn_to_sales_push = churn_to_sales_push.orderBy(\"YEAR\", \"MONTH\")\n",
    "\n",
    "churn_to_sales_push.show()"
   ]
  },
  {
   "cell_type": "code",
   "execution_count": 54,
   "metadata": {},
   "outputs": [],
   "source": [
    "churn_members = churn_YN.group_by(F.col(\"YEAR\"), F.col(\"MONTH\")).agg(F.count_distinct('CUSTOMER_ID'))\n",
    "\n",
    "churn_to_sales_push = churn_to_sales_push.join(churn_members, (churn_members[\"YEAR\"] == churn_to_sales_push[\"YEAR\"]) & (churn_members[\"MONTH\"] == churn_to_sales_push[\"MONTH\"]), how=\"inner\")\n",
    "\n",
    "churn_to_sales_push = remove_dup_join_col(churn_to_sales_push)\n",
    "churn_to_sales_push = churn_to_sales_push.withColumnRenamed(\"COUNT(DISTINCT CUSTOMER_ID)\", \"UNIQUE CUSTOMERS\")"
   ]
  },
  {
   "cell_type": "code",
   "execution_count": 55,
   "metadata": {},
   "outputs": [
    {
     "name": "stdout",
     "output_type": "stream",
     "text": [
      "------------------------------------------------------------------------------\n",
      "|\"CHURN_RATE\"        |\"SALES\"        |\"YEAR\"  |\"MONTH\"  |\"UNIQUE CUSTOMERS\"  |\n",
      "------------------------------------------------------------------------------\n",
      "|0.9816951850378034  |91308.5000     |2019    |1        |2459                |\n",
      "|0.9666611101850309  |220793.5000    |2019    |2        |5729                |\n",
      "|0.643117106215968   |13399496.0000  |2020    |12       |169293              |\n",
      "|0.9200656465704494  |712290.0000    |2019    |4        |18284               |\n",
      "|0.742502839611705   |7008714.5000   |2020    |2        |112699              |\n",
      "|0.6285534314802608  |13964696.5000  |2021    |1        |175142              |\n",
      "|0.6232935654835811  |12885215.0000  |2021    |2        |169706              |\n",
      "|0.9417467398764585  |425460.0000    |2019    |3        |10646               |\n",
      "|0.719340519323051   |7968823.0000   |2020    |3        |120893              |\n",
      "|0.5886082862874757  |15436506.7500  |2021    |6        |182913              |\n",
      "------------------------------------------------------------------------------\n",
      "\n"
     ]
    }
   ],
   "source": [
    "churn_to_sales_push.show()"
   ]
  },
  {
   "cell_type": "code",
   "execution_count": 56,
   "metadata": {},
   "outputs": [],
   "source": [
    "churn_to_sales_push.write.save_as_table(table_name=\"churn_to_sales\", mode='overwrite')"
   ]
  },
  {
   "cell_type": "code",
   "execution_count": null,
   "metadata": {},
   "outputs": [],
   "source": [
    "CTS = churn_to_sales_push.to_pandas()\n",
    "CTS.to_csv('CTS.csv', index=False)"
   ]
  },
  {
   "attachments": {},
   "cell_type": "markdown",
   "metadata": {},
   "source": [
    "## Collecting latest customer purchase information"
   ]
  },
  {
   "cell_type": "code",
   "execution_count": 19,
   "metadata": {},
   "outputs": [],
   "source": [
    "orders_head = session.table(\"FROSTBYTE_TASTY_BYTES.RAW_POS.ORDER_HEADER\")\n",
    "orders_detail = session.table(\"FROSTBYTE_TASTY_BYTES.RAW_POS.ORDER_DETAIL\")"
   ]
  },
  {
   "cell_type": "code",
   "execution_count": 20,
   "metadata": {},
   "outputs": [
    {
     "name": "stdout",
     "output_type": "stream",
     "text": [
      "-----------------------------------------------------------------------------------------------------------------------------------------------------------------------------------------------------------------------------------------------------------------------------------------\n",
      "|\"ORDER_ID\"  |\"TRUCK_ID\"  |\"LOCATION_ID\"  |\"CUSTOMER_ID\"  |\"DISCOUNT_ID\"  |\"SHIFT_ID\"  |\"SHIFT_START_TIME\"  |\"SHIFT_END_TIME\"  |\"ORDER_CHANNEL\"  |\"ORDER_TS\"           |\"SERVED_TS\"  |\"ORDER_CURRENCY\"  |\"ORDER_AMOUNT\"  |\"ORDER_TAX_AMOUNT\"  |\"ORDER_DISCOUNT_AMOUNT\"  |\"ORDER_TOTAL\"  |\n",
      "-----------------------------------------------------------------------------------------------------------------------------------------------------------------------------------------------------------------------------------------------------------------------------------------\n",
      "|14271673    |90          |2666.0         |NULL           |NULL           |63645       |15:30:00            |22:30:00          |NULL             |2021-05-25 16:53:13  |NULL         |USD               |11.0000         |NULL                |NULL                     |11.0000        |\n",
      "|14271674    |90          |2666.0         |59685          |NULL           |63645       |15:30:00            |22:30:00          |NULL             |2021-05-25 16:53:26  |NULL         |USD               |11.0000         |NULL                |NULL                     |11.0000        |\n",
      "|14271675    |90          |2666.0         |NULL           |NULL           |63645       |15:30:00            |22:30:00          |NULL             |2021-05-25 16:53:26  |NULL         |USD               |11.0000         |NULL                |NULL                     |11.0000        |\n",
      "|14271676    |90          |2666.0         |NULL           |NULL           |63645       |15:30:00            |22:30:00          |NULL             |2021-05-25 16:53:29  |NULL         |USD               |57.0000         |NULL                |NULL                     |57.0000        |\n",
      "|14271677    |90          |2666.0         |NULL           |NULL           |63645       |15:30:00            |22:30:00          |NULL             |2021-05-25 16:53:49  |NULL         |USD               |24.0000         |NULL                |NULL                     |24.0000        |\n",
      "|14271678    |90          |2666.0         |NULL           |NULL           |63645       |15:30:00            |22:30:00          |NULL             |2021-05-25 16:54:11  |NULL         |USD               |33.0000         |NULL                |NULL                     |33.0000        |\n",
      "|14271679    |90          |2666.0         |NULL           |NULL           |63645       |15:30:00            |22:30:00          |NULL             |2021-05-25 16:54:25  |NULL         |USD               |71.0000         |NULL                |NULL                     |71.0000        |\n",
      "|14271680    |90          |2666.0         |NULL           |NULL           |63645       |15:30:00            |22:30:00          |NULL             |2021-05-25 16:54:57  |NULL         |USD               |33.0000         |NULL                |NULL                     |33.0000        |\n",
      "|14271681    |90          |2666.0         |NULL           |NULL           |63645       |15:30:00            |22:30:00          |NULL             |2021-05-25 16:55:00  |NULL         |USD               |39.0000         |NULL                |NULL                     |39.0000        |\n",
      "|14271682    |90          |2666.0         |NULL           |NULL           |63645       |15:30:00            |22:30:00          |NULL             |2021-05-25 16:55:03  |NULL         |USD               |69.0000         |NULL                |NULL                     |69.0000        |\n",
      "-----------------------------------------------------------------------------------------------------------------------------------------------------------------------------------------------------------------------------------------------------------------------------------------\n",
      "\n"
     ]
    }
   ],
   "source": [
    "orders_head.show()"
   ]
  },
  {
   "cell_type": "code",
   "execution_count": 21,
   "metadata": {},
   "outputs": [
    {
     "name": "stdout",
     "output_type": "stream",
     "text": [
      "--------------------------------------------------------------------------------------------------------------------------------------------------------\n",
      "|\"ORDER_DETAIL_ID\"  |\"ORDER_ID\"  |\"MENU_ITEM_ID\"  |\"DISCOUNT_ID\"  |\"LINE_NUMBER\"  |\"QUANTITY\"  |\"UNIT_PRICE\"  |\"PRICE\"  |\"ORDER_ITEM_DISCOUNT_AMOUNT\"  |\n",
      "--------------------------------------------------------------------------------------------------------------------------------------------------------\n",
      "|757380337          |405331986   |113             |NULL           |1              |2           |14.0000       |28.0000  |NULL                          |\n",
      "|757380338          |405331987   |112             |NULL           |0              |1           |12.0000       |12.0000  |NULL                          |\n",
      "|757380339          |405331987   |113             |NULL           |1              |3           |14.0000       |42.0000  |NULL                          |\n",
      "|757380340          |405331987   |111             |NULL           |2              |3           |12.0000       |36.0000  |NULL                          |\n",
      "|757380341          |405331988   |112             |NULL           |0              |2           |12.0000       |24.0000  |NULL                          |\n",
      "|757380342          |405331988   |114             |NULL           |1              |1           |2.0000        |2.0000   |NULL                          |\n",
      "|757380343          |405331988   |111             |NULL           |2              |1           |12.0000       |12.0000  |NULL                          |\n",
      "|757380344          |405331989   |112             |NULL           |0              |1           |12.0000       |12.0000  |NULL                          |\n",
      "|757380345          |405331989   |111             |NULL           |1              |1           |12.0000       |12.0000  |NULL                          |\n",
      "|757380346          |405331990   |112             |NULL           |0              |3           |12.0000       |36.0000  |NULL                          |\n",
      "--------------------------------------------------------------------------------------------------------------------------------------------------------\n",
      "\n"
     ]
    }
   ],
   "source": [
    "orders_detail.show()"
   ]
  },
  {
   "cell_type": "code",
   "execution_count": 22,
   "metadata": {},
   "outputs": [
    {
     "name": "stdout",
     "output_type": "stream",
     "text": [
      "-----------------------------------------------------------------------------------------------------------------------------------------------------------------------------------------------------------------------------------------------------------------------------------------\n",
      "|\"ORDER_ID\"  |\"TRUCK_ID\"  |\"LOCATION_ID\"  |\"CUSTOMER_ID\"  |\"DISCOUNT_ID\"  |\"SHIFT_ID\"  |\"SHIFT_START_TIME\"  |\"SHIFT_END_TIME\"  |\"ORDER_CHANNEL\"  |\"ORDER_TS\"           |\"SERVED_TS\"  |\"ORDER_CURRENCY\"  |\"ORDER_AMOUNT\"  |\"ORDER_TAX_AMOUNT\"  |\"ORDER_DISCOUNT_AMOUNT\"  |\"ORDER_TOTAL\"  |\n",
      "-----------------------------------------------------------------------------------------------------------------------------------------------------------------------------------------------------------------------------------------------------------------------------------------\n",
      "|48142719    |161         |8353.0         |96760          |NULL           |149789      |15:00:00            |22:00:00          |NULL             |2021-10-11 15:35:15  |NULL         |USD               |41.0000         |NULL                |NULL                     |41.0000        |\n",
      "|48142730    |161         |8353.0         |134606         |NULL           |149789      |15:00:00            |22:00:00          |NULL             |2021-10-11 15:46:52  |NULL         |USD               |48.0000         |NULL                |NULL                     |48.0000        |\n",
      "|48142856    |161         |8353.0         |167701         |NULL           |149789      |15:00:00            |22:00:00          |NULL             |2021-10-11 17:50:41  |NULL         |USD               |26.0000         |NULL                |NULL                     |26.0000        |\n",
      "|48142887    |161         |8353.0         |122973         |NULL           |149789      |15:00:00            |22:00:00          |NULL             |2021-10-11 18:12:10  |NULL         |USD               |93.0000         |NULL                |NULL                     |93.0000        |\n",
      "|48142889    |161         |8353.0         |196279         |NULL           |149789      |15:00:00            |22:00:00          |NULL             |2021-10-11 18:12:33  |NULL         |USD               |74.0000         |NULL                |NULL                     |74.0000        |\n",
      "|48142907    |161         |8353.0         |134284         |NULL           |149789      |15:00:00            |22:00:00          |NULL             |2021-10-11 18:22:30  |NULL         |USD               |12.0000         |NULL                |NULL                     |12.0000        |\n",
      "|48142947    |161         |8353.0         |191096         |NULL           |149789      |15:00:00            |22:00:00          |NULL             |2021-10-11 18:42:10  |NULL         |USD               |76.0000         |NULL                |NULL                     |76.0000        |\n",
      "|424632656   |450         |10047.0        |214002         |NULL           |200492436   |08:00:00            |14:00:00          |NULL             |2020-11-13 09:35:45  |NULL         |USD               |73.0000         |NULL                |NULL                     |73.0000        |\n",
      "|424632668   |450         |10047.0        |214207         |NULL           |200492436   |08:00:00            |14:00:00          |NULL             |2020-11-13 09:39:20  |NULL         |USD               |33.0000         |NULL                |NULL                     |33.0000        |\n",
      "|424632671   |450         |10047.0        |14596          |NULL           |200492436   |08:00:00            |14:00:00          |NULL             |2020-11-13 09:39:51  |NULL         |USD               |11.0000         |NULL                |NULL                     |11.0000        |\n",
      "-----------------------------------------------------------------------------------------------------------------------------------------------------------------------------------------------------------------------------------------------------------------------------------------\n",
      "\n"
     ]
    }
   ],
   "source": [
    "orders_head = orders_head.na.drop(subset=[\"CUSTOMER_ID\"])\n",
    "\n",
    "orders_head.show()"
   ]
  },
  {
   "cell_type": "code",
   "execution_count": 23,
   "metadata": {},
   "outputs": [],
   "source": [
    "# called `orders` with columns `customer_id` and `order_ts`\n",
    "window_spec = Window.partitionBy('customer_id').orderBy(F.col('order_ts').desc())\n",
    "\n",
    "orders_with_rank = orders_head.withColumn('rank', F.rank().over(window_spec))\n",
    "\n",
    "# Get max order of each customer\n",
    "max_order_ts = orders_with_rank.filter(F.col('rank') == 1).select('customer_id', 'order_ts')"
   ]
  },
  {
   "cell_type": "code",
   "execution_count": 24,
   "metadata": {},
   "outputs": [],
   "source": [
    "# Rename columns\n",
    "max_order_ts = max_order_ts.withColumnRenamed('ORDER_TS','Max_Order_TS')"
   ]
  },
  {
   "cell_type": "code",
   "execution_count": 25,
   "metadata": {},
   "outputs": [],
   "source": [
    "# Merge with second max order dataframe\n",
    "max_Order=orders_head.join(right=max_order_ts,on='CUSTOMER_ID',how='inner')\n",
    "\n",
    "#Filter for\n",
    "filtered_df = max_Order.filter(F.col('ORDER_TS') == F.col('Max_Order_TS'))"
   ]
  },
  {
   "cell_type": "code",
   "execution_count": 26,
   "metadata": {},
   "outputs": [
    {
     "name": "stdout",
     "output_type": "stream",
     "text": [
      "---------------------------------------------------------------------------------------------------------------------------------------------------------------------------------------------------------------------------------------------------------------------------------------------------------------\n",
      "|\"CUSTOMER_ID\"  |\"ORDER_ID\"  |\"TRUCK_ID\"  |\"LOCATION_ID\"  |\"DISCOUNT_ID\"  |\"SHIFT_ID\"  |\"SHIFT_START_TIME\"  |\"SHIFT_END_TIME\"  |\"ORDER_CHANNEL\"  |\"ORDER_TS\"           |\"SERVED_TS\"  |\"ORDER_CURRENCY\"  |\"ORDER_AMOUNT\"  |\"ORDER_TAX_AMOUNT\"  |\"ORDER_DISCOUNT_AMOUNT\"  |\"ORDER_TOTAL\"  |\"MAX_ORDER_TS\"       |\n",
      "---------------------------------------------------------------------------------------------------------------------------------------------------------------------------------------------------------------------------------------------------------------------------------------------------------------\n",
      "|193920         |129941626   |272         |7643.0         |NULL           |296484      |09:00:00            |15:00:00          |NULL             |2022-07-18 11:28:37  |NULL         |USD               |70.0000         |NULL                |NULL                     |70.0000        |2022-07-18 11:28:37  |\n",
      "|65020          |31933504    |113         |8462.0         |NULL           |112268      |08:30:00            |14:30:00          |NULL             |2022-08-26 13:19:11  |NULL         |USD               |53.0000         |NULL                |NULL                     |53.0000        |2022-08-26 13:19:11  |\n",
      "|109187         |31933641    |113         |1853.0         |NULL           |112269      |15:30:00            |22:30:00          |NULL             |2022-08-26 17:04:59  |NULL         |USD               |49.0000         |NULL                |NULL                     |49.0000        |2022-08-26 17:04:59  |\n",
      "|121570         |31941826    |107         |5368.0         |NULL           |112287      |16:00:00            |23:00:00          |NULL             |2022-08-27 16:31:13  |NULL         |USD               |15.0000         |NULL                |NULL                     |15.0000        |2022-08-27 16:31:13  |\n",
      "|28287          |459271526   |56          |2227.0         |NULL           |200581918   |08:00:00            |14:00:00          |NULL             |2022-09-17 09:05:22  |NULL         |USD               |52.0000         |NULL                |NULL                     |52.0000        |2022-09-17 09:05:22  |\n",
      "|41355          |459271579   |56          |2227.0         |NULL           |200581918   |08:00:00            |14:00:00          |NULL             |2022-09-17 11:01:00  |NULL         |USD               |26.0000         |NULL                |NULL                     |26.0000        |2022-09-17 11:01:00  |\n",
      "|118360         |459271648   |56          |2227.0         |NULL           |200581918   |08:00:00            |14:00:00          |NULL             |2022-09-17 12:43:32  |NULL         |USD               |40.0000         |NULL                |NULL                     |40.0000        |2022-09-17 12:43:32  |\n",
      "|210024         |384159022   |355         |8197.0         |NULL           |200400307   |15:00:00            |22:00:00          |NULL             |2022-09-01 19:38:10  |NULL         |USD               |10.0000         |NULL                |NULL                     |10.0000        |2022-09-01 19:38:10  |\n",
      "|98836          |459271810   |56          |15332.0        |NULL           |200581919   |15:00:00            |22:00:00          |NULL             |2022-09-17 19:06:56  |NULL         |USD               |124.0000        |NULL                |NULL                     |124.0000       |2022-09-17 19:06:56  |\n",
      "|215955         |384167398   |346         |10251.0        |NULL           |200400319   |15:00:00            |22:00:00          |NULL             |2022-09-02 20:27:36  |NULL         |USD               |49.5000         |NULL                |NULL                     |49.5000        |2022-09-02 20:27:36  |\n",
      "---------------------------------------------------------------------------------------------------------------------------------------------------------------------------------------------------------------------------------------------------------------------------------------------------------------\n",
      "\n"
     ]
    }
   ],
   "source": [
    "filtered_df.show()"
   ]
  },
  {
   "cell_type": "code",
   "execution_count": 27,
   "metadata": {},
   "outputs": [
    {
     "name": "stdout",
     "output_type": "stream",
     "text": [
      "------------------------------------------------------------------------------------------------------------------------------------------------------------------------------------------------------------------------------------------------------------------------------------------------------------------------------------------------------------------------------------------------------------------------------------------------------------------------------------------------------------------------------------------------------------------------------\n",
      "|\"CUSTOMER_ID\"  |\"ORDER_ID\"  |\"TRUCK_ID\"  |\"LOCATION_ID\"  |\"DISCOUNT_ID\"  |\"SHIFT_ID\"  |\"SHIFT_START_TIME\"  |\"SHIFT_END_TIME\"  |\"ORDER_CHANNEL\"  |\"ORDER_TS\"           |\"SERVED_TS\"  |\"ORDER_CURRENCY\"  |\"ORDER_AMOUNT\"  |\"ORDER_TAX_AMOUNT\"  |\"ORDER_DISCOUNT_AMOUNT\"  |\"ORDER_TOTAL\"  |\"MAX_ORDER_TS\"       |\"FIRST_NAME\"  |\"LAST_NAME\"  |\"CITY\"     |\"COUNTRY\"      |\"POSTAL_CODE\"  |\"PREFERRED_LANGUAGE\"  |\"GENDER\"  |\"FAVOURITE_BRAND\"  |\"MARITAL_STATUS\"  |\"CHILDREN_COUNT\"  |\"SIGN_UP_DATE\"  |\"BIRTHDAY_DATE\"  |\"E_MAIL\"                             |\"PHONE_NUMBER\"  |\n",
      "------------------------------------------------------------------------------------------------------------------------------------------------------------------------------------------------------------------------------------------------------------------------------------------------------------------------------------------------------------------------------------------------------------------------------------------------------------------------------------------------------------------------------------------------------------------------------\n",
      "|190564         |92872881    |239         |6010.0         |NULL           |245872      |08:00:00            |14:00:00          |NULL             |2022-10-31 12:30:36  |NULL         |USD               |59.0000         |NULL                |NULL                     |59.0000        |2022-10-31 12:30:36  |Arturo        |Hays         |Delhi      |India          |110044         |Hindi                 |Male      |NULL               |Single            |0                 |2022-06-09      |1967-09-02       |Arturo.Hays@aol.com                  |244-678-8903    |\n",
      "|98631          |131322514   |280         |7718.0         |NULL           |298421      |15:30:00            |22:30:00          |NULL             |2022-09-20 18:59:57  |NULL         |USD               |50.0000         |NULL                |NULL                     |50.0000        |2022-09-20 18:59:57  |Micah         |Reilly       |Sydney     |Australia      |2055           |English               |Male      |NULL               |Married           |2                 |2021-12-18      |1948-05-20       |Micah.Reilly@ymail.com               |512-115-5988    |\n",
      "|11001          |32653086    |107         |2906.0         |NULL           |113817      |15:00:00            |22:00:00          |NULL             |2022-10-17 16:02:49  |NULL         |USD               |87.0000         |NULL                |NULL                     |87.0000        |2022-10-17 16:02:49  |Lindsey       |Brewer       |Montreal   |Canada         |H2J 3E3        |English               |Female    |NULL               |Single            |0                 |2021-05-09      |1988-03-23       |Lindsey.Brewer@hotmail.com           |557-691-0448    |\n",
      "|200163         |356640143   |308         |6958.0         |NULL           |200353718   |08:00:00            |14:00:00          |NULL             |2022-10-23 10:20:03  |NULL         |USD               |80.0000         |NULL                |NULL                     |80.0000        |2022-10-23 10:20:03  |Darryl        |Beard        |Sao Paulo  |Brazil         |NULL           |Portuguese            |Female    |NULL               |Married           |1                 |2019-05-21      |1975-02-25       |**~MASKED~**.**~MASKED~**@gmail.com  |111-111-1111    |\n",
      "|12241          |392603407   |366         |10766.0        |NULL           |200417626   |08:00:00            |14:00:00          |NULL             |2022-10-30 10:58:24  |NULL         |USD               |16.0000         |NULL                |NULL                     |16.0000        |2022-10-30 10:58:24  |Dustin        |Horne        |Hamburg    |Germany        |21129          |German                |Male      |NULL               |Married           |1                 |2022-03-06      |1951-01-18       |Dustin.Horne@ymail.com               |746-752-7507    |\n",
      "|174428         |104194169   |254         |11610.0        |NULL           |261106      |08:30:00            |14:30:00          |NULL             |2022-10-08 12:42:51  |NULL         |USD               |130.0000        |NULL                |NULL                     |130.0000       |2022-10-08 12:42:51  |Shaun         |Ali          |Tokyo      |Japan          |176-0000       |Japanese              |Male      |NULL               |Married           |0                 |2019-05-27      |1980-05-13       |Shaun.Ali@hotmail.com                |451-931-7809    |\n",
      "|20265          |22005099    |81          |1986.0         |NULL           |76368       |08:00:00            |14:00:00          |NULL             |2022-10-28 12:47:17  |NULL         |USD               |18.0000         |NULL                |NULL                     |18.0000        |2022-10-28 12:47:17  |Enrique       |Kelly        |Toronto    |Canada         |M4C 1V6        |English               |Male      |NULL               |Single            |0                 |2021-03-31      |1989-06-17       |Enrique.Kelly@gmail.com              |203-831-0609    |\n",
      "|76311          |452697397   |18          |1035.0         |NULL           |200546701   |15:00:00            |22:00:00          |NULL             |2022-10-26 19:54:22  |NULL         |USD               |34.0000         |NULL                |NULL                     |34.0000        |2022-10-26 19:54:22  |Octavio       |Sharp        |Denver     |United States  |80257          |English               |Male      |NULL               |Single            |0                 |2020-09-22      |1976-05-13       |Octavio.Sharp@hotmail.com            |235-395-8399    |\n",
      "|141486         |343529441   |6           |4044.0         |NULL           |200335838   |08:00:00            |14:00:00          |NULL             |2022-10-25 08:20:07  |NULL         |USD               |20.0000         |NULL                |NULL                     |20.0000        |2022-10-25 08:20:07  |Erica         |Tran         |San Mateo  |United States  |94404          |English               |Female    |NULL               |Married           |4                 |2019-01-05      |1968-07-23       |Erica.Tran@aol.com                   |200-891-8379    |\n",
      "|92741          |25924689    |91          |3526.0         |NULL           |98556       |08:00:00            |14:00:00          |NULL             |2022-10-27 11:57:48  |NULL         |USD               |7.0000          |NULL                |NULL                     |7.0000         |2022-10-27 11:57:48  |Maxim         |Mcguire      |Vancouver  |Canada         |V5K 2E6        |English               |Female    |NULL               |Single            |2                 |2020-04-11      |1955-08-20       |Maxim.Mcguire@ymail.com              |926-484-2914    |\n",
      "------------------------------------------------------------------------------------------------------------------------------------------------------------------------------------------------------------------------------------------------------------------------------------------------------------------------------------------------------------------------------------------------------------------------------------------------------------------------------------------------------------------------------------------------------------------------------\n",
      "\n"
     ]
    }
   ],
   "source": [
    "filter_customer = filtered_df.join(CUSTOMERS, on='CUSTOMER_ID', how='left')\n",
    "\n",
    "filter_customer.show()"
   ]
  },
  {
   "cell_type": "code",
   "execution_count": 28,
   "metadata": {},
   "outputs": [
    {
     "name": "stdout",
     "output_type": "stream",
     "text": [
      "----------------------------------------------------------------------------------------------------------------------------------------------------------------------------------------------------------------------------------------------------------------------------------------------------------------------------------------------------------------------------------------------------------------------------------------------------------------------------------------------------------------------------------------------------------------------------\n",
      "|\"CUSTOMER_ID\"  |\"ORDER_ID\"  |\"TRUCK_ID\"  |\"LOCATION_ID\"  |\"DISCOUNT_ID\"  |\"SHIFT_ID\"  |\"SHIFT_START_TIME\"  |\"SHIFT_END_TIME\"  |\"ORDER_CHANNEL\"  |\"ORDER_TS\"           |\"SERVED_TS\"  |\"ORDER_CURRENCY\"  |\"ORDER_AMOUNT\"  |\"ORDER_TAX_AMOUNT\"  |\"ORDER_DISCOUNT_AMOUNT\"  |\"ORDER_TOTAL\"  |\"MAX_ORDER_TS\"       |\"FIRST_NAME\"  |\"LAST_NAME\"  |\"CITY\"         |\"COUNTRY\"      |\"POSTAL_CODE\"  |\"PREFERRED_LANGUAGE\"  |\"GENDER\"     |\"FAVOURITE_BRAND\"  |\"MARITAL_STATUS\"  |\"CHILDREN_COUNT\"  |\"SIGN_UP_DATE\"  |\"BIRTHDAY_DATE\"  |\"E_MAIL\"                    |\"PHONE_NUMBER\"  |\n",
      "----------------------------------------------------------------------------------------------------------------------------------------------------------------------------------------------------------------------------------------------------------------------------------------------------------------------------------------------------------------------------------------------------------------------------------------------------------------------------------------------------------------------------------------------------------------------------\n",
      "|85316          |448547505   |71          |15124.0        |NULL           |200525514   |08:30:00            |14:30:00          |NULL             |2022-10-27 09:13:04  |NULL         |USD               |60.0000         |NULL                |NULL                     |60.0000        |2022-10-27 09:13:04  |Jesse         |Ruiz         |New York City  |United States  |11373          |English               |Female       |NULL               |Married           |2                 |2021-11-26      |1962-09-23       |Jesse.Ruiz@aol.com          |515-988-2908    |\n",
      "|171046         |456268261   |35          |2420.0         |NULL           |200565105   |15:00:00            |22:00:00          |NULL             |2022-10-24 18:32:35  |NULL         |USD               |17.2500         |NULL                |NULL                     |17.2500        |2022-10-24 18:32:35  |Harper        |Long         |Seattle        |United States  |98185          |English               |Female       |NULL               |Single            |0                 |2020-08-15      |1975-01-08       |Harper.Long@hotmail.com     |621-557-8206    |\n",
      "|122745         |448489141   |61          |15144.0        |NULL           |200525434   |08:00:00            |14:00:00          |NULL             |2022-10-25 11:58:57  |NULL         |USD               |33.0000         |NULL                |NULL                     |33.0000        |2022-10-25 11:58:57  |Makayla       |Beasley      |New York City  |United States  |11368          |English               |Female       |NULL               |Married           |2                 |2021-01-26      |1961-01-08       |Makayla.Beasley@aol.com     |884-562-9363    |\n",
      "|63114          |459501369   |57          |15359.0        |NULL           |200583150   |08:30:00            |14:30:00          |NULL             |2022-10-28 09:43:14  |NULL         |USD               |47.0000         |NULL                |NULL                     |47.0000        |2022-10-28 09:43:14  |Tristian      |Harper       |Boston         |United States  |2136           |English               |Undisclosed  |NULL               |Married           |2                 |2020-10-14      |1989-06-27       |Tristian.Harper@gmail.com   |928-400-4689    |\n",
      "|53148          |459509413   |59          |15430.0        |NULL           |200583185   |16:00:00            |23:00:00          |NULL             |2022-10-29 22:41:29  |NULL         |USD               |101.0000        |NULL                |NULL                     |101.0000       |2022-10-29 22:41:29  |Lane          |Dodson       |Boston         |United States  |2134           |English               |Male         |NULL               |Married           |2                 |2020-10-21      |1980-12-29       |Lane.Dodson@hotmail.com     |256-030-3485    |\n",
      "|118449         |448607658   |66          |3274.0         |NULL           |200525594   |08:30:00            |14:30:00          |NULL             |2022-10-30 12:09:47  |NULL         |USD               |37.0000         |NULL                |NULL                     |37.0000        |2022-10-30 12:09:47  |Kennedi       |Palmer       |New York City  |United States  |11368          |English               |Female       |NULL               |Single            |0                 |2021-09-12      |1993-03-26       |Kennedi.Palmer@gmail.com    |888-902-0469    |\n",
      "|96094          |448194022   |71          |2821.0         |NULL           |200525035   |15:00:00            |22:00:00          |NULL             |2022-10-11 19:48:06  |NULL         |USD               |12.0000         |NULL                |NULL                     |12.0000        |2022-10-11 19:48:06  |Madelyn       |Valdez       |New York City  |United States  |11236          |English               |Female       |NULL               |Single            |0                 |2021-06-21      |1948-04-08       |Madelyn.Valdez@ymail.com    |457-796-3645    |\n",
      "|41572          |459468652   |54          |3731.0         |NULL           |200582965   |15:00:00            |22:00:00          |NULL             |2022-10-22 21:31:54  |NULL         |USD               |92.0000         |NULL                |NULL                     |92.0000        |2022-10-22 21:31:54  |Raymond       |Mcdaniel     |Boston         |United States  |2136           |English               |Male         |NULL               |Single            |0                 |2020-01-01      |1953-04-05       |Raymond.Mcdaniel@ymail.com  |580-210-7223    |\n",
      "|194470         |343533931   |4           |2655.0         |NULL           |200335985   |16:00:00            |23:00:00          |NULL             |2022-10-30 19:58:10  |NULL         |USD               |50.0000         |NULL                |NULL                     |50.0000        |2022-10-30 19:58:10  |Brady         |Cook         |San Mateo      |United States  |94402          |English               |Undisclosed  |NULL               |Single            |0                 |2019-05-01      |1953-06-09       |Brady.Cook@ymail.com        |207-799-9395    |\n",
      "|16146          |343497103   |12          |1723.0         |NULL           |200334710   |09:00:00            |15:00:00          |NULL             |2022-09-17 09:09:49  |NULL         |USD               |32.0000         |NULL                |NULL                     |32.0000        |2022-09-17 09:09:49  |Kane          |Webb         |San Mateo      |United States  |94403          |English               |Undisclosed  |NULL               |Single            |0                 |2022-03-03      |1964-10-17       |Kane.Webb@aol.com           |249-140-4232    |\n",
      "----------------------------------------------------------------------------------------------------------------------------------------------------------------------------------------------------------------------------------------------------------------------------------------------------------------------------------------------------------------------------------------------------------------------------------------------------------------------------------------------------------------------------------------------------------------------------\n",
      "\n"
     ]
    }
   ],
   "source": [
    "filter_customer_USA = filter_customer.where(filter_customer.COUNTRY == 'United States')\n",
    "\n",
    "filter_customer_USA.show()"
   ]
  },
  {
   "cell_type": "code",
   "execution_count": 31,
   "metadata": {},
   "outputs": [
    {
     "name": "stdout",
     "output_type": "stream",
     "text": [
      "---------------------------------------------------------------------------------------------------------------------------------------------------------------------------------------------------------------------------------------------------------------------------------------------------------------------------------------------------------------------------------------------------------------------------------------------------------------------------------------------------------------------------------------------------------------------------------------------------------------------------------------------------------------------------------------------------------------------------------\n",
      "|\"ORDER_ID\"  |\"CUSTOMER_ID\"  |\"TRUCK_ID\"  |\"LOCATION_ID\"  |\"l_2jge_DISCOUNT_ID\"  |\"SHIFT_ID\"  |\"SHIFT_START_TIME\"  |\"SHIFT_END_TIME\"  |\"ORDER_CHANNEL\"  |\"ORDER_TS\"           |\"SERVED_TS\"  |\"ORDER_CURRENCY\"  |\"ORDER_AMOUNT\"  |\"ORDER_TAX_AMOUNT\"  |\"ORDER_DISCOUNT_AMOUNT\"  |\"ORDER_TOTAL\"  |\"MAX_ORDER_TS\"       |\"FIRST_NAME\"  |\"LAST_NAME\"  |\"CITY\"         |\"COUNTRY\"      |\"POSTAL_CODE\"  |\"PREFERRED_LANGUAGE\"  |\"GENDER\"  |\"FAVOURITE_BRAND\"  |\"MARITAL_STATUS\"    |\"CHILDREN_COUNT\"  |\"SIGN_UP_DATE\"  |\"BIRTHDAY_DATE\"  |\"E_MAIL\"                  |\"PHONE_NUMBER\"  |\"ORDER_DETAIL_ID\"  |\"MENU_ITEM_ID\"  |\"r_y8mt_DISCOUNT_ID\"  |\"LINE_NUMBER\"  |\"QUANTITY\"  |\"UNIT_PRICE\"  |\"PRICE\"  |\"ORDER_ITEM_DISCOUNT_AMOUNT\"  |\n",
      "---------------------------------------------------------------------------------------------------------------------------------------------------------------------------------------------------------------------------------------------------------------------------------------------------------------------------------------------------------------------------------------------------------------------------------------------------------------------------------------------------------------------------------------------------------------------------------------------------------------------------------------------------------------------------------------------------------------------------------\n",
      "|448632556   |46069          |68          |9642.0         |NULL                  |200525628   |08:00:00            |14:00:00          |NULL             |2022-10-31 11:54:41  |NULL         |USD               |42.0000         |NULL                |NULL                     |42.0000        |2022-10-31 11:54:41  |Dominik       |Eaton        |New York City  |United States  |11208          |English               |Male      |NULL               |Divorced/Seperated  |4                 |2019-04-09      |1956-05-06       |Dominik.Eaton@aol.com     |457-267-6341    |874830851          |85              |NULL                  |2              |1           |3.0000        |3.0000   |NULL                          |\n",
      "|448632556   |46069          |68          |9642.0         |NULL                  |200525628   |08:00:00            |14:00:00          |NULL             |2022-10-31 11:54:41  |NULL         |USD               |42.0000         |NULL                |NULL                     |42.0000        |2022-10-31 11:54:41  |Dominik       |Eaton        |New York City  |United States  |11208          |English               |Male      |NULL               |Divorced/Seperated  |4                 |2019-04-09      |1956-05-06       |Dominik.Eaton@aol.com     |457-267-6341    |874830850          |83              |NULL                  |1              |3           |9.0000        |27.0000  |NULL                          |\n",
      "|448632556   |46069          |68          |9642.0         |NULL                  |200525628   |08:00:00            |14:00:00          |NULL             |2022-10-31 11:54:41  |NULL         |USD               |42.0000         |NULL                |NULL                     |42.0000        |2022-10-31 11:54:41  |Dominik       |Eaton        |New York City  |United States  |11208          |English               |Male      |NULL               |Divorced/Seperated  |4                 |2019-04-09      |1956-05-06       |Dominik.Eaton@aol.com     |457-267-6341    |874830849          |81              |NULL                  |0              |1           |12.0000       |12.0000  |NULL                          |\n",
      "|448632586   |148430         |68          |9642.0         |NULL                  |200525628   |08:00:00            |14:00:00          |NULL             |2022-10-31 12:14:06  |NULL         |USD               |24.0000         |NULL                |NULL                     |24.0000        |2022-10-31 12:14:06  |Aden          |Walters      |New York City  |United States  |11208          |English               |Female    |NULL               |Single              |0                 |2020-11-21      |1987-07-03       |Aden.Walters@hotmail.com  |322-721-2421    |874830926          |82              |NULL                  |0              |1           |15.0000       |15.0000  |NULL                          |\n",
      "|448632586   |148430         |68          |9642.0         |NULL                  |200525628   |08:00:00            |14:00:00          |NULL             |2022-10-31 12:14:06  |NULL         |USD               |24.0000         |NULL                |NULL                     |24.0000        |2022-10-31 12:14:06  |Aden          |Walters      |New York City  |United States  |11208          |English               |Female    |NULL               |Single              |0                 |2020-11-21      |1987-07-03       |Aden.Walters@hotmail.com  |322-721-2421    |874830927          |83              |NULL                  |1              |1           |9.0000        |9.0000   |NULL                          |\n",
      "|343409073   |169187         |14          |1801.0         |NULL                  |200331684   |08:30:00            |14:30:00          |NULL             |2022-06-08 09:28:28  |NULL         |USD               |33.0000         |NULL                |NULL                     |33.0000        |2022-06-08 09:28:28  |Kaeden        |Andrews      |San Mateo      |United States  |94404          |English               |Female    |NULL               |Married             |2                 |2022-04-11      |1942-09-22       |Kaeden.Andrews@ymail.com  |498-168-7915    |588287076          |142             |NULL                  |0              |1           |18.0000       |18.0000  |NULL                          |\n",
      "|343409073   |169187         |14          |1801.0         |NULL                  |200331684   |08:30:00            |14:30:00          |NULL             |2022-06-08 09:28:28  |NULL         |USD               |33.0000         |NULL                |NULL                     |33.0000        |2022-06-08 09:28:28  |Kaeden        |Andrews      |San Mateo      |United States  |94404          |English               |Female    |NULL               |Married             |2                 |2022-04-11      |1942-09-22       |Kaeden.Andrews@ymail.com  |498-168-7915    |588287077          |143             |NULL                  |1              |1           |15.0000       |15.0000  |NULL                          |\n",
      "|343420996   |7148           |5           |3092.0         |NULL                  |200332086   |08:00:00            |14:00:00          |NULL             |2022-06-22 09:37:40  |NULL         |USD               |53.7500         |NULL                |NULL                     |53.7500        |2022-06-22 09:37:40  |Laci          |Patterson    |San Mateo      |United States  |94402          |English               |Male      |NULL               |Single              |0                 |2020-05-30      |1959-11-24       |Laci.Patterson@aol.com    |485-877-0524    |588319272          |51              |NULL                  |0              |1           |17.2500       |17.2500  |NULL                          |\n",
      "|343420996   |7148           |5           |3092.0         |NULL                  |200332086   |08:00:00            |14:00:00          |NULL             |2022-06-22 09:37:40  |NULL         |USD               |53.7500         |NULL                |NULL                     |53.7500        |2022-06-22 09:37:40  |Laci          |Patterson    |San Mateo      |United States  |94402          |English               |Male      |NULL               |Single              |0                 |2020-05-30      |1959-11-24       |Laci.Patterson@aol.com    |485-877-0524    |588319273          |52              |NULL                  |1              |1           |17.2500       |17.2500  |NULL                          |\n",
      "|343420996   |7148           |5           |3092.0         |NULL                  |200332086   |08:00:00            |14:00:00          |NULL             |2022-06-22 09:37:40  |NULL         |USD               |53.7500         |NULL                |NULL                     |53.7500        |2022-06-22 09:37:40  |Laci          |Patterson    |San Mateo      |United States  |94402          |English               |Male      |NULL               |Single              |0                 |2020-05-30      |1959-11-24       |Laci.Patterson@aol.com    |485-877-0524    |588319274          |53              |NULL                  |2              |1           |17.2500       |17.2500  |NULL                          |\n",
      "---------------------------------------------------------------------------------------------------------------------------------------------------------------------------------------------------------------------------------------------------------------------------------------------------------------------------------------------------------------------------------------------------------------------------------------------------------------------------------------------------------------------------------------------------------------------------------------------------------------------------------------------------------------------------------------------------------------------------------\n",
      "\n"
     ]
    }
   ],
   "source": [
    "order_with_detail = filter_customer_USA.join(right=orders_detail,on='ORDER_ID',how='inner')\n",
    "\n",
    "order_with_detail.show()"
   ]
  },
  {
   "cell_type": "code",
   "execution_count": 32,
   "metadata": {},
   "outputs": [
    {
     "name": "stdout",
     "output_type": "stream",
     "text": [
      "---------------------------------------------------------------------------------------------------------------------------------------------------------------------------------------------------------------------------------------------------------------------------------------------------------------------------------------------------------------------------------------------------------------------------------------------------------------------------------------------------------------------------------------------------------------------------------------------------------------------------------------------------------------------------------------------------\n",
      "|\"ORDER_ID\"  |\"CUSTOMER_ID\"  |\"TRUCK_ID\"  |\"LOCATION_ID\"  |\"SHIFT_ID\"  |\"SHIFT_START_TIME\"  |\"SHIFT_END_TIME\"  |\"ORDER_CHANNEL\"  |\"ORDER_TS\"           |\"SERVED_TS\"  |\"ORDER_CURRENCY\"  |\"ORDER_AMOUNT\"  |\"ORDER_TAX_AMOUNT\"  |\"ORDER_DISCOUNT_AMOUNT\"  |\"ORDER_TOTAL\"  |\"MAX_ORDER_TS\"       |\"FIRST_NAME\"  |\"LAST_NAME\"  |\"CITY\"         |\"COUNTRY\"      |\"POSTAL_CODE\"  |\"PREFERRED_LANGUAGE\"  |\"GENDER\"  |\"FAVOURITE_BRAND\"  |\"MARITAL_STATUS\"    |\"CHILDREN_COUNT\"  |\"SIGN_UP_DATE\"  |\"BIRTHDAY_DATE\"  |\"E_MAIL\"                  |\"PHONE_NUMBER\"  |\"ORDER_DETAIL_ID\"  |\"MENU_ITEM_ID\"  |\"DISCOUNT_ID\"  |\"LINE_NUMBER\"  |\"QUANTITY\"  |\"UNIT_PRICE\"  |\"PRICE\"  |\"ORDER_ITEM_DISCOUNT_AMOUNT\"  |\n",
      "---------------------------------------------------------------------------------------------------------------------------------------------------------------------------------------------------------------------------------------------------------------------------------------------------------------------------------------------------------------------------------------------------------------------------------------------------------------------------------------------------------------------------------------------------------------------------------------------------------------------------------------------------------------------------------------------------\n",
      "|448632556   |46069          |68          |9642.0         |200525628   |08:00:00            |14:00:00          |NULL             |2022-10-31 11:54:41  |NULL         |USD               |42.0000         |NULL                |NULL                     |42.0000        |2022-10-31 11:54:41  |Dominik       |Eaton        |New York City  |United States  |11208          |English               |Male      |NULL               |Divorced/Seperated  |4                 |2019-04-09      |1956-05-06       |Dominik.Eaton@aol.com     |457-267-6341    |874830851          |85              |NULL           |2              |1           |3.0000        |3.0000   |NULL                          |\n",
      "|448632556   |46069          |68          |9642.0         |200525628   |08:00:00            |14:00:00          |NULL             |2022-10-31 11:54:41  |NULL         |USD               |42.0000         |NULL                |NULL                     |42.0000        |2022-10-31 11:54:41  |Dominik       |Eaton        |New York City  |United States  |11208          |English               |Male      |NULL               |Divorced/Seperated  |4                 |2019-04-09      |1956-05-06       |Dominik.Eaton@aol.com     |457-267-6341    |874830850          |83              |NULL           |1              |3           |9.0000        |27.0000  |NULL                          |\n",
      "|448632556   |46069          |68          |9642.0         |200525628   |08:00:00            |14:00:00          |NULL             |2022-10-31 11:54:41  |NULL         |USD               |42.0000         |NULL                |NULL                     |42.0000        |2022-10-31 11:54:41  |Dominik       |Eaton        |New York City  |United States  |11208          |English               |Male      |NULL               |Divorced/Seperated  |4                 |2019-04-09      |1956-05-06       |Dominik.Eaton@aol.com     |457-267-6341    |874830849          |81              |NULL           |0              |1           |12.0000       |12.0000  |NULL                          |\n",
      "|448632586   |148430         |68          |9642.0         |200525628   |08:00:00            |14:00:00          |NULL             |2022-10-31 12:14:06  |NULL         |USD               |24.0000         |NULL                |NULL                     |24.0000        |2022-10-31 12:14:06  |Aden          |Walters      |New York City  |United States  |11208          |English               |Female    |NULL               |Single              |0                 |2020-11-21      |1987-07-03       |Aden.Walters@hotmail.com  |322-721-2421    |874830926          |82              |NULL           |0              |1           |15.0000       |15.0000  |NULL                          |\n",
      "|448632586   |148430         |68          |9642.0         |200525628   |08:00:00            |14:00:00          |NULL             |2022-10-31 12:14:06  |NULL         |USD               |24.0000         |NULL                |NULL                     |24.0000        |2022-10-31 12:14:06  |Aden          |Walters      |New York City  |United States  |11208          |English               |Female    |NULL               |Single              |0                 |2020-11-21      |1987-07-03       |Aden.Walters@hotmail.com  |322-721-2421    |874830927          |83              |NULL           |1              |1           |9.0000        |9.0000   |NULL                          |\n",
      "|343409073   |169187         |14          |1801.0         |200331684   |08:30:00            |14:30:00          |NULL             |2022-06-08 09:28:28  |NULL         |USD               |33.0000         |NULL                |NULL                     |33.0000        |2022-06-08 09:28:28  |Kaeden        |Andrews      |San Mateo      |United States  |94404          |English               |Female    |NULL               |Married             |2                 |2022-04-11      |1942-09-22       |Kaeden.Andrews@ymail.com  |498-168-7915    |588287076          |142             |NULL           |0              |1           |18.0000       |18.0000  |NULL                          |\n",
      "|343409073   |169187         |14          |1801.0         |200331684   |08:30:00            |14:30:00          |NULL             |2022-06-08 09:28:28  |NULL         |USD               |33.0000         |NULL                |NULL                     |33.0000        |2022-06-08 09:28:28  |Kaeden        |Andrews      |San Mateo      |United States  |94404          |English               |Female    |NULL               |Married             |2                 |2022-04-11      |1942-09-22       |Kaeden.Andrews@ymail.com  |498-168-7915    |588287077          |143             |NULL           |1              |1           |15.0000       |15.0000  |NULL                          |\n",
      "|343420996   |7148           |5           |3092.0         |200332086   |08:00:00            |14:00:00          |NULL             |2022-06-22 09:37:40  |NULL         |USD               |53.7500         |NULL                |NULL                     |53.7500        |2022-06-22 09:37:40  |Laci          |Patterson    |San Mateo      |United States  |94402          |English               |Male      |NULL               |Single              |0                 |2020-05-30      |1959-11-24       |Laci.Patterson@aol.com    |485-877-0524    |588319272          |51              |NULL           |0              |1           |17.2500       |17.2500  |NULL                          |\n",
      "|343420996   |7148           |5           |3092.0         |200332086   |08:00:00            |14:00:00          |NULL             |2022-06-22 09:37:40  |NULL         |USD               |53.7500         |NULL                |NULL                     |53.7500        |2022-06-22 09:37:40  |Laci          |Patterson    |San Mateo      |United States  |94402          |English               |Male      |NULL               |Single              |0                 |2020-05-30      |1959-11-24       |Laci.Patterson@aol.com    |485-877-0524    |588319273          |52              |NULL           |1              |1           |17.2500       |17.2500  |NULL                          |\n",
      "|343420996   |7148           |5           |3092.0         |200332086   |08:00:00            |14:00:00          |NULL             |2022-06-22 09:37:40  |NULL         |USD               |53.7500         |NULL                |NULL                     |53.7500        |2022-06-22 09:37:40  |Laci          |Patterson    |San Mateo      |United States  |94402          |English               |Male      |NULL               |Single              |0                 |2020-05-30      |1959-11-24       |Laci.Patterson@aol.com    |485-877-0524    |588319274          |53              |NULL           |2              |1           |17.2500       |17.2500  |NULL                          |\n",
      "---------------------------------------------------------------------------------------------------------------------------------------------------------------------------------------------------------------------------------------------------------------------------------------------------------------------------------------------------------------------------------------------------------------------------------------------------------------------------------------------------------------------------------------------------------------------------------------------------------------------------------------------------------------------------------------------------\n",
      "\n"
     ]
    }
   ],
   "source": [
    "order_with_detail = remove_dup_join_col(order_with_detail)\n",
    "order_with_detail.show()"
   ]
  },
  {
   "cell_type": "code",
   "execution_count": 34,
   "metadata": {},
   "outputs": [
    {
     "data": {
      "text/plain": [
       "125999"
      ]
     },
     "execution_count": 34,
     "metadata": {},
     "output_type": "execute_result"
    }
   ],
   "source": [
    "order_with_detail.count()"
   ]
  },
  {
   "cell_type": "code",
   "execution_count": 35,
   "metadata": {},
   "outputs": [
    {
     "data": {
      "text/plain": [
       "46300"
      ]
     },
     "execution_count": 35,
     "metadata": {},
     "output_type": "execute_result"
    }
   ],
   "source": [
    "filter_customer_USA.count()"
   ]
  },
  {
   "cell_type": "code",
   "execution_count": 33,
   "metadata": {},
   "outputs": [],
   "source": [
    "order_with_detail.write.save_as_table(table_name=\"ORDER_DETAILS_USA_MATCHED\", mode='overwrite')\n",
    "filter_customer_USA.write.save_as_table(table_name=\"ORDER_HEAD_USA_MATCHED\", mode='overwrite')"
   ]
  }
 ],
 "metadata": {
  "kernelspec": {
   "display_name": "py38_env",
   "language": "python",
   "name": "python3"
  },
  "language_info": {
   "codemirror_mode": {
    "name": "ipython",
    "version": 3
   },
   "file_extension": ".py",
   "mimetype": "text/x-python",
   "name": "python",
   "nbconvert_exporter": "python",
   "pygments_lexer": "ipython3",
   "version": "3.8.16"
  },
  "orig_nbformat": 4
 },
 "nbformat": 4,
 "nbformat_minor": 2
}
