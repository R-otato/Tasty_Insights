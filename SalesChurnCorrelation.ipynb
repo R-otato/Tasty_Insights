{
 "cells": [
  {
   "cell_type": "code",
   "execution_count": 1,
   "metadata": {},
   "outputs": [],
   "source": [
    "#Import Python packages\n",
    "import pandas as pd\n",
    "import json\n",
    "import matplotlib.pyplot as plt\n",
    "import seaborn as sns\n",
    "import json\n",
    "import datetime\n",
    "\n",
    "# Import Snowflake modules\n",
    "from snowflake.snowpark import Session\n",
    "import snowflake.snowpark.functions as F\n",
    "import snowflake.snowpark.types as T\n",
    "from snowflake.snowpark import Window"
   ]
  },
  {
   "cell_type": "code",
   "execution_count": 2,
   "metadata": {},
   "outputs": [],
   "source": [
    "# Get account credentials from a json file\n",
    "with open(\"data_scientist_auth.json\") as f:\n",
    "    data = json.load(f)\n",
    "    username = data[\"username\"]\n",
    "    password = data[\"password\"]\n",
    "    account = data[\"account\"]\n",
    "\n",
    "# Specify connection parameters\n",
    "connection_parameters = {\n",
    "    \"account\": account,\n",
    "    \"user\": username,\n",
    "    \"password\": password,\n",
    "    \"role\": \"TASTY_BI\",\n",
    "    \"warehouse\": \"TASTY_BI_WH\",\n",
    "    \"database\": \"frostbyte_tasty_bytes\",\n",
    "    \"schema\": \"analytics\",\n",
    "}\n",
    "\n",
    "# Create Snowpark session\n",
    "session = Session.builder.configs(connection_parameters).create()"
   ]
  },
  {
   "cell_type": "code",
   "execution_count": 3,
   "metadata": {},
   "outputs": [],
   "source": [
    "#Function to remove and rename columns after inner join\n",
    "def remove_dup_join_col(df):\n",
    "    # capitalise all columns\n",
    "    for col in df.columns:\n",
    "        df = df.withColumnRenamed(col, col.upper())\n",
    "    \n",
    "    # get list of renamable columns for left and right join\n",
    "    left_dup_col = [col_name for col_name in df.columns if col_name.startswith('L_')]\n",
    "    right_dup_col = [col_name for col_name in df.columns if col_name.startswith('R_')]\n",
    "    old_columns = df.columns\n",
    "    \n",
    "    # rename the list with the most number of renamable columns\n",
    "    # drop the list of columns with less number of renamable columns\n",
    "    if len(left_dup_col)>len(right_dup_col):\n",
    "        columns_rename=left_dup_col\n",
    "        df= df.drop(*right_dup_col)\n",
    "    else:\n",
    "        columns_rename=right_dup_col\n",
    "        df= df.drop(*left_dup_col)\n",
    "    \n",
    "    for old_column in old_columns:\n",
    "        if old_column in columns_rename:\n",
    "            # get string to remove\n",
    "            string_to_replace = columns_rename[0][:7]\n",
    "            # replace starting string\n",
    "            new_column = old_column.replace(string_to_replace, \"\")\n",
    "            df = df.withColumnRenamed(old_column, new_column)\n",
    "    \n",
    "    return df"
   ]
  },
  {
   "attachments": {},
   "cell_type": "markdown",
   "metadata": {},
   "source": [
    "Objective of this notebook is to rebuild a NPS_Compare or similar to do high level correlation"
   ]
  },
  {
   "cell_type": "code",
   "execution_count": 4,
   "metadata": {},
   "outputs": [],
   "source": [
    "ORDER_HEADERS = session.table(\"FROSTBYTE_TASTY_BYTES.RAW_POS.ORDER_HEADER\")\n",
    "CUSTOMERS = session.table(\"FROSTBYTE_TASTY_BYTES.RAW_CUSTOMER.CUSTOMER_LOYALTY\")"
   ]
  },
  {
   "cell_type": "code",
   "execution_count": 5,
   "metadata": {},
   "outputs": [
    {
     "name": "stdout",
     "output_type": "stream",
     "text": [
      "-----------------------------------------------------------------------------------------------------------------------------------------------------------------------------------------------------------------------------------------------------------------------------------------\n",
      "|\"ORDER_ID\"  |\"TRUCK_ID\"  |\"LOCATION_ID\"  |\"CUSTOMER_ID\"  |\"DISCOUNT_ID\"  |\"SHIFT_ID\"  |\"SHIFT_START_TIME\"  |\"SHIFT_END_TIME\"  |\"ORDER_CHANNEL\"  |\"ORDER_TS\"           |\"SERVED_TS\"  |\"ORDER_CURRENCY\"  |\"ORDER_AMOUNT\"  |\"ORDER_TAX_AMOUNT\"  |\"ORDER_DISCOUNT_AMOUNT\"  |\"ORDER_TOTAL\"  |\n",
      "-----------------------------------------------------------------------------------------------------------------------------------------------------------------------------------------------------------------------------------------------------------------------------------------\n",
      "|369186517   |339         |11823.0        |NULL           |NULL           |200372773   |15:30:00            |22:30:00          |NULL             |2021-05-12 18:24:46  |NULL         |USD               |11.0000         |NULL                |NULL                     |11.0000        |\n",
      "|369186518   |339         |11823.0        |NULL           |NULL           |200372773   |15:30:00            |22:30:00          |NULL             |2021-05-12 18:24:49  |NULL         |USD               |76.0000         |NULL                |NULL                     |76.0000        |\n",
      "|369186519   |339         |11823.0        |NULL           |NULL           |200372773   |15:30:00            |22:30:00          |NULL             |2021-05-12 18:25:34  |NULL         |USD               |13.0000         |NULL                |NULL                     |13.0000        |\n",
      "|369186520   |339         |11823.0        |NULL           |NULL           |200372773   |15:30:00            |22:30:00          |NULL             |2021-05-12 18:26:20  |NULL         |USD               |26.0000         |NULL                |NULL                     |26.0000        |\n",
      "|369186521   |339         |11823.0        |NULL           |NULL           |200372773   |15:30:00            |22:30:00          |NULL             |2021-05-12 18:26:20  |NULL         |USD               |29.0000         |NULL                |NULL                     |29.0000        |\n",
      "|369186522   |339         |11823.0        |NULL           |NULL           |200372773   |15:30:00            |22:30:00          |NULL             |2021-05-12 18:27:12  |NULL         |USD               |68.0000         |NULL                |NULL                     |68.0000        |\n",
      "|369186523   |339         |11823.0        |NULL           |NULL           |200372773   |15:30:00            |22:30:00          |NULL             |2021-05-12 18:29:37  |NULL         |USD               |9.0000          |NULL                |NULL                     |9.0000         |\n",
      "|369186524   |339         |11823.0        |NULL           |NULL           |200372773   |15:30:00            |22:30:00          |NULL             |2021-05-12 18:29:41  |NULL         |USD               |18.0000         |NULL                |NULL                     |18.0000        |\n",
      "|369186525   |339         |11823.0        |NULL           |NULL           |200372773   |15:30:00            |22:30:00          |NULL             |2021-05-12 18:30:14  |NULL         |USD               |87.0000         |NULL                |NULL                     |87.0000        |\n",
      "|369186526   |339         |11823.0        |NULL           |NULL           |200372773   |15:30:00            |22:30:00          |NULL             |2021-05-12 18:34:08  |NULL         |USD               |48.0000         |NULL                |NULL                     |48.0000        |\n",
      "-----------------------------------------------------------------------------------------------------------------------------------------------------------------------------------------------------------------------------------------------------------------------------------------\n",
      "\n"
     ]
    }
   ],
   "source": [
    "ORDER_HEADERS.show()"
   ]
  },
  {
   "cell_type": "code",
   "execution_count": 6,
   "metadata": {},
   "outputs": [
    {
     "name": "stdout",
     "output_type": "stream",
     "text": [
      "-------------------------------------------------------------------------------------------------------------------------------------------------------------------------------------------------------------------------------------------------------------------------\n",
      "|\"CUSTOMER_ID\"  |\"FIRST_NAME\"  |\"LAST_NAME\"  |\"CITY\"          |\"COUNTRY\"  |\"POSTAL_CODE\"  |\"PREFERRED_LANGUAGE\"  |\"GENDER\"     |\"FAVOURITE_BRAND\"  |\"MARITAL_STATUS\"  |\"CHILDREN_COUNT\"  |\"SIGN_UP_DATE\"  |\"BIRTHDAY_DATE\"  |\"E_MAIL\"                  |\"PHONE_NUMBER\"  |\n",
      "-------------------------------------------------------------------------------------------------------------------------------------------------------------------------------------------------------------------------------------------------------------------------\n",
      "|1              |Rodolfo       |Tucker       |Hamburg         |Germany    |21129          |German                |Female       |NULL               |Single            |0                 |2019-02-19      |1953-12-01       |Rodolfo.Tucker@ymail.com  |007-506-6068    |\n",
      "|2              |Karla         |Mullen       |Rio de Janeiro  |Brazil     |22753-000      |Portuguese            |Male         |NULL               |Single            |0                 |2019-10-07      |1973-09-21       |Karla.Mullen@hotmail.com  |431-122-6142    |\n",
      "|3              |Cortez        |Douglas      |Krakow          |Poland     |31-5           |Polish                |Female       |NULL               |Married           |2                 |2020-09-11      |2000-09-04       |Cortez.Douglas@gmail.com  |157-518-3848    |\n",
      "|4              |Janiya        |Pope         |Krakow          |Poland     |31-5           |Polish                |Female       |NULL               |Single            |1                 |2021-09-09      |1950-03-05       |Janiya.Pope@ymail.com     |872-718-6879    |\n",
      "|5              |Zaiden        |Knapp        |Barcelona       |Spain      |08013          |English               |Female       |NULL               |Married           |1                 |2022-06-17      |1978-10-29       |Zaiden.Knapp@hotmail.com  |545-152-4832    |\n",
      "|6              |Micah         |Beard        |Hamburg         |Germany    |21129          |German                |Male         |NULL               |Single            |0                 |2021-06-02      |1969-08-17       |Micah.Beard@aol.com       |535-753-3461    |\n",
      "|7              |Ricardo       |Byrd         |Barcelona       |Spain      |08013          |English               |Male         |NULL               |Undisclosed       |Undisclosed       |2020-09-29      |1961-12-23       |Ricardo.Byrd@aol.com      |138-082-1391    |\n",
      "|8              |Marie         |Boyer        |Hamburg         |Germany    |21129          |German                |Female       |NULL               |Single            |0                 |2021-04-08      |1960-07-12       |Marie.Boyer@aol.com       |587-006-4451    |\n",
      "|9              |Josie         |Glass        |Stockholm       |Sweden     |6206           |Swedish               |Male         |NULL               |Single            |0                 |2020-10-30      |1970-09-11       |Josie.Glass@hotmail.com   |023-863-4028    |\n",
      "|10             |Korbin        |Ward         |Cairo           |Egypt      |00000          |Arabic                |Undisclosed  |NULL               |Single            |0                 |2020-06-04      |1989-05-27       |Korbin.Ward@gmail.com     |049-196-8102    |\n",
      "-------------------------------------------------------------------------------------------------------------------------------------------------------------------------------------------------------------------------------------------------------------------------\n",
      "\n"
     ]
    }
   ],
   "source": [
    "CUSTOMERS.show()"
   ]
  },
  {
   "cell_type": "code",
   "execution_count": 7,
   "metadata": {},
   "outputs": [
    {
     "name": "stdout",
     "output_type": "stream",
     "text": [
      "----------------------------------------------------------------------------------------------------------------------------------------------------------------------------------------------------------------------------------------------------------------------------------------------------------------------------------------------------------------------------------------------------------------------------------------------------------------------------------------------------------------------------------------------------------\n",
      "|\"ORDER_ID\"  |\"TRUCK_ID\"  |\"LOCATION_ID\"  |\"DISCOUNT_ID\"  |\"SHIFT_ID\"  |\"SHIFT_START_TIME\"  |\"SHIFT_END_TIME\"  |\"ORDER_CHANNEL\"  |\"ORDER_TS\"           |\"SERVED_TS\"  |\"ORDER_CURRENCY\"  |\"ORDER_AMOUNT\"  |\"ORDER_TAX_AMOUNT\"  |\"ORDER_DISCOUNT_AMOUNT\"  |\"ORDER_TOTAL\"  |\"CUSTOMER_ID\"  |\"FIRST_NAME\"  |\"LAST_NAME\"  |\"CITY\"         |\"COUNTRY\"      |\"POSTAL_CODE\"  |\"PREFERRED_LANGUAGE\"  |\"GENDER\"     |\"FAVOURITE_BRAND\"  |\"MARITAL_STATUS\"    |\"CHILDREN_COUNT\"  |\"SIGN_UP_DATE\"  |\"BIRTHDAY_DATE\"  |\"E_MAIL\"                      |\"PHONE_NUMBER\"  |\n",
      "----------------------------------------------------------------------------------------------------------------------------------------------------------------------------------------------------------------------------------------------------------------------------------------------------------------------------------------------------------------------------------------------------------------------------------------------------------------------------------------------------------------------------------------------------------\n",
      "|444074170   |61          |11303.0        |NULL           |200519465   |15:00:00            |22:00:00          |NULL             |2022-04-09 17:53:48  |NULL         |USD               |6.0000          |NULL                |NULL                     |6.0000         |113802         |Theodore      |Montoya      |New York City  |United States  |11385          |English               |Undisclosed  |NULL               |Single              |0                 |2021-12-08      |1970-07-22       |Theodore.Montoya@hotmail.com  |523-298-1095    |\n",
      "|444074222   |61          |11303.0        |NULL           |200519465   |15:00:00            |22:00:00          |NULL             |2022-04-09 18:16:43  |NULL         |USD               |42.5000         |NULL                |NULL                     |42.5000        |163766         |Lamont        |Frazier      |New York City  |United States  |10025          |English               |Female       |NULL               |Married             |0                 |2021-05-12      |1978-05-24       |Lamont.Frazier@hotmail.com    |444-837-3882    |\n",
      "|444074263   |61          |11303.0        |NULL           |200519465   |15:00:00            |22:00:00          |NULL             |2022-04-09 18:39:34  |NULL         |USD               |11.0000         |NULL                |NULL                     |11.0000        |50304          |Gianni        |Rowland      |New York City  |United States  |11373          |English               |Female       |NULL               |Married             |2                 |2021-11-13      |1953-01-08       |Gianni.Rowland@ymail.com      |402-326-5581    |\n",
      "|444074309   |61          |11303.0        |NULL           |200519465   |15:00:00            |22:00:00          |NULL             |2022-04-09 19:03:04  |NULL         |USD               |6.0000          |NULL                |NULL                     |6.0000         |138041         |Roger         |Lynn         |New York City  |United States  |11220          |English               |Female       |NULL               |Single              |0                 |2019-08-19      |1970-06-14       |Roger.Lynn@hotmail.com        |766-497-5477    |\n",
      "|444074338   |61          |11303.0        |NULL           |200519465   |15:00:00            |22:00:00          |NULL             |2022-04-09 19:17:14  |NULL         |USD               |5.0000          |NULL                |NULL                     |5.0000         |26512          |Amiya         |Blake        |New York City  |United States  |10467          |English               |Male         |NULL               |Divorced/Seperated  |0                 |2019-11-02      |1973-11-27       |Amiya.Blake@hotmail.com       |243-841-2228    |\n",
      "|444074349   |61          |11303.0        |NULL           |200519465   |15:00:00            |22:00:00          |NULL             |2022-04-09 19:28:58  |NULL         |USD               |24.5000         |NULL                |NULL                     |24.5000        |91289          |Sonny         |Reese        |New York City  |United States  |11385          |English               |Female       |NULL               |Divorced/Seperated  |0                 |2021-02-09      |1991-10-15       |Sonny.Reese@gmail.com         |200-056-1845    |\n",
      "|444074351   |61          |11303.0        |NULL           |200519465   |15:00:00            |22:00:00          |NULL             |2022-04-09 19:29:10  |NULL         |USD               |28.0000         |NULL                |NULL                     |28.0000        |175672         |Hannah        |Chaney       |New York City  |United States  |10025          |English               |Female       |NULL               |Single              |0                 |2022-05-27      |1986-01-22       |Hannah.Chaney@hotmail.com     |871-278-6338    |\n",
      "|444074373   |61          |11303.0        |NULL           |200519465   |15:00:00            |22:00:00          |NULL             |2022-04-09 19:36:55  |NULL         |USD               |18.0000         |NULL                |NULL                     |18.0000        |29084          |Zachariah     |Davila       |New York City  |United States  |11236          |English               |Male         |NULL               |Married             |2                 |2022-04-15      |1946-03-04       |Zachariah.Davila@ymail.com    |380-446-9257    |\n",
      "|444074385   |61          |11303.0        |NULL           |200519465   |15:00:00            |22:00:00          |NULL             |2022-04-09 19:44:38  |NULL         |USD               |18.0000         |NULL                |NULL                     |18.0000        |127475         |Dakota        |Flores       |New York City  |United States  |11211          |English               |Female       |NULL               |Single              |0                 |2019-11-26      |1990-11-26       |Dakota.Flores@gmail.com       |025-753-2708    |\n",
      "|444074425   |61          |11303.0        |NULL           |200519465   |15:00:00            |22:00:00          |NULL             |2022-04-09 20:00:42  |NULL         |USD               |32.5000         |NULL                |NULL                     |32.5000        |21824          |Walker        |Dunn         |New York City  |United States  |11211          |English               |Female       |NULL               |Single              |0                 |2021-11-09      |1953-10-19       |Walker.Dunn@ymail.com         |697-647-6214    |\n",
      "----------------------------------------------------------------------------------------------------------------------------------------------------------------------------------------------------------------------------------------------------------------------------------------------------------------------------------------------------------------------------------------------------------------------------------------------------------------------------------------------------------------------------------------------------------\n",
      "\n"
     ]
    }
   ],
   "source": [
    "LOOKER = ORDER_HEADERS.join(CUSTOMERS, CUSTOMERS['CUSTOMER_ID'] == ORDER_HEADERS['CUSTOMER_ID'], 'inner')\n",
    "\n",
    "LOOKER = remove_dup_join_col(LOOKER)\n",
    "\n",
    "LOOKER.show()"
   ]
  },
  {
   "cell_type": "code",
   "execution_count": 8,
   "metadata": {},
   "outputs": [
    {
     "name": "stdout",
     "output_type": "stream",
     "text": [
      "---------------------------------------------------------------------------------------------------------------------------------------------------------------------------------------------------------------------------------------------------------------------------------------------------------------------------------------------------------------------------------------------------------------------------------------------------------------------------------------------------------------------------------------------------\n",
      "|\"ORDER_ID\"  |\"TRUCK_ID\"  |\"LOCATION_ID\"  |\"DISCOUNT_ID\"  |\"SHIFT_ID\"  |\"SHIFT_START_TIME\"  |\"SHIFT_END_TIME\"  |\"ORDER_CHANNEL\"  |\"ORDER_TS\"           |\"SERVED_TS\"  |\"ORDER_CURRENCY\"  |\"ORDER_AMOUNT\"  |\"ORDER_TAX_AMOUNT\"  |\"ORDER_DISCOUNT_AMOUNT\"  |\"ORDER_TOTAL\"  |\"CUSTOMER_ID\"  |\"FIRST_NAME\"  |\"LAST_NAME\"  |\"CITY\"  |\"COUNTRY\"  |\"POSTAL_CODE\"  |\"PREFERRED_LANGUAGE\"  |\"GENDER\"  |\"FAVOURITE_BRAND\"  |\"MARITAL_STATUS\"  |\"CHILDREN_COUNT\"  |\"SIGN_UP_DATE\"  |\"BIRTHDAY_DATE\"  |\"E_MAIL\"                      |\"PHONE_NUMBER\"  |\"DTNO\"  |\n",
      "---------------------------------------------------------------------------------------------------------------------------------------------------------------------------------------------------------------------------------------------------------------------------------------------------------------------------------------------------------------------------------------------------------------------------------------------------------------------------------------------------------------------------------------------------\n",
      "|53578484    |177         |13523.0        |NULL           |159774      |08:00:00            |14:00:00          |NULL             |2020-02-08 13:07:05  |NULL         |USD               |54.0000         |NULL                |NULL                     |54.0000        |108755         |Marshall      |Nicholson    |Nice    |France     |6200           |French                |Female    |NULL               |Married           |3                 |2020-08-27      |1947-10-02       |Marshall.Nicholson@ymail.com  |550-189-8197    |12      |\n",
      "|53580490    |177         |9839.0         |NULL           |159798      |08:30:00            |14:30:00          |NULL             |2020-02-20 12:04:29  |NULL         |USD               |12.0000         |NULL                |NULL                     |12.0000        |108755         |Marshall      |Nicholson    |Nice    |France     |6200           |French                |Female    |NULL               |Married           |3                 |2020-08-27      |1947-10-02       |Marshall.Nicholson@ymail.com  |550-189-8197    |14      |\n",
      "|53582733    |177         |5919.0         |NULL           |159826      |08:30:00            |14:30:00          |NULL             |2020-03-05 13:52:10  |NULL         |USD               |20.0000         |NULL                |NULL                     |20.0000        |108755         |Marshall      |Nicholson    |Nice    |France     |6200           |French                |Female    |NULL               |Married           |3                 |2020-08-27      |1947-10-02       |Marshall.Nicholson@ymail.com  |550-189-8197    |47      |\n",
      "|53593660    |177         |5926.0         |NULL           |159962      |08:00:00            |14:00:00          |NULL             |2020-04-21 09:56:04  |NULL         |USD               |106.0000        |NULL                |NULL                     |106.0000       |108755         |Marshall      |Nicholson    |Nice    |France     |6200           |French                |Female    |NULL               |Married           |3                 |2020-08-27      |1947-10-02       |Marshall.Nicholson@ymail.com  |550-189-8197    |3       |\n",
      "|53594696    |177         |11024.0        |NULL           |159974      |08:00:00            |14:00:00          |NULL             |2020-04-24 11:39:36  |NULL         |USD               |69.0000         |NULL                |NULL                     |69.0000        |108755         |Marshall      |Nicholson    |Nice    |France     |6200           |French                |Female    |NULL               |Married           |3                 |2020-08-27      |1947-10-02       |Marshall.Nicholson@ymail.com  |550-189-8197    |19      |\n",
      "|53600199    |171         |13223.0        |NULL           |160049      |15:00:00            |22:00:00          |NULL             |2020-05-13 18:27:42  |NULL         |USD               |20.0000         |NULL                |NULL                     |20.0000        |108755         |Marshall      |Nicholson    |Nice    |France     |6200           |French                |Female    |NULL               |Married           |3                 |2020-08-27      |1947-10-02       |Marshall.Nicholson@ymail.com  |550-189-8197    |5       |\n",
      "|53601596    |171         |5935.0         |NULL           |160069      |15:00:00            |22:00:00          |NULL             |2020-05-18 21:47:32  |NULL         |USD               |16.0000         |NULL                |NULL                     |16.0000        |108755         |Marshall      |Nicholson    |Nice    |France     |6200           |French                |Female    |NULL               |Married           |3                 |2020-08-27      |1947-10-02       |Marshall.Nicholson@ymail.com  |550-189-8197    |36      |\n",
      "|53611600    |171         |10546.0        |NULL           |160213      |16:00:00            |23:00:00          |NULL             |2020-06-23 20:09:30  |NULL         |USD               |10.0000         |NULL                |NULL                     |10.0000        |108755         |Marshall      |Nicholson    |Nice    |France     |6200           |French                |Female    |NULL               |Married           |3                 |2020-08-27      |1947-10-02       |Marshall.Nicholson@ymail.com  |550-189-8197    |34      |\n",
      "|53621674    |171         |12501.0        |NULL           |160348      |08:30:00            |14:30:00          |NULL             |2020-07-27 12:04:51  |NULL         |USD               |10.0000         |NULL                |NULL                     |10.0000        |108755         |Marshall      |Nicholson    |Nice    |France     |6200           |French                |Female    |NULL               |Married           |3                 |2020-08-27      |1947-10-02       |Marshall.Nicholson@ymail.com  |550-189-8197    |12      |\n",
      "|53625497    |171         |10532.0        |NULL           |160397      |15:30:00            |22:30:00          |NULL             |2020-08-08 19:08:51  |NULL         |USD               |6.0000          |NULL                |NULL                     |6.0000         |108755         |Marshall      |Nicholson    |Nice    |France     |6200           |French                |Female    |NULL               |Married           |3                 |2020-08-27      |1947-10-02       |Marshall.Nicholson@ymail.com  |550-189-8197    |8       |\n",
      "---------------------------------------------------------------------------------------------------------------------------------------------------------------------------------------------------------------------------------------------------------------------------------------------------------------------------------------------------------------------------------------------------------------------------------------------------------------------------------------------------------------------------------------------------\n",
      "\n"
     ]
    }
   ],
   "source": [
    "# Define a window partitioned by customer and menu item, ordered by date\n",
    "window_spec = Window.partitionBy(\"CUSTOMER_ID\").orderBy(\"ORDER_TS\")\n",
    "\n",
    "# Add a column with the date of the prior order for each customer and order\n",
    "orders_df_pre = LOOKER.withColumn(\"DTNO\", F.lead(\"ORDER_TS\").over(window_spec))\n",
    "\n",
    "orders_df = orders_df_pre.withColumn(\"DTNO\", F.datediff(col1=\"ORDER_TS\", col2=\"DTNO\",part='day'))\n",
    "orders_df = orders_df.na.drop(subset=[\"DTNO\"])\n",
    "\n",
    "orders_df.show()"
   ]
  },
  {
   "cell_type": "code",
   "execution_count": 9,
   "metadata": {},
   "outputs": [],
   "source": [
    "orders_df.write.save_as_table(table_name=\"tran_anal\", mode='overwrite')"
   ]
  },
  {
   "cell_type": "code",
   "execution_count": 10,
   "metadata": {},
   "outputs": [],
   "source": [
    "orders_df = session.table(\"tran_anal\")"
   ]
  },
  {
   "cell_type": "code",
   "execution_count": 11,
   "metadata": {},
   "outputs": [
    {
     "name": "stdout",
     "output_type": "stream",
     "text": [
      "--------------------------------------------------------------------------------------------------------------------------------------------------------------------------------------------------------------------------------------------------------------------------------------------------------------------------------------------------------------------------------------------------------------------------------------------------------------------------------------------------------------------------------------------------------\n",
      "|\"ORDER_ID\"  |\"TRUCK_ID\"  |\"LOCATION_ID\"  |\"DISCOUNT_ID\"  |\"SHIFT_ID\"  |\"SHIFT_START_TIME\"  |\"SHIFT_END_TIME\"  |\"ORDER_CHANNEL\"  |\"ORDER_TS\"           |\"SERVED_TS\"  |\"ORDER_CURRENCY\"  |\"ORDER_AMOUNT\"  |\"ORDER_TAX_AMOUNT\"  |\"ORDER_DISCOUNT_AMOUNT\"  |\"ORDER_TOTAL\"  |\"CUSTOMER_ID\"  |\"FIRST_NAME\"  |\"LAST_NAME\"  |\"CITY\"  |\"COUNTRY\"  |\"POSTAL_CODE\"  |\"PREFERRED_LANGUAGE\"  |\"GENDER\"  |\"FAVOURITE_BRAND\"  |\"MARITAL_STATUS\"  |\"CHILDREN_COUNT\"  |\"SIGN_UP_DATE\"  |\"BIRTHDAY_DATE\"  |\"E_MAIL\"                           |\"PHONE_NUMBER\"  |\"DTNO\"  |\n",
      "--------------------------------------------------------------------------------------------------------------------------------------------------------------------------------------------------------------------------------------------------------------------------------------------------------------------------------------------------------------------------------------------------------------------------------------------------------------------------------------------------------------------------------------------------------\n",
      "|373988676   |347         |8208.0         |NULL           |200384953   |16:00:00            |23:00:00          |NULL             |2020-01-03 16:09:09  |NULL         |USD               |27.0000         |NULL                |NULL                     |27.0000        |209659         |Markus        |Allen        |Berlin  |Germany    |NULL           |German                |Male      |NULL               |Single            |0                 |2019-04-16      |1955-08-23       |**~MASKED~**.**~MASKED~**@att.net  |111-111-1111    |15      |\n",
      "|374046720   |357         |9480.0         |NULL           |200385045   |15:00:00            |22:00:00          |NULL             |2020-01-18 16:34:00  |NULL         |USD               |23.0000         |NULL                |NULL                     |23.0000        |209659         |Markus        |Allen        |Berlin  |Germany    |NULL           |German                |Male      |NULL               |Single            |0                 |2019-04-16      |1955-08-23       |**~MASKED~**.**~MASKED~**@att.net  |111-111-1111    |15      |\n",
      "|374102971   |357         |8194.0         |NULL           |200385134   |08:00:00            |14:00:00          |NULL             |2020-02-02 10:35:30  |NULL         |USD               |43.0000         |NULL                |NULL                     |43.0000        |209659         |Markus        |Allen        |Berlin  |Germany    |NULL           |German                |Male      |NULL               |Single            |0                 |2019-04-16      |1955-08-23       |**~MASKED~**.**~MASKED~**@att.net  |111-111-1111    |11      |\n",
      "|374143143   |347         |4773.0         |NULL           |200385199   |16:00:00            |23:00:00          |NULL             |2020-02-13 19:29:38  |NULL         |USD               |64.0000         |NULL                |NULL                     |64.0000        |209659         |Markus        |Allen        |Berlin  |Germany    |NULL           |German                |Male      |NULL               |Single            |0                 |2019-04-16      |1955-08-23       |**~MASKED~**.**~MASKED~**@att.net  |111-111-1111    |2       |\n",
      "|374152660   |358         |12952.0        |NULL           |200385214   |09:00:00            |15:00:00          |NULL             |2020-02-15 11:14:19  |NULL         |USD               |38.0000         |NULL                |NULL                     |38.0000        |209659         |Markus        |Allen        |Berlin  |Germany    |NULL           |German                |Male      |NULL               |Single            |0                 |2019-04-16      |1955-08-23       |**~MASKED~**.**~MASKED~**@att.net  |111-111-1111    |31      |\n",
      "|374267083   |357         |9475.0         |NULL           |200385398   |09:00:00            |15:00:00          |NULL             |2020-03-17 14:36:13  |NULL         |USD               |65.0000         |NULL                |NULL                     |65.0000        |209659         |Markus        |Allen        |Berlin  |Germany    |NULL           |German                |Male      |NULL               |Single            |0                 |2019-04-16      |1955-08-23       |**~MASKED~**.**~MASKED~**@att.net  |111-111-1111    |6       |\n",
      "|374290366   |347         |14077.0        |NULL           |200385433   |15:00:00            |22:00:00          |NULL             |2020-03-23 21:28:57  |NULL         |USD               |15.0000         |NULL                |NULL                     |15.0000        |209659         |Markus        |Allen        |Berlin  |Germany    |NULL           |German                |Male      |NULL               |Single            |0                 |2019-04-16      |1955-08-23       |**~MASKED~**.**~MASKED~**@att.net  |111-111-1111    |8       |\n",
      "|374319898   |347         |9490.0         |NULL           |200385480   |08:00:00            |14:00:00          |NULL             |2020-03-31 08:36:12  |NULL         |USD               |38.0000         |NULL                |NULL                     |38.0000        |209659         |Markus        |Allen        |Berlin  |Germany    |NULL           |German                |Male      |NULL               |Single            |0                 |2019-04-16      |1955-08-23       |**~MASKED~**.**~MASKED~**@att.net  |111-111-1111    |3       |\n",
      "|374336987   |357         |4701.0         |NULL           |200385506   |08:00:00            |14:00:00          |NULL             |2020-04-03 09:01:55  |NULL         |USD               |60.0000         |NULL                |NULL                     |60.0000        |209659         |Markus        |Allen        |Berlin  |Germany    |NULL           |German                |Male      |NULL               |Single            |0                 |2019-04-16      |1955-08-23       |**~MASKED~**.**~MASKED~**@att.net  |111-111-1111    |19      |\n",
      "|374438806   |358         |8146.0         |NULL           |200385660   |08:30:00            |14:30:00          |NULL             |2020-04-22 13:50:13  |NULL         |USD               |79.0000         |NULL                |NULL                     |79.0000        |209659         |Markus        |Allen        |Berlin  |Germany    |NULL           |German                |Male      |NULL               |Single            |0                 |2019-04-16      |1955-08-23       |**~MASKED~**.**~MASKED~**@att.net  |111-111-1111    |106     |\n",
      "--------------------------------------------------------------------------------------------------------------------------------------------------------------------------------------------------------------------------------------------------------------------------------------------------------------------------------------------------------------------------------------------------------------------------------------------------------------------------------------------------------------------------------------------------------\n",
      "\n"
     ]
    }
   ],
   "source": [
    "orders_df.show()"
   ]
  },
  {
   "cell_type": "code",
   "execution_count": 12,
   "metadata": {},
   "outputs": [
    {
     "name": "stdout",
     "output_type": "stream",
     "text": [
      "-----------------------------------------------------------------------------------------------------------------------------------------------------------------------------------------------------------------------------------------------------------------------------------------------------------------------------------------------------------------------------------------------------------------------------------------------------------------------------------------------------------------------------------------------------------------------------------------\n",
      "|\"ORDER_ID\"  |\"TRUCK_ID\"  |\"LOCATION_ID\"  |\"DISCOUNT_ID\"  |\"SHIFT_ID\"  |\"SHIFT_START_TIME\"  |\"SHIFT_END_TIME\"  |\"ORDER_CHANNEL\"  |\"ORDER_TS\"           |\"SERVED_TS\"  |\"ORDER_CURRENCY\"  |\"ORDER_AMOUNT\"  |\"ORDER_TAX_AMOUNT\"  |\"ORDER_DISCOUNT_AMOUNT\"  |\"ORDER_TOTAL\"  |\"CUSTOMER_ID\"  |\"FIRST_NAME\"  |\"LAST_NAME\"  |\"CITY\"     |\"COUNTRY\"     |\"POSTAL_CODE\"  |\"PREFERRED_LANGUAGE\"  |\"GENDER\"  |\"FAVOURITE_BRAND\"  |\"MARITAL_STATUS\"  |\"CHILDREN_COUNT\"  |\"SIGN_UP_DATE\"  |\"BIRTHDAY_DATE\"  |\"E_MAIL\"                    |\"PHONE_NUMBER\"  |\"DTNO\"  |\"YEAR\"  |\"MONTH\"  |\"YEAR_MONTH\"  |\n",
      "-----------------------------------------------------------------------------------------------------------------------------------------------------------------------------------------------------------------------------------------------------------------------------------------------------------------------------------------------------------------------------------------------------------------------------------------------------------------------------------------------------------------------------------------------------------------------------------------\n",
      "|422336732   |436         |7605.0         |NULL           |200489117   |15:00:00            |22:00:00          |NULL             |2019-04-21 17:24:08  |NULL         |USD               |7.0000          |NULL                |NULL                     |7.0000         |24747          |Rhianna       |Foster       |Cape Town  |South Africa  |8005           |English               |Female    |NULL               |Married           |2                 |2020-01-11      |1982-12-11       |Rhianna.Foster@hotmail.com  |061-442-9038    |3       |2019    |4        |20194         |\n",
      "|422341467   |436         |7536.0         |NULL           |200489123   |15:00:00            |22:00:00          |NULL             |2019-04-24 21:07:58  |NULL         |USD               |12.0000         |NULL                |NULL                     |12.0000        |24747          |Rhianna       |Foster       |Cape Town  |South Africa  |8005           |English               |Female    |NULL               |Married           |2                 |2020-01-11      |1982-12-11       |Rhianna.Foster@hotmail.com  |061-442-9038    |45      |2019    |4        |20194         |\n",
      "|422404181   |436         |7547.0         |NULL           |200489213   |15:00:00            |22:00:00          |NULL             |2019-06-08 18:42:36  |NULL         |USD               |15.0000         |NULL                |NULL                     |15.0000        |24747          |Rhianna       |Foster       |Cape Town  |South Africa  |8005           |English               |Female    |NULL               |Married           |2                 |2020-01-11      |1982-12-11       |Rhianna.Foster@hotmail.com  |061-442-9038    |3       |2019    |6        |20196         |\n",
      "|422408652   |436         |14721.0        |NULL           |200489219   |15:30:00            |22:30:00          |NULL             |2019-06-11 21:32:31  |NULL         |USD               |20.0000         |NULL                |NULL                     |20.0000        |24747          |Rhianna       |Foster       |Cape Town  |South Africa  |8005           |English               |Female    |NULL               |Married           |2                 |2020-01-11      |1982-12-11       |Rhianna.Foster@hotmail.com  |061-442-9038    |19      |2019    |6        |20196         |\n",
      "|422434881   |436         |7574.0         |NULL           |200489257   |15:30:00            |22:30:00          |NULL             |2019-06-30 15:42:37  |NULL         |USD               |33.0000         |NULL                |NULL                     |33.0000        |24747          |Rhianna       |Foster       |Cape Town  |South Africa  |8005           |English               |Female    |NULL               |Married           |2                 |2020-01-11      |1982-12-11       |Rhianna.Foster@hotmail.com  |061-442-9038    |54      |2019    |6        |20196         |\n",
      "|422584637   |436         |7501.0         |NULL           |200489470   |08:00:00            |14:00:00          |NULL             |2019-08-23 13:13:39  |NULL         |USD               |45.0000         |NULL                |NULL                     |45.0000        |24747          |Rhianna       |Foster       |Cape Town  |South Africa  |8005           |English               |Female    |NULL               |Married           |2                 |2020-01-11      |1982-12-11       |Rhianna.Foster@hotmail.com  |061-442-9038    |19      |2019    |8        |20198         |\n",
      "|422639485   |448         |7532.0         |NULL           |200489548   |08:30:00            |14:30:00          |NULL             |2019-09-11 09:06:31  |NULL         |USD               |28.0000         |NULL                |NULL                     |28.0000        |24747          |Rhianna       |Foster       |Cape Town  |South Africa  |8005           |English               |Female    |NULL               |Married           |2                 |2020-01-11      |1982-12-11       |Rhianna.Foster@hotmail.com  |061-442-9038    |29      |2019    |9        |20199         |\n",
      "|422720064   |436         |7500.0         |NULL           |200489662   |08:30:00            |14:30:00          |NULL             |2019-10-10 08:38:20  |NULL         |USD               |4.0000          |NULL                |NULL                     |4.0000         |24747          |Rhianna       |Foster       |Cape Town  |South Africa  |8005           |English               |Female    |NULL               |Married           |2                 |2020-01-11      |1982-12-11       |Rhianna.Foster@hotmail.com  |061-442-9038    |4       |2019    |10       |201910        |\n",
      "|422732165   |436         |9195.0         |NULL           |200489679   |15:30:00            |22:30:00          |NULL             |2019-10-14 16:20:27  |NULL         |USD               |19.5000         |NULL                |NULL                     |19.5000        |24747          |Rhianna       |Foster       |Cape Town  |South Africa  |8005           |English               |Female    |NULL               |Married           |2                 |2020-01-11      |1982-12-11       |Rhianna.Foster@hotmail.com  |061-442-9038    |28      |2019    |10       |201910        |\n",
      "|422811898   |448         |7492.0         |NULL           |200489792   |08:00:00            |14:00:00          |NULL             |2019-11-11 11:33:26  |NULL         |USD               |24.0000         |NULL                |NULL                     |24.0000        |24747          |Rhianna       |Foster       |Cape Town  |South Africa  |8005           |English               |Female    |NULL               |Married           |2                 |2020-01-11      |1982-12-11       |Rhianna.Foster@hotmail.com  |061-442-9038    |13      |2019    |11       |201911        |\n",
      "-----------------------------------------------------------------------------------------------------------------------------------------------------------------------------------------------------------------------------------------------------------------------------------------------------------------------------------------------------------------------------------------------------------------------------------------------------------------------------------------------------------------------------------------------------------------------------------------\n",
      "\n"
     ]
    }
   ],
   "source": [
    "orders_df = orders_df.with_column(\"YEAR\", F.year(\"ORDER_TS\"))\n",
    "orders_df = orders_df.with_column(\"MONTH\", F.month(\"ORDER_TS\"))\n",
    "orders_df = orders_df.with_column(\"YEAR_MONTH\", F.concat(F.col(\"YEAR\"), F.col(\"MONTH\")))\n",
    "orders_df.show()"
   ]
  },
  {
   "cell_type": "code",
   "execution_count": 13,
   "metadata": {},
   "outputs": [
    {
     "name": "stdout",
     "output_type": "stream",
     "text": [
      "-----------------------------------------\n",
      "|\"YEAR\"  |\"MONTH\"  |\"AVG(ORDER_TOTAL)\"  |\n",
      "-----------------------------------------\n",
      "|2020    |6        |40.9888317457       |\n",
      "|2022    |7        |40.2391587444       |\n",
      "|2021    |12       |41.1608334972       |\n",
      "|2020    |3        |40.9417636844       |\n",
      "|2021    |4        |41.1524909228       |\n",
      "|2022    |8        |40.1918689593       |\n",
      "|2020    |4        |40.7051582147       |\n",
      "|2019    |8        |37.3881462334       |\n",
      "|2020    |12       |42.0045579794       |\n",
      "|2021    |11       |41.1920454646       |\n",
      "-----------------------------------------\n",
      "\n",
      "-----------------------------------------\n",
      "|\"YEAR\"  |\"MONTH\"  |\"SUM(ORDER_TOTAL)\"  |\n",
      "-----------------------------------------\n",
      "|2020    |6        |9440465.7500        |\n",
      "|2020    |5        |9389166.7500        |\n",
      "|2019    |2        |220793.5000         |\n",
      "|2020    |12       |13399496.0000       |\n",
      "|2021    |11       |18665928.2500       |\n",
      "|2019    |4        |712290.0000         |\n",
      "|2019    |10       |2920658.0000        |\n",
      "|2022    |1        |19436288.5000       |\n",
      "|2022    |3        |20150917.5000       |\n",
      "|2019    |7        |1690853.5000        |\n",
      "-----------------------------------------\n",
      "\n"
     ]
    }
   ],
   "source": [
    "AVG_SALES_YM = orders_df.groupBy(F.col(\"YEAR\"),F.col(\"MONTH\")).agg(F.avg('\"ORDER_TOTAL\"'))\n",
    "SUM_SALES_YM = orders_df.groupBy(F.col(\"YEAR\"),F.col(\"MONTH\")).agg(F.sum('\"ORDER_TOTAL\"'))\n",
    "\n",
    "AVG_SALES_YM.show()\n",
    "SUM_SALES_YM.show()"
   ]
  },
  {
   "cell_type": "code",
   "execution_count": 14,
   "metadata": {},
   "outputs": [
    {
     "name": "stdout",
     "output_type": "stream",
     "text": [
      "-------------------------------------------------------------------------------------------------------------------------------------------------------------------------------------------------------------------------------------------------------------------------------------------------------------------------------------------------------------------------------------------------------------------------------------------------------------------------------------------------------------------------------------------------------------------------------------------------------------------\n",
      "|\"ORDER_ID\"  |\"TRUCK_ID\"  |\"LOCATION_ID\"  |\"DISCOUNT_ID\"  |\"SHIFT_ID\"  |\"SHIFT_START_TIME\"  |\"SHIFT_END_TIME\"  |\"ORDER_CHANNEL\"  |\"ORDER_TS\"           |\"SERVED_TS\"  |\"ORDER_CURRENCY\"  |\"ORDER_AMOUNT\"  |\"ORDER_TAX_AMOUNT\"  |\"ORDER_DISCOUNT_AMOUNT\"  |\"ORDER_TOTAL\"  |\"CUSTOMER_ID\"  |\"FIRST_NAME\"  |\"LAST_NAME\"  |\"CITY\"     |\"COUNTRY\"  |\"POSTAL_CODE\"  |\"PREFERRED_LANGUAGE\"  |\"GENDER\"     |\"FAVOURITE_BRAND\"  |\"MARITAL_STATUS\"  |\"CHILDREN_COUNT\"  |\"SIGN_UP_DATE\"  |\"BIRTHDAY_DATE\"  |\"E_MAIL\"                                    |\"PHONE_NUMBER\"  |\"DTNO\"  |\"YEAR\"  |\"MONTH\"  |\"YEAR_MONTH\"  |\"CHURN\"  |\n",
      "-------------------------------------------------------------------------------------------------------------------------------------------------------------------------------------------------------------------------------------------------------------------------------------------------------------------------------------------------------------------------------------------------------------------------------------------------------------------------------------------------------------------------------------------------------------------------------------------------------------------\n",
      "|408517750   |413         |12890.0        |NULL           |200451819   |15:00:00            |22:00:00          |NULL             |2019-08-04 18:55:28  |NULL         |USD               |60.0000         |NULL                |NULL                     |60.0000        |212487         |Savanna       |Villarreal   |Barcelona  |Spain      |08013          |Spanish               |Undisclosed  |NULL               |Single            |0                 |2019-07-02      |1982-06-15       |**~MASKED~**.**~MASKED~**@donotdisturb.com  |111-111-1111    |11      |2019    |8        |20198         |1        |\n",
      "|408527753   |413         |11648.0        |NULL           |200451841   |15:00:00            |22:00:00          |NULL             |2019-08-15 20:32:21  |NULL         |USD               |72.0000         |NULL                |NULL                     |72.0000        |212487         |Savanna       |Villarreal   |Barcelona  |Spain      |08013          |Spanish               |Undisclosed  |NULL               |Single            |0                 |2019-07-02      |1982-06-15       |**~MASKED~**.**~MASKED~**@donotdisturb.com  |111-111-1111    |10      |2019    |8        |20198         |1        |\n",
      "|408536204   |413         |11888.0        |NULL           |200451860   |09:00:00            |15:00:00          |NULL             |2019-08-25 12:44:07  |NULL         |USD               |24.0000         |NULL                |NULL                     |24.0000        |212487         |Savanna       |Villarreal   |Barcelona  |Spain      |08013          |Spanish               |Undisclosed  |NULL               |Single            |0                 |2019-07-02      |1982-06-15       |**~MASKED~**.**~MASKED~**@donotdisturb.com  |111-111-1111    |47      |2019    |8        |20198         |1        |\n",
      "|408576549   |413         |8684.0         |NULL           |200451955   |15:30:00            |22:30:00          |NULL             |2019-10-11 20:20:24  |NULL         |USD               |64.0000         |NULL                |NULL                     |64.0000        |212487         |Savanna       |Villarreal   |Barcelona  |Spain      |08013          |Spanish               |Undisclosed  |NULL               |Single            |0                 |2019-07-02      |1982-06-15       |**~MASKED~**.**~MASKED~**@donotdisturb.com  |111-111-1111    |11      |2019    |10       |201910        |1        |\n",
      "|408585102   |413         |12302.0        |NULL           |200451976   |08:00:00            |14:00:00          |NULL             |2019-10-22 08:57:51  |NULL         |USD               |30.0000         |NULL                |NULL                     |30.0000        |212487         |Savanna       |Villarreal   |Barcelona  |Spain      |08013          |Spanish               |Undisclosed  |NULL               |Single            |0                 |2019-07-02      |1982-06-15       |**~MASKED~**.**~MASKED~**@donotdisturb.com  |111-111-1111    |1       |2019    |10       |201910        |0        |\n",
      "|408586000   |413         |10517.0        |NULL           |200451978   |09:00:00            |15:00:00          |NULL             |2019-10-23 13:44:03  |NULL         |USD               |69.0000         |NULL                |NULL                     |69.0000        |212487         |Savanna       |Villarreal   |Barcelona  |Spain      |08013          |Spanish               |Undisclosed  |NULL               |Single            |0                 |2019-07-02      |1982-06-15       |**~MASKED~**.**~MASKED~**@donotdisturb.com  |111-111-1111    |2       |2019    |10       |201910        |0        |\n",
      "|408588249   |413         |10500.0        |NULL           |200451983   |15:00:00            |22:00:00          |NULL             |2019-10-25 20:37:19  |NULL         |USD               |39.0000         |NULL                |NULL                     |39.0000        |212487         |Savanna       |Villarreal   |Barcelona  |Spain      |08013          |Spanish               |Undisclosed  |NULL               |Single            |0                 |2019-07-02      |1982-06-15       |**~MASKED~**.**~MASKED~**@donotdisturb.com  |111-111-1111    |17      |2019    |10       |201910        |1        |\n",
      "|408602712   |413         |5897.0         |NULL           |200452017   |15:00:00            |22:00:00          |NULL             |2019-11-11 20:52:28  |NULL         |USD               |9.0000          |NULL                |NULL                     |9.0000         |212487         |Savanna       |Villarreal   |Barcelona  |Spain      |08013          |Spanish               |Undisclosed  |NULL               |Single            |0                 |2019-07-02      |1982-06-15       |**~MASKED~**.**~MASKED~**@donotdisturb.com  |111-111-1111    |2       |2019    |11       |201911        |0        |\n",
      "|408604645   |413         |13422.0        |NULL           |200452021   |15:00:00            |22:00:00          |NULL             |2019-11-13 20:30:14  |NULL         |USD               |38.0000         |NULL                |NULL                     |38.0000        |212487         |Savanna       |Villarreal   |Barcelona  |Spain      |08013          |Spanish               |Undisclosed  |NULL               |Single            |0                 |2019-07-02      |1982-06-15       |**~MASKED~**.**~MASKED~**@donotdisturb.com  |111-111-1111    |36      |2019    |11       |201911        |1        |\n",
      "|408635936   |413         |11897.0        |NULL           |200452093   |15:30:00            |22:30:00          |NULL             |2019-12-19 18:49:23  |NULL         |USD               |86.0000         |NULL                |NULL                     |86.0000        |212487         |Savanna       |Villarreal   |Barcelona  |Spain      |08013          |Spanish               |Undisclosed  |NULL               |Single            |0                 |2019-07-02      |1982-06-15       |**~MASKED~**.**~MASKED~**@donotdisturb.com  |111-111-1111    |31      |2019    |12       |201912        |1        |\n",
      "-------------------------------------------------------------------------------------------------------------------------------------------------------------------------------------------------------------------------------------------------------------------------------------------------------------------------------------------------------------------------------------------------------------------------------------------------------------------------------------------------------------------------------------------------------------------------------------------------------------------\n",
      "\n"
     ]
    }
   ],
   "source": [
    "churn_YN = orders_df.with_column(\"CHURN\", F.iff(F.col(\"DTNO\") > 9, \"1\", \"0\"))\n",
    "\n",
    "churn_YN.show()"
   ]
  },
  {
   "cell_type": "code",
   "execution_count": 21,
   "metadata": {},
   "outputs": [
    {
     "name": "stdout",
     "output_type": "stream",
     "text": [
      "---------------------------------------------------------------\n",
      "|\"YEAR\"  |\"MONTH\"  |\"DIVIDE(SUM(CHURN), COUNT(CUSTOMER_ID))\"  |\n",
      "---------------------------------------------------------------\n",
      "|2020    |6        |0.6894424230846048                        |\n",
      "|2022    |1        |0.5192629466278891                        |\n",
      "|2022    |3        |0.5076328137705879                        |\n",
      "|2019    |10       |0.7886291932264503                        |\n",
      "|2019    |7        |0.8436551305403764                        |\n",
      "|2021    |5        |0.5935371076936158                        |\n",
      "|2019    |1        |0.9816951850378034                        |\n",
      "|2022    |7        |0.4721981408124749                        |\n",
      "|2020    |11       |0.6468843225061566                        |\n",
      "|2021    |12       |0.5354679898770944                        |\n",
      "|2020    |3        |0.719340519323051                         |\n",
      "|2021    |9        |0.5494402963315442                        |\n",
      "|2020    |7        |0.682099208116616                         |\n",
      "|2019    |5        |0.9008302747389801                        |\n",
      "|2021    |3        |0.6158291754220604                        |\n",
      "---------------------------------------------------------------\n",
      "\n",
      "-----------------------------------------\n",
      "|\"YEAR\"  |\"MONTH\"  |\"SUM(ORDER_TOTAL)\"  |\n",
      "-----------------------------------------\n",
      "|2020    |6        |9440465.7500        |\n",
      "|2021    |12       |19045652.7500       |\n",
      "|2020    |3        |7968823.0000        |\n",
      "|2022    |7        |21768942.2500       |\n",
      "|2020    |11       |12565341.2500       |\n",
      "|2022    |4        |19998291.5000       |\n",
      "|2020    |8        |11055566.7500       |\n",
      "|2021    |7        |16620161.2500       |\n",
      "|2020    |10       |12856739.2500       |\n",
      "|2021    |8        |17602685.0000       |\n",
      "|2021    |10       |18601039.5000       |\n",
      "|2019    |6        |1109682.0000        |\n",
      "|2021    |11       |18665928.2500       |\n",
      "|2020    |12       |13399496.0000       |\n",
      "|2019    |4        |712290.0000         |\n",
      "-----------------------------------------\n",
      "\n"
     ]
    }
   ],
   "source": [
    "churn_rate_YM = churn_YN.group_by(F.col(\"YEAR\"), F.col(\"MONTH\")).agg(F.sum(\"CHURN\")/F.count(\"CUSTOMER_ID\"))\n",
    "\n",
    "churn_rate_YM.show(15)\n",
    "SUM_SALES_YM.show(15)"
   ]
  }
 ],
 "metadata": {
  "kernelspec": {
   "display_name": "py38_env",
   "language": "python",
   "name": "python3"
  },
  "language_info": {
   "codemirror_mode": {
    "name": "ipython",
    "version": 3
   },
   "file_extension": ".py",
   "mimetype": "text/x-python",
   "name": "python",
   "nbconvert_exporter": "python",
   "pygments_lexer": "ipython3",
   "version": "3.8.16"
  },
  "orig_nbformat": 4
 },
 "nbformat": 4,
 "nbformat_minor": 2
}
