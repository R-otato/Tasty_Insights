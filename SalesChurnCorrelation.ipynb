{
 "cells": [
  {
   "cell_type": "code",
   "execution_count": 1,
   "metadata": {},
   "outputs": [],
   "source": [
    "#Import Python packages\n",
    "import pandas as pd\n",
    "import json\n",
    "import matplotlib.pyplot as plt\n",
    "import seaborn as sns\n",
    "import json\n",
    "import datetime\n",
    "\n",
    "# Import Snowflake modules\n",
    "from snowflake.snowpark import Session\n",
    "import snowflake.snowpark.functions as F\n",
    "import snowflake.snowpark.types as T\n",
    "from snowflake.snowpark import Window"
   ]
  },
  {
   "cell_type": "code",
   "execution_count": 2,
   "metadata": {},
   "outputs": [],
   "source": [
    "# Get account credentials from a json file\n",
    "with open(\"data_scientist_auth.json\") as f:\n",
    "    data = json.load(f)\n",
    "    username = data[\"username\"]\n",
    "    password = data[\"password\"]\n",
    "    account = data[\"account\"]\n",
    "\n",
    "# Specify connection parameters\n",
    "connection_parameters = {\n",
    "    \"account\": account,\n",
    "    \"user\": username,\n",
    "    \"password\": password,\n",
    "    \"role\": \"TASTY_BI\",\n",
    "    \"warehouse\": \"TASTY_BI_WH\",\n",
    "    \"database\": \"frostbyte_tasty_bytes\",\n",
    "    \"schema\": \"analytics\",\n",
    "}\n",
    "\n",
    "# Create Snowpark session\n",
    "session = Session.builder.configs(connection_parameters).create()"
   ]
  },
  {
   "cell_type": "code",
   "execution_count": 3,
   "metadata": {},
   "outputs": [],
   "source": [
    "#Function to remove and rename columns after inner join\n",
    "def remove_dup_join_col(df):\n",
    "    # capitalise all columns\n",
    "    for col in df.columns:\n",
    "        df = df.withColumnRenamed(col, col.upper())\n",
    "    \n",
    "    # get list of renamable columns for left and right join\n",
    "    left_dup_col = [col_name for col_name in df.columns if col_name.startswith('L_')]\n",
    "    right_dup_col = [col_name for col_name in df.columns if col_name.startswith('R_')]\n",
    "    old_columns = df.columns\n",
    "    \n",
    "    # rename the list with the most number of renamable columns\n",
    "    # drop the list of columns with less number of renamable columns\n",
    "    if len(left_dup_col)>len(right_dup_col):\n",
    "        columns_rename=left_dup_col\n",
    "        df= df.drop(*right_dup_col)\n",
    "    else:\n",
    "        columns_rename=right_dup_col\n",
    "        df= df.drop(*left_dup_col)\n",
    "    \n",
    "    for old_column in old_columns:\n",
    "        if old_column in columns_rename:\n",
    "            # get string to remove\n",
    "            string_to_replace = columns_rename[0][:7]\n",
    "            # replace starting string\n",
    "            new_column = old_column.replace(string_to_replace, \"\")\n",
    "            df = df.withColumnRenamed(old_column, new_column)\n",
    "    \n",
    "    return df"
   ]
  },
  {
   "attachments": {},
   "cell_type": "markdown",
   "metadata": {},
   "source": [
    "Objective of this notebook is to rebuild a NPS_Compare or similar to do high level correlation"
   ]
  },
  {
   "cell_type": "code",
   "execution_count": 17,
   "metadata": {},
   "outputs": [],
   "source": [
    "ORDER_HEADERS = session.table(\"FROSTBYTE_TASTY_BYTES.RAW_POS.ORDER_HEADER\")\n",
    "CUSTOMERS = session.table(\"FROSTBYTE_TASTY_BYTES.RAW_CUSTOMER.CUSTOMER_LOYALTY\")"
   ]
  },
  {
   "cell_type": "code",
   "execution_count": 5,
   "metadata": {},
   "outputs": [
    {
     "name": "stdout",
     "output_type": "stream",
     "text": [
      "-----------------------------------------------------------------------------------------------------------------------------------------------------------------------------------------------------------------------------------------------------------------------------------------\n",
      "|\"ORDER_ID\"  |\"TRUCK_ID\"  |\"LOCATION_ID\"  |\"CUSTOMER_ID\"  |\"DISCOUNT_ID\"  |\"SHIFT_ID\"  |\"SHIFT_START_TIME\"  |\"SHIFT_END_TIME\"  |\"ORDER_CHANNEL\"  |\"ORDER_TS\"           |\"SERVED_TS\"  |\"ORDER_CURRENCY\"  |\"ORDER_AMOUNT\"  |\"ORDER_TAX_AMOUNT\"  |\"ORDER_DISCOUNT_AMOUNT\"  |\"ORDER_TOTAL\"  |\n",
      "-----------------------------------------------------------------------------------------------------------------------------------------------------------------------------------------------------------------------------------------------------------------------------------------\n",
      "|369186517   |339         |11823.0        |NULL           |NULL           |200372773   |15:30:00            |22:30:00          |NULL             |2021-05-12 18:24:46  |NULL         |USD               |11.0000         |NULL                |NULL                     |11.0000        |\n",
      "|369186518   |339         |11823.0        |NULL           |NULL           |200372773   |15:30:00            |22:30:00          |NULL             |2021-05-12 18:24:49  |NULL         |USD               |76.0000         |NULL                |NULL                     |76.0000        |\n",
      "|369186519   |339         |11823.0        |NULL           |NULL           |200372773   |15:30:00            |22:30:00          |NULL             |2021-05-12 18:25:34  |NULL         |USD               |13.0000         |NULL                |NULL                     |13.0000        |\n",
      "|369186520   |339         |11823.0        |NULL           |NULL           |200372773   |15:30:00            |22:30:00          |NULL             |2021-05-12 18:26:20  |NULL         |USD               |26.0000         |NULL                |NULL                     |26.0000        |\n",
      "|369186521   |339         |11823.0        |NULL           |NULL           |200372773   |15:30:00            |22:30:00          |NULL             |2021-05-12 18:26:20  |NULL         |USD               |29.0000         |NULL                |NULL                     |29.0000        |\n",
      "|369186522   |339         |11823.0        |NULL           |NULL           |200372773   |15:30:00            |22:30:00          |NULL             |2021-05-12 18:27:12  |NULL         |USD               |68.0000         |NULL                |NULL                     |68.0000        |\n",
      "|369186523   |339         |11823.0        |NULL           |NULL           |200372773   |15:30:00            |22:30:00          |NULL             |2021-05-12 18:29:37  |NULL         |USD               |9.0000          |NULL                |NULL                     |9.0000         |\n",
      "|369186524   |339         |11823.0        |NULL           |NULL           |200372773   |15:30:00            |22:30:00          |NULL             |2021-05-12 18:29:41  |NULL         |USD               |18.0000         |NULL                |NULL                     |18.0000        |\n",
      "|369186525   |339         |11823.0        |NULL           |NULL           |200372773   |15:30:00            |22:30:00          |NULL             |2021-05-12 18:30:14  |NULL         |USD               |87.0000         |NULL                |NULL                     |87.0000        |\n",
      "|369186526   |339         |11823.0        |NULL           |NULL           |200372773   |15:30:00            |22:30:00          |NULL             |2021-05-12 18:34:08  |NULL         |USD               |48.0000         |NULL                |NULL                     |48.0000        |\n",
      "-----------------------------------------------------------------------------------------------------------------------------------------------------------------------------------------------------------------------------------------------------------------------------------------\n",
      "\n"
     ]
    }
   ],
   "source": [
    "ORDER_HEADERS.show()"
   ]
  },
  {
   "cell_type": "code",
   "execution_count": 6,
   "metadata": {},
   "outputs": [
    {
     "name": "stdout",
     "output_type": "stream",
     "text": [
      "-------------------------------------------------------------------------------------------------------------------------------------------------------------------------------------------------------------------------------------------------------------------------\n",
      "|\"CUSTOMER_ID\"  |\"FIRST_NAME\"  |\"LAST_NAME\"  |\"CITY\"          |\"COUNTRY\"  |\"POSTAL_CODE\"  |\"PREFERRED_LANGUAGE\"  |\"GENDER\"     |\"FAVOURITE_BRAND\"  |\"MARITAL_STATUS\"  |\"CHILDREN_COUNT\"  |\"SIGN_UP_DATE\"  |\"BIRTHDAY_DATE\"  |\"E_MAIL\"                  |\"PHONE_NUMBER\"  |\n",
      "-------------------------------------------------------------------------------------------------------------------------------------------------------------------------------------------------------------------------------------------------------------------------\n",
      "|1              |Rodolfo       |Tucker       |Hamburg         |Germany    |21129          |German                |Female       |NULL               |Single            |0                 |2019-02-19      |1953-12-01       |Rodolfo.Tucker@ymail.com  |007-506-6068    |\n",
      "|2              |Karla         |Mullen       |Rio de Janeiro  |Brazil     |22753-000      |Portuguese            |Male         |NULL               |Single            |0                 |2019-10-07      |1973-09-21       |Karla.Mullen@hotmail.com  |431-122-6142    |\n",
      "|3              |Cortez        |Douglas      |Krakow          |Poland     |31-5           |Polish                |Female       |NULL               |Married           |2                 |2020-09-11      |2000-09-04       |Cortez.Douglas@gmail.com  |157-518-3848    |\n",
      "|4              |Janiya        |Pope         |Krakow          |Poland     |31-5           |Polish                |Female       |NULL               |Single            |1                 |2021-09-09      |1950-03-05       |Janiya.Pope@ymail.com     |872-718-6879    |\n",
      "|5              |Zaiden        |Knapp        |Barcelona       |Spain      |08013          |English               |Female       |NULL               |Married           |1                 |2022-06-17      |1978-10-29       |Zaiden.Knapp@hotmail.com  |545-152-4832    |\n",
      "|6              |Micah         |Beard        |Hamburg         |Germany    |21129          |German                |Male         |NULL               |Single            |0                 |2021-06-02      |1969-08-17       |Micah.Beard@aol.com       |535-753-3461    |\n",
      "|7              |Ricardo       |Byrd         |Barcelona       |Spain      |08013          |English               |Male         |NULL               |Undisclosed       |Undisclosed       |2020-09-29      |1961-12-23       |Ricardo.Byrd@aol.com      |138-082-1391    |\n",
      "|8              |Marie         |Boyer        |Hamburg         |Germany    |21129          |German                |Female       |NULL               |Single            |0                 |2021-04-08      |1960-07-12       |Marie.Boyer@aol.com       |587-006-4451    |\n",
      "|9              |Josie         |Glass        |Stockholm       |Sweden     |6206           |Swedish               |Male         |NULL               |Single            |0                 |2020-10-30      |1970-09-11       |Josie.Glass@hotmail.com   |023-863-4028    |\n",
      "|10             |Korbin        |Ward         |Cairo           |Egypt      |00000          |Arabic                |Undisclosed  |NULL               |Single            |0                 |2020-06-04      |1989-05-27       |Korbin.Ward@gmail.com     |049-196-8102    |\n",
      "-------------------------------------------------------------------------------------------------------------------------------------------------------------------------------------------------------------------------------------------------------------------------\n",
      "\n"
     ]
    }
   ],
   "source": [
    "CUSTOMERS.show()"
   ]
  },
  {
   "cell_type": "code",
   "execution_count": 7,
   "metadata": {},
   "outputs": [
    {
     "name": "stdout",
     "output_type": "stream",
     "text": [
      "----------------------------------------------------------------------------------------------------------------------------------------------------------------------------------------------------------------------------------------------------------------------------------------------------------------------------------------------------------------------------------------------------------------------------------------------------------------------------------------------------------------------------------------------------------\n",
      "|\"ORDER_ID\"  |\"TRUCK_ID\"  |\"LOCATION_ID\"  |\"DISCOUNT_ID\"  |\"SHIFT_ID\"  |\"SHIFT_START_TIME\"  |\"SHIFT_END_TIME\"  |\"ORDER_CHANNEL\"  |\"ORDER_TS\"           |\"SERVED_TS\"  |\"ORDER_CURRENCY\"  |\"ORDER_AMOUNT\"  |\"ORDER_TAX_AMOUNT\"  |\"ORDER_DISCOUNT_AMOUNT\"  |\"ORDER_TOTAL\"  |\"CUSTOMER_ID\"  |\"FIRST_NAME\"  |\"LAST_NAME\"  |\"CITY\"         |\"COUNTRY\"      |\"POSTAL_CODE\"  |\"PREFERRED_LANGUAGE\"  |\"GENDER\"     |\"FAVOURITE_BRAND\"  |\"MARITAL_STATUS\"    |\"CHILDREN_COUNT\"  |\"SIGN_UP_DATE\"  |\"BIRTHDAY_DATE\"  |\"E_MAIL\"                      |\"PHONE_NUMBER\"  |\n",
      "----------------------------------------------------------------------------------------------------------------------------------------------------------------------------------------------------------------------------------------------------------------------------------------------------------------------------------------------------------------------------------------------------------------------------------------------------------------------------------------------------------------------------------------------------------\n",
      "|444074170   |61          |11303.0        |NULL           |200519465   |15:00:00            |22:00:00          |NULL             |2022-04-09 17:53:48  |NULL         |USD               |6.0000          |NULL                |NULL                     |6.0000         |113802         |Theodore      |Montoya      |New York City  |United States  |11385          |English               |Undisclosed  |NULL               |Single              |0                 |2021-12-08      |1970-07-22       |Theodore.Montoya@hotmail.com  |523-298-1095    |\n",
      "|444074222   |61          |11303.0        |NULL           |200519465   |15:00:00            |22:00:00          |NULL             |2022-04-09 18:16:43  |NULL         |USD               |42.5000         |NULL                |NULL                     |42.5000        |163766         |Lamont        |Frazier      |New York City  |United States  |10025          |English               |Female       |NULL               |Married             |0                 |2021-05-12      |1978-05-24       |Lamont.Frazier@hotmail.com    |444-837-3882    |\n",
      "|444074263   |61          |11303.0        |NULL           |200519465   |15:00:00            |22:00:00          |NULL             |2022-04-09 18:39:34  |NULL         |USD               |11.0000         |NULL                |NULL                     |11.0000        |50304          |Gianni        |Rowland      |New York City  |United States  |11373          |English               |Female       |NULL               |Married             |2                 |2021-11-13      |1953-01-08       |Gianni.Rowland@ymail.com      |402-326-5581    |\n",
      "|444074309   |61          |11303.0        |NULL           |200519465   |15:00:00            |22:00:00          |NULL             |2022-04-09 19:03:04  |NULL         |USD               |6.0000          |NULL                |NULL                     |6.0000         |138041         |Roger         |Lynn         |New York City  |United States  |11220          |English               |Female       |NULL               |Single              |0                 |2019-08-19      |1970-06-14       |Roger.Lynn@hotmail.com        |766-497-5477    |\n",
      "|444074338   |61          |11303.0        |NULL           |200519465   |15:00:00            |22:00:00          |NULL             |2022-04-09 19:17:14  |NULL         |USD               |5.0000          |NULL                |NULL                     |5.0000         |26512          |Amiya         |Blake        |New York City  |United States  |10467          |English               |Male         |NULL               |Divorced/Seperated  |0                 |2019-11-02      |1973-11-27       |Amiya.Blake@hotmail.com       |243-841-2228    |\n",
      "|444074349   |61          |11303.0        |NULL           |200519465   |15:00:00            |22:00:00          |NULL             |2022-04-09 19:28:58  |NULL         |USD               |24.5000         |NULL                |NULL                     |24.5000        |91289          |Sonny         |Reese        |New York City  |United States  |11385          |English               |Female       |NULL               |Divorced/Seperated  |0                 |2021-02-09      |1991-10-15       |Sonny.Reese@gmail.com         |200-056-1845    |\n",
      "|444074351   |61          |11303.0        |NULL           |200519465   |15:00:00            |22:00:00          |NULL             |2022-04-09 19:29:10  |NULL         |USD               |28.0000         |NULL                |NULL                     |28.0000        |175672         |Hannah        |Chaney       |New York City  |United States  |10025          |English               |Female       |NULL               |Single              |0                 |2022-05-27      |1986-01-22       |Hannah.Chaney@hotmail.com     |871-278-6338    |\n",
      "|444074373   |61          |11303.0        |NULL           |200519465   |15:00:00            |22:00:00          |NULL             |2022-04-09 19:36:55  |NULL         |USD               |18.0000         |NULL                |NULL                     |18.0000        |29084          |Zachariah     |Davila       |New York City  |United States  |11236          |English               |Male         |NULL               |Married             |2                 |2022-04-15      |1946-03-04       |Zachariah.Davila@ymail.com    |380-446-9257    |\n",
      "|444074385   |61          |11303.0        |NULL           |200519465   |15:00:00            |22:00:00          |NULL             |2022-04-09 19:44:38  |NULL         |USD               |18.0000         |NULL                |NULL                     |18.0000        |127475         |Dakota        |Flores       |New York City  |United States  |11211          |English               |Female       |NULL               |Single              |0                 |2019-11-26      |1990-11-26       |Dakota.Flores@gmail.com       |025-753-2708    |\n",
      "|444074425   |61          |11303.0        |NULL           |200519465   |15:00:00            |22:00:00          |NULL             |2022-04-09 20:00:42  |NULL         |USD               |32.5000         |NULL                |NULL                     |32.5000        |21824          |Walker        |Dunn         |New York City  |United States  |11211          |English               |Female       |NULL               |Single              |0                 |2021-11-09      |1953-10-19       |Walker.Dunn@ymail.com         |697-647-6214    |\n",
      "----------------------------------------------------------------------------------------------------------------------------------------------------------------------------------------------------------------------------------------------------------------------------------------------------------------------------------------------------------------------------------------------------------------------------------------------------------------------------------------------------------------------------------------------------------\n",
      "\n"
     ]
    }
   ],
   "source": [
    "LOOKER = ORDER_HEADERS.join(CUSTOMERS, CUSTOMERS['CUSTOMER_ID'] == ORDER_HEADERS['CUSTOMER_ID'], 'inner')\n",
    "\n",
    "LOOKER = remove_dup_join_col(LOOKER)\n",
    "\n",
    "LOOKER.show()"
   ]
  },
  {
   "cell_type": "code",
   "execution_count": 8,
   "metadata": {},
   "outputs": [
    {
     "name": "stdout",
     "output_type": "stream",
     "text": [
      "---------------------------------------------------------------------------------------------------------------------------------------------------------------------------------------------------------------------------------------------------------------------------------------------------------------------------------------------------------------------------------------------------------------------------------------------------------------------------------------------------------------------------------------------------\n",
      "|\"ORDER_ID\"  |\"TRUCK_ID\"  |\"LOCATION_ID\"  |\"DISCOUNT_ID\"  |\"SHIFT_ID\"  |\"SHIFT_START_TIME\"  |\"SHIFT_END_TIME\"  |\"ORDER_CHANNEL\"  |\"ORDER_TS\"           |\"SERVED_TS\"  |\"ORDER_CURRENCY\"  |\"ORDER_AMOUNT\"  |\"ORDER_TAX_AMOUNT\"  |\"ORDER_DISCOUNT_AMOUNT\"  |\"ORDER_TOTAL\"  |\"CUSTOMER_ID\"  |\"FIRST_NAME\"  |\"LAST_NAME\"  |\"CITY\"  |\"COUNTRY\"  |\"POSTAL_CODE\"  |\"PREFERRED_LANGUAGE\"  |\"GENDER\"  |\"FAVOURITE_BRAND\"  |\"MARITAL_STATUS\"  |\"CHILDREN_COUNT\"  |\"SIGN_UP_DATE\"  |\"BIRTHDAY_DATE\"  |\"E_MAIL\"                      |\"PHONE_NUMBER\"  |\"DTNO\"  |\n",
      "---------------------------------------------------------------------------------------------------------------------------------------------------------------------------------------------------------------------------------------------------------------------------------------------------------------------------------------------------------------------------------------------------------------------------------------------------------------------------------------------------------------------------------------------------\n",
      "|53578484    |177         |13523.0        |NULL           |159774      |08:00:00            |14:00:00          |NULL             |2020-02-08 13:07:05  |NULL         |USD               |54.0000         |NULL                |NULL                     |54.0000        |108755         |Marshall      |Nicholson    |Nice    |France     |6200           |French                |Female    |NULL               |Married           |3                 |2020-08-27      |1947-10-02       |Marshall.Nicholson@ymail.com  |550-189-8197    |12      |\n",
      "|53580490    |177         |9839.0         |NULL           |159798      |08:30:00            |14:30:00          |NULL             |2020-02-20 12:04:29  |NULL         |USD               |12.0000         |NULL                |NULL                     |12.0000        |108755         |Marshall      |Nicholson    |Nice    |France     |6200           |French                |Female    |NULL               |Married           |3                 |2020-08-27      |1947-10-02       |Marshall.Nicholson@ymail.com  |550-189-8197    |14      |\n",
      "|53582733    |177         |5919.0         |NULL           |159826      |08:30:00            |14:30:00          |NULL             |2020-03-05 13:52:10  |NULL         |USD               |20.0000         |NULL                |NULL                     |20.0000        |108755         |Marshall      |Nicholson    |Nice    |France     |6200           |French                |Female    |NULL               |Married           |3                 |2020-08-27      |1947-10-02       |Marshall.Nicholson@ymail.com  |550-189-8197    |47      |\n",
      "|53593660    |177         |5926.0         |NULL           |159962      |08:00:00            |14:00:00          |NULL             |2020-04-21 09:56:04  |NULL         |USD               |106.0000        |NULL                |NULL                     |106.0000       |108755         |Marshall      |Nicholson    |Nice    |France     |6200           |French                |Female    |NULL               |Married           |3                 |2020-08-27      |1947-10-02       |Marshall.Nicholson@ymail.com  |550-189-8197    |3       |\n",
      "|53594696    |177         |11024.0        |NULL           |159974      |08:00:00            |14:00:00          |NULL             |2020-04-24 11:39:36  |NULL         |USD               |69.0000         |NULL                |NULL                     |69.0000        |108755         |Marshall      |Nicholson    |Nice    |France     |6200           |French                |Female    |NULL               |Married           |3                 |2020-08-27      |1947-10-02       |Marshall.Nicholson@ymail.com  |550-189-8197    |19      |\n",
      "|53600199    |171         |13223.0        |NULL           |160049      |15:00:00            |22:00:00          |NULL             |2020-05-13 18:27:42  |NULL         |USD               |20.0000         |NULL                |NULL                     |20.0000        |108755         |Marshall      |Nicholson    |Nice    |France     |6200           |French                |Female    |NULL               |Married           |3                 |2020-08-27      |1947-10-02       |Marshall.Nicholson@ymail.com  |550-189-8197    |5       |\n",
      "|53601596    |171         |5935.0         |NULL           |160069      |15:00:00            |22:00:00          |NULL             |2020-05-18 21:47:32  |NULL         |USD               |16.0000         |NULL                |NULL                     |16.0000        |108755         |Marshall      |Nicholson    |Nice    |France     |6200           |French                |Female    |NULL               |Married           |3                 |2020-08-27      |1947-10-02       |Marshall.Nicholson@ymail.com  |550-189-8197    |36      |\n",
      "|53611600    |171         |10546.0        |NULL           |160213      |16:00:00            |23:00:00          |NULL             |2020-06-23 20:09:30  |NULL         |USD               |10.0000         |NULL                |NULL                     |10.0000        |108755         |Marshall      |Nicholson    |Nice    |France     |6200           |French                |Female    |NULL               |Married           |3                 |2020-08-27      |1947-10-02       |Marshall.Nicholson@ymail.com  |550-189-8197    |34      |\n",
      "|53621674    |171         |12501.0        |NULL           |160348      |08:30:00            |14:30:00          |NULL             |2020-07-27 12:04:51  |NULL         |USD               |10.0000         |NULL                |NULL                     |10.0000        |108755         |Marshall      |Nicholson    |Nice    |France     |6200           |French                |Female    |NULL               |Married           |3                 |2020-08-27      |1947-10-02       |Marshall.Nicholson@ymail.com  |550-189-8197    |12      |\n",
      "|53625497    |171         |10532.0        |NULL           |160397      |15:30:00            |22:30:00          |NULL             |2020-08-08 19:08:51  |NULL         |USD               |6.0000          |NULL                |NULL                     |6.0000         |108755         |Marshall      |Nicholson    |Nice    |France     |6200           |French                |Female    |NULL               |Married           |3                 |2020-08-27      |1947-10-02       |Marshall.Nicholson@ymail.com  |550-189-8197    |8       |\n",
      "---------------------------------------------------------------------------------------------------------------------------------------------------------------------------------------------------------------------------------------------------------------------------------------------------------------------------------------------------------------------------------------------------------------------------------------------------------------------------------------------------------------------------------------------------\n",
      "\n"
     ]
    }
   ],
   "source": [
    "# Define a window partitioned by customer and menu item, ordered by date\n",
    "window_spec = Window.partitionBy(\"CUSTOMER_ID\").orderBy(\"ORDER_TS\")\n",
    "\n",
    "# Add a column with the date of the prior order for each customer and order\n",
    "orders_df_pre = LOOKER.withColumn(\"DTNO\", F.lead(\"ORDER_TS\").over(window_spec))\n",
    "\n",
    "orders_df = orders_df_pre.withColumn(\"DTNO\", F.datediff(col1=\"ORDER_TS\", col2=\"DTNO\",part='day'))\n",
    "orders_df = orders_df.na.drop(subset=[\"DTNO\"])\n",
    "\n",
    "orders_df.show()"
   ]
  },
  {
   "cell_type": "code",
   "execution_count": 9,
   "metadata": {},
   "outputs": [],
   "source": [
    "orders_df.write.save_as_table(table_name=\"tran_anal\", mode='overwrite')"
   ]
  },
  {
   "cell_type": "code",
   "execution_count": 5,
   "metadata": {},
   "outputs": [],
   "source": [
    "orders_df = session.table(\"tran_anal\")"
   ]
  },
  {
   "cell_type": "code",
   "execution_count": 6,
   "metadata": {},
   "outputs": [
    {
     "name": "stdout",
     "output_type": "stream",
     "text": [
      "--------------------------------------------------------------------------------------------------------------------------------------------------------------------------------------------------------------------------------------------------------------------------------------------------------------------------------------------------------------------------------------------------------------------------------------------------------------------------------------------------------------------------------------------------\n",
      "|\"ORDER_ID\"  |\"TRUCK_ID\"  |\"LOCATION_ID\"  |\"DISCOUNT_ID\"  |\"SHIFT_ID\"  |\"SHIFT_START_TIME\"  |\"SHIFT_END_TIME\"  |\"ORDER_CHANNEL\"  |\"ORDER_TS\"           |\"SERVED_TS\"  |\"ORDER_CURRENCY\"  |\"ORDER_AMOUNT\"  |\"ORDER_TAX_AMOUNT\"  |\"ORDER_DISCOUNT_AMOUNT\"  |\"ORDER_TOTAL\"  |\"CUSTOMER_ID\"  |\"FIRST_NAME\"  |\"LAST_NAME\"  |\"CITY\"   |\"COUNTRY\"  |\"POSTAL_CODE\"  |\"PREFERRED_LANGUAGE\"  |\"GENDER\"  |\"FAVOURITE_BRAND\"  |\"MARITAL_STATUS\"  |\"CHILDREN_COUNT\"  |\"SIGN_UP_DATE\"  |\"BIRTHDAY_DATE\"  |\"E_MAIL\"                    |\"PHONE_NUMBER\"  |\"DTNO\"  |\n",
      "--------------------------------------------------------------------------------------------------------------------------------------------------------------------------------------------------------------------------------------------------------------------------------------------------------------------------------------------------------------------------------------------------------------------------------------------------------------------------------------------------------------------------------------------------\n",
      "|11043886    |81          |3354.0         |NULL           |57965       |15:30:00            |22:30:00          |NULL             |2019-05-31 20:03:46  |NULL         |USD               |43.0000         |NULL                |NULL                     |43.0000        |34495          |Adeline       |Bryant       |Toronto  |Canada     |M4C 1V6        |English               |Female    |NULL               |Married           |2                 |2022-06-04      |1983-08-07       |Adeline.Bryant@hotmail.com  |506-873-3266    |89      |\n",
      "|11147188    |81          |2713.0         |NULL           |58142       |08:30:00            |14:30:00          |NULL             |2019-08-28 12:26:15  |NULL         |USD               |18.0000         |NULL                |NULL                     |18.0000        |34495          |Adeline       |Bryant       |Toronto  |Canada     |M4C 1V6        |English               |Female    |NULL               |Married           |2                 |2022-06-04      |1983-08-07       |Adeline.Bryant@hotmail.com  |506-873-3266    |15      |\n",
      "|11164856    |81          |4033.0         |NULL           |58172       |08:00:00            |14:00:00          |NULL             |2019-09-12 12:10:30  |NULL         |USD               |35.0000         |NULL                |NULL                     |35.0000        |34495          |Adeline       |Bryant       |Toronto  |Canada     |M4C 1V6        |English               |Female    |NULL               |Married           |2                 |2022-06-04      |1983-08-07       |Adeline.Bryant@hotmail.com  |506-873-3266    |16      |\n",
      "|11183944    |81          |2945.0         |NULL           |58205       |15:30:00            |22:30:00          |NULL             |2019-09-28 17:38:39  |NULL         |USD               |6.0000          |NULL                |NULL                     |6.0000         |34495          |Adeline       |Bryant       |Toronto  |Canada     |M4C 1V6        |English               |Female    |NULL               |Married           |2                 |2022-06-04      |1983-08-07       |Adeline.Bryant@hotmail.com  |506-873-3266    |34      |\n",
      "|11223842    |81          |1876.0         |NULL           |58272       |08:30:00            |14:30:00          |NULL             |2019-11-01 09:35:10  |NULL         |USD               |6.0000          |NULL                |NULL                     |6.0000         |34495          |Adeline       |Bryant       |Toronto  |Canada     |M4C 1V6        |English               |Female    |NULL               |Married           |2                 |2022-06-04      |1983-08-07       |Adeline.Bryant@hotmail.com  |506-873-3266    |48      |\n",
      "|11279252    |81          |1872.0         |NULL           |58369       |16:00:00            |23:00:00          |NULL             |2019-12-19 17:35:11  |NULL         |USD               |5.0000          |NULL                |NULL                     |5.0000         |34495          |Adeline       |Bryant       |Toronto  |Canada     |M4C 1V6        |English               |Female    |NULL               |Married           |2                 |2022-06-04      |1983-08-07       |Adeline.Bryant@hotmail.com  |506-873-3266    |3       |\n",
      "|11283102    |81          |5287.0         |NULL           |58375       |15:00:00            |22:00:00          |NULL             |2019-12-22 18:56:57  |NULL         |USD               |6.0000          |NULL                |NULL                     |6.0000         |34495          |Adeline       |Bryant       |Toronto  |Canada     |M4C 1V6        |English               |Female    |NULL               |Married           |2                 |2022-06-04      |1983-08-07       |Adeline.Bryant@hotmail.com  |506-873-3266    |6       |\n",
      "|11290581    |81          |1157.0         |NULL           |58387       |16:00:00            |23:00:00          |NULL             |2019-12-28 19:34:28  |NULL         |USD               |5.0000          |NULL                |NULL                     |5.0000         |34495          |Adeline       |Bryant       |Toronto  |Canada     |M4C 1V6        |English               |Female    |NULL               |Married           |2                 |2022-06-04      |1983-08-07       |Adeline.Bryant@hotmail.com  |506-873-3266    |18      |\n",
      "|11357451    |89          |2428.0         |NULL           |58513       |15:00:00            |22:00:00          |NULL             |2020-01-15 16:35:20  |NULL         |USD               |35.0000         |NULL                |NULL                     |35.0000        |34495          |Adeline       |Bryant       |Toronto  |Canada     |M4C 1V6        |English               |Female    |NULL               |Married           |2                 |2022-06-04      |1983-08-07       |Adeline.Bryant@hotmail.com  |506-873-3266    |62      |\n",
      "|11620065    |87          |2531.0         |NULL           |59007       |15:00:00            |22:00:00          |NULL             |2020-03-17 17:23:16  |NULL         |USD               |43.0000         |NULL                |NULL                     |43.0000        |34495          |Adeline       |Bryant       |Toronto  |Canada     |M4C 1V6        |English               |Female    |NULL               |Married           |2                 |2022-06-04      |1983-08-07       |Adeline.Bryant@hotmail.com  |506-873-3266    |7       |\n",
      "--------------------------------------------------------------------------------------------------------------------------------------------------------------------------------------------------------------------------------------------------------------------------------------------------------------------------------------------------------------------------------------------------------------------------------------------------------------------------------------------------------------------------------------------------\n",
      "\n"
     ]
    }
   ],
   "source": [
    "orders_df.show()"
   ]
  },
  {
   "cell_type": "code",
   "execution_count": 11,
   "metadata": {},
   "outputs": [
    {
     "name": "stdout",
     "output_type": "stream",
     "text": [
      "------------------------------------------------------------------------------------------------------------------------------------------------------------------------------------------------------------------------------------------------------------------------------------------------------------------------------------------------------------------------------------------------------------------------------------------------------------------------------------------------------------------------------------------------------------------------------------\n",
      "|\"ORDER_ID\"  |\"TRUCK_ID\"  |\"LOCATION_ID\"  |\"DISCOUNT_ID\"  |\"SHIFT_ID\"  |\"SHIFT_START_TIME\"  |\"SHIFT_END_TIME\"  |\"ORDER_CHANNEL\"  |\"ORDER_TS\"           |\"SERVED_TS\"  |\"ORDER_CURRENCY\"  |\"ORDER_AMOUNT\"  |\"ORDER_TAX_AMOUNT\"  |\"ORDER_DISCOUNT_AMOUNT\"  |\"ORDER_TOTAL\"  |\"CUSTOMER_ID\"  |\"FIRST_NAME\"  |\"LAST_NAME\"  |\"CITY\"   |\"COUNTRY\"  |\"POSTAL_CODE\"  |\"PREFERRED_LANGUAGE\"  |\"GENDER\"  |\"FAVOURITE_BRAND\"  |\"MARITAL_STATUS\"  |\"CHILDREN_COUNT\"  |\"SIGN_UP_DATE\"  |\"BIRTHDAY_DATE\"  |\"E_MAIL\"                    |\"PHONE_NUMBER\"  |\"DTNO\"  |\"YEAR\"  |\"MONTH\"  |\"YEAR_MONTH\"  |\n",
      "------------------------------------------------------------------------------------------------------------------------------------------------------------------------------------------------------------------------------------------------------------------------------------------------------------------------------------------------------------------------------------------------------------------------------------------------------------------------------------------------------------------------------------------------------------------------------------\n",
      "|11043886    |81          |3354.0         |NULL           |57965       |15:30:00            |22:30:00          |NULL             |2019-05-31 20:03:46  |NULL         |USD               |43.0000         |NULL                |NULL                     |43.0000        |34495          |Adeline       |Bryant       |Toronto  |Canada     |M4C 1V6        |English               |Female    |NULL               |Married           |2                 |2022-06-04      |1983-08-07       |Adeline.Bryant@hotmail.com  |506-873-3266    |89      |2019    |5        |20195         |\n",
      "|11147188    |81          |2713.0         |NULL           |58142       |08:30:00            |14:30:00          |NULL             |2019-08-28 12:26:15  |NULL         |USD               |18.0000         |NULL                |NULL                     |18.0000        |34495          |Adeline       |Bryant       |Toronto  |Canada     |M4C 1V6        |English               |Female    |NULL               |Married           |2                 |2022-06-04      |1983-08-07       |Adeline.Bryant@hotmail.com  |506-873-3266    |15      |2019    |8        |20198         |\n",
      "|11164856    |81          |4033.0         |NULL           |58172       |08:00:00            |14:00:00          |NULL             |2019-09-12 12:10:30  |NULL         |USD               |35.0000         |NULL                |NULL                     |35.0000        |34495          |Adeline       |Bryant       |Toronto  |Canada     |M4C 1V6        |English               |Female    |NULL               |Married           |2                 |2022-06-04      |1983-08-07       |Adeline.Bryant@hotmail.com  |506-873-3266    |16      |2019    |9        |20199         |\n",
      "|11183944    |81          |2945.0         |NULL           |58205       |15:30:00            |22:30:00          |NULL             |2019-09-28 17:38:39  |NULL         |USD               |6.0000          |NULL                |NULL                     |6.0000         |34495          |Adeline       |Bryant       |Toronto  |Canada     |M4C 1V6        |English               |Female    |NULL               |Married           |2                 |2022-06-04      |1983-08-07       |Adeline.Bryant@hotmail.com  |506-873-3266    |34      |2019    |9        |20199         |\n",
      "|11223842    |81          |1876.0         |NULL           |58272       |08:30:00            |14:30:00          |NULL             |2019-11-01 09:35:10  |NULL         |USD               |6.0000          |NULL                |NULL                     |6.0000         |34495          |Adeline       |Bryant       |Toronto  |Canada     |M4C 1V6        |English               |Female    |NULL               |Married           |2                 |2022-06-04      |1983-08-07       |Adeline.Bryant@hotmail.com  |506-873-3266    |48      |2019    |11       |201911        |\n",
      "|11279252    |81          |1872.0         |NULL           |58369       |16:00:00            |23:00:00          |NULL             |2019-12-19 17:35:11  |NULL         |USD               |5.0000          |NULL                |NULL                     |5.0000         |34495          |Adeline       |Bryant       |Toronto  |Canada     |M4C 1V6        |English               |Female    |NULL               |Married           |2                 |2022-06-04      |1983-08-07       |Adeline.Bryant@hotmail.com  |506-873-3266    |3       |2019    |12       |201912        |\n",
      "|11283102    |81          |5287.0         |NULL           |58375       |15:00:00            |22:00:00          |NULL             |2019-12-22 18:56:57  |NULL         |USD               |6.0000          |NULL                |NULL                     |6.0000         |34495          |Adeline       |Bryant       |Toronto  |Canada     |M4C 1V6        |English               |Female    |NULL               |Married           |2                 |2022-06-04      |1983-08-07       |Adeline.Bryant@hotmail.com  |506-873-3266    |6       |2019    |12       |201912        |\n",
      "|11290581    |81          |1157.0         |NULL           |58387       |16:00:00            |23:00:00          |NULL             |2019-12-28 19:34:28  |NULL         |USD               |5.0000          |NULL                |NULL                     |5.0000         |34495          |Adeline       |Bryant       |Toronto  |Canada     |M4C 1V6        |English               |Female    |NULL               |Married           |2                 |2022-06-04      |1983-08-07       |Adeline.Bryant@hotmail.com  |506-873-3266    |18      |2019    |12       |201912        |\n",
      "|11357451    |89          |2428.0         |NULL           |58513       |15:00:00            |22:00:00          |NULL             |2020-01-15 16:35:20  |NULL         |USD               |35.0000         |NULL                |NULL                     |35.0000        |34495          |Adeline       |Bryant       |Toronto  |Canada     |M4C 1V6        |English               |Female    |NULL               |Married           |2                 |2022-06-04      |1983-08-07       |Adeline.Bryant@hotmail.com  |506-873-3266    |62      |2020    |1        |20201         |\n",
      "|11620065    |87          |2531.0         |NULL           |59007       |15:00:00            |22:00:00          |NULL             |2020-03-17 17:23:16  |NULL         |USD               |43.0000         |NULL                |NULL                     |43.0000        |34495          |Adeline       |Bryant       |Toronto  |Canada     |M4C 1V6        |English               |Female    |NULL               |Married           |2                 |2022-06-04      |1983-08-07       |Adeline.Bryant@hotmail.com  |506-873-3266    |7       |2020    |3        |20203         |\n",
      "------------------------------------------------------------------------------------------------------------------------------------------------------------------------------------------------------------------------------------------------------------------------------------------------------------------------------------------------------------------------------------------------------------------------------------------------------------------------------------------------------------------------------------------------------------------------------------\n",
      "\n"
     ]
    }
   ],
   "source": [
    "orders_df = orders_df.with_column(\"YEAR\", F.year(\"ORDER_TS\"))\n",
    "orders_df = orders_df.with_column(\"MONTH\", F.month(\"ORDER_TS\"))\n",
    "orders_df = orders_df.with_column(\"YEAR_MONTH\", F.concat(F.col(\"YEAR\"), F.col(\"MONTH\")))\n",
    "orders_df.show()"
   ]
  },
  {
   "cell_type": "code",
   "execution_count": 12,
   "metadata": {},
   "outputs": [
    {
     "name": "stdout",
     "output_type": "stream",
     "text": [
      "-----------------------------------------\n",
      "|\"YEAR\"  |\"MONTH\"  |\"AVG(ORDER_TOTAL)\"  |\n",
      "-----------------------------------------\n",
      "|2020    |6        |40.9888317457       |\n",
      "|2020    |11       |41.9294751366       |\n",
      "|2020    |3        |40.9417636844       |\n",
      "|2020    |7        |41.5224986601       |\n",
      "|2021    |9        |41.2782516812       |\n",
      "|2019    |5        |34.9114314222       |\n",
      "|2021    |7        |41.4256084795       |\n",
      "|2020    |8        |41.4468220109       |\n",
      "|2021    |12       |41.1608334972       |\n",
      "|2020    |5        |40.8018857880       |\n",
      "-----------------------------------------\n",
      "\n",
      "-----------------------------------------\n",
      "|\"YEAR\"  |\"MONTH\"  |\"SUM(ORDER_TOTAL)\"  |\n",
      "-----------------------------------------\n",
      "|2020    |6        |9440465.7500        |\n",
      "|2021    |12       |19045652.7500       |\n",
      "|2020    |12       |13399496.0000       |\n",
      "|2021    |11       |18665928.2500       |\n",
      "|2019    |4        |712290.0000         |\n",
      "|2022    |7        |21768942.2500       |\n",
      "|2020    |11       |12565341.2500       |\n",
      "|2021    |9        |17696358.0000       |\n",
      "|2020    |7        |11000887.7500       |\n",
      "|2019    |5        |979719.5000         |\n",
      "-----------------------------------------\n",
      "\n"
     ]
    }
   ],
   "source": [
    "AVG_SALES_YM = orders_df.groupBy(F.col(\"YEAR\"),F.col(\"MONTH\")).agg(F.avg('\"ORDER_TOTAL\"'))\n",
    "SUM_SALES_YM = orders_df.groupBy(F.col(\"YEAR\"),F.col(\"MONTH\")).agg(F.sum('\"ORDER_TOTAL\"'))\n",
    "\n",
    "AVG_SALES_YM.show()\n",
    "SUM_SALES_YM.show()"
   ]
  },
  {
   "cell_type": "code",
   "execution_count": 13,
   "metadata": {},
   "outputs": [
    {
     "name": "stdout",
     "output_type": "stream",
     "text": [
      "--------------------------------------------------------------------------------------------------------------------------------------------------------------------------------------------------------------------------------------------------------------------------------------------------------------------------------------------------------------------------------------------------------------------------------------------------------------------------------------------------------------------------------------------------------------------------------------------\n",
      "|\"ORDER_ID\"  |\"TRUCK_ID\"  |\"LOCATION_ID\"  |\"DISCOUNT_ID\"  |\"SHIFT_ID\"  |\"SHIFT_START_TIME\"  |\"SHIFT_END_TIME\"  |\"ORDER_CHANNEL\"  |\"ORDER_TS\"           |\"SERVED_TS\"  |\"ORDER_CURRENCY\"  |\"ORDER_AMOUNT\"  |\"ORDER_TAX_AMOUNT\"  |\"ORDER_DISCOUNT_AMOUNT\"  |\"ORDER_TOTAL\"  |\"CUSTOMER_ID\"  |\"FIRST_NAME\"  |\"LAST_NAME\"  |\"CITY\"  |\"COUNTRY\"  |\"POSTAL_CODE\"  |\"PREFERRED_LANGUAGE\"  |\"GENDER\"  |\"FAVOURITE_BRAND\"  |\"MARITAL_STATUS\"  |\"CHILDREN_COUNT\"  |\"SIGN_UP_DATE\"  |\"BIRTHDAY_DATE\"  |\"E_MAIL\"                   |\"PHONE_NUMBER\"  |\"DTNO\"  |\"YEAR\"  |\"MONTH\"  |\"YEAR_MONTH\"  |\"CHURN\"  |\n",
      "--------------------------------------------------------------------------------------------------------------------------------------------------------------------------------------------------------------------------------------------------------------------------------------------------------------------------------------------------------------------------------------------------------------------------------------------------------------------------------------------------------------------------------------------------------------------------------------------\n",
      "|92981290    |246         |5498.0         |NULL           |246018      |09:00:00            |15:00:00          |NULL             |2020-01-29 12:36:13  |NULL         |USD               |13.0000         |NULL                |NULL                     |13.0000        |76207          |Kassandra     |Quinn        |Tokyo   |Japan      |114-0000       |Japanese              |Male      |NULL               |Married           |2                 |2020-02-22      |1999-07-14       |Kassandra.Quinn@gmail.com  |352-300-9060    |12      |2020    |1        |20201         |1        |\n",
      "|93017871    |250         |5405.0         |NULL           |246068      |08:00:00            |14:00:00          |NULL             |2020-02-10 08:29:09  |NULL         |USD               |45.0000         |NULL                |NULL                     |45.0000        |76207          |Kassandra     |Quinn        |Tokyo   |Japan      |114-0000       |Japanese              |Male      |NULL               |Married           |2                 |2020-02-22      |1999-07-14       |Kassandra.Quinn@gmail.com  |352-300-9060    |2       |2020    |2        |20202         |0        |\n",
      "|93023885    |250         |12070.0        |NULL           |246076      |08:00:00            |14:00:00          |NULL             |2020-02-12 09:46:18  |NULL         |USD               |49.0000         |NULL                |NULL                     |49.0000        |76207          |Kassandra     |Quinn        |Tokyo   |Japan      |114-0000       |Japanese              |Male      |NULL               |Married           |2                 |2020-02-22      |1999-07-14       |Kassandra.Quinn@gmail.com  |352-300-9060    |53      |2020    |2        |20202         |1        |\n",
      "|93187983    |246         |5486.0         |NULL           |246297      |15:00:00            |22:00:00          |NULL             |2020-04-05 16:11:33  |NULL         |USD               |18.0000         |NULL                |NULL                     |18.0000        |76207          |Kassandra     |Quinn        |Tokyo   |Japan      |114-0000       |Japanese              |Male      |NULL               |Married           |2                 |2020-02-22      |1999-07-14       |Kassandra.Quinn@gmail.com  |352-300-9060    |12      |2020    |4        |20204         |1        |\n",
      "|93241902    |246         |14276.0        |NULL           |246369      |15:30:00            |22:30:00          |NULL             |2020-04-17 21:39:53  |NULL         |USD               |38.0000         |NULL                |NULL                     |38.0000        |76207          |Kassandra     |Quinn        |Tokyo   |Japan      |114-0000       |Japanese              |Male      |NULL               |Married           |2                 |2020-02-22      |1999-07-14       |Kassandra.Quinn@gmail.com  |352-300-9060    |17      |2020    |4        |20204         |1        |\n",
      "|93319321    |250         |8511.0         |NULL           |246473      |15:00:00            |22:00:00          |NULL             |2020-05-04 15:04:53  |NULL         |USD               |27.0000         |NULL                |NULL                     |27.0000        |76207          |Kassandra     |Quinn        |Tokyo   |Japan      |114-0000       |Japanese              |Male      |NULL               |Married           |2                 |2020-02-22      |1999-07-14       |Kassandra.Quinn@gmail.com  |352-300-9060    |7       |2020    |5        |20205         |0        |\n",
      "|93351174    |250         |8520.0         |NULL           |246515      |15:30:00            |22:30:00          |NULL             |2020-05-11 21:15:25  |NULL         |USD               |44.0000         |NULL                |NULL                     |44.0000        |76207          |Kassandra     |Quinn        |Tokyo   |Japan      |114-0000       |Japanese              |Male      |NULL               |Married           |2                 |2020-02-22      |1999-07-14       |Kassandra.Quinn@gmail.com  |352-300-9060    |22      |2020    |5        |20205         |1        |\n",
      "|93446216    |242         |5515.0         |NULL           |246643      |15:00:00            |22:00:00          |NULL             |2020-06-02 20:49:10  |NULL         |USD               |78.0000         |NULL                |NULL                     |78.0000        |76207          |Kassandra     |Quinn        |Tokyo   |Japan      |114-0000       |Japanese              |Male      |NULL               |Married           |2                 |2020-02-22      |1999-07-14       |Kassandra.Quinn@gmail.com  |352-300-9060    |3       |2020    |6        |20206         |0        |\n",
      "|93460307    |246         |5491.0         |NULL           |246662      |09:00:00            |15:00:00          |NULL             |2020-06-05 13:00:22  |NULL         |USD               |21.0000         |NULL                |NULL                     |21.0000        |76207          |Kassandra     |Quinn        |Tokyo   |Japan      |114-0000       |Japanese              |Male      |NULL               |Married           |2                 |2020-02-22      |1999-07-14       |Kassandra.Quinn@gmail.com  |352-300-9060    |17      |2020    |6        |20206         |1        |\n",
      "|93537803    |250         |5551.0         |NULL           |246767      |16:00:00            |23:00:00          |NULL             |2020-06-22 20:27:17  |NULL         |USD               |41.0000         |NULL                |NULL                     |41.0000        |76207          |Kassandra     |Quinn        |Tokyo   |Japan      |114-0000       |Japanese              |Male      |NULL               |Married           |2                 |2020-02-22      |1999-07-14       |Kassandra.Quinn@gmail.com  |352-300-9060    |20      |2020    |6        |20206         |1        |\n",
      "--------------------------------------------------------------------------------------------------------------------------------------------------------------------------------------------------------------------------------------------------------------------------------------------------------------------------------------------------------------------------------------------------------------------------------------------------------------------------------------------------------------------------------------------------------------------------------------------\n",
      "\n"
     ]
    }
   ],
   "source": [
    "churn_YN = orders_df.with_column(\"CHURN\", F.iff(F.col(\"DTNO\") > 9, \"1\", \"0\"))\n",
    "\n",
    "churn_YN.show()"
   ]
  },
  {
   "cell_type": "code",
   "execution_count": 20,
   "metadata": {},
   "outputs": [
    {
     "name": "stdout",
     "output_type": "stream",
     "text": [
      "------------------------------------------------------------------------------------\n",
      "|\"DIVIDE(SUM(CHURN), COUNT(CUSTOMER_ID))\"  |\"YEAR\"  |\"MONTH\"  |\"SUM(ORDER_TOTAL)\"  |\n",
      "------------------------------------------------------------------------------------\n",
      "|0.643117106215968                         |2020    |12       |13399496.0000       |\n",
      "|0.5310078032590082                        |2021    |11       |18665928.2500       |\n",
      "|0.9200656465704494                        |2019    |4        |712290.0000         |\n",
      "|0.6468843225061566                        |2020    |11       |12565341.2500       |\n",
      "|0.5354679898770944                        |2021    |12       |19045652.7500       |\n",
      "|0.719340519323051                         |2020    |3        |7968823.0000        |\n",
      "|0.5935371076936158                        |2021    |5        |15527795.5000       |\n",
      "|0.5192629466278891                        |2022    |1        |19436288.5000       |\n",
      "|0.5076328137705879                        |2022    |3        |20150917.5000       |\n",
      "|0.8436551305403764                        |2019    |7        |1690853.5000        |\n",
      "------------------------------------------------------------------------------------\n",
      "\n"
     ]
    }
   ],
   "source": [
    "churn_rate_YM = churn_YN.group_by(F.col(\"YEAR\"), F.col(\"MONTH\")).agg(F.sum(\"CHURN\")/F.count(\"CUSTOMER_ID\"))\n",
    "\n",
    "churn_to_sales = churn_rate_YM.join(SUM_SALES_YM, (churn_rate_YM[\"YEAR\"] == SUM_SALES_YM[\"YEAR\"]) & (churn_rate_YM[\"MONTH\"] == SUM_SALES_YM[\"MONTH\"]), how=\"inner\")\n",
    "\n",
    "churn_to_sales = remove_dup_join_col(churn_to_sales)\n",
    "churn_to_sales.show()"
   ]
  },
  {
   "cell_type": "code",
   "execution_count": 34,
   "metadata": {},
   "outputs": [
    {
     "name": "stdout",
     "output_type": "stream",
     "text": [
      "--------------------------------------------------------\n",
      "|\"YEAR\"  |\"MONTH\"  |\"CHURN_RATE\"        |\"SALES\"       |\n",
      "--------------------------------------------------------\n",
      "|2019    |1        |0.9816951850378034  |91308.5000    |\n",
      "|2019    |2        |0.9666611101850309  |220793.5000   |\n",
      "|2019    |3        |0.9417467398764585  |425460.0000   |\n",
      "|2019    |4        |0.9200656465704494  |712290.0000   |\n",
      "|2019    |5        |0.9008302747389801  |979719.5000   |\n",
      "|2019    |6        |0.8789374410562716  |1109682.0000  |\n",
      "|2019    |7        |0.8436551305403764  |1690853.5000  |\n",
      "|2019    |8        |0.8197562776957164  |2024942.0000  |\n",
      "|2019    |9        |0.7965229761471532  |2217703.0000  |\n",
      "|2019    |10       |0.7886291932264503  |2920658.0000  |\n",
      "--------------------------------------------------------\n",
      "\n"
     ]
    }
   ],
   "source": [
    "churn_to_sales_push = churn_to_sales.select(\"YEAR\", \"MONTH\", \"DIVIDE(SUM(CHURN), COUNT(CUSTOMER_ID))\", \"SUM(ORDER_TOTAL)\")\n",
    "\n",
    "churn_to_sales_push = churn_to_sales_push.withColumnRenamed(\"DIVIDE(SUM(CHURN), COUNT(CUSTOMER_ID))\",\"CHURN_RATE\")\n",
    "churn_to_sales_push = churn_to_sales_push.withColumnRenamed(\"SUM(ORDER_TOTAL)\", \"SALES\")\n",
    "\n",
    "churn_to_sales_push = churn_to_sales_push.orderBy(\"YEAR\", \"MONTH\")\n",
    "\n",
    "churn_to_sales_push.show()"
   ]
  },
  {
   "cell_type": "code",
   "execution_count": 33,
   "metadata": {},
   "outputs": [],
   "source": [
    "churn_to_sales_push.write.save_as_table(table_name=\"churn_to_sales\", mode='overwrite')"
   ]
  },
  {
   "attachments": {},
   "cell_type": "markdown",
   "metadata": {},
   "source": [
    "## Collecting latest customer purchase information"
   ]
  },
  {
   "cell_type": "code",
   "execution_count": 4,
   "metadata": {},
   "outputs": [],
   "source": [
    "orders_head = session.table(\"FROSTBYTE_TASTY_BYTES.RAW_POS.ORDER_HEADER\")\n",
    "orders_detail = session.table(\"FROSTBYTE_TASTY_BYTES.RAW_POS.ORDER_DETAIL\")"
   ]
  },
  {
   "cell_type": "code",
   "execution_count": 6,
   "metadata": {},
   "outputs": [
    {
     "name": "stdout",
     "output_type": "stream",
     "text": [
      "-----------------------------------------------------------------------------------------------------------------------------------------------------------------------------------------------------------------------------------------------------------------------------------------\n",
      "|\"ORDER_ID\"  |\"TRUCK_ID\"  |\"LOCATION_ID\"  |\"CUSTOMER_ID\"  |\"DISCOUNT_ID\"  |\"SHIFT_ID\"  |\"SHIFT_START_TIME\"  |\"SHIFT_END_TIME\"  |\"ORDER_CHANNEL\"  |\"ORDER_TS\"           |\"SERVED_TS\"  |\"ORDER_CURRENCY\"  |\"ORDER_AMOUNT\"  |\"ORDER_TAX_AMOUNT\"  |\"ORDER_DISCOUNT_AMOUNT\"  |\"ORDER_TOTAL\"  |\n",
      "-----------------------------------------------------------------------------------------------------------------------------------------------------------------------------------------------------------------------------------------------------------------------------------------\n",
      "|369186517   |339         |11823.0        |NULL           |NULL           |200372773   |15:30:00            |22:30:00          |NULL             |2021-05-12 18:24:46  |NULL         |USD               |11.0000         |NULL                |NULL                     |11.0000        |\n",
      "|369186518   |339         |11823.0        |NULL           |NULL           |200372773   |15:30:00            |22:30:00          |NULL             |2021-05-12 18:24:49  |NULL         |USD               |76.0000         |NULL                |NULL                     |76.0000        |\n",
      "|369186519   |339         |11823.0        |NULL           |NULL           |200372773   |15:30:00            |22:30:00          |NULL             |2021-05-12 18:25:34  |NULL         |USD               |13.0000         |NULL                |NULL                     |13.0000        |\n",
      "|369186520   |339         |11823.0        |NULL           |NULL           |200372773   |15:30:00            |22:30:00          |NULL             |2021-05-12 18:26:20  |NULL         |USD               |26.0000         |NULL                |NULL                     |26.0000        |\n",
      "|369186521   |339         |11823.0        |NULL           |NULL           |200372773   |15:30:00            |22:30:00          |NULL             |2021-05-12 18:26:20  |NULL         |USD               |29.0000         |NULL                |NULL                     |29.0000        |\n",
      "|369186522   |339         |11823.0        |NULL           |NULL           |200372773   |15:30:00            |22:30:00          |NULL             |2021-05-12 18:27:12  |NULL         |USD               |68.0000         |NULL                |NULL                     |68.0000        |\n",
      "|369186523   |339         |11823.0        |NULL           |NULL           |200372773   |15:30:00            |22:30:00          |NULL             |2021-05-12 18:29:37  |NULL         |USD               |9.0000          |NULL                |NULL                     |9.0000         |\n",
      "|369186524   |339         |11823.0        |NULL           |NULL           |200372773   |15:30:00            |22:30:00          |NULL             |2021-05-12 18:29:41  |NULL         |USD               |18.0000         |NULL                |NULL                     |18.0000        |\n",
      "|369186525   |339         |11823.0        |NULL           |NULL           |200372773   |15:30:00            |22:30:00          |NULL             |2021-05-12 18:30:14  |NULL         |USD               |87.0000         |NULL                |NULL                     |87.0000        |\n",
      "|369186526   |339         |11823.0        |NULL           |NULL           |200372773   |15:30:00            |22:30:00          |NULL             |2021-05-12 18:34:08  |NULL         |USD               |48.0000         |NULL                |NULL                     |48.0000        |\n",
      "-----------------------------------------------------------------------------------------------------------------------------------------------------------------------------------------------------------------------------------------------------------------------------------------\n",
      "\n"
     ]
    }
   ],
   "source": [
    "orders_head.show()"
   ]
  },
  {
   "cell_type": "code",
   "execution_count": 7,
   "metadata": {},
   "outputs": [
    {
     "name": "stdout",
     "output_type": "stream",
     "text": [
      "--------------------------------------------------------------------------------------------------------------------------------------------------------\n",
      "|\"ORDER_DETAIL_ID\"  |\"ORDER_ID\"  |\"MENU_ITEM_ID\"  |\"DISCOUNT_ID\"  |\"LINE_NUMBER\"  |\"QUANTITY\"  |\"UNIT_PRICE\"  |\"PRICE\"  |\"ORDER_ITEM_DISCOUNT_AMOUNT\"  |\n",
      "--------------------------------------------------------------------------------------------------------------------------------------------------------\n",
      "|716664763          |390479600   |17              |NULL           |0              |5           |4.0000        |20.0000  |NULL                          |\n",
      "|716664764          |390479600   |18              |NULL           |1              |1           |5.0000        |5.0000   |NULL                          |\n",
      "|716664765          |390479600   |19              |NULL           |2              |2           |3.0000        |6.0000   |NULL                          |\n",
      "|716664766          |390479600   |12              |NULL           |3              |1           |6.0000        |6.0000   |NULL                          |\n",
      "|716664767          |390479601   |18              |NULL           |0              |1           |5.0000        |5.0000   |NULL                          |\n",
      "|716664768          |390479601   |13              |NULL           |1              |1           |7.0000        |7.0000   |NULL                          |\n",
      "|716664769          |390479602   |17              |NULL           |0              |1           |4.0000        |4.0000   |NULL                          |\n",
      "|716664770          |390479602   |13              |NULL           |1              |1           |7.0000        |7.0000   |NULL                          |\n",
      "|716664771          |390479603   |12              |NULL           |0              |2           |6.0000        |12.0000  |NULL                          |\n",
      "|716664772          |390479603   |14              |NULL           |1              |1           |2.0000        |2.0000   |NULL                          |\n",
      "--------------------------------------------------------------------------------------------------------------------------------------------------------\n",
      "\n"
     ]
    }
   ],
   "source": [
    "orders_detail.show()"
   ]
  },
  {
   "cell_type": "code",
   "execution_count": 11,
   "metadata": {},
   "outputs": [
    {
     "name": "stdout",
     "output_type": "stream",
     "text": [
      "-----------------------------------------------------------------------------------------------------------------------------------------------------------------------------------------------------------------------------------------------------------------------------------------\n",
      "|\"ORDER_ID\"  |\"TRUCK_ID\"  |\"LOCATION_ID\"  |\"CUSTOMER_ID\"  |\"DISCOUNT_ID\"  |\"SHIFT_ID\"  |\"SHIFT_START_TIME\"  |\"SHIFT_END_TIME\"  |\"ORDER_CHANNEL\"  |\"ORDER_TS\"           |\"SERVED_TS\"  |\"ORDER_CURRENCY\"  |\"ORDER_AMOUNT\"  |\"ORDER_TAX_AMOUNT\"  |\"ORDER_DISCOUNT_AMOUNT\"  |\"ORDER_TOTAL\"  |\n",
      "-----------------------------------------------------------------------------------------------------------------------------------------------------------------------------------------------------------------------------------------------------------------------------------------\n",
      "|369186532   |339         |11823.0        |221735         |NULL           |200372773   |15:30:00            |22:30:00          |NULL             |2021-05-12 18:37:48  |NULL         |USD               |23.0000         |NULL                |NULL                     |23.0000        |\n",
      "|369186537   |339         |11823.0        |31091          |NULL           |200372773   |15:30:00            |22:30:00          |NULL             |2021-05-12 18:40:15  |NULL         |USD               |22.0000         |NULL                |NULL                     |22.0000        |\n",
      "|369186539   |339         |11823.0        |208838         |NULL           |200372773   |15:30:00            |22:30:00          |NULL             |2021-05-12 18:41:59  |NULL         |USD               |35.0000         |NULL                |NULL                     |35.0000        |\n",
      "|369186540   |339         |11823.0        |221829         |NULL           |200372773   |15:30:00            |22:30:00          |NULL             |2021-05-12 18:44:22  |NULL         |USD               |85.0000         |NULL                |NULL                     |85.0000        |\n",
      "|369186559   |339         |11823.0        |202752         |NULL           |200372773   |15:30:00            |22:30:00          |NULL             |2021-05-12 19:03:48  |NULL         |USD               |13.0000         |NULL                |NULL                     |13.0000        |\n",
      "|369186569   |339         |11823.0        |51409          |NULL           |200372773   |15:30:00            |22:30:00          |NULL             |2021-05-12 19:14:13  |NULL         |USD               |9.0000          |NULL                |NULL                     |9.0000         |\n",
      "|369186570   |339         |11823.0        |19777          |NULL           |200372773   |15:30:00            |22:30:00          |NULL             |2021-05-12 19:15:50  |NULL         |USD               |52.0000         |NULL                |NULL                     |52.0000        |\n",
      "|369186581   |339         |11823.0        |2684           |NULL           |200372773   |15:30:00            |22:30:00          |NULL             |2021-05-12 19:28:47  |NULL         |USD               |37.0000         |NULL                |NULL                     |37.0000        |\n",
      "|369186600   |339         |11823.0        |209295         |NULL           |200372773   |15:30:00            |22:30:00          |NULL             |2021-05-12 19:54:07  |NULL         |USD               |22.0000         |NULL                |NULL                     |22.0000        |\n",
      "|369186605   |339         |11823.0        |45475          |NULL           |200372773   |15:30:00            |22:30:00          |NULL             |2021-05-12 20:01:46  |NULL         |USD               |26.0000         |NULL                |NULL                     |26.0000        |\n",
      "-----------------------------------------------------------------------------------------------------------------------------------------------------------------------------------------------------------------------------------------------------------------------------------------\n",
      "\n"
     ]
    }
   ],
   "source": [
    "orders_head = orders_head.na.drop(subset=[\"CUSTOMER_ID\"])\n",
    "\n",
    "orders_head.show()"
   ]
  },
  {
   "cell_type": "code",
   "execution_count": 12,
   "metadata": {},
   "outputs": [],
   "source": [
    "# called `orders` with columns `customer_id` and `order_ts`\n",
    "window_spec = Window.partitionBy('customer_id').orderBy(F.col('order_ts').desc())\n",
    "\n",
    "orders_with_rank = orders_head.withColumn('rank', F.rank().over(window_spec))\n",
    "\n",
    "# Get max order of each customer\n",
    "max_order_ts = orders_with_rank.filter(F.col('rank') == 1).select('customer_id', 'order_ts')"
   ]
  },
  {
   "cell_type": "code",
   "execution_count": 13,
   "metadata": {},
   "outputs": [],
   "source": [
    "# Rename columns\n",
    "max_order_ts = max_order_ts.withColumnRenamed('ORDER_TS','Max_Order_TS')"
   ]
  },
  {
   "cell_type": "code",
   "execution_count": 14,
   "metadata": {},
   "outputs": [],
   "source": [
    "# Merge with second max order dataframe\n",
    "max_Order=orders_head.join(right=max_order_ts,on='CUSTOMER_ID',how='inner')\n",
    "\n",
    "#Filter for\n",
    "filtered_df = max_Order.filter(F.col('ORDER_TS') == F.col('Max_Order_TS'))"
   ]
  },
  {
   "cell_type": "code",
   "execution_count": 16,
   "metadata": {},
   "outputs": [
    {
     "name": "stdout",
     "output_type": "stream",
     "text": [
      "---------------------------------------------------------------------------------------------------------------------------------------------------------------------------------------------------------------------------------------------------------------------------------------------------------------\n",
      "|\"CUSTOMER_ID\"  |\"ORDER_ID\"  |\"TRUCK_ID\"  |\"LOCATION_ID\"  |\"DISCOUNT_ID\"  |\"SHIFT_ID\"  |\"SHIFT_START_TIME\"  |\"SHIFT_END_TIME\"  |\"ORDER_CHANNEL\"  |\"ORDER_TS\"           |\"SERVED_TS\"  |\"ORDER_CURRENCY\"  |\"ORDER_AMOUNT\"  |\"ORDER_TAX_AMOUNT\"  |\"ORDER_DISCOUNT_AMOUNT\"  |\"ORDER_TOTAL\"  |\"MAX_ORDER_TS\"       |\n",
      "---------------------------------------------------------------------------------------------------------------------------------------------------------------------------------------------------------------------------------------------------------------------------------------------------------------\n",
      "|28287          |459271526   |56          |2227.0         |NULL           |200581918   |08:00:00            |14:00:00          |NULL             |2022-09-17 09:05:22  |NULL         |USD               |52.0000         |NULL                |NULL                     |52.0000        |2022-09-17 09:05:22  |\n",
      "|41355          |459271579   |56          |2227.0         |NULL           |200581918   |08:00:00            |14:00:00          |NULL             |2022-09-17 11:01:00  |NULL         |USD               |26.0000         |NULL                |NULL                     |26.0000        |2022-09-17 11:01:00  |\n",
      "|118360         |459271648   |56          |2227.0         |NULL           |200581918   |08:00:00            |14:00:00          |NULL             |2022-09-17 12:43:32  |NULL         |USD               |40.0000         |NULL                |NULL                     |40.0000        |2022-09-17 12:43:32  |\n",
      "|98836          |459271810   |56          |15332.0        |NULL           |200581919   |15:00:00            |22:00:00          |NULL             |2022-09-17 19:06:56  |NULL         |USD               |124.0000        |NULL                |NULL                     |124.0000       |2022-09-17 19:06:56  |\n",
      "|210024         |384159022   |355         |8197.0         |NULL           |200400307   |15:00:00            |22:00:00          |NULL             |2022-09-01 19:38:10  |NULL         |USD               |10.0000         |NULL                |NULL                     |10.0000        |2022-09-01 19:38:10  |\n",
      "|215955         |384167398   |346         |10251.0        |NULL           |200400319   |15:00:00            |22:00:00          |NULL             |2022-09-02 20:27:36  |NULL         |USD               |49.5000         |NULL                |NULL                     |49.5000        |2022-09-02 20:27:36  |\n",
      "|209572         |384174311   |351         |11230.0        |NULL           |200400329   |15:30:00            |22:30:00          |NULL             |2022-09-02 18:33:20  |NULL         |USD               |5.0000          |NULL                |NULL                     |5.0000         |2022-09-02 18:33:20  |\n",
      "|216249         |384186449   |360         |11217.0        |NULL           |200400346   |09:00:00            |15:00:00          |NULL             |2022-09-02 13:06:26  |NULL         |USD               |109.0000        |NULL                |NULL                     |109.0000       |2022-09-02 13:06:26  |\n",
      "|215809         |384192027   |349         |4708.0         |NULL           |200400354   |08:30:00            |14:30:00          |NULL             |2022-09-03 13:30:31  |NULL         |USD               |10.0000         |NULL                |NULL                     |10.0000        |2022-09-03 13:30:31  |\n",
      "|193920         |129941626   |272         |7643.0         |NULL           |296484      |09:00:00            |15:00:00          |NULL             |2022-07-18 11:28:37  |NULL         |USD               |70.0000         |NULL                |NULL                     |70.0000        |2022-07-18 11:28:37  |\n",
      "---------------------------------------------------------------------------------------------------------------------------------------------------------------------------------------------------------------------------------------------------------------------------------------------------------------\n",
      "\n"
     ]
    }
   ],
   "source": [
    "filtered_df.show()"
   ]
  },
  {
   "cell_type": "code",
   "execution_count": 18,
   "metadata": {},
   "outputs": [
    {
     "name": "stdout",
     "output_type": "stream",
     "text": [
      "-------------------------------------------------------------------------------------------------------------------------------------------------------------------------------------------------------------------------------------------------------------------------------------------------------------------------------------------------------------------------------------------------------------------------------------------------------------------------------------------------------------------------------------------------------------------------------\n",
      "|\"CUSTOMER_ID\"  |\"ORDER_ID\"  |\"TRUCK_ID\"  |\"LOCATION_ID\"  |\"DISCOUNT_ID\"  |\"SHIFT_ID\"  |\"SHIFT_START_TIME\"  |\"SHIFT_END_TIME\"  |\"ORDER_CHANNEL\"  |\"ORDER_TS\"           |\"SERVED_TS\"  |\"ORDER_CURRENCY\"  |\"ORDER_AMOUNT\"  |\"ORDER_TAX_AMOUNT\"  |\"ORDER_DISCOUNT_AMOUNT\"  |\"ORDER_TOTAL\"  |\"MAX_ORDER_TS\"       |\"FIRST_NAME\"  |\"LAST_NAME\"  |\"CITY\"     |\"COUNTRY\"       |\"POSTAL_CODE\"  |\"PREFERRED_LANGUAGE\"  |\"GENDER\"  |\"FAVOURITE_BRAND\"  |\"MARITAL_STATUS\"  |\"CHILDREN_COUNT\"  |\"SIGN_UP_DATE\"  |\"BIRTHDAY_DATE\"  |\"E_MAIL\"                             |\"PHONE_NUMBER\"  |\n",
      "-------------------------------------------------------------------------------------------------------------------------------------------------------------------------------------------------------------------------------------------------------------------------------------------------------------------------------------------------------------------------------------------------------------------------------------------------------------------------------------------------------------------------------------------------------------------------------\n",
      "|190564         |92872881    |239         |6010.0         |NULL           |245872      |08:00:00            |14:00:00          |NULL             |2022-10-31 12:30:36  |NULL         |USD               |59.0000         |NULL                |NULL                     |59.0000        |2022-10-31 12:30:36  |Arturo        |Hays         |Delhi      |India           |110044         |Hindi                 |Male      |NULL               |Single            |0                 |2022-06-09      |1967-09-02       |Arturo.Hays@aol.com                  |244-678-8903    |\n",
      "|12241          |392603407   |366         |10766.0        |NULL           |200417626   |08:00:00            |14:00:00          |NULL             |2022-10-30 10:58:24  |NULL         |USD               |16.0000         |NULL                |NULL                     |16.0000        |2022-10-30 10:58:24  |Dustin        |Horne        |Hamburg    |Germany         |21129          |German                |Male      |NULL               |Married           |1                 |2022-03-06      |1951-01-18       |Dustin.Horne@ymail.com               |746-752-7507    |\n",
      "|11001          |32653086    |107         |2906.0         |NULL           |113817      |15:00:00            |22:00:00          |NULL             |2022-10-17 16:02:49  |NULL         |USD               |87.0000         |NULL                |NULL                     |87.0000        |2022-10-17 16:02:49  |Lindsey       |Brewer       |Montreal   |Canada          |H2J 3E3        |English               |Female    |NULL               |Single            |0                 |2021-05-09      |1988-03-23       |Lindsey.Brewer@hotmail.com           |557-691-0448    |\n",
      "|174428         |104194169   |254         |11610.0        |NULL           |261106      |08:30:00            |14:30:00          |NULL             |2022-10-08 12:42:51  |NULL         |USD               |130.0000        |NULL                |NULL                     |130.0000       |2022-10-08 12:42:51  |Shaun         |Ali          |Tokyo      |Japan           |176-0000       |Japanese              |Male      |NULL               |Married           |0                 |2019-05-27      |1980-05-13       |Shaun.Ali@hotmail.com                |451-931-7809    |\n",
      "|200163         |356640143   |308         |6958.0         |NULL           |200353718   |08:00:00            |14:00:00          |NULL             |2022-10-23 10:20:03  |NULL         |USD               |80.0000         |NULL                |NULL                     |80.0000        |2022-10-23 10:20:03  |Darryl        |Beard        |Sao Paulo  |Brazil          |NULL           |Portuguese            |Female    |NULL               |Married           |1                 |2019-05-21      |1975-02-25       |**~MASKED~**.**~MASKED~**@gmail.com  |111-111-1111    |\n",
      "|155187         |43742480    |135         |9368.0         |NULL           |129003      |15:00:00            |22:00:00          |NULL             |2022-10-28 16:22:25  |NULL         |USD               |25.0000         |NULL                |NULL                     |25.0000        |2022-10-28 16:22:25  |Janelle       |Humphrey     |London     |United Kingdom  |E1 7LX         |English               |Male      |NULL               |Single            |0                 |2021-07-09      |1974-01-01       |Janelle.Humphrey@hotmail.com         |488-298-8695    |\n",
      "|20265          |22005099    |81          |1986.0         |NULL           |76368       |08:00:00            |14:00:00          |NULL             |2022-10-28 12:47:17  |NULL         |USD               |18.0000         |NULL                |NULL                     |18.0000        |2022-10-28 12:47:17  |Enrique       |Kelly        |Toronto    |Canada          |M4C 1V6        |English               |Male      |NULL               |Single            |0                 |2021-03-31      |1989-06-17       |Enrique.Kelly@gmail.com              |203-831-0609    |\n",
      "|76311          |452697397   |18          |1035.0         |NULL           |200546701   |15:00:00            |22:00:00          |NULL             |2022-10-26 19:54:22  |NULL         |USD               |34.0000         |NULL                |NULL                     |34.0000        |2022-10-26 19:54:22  |Octavio       |Sharp        |Denver     |United States   |80257          |English               |Male      |NULL               |Single            |0                 |2020-09-22      |1976-05-13       |Octavio.Sharp@hotmail.com            |235-395-8399    |\n",
      "|141486         |343529441   |6           |4044.0         |NULL           |200335838   |08:00:00            |14:00:00          |NULL             |2022-10-25 08:20:07  |NULL         |USD               |20.0000         |NULL                |NULL                     |20.0000        |2022-10-25 08:20:07  |Erica         |Tran         |San Mateo  |United States   |94404          |English               |Female    |NULL               |Married           |4                 |2019-01-05      |1968-07-23       |Erica.Tran@aol.com                   |200-891-8379    |\n",
      "|92741          |25924689    |91          |3526.0         |NULL           |98556       |08:00:00            |14:00:00          |NULL             |2022-10-27 11:57:48  |NULL         |USD               |7.0000          |NULL                |NULL                     |7.0000         |2022-10-27 11:57:48  |Maxim         |Mcguire      |Vancouver  |Canada          |V5K 2E6        |English               |Female    |NULL               |Single            |2                 |2020-04-11      |1955-08-20       |Maxim.Mcguire@ymail.com              |926-484-2914    |\n",
      "-------------------------------------------------------------------------------------------------------------------------------------------------------------------------------------------------------------------------------------------------------------------------------------------------------------------------------------------------------------------------------------------------------------------------------------------------------------------------------------------------------------------------------------------------------------------------------\n",
      "\n"
     ]
    }
   ],
   "source": [
    "filter_customer = filtered_df.join(CUSTOMERS, on='CUSTOMER_ID', how='left')\n",
    "\n",
    "filter_customer.show()"
   ]
  },
  {
   "cell_type": "code",
   "execution_count": 23,
   "metadata": {},
   "outputs": [
    {
     "name": "stdout",
     "output_type": "stream",
     "text": [
      "---------------------------------------------------------------------------------------------------------------------------------------------------------------------------------------------------------------------------------------------------------------------------------------------------------------------------------------------------------------------------------------------------------------------------------------------------------------------------------------------------------------------------------------------------------------------------------\n",
      "|\"CUSTOMER_ID\"  |\"ORDER_ID\"  |\"TRUCK_ID\"  |\"LOCATION_ID\"  |\"DISCOUNT_ID\"  |\"SHIFT_ID\"  |\"SHIFT_START_TIME\"  |\"SHIFT_END_TIME\"  |\"ORDER_CHANNEL\"  |\"ORDER_TS\"           |\"SERVED_TS\"  |\"ORDER_CURRENCY\"  |\"ORDER_AMOUNT\"  |\"ORDER_TAX_AMOUNT\"  |\"ORDER_DISCOUNT_AMOUNT\"  |\"ORDER_TOTAL\"  |\"MAX_ORDER_TS\"       |\"FIRST_NAME\"  |\"LAST_NAME\"  |\"CITY\"         |\"COUNTRY\"      |\"POSTAL_CODE\"  |\"PREFERRED_LANGUAGE\"  |\"GENDER\"     |\"FAVOURITE_BRAND\"  |\"MARITAL_STATUS\"    |\"CHILDREN_COUNT\"  |\"SIGN_UP_DATE\"  |\"BIRTHDAY_DATE\"  |\"E_MAIL\"                       |\"PHONE_NUMBER\"  |\n",
      "---------------------------------------------------------------------------------------------------------------------------------------------------------------------------------------------------------------------------------------------------------------------------------------------------------------------------------------------------------------------------------------------------------------------------------------------------------------------------------------------------------------------------------------------------------------------------------\n",
      "|196687         |343526272   |12          |2798.0         |NULL           |200335731   |15:00:00            |22:00:00          |NULL             |2022-10-21 21:20:38  |NULL         |USD               |103.0000        |NULL                |NULL                     |103.0000       |2022-10-21 21:20:38  |Jose          |Bradford     |San Mateo      |United States  |94497          |English               |Female       |NULL               |Married             |2                 |2021-04-21      |1962-10-20       |Jose.Bradford@aol.com          |318-051-0181    |\n",
      "|149647         |459495572   |58          |15317.0        |NULL           |200583122   |08:00:00            |14:00:00          |NULL             |2022-10-27 12:09:01  |NULL         |USD               |42.0000         |NULL                |NULL                     |42.0000        |2022-10-27 12:09:01  |Gwendolyn     |Walters      |Boston         |United States  |2215           |English               |Male         |NULL               |Married             |1                 |2019-03-24      |1983-06-14       |Gwendolyn.Walters@hotmail.com  |607-858-3972    |\n",
      "|109352         |447385923   |65          |3161.0         |NULL           |200523942   |08:30:00            |14:30:00          |NULL             |2022-09-05 12:07:27  |NULL         |USD               |54.7500         |NULL                |NULL                     |54.7500        |2022-09-05 12:07:27  |Karina        |Bolton       |New York City  |United States  |10025          |English               |Male         |NULL               |Single              |0                 |2020-02-23      |1950-03-19       |Karina.Bolton@ymail.com        |374-019-6126    |\n",
      "|178080         |452696219   |30          |14766.0        |NULL           |200546695   |15:00:00            |22:00:00          |NULL             |2022-10-25 21:47:04  |NULL         |USD               |47.0000         |NULL                |NULL                     |47.0000        |2022-10-25 21:47:04  |Makhi         |Austin       |Denver         |United States  |80204          |English               |Undisclosed  |NULL               |Married             |0                 |2021-09-03      |1954-10-08       |Makhi.Austin@ymail.com         |693-056-1085    |\n",
      "|69806          |448099773   |67          |3177.0         |NULL           |200524907   |15:00:00            |22:00:00          |NULL             |2022-10-07 20:24:45  |NULL         |USD               |7.0000          |NULL                |NULL                     |7.0000         |2022-10-07 20:24:45  |Landen        |Hess         |New York City  |United States  |11208          |English               |Undisclosed  |NULL               |Divorced/Seperated  |2                 |2020-10-26      |1960-10-21       |Landen.Hess@aol.com            |176-833-9267    |\n",
      "|103109         |452711487   |24          |3451.0         |NULL           |200546773   |16:00:00            |23:00:00          |NULL             |2022-10-28 22:56:11  |NULL         |USD               |54.0000         |NULL                |NULL                     |54.0000        |2022-10-28 22:56:11  |Karlie        |Lutz         |Denver         |United States  |80211          |English               |Male         |NULL               |Single              |0                 |2021-07-10      |1955-02-09       |Karlie.Lutz@ymail.com          |368-300-2446    |\n",
      "|191695         |343535736   |9           |4192.0         |NULL           |200336055   |16:00:00            |23:00:00          |NULL             |2022-11-01 17:13:55  |NULL         |USD               |56.0000         |NULL                |NULL                     |56.0000        |2022-11-01 17:13:55  |Maia          |Horne        |San Mateo      |United States  |94403          |English               |Male         |NULL               |Single              |1                 |2021-08-16      |1983-05-19       |Maia.Horne@hotmail.com         |330-278-5259    |\n",
      "|121218         |343518847   |7           |3618.0         |NULL           |200335480   |08:00:00            |14:00:00          |NULL             |2022-10-13 11:51:37  |NULL         |USD               |71.0000         |NULL                |NULL                     |71.0000        |2022-10-13 11:51:37  |Mira          |Pope         |San Mateo      |United States  |94497          |English               |Male         |NULL               |Married             |2                 |2022-02-09      |1986-01-21       |Mira.Pope@hotmail.com          |252-356-4411    |\n",
      "|196154         |452729412   |19          |14914.0        |NULL           |200546853   |16:00:00            |23:00:00          |NULL             |2022-10-31 20:22:20  |NULL         |USD               |52.0000         |NULL                |NULL                     |52.0000        |2022-10-31 20:22:20  |Cruz          |Murillo      |Denver         |United States  |80205          |English               |Male         |NULL               |Divorced/Seperated  |1                 |2021-04-17      |1974-02-10       |Cruz.Murillo@hotmail.com       |691-187-4060    |\n",
      "|132627         |448529843   |73          |13096.0        |NULL           |200525489   |15:00:00            |22:00:00          |NULL             |2022-10-26 20:16:17  |NULL         |USD               |44.0000         |NULL                |NULL                     |44.0000        |2022-10-26 20:16:17  |Uriah         |Peterson     |New York City  |United States  |11226          |English               |Female       |NULL               |Single              |1                 |2021-01-31      |1988-05-01       |Uriah.Peterson@hotmail.com     |116-049-5442    |\n",
      "---------------------------------------------------------------------------------------------------------------------------------------------------------------------------------------------------------------------------------------------------------------------------------------------------------------------------------------------------------------------------------------------------------------------------------------------------------------------------------------------------------------------------------------------------------------------------------\n",
      "\n"
     ]
    }
   ],
   "source": [
    "filter_customer_USA = filter_customer.where(filter_customer.COUNTRY == 'United States')\n",
    "\n",
    "filter_customer_USA.show()"
   ]
  },
  {
   "cell_type": "code",
   "execution_count": 25,
   "metadata": {},
   "outputs": [
    {
     "name": "stdout",
     "output_type": "stream",
     "text": [
      "--------------------------------------------------------------------------------------------------------------------------------------------------------------------------------------------------------------------------------------------------------------------------------------------------------------------------------------------------------------------------------------------------------------------------------------------------------------------------------------------------------------------------------------------------------------------------------------------------------------------------------------------------------------------------------------\n",
      "|\"ORDER_ID\"  |\"CUSTOMER_ID\"  |\"TRUCK_ID\"  |\"LOCATION_ID\"  |\"l_0izv_DISCOUNT_ID\"  |\"SHIFT_ID\"  |\"SHIFT_START_TIME\"  |\"SHIFT_END_TIME\"  |\"ORDER_CHANNEL\"  |\"ORDER_TS\"  |\"SERVED_TS\"  |\"ORDER_CURRENCY\"  |\"ORDER_AMOUNT\"  |\"ORDER_TAX_AMOUNT\"  |\"ORDER_DISCOUNT_AMOUNT\"  |\"ORDER_TOTAL\"  |\"MAX_ORDER_TS\"  |\"FIRST_NAME\"  |\"LAST_NAME\"  |\"CITY\"  |\"COUNTRY\"  |\"POSTAL_CODE\"  |\"PREFERRED_LANGUAGE\"  |\"GENDER\"  |\"FAVOURITE_BRAND\"  |\"MARITAL_STATUS\"  |\"CHILDREN_COUNT\"  |\"SIGN_UP_DATE\"  |\"BIRTHDAY_DATE\"  |\"E_MAIL\"  |\"PHONE_NUMBER\"  |\"ORDER_DETAIL_ID\"  |\"MENU_ITEM_ID\"  |\"r_u7d6_DISCOUNT_ID\"  |\"LINE_NUMBER\"  |\"QUANTITY\"  |\"UNIT_PRICE\"  |\"PRICE\"  |\"ORDER_ITEM_DISCOUNT_AMOUNT\"  |\n",
      "--------------------------------------------------------------------------------------------------------------------------------------------------------------------------------------------------------------------------------------------------------------------------------------------------------------------------------------------------------------------------------------------------------------------------------------------------------------------------------------------------------------------------------------------------------------------------------------------------------------------------------------------------------------------------------------\n",
      "|26977276    |NULL           |NULL        |NULL           |NULL                  |NULL        |NULL                |NULL              |NULL             |NULL        |NULL         |NULL              |NULL            |NULL                |NULL                     |NULL           |NULL            |NULL          |NULL         |NULL    |NULL       |NULL           |NULL                  |NULL      |NULL               |NULL              |NULL              |NULL            |NULL             |NULL      |NULL            |73015891           |82              |NULL                  |0              |1           |15.0000       |15.0000  |NULL                          |\n",
      "|26977277    |NULL           |NULL        |NULL           |NULL                  |NULL        |NULL                |NULL              |NULL             |NULL        |NULL         |NULL              |NULL            |NULL                |NULL                     |NULL           |NULL            |NULL          |NULL         |NULL    |NULL       |NULL           |NULL                  |NULL      |NULL               |NULL              |NULL              |NULL            |NULL             |NULL      |NULL            |73015895           |86              |NULL                  |3              |1           |3.0000        |3.0000   |NULL                          |\n",
      "|26977277    |NULL           |NULL        |NULL           |NULL                  |NULL        |NULL                |NULL              |NULL             |NULL        |NULL         |NULL              |NULL            |NULL                |NULL                     |NULL           |NULL            |NULL          |NULL         |NULL    |NULL       |NULL           |NULL                  |NULL      |NULL               |NULL              |NULL              |NULL            |NULL             |NULL      |NULL            |73015894           |83              |NULL                  |2              |1           |9.0000        |9.0000   |NULL                          |\n",
      "|26977277    |NULL           |NULL        |NULL           |NULL                  |NULL        |NULL                |NULL              |NULL             |NULL        |NULL         |NULL              |NULL            |NULL                |NULL                     |NULL           |NULL            |NULL          |NULL         |NULL    |NULL       |NULL           |NULL                  |NULL      |NULL               |NULL              |NULL              |NULL            |NULL             |NULL      |NULL            |73015892           |81              |NULL                  |0              |2           |12.0000       |24.0000  |NULL                          |\n",
      "|26977277    |NULL           |NULL        |NULL           |NULL                  |NULL        |NULL                |NULL              |NULL             |NULL        |NULL         |NULL              |NULL            |NULL                |NULL                     |NULL           |NULL            |NULL          |NULL         |NULL    |NULL       |NULL           |NULL                  |NULL      |NULL               |NULL              |NULL              |NULL            |NULL             |NULL      |NULL            |73015893           |82              |NULL                  |1              |1           |15.0000       |15.0000  |NULL                          |\n",
      "|26977278    |NULL           |NULL        |NULL           |NULL                  |NULL        |NULL                |NULL              |NULL             |NULL        |NULL         |NULL              |NULL            |NULL                |NULL                     |NULL           |NULL            |NULL          |NULL         |NULL    |NULL       |NULL           |NULL                  |NULL      |NULL               |NULL              |NULL              |NULL            |NULL             |NULL      |NULL            |73015896           |81              |NULL                  |0              |1           |12.0000       |12.0000  |NULL                          |\n",
      "|26977278    |NULL           |NULL        |NULL           |NULL                  |NULL        |NULL                |NULL              |NULL             |NULL        |NULL         |NULL              |NULL            |NULL                |NULL                     |NULL           |NULL            |NULL          |NULL         |NULL    |NULL       |NULL           |NULL                  |NULL      |NULL               |NULL              |NULL              |NULL            |NULL             |NULL      |NULL            |73015897           |82              |NULL                  |1              |2           |15.0000       |30.0000  |NULL                          |\n",
      "|26977278    |NULL           |NULL        |NULL           |NULL                  |NULL        |NULL                |NULL              |NULL             |NULL        |NULL         |NULL              |NULL            |NULL                |NULL                     |NULL           |NULL            |NULL          |NULL         |NULL    |NULL       |NULL           |NULL                  |NULL      |NULL               |NULL              |NULL              |NULL            |NULL             |NULL      |NULL            |73015898           |84              |NULL                  |2              |1           |2.0000        |2.0000   |NULL                          |\n",
      "|26977279    |NULL           |NULL        |NULL           |NULL                  |NULL        |NULL                |NULL              |NULL             |NULL        |NULL         |NULL              |NULL            |NULL                |NULL                     |NULL           |NULL            |NULL          |NULL         |NULL    |NULL       |NULL           |NULL                  |NULL      |NULL               |NULL              |NULL              |NULL            |NULL             |NULL      |NULL            |73015899           |81              |NULL                  |0              |2           |12.0000       |24.0000  |NULL                          |\n",
      "|26977279    |NULL           |NULL        |NULL           |NULL                  |NULL        |NULL                |NULL              |NULL             |NULL        |NULL         |NULL              |NULL            |NULL                |NULL                     |NULL           |NULL            |NULL          |NULL         |NULL    |NULL       |NULL           |NULL                  |NULL      |NULL               |NULL              |NULL              |NULL            |NULL             |NULL      |NULL            |73015900           |82              |NULL                  |1              |3           |15.0000       |45.0000  |NULL                          |\n",
      "--------------------------------------------------------------------------------------------------------------------------------------------------------------------------------------------------------------------------------------------------------------------------------------------------------------------------------------------------------------------------------------------------------------------------------------------------------------------------------------------------------------------------------------------------------------------------------------------------------------------------------------------------------------------------------------\n",
      "\n"
     ]
    }
   ],
   "source": [
    "order_with_detail = filter_customer_USA.join(right=orders_detail,on='ORDER_ID',how='right')\n",
    "\n",
    "order_with_detail.show()"
   ]
  },
  {
   "cell_type": "code",
   "execution_count": 26,
   "metadata": {},
   "outputs": [
    {
     "name": "stdout",
     "output_type": "stream",
     "text": [
      "--------------------------------------------------------------------------------------------------------------------------------------------------------------------------------------------------------------------------------------------------------------------------------------------------------------------------------------------------------------------------------------------------------------------------------------------------------------------------------------------------------------------------------------------------------------------------------------------------------------------------------------------------------\n",
      "|\"ORDER_ID\"  |\"CUSTOMER_ID\"  |\"TRUCK_ID\"  |\"LOCATION_ID\"  |\"SHIFT_ID\"  |\"SHIFT_START_TIME\"  |\"SHIFT_END_TIME\"  |\"ORDER_CHANNEL\"  |\"ORDER_TS\"  |\"SERVED_TS\"  |\"ORDER_CURRENCY\"  |\"ORDER_AMOUNT\"  |\"ORDER_TAX_AMOUNT\"  |\"ORDER_DISCOUNT_AMOUNT\"  |\"ORDER_TOTAL\"  |\"MAX_ORDER_TS\"  |\"FIRST_NAME\"  |\"LAST_NAME\"  |\"CITY\"  |\"COUNTRY\"  |\"POSTAL_CODE\"  |\"PREFERRED_LANGUAGE\"  |\"GENDER\"  |\"FAVOURITE_BRAND\"  |\"MARITAL_STATUS\"  |\"CHILDREN_COUNT\"  |\"SIGN_UP_DATE\"  |\"BIRTHDAY_DATE\"  |\"E_MAIL\"  |\"PHONE_NUMBER\"  |\"ORDER_DETAIL_ID\"  |\"MENU_ITEM_ID\"  |\"DISCOUNT_ID\"  |\"LINE_NUMBER\"  |\"QUANTITY\"  |\"UNIT_PRICE\"  |\"PRICE\"  |\"ORDER_ITEM_DISCOUNT_AMOUNT\"  |\n",
      "--------------------------------------------------------------------------------------------------------------------------------------------------------------------------------------------------------------------------------------------------------------------------------------------------------------------------------------------------------------------------------------------------------------------------------------------------------------------------------------------------------------------------------------------------------------------------------------------------------------------------------------------------------\n",
      "|91087805    |NULL           |NULL        |NULL           |NULL        |NULL                |NULL              |NULL             |NULL        |NULL         |NULL              |NULL            |NULL                |NULL                     |NULL           |NULL            |NULL          |NULL         |NULL    |NULL       |NULL           |NULL                  |NULL      |NULL               |NULL              |NULL              |NULL            |NULL             |NULL      |NULL            |246114162          |141             |NULL           |1              |2           |17.0000       |34.0000  |NULL                          |\n",
      "|91087805    |NULL           |NULL        |NULL           |NULL        |NULL                |NULL              |NULL             |NULL        |NULL         |NULL              |NULL            |NULL                |NULL                     |NULL           |NULL            |NULL          |NULL         |NULL    |NULL       |NULL           |NULL                  |NULL      |NULL               |NULL              |NULL              |NULL            |NULL             |NULL      |NULL            |246114164          |143             |NULL           |3              |1           |15.0000       |15.0000  |NULL                          |\n",
      "|91087805    |NULL           |NULL        |NULL           |NULL        |NULL                |NULL              |NULL             |NULL        |NULL         |NULL              |NULL            |NULL                |NULL                     |NULL           |NULL            |NULL          |NULL         |NULL    |NULL       |NULL           |NULL                  |NULL      |NULL               |NULL              |NULL              |NULL            |NULL             |NULL      |NULL            |246114163          |142             |NULL           |2              |2           |18.0000       |36.0000  |NULL                          |\n",
      "|91087805    |NULL           |NULL        |NULL           |NULL        |NULL                |NULL              |NULL             |NULL        |NULL         |NULL              |NULL            |NULL                |NULL                     |NULL           |NULL            |NULL          |NULL         |NULL    |NULL       |NULL           |NULL                  |NULL      |NULL               |NULL              |NULL              |NULL            |NULL             |NULL      |NULL            |246114161          |144             |NULL           |0              |2           |2.0000        |4.0000   |NULL                          |\n",
      "|91087806    |NULL           |NULL        |NULL           |NULL        |NULL                |NULL              |NULL             |NULL        |NULL         |NULL              |NULL            |NULL                |NULL                     |NULL           |NULL            |NULL          |NULL         |NULL    |NULL       |NULL           |NULL                  |NULL      |NULL               |NULL              |NULL              |NULL            |NULL             |NULL      |NULL            |246114165          |141             |NULL           |0              |3           |17.0000       |51.0000  |NULL                          |\n",
      "|91087806    |NULL           |NULL        |NULL           |NULL        |NULL                |NULL              |NULL             |NULL        |NULL         |NULL              |NULL            |NULL                |NULL                     |NULL           |NULL            |NULL          |NULL         |NULL    |NULL       |NULL           |NULL                  |NULL      |NULL               |NULL              |NULL              |NULL            |NULL             |NULL      |NULL            |246114166          |142             |NULL           |1              |5           |18.0000       |90.0000  |NULL                          |\n",
      "|91087806    |NULL           |NULL        |NULL           |NULL        |NULL                |NULL              |NULL             |NULL        |NULL         |NULL              |NULL            |NULL                |NULL                     |NULL           |NULL            |NULL          |NULL         |NULL    |NULL       |NULL           |NULL                  |NULL      |NULL               |NULL              |NULL              |NULL            |NULL             |NULL      |NULL            |246114167          |144             |NULL           |2              |1           |2.0000        |2.0000   |NULL                          |\n",
      "|91087806    |NULL           |NULL        |NULL           |NULL        |NULL                |NULL              |NULL             |NULL        |NULL         |NULL              |NULL            |NULL                |NULL                     |NULL           |NULL            |NULL          |NULL         |NULL    |NULL       |NULL           |NULL                  |NULL      |NULL               |NULL              |NULL              |NULL            |NULL             |NULL      |NULL            |246114168          |145             |NULL           |3              |1           |3.0000        |3.0000   |NULL                          |\n",
      "|91087806    |NULL           |NULL        |NULL           |NULL        |NULL                |NULL              |NULL             |NULL        |NULL         |NULL              |NULL            |NULL                |NULL                     |NULL           |NULL            |NULL          |NULL         |NULL    |NULL       |NULL           |NULL                  |NULL      |NULL               |NULL              |NULL              |NULL            |NULL             |NULL      |NULL            |246114169          |146             |NULL           |4              |2           |3.0000        |6.0000   |NULL                          |\n",
      "|91087807    |NULL           |NULL        |NULL           |NULL        |NULL                |NULL              |NULL             |NULL        |NULL         |NULL              |NULL            |NULL                |NULL                     |NULL           |NULL            |NULL          |NULL         |NULL    |NULL       |NULL           |NULL                  |NULL      |NULL               |NULL              |NULL              |NULL            |NULL             |NULL      |NULL            |246114170          |141             |NULL           |0              |1           |17.0000       |17.0000  |NULL                          |\n",
      "--------------------------------------------------------------------------------------------------------------------------------------------------------------------------------------------------------------------------------------------------------------------------------------------------------------------------------------------------------------------------------------------------------------------------------------------------------------------------------------------------------------------------------------------------------------------------------------------------------------------------------------------------------\n",
      "\n"
     ]
    }
   ],
   "source": [
    "order_with_detail = remove_dup_join_col(order_with_detail)\n",
    "order_with_detail.show()"
   ]
  },
  {
   "cell_type": "code",
   "execution_count": null,
   "metadata": {},
   "outputs": [],
   "source": [
    "order_with_detail.write.save_as_table(table_name=\"ORDER_DETAILS_USA_MATCHED\", mode='overwrite')\n",
    "filter_customer_USA.write.save_as_table(table_name=\"ORDER_HEAD_USA_MATCHED\", mode='overwrite')"
   ]
  }
 ],
 "metadata": {
  "kernelspec": {
   "display_name": "py38_env",
   "language": "python",
   "name": "python3"
  },
  "language_info": {
   "codemirror_mode": {
    "name": "ipython",
    "version": 3
   },
   "file_extension": ".py",
   "mimetype": "text/x-python",
   "name": "python",
   "nbconvert_exporter": "python",
   "pygments_lexer": "ipython3",
   "version": "3.8.16"
  },
  "orig_nbformat": 4
 },
 "nbformat": 4,
 "nbformat_minor": 2
}
