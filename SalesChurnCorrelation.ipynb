{
 "cells": [
  {
   "cell_type": "code",
   "execution_count": 2,
   "metadata": {},
   "outputs": [],
   "source": [
    "#Import Python packages\n",
    "import pandas as pd\n",
    "import json\n",
    "import matplotlib.pyplot as plt\n",
    "import seaborn as sns\n",
    "import json\n",
    "import datetime\n",
    "\n",
    "# Import Snowflake modules\n",
    "from snowflake.snowpark import Session\n",
    "import snowflake.snowpark.functions as F\n",
    "import snowflake.snowpark.types as T\n",
    "from snowflake.snowpark import Window"
   ]
  },
  {
   "cell_type": "code",
   "execution_count": 3,
   "metadata": {},
   "outputs": [],
   "source": [
    "# Get account credentials from a json file\n",
    "with open(\"data_scientist_auth.json\") as f:\n",
    "    data = json.load(f)\n",
    "    username = data[\"username\"]\n",
    "    password = data[\"password\"]\n",
    "    account = data[\"account\"]\n",
    "\n",
    "# Specify connection parameters\n",
    "connection_parameters = {\n",
    "    \"account\": account,\n",
    "    \"user\": username,\n",
    "    \"password\": password,\n",
    "    \"role\": \"TASTY_BI\",\n",
    "    \"warehouse\": \"TASTY_BI_WH\",\n",
    "    \"database\": \"frostbyte_tasty_bytes\",\n",
    "    \"schema\": \"analytics\",\n",
    "}\n",
    "\n",
    "# Create Snowpark session\n",
    "session = Session.builder.configs(connection_parameters).create()"
   ]
  },
  {
   "cell_type": "code",
   "execution_count": 4,
   "metadata": {},
   "outputs": [],
   "source": [
    "#Function to remove and rename columns after inner join\n",
    "def remove_dup_join_col(df):\n",
    "    # capitalise all columns\n",
    "    for col in df.columns:\n",
    "        df = df.withColumnRenamed(col, col.upper())\n",
    "    \n",
    "    # get list of renamable columns for left and right join\n",
    "    left_dup_col = [col_name for col_name in df.columns if col_name.startswith('L_')]\n",
    "    right_dup_col = [col_name for col_name in df.columns if col_name.startswith('R_')]\n",
    "    old_columns = df.columns\n",
    "    \n",
    "    # rename the list with the most number of renamable columns\n",
    "    # drop the list of columns with less number of renamable columns\n",
    "    if len(left_dup_col)>len(right_dup_col):\n",
    "        columns_rename=left_dup_col\n",
    "        df= df.drop(*right_dup_col)\n",
    "    else:\n",
    "        columns_rename=right_dup_col\n",
    "        df= df.drop(*left_dup_col)\n",
    "    \n",
    "    for old_column in old_columns:\n",
    "        if old_column in columns_rename:\n",
    "            # get string to remove\n",
    "            string_to_replace = columns_rename[0][:7]\n",
    "            # replace starting string\n",
    "            new_column = old_column.replace(string_to_replace, \"\")\n",
    "            df = df.withColumnRenamed(old_column, new_column)\n",
    "    \n",
    "    return df"
   ]
  },
  {
   "attachments": {},
   "cell_type": "markdown",
   "metadata": {},
   "source": [
    "Objective of this notebook is to rebuild a NPS_Compare or similar to do high level correlation"
   ]
  },
  {
   "cell_type": "code",
   "execution_count": 5,
   "metadata": {},
   "outputs": [],
   "source": [
    "ORDER_HEADERS = session.table(\"FROSTBYTE_TASTY_BYTES.RAW_POS.ORDER_HEADER\")\n",
    "CUSTOMERS = session.table(\"FROSTBYTE_TASTY_BYTES.RAW_CUSTOMER.CUSTOMER_LOYALTY\")"
   ]
  },
  {
   "cell_type": "code",
   "execution_count": 6,
   "metadata": {},
   "outputs": [
    {
     "name": "stdout",
     "output_type": "stream",
     "text": [
      "-----------------------------------------------------------------------------------------------------------------------------------------------------------------------------------------------------------------------------------------------------------------------------------------\n",
      "|\"ORDER_ID\"  |\"TRUCK_ID\"  |\"LOCATION_ID\"  |\"CUSTOMER_ID\"  |\"DISCOUNT_ID\"  |\"SHIFT_ID\"  |\"SHIFT_START_TIME\"  |\"SHIFT_END_TIME\"  |\"ORDER_CHANNEL\"  |\"ORDER_TS\"           |\"SERVED_TS\"  |\"ORDER_CURRENCY\"  |\"ORDER_AMOUNT\"  |\"ORDER_TAX_AMOUNT\"  |\"ORDER_DISCOUNT_AMOUNT\"  |\"ORDER_TOTAL\"  |\n",
      "-----------------------------------------------------------------------------------------------------------------------------------------------------------------------------------------------------------------------------------------------------------------------------------------\n",
      "|14271673    |90          |2666.0         |NULL           |NULL           |63645       |15:30:00            |22:30:00          |NULL             |2021-05-25 16:53:13  |NULL         |USD               |11.0000         |NULL                |NULL                     |11.0000        |\n",
      "|14271674    |90          |2666.0         |59685          |NULL           |63645       |15:30:00            |22:30:00          |NULL             |2021-05-25 16:53:26  |NULL         |USD               |11.0000         |NULL                |NULL                     |11.0000        |\n",
      "|14271675    |90          |2666.0         |NULL           |NULL           |63645       |15:30:00            |22:30:00          |NULL             |2021-05-25 16:53:26  |NULL         |USD               |11.0000         |NULL                |NULL                     |11.0000        |\n",
      "|14271676    |90          |2666.0         |NULL           |NULL           |63645       |15:30:00            |22:30:00          |NULL             |2021-05-25 16:53:29  |NULL         |USD               |57.0000         |NULL                |NULL                     |57.0000        |\n",
      "|14271677    |90          |2666.0         |NULL           |NULL           |63645       |15:30:00            |22:30:00          |NULL             |2021-05-25 16:53:49  |NULL         |USD               |24.0000         |NULL                |NULL                     |24.0000        |\n",
      "|14271678    |90          |2666.0         |NULL           |NULL           |63645       |15:30:00            |22:30:00          |NULL             |2021-05-25 16:54:11  |NULL         |USD               |33.0000         |NULL                |NULL                     |33.0000        |\n",
      "|14271679    |90          |2666.0         |NULL           |NULL           |63645       |15:30:00            |22:30:00          |NULL             |2021-05-25 16:54:25  |NULL         |USD               |71.0000         |NULL                |NULL                     |71.0000        |\n",
      "|14271680    |90          |2666.0         |NULL           |NULL           |63645       |15:30:00            |22:30:00          |NULL             |2021-05-25 16:54:57  |NULL         |USD               |33.0000         |NULL                |NULL                     |33.0000        |\n",
      "|14271681    |90          |2666.0         |NULL           |NULL           |63645       |15:30:00            |22:30:00          |NULL             |2021-05-25 16:55:00  |NULL         |USD               |39.0000         |NULL                |NULL                     |39.0000        |\n",
      "|14271682    |90          |2666.0         |NULL           |NULL           |63645       |15:30:00            |22:30:00          |NULL             |2021-05-25 16:55:03  |NULL         |USD               |69.0000         |NULL                |NULL                     |69.0000        |\n",
      "-----------------------------------------------------------------------------------------------------------------------------------------------------------------------------------------------------------------------------------------------------------------------------------------\n",
      "\n"
     ]
    }
   ],
   "source": [
    "ORDER_HEADERS.show()"
   ]
  },
  {
   "cell_type": "code",
   "execution_count": 7,
   "metadata": {},
   "outputs": [
    {
     "name": "stdout",
     "output_type": "stream",
     "text": [
      "-------------------------------------------------------------------------------------------------------------------------------------------------------------------------------------------------------------------------------------------------------------------------\n",
      "|\"CUSTOMER_ID\"  |\"FIRST_NAME\"  |\"LAST_NAME\"  |\"CITY\"          |\"COUNTRY\"  |\"POSTAL_CODE\"  |\"PREFERRED_LANGUAGE\"  |\"GENDER\"     |\"FAVOURITE_BRAND\"  |\"MARITAL_STATUS\"  |\"CHILDREN_COUNT\"  |\"SIGN_UP_DATE\"  |\"BIRTHDAY_DATE\"  |\"E_MAIL\"                  |\"PHONE_NUMBER\"  |\n",
      "-------------------------------------------------------------------------------------------------------------------------------------------------------------------------------------------------------------------------------------------------------------------------\n",
      "|1              |Rodolfo       |Tucker       |Hamburg         |Germany    |21129          |German                |Female       |NULL               |Single            |0                 |2019-02-19      |1953-12-01       |Rodolfo.Tucker@ymail.com  |007-506-6068    |\n",
      "|2              |Karla         |Mullen       |Rio de Janeiro  |Brazil     |22753-000      |Portuguese            |Male         |NULL               |Single            |0                 |2019-10-07      |1973-09-21       |Karla.Mullen@hotmail.com  |431-122-6142    |\n",
      "|3              |Cortez        |Douglas      |Krakow          |Poland     |31-5           |Polish                |Female       |NULL               |Married           |2                 |2020-09-11      |2000-09-04       |Cortez.Douglas@gmail.com  |157-518-3848    |\n",
      "|4              |Janiya        |Pope         |Krakow          |Poland     |31-5           |Polish                |Female       |NULL               |Single            |1                 |2021-09-09      |1950-03-05       |Janiya.Pope@ymail.com     |872-718-6879    |\n",
      "|5              |Zaiden        |Knapp        |Barcelona       |Spain      |08013          |English               |Female       |NULL               |Married           |1                 |2022-06-17      |1978-10-29       |Zaiden.Knapp@hotmail.com  |545-152-4832    |\n",
      "|6              |Micah         |Beard        |Hamburg         |Germany    |21129          |German                |Male         |NULL               |Single            |0                 |2021-06-02      |1969-08-17       |Micah.Beard@aol.com       |535-753-3461    |\n",
      "|7              |Ricardo       |Byrd         |Barcelona       |Spain      |08013          |English               |Male         |NULL               |Undisclosed       |Undisclosed       |2020-09-29      |1961-12-23       |Ricardo.Byrd@aol.com      |138-082-1391    |\n",
      "|8              |Marie         |Boyer        |Hamburg         |Germany    |21129          |German                |Female       |NULL               |Single            |0                 |2021-04-08      |1960-07-12       |Marie.Boyer@aol.com       |587-006-4451    |\n",
      "|9              |Josie         |Glass        |Stockholm       |Sweden     |6206           |Swedish               |Male         |NULL               |Single            |0                 |2020-10-30      |1970-09-11       |Josie.Glass@hotmail.com   |023-863-4028    |\n",
      "|10             |Korbin        |Ward         |Cairo           |Egypt      |00000          |Arabic                |Undisclosed  |NULL               |Single            |0                 |2020-06-04      |1989-05-27       |Korbin.Ward@gmail.com     |049-196-8102    |\n",
      "-------------------------------------------------------------------------------------------------------------------------------------------------------------------------------------------------------------------------------------------------------------------------\n",
      "\n"
     ]
    }
   ],
   "source": [
    "CUSTOMERS.show()"
   ]
  },
  {
   "cell_type": "code",
   "execution_count": 8,
   "metadata": {},
   "outputs": [
    {
     "name": "stdout",
     "output_type": "stream",
     "text": [
      "-----------------------------------------------------------------------------------------------------------------------------------------------------------------------------------------------------------------------------------------------------------------------------------------------------------------------------------------------------------------------------------------------------------------------------------------------------------------------------------------------------------------------------------------------------------------\n",
      "|\"ORDER_ID\"  |\"TRUCK_ID\"  |\"LOCATION_ID\"  |\"DISCOUNT_ID\"  |\"SHIFT_ID\"  |\"SHIFT_START_TIME\"  |\"SHIFT_END_TIME\"  |\"ORDER_CHANNEL\"  |\"ORDER_TS\"           |\"SERVED_TS\"  |\"ORDER_CURRENCY\"  |\"ORDER_AMOUNT\"  |\"ORDER_TAX_AMOUNT\"  |\"ORDER_DISCOUNT_AMOUNT\"  |\"ORDER_TOTAL\"  |\"CUSTOMER_ID\"  |\"FIRST_NAME\"  |\"LAST_NAME\"  |\"CITY\"         |\"COUNTRY\"      |\"POSTAL_CODE\"  |\"PREFERRED_LANGUAGE\"  |\"GENDER\"     |\"FAVOURITE_BRAND\"  |\"MARITAL_STATUS\"    |\"CHILDREN_COUNT\"  |\"SIGN_UP_DATE\"  |\"BIRTHDAY_DATE\"  |\"E_MAIL\"                             |\"PHONE_NUMBER\"  |\n",
      "-----------------------------------------------------------------------------------------------------------------------------------------------------------------------------------------------------------------------------------------------------------------------------------------------------------------------------------------------------------------------------------------------------------------------------------------------------------------------------------------------------------------------------------------------------------------\n",
      "|444074170   |61          |11303.0        |NULL           |200519465   |15:00:00            |22:00:00          |NULL             |2022-04-09 17:53:48  |NULL         |USD               |6.0000          |NULL                |NULL                     |6.0000         |113802         |Theodore      |Montoya      |New York City  |United States  |11385          |English               |Undisclosed  |NULL               |Single              |0                 |2021-12-08      |1970-07-22       |Theodore.Montoya@hotmail.com         |523-298-1095    |\n",
      "|444074222   |61          |11303.0        |NULL           |200519465   |15:00:00            |22:00:00          |NULL             |2022-04-09 18:16:43  |NULL         |USD               |42.5000         |NULL                |NULL                     |42.5000        |163766         |Lamont        |Frazier      |New York City  |United States  |10025          |English               |Female       |NULL               |Married             |0                 |2021-05-12      |1978-05-24       |Lamont.Frazier@hotmail.com           |444-837-3882    |\n",
      "|444074263   |61          |11303.0        |NULL           |200519465   |15:00:00            |22:00:00          |NULL             |2022-04-09 18:39:34  |NULL         |USD               |11.0000         |NULL                |NULL                     |11.0000        |50304          |Gianni        |Rowland      |New York City  |United States  |11373          |English               |Female       |NULL               |Married             |2                 |2021-11-13      |1953-01-08       |Gianni.Rowland@ymail.com             |402-326-5581    |\n",
      "|444074309   |61          |11303.0        |NULL           |200519465   |15:00:00            |22:00:00          |NULL             |2022-04-09 19:03:04  |NULL         |USD               |6.0000          |NULL                |NULL                     |6.0000         |138041         |Roger         |Lynn         |New York City  |United States  |11220          |English               |Female       |NULL               |Single              |0                 |2019-08-19      |1970-06-14       |Roger.Lynn@hotmail.com               |766-497-5477    |\n",
      "|444074338   |61          |11303.0        |NULL           |200519465   |15:00:00            |22:00:00          |NULL             |2022-04-09 19:17:14  |NULL         |USD               |5.0000          |NULL                |NULL                     |5.0000         |26512          |Amiya         |Blake        |New York City  |United States  |10467          |English               |Male         |NULL               |Divorced/Seperated  |0                 |2019-11-02      |1973-11-27       |Amiya.Blake@hotmail.com              |243-841-2228    |\n",
      "|444074349   |61          |11303.0        |NULL           |200519465   |15:00:00            |22:00:00          |NULL             |2022-04-09 19:28:58  |NULL         |USD               |24.5000         |NULL                |NULL                     |24.5000        |91289          |Sonny         |Reese        |New York City  |United States  |11385          |English               |Female       |NULL               |Divorced/Seperated  |0                 |2021-02-09      |1991-10-15       |Sonny.Reese@gmail.com                |200-056-1845    |\n",
      "|444074351   |61          |11303.0        |NULL           |200519465   |15:00:00            |22:00:00          |NULL             |2022-04-09 19:29:10  |NULL         |USD               |28.0000         |NULL                |NULL                     |28.0000        |175672         |Hannah        |Chaney       |New York City  |United States  |10025          |English               |Female       |NULL               |Single              |0                 |2022-05-27      |1986-01-22       |Hannah.Chaney@hotmail.com            |871-278-6338    |\n",
      "|444074373   |61          |11303.0        |NULL           |200519465   |15:00:00            |22:00:00          |NULL             |2022-04-09 19:36:55  |NULL         |USD               |18.0000         |NULL                |NULL                     |18.0000        |29084          |Zachariah     |Davila       |New York City  |United States  |11236          |English               |Male         |NULL               |Married             |2                 |2022-04-15      |1946-03-04       |Zachariah.Davila@ymail.com           |380-446-9257    |\n",
      "|444074385   |61          |11303.0        |NULL           |200519465   |15:00:00            |22:00:00          |NULL             |2022-04-09 19:44:38  |NULL         |USD               |18.0000         |NULL                |NULL                     |18.0000        |127475         |Dakota        |Flores       |New York City  |United States  |11211          |English               |Female       |NULL               |Single              |0                 |2019-11-26      |1990-11-26       |Dakota.Flores@gmail.com              |025-753-2708    |\n",
      "|369186532   |339         |11823.0        |NULL           |200372773   |15:30:00            |22:30:00          |NULL             |2021-05-12 18:37:48  |NULL         |USD               |23.0000         |NULL                |NULL                     |23.0000        |221735         |Nehemiah      |Good         |Munich         |Germany        |80809          |German                |Male         |NULL               |Single              |0                 |2019-06-25      |1965-03-23       |**~MASKED~**.**~MASKED~**@yahoo.com  |111-111-1111    |\n",
      "-----------------------------------------------------------------------------------------------------------------------------------------------------------------------------------------------------------------------------------------------------------------------------------------------------------------------------------------------------------------------------------------------------------------------------------------------------------------------------------------------------------------------------------------------------------------\n",
      "\n"
     ]
    }
   ],
   "source": [
    "LOOKER = ORDER_HEADERS.join(CUSTOMERS, CUSTOMERS['CUSTOMER_ID'] == ORDER_HEADERS['CUSTOMER_ID'], 'inner')\n",
    "\n",
    "LOOKER = remove_dup_join_col(LOOKER)\n",
    "\n",
    "LOOKER.show()"
   ]
  },
  {
   "cell_type": "code",
   "execution_count": 9,
   "metadata": {},
   "outputs": [
    {
     "name": "stdout",
     "output_type": "stream",
     "text": [
      "---------------------------------------------------------------------------------------------------------------------------------------------------------------------------------------------------------------------------------------------------------------------------------------------------------------------------------------------------------------------------------------------------------------------------------------------------------------------------------------------------------------------------------------------\n",
      "|\"ORDER_ID\"  |\"TRUCK_ID\"  |\"LOCATION_ID\"  |\"DISCOUNT_ID\"  |\"SHIFT_ID\"  |\"SHIFT_START_TIME\"  |\"SHIFT_END_TIME\"  |\"ORDER_CHANNEL\"  |\"ORDER_TS\"           |\"SERVED_TS\"  |\"ORDER_CURRENCY\"  |\"ORDER_AMOUNT\"  |\"ORDER_TAX_AMOUNT\"  |\"ORDER_DISCOUNT_AMOUNT\"  |\"ORDER_TOTAL\"  |\"CUSTOMER_ID\"  |\"FIRST_NAME\"  |\"LAST_NAME\"  |\"CITY\"  |\"COUNTRY\"  |\"POSTAL_CODE\"  |\"PREFERRED_LANGUAGE\"  |\"GENDER\"  |\"FAVOURITE_BRAND\"  |\"MARITAL_STATUS\"  |\"CHILDREN_COUNT\"  |\"SIGN_UP_DATE\"  |\"BIRTHDAY_DATE\"  |\"E_MAIL\"                |\"PHONE_NUMBER\"  |\"DTNO\"  |\n",
      "---------------------------------------------------------------------------------------------------------------------------------------------------------------------------------------------------------------------------------------------------------------------------------------------------------------------------------------------------------------------------------------------------------------------------------------------------------------------------------------------------------------------------------------------\n",
      "|120037776   |285         |9250.0         |NULL           |282533      |16:00:00            |23:00:00          |NULL             |2020-01-08 21:32:35  |NULL         |USD               |11.0000         |NULL                |NULL                     |11.0000        |136587         |Teagan        |Padilla      |Sydney  |Australia  |1235           |English               |Female    |NULL               |Married           |1                 |2020-05-23      |1962-08-07       |Teagan.Padilla@aol.com  |998-777-7198    |140     |\n",
      "|120617256   |285         |10685.0        |NULL           |283372      |08:00:00            |14:00:00          |NULL             |2020-05-27 08:53:39  |NULL         |USD               |22.0000         |NULL                |NULL                     |22.0000        |136587         |Teagan        |Padilla      |Sydney  |Australia  |1235           |English               |Female    |NULL               |Married           |1                 |2020-05-23      |1962-08-07       |Teagan.Padilla@aol.com  |998-777-7198    |16      |\n",
      "|120682285   |279         |10069.0        |NULL           |283466      |08:30:00            |14:30:00          |NULL             |2020-06-12 11:42:19  |NULL         |USD               |9.0000          |NULL                |NULL                     |9.0000         |136587         |Teagan        |Padilla      |Sydney  |Australia  |1235           |English               |Female    |NULL               |Married           |1                 |2020-05-23      |1962-08-07       |Teagan.Padilla@aol.com  |998-777-7198    |15      |\n",
      "|120744812   |275         |13923.0        |NULL           |283555      |15:00:00            |22:00:00          |NULL             |2020-06-27 19:59:50  |NULL         |USD               |17.2500         |NULL                |NULL                     |17.2500        |136587         |Teagan        |Padilla      |Sydney  |Australia  |1235           |English               |Female    |NULL               |Married           |1                 |2020-05-23      |1962-08-07       |Teagan.Padilla@aol.com  |998-777-7198    |8       |\n",
      "|120777701   |275         |7637.0         |NULL           |283602      |09:00:00            |15:00:00          |NULL             |2020-07-05 12:49:11  |NULL         |USD               |115.5000        |NULL                |NULL                     |115.5000       |136587         |Teagan        |Padilla      |Sydney  |Australia  |1235           |English               |Female    |NULL               |Married           |1                 |2020-05-23      |1962-08-07       |Teagan.Padilla@aol.com  |998-777-7198    |9       |\n",
      "|120818335   |285         |9243.0         |NULL           |283661      |15:00:00            |22:00:00          |NULL             |2020-07-14 19:34:00  |NULL         |USD               |44.0000         |NULL                |NULL                     |44.0000        |136587         |Teagan        |Padilla      |Sydney  |Australia  |1235           |English               |Female    |NULL               |Married           |1                 |2020-05-23      |1962-08-07       |Teagan.Padilla@aol.com  |998-777-7198    |6       |\n",
      "|120842200   |279         |12538.0        |NULL           |283695      |15:30:00            |22:30:00          |NULL             |2020-07-20 21:37:41  |NULL         |USD               |47.0000         |NULL                |NULL                     |47.0000        |136587         |Teagan        |Padilla      |Sydney  |Australia  |1235           |English               |Female    |NULL               |Married           |1                 |2020-05-23      |1962-08-07       |Teagan.Padilla@aol.com  |998-777-7198    |5       |\n",
      "|120864656   |285         |12367.0        |NULL           |283727      |15:00:00            |22:00:00          |NULL             |2020-07-25 19:17:15  |NULL         |USD               |39.0000         |NULL                |NULL                     |39.0000        |136587         |Teagan        |Padilla      |Sydney  |Australia  |1235           |English               |Female    |NULL               |Married           |1                 |2020-05-23      |1962-08-07       |Teagan.Padilla@aol.com  |998-777-7198    |42      |\n",
      "|121038888   |279         |9236.0         |NULL           |283976      |08:00:00            |14:00:00          |NULL             |2020-09-05 08:02:26  |NULL         |USD               |35.0000         |NULL                |NULL                     |35.0000        |136587         |Teagan        |Padilla      |Sydney  |Australia  |1235           |English               |Female    |NULL               |Married           |1                 |2020-05-23      |1962-08-07       |Teagan.Padilla@aol.com  |998-777-7198    |18      |\n",
      "|121113928   |275         |12168.0        |NULL           |284082      |08:00:00            |14:00:00          |NULL             |2020-09-23 11:15:02  |NULL         |USD               |17.2500         |NULL                |NULL                     |17.2500        |136587         |Teagan        |Padilla      |Sydney  |Australia  |1235           |English               |Female    |NULL               |Married           |1                 |2020-05-23      |1962-08-07       |Teagan.Padilla@aol.com  |998-777-7198    |20      |\n",
      "---------------------------------------------------------------------------------------------------------------------------------------------------------------------------------------------------------------------------------------------------------------------------------------------------------------------------------------------------------------------------------------------------------------------------------------------------------------------------------------------------------------------------------------------\n",
      "\n"
     ]
    }
   ],
   "source": [
    "# Define a window partitioned by customer and menu item, ordered by date\n",
    "window_spec = Window.partitionBy(\"CUSTOMER_ID\").orderBy(\"ORDER_TS\")\n",
    "\n",
    "# Add a column with the date of the prior order for each customer and order\n",
    "orders_df_pre = LOOKER.withColumn(\"DTNO\", F.lead(\"ORDER_TS\").over(window_spec))\n",
    "\n",
    "orders_df = orders_df_pre.withColumn(\"DTNO\", F.datediff(col1=\"ORDER_TS\", col2=\"DTNO\",part='day'))\n",
    "orders_df = orders_df.na.drop(subset=[\"DTNO\"])\n",
    "\n",
    "orders_df.show()"
   ]
  },
  {
   "cell_type": "code",
   "execution_count": 10,
   "metadata": {},
   "outputs": [],
   "source": [
    "orders_df.write.save_as_table(table_name=\"tran_anal\", mode='overwrite')"
   ]
  },
  {
   "cell_type": "code",
   "execution_count": 11,
   "metadata": {},
   "outputs": [],
   "source": [
    "orders_df = session.table(\"tran_anal\")"
   ]
  },
  {
   "cell_type": "code",
   "execution_count": 12,
   "metadata": {},
   "outputs": [
    {
     "name": "stdout",
     "output_type": "stream",
     "text": [
      "---------------------------------------------------------------------------------------------------------------------------------------------------------------------------------------------------------------------------------------------------------------------------------------------------------------------------------------------------------------------------------------------------------------------------------------------------------------------------------------------------------------------------------------------------\n",
      "|\"ORDER_ID\"  |\"TRUCK_ID\"  |\"LOCATION_ID\"  |\"DISCOUNT_ID\"  |\"SHIFT_ID\"  |\"SHIFT_START_TIME\"  |\"SHIFT_END_TIME\"  |\"ORDER_CHANNEL\"  |\"ORDER_TS\"           |\"SERVED_TS\"  |\"ORDER_CURRENCY\"  |\"ORDER_AMOUNT\"  |\"ORDER_TAX_AMOUNT\"  |\"ORDER_DISCOUNT_AMOUNT\"  |\"ORDER_TOTAL\"  |\"CUSTOMER_ID\"  |\"FIRST_NAME\"  |\"LAST_NAME\"  |\"CITY\"  |\"COUNTRY\"  |\"POSTAL_CODE\"  |\"PREFERRED_LANGUAGE\"  |\"GENDER\"  |\"FAVOURITE_BRAND\"  |\"MARITAL_STATUS\"  |\"CHILDREN_COUNT\"  |\"SIGN_UP_DATE\"  |\"BIRTHDAY_DATE\"  |\"E_MAIL\"                      |\"PHONE_NUMBER\"  |\"DTNO\"  |\n",
      "---------------------------------------------------------------------------------------------------------------------------------------------------------------------------------------------------------------------------------------------------------------------------------------------------------------------------------------------------------------------------------------------------------------------------------------------------------------------------------------------------------------------------------------------------\n",
      "|53578484    |177         |13523.0        |NULL           |159774      |08:00:00            |14:00:00          |NULL             |2020-02-08 13:07:05  |NULL         |USD               |54.0000         |NULL                |NULL                     |54.0000        |108755         |Marshall      |Nicholson    |Nice    |France     |6200           |French                |Female    |NULL               |Married           |3                 |2020-08-27      |1947-10-02       |Marshall.Nicholson@ymail.com  |550-189-8197    |12      |\n",
      "|53580490    |177         |9839.0         |NULL           |159798      |08:30:00            |14:30:00          |NULL             |2020-02-20 12:04:29  |NULL         |USD               |12.0000         |NULL                |NULL                     |12.0000        |108755         |Marshall      |Nicholson    |Nice    |France     |6200           |French                |Female    |NULL               |Married           |3                 |2020-08-27      |1947-10-02       |Marshall.Nicholson@ymail.com  |550-189-8197    |14      |\n",
      "|53582733    |177         |5919.0         |NULL           |159826      |08:30:00            |14:30:00          |NULL             |2020-03-05 13:52:10  |NULL         |USD               |20.0000         |NULL                |NULL                     |20.0000        |108755         |Marshall      |Nicholson    |Nice    |France     |6200           |French                |Female    |NULL               |Married           |3                 |2020-08-27      |1947-10-02       |Marshall.Nicholson@ymail.com  |550-189-8197    |47      |\n",
      "|53593660    |177         |5926.0         |NULL           |159962      |08:00:00            |14:00:00          |NULL             |2020-04-21 09:56:04  |NULL         |USD               |106.0000        |NULL                |NULL                     |106.0000       |108755         |Marshall      |Nicholson    |Nice    |France     |6200           |French                |Female    |NULL               |Married           |3                 |2020-08-27      |1947-10-02       |Marshall.Nicholson@ymail.com  |550-189-8197    |3       |\n",
      "|53594696    |177         |11024.0        |NULL           |159974      |08:00:00            |14:00:00          |NULL             |2020-04-24 11:39:36  |NULL         |USD               |69.0000         |NULL                |NULL                     |69.0000        |108755         |Marshall      |Nicholson    |Nice    |France     |6200           |French                |Female    |NULL               |Married           |3                 |2020-08-27      |1947-10-02       |Marshall.Nicholson@ymail.com  |550-189-8197    |19      |\n",
      "|53600199    |171         |13223.0        |NULL           |160049      |15:00:00            |22:00:00          |NULL             |2020-05-13 18:27:42  |NULL         |USD               |20.0000         |NULL                |NULL                     |20.0000        |108755         |Marshall      |Nicholson    |Nice    |France     |6200           |French                |Female    |NULL               |Married           |3                 |2020-08-27      |1947-10-02       |Marshall.Nicholson@ymail.com  |550-189-8197    |5       |\n",
      "|53601596    |171         |5935.0         |NULL           |160069      |15:00:00            |22:00:00          |NULL             |2020-05-18 21:47:32  |NULL         |USD               |16.0000         |NULL                |NULL                     |16.0000        |108755         |Marshall      |Nicholson    |Nice    |France     |6200           |French                |Female    |NULL               |Married           |3                 |2020-08-27      |1947-10-02       |Marshall.Nicholson@ymail.com  |550-189-8197    |36      |\n",
      "|53611600    |171         |10546.0        |NULL           |160213      |16:00:00            |23:00:00          |NULL             |2020-06-23 20:09:30  |NULL         |USD               |10.0000         |NULL                |NULL                     |10.0000        |108755         |Marshall      |Nicholson    |Nice    |France     |6200           |French                |Female    |NULL               |Married           |3                 |2020-08-27      |1947-10-02       |Marshall.Nicholson@ymail.com  |550-189-8197    |34      |\n",
      "|53621674    |171         |12501.0        |NULL           |160348      |08:30:00            |14:30:00          |NULL             |2020-07-27 12:04:51  |NULL         |USD               |10.0000         |NULL                |NULL                     |10.0000        |108755         |Marshall      |Nicholson    |Nice    |France     |6200           |French                |Female    |NULL               |Married           |3                 |2020-08-27      |1947-10-02       |Marshall.Nicholson@ymail.com  |550-189-8197    |12      |\n",
      "|53625497    |171         |10532.0        |NULL           |160397      |15:30:00            |22:30:00          |NULL             |2020-08-08 19:08:51  |NULL         |USD               |6.0000          |NULL                |NULL                     |6.0000         |108755         |Marshall      |Nicholson    |Nice    |France     |6200           |French                |Female    |NULL               |Married           |3                 |2020-08-27      |1947-10-02       |Marshall.Nicholson@ymail.com  |550-189-8197    |8       |\n",
      "---------------------------------------------------------------------------------------------------------------------------------------------------------------------------------------------------------------------------------------------------------------------------------------------------------------------------------------------------------------------------------------------------------------------------------------------------------------------------------------------------------------------------------------------------\n",
      "\n"
     ]
    }
   ],
   "source": [
    "orders_df.show()"
   ]
  },
  {
   "cell_type": "code",
   "execution_count": 13,
   "metadata": {},
   "outputs": [
    {
     "name": "stdout",
     "output_type": "stream",
     "text": [
      "------------------------------------------------------------------------------------------------------------------------------------------------------------------------------------------------------------------------------------------------------------------------------------------------------------------------------------------------------------------------------------------------------------------------------------------------------------------------------------------------------------------------------------------------------------------------------------------\n",
      "|\"ORDER_ID\"  |\"TRUCK_ID\"  |\"LOCATION_ID\"  |\"DISCOUNT_ID\"  |\"SHIFT_ID\"  |\"SHIFT_START_TIME\"  |\"SHIFT_END_TIME\"  |\"ORDER_CHANNEL\"  |\"ORDER_TS\"           |\"SERVED_TS\"  |\"ORDER_CURRENCY\"  |\"ORDER_AMOUNT\"  |\"ORDER_TAX_AMOUNT\"  |\"ORDER_DISCOUNT_AMOUNT\"  |\"ORDER_TOTAL\"  |\"CUSTOMER_ID\"  |\"FIRST_NAME\"  |\"LAST_NAME\"  |\"CITY\"  |\"COUNTRY\"  |\"POSTAL_CODE\"  |\"PREFERRED_LANGUAGE\"  |\"GENDER\"  |\"FAVOURITE_BRAND\"  |\"MARITAL_STATUS\"  |\"CHILDREN_COUNT\"  |\"SIGN_UP_DATE\"  |\"BIRTHDAY_DATE\"  |\"E_MAIL\"                           |\"PHONE_NUMBER\"  |\"DTNO\"  |\"YEAR\"  |\"MONTH\"  |\"YEAR_MONTH\"  |\n",
      "------------------------------------------------------------------------------------------------------------------------------------------------------------------------------------------------------------------------------------------------------------------------------------------------------------------------------------------------------------------------------------------------------------------------------------------------------------------------------------------------------------------------------------------------------------------------------------------\n",
      "|373988676   |347         |8208.0         |NULL           |200384953   |16:00:00            |23:00:00          |NULL             |2020-01-03 16:09:09  |NULL         |USD               |27.0000         |NULL                |NULL                     |27.0000        |209659         |Markus        |Allen        |Berlin  |Germany    |NULL           |German                |Male      |NULL               |Single            |0                 |2019-04-16      |1955-08-23       |**~MASKED~**.**~MASKED~**@att.net  |111-111-1111    |15      |2020    |1        |20201         |\n",
      "|374046720   |357         |9480.0         |NULL           |200385045   |15:00:00            |22:00:00          |NULL             |2020-01-18 16:34:00  |NULL         |USD               |23.0000         |NULL                |NULL                     |23.0000        |209659         |Markus        |Allen        |Berlin  |Germany    |NULL           |German                |Male      |NULL               |Single            |0                 |2019-04-16      |1955-08-23       |**~MASKED~**.**~MASKED~**@att.net  |111-111-1111    |15      |2020    |1        |20201         |\n",
      "|374102971   |357         |8194.0         |NULL           |200385134   |08:00:00            |14:00:00          |NULL             |2020-02-02 10:35:30  |NULL         |USD               |43.0000         |NULL                |NULL                     |43.0000        |209659         |Markus        |Allen        |Berlin  |Germany    |NULL           |German                |Male      |NULL               |Single            |0                 |2019-04-16      |1955-08-23       |**~MASKED~**.**~MASKED~**@att.net  |111-111-1111    |11      |2020    |2        |20202         |\n",
      "|374143143   |347         |4773.0         |NULL           |200385199   |16:00:00            |23:00:00          |NULL             |2020-02-13 19:29:38  |NULL         |USD               |64.0000         |NULL                |NULL                     |64.0000        |209659         |Markus        |Allen        |Berlin  |Germany    |NULL           |German                |Male      |NULL               |Single            |0                 |2019-04-16      |1955-08-23       |**~MASKED~**.**~MASKED~**@att.net  |111-111-1111    |2       |2020    |2        |20202         |\n",
      "|374152660   |358         |12952.0        |NULL           |200385214   |09:00:00            |15:00:00          |NULL             |2020-02-15 11:14:19  |NULL         |USD               |38.0000         |NULL                |NULL                     |38.0000        |209659         |Markus        |Allen        |Berlin  |Germany    |NULL           |German                |Male      |NULL               |Single            |0                 |2019-04-16      |1955-08-23       |**~MASKED~**.**~MASKED~**@att.net  |111-111-1111    |31      |2020    |2        |20202         |\n",
      "|374267083   |357         |9475.0         |NULL           |200385398   |09:00:00            |15:00:00          |NULL             |2020-03-17 14:36:13  |NULL         |USD               |65.0000         |NULL                |NULL                     |65.0000        |209659         |Markus        |Allen        |Berlin  |Germany    |NULL           |German                |Male      |NULL               |Single            |0                 |2019-04-16      |1955-08-23       |**~MASKED~**.**~MASKED~**@att.net  |111-111-1111    |6       |2020    |3        |20203         |\n",
      "|374290366   |347         |14077.0        |NULL           |200385433   |15:00:00            |22:00:00          |NULL             |2020-03-23 21:28:57  |NULL         |USD               |15.0000         |NULL                |NULL                     |15.0000        |209659         |Markus        |Allen        |Berlin  |Germany    |NULL           |German                |Male      |NULL               |Single            |0                 |2019-04-16      |1955-08-23       |**~MASKED~**.**~MASKED~**@att.net  |111-111-1111    |8       |2020    |3        |20203         |\n",
      "|374319898   |347         |9490.0         |NULL           |200385480   |08:00:00            |14:00:00          |NULL             |2020-03-31 08:36:12  |NULL         |USD               |38.0000         |NULL                |NULL                     |38.0000        |209659         |Markus        |Allen        |Berlin  |Germany    |NULL           |German                |Male      |NULL               |Single            |0                 |2019-04-16      |1955-08-23       |**~MASKED~**.**~MASKED~**@att.net  |111-111-1111    |3       |2020    |3        |20203         |\n",
      "|374336987   |357         |4701.0         |NULL           |200385506   |08:00:00            |14:00:00          |NULL             |2020-04-03 09:01:55  |NULL         |USD               |60.0000         |NULL                |NULL                     |60.0000        |209659         |Markus        |Allen        |Berlin  |Germany    |NULL           |German                |Male      |NULL               |Single            |0                 |2019-04-16      |1955-08-23       |**~MASKED~**.**~MASKED~**@att.net  |111-111-1111    |19      |2020    |4        |20204         |\n",
      "|374438806   |358         |8146.0         |NULL           |200385660   |08:30:00            |14:30:00          |NULL             |2020-04-22 13:50:13  |NULL         |USD               |79.0000         |NULL                |NULL                     |79.0000        |209659         |Markus        |Allen        |Berlin  |Germany    |NULL           |German                |Male      |NULL               |Single            |0                 |2019-04-16      |1955-08-23       |**~MASKED~**.**~MASKED~**@att.net  |111-111-1111    |106     |2020    |4        |20204         |\n",
      "------------------------------------------------------------------------------------------------------------------------------------------------------------------------------------------------------------------------------------------------------------------------------------------------------------------------------------------------------------------------------------------------------------------------------------------------------------------------------------------------------------------------------------------------------------------------------------------\n",
      "\n"
     ]
    }
   ],
   "source": [
    "orders_df = orders_df.with_column(\"YEAR\", F.year(\"ORDER_TS\"))\n",
    "orders_df = orders_df.with_column(\"MONTH\", F.month(\"ORDER_TS\"))\n",
    "orders_df = orders_df.with_column(\"YEAR_MONTH\", F.concat(F.col(\"YEAR\"), F.col(\"MONTH\")))\n",
    "orders_df.show()"
   ]
  },
  {
   "cell_type": "code",
   "execution_count": 14,
   "metadata": {},
   "outputs": [
    {
     "name": "stdout",
     "output_type": "stream",
     "text": [
      "-----------------------------------------\n",
      "|\"YEAR\"  |\"MONTH\"  |\"AVG(ORDER_TOTAL)\"  |\n",
      "-----------------------------------------\n",
      "|2020    |6        |40.9888317457       |\n",
      "|2021    |12       |41.1608334972       |\n",
      "|2021    |11       |41.1920454646       |\n",
      "|2020    |12       |42.0045579794       |\n",
      "|2019    |4        |34.3819085775       |\n",
      "|2020    |10       |42.0219420957       |\n",
      "|2019    |10       |37.6106883008       |\n",
      "|2021    |5        |41.2573877948       |\n",
      "|2022    |1        |40.5502207321       |\n",
      "|2022    |3        |40.4598712571       |\n",
      "-----------------------------------------\n",
      "\n",
      "-----------------------------------------\n",
      "|\"YEAR\"  |\"MONTH\"  |\"SUM(ORDER_TOTAL)\"  |\n",
      "-----------------------------------------\n",
      "|2020    |12       |13399496.0000       |\n",
      "|2021    |11       |18665928.2500       |\n",
      "|2019    |4        |712290.0000         |\n",
      "|2020    |6        |9440465.7500        |\n",
      "|2020    |3        |7968823.0000        |\n",
      "|2022    |1        |19436288.5000       |\n",
      "|2022    |3        |20150917.5000       |\n",
      "|2019    |7        |1690853.5000        |\n",
      "|2019    |10       |2920658.0000        |\n",
      "|2021    |5        |15527795.5000       |\n",
      "-----------------------------------------\n",
      "\n"
     ]
    }
   ],
   "source": [
    "AVG_SALES_YM = orders_df.groupBy(F.col(\"YEAR\"),F.col(\"MONTH\")).agg(F.avg('\"ORDER_TOTAL\"'))\n",
    "SUM_SALES_YM = orders_df.groupBy(F.col(\"YEAR\"),F.col(\"MONTH\")).agg(F.sum('\"ORDER_TOTAL\"'))\n",
    "\n",
    "AVG_SALES_YM.show()\n",
    "SUM_SALES_YM.show()"
   ]
  },
  {
   "cell_type": "code",
   "execution_count": 15,
   "metadata": {},
   "outputs": [
    {
     "name": "stdout",
     "output_type": "stream",
     "text": [
      "--------------------------------------------------------------------------------------------------------------------------------------------------------------------------------------------------------------------------------------------------------------------------------------------------------------------------------------------------------------------------------------------------------------------------------------------------------------------------------------------------------------------------------------------------------------------------------------------------------\n",
      "|\"ORDER_ID\"  |\"TRUCK_ID\"  |\"LOCATION_ID\"  |\"DISCOUNT_ID\"  |\"SHIFT_ID\"  |\"SHIFT_START_TIME\"  |\"SHIFT_END_TIME\"  |\"ORDER_CHANNEL\"  |\"ORDER_TS\"           |\"SERVED_TS\"  |\"ORDER_CURRENCY\"  |\"ORDER_AMOUNT\"  |\"ORDER_TAX_AMOUNT\"  |\"ORDER_DISCOUNT_AMOUNT\"  |\"ORDER_TOTAL\"  |\"CUSTOMER_ID\"  |\"FIRST_NAME\"  |\"LAST_NAME\"  |\"CITY\"         |\"COUNTRY\"      |\"POSTAL_CODE\"  |\"PREFERRED_LANGUAGE\"  |\"GENDER\"     |\"FAVOURITE_BRAND\"  |\"MARITAL_STATUS\"  |\"CHILDREN_COUNT\"  |\"SIGN_UP_DATE\"  |\"BIRTHDAY_DATE\"  |\"E_MAIL\"                 |\"PHONE_NUMBER\"  |\"DTNO\"  |\"YEAR\"  |\"MONTH\"  |\"YEAR_MONTH\"  |\"CHURN\"  |\n",
      "--------------------------------------------------------------------------------------------------------------------------------------------------------------------------------------------------------------------------------------------------------------------------------------------------------------------------------------------------------------------------------------------------------------------------------------------------------------------------------------------------------------------------------------------------------------------------------------------------------\n",
      "|435960495   |67          |13630.0        |NULL           |200508471   |15:00:00            |22:00:00          |NULL             |2020-01-01 20:07:59  |NULL         |USD               |49.0000         |NULL                |NULL                     |49.0000        |189041         |Taniyah       |Terry        |New York City  |United States  |11373          |English               |Undisclosed  |NULL               |Single            |0                 |2020-05-27      |1945-11-29       |Taniyah.Terry@ymail.com  |324-573-5589    |46      |2020    |1        |20201         |1        |\n",
      "|436095460   |67          |15137.0        |NULL           |200508655   |15:00:00            |22:00:00          |NULL             |2020-02-16 15:48:24  |NULL         |USD               |51.0000         |NULL                |NULL                     |51.0000        |189041         |Taniyah       |Terry        |New York City  |United States  |11373          |English               |Undisclosed  |NULL               |Single            |0                 |2020-05-27      |1945-11-29       |Taniyah.Terry@ymail.com  |324-573-5589    |113     |2020    |2        |20202         |1        |\n",
      "|436428166   |73          |1422.0         |NULL           |200509108   |08:30:00            |14:30:00          |NULL             |2020-06-08 09:46:45  |NULL         |USD               |6.0000          |NULL                |NULL                     |6.0000         |189041         |Taniyah       |Terry        |New York City  |United States  |11373          |English               |Undisclosed  |NULL               |Single            |0                 |2020-05-27      |1945-11-29       |Taniyah.Terry@ymail.com  |324-573-5589    |68      |2020    |6        |20206         |1        |\n",
      "|436626788   |67          |2804.0         |NULL           |200509379   |15:00:00            |22:00:00          |NULL             |2020-08-15 21:35:44  |NULL         |USD               |71.0000         |NULL                |NULL                     |71.0000        |189041         |Taniyah       |Terry        |New York City  |United States  |11373          |English               |Undisclosed  |NULL               |Single            |0                 |2020-05-27      |1945-11-29       |Taniyah.Terry@ymail.com  |324-573-5589    |24      |2020    |8        |20208         |1        |\n",
      "|436697935   |73          |3467.0         |NULL           |200509476   |08:00:00            |14:00:00          |NULL             |2020-09-08 13:07:09  |NULL         |USD               |106.0000        |NULL                |NULL                     |106.0000       |189041         |Taniyah       |Terry        |New York City  |United States  |11373          |English               |Undisclosed  |NULL               |Single            |0                 |2020-05-27      |1945-11-29       |Taniyah.Terry@ymail.com  |324-573-5589    |4       |2020    |9        |20209         |0        |\n",
      "|436709098   |67          |3725.0         |NULL           |200509491   |15:30:00            |22:30:00          |NULL             |2020-09-12 22:03:27  |NULL         |USD               |16.0000         |NULL                |NULL                     |16.0000        |189041         |Taniyah       |Terry        |New York City  |United States  |11373          |English               |Undisclosed  |NULL               |Single            |0                 |2020-05-27      |1945-11-29       |Taniyah.Terry@ymail.com  |324-573-5589    |5       |2020    |9        |20209         |0        |\n",
      "|436723184   |67          |1927.0         |NULL           |200509511   |15:00:00            |22:00:00          |NULL             |2020-09-17 16:32:01  |NULL         |USD               |70.0000         |NULL                |NULL                     |70.0000        |189041         |Taniyah       |Terry        |New York City  |United States  |11373          |English               |Undisclosed  |NULL               |Single            |0                 |2020-05-27      |1945-11-29       |Taniyah.Terry@ymail.com  |324-573-5589    |6       |2020    |9        |20209         |0        |\n",
      "|436741721   |73          |12448.0        |NULL           |200509536   |09:00:00            |15:00:00          |NULL             |2020-09-23 11:43:01  |NULL         |USD               |41.0000         |NULL                |NULL                     |41.0000        |189041         |Taniyah       |Terry        |New York City  |United States  |11373          |English               |Undisclosed  |NULL               |Single            |0                 |2020-05-27      |1945-11-29       |Taniyah.Terry@ymail.com  |324-573-5589    |17      |2020    |9        |20209         |1        |\n",
      "|436815926   |67          |2181.0         |NULL           |200509638   |08:00:00            |14:00:00          |NULL             |2020-10-10 09:38:44  |NULL         |USD               |24.0000         |NULL                |NULL                     |24.0000        |189041         |Taniyah       |Terry        |New York City  |United States  |11373          |English               |Undisclosed  |NULL               |Single            |0                 |2020-05-27      |1945-11-29       |Taniyah.Terry@ymail.com  |324-573-5589    |30      |2020    |10       |202010        |1        |\n",
      "|436995078   |71          |5213.0         |NULL           |200509881   |15:00:00            |22:00:00          |NULL             |2020-11-09 21:41:13  |NULL         |USD               |28.0000         |NULL                |NULL                     |28.0000        |189041         |Taniyah       |Terry        |New York City  |United States  |11373          |English               |Undisclosed  |NULL               |Single            |0                 |2020-05-27      |1945-11-29       |Taniyah.Terry@ymail.com  |324-573-5589    |43      |2020    |11       |202011        |1        |\n",
      "--------------------------------------------------------------------------------------------------------------------------------------------------------------------------------------------------------------------------------------------------------------------------------------------------------------------------------------------------------------------------------------------------------------------------------------------------------------------------------------------------------------------------------------------------------------------------------------------------------\n",
      "\n"
     ]
    }
   ],
   "source": [
    "churn_YN = orders_df.with_column(\"CHURN\", F.iff(F.col(\"DTNO\") > 9, \"1\", \"0\"))\n",
    "\n",
    "churn_YN.show()"
   ]
  },
  {
   "cell_type": "code",
   "execution_count": 16,
   "metadata": {},
   "outputs": [
    {
     "name": "stdout",
     "output_type": "stream",
     "text": [
      "------------------------------------------------------------------------------------\n",
      "|\"DIVIDE(SUM(CHURN), COUNT(CUSTOMER_ID))\"  |\"YEAR\"  |\"MONTH\"  |\"SUM(ORDER_TOTAL)\"  |\n",
      "------------------------------------------------------------------------------------\n",
      "|0.6894424230846048                        |2020    |6        |9440465.7500        |\n",
      "|0.6038446256080017                        |2021    |4        |15017572.7500       |\n",
      "|0.4734301944701205                        |2022    |8        |22393100.7500       |\n",
      "|0.708448110985827                         |2020    |4        |8555776.5000        |\n",
      "|0.8197562776957164                        |2019    |8        |2024942.0000        |\n",
      "|0.6992038797823706                        |2020    |5        |9389166.7500        |\n",
      "|0.9666611101850309                        |2019    |2        |220793.5000         |\n",
      "|0.4721981408124749                        |2022    |7        |21768942.2500       |\n",
      "|0.5603437322051287                        |2021    |8        |17602685.0000       |\n",
      "|0.5353992548918403                        |2021    |10       |18601039.5000       |\n",
      "------------------------------------------------------------------------------------\n",
      "\n"
     ]
    }
   ],
   "source": [
    "churn_rate_YM = churn_YN.group_by(F.col(\"YEAR\"), F.col(\"MONTH\")).agg(F.sum(\"CHURN\")/F.count(\"CUSTOMER_ID\"))\n",
    "\n",
    "churn_to_sales = churn_rate_YM.join(SUM_SALES_YM, (churn_rate_YM[\"YEAR\"] == SUM_SALES_YM[\"YEAR\"]) & (churn_rate_YM[\"MONTH\"] == SUM_SALES_YM[\"MONTH\"]), how=\"inner\")\n",
    "\n",
    "churn_to_sales = remove_dup_join_col(churn_to_sales)\n",
    "churn_to_sales.show()"
   ]
  },
  {
   "cell_type": "code",
   "execution_count": 17,
   "metadata": {},
   "outputs": [
    {
     "name": "stdout",
     "output_type": "stream",
     "text": [
      "--------------------------------------------------------\n",
      "|\"YEAR\"  |\"MONTH\"  |\"CHURN_RATE\"        |\"SALES\"       |\n",
      "--------------------------------------------------------\n",
      "|2019    |1        |0.9816951850378034  |91308.5000    |\n",
      "|2019    |2        |0.9666611101850309  |220793.5000   |\n",
      "|2019    |3        |0.9417467398764585  |425460.0000   |\n",
      "|2019    |4        |0.9200656465704494  |712290.0000   |\n",
      "|2019    |5        |0.9008302747389801  |979719.5000   |\n",
      "|2019    |6        |0.8789374410562716  |1109682.0000  |\n",
      "|2019    |7        |0.8436551305403764  |1690853.5000  |\n",
      "|2019    |8        |0.8197562776957164  |2024942.0000  |\n",
      "|2019    |9        |0.7965229761471532  |2217703.0000  |\n",
      "|2019    |10       |0.7886291932264503  |2920658.0000  |\n",
      "--------------------------------------------------------\n",
      "\n"
     ]
    }
   ],
   "source": [
    "churn_to_sales_push = churn_to_sales.select(\"YEAR\", \"MONTH\", \"DIVIDE(SUM(CHURN), COUNT(CUSTOMER_ID))\", \"SUM(ORDER_TOTAL)\")\n",
    "\n",
    "churn_to_sales_push = churn_to_sales_push.withColumnRenamed(\"DIVIDE(SUM(CHURN), COUNT(CUSTOMER_ID))\",\"CHURN_RATE\")\n",
    "churn_to_sales_push = churn_to_sales_push.withColumnRenamed(\"SUM(ORDER_TOTAL)\", \"SALES\")\n",
    "\n",
    "churn_to_sales_push = churn_to_sales_push.orderBy(\"YEAR\", \"MONTH\")\n",
    "\n",
    "churn_to_sales_push.show()"
   ]
  },
  {
   "cell_type": "code",
   "execution_count": 18,
   "metadata": {},
   "outputs": [],
   "source": [
    "churn_to_sales_push.write.save_as_table(table_name=\"churn_to_sales\", mode='overwrite')"
   ]
  },
  {
   "attachments": {},
   "cell_type": "markdown",
   "metadata": {},
   "source": [
    "## Collecting latest customer purchase information"
   ]
  },
  {
   "cell_type": "code",
   "execution_count": 19,
   "metadata": {},
   "outputs": [],
   "source": [
    "orders_head = session.table(\"FROSTBYTE_TASTY_BYTES.RAW_POS.ORDER_HEADER\")\n",
    "orders_detail = session.table(\"FROSTBYTE_TASTY_BYTES.RAW_POS.ORDER_DETAIL\")"
   ]
  },
  {
   "cell_type": "code",
   "execution_count": 20,
   "metadata": {},
   "outputs": [
    {
     "name": "stdout",
     "output_type": "stream",
     "text": [
      "-----------------------------------------------------------------------------------------------------------------------------------------------------------------------------------------------------------------------------------------------------------------------------------------\n",
      "|\"ORDER_ID\"  |\"TRUCK_ID\"  |\"LOCATION_ID\"  |\"CUSTOMER_ID\"  |\"DISCOUNT_ID\"  |\"SHIFT_ID\"  |\"SHIFT_START_TIME\"  |\"SHIFT_END_TIME\"  |\"ORDER_CHANNEL\"  |\"ORDER_TS\"           |\"SERVED_TS\"  |\"ORDER_CURRENCY\"  |\"ORDER_AMOUNT\"  |\"ORDER_TAX_AMOUNT\"  |\"ORDER_DISCOUNT_AMOUNT\"  |\"ORDER_TOTAL\"  |\n",
      "-----------------------------------------------------------------------------------------------------------------------------------------------------------------------------------------------------------------------------------------------------------------------------------------\n",
      "|14271673    |90          |2666.0         |NULL           |NULL           |63645       |15:30:00            |22:30:00          |NULL             |2021-05-25 16:53:13  |NULL         |USD               |11.0000         |NULL                |NULL                     |11.0000        |\n",
      "|14271674    |90          |2666.0         |59685          |NULL           |63645       |15:30:00            |22:30:00          |NULL             |2021-05-25 16:53:26  |NULL         |USD               |11.0000         |NULL                |NULL                     |11.0000        |\n",
      "|14271675    |90          |2666.0         |NULL           |NULL           |63645       |15:30:00            |22:30:00          |NULL             |2021-05-25 16:53:26  |NULL         |USD               |11.0000         |NULL                |NULL                     |11.0000        |\n",
      "|14271676    |90          |2666.0         |NULL           |NULL           |63645       |15:30:00            |22:30:00          |NULL             |2021-05-25 16:53:29  |NULL         |USD               |57.0000         |NULL                |NULL                     |57.0000        |\n",
      "|14271677    |90          |2666.0         |NULL           |NULL           |63645       |15:30:00            |22:30:00          |NULL             |2021-05-25 16:53:49  |NULL         |USD               |24.0000         |NULL                |NULL                     |24.0000        |\n",
      "|14271678    |90          |2666.0         |NULL           |NULL           |63645       |15:30:00            |22:30:00          |NULL             |2021-05-25 16:54:11  |NULL         |USD               |33.0000         |NULL                |NULL                     |33.0000        |\n",
      "|14271679    |90          |2666.0         |NULL           |NULL           |63645       |15:30:00            |22:30:00          |NULL             |2021-05-25 16:54:25  |NULL         |USD               |71.0000         |NULL                |NULL                     |71.0000        |\n",
      "|14271680    |90          |2666.0         |NULL           |NULL           |63645       |15:30:00            |22:30:00          |NULL             |2021-05-25 16:54:57  |NULL         |USD               |33.0000         |NULL                |NULL                     |33.0000        |\n",
      "|14271681    |90          |2666.0         |NULL           |NULL           |63645       |15:30:00            |22:30:00          |NULL             |2021-05-25 16:55:00  |NULL         |USD               |39.0000         |NULL                |NULL                     |39.0000        |\n",
      "|14271682    |90          |2666.0         |NULL           |NULL           |63645       |15:30:00            |22:30:00          |NULL             |2021-05-25 16:55:03  |NULL         |USD               |69.0000         |NULL                |NULL                     |69.0000        |\n",
      "-----------------------------------------------------------------------------------------------------------------------------------------------------------------------------------------------------------------------------------------------------------------------------------------\n",
      "\n"
     ]
    }
   ],
   "source": [
    "orders_head.show()"
   ]
  },
  {
   "cell_type": "code",
   "execution_count": 21,
   "metadata": {},
   "outputs": [
    {
     "name": "stdout",
     "output_type": "stream",
     "text": [
      "--------------------------------------------------------------------------------------------------------------------------------------------------------\n",
      "|\"ORDER_DETAIL_ID\"  |\"ORDER_ID\"  |\"MENU_ITEM_ID\"  |\"DISCOUNT_ID\"  |\"LINE_NUMBER\"  |\"QUANTITY\"  |\"UNIT_PRICE\"  |\"PRICE\"  |\"ORDER_ITEM_DISCOUNT_AMOUNT\"  |\n",
      "--------------------------------------------------------------------------------------------------------------------------------------------------------\n",
      "|757380337          |405331986   |113             |NULL           |1              |2           |14.0000       |28.0000  |NULL                          |\n",
      "|757380338          |405331987   |112             |NULL           |0              |1           |12.0000       |12.0000  |NULL                          |\n",
      "|757380339          |405331987   |113             |NULL           |1              |3           |14.0000       |42.0000  |NULL                          |\n",
      "|757380340          |405331987   |111             |NULL           |2              |3           |12.0000       |36.0000  |NULL                          |\n",
      "|757380341          |405331988   |112             |NULL           |0              |2           |12.0000       |24.0000  |NULL                          |\n",
      "|757380342          |405331988   |114             |NULL           |1              |1           |2.0000        |2.0000   |NULL                          |\n",
      "|757380343          |405331988   |111             |NULL           |2              |1           |12.0000       |12.0000  |NULL                          |\n",
      "|757380344          |405331989   |112             |NULL           |0              |1           |12.0000       |12.0000  |NULL                          |\n",
      "|757380345          |405331989   |111             |NULL           |1              |1           |12.0000       |12.0000  |NULL                          |\n",
      "|757380346          |405331990   |112             |NULL           |0              |3           |12.0000       |36.0000  |NULL                          |\n",
      "--------------------------------------------------------------------------------------------------------------------------------------------------------\n",
      "\n"
     ]
    }
   ],
   "source": [
    "orders_detail.show()"
   ]
  },
  {
   "cell_type": "code",
   "execution_count": 22,
   "metadata": {},
   "outputs": [
    {
     "name": "stdout",
     "output_type": "stream",
     "text": [
      "-----------------------------------------------------------------------------------------------------------------------------------------------------------------------------------------------------------------------------------------------------------------------------------------\n",
      "|\"ORDER_ID\"  |\"TRUCK_ID\"  |\"LOCATION_ID\"  |\"CUSTOMER_ID\"  |\"DISCOUNT_ID\"  |\"SHIFT_ID\"  |\"SHIFT_START_TIME\"  |\"SHIFT_END_TIME\"  |\"ORDER_CHANNEL\"  |\"ORDER_TS\"           |\"SERVED_TS\"  |\"ORDER_CURRENCY\"  |\"ORDER_AMOUNT\"  |\"ORDER_TAX_AMOUNT\"  |\"ORDER_DISCOUNT_AMOUNT\"  |\"ORDER_TOTAL\"  |\n",
      "-----------------------------------------------------------------------------------------------------------------------------------------------------------------------------------------------------------------------------------------------------------------------------------------\n",
      "|48142719    |161         |8353.0         |96760          |NULL           |149789      |15:00:00            |22:00:00          |NULL             |2021-10-11 15:35:15  |NULL         |USD               |41.0000         |NULL                |NULL                     |41.0000        |\n",
      "|48142730    |161         |8353.0         |134606         |NULL           |149789      |15:00:00            |22:00:00          |NULL             |2021-10-11 15:46:52  |NULL         |USD               |48.0000         |NULL                |NULL                     |48.0000        |\n",
      "|48142856    |161         |8353.0         |167701         |NULL           |149789      |15:00:00            |22:00:00          |NULL             |2021-10-11 17:50:41  |NULL         |USD               |26.0000         |NULL                |NULL                     |26.0000        |\n",
      "|48142887    |161         |8353.0         |122973         |NULL           |149789      |15:00:00            |22:00:00          |NULL             |2021-10-11 18:12:10  |NULL         |USD               |93.0000         |NULL                |NULL                     |93.0000        |\n",
      "|48142889    |161         |8353.0         |196279         |NULL           |149789      |15:00:00            |22:00:00          |NULL             |2021-10-11 18:12:33  |NULL         |USD               |74.0000         |NULL                |NULL                     |74.0000        |\n",
      "|48142907    |161         |8353.0         |134284         |NULL           |149789      |15:00:00            |22:00:00          |NULL             |2021-10-11 18:22:30  |NULL         |USD               |12.0000         |NULL                |NULL                     |12.0000        |\n",
      "|48142947    |161         |8353.0         |191096         |NULL           |149789      |15:00:00            |22:00:00          |NULL             |2021-10-11 18:42:10  |NULL         |USD               |76.0000         |NULL                |NULL                     |76.0000        |\n",
      "|424632656   |450         |10047.0        |214002         |NULL           |200492436   |08:00:00            |14:00:00          |NULL             |2020-11-13 09:35:45  |NULL         |USD               |73.0000         |NULL                |NULL                     |73.0000        |\n",
      "|424632668   |450         |10047.0        |214207         |NULL           |200492436   |08:00:00            |14:00:00          |NULL             |2020-11-13 09:39:20  |NULL         |USD               |33.0000         |NULL                |NULL                     |33.0000        |\n",
      "|424632671   |450         |10047.0        |14596          |NULL           |200492436   |08:00:00            |14:00:00          |NULL             |2020-11-13 09:39:51  |NULL         |USD               |11.0000         |NULL                |NULL                     |11.0000        |\n",
      "-----------------------------------------------------------------------------------------------------------------------------------------------------------------------------------------------------------------------------------------------------------------------------------------\n",
      "\n"
     ]
    }
   ],
   "source": [
    "orders_head = orders_head.na.drop(subset=[\"CUSTOMER_ID\"])\n",
    "\n",
    "orders_head.show()"
   ]
  },
  {
   "cell_type": "code",
   "execution_count": 23,
   "metadata": {},
   "outputs": [],
   "source": [
    "# called `orders` with columns `customer_id` and `order_ts`\n",
    "window_spec = Window.partitionBy('customer_id').orderBy(F.col('order_ts').desc())\n",
    "\n",
    "orders_with_rank = orders_head.withColumn('rank', F.rank().over(window_spec))\n",
    "\n",
    "# Get max order of each customer\n",
    "max_order_ts = orders_with_rank.filter(F.col('rank') == 1).select('customer_id', 'order_ts')"
   ]
  },
  {
   "cell_type": "code",
   "execution_count": 24,
   "metadata": {},
   "outputs": [],
   "source": [
    "# Rename columns\n",
    "max_order_ts = max_order_ts.withColumnRenamed('ORDER_TS','Max_Order_TS')"
   ]
  },
  {
   "cell_type": "code",
   "execution_count": 25,
   "metadata": {},
   "outputs": [],
   "source": [
    "# Merge with second max order dataframe\n",
    "max_Order=orders_head.join(right=max_order_ts,on='CUSTOMER_ID',how='inner')\n",
    "\n",
    "#Filter for\n",
    "filtered_df = max_Order.filter(F.col('ORDER_TS') == F.col('Max_Order_TS'))"
   ]
  },
  {
   "cell_type": "code",
   "execution_count": 26,
   "metadata": {},
   "outputs": [
    {
     "name": "stdout",
     "output_type": "stream",
     "text": [
      "---------------------------------------------------------------------------------------------------------------------------------------------------------------------------------------------------------------------------------------------------------------------------------------------------------------\n",
      "|\"CUSTOMER_ID\"  |\"ORDER_ID\"  |\"TRUCK_ID\"  |\"LOCATION_ID\"  |\"DISCOUNT_ID\"  |\"SHIFT_ID\"  |\"SHIFT_START_TIME\"  |\"SHIFT_END_TIME\"  |\"ORDER_CHANNEL\"  |\"ORDER_TS\"           |\"SERVED_TS\"  |\"ORDER_CURRENCY\"  |\"ORDER_AMOUNT\"  |\"ORDER_TAX_AMOUNT\"  |\"ORDER_DISCOUNT_AMOUNT\"  |\"ORDER_TOTAL\"  |\"MAX_ORDER_TS\"       |\n",
      "---------------------------------------------------------------------------------------------------------------------------------------------------------------------------------------------------------------------------------------------------------------------------------------------------------------\n",
      "|193920         |129941626   |272         |7643.0         |NULL           |296484      |09:00:00            |15:00:00          |NULL             |2022-07-18 11:28:37  |NULL         |USD               |70.0000         |NULL                |NULL                     |70.0000        |2022-07-18 11:28:37  |\n",
      "|65020          |31933504    |113         |8462.0         |NULL           |112268      |08:30:00            |14:30:00          |NULL             |2022-08-26 13:19:11  |NULL         |USD               |53.0000         |NULL                |NULL                     |53.0000        |2022-08-26 13:19:11  |\n",
      "|109187         |31933641    |113         |1853.0         |NULL           |112269      |15:30:00            |22:30:00          |NULL             |2022-08-26 17:04:59  |NULL         |USD               |49.0000         |NULL                |NULL                     |49.0000        |2022-08-26 17:04:59  |\n",
      "|121570         |31941826    |107         |5368.0         |NULL           |112287      |16:00:00            |23:00:00          |NULL             |2022-08-27 16:31:13  |NULL         |USD               |15.0000         |NULL                |NULL                     |15.0000        |2022-08-27 16:31:13  |\n",
      "|28287          |459271526   |56          |2227.0         |NULL           |200581918   |08:00:00            |14:00:00          |NULL             |2022-09-17 09:05:22  |NULL         |USD               |52.0000         |NULL                |NULL                     |52.0000        |2022-09-17 09:05:22  |\n",
      "|41355          |459271579   |56          |2227.0         |NULL           |200581918   |08:00:00            |14:00:00          |NULL             |2022-09-17 11:01:00  |NULL         |USD               |26.0000         |NULL                |NULL                     |26.0000        |2022-09-17 11:01:00  |\n",
      "|118360         |459271648   |56          |2227.0         |NULL           |200581918   |08:00:00            |14:00:00          |NULL             |2022-09-17 12:43:32  |NULL         |USD               |40.0000         |NULL                |NULL                     |40.0000        |2022-09-17 12:43:32  |\n",
      "|210024         |384159022   |355         |8197.0         |NULL           |200400307   |15:00:00            |22:00:00          |NULL             |2022-09-01 19:38:10  |NULL         |USD               |10.0000         |NULL                |NULL                     |10.0000        |2022-09-01 19:38:10  |\n",
      "|98836          |459271810   |56          |15332.0        |NULL           |200581919   |15:00:00            |22:00:00          |NULL             |2022-09-17 19:06:56  |NULL         |USD               |124.0000        |NULL                |NULL                     |124.0000       |2022-09-17 19:06:56  |\n",
      "|215955         |384167398   |346         |10251.0        |NULL           |200400319   |15:00:00            |22:00:00          |NULL             |2022-09-02 20:27:36  |NULL         |USD               |49.5000         |NULL                |NULL                     |49.5000        |2022-09-02 20:27:36  |\n",
      "---------------------------------------------------------------------------------------------------------------------------------------------------------------------------------------------------------------------------------------------------------------------------------------------------------------\n",
      "\n"
     ]
    }
   ],
   "source": [
    "filtered_df.show()"
   ]
  },
  {
   "cell_type": "code",
   "execution_count": 27,
   "metadata": {},
   "outputs": [
    {
     "name": "stdout",
     "output_type": "stream",
     "text": [
      "------------------------------------------------------------------------------------------------------------------------------------------------------------------------------------------------------------------------------------------------------------------------------------------------------------------------------------------------------------------------------------------------------------------------------------------------------------------------------------------------------------------------------------------------------------------------------\n",
      "|\"CUSTOMER_ID\"  |\"ORDER_ID\"  |\"TRUCK_ID\"  |\"LOCATION_ID\"  |\"DISCOUNT_ID\"  |\"SHIFT_ID\"  |\"SHIFT_START_TIME\"  |\"SHIFT_END_TIME\"  |\"ORDER_CHANNEL\"  |\"ORDER_TS\"           |\"SERVED_TS\"  |\"ORDER_CURRENCY\"  |\"ORDER_AMOUNT\"  |\"ORDER_TAX_AMOUNT\"  |\"ORDER_DISCOUNT_AMOUNT\"  |\"ORDER_TOTAL\"  |\"MAX_ORDER_TS\"       |\"FIRST_NAME\"  |\"LAST_NAME\"  |\"CITY\"     |\"COUNTRY\"      |\"POSTAL_CODE\"  |\"PREFERRED_LANGUAGE\"  |\"GENDER\"  |\"FAVOURITE_BRAND\"  |\"MARITAL_STATUS\"  |\"CHILDREN_COUNT\"  |\"SIGN_UP_DATE\"  |\"BIRTHDAY_DATE\"  |\"E_MAIL\"                             |\"PHONE_NUMBER\"  |\n",
      "------------------------------------------------------------------------------------------------------------------------------------------------------------------------------------------------------------------------------------------------------------------------------------------------------------------------------------------------------------------------------------------------------------------------------------------------------------------------------------------------------------------------------------------------------------------------------\n",
      "|190564         |92872881    |239         |6010.0         |NULL           |245872      |08:00:00            |14:00:00          |NULL             |2022-10-31 12:30:36  |NULL         |USD               |59.0000         |NULL                |NULL                     |59.0000        |2022-10-31 12:30:36  |Arturo        |Hays         |Delhi      |India          |110044         |Hindi                 |Male      |NULL               |Single            |0                 |2022-06-09      |1967-09-02       |Arturo.Hays@aol.com                  |244-678-8903    |\n",
      "|98631          |131322514   |280         |7718.0         |NULL           |298421      |15:30:00            |22:30:00          |NULL             |2022-09-20 18:59:57  |NULL         |USD               |50.0000         |NULL                |NULL                     |50.0000        |2022-09-20 18:59:57  |Micah         |Reilly       |Sydney     |Australia      |2055           |English               |Male      |NULL               |Married           |2                 |2021-12-18      |1948-05-20       |Micah.Reilly@ymail.com               |512-115-5988    |\n",
      "|11001          |32653086    |107         |2906.0         |NULL           |113817      |15:00:00            |22:00:00          |NULL             |2022-10-17 16:02:49  |NULL         |USD               |87.0000         |NULL                |NULL                     |87.0000        |2022-10-17 16:02:49  |Lindsey       |Brewer       |Montreal   |Canada         |H2J 3E3        |English               |Female    |NULL               |Single            |0                 |2021-05-09      |1988-03-23       |Lindsey.Brewer@hotmail.com           |557-691-0448    |\n",
      "|200163         |356640143   |308         |6958.0         |NULL           |200353718   |08:00:00            |14:00:00          |NULL             |2022-10-23 10:20:03  |NULL         |USD               |80.0000         |NULL                |NULL                     |80.0000        |2022-10-23 10:20:03  |Darryl        |Beard        |Sao Paulo  |Brazil         |NULL           |Portuguese            |Female    |NULL               |Married           |1                 |2019-05-21      |1975-02-25       |**~MASKED~**.**~MASKED~**@gmail.com  |111-111-1111    |\n",
      "|12241          |392603407   |366         |10766.0        |NULL           |200417626   |08:00:00            |14:00:00          |NULL             |2022-10-30 10:58:24  |NULL         |USD               |16.0000         |NULL                |NULL                     |16.0000        |2022-10-30 10:58:24  |Dustin        |Horne        |Hamburg    |Germany        |21129          |German                |Male      |NULL               |Married           |1                 |2022-03-06      |1951-01-18       |Dustin.Horne@ymail.com               |746-752-7507    |\n",
      "|174428         |104194169   |254         |11610.0        |NULL           |261106      |08:30:00            |14:30:00          |NULL             |2022-10-08 12:42:51  |NULL         |USD               |130.0000        |NULL                |NULL                     |130.0000       |2022-10-08 12:42:51  |Shaun         |Ali          |Tokyo      |Japan          |176-0000       |Japanese              |Male      |NULL               |Married           |0                 |2019-05-27      |1980-05-13       |Shaun.Ali@hotmail.com                |451-931-7809    |\n",
      "|20265          |22005099    |81          |1986.0         |NULL           |76368       |08:00:00            |14:00:00          |NULL             |2022-10-28 12:47:17  |NULL         |USD               |18.0000         |NULL                |NULL                     |18.0000        |2022-10-28 12:47:17  |Enrique       |Kelly        |Toronto    |Canada         |M4C 1V6        |English               |Male      |NULL               |Single            |0                 |2021-03-31      |1989-06-17       |Enrique.Kelly@gmail.com              |203-831-0609    |\n",
      "|76311          |452697397   |18          |1035.0         |NULL           |200546701   |15:00:00            |22:00:00          |NULL             |2022-10-26 19:54:22  |NULL         |USD               |34.0000         |NULL                |NULL                     |34.0000        |2022-10-26 19:54:22  |Octavio       |Sharp        |Denver     |United States  |80257          |English               |Male      |NULL               |Single            |0                 |2020-09-22      |1976-05-13       |Octavio.Sharp@hotmail.com            |235-395-8399    |\n",
      "|141486         |343529441   |6           |4044.0         |NULL           |200335838   |08:00:00            |14:00:00          |NULL             |2022-10-25 08:20:07  |NULL         |USD               |20.0000         |NULL                |NULL                     |20.0000        |2022-10-25 08:20:07  |Erica         |Tran         |San Mateo  |United States  |94404          |English               |Female    |NULL               |Married           |4                 |2019-01-05      |1968-07-23       |Erica.Tran@aol.com                   |200-891-8379    |\n",
      "|92741          |25924689    |91          |3526.0         |NULL           |98556       |08:00:00            |14:00:00          |NULL             |2022-10-27 11:57:48  |NULL         |USD               |7.0000          |NULL                |NULL                     |7.0000         |2022-10-27 11:57:48  |Maxim         |Mcguire      |Vancouver  |Canada         |V5K 2E6        |English               |Female    |NULL               |Single            |2                 |2020-04-11      |1955-08-20       |Maxim.Mcguire@ymail.com              |926-484-2914    |\n",
      "------------------------------------------------------------------------------------------------------------------------------------------------------------------------------------------------------------------------------------------------------------------------------------------------------------------------------------------------------------------------------------------------------------------------------------------------------------------------------------------------------------------------------------------------------------------------------\n",
      "\n"
     ]
    }
   ],
   "source": [
    "filter_customer = filtered_df.join(CUSTOMERS, on='CUSTOMER_ID', how='left')\n",
    "\n",
    "filter_customer.show()"
   ]
  },
  {
   "cell_type": "code",
   "execution_count": 28,
   "metadata": {},
   "outputs": [
    {
     "name": "stdout",
     "output_type": "stream",
     "text": [
      "----------------------------------------------------------------------------------------------------------------------------------------------------------------------------------------------------------------------------------------------------------------------------------------------------------------------------------------------------------------------------------------------------------------------------------------------------------------------------------------------------------------------------------------------------------------------------\n",
      "|\"CUSTOMER_ID\"  |\"ORDER_ID\"  |\"TRUCK_ID\"  |\"LOCATION_ID\"  |\"DISCOUNT_ID\"  |\"SHIFT_ID\"  |\"SHIFT_START_TIME\"  |\"SHIFT_END_TIME\"  |\"ORDER_CHANNEL\"  |\"ORDER_TS\"           |\"SERVED_TS\"  |\"ORDER_CURRENCY\"  |\"ORDER_AMOUNT\"  |\"ORDER_TAX_AMOUNT\"  |\"ORDER_DISCOUNT_AMOUNT\"  |\"ORDER_TOTAL\"  |\"MAX_ORDER_TS\"       |\"FIRST_NAME\"  |\"LAST_NAME\"  |\"CITY\"         |\"COUNTRY\"      |\"POSTAL_CODE\"  |\"PREFERRED_LANGUAGE\"  |\"GENDER\"     |\"FAVOURITE_BRAND\"  |\"MARITAL_STATUS\"  |\"CHILDREN_COUNT\"  |\"SIGN_UP_DATE\"  |\"BIRTHDAY_DATE\"  |\"E_MAIL\"                    |\"PHONE_NUMBER\"  |\n",
      "----------------------------------------------------------------------------------------------------------------------------------------------------------------------------------------------------------------------------------------------------------------------------------------------------------------------------------------------------------------------------------------------------------------------------------------------------------------------------------------------------------------------------------------------------------------------------\n",
      "|85316          |448547505   |71          |15124.0        |NULL           |200525514   |08:30:00            |14:30:00          |NULL             |2022-10-27 09:13:04  |NULL         |USD               |60.0000         |NULL                |NULL                     |60.0000        |2022-10-27 09:13:04  |Jesse         |Ruiz         |New York City  |United States  |11373          |English               |Female       |NULL               |Married           |2                 |2021-11-26      |1962-09-23       |Jesse.Ruiz@aol.com          |515-988-2908    |\n",
      "|171046         |456268261   |35          |2420.0         |NULL           |200565105   |15:00:00            |22:00:00          |NULL             |2022-10-24 18:32:35  |NULL         |USD               |17.2500         |NULL                |NULL                     |17.2500        |2022-10-24 18:32:35  |Harper        |Long         |Seattle        |United States  |98185          |English               |Female       |NULL               |Single            |0                 |2020-08-15      |1975-01-08       |Harper.Long@hotmail.com     |621-557-8206    |\n",
      "|122745         |448489141   |61          |15144.0        |NULL           |200525434   |08:00:00            |14:00:00          |NULL             |2022-10-25 11:58:57  |NULL         |USD               |33.0000         |NULL                |NULL                     |33.0000        |2022-10-25 11:58:57  |Makayla       |Beasley      |New York City  |United States  |11368          |English               |Female       |NULL               |Married           |2                 |2021-01-26      |1961-01-08       |Makayla.Beasley@aol.com     |884-562-9363    |\n",
      "|63114          |459501369   |57          |15359.0        |NULL           |200583150   |08:30:00            |14:30:00          |NULL             |2022-10-28 09:43:14  |NULL         |USD               |47.0000         |NULL                |NULL                     |47.0000        |2022-10-28 09:43:14  |Tristian      |Harper       |Boston         |United States  |2136           |English               |Undisclosed  |NULL               |Married           |2                 |2020-10-14      |1989-06-27       |Tristian.Harper@gmail.com   |928-400-4689    |\n",
      "|53148          |459509413   |59          |15430.0        |NULL           |200583185   |16:00:00            |23:00:00          |NULL             |2022-10-29 22:41:29  |NULL         |USD               |101.0000        |NULL                |NULL                     |101.0000       |2022-10-29 22:41:29  |Lane          |Dodson       |Boston         |United States  |2134           |English               |Male         |NULL               |Married           |2                 |2020-10-21      |1980-12-29       |Lane.Dodson@hotmail.com     |256-030-3485    |\n",
      "|118449         |448607658   |66          |3274.0         |NULL           |200525594   |08:30:00            |14:30:00          |NULL             |2022-10-30 12:09:47  |NULL         |USD               |37.0000         |NULL                |NULL                     |37.0000        |2022-10-30 12:09:47  |Kennedi       |Palmer       |New York City  |United States  |11368          |English               |Female       |NULL               |Single            |0                 |2021-09-12      |1993-03-26       |Kennedi.Palmer@gmail.com    |888-902-0469    |\n",
      "|96094          |448194022   |71          |2821.0         |NULL           |200525035   |15:00:00            |22:00:00          |NULL             |2022-10-11 19:48:06  |NULL         |USD               |12.0000         |NULL                |NULL                     |12.0000        |2022-10-11 19:48:06  |Madelyn       |Valdez       |New York City  |United States  |11236          |English               |Female       |NULL               |Single            |0                 |2021-06-21      |1948-04-08       |Madelyn.Valdez@ymail.com    |457-796-3645    |\n",
      "|41572          |459468652   |54          |3731.0         |NULL           |200582965   |15:00:00            |22:00:00          |NULL             |2022-10-22 21:31:54  |NULL         |USD               |92.0000         |NULL                |NULL                     |92.0000        |2022-10-22 21:31:54  |Raymond       |Mcdaniel     |Boston         |United States  |2136           |English               |Male         |NULL               |Single            |0                 |2020-01-01      |1953-04-05       |Raymond.Mcdaniel@ymail.com  |580-210-7223    |\n",
      "|194470         |343533931   |4           |2655.0         |NULL           |200335985   |16:00:00            |23:00:00          |NULL             |2022-10-30 19:58:10  |NULL         |USD               |50.0000         |NULL                |NULL                     |50.0000        |2022-10-30 19:58:10  |Brady         |Cook         |San Mateo      |United States  |94402          |English               |Undisclosed  |NULL               |Single            |0                 |2019-05-01      |1953-06-09       |Brady.Cook@ymail.com        |207-799-9395    |\n",
      "|16146          |343497103   |12          |1723.0         |NULL           |200334710   |09:00:00            |15:00:00          |NULL             |2022-09-17 09:09:49  |NULL         |USD               |32.0000         |NULL                |NULL                     |32.0000        |2022-09-17 09:09:49  |Kane          |Webb         |San Mateo      |United States  |94403          |English               |Undisclosed  |NULL               |Single            |0                 |2022-03-03      |1964-10-17       |Kane.Webb@aol.com           |249-140-4232    |\n",
      "----------------------------------------------------------------------------------------------------------------------------------------------------------------------------------------------------------------------------------------------------------------------------------------------------------------------------------------------------------------------------------------------------------------------------------------------------------------------------------------------------------------------------------------------------------------------------\n",
      "\n"
     ]
    }
   ],
   "source": [
    "filter_customer_USA = filter_customer.where(filter_customer.COUNTRY == 'United States')\n",
    "\n",
    "filter_customer_USA.show()"
   ]
  },
  {
   "cell_type": "code",
   "execution_count": 31,
   "metadata": {},
   "outputs": [
    {
     "name": "stdout",
     "output_type": "stream",
     "text": [
      "---------------------------------------------------------------------------------------------------------------------------------------------------------------------------------------------------------------------------------------------------------------------------------------------------------------------------------------------------------------------------------------------------------------------------------------------------------------------------------------------------------------------------------------------------------------------------------------------------------------------------------------------------------------------------------------------------------------------------------\n",
      "|\"ORDER_ID\"  |\"CUSTOMER_ID\"  |\"TRUCK_ID\"  |\"LOCATION_ID\"  |\"l_2jge_DISCOUNT_ID\"  |\"SHIFT_ID\"  |\"SHIFT_START_TIME\"  |\"SHIFT_END_TIME\"  |\"ORDER_CHANNEL\"  |\"ORDER_TS\"           |\"SERVED_TS\"  |\"ORDER_CURRENCY\"  |\"ORDER_AMOUNT\"  |\"ORDER_TAX_AMOUNT\"  |\"ORDER_DISCOUNT_AMOUNT\"  |\"ORDER_TOTAL\"  |\"MAX_ORDER_TS\"       |\"FIRST_NAME\"  |\"LAST_NAME\"  |\"CITY\"         |\"COUNTRY\"      |\"POSTAL_CODE\"  |\"PREFERRED_LANGUAGE\"  |\"GENDER\"  |\"FAVOURITE_BRAND\"  |\"MARITAL_STATUS\"    |\"CHILDREN_COUNT\"  |\"SIGN_UP_DATE\"  |\"BIRTHDAY_DATE\"  |\"E_MAIL\"                  |\"PHONE_NUMBER\"  |\"ORDER_DETAIL_ID\"  |\"MENU_ITEM_ID\"  |\"r_y8mt_DISCOUNT_ID\"  |\"LINE_NUMBER\"  |\"QUANTITY\"  |\"UNIT_PRICE\"  |\"PRICE\"  |\"ORDER_ITEM_DISCOUNT_AMOUNT\"  |\n",
      "---------------------------------------------------------------------------------------------------------------------------------------------------------------------------------------------------------------------------------------------------------------------------------------------------------------------------------------------------------------------------------------------------------------------------------------------------------------------------------------------------------------------------------------------------------------------------------------------------------------------------------------------------------------------------------------------------------------------------------\n",
      "|448632556   |46069          |68          |9642.0         |NULL                  |200525628   |08:00:00            |14:00:00          |NULL             |2022-10-31 11:54:41  |NULL         |USD               |42.0000         |NULL                |NULL                     |42.0000        |2022-10-31 11:54:41  |Dominik       |Eaton        |New York City  |United States  |11208          |English               |Male      |NULL               |Divorced/Seperated  |4                 |2019-04-09      |1956-05-06       |Dominik.Eaton@aol.com     |457-267-6341    |874830851          |85              |NULL                  |2              |1           |3.0000        |3.0000   |NULL                          |\n",
      "|448632556   |46069          |68          |9642.0         |NULL                  |200525628   |08:00:00            |14:00:00          |NULL             |2022-10-31 11:54:41  |NULL         |USD               |42.0000         |NULL                |NULL                     |42.0000        |2022-10-31 11:54:41  |Dominik       |Eaton        |New York City  |United States  |11208          |English               |Male      |NULL               |Divorced/Seperated  |4                 |2019-04-09      |1956-05-06       |Dominik.Eaton@aol.com     |457-267-6341    |874830850          |83              |NULL                  |1              |3           |9.0000        |27.0000  |NULL                          |\n",
      "|448632556   |46069          |68          |9642.0         |NULL                  |200525628   |08:00:00            |14:00:00          |NULL             |2022-10-31 11:54:41  |NULL         |USD               |42.0000         |NULL                |NULL                     |42.0000        |2022-10-31 11:54:41  |Dominik       |Eaton        |New York City  |United States  |11208          |English               |Male      |NULL               |Divorced/Seperated  |4                 |2019-04-09      |1956-05-06       |Dominik.Eaton@aol.com     |457-267-6341    |874830849          |81              |NULL                  |0              |1           |12.0000       |12.0000  |NULL                          |\n",
      "|448632586   |148430         |68          |9642.0         |NULL                  |200525628   |08:00:00            |14:00:00          |NULL             |2022-10-31 12:14:06  |NULL         |USD               |24.0000         |NULL                |NULL                     |24.0000        |2022-10-31 12:14:06  |Aden          |Walters      |New York City  |United States  |11208          |English               |Female    |NULL               |Single              |0                 |2020-11-21      |1987-07-03       |Aden.Walters@hotmail.com  |322-721-2421    |874830926          |82              |NULL                  |0              |1           |15.0000       |15.0000  |NULL                          |\n",
      "|448632586   |148430         |68          |9642.0         |NULL                  |200525628   |08:00:00            |14:00:00          |NULL             |2022-10-31 12:14:06  |NULL         |USD               |24.0000         |NULL                |NULL                     |24.0000        |2022-10-31 12:14:06  |Aden          |Walters      |New York City  |United States  |11208          |English               |Female    |NULL               |Single              |0                 |2020-11-21      |1987-07-03       |Aden.Walters@hotmail.com  |322-721-2421    |874830927          |83              |NULL                  |1              |1           |9.0000        |9.0000   |NULL                          |\n",
      "|343409073   |169187         |14          |1801.0         |NULL                  |200331684   |08:30:00            |14:30:00          |NULL             |2022-06-08 09:28:28  |NULL         |USD               |33.0000         |NULL                |NULL                     |33.0000        |2022-06-08 09:28:28  |Kaeden        |Andrews      |San Mateo      |United States  |94404          |English               |Female    |NULL               |Married             |2                 |2022-04-11      |1942-09-22       |Kaeden.Andrews@ymail.com  |498-168-7915    |588287076          |142             |NULL                  |0              |1           |18.0000       |18.0000  |NULL                          |\n",
      "|343409073   |169187         |14          |1801.0         |NULL                  |200331684   |08:30:00            |14:30:00          |NULL             |2022-06-08 09:28:28  |NULL         |USD               |33.0000         |NULL                |NULL                     |33.0000        |2022-06-08 09:28:28  |Kaeden        |Andrews      |San Mateo      |United States  |94404          |English               |Female    |NULL               |Married             |2                 |2022-04-11      |1942-09-22       |Kaeden.Andrews@ymail.com  |498-168-7915    |588287077          |143             |NULL                  |1              |1           |15.0000       |15.0000  |NULL                          |\n",
      "|343420996   |7148           |5           |3092.0         |NULL                  |200332086   |08:00:00            |14:00:00          |NULL             |2022-06-22 09:37:40  |NULL         |USD               |53.7500         |NULL                |NULL                     |53.7500        |2022-06-22 09:37:40  |Laci          |Patterson    |San Mateo      |United States  |94402          |English               |Male      |NULL               |Single              |0                 |2020-05-30      |1959-11-24       |Laci.Patterson@aol.com    |485-877-0524    |588319272          |51              |NULL                  |0              |1           |17.2500       |17.2500  |NULL                          |\n",
      "|343420996   |7148           |5           |3092.0         |NULL                  |200332086   |08:00:00            |14:00:00          |NULL             |2022-06-22 09:37:40  |NULL         |USD               |53.7500         |NULL                |NULL                     |53.7500        |2022-06-22 09:37:40  |Laci          |Patterson    |San Mateo      |United States  |94402          |English               |Male      |NULL               |Single              |0                 |2020-05-30      |1959-11-24       |Laci.Patterson@aol.com    |485-877-0524    |588319273          |52              |NULL                  |1              |1           |17.2500       |17.2500  |NULL                          |\n",
      "|343420996   |7148           |5           |3092.0         |NULL                  |200332086   |08:00:00            |14:00:00          |NULL             |2022-06-22 09:37:40  |NULL         |USD               |53.7500         |NULL                |NULL                     |53.7500        |2022-06-22 09:37:40  |Laci          |Patterson    |San Mateo      |United States  |94402          |English               |Male      |NULL               |Single              |0                 |2020-05-30      |1959-11-24       |Laci.Patterson@aol.com    |485-877-0524    |588319274          |53              |NULL                  |2              |1           |17.2500       |17.2500  |NULL                          |\n",
      "---------------------------------------------------------------------------------------------------------------------------------------------------------------------------------------------------------------------------------------------------------------------------------------------------------------------------------------------------------------------------------------------------------------------------------------------------------------------------------------------------------------------------------------------------------------------------------------------------------------------------------------------------------------------------------------------------------------------------------\n",
      "\n"
     ]
    }
   ],
   "source": [
    "order_with_detail = filter_customer_USA.join(right=orders_detail,on='ORDER_ID',how='inner')\n",
    "\n",
    "order_with_detail.show()"
   ]
  },
  {
   "cell_type": "code",
   "execution_count": 32,
   "metadata": {},
   "outputs": [
    {
     "name": "stdout",
     "output_type": "stream",
     "text": [
      "---------------------------------------------------------------------------------------------------------------------------------------------------------------------------------------------------------------------------------------------------------------------------------------------------------------------------------------------------------------------------------------------------------------------------------------------------------------------------------------------------------------------------------------------------------------------------------------------------------------------------------------------------------------------------------------------------\n",
      "|\"ORDER_ID\"  |\"CUSTOMER_ID\"  |\"TRUCK_ID\"  |\"LOCATION_ID\"  |\"SHIFT_ID\"  |\"SHIFT_START_TIME\"  |\"SHIFT_END_TIME\"  |\"ORDER_CHANNEL\"  |\"ORDER_TS\"           |\"SERVED_TS\"  |\"ORDER_CURRENCY\"  |\"ORDER_AMOUNT\"  |\"ORDER_TAX_AMOUNT\"  |\"ORDER_DISCOUNT_AMOUNT\"  |\"ORDER_TOTAL\"  |\"MAX_ORDER_TS\"       |\"FIRST_NAME\"  |\"LAST_NAME\"  |\"CITY\"         |\"COUNTRY\"      |\"POSTAL_CODE\"  |\"PREFERRED_LANGUAGE\"  |\"GENDER\"  |\"FAVOURITE_BRAND\"  |\"MARITAL_STATUS\"    |\"CHILDREN_COUNT\"  |\"SIGN_UP_DATE\"  |\"BIRTHDAY_DATE\"  |\"E_MAIL\"                  |\"PHONE_NUMBER\"  |\"ORDER_DETAIL_ID\"  |\"MENU_ITEM_ID\"  |\"DISCOUNT_ID\"  |\"LINE_NUMBER\"  |\"QUANTITY\"  |\"UNIT_PRICE\"  |\"PRICE\"  |\"ORDER_ITEM_DISCOUNT_AMOUNT\"  |\n",
      "---------------------------------------------------------------------------------------------------------------------------------------------------------------------------------------------------------------------------------------------------------------------------------------------------------------------------------------------------------------------------------------------------------------------------------------------------------------------------------------------------------------------------------------------------------------------------------------------------------------------------------------------------------------------------------------------------\n",
      "|448632556   |46069          |68          |9642.0         |200525628   |08:00:00            |14:00:00          |NULL             |2022-10-31 11:54:41  |NULL         |USD               |42.0000         |NULL                |NULL                     |42.0000        |2022-10-31 11:54:41  |Dominik       |Eaton        |New York City  |United States  |11208          |English               |Male      |NULL               |Divorced/Seperated  |4                 |2019-04-09      |1956-05-06       |Dominik.Eaton@aol.com     |457-267-6341    |874830851          |85              |NULL           |2              |1           |3.0000        |3.0000   |NULL                          |\n",
      "|448632556   |46069          |68          |9642.0         |200525628   |08:00:00            |14:00:00          |NULL             |2022-10-31 11:54:41  |NULL         |USD               |42.0000         |NULL                |NULL                     |42.0000        |2022-10-31 11:54:41  |Dominik       |Eaton        |New York City  |United States  |11208          |English               |Male      |NULL               |Divorced/Seperated  |4                 |2019-04-09      |1956-05-06       |Dominik.Eaton@aol.com     |457-267-6341    |874830850          |83              |NULL           |1              |3           |9.0000        |27.0000  |NULL                          |\n",
      "|448632556   |46069          |68          |9642.0         |200525628   |08:00:00            |14:00:00          |NULL             |2022-10-31 11:54:41  |NULL         |USD               |42.0000         |NULL                |NULL                     |42.0000        |2022-10-31 11:54:41  |Dominik       |Eaton        |New York City  |United States  |11208          |English               |Male      |NULL               |Divorced/Seperated  |4                 |2019-04-09      |1956-05-06       |Dominik.Eaton@aol.com     |457-267-6341    |874830849          |81              |NULL           |0              |1           |12.0000       |12.0000  |NULL                          |\n",
      "|448632586   |148430         |68          |9642.0         |200525628   |08:00:00            |14:00:00          |NULL             |2022-10-31 12:14:06  |NULL         |USD               |24.0000         |NULL                |NULL                     |24.0000        |2022-10-31 12:14:06  |Aden          |Walters      |New York City  |United States  |11208          |English               |Female    |NULL               |Single              |0                 |2020-11-21      |1987-07-03       |Aden.Walters@hotmail.com  |322-721-2421    |874830926          |82              |NULL           |0              |1           |15.0000       |15.0000  |NULL                          |\n",
      "|448632586   |148430         |68          |9642.0         |200525628   |08:00:00            |14:00:00          |NULL             |2022-10-31 12:14:06  |NULL         |USD               |24.0000         |NULL                |NULL                     |24.0000        |2022-10-31 12:14:06  |Aden          |Walters      |New York City  |United States  |11208          |English               |Female    |NULL               |Single              |0                 |2020-11-21      |1987-07-03       |Aden.Walters@hotmail.com  |322-721-2421    |874830927          |83              |NULL           |1              |1           |9.0000        |9.0000   |NULL                          |\n",
      "|343409073   |169187         |14          |1801.0         |200331684   |08:30:00            |14:30:00          |NULL             |2022-06-08 09:28:28  |NULL         |USD               |33.0000         |NULL                |NULL                     |33.0000        |2022-06-08 09:28:28  |Kaeden        |Andrews      |San Mateo      |United States  |94404          |English               |Female    |NULL               |Married             |2                 |2022-04-11      |1942-09-22       |Kaeden.Andrews@ymail.com  |498-168-7915    |588287076          |142             |NULL           |0              |1           |18.0000       |18.0000  |NULL                          |\n",
      "|343409073   |169187         |14          |1801.0         |200331684   |08:30:00            |14:30:00          |NULL             |2022-06-08 09:28:28  |NULL         |USD               |33.0000         |NULL                |NULL                     |33.0000        |2022-06-08 09:28:28  |Kaeden        |Andrews      |San Mateo      |United States  |94404          |English               |Female    |NULL               |Married             |2                 |2022-04-11      |1942-09-22       |Kaeden.Andrews@ymail.com  |498-168-7915    |588287077          |143             |NULL           |1              |1           |15.0000       |15.0000  |NULL                          |\n",
      "|343420996   |7148           |5           |3092.0         |200332086   |08:00:00            |14:00:00          |NULL             |2022-06-22 09:37:40  |NULL         |USD               |53.7500         |NULL                |NULL                     |53.7500        |2022-06-22 09:37:40  |Laci          |Patterson    |San Mateo      |United States  |94402          |English               |Male      |NULL               |Single              |0                 |2020-05-30      |1959-11-24       |Laci.Patterson@aol.com    |485-877-0524    |588319272          |51              |NULL           |0              |1           |17.2500       |17.2500  |NULL                          |\n",
      "|343420996   |7148           |5           |3092.0         |200332086   |08:00:00            |14:00:00          |NULL             |2022-06-22 09:37:40  |NULL         |USD               |53.7500         |NULL                |NULL                     |53.7500        |2022-06-22 09:37:40  |Laci          |Patterson    |San Mateo      |United States  |94402          |English               |Male      |NULL               |Single              |0                 |2020-05-30      |1959-11-24       |Laci.Patterson@aol.com    |485-877-0524    |588319273          |52              |NULL           |1              |1           |17.2500       |17.2500  |NULL                          |\n",
      "|343420996   |7148           |5           |3092.0         |200332086   |08:00:00            |14:00:00          |NULL             |2022-06-22 09:37:40  |NULL         |USD               |53.7500         |NULL                |NULL                     |53.7500        |2022-06-22 09:37:40  |Laci          |Patterson    |San Mateo      |United States  |94402          |English               |Male      |NULL               |Single              |0                 |2020-05-30      |1959-11-24       |Laci.Patterson@aol.com    |485-877-0524    |588319274          |53              |NULL           |2              |1           |17.2500       |17.2500  |NULL                          |\n",
      "---------------------------------------------------------------------------------------------------------------------------------------------------------------------------------------------------------------------------------------------------------------------------------------------------------------------------------------------------------------------------------------------------------------------------------------------------------------------------------------------------------------------------------------------------------------------------------------------------------------------------------------------------------------------------------------------------\n",
      "\n"
     ]
    }
   ],
   "source": [
    "order_with_detail = remove_dup_join_col(order_with_detail)\n",
    "order_with_detail.show()"
   ]
  },
  {
   "cell_type": "code",
   "execution_count": 34,
   "metadata": {},
   "outputs": [
    {
     "data": {
      "text/plain": [
       "125999"
      ]
     },
     "execution_count": 34,
     "metadata": {},
     "output_type": "execute_result"
    }
   ],
   "source": [
    "order_with_detail.count()"
   ]
  },
  {
   "cell_type": "code",
   "execution_count": 35,
   "metadata": {},
   "outputs": [
    {
     "data": {
      "text/plain": [
       "46300"
      ]
     },
     "execution_count": 35,
     "metadata": {},
     "output_type": "execute_result"
    }
   ],
   "source": [
    "filter_customer_USA.count()"
   ]
  },
  {
   "cell_type": "code",
   "execution_count": 33,
   "metadata": {},
   "outputs": [],
   "source": [
    "order_with_detail.write.save_as_table(table_name=\"ORDER_DETAILS_USA_MATCHED\", mode='overwrite')\n",
    "filter_customer_USA.write.save_as_table(table_name=\"ORDER_HEAD_USA_MATCHED\", mode='overwrite')"
   ]
  }
 ],
 "metadata": {
  "kernelspec": {
   "display_name": "py38_env",
   "language": "python",
   "name": "python3"
  },
  "language_info": {
   "codemirror_mode": {
    "name": "ipython",
    "version": 3
   },
   "file_extension": ".py",
   "mimetype": "text/x-python",
   "name": "python",
   "nbconvert_exporter": "python",
   "pygments_lexer": "ipython3",
   "version": "3.8.16"
  },
  "orig_nbformat": 4
 },
 "nbformat": 4,
 "nbformat_minor": 2
}
