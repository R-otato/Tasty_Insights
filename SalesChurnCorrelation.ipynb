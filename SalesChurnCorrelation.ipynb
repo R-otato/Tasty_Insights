{
 "cells": [
  {
   "cell_type": "code",
   "execution_count": 58,
   "metadata": {},
   "outputs": [],
   "source": [
    "#Import Python packages\n",
    "import pandas as pd\n",
    "import json\n",
    "import matplotlib.pyplot as plt\n",
    "import seaborn as sns\n",
    "import json\n",
    "import datetime\n",
    "\n",
    "# Import Snowflake modules\n",
    "from snowflake.snowpark import Session\n",
    "import snowflake.snowpark.functions as F\n",
    "import snowflake.snowpark.types as T\n",
    "from snowflake.snowpark import Window"
   ]
  },
  {
   "cell_type": "code",
   "execution_count": 59,
   "metadata": {},
   "outputs": [],
   "source": [
    "# Get account credentials from a json file\n",
    "with open(\"data_scientist_auth.json\") as f:\n",
    "    data = json.load(f)\n",
    "    username = data[\"username\"]\n",
    "    password = data[\"password\"]\n",
    "    account = data[\"account\"]\n",
    "\n",
    "# Specify connection parameters\n",
    "connection_parameters = {\n",
    "    \"account\": account,\n",
    "    \"user\": username,\n",
    "    \"password\": password,\n",
    "    \"role\": \"TASTY_BI\",\n",
    "    \"warehouse\": \"TASTY_BI_WH\",\n",
    "    \"database\": \"frostbyte_tasty_bytes\",\n",
    "    \"schema\": \"analytics\",\n",
    "}\n",
    "\n",
    "# Create Snowpark session\n",
    "session = Session.builder.configs(connection_parameters).create()"
   ]
  },
  {
   "cell_type": "code",
   "execution_count": 60,
   "metadata": {},
   "outputs": [],
   "source": [
    "#Function to remove and rename columns after inner join\n",
    "def remove_dup_join_col(df):\n",
    "    # capitalise all columns\n",
    "    for col in df.columns:\n",
    "        df = df.withColumnRenamed(col, col.upper())\n",
    "    \n",
    "    # get list of renamable columns for left and right join\n",
    "    left_dup_col = [col_name for col_name in df.columns if col_name.startswith('L_')]\n",
    "    right_dup_col = [col_name for col_name in df.columns if col_name.startswith('R_')]\n",
    "    old_columns = df.columns\n",
    "    \n",
    "    # rename the list with the most number of renamable columns\n",
    "    # drop the list of columns with less number of renamable columns\n",
    "    if len(left_dup_col)>len(right_dup_col):\n",
    "        columns_rename=left_dup_col\n",
    "        df= df.drop(*right_dup_col)\n",
    "    else:\n",
    "        columns_rename=right_dup_col\n",
    "        df= df.drop(*left_dup_col)\n",
    "    \n",
    "    for old_column in old_columns:\n",
    "        if old_column in columns_rename:\n",
    "            # get string to remove\n",
    "            string_to_replace = columns_rename[0][:7]\n",
    "            # replace starting string\n",
    "            new_column = old_column.replace(string_to_replace, \"\")\n",
    "            df = df.withColumnRenamed(old_column, new_column)\n",
    "    \n",
    "    return df"
   ]
  },
  {
   "attachments": {},
   "cell_type": "markdown",
   "metadata": {},
   "source": [
    "Objective of this notebook is to rebuild a NPS_Compare or similar to do high level correlation"
   ]
  },
  {
   "cell_type": "code",
   "execution_count": 61,
   "metadata": {},
   "outputs": [],
   "source": [
    "ORDER_HEADERS = session.table(\"FROSTBYTE_TASTY_BYTES.RAW_POS.ORDER_HEADER\")\n",
    "CUSTOMERS = session.table(\"FROSTBYTE_TASTY_BYTES.RAW_CUSTOMER.CUSTOMER_LOYALTY\")"
   ]
  },
  {
   "cell_type": "code",
   "execution_count": 62,
   "metadata": {},
   "outputs": [
    {
     "name": "stdout",
     "output_type": "stream",
     "text": [
      "-----------------------------------------------------------------------------------------------------------------------------------------------------------------------------------------------------------------------------------------------------------------------------------------\n",
      "|\"ORDER_ID\"  |\"TRUCK_ID\"  |\"LOCATION_ID\"  |\"CUSTOMER_ID\"  |\"DISCOUNT_ID\"  |\"SHIFT_ID\"  |\"SHIFT_START_TIME\"  |\"SHIFT_END_TIME\"  |\"ORDER_CHANNEL\"  |\"ORDER_TS\"           |\"SERVED_TS\"  |\"ORDER_CURRENCY\"  |\"ORDER_AMOUNT\"  |\"ORDER_TAX_AMOUNT\"  |\"ORDER_DISCOUNT_AMOUNT\"  |\"ORDER_TOTAL\"  |\n",
      "-----------------------------------------------------------------------------------------------------------------------------------------------------------------------------------------------------------------------------------------------------------------------------------------\n",
      "|14271673    |90          |2666.0         |NULL           |NULL           |63645       |15:30:00            |22:30:00          |NULL             |2021-05-25 16:53:13  |NULL         |USD               |11.0000         |NULL                |NULL                     |11.0000        |\n",
      "|14271674    |90          |2666.0         |59685          |NULL           |63645       |15:30:00            |22:30:00          |NULL             |2021-05-25 16:53:26  |NULL         |USD               |11.0000         |NULL                |NULL                     |11.0000        |\n",
      "|14271675    |90          |2666.0         |NULL           |NULL           |63645       |15:30:00            |22:30:00          |NULL             |2021-05-25 16:53:26  |NULL         |USD               |11.0000         |NULL                |NULL                     |11.0000        |\n",
      "|14271676    |90          |2666.0         |NULL           |NULL           |63645       |15:30:00            |22:30:00          |NULL             |2021-05-25 16:53:29  |NULL         |USD               |57.0000         |NULL                |NULL                     |57.0000        |\n",
      "|14271677    |90          |2666.0         |NULL           |NULL           |63645       |15:30:00            |22:30:00          |NULL             |2021-05-25 16:53:49  |NULL         |USD               |24.0000         |NULL                |NULL                     |24.0000        |\n",
      "|14271678    |90          |2666.0         |NULL           |NULL           |63645       |15:30:00            |22:30:00          |NULL             |2021-05-25 16:54:11  |NULL         |USD               |33.0000         |NULL                |NULL                     |33.0000        |\n",
      "|14271679    |90          |2666.0         |NULL           |NULL           |63645       |15:30:00            |22:30:00          |NULL             |2021-05-25 16:54:25  |NULL         |USD               |71.0000         |NULL                |NULL                     |71.0000        |\n",
      "|14271680    |90          |2666.0         |NULL           |NULL           |63645       |15:30:00            |22:30:00          |NULL             |2021-05-25 16:54:57  |NULL         |USD               |33.0000         |NULL                |NULL                     |33.0000        |\n",
      "|14271681    |90          |2666.0         |NULL           |NULL           |63645       |15:30:00            |22:30:00          |NULL             |2021-05-25 16:55:00  |NULL         |USD               |39.0000         |NULL                |NULL                     |39.0000        |\n",
      "|14271682    |90          |2666.0         |NULL           |NULL           |63645       |15:30:00            |22:30:00          |NULL             |2021-05-25 16:55:03  |NULL         |USD               |69.0000         |NULL                |NULL                     |69.0000        |\n",
      "-----------------------------------------------------------------------------------------------------------------------------------------------------------------------------------------------------------------------------------------------------------------------------------------\n",
      "\n"
     ]
    }
   ],
   "source": [
    "ORDER_HEADERS.show()"
   ]
  },
  {
   "cell_type": "code",
   "execution_count": 63,
   "metadata": {},
   "outputs": [
    {
     "name": "stdout",
     "output_type": "stream",
     "text": [
      "-------------------------------------------------------------------------------------------------------------------------------------------------------------------------------------------------------------------------------------------------------------------------\n",
      "|\"CUSTOMER_ID\"  |\"FIRST_NAME\"  |\"LAST_NAME\"  |\"CITY\"          |\"COUNTRY\"  |\"POSTAL_CODE\"  |\"PREFERRED_LANGUAGE\"  |\"GENDER\"     |\"FAVOURITE_BRAND\"  |\"MARITAL_STATUS\"  |\"CHILDREN_COUNT\"  |\"SIGN_UP_DATE\"  |\"BIRTHDAY_DATE\"  |\"E_MAIL\"                  |\"PHONE_NUMBER\"  |\n",
      "-------------------------------------------------------------------------------------------------------------------------------------------------------------------------------------------------------------------------------------------------------------------------\n",
      "|1              |Rodolfo       |Tucker       |Hamburg         |Germany    |21129          |German                |Female       |NULL               |Single            |0                 |2019-02-19      |1953-12-01       |Rodolfo.Tucker@ymail.com  |007-506-6068    |\n",
      "|2              |Karla         |Mullen       |Rio de Janeiro  |Brazil     |22753-000      |Portuguese            |Male         |NULL               |Single            |0                 |2019-10-07      |1973-09-21       |Karla.Mullen@hotmail.com  |431-122-6142    |\n",
      "|3              |Cortez        |Douglas      |Krakow          |Poland     |31-5           |Polish                |Female       |NULL               |Married           |2                 |2020-09-11      |2000-09-04       |Cortez.Douglas@gmail.com  |157-518-3848    |\n",
      "|4              |Janiya        |Pope         |Krakow          |Poland     |31-5           |Polish                |Female       |NULL               |Single            |1                 |2021-09-09      |1950-03-05       |Janiya.Pope@ymail.com     |872-718-6879    |\n",
      "|5              |Zaiden        |Knapp        |Barcelona       |Spain      |08013          |English               |Female       |NULL               |Married           |1                 |2022-06-17      |1978-10-29       |Zaiden.Knapp@hotmail.com  |545-152-4832    |\n",
      "|6              |Micah         |Beard        |Hamburg         |Germany    |21129          |German                |Male         |NULL               |Single            |0                 |2021-06-02      |1969-08-17       |Micah.Beard@aol.com       |535-753-3461    |\n",
      "|7              |Ricardo       |Byrd         |Barcelona       |Spain      |08013          |English               |Male         |NULL               |Undisclosed       |Undisclosed       |2020-09-29      |1961-12-23       |Ricardo.Byrd@aol.com      |138-082-1391    |\n",
      "|8              |Marie         |Boyer        |Hamburg         |Germany    |21129          |German                |Female       |NULL               |Single            |0                 |2021-04-08      |1960-07-12       |Marie.Boyer@aol.com       |587-006-4451    |\n",
      "|9              |Josie         |Glass        |Stockholm       |Sweden     |6206           |Swedish               |Male         |NULL               |Single            |0                 |2020-10-30      |1970-09-11       |Josie.Glass@hotmail.com   |023-863-4028    |\n",
      "|10             |Korbin        |Ward         |Cairo           |Egypt      |00000          |Arabic                |Undisclosed  |NULL               |Single            |0                 |2020-06-04      |1989-05-27       |Korbin.Ward@gmail.com     |049-196-8102    |\n",
      "-------------------------------------------------------------------------------------------------------------------------------------------------------------------------------------------------------------------------------------------------------------------------\n",
      "\n"
     ]
    }
   ],
   "source": [
    "CUSTOMERS.show()"
   ]
  },
  {
   "cell_type": "code",
   "execution_count": 64,
   "metadata": {},
   "outputs": [
    {
     "name": "stdout",
     "output_type": "stream",
     "text": [
      "--------------------------------------------------------------------------------------------------------------------------------------------------------------------------------------------------------------------------------------------------------------------------------------------------------------------------------------------------------------------------------------------------------------------------------------------------------------------------------------------------------------------------------------------------------\n",
      "|\"ORDER_ID\"  |\"TRUCK_ID\"  |\"LOCATION_ID\"  |\"DISCOUNT_ID\"  |\"SHIFT_ID\"  |\"SHIFT_START_TIME\"  |\"SHIFT_END_TIME\"  |\"ORDER_CHANNEL\"  |\"ORDER_TS\"           |\"SERVED_TS\"  |\"ORDER_CURRENCY\"  |\"ORDER_AMOUNT\"  |\"ORDER_TAX_AMOUNT\"  |\"ORDER_DISCOUNT_AMOUNT\"  |\"ORDER_TOTAL\"  |\"CUSTOMER_ID\"  |\"FIRST_NAME\"  |\"LAST_NAME\"  |\"CITY\"   |\"COUNTRY\"  |\"POSTAL_CODE\"  |\"PREFERRED_LANGUAGE\"  |\"GENDER\"     |\"FAVOURITE_BRAND\"  |\"MARITAL_STATUS\"  |\"CHILDREN_COUNT\"  |\"SIGN_UP_DATE\"  |\"BIRTHDAY_DATE\"  |\"E_MAIL\"                                |\"PHONE_NUMBER\"  |\n",
      "--------------------------------------------------------------------------------------------------------------------------------------------------------------------------------------------------------------------------------------------------------------------------------------------------------------------------------------------------------------------------------------------------------------------------------------------------------------------------------------------------------------------------------------------------------\n",
      "|387872379   |361         |10774.0        |NULL           |200407778   |08:30:00            |14:30:00          |NULL             |2021-08-29 12:42:06  |NULL         |USD               |26.5000         |NULL                |NULL                     |26.5000        |15767          |Kendrick      |Haynes       |Hamburg  |Germany    |21129          |German                |Female       |NULL               |Single            |0                 |2020-02-05      |1958-06-25       |Kendrick.Haynes@aol.com                 |904-894-2509    |\n",
      "|387872418   |361         |10774.0        |NULL           |200407778   |08:30:00            |14:30:00          |NULL             |2021-08-29 13:06:08  |NULL         |USD               |14.0000         |NULL                |NULL                     |14.0000        |8076           |Madilynn      |Barajas      |Hamburg  |Germany    |21129          |German                |Female       |NULL               |Single            |0                 |2021-02-27      |1988-09-14       |Madilynn.Barajas@hotmail.com            |730-196-7386    |\n",
      "|387872455   |361         |10774.0        |NULL           |200407778   |08:30:00            |14:30:00          |NULL             |2021-08-29 13:22:36  |NULL         |USD               |10.0000         |NULL                |NULL                     |10.0000        |4423           |Shelby        |Forbes       |Hamburg  |Germany    |21129          |German                |Female       |NULL               |Married           |3                 |2019-07-21      |1941-10-01       |Shelby.Forbes@ymail.com                 |680-502-2812    |\n",
      "|387872504   |361         |10774.0        |NULL           |200407778   |08:30:00            |14:30:00          |NULL             |2021-08-29 13:53:35  |NULL         |USD               |3.0000          |NULL                |NULL                     |3.0000         |210661         |Agustin       |Castaneda    |Hamburg  |Germany    |21129          |German                |Male         |NULL               |Single            |0                 |2019-03-12      |1969-02-25       |**~MASKED~**.**~MASKED~**@aim.com       |111-111-1111    |\n",
      "|387872505   |361         |10774.0        |NULL           |200407778   |08:30:00            |14:30:00          |NULL             |2021-08-29 13:55:53  |NULL         |USD               |6.0000          |NULL                |NULL                     |6.0000         |17528          |Ashlee        |Olson        |Hamburg  |Germany    |21129          |German                |Female       |NULL               |Single            |0                 |2022-02-04      |2001-01-10       |Ashlee.Olson@gmail.com                  |410-649-5519    |\n",
      "|387872555   |361         |10226.0        |NULL           |200407779   |15:30:00            |22:30:00          |NULL             |2021-08-29 15:54:10  |NULL         |USD               |13.0000         |NULL                |NULL                     |13.0000        |216635         |April         |Joyce        |Hamburg  |Germany    |21129          |German                |Male         |NULL               |Married           |3                 |2019-08-20      |1993-08-31       |**~MASKED~**.**~MASKED~**@netscape.net  |111-111-1111    |\n",
      "|14271674    |90          |2666.0         |NULL           |63645       |15:30:00            |22:30:00          |NULL             |2021-05-25 16:53:26  |NULL         |USD               |11.0000         |NULL                |NULL                     |11.0000        |59685          |Skyler        |Hunter       |Toronto  |Canada     |M4C 3C7        |English               |Male         |NULL               |Single            |0                 |2019-11-22      |1965-01-09       |Skyler.Hunter@aol.com                   |332-868-1473    |\n",
      "|14271687    |90          |2666.0         |NULL           |63645       |15:30:00            |22:30:00          |NULL             |2021-05-25 16:56:43  |NULL         |USD               |41.0000         |NULL                |NULL                     |41.0000        |132335         |Jacey         |Brooks       |Toronto  |Canada     |M3C 0C1        |English               |Undisclosed  |NULL               |Married           |1                 |2019-03-06      |1975-07-24       |Jacey.Brooks@hotmail.com                |198-407-7994    |\n",
      "|14271699    |90          |2666.0         |NULL           |63645       |15:30:00            |22:30:00          |NULL             |2021-05-25 17:05:06  |NULL         |USD               |22.0000         |NULL                |NULL                     |22.0000        |25108          |Eliza         |Norris       |Toronto  |Canada     |M4C 1V8        |English               |Male         |NULL               |Married           |1                 |2021-02-22      |1984-10-16       |Eliza.Norris@hotmail.com                |349-982-0627    |\n",
      "|14271719    |90          |2666.0         |NULL           |63645       |15:30:00            |22:30:00          |NULL             |2021-05-25 17:18:02  |NULL         |USD               |49.0000         |NULL                |NULL                     |49.0000        |132355         |Terrance      |York         |Toronto  |Canada     |M4C 3M7        |English               |Female       |NULL               |Single            |0                 |2021-04-20      |2004-08-26       |Terrance.York@gmail.com                 |138-389-2907    |\n",
      "--------------------------------------------------------------------------------------------------------------------------------------------------------------------------------------------------------------------------------------------------------------------------------------------------------------------------------------------------------------------------------------------------------------------------------------------------------------------------------------------------------------------------------------------------------\n",
      "\n"
     ]
    }
   ],
   "source": [
    "LOOKER = ORDER_HEADERS.join(CUSTOMERS, CUSTOMERS['CUSTOMER_ID'] == ORDER_HEADERS['CUSTOMER_ID'], 'inner')\n",
    "\n",
    "LOOKER = remove_dup_join_col(LOOKER)\n",
    "\n",
    "LOOKER.show()"
   ]
  },
  {
   "cell_type": "code",
   "execution_count": 65,
   "metadata": {},
   "outputs": [
    {
     "name": "stdout",
     "output_type": "stream",
     "text": [
      "--------------------------------------------------------------------------------------------------------------------------------------------------------------------------------------------------------------------------------------------------------------------------------------------------------------------------------------------------------------------------------------------------------------------------------------------------------------------------------------------------------------------------------------------------------\n",
      "|\"ORDER_ID\"  |\"TRUCK_ID\"  |\"LOCATION_ID\"  |\"DISCOUNT_ID\"  |\"SHIFT_ID\"  |\"SHIFT_START_TIME\"  |\"SHIFT_END_TIME\"  |\"ORDER_CHANNEL\"  |\"ORDER_TS\"           |\"SERVED_TS\"  |\"ORDER_CURRENCY\"  |\"ORDER_AMOUNT\"  |\"ORDER_TAX_AMOUNT\"  |\"ORDER_DISCOUNT_AMOUNT\"  |\"ORDER_TOTAL\"  |\"CUSTOMER_ID\"  |\"FIRST_NAME\"  |\"LAST_NAME\"  |\"CITY\"  |\"COUNTRY\"  |\"POSTAL_CODE\"  |\"PREFERRED_LANGUAGE\"  |\"GENDER\"  |\"FAVOURITE_BRAND\"  |\"MARITAL_STATUS\"  |\"CHILDREN_COUNT\"  |\"SIGN_UP_DATE\"  |\"BIRTHDAY_DATE\"  |\"E_MAIL\"                           |\"PHONE_NUMBER\"  |\"DTNO\"  |\n",
      "--------------------------------------------------------------------------------------------------------------------------------------------------------------------------------------------------------------------------------------------------------------------------------------------------------------------------------------------------------------------------------------------------------------------------------------------------------------------------------------------------------------------------------------------------------\n",
      "|367934038   |335         |11825.0        |NULL           |200369240   |09:00:00            |15:00:00          |NULL             |2020-01-22 09:30:15  |NULL         |USD               |120.7500        |NULL                |NULL                     |120.7500       |215506         |Erik          |Wagner       |Munich  |Germany    |80809          |German                |Male      |NULL               |Single            |1                 |2019-07-02      |1955-06-07       |**~MASKED~**.**~MASKED~**@att.net  |111-111-1111    |25      |\n",
      "|367951166   |335         |12849.0        |NULL           |200369290   |08:30:00            |14:30:00          |NULL             |2020-02-16 13:56:48  |NULL         |USD               |71.0000         |NULL                |NULL                     |71.0000        |215506         |Erik          |Wagner       |Munich  |Germany    |80809          |German                |Male      |NULL               |Single            |1                 |2019-07-02      |1955-06-07       |**~MASKED~**.**~MASKED~**@att.net  |111-111-1111    |24      |\n",
      "|367965950   |335         |4937.0         |NULL           |200369338   |08:00:00            |14:00:00          |NULL             |2020-03-11 09:27:06  |NULL         |USD               |34.5000         |NULL                |NULL                     |34.5000        |215506         |Erik          |Wagner       |Munich  |Germany    |80809          |German                |Male      |NULL               |Single            |1                 |2019-07-02      |1955-06-07       |**~MASKED~**.**~MASKED~**@att.net  |111-111-1111    |14      |\n",
      "|367975381   |335         |12971.0        |NULL           |200369366   |08:30:00            |14:30:00          |NULL             |2020-03-25 12:36:03  |NULL         |USD               |105.5000        |NULL                |NULL                     |105.5000       |215506         |Erik          |Wagner       |Munich  |Germany    |80809          |German                |Male      |NULL               |Single            |1                 |2019-07-02      |1955-06-07       |**~MASKED~**.**~MASKED~**@att.net  |111-111-1111    |11      |\n",
      "|367983130   |335         |9550.0         |NULL           |200369388   |08:30:00            |14:30:00          |NULL             |2020-04-05 13:41:24  |NULL         |USD               |54.7500         |NULL                |NULL                     |54.7500        |215506         |Erik          |Wagner       |Munich  |Germany    |80809          |German                |Male      |NULL               |Single            |1                 |2019-07-02      |1955-06-07       |**~MASKED~**.**~MASKED~**@att.net  |111-111-1111    |6       |\n",
      "|367987835   |335         |12247.0        |NULL           |200369401   |15:30:00            |22:30:00          |NULL             |2020-04-11 18:03:25  |NULL         |USD               |160.2500        |NULL                |NULL                     |160.2500       |215506         |Erik          |Wagner       |Munich  |Germany    |80809          |German                |Male      |NULL               |Single            |1                 |2019-07-02      |1955-06-07       |**~MASKED~**.**~MASKED~**@att.net  |111-111-1111    |43      |\n",
      "|368016316   |335         |4948.0         |NULL           |200369486   |08:00:00            |14:00:00          |NULL             |2020-05-24 13:45:10  |NULL         |USD               |17.2500         |NULL                |NULL                     |17.2500        |215506         |Erik          |Wagner       |Munich  |Germany    |80809          |German                |Male      |NULL               |Single            |1                 |2019-07-02      |1955-06-07       |**~MASKED~**.**~MASKED~**@att.net  |111-111-1111    |22      |\n",
      "|368030636   |335         |9544.0         |NULL           |200369530   |09:00:00            |15:00:00          |NULL             |2020-06-15 13:25:06  |NULL         |USD               |34.5000         |NULL                |NULL                     |34.5000        |215506         |Erik          |Wagner       |Munich  |Germany    |80809          |German                |Male      |NULL               |Single            |1                 |2019-07-02      |1955-06-07       |**~MASKED~**.**~MASKED~**@att.net  |111-111-1111    |15      |\n",
      "|368040423   |335         |11828.0        |NULL           |200369561   |15:00:00            |22:00:00          |NULL             |2020-06-30 21:56:02  |NULL         |USD               |51.7500         |NULL                |NULL                     |51.7500        |215506         |Erik          |Wagner       |Munich  |Germany    |80809          |German                |Male      |NULL               |Single            |1                 |2019-07-02      |1955-06-07       |**~MASKED~**.**~MASKED~**@att.net  |111-111-1111    |5       |\n",
      "|368046282   |335         |10315.0        |NULL           |200369579   |16:00:00            |23:00:00          |NULL             |2020-07-05 17:17:17  |NULL         |USD               |34.5000         |NULL                |NULL                     |34.5000        |215506         |Erik          |Wagner       |Munich  |Germany    |80809          |German                |Male      |NULL               |Single            |1                 |2019-07-02      |1955-06-07       |**~MASKED~**.**~MASKED~**@att.net  |111-111-1111    |3       |\n",
      "--------------------------------------------------------------------------------------------------------------------------------------------------------------------------------------------------------------------------------------------------------------------------------------------------------------------------------------------------------------------------------------------------------------------------------------------------------------------------------------------------------------------------------------------------------\n",
      "\n"
     ]
    }
   ],
   "source": [
    "# Define a window partitioned by customer and menu item, ordered by date\n",
    "window_spec = Window.partitionBy(\"CUSTOMER_ID\").orderBy(\"ORDER_TS\")\n",
    "\n",
    "# Add a column with the date of the prior order for each customer and order\n",
    "orders_df_pre = LOOKER.withColumn(\"DTNO\", F.lead(\"ORDER_TS\").over(window_spec))\n",
    "\n",
    "orders_df = orders_df_pre.withColumn(\"DTNO\", F.datediff(col1=\"ORDER_TS\", col2=\"DTNO\",part='day'))\n",
    "orders_df = orders_df.na.drop(subset=[\"DTNO\"])\n",
    "\n",
    "orders_df.show()"
   ]
  },
  {
   "cell_type": "code",
   "execution_count": 66,
   "metadata": {},
   "outputs": [],
   "source": [
    "orders_df.write.save_as_table(table_name=\"tran_anal\", mode='overwrite')"
   ]
  },
  {
   "cell_type": "code",
   "execution_count": 67,
   "metadata": {},
   "outputs": [],
   "source": [
    "orders_df = session.table(\"tran_anal\")"
   ]
  },
  {
   "cell_type": "code",
   "execution_count": 68,
   "metadata": {},
   "outputs": [
    {
     "name": "stdout",
     "output_type": "stream",
     "text": [
      "--------------------------------------------------------------------------------------------------------------------------------------------------------------------------------------------------------------------------------------------------------------------------------------------------------------------------------------------------------------------------------------------------------------------------------------------------------------------------------------------------------------------------------------------------------\n",
      "|\"ORDER_ID\"  |\"TRUCK_ID\"  |\"LOCATION_ID\"  |\"DISCOUNT_ID\"  |\"SHIFT_ID\"  |\"SHIFT_START_TIME\"  |\"SHIFT_END_TIME\"  |\"ORDER_CHANNEL\"  |\"ORDER_TS\"           |\"SERVED_TS\"  |\"ORDER_CURRENCY\"  |\"ORDER_AMOUNT\"  |\"ORDER_TAX_AMOUNT\"  |\"ORDER_DISCOUNT_AMOUNT\"  |\"ORDER_TOTAL\"  |\"CUSTOMER_ID\"  |\"FIRST_NAME\"  |\"LAST_NAME\"  |\"CITY\"         |\"COUNTRY\"      |\"POSTAL_CODE\"  |\"PREFERRED_LANGUAGE\"  |\"GENDER\"  |\"FAVOURITE_BRAND\"  |\"MARITAL_STATUS\"  |\"CHILDREN_COUNT\"  |\"SIGN_UP_DATE\"  |\"BIRTHDAY_DATE\"  |\"E_MAIL\"                |\"PHONE_NUMBER\"  |\"DTNO\"  |\n",
      "--------------------------------------------------------------------------------------------------------------------------------------------------------------------------------------------------------------------------------------------------------------------------------------------------------------------------------------------------------------------------------------------------------------------------------------------------------------------------------------------------------------------------------------------------------\n",
      "|436041107   |73          |12058.0        |NULL           |200508580   |09:00:00            |15:00:00          |NULL             |2020-01-28 12:39:15  |NULL         |USD               |38.0000         |NULL                |NULL                     |38.0000        |156193         |Dereon        |Burns        |New York City  |United States  |11373          |English               |Male      |NULL               |Single            |0                 |2019-06-05      |1953-03-25       |Dereon.Burns@ymail.com  |274-738-0158    |75      |\n",
      "|436261022   |73          |11598.0        |NULL           |200508880   |08:30:00            |14:30:00          |NULL             |2020-04-12 12:02:34  |NULL         |USD               |91.0000         |NULL                |NULL                     |91.0000        |156193         |Dereon        |Burns        |New York City  |United States  |11373          |English               |Male      |NULL               |Single            |0                 |2019-06-05      |1953-03-25       |Dereon.Burns@ymail.com  |274-738-0158    |113     |\n",
      "|436592008   |73          |3717.0         |NULL           |200509332   |08:30:00            |14:30:00          |NULL             |2020-08-03 12:28:56  |NULL         |USD               |31.0000         |NULL                |NULL                     |31.0000        |156193         |Dereon        |Burns        |New York City  |United States  |11373          |English               |Male      |NULL               |Single            |0                 |2019-06-05      |1953-03-25       |Dereon.Burns@ymail.com  |274-738-0158    |50      |\n",
      "|436739574   |73          |3252.0         |NULL           |200509533   |15:00:00            |22:00:00          |NULL             |2020-09-22 19:33:47  |NULL         |USD               |61.0000         |NULL                |NULL                     |61.0000        |156193         |Dereon        |Burns        |New York City  |United States  |11373          |English               |Male      |NULL               |Single            |0                 |2019-06-05      |1953-03-25       |Dereon.Burns@ymail.com  |274-738-0158    |2       |\n",
      "|436744991   |73          |10409.0        |NULL           |200509541   |15:00:00            |22:00:00          |NULL             |2020-09-24 15:07:08  |NULL         |USD               |11.0000         |NULL                |NULL                     |11.0000        |156193         |Dereon        |Burns        |New York City  |United States  |11373          |English               |Male      |NULL               |Single            |0                 |2019-06-05      |1953-03-25       |Dereon.Burns@ymail.com  |274-738-0158    |23      |\n",
      "|436858583   |71          |10412.0        |NULL           |200509697   |15:00:00            |22:00:00          |NULL             |2020-10-17 15:24:43  |NULL         |USD               |28.0000         |NULL                |NULL                     |28.0000        |156193         |Dereon        |Burns        |New York City  |United States  |11373          |English               |Male      |NULL               |Single            |0                 |2019-06-05      |1953-03-25       |Dereon.Burns@ymail.com  |274-738-0158    |5       |\n",
      "|436891183   |74          |15130.0        |NULL           |200509741   |15:00:00            |22:00:00          |NULL             |2020-10-22 16:10:38  |NULL         |USD               |137.0000        |NULL                |NULL                     |137.0000       |156193         |Dereon        |Burns        |New York City  |United States  |11373          |English               |Male      |NULL               |Single            |0                 |2019-06-05      |1953-03-25       |Dereon.Burns@ymail.com  |274-738-0158    |21      |\n",
      "|437011350   |71          |2520.0         |NULL           |200509904   |08:00:00            |14:00:00          |NULL             |2020-11-12 09:52:39  |NULL         |USD               |12.0000         |NULL                |NULL                     |12.0000        |156193         |Dereon        |Burns        |New York City  |United States  |11373          |English               |Male      |NULL               |Single            |0                 |2019-06-05      |1953-03-25       |Dereon.Burns@ymail.com  |274-738-0158    |34      |\n",
      "|437211657   |71          |2185.0         |NULL           |200510177   |15:00:00            |22:00:00          |NULL             |2020-12-16 17:41:42  |NULL         |USD               |90.0000         |NULL                |NULL                     |90.0000        |156193         |Dereon        |Burns        |New York City  |United States  |11373          |English               |Male      |NULL               |Single            |0                 |2019-06-05      |1953-03-25       |Dereon.Burns@ymail.com  |274-738-0158    |32      |\n",
      "|437477105   |73          |12057.0        |NULL           |200510536   |08:30:00            |14:30:00          |NULL             |2021-01-17 09:19:38  |NULL         |USD               |11.0000         |NULL                |NULL                     |11.0000        |156193         |Dereon        |Burns        |New York City  |United States  |11373          |English               |Male      |NULL               |Single            |0                 |2019-06-05      |1953-03-25       |Dereon.Burns@ymail.com  |274-738-0158    |14      |\n",
      "--------------------------------------------------------------------------------------------------------------------------------------------------------------------------------------------------------------------------------------------------------------------------------------------------------------------------------------------------------------------------------------------------------------------------------------------------------------------------------------------------------------------------------------------------------\n",
      "\n"
     ]
    }
   ],
   "source": [
    "orders_df.show()"
   ]
  },
  {
   "cell_type": "code",
   "execution_count": 69,
   "metadata": {},
   "outputs": [
    {
     "name": "stdout",
     "output_type": "stream",
     "text": [
      "------------------------------------------------------------------------------------------------------------------------------------------------------------------------------------------------------------------------------------------------------------------------------------------------------------------------------------------------------------------------------------------------------------------------------------------------------------------------------------------------------------------------------------------------------------------------------------------\n",
      "|\"ORDER_ID\"  |\"TRUCK_ID\"  |\"LOCATION_ID\"  |\"DISCOUNT_ID\"  |\"SHIFT_ID\"  |\"SHIFT_START_TIME\"  |\"SHIFT_END_TIME\"  |\"ORDER_CHANNEL\"  |\"ORDER_TS\"           |\"SERVED_TS\"  |\"ORDER_CURRENCY\"  |\"ORDER_AMOUNT\"  |\"ORDER_TAX_AMOUNT\"  |\"ORDER_DISCOUNT_AMOUNT\"  |\"ORDER_TOTAL\"  |\"CUSTOMER_ID\"  |\"FIRST_NAME\"  |\"LAST_NAME\"  |\"CITY\"         |\"COUNTRY\"      |\"POSTAL_CODE\"  |\"PREFERRED_LANGUAGE\"  |\"GENDER\"  |\"FAVOURITE_BRAND\"  |\"MARITAL_STATUS\"  |\"CHILDREN_COUNT\"  |\"SIGN_UP_DATE\"  |\"BIRTHDAY_DATE\"  |\"E_MAIL\"                |\"PHONE_NUMBER\"  |\"DTNO\"  |\"YEAR\"  |\"MONTH\"  |\"YEAR_MONTH\"  |\n",
      "------------------------------------------------------------------------------------------------------------------------------------------------------------------------------------------------------------------------------------------------------------------------------------------------------------------------------------------------------------------------------------------------------------------------------------------------------------------------------------------------------------------------------------------------------------------------------------------\n",
      "|436041107   |73          |12058.0        |NULL           |200508580   |09:00:00            |15:00:00          |NULL             |2020-01-28 12:39:15  |NULL         |USD               |38.0000         |NULL                |NULL                     |38.0000        |156193         |Dereon        |Burns        |New York City  |United States  |11373          |English               |Male      |NULL               |Single            |0                 |2019-06-05      |1953-03-25       |Dereon.Burns@ymail.com  |274-738-0158    |75      |2020    |1        |20201         |\n",
      "|436261022   |73          |11598.0        |NULL           |200508880   |08:30:00            |14:30:00          |NULL             |2020-04-12 12:02:34  |NULL         |USD               |91.0000         |NULL                |NULL                     |91.0000        |156193         |Dereon        |Burns        |New York City  |United States  |11373          |English               |Male      |NULL               |Single            |0                 |2019-06-05      |1953-03-25       |Dereon.Burns@ymail.com  |274-738-0158    |113     |2020    |4        |20204         |\n",
      "|436592008   |73          |3717.0         |NULL           |200509332   |08:30:00            |14:30:00          |NULL             |2020-08-03 12:28:56  |NULL         |USD               |31.0000         |NULL                |NULL                     |31.0000        |156193         |Dereon        |Burns        |New York City  |United States  |11373          |English               |Male      |NULL               |Single            |0                 |2019-06-05      |1953-03-25       |Dereon.Burns@ymail.com  |274-738-0158    |50      |2020    |8        |20208         |\n",
      "|436739574   |73          |3252.0         |NULL           |200509533   |15:00:00            |22:00:00          |NULL             |2020-09-22 19:33:47  |NULL         |USD               |61.0000         |NULL                |NULL                     |61.0000        |156193         |Dereon        |Burns        |New York City  |United States  |11373          |English               |Male      |NULL               |Single            |0                 |2019-06-05      |1953-03-25       |Dereon.Burns@ymail.com  |274-738-0158    |2       |2020    |9        |20209         |\n",
      "|436744991   |73          |10409.0        |NULL           |200509541   |15:00:00            |22:00:00          |NULL             |2020-09-24 15:07:08  |NULL         |USD               |11.0000         |NULL                |NULL                     |11.0000        |156193         |Dereon        |Burns        |New York City  |United States  |11373          |English               |Male      |NULL               |Single            |0                 |2019-06-05      |1953-03-25       |Dereon.Burns@ymail.com  |274-738-0158    |23      |2020    |9        |20209         |\n",
      "|436858583   |71          |10412.0        |NULL           |200509697   |15:00:00            |22:00:00          |NULL             |2020-10-17 15:24:43  |NULL         |USD               |28.0000         |NULL                |NULL                     |28.0000        |156193         |Dereon        |Burns        |New York City  |United States  |11373          |English               |Male      |NULL               |Single            |0                 |2019-06-05      |1953-03-25       |Dereon.Burns@ymail.com  |274-738-0158    |5       |2020    |10       |202010        |\n",
      "|436891183   |74          |15130.0        |NULL           |200509741   |15:00:00            |22:00:00          |NULL             |2020-10-22 16:10:38  |NULL         |USD               |137.0000        |NULL                |NULL                     |137.0000       |156193         |Dereon        |Burns        |New York City  |United States  |11373          |English               |Male      |NULL               |Single            |0                 |2019-06-05      |1953-03-25       |Dereon.Burns@ymail.com  |274-738-0158    |21      |2020    |10       |202010        |\n",
      "|437011350   |71          |2520.0         |NULL           |200509904   |08:00:00            |14:00:00          |NULL             |2020-11-12 09:52:39  |NULL         |USD               |12.0000         |NULL                |NULL                     |12.0000        |156193         |Dereon        |Burns        |New York City  |United States  |11373          |English               |Male      |NULL               |Single            |0                 |2019-06-05      |1953-03-25       |Dereon.Burns@ymail.com  |274-738-0158    |34      |2020    |11       |202011        |\n",
      "|437211657   |71          |2185.0         |NULL           |200510177   |15:00:00            |22:00:00          |NULL             |2020-12-16 17:41:42  |NULL         |USD               |90.0000         |NULL                |NULL                     |90.0000        |156193         |Dereon        |Burns        |New York City  |United States  |11373          |English               |Male      |NULL               |Single            |0                 |2019-06-05      |1953-03-25       |Dereon.Burns@ymail.com  |274-738-0158    |32      |2020    |12       |202012        |\n",
      "|437477105   |73          |12057.0        |NULL           |200510536   |08:30:00            |14:30:00          |NULL             |2021-01-17 09:19:38  |NULL         |USD               |11.0000         |NULL                |NULL                     |11.0000        |156193         |Dereon        |Burns        |New York City  |United States  |11373          |English               |Male      |NULL               |Single            |0                 |2019-06-05      |1953-03-25       |Dereon.Burns@ymail.com  |274-738-0158    |14      |2021    |1        |20211         |\n",
      "------------------------------------------------------------------------------------------------------------------------------------------------------------------------------------------------------------------------------------------------------------------------------------------------------------------------------------------------------------------------------------------------------------------------------------------------------------------------------------------------------------------------------------------------------------------------------------------\n",
      "\n"
     ]
    }
   ],
   "source": [
    "orders_df = orders_df.with_column(\"YEAR\", F.year(\"ORDER_TS\"))\n",
    "orders_df = orders_df.with_column(\"MONTH\", F.month(\"ORDER_TS\"))\n",
    "orders_df = orders_df.with_column(\"YEAR_MONTH\", F.concat(F.col(\"YEAR\"), F.col(\"MONTH\")))\n",
    "orders_df.show()"
   ]
  },
  {
   "cell_type": "code",
   "execution_count": 77,
   "metadata": {},
   "outputs": [
    {
     "name": "stdout",
     "output_type": "stream",
     "text": [
      "-----------------------------------------\n",
      "|\"YEAR\"  |\"MONTH\"  |\"AVG(ORDER_TOTAL)\"  |\n",
      "-----------------------------------------\n",
      "|2020    |6        |40.9888317457       |\n",
      "|2020    |11       |41.9294751366       |\n",
      "|2021    |12       |41.1608334972       |\n",
      "|2020    |10       |42.0219420957       |\n",
      "|2020    |3        |40.9417636844       |\n",
      "|2022    |7        |40.2391587444       |\n",
      "|2020    |8        |41.4468220109       |\n",
      "|2021    |7        |41.4256084795       |\n",
      "|2021    |6        |41.1264010518       |\n",
      "|2019    |11       |37.8069190487       |\n",
      "-----------------------------------------\n",
      "\n",
      "-----------------------------------------\n",
      "|\"YEAR\"  |\"MONTH\"  |\"SUM(ORDER_TOTAL)\"  |\n",
      "-----------------------------------------\n",
      "|2020    |6        |9440465.7500        |\n",
      "|2021    |11       |18665928.2500       |\n",
      "|2020    |12       |13399496.0000       |\n",
      "|2019    |4        |712290.0000         |\n",
      "|2021    |12       |19045652.7500       |\n",
      "|2021    |3        |14137250.0000       |\n",
      "|2022    |7        |21768942.2500       |\n",
      "|2020    |5        |9389166.7500        |\n",
      "|2019    |2        |220793.5000         |\n",
      "|2020    |3        |7968823.0000        |\n",
      "-----------------------------------------\n",
      "\n",
      "---------------------------------------------------------\n",
      "|\"YEAR\"  |\"MONTH\"  |\"CITY\"         |\"SUM(ORDER_TOTAL)\"  |\n",
      "---------------------------------------------------------\n",
      "|2022    |2        |Nice           |599753.7500         |\n",
      "|2020    |9        |Barcelona      |224505.0000         |\n",
      "|2021    |3        |New York City  |536115.5000         |\n",
      "|2020    |1        |Nice           |186925.0000         |\n",
      "|2021    |7        |Nice           |450220.0000         |\n",
      "|2022    |4        |Nice           |646401.0000         |\n",
      "|2021    |2        |Nice           |346237.0000         |\n",
      "|2022    |5        |Nice           |609778.0000         |\n",
      "|2022    |1        |Krakow         |406484.0000         |\n",
      "|2022    |5        |Krakow         |427147.0000         |\n",
      "---------------------------------------------------------\n",
      "\n"
     ]
    }
   ],
   "source": [
    "AVG_SALES_YM = orders_df.groupBy(F.col(\"YEAR\"),F.col(\"MONTH\")).agg(F.avg('\"ORDER_TOTAL\"'))\n",
    "SUM_SALES_YM = orders_df.groupBy(F.col(\"YEAR\"),F.col(\"MONTH\")).agg(F.sum('\"ORDER_TOTAL\"'))\n",
    "SUM_SALES_YM_CITY = orders_df.groupBy(F.col(\"YEAR\"),F.col(\"MONTH\"), F.col(\"CITY\")).agg(F.sum('\"ORDER_TOTAL\"'))\n",
    "\n",
    "AVG_SALES_YM.show()\n",
    "SUM_SALES_YM.show()\n",
    "SUM_SALES_YM_CITY.show()"
   ]
  },
  {
   "cell_type": "code",
   "execution_count": 71,
   "metadata": {},
   "outputs": [
    {
     "name": "stdout",
     "output_type": "stream",
     "text": [
      "----------------------------------------------------------------------------------------------------------------------------------------------------------------------------------------------------------------------------------------------------------------------------------------------------------------------------------------------------------------------------------------------------------------------------------------------------------------------------------------------------------------------------------------------------------------------------------------------------\n",
      "|\"ORDER_ID\"  |\"TRUCK_ID\"  |\"LOCATION_ID\"  |\"DISCOUNT_ID\"  |\"SHIFT_ID\"  |\"SHIFT_START_TIME\"  |\"SHIFT_END_TIME\"  |\"ORDER_CHANNEL\"  |\"ORDER_TS\"           |\"SERVED_TS\"  |\"ORDER_CURRENCY\"  |\"ORDER_AMOUNT\"  |\"ORDER_TAX_AMOUNT\"  |\"ORDER_DISCOUNT_AMOUNT\"  |\"ORDER_TOTAL\"  |\"CUSTOMER_ID\"  |\"FIRST_NAME\"  |\"LAST_NAME\"  |\"CITY\"         |\"COUNTRY\"      |\"POSTAL_CODE\"  |\"PREFERRED_LANGUAGE\"  |\"GENDER\"  |\"FAVOURITE_BRAND\"  |\"MARITAL_STATUS\"  |\"CHILDREN_COUNT\"  |\"SIGN_UP_DATE\"  |\"BIRTHDAY_DATE\"  |\"E_MAIL\"                |\"PHONE_NUMBER\"  |\"DTNO\"  |\"YEAR\"  |\"MONTH\"  |\"YEAR_MONTH\"  |\"CHURN\"  |\n",
      "----------------------------------------------------------------------------------------------------------------------------------------------------------------------------------------------------------------------------------------------------------------------------------------------------------------------------------------------------------------------------------------------------------------------------------------------------------------------------------------------------------------------------------------------------------------------------------------------------\n",
      "|436041107   |73          |12058.0        |NULL           |200508580   |09:00:00            |15:00:00          |NULL             |2020-01-28 12:39:15  |NULL         |USD               |38.0000         |NULL                |NULL                     |38.0000        |156193         |Dereon        |Burns        |New York City  |United States  |11373          |English               |Male      |NULL               |Single            |0                 |2019-06-05      |1953-03-25       |Dereon.Burns@ymail.com  |274-738-0158    |75      |2020    |1        |20201         |1        |\n",
      "|436261022   |73          |11598.0        |NULL           |200508880   |08:30:00            |14:30:00          |NULL             |2020-04-12 12:02:34  |NULL         |USD               |91.0000         |NULL                |NULL                     |91.0000        |156193         |Dereon        |Burns        |New York City  |United States  |11373          |English               |Male      |NULL               |Single            |0                 |2019-06-05      |1953-03-25       |Dereon.Burns@ymail.com  |274-738-0158    |113     |2020    |4        |20204         |1        |\n",
      "|436592008   |73          |3717.0         |NULL           |200509332   |08:30:00            |14:30:00          |NULL             |2020-08-03 12:28:56  |NULL         |USD               |31.0000         |NULL                |NULL                     |31.0000        |156193         |Dereon        |Burns        |New York City  |United States  |11373          |English               |Male      |NULL               |Single            |0                 |2019-06-05      |1953-03-25       |Dereon.Burns@ymail.com  |274-738-0158    |50      |2020    |8        |20208         |1        |\n",
      "|436739574   |73          |3252.0         |NULL           |200509533   |15:00:00            |22:00:00          |NULL             |2020-09-22 19:33:47  |NULL         |USD               |61.0000         |NULL                |NULL                     |61.0000        |156193         |Dereon        |Burns        |New York City  |United States  |11373          |English               |Male      |NULL               |Single            |0                 |2019-06-05      |1953-03-25       |Dereon.Burns@ymail.com  |274-738-0158    |2       |2020    |9        |20209         |0        |\n",
      "|436744991   |73          |10409.0        |NULL           |200509541   |15:00:00            |22:00:00          |NULL             |2020-09-24 15:07:08  |NULL         |USD               |11.0000         |NULL                |NULL                     |11.0000        |156193         |Dereon        |Burns        |New York City  |United States  |11373          |English               |Male      |NULL               |Single            |0                 |2019-06-05      |1953-03-25       |Dereon.Burns@ymail.com  |274-738-0158    |23      |2020    |9        |20209         |1        |\n",
      "|436858583   |71          |10412.0        |NULL           |200509697   |15:00:00            |22:00:00          |NULL             |2020-10-17 15:24:43  |NULL         |USD               |28.0000         |NULL                |NULL                     |28.0000        |156193         |Dereon        |Burns        |New York City  |United States  |11373          |English               |Male      |NULL               |Single            |0                 |2019-06-05      |1953-03-25       |Dereon.Burns@ymail.com  |274-738-0158    |5       |2020    |10       |202010        |0        |\n",
      "|436891183   |74          |15130.0        |NULL           |200509741   |15:00:00            |22:00:00          |NULL             |2020-10-22 16:10:38  |NULL         |USD               |137.0000        |NULL                |NULL                     |137.0000       |156193         |Dereon        |Burns        |New York City  |United States  |11373          |English               |Male      |NULL               |Single            |0                 |2019-06-05      |1953-03-25       |Dereon.Burns@ymail.com  |274-738-0158    |21      |2020    |10       |202010        |1        |\n",
      "|437011350   |71          |2520.0         |NULL           |200509904   |08:00:00            |14:00:00          |NULL             |2020-11-12 09:52:39  |NULL         |USD               |12.0000         |NULL                |NULL                     |12.0000        |156193         |Dereon        |Burns        |New York City  |United States  |11373          |English               |Male      |NULL               |Single            |0                 |2019-06-05      |1953-03-25       |Dereon.Burns@ymail.com  |274-738-0158    |34      |2020    |11       |202011        |1        |\n",
      "|437211657   |71          |2185.0         |NULL           |200510177   |15:00:00            |22:00:00          |NULL             |2020-12-16 17:41:42  |NULL         |USD               |90.0000         |NULL                |NULL                     |90.0000        |156193         |Dereon        |Burns        |New York City  |United States  |11373          |English               |Male      |NULL               |Single            |0                 |2019-06-05      |1953-03-25       |Dereon.Burns@ymail.com  |274-738-0158    |32      |2020    |12       |202012        |1        |\n",
      "|437477105   |73          |12057.0        |NULL           |200510536   |08:30:00            |14:30:00          |NULL             |2021-01-17 09:19:38  |NULL         |USD               |11.0000         |NULL                |NULL                     |11.0000        |156193         |Dereon        |Burns        |New York City  |United States  |11373          |English               |Male      |NULL               |Single            |0                 |2019-06-05      |1953-03-25       |Dereon.Burns@ymail.com  |274-738-0158    |14      |2021    |1        |20211         |1        |\n",
      "----------------------------------------------------------------------------------------------------------------------------------------------------------------------------------------------------------------------------------------------------------------------------------------------------------------------------------------------------------------------------------------------------------------------------------------------------------------------------------------------------------------------------------------------------------------------------------------------------\n",
      "\n"
     ]
    }
   ],
   "source": [
    "churn_YN = orders_df.with_column(\"CHURN\", F.iff(F.col(\"DTNO\") > 9, \"1\", \"0\"))\n",
    "\n",
    "churn_YN.show()"
   ]
  },
  {
   "cell_type": "code",
   "execution_count": 79,
   "metadata": {},
   "outputs": [
    {
     "name": "stdout",
     "output_type": "stream",
     "text": [
      "------------------------------------------------------------------------------\n",
      "|\"DIVIDE(SUM(CHURN), COUNT(CHURN))\"  |\"YEAR\"  |\"MONTH\"  |\"SUM(ORDER_TOTAL)\"  |\n",
      "------------------------------------------------------------------------------\n",
      "|0.5310078032590082                  |2021    |11       |18665928.2500       |\n",
      "|0.643117106215968                   |2020    |12       |13399496.0000       |\n",
      "|0.9200656465704494                  |2019    |4        |712290.0000         |\n",
      "|0.4721981408124749                  |2022    |7        |21768942.2500       |\n",
      "|0.6558098792951859                  |2020    |10       |12856739.2500       |\n",
      "|0.719340519323051                   |2020    |3        |7968823.0000        |\n",
      "|0.6468843225061566                  |2020    |11       |12565341.2500       |\n",
      "|0.48861631553477597                 |2022    |5        |21085421.7500       |\n",
      "|0.7674219944249617                  |2019    |12       |3351061.5000        |\n",
      "|0.708448110985827                   |2020    |4        |8555776.5000        |\n",
      "------------------------------------------------------------------------------\n",
      "\n",
      "-------------------------------------------------------------------\n",
      "|\"YEAR\"  |\"MONTH\"  |\"CITY\"   |\"DIVIDE(SUM(CHURN), COUNT(CHURN))\"  |\n",
      "-------------------------------------------------------------------\n",
      "|2022    |6        |Krakow   |0.47039322221199004                 |\n",
      "|2022    |10       |Krakow   |0.29046987774340843                 |\n",
      "|2020    |2        |Nice     |0.8586897671900379                  |\n",
      "|2020    |4        |Tokyo    |0.7657971014492754                  |\n",
      "|2022    |6        |Toronto  |0.5173964810160074                  |\n",
      "|2022    |5        |Seattle  |0.5182021039209436                  |\n",
      "|2021    |10       |Paris    |0.591583779648049                   |\n",
      "|2022    |2        |Denver   |0.597781133066369                   |\n",
      "|2021    |9        |Madrid   |0.5201568770521707                  |\n",
      "|2022    |2        |Cairo    |0.46138364779874214                 |\n",
      "-------------------------------------------------------------------\n",
      "\n"
     ]
    }
   ],
   "source": [
    "churn_rate_YM = churn_YN.group_by(F.col(\"YEAR\"), F.col(\"MONTH\")).agg(F.sum(\"CHURN\")/F.count(\"CHURN\"))\n",
    "churn_rate_YM_CITY = churn_YN.group_by(F.col(\"YEAR\"), F.col(\"MONTH\"), F.col(\"CITY\")).agg(F.sum(\"CHURN\")/F.count(\"CHURN\"))\n",
    "\n",
    "churn_to_sales = churn_rate_YM.join(SUM_SALES_YM, (churn_rate_YM[\"YEAR\"] == SUM_SALES_YM[\"YEAR\"]) & (churn_rate_YM[\"MONTH\"] == SUM_SALES_YM[\"MONTH\"]), how=\"inner\")\n",
    "churn_to_sales_CITY = churn_rate_YM_CITY.join(SUM_SALES_YM, (churn_rate_YM_CITY[\"YEAR\"] == SUM_SALES_YM_CITY[\"YEAR\"]) & (churn_rate_YM_CITY[\"MONTH\"] == SUM_SALES_YM_CITY[\"MONTH\"]) & (churn_rate_YM_CITY[\"CITY\"] == SUM_SALES_YM_CITY[\"CITY\"]), how=\"inner\")\n",
    "\n",
    "churn_to_sales = remove_dup_join_col(churn_to_sales)\n",
    "#churn_rate_YM_CITY = remove_dup_join_col(churn_rate_YM_CITY)\n",
    "churn_to_sales.show()\n",
    "churn_rate_YM_CITY.show()"
   ]
  },
  {
   "cell_type": "code",
   "execution_count": 73,
   "metadata": {},
   "outputs": [
    {
     "name": "stdout",
     "output_type": "stream",
     "text": [
      "--------------------------------------------------------\n",
      "|\"YEAR\"  |\"MONTH\"  |\"CHURN_RATE\"        |\"SALES\"       |\n",
      "--------------------------------------------------------\n",
      "|2019    |1        |0.9816951850378034  |91308.5000    |\n",
      "|2019    |2        |0.9666611101850309  |220793.5000   |\n",
      "|2019    |3        |0.9417467398764585  |425460.0000   |\n",
      "|2019    |4        |0.9200656465704494  |712290.0000   |\n",
      "|2019    |5        |0.9008302747389801  |979719.5000   |\n",
      "|2019    |6        |0.8789374410562716  |1109682.0000  |\n",
      "|2019    |7        |0.8436551305403764  |1690853.5000  |\n",
      "|2019    |8        |0.8197562776957164  |2024942.0000  |\n",
      "|2019    |9        |0.7965229761471532  |2217703.0000  |\n",
      "|2019    |10       |0.7886291932264503  |2920658.0000  |\n",
      "--------------------------------------------------------\n",
      "\n"
     ]
    }
   ],
   "source": [
    "churn_to_sales_push = churn_to_sales.select(\"YEAR\", \"MONTH\", \"DIVIDE(SUM(CHURN), COUNT(CHURN))\", \"SUM(ORDER_TOTAL)\")\n",
    "\n",
    "churn_to_sales_push = churn_to_sales_push.withColumnRenamed(\"DIVIDE(SUM(CHURN), COUNT(CHURN))\",\"CHURN_RATE\")\n",
    "churn_to_sales_push = churn_to_sales_push.withColumnRenamed(\"SUM(ORDER_TOTAL)\", \"SALES\")\n",
    "\n",
    "churn_to_sales_push = churn_to_sales_push.orderBy(\"YEAR\", \"MONTH\")\n",
    "\n",
    "churn_to_sales_push.show()"
   ]
  },
  {
   "cell_type": "code",
   "execution_count": 74,
   "metadata": {},
   "outputs": [],
   "source": [
    "churn_members = churn_YN.group_by(F.col(\"YEAR\"), F.col(\"MONTH\")).agg(F.count_distinct('CUSTOMER_ID'))\n",
    "\n",
    "churn_to_sales_push = churn_to_sales_push.join(churn_members, (churn_members[\"YEAR\"] == churn_to_sales_push[\"YEAR\"]) & (churn_members[\"MONTH\"] == churn_to_sales_push[\"MONTH\"]), how=\"inner\")\n",
    "\n",
    "churn_to_sales_push = remove_dup_join_col(churn_to_sales_push)\n",
    "churn_to_sales_push = churn_to_sales_push.withColumnRenamed(\"COUNT(DISTINCT CUSTOMER_ID)\", \"UNIQUE CUSTOMERS\")"
   ]
  },
  {
   "cell_type": "code",
   "execution_count": 76,
   "metadata": {},
   "outputs": [
    {
     "name": "stdout",
     "output_type": "stream",
     "text": [
      "-------------------------------------------------------------------------------\n",
      "|\"CHURN_RATE\"         |\"SALES\"        |\"YEAR\"  |\"MONTH\"  |\"UNIQUE CUSTOMERS\"  |\n",
      "-------------------------------------------------------------------------------\n",
      "|0.9417467398764585   |425460.0000    |2019    |3        |10646               |\n",
      "|0.6232935654835811   |12885215.0000  |2021    |2        |169706              |\n",
      "|0.5354679898770944   |19045652.7500  |2021    |12       |196441              |\n",
      "|0.7674219944249617   |3351061.5000   |2019    |12       |59888               |\n",
      "|0.7381182300259901   |7483766.5000   |2020    |1        |115492              |\n",
      "|0.5494402963315442   |17696358.0000  |2021    |9        |191733              |\n",
      "|0.4909473075021803   |19998291.5000  |2022    |4        |200791              |\n",
      "|0.48861631553477597  |21085421.7500  |2022    |5        |203256              |\n",
      "|0.9816951850378034   |91308.5000     |2019    |1        |2459                |\n",
      "|0.9666611101850309   |220793.5000    |2019    |2        |5729                |\n",
      "-------------------------------------------------------------------------------\n",
      "\n"
     ]
    }
   ],
   "source": [
    "churn_to_sales_push.show()"
   ]
  },
  {
   "cell_type": "code",
   "execution_count": 56,
   "metadata": {},
   "outputs": [],
   "source": [
    "churn_to_sales_push.write.save_as_table(table_name=\"churn_to_sales\", mode='overwrite')"
   ]
  },
  {
   "cell_type": "code",
   "execution_count": 57,
   "metadata": {},
   "outputs": [],
   "source": [
    "CTS = churn_to_sales_push.to_pandas()\n",
    "CTS.to_csv('CTS.csv', index=False)"
   ]
  },
  {
   "attachments": {},
   "cell_type": "markdown",
   "metadata": {},
   "source": [
    "## Collecting latest customer purchase information"
   ]
  },
  {
   "cell_type": "code",
   "execution_count": 19,
   "metadata": {},
   "outputs": [],
   "source": [
    "orders_head = session.table(\"FROSTBYTE_TASTY_BYTES.RAW_POS.ORDER_HEADER\")\n",
    "orders_detail = session.table(\"FROSTBYTE_TASTY_BYTES.RAW_POS.ORDER_DETAIL\")"
   ]
  },
  {
   "cell_type": "code",
   "execution_count": 20,
   "metadata": {},
   "outputs": [
    {
     "name": "stdout",
     "output_type": "stream",
     "text": [
      "-----------------------------------------------------------------------------------------------------------------------------------------------------------------------------------------------------------------------------------------------------------------------------------------\n",
      "|\"ORDER_ID\"  |\"TRUCK_ID\"  |\"LOCATION_ID\"  |\"CUSTOMER_ID\"  |\"DISCOUNT_ID\"  |\"SHIFT_ID\"  |\"SHIFT_START_TIME\"  |\"SHIFT_END_TIME\"  |\"ORDER_CHANNEL\"  |\"ORDER_TS\"           |\"SERVED_TS\"  |\"ORDER_CURRENCY\"  |\"ORDER_AMOUNT\"  |\"ORDER_TAX_AMOUNT\"  |\"ORDER_DISCOUNT_AMOUNT\"  |\"ORDER_TOTAL\"  |\n",
      "-----------------------------------------------------------------------------------------------------------------------------------------------------------------------------------------------------------------------------------------------------------------------------------------\n",
      "|14271673    |90          |2666.0         |NULL           |NULL           |63645       |15:30:00            |22:30:00          |NULL             |2021-05-25 16:53:13  |NULL         |USD               |11.0000         |NULL                |NULL                     |11.0000        |\n",
      "|14271674    |90          |2666.0         |59685          |NULL           |63645       |15:30:00            |22:30:00          |NULL             |2021-05-25 16:53:26  |NULL         |USD               |11.0000         |NULL                |NULL                     |11.0000        |\n",
      "|14271675    |90          |2666.0         |NULL           |NULL           |63645       |15:30:00            |22:30:00          |NULL             |2021-05-25 16:53:26  |NULL         |USD               |11.0000         |NULL                |NULL                     |11.0000        |\n",
      "|14271676    |90          |2666.0         |NULL           |NULL           |63645       |15:30:00            |22:30:00          |NULL             |2021-05-25 16:53:29  |NULL         |USD               |57.0000         |NULL                |NULL                     |57.0000        |\n",
      "|14271677    |90          |2666.0         |NULL           |NULL           |63645       |15:30:00            |22:30:00          |NULL             |2021-05-25 16:53:49  |NULL         |USD               |24.0000         |NULL                |NULL                     |24.0000        |\n",
      "|14271678    |90          |2666.0         |NULL           |NULL           |63645       |15:30:00            |22:30:00          |NULL             |2021-05-25 16:54:11  |NULL         |USD               |33.0000         |NULL                |NULL                     |33.0000        |\n",
      "|14271679    |90          |2666.0         |NULL           |NULL           |63645       |15:30:00            |22:30:00          |NULL             |2021-05-25 16:54:25  |NULL         |USD               |71.0000         |NULL                |NULL                     |71.0000        |\n",
      "|14271680    |90          |2666.0         |NULL           |NULL           |63645       |15:30:00            |22:30:00          |NULL             |2021-05-25 16:54:57  |NULL         |USD               |33.0000         |NULL                |NULL                     |33.0000        |\n",
      "|14271681    |90          |2666.0         |NULL           |NULL           |63645       |15:30:00            |22:30:00          |NULL             |2021-05-25 16:55:00  |NULL         |USD               |39.0000         |NULL                |NULL                     |39.0000        |\n",
      "|14271682    |90          |2666.0         |NULL           |NULL           |63645       |15:30:00            |22:30:00          |NULL             |2021-05-25 16:55:03  |NULL         |USD               |69.0000         |NULL                |NULL                     |69.0000        |\n",
      "-----------------------------------------------------------------------------------------------------------------------------------------------------------------------------------------------------------------------------------------------------------------------------------------\n",
      "\n"
     ]
    }
   ],
   "source": [
    "orders_head.show()"
   ]
  },
  {
   "cell_type": "code",
   "execution_count": 21,
   "metadata": {},
   "outputs": [
    {
     "name": "stdout",
     "output_type": "stream",
     "text": [
      "--------------------------------------------------------------------------------------------------------------------------------------------------------\n",
      "|\"ORDER_DETAIL_ID\"  |\"ORDER_ID\"  |\"MENU_ITEM_ID\"  |\"DISCOUNT_ID\"  |\"LINE_NUMBER\"  |\"QUANTITY\"  |\"UNIT_PRICE\"  |\"PRICE\"  |\"ORDER_ITEM_DISCOUNT_AMOUNT\"  |\n",
      "--------------------------------------------------------------------------------------------------------------------------------------------------------\n",
      "|757380337          |405331986   |113             |NULL           |1              |2           |14.0000       |28.0000  |NULL                          |\n",
      "|757380338          |405331987   |112             |NULL           |0              |1           |12.0000       |12.0000  |NULL                          |\n",
      "|757380339          |405331987   |113             |NULL           |1              |3           |14.0000       |42.0000  |NULL                          |\n",
      "|757380340          |405331987   |111             |NULL           |2              |3           |12.0000       |36.0000  |NULL                          |\n",
      "|757380341          |405331988   |112             |NULL           |0              |2           |12.0000       |24.0000  |NULL                          |\n",
      "|757380342          |405331988   |114             |NULL           |1              |1           |2.0000        |2.0000   |NULL                          |\n",
      "|757380343          |405331988   |111             |NULL           |2              |1           |12.0000       |12.0000  |NULL                          |\n",
      "|757380344          |405331989   |112             |NULL           |0              |1           |12.0000       |12.0000  |NULL                          |\n",
      "|757380345          |405331989   |111             |NULL           |1              |1           |12.0000       |12.0000  |NULL                          |\n",
      "|757380346          |405331990   |112             |NULL           |0              |3           |12.0000       |36.0000  |NULL                          |\n",
      "--------------------------------------------------------------------------------------------------------------------------------------------------------\n",
      "\n"
     ]
    }
   ],
   "source": [
    "orders_detail.show()"
   ]
  },
  {
   "cell_type": "code",
   "execution_count": 22,
   "metadata": {},
   "outputs": [
    {
     "name": "stdout",
     "output_type": "stream",
     "text": [
      "-----------------------------------------------------------------------------------------------------------------------------------------------------------------------------------------------------------------------------------------------------------------------------------------\n",
      "|\"ORDER_ID\"  |\"TRUCK_ID\"  |\"LOCATION_ID\"  |\"CUSTOMER_ID\"  |\"DISCOUNT_ID\"  |\"SHIFT_ID\"  |\"SHIFT_START_TIME\"  |\"SHIFT_END_TIME\"  |\"ORDER_CHANNEL\"  |\"ORDER_TS\"           |\"SERVED_TS\"  |\"ORDER_CURRENCY\"  |\"ORDER_AMOUNT\"  |\"ORDER_TAX_AMOUNT\"  |\"ORDER_DISCOUNT_AMOUNT\"  |\"ORDER_TOTAL\"  |\n",
      "-----------------------------------------------------------------------------------------------------------------------------------------------------------------------------------------------------------------------------------------------------------------------------------------\n",
      "|48142719    |161         |8353.0         |96760          |NULL           |149789      |15:00:00            |22:00:00          |NULL             |2021-10-11 15:35:15  |NULL         |USD               |41.0000         |NULL                |NULL                     |41.0000        |\n",
      "|48142730    |161         |8353.0         |134606         |NULL           |149789      |15:00:00            |22:00:00          |NULL             |2021-10-11 15:46:52  |NULL         |USD               |48.0000         |NULL                |NULL                     |48.0000        |\n",
      "|48142856    |161         |8353.0         |167701         |NULL           |149789      |15:00:00            |22:00:00          |NULL             |2021-10-11 17:50:41  |NULL         |USD               |26.0000         |NULL                |NULL                     |26.0000        |\n",
      "|48142887    |161         |8353.0         |122973         |NULL           |149789      |15:00:00            |22:00:00          |NULL             |2021-10-11 18:12:10  |NULL         |USD               |93.0000         |NULL                |NULL                     |93.0000        |\n",
      "|48142889    |161         |8353.0         |196279         |NULL           |149789      |15:00:00            |22:00:00          |NULL             |2021-10-11 18:12:33  |NULL         |USD               |74.0000         |NULL                |NULL                     |74.0000        |\n",
      "|48142907    |161         |8353.0         |134284         |NULL           |149789      |15:00:00            |22:00:00          |NULL             |2021-10-11 18:22:30  |NULL         |USD               |12.0000         |NULL                |NULL                     |12.0000        |\n",
      "|48142947    |161         |8353.0         |191096         |NULL           |149789      |15:00:00            |22:00:00          |NULL             |2021-10-11 18:42:10  |NULL         |USD               |76.0000         |NULL                |NULL                     |76.0000        |\n",
      "|424632656   |450         |10047.0        |214002         |NULL           |200492436   |08:00:00            |14:00:00          |NULL             |2020-11-13 09:35:45  |NULL         |USD               |73.0000         |NULL                |NULL                     |73.0000        |\n",
      "|424632668   |450         |10047.0        |214207         |NULL           |200492436   |08:00:00            |14:00:00          |NULL             |2020-11-13 09:39:20  |NULL         |USD               |33.0000         |NULL                |NULL                     |33.0000        |\n",
      "|424632671   |450         |10047.0        |14596          |NULL           |200492436   |08:00:00            |14:00:00          |NULL             |2020-11-13 09:39:51  |NULL         |USD               |11.0000         |NULL                |NULL                     |11.0000        |\n",
      "-----------------------------------------------------------------------------------------------------------------------------------------------------------------------------------------------------------------------------------------------------------------------------------------\n",
      "\n"
     ]
    }
   ],
   "source": [
    "orders_head = orders_head.na.drop(subset=[\"CUSTOMER_ID\"])\n",
    "\n",
    "orders_head.show()"
   ]
  },
  {
   "cell_type": "code",
   "execution_count": 23,
   "metadata": {},
   "outputs": [],
   "source": [
    "# called `orders` with columns `customer_id` and `order_ts`\n",
    "window_spec = Window.partitionBy('customer_id').orderBy(F.col('order_ts').desc())\n",
    "\n",
    "orders_with_rank = orders_head.withColumn('rank', F.rank().over(window_spec))\n",
    "\n",
    "# Get max order of each customer\n",
    "max_order_ts = orders_with_rank.filter(F.col('rank') == 1).select('customer_id', 'order_ts')"
   ]
  },
  {
   "cell_type": "code",
   "execution_count": 24,
   "metadata": {},
   "outputs": [],
   "source": [
    "# Rename columns\n",
    "max_order_ts = max_order_ts.withColumnRenamed('ORDER_TS','Max_Order_TS')"
   ]
  },
  {
   "cell_type": "code",
   "execution_count": 25,
   "metadata": {},
   "outputs": [],
   "source": [
    "# Merge with second max order dataframe\n",
    "max_Order=orders_head.join(right=max_order_ts,on='CUSTOMER_ID',how='inner')\n",
    "\n",
    "#Filter for\n",
    "filtered_df = max_Order.filter(F.col('ORDER_TS') == F.col('Max_Order_TS'))"
   ]
  },
  {
   "cell_type": "code",
   "execution_count": 26,
   "metadata": {},
   "outputs": [
    {
     "name": "stdout",
     "output_type": "stream",
     "text": [
      "---------------------------------------------------------------------------------------------------------------------------------------------------------------------------------------------------------------------------------------------------------------------------------------------------------------\n",
      "|\"CUSTOMER_ID\"  |\"ORDER_ID\"  |\"TRUCK_ID\"  |\"LOCATION_ID\"  |\"DISCOUNT_ID\"  |\"SHIFT_ID\"  |\"SHIFT_START_TIME\"  |\"SHIFT_END_TIME\"  |\"ORDER_CHANNEL\"  |\"ORDER_TS\"           |\"SERVED_TS\"  |\"ORDER_CURRENCY\"  |\"ORDER_AMOUNT\"  |\"ORDER_TAX_AMOUNT\"  |\"ORDER_DISCOUNT_AMOUNT\"  |\"ORDER_TOTAL\"  |\"MAX_ORDER_TS\"       |\n",
      "---------------------------------------------------------------------------------------------------------------------------------------------------------------------------------------------------------------------------------------------------------------------------------------------------------------\n",
      "|193920         |129941626   |272         |7643.0         |NULL           |296484      |09:00:00            |15:00:00          |NULL             |2022-07-18 11:28:37  |NULL         |USD               |70.0000         |NULL                |NULL                     |70.0000        |2022-07-18 11:28:37  |\n",
      "|65020          |31933504    |113         |8462.0         |NULL           |112268      |08:30:00            |14:30:00          |NULL             |2022-08-26 13:19:11  |NULL         |USD               |53.0000         |NULL                |NULL                     |53.0000        |2022-08-26 13:19:11  |\n",
      "|109187         |31933641    |113         |1853.0         |NULL           |112269      |15:30:00            |22:30:00          |NULL             |2022-08-26 17:04:59  |NULL         |USD               |49.0000         |NULL                |NULL                     |49.0000        |2022-08-26 17:04:59  |\n",
      "|121570         |31941826    |107         |5368.0         |NULL           |112287      |16:00:00            |23:00:00          |NULL             |2022-08-27 16:31:13  |NULL         |USD               |15.0000         |NULL                |NULL                     |15.0000        |2022-08-27 16:31:13  |\n",
      "|28287          |459271526   |56          |2227.0         |NULL           |200581918   |08:00:00            |14:00:00          |NULL             |2022-09-17 09:05:22  |NULL         |USD               |52.0000         |NULL                |NULL                     |52.0000        |2022-09-17 09:05:22  |\n",
      "|41355          |459271579   |56          |2227.0         |NULL           |200581918   |08:00:00            |14:00:00          |NULL             |2022-09-17 11:01:00  |NULL         |USD               |26.0000         |NULL                |NULL                     |26.0000        |2022-09-17 11:01:00  |\n",
      "|118360         |459271648   |56          |2227.0         |NULL           |200581918   |08:00:00            |14:00:00          |NULL             |2022-09-17 12:43:32  |NULL         |USD               |40.0000         |NULL                |NULL                     |40.0000        |2022-09-17 12:43:32  |\n",
      "|210024         |384159022   |355         |8197.0         |NULL           |200400307   |15:00:00            |22:00:00          |NULL             |2022-09-01 19:38:10  |NULL         |USD               |10.0000         |NULL                |NULL                     |10.0000        |2022-09-01 19:38:10  |\n",
      "|98836          |459271810   |56          |15332.0        |NULL           |200581919   |15:00:00            |22:00:00          |NULL             |2022-09-17 19:06:56  |NULL         |USD               |124.0000        |NULL                |NULL                     |124.0000       |2022-09-17 19:06:56  |\n",
      "|215955         |384167398   |346         |10251.0        |NULL           |200400319   |15:00:00            |22:00:00          |NULL             |2022-09-02 20:27:36  |NULL         |USD               |49.5000         |NULL                |NULL                     |49.5000        |2022-09-02 20:27:36  |\n",
      "---------------------------------------------------------------------------------------------------------------------------------------------------------------------------------------------------------------------------------------------------------------------------------------------------------------\n",
      "\n"
     ]
    }
   ],
   "source": [
    "filtered_df.show()"
   ]
  },
  {
   "cell_type": "code",
   "execution_count": 27,
   "metadata": {},
   "outputs": [
    {
     "name": "stdout",
     "output_type": "stream",
     "text": [
      "------------------------------------------------------------------------------------------------------------------------------------------------------------------------------------------------------------------------------------------------------------------------------------------------------------------------------------------------------------------------------------------------------------------------------------------------------------------------------------------------------------------------------------------------------------------------------\n",
      "|\"CUSTOMER_ID\"  |\"ORDER_ID\"  |\"TRUCK_ID\"  |\"LOCATION_ID\"  |\"DISCOUNT_ID\"  |\"SHIFT_ID\"  |\"SHIFT_START_TIME\"  |\"SHIFT_END_TIME\"  |\"ORDER_CHANNEL\"  |\"ORDER_TS\"           |\"SERVED_TS\"  |\"ORDER_CURRENCY\"  |\"ORDER_AMOUNT\"  |\"ORDER_TAX_AMOUNT\"  |\"ORDER_DISCOUNT_AMOUNT\"  |\"ORDER_TOTAL\"  |\"MAX_ORDER_TS\"       |\"FIRST_NAME\"  |\"LAST_NAME\"  |\"CITY\"     |\"COUNTRY\"      |\"POSTAL_CODE\"  |\"PREFERRED_LANGUAGE\"  |\"GENDER\"  |\"FAVOURITE_BRAND\"  |\"MARITAL_STATUS\"  |\"CHILDREN_COUNT\"  |\"SIGN_UP_DATE\"  |\"BIRTHDAY_DATE\"  |\"E_MAIL\"                             |\"PHONE_NUMBER\"  |\n",
      "------------------------------------------------------------------------------------------------------------------------------------------------------------------------------------------------------------------------------------------------------------------------------------------------------------------------------------------------------------------------------------------------------------------------------------------------------------------------------------------------------------------------------------------------------------------------------\n",
      "|190564         |92872881    |239         |6010.0         |NULL           |245872      |08:00:00            |14:00:00          |NULL             |2022-10-31 12:30:36  |NULL         |USD               |59.0000         |NULL                |NULL                     |59.0000        |2022-10-31 12:30:36  |Arturo        |Hays         |Delhi      |India          |110044         |Hindi                 |Male      |NULL               |Single            |0                 |2022-06-09      |1967-09-02       |Arturo.Hays@aol.com                  |244-678-8903    |\n",
      "|98631          |131322514   |280         |7718.0         |NULL           |298421      |15:30:00            |22:30:00          |NULL             |2022-09-20 18:59:57  |NULL         |USD               |50.0000         |NULL                |NULL                     |50.0000        |2022-09-20 18:59:57  |Micah         |Reilly       |Sydney     |Australia      |2055           |English               |Male      |NULL               |Married           |2                 |2021-12-18      |1948-05-20       |Micah.Reilly@ymail.com               |512-115-5988    |\n",
      "|11001          |32653086    |107         |2906.0         |NULL           |113817      |15:00:00            |22:00:00          |NULL             |2022-10-17 16:02:49  |NULL         |USD               |87.0000         |NULL                |NULL                     |87.0000        |2022-10-17 16:02:49  |Lindsey       |Brewer       |Montreal   |Canada         |H2J 3E3        |English               |Female    |NULL               |Single            |0                 |2021-05-09      |1988-03-23       |Lindsey.Brewer@hotmail.com           |557-691-0448    |\n",
      "|200163         |356640143   |308         |6958.0         |NULL           |200353718   |08:00:00            |14:00:00          |NULL             |2022-10-23 10:20:03  |NULL         |USD               |80.0000         |NULL                |NULL                     |80.0000        |2022-10-23 10:20:03  |Darryl        |Beard        |Sao Paulo  |Brazil         |NULL           |Portuguese            |Female    |NULL               |Married           |1                 |2019-05-21      |1975-02-25       |**~MASKED~**.**~MASKED~**@gmail.com  |111-111-1111    |\n",
      "|12241          |392603407   |366         |10766.0        |NULL           |200417626   |08:00:00            |14:00:00          |NULL             |2022-10-30 10:58:24  |NULL         |USD               |16.0000         |NULL                |NULL                     |16.0000        |2022-10-30 10:58:24  |Dustin        |Horne        |Hamburg    |Germany        |21129          |German                |Male      |NULL               |Married           |1                 |2022-03-06      |1951-01-18       |Dustin.Horne@ymail.com               |746-752-7507    |\n",
      "|174428         |104194169   |254         |11610.0        |NULL           |261106      |08:30:00            |14:30:00          |NULL             |2022-10-08 12:42:51  |NULL         |USD               |130.0000        |NULL                |NULL                     |130.0000       |2022-10-08 12:42:51  |Shaun         |Ali          |Tokyo      |Japan          |176-0000       |Japanese              |Male      |NULL               |Married           |0                 |2019-05-27      |1980-05-13       |Shaun.Ali@hotmail.com                |451-931-7809    |\n",
      "|20265          |22005099    |81          |1986.0         |NULL           |76368       |08:00:00            |14:00:00          |NULL             |2022-10-28 12:47:17  |NULL         |USD               |18.0000         |NULL                |NULL                     |18.0000        |2022-10-28 12:47:17  |Enrique       |Kelly        |Toronto    |Canada         |M4C 1V6        |English               |Male      |NULL               |Single            |0                 |2021-03-31      |1989-06-17       |Enrique.Kelly@gmail.com              |203-831-0609    |\n",
      "|76311          |452697397   |18          |1035.0         |NULL           |200546701   |15:00:00            |22:00:00          |NULL             |2022-10-26 19:54:22  |NULL         |USD               |34.0000         |NULL                |NULL                     |34.0000        |2022-10-26 19:54:22  |Octavio       |Sharp        |Denver     |United States  |80257          |English               |Male      |NULL               |Single            |0                 |2020-09-22      |1976-05-13       |Octavio.Sharp@hotmail.com            |235-395-8399    |\n",
      "|141486         |343529441   |6           |4044.0         |NULL           |200335838   |08:00:00            |14:00:00          |NULL             |2022-10-25 08:20:07  |NULL         |USD               |20.0000         |NULL                |NULL                     |20.0000        |2022-10-25 08:20:07  |Erica         |Tran         |San Mateo  |United States  |94404          |English               |Female    |NULL               |Married           |4                 |2019-01-05      |1968-07-23       |Erica.Tran@aol.com                   |200-891-8379    |\n",
      "|92741          |25924689    |91          |3526.0         |NULL           |98556       |08:00:00            |14:00:00          |NULL             |2022-10-27 11:57:48  |NULL         |USD               |7.0000          |NULL                |NULL                     |7.0000         |2022-10-27 11:57:48  |Maxim         |Mcguire      |Vancouver  |Canada         |V5K 2E6        |English               |Female    |NULL               |Single            |2                 |2020-04-11      |1955-08-20       |Maxim.Mcguire@ymail.com              |926-484-2914    |\n",
      "------------------------------------------------------------------------------------------------------------------------------------------------------------------------------------------------------------------------------------------------------------------------------------------------------------------------------------------------------------------------------------------------------------------------------------------------------------------------------------------------------------------------------------------------------------------------------\n",
      "\n"
     ]
    }
   ],
   "source": [
    "filter_customer = filtered_df.join(CUSTOMERS, on='CUSTOMER_ID', how='left')\n",
    "\n",
    "filter_customer.show()"
   ]
  },
  {
   "cell_type": "code",
   "execution_count": 28,
   "metadata": {},
   "outputs": [
    {
     "name": "stdout",
     "output_type": "stream",
     "text": [
      "----------------------------------------------------------------------------------------------------------------------------------------------------------------------------------------------------------------------------------------------------------------------------------------------------------------------------------------------------------------------------------------------------------------------------------------------------------------------------------------------------------------------------------------------------------------------------\n",
      "|\"CUSTOMER_ID\"  |\"ORDER_ID\"  |\"TRUCK_ID\"  |\"LOCATION_ID\"  |\"DISCOUNT_ID\"  |\"SHIFT_ID\"  |\"SHIFT_START_TIME\"  |\"SHIFT_END_TIME\"  |\"ORDER_CHANNEL\"  |\"ORDER_TS\"           |\"SERVED_TS\"  |\"ORDER_CURRENCY\"  |\"ORDER_AMOUNT\"  |\"ORDER_TAX_AMOUNT\"  |\"ORDER_DISCOUNT_AMOUNT\"  |\"ORDER_TOTAL\"  |\"MAX_ORDER_TS\"       |\"FIRST_NAME\"  |\"LAST_NAME\"  |\"CITY\"         |\"COUNTRY\"      |\"POSTAL_CODE\"  |\"PREFERRED_LANGUAGE\"  |\"GENDER\"     |\"FAVOURITE_BRAND\"  |\"MARITAL_STATUS\"  |\"CHILDREN_COUNT\"  |\"SIGN_UP_DATE\"  |\"BIRTHDAY_DATE\"  |\"E_MAIL\"                    |\"PHONE_NUMBER\"  |\n",
      "----------------------------------------------------------------------------------------------------------------------------------------------------------------------------------------------------------------------------------------------------------------------------------------------------------------------------------------------------------------------------------------------------------------------------------------------------------------------------------------------------------------------------------------------------------------------------\n",
      "|85316          |448547505   |71          |15124.0        |NULL           |200525514   |08:30:00            |14:30:00          |NULL             |2022-10-27 09:13:04  |NULL         |USD               |60.0000         |NULL                |NULL                     |60.0000        |2022-10-27 09:13:04  |Jesse         |Ruiz         |New York City  |United States  |11373          |English               |Female       |NULL               |Married           |2                 |2021-11-26      |1962-09-23       |Jesse.Ruiz@aol.com          |515-988-2908    |\n",
      "|171046         |456268261   |35          |2420.0         |NULL           |200565105   |15:00:00            |22:00:00          |NULL             |2022-10-24 18:32:35  |NULL         |USD               |17.2500         |NULL                |NULL                     |17.2500        |2022-10-24 18:32:35  |Harper        |Long         |Seattle        |United States  |98185          |English               |Female       |NULL               |Single            |0                 |2020-08-15      |1975-01-08       |Harper.Long@hotmail.com     |621-557-8206    |\n",
      "|122745         |448489141   |61          |15144.0        |NULL           |200525434   |08:00:00            |14:00:00          |NULL             |2022-10-25 11:58:57  |NULL         |USD               |33.0000         |NULL                |NULL                     |33.0000        |2022-10-25 11:58:57  |Makayla       |Beasley      |New York City  |United States  |11368          |English               |Female       |NULL               |Married           |2                 |2021-01-26      |1961-01-08       |Makayla.Beasley@aol.com     |884-562-9363    |\n",
      "|63114          |459501369   |57          |15359.0        |NULL           |200583150   |08:30:00            |14:30:00          |NULL             |2022-10-28 09:43:14  |NULL         |USD               |47.0000         |NULL                |NULL                     |47.0000        |2022-10-28 09:43:14  |Tristian      |Harper       |Boston         |United States  |2136           |English               |Undisclosed  |NULL               |Married           |2                 |2020-10-14      |1989-06-27       |Tristian.Harper@gmail.com   |928-400-4689    |\n",
      "|53148          |459509413   |59          |15430.0        |NULL           |200583185   |16:00:00            |23:00:00          |NULL             |2022-10-29 22:41:29  |NULL         |USD               |101.0000        |NULL                |NULL                     |101.0000       |2022-10-29 22:41:29  |Lane          |Dodson       |Boston         |United States  |2134           |English               |Male         |NULL               |Married           |2                 |2020-10-21      |1980-12-29       |Lane.Dodson@hotmail.com     |256-030-3485    |\n",
      "|118449         |448607658   |66          |3274.0         |NULL           |200525594   |08:30:00            |14:30:00          |NULL             |2022-10-30 12:09:47  |NULL         |USD               |37.0000         |NULL                |NULL                     |37.0000        |2022-10-30 12:09:47  |Kennedi       |Palmer       |New York City  |United States  |11368          |English               |Female       |NULL               |Single            |0                 |2021-09-12      |1993-03-26       |Kennedi.Palmer@gmail.com    |888-902-0469    |\n",
      "|96094          |448194022   |71          |2821.0         |NULL           |200525035   |15:00:00            |22:00:00          |NULL             |2022-10-11 19:48:06  |NULL         |USD               |12.0000         |NULL                |NULL                     |12.0000        |2022-10-11 19:48:06  |Madelyn       |Valdez       |New York City  |United States  |11236          |English               |Female       |NULL               |Single            |0                 |2021-06-21      |1948-04-08       |Madelyn.Valdez@ymail.com    |457-796-3645    |\n",
      "|41572          |459468652   |54          |3731.0         |NULL           |200582965   |15:00:00            |22:00:00          |NULL             |2022-10-22 21:31:54  |NULL         |USD               |92.0000         |NULL                |NULL                     |92.0000        |2022-10-22 21:31:54  |Raymond       |Mcdaniel     |Boston         |United States  |2136           |English               |Male         |NULL               |Single            |0                 |2020-01-01      |1953-04-05       |Raymond.Mcdaniel@ymail.com  |580-210-7223    |\n",
      "|194470         |343533931   |4           |2655.0         |NULL           |200335985   |16:00:00            |23:00:00          |NULL             |2022-10-30 19:58:10  |NULL         |USD               |50.0000         |NULL                |NULL                     |50.0000        |2022-10-30 19:58:10  |Brady         |Cook         |San Mateo      |United States  |94402          |English               |Undisclosed  |NULL               |Single            |0                 |2019-05-01      |1953-06-09       |Brady.Cook@ymail.com        |207-799-9395    |\n",
      "|16146          |343497103   |12          |1723.0         |NULL           |200334710   |09:00:00            |15:00:00          |NULL             |2022-09-17 09:09:49  |NULL         |USD               |32.0000         |NULL                |NULL                     |32.0000        |2022-09-17 09:09:49  |Kane          |Webb         |San Mateo      |United States  |94403          |English               |Undisclosed  |NULL               |Single            |0                 |2022-03-03      |1964-10-17       |Kane.Webb@aol.com           |249-140-4232    |\n",
      "----------------------------------------------------------------------------------------------------------------------------------------------------------------------------------------------------------------------------------------------------------------------------------------------------------------------------------------------------------------------------------------------------------------------------------------------------------------------------------------------------------------------------------------------------------------------------\n",
      "\n"
     ]
    }
   ],
   "source": [
    "filter_customer_USA = filter_customer.where(filter_customer.COUNTRY == 'United States')\n",
    "\n",
    "filter_customer_USA.show()"
   ]
  },
  {
   "cell_type": "code",
   "execution_count": 31,
   "metadata": {},
   "outputs": [
    {
     "name": "stdout",
     "output_type": "stream",
     "text": [
      "---------------------------------------------------------------------------------------------------------------------------------------------------------------------------------------------------------------------------------------------------------------------------------------------------------------------------------------------------------------------------------------------------------------------------------------------------------------------------------------------------------------------------------------------------------------------------------------------------------------------------------------------------------------------------------------------------------------------------------\n",
      "|\"ORDER_ID\"  |\"CUSTOMER_ID\"  |\"TRUCK_ID\"  |\"LOCATION_ID\"  |\"l_2jge_DISCOUNT_ID\"  |\"SHIFT_ID\"  |\"SHIFT_START_TIME\"  |\"SHIFT_END_TIME\"  |\"ORDER_CHANNEL\"  |\"ORDER_TS\"           |\"SERVED_TS\"  |\"ORDER_CURRENCY\"  |\"ORDER_AMOUNT\"  |\"ORDER_TAX_AMOUNT\"  |\"ORDER_DISCOUNT_AMOUNT\"  |\"ORDER_TOTAL\"  |\"MAX_ORDER_TS\"       |\"FIRST_NAME\"  |\"LAST_NAME\"  |\"CITY\"         |\"COUNTRY\"      |\"POSTAL_CODE\"  |\"PREFERRED_LANGUAGE\"  |\"GENDER\"  |\"FAVOURITE_BRAND\"  |\"MARITAL_STATUS\"    |\"CHILDREN_COUNT\"  |\"SIGN_UP_DATE\"  |\"BIRTHDAY_DATE\"  |\"E_MAIL\"                  |\"PHONE_NUMBER\"  |\"ORDER_DETAIL_ID\"  |\"MENU_ITEM_ID\"  |\"r_y8mt_DISCOUNT_ID\"  |\"LINE_NUMBER\"  |\"QUANTITY\"  |\"UNIT_PRICE\"  |\"PRICE\"  |\"ORDER_ITEM_DISCOUNT_AMOUNT\"  |\n",
      "---------------------------------------------------------------------------------------------------------------------------------------------------------------------------------------------------------------------------------------------------------------------------------------------------------------------------------------------------------------------------------------------------------------------------------------------------------------------------------------------------------------------------------------------------------------------------------------------------------------------------------------------------------------------------------------------------------------------------------\n",
      "|448632556   |46069          |68          |9642.0         |NULL                  |200525628   |08:00:00            |14:00:00          |NULL             |2022-10-31 11:54:41  |NULL         |USD               |42.0000         |NULL                |NULL                     |42.0000        |2022-10-31 11:54:41  |Dominik       |Eaton        |New York City  |United States  |11208          |English               |Male      |NULL               |Divorced/Seperated  |4                 |2019-04-09      |1956-05-06       |Dominik.Eaton@aol.com     |457-267-6341    |874830851          |85              |NULL                  |2              |1           |3.0000        |3.0000   |NULL                          |\n",
      "|448632556   |46069          |68          |9642.0         |NULL                  |200525628   |08:00:00            |14:00:00          |NULL             |2022-10-31 11:54:41  |NULL         |USD               |42.0000         |NULL                |NULL                     |42.0000        |2022-10-31 11:54:41  |Dominik       |Eaton        |New York City  |United States  |11208          |English               |Male      |NULL               |Divorced/Seperated  |4                 |2019-04-09      |1956-05-06       |Dominik.Eaton@aol.com     |457-267-6341    |874830850          |83              |NULL                  |1              |3           |9.0000        |27.0000  |NULL                          |\n",
      "|448632556   |46069          |68          |9642.0         |NULL                  |200525628   |08:00:00            |14:00:00          |NULL             |2022-10-31 11:54:41  |NULL         |USD               |42.0000         |NULL                |NULL                     |42.0000        |2022-10-31 11:54:41  |Dominik       |Eaton        |New York City  |United States  |11208          |English               |Male      |NULL               |Divorced/Seperated  |4                 |2019-04-09      |1956-05-06       |Dominik.Eaton@aol.com     |457-267-6341    |874830849          |81              |NULL                  |0              |1           |12.0000       |12.0000  |NULL                          |\n",
      "|448632586   |148430         |68          |9642.0         |NULL                  |200525628   |08:00:00            |14:00:00          |NULL             |2022-10-31 12:14:06  |NULL         |USD               |24.0000         |NULL                |NULL                     |24.0000        |2022-10-31 12:14:06  |Aden          |Walters      |New York City  |United States  |11208          |English               |Female    |NULL               |Single              |0                 |2020-11-21      |1987-07-03       |Aden.Walters@hotmail.com  |322-721-2421    |874830926          |82              |NULL                  |0              |1           |15.0000       |15.0000  |NULL                          |\n",
      "|448632586   |148430         |68          |9642.0         |NULL                  |200525628   |08:00:00            |14:00:00          |NULL             |2022-10-31 12:14:06  |NULL         |USD               |24.0000         |NULL                |NULL                     |24.0000        |2022-10-31 12:14:06  |Aden          |Walters      |New York City  |United States  |11208          |English               |Female    |NULL               |Single              |0                 |2020-11-21      |1987-07-03       |Aden.Walters@hotmail.com  |322-721-2421    |874830927          |83              |NULL                  |1              |1           |9.0000        |9.0000   |NULL                          |\n",
      "|343409073   |169187         |14          |1801.0         |NULL                  |200331684   |08:30:00            |14:30:00          |NULL             |2022-06-08 09:28:28  |NULL         |USD               |33.0000         |NULL                |NULL                     |33.0000        |2022-06-08 09:28:28  |Kaeden        |Andrews      |San Mateo      |United States  |94404          |English               |Female    |NULL               |Married             |2                 |2022-04-11      |1942-09-22       |Kaeden.Andrews@ymail.com  |498-168-7915    |588287076          |142             |NULL                  |0              |1           |18.0000       |18.0000  |NULL                          |\n",
      "|343409073   |169187         |14          |1801.0         |NULL                  |200331684   |08:30:00            |14:30:00          |NULL             |2022-06-08 09:28:28  |NULL         |USD               |33.0000         |NULL                |NULL                     |33.0000        |2022-06-08 09:28:28  |Kaeden        |Andrews      |San Mateo      |United States  |94404          |English               |Female    |NULL               |Married             |2                 |2022-04-11      |1942-09-22       |Kaeden.Andrews@ymail.com  |498-168-7915    |588287077          |143             |NULL                  |1              |1           |15.0000       |15.0000  |NULL                          |\n",
      "|343420996   |7148           |5           |3092.0         |NULL                  |200332086   |08:00:00            |14:00:00          |NULL             |2022-06-22 09:37:40  |NULL         |USD               |53.7500         |NULL                |NULL                     |53.7500        |2022-06-22 09:37:40  |Laci          |Patterson    |San Mateo      |United States  |94402          |English               |Male      |NULL               |Single              |0                 |2020-05-30      |1959-11-24       |Laci.Patterson@aol.com    |485-877-0524    |588319272          |51              |NULL                  |0              |1           |17.2500       |17.2500  |NULL                          |\n",
      "|343420996   |7148           |5           |3092.0         |NULL                  |200332086   |08:00:00            |14:00:00          |NULL             |2022-06-22 09:37:40  |NULL         |USD               |53.7500         |NULL                |NULL                     |53.7500        |2022-06-22 09:37:40  |Laci          |Patterson    |San Mateo      |United States  |94402          |English               |Male      |NULL               |Single              |0                 |2020-05-30      |1959-11-24       |Laci.Patterson@aol.com    |485-877-0524    |588319273          |52              |NULL                  |1              |1           |17.2500       |17.2500  |NULL                          |\n",
      "|343420996   |7148           |5           |3092.0         |NULL                  |200332086   |08:00:00            |14:00:00          |NULL             |2022-06-22 09:37:40  |NULL         |USD               |53.7500         |NULL                |NULL                     |53.7500        |2022-06-22 09:37:40  |Laci          |Patterson    |San Mateo      |United States  |94402          |English               |Male      |NULL               |Single              |0                 |2020-05-30      |1959-11-24       |Laci.Patterson@aol.com    |485-877-0524    |588319274          |53              |NULL                  |2              |1           |17.2500       |17.2500  |NULL                          |\n",
      "---------------------------------------------------------------------------------------------------------------------------------------------------------------------------------------------------------------------------------------------------------------------------------------------------------------------------------------------------------------------------------------------------------------------------------------------------------------------------------------------------------------------------------------------------------------------------------------------------------------------------------------------------------------------------------------------------------------------------------\n",
      "\n"
     ]
    }
   ],
   "source": [
    "order_with_detail = filter_customer_USA.join(right=orders_detail,on='ORDER_ID',how='inner')\n",
    "\n",
    "order_with_detail.show()"
   ]
  },
  {
   "cell_type": "code",
   "execution_count": 32,
   "metadata": {},
   "outputs": [
    {
     "name": "stdout",
     "output_type": "stream",
     "text": [
      "---------------------------------------------------------------------------------------------------------------------------------------------------------------------------------------------------------------------------------------------------------------------------------------------------------------------------------------------------------------------------------------------------------------------------------------------------------------------------------------------------------------------------------------------------------------------------------------------------------------------------------------------------------------------------------------------------\n",
      "|\"ORDER_ID\"  |\"CUSTOMER_ID\"  |\"TRUCK_ID\"  |\"LOCATION_ID\"  |\"SHIFT_ID\"  |\"SHIFT_START_TIME\"  |\"SHIFT_END_TIME\"  |\"ORDER_CHANNEL\"  |\"ORDER_TS\"           |\"SERVED_TS\"  |\"ORDER_CURRENCY\"  |\"ORDER_AMOUNT\"  |\"ORDER_TAX_AMOUNT\"  |\"ORDER_DISCOUNT_AMOUNT\"  |\"ORDER_TOTAL\"  |\"MAX_ORDER_TS\"       |\"FIRST_NAME\"  |\"LAST_NAME\"  |\"CITY\"         |\"COUNTRY\"      |\"POSTAL_CODE\"  |\"PREFERRED_LANGUAGE\"  |\"GENDER\"  |\"FAVOURITE_BRAND\"  |\"MARITAL_STATUS\"    |\"CHILDREN_COUNT\"  |\"SIGN_UP_DATE\"  |\"BIRTHDAY_DATE\"  |\"E_MAIL\"                  |\"PHONE_NUMBER\"  |\"ORDER_DETAIL_ID\"  |\"MENU_ITEM_ID\"  |\"DISCOUNT_ID\"  |\"LINE_NUMBER\"  |\"QUANTITY\"  |\"UNIT_PRICE\"  |\"PRICE\"  |\"ORDER_ITEM_DISCOUNT_AMOUNT\"  |\n",
      "---------------------------------------------------------------------------------------------------------------------------------------------------------------------------------------------------------------------------------------------------------------------------------------------------------------------------------------------------------------------------------------------------------------------------------------------------------------------------------------------------------------------------------------------------------------------------------------------------------------------------------------------------------------------------------------------------\n",
      "|448632556   |46069          |68          |9642.0         |200525628   |08:00:00            |14:00:00          |NULL             |2022-10-31 11:54:41  |NULL         |USD               |42.0000         |NULL                |NULL                     |42.0000        |2022-10-31 11:54:41  |Dominik       |Eaton        |New York City  |United States  |11208          |English               |Male      |NULL               |Divorced/Seperated  |4                 |2019-04-09      |1956-05-06       |Dominik.Eaton@aol.com     |457-267-6341    |874830851          |85              |NULL           |2              |1           |3.0000        |3.0000   |NULL                          |\n",
      "|448632556   |46069          |68          |9642.0         |200525628   |08:00:00            |14:00:00          |NULL             |2022-10-31 11:54:41  |NULL         |USD               |42.0000         |NULL                |NULL                     |42.0000        |2022-10-31 11:54:41  |Dominik       |Eaton        |New York City  |United States  |11208          |English               |Male      |NULL               |Divorced/Seperated  |4                 |2019-04-09      |1956-05-06       |Dominik.Eaton@aol.com     |457-267-6341    |874830850          |83              |NULL           |1              |3           |9.0000        |27.0000  |NULL                          |\n",
      "|448632556   |46069          |68          |9642.0         |200525628   |08:00:00            |14:00:00          |NULL             |2022-10-31 11:54:41  |NULL         |USD               |42.0000         |NULL                |NULL                     |42.0000        |2022-10-31 11:54:41  |Dominik       |Eaton        |New York City  |United States  |11208          |English               |Male      |NULL               |Divorced/Seperated  |4                 |2019-04-09      |1956-05-06       |Dominik.Eaton@aol.com     |457-267-6341    |874830849          |81              |NULL           |0              |1           |12.0000       |12.0000  |NULL                          |\n",
      "|448632586   |148430         |68          |9642.0         |200525628   |08:00:00            |14:00:00          |NULL             |2022-10-31 12:14:06  |NULL         |USD               |24.0000         |NULL                |NULL                     |24.0000        |2022-10-31 12:14:06  |Aden          |Walters      |New York City  |United States  |11208          |English               |Female    |NULL               |Single              |0                 |2020-11-21      |1987-07-03       |Aden.Walters@hotmail.com  |322-721-2421    |874830926          |82              |NULL           |0              |1           |15.0000       |15.0000  |NULL                          |\n",
      "|448632586   |148430         |68          |9642.0         |200525628   |08:00:00            |14:00:00          |NULL             |2022-10-31 12:14:06  |NULL         |USD               |24.0000         |NULL                |NULL                     |24.0000        |2022-10-31 12:14:06  |Aden          |Walters      |New York City  |United States  |11208          |English               |Female    |NULL               |Single              |0                 |2020-11-21      |1987-07-03       |Aden.Walters@hotmail.com  |322-721-2421    |874830927          |83              |NULL           |1              |1           |9.0000        |9.0000   |NULL                          |\n",
      "|343409073   |169187         |14          |1801.0         |200331684   |08:30:00            |14:30:00          |NULL             |2022-06-08 09:28:28  |NULL         |USD               |33.0000         |NULL                |NULL                     |33.0000        |2022-06-08 09:28:28  |Kaeden        |Andrews      |San Mateo      |United States  |94404          |English               |Female    |NULL               |Married             |2                 |2022-04-11      |1942-09-22       |Kaeden.Andrews@ymail.com  |498-168-7915    |588287076          |142             |NULL           |0              |1           |18.0000       |18.0000  |NULL                          |\n",
      "|343409073   |169187         |14          |1801.0         |200331684   |08:30:00            |14:30:00          |NULL             |2022-06-08 09:28:28  |NULL         |USD               |33.0000         |NULL                |NULL                     |33.0000        |2022-06-08 09:28:28  |Kaeden        |Andrews      |San Mateo      |United States  |94404          |English               |Female    |NULL               |Married             |2                 |2022-04-11      |1942-09-22       |Kaeden.Andrews@ymail.com  |498-168-7915    |588287077          |143             |NULL           |1              |1           |15.0000       |15.0000  |NULL                          |\n",
      "|343420996   |7148           |5           |3092.0         |200332086   |08:00:00            |14:00:00          |NULL             |2022-06-22 09:37:40  |NULL         |USD               |53.7500         |NULL                |NULL                     |53.7500        |2022-06-22 09:37:40  |Laci          |Patterson    |San Mateo      |United States  |94402          |English               |Male      |NULL               |Single              |0                 |2020-05-30      |1959-11-24       |Laci.Patterson@aol.com    |485-877-0524    |588319272          |51              |NULL           |0              |1           |17.2500       |17.2500  |NULL                          |\n",
      "|343420996   |7148           |5           |3092.0         |200332086   |08:00:00            |14:00:00          |NULL             |2022-06-22 09:37:40  |NULL         |USD               |53.7500         |NULL                |NULL                     |53.7500        |2022-06-22 09:37:40  |Laci          |Patterson    |San Mateo      |United States  |94402          |English               |Male      |NULL               |Single              |0                 |2020-05-30      |1959-11-24       |Laci.Patterson@aol.com    |485-877-0524    |588319273          |52              |NULL           |1              |1           |17.2500       |17.2500  |NULL                          |\n",
      "|343420996   |7148           |5           |3092.0         |200332086   |08:00:00            |14:00:00          |NULL             |2022-06-22 09:37:40  |NULL         |USD               |53.7500         |NULL                |NULL                     |53.7500        |2022-06-22 09:37:40  |Laci          |Patterson    |San Mateo      |United States  |94402          |English               |Male      |NULL               |Single              |0                 |2020-05-30      |1959-11-24       |Laci.Patterson@aol.com    |485-877-0524    |588319274          |53              |NULL           |2              |1           |17.2500       |17.2500  |NULL                          |\n",
      "---------------------------------------------------------------------------------------------------------------------------------------------------------------------------------------------------------------------------------------------------------------------------------------------------------------------------------------------------------------------------------------------------------------------------------------------------------------------------------------------------------------------------------------------------------------------------------------------------------------------------------------------------------------------------------------------------\n",
      "\n"
     ]
    }
   ],
   "source": [
    "order_with_detail = remove_dup_join_col(order_with_detail)\n",
    "order_with_detail.show()"
   ]
  },
  {
   "cell_type": "code",
   "execution_count": 34,
   "metadata": {},
   "outputs": [
    {
     "data": {
      "text/plain": [
       "125999"
      ]
     },
     "execution_count": 34,
     "metadata": {},
     "output_type": "execute_result"
    }
   ],
   "source": [
    "order_with_detail.count()"
   ]
  },
  {
   "cell_type": "code",
   "execution_count": 35,
   "metadata": {},
   "outputs": [
    {
     "data": {
      "text/plain": [
       "46300"
      ]
     },
     "execution_count": 35,
     "metadata": {},
     "output_type": "execute_result"
    }
   ],
   "source": [
    "filter_customer_USA.count()"
   ]
  },
  {
   "cell_type": "code",
   "execution_count": 33,
   "metadata": {},
   "outputs": [],
   "source": [
    "order_with_detail.write.save_as_table(table_name=\"ORDER_DETAILS_USA_MATCHED\", mode='overwrite')\n",
    "filter_customer_USA.write.save_as_table(table_name=\"ORDER_HEAD_USA_MATCHED\", mode='overwrite')"
   ]
  }
 ],
 "metadata": {
  "kernelspec": {
   "display_name": "py38_env",
   "language": "python",
   "name": "python3"
  },
  "language_info": {
   "codemirror_mode": {
    "name": "ipython",
    "version": 3
   },
   "file_extension": ".py",
   "mimetype": "text/x-python",
   "name": "python",
   "nbconvert_exporter": "python",
   "pygments_lexer": "ipython3",
   "version": "3.8.16"
  },
  "orig_nbformat": 4
 },
 "nbformat": 4,
 "nbformat_minor": 2
}
