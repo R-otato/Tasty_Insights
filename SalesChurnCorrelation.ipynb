{
 "cells": [
  {
   "cell_type": "code",
   "execution_count": 1,
   "metadata": {},
   "outputs": [],
   "source": [
    "#Import Python packages\n",
    "import pandas as pd\n",
    "import json\n",
    "import matplotlib.pyplot as plt\n",
    "import seaborn as sns\n",
    "import json\n",
    "import datetime\n",
    "\n",
    "# Import Snowflake modules\n",
    "from snowflake.snowpark import Session\n",
    "import snowflake.snowpark.functions as F\n",
    "import snowflake.snowpark.types as T\n",
    "from snowflake.snowpark import Window"
   ]
  },
  {
   "cell_type": "code",
   "execution_count": 2,
   "metadata": {},
   "outputs": [],
   "source": [
    "# Get account credentials from a json file\n",
    "with open(\"data_scientist_auth.json\") as f:\n",
    "    data = json.load(f)\n",
    "    username = data[\"username\"]\n",
    "    password = data[\"password\"]\n",
    "    account = data[\"account\"]\n",
    "\n",
    "# Specify connection parameters\n",
    "connection_parameters = {\n",
    "    \"account\": account,\n",
    "    \"user\": username,\n",
    "    \"password\": password,\n",
    "    \"role\": \"TASTY_BI\",\n",
    "    \"warehouse\": \"TASTY_BI_WH\",\n",
    "    \"database\": \"frostbyte_tasty_bytes\",\n",
    "    \"schema\": \"analytics\",\n",
    "}\n",
    "\n",
    "# Create Snowpark session\n",
    "session = Session.builder.configs(connection_parameters).create()"
   ]
  },
  {
   "cell_type": "code",
   "execution_count": 14,
   "metadata": {},
   "outputs": [],
   "source": [
    "#Function to remove and rename columns after inner join\n",
    "def remove_dup_join_col(df):\n",
    "    # capitalise all columns\n",
    "    for col in df.columns:\n",
    "        df = df.withColumnRenamed(col, col.upper())\n",
    "    \n",
    "    # get list of renamable columns for left and right join\n",
    "    left_dup_col = [col_name for col_name in df.columns if col_name.startswith('L_')]\n",
    "    right_dup_col = [col_name for col_name in df.columns if col_name.startswith('R_')]\n",
    "    old_columns = df.columns\n",
    "    \n",
    "    # rename the list with the most number of renamable columns\n",
    "    # drop the list of columns with less number of renamable columns\n",
    "    if len(left_dup_col)>len(right_dup_col):\n",
    "        columns_rename=left_dup_col\n",
    "        df= df.drop(*right_dup_col)\n",
    "    else:\n",
    "        columns_rename=right_dup_col\n",
    "        df= df.drop(*left_dup_col)\n",
    "    \n",
    "    for old_column in old_columns:\n",
    "        if old_column in columns_rename:\n",
    "            # get string to remove\n",
    "            string_to_replace = columns_rename[0][:7]\n",
    "            # replace starting string\n",
    "            new_column = old_column.replace(string_to_replace, \"\")\n",
    "            df = df.withColumnRenamed(old_column, new_column)\n",
    "    \n",
    "    return df"
   ]
  },
  {
   "attachments": {},
   "cell_type": "markdown",
   "metadata": {},
   "source": [
    "Objective of this notebook is to rebuild a NPS_Compare or similar to do high level correlation"
   ]
  },
  {
   "cell_type": "code",
   "execution_count": 11,
   "metadata": {},
   "outputs": [],
   "source": [
    "ORDER_HEADERS = session.table(\"FROSTBYTE_TASTY_BYTES.RAW_POS.ORDER_HEADER\")\n",
    "CUSTOMERS = session.table(\"FROSTBYTE_TASTY_BYTES.RAW_CUSTOMER.CUSTOMER_LOYALTY\")"
   ]
  },
  {
   "cell_type": "code",
   "execution_count": 12,
   "metadata": {},
   "outputs": [
    {
     "name": "stdout",
     "output_type": "stream",
     "text": [
      "-----------------------------------------------------------------------------------------------------------------------------------------------------------------------------------------------------------------------------------------------------------------------------------------\n",
      "|\"ORDER_ID\"  |\"TRUCK_ID\"  |\"LOCATION_ID\"  |\"CUSTOMER_ID\"  |\"DISCOUNT_ID\"  |\"SHIFT_ID\"  |\"SHIFT_START_TIME\"  |\"SHIFT_END_TIME\"  |\"ORDER_CHANNEL\"  |\"ORDER_TS\"           |\"SERVED_TS\"  |\"ORDER_CURRENCY\"  |\"ORDER_AMOUNT\"  |\"ORDER_TAX_AMOUNT\"  |\"ORDER_DISCOUNT_AMOUNT\"  |\"ORDER_TOTAL\"  |\n",
      "-----------------------------------------------------------------------------------------------------------------------------------------------------------------------------------------------------------------------------------------------------------------------------------------\n",
      "|369186517   |339         |11823.0        |NULL           |NULL           |200372773   |15:30:00            |22:30:00          |NULL             |2021-05-12 18:24:46  |NULL         |USD               |11.0000         |NULL                |NULL                     |11.0000        |\n",
      "|369186518   |339         |11823.0        |NULL           |NULL           |200372773   |15:30:00            |22:30:00          |NULL             |2021-05-12 18:24:49  |NULL         |USD               |76.0000         |NULL                |NULL                     |76.0000        |\n",
      "|369186519   |339         |11823.0        |NULL           |NULL           |200372773   |15:30:00            |22:30:00          |NULL             |2021-05-12 18:25:34  |NULL         |USD               |13.0000         |NULL                |NULL                     |13.0000        |\n",
      "|369186520   |339         |11823.0        |NULL           |NULL           |200372773   |15:30:00            |22:30:00          |NULL             |2021-05-12 18:26:20  |NULL         |USD               |26.0000         |NULL                |NULL                     |26.0000        |\n",
      "|369186521   |339         |11823.0        |NULL           |NULL           |200372773   |15:30:00            |22:30:00          |NULL             |2021-05-12 18:26:20  |NULL         |USD               |29.0000         |NULL                |NULL                     |29.0000        |\n",
      "|369186522   |339         |11823.0        |NULL           |NULL           |200372773   |15:30:00            |22:30:00          |NULL             |2021-05-12 18:27:12  |NULL         |USD               |68.0000         |NULL                |NULL                     |68.0000        |\n",
      "|369186523   |339         |11823.0        |NULL           |NULL           |200372773   |15:30:00            |22:30:00          |NULL             |2021-05-12 18:29:37  |NULL         |USD               |9.0000          |NULL                |NULL                     |9.0000         |\n",
      "|369186524   |339         |11823.0        |NULL           |NULL           |200372773   |15:30:00            |22:30:00          |NULL             |2021-05-12 18:29:41  |NULL         |USD               |18.0000         |NULL                |NULL                     |18.0000        |\n",
      "|369186525   |339         |11823.0        |NULL           |NULL           |200372773   |15:30:00            |22:30:00          |NULL             |2021-05-12 18:30:14  |NULL         |USD               |87.0000         |NULL                |NULL                     |87.0000        |\n",
      "|369186526   |339         |11823.0        |NULL           |NULL           |200372773   |15:30:00            |22:30:00          |NULL             |2021-05-12 18:34:08  |NULL         |USD               |48.0000         |NULL                |NULL                     |48.0000        |\n",
      "-----------------------------------------------------------------------------------------------------------------------------------------------------------------------------------------------------------------------------------------------------------------------------------------\n",
      "\n"
     ]
    }
   ],
   "source": [
    "ORDER_HEADERS.show()"
   ]
  },
  {
   "cell_type": "code",
   "execution_count": 10,
   "metadata": {},
   "outputs": [
    {
     "name": "stdout",
     "output_type": "stream",
     "text": [
      "-------------------------------------------------------------------------------------------------------------------------------------------------------------------------------------------------------------------------------------------------------------------------\n",
      "|\"CUSTOMER_ID\"  |\"FIRST_NAME\"  |\"LAST_NAME\"  |\"CITY\"          |\"COUNTRY\"  |\"POSTAL_CODE\"  |\"PREFERRED_LANGUAGE\"  |\"GENDER\"     |\"FAVOURITE_BRAND\"  |\"MARITAL_STATUS\"  |\"CHILDREN_COUNT\"  |\"SIGN_UP_DATE\"  |\"BIRTHDAY_DATE\"  |\"E_MAIL\"                  |\"PHONE_NUMBER\"  |\n",
      "-------------------------------------------------------------------------------------------------------------------------------------------------------------------------------------------------------------------------------------------------------------------------\n",
      "|1              |Rodolfo       |Tucker       |Hamburg         |Germany    |21129          |German                |Female       |NULL               |Single            |0                 |2019-02-19      |1953-12-01       |Rodolfo.Tucker@ymail.com  |007-506-6068    |\n",
      "|2              |Karla         |Mullen       |Rio de Janeiro  |Brazil     |22753-000      |Portuguese            |Male         |NULL               |Single            |0                 |2019-10-07      |1973-09-21       |Karla.Mullen@hotmail.com  |431-122-6142    |\n",
      "|3              |Cortez        |Douglas      |Krakow          |Poland     |31-5           |Polish                |Female       |NULL               |Married           |2                 |2020-09-11      |2000-09-04       |Cortez.Douglas@gmail.com  |157-518-3848    |\n",
      "|4              |Janiya        |Pope         |Krakow          |Poland     |31-5           |Polish                |Female       |NULL               |Single            |1                 |2021-09-09      |1950-03-05       |Janiya.Pope@ymail.com     |872-718-6879    |\n",
      "|5              |Zaiden        |Knapp        |Barcelona       |Spain      |08013          |English               |Female       |NULL               |Married           |1                 |2022-06-17      |1978-10-29       |Zaiden.Knapp@hotmail.com  |545-152-4832    |\n",
      "|6              |Micah         |Beard        |Hamburg         |Germany    |21129          |German                |Male         |NULL               |Single            |0                 |2021-06-02      |1969-08-17       |Micah.Beard@aol.com       |535-753-3461    |\n",
      "|7              |Ricardo       |Byrd         |Barcelona       |Spain      |08013          |English               |Male         |NULL               |Undisclosed       |Undisclosed       |2020-09-29      |1961-12-23       |Ricardo.Byrd@aol.com      |138-082-1391    |\n",
      "|8              |Marie         |Boyer        |Hamburg         |Germany    |21129          |German                |Female       |NULL               |Single            |0                 |2021-04-08      |1960-07-12       |Marie.Boyer@aol.com       |587-006-4451    |\n",
      "|9              |Josie         |Glass        |Stockholm       |Sweden     |6206           |Swedish               |Male         |NULL               |Single            |0                 |2020-10-30      |1970-09-11       |Josie.Glass@hotmail.com   |023-863-4028    |\n",
      "|10             |Korbin        |Ward         |Cairo           |Egypt      |00000          |Arabic                |Undisclosed  |NULL               |Single            |0                 |2020-06-04      |1989-05-27       |Korbin.Ward@gmail.com     |049-196-8102    |\n",
      "-------------------------------------------------------------------------------------------------------------------------------------------------------------------------------------------------------------------------------------------------------------------------\n",
      "\n"
     ]
    }
   ],
   "source": [
    "CUSTOMERS.show()"
   ]
  },
  {
   "cell_type": "code",
   "execution_count": 15,
   "metadata": {},
   "outputs": [
    {
     "name": "stdout",
     "output_type": "stream",
     "text": [
      "-------------------------------------------------------------------------------------------------------------------------------------------------------------------------------------------------------------------------------------------------------------------------------------------------------------------------------------------------------------------------------------------------------------------------------------------------------------------------------------------------------------------------------------------------------------\n",
      "|\"ORDER_ID\"  |\"TRUCK_ID\"  |\"LOCATION_ID\"  |\"DISCOUNT_ID\"  |\"SHIFT_ID\"  |\"SHIFT_START_TIME\"  |\"SHIFT_END_TIME\"  |\"ORDER_CHANNEL\"  |\"ORDER_TS\"           |\"SERVED_TS\"  |\"ORDER_CURRENCY\"  |\"ORDER_AMOUNT\"  |\"ORDER_TAX_AMOUNT\"  |\"ORDER_DISCOUNT_AMOUNT\"  |\"ORDER_TOTAL\"  |\"CUSTOMER_ID\"  |\"FIRST_NAME\"  |\"LAST_NAME\"  |\"CITY\"     |\"COUNTRY\"     |\"POSTAL_CODE\"  |\"PREFERRED_LANGUAGE\"  |\"GENDER\"     |\"FAVOURITE_BRAND\"  |\"MARITAL_STATUS\"  |\"CHILDREN_COUNT\"  |\"SIGN_UP_DATE\"  |\"BIRTHDAY_DATE\"  |\"E_MAIL\"                                |\"PHONE_NUMBER\"  |\n",
      "-------------------------------------------------------------------------------------------------------------------------------------------------------------------------------------------------------------------------------------------------------------------------------------------------------------------------------------------------------------------------------------------------------------------------------------------------------------------------------------------------------------------------------------------------------------\n",
      "|424632656   |450         |10047.0        |NULL           |200492436   |08:00:00            |14:00:00          |NULL             |2020-11-13 09:35:45  |NULL         |USD               |73.0000         |NULL                |NULL                     |73.0000        |214002         |Danielle      |Baker        |Cape Town  |South Africa  |8005           |English               |Undisclosed  |NULL               |Married           |3                 |2019-01-08      |1952-09-23       |**~MASKED~**.**~MASKED~**@att.net       |111-111-1111    |\n",
      "|424632668   |450         |10047.0        |NULL           |200492436   |08:00:00            |14:00:00          |NULL             |2020-11-13 09:39:20  |NULL         |USD               |33.0000         |NULL                |NULL                     |33.0000        |214207         |Kaiya         |Booker       |Cape Town  |South Africa  |8005           |English               |Male         |NULL               |Single            |0                 |2019-08-20      |1985-08-27       |**~MASKED~**.**~MASKED~**@gmail.com     |111-111-1111    |\n",
      "|424632671   |450         |10047.0        |NULL           |200492436   |08:00:00            |14:00:00          |NULL             |2020-11-13 09:39:51  |NULL         |USD               |11.0000         |NULL                |NULL                     |11.0000        |14596          |Markus        |Daniels      |Cape Town  |South Africa  |8005           |English               |Female       |NULL               |Single            |0                 |2021-01-31      |1973-08-08       |Markus.Daniels@hotmail.com              |346-805-9253    |\n",
      "|424632689   |450         |10047.0        |NULL           |200492436   |08:00:00            |14:00:00          |NULL             |2020-11-13 09:53:58  |NULL         |USD               |69.0000         |NULL                |NULL                     |69.0000        |207567         |Jaden         |Maldonado    |Cape Town  |South Africa  |8005           |English               |Female       |NULL               |Married           |0                 |2019-02-12      |1974-06-11       |**~MASKED~**.**~MASKED~**@gmail.com     |111-111-1111    |\n",
      "|424632704   |450         |10047.0        |NULL           |200492436   |08:00:00            |14:00:00          |NULL             |2020-11-13 10:02:28  |NULL         |USD               |33.0000         |NULL                |NULL                     |33.0000        |214222         |Clare         |Vaughan      |Cape Town  |South Africa  |8005           |English               |Female       |NULL               |Married           |2                 |2019-04-30      |1953-05-19       |**~MASKED~**.**~MASKED~**@att.net       |111-111-1111    |\n",
      "|424632803   |450         |10047.0        |NULL           |200492436   |08:00:00            |14:00:00          |NULL             |2020-11-13 10:55:28  |NULL         |USD               |33.0000         |NULL                |NULL                     |33.0000        |208017         |Hailee        |Pratt        |Cape Town  |South Africa  |8005           |English               |Female       |NULL               |Married           |1                 |2019-06-11      |1959-07-07       |**~MASKED~**.**~MASKED~**@netscape.net  |111-111-1111    |\n",
      "|424632835   |450         |10047.0        |NULL           |200492436   |08:00:00            |14:00:00          |NULL             |2020-11-13 11:13:16  |NULL         |USD               |11.0000         |NULL                |NULL                     |11.0000        |2261           |Jazmyn        |Glover       |Cape Town  |South Africa  |8005           |English               |Female       |NULL               |Single            |2                 |2022-06-30      |1991-05-03       |Jazmyn.Glover@gmail.com                 |459-949-6544    |\n",
      "|424632856   |450         |10047.0        |NULL           |200492436   |08:00:00            |14:00:00          |NULL             |2020-11-13 11:21:49  |NULL         |USD               |33.0000         |NULL                |NULL                     |33.0000        |7655           |Paula         |Burgess      |Cape Town  |South Africa  |8005           |English               |Female       |NULL               |Married           |1                 |2021-06-14      |1963-11-06       |Paula.Burgess@aol.com                   |499-883-6745    |\n",
      "|424632859   |450         |10047.0        |NULL           |200492436   |08:00:00            |14:00:00          |NULL             |2020-11-13 11:24:11  |NULL         |USD               |22.0000         |NULL                |NULL                     |22.0000        |27080          |Max           |Leblanc      |Cape Town  |South Africa  |8005           |English               |Male         |NULL               |Single            |2                 |2019-12-30      |1968-09-09       |Max.Leblanc@aol.com                     |035-701-6921    |\n",
      "|369186532   |339         |11823.0        |NULL           |200372773   |15:30:00            |22:30:00          |NULL             |2021-05-12 18:37:48  |NULL         |USD               |23.0000         |NULL                |NULL                     |23.0000        |221735         |Nehemiah      |Good         |Munich     |Germany       |80809          |German                |Male         |NULL               |Single            |0                 |2019-06-25      |1965-03-23       |**~MASKED~**.**~MASKED~**@yahoo.com     |111-111-1111    |\n",
      "-------------------------------------------------------------------------------------------------------------------------------------------------------------------------------------------------------------------------------------------------------------------------------------------------------------------------------------------------------------------------------------------------------------------------------------------------------------------------------------------------------------------------------------------------------------\n",
      "\n"
     ]
    }
   ],
   "source": [
    "LOOKER = ORDER_HEADERS.join(CUSTOMERS, CUSTOMERS['CUSTOMER_ID'] == ORDER_HEADERS['CUSTOMER_ID'], 'inner')\n",
    "\n",
    "LOOKER = remove_dup_join_col(LOOKER)\n",
    "\n",
    "LOOKER.show()"
   ]
  },
  {
   "cell_type": "code",
   "execution_count": 18,
   "metadata": {},
   "outputs": [
    {
     "name": "stdout",
     "output_type": "stream",
     "text": [
      "--------------------------------------------------------------------------------------------------------------------------------------------------------------------------------------------------------------------------------------------------------------------------------------------------------------------------------------------------------------------------------------------------------------------------------------------------------------------------------------------------------------------------------------------------------\n",
      "|\"ORDER_ID\"  |\"TRUCK_ID\"  |\"LOCATION_ID\"  |\"DISCOUNT_ID\"  |\"SHIFT_ID\"  |\"SHIFT_START_TIME\"  |\"SHIFT_END_TIME\"  |\"ORDER_CHANNEL\"  |\"ORDER_TS\"           |\"SERVED_TS\"  |\"ORDER_CURRENCY\"  |\"ORDER_AMOUNT\"  |\"ORDER_TAX_AMOUNT\"  |\"ORDER_DISCOUNT_AMOUNT\"  |\"ORDER_TOTAL\"  |\"CUSTOMER_ID\"  |\"FIRST_NAME\"  |\"LAST_NAME\"  |\"CITY\"  |\"COUNTRY\"  |\"POSTAL_CODE\"  |\"PREFERRED_LANGUAGE\"  |\"GENDER\"  |\"FAVOURITE_BRAND\"  |\"MARITAL_STATUS\"  |\"CHILDREN_COUNT\"  |\"SIGN_UP_DATE\"  |\"BIRTHDAY_DATE\"  |\"E_MAIL\"                           |\"PHONE_NUMBER\"  |\"DTNO\"  |\n",
      "--------------------------------------------------------------------------------------------------------------------------------------------------------------------------------------------------------------------------------------------------------------------------------------------------------------------------------------------------------------------------------------------------------------------------------------------------------------------------------------------------------------------------------------------------------\n",
      "|367934038   |335         |11825.0        |NULL           |200369240   |09:00:00            |15:00:00          |NULL             |2020-01-22 09:30:15  |NULL         |USD               |120.7500        |NULL                |NULL                     |120.7500       |215506         |Erik          |Wagner       |Munich  |Germany    |80809          |German                |Male      |NULL               |Single            |1                 |2019-07-02      |1955-06-07       |**~MASKED~**.**~MASKED~**@att.net  |111-111-1111    |25      |\n",
      "|367951166   |335         |12849.0        |NULL           |200369290   |08:30:00            |14:30:00          |NULL             |2020-02-16 13:56:48  |NULL         |USD               |71.0000         |NULL                |NULL                     |71.0000        |215506         |Erik          |Wagner       |Munich  |Germany    |80809          |German                |Male      |NULL               |Single            |1                 |2019-07-02      |1955-06-07       |**~MASKED~**.**~MASKED~**@att.net  |111-111-1111    |24      |\n",
      "|367965950   |335         |4937.0         |NULL           |200369338   |08:00:00            |14:00:00          |NULL             |2020-03-11 09:27:06  |NULL         |USD               |34.5000         |NULL                |NULL                     |34.5000        |215506         |Erik          |Wagner       |Munich  |Germany    |80809          |German                |Male      |NULL               |Single            |1                 |2019-07-02      |1955-06-07       |**~MASKED~**.**~MASKED~**@att.net  |111-111-1111    |14      |\n",
      "|367975381   |335         |12971.0        |NULL           |200369366   |08:30:00            |14:30:00          |NULL             |2020-03-25 12:36:03  |NULL         |USD               |105.5000        |NULL                |NULL                     |105.5000       |215506         |Erik          |Wagner       |Munich  |Germany    |80809          |German                |Male      |NULL               |Single            |1                 |2019-07-02      |1955-06-07       |**~MASKED~**.**~MASKED~**@att.net  |111-111-1111    |11      |\n",
      "|367983130   |335         |9550.0         |NULL           |200369388   |08:30:00            |14:30:00          |NULL             |2020-04-05 13:41:24  |NULL         |USD               |54.7500         |NULL                |NULL                     |54.7500        |215506         |Erik          |Wagner       |Munich  |Germany    |80809          |German                |Male      |NULL               |Single            |1                 |2019-07-02      |1955-06-07       |**~MASKED~**.**~MASKED~**@att.net  |111-111-1111    |6       |\n",
      "|367987835   |335         |12247.0        |NULL           |200369401   |15:30:00            |22:30:00          |NULL             |2020-04-11 18:03:25  |NULL         |USD               |160.2500        |NULL                |NULL                     |160.2500       |215506         |Erik          |Wagner       |Munich  |Germany    |80809          |German                |Male      |NULL               |Single            |1                 |2019-07-02      |1955-06-07       |**~MASKED~**.**~MASKED~**@att.net  |111-111-1111    |43      |\n",
      "|368016316   |335         |4948.0         |NULL           |200369486   |08:00:00            |14:00:00          |NULL             |2020-05-24 13:45:10  |NULL         |USD               |17.2500         |NULL                |NULL                     |17.2500        |215506         |Erik          |Wagner       |Munich  |Germany    |80809          |German                |Male      |NULL               |Single            |1                 |2019-07-02      |1955-06-07       |**~MASKED~**.**~MASKED~**@att.net  |111-111-1111    |22      |\n",
      "|368030636   |335         |9544.0         |NULL           |200369530   |09:00:00            |15:00:00          |NULL             |2020-06-15 13:25:06  |NULL         |USD               |34.5000         |NULL                |NULL                     |34.5000        |215506         |Erik          |Wagner       |Munich  |Germany    |80809          |German                |Male      |NULL               |Single            |1                 |2019-07-02      |1955-06-07       |**~MASKED~**.**~MASKED~**@att.net  |111-111-1111    |15      |\n",
      "|368040423   |335         |11828.0        |NULL           |200369561   |15:00:00            |22:00:00          |NULL             |2020-06-30 21:56:02  |NULL         |USD               |51.7500         |NULL                |NULL                     |51.7500        |215506         |Erik          |Wagner       |Munich  |Germany    |80809          |German                |Male      |NULL               |Single            |1                 |2019-07-02      |1955-06-07       |**~MASKED~**.**~MASKED~**@att.net  |111-111-1111    |5       |\n",
      "|368046282   |335         |10315.0        |NULL           |200369579   |16:00:00            |23:00:00          |NULL             |2020-07-05 17:17:17  |NULL         |USD               |34.5000         |NULL                |NULL                     |34.5000        |215506         |Erik          |Wagner       |Munich  |Germany    |80809          |German                |Male      |NULL               |Single            |1                 |2019-07-02      |1955-06-07       |**~MASKED~**.**~MASKED~**@att.net  |111-111-1111    |3       |\n",
      "--------------------------------------------------------------------------------------------------------------------------------------------------------------------------------------------------------------------------------------------------------------------------------------------------------------------------------------------------------------------------------------------------------------------------------------------------------------------------------------------------------------------------------------------------------\n",
      "\n"
     ]
    }
   ],
   "source": [
    "# Define a window partitioned by customer and menu item, ordered by date\n",
    "window_spec = Window.partitionBy(\"CUSTOMER_ID\").orderBy(\"ORDER_TS\")\n",
    "\n",
    "# Add a column with the date of the prior order for each customer and order\n",
    "orders_df_pre = LOOKER.withColumn(\"DTNO\", F.lead(\"ORDER_TS\").over(window_spec))\n",
    "\n",
    "orders_df = orders_df_pre.withColumn(\"DTNO\", F.datediff(col1=\"ORDER_TS\", col2=\"DTNO\",part='day'))\n",
    "orders_df = orders_df.na.drop(subset=[\"DTNO\"])\n",
    "\n",
    "orders_df.show()"
   ]
  },
  {
   "cell_type": "code",
   "execution_count": 21,
   "metadata": {},
   "outputs": [],
   "source": [
    "orders_df.write.save_as_table(table_name=\"tran_anal\", mode='overwrite')"
   ]
  }
 ],
 "metadata": {
  "kernelspec": {
   "display_name": "py38_env",
   "language": "python",
   "name": "python3"
  },
  "language_info": {
   "codemirror_mode": {
    "name": "ipython",
    "version": 3
   },
   "file_extension": ".py",
   "mimetype": "text/x-python",
   "name": "python",
   "nbconvert_exporter": "python",
   "pygments_lexer": "ipython3",
   "version": "3.8.16"
  },
  "orig_nbformat": 4
 },
 "nbformat": 4,
 "nbformat_minor": 2
}
