{
 "cells": [
  {
   "cell_type": "markdown",
   "metadata": {},
   "source": [
    "# Import Statements"
   ]
  },
  {
   "cell_type": "code",
   "execution_count": 237,
   "metadata": {},
   "outputs": [],
   "source": [
    "# IMPORT STATEMENTS\n",
    "\n",
    "#Import Python packages\n",
    "import pandas as pd\n",
    "import json\n",
    "import matplotlib.pyplot as plt\n",
    "import numpy as np\n",
    "import ast\n",
    "\n",
    "# Import Snowflake modules\n",
    "from snowflake.snowpark import Session\n",
    "from pyspark.sql.functions import year\n",
    "import snowflake.snowpark.functions as F\n",
    "import snowflake.snowpark.types as T\n",
    "\n",
    "# import matplotlib and seaborn to plot charts and graphs\n",
    "import matplotlib.pyplot as plt\n",
    "import seaborn as sns\n",
    "\n",
    "# to split training and testing data\n",
    "from sklearn.model_selection import train_test_split\n",
    "\n",
    "\n",
    "\n",
    "# DATA PREPARATION\n",
    "# carry out one hot encoding\n",
    "from feature_engine.encoding import OneHotEncoder\n",
    "\n",
    "# for min-max scaling\n",
    "from sklearn.preprocessing import MinMaxScaler\n",
    "# for standardization\n",
    "from sklearn.preprocessing import StandardScaler\n",
    "# for robust scaling\n",
    "from sklearn.preprocessing import RobustScaler\n",
    "\n",
    "\n",
    "\n",
    "# MODEL BUILDING\n",
    "# for linear regression model\n",
    "from sklearn.linear_model import LinearRegression\n",
    "\n",
    "# import XGBRegressor from xgboost package\n",
    "from xgboost import XGBRegressor\n",
    "\n",
    "# import DecisionTreeRegressor to create a decision tree regression model\n",
    "from sklearn.tree import DecisionTreeRegressor\n",
    "\n",
    "# import MLPRegressor to build an ann regression model \n",
    "from sklearn.neural_network import MLPRegressor\n",
    "\n",
    "# import RandomForestRegressor to build a random forest regression model\n",
    "from sklearn. ensemble import RandomForestRegressor, AdaBoostRegressor\n",
    "\n",
    "# import SVR from sklearn.svm package to build a support vector regression model\n",
    "from sklearn.svm import SVR\n",
    "\n",
    "\n",
    "\n",
    "# MODEL EVALUATION & IMPROVEMENT\n",
    "# to evaluate model metrics\n",
    "from sklearn.metrics import mean_squared_error, r2_score\n",
    "\n",
    "# import grid search cv to improve decision tree model by helping search for parameters\n",
    "from sklearn.model_selection import GridSearchCV\n",
    "\n",
    "\n",
    "# to export model\n",
    "import joblib"
   ]
  },
  {
   "cell_type": "markdown",
   "metadata": {},
   "source": [
    "# Functions"
   ]
  },
  {
   "cell_type": "code",
   "execution_count": 238,
   "metadata": {},
   "outputs": [],
   "source": [
    "def model_performance(model):\n",
    "    print('the training root mean squared error is: ',  np.sqrt(mean_squared_error(model.predict(X_train_scaled), y_train)))\n",
    "    print('the testing root mean squared error is: ',  np.sqrt(mean_squared_error(model.predict(X_test_scaled), y_test)))\n",
    "\n",
    "    print()\n",
    "\n",
    "    #training mse\n",
    "    train_mse = mean_squared_error(model.predict(X_train_scaled), y_train)\n",
    "    print('the training mean squared error is: ', train_mse)\n",
    "    #testing mse\n",
    "    test_mse = mean_squared_error(model.predict(X_test_scaled), y_test)\n",
    "    print('the testing mean squared error is: ', test_mse)\n",
    "\n",
    "    print()\n",
    "\n",
    "    print('training accuracy is: ', model.score(X_train_scaled, y_train))\n",
    "    print('testing accuracy is: ', model.score(X_test_scaled, y_test))\n"
   ]
  },
  {
   "cell_type": "markdown",
   "metadata": {},
   "source": [
    "# Load Tables From Snowflake"
   ]
  },
  {
   "cell_type": "code",
   "execution_count": 239,
   "metadata": {},
   "outputs": [],
   "source": [
    "# Get account credentials from a json file\n",
    "with open(\"data_scientist_auth.json\") as f:\n",
    "    data = json.load(f)\n",
    "    username = data[\"username\"]\n",
    "    password = data[\"password\"]\n",
    "    account = data[\"account\"]\n",
    "\n",
    "# Specify connection parameters\n",
    "connection_parameters = {\n",
    "    \"account\": account,\n",
    "    \"user\": username,\n",
    "    \"password\": password,\n",
    "    \"role\": \"TASTY_BI\",\n",
    "    \"warehouse\": \"TASTY_BI_WH\",\n",
    "    \"database\": \"frostbyte_tasty_bytes\",\n",
    "    \"schema\": \"raw_pos\",\n",
    "}\n",
    "\n",
    "# Create Snowpark session\n",
    "session = Session.builder.configs(connection_parameters).create()"
   ]
  },
  {
   "cell_type": "code",
   "execution_count": 240,
   "metadata": {},
   "outputs": [],
   "source": [
    "# retrieve order details usa table from snowflake\n",
    "order_detail = session.table(\"frostbyte_tasty_bytes.raw_pos.ORDER_DETAIL\")\n",
    "order_header = session.table(\"frostbyte_tasty_bytes.raw_pos.ORDER_HEADER\")\n",
    "location_table = session.table(\"frostbyte_tasty_bytes.raw_pos.LOCATION\")"
   ]
  },
  {
   "cell_type": "code",
   "execution_count": 241,
   "metadata": {},
   "outputs": [
    {
     "name": "stdout",
     "output_type": "stream",
     "text": [
      "----------------------------------------------------------------------------------------------------------------------------------------------------------------------------------\n",
      "|\"LOCATION_ID\"  |\"PLACEKEY\"           |\"LOCATION\"                                          |\"CITY\"      |\"REGION\"                               |\"ISO_COUNTRY_CODE\"  |\"COUNTRY\"  |\n",
      "----------------------------------------------------------------------------------------------------------------------------------------------------------------------------------\n",
      "|1001           |222-222@4hf-nch-k2k  |Seasoners Fine Foods                                |Manchester  |Greater Manchester                     |GB                  |England    |\n",
      "|1002           |222-222@4hf-ndn-4sq  |HM Music Promotions                                 |Manchester  |Greater Manchester                     |GB                  |England    |\n",
      "|1003           |222-222@4hf-ndp-grk  |G J Hull                                            |Manchester  |Greater Manchester                     |GB                  |England    |\n",
      "|1004           |222-222@4hf-pr3-8qf  |Allens Bakery                                       |Manchester  |Greater Manchester                     |GB                  |England    |\n",
      "|1005           |222-222@4hh-ztb-rrk  |Just Box                                            |London      |Greater London                         |GB                  |England    |\n",
      "|1007           |222-222@4hh-zvh-389  |South Of England Athletic Association               |London      |Greater London                         |GB                  |England    |\n",
      "|1008           |222-222@4hh-zvp-zs5  |Come Play Sport                                     |London      |City and County of the City of London  |GB                  |England    |\n",
      "|1009           |222-222@4hh-zzq-h3q  |Richardson Evans Memorial Playing Fields            |London      |Greater London                         |GB                  |England    |\n",
      "|1010           |222-222@4hj-zt5-ty9  |Capital Ring Section 15 Beckton District Park t...  |London      |Greater London                         |GB                  |England    |\n",
      "|1011           |222-222@4hk-wyd-fvf  |Woodsend Park                                       |Manchester  |Greater Manchester                     |GB                  |England    |\n",
      "----------------------------------------------------------------------------------------------------------------------------------------------------------------------------------\n",
      "\n"
     ]
    }
   ],
   "source": [
    "location_table.show()"
   ]
  },
  {
   "cell_type": "code",
   "execution_count": 242,
   "metadata": {},
   "outputs": [],
   "source": [
    "# Get a list of LOCATION_IDs where the COUNTRY column's value is 'United States'\n",
    "## Filter the 'location_table' where the 'COUNTRY' column is 'United States'\n",
    "filtered_location_table = location_table.filter(location_table['COUNTRY'] == 'United States')\n",
    "\n",
    "## Select the 'LOCATION_ID' column from the filtered DataFrame\n",
    "location_id_df = filtered_location_table.select('LOCATION_ID')\n",
    "\n",
    "## Convert the 'LOCATION_ID' column to a Python list\n",
    "location_id_list = location_id_df.collect()\n",
    "\n",
    "## Extract the values from the DataFrame and convert them to a list\n",
    "location_id_list = [row['LOCATION_ID'] for row in location_id_list]"
   ]
  },
  {
   "cell_type": "code",
   "execution_count": 243,
   "metadata": {},
   "outputs": [
    {
     "name": "stdout",
     "output_type": "stream",
     "text": [
      "--------------------------------------------------------------------------------------------------------------------------------------------------------\n",
      "|\"ORDER_DETAIL_ID\"  |\"ORDER_ID\"  |\"MENU_ITEM_ID\"  |\"DISCOUNT_ID\"  |\"LINE_NUMBER\"  |\"QUANTITY\"  |\"UNIT_PRICE\"  |\"PRICE\"  |\"ORDER_ITEM_DISCOUNT_AMOUNT\"  |\n",
      "--------------------------------------------------------------------------------------------------------------------------------------------------------\n",
      "|716664763          |390479600   |17              |NULL           |0              |5           |4.0000        |20.0000  |NULL                          |\n",
      "|716664764          |390479600   |18              |NULL           |1              |1           |5.0000        |5.0000   |NULL                          |\n",
      "|716664765          |390479600   |19              |NULL           |2              |2           |3.0000        |6.0000   |NULL                          |\n",
      "|716664766          |390479600   |12              |NULL           |3              |1           |6.0000        |6.0000   |NULL                          |\n",
      "|716664767          |390479601   |18              |NULL           |0              |1           |5.0000        |5.0000   |NULL                          |\n",
      "|716664768          |390479601   |13              |NULL           |1              |1           |7.0000        |7.0000   |NULL                          |\n",
      "|716664769          |390479602   |17              |NULL           |0              |1           |4.0000        |4.0000   |NULL                          |\n",
      "|716664770          |390479602   |13              |NULL           |1              |1           |7.0000        |7.0000   |NULL                          |\n",
      "|716664771          |390479603   |12              |NULL           |0              |2           |6.0000        |12.0000  |NULL                          |\n",
      "|716664772          |390479603   |14              |NULL           |1              |1           |2.0000        |2.0000   |NULL                          |\n",
      "--------------------------------------------------------------------------------------------------------------------------------------------------------\n",
      "\n"
     ]
    }
   ],
   "source": [
    "order_detail.show()"
   ]
  },
  {
   "cell_type": "code",
   "execution_count": 244,
   "metadata": {},
   "outputs": [
    {
     "name": "stdout",
     "output_type": "stream",
     "text": [
      "-----------------------------------------------------------------------------------------------------------------------------------------------------------------------------------------------------------------------------------------------------------------------------------------\n",
      "|\"ORDER_ID\"  |\"TRUCK_ID\"  |\"LOCATION_ID\"  |\"CUSTOMER_ID\"  |\"DISCOUNT_ID\"  |\"SHIFT_ID\"  |\"SHIFT_START_TIME\"  |\"SHIFT_END_TIME\"  |\"ORDER_CHANNEL\"  |\"ORDER_TS\"           |\"SERVED_TS\"  |\"ORDER_CURRENCY\"  |\"ORDER_AMOUNT\"  |\"ORDER_TAX_AMOUNT\"  |\"ORDER_DISCOUNT_AMOUNT\"  |\"ORDER_TOTAL\"  |\n",
      "-----------------------------------------------------------------------------------------------------------------------------------------------------------------------------------------------------------------------------------------------------------------------------------------\n",
      "|14271673    |90          |2666.0         |NULL           |NULL           |63645       |15:30:00            |22:30:00          |NULL             |2021-05-25 16:53:13  |NULL         |USD               |11.0000         |NULL                |NULL                     |11.0000        |\n",
      "|14271674    |90          |2666.0         |59685          |NULL           |63645       |15:30:00            |22:30:00          |NULL             |2021-05-25 16:53:26  |NULL         |USD               |11.0000         |NULL                |NULL                     |11.0000        |\n",
      "|14271675    |90          |2666.0         |NULL           |NULL           |63645       |15:30:00            |22:30:00          |NULL             |2021-05-25 16:53:26  |NULL         |USD               |11.0000         |NULL                |NULL                     |11.0000        |\n",
      "|14271676    |90          |2666.0         |NULL           |NULL           |63645       |15:30:00            |22:30:00          |NULL             |2021-05-25 16:53:29  |NULL         |USD               |57.0000         |NULL                |NULL                     |57.0000        |\n",
      "|14271677    |90          |2666.0         |NULL           |NULL           |63645       |15:30:00            |22:30:00          |NULL             |2021-05-25 16:53:49  |NULL         |USD               |24.0000         |NULL                |NULL                     |24.0000        |\n",
      "|14271678    |90          |2666.0         |NULL           |NULL           |63645       |15:30:00            |22:30:00          |NULL             |2021-05-25 16:54:11  |NULL         |USD               |33.0000         |NULL                |NULL                     |33.0000        |\n",
      "|14271679    |90          |2666.0         |NULL           |NULL           |63645       |15:30:00            |22:30:00          |NULL             |2021-05-25 16:54:25  |NULL         |USD               |71.0000         |NULL                |NULL                     |71.0000        |\n",
      "|14271680    |90          |2666.0         |NULL           |NULL           |63645       |15:30:00            |22:30:00          |NULL             |2021-05-25 16:54:57  |NULL         |USD               |33.0000         |NULL                |NULL                     |33.0000        |\n",
      "|14271681    |90          |2666.0         |NULL           |NULL           |63645       |15:30:00            |22:30:00          |NULL             |2021-05-25 16:55:00  |NULL         |USD               |39.0000         |NULL                |NULL                     |39.0000        |\n",
      "|14271682    |90          |2666.0         |NULL           |NULL           |63645       |15:30:00            |22:30:00          |NULL             |2021-05-25 16:55:03  |NULL         |USD               |69.0000         |NULL                |NULL                     |69.0000        |\n",
      "-----------------------------------------------------------------------------------------------------------------------------------------------------------------------------------------------------------------------------------------------------------------------------------------\n",
      "\n"
     ]
    }
   ],
   "source": [
    "order_header.show()"
   ]
  },
  {
   "cell_type": "code",
   "execution_count": 245,
   "metadata": {},
   "outputs": [],
   "source": [
    "# Merge the two tables using the 'ORDER_ID' column as the common key\n",
    "merged_df = order_detail.join(order_header, on='ORDER_ID', how='inner')"
   ]
  },
  {
   "cell_type": "code",
   "execution_count": 246,
   "metadata": {},
   "outputs": [],
   "source": [
    "# Get rows where the LOCATION_ID is for United States\n",
    "merged_df = merged_df.filter(F.col('LOCATION_ID').isin(location_id_list))"
   ]
  },
  {
   "cell_type": "code",
   "execution_count": 247,
   "metadata": {},
   "outputs": [],
   "source": [
    "# Filter table for only the required columns\n",
    "order_df = merged_df.select(\"MENU_ITEM_ID\", \"QUANTITY\", \"ORDER_TS\")"
   ]
  },
  {
   "cell_type": "code",
   "execution_count": 248,
   "metadata": {},
   "outputs": [
    {
     "name": "stdout",
     "output_type": "stream",
     "text": [
      "----------------------------------------\n",
      "|\"MENU_ITEM_ID\"  |\"QUANTITY\"  |\"YEAR\"  |\n",
      "----------------------------------------\n",
      "|18              |1           |2022    |\n",
      "|17              |2           |2022    |\n",
      "|16              |1           |2022    |\n",
      "|12              |1           |2022    |\n",
      "|10              |1           |2022    |\n",
      "|12              |1           |2022    |\n",
      "|13              |2           |2022    |\n",
      "|15              |2           |2022    |\n",
      "|16              |1           |2022    |\n",
      "|17              |1           |2022    |\n",
      "----------------------------------------\n",
      "\n"
     ]
    }
   ],
   "source": [
    "# Convert the 'ORDER_TS' column to a java.sql.Timestamp object\n",
    "order_df = order_df.withColumn('ORDER_TS', F.to_timestamp(order_df['ORDER_TS']))\n",
    "\n",
    "# Extract the year from the 'ORDER_TS' column\n",
    "order_df = order_df.withColumn('YEAR', F.year(order_df['ORDER_TS']))\n",
    "\n",
    "# Drop the 'ORDER_TS' column\n",
    "order_df = order_df.drop('ORDER_TS')\n",
    "\n",
    "# Show the modified DataFrame with the 'YEAR' column\n",
    "order_df.show()"
   ]
  },
  {
   "cell_type": "code",
   "execution_count": 249,
   "metadata": {},
   "outputs": [
    {
     "name": "stdout",
     "output_type": "stream",
     "text": [
      "-------------------------------------------------------\n",
      "|\"YEAR\"  |\"MENU_ITEM_ID\"  |\"TOTAL_QTY_SOLD_PER_YEAR\"  |\n",
      "-------------------------------------------------------\n",
      "|2019    |10              |5305                       |\n",
      "|2019    |11              |15597                      |\n",
      "|2019    |12              |15612                      |\n",
      "|2019    |13              |15641                      |\n",
      "|2019    |14              |5211                       |\n",
      "|2019    |15              |5211                       |\n",
      "|2019    |16              |5349                       |\n",
      "|2019    |17              |15560                      |\n",
      "|2019    |18              |15759                      |\n",
      "|2019    |19              |15658                      |\n",
      "-------------------------------------------------------\n",
      "\n"
     ]
    }
   ],
   "source": [
    "# Group by 'YEAR' and 'MENU_ITEM_ID' and calculate the sum of 'QUANTITY'\n",
    "total_qty_by_item = order_df.group_by(['YEAR', 'MENU_ITEM_ID']) \\\n",
    "                           .agg(F.sum(order_df['QUANTITY']).alias('TOTAL_QTY_SOLD_PER_YEAR')) \\\n",
    "                           .orderBy(['YEAR', 'MENU_ITEM_ID'])\n",
    "\n",
    "# View the data\n",
    "total_qty_by_item.show()"
   ]
  },
  {
   "cell_type": "code",
   "execution_count": 250,
   "metadata": {},
   "outputs": [],
   "source": [
    "order_df_grp_by = total_qty_by_item.to_pandas()"
   ]
  },
  {
   "cell_type": "code",
   "execution_count": 251,
   "metadata": {},
   "outputs": [],
   "source": [
    "order_df_grp_by.to_csv('StreamlitApp/assets/total_qty_by_item.csv', index=False)"
   ]
  },
  {
   "cell_type": "markdown",
   "metadata": {},
   "source": [
    "# Menu Table "
   ]
  },
  {
   "cell_type": "code",
   "execution_count": 252,
   "metadata": {},
   "outputs": [],
   "source": [
    "# retrieve menu data from snowflake\n",
    "menu_data_from_snowflake = session.table(\"frostbyte_tasty_bytes.raw_pos.MENU\")"
   ]
  },
  {
   "cell_type": "code",
   "execution_count": 253,
   "metadata": {},
   "outputs": [],
   "source": [
    "# convert menu_data_from_snowflake to pandas dataframe\n",
    "menu_df = menu_data_from_snowflake.to_pandas()"
   ]
  },
  {
   "cell_type": "code",
   "execution_count": 254,
   "metadata": {},
   "outputs": [],
   "source": [
    "# merge total_qty_sold_per_item with final_product_df\n",
    "menu_df = pd.merge(menu_df, order_df_grp_by, on='MENU_ITEM_ID')"
   ]
  },
  {
   "cell_type": "code",
   "execution_count": 255,
   "metadata": {},
   "outputs": [
    {
     "data": {
      "text/html": [
       "<div>\n",
       "<style scoped>\n",
       "    .dataframe tbody tr th:only-of-type {\n",
       "        vertical-align: middle;\n",
       "    }\n",
       "\n",
       "    .dataframe tbody tr th {\n",
       "        vertical-align: top;\n",
       "    }\n",
       "\n",
       "    .dataframe thead th {\n",
       "        text-align: right;\n",
       "    }\n",
       "</style>\n",
       "<table border=\"1\" class=\"dataframe\">\n",
       "  <thead>\n",
       "    <tr style=\"text-align: right;\">\n",
       "      <th></th>\n",
       "      <th>MENU_ID</th>\n",
       "      <th>MENU_TYPE_ID</th>\n",
       "      <th>MENU_TYPE</th>\n",
       "      <th>TRUCK_BRAND_NAME</th>\n",
       "      <th>MENU_ITEM_ID</th>\n",
       "      <th>MENU_ITEM_NAME</th>\n",
       "      <th>ITEM_CATEGORY</th>\n",
       "      <th>ITEM_SUBCATEGORY</th>\n",
       "      <th>COST_OF_GOODS_USD</th>\n",
       "      <th>SALE_PRICE_USD</th>\n",
       "      <th>MENU_ITEM_HEALTH_METRICS_OBJ</th>\n",
       "      <th>YEAR</th>\n",
       "      <th>TOTAL_QTY_SOLD_PER_YEAR</th>\n",
       "    </tr>\n",
       "  </thead>\n",
       "  <tbody>\n",
       "    <tr>\n",
       "      <th>0</th>\n",
       "      <td>10001</td>\n",
       "      <td>1</td>\n",
       "      <td>Ice Cream</td>\n",
       "      <td>Freezing Point</td>\n",
       "      <td>10</td>\n",
       "      <td>Lemonade</td>\n",
       "      <td>Beverage</td>\n",
       "      <td>Cold Option</td>\n",
       "      <td>0.65</td>\n",
       "      <td>3.5</td>\n",
       "      <td>{\\n  \"menu_item_health_metrics\": [\\n    {\\n   ...</td>\n",
       "      <td>2019</td>\n",
       "      <td>5305</td>\n",
       "    </tr>\n",
       "    <tr>\n",
       "      <th>1</th>\n",
       "      <td>10001</td>\n",
       "      <td>1</td>\n",
       "      <td>Ice Cream</td>\n",
       "      <td>Freezing Point</td>\n",
       "      <td>10</td>\n",
       "      <td>Lemonade</td>\n",
       "      <td>Beverage</td>\n",
       "      <td>Cold Option</td>\n",
       "      <td>0.65</td>\n",
       "      <td>3.5</td>\n",
       "      <td>{\\n  \"menu_item_health_metrics\": [\\n    {\\n   ...</td>\n",
       "      <td>2020</td>\n",
       "      <td>26284</td>\n",
       "    </tr>\n",
       "    <tr>\n",
       "      <th>2</th>\n",
       "      <td>10001</td>\n",
       "      <td>1</td>\n",
       "      <td>Ice Cream</td>\n",
       "      <td>Freezing Point</td>\n",
       "      <td>10</td>\n",
       "      <td>Lemonade</td>\n",
       "      <td>Beverage</td>\n",
       "      <td>Cold Option</td>\n",
       "      <td>0.65</td>\n",
       "      <td>3.5</td>\n",
       "      <td>{\\n  \"menu_item_health_metrics\": [\\n    {\\n   ...</td>\n",
       "      <td>2021</td>\n",
       "      <td>159322</td>\n",
       "    </tr>\n",
       "    <tr>\n",
       "      <th>3</th>\n",
       "      <td>10001</td>\n",
       "      <td>1</td>\n",
       "      <td>Ice Cream</td>\n",
       "      <td>Freezing Point</td>\n",
       "      <td>10</td>\n",
       "      <td>Lemonade</td>\n",
       "      <td>Beverage</td>\n",
       "      <td>Cold Option</td>\n",
       "      <td>0.65</td>\n",
       "      <td>3.5</td>\n",
       "      <td>{\\n  \"menu_item_health_metrics\": [\\n    {\\n   ...</td>\n",
       "      <td>2022</td>\n",
       "      <td>149318</td>\n",
       "    </tr>\n",
       "    <tr>\n",
       "      <th>4</th>\n",
       "      <td>10002</td>\n",
       "      <td>1</td>\n",
       "      <td>Ice Cream</td>\n",
       "      <td>Freezing Point</td>\n",
       "      <td>11</td>\n",
       "      <td>Sugar Cone</td>\n",
       "      <td>Dessert</td>\n",
       "      <td>Cold Option</td>\n",
       "      <td>2.50</td>\n",
       "      <td>6.0</td>\n",
       "      <td>{\\n  \"menu_item_health_metrics\": [\\n    {\\n   ...</td>\n",
       "      <td>2019</td>\n",
       "      <td>15597</td>\n",
       "    </tr>\n",
       "  </tbody>\n",
       "</table>\n",
       "</div>"
      ],
      "text/plain": [
       "   MENU_ID  MENU_TYPE_ID  MENU_TYPE TRUCK_BRAND_NAME  MENU_ITEM_ID  \\\n",
       "0    10001             1  Ice Cream   Freezing Point            10   \n",
       "1    10001             1  Ice Cream   Freezing Point            10   \n",
       "2    10001             1  Ice Cream   Freezing Point            10   \n",
       "3    10001             1  Ice Cream   Freezing Point            10   \n",
       "4    10002             1  Ice Cream   Freezing Point            11   \n",
       "\n",
       "  MENU_ITEM_NAME ITEM_CATEGORY ITEM_SUBCATEGORY  COST_OF_GOODS_USD  \\\n",
       "0       Lemonade      Beverage      Cold Option               0.65   \n",
       "1       Lemonade      Beverage      Cold Option               0.65   \n",
       "2       Lemonade      Beverage      Cold Option               0.65   \n",
       "3       Lemonade      Beverage      Cold Option               0.65   \n",
       "4     Sugar Cone       Dessert      Cold Option               2.50   \n",
       "\n",
       "   SALE_PRICE_USD                       MENU_ITEM_HEALTH_METRICS_OBJ  YEAR  \\\n",
       "0             3.5  {\\n  \"menu_item_health_metrics\": [\\n    {\\n   ...  2019   \n",
       "1             3.5  {\\n  \"menu_item_health_metrics\": [\\n    {\\n   ...  2020   \n",
       "2             3.5  {\\n  \"menu_item_health_metrics\": [\\n    {\\n   ...  2021   \n",
       "3             3.5  {\\n  \"menu_item_health_metrics\": [\\n    {\\n   ...  2022   \n",
       "4             6.0  {\\n  \"menu_item_health_metrics\": [\\n    {\\n   ...  2019   \n",
       "\n",
       "   TOTAL_QTY_SOLD_PER_YEAR  \n",
       "0                     5305  \n",
       "1                    26284  \n",
       "2                   159322  \n",
       "3                   149318  \n",
       "4                    15597  "
      ]
     },
     "execution_count": 255,
     "metadata": {},
     "output_type": "execute_result"
    }
   ],
   "source": [
    "# preview menu table\n",
    "menu_df.head()"
   ]
  },
  {
   "cell_type": "code",
   "execution_count": 256,
   "metadata": {},
   "outputs": [],
   "source": [
    "# Convert the string JSON data to a nested dictionary\n",
    "menu_df['MENU_ITEM_HEALTH_METRICS_OBJ'] = menu_df['MENU_ITEM_HEALTH_METRICS_OBJ'].apply(ast.literal_eval)\n",
    "\n",
    "# Use json_normalize to flatten the nested JSON data\n",
    "menu_item_metrics = pd.json_normalize(menu_df['MENU_ITEM_HEALTH_METRICS_OBJ'], record_path='menu_item_health_metrics')\n",
    "\n",
    "# Rename the columns\n",
    "menu_item_metrics = menu_item_metrics.rename(columns={\n",
    "    'is_dairy_free_flag': 'DAIRY_FREE',\n",
    "    'is_gluten_free_flag': 'GLUTEN_FREE',\n",
    "    'is_healthy_flag': 'HEALTHY',\n",
    "    'is_nut_free_flag': 'NUT_FREE'\n",
    "})\n",
    "\n",
    "# Replace 'Y' with 'Yes' and 'N' with 'No' in the DataFrame\n",
    "menu_item_metrics = menu_item_metrics.replace({'Y': 1, 'N': 0})\n",
    "\n",
    "# Concatenate the flattened DataFrame with the original DataFrame\n",
    "menu_df = pd.concat([menu_df, menu_item_metrics], axis=1)\n",
    "\n",
    "# Drop the original 'MENU_ITEM_HEALTH_METRICS_OBJ' and 'ingredients' column \n",
    "menu_df = menu_df.drop(columns=['MENU_ITEM_HEALTH_METRICS_OBJ', 'ingredients'])"
   ]
  },
  {
   "cell_type": "code",
   "execution_count": 257,
   "metadata": {},
   "outputs": [
    {
     "data": {
      "text/html": [
       "<div>\n",
       "<style scoped>\n",
       "    .dataframe tbody tr th:only-of-type {\n",
       "        vertical-align: middle;\n",
       "    }\n",
       "\n",
       "    .dataframe tbody tr th {\n",
       "        vertical-align: top;\n",
       "    }\n",
       "\n",
       "    .dataframe thead th {\n",
       "        text-align: right;\n",
       "    }\n",
       "</style>\n",
       "<table border=\"1\" class=\"dataframe\">\n",
       "  <thead>\n",
       "    <tr style=\"text-align: right;\">\n",
       "      <th></th>\n",
       "      <th>MENU_ID</th>\n",
       "      <th>MENU_TYPE_ID</th>\n",
       "      <th>MENU_TYPE</th>\n",
       "      <th>TRUCK_BRAND_NAME</th>\n",
       "      <th>MENU_ITEM_ID</th>\n",
       "      <th>MENU_ITEM_NAME</th>\n",
       "      <th>ITEM_CATEGORY</th>\n",
       "      <th>ITEM_SUBCATEGORY</th>\n",
       "      <th>COST_OF_GOODS_USD</th>\n",
       "      <th>SALE_PRICE_USD</th>\n",
       "      <th>YEAR</th>\n",
       "      <th>TOTAL_QTY_SOLD_PER_YEAR</th>\n",
       "      <th>DAIRY_FREE</th>\n",
       "      <th>GLUTEN_FREE</th>\n",
       "      <th>HEALTHY</th>\n",
       "      <th>NUT_FREE</th>\n",
       "    </tr>\n",
       "  </thead>\n",
       "  <tbody>\n",
       "    <tr>\n",
       "      <th>0</th>\n",
       "      <td>10001</td>\n",
       "      <td>1</td>\n",
       "      <td>Ice Cream</td>\n",
       "      <td>Freezing Point</td>\n",
       "      <td>10</td>\n",
       "      <td>Lemonade</td>\n",
       "      <td>Beverage</td>\n",
       "      <td>Cold Option</td>\n",
       "      <td>0.65</td>\n",
       "      <td>3.5</td>\n",
       "      <td>2019</td>\n",
       "      <td>5305</td>\n",
       "      <td>1</td>\n",
       "      <td>1</td>\n",
       "      <td>0</td>\n",
       "      <td>1</td>\n",
       "    </tr>\n",
       "    <tr>\n",
       "      <th>1</th>\n",
       "      <td>10001</td>\n",
       "      <td>1</td>\n",
       "      <td>Ice Cream</td>\n",
       "      <td>Freezing Point</td>\n",
       "      <td>10</td>\n",
       "      <td>Lemonade</td>\n",
       "      <td>Beverage</td>\n",
       "      <td>Cold Option</td>\n",
       "      <td>0.65</td>\n",
       "      <td>3.5</td>\n",
       "      <td>2020</td>\n",
       "      <td>26284</td>\n",
       "      <td>1</td>\n",
       "      <td>1</td>\n",
       "      <td>0</td>\n",
       "      <td>1</td>\n",
       "    </tr>\n",
       "    <tr>\n",
       "      <th>2</th>\n",
       "      <td>10001</td>\n",
       "      <td>1</td>\n",
       "      <td>Ice Cream</td>\n",
       "      <td>Freezing Point</td>\n",
       "      <td>10</td>\n",
       "      <td>Lemonade</td>\n",
       "      <td>Beverage</td>\n",
       "      <td>Cold Option</td>\n",
       "      <td>0.65</td>\n",
       "      <td>3.5</td>\n",
       "      <td>2021</td>\n",
       "      <td>159322</td>\n",
       "      <td>1</td>\n",
       "      <td>1</td>\n",
       "      <td>0</td>\n",
       "      <td>1</td>\n",
       "    </tr>\n",
       "    <tr>\n",
       "      <th>3</th>\n",
       "      <td>10001</td>\n",
       "      <td>1</td>\n",
       "      <td>Ice Cream</td>\n",
       "      <td>Freezing Point</td>\n",
       "      <td>10</td>\n",
       "      <td>Lemonade</td>\n",
       "      <td>Beverage</td>\n",
       "      <td>Cold Option</td>\n",
       "      <td>0.65</td>\n",
       "      <td>3.5</td>\n",
       "      <td>2022</td>\n",
       "      <td>149318</td>\n",
       "      <td>1</td>\n",
       "      <td>1</td>\n",
       "      <td>0</td>\n",
       "      <td>1</td>\n",
       "    </tr>\n",
       "    <tr>\n",
       "      <th>4</th>\n",
       "      <td>10002</td>\n",
       "      <td>1</td>\n",
       "      <td>Ice Cream</td>\n",
       "      <td>Freezing Point</td>\n",
       "      <td>11</td>\n",
       "      <td>Sugar Cone</td>\n",
       "      <td>Dessert</td>\n",
       "      <td>Cold Option</td>\n",
       "      <td>2.50</td>\n",
       "      <td>6.0</td>\n",
       "      <td>2019</td>\n",
       "      <td>15597</td>\n",
       "      <td>1</td>\n",
       "      <td>1</td>\n",
       "      <td>0</td>\n",
       "      <td>1</td>\n",
       "    </tr>\n",
       "  </tbody>\n",
       "</table>\n",
       "</div>"
      ],
      "text/plain": [
       "   MENU_ID  MENU_TYPE_ID  MENU_TYPE TRUCK_BRAND_NAME  MENU_ITEM_ID  \\\n",
       "0    10001             1  Ice Cream   Freezing Point            10   \n",
       "1    10001             1  Ice Cream   Freezing Point            10   \n",
       "2    10001             1  Ice Cream   Freezing Point            10   \n",
       "3    10001             1  Ice Cream   Freezing Point            10   \n",
       "4    10002             1  Ice Cream   Freezing Point            11   \n",
       "\n",
       "  MENU_ITEM_NAME ITEM_CATEGORY ITEM_SUBCATEGORY  COST_OF_GOODS_USD  \\\n",
       "0       Lemonade      Beverage      Cold Option               0.65   \n",
       "1       Lemonade      Beverage      Cold Option               0.65   \n",
       "2       Lemonade      Beverage      Cold Option               0.65   \n",
       "3       Lemonade      Beverage      Cold Option               0.65   \n",
       "4     Sugar Cone       Dessert      Cold Option               2.50   \n",
       "\n",
       "   SALE_PRICE_USD  YEAR  TOTAL_QTY_SOLD_PER_YEAR  DAIRY_FREE  GLUTEN_FREE  \\\n",
       "0             3.5  2019                     5305           1            1   \n",
       "1             3.5  2020                    26284           1            1   \n",
       "2             3.5  2021                   159322           1            1   \n",
       "3             3.5  2022                   149318           1            1   \n",
       "4             6.0  2019                    15597           1            1   \n",
       "\n",
       "   HEALTHY  NUT_FREE  \n",
       "0        0         1  \n",
       "1        0         1  \n",
       "2        0         1  \n",
       "3        0         1  \n",
       "4        0         1  "
      ]
     },
     "execution_count": 257,
     "metadata": {},
     "output_type": "execute_result"
    }
   ],
   "source": [
    "menu_df.head()"
   ]
  },
  {
   "cell_type": "markdown",
   "metadata": {},
   "source": [
    "# Final Table"
   ]
  },
  {
   "cell_type": "code",
   "execution_count": 258,
   "metadata": {},
   "outputs": [],
   "source": [
    "final_df = menu_df"
   ]
  },
  {
   "cell_type": "code",
   "execution_count": 259,
   "metadata": {},
   "outputs": [
    {
     "data": {
      "text/html": [
       "<div>\n",
       "<style scoped>\n",
       "    .dataframe tbody tr th:only-of-type {\n",
       "        vertical-align: middle;\n",
       "    }\n",
       "\n",
       "    .dataframe tbody tr th {\n",
       "        vertical-align: top;\n",
       "    }\n",
       "\n",
       "    .dataframe thead th {\n",
       "        text-align: right;\n",
       "    }\n",
       "</style>\n",
       "<table border=\"1\" class=\"dataframe\">\n",
       "  <thead>\n",
       "    <tr style=\"text-align: right;\">\n",
       "      <th></th>\n",
       "      <th>MENU_ID</th>\n",
       "      <th>MENU_TYPE_ID</th>\n",
       "      <th>MENU_TYPE</th>\n",
       "      <th>TRUCK_BRAND_NAME</th>\n",
       "      <th>MENU_ITEM_ID</th>\n",
       "      <th>MENU_ITEM_NAME</th>\n",
       "      <th>ITEM_CATEGORY</th>\n",
       "      <th>ITEM_SUBCATEGORY</th>\n",
       "      <th>COST_OF_GOODS_USD</th>\n",
       "      <th>SALE_PRICE_USD</th>\n",
       "      <th>YEAR</th>\n",
       "      <th>TOTAL_QTY_SOLD_PER_YEAR</th>\n",
       "      <th>DAIRY_FREE</th>\n",
       "      <th>GLUTEN_FREE</th>\n",
       "      <th>HEALTHY</th>\n",
       "      <th>NUT_FREE</th>\n",
       "    </tr>\n",
       "  </thead>\n",
       "  <tbody>\n",
       "    <tr>\n",
       "      <th>0</th>\n",
       "      <td>10001</td>\n",
       "      <td>1</td>\n",
       "      <td>Ice Cream</td>\n",
       "      <td>Freezing Point</td>\n",
       "      <td>10</td>\n",
       "      <td>Lemonade</td>\n",
       "      <td>Beverage</td>\n",
       "      <td>Cold Option</td>\n",
       "      <td>0.65</td>\n",
       "      <td>3.5</td>\n",
       "      <td>2019</td>\n",
       "      <td>5305</td>\n",
       "      <td>1</td>\n",
       "      <td>1</td>\n",
       "      <td>0</td>\n",
       "      <td>1</td>\n",
       "    </tr>\n",
       "    <tr>\n",
       "      <th>1</th>\n",
       "      <td>10001</td>\n",
       "      <td>1</td>\n",
       "      <td>Ice Cream</td>\n",
       "      <td>Freezing Point</td>\n",
       "      <td>10</td>\n",
       "      <td>Lemonade</td>\n",
       "      <td>Beverage</td>\n",
       "      <td>Cold Option</td>\n",
       "      <td>0.65</td>\n",
       "      <td>3.5</td>\n",
       "      <td>2020</td>\n",
       "      <td>26284</td>\n",
       "      <td>1</td>\n",
       "      <td>1</td>\n",
       "      <td>0</td>\n",
       "      <td>1</td>\n",
       "    </tr>\n",
       "    <tr>\n",
       "      <th>2</th>\n",
       "      <td>10001</td>\n",
       "      <td>1</td>\n",
       "      <td>Ice Cream</td>\n",
       "      <td>Freezing Point</td>\n",
       "      <td>10</td>\n",
       "      <td>Lemonade</td>\n",
       "      <td>Beverage</td>\n",
       "      <td>Cold Option</td>\n",
       "      <td>0.65</td>\n",
       "      <td>3.5</td>\n",
       "      <td>2021</td>\n",
       "      <td>159322</td>\n",
       "      <td>1</td>\n",
       "      <td>1</td>\n",
       "      <td>0</td>\n",
       "      <td>1</td>\n",
       "    </tr>\n",
       "    <tr>\n",
       "      <th>3</th>\n",
       "      <td>10001</td>\n",
       "      <td>1</td>\n",
       "      <td>Ice Cream</td>\n",
       "      <td>Freezing Point</td>\n",
       "      <td>10</td>\n",
       "      <td>Lemonade</td>\n",
       "      <td>Beverage</td>\n",
       "      <td>Cold Option</td>\n",
       "      <td>0.65</td>\n",
       "      <td>3.5</td>\n",
       "      <td>2022</td>\n",
       "      <td>149318</td>\n",
       "      <td>1</td>\n",
       "      <td>1</td>\n",
       "      <td>0</td>\n",
       "      <td>1</td>\n",
       "    </tr>\n",
       "    <tr>\n",
       "      <th>4</th>\n",
       "      <td>10002</td>\n",
       "      <td>1</td>\n",
       "      <td>Ice Cream</td>\n",
       "      <td>Freezing Point</td>\n",
       "      <td>11</td>\n",
       "      <td>Sugar Cone</td>\n",
       "      <td>Dessert</td>\n",
       "      <td>Cold Option</td>\n",
       "      <td>2.50</td>\n",
       "      <td>6.0</td>\n",
       "      <td>2019</td>\n",
       "      <td>15597</td>\n",
       "      <td>1</td>\n",
       "      <td>1</td>\n",
       "      <td>0</td>\n",
       "      <td>1</td>\n",
       "    </tr>\n",
       "  </tbody>\n",
       "</table>\n",
       "</div>"
      ],
      "text/plain": [
       "   MENU_ID  MENU_TYPE_ID  MENU_TYPE TRUCK_BRAND_NAME  MENU_ITEM_ID  \\\n",
       "0    10001             1  Ice Cream   Freezing Point            10   \n",
       "1    10001             1  Ice Cream   Freezing Point            10   \n",
       "2    10001             1  Ice Cream   Freezing Point            10   \n",
       "3    10001             1  Ice Cream   Freezing Point            10   \n",
       "4    10002             1  Ice Cream   Freezing Point            11   \n",
       "\n",
       "  MENU_ITEM_NAME ITEM_CATEGORY ITEM_SUBCATEGORY  COST_OF_GOODS_USD  \\\n",
       "0       Lemonade      Beverage      Cold Option               0.65   \n",
       "1       Lemonade      Beverage      Cold Option               0.65   \n",
       "2       Lemonade      Beverage      Cold Option               0.65   \n",
       "3       Lemonade      Beverage      Cold Option               0.65   \n",
       "4     Sugar Cone       Dessert      Cold Option               2.50   \n",
       "\n",
       "   SALE_PRICE_USD  YEAR  TOTAL_QTY_SOLD_PER_YEAR  DAIRY_FREE  GLUTEN_FREE  \\\n",
       "0             3.5  2019                     5305           1            1   \n",
       "1             3.5  2020                    26284           1            1   \n",
       "2             3.5  2021                   159322           1            1   \n",
       "3             3.5  2022                   149318           1            1   \n",
       "4             6.0  2019                    15597           1            1   \n",
       "\n",
       "   HEALTHY  NUT_FREE  \n",
       "0        0         1  \n",
       "1        0         1  \n",
       "2        0         1  \n",
       "3        0         1  \n",
       "4        0         1  "
      ]
     },
     "execution_count": 259,
     "metadata": {},
     "output_type": "execute_result"
    }
   ],
   "source": [
    "final_df.head()"
   ]
  },
  {
   "cell_type": "code",
   "execution_count": 260,
   "metadata": {},
   "outputs": [],
   "source": [
    "final_df['TOTAL_QTY_SOLD_PER_YEAR'] = final_df['TOTAL_QTY_SOLD_PER_YEAR'].astype(int)"
   ]
  },
  {
   "cell_type": "code",
   "execution_count": 261,
   "metadata": {},
   "outputs": [
    {
     "name": "stdout",
     "output_type": "stream",
     "text": [
      "Range: 5211 - 1009207\n"
     ]
    }
   ],
   "source": [
    "# Calculate the minimum and maximum values of the 'TOTAL_QTY_SOLD' column\n",
    "min_value = final_df['TOTAL_QTY_SOLD_PER_YEAR'].min()\n",
    "max_value = final_df['TOTAL_QTY_SOLD_PER_YEAR'].max()\n",
    "\n",
    "# Calculate the range\n",
    "column_range = max_value - min_value\n",
    "\n",
    "print(\"Range: {} - {}\".format(min_value, max_value))"
   ]
  },
  {
   "cell_type": "code",
   "execution_count": 262,
   "metadata": {},
   "outputs": [
    {
     "data": {
      "text/html": [
       "<div>\n",
       "<style scoped>\n",
       "    .dataframe tbody tr th:only-of-type {\n",
       "        vertical-align: middle;\n",
       "    }\n",
       "\n",
       "    .dataframe tbody tr th {\n",
       "        vertical-align: top;\n",
       "    }\n",
       "\n",
       "    .dataframe thead th {\n",
       "        text-align: right;\n",
       "    }\n",
       "</style>\n",
       "<table border=\"1\" class=\"dataframe\">\n",
       "  <thead>\n",
       "    <tr style=\"text-align: right;\">\n",
       "      <th></th>\n",
       "      <th>MENU_TYPE</th>\n",
       "      <th>TRUCK_BRAND_NAME</th>\n",
       "      <th>MENU_ITEM_ID</th>\n",
       "      <th>ITEM_CATEGORY</th>\n",
       "      <th>ITEM_SUBCATEGORY</th>\n",
       "      <th>SALE_PRICE_USD</th>\n",
       "      <th>YEAR</th>\n",
       "      <th>TOTAL_QTY_SOLD_PER_YEAR</th>\n",
       "      <th>DAIRY_FREE</th>\n",
       "      <th>GLUTEN_FREE</th>\n",
       "      <th>HEALTHY</th>\n",
       "      <th>NUT_FREE</th>\n",
       "    </tr>\n",
       "  </thead>\n",
       "  <tbody>\n",
       "    <tr>\n",
       "      <th>0</th>\n",
       "      <td>Ice Cream</td>\n",
       "      <td>Freezing Point</td>\n",
       "      <td>10</td>\n",
       "      <td>Beverage</td>\n",
       "      <td>Cold Option</td>\n",
       "      <td>3.5</td>\n",
       "      <td>2019</td>\n",
       "      <td>5305</td>\n",
       "      <td>1</td>\n",
       "      <td>1</td>\n",
       "      <td>0</td>\n",
       "      <td>1</td>\n",
       "    </tr>\n",
       "    <tr>\n",
       "      <th>1</th>\n",
       "      <td>Ice Cream</td>\n",
       "      <td>Freezing Point</td>\n",
       "      <td>10</td>\n",
       "      <td>Beverage</td>\n",
       "      <td>Cold Option</td>\n",
       "      <td>3.5</td>\n",
       "      <td>2020</td>\n",
       "      <td>26284</td>\n",
       "      <td>1</td>\n",
       "      <td>1</td>\n",
       "      <td>0</td>\n",
       "      <td>1</td>\n",
       "    </tr>\n",
       "    <tr>\n",
       "      <th>2</th>\n",
       "      <td>Ice Cream</td>\n",
       "      <td>Freezing Point</td>\n",
       "      <td>10</td>\n",
       "      <td>Beverage</td>\n",
       "      <td>Cold Option</td>\n",
       "      <td>3.5</td>\n",
       "      <td>2021</td>\n",
       "      <td>159322</td>\n",
       "      <td>1</td>\n",
       "      <td>1</td>\n",
       "      <td>0</td>\n",
       "      <td>1</td>\n",
       "    </tr>\n",
       "    <tr>\n",
       "      <th>3</th>\n",
       "      <td>Ice Cream</td>\n",
       "      <td>Freezing Point</td>\n",
       "      <td>10</td>\n",
       "      <td>Beverage</td>\n",
       "      <td>Cold Option</td>\n",
       "      <td>3.5</td>\n",
       "      <td>2022</td>\n",
       "      <td>149318</td>\n",
       "      <td>1</td>\n",
       "      <td>1</td>\n",
       "      <td>0</td>\n",
       "      <td>1</td>\n",
       "    </tr>\n",
       "    <tr>\n",
       "      <th>4</th>\n",
       "      <td>Ice Cream</td>\n",
       "      <td>Freezing Point</td>\n",
       "      <td>11</td>\n",
       "      <td>Dessert</td>\n",
       "      <td>Cold Option</td>\n",
       "      <td>6.0</td>\n",
       "      <td>2019</td>\n",
       "      <td>15597</td>\n",
       "      <td>1</td>\n",
       "      <td>1</td>\n",
       "      <td>0</td>\n",
       "      <td>1</td>\n",
       "    </tr>\n",
       "  </tbody>\n",
       "</table>\n",
       "</div>"
      ],
      "text/plain": [
       "   MENU_TYPE TRUCK_BRAND_NAME  MENU_ITEM_ID ITEM_CATEGORY ITEM_SUBCATEGORY  \\\n",
       "0  Ice Cream   Freezing Point            10      Beverage      Cold Option   \n",
       "1  Ice Cream   Freezing Point            10      Beverage      Cold Option   \n",
       "2  Ice Cream   Freezing Point            10      Beverage      Cold Option   \n",
       "3  Ice Cream   Freezing Point            10      Beverage      Cold Option   \n",
       "4  Ice Cream   Freezing Point            11       Dessert      Cold Option   \n",
       "\n",
       "   SALE_PRICE_USD  YEAR  TOTAL_QTY_SOLD_PER_YEAR  DAIRY_FREE  GLUTEN_FREE  \\\n",
       "0             3.5  2019                     5305           1            1   \n",
       "1             3.5  2020                    26284           1            1   \n",
       "2             3.5  2021                   159322           1            1   \n",
       "3             3.5  2022                   149318           1            1   \n",
       "4             6.0  2019                    15597           1            1   \n",
       "\n",
       "   HEALTHY  NUT_FREE  \n",
       "0        0         1  \n",
       "1        0         1  \n",
       "2        0         1  \n",
       "3        0         1  \n",
       "4        0         1  "
      ]
     },
     "execution_count": 262,
     "metadata": {},
     "output_type": "execute_result"
    }
   ],
   "source": [
    "final_df = final_df.drop([\"COST_OF_GOODS_USD\", \"MENU_ID\", \"MENU_TYPE_ID\", \"MENU_ITEM_NAME\"], axis=1)\n",
    "final_df.head()"
   ]
  },
  {
   "cell_type": "code",
   "execution_count": 263,
   "metadata": {},
   "outputs": [
    {
     "data": {
      "text/html": [
       "<div>\n",
       "<style scoped>\n",
       "    .dataframe tbody tr th:only-of-type {\n",
       "        vertical-align: middle;\n",
       "    }\n",
       "\n",
       "    .dataframe tbody tr th {\n",
       "        vertical-align: top;\n",
       "    }\n",
       "\n",
       "    .dataframe thead th {\n",
       "        text-align: right;\n",
       "    }\n",
       "</style>\n",
       "<table border=\"1\" class=\"dataframe\">\n",
       "  <thead>\n",
       "    <tr style=\"text-align: right;\">\n",
       "      <th></th>\n",
       "      <th>MENU_TYPE</th>\n",
       "      <th>TRUCK_BRAND_NAME</th>\n",
       "      <th>MENU_ITEM_ID</th>\n",
       "      <th>ITEM_CATEGORY</th>\n",
       "      <th>ITEM_SUBCATEGORY</th>\n",
       "      <th>SALE_PRICE_USD</th>\n",
       "      <th>YEAR</th>\n",
       "      <th>TOTAL_QTY_SOLD_PER_YEAR</th>\n",
       "      <th>DAIRY_FREE</th>\n",
       "      <th>GLUTEN_FREE</th>\n",
       "      <th>HEALTHY</th>\n",
       "      <th>NUT_FREE</th>\n",
       "    </tr>\n",
       "  </thead>\n",
       "  <tbody>\n",
       "    <tr>\n",
       "      <th>0</th>\n",
       "      <td>Ice Cream</td>\n",
       "      <td>Freezing Point</td>\n",
       "      <td>10</td>\n",
       "      <td>Beverage</td>\n",
       "      <td>0</td>\n",
       "      <td>3.5</td>\n",
       "      <td>2019</td>\n",
       "      <td>5305</td>\n",
       "      <td>1</td>\n",
       "      <td>1</td>\n",
       "      <td>0</td>\n",
       "      <td>1</td>\n",
       "    </tr>\n",
       "    <tr>\n",
       "      <th>1</th>\n",
       "      <td>Ice Cream</td>\n",
       "      <td>Freezing Point</td>\n",
       "      <td>10</td>\n",
       "      <td>Beverage</td>\n",
       "      <td>0</td>\n",
       "      <td>3.5</td>\n",
       "      <td>2020</td>\n",
       "      <td>26284</td>\n",
       "      <td>1</td>\n",
       "      <td>1</td>\n",
       "      <td>0</td>\n",
       "      <td>1</td>\n",
       "    </tr>\n",
       "    <tr>\n",
       "      <th>2</th>\n",
       "      <td>Ice Cream</td>\n",
       "      <td>Freezing Point</td>\n",
       "      <td>10</td>\n",
       "      <td>Beverage</td>\n",
       "      <td>0</td>\n",
       "      <td>3.5</td>\n",
       "      <td>2021</td>\n",
       "      <td>159322</td>\n",
       "      <td>1</td>\n",
       "      <td>1</td>\n",
       "      <td>0</td>\n",
       "      <td>1</td>\n",
       "    </tr>\n",
       "    <tr>\n",
       "      <th>3</th>\n",
       "      <td>Ice Cream</td>\n",
       "      <td>Freezing Point</td>\n",
       "      <td>10</td>\n",
       "      <td>Beverage</td>\n",
       "      <td>0</td>\n",
       "      <td>3.5</td>\n",
       "      <td>2022</td>\n",
       "      <td>149318</td>\n",
       "      <td>1</td>\n",
       "      <td>1</td>\n",
       "      <td>0</td>\n",
       "      <td>1</td>\n",
       "    </tr>\n",
       "    <tr>\n",
       "      <th>4</th>\n",
       "      <td>Ice Cream</td>\n",
       "      <td>Freezing Point</td>\n",
       "      <td>11</td>\n",
       "      <td>Dessert</td>\n",
       "      <td>0</td>\n",
       "      <td>6.0</td>\n",
       "      <td>2019</td>\n",
       "      <td>15597</td>\n",
       "      <td>1</td>\n",
       "      <td>1</td>\n",
       "      <td>0</td>\n",
       "      <td>1</td>\n",
       "    </tr>\n",
       "  </tbody>\n",
       "</table>\n",
       "</div>"
      ],
      "text/plain": [
       "   MENU_TYPE TRUCK_BRAND_NAME  MENU_ITEM_ID ITEM_CATEGORY  ITEM_SUBCATEGORY  \\\n",
       "0  Ice Cream   Freezing Point            10      Beverage                 0   \n",
       "1  Ice Cream   Freezing Point            10      Beverage                 0   \n",
       "2  Ice Cream   Freezing Point            10      Beverage                 0   \n",
       "3  Ice Cream   Freezing Point            10      Beverage                 0   \n",
       "4  Ice Cream   Freezing Point            11       Dessert                 0   \n",
       "\n",
       "   SALE_PRICE_USD  YEAR  TOTAL_QTY_SOLD_PER_YEAR  DAIRY_FREE  GLUTEN_FREE  \\\n",
       "0             3.5  2019                     5305           1            1   \n",
       "1             3.5  2020                    26284           1            1   \n",
       "2             3.5  2021                   159322           1            1   \n",
       "3             3.5  2022                   149318           1            1   \n",
       "4             6.0  2019                    15597           1            1   \n",
       "\n",
       "   HEALTHY  NUT_FREE  \n",
       "0        0         1  \n",
       "1        0         1  \n",
       "2        0         1  \n",
       "3        0         1  \n",
       "4        0         1  "
      ]
     },
     "execution_count": 263,
     "metadata": {},
     "output_type": "execute_result"
    }
   ],
   "source": [
    "# Define the mapping dictionary\n",
    "temperature_mapping = {'Cold Option': 0, 'Warm Option': 1, 'Hot Option': 2}\n",
    "\n",
    "# Apply the mapping to the 'ITEM_SUBCATEGORY' column in final_df\n",
    "final_df['ITEM_SUBCATEGORY'] = final_df['ITEM_SUBCATEGORY'].map(temperature_mapping)\n",
    "\n",
    "final_df.head()"
   ]
  },
  {
   "cell_type": "markdown",
   "metadata": {},
   "source": [
    "# Check for Missing Values"
   ]
  },
  {
   "cell_type": "code",
   "execution_count": 264,
   "metadata": {},
   "outputs": [
    {
     "data": {
      "text/plain": [
       "MENU_TYPE                  0\n",
       "TRUCK_BRAND_NAME           0\n",
       "MENU_ITEM_ID               0\n",
       "ITEM_CATEGORY              0\n",
       "ITEM_SUBCATEGORY           0\n",
       "SALE_PRICE_USD             0\n",
       "YEAR                       0\n",
       "TOTAL_QTY_SOLD_PER_YEAR    0\n",
       "DAIRY_FREE                 0\n",
       "GLUTEN_FREE                0\n",
       "HEALTHY                    0\n",
       "NUT_FREE                   0\n",
       "dtype: int64"
      ]
     },
     "execution_count": 264,
     "metadata": {},
     "output_type": "execute_result"
    }
   ],
   "source": [
    "final_df.isnull().sum()"
   ]
  },
  {
   "cell_type": "markdown",
   "metadata": {},
   "source": [
    "No missing values have been detected. Hence, no process required at this stage."
   ]
  },
  {
   "cell_type": "markdown",
   "metadata": {},
   "source": [
    "# Dealing with Outliers"
   ]
  },
  {
   "cell_type": "code",
   "execution_count": 265,
   "metadata": {},
   "outputs": [
    {
     "data": {
      "image/png": "[encoded data removed]",
      "text/plain": [
       "<Figure size 300x500 with 1 Axes>"
      ]
     },
     "metadata": {},
     "output_type": "display_data"
    }
   ],
   "source": [
    "# plot box plot for 'minimum_nights' variable\n",
    "plt.figure(figsize=(3,5))\n",
    "sns.boxplot(y=final_df['TOTAL_QTY_SOLD_PER_YEAR'])\n",
    "plt.title('TOTAL_QTY_SOLD_PER_YEAR boxplot')\n",
    "plt.show()"
   ]
  },
  {
   "cell_type": "markdown",
   "metadata": {},
   "source": [
    "Based on the boxplot shown above, there are no outliers detected. Hence, no process required for this stage.\n",
    "\n",
    "Note: Outliers for the target variable wold not dealt with even if observed as it would be considered cherry picking convenient data. Furthermore, due to the relatively small number of menu items, if subsetting of the target variable was done, there might be too limited data to build an accurate model."
   ]
  },
  {
   "cell_type": "markdown",
   "metadata": {},
   "source": [
    "# Train Test Split"
   ]
  },
  {
   "cell_type": "code",
   "execution_count": 266,
   "metadata": {},
   "outputs": [
    {
     "data": {
      "text/plain": [
       "((229, 11), (99, 11))"
      ]
     },
     "execution_count": 266,
     "metadata": {},
     "output_type": "execute_result"
    }
   ],
   "source": [
    "X_train, X_test, y_train, y_test = train_test_split(\n",
    "    final_df.drop('TOTAL_QTY_SOLD_PER_YEAR', axis=1), final_df['TOTAL_QTY_SOLD_PER_YEAR'], test_size=0.3, random_state=0)\n",
    "\n",
    "X_train.shape, X_test.shape"
   ]
  },
  {
   "cell_type": "markdown",
   "metadata": {},
   "source": [
    "# Categorical Variable Encoding "
   ]
  },
  {
   "cell_type": "code",
   "execution_count": 267,
   "metadata": {},
   "outputs": [],
   "source": [
    "# Specify the columns to encode\n",
    "columns_to_encode = [\"MENU_TYPE\", \"TRUCK_BRAND_NAME\", \"ITEM_CATEGORY\"]\n",
    "\n",
    "ohe_enc = OneHotEncoder(variables=columns_to_encode, drop_last=True)"
   ]
  },
  {
   "cell_type": "code",
   "execution_count": 268,
   "metadata": {},
   "outputs": [
    {
     "data": {
      "text/html": [
       "<style>#sk-container-id-25 {color: black;background-color: white;}#sk-container-id-25 pre{padding: 0;}#sk-container-id-25 div.sk-toggleable {background-color: white;}#sk-container-id-25 label.sk-toggleable__label {cursor: pointer;display: block;width: 100%;margin-bottom: 0;padding: 0.3em;box-sizing: border-box;text-align: center;}#sk-container-id-25 label.sk-toggleable__label-arrow:before {content: \"▸\";float: left;margin-right: 0.25em;color: #696969;}#sk-container-id-25 label.sk-toggleable__label-arrow:hover:before {color: black;}#sk-container-id-25 div.sk-estimator:hover label.sk-toggleable__label-arrow:before {color: black;}#sk-container-id-25 div.sk-toggleable__content {max-height: 0;max-width: 0;overflow: hidden;text-align: left;background-color: #f0f8ff;}#sk-container-id-25 div.sk-toggleable__content pre {margin: 0.2em;color: black;border-radius: 0.25em;background-color: #f0f8ff;}#sk-container-id-25 input.sk-toggleable__control:checked~div.sk-toggleable__content {max-height: 200px;max-width: 100%;overflow: auto;}#sk-container-id-25 input.sk-toggleable__control:checked~label.sk-toggleable__label-arrow:before {content: \"▾\";}#sk-container-id-25 div.sk-estimator input.sk-toggleable__control:checked~label.sk-toggleable__label {background-color: #d4ebff;}#sk-container-id-25 div.sk-label input.sk-toggleable__control:checked~label.sk-toggleable__label {background-color: #d4ebff;}#sk-container-id-25 input.sk-hidden--visually {border: 0;clip: rect(1px 1px 1px 1px);clip: rect(1px, 1px, 1px, 1px);height: 1px;margin: -1px;overflow: hidden;padding: 0;position: absolute;width: 1px;}#sk-container-id-25 div.sk-estimator {font-family: monospace;background-color: #f0f8ff;border: 1px dotted black;border-radius: 0.25em;box-sizing: border-box;margin-bottom: 0.5em;}#sk-container-id-25 div.sk-estimator:hover {background-color: #d4ebff;}#sk-container-id-25 div.sk-parallel-item::after {content: \"\";width: 100%;border-bottom: 1px solid gray;flex-grow: 1;}#sk-container-id-25 div.sk-label:hover label.sk-toggleable__label {background-color: #d4ebff;}#sk-container-id-25 div.sk-serial::before {content: \"\";position: absolute;border-left: 1px solid gray;box-sizing: border-box;top: 0;bottom: 0;left: 50%;z-index: 0;}#sk-container-id-25 div.sk-serial {display: flex;flex-direction: column;align-items: center;background-color: white;padding-right: 0.2em;padding-left: 0.2em;position: relative;}#sk-container-id-25 div.sk-item {position: relative;z-index: 1;}#sk-container-id-25 div.sk-parallel {display: flex;align-items: stretch;justify-content: center;background-color: white;position: relative;}#sk-container-id-25 div.sk-item::before, #sk-container-id-25 div.sk-parallel-item::before {content: \"\";position: absolute;border-left: 1px solid gray;box-sizing: border-box;top: 0;bottom: 0;left: 50%;z-index: -1;}#sk-container-id-25 div.sk-parallel-item {display: flex;flex-direction: column;z-index: 1;position: relative;background-color: white;}#sk-container-id-25 div.sk-parallel-item:first-child::after {align-self: flex-end;width: 50%;}#sk-container-id-25 div.sk-parallel-item:last-child::after {align-self: flex-start;width: 50%;}#sk-container-id-25 div.sk-parallel-item:only-child::after {width: 0;}#sk-container-id-25 div.sk-dashed-wrapped {border: 1px dashed gray;margin: 0 0.4em 0.5em 0.4em;box-sizing: border-box;padding-bottom: 0.4em;background-color: white;}#sk-container-id-25 div.sk-label label {font-family: monospace;font-weight: bold;display: inline-block;line-height: 1.2em;}#sk-container-id-25 div.sk-label-container {text-align: center;}#sk-container-id-25 div.sk-container {/* jupyter's `normalize.less` sets `[hidden] { display: none; }` but bootstrap.min.css set `[hidden] { display: none !important; }` so we also need the `!important` here to be able to override the default hidden behavior on the sphinx rendered scikit-learn.org. See: https://github.com/scikit-learn/scikit-learn/issues/21755 */display: inline-block !important;position: relative;}#sk-container-id-25 div.sk-text-repr-fallback {display: none;}</style><div id=\"sk-container-id-25\" class=\"sk-top-container\"><div class=\"sk-text-repr-fallback\"><pre>OneHotEncoder(drop_last=True,\n",
       "              variables=[&#x27;MENU_TYPE&#x27;, &#x27;TRUCK_BRAND_NAME&#x27;, &#x27;ITEM_CATEGORY&#x27;])</pre><b>In a Jupyter environment, please rerun this cell to show the HTML representation or trust the notebook. <br />On GitHub, the HTML representation is unable to render, please try loading this page with nbviewer.org.</b></div><div class=\"sk-container\" hidden><div class=\"sk-item\"><div class=\"sk-estimator sk-toggleable\"><input class=\"sk-toggleable__control sk-hidden--visually\" id=\"sk-estimator-id-33\" type=\"checkbox\" checked><label for=\"sk-estimator-id-33\" class=\"sk-toggleable__label sk-toggleable__label-arrow\">OneHotEncoder</label><div class=\"sk-toggleable__content\"><pre>OneHotEncoder(drop_last=True,\n",
       "              variables=[&#x27;MENU_TYPE&#x27;, &#x27;TRUCK_BRAND_NAME&#x27;, &#x27;ITEM_CATEGORY&#x27;])</pre></div></div></div></div></div>"
      ],
      "text/plain": [
       "OneHotEncoder(drop_last=True,\n",
       "              variables=['MENU_TYPE', 'TRUCK_BRAND_NAME', 'ITEM_CATEGORY'])"
      ]
     },
     "execution_count": 268,
     "metadata": {},
     "output_type": "execute_result"
    }
   ],
   "source": [
    "# fit the encoder to the train set: it will learn the variables and \n",
    "# categories to encode\n",
    "ohe_enc.fit(X_train)"
   ]
  },
  {
   "cell_type": "code",
   "execution_count": 269,
   "metadata": {},
   "outputs": [],
   "source": [
    "X_train = ohe_enc.transform(X_train)\n",
    "X_test = ohe_enc.transform(X_test)"
   ]
  },
  {
   "cell_type": "markdown",
   "metadata": {},
   "source": [
    "# Scaling"
   ]
  },
  {
   "cell_type": "markdown",
   "metadata": {},
   "source": [
    "## Min Max Scaler"
   ]
  },
  {
   "cell_type": "code",
   "execution_count": 270,
   "metadata": {},
   "outputs": [],
   "source": [
    "# set up the scaler\n",
    "scaler = MinMaxScaler()\n",
    "\n",
    "# fit the scaler to the train set, it will learn the parameters\n",
    "scaler.fit(X_train)\n",
    "\n",
    "# transform train and test sets\n",
    "X_train_scaled = scaler.transform(X_train)\n",
    "X_test_scaled = scaler.transform(X_test)"
   ]
  },
  {
   "cell_type": "code",
   "execution_count": 271,
   "metadata": {},
   "outputs": [
    {
     "data": {
      "text/plain": [
       "['StreamlitApp/assets/product_qty_year_min_max_scaler.joblib']"
      ]
     },
     "execution_count": 271,
     "metadata": {},
     "output_type": "execute_result"
    }
   ],
   "source": [
    "# Save the model to a file\n",
    "joblib.dump(scaler, \"StreamlitApp/assets/product_qty_year_min_max_scaler.joblib\")"
   ]
  },
  {
   "cell_type": "markdown",
   "metadata": {},
   "source": [
    "## Standard Scaler"
   ]
  },
  {
   "cell_type": "code",
   "execution_count": 272,
   "metadata": {},
   "outputs": [],
   "source": [
    "# # set up the scaler\n",
    "# scaler = StandardScaler()\n",
    "\n",
    "# # fit the scaler to the train set, it will learn the parameters\n",
    "# scaler.fit(X_train)\n",
    "\n",
    "# # transform train and test sets\n",
    "# X_train_scaled = scaler.transform(X_train)\n",
    "# X_test_scaled = scaler.transform(X_test)"
   ]
  },
  {
   "cell_type": "markdown",
   "metadata": {},
   "source": [
    "Standard Scaler did not lead to a difference in result."
   ]
  },
  {
   "cell_type": "code",
   "execution_count": 273,
   "metadata": {},
   "outputs": [],
   "source": [
    "# # set up the scaler\n",
    "# scaler = RobustScaler()\n",
    "\n",
    "# # fit the scaler to the train set, it will learn the parameters\n",
    "# scaler.fit(X_train)\n",
    "\n",
    "# # transform train and test sets\n",
    "# X_train_scaled = scaler.transform(X_train)\n",
    "# X_test_scaled = scaler.transform(X_test)"
   ]
  },
  {
   "cell_type": "markdown",
   "metadata": {},
   "source": [
    "Robust Scaler did not lead to a difference in result."
   ]
  },
  {
   "cell_type": "code",
   "execution_count": 274,
   "metadata": {},
   "outputs": [],
   "source": [
    "# let's transform the returned NumPy arrays to dataframes\n",
    "X_train_scaled = pd.DataFrame(X_train_scaled, columns=X_train.columns)\n",
    "X_test_scaled = pd.DataFrame(X_test_scaled, columns=X_test.columns)"
   ]
  },
  {
   "cell_type": "markdown",
   "metadata": {},
   "source": [
    "# Build Models"
   ]
  },
  {
   "cell_type": "markdown",
   "metadata": {},
   "source": [
    "## Linear Regression"
   ]
  },
  {
   "cell_type": "code",
   "execution_count": 275,
   "metadata": {},
   "outputs": [
    {
     "data": {
      "text/html": [
       "<style>#sk-container-id-26 {color: black;background-color: white;}#sk-container-id-26 pre{padding: 0;}#sk-container-id-26 div.sk-toggleable {background-color: white;}#sk-container-id-26 label.sk-toggleable__label {cursor: pointer;display: block;width: 100%;margin-bottom: 0;padding: 0.3em;box-sizing: border-box;text-align: center;}#sk-container-id-26 label.sk-toggleable__label-arrow:before {content: \"▸\";float: left;margin-right: 0.25em;color: #696969;}#sk-container-id-26 label.sk-toggleable__label-arrow:hover:before {color: black;}#sk-container-id-26 div.sk-estimator:hover label.sk-toggleable__label-arrow:before {color: black;}#sk-container-id-26 div.sk-toggleable__content {max-height: 0;max-width: 0;overflow: hidden;text-align: left;background-color: #f0f8ff;}#sk-container-id-26 div.sk-toggleable__content pre {margin: 0.2em;color: black;border-radius: 0.25em;background-color: #f0f8ff;}#sk-container-id-26 input.sk-toggleable__control:checked~div.sk-toggleable__content {max-height: 200px;max-width: 100%;overflow: auto;}#sk-container-id-26 input.sk-toggleable__control:checked~label.sk-toggleable__label-arrow:before {content: \"▾\";}#sk-container-id-26 div.sk-estimator input.sk-toggleable__control:checked~label.sk-toggleable__label {background-color: #d4ebff;}#sk-container-id-26 div.sk-label input.sk-toggleable__control:checked~label.sk-toggleable__label {background-color: #d4ebff;}#sk-container-id-26 input.sk-hidden--visually {border: 0;clip: rect(1px 1px 1px 1px);clip: rect(1px, 1px, 1px, 1px);height: 1px;margin: -1px;overflow: hidden;padding: 0;position: absolute;width: 1px;}#sk-container-id-26 div.sk-estimator {font-family: monospace;background-color: #f0f8ff;border: 1px dotted black;border-radius: 0.25em;box-sizing: border-box;margin-bottom: 0.5em;}#sk-container-id-26 div.sk-estimator:hover {background-color: #d4ebff;}#sk-container-id-26 div.sk-parallel-item::after {content: \"\";width: 100%;border-bottom: 1px solid gray;flex-grow: 1;}#sk-container-id-26 div.sk-label:hover label.sk-toggleable__label {background-color: #d4ebff;}#sk-container-id-26 div.sk-serial::before {content: \"\";position: absolute;border-left: 1px solid gray;box-sizing: border-box;top: 0;bottom: 0;left: 50%;z-index: 0;}#sk-container-id-26 div.sk-serial {display: flex;flex-direction: column;align-items: center;background-color: white;padding-right: 0.2em;padding-left: 0.2em;position: relative;}#sk-container-id-26 div.sk-item {position: relative;z-index: 1;}#sk-container-id-26 div.sk-parallel {display: flex;align-items: stretch;justify-content: center;background-color: white;position: relative;}#sk-container-id-26 div.sk-item::before, #sk-container-id-26 div.sk-parallel-item::before {content: \"\";position: absolute;border-left: 1px solid gray;box-sizing: border-box;top: 0;bottom: 0;left: 50%;z-index: -1;}#sk-container-id-26 div.sk-parallel-item {display: flex;flex-direction: column;z-index: 1;position: relative;background-color: white;}#sk-container-id-26 div.sk-parallel-item:first-child::after {align-self: flex-end;width: 50%;}#sk-container-id-26 div.sk-parallel-item:last-child::after {align-self: flex-start;width: 50%;}#sk-container-id-26 div.sk-parallel-item:only-child::after {width: 0;}#sk-container-id-26 div.sk-dashed-wrapped {border: 1px dashed gray;margin: 0 0.4em 0.5em 0.4em;box-sizing: border-box;padding-bottom: 0.4em;background-color: white;}#sk-container-id-26 div.sk-label label {font-family: monospace;font-weight: bold;display: inline-block;line-height: 1.2em;}#sk-container-id-26 div.sk-label-container {text-align: center;}#sk-container-id-26 div.sk-container {/* jupyter's `normalize.less` sets `[hidden] { display: none; }` but bootstrap.min.css set `[hidden] { display: none !important; }` so we also need the `!important` here to be able to override the default hidden behavior on the sphinx rendered scikit-learn.org. See: https://github.com/scikit-learn/scikit-learn/issues/21755 */display: inline-block !important;position: relative;}#sk-container-id-26 div.sk-text-repr-fallback {display: none;}</style><div id=\"sk-container-id-26\" class=\"sk-top-container\"><div class=\"sk-text-repr-fallback\"><pre>LinearRegression()</pre><b>In a Jupyter environment, please rerun this cell to show the HTML representation or trust the notebook. <br />On GitHub, the HTML representation is unable to render, please try loading this page with nbviewer.org.</b></div><div class=\"sk-container\" hidden><div class=\"sk-item\"><div class=\"sk-estimator sk-toggleable\"><input class=\"sk-toggleable__control sk-hidden--visually\" id=\"sk-estimator-id-34\" type=\"checkbox\" checked><label for=\"sk-estimator-id-34\" class=\"sk-toggleable__label sk-toggleable__label-arrow\">LinearRegression</label><div class=\"sk-toggleable__content\"><pre>LinearRegression()</pre></div></div></div></div></div>"
      ],
      "text/plain": [
       "LinearRegression()"
      ]
     },
     "execution_count": 275,
     "metadata": {},
     "output_type": "execute_result"
    }
   ],
   "source": [
    "# create the linear regression model\n",
    "# fit the model to the training data\n",
    "lm = LinearRegression()\n",
    "lm.fit(X_train, y_train)"
   ]
  },
  {
   "cell_type": "code",
   "execution_count": 276,
   "metadata": {},
   "outputs": [],
   "source": [
    "# Calculated the fitted values for training set\n",
    "y_fitted = lm.predict(X_train)\n",
    "\n",
    "# Task 5a: calculated the predicated value for testing data\n",
    "y_pred = lm.predict(X_test)"
   ]
  },
  {
   "cell_type": "code",
   "execution_count": 277,
   "metadata": {},
   "outputs": [
    {
     "name": "stdout",
     "output_type": "stream",
     "text": [
      "the training root mean squared error is:  289746865.139207\n",
      "the testing root mean squared error is:  289834660.0215233\n",
      "\n",
      "the training mean squared error is:  8.395324585799781e+16\n",
      "the testing mean squared error is:  8.400413014979198e+16\n",
      "\n",
      "training accuracy is:  -932736.8892705732\n",
      "testing accuracy is:  -972111.8764589477\n"
     ]
    }
   ],
   "source": [
    "model_performance(lm)"
   ]
  },
  {
   "cell_type": "markdown",
   "metadata": {},
   "source": [
    "## Decision Tree"
   ]
  },
  {
   "cell_type": "code",
   "execution_count": 278,
   "metadata": {},
   "outputs": [
    {
     "data": {
      "text/html": [
       "<style>#sk-container-id-27 {color: black;background-color: white;}#sk-container-id-27 pre{padding: 0;}#sk-container-id-27 div.sk-toggleable {background-color: white;}#sk-container-id-27 label.sk-toggleable__label {cursor: pointer;display: block;width: 100%;margin-bottom: 0;padding: 0.3em;box-sizing: border-box;text-align: center;}#sk-container-id-27 label.sk-toggleable__label-arrow:before {content: \"▸\";float: left;margin-right: 0.25em;color: #696969;}#sk-container-id-27 label.sk-toggleable__label-arrow:hover:before {color: black;}#sk-container-id-27 div.sk-estimator:hover label.sk-toggleable__label-arrow:before {color: black;}#sk-container-id-27 div.sk-toggleable__content {max-height: 0;max-width: 0;overflow: hidden;text-align: left;background-color: #f0f8ff;}#sk-container-id-27 div.sk-toggleable__content pre {margin: 0.2em;color: black;border-radius: 0.25em;background-color: #f0f8ff;}#sk-container-id-27 input.sk-toggleable__control:checked~div.sk-toggleable__content {max-height: 200px;max-width: 100%;overflow: auto;}#sk-container-id-27 input.sk-toggleable__control:checked~label.sk-toggleable__label-arrow:before {content: \"▾\";}#sk-container-id-27 div.sk-estimator input.sk-toggleable__control:checked~label.sk-toggleable__label {background-color: #d4ebff;}#sk-container-id-27 div.sk-label input.sk-toggleable__control:checked~label.sk-toggleable__label {background-color: #d4ebff;}#sk-container-id-27 input.sk-hidden--visually {border: 0;clip: rect(1px 1px 1px 1px);clip: rect(1px, 1px, 1px, 1px);height: 1px;margin: -1px;overflow: hidden;padding: 0;position: absolute;width: 1px;}#sk-container-id-27 div.sk-estimator {font-family: monospace;background-color: #f0f8ff;border: 1px dotted black;border-radius: 0.25em;box-sizing: border-box;margin-bottom: 0.5em;}#sk-container-id-27 div.sk-estimator:hover {background-color: #d4ebff;}#sk-container-id-27 div.sk-parallel-item::after {content: \"\";width: 100%;border-bottom: 1px solid gray;flex-grow: 1;}#sk-container-id-27 div.sk-label:hover label.sk-toggleable__label {background-color: #d4ebff;}#sk-container-id-27 div.sk-serial::before {content: \"\";position: absolute;border-left: 1px solid gray;box-sizing: border-box;top: 0;bottom: 0;left: 50%;z-index: 0;}#sk-container-id-27 div.sk-serial {display: flex;flex-direction: column;align-items: center;background-color: white;padding-right: 0.2em;padding-left: 0.2em;position: relative;}#sk-container-id-27 div.sk-item {position: relative;z-index: 1;}#sk-container-id-27 div.sk-parallel {display: flex;align-items: stretch;justify-content: center;background-color: white;position: relative;}#sk-container-id-27 div.sk-item::before, #sk-container-id-27 div.sk-parallel-item::before {content: \"\";position: absolute;border-left: 1px solid gray;box-sizing: border-box;top: 0;bottom: 0;left: 50%;z-index: -1;}#sk-container-id-27 div.sk-parallel-item {display: flex;flex-direction: column;z-index: 1;position: relative;background-color: white;}#sk-container-id-27 div.sk-parallel-item:first-child::after {align-self: flex-end;width: 50%;}#sk-container-id-27 div.sk-parallel-item:last-child::after {align-self: flex-start;width: 50%;}#sk-container-id-27 div.sk-parallel-item:only-child::after {width: 0;}#sk-container-id-27 div.sk-dashed-wrapped {border: 1px dashed gray;margin: 0 0.4em 0.5em 0.4em;box-sizing: border-box;padding-bottom: 0.4em;background-color: white;}#sk-container-id-27 div.sk-label label {font-family: monospace;font-weight: bold;display: inline-block;line-height: 1.2em;}#sk-container-id-27 div.sk-label-container {text-align: center;}#sk-container-id-27 div.sk-container {/* jupyter's `normalize.less` sets `[hidden] { display: none; }` but bootstrap.min.css set `[hidden] { display: none !important; }` so we also need the `!important` here to be able to override the default hidden behavior on the sphinx rendered scikit-learn.org. See: https://github.com/scikit-learn/scikit-learn/issues/21755 */display: inline-block !important;position: relative;}#sk-container-id-27 div.sk-text-repr-fallback {display: none;}</style><div id=\"sk-container-id-27\" class=\"sk-top-container\"><div class=\"sk-text-repr-fallback\"><pre>DecisionTreeRegressor(max_depth=2, random_state=2)</pre><b>In a Jupyter environment, please rerun this cell to show the HTML representation or trust the notebook. <br />On GitHub, the HTML representation is unable to render, please try loading this page with nbviewer.org.</b></div><div class=\"sk-container\" hidden><div class=\"sk-item\"><div class=\"sk-estimator sk-toggleable\"><input class=\"sk-toggleable__control sk-hidden--visually\" id=\"sk-estimator-id-35\" type=\"checkbox\" checked><label for=\"sk-estimator-id-35\" class=\"sk-toggleable__label sk-toggleable__label-arrow\">DecisionTreeRegressor</label><div class=\"sk-toggleable__content\"><pre>DecisionTreeRegressor(max_depth=2, random_state=2)</pre></div></div></div></div></div>"
      ],
      "text/plain": [
       "DecisionTreeRegressor(max_depth=2, random_state=2)"
      ]
     },
     "execution_count": 278,
     "metadata": {},
     "output_type": "execute_result"
    }
   ],
   "source": [
    "# Create Decision Tree Regressor with random state equal to 2\n",
    "# fit the model to the training data\n",
    "tree_reg = DecisionTreeRegressor(max_depth=2, random_state=2)\n",
    "tree_reg.fit(X_train, y_train)"
   ]
  },
  {
   "cell_type": "code",
   "execution_count": 279,
   "metadata": {},
   "outputs": [
    {
     "name": "stdout",
     "output_type": "stream",
     "text": [
      "the training root mean squared error is:  401016.5735227706\n",
      "the testing root mean squared error is:  364493.02030176617\n",
      "\n",
      "the training mean squared error is:  160814292239.9437\n",
      "the testing mean squared error is:  132855161848.70372\n",
      "\n",
      "training accuracy is:  -0.7866799785459002\n",
      "testing accuracy is:  -0.5374269492091421\n"
     ]
    }
   ],
   "source": [
    "model_performance(tree_reg)"
   ]
  },
  {
   "cell_type": "markdown",
   "metadata": {},
   "source": [
    "## MLP Regressor"
   ]
  },
  {
   "cell_type": "code",
   "execution_count": 280,
   "metadata": {},
   "outputs": [
    {
     "data": {
      "text/html": [
       "<style>#sk-container-id-28 {color: black;background-color: white;}#sk-container-id-28 pre{padding: 0;}#sk-container-id-28 div.sk-toggleable {background-color: white;}#sk-container-id-28 label.sk-toggleable__label {cursor: pointer;display: block;width: 100%;margin-bottom: 0;padding: 0.3em;box-sizing: border-box;text-align: center;}#sk-container-id-28 label.sk-toggleable__label-arrow:before {content: \"▸\";float: left;margin-right: 0.25em;color: #696969;}#sk-container-id-28 label.sk-toggleable__label-arrow:hover:before {color: black;}#sk-container-id-28 div.sk-estimator:hover label.sk-toggleable__label-arrow:before {color: black;}#sk-container-id-28 div.sk-toggleable__content {max-height: 0;max-width: 0;overflow: hidden;text-align: left;background-color: #f0f8ff;}#sk-container-id-28 div.sk-toggleable__content pre {margin: 0.2em;color: black;border-radius: 0.25em;background-color: #f0f8ff;}#sk-container-id-28 input.sk-toggleable__control:checked~div.sk-toggleable__content {max-height: 200px;max-width: 100%;overflow: auto;}#sk-container-id-28 input.sk-toggleable__control:checked~label.sk-toggleable__label-arrow:before {content: \"▾\";}#sk-container-id-28 div.sk-estimator input.sk-toggleable__control:checked~label.sk-toggleable__label {background-color: #d4ebff;}#sk-container-id-28 div.sk-label input.sk-toggleable__control:checked~label.sk-toggleable__label {background-color: #d4ebff;}#sk-container-id-28 input.sk-hidden--visually {border: 0;clip: rect(1px 1px 1px 1px);clip: rect(1px, 1px, 1px, 1px);height: 1px;margin: -1px;overflow: hidden;padding: 0;position: absolute;width: 1px;}#sk-container-id-28 div.sk-estimator {font-family: monospace;background-color: #f0f8ff;border: 1px dotted black;border-radius: 0.25em;box-sizing: border-box;margin-bottom: 0.5em;}#sk-container-id-28 div.sk-estimator:hover {background-color: #d4ebff;}#sk-container-id-28 div.sk-parallel-item::after {content: \"\";width: 100%;border-bottom: 1px solid gray;flex-grow: 1;}#sk-container-id-28 div.sk-label:hover label.sk-toggleable__label {background-color: #d4ebff;}#sk-container-id-28 div.sk-serial::before {content: \"\";position: absolute;border-left: 1px solid gray;box-sizing: border-box;top: 0;bottom: 0;left: 50%;z-index: 0;}#sk-container-id-28 div.sk-serial {display: flex;flex-direction: column;align-items: center;background-color: white;padding-right: 0.2em;padding-left: 0.2em;position: relative;}#sk-container-id-28 div.sk-item {position: relative;z-index: 1;}#sk-container-id-28 div.sk-parallel {display: flex;align-items: stretch;justify-content: center;background-color: white;position: relative;}#sk-container-id-28 div.sk-item::before, #sk-container-id-28 div.sk-parallel-item::before {content: \"\";position: absolute;border-left: 1px solid gray;box-sizing: border-box;top: 0;bottom: 0;left: 50%;z-index: -1;}#sk-container-id-28 div.sk-parallel-item {display: flex;flex-direction: column;z-index: 1;position: relative;background-color: white;}#sk-container-id-28 div.sk-parallel-item:first-child::after {align-self: flex-end;width: 50%;}#sk-container-id-28 div.sk-parallel-item:last-child::after {align-self: flex-start;width: 50%;}#sk-container-id-28 div.sk-parallel-item:only-child::after {width: 0;}#sk-container-id-28 div.sk-dashed-wrapped {border: 1px dashed gray;margin: 0 0.4em 0.5em 0.4em;box-sizing: border-box;padding-bottom: 0.4em;background-color: white;}#sk-container-id-28 div.sk-label label {font-family: monospace;font-weight: bold;display: inline-block;line-height: 1.2em;}#sk-container-id-28 div.sk-label-container {text-align: center;}#sk-container-id-28 div.sk-container {/* jupyter's `normalize.less` sets `[hidden] { display: none; }` but bootstrap.min.css set `[hidden] { display: none !important; }` so we also need the `!important` here to be able to override the default hidden behavior on the sphinx rendered scikit-learn.org. See: https://github.com/scikit-learn/scikit-learn/issues/21755 */display: inline-block !important;position: relative;}#sk-container-id-28 div.sk-text-repr-fallback {display: none;}</style><div id=\"sk-container-id-28\" class=\"sk-top-container\"><div class=\"sk-text-repr-fallback\"><pre>MLPRegressor(hidden_layer_sizes=(10,), max_iter=2000, random_state=2,\n",
       "             solver=&#x27;sgd&#x27;)</pre><b>In a Jupyter environment, please rerun this cell to show the HTML representation or trust the notebook. <br />On GitHub, the HTML representation is unable to render, please try loading this page with nbviewer.org.</b></div><div class=\"sk-container\" hidden><div class=\"sk-item\"><div class=\"sk-estimator sk-toggleable\"><input class=\"sk-toggleable__control sk-hidden--visually\" id=\"sk-estimator-id-36\" type=\"checkbox\" checked><label for=\"sk-estimator-id-36\" class=\"sk-toggleable__label sk-toggleable__label-arrow\">MLPRegressor</label><div class=\"sk-toggleable__content\"><pre>MLPRegressor(hidden_layer_sizes=(10,), max_iter=2000, random_state=2,\n",
       "             solver=&#x27;sgd&#x27;)</pre></div></div></div></div></div>"
      ],
      "text/plain": [
       "MLPRegressor(hidden_layer_sizes=(10,), max_iter=2000, random_state=2,\n",
       "             solver='sgd')"
      ]
     },
     "execution_count": 280,
     "metadata": {},
     "output_type": "execute_result"
    }
   ],
   "source": [
    "# Create the ann model\n",
    "mlp = MLPRegressor(activation ='relu', hidden_layer_sizes=(10,), max_iter= 2000, solver = 'sgd', random_state=2)\n",
    "# Fit the model to the training set\n",
    "mlp.fit(X_train,y_train)"
   ]
  },
  {
   "cell_type": "code",
   "execution_count": 281,
   "metadata": {},
   "outputs": [
    {
     "name": "stdout",
     "output_type": "stream",
     "text": [
      "the training root mean squared error is:  4115300053017.0146\n",
      "the testing root mean squared error is:  4115300002423.4263\n",
      "\n",
      "the training mean squared error is:  1.6935694526361842e+25\n",
      "the testing mean squared error is:  1.6935694109946254e+25\n",
      "\n",
      "training accuracy is:  -188159061682604.4\n",
      "testing accuracy is:  -195983296139033.88\n"
     ]
    }
   ],
   "source": [
    "model_performance(mlp)"
   ]
  },
  {
   "cell_type": "markdown",
   "metadata": {},
   "source": [
    "## ADA Boost Regressor"
   ]
  },
  {
   "cell_type": "code",
   "execution_count": 282,
   "metadata": {},
   "outputs": [
    {
     "data": {
      "text/html": [
       "<style>#sk-container-id-29 {color: black;background-color: white;}#sk-container-id-29 pre{padding: 0;}#sk-container-id-29 div.sk-toggleable {background-color: white;}#sk-container-id-29 label.sk-toggleable__label {cursor: pointer;display: block;width: 100%;margin-bottom: 0;padding: 0.3em;box-sizing: border-box;text-align: center;}#sk-container-id-29 label.sk-toggleable__label-arrow:before {content: \"▸\";float: left;margin-right: 0.25em;color: #696969;}#sk-container-id-29 label.sk-toggleable__label-arrow:hover:before {color: black;}#sk-container-id-29 div.sk-estimator:hover label.sk-toggleable__label-arrow:before {color: black;}#sk-container-id-29 div.sk-toggleable__content {max-height: 0;max-width: 0;overflow: hidden;text-align: left;background-color: #f0f8ff;}#sk-container-id-29 div.sk-toggleable__content pre {margin: 0.2em;color: black;border-radius: 0.25em;background-color: #f0f8ff;}#sk-container-id-29 input.sk-toggleable__control:checked~div.sk-toggleable__content {max-height: 200px;max-width: 100%;overflow: auto;}#sk-container-id-29 input.sk-toggleable__control:checked~label.sk-toggleable__label-arrow:before {content: \"▾\";}#sk-container-id-29 div.sk-estimator input.sk-toggleable__control:checked~label.sk-toggleable__label {background-color: #d4ebff;}#sk-container-id-29 div.sk-label input.sk-toggleable__control:checked~label.sk-toggleable__label {background-color: #d4ebff;}#sk-container-id-29 input.sk-hidden--visually {border: 0;clip: rect(1px 1px 1px 1px);clip: rect(1px, 1px, 1px, 1px);height: 1px;margin: -1px;overflow: hidden;padding: 0;position: absolute;width: 1px;}#sk-container-id-29 div.sk-estimator {font-family: monospace;background-color: #f0f8ff;border: 1px dotted black;border-radius: 0.25em;box-sizing: border-box;margin-bottom: 0.5em;}#sk-container-id-29 div.sk-estimator:hover {background-color: #d4ebff;}#sk-container-id-29 div.sk-parallel-item::after {content: \"\";width: 100%;border-bottom: 1px solid gray;flex-grow: 1;}#sk-container-id-29 div.sk-label:hover label.sk-toggleable__label {background-color: #d4ebff;}#sk-container-id-29 div.sk-serial::before {content: \"\";position: absolute;border-left: 1px solid gray;box-sizing: border-box;top: 0;bottom: 0;left: 50%;z-index: 0;}#sk-container-id-29 div.sk-serial {display: flex;flex-direction: column;align-items: center;background-color: white;padding-right: 0.2em;padding-left: 0.2em;position: relative;}#sk-container-id-29 div.sk-item {position: relative;z-index: 1;}#sk-container-id-29 div.sk-parallel {display: flex;align-items: stretch;justify-content: center;background-color: white;position: relative;}#sk-container-id-29 div.sk-item::before, #sk-container-id-29 div.sk-parallel-item::before {content: \"\";position: absolute;border-left: 1px solid gray;box-sizing: border-box;top: 0;bottom: 0;left: 50%;z-index: -1;}#sk-container-id-29 div.sk-parallel-item {display: flex;flex-direction: column;z-index: 1;position: relative;background-color: white;}#sk-container-id-29 div.sk-parallel-item:first-child::after {align-self: flex-end;width: 50%;}#sk-container-id-29 div.sk-parallel-item:last-child::after {align-self: flex-start;width: 50%;}#sk-container-id-29 div.sk-parallel-item:only-child::after {width: 0;}#sk-container-id-29 div.sk-dashed-wrapped {border: 1px dashed gray;margin: 0 0.4em 0.5em 0.4em;box-sizing: border-box;padding-bottom: 0.4em;background-color: white;}#sk-container-id-29 div.sk-label label {font-family: monospace;font-weight: bold;display: inline-block;line-height: 1.2em;}#sk-container-id-29 div.sk-label-container {text-align: center;}#sk-container-id-29 div.sk-container {/* jupyter's `normalize.less` sets `[hidden] { display: none; }` but bootstrap.min.css set `[hidden] { display: none !important; }` so we also need the `!important` here to be able to override the default hidden behavior on the sphinx rendered scikit-learn.org. See: https://github.com/scikit-learn/scikit-learn/issues/21755 */display: inline-block !important;position: relative;}#sk-container-id-29 div.sk-text-repr-fallback {display: none;}</style><div id=\"sk-container-id-29\" class=\"sk-top-container\"><div class=\"sk-text-repr-fallback\"><pre>AdaBoostRegressor(estimator=DecisionTreeRegressor(max_depth=3),\n",
       "                  learning_rate=0.1, n_estimators=20)</pre><b>In a Jupyter environment, please rerun this cell to show the HTML representation or trust the notebook. <br />On GitHub, the HTML representation is unable to render, please try loading this page with nbviewer.org.</b></div><div class=\"sk-container\" hidden><div class=\"sk-item sk-dashed-wrapped\"><div class=\"sk-label-container\"><div class=\"sk-label sk-toggleable\"><input class=\"sk-toggleable__control sk-hidden--visually\" id=\"sk-estimator-id-37\" type=\"checkbox\" ><label for=\"sk-estimator-id-37\" class=\"sk-toggleable__label sk-toggleable__label-arrow\">AdaBoostRegressor</label><div class=\"sk-toggleable__content\"><pre>AdaBoostRegressor(estimator=DecisionTreeRegressor(max_depth=3),\n",
       "                  learning_rate=0.1, n_estimators=20)</pre></div></div></div><div class=\"sk-parallel\"><div class=\"sk-parallel-item\"><div class=\"sk-item\"><div class=\"sk-label-container\"><div class=\"sk-label sk-toggleable\"><input class=\"sk-toggleable__control sk-hidden--visually\" id=\"sk-estimator-id-38\" type=\"checkbox\" ><label for=\"sk-estimator-id-38\" class=\"sk-toggleable__label sk-toggleable__label-arrow\">estimator: DecisionTreeRegressor</label><div class=\"sk-toggleable__content\"><pre>DecisionTreeRegressor(max_depth=3)</pre></div></div></div><div class=\"sk-serial\"><div class=\"sk-item\"><div class=\"sk-estimator sk-toggleable\"><input class=\"sk-toggleable__control sk-hidden--visually\" id=\"sk-estimator-id-39\" type=\"checkbox\" ><label for=\"sk-estimator-id-39\" class=\"sk-toggleable__label sk-toggleable__label-arrow\">DecisionTreeRegressor</label><div class=\"sk-toggleable__content\"><pre>DecisionTreeRegressor(max_depth=3)</pre></div></div></div></div></div></div></div></div></div></div>"
      ],
      "text/plain": [
       "AdaBoostRegressor(estimator=DecisionTreeRegressor(max_depth=3),\n",
       "                  learning_rate=0.1, n_estimators=20)"
      ]
     },
     "execution_count": 282,
     "metadata": {},
     "output_type": "execute_result"
    }
   ],
   "source": [
    "# Build Ada Boost Model \n",
    "ada_reg = AdaBoostRegressor(DecisionTreeRegressor(max_depth=3), n_estimators = 20, learning_rate =0.1)\n",
    "# fit the model to the training data\n",
    "ada_reg.fit(X_train, y_train)"
   ]
  },
  {
   "cell_type": "code",
   "execution_count": 283,
   "metadata": {},
   "outputs": [
    {
     "name": "stdout",
     "output_type": "stream",
     "text": [
      "the training root mean squared error is:  395700.88735900825\n",
      "the testing root mean squared error is:  365449.5132172564\n",
      "\n",
      "the training mean squared error is:  156579192256.70654\n",
      "the testing mean squared error is:  133553346710.72964\n",
      "\n",
      "training accuracy is:  -0.7396271436156574\n",
      "testing accuracy is:  -0.5455064864094425\n"
     ]
    }
   ],
   "source": [
    "model_performance(ada_reg)"
   ]
  },
  {
   "cell_type": "markdown",
   "metadata": {},
   "source": [
    "## SVR"
   ]
  },
  {
   "cell_type": "code",
   "execution_count": 284,
   "metadata": {},
   "outputs": [
    {
     "data": {
      "text/html": [
       "<style>#sk-container-id-30 {color: black;background-color: white;}#sk-container-id-30 pre{padding: 0;}#sk-container-id-30 div.sk-toggleable {background-color: white;}#sk-container-id-30 label.sk-toggleable__label {cursor: pointer;display: block;width: 100%;margin-bottom: 0;padding: 0.3em;box-sizing: border-box;text-align: center;}#sk-container-id-30 label.sk-toggleable__label-arrow:before {content: \"▸\";float: left;margin-right: 0.25em;color: #696969;}#sk-container-id-30 label.sk-toggleable__label-arrow:hover:before {color: black;}#sk-container-id-30 div.sk-estimator:hover label.sk-toggleable__label-arrow:before {color: black;}#sk-container-id-30 div.sk-toggleable__content {max-height: 0;max-width: 0;overflow: hidden;text-align: left;background-color: #f0f8ff;}#sk-container-id-30 div.sk-toggleable__content pre {margin: 0.2em;color: black;border-radius: 0.25em;background-color: #f0f8ff;}#sk-container-id-30 input.sk-toggleable__control:checked~div.sk-toggleable__content {max-height: 200px;max-width: 100%;overflow: auto;}#sk-container-id-30 input.sk-toggleable__control:checked~label.sk-toggleable__label-arrow:before {content: \"▾\";}#sk-container-id-30 div.sk-estimator input.sk-toggleable__control:checked~label.sk-toggleable__label {background-color: #d4ebff;}#sk-container-id-30 div.sk-label input.sk-toggleable__control:checked~label.sk-toggleable__label {background-color: #d4ebff;}#sk-container-id-30 input.sk-hidden--visually {border: 0;clip: rect(1px 1px 1px 1px);clip: rect(1px, 1px, 1px, 1px);height: 1px;margin: -1px;overflow: hidden;padding: 0;position: absolute;width: 1px;}#sk-container-id-30 div.sk-estimator {font-family: monospace;background-color: #f0f8ff;border: 1px dotted black;border-radius: 0.25em;box-sizing: border-box;margin-bottom: 0.5em;}#sk-container-id-30 div.sk-estimator:hover {background-color: #d4ebff;}#sk-container-id-30 div.sk-parallel-item::after {content: \"\";width: 100%;border-bottom: 1px solid gray;flex-grow: 1;}#sk-container-id-30 div.sk-label:hover label.sk-toggleable__label {background-color: #d4ebff;}#sk-container-id-30 div.sk-serial::before {content: \"\";position: absolute;border-left: 1px solid gray;box-sizing: border-box;top: 0;bottom: 0;left: 50%;z-index: 0;}#sk-container-id-30 div.sk-serial {display: flex;flex-direction: column;align-items: center;background-color: white;padding-right: 0.2em;padding-left: 0.2em;position: relative;}#sk-container-id-30 div.sk-item {position: relative;z-index: 1;}#sk-container-id-30 div.sk-parallel {display: flex;align-items: stretch;justify-content: center;background-color: white;position: relative;}#sk-container-id-30 div.sk-item::before, #sk-container-id-30 div.sk-parallel-item::before {content: \"\";position: absolute;border-left: 1px solid gray;box-sizing: border-box;top: 0;bottom: 0;left: 50%;z-index: -1;}#sk-container-id-30 div.sk-parallel-item {display: flex;flex-direction: column;z-index: 1;position: relative;background-color: white;}#sk-container-id-30 div.sk-parallel-item:first-child::after {align-self: flex-end;width: 50%;}#sk-container-id-30 div.sk-parallel-item:last-child::after {align-self: flex-start;width: 50%;}#sk-container-id-30 div.sk-parallel-item:only-child::after {width: 0;}#sk-container-id-30 div.sk-dashed-wrapped {border: 1px dashed gray;margin: 0 0.4em 0.5em 0.4em;box-sizing: border-box;padding-bottom: 0.4em;background-color: white;}#sk-container-id-30 div.sk-label label {font-family: monospace;font-weight: bold;display: inline-block;line-height: 1.2em;}#sk-container-id-30 div.sk-label-container {text-align: center;}#sk-container-id-30 div.sk-container {/* jupyter's `normalize.less` sets `[hidden] { display: none; }` but bootstrap.min.css set `[hidden] { display: none !important; }` so we also need the `!important` here to be able to override the default hidden behavior on the sphinx rendered scikit-learn.org. See: https://github.com/scikit-learn/scikit-learn/issues/21755 */display: inline-block !important;position: relative;}#sk-container-id-30 div.sk-text-repr-fallback {display: none;}</style><div id=\"sk-container-id-30\" class=\"sk-top-container\"><div class=\"sk-text-repr-fallback\"><pre>SVR(C=0.8)</pre><b>In a Jupyter environment, please rerun this cell to show the HTML representation or trust the notebook. <br />On GitHub, the HTML representation is unable to render, please try loading this page with nbviewer.org.</b></div><div class=\"sk-container\" hidden><div class=\"sk-item\"><div class=\"sk-estimator sk-toggleable\"><input class=\"sk-toggleable__control sk-hidden--visually\" id=\"sk-estimator-id-40\" type=\"checkbox\" checked><label for=\"sk-estimator-id-40\" class=\"sk-toggleable__label sk-toggleable__label-arrow\">SVR</label><div class=\"sk-toggleable__content\"><pre>SVR(C=0.8)</pre></div></div></div></div></div>"
      ],
      "text/plain": [
       "SVR(C=0.8)"
      ]
     },
     "execution_count": 284,
     "metadata": {},
     "output_type": "execute_result"
    }
   ],
   "source": [
    "svr = SVR(C=0.8, kernel ='rbf')\n",
    "svr.fit(X_train, y_train)"
   ]
  },
  {
   "cell_type": "code",
   "execution_count": 285,
   "metadata": {},
   "outputs": [
    {
     "name": "stdout",
     "output_type": "stream",
     "text": [
      "the training root mean squared error is:  324022.28694145096\n",
      "the testing root mean squared error is:  302606.87738392886\n",
      "\n",
      "the training mean squared error is:  104990442434.76797\n",
      "the testing mean squared error is:  91570922240.05217\n",
      "\n",
      "training accuracy is:  -0.16646548527533733\n",
      "testing accuracy is:  -0.059677333245931496\n"
     ]
    }
   ],
   "source": [
    "model_performance(svr)"
   ]
  },
  {
   "cell_type": "markdown",
   "metadata": {},
   "source": [
    "## XGBoost Regressor"
   ]
  },
  {
   "cell_type": "code",
   "execution_count": 286,
   "metadata": {},
   "outputs": [
    {
     "name": "stdout",
     "output_type": "stream",
     "text": [
      "the training root mean squared error is:  71765.45798462641\n",
      "the testing root mean squared error is:  78444.57283012327\n",
      "\n",
      "the training mean squared error is:  5150280959.743179\n",
      "the testing mean squared error is:  6153551006.500514\n",
      "\n",
      "training accuracy is:  0.9427793155291847\n",
      "testing accuracy is:  0.9287898564189718\n"
     ]
    }
   ],
   "source": [
    "# Build XGBoost Model\n",
    "xgb = XGBRegressor(n_estimators = 20, learning_rate = 0.1, use_label_encoder = False, eval_metric='logloss')\n",
    "# fit the model to the training data\n",
    "xgb.fit(X_train_scaled, y_train)\n",
    "model_performance(xgb)"
   ]
  },
  {
   "cell_type": "markdown",
   "metadata": {},
   "source": [
    "# Model Improvement (GridSearch CV)"
   ]
  },
  {
   "cell_type": "code",
   "execution_count": 287,
   "metadata": {},
   "outputs": [
    {
     "name": "stdout",
     "output_type": "stream",
     "text": [
      "Best parameters found:  {'learning_rate': 0.3, 'max_depth': 6, 'n_estimators': 40}\n",
      "Best score found:  0.9286402462713761\n"
     ]
    }
   ],
   "source": [
    "param_grid = {'n_estimators': [10, 20, 30, 40],\n",
    "              'learning_rate': [0.1, 0.2, 0.3, 0.4],\n",
    "              'max_depth': [3,4,5,6,7,8]}\n",
    "\n",
    "xgb_grid = GridSearchCV(xgb, param_grid, cv=5)\n",
    "xgb_grid.fit(X_train_scaled, y_train)\n",
    "\n",
    "best_params = xgb_grid.best_params_\n",
    "print(\"Best parameters found: \", best_params)\n",
    "print(\"Best score found: \", xgb_grid.best_score_)"
   ]
  },
  {
   "cell_type": "markdown",
   "metadata": {},
   "source": [
    "# Improved Model "
   ]
  },
  {
   "cell_type": "code",
   "execution_count": 288,
   "metadata": {},
   "outputs": [
    {
     "name": "stdout",
     "output_type": "stream",
     "text": [
      "the training root mean squared error is:  3300.2624977216506\n",
      "the testing root mean squared error is:  38771.81441017803\n",
      "\n",
      "the training mean squared error is:  10891732.553867947\n",
      "the testing mean squared error is:  1503253592.6572883\n",
      "\n",
      "training accuracy is:  0.9998789906032939\n",
      "testing accuracy is:  0.9826040437369026\n"
     ]
    }
   ],
   "source": [
    "# Build XGBoost Model\n",
    "xgb_improved = XGBRegressor(**best_params)\n",
    "# fit the model to the training data\n",
    "xgb_improved.fit(X_train_scaled, y_train)\n",
    "\n",
    "model_performance(xgb_improved)"
   ]
  },
  {
   "cell_type": "code",
   "execution_count": 289,
   "metadata": {},
   "outputs": [
    {
     "data": {
      "text/plain": [
       "['StreamlitApp/assets/product_qty_year_xgb_model.joblib']"
      ]
     },
     "execution_count": 289,
     "metadata": {},
     "output_type": "execute_result"
    }
   ],
   "source": [
    "# Save the model to a file\n",
    "joblib.dump(xgb_improved, \"StreamlitApp/assets/product_qty_year_xgb_model.joblib\")"
   ]
  },
  {
   "cell_type": "code",
   "execution_count": 290,
   "metadata": {},
   "outputs": [
    {
     "data": {
      "text/plain": [
       "array([3.4847971e-02, 3.6740489e-03, 4.0389165e-01, 9.8989785e-02,\n",
       "       2.1178672e-02, 6.2568462e-04, 3.1777992e-04, 9.4897568e-04,\n",
       "       1.7432034e-02, 0.0000000e+00, 8.5879490e-02, 8.1690069e-04,\n",
       "       4.6376898e-03, 1.9549977e-02, 1.6367325e-03, 4.8922576e-02,\n",
       "       3.8503766e-02, 9.4859460e-03, 1.2592636e-03, 0.0000000e+00,\n",
       "       2.2395659e-02, 1.5599161e-03, 0.0000000e+00, 0.0000000e+00,\n",
       "       0.0000000e+00, 0.0000000e+00, 0.0000000e+00, 0.0000000e+00,\n",
       "       0.0000000e+00, 0.0000000e+00, 0.0000000e+00, 0.0000000e+00,\n",
       "       0.0000000e+00, 0.0000000e+00, 0.0000000e+00, 0.0000000e+00,\n",
       "       1.5904827e-01, 5.8495090e-05, 2.4338778e-02], dtype=float32)"
      ]
     },
     "execution_count": 290,
     "metadata": {},
     "output_type": "execute_result"
    }
   ],
   "source": [
    "xgb_improved.feature_importances_"
   ]
  },
  {
   "cell_type": "code",
   "execution_count": 291,
   "metadata": {},
   "outputs": [
    {
     "name": "stdout",
     "output_type": "stream",
     "text": [
      "                                  Feature  Importance\n",
      "2                          SALE_PRICE_USD    0.403892\n",
      "36                 ITEM_CATEGORY_Beverage    0.159048\n",
      "3                                    YEAR    0.098990\n",
      "10                      MENU_TYPE_Chinese    0.085879\n",
      "15                   MENU_TYPE_Vegetarian    0.048923\n",
      "16                        MENU_TYPE_Ramen    0.038504\n",
      "0                            MENU_ITEM_ID    0.034848\n",
      "38                     ITEM_CATEGORY_Main    0.024339\n",
      "20               MENU_TYPE_Grilled Cheese    0.022396\n",
      "4                              DAIRY_FREE    0.021179\n",
      "13                        MENU_TYPE_Gyros    0.019550\n",
      "8                     MENU_TYPE_Ethiopian    0.017432\n",
      "17                       MENU_TYPE_Crepes    0.009486\n",
      "12                     MENU_TYPE_Hot Dogs    0.004638\n",
      "1                        ITEM_SUBCATEGORY    0.003674\n",
      "14                        MENU_TYPE_Tacos    0.001637\n",
      "21                 MENU_TYPE_Mac & Cheese    0.001560\n",
      "18                      MENU_TYPE_Poutine    0.001259\n",
      "7                                NUT_FREE    0.000949\n",
      "11                          MENU_TYPE_BBQ    0.000817\n",
      "5                             GLUTEN_FREE    0.000626\n",
      "6                                 HEALTHY    0.000318\n",
      "37                  ITEM_CATEGORY_Dessert    0.000058\n",
      "30    TRUCK_BRAND_NAME_Kitakata Ramen Bar    0.000000\n",
      "35         TRUCK_BRAND_NAME_The Mac Shack    0.000000\n",
      "34         TRUCK_BRAND_NAME_The Mega Melt    0.000000\n",
      "33      TRUCK_BRAND_NAME_Better Off Bread    0.000000\n",
      "32  TRUCK_BRAND_NAME_Revenge of the Curds    0.000000\n",
      "31    TRUCK_BRAND_NAME_Le Coin des Crêpes    0.000000\n",
      "23        TRUCK_BRAND_NAME_Freezing Point    0.000000\n",
      "29          TRUCK_BRAND_NAME_Plant Palace    0.000000\n",
      "28          TRUCK_BRAND_NAME_Guac n' Roll    0.000000\n",
      "27          TRUCK_BRAND_NAME_Cheeky Greek    0.000000\n",
      "26       TRUCK_BRAND_NAME_Amped Up Franks    0.000000\n",
      "25             TRUCK_BRAND_NAME_Smoky BBQ    0.000000\n",
      "24          TRUCK_BRAND_NAME_Peking Truck    0.000000\n",
      "9                     MENU_TYPE_Ice Cream    0.000000\n",
      "22            TRUCK_BRAND_NAME_Tasty Tibs    0.000000\n",
      "19                   MENU_TYPE_Sandwiches    0.000000\n"
     ]
    }
   ],
   "source": [
    "# Get the feature importances\n",
    "feature_importance = xgb_improved.feature_importances_\n",
    "\n",
    "# Create a DataFrame to display the feature importances\n",
    "feature_importance_df = pd.DataFrame({'Feature': X_train.columns, 'Importance': feature_importance})\n",
    "\n",
    "# Sort the DataFrame by importance in descending order\n",
    "feature_importance_df = feature_importance_df.sort_values(by='Importance', ascending=False)\n",
    "\n",
    "# Display the feature importances\n",
    "print(feature_importance_df)"
   ]
  },
  {
   "cell_type": "code",
   "execution_count": 292,
   "metadata": {},
   "outputs": [
    {
     "data": {
      "text/html": [
       "<div>\n",
       "<style scoped>\n",
       "    .dataframe tbody tr th:only-of-type {\n",
       "        vertical-align: middle;\n",
       "    }\n",
       "\n",
       "    .dataframe tbody tr th {\n",
       "        vertical-align: top;\n",
       "    }\n",
       "\n",
       "    .dataframe thead th {\n",
       "        text-align: right;\n",
       "    }\n",
       "</style>\n",
       "<table border=\"1\" class=\"dataframe\">\n",
       "  <thead>\n",
       "    <tr style=\"text-align: right;\">\n",
       "      <th></th>\n",
       "      <th>MENU_ITEM_ID</th>\n",
       "      <th>ITEM_SUBCATEGORY</th>\n",
       "      <th>SALE_PRICE_USD</th>\n",
       "      <th>YEAR</th>\n",
       "      <th>DAIRY_FREE</th>\n",
       "      <th>GLUTEN_FREE</th>\n",
       "      <th>HEALTHY</th>\n",
       "      <th>NUT_FREE</th>\n",
       "      <th>MENU_TYPE_Ethiopian</th>\n",
       "      <th>MENU_TYPE_Ice Cream</th>\n",
       "      <th>...</th>\n",
       "      <th>TRUCK_BRAND_NAME_Plant Palace</th>\n",
       "      <th>TRUCK_BRAND_NAME_Kitakata Ramen Bar</th>\n",
       "      <th>TRUCK_BRAND_NAME_Le Coin des Crêpes</th>\n",
       "      <th>TRUCK_BRAND_NAME_Revenge of the Curds</th>\n",
       "      <th>TRUCK_BRAND_NAME_Better Off Bread</th>\n",
       "      <th>TRUCK_BRAND_NAME_The Mega Melt</th>\n",
       "      <th>TRUCK_BRAND_NAME_The Mac Shack</th>\n",
       "      <th>ITEM_CATEGORY_Beverage</th>\n",
       "      <th>ITEM_CATEGORY_Dessert</th>\n",
       "      <th>ITEM_CATEGORY_Main</th>\n",
       "    </tr>\n",
       "  </thead>\n",
       "  <tbody>\n",
       "    <tr>\n",
       "      <th>216</th>\n",
       "      <td>95</td>\n",
       "      <td>0</td>\n",
       "      <td>3.0</td>\n",
       "      <td>2022</td>\n",
       "      <td>1</td>\n",
       "      <td>1</td>\n",
       "      <td>0</td>\n",
       "      <td>1</td>\n",
       "      <td>1</td>\n",
       "      <td>0</td>\n",
       "      <td>...</td>\n",
       "      <td>0</td>\n",
       "      <td>0</td>\n",
       "      <td>0</td>\n",
       "      <td>0</td>\n",
       "      <td>0</td>\n",
       "      <td>0</td>\n",
       "      <td>0</td>\n",
       "      <td>1</td>\n",
       "      <td>0</td>\n",
       "      <td>0</td>\n",
       "    </tr>\n",
       "    <tr>\n",
       "      <th>29</th>\n",
       "      <td>17</td>\n",
       "      <td>0</td>\n",
       "      <td>4.0</td>\n",
       "      <td>2020</td>\n",
       "      <td>0</td>\n",
       "      <td>0</td>\n",
       "      <td>0</td>\n",
       "      <td>1</td>\n",
       "      <td>0</td>\n",
       "      <td>1</td>\n",
       "      <td>...</td>\n",
       "      <td>0</td>\n",
       "      <td>0</td>\n",
       "      <td>0</td>\n",
       "      <td>0</td>\n",
       "      <td>0</td>\n",
       "      <td>0</td>\n",
       "      <td>0</td>\n",
       "      <td>0</td>\n",
       "      <td>1</td>\n",
       "      <td>0</td>\n",
       "    </tr>\n",
       "    <tr>\n",
       "      <th>276</th>\n",
       "      <td>131</td>\n",
       "      <td>2</td>\n",
       "      <td>13.0</td>\n",
       "      <td>2022</td>\n",
       "      <td>1</td>\n",
       "      <td>0</td>\n",
       "      <td>0</td>\n",
       "      <td>0</td>\n",
       "      <td>0</td>\n",
       "      <td>0</td>\n",
       "      <td>...</td>\n",
       "      <td>0</td>\n",
       "      <td>0</td>\n",
       "      <td>0</td>\n",
       "      <td>0</td>\n",
       "      <td>0</td>\n",
       "      <td>0</td>\n",
       "      <td>0</td>\n",
       "      <td>0</td>\n",
       "      <td>0</td>\n",
       "      <td>1</td>\n",
       "    </tr>\n",
       "    <tr>\n",
       "      <th>20</th>\n",
       "      <td>15</td>\n",
       "      <td>0</td>\n",
       "      <td>3.0</td>\n",
       "      <td>2019</td>\n",
       "      <td>1</td>\n",
       "      <td>1</td>\n",
       "      <td>0</td>\n",
       "      <td>1</td>\n",
       "      <td>0</td>\n",
       "      <td>1</td>\n",
       "      <td>...</td>\n",
       "      <td>0</td>\n",
       "      <td>0</td>\n",
       "      <td>0</td>\n",
       "      <td>0</td>\n",
       "      <td>0</td>\n",
       "      <td>0</td>\n",
       "      <td>0</td>\n",
       "      <td>1</td>\n",
       "      <td>0</td>\n",
       "      <td>0</td>\n",
       "    </tr>\n",
       "    <tr>\n",
       "      <th>46</th>\n",
       "      <td>22</td>\n",
       "      <td>2</td>\n",
       "      <td>17.0</td>\n",
       "      <td>2021</td>\n",
       "      <td>1</td>\n",
       "      <td>0</td>\n",
       "      <td>0</td>\n",
       "      <td>1</td>\n",
       "      <td>0</td>\n",
       "      <td>0</td>\n",
       "      <td>...</td>\n",
       "      <td>0</td>\n",
       "      <td>0</td>\n",
       "      <td>0</td>\n",
       "      <td>0</td>\n",
       "      <td>0</td>\n",
       "      <td>0</td>\n",
       "      <td>0</td>\n",
       "      <td>0</td>\n",
       "      <td>0</td>\n",
       "      <td>1</td>\n",
       "    </tr>\n",
       "  </tbody>\n",
       "</table>\n",
       "<p>5 rows × 39 columns</p>\n",
       "</div>"
      ],
      "text/plain": [
       "     MENU_ITEM_ID  ITEM_SUBCATEGORY  SALE_PRICE_USD  YEAR  DAIRY_FREE  \\\n",
       "216            95                 0             3.0  2022           1   \n",
       "29             17                 0             4.0  2020           0   \n",
       "276           131                 2            13.0  2022           1   \n",
       "20             15                 0             3.0  2019           1   \n",
       "46             22                 2            17.0  2021           1   \n",
       "\n",
       "     GLUTEN_FREE  HEALTHY  NUT_FREE  MENU_TYPE_Ethiopian  MENU_TYPE_Ice Cream  \\\n",
       "216            1        0         1                    1                    0   \n",
       "29             0        0         1                    0                    1   \n",
       "276            0        0         0                    0                    0   \n",
       "20             1        0         1                    0                    1   \n",
       "46             0        0         1                    0                    0   \n",
       "\n",
       "     ...  TRUCK_BRAND_NAME_Plant Palace  TRUCK_BRAND_NAME_Kitakata Ramen Bar  \\\n",
       "216  ...                              0                                    0   \n",
       "29   ...                              0                                    0   \n",
       "276  ...                              0                                    0   \n",
       "20   ...                              0                                    0   \n",
       "46   ...                              0                                    0   \n",
       "\n",
       "     TRUCK_BRAND_NAME_Le Coin des Crêpes  \\\n",
       "216                                    0   \n",
       "29                                     0   \n",
       "276                                    0   \n",
       "20                                     0   \n",
       "46                                     0   \n",
       "\n",
       "     TRUCK_BRAND_NAME_Revenge of the Curds  TRUCK_BRAND_NAME_Better Off Bread  \\\n",
       "216                                      0                                  0   \n",
       "29                                       0                                  0   \n",
       "276                                      0                                  0   \n",
       "20                                       0                                  0   \n",
       "46                                       0                                  0   \n",
       "\n",
       "     TRUCK_BRAND_NAME_The Mega Melt  TRUCK_BRAND_NAME_The Mac Shack  \\\n",
       "216                               0                               0   \n",
       "29                                0                               0   \n",
       "276                               0                               0   \n",
       "20                                0                               0   \n",
       "46                                0                               0   \n",
       "\n",
       "     ITEM_CATEGORY_Beverage  ITEM_CATEGORY_Dessert  ITEM_CATEGORY_Main  \n",
       "216                       1                      0                   0  \n",
       "29                        0                      1                   0  \n",
       "276                       0                      0                   1  \n",
       "20                        1                      0                   0  \n",
       "46                        0                      0                   1  \n",
       "\n",
       "[5 rows x 39 columns]"
      ]
     },
     "execution_count": 292,
     "metadata": {},
     "output_type": "execute_result"
    }
   ],
   "source": [
    "X_train.head()"
   ]
  },
  {
   "cell_type": "code",
   "execution_count": 293,
   "metadata": {},
   "outputs": [
    {
     "data": {
      "text/plain": [
       "Index(['MENU_ITEM_ID', 'ITEM_SUBCATEGORY', 'SALE_PRICE_USD', 'YEAR',\n",
       "       'DAIRY_FREE', 'GLUTEN_FREE', 'HEALTHY', 'NUT_FREE',\n",
       "       'MENU_TYPE_Ethiopian', 'MENU_TYPE_Ice Cream', 'MENU_TYPE_Chinese',\n",
       "       'MENU_TYPE_BBQ', 'MENU_TYPE_Hot Dogs', 'MENU_TYPE_Gyros',\n",
       "       'MENU_TYPE_Tacos', 'MENU_TYPE_Vegetarian', 'MENU_TYPE_Ramen',\n",
       "       'MENU_TYPE_Crepes', 'MENU_TYPE_Poutine', 'MENU_TYPE_Sandwiches',\n",
       "       'MENU_TYPE_Grilled Cheese', 'MENU_TYPE_Mac & Cheese',\n",
       "       'TRUCK_BRAND_NAME_Tasty Tibs', 'TRUCK_BRAND_NAME_Freezing Point',\n",
       "       'TRUCK_BRAND_NAME_Peking Truck', 'TRUCK_BRAND_NAME_Smoky BBQ',\n",
       "       'TRUCK_BRAND_NAME_Amped Up Franks', 'TRUCK_BRAND_NAME_Cheeky Greek',\n",
       "       'TRUCK_BRAND_NAME_Guac n' Roll', 'TRUCK_BRAND_NAME_Plant Palace',\n",
       "       'TRUCK_BRAND_NAME_Kitakata Ramen Bar',\n",
       "       'TRUCK_BRAND_NAME_Le Coin des Crêpes',\n",
       "       'TRUCK_BRAND_NAME_Revenge of the Curds',\n",
       "       'TRUCK_BRAND_NAME_Better Off Bread', 'TRUCK_BRAND_NAME_The Mega Melt',\n",
       "       'TRUCK_BRAND_NAME_The Mac Shack', 'ITEM_CATEGORY_Beverage',\n",
       "       'ITEM_CATEGORY_Dessert', 'ITEM_CATEGORY_Main'],\n",
       "      dtype='object')"
      ]
     },
     "execution_count": 293,
     "metadata": {},
     "output_type": "execute_result"
    }
   ],
   "source": [
    "X_train.columns"
   ]
  }
 ],
 "metadata": {
  "kernelspec": {
   "display_name": "streamlit_delete_later_env",
   "language": "python",
   "name": "python3"
  },
  "language_info": {
   "codemirror_mode": {
    "name": "ipython",
    "version": 3
   },
   "file_extension": ".py",
   "mimetype": "text/x-python",
   "name": "python",
   "nbconvert_exporter": "python",
   "pygments_lexer": "ipython3",
   "version": "3.8.16"
  },
  "orig_nbformat": 4
 },
 "nbformat": 4,
 "nbformat_minor": 2
}
