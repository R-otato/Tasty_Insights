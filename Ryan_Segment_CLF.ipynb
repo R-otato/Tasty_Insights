{
 "cells": [
  {
   "attachments": {},
   "cell_type": "markdown",
   "id": "0f547ef0",
   "metadata": {},
   "source": [
    "# 1. Setup"
   ]
  },
  {
   "attachments": {},
   "cell_type": "markdown",
   "id": "9f8d1940",
   "metadata": {},
   "source": [
    "## 1.1 Import Packages"
   ]
  },
  {
   "cell_type": "code",
   "execution_count": 1,
   "id": "2b76a42a",
   "metadata": {},
   "outputs": [],
   "source": [
    "#Import Python packages\n",
    "import pandas as pd\n",
    "import json\n",
    "import matplotlib.pyplot as plt\n",
    "import seaborn as sns\n",
    "import json\n",
    "import datetime\n",
    "import numpy as np\n",
    "from matplotlib.gridspec import GridSpec\n",
    "import matplotlib.cm as cm\n",
    "import matplotlib.colors as mcolors\n",
    "\n",
    "# for splitting of the dataset\n",
    "from sklearn.model_selection import train_test_split\n",
    "\n",
    "# for encoding/transforming the data\n",
    "from feature_engine.encoding import OneHotEncoder\n",
    "from feature_engine.encoding import RareLabelEncoder\n",
    "from feature_engine.outliers import Winsorizer\n",
    "from feature_engine.transformation import YeoJohnsonTransformer\n",
    "from sklearn.preprocessing import MinMaxScaler\n",
    "\n",
    "#ML-Models: Classification\n",
    "from xgboost import XGBClassifier\n",
    "from sklearn import tree\n",
    "from sklearn.linear_model import LogisticRegression\n",
    "from sklearn. ensemble import RandomForestClassifier\n",
    "from sklearn.tree import DecisionTreeClassifier\n",
    "from sklearn. ensemble import AdaBoostClassifier\n",
    "\n",
    "#Building clustering model\n",
    "from sklearn.cluster import KMeans \n",
    "\n",
    "# for getting metrics\n",
    "from sklearn.metrics import classification_report\n",
    "from sklearn.metrics import silhouette_score,silhouette_samples\n",
    "\n",
    "# model selection\n",
    "from sklearn.model_selection import GridSearchCV\n",
    "\n",
    "# Import Snowflake modules\n",
    "from snowflake.snowpark import Session\n",
    "import snowflake.snowpark.functions as F\n",
    "import snowflake.snowpark.types as T\n",
    "from snowflake.snowpark import Window\n",
    "# Define a simple scoring function\n",
    "from cachetools import cached"
   ]
  },
  {
   "attachments": {},
   "cell_type": "markdown",
   "id": "c689510f",
   "metadata": {},
   "source": [
    "## 1.2 Connect to Snowflake"
   ]
  },
  {
   "cell_type": "code",
   "execution_count": 2,
   "id": "9140d4bb",
   "metadata": {},
   "outputs": [],
   "source": [
    "# Get account credentials from a json file\n",
    "with open(\"data_scientist_auth.json\") as f:\n",
    "    data = json.load(f)\n",
    "    username = data[\"username\"]\n",
    "    password = data[\"password\"]\n",
    "    account = data[\"account\"]\n",
    "\n",
    "# Specify connection parameters\n",
    "connection_parameters = {\n",
    "    \"account\": account,\n",
    "    \"user\": username,\n",
    "    \"password\": password,\n",
    "    \"role\": \"TASTY_BI\",\n",
    "    \"warehouse\": \"TASTY_BI_WH\",\n",
    "    \"database\": \"frostbyte_tasty_bytes\",\n",
    "    \"schema\": \"analytics\",\n",
    "}\n",
    "\n",
    "# Create Snowpark session\n",
    "session = Session.builder.configs(connection_parameters).create()"
   ]
  },
  {
   "cell_type": "code",
   "execution_count": 3,
   "id": "113c796d",
   "metadata": {},
   "outputs": [
    {
     "data": {
      "text/plain": [
       "[Row(status='Statement executed successfully.')]"
      ]
     },
     "execution_count": 3,
     "metadata": {},
     "output_type": "execute_result"
    }
   ],
   "source": [
    "session.sql(\"ALTER WAREHOUSE TASTY_BI_WH SET WAREHOUSE_SIZE = MEDIUM\").collect()"
   ]
  },
  {
   "attachments": {},
   "cell_type": "markdown",
   "id": "c3d02814",
   "metadata": {},
   "source": [
    "## 1.3 Gathering Data as Snowpark DataFrame"
   ]
  },
  {
   "cell_type": "code",
   "execution_count": 4,
   "id": "9f5810e2",
   "metadata": {},
   "outputs": [],
   "source": [
    "# Orders_V\n",
    "# contains orders, trucks, shift information\n",
    "tasty_bytes_orders_v = session.table(\"frostbyte_tasty_bytes.analytics.orders_v\")\n",
    "# Customer Loyalty\n",
    "# contains information on signed up members\n",
    "tasty_bytes_customer_loyalty = session.table(\"frostbyte_tasty_bytes.raw_customer.customer_loyalty\")\n",
    "\n",
    "locations= session.table(\"frostbyte_tasty_bytes.raw_pos.location\")\n",
    "\n",
    "menu= session.table(\"frostbyte_tasty_bytes.raw_pos.menu\")\n",
    "#Sentiment_Survey_ds\n",
    "# contains NPS score\n",
    "SENTIMENT_DATA = session.table(\"ngee_ann_polytechnic_frostbyte_data_share.raw_survey.sentiment_survey_ds\")\n",
    "# Truck information data\n",
    "TRUCK_DATA = session.table(\"NGEE_ANN_POLYTECHNIC_FROSTBYTE_DATA_SHARE.raw_pos.truck\")\n",
    "# Comparison Data\n",
    "NPS_COMPARE = session.table(\"NPS_COMPARE\")"
   ]
  },
  {
   "attachments": {},
   "cell_type": "markdown",
   "id": "461b0173",
   "metadata": {},
   "source": [
    "# 2. Data Exploration "
   ]
  },
  {
   "attachments": {},
   "cell_type": "markdown",
   "id": "bde7f4bf",
   "metadata": {},
   "source": [
    "## 2.0 Model Value Towards Tasty Byte KPI"
   ]
  },
  {
   "attachments": {},
   "cell_type": "markdown",
   "id": "924e1d21",
   "metadata": {},
   "source": [
    "### 2.0.1 Define function - Remove Duplicate Columns from Joins"
   ]
  },
  {
   "cell_type": "code",
   "execution_count": 5,
   "id": "ce2a15cb",
   "metadata": {},
   "outputs": [],
   "source": [
    "#Function to remove and rename columns after inner join\n",
    "def remove_dup_join_col(df):\n",
    "    # capitalise all columns\n",
    "    for col in df.columns:\n",
    "        df = df.withColumnRenamed(col, col.upper())\n",
    "    \n",
    "    # get list of renamable columns for left and right join\n",
    "    left_dup_col = [col_name for col_name in df.columns if col_name.startswith('L_')]\n",
    "    right_dup_col = [col_name for col_name in df.columns if col_name.startswith('R_')]\n",
    "    old_columns = df.columns\n",
    "    \n",
    "    # rename the list with the most number of renamable columns\n",
    "    # drop the list of columns with less number of renamable columns\n",
    "    if len(left_dup_col)>len(right_dup_col):\n",
    "        columns_rename=left_dup_col\n",
    "        df= df.drop(*right_dup_col)\n",
    "    else:\n",
    "        columns_rename=right_dup_col\n",
    "        df= df.drop(*left_dup_col)\n",
    "    \n",
    "    for old_column in old_columns:\n",
    "        if old_column in columns_rename:\n",
    "            # get string to remove\n",
    "            string_to_replace = columns_rename[0][:7]\n",
    "            # replace starting string\n",
    "            new_column = old_column.replace(string_to_replace, \"\")\n",
    "            df = df.withColumnRenamed(old_column, new_column)\n",
    "    \n",
    "    return df"
   ]
  },
  {
   "attachments": {},
   "cell_type": "markdown",
   "id": "a4bf5f70",
   "metadata": {},
   "source": [
    "# 3. Data Engineering"
   ]
  },
  {
   "attachments": {},
   "cell_type": "markdown",
   "id": "acef3504",
   "metadata": {},
   "source": [
    "## 3.1 Generate new Columns"
   ]
  },
  {
   "cell_type": "code",
   "execution_count": 6,
   "id": "a9e19c3a",
   "metadata": {},
   "outputs": [],
   "source": [
    "#Merge to get loyal customers orders\n",
    "loyal_customer_orders=tasty_bytes_orders_v.join(\n",
    "    right=tasty_bytes_customer_loyalty,\n",
    "    on=\"CUSTOMER_ID\",\n",
    "    how=\"inner\"\n",
    ")"
   ]
  },
  {
   "cell_type": "code",
   "execution_count": 7,
   "id": "3f5edd2f",
   "metadata": {},
   "outputs": [],
   "source": [
    "#Remove duplicate columns\n",
    "loyal_customer_orders = remove_dup_join_col(loyal_customer_orders)\n",
    "\n",
    "#Remove duplicate order ids\n",
    "remove_dup = loyal_customer_orders.dropDuplicates(['ORDER_ID'])"
   ]
  },
  {
   "cell_type": "code",
   "execution_count": 8,
   "id": "2bf4e4e6",
   "metadata": {},
   "outputs": [],
   "source": [
    "# called `orders` with columns `customer_id` and `order_ts`\n",
    "window_spec = Window.partitionBy('customer_id').orderBy(F.col('order_ts').desc())\n",
    "\n",
    "orders_with_rank = remove_dup.withColumn('rank', F.rank().over(window_spec))\n",
    "\n",
    "# Get max order of each customer\n",
    "max_order_ts = orders_with_rank.filter(F.col('rank') == 1).select('customer_id', 'order_ts')"
   ]
  },
  {
   "cell_type": "code",
   "execution_count": 9,
   "id": "1f62d85a",
   "metadata": {},
   "outputs": [],
   "source": [
    "# Rename columns\n",
    "max_order_ts = max_order_ts.withColumnRenamed('ORDER_TS','Max_Order_TS')"
   ]
  },
  {
   "cell_type": "code",
   "execution_count": 10,
   "id": "8276ace8",
   "metadata": {},
   "outputs": [],
   "source": [
    "# Merge with second max order dataframe\n",
    "max_Order=remove_dup.join(right=max_order_ts,on='CUSTOMER_ID',how='inner')\n",
    "\n",
    "#Filter out last purchase\n",
    "filtered_df = max_Order.filter(F.col('ORDER_TS') < F.col('Max_Order_TS'))"
   ]
  },
  {
   "attachments": {},
   "cell_type": "markdown",
   "id": "45012b5c",
   "metadata": {},
   "source": [
    "### 3.1.2 RFM (Recency, Freqency, Monetary)"
   ]
  },
  {
   "cell_type": "code",
   "execution_count": 11,
   "id": "476754b5",
   "metadata": {},
   "outputs": [],
   "source": [
    "# Get last purchase date as a variable\n",
    "lastdate=filtered_df.select(F.max('ORDER_TS')).first()[0]\n",
    "\n",
    "# Recency\n",
    "recency = filtered_df.groupBy('CUSTOMER_ID').agg(F.max('ORDER_TS').alias('ORDER_TS'))\n",
    "recency = recency.withColumn('RECENCY', F.datediff(col1=F.col('ORDER_TS'), col2=F.lit(lastdate),part='day'))\n",
    "\n",
    "# Frequency\n",
    "frequency = filtered_df.groupBy('CUSTOMER_ID').agg(F.countDistinct('ORDER_ID').alias('frequency'))\n",
    "\n",
    "# Monetary\n",
    "monetary = filtered_df.groupBy('CUSTOMER_ID').agg(F.sum('ORDER_TOTAL').alias('monetary'))\n",
    "\n",
    "# Merge into RFM table\n",
    "RFM_table = recency.join(frequency, on='CUSTOMER_ID', how='inner')\n",
    "RFM_table = RFM_table.join(monetary, on='CUSTOMER_ID', how='inner')\n"
   ]
  },
  {
   "attachments": {},
   "cell_type": "markdown",
   "id": "ce7aacf0",
   "metadata": {},
   "source": [
    "This code is used to get RFM, Recency, Frequency, and Monetary for each customer. The purpose of doing this is to generate new features and show the customer's behavioural data."
   ]
  },
  {
   "attachments": {},
   "cell_type": "markdown",
   "id": "18d6061f",
   "metadata": {},
   "source": [
    "### 3.1.3 Average Time Difference, Max and Min Days without Purchase"
   ]
  },
  {
   "cell_type": "code",
   "execution_count": 12,
   "id": "419b542d",
   "metadata": {},
   "outputs": [],
   "source": [
    "# Define a window partitioned by customer and menu item, ordered by date\n",
    "window_spec = Window.partitionBy(\"CUSTOMER_ID\").orderBy(\"DATE\")\n",
    "\n",
    "# Add a column with the date of the prior order for each customer \n",
    "orders_df = filtered_df.withColumn(\"DAYS_SINCE_PRIOR_ORDER\", F.lag(\"DATE\").over(window_spec))\n",
    "\n",
    "# Calculate the number of days between the prior order and the current order for each customer and menu item\n",
    "orders_df = orders_df.withColumn(\"DAYS_SINCE_PRIOR_ORDER\", F.datediff(col1=\"DAYS_SINCE_PRIOR_ORDER\", col2=\"DATE\",part='day'))\n",
    "orders_df = orders_df.na.drop(subset=[\"DAYS_SINCE_PRIOR_ORDER\"])\n",
    "\n",
    "# Calculate the average purchase time difference for each customer\n",
    "avg_time_diff=orders_df.group_by('CUSTOMER_ID').agg(F.round(F.avg('DAYS_SINCE_PRIOR_ORDER'),0).alias('Avg_Days_Between_Purchase'))\n",
    "\n",
    "# Max Days without Purchase\n",
    "max_days=orders_df.group_by('CUSTOMER_ID').agg(F.max('DAYS_SINCE_PRIOR_ORDER').alias('Max_Days_Without_Purchase'))\n",
    "\n",
    "# Min Days without Purchase\n",
    "min_days=orders_df.group_by('CUSTOMER_ID').agg(F.min('DAYS_SINCE_PRIOR_ORDER').alias('Min_Days_Without_Purchase'))"
   ]
  },
  {
   "attachments": {},
   "cell_type": "markdown",
   "id": "e4adf10f",
   "metadata": {},
   "source": [
    "This code is used to get the average purchase time difference for each customers. This is done by calculating the most number of days a customer has gone without purchasing and the least number of days the customer has gone without purchasing. These features are also to show the behavioural information of each customer."
   ]
  },
  {
   "attachments": {},
   "cell_type": "markdown",
   "id": "883f6e7a",
   "metadata": {},
   "source": [
    "### 3.1.4 Creating Age and getting Customer's Gender, Marital Status and Country"
   ]
  },
  {
   "cell_type": "code",
   "execution_count": 13,
   "id": "973cd550",
   "metadata": {},
   "outputs": [
    {
     "name": "stdout",
     "output_type": "stream",
     "text": [
      "---------------------------------------------------------------------------------------------------------------------------------------------\n",
      "|\"CUSTOMER_ID\"  |\"BIRTHDAY_DATE\"  |\"GENDER\"     |\"MARITAL_STATUS\"  |\"COUNTRY\"  |\"CITY\"          |\"SIGN_UP_DATE\"  |\"CHILDREN_COUNT\"  |\"AGE\"  |\n",
      "---------------------------------------------------------------------------------------------------------------------------------------------\n",
      "|1              |1953-12-01       |Female       |Single            |Germany    |Hamburg         |2019-02-19      |0                 |69     |\n",
      "|2              |1973-09-21       |Male         |Single            |Brazil     |Rio de Janeiro  |2019-10-07      |0                 |49     |\n",
      "|3              |2000-09-04       |Female       |Married           |Poland     |Krakow          |2020-09-11      |2                 |22     |\n",
      "|4              |1950-03-05       |Female       |Single            |Poland     |Krakow          |2021-09-09      |1                 |72     |\n",
      "|5              |1978-10-29       |Female       |Married           |Spain      |Barcelona       |2022-06-17      |1                 |44     |\n",
      "|6              |1969-08-17       |Male         |Single            |Germany    |Hamburg         |2021-06-02      |0                 |53     |\n",
      "|7              |1961-12-23       |Male         |Undisclosed       |Spain      |Barcelona       |2020-09-29      |Undisclosed       |61     |\n",
      "|8              |1960-07-12       |Female       |Single            |Germany    |Hamburg         |2021-04-08      |0                 |62     |\n",
      "|9              |1970-09-11       |Male         |Single            |Sweden     |Stockholm       |2020-10-30      |0                 |52     |\n",
      "|10             |1989-05-27       |Undisclosed  |Single            |Egypt      |Cairo           |2020-06-04      |0                 |33     |\n",
      "---------------------------------------------------------------------------------------------------------------------------------------------\n",
      "\n"
     ]
    }
   ],
   "source": [
    "# Get Customer demographic\n",
    "cust_demo=tasty_bytes_customer_loyalty.select('CUSTOMER_ID','BIRTHDAY_DATE','GENDER','MARITAL_STATUS','COUNTRY','CITY','SIGN_UP_DATE','CHILDREN_COUNT')\n",
    "\n",
    "# get AGE variable\n",
    "cust_demo = cust_demo.withColumn(\"AGE\", F.datediff('year', F.col(\"BIRTHDAY_DATE\"),F.lit(lastdate)))\n",
    "\n",
    "# Show\n",
    "cust_demo.show()"
   ]
  },
  {
   "attachments": {},
   "cell_type": "markdown",
   "id": "74736857",
   "metadata": {},
   "source": [
    "We added a new column called \"AGE\" which contains the age of the customer at the time of the latest transaction. We also retrieved new columns like the customer's gender, marital status and country."
   ]
  },
  {
   "cell_type": "markdown",
   "id": "8cdd1eaa",
   "metadata": {},
   "source": [
    "### Attempted Improvements to the model"
   ]
  },
  {
   "cell_type": "markdown",
   "id": "5e68411f",
   "metadata": {},
   "source": [
    "#### Improved the Model"
   ]
  },
  {
   "cell_type": "code",
   "execution_count": 14,
   "id": "f35d4887",
   "metadata": {},
   "outputs": [],
   "source": [
    "# Number of locations visited\n",
    "num_of_locations_visited=filtered_df.group_by('CUSTOMER_ID').agg(F.countDistinct('LOCATION_ID').alias('NUM_OF_LOCATIONS_VISITED'))"
   ]
  },
  {
   "cell_type": "code",
   "execution_count": 15,
   "id": "2dd51461",
   "metadata": {},
   "outputs": [
    {
     "name": "stdout",
     "output_type": "stream",
     "text": [
      "--------------------------------------------\n",
      "|\"CUSTOMER_ID\"  |\"LENGTH_OF_RELATIONSHIP\"  |\n",
      "--------------------------------------------\n",
      "|209298         |991                       |\n",
      "|124730         |1258                      |\n",
      "|34083          |1020                      |\n",
      "|64747          |901                       |\n",
      "|104694         |1208                      |\n",
      "|130939         |1011                      |\n",
      "|139560         |1001                      |\n",
      "|134772         |1287                      |\n",
      "|63524          |1162                      |\n",
      "|158145         |1019                      |\n",
      "--------------------------------------------\n",
      "\n"
     ]
    }
   ],
   "source": [
    "# Add Length of relationship\n",
    "\n",
    "window_spec = Window.partitionBy('customer_id').orderBy(F.col('order_ts').asc())\n",
    "\n",
    "orders_with_rank = filtered_df.withColumn('rank', F.rank().over(window_spec))\n",
    "\n",
    "# Get max order of each customer\n",
    "first_order_ts = orders_with_rank.filter(F.col('rank') == 1).select('customer_id', 'order_ts')\n",
    "\n",
    "# Join the first_orders and last_orders DataFrames on customer_id\n",
    "joined_orders = first_order_ts.join(max_order_ts, 'customer_id')\n",
    "\n",
    "# Calculate the difference in days between the first and last order\n",
    "diff_in_days = joined_orders.withColumn('Length_of_Relationship', F.datediff(col1='order_ts', col2='max_order_ts',part='day'))\n",
    "\n",
    "diff_in_days=diff_in_days.drop(['ORDER_TS','MAX_ORDER_TS'])\n",
    "\n",
    "diff_in_days.show()"
   ]
  },
  {
   "attachments": {},
   "cell_type": "markdown",
   "id": "776061f6",
   "metadata": {},
   "source": [
    "### 3.1.5 Join Generated Variables"
   ]
  },
  {
   "cell_type": "code",
   "execution_count": 16,
   "id": "95506e69",
   "metadata": {},
   "outputs": [],
   "source": [
    "# Merge to get final dataframe\n",
    "final_df = RFM_table.join(max_order_ts, on='CUSTOMER_ID', how='inner')\n",
    "final_df = final_df.join(avg_time_diff, on='CUSTOMER_ID', how='inner')\n",
    "final_df = final_df.join(max_days, on='CUSTOMER_ID', how='inner')\n",
    "final_df = final_df.join(min_days, on='CUSTOMER_ID', how='inner')\n",
    "final_df = final_df.join(cust_demo,on='CUSTOMER_ID',how='inner')\n",
    "final_df = final_df.join(diff_in_days,on='CUSTOMER_ID',how='inner')\n",
    "final_df = final_df.join(num_of_locations_visited,on='CUSTOMER_ID',how='inner')"
   ]
  },
  {
   "attachments": {},
   "cell_type": "markdown",
   "id": "aeb90423",
   "metadata": {},
   "source": [
    "We joined all the different tables to get all the columns in the same table by inner joining all the different tables on the CUSTOMER_ID column. The joined table contains all the different features we will be using to predict the target."
   ]
  },
  {
   "cell_type": "markdown",
   "id": "de3f0b8f",
   "metadata": {},
   "source": [
    "#### Attempted Improvement: Created Relative Purchase Frequency and Monetary"
   ]
  },
  {
   "cell_type": "code",
   "execution_count": 17,
   "id": "e89be1d1",
   "metadata": {},
   "outputs": [],
   "source": [
    "final_df=final_df.with_column('RELATIVE_PURCHASE_FREQUENCY',(F.col('FREQUENCY')/F.col('Length_of_Relationship')).cast('float'))\n",
    "final_df=final_df.with_column('RELATIVE_PURCHASE_MONETARY',(F.col('MONETARY')/F.col('Length_of_Relationship')).cast('float'))"
   ]
  },
  {
   "attachments": {},
   "cell_type": "markdown",
   "id": "5d89694c",
   "metadata": {},
   "source": [
    "### 3.1.7 Filter to selected Country"
   ]
  },
  {
   "cell_type": "code",
   "execution_count": 18,
   "id": "8f8692f7",
   "metadata": {},
   "outputs": [],
   "source": [
    "# Filter to United States\n",
    "final_df=final_df.filter(F.col('COUNTRY')=='United States')"
   ]
  },
  {
   "attachments": {},
   "cell_type": "markdown",
   "id": "e84299d0",
   "metadata": {},
   "source": [
    "We filtered the data to only have records for the United States. This is because we are only interested in the United States as shown above due to its high churn rate and high number of customers"
   ]
  },
  {
   "cell_type": "code",
   "execution_count": 19,
   "id": "dc90e2f3",
   "metadata": {},
   "outputs": [],
   "source": [
    "# Sort CustomerID\n",
    "final_df=final_df.sort('CUSTOMER_ID')"
   ]
  },
  {
   "cell_type": "code",
   "execution_count": 20,
   "id": "c4d31ac2",
   "metadata": {},
   "outputs": [],
   "source": [
    "# Convert to pandas\n",
    "final_df=final_df.to_pandas()"
   ]
  },
  {
   "attachments": {},
   "cell_type": "markdown",
   "id": "96657bfa",
   "metadata": {},
   "source": [
    "We converted the table to pandas because we want to carry out data manipulation."
   ]
  },
  {
   "attachments": {},
   "cell_type": "markdown",
   "id": "40dc4f32",
   "metadata": {},
   "source": [
    "## 3.2 Outlier Handling"
   ]
  },
  {
   "attachments": {},
   "cell_type": "markdown",
   "id": "ad627369",
   "metadata": {},
   "source": [
    "### 3.2.1 Identify Numericals"
   ]
  },
  {
   "cell_type": "code",
   "execution_count": 21,
   "id": "be573be5",
   "metadata": {},
   "outputs": [],
   "source": [
    "num_cols=final_df.select_dtypes(exclude=['object','datetime64[ns]']).columns"
   ]
  },
  {
   "attachments": {},
   "cell_type": "markdown",
   "id": "75663bb9",
   "metadata": {},
   "source": [
    "### 3.2.2 Visualise Outliers"
   ]
  },
  {
   "cell_type": "code",
   "execution_count": 22,
   "id": "35026564",
   "metadata": {},
   "outputs": [],
   "source": [
    "# Function to explore the distributuion of variables\n",
    "def diagnostic_plots(df, variable):\n",
    "    # function takes a dataframe (df) and\n",
    "    # the variable of interest as arguments\n",
    "\n",
    "    # define figure size\n",
    "    fig=plt.figure(figsize=(12, 4))\n",
    "    fig.suptitle(variable)\n",
    "    \n",
    "    # histogram\n",
    "    plt.subplot(1, 2, 1)\n",
    "    sns.histplot(df[variable], bins=30,kde=True)\n",
    "    plt.title('Histogram')\n",
    "\n",
    "    # boxplot\n",
    "    plt.subplot(1, 2, 2)\n",
    "    sns.boxplot(y=df[variable])\n",
    "    plt.title('Boxplot')\n",
    "    \n",
    "    plt.show()"
   ]
  },
  {
   "cell_type": "code",
   "execution_count": 23,
   "id": "2ce723b3",
   "metadata": {},
   "outputs": [],
   "source": [
    "# function to create before and after histogram\n",
    "def before_after_histogram(df_before,df_after, variable):\n",
    "    # function takes a dataframe (df) and\n",
    "    # the variable of interest as arguments\n",
    "\n",
    "    # define figure size\n",
    "    plt.figure(figsize=(16, 4))\n",
    "\n",
    "    # histogram\n",
    "    plt.subplot(1, 2, 1)\n",
    "    sns.histplot(df_before[variable], bins=30)\n",
    "    plt.title('Before')\n",
    "\n",
    "    # histogram\n",
    "    plt.subplot(1, 2, 2)\n",
    "    sns.histplot(df_after[variable], bins=30)\n",
    "    plt.title('After')\n",
    "\n",
    "    plt.suptitle(variable)\n",
    "\n",
    "    plt.show()"
   ]
  },
  {
   "attachments": {},
   "cell_type": "markdown",
   "id": "7ec9b939",
   "metadata": {},
   "source": [
    "### 3.2.3 Cap the Outliers"
   ]
  },
  {
   "attachments": {},
   "cell_type": "markdown",
   "id": "7bc0ed82",
   "metadata": {},
   "source": [
    "#### 3.2.3.1 Cap by IQR"
   ]
  },
  {
   "cell_type": "code",
   "execution_count": 24,
   "id": "aaeac27e",
   "metadata": {},
   "outputs": [
    {
     "data": {
      "text/html": [
       "<style>#sk-container-id-1 {color: black;background-color: white;}#sk-container-id-1 pre{padding: 0;}#sk-container-id-1 div.sk-toggleable {background-color: white;}#sk-container-id-1 label.sk-toggleable__label {cursor: pointer;display: block;width: 100%;margin-bottom: 0;padding: 0.3em;box-sizing: border-box;text-align: center;}#sk-container-id-1 label.sk-toggleable__label-arrow:before {content: \"▸\";float: left;margin-right: 0.25em;color: #696969;}#sk-container-id-1 label.sk-toggleable__label-arrow:hover:before {color: black;}#sk-container-id-1 div.sk-estimator:hover label.sk-toggleable__label-arrow:before {color: black;}#sk-container-id-1 div.sk-toggleable__content {max-height: 0;max-width: 0;overflow: hidden;text-align: left;background-color: #f0f8ff;}#sk-container-id-1 div.sk-toggleable__content pre {margin: 0.2em;color: black;border-radius: 0.25em;background-color: #f0f8ff;}#sk-container-id-1 input.sk-toggleable__control:checked~div.sk-toggleable__content {max-height: 200px;max-width: 100%;overflow: auto;}#sk-container-id-1 input.sk-toggleable__control:checked~label.sk-toggleable__label-arrow:before {content: \"▾\";}#sk-container-id-1 div.sk-estimator input.sk-toggleable__control:checked~label.sk-toggleable__label {background-color: #d4ebff;}#sk-container-id-1 div.sk-label input.sk-toggleable__control:checked~label.sk-toggleable__label {background-color: #d4ebff;}#sk-container-id-1 input.sk-hidden--visually {border: 0;clip: rect(1px 1px 1px 1px);clip: rect(1px, 1px, 1px, 1px);height: 1px;margin: -1px;overflow: hidden;padding: 0;position: absolute;width: 1px;}#sk-container-id-1 div.sk-estimator {font-family: monospace;background-color: #f0f8ff;border: 1px dotted black;border-radius: 0.25em;box-sizing: border-box;margin-bottom: 0.5em;}#sk-container-id-1 div.sk-estimator:hover {background-color: #d4ebff;}#sk-container-id-1 div.sk-parallel-item::after {content: \"\";width: 100%;border-bottom: 1px solid gray;flex-grow: 1;}#sk-container-id-1 div.sk-label:hover label.sk-toggleable__label {background-color: #d4ebff;}#sk-container-id-1 div.sk-serial::before {content: \"\";position: absolute;border-left: 1px solid gray;box-sizing: border-box;top: 0;bottom: 0;left: 50%;z-index: 0;}#sk-container-id-1 div.sk-serial {display: flex;flex-direction: column;align-items: center;background-color: white;padding-right: 0.2em;padding-left: 0.2em;position: relative;}#sk-container-id-1 div.sk-item {position: relative;z-index: 1;}#sk-container-id-1 div.sk-parallel {display: flex;align-items: stretch;justify-content: center;background-color: white;position: relative;}#sk-container-id-1 div.sk-item::before, #sk-container-id-1 div.sk-parallel-item::before {content: \"\";position: absolute;border-left: 1px solid gray;box-sizing: border-box;top: 0;bottom: 0;left: 50%;z-index: -1;}#sk-container-id-1 div.sk-parallel-item {display: flex;flex-direction: column;z-index: 1;position: relative;background-color: white;}#sk-container-id-1 div.sk-parallel-item:first-child::after {align-self: flex-end;width: 50%;}#sk-container-id-1 div.sk-parallel-item:last-child::after {align-self: flex-start;width: 50%;}#sk-container-id-1 div.sk-parallel-item:only-child::after {width: 0;}#sk-container-id-1 div.sk-dashed-wrapped {border: 1px dashed gray;margin: 0 0.4em 0.5em 0.4em;box-sizing: border-box;padding-bottom: 0.4em;background-color: white;}#sk-container-id-1 div.sk-label label {font-family: monospace;font-weight: bold;display: inline-block;line-height: 1.2em;}#sk-container-id-1 div.sk-label-container {text-align: center;}#sk-container-id-1 div.sk-container {/* jupyter's `normalize.less` sets `[hidden] { display: none; }` but bootstrap.min.css set `[hidden] { display: none !important; }` so we also need the `!important` here to be able to override the default hidden behavior on the sphinx rendered scikit-learn.org. See: https://github.com/scikit-learn/scikit-learn/issues/21755 */display: inline-block !important;position: relative;}#sk-container-id-1 div.sk-text-repr-fallback {display: none;}</style><div id=\"sk-container-id-1\" class=\"sk-top-container\"><div class=\"sk-text-repr-fallback\"><pre>Winsorizer(capping_method=&#x27;iqr&#x27;, tail=&#x27;both&#x27;,\n",
       "           variables=[&#x27;RECENCY&#x27;, &#x27;AVG_DAYS_BETWEEN_PURCHASE&#x27;,\n",
       "                      &#x27;MAX_DAYS_WITHOUT_PURCHASE&#x27;])</pre><b>In a Jupyter environment, please rerun this cell to show the HTML representation or trust the notebook. <br />On GitHub, the HTML representation is unable to render, please try loading this page with nbviewer.org.</b></div><div class=\"sk-container\" hidden><div class=\"sk-item\"><div class=\"sk-estimator sk-toggleable\"><input class=\"sk-toggleable__control sk-hidden--visually\" id=\"sk-estimator-id-1\" type=\"checkbox\" checked><label for=\"sk-estimator-id-1\" class=\"sk-toggleable__label sk-toggleable__label-arrow\">Winsorizer</label><div class=\"sk-toggleable__content\"><pre>Winsorizer(capping_method=&#x27;iqr&#x27;, tail=&#x27;both&#x27;,\n",
       "           variables=[&#x27;RECENCY&#x27;, &#x27;AVG_DAYS_BETWEEN_PURCHASE&#x27;,\n",
       "                      &#x27;MAX_DAYS_WITHOUT_PURCHASE&#x27;])</pre></div></div></div></div></div>"
      ],
      "text/plain": [
       "Winsorizer(capping_method='iqr', tail='both',\n",
       "           variables=['RECENCY', 'AVG_DAYS_BETWEEN_PURCHASE',\n",
       "                      'MAX_DAYS_WITHOUT_PURCHASE'])"
      ]
     },
     "execution_count": 24,
     "metadata": {},
     "output_type": "execute_result"
    }
   ],
   "source": [
    "# create the capper\n",
    "windsorizer = Winsorizer(capping_method='iqr', # choose iqr for skewed or gaussian for normal\n",
    "                          tail='both', # cap left, right or both tails \n",
    "                          fold=3,\n",
    "                          variables=['RECENCY','AVG_DAYS_BETWEEN_PURCHASE','MAX_DAYS_WITHOUT_PURCHASE'])\n",
    "\n",
    "windsorizer.fit(final_df)\n"
   ]
  },
  {
   "cell_type": "code",
   "execution_count": 25,
   "id": "c15aa6be",
   "metadata": {},
   "outputs": [],
   "source": [
    "final_df_win = windsorizer.transform(final_df)"
   ]
  },
  {
   "attachments": {},
   "cell_type": "markdown",
   "id": "633de7f5",
   "metadata": {},
   "source": [
    "Cap by IQR for distributions with high skewness. (Outliers = 75th percentile onwards)"
   ]
  },
  {
   "attachments": {},
   "cell_type": "markdown",
   "id": "91c49b68",
   "metadata": {},
   "source": [
    "#### 3.2.3.2 Cap by Gaussian"
   ]
  },
  {
   "cell_type": "code",
   "execution_count": 26,
   "id": "124422d9",
   "metadata": {},
   "outputs": [
    {
     "data": {
      "text/html": [
       "<style>#sk-container-id-2 {color: black;background-color: white;}#sk-container-id-2 pre{padding: 0;}#sk-container-id-2 div.sk-toggleable {background-color: white;}#sk-container-id-2 label.sk-toggleable__label {cursor: pointer;display: block;width: 100%;margin-bottom: 0;padding: 0.3em;box-sizing: border-box;text-align: center;}#sk-container-id-2 label.sk-toggleable__label-arrow:before {content: \"▸\";float: left;margin-right: 0.25em;color: #696969;}#sk-container-id-2 label.sk-toggleable__label-arrow:hover:before {color: black;}#sk-container-id-2 div.sk-estimator:hover label.sk-toggleable__label-arrow:before {color: black;}#sk-container-id-2 div.sk-toggleable__content {max-height: 0;max-width: 0;overflow: hidden;text-align: left;background-color: #f0f8ff;}#sk-container-id-2 div.sk-toggleable__content pre {margin: 0.2em;color: black;border-radius: 0.25em;background-color: #f0f8ff;}#sk-container-id-2 input.sk-toggleable__control:checked~div.sk-toggleable__content {max-height: 200px;max-width: 100%;overflow: auto;}#sk-container-id-2 input.sk-toggleable__control:checked~label.sk-toggleable__label-arrow:before {content: \"▾\";}#sk-container-id-2 div.sk-estimator input.sk-toggleable__control:checked~label.sk-toggleable__label {background-color: #d4ebff;}#sk-container-id-2 div.sk-label input.sk-toggleable__control:checked~label.sk-toggleable__label {background-color: #d4ebff;}#sk-container-id-2 input.sk-hidden--visually {border: 0;clip: rect(1px 1px 1px 1px);clip: rect(1px, 1px, 1px, 1px);height: 1px;margin: -1px;overflow: hidden;padding: 0;position: absolute;width: 1px;}#sk-container-id-2 div.sk-estimator {font-family: monospace;background-color: #f0f8ff;border: 1px dotted black;border-radius: 0.25em;box-sizing: border-box;margin-bottom: 0.5em;}#sk-container-id-2 div.sk-estimator:hover {background-color: #d4ebff;}#sk-container-id-2 div.sk-parallel-item::after {content: \"\";width: 100%;border-bottom: 1px solid gray;flex-grow: 1;}#sk-container-id-2 div.sk-label:hover label.sk-toggleable__label {background-color: #d4ebff;}#sk-container-id-2 div.sk-serial::before {content: \"\";position: absolute;border-left: 1px solid gray;box-sizing: border-box;top: 0;bottom: 0;left: 50%;z-index: 0;}#sk-container-id-2 div.sk-serial {display: flex;flex-direction: column;align-items: center;background-color: white;padding-right: 0.2em;padding-left: 0.2em;position: relative;}#sk-container-id-2 div.sk-item {position: relative;z-index: 1;}#sk-container-id-2 div.sk-parallel {display: flex;align-items: stretch;justify-content: center;background-color: white;position: relative;}#sk-container-id-2 div.sk-item::before, #sk-container-id-2 div.sk-parallel-item::before {content: \"\";position: absolute;border-left: 1px solid gray;box-sizing: border-box;top: 0;bottom: 0;left: 50%;z-index: -1;}#sk-container-id-2 div.sk-parallel-item {display: flex;flex-direction: column;z-index: 1;position: relative;background-color: white;}#sk-container-id-2 div.sk-parallel-item:first-child::after {align-self: flex-end;width: 50%;}#sk-container-id-2 div.sk-parallel-item:last-child::after {align-self: flex-start;width: 50%;}#sk-container-id-2 div.sk-parallel-item:only-child::after {width: 0;}#sk-container-id-2 div.sk-dashed-wrapped {border: 1px dashed gray;margin: 0 0.4em 0.5em 0.4em;box-sizing: border-box;padding-bottom: 0.4em;background-color: white;}#sk-container-id-2 div.sk-label label {font-family: monospace;font-weight: bold;display: inline-block;line-height: 1.2em;}#sk-container-id-2 div.sk-label-container {text-align: center;}#sk-container-id-2 div.sk-container {/* jupyter's `normalize.less` sets `[hidden] { display: none; }` but bootstrap.min.css set `[hidden] { display: none !important; }` so we also need the `!important` here to be able to override the default hidden behavior on the sphinx rendered scikit-learn.org. See: https://github.com/scikit-learn/scikit-learn/issues/21755 */display: inline-block !important;position: relative;}#sk-container-id-2 div.sk-text-repr-fallback {display: none;}</style><div id=\"sk-container-id-2\" class=\"sk-top-container\"><div class=\"sk-text-repr-fallback\"><pre>Winsorizer(tail=&#x27;both&#x27;, variables=[&#x27;FREQUENCY&#x27;, &#x27;MONETARY&#x27;])</pre><b>In a Jupyter environment, please rerun this cell to show the HTML representation or trust the notebook. <br />On GitHub, the HTML representation is unable to render, please try loading this page with nbviewer.org.</b></div><div class=\"sk-container\" hidden><div class=\"sk-item\"><div class=\"sk-estimator sk-toggleable\"><input class=\"sk-toggleable__control sk-hidden--visually\" id=\"sk-estimator-id-2\" type=\"checkbox\" checked><label for=\"sk-estimator-id-2\" class=\"sk-toggleable__label sk-toggleable__label-arrow\">Winsorizer</label><div class=\"sk-toggleable__content\"><pre>Winsorizer(tail=&#x27;both&#x27;, variables=[&#x27;FREQUENCY&#x27;, &#x27;MONETARY&#x27;])</pre></div></div></div></div></div>"
      ],
      "text/plain": [
       "Winsorizer(tail='both', variables=['FREQUENCY', 'MONETARY'])"
      ]
     },
     "execution_count": 26,
     "metadata": {},
     "output_type": "execute_result"
    }
   ],
   "source": [
    "# create the capper\n",
    "windsorizer = Winsorizer(capping_method='gaussian', # choose iqr for skewed or gaussian for normal\n",
    "                          tail='both', # cap left, right or both tails \n",
    "                          fold=3,\n",
    "                          variables=['FREQUENCY','MONETARY'])\n",
    "\n",
    "windsorizer.fit(final_df_win)"
   ]
  },
  {
   "cell_type": "code",
   "execution_count": 27,
   "id": "8da1c9cf",
   "metadata": {},
   "outputs": [],
   "source": [
    "final_df_win = windsorizer.transform(final_df_win)"
   ]
  },
  {
   "attachments": {},
   "cell_type": "markdown",
   "id": "67f96370",
   "metadata": {},
   "source": [
    "Cap by gaussian for distributions with a normal ditribution. (Outliers = 3 Standard-deviations away)"
   ]
  },
  {
   "attachments": {},
   "cell_type": "markdown",
   "id": "9f08b426",
   "metadata": {},
   "source": [
    "It can be seen that much of the outliers have been 'Capped' where all values above a certain threshold are placed at the uppermost limit. This ensures that the machine learning model will not be trained for anomalies and outliers but for the majority of members\n",
    "\n",
    "We see that AVG_DAYS_BETWEEN_PURCHASE and MAX_DAYS_WITHOUT_PURCHASE has had a significant amount of outlier handling done, where the maximum values for both have been halved, down from 70 to 45 and 800 to 350 respectively.\n",
    "\n",
    "By reducing the variable range, it helps the model focus on the key patterns and relationships within the majority of the data."
   ]
  },
  {
   "attachments": {},
   "cell_type": "markdown",
   "id": "638ca938",
   "metadata": {},
   "source": [
    "## 3.3 Numerical Transformation"
   ]
  },
  {
   "attachments": {},
   "cell_type": "markdown",
   "id": "13904889",
   "metadata": {},
   "source": [
    "### 3.3.1 Visualise Numericals"
   ]
  },
  {
   "attachments": {},
   "cell_type": "markdown",
   "id": "6f6d83f8",
   "metadata": {},
   "source": [
    "### 3.3.2 YeoJohnson Transformer"
   ]
  },
  {
   "cell_type": "code",
   "execution_count": 28,
   "id": "29f1026c",
   "metadata": {},
   "outputs": [],
   "source": [
    "# create untransformed copy of the dataframe for customer segmentation\n",
    "cust_seg_ori = final_df_win.copy()"
   ]
  },
  {
   "cell_type": "code",
   "execution_count": 29,
   "id": "e11026f2",
   "metadata": {},
   "outputs": [
    {
     "data": {
      "text/html": [
       "<style>#sk-container-id-3 {color: black;background-color: white;}#sk-container-id-3 pre{padding: 0;}#sk-container-id-3 div.sk-toggleable {background-color: white;}#sk-container-id-3 label.sk-toggleable__label {cursor: pointer;display: block;width: 100%;margin-bottom: 0;padding: 0.3em;box-sizing: border-box;text-align: center;}#sk-container-id-3 label.sk-toggleable__label-arrow:before {content: \"▸\";float: left;margin-right: 0.25em;color: #696969;}#sk-container-id-3 label.sk-toggleable__label-arrow:hover:before {color: black;}#sk-container-id-3 div.sk-estimator:hover label.sk-toggleable__label-arrow:before {color: black;}#sk-container-id-3 div.sk-toggleable__content {max-height: 0;max-width: 0;overflow: hidden;text-align: left;background-color: #f0f8ff;}#sk-container-id-3 div.sk-toggleable__content pre {margin: 0.2em;color: black;border-radius: 0.25em;background-color: #f0f8ff;}#sk-container-id-3 input.sk-toggleable__control:checked~div.sk-toggleable__content {max-height: 200px;max-width: 100%;overflow: auto;}#sk-container-id-3 input.sk-toggleable__control:checked~label.sk-toggleable__label-arrow:before {content: \"▾\";}#sk-container-id-3 div.sk-estimator input.sk-toggleable__control:checked~label.sk-toggleable__label {background-color: #d4ebff;}#sk-container-id-3 div.sk-label input.sk-toggleable__control:checked~label.sk-toggleable__label {background-color: #d4ebff;}#sk-container-id-3 input.sk-hidden--visually {border: 0;clip: rect(1px 1px 1px 1px);clip: rect(1px, 1px, 1px, 1px);height: 1px;margin: -1px;overflow: hidden;padding: 0;position: absolute;width: 1px;}#sk-container-id-3 div.sk-estimator {font-family: monospace;background-color: #f0f8ff;border: 1px dotted black;border-radius: 0.25em;box-sizing: border-box;margin-bottom: 0.5em;}#sk-container-id-3 div.sk-estimator:hover {background-color: #d4ebff;}#sk-container-id-3 div.sk-parallel-item::after {content: \"\";width: 100%;border-bottom: 1px solid gray;flex-grow: 1;}#sk-container-id-3 div.sk-label:hover label.sk-toggleable__label {background-color: #d4ebff;}#sk-container-id-3 div.sk-serial::before {content: \"\";position: absolute;border-left: 1px solid gray;box-sizing: border-box;top: 0;bottom: 0;left: 50%;z-index: 0;}#sk-container-id-3 div.sk-serial {display: flex;flex-direction: column;align-items: center;background-color: white;padding-right: 0.2em;padding-left: 0.2em;position: relative;}#sk-container-id-3 div.sk-item {position: relative;z-index: 1;}#sk-container-id-3 div.sk-parallel {display: flex;align-items: stretch;justify-content: center;background-color: white;position: relative;}#sk-container-id-3 div.sk-item::before, #sk-container-id-3 div.sk-parallel-item::before {content: \"\";position: absolute;border-left: 1px solid gray;box-sizing: border-box;top: 0;bottom: 0;left: 50%;z-index: -1;}#sk-container-id-3 div.sk-parallel-item {display: flex;flex-direction: column;z-index: 1;position: relative;background-color: white;}#sk-container-id-3 div.sk-parallel-item:first-child::after {align-self: flex-end;width: 50%;}#sk-container-id-3 div.sk-parallel-item:last-child::after {align-self: flex-start;width: 50%;}#sk-container-id-3 div.sk-parallel-item:only-child::after {width: 0;}#sk-container-id-3 div.sk-dashed-wrapped {border: 1px dashed gray;margin: 0 0.4em 0.5em 0.4em;box-sizing: border-box;padding-bottom: 0.4em;background-color: white;}#sk-container-id-3 div.sk-label label {font-family: monospace;font-weight: bold;display: inline-block;line-height: 1.2em;}#sk-container-id-3 div.sk-label-container {text-align: center;}#sk-container-id-3 div.sk-container {/* jupyter's `normalize.less` sets `[hidden] { display: none; }` but bootstrap.min.css set `[hidden] { display: none !important; }` so we also need the `!important` here to be able to override the default hidden behavior on the sphinx rendered scikit-learn.org. See: https://github.com/scikit-learn/scikit-learn/issues/21755 */display: inline-block !important;position: relative;}#sk-container-id-3 div.sk-text-repr-fallback {display: none;}</style><div id=\"sk-container-id-3\" class=\"sk-top-container\"><div class=\"sk-text-repr-fallback\"><pre>YeoJohnsonTransformer(variables=[&#x27;RECENCY&#x27;, &#x27;AVG_DAYS_BETWEEN_PURCHASE&#x27;,\n",
       "                                 &#x27;MAX_DAYS_WITHOUT_PURCHASE&#x27;])</pre><b>In a Jupyter environment, please rerun this cell to show the HTML representation or trust the notebook. <br />On GitHub, the HTML representation is unable to render, please try loading this page with nbviewer.org.</b></div><div class=\"sk-container\" hidden><div class=\"sk-item\"><div class=\"sk-estimator sk-toggleable\"><input class=\"sk-toggleable__control sk-hidden--visually\" id=\"sk-estimator-id-3\" type=\"checkbox\" checked><label for=\"sk-estimator-id-3\" class=\"sk-toggleable__label sk-toggleable__label-arrow\">YeoJohnsonTransformer</label><div class=\"sk-toggleable__content\"><pre>YeoJohnsonTransformer(variables=[&#x27;RECENCY&#x27;, &#x27;AVG_DAYS_BETWEEN_PURCHASE&#x27;,\n",
       "                                 &#x27;MAX_DAYS_WITHOUT_PURCHASE&#x27;])</pre></div></div></div></div></div>"
      ],
      "text/plain": [
       "YeoJohnsonTransformer(variables=['RECENCY', 'AVG_DAYS_BETWEEN_PURCHASE',\n",
       "                                 'MAX_DAYS_WITHOUT_PURCHASE'])"
      ]
     },
     "execution_count": 29,
     "metadata": {},
     "output_type": "execute_result"
    }
   ],
   "source": [
    "# select variables to transform in a list\n",
    "cols = ['RECENCY', 'AVG_DAYS_BETWEEN_PURCHASE', 'MAX_DAYS_WITHOUT_PURCHASE']\n",
    "\n",
    "# initialize the transformer with a subset of variables to transform\n",
    "yjt = YeoJohnsonTransformer(variables = cols)\n",
    "\n",
    "# fit transformer to the dataframe\n",
    "yjt.fit(final_df_win)"
   ]
  },
  {
   "cell_type": "code",
   "execution_count": 30,
   "id": "bc6f8fb8",
   "metadata": {},
   "outputs": [],
   "source": [
    "# transform indicated variables\n",
    "final_df_yjt = yjt.transform(final_df_win)"
   ]
  },
  {
   "attachments": {},
   "cell_type": "markdown",
   "id": "c3ff00f0",
   "metadata": {},
   "source": [
    "It can be seen that the 3 variables to be transformed have achieved a more normal distribution. This ensures that the model avoids overfitting to the random noise of the data by reducing the variable range further, as well as further mitigates the effects of outliers."
   ]
  },
  {
   "cell_type": "markdown",
   "id": "d008b212",
   "metadata": {},
   "source": [
    "# K-Means"
   ]
  },
  {
   "cell_type": "code",
   "execution_count": 31,
   "id": "bfc4d3f0",
   "metadata": {},
   "outputs": [],
   "source": [
    "# function to create change in silhoutte score and change against number of clusters\n",
    "def sse_eval(sse):\n",
    "    \n",
    "    percentage_change = [(sse[i+1] - sse[i]) / sse[i] * 100 for i in range(len(sse)-1)]\n",
    "\n",
    "    # define figure size\n",
    "    plt.figure(figsize=(16, 4))\n",
    "\n",
    "    # regular\n",
    "    plt.subplot(1, 2, 1)\n",
    "    plt.plot(range(1, 11), sse, 'b-*')\n",
    "    plt.title('Actual SSE')\n",
    "    plt.xlabel('Number of clusters')\n",
    "    plt.ylabel('SSE')\n",
    "\n",
    "    # difference\n",
    "    plt.subplot(1, 2, 2)\n",
    "    plt.plot(range(1, 10), percentage_change, 'b-*')\n",
    "    plt.title('% change in SSE')\n",
    "    plt.xlabel('Number of clusters')\n",
    "    plt.ylabel('% Change')\n",
    "\n",
    "    plt.suptitle('Sum of Squared Errors')\n",
    "\n",
    "    plt.show()"
   ]
  },
  {
   "cell_type": "code",
   "execution_count": 32,
   "id": "40a1eddd",
   "metadata": {},
   "outputs": [],
   "source": [
    "rfm_Table=cust_seg_ori[['RECENCY','FREQUENCY','MONETARY']]"
   ]
  },
  {
   "cell_type": "code",
   "execution_count": 33,
   "id": "3e49909c",
   "metadata": {},
   "outputs": [],
   "source": [
    "# With AGE\tLENGTH_OF_RELATIONSHIP\n",
    "# Min Max Scaler\n",
    "rfm_Table_Scaled=rfm_Table.copy()\n",
    "scaler = MinMaxScaler()\n",
    "\n",
    "# fit the scaler to the train set, it will learn the parameters\n",
    "scaler.fit(rfm_Table[['RECENCY','FREQUENCY','MONETARY']])\n",
    "\n",
    "# transform train and test sets\n",
    "rfm_Table_Scaled[['RECENCY','FREQUENCY','MONETARY']]= scaler.transform(rfm_Table[['RECENCY','FREQUENCY','MONETARY']])"
   ]
  },
  {
   "cell_type": "code",
   "execution_count": 34,
   "id": "569c8041",
   "metadata": {},
   "outputs": [],
   "source": [
    "# Find the optimal number of clusters (i.e. K) using elbow method\n",
    "sse = []\n",
    "for i in range(1, 11):\n",
    "    kmeans = KMeans(n_clusters=i, n_init=20, random_state=1)\n",
    "    kmeans.fit(rfm_Table_Scaled)\n",
    "    sse.append(kmeans.inertia_)"
   ]
  },
  {
   "cell_type": "code",
   "execution_count": 35,
   "id": "1dea4178",
   "metadata": {},
   "outputs": [
    {
     "data": {
      "image/png": "[encoded data removed]",
      "text/plain": [
       "<Figure size 1600x400 with 2 Axes>"
      ]
     },
     "metadata": {},
     "output_type": "display_data"
    }
   ],
   "source": [
    "sse_eval(sse)"
   ]
  },
  {
   "cell_type": "code",
   "execution_count": 36,
   "id": "d97aec40",
   "metadata": {},
   "outputs": [],
   "source": [
    "# num of clusters\n",
    "num_of_k_means_clusters = 5\n",
    "# Build a K-means clustering model\n",
    "km = KMeans(n_clusters=num_of_k_means_clusters, n_init=20, max_iter=300, random_state=1)\n",
    "# Fit the Model on our dataset\n",
    "km.fit(rfm_Table_Scaled)\n",
    "# Assign each data object/point to the cluster represented by its nearest centroid\n",
    "y_pred = km.predict(rfm_Table_Scaled)"
   ]
  },
  {
   "cell_type": "code",
   "execution_count": 37,
   "id": "6b02eb63",
   "metadata": {},
   "outputs": [
    {
     "data": {
      "text/html": [
       "<svg  width=\"275\" height=\"55\"><rect x=\"0\" y=\"0\" width=\"55\" height=\"55\" style=\"fill:#1f77b4;stroke-width:2;stroke:rgb(255,255,255)\"/><rect x=\"55\" y=\"0\" width=\"55\" height=\"55\" style=\"fill:#ff7f0e;stroke-width:2;stroke:rgb(255,255,255)\"/><rect x=\"110\" y=\"0\" width=\"55\" height=\"55\" style=\"fill:#2ca02c;stroke-width:2;stroke:rgb(255,255,255)\"/><rect x=\"165\" y=\"0\" width=\"55\" height=\"55\" style=\"fill:#d62728;stroke-width:2;stroke:rgb(255,255,255)\"/><rect x=\"220\" y=\"0\" width=\"55\" height=\"55\" style=\"fill:#9467bd;stroke-width:2;stroke:rgb(255,255,255)\"/></svg>"
      ],
      "text/plain": [
       "[(0.12156862745098039, 0.4666666666666667, 0.7058823529411765),\n",
       " (1.0, 0.4980392156862745, 0.054901960784313725),\n",
       " (0.17254901960784313, 0.6274509803921569, 0.17254901960784313),\n",
       " (0.8392156862745098, 0.15294117647058825, 0.1568627450980392),\n",
       " (0.5803921568627451, 0.403921568627451, 0.7411764705882353)]"
      ]
     },
     "execution_count": 37,
     "metadata": {},
     "output_type": "execute_result"
    }
   ],
   "source": [
    "# Define a custom color palette\n",
    "custom_palette_k_means = sns.color_palette(\"tab10\", n_colors=num_of_k_means_clusters)\n",
    "custom_palette_k_means"
   ]
  },
  {
   "cell_type": "code",
   "execution_count": 38,
   "id": "3750d891",
   "metadata": {},
   "outputs": [
    {
     "name": "stderr",
     "output_type": "stream",
     "text": [
      "C:\\Users\\ryanl\\AppData\\Local\\Temp\\ipykernel_26680\\289811850.py:2: SettingWithCopyWarning: \n",
      "A value is trying to be set on a copy of a slice from a DataFrame.\n",
      "Try using .loc[row_indexer,col_indexer] = value instead\n",
      "\n",
      "See the caveats in the documentation: https://pandas.pydata.org/pandas-docs/stable/user_guide/indexing.html#returning-a-view-versus-a-copy\n",
      "  rfm_Table['kmeans_cluster']=y_pred\n"
     ]
    }
   ],
   "source": [
    "# Add in cluster information into original dataframe (dat)\n",
    "rfm_Table['kmeans_cluster']=y_pred\n",
    "rfm_Table_Scaled['kmeans_cluster']=y_pred"
   ]
  },
  {
   "cell_type": "code",
   "execution_count": 39,
   "id": "6fdf3a99",
   "metadata": {},
   "outputs": [],
   "source": [
    "#test=rfm_Table.copy() #this is with the las torder"
   ]
  },
  {
   "cell_type": "code",
   "execution_count": 40,
   "id": "e5b8e00c",
   "metadata": {},
   "outputs": [
    {
     "name": "stderr",
     "output_type": "stream",
     "text": [
      "C:\\Users\\ryanl\\AppData\\Local\\Temp\\ipykernel_26680\\3805783098.py:16: FutureWarning: iteritems is deprecated and will be removed in a future version. Use .items instead.\n",
      "  for row_key, (ax,row) in box.iteritems():\n",
      "C:\\Users\\ryanl\\AppData\\Local\\Temp\\ipykernel_26680\\3805783098.py:16: FutureWarning: iteritems is deprecated and will be removed in a future version. Use .items instead.\n",
      "  for row_key, (ax,row) in box.iteritems():\n",
      "C:\\Users\\ryanl\\AppData\\Local\\Temp\\ipykernel_26680\\3805783098.py:16: FutureWarning: iteritems is deprecated and will be removed in a future version. Use .items instead.\n",
      "  for row_key, (ax,row) in box.iteritems():\n"
     ]
    },
    {
     "data": {
      "image/png": "[encoded data removed]",
      "text/plain": [
       "<Figure size 1200x400 with 3 Axes>"
      ]
     },
     "metadata": {},
     "output_type": "display_data"
    }
   ],
   "source": [
    "cluster_colors = ['#b4d2b1', '#cd7e59', '#ddb247', '#d15252', '#9b59b6', '#3498db', '#f39c12']\n",
    "# Add in cluster information into original dataframe (dat)\n",
    "\n",
    "\n",
    "# Groupped Boxplots\n",
    "\n",
    "features = ['RECENCY','FREQUENCY','MONETARY']\n",
    "ncols = 3\n",
    "nrows = len(features) // ncols + (len(features) % ncols > 0)\n",
    "fig = plt.figure(figsize=(12,4))\n",
    "\n",
    "for n, feature in enumerate(features):\n",
    "    ax = plt.subplot(nrows, ncols, n + 1)\n",
    "    box = rfm_Table[[feature, 'kmeans_cluster']].boxplot(by='kmeans_cluster',ax=ax,return_type='both',patch_artist = True)\n",
    "\n",
    "    for row_key, (ax,row) in box.iteritems():\n",
    "        ax.set_xlabel('cluster')\n",
    "        ax.set_title(feature,fontweight=\"bold\")\n",
    "        for i,box in enumerate(row['boxes']):\n",
    "            box.set_facecolor(cluster_colors[i])\n",
    "\n",
    "fig.suptitle('Feature distributions per cluster', fontsize=18, y=1)   \n",
    "plt.tight_layout()\n",
    "plt.show()"
   ]
  },
  {
   "cell_type": "code",
   "execution_count": 41,
   "id": "50214362",
   "metadata": {},
   "outputs": [],
   "source": [
    "analysis_df=rfm_Table[['RECENCY','FREQUENCY','MONETARY','kmeans_cluster']]"
   ]
  },
  {
   "cell_type": "code",
   "execution_count": 42,
   "id": "13b505d8",
   "metadata": {},
   "outputs": [
    {
     "name": "stdout",
     "output_type": "stream",
     "text": [
      "Cluster 0 Description:\n",
      "            RECENCY     FREQUENCY      MONETARY  kmeans_cluster\n",
      "count  15177.000000  15177.000000  15177.000000         15177.0\n",
      "mean      13.067668     54.285564   2062.624646             0.0\n",
      "std        7.122689      4.373209    201.630990             0.0\n",
      "min        0.000000     39.000000   1348.750000             0.0\n",
      "25%        7.000000     51.000000   1917.750000             0.0\n",
      "50%       12.000000     54.000000   2070.000000             0.0\n",
      "75%       19.000000     57.000000   2214.250000             0.0\n",
      "max       29.000000     68.000000   2690.000000             0.0\n",
      "------------\n",
      "Cluster 1 Description:\n",
      "           RECENCY    FREQUENCY     MONETARY  kmeans_cluster\n",
      "count  3896.000000  3896.000000  3896.000000          3896.0\n",
      "mean     61.972279    39.951761  1484.978976             1.0\n",
      "std      14.789746     7.405753   319.546959             0.0\n",
      "min      41.000000    20.686715   562.670357             1.0\n",
      "25%      49.000000    35.000000  1256.187500             1.0\n",
      "50%      59.000000    40.000000  1484.500000             1.0\n",
      "75%      73.000000    45.000000  1695.812500             1.0\n",
      "max      90.000000    66.000000  2542.750000             1.0\n",
      "------------\n",
      "Cluster 2 Description:\n",
      "            RECENCY     FREQUENCY      MONETARY  kmeans_cluster\n",
      "count  11256.000000  11256.000000  11256.000000         11256.0\n",
      "mean      13.726190     65.509465   2642.293556             2.0\n",
      "std        8.234028      5.019522    259.498999             0.0\n",
      "min        0.000000     51.000000   2003.250000             2.0\n",
      "25%        7.000000     62.000000   2454.687500             2.0\n",
      "50%       12.000000     65.000000   2599.750000             2.0\n",
      "75%       20.000000     68.000000   2794.250000             2.0\n",
      "max       51.000000     85.725942   3544.666943             2.0\n",
      "------------\n",
      "Cluster 3 Description:\n",
      "           RECENCY    FREQUENCY     MONETARY  kmeans_cluster\n",
      "count  6874.000000  6874.000000  6874.000000          6874.0\n",
      "mean     40.849142    56.231452  2189.397367             3.0\n",
      "std      11.195163     5.700753   278.640225             0.0\n",
      "min      26.000000    40.000000  1303.750000             3.0\n",
      "25%      32.000000    52.000000  1984.500000             3.0\n",
      "50%      38.000000    56.000000  2171.125000             3.0\n",
      "75%      47.000000    60.000000  2369.000000             3.0\n",
      "max      90.000000    80.000000  3342.250000             3.0\n",
      "------------\n",
      "Cluster 4 Description:\n",
      "           RECENCY    FREQUENCY     MONETARY  kmeans_cluster\n",
      "count  9097.000000  9097.000000  9097.000000          9097.0\n",
      "mean     20.222161    39.571548  1450.567495             4.0\n",
      "std       9.947952     5.418472   236.379771             0.0\n",
      "min       0.000000    20.686715   566.000000             4.0\n",
      "25%      12.000000    36.000000  1291.500000             4.0\n",
      "50%      20.000000    40.000000  1471.500000             4.0\n",
      "75%      28.000000    44.000000  1627.250000             4.0\n",
      "max      41.000000    53.000000  2171.750000             4.0\n",
      "------------\n"
     ]
    }
   ],
   "source": [
    "# Step 1: Group the DataFrame by 'kmeans_cluster'\n",
    "cluster_groups = analysis_df.groupby('kmeans_cluster')\n",
    "\n",
    "# Step 2: Iterate through each cluster group and apply .info() function\n",
    "for cluster, cluster_df in cluster_groups:\n",
    "    print(f\"Cluster {cluster} Description:\")\n",
    "    print(cluster_df.describe())\n",
    "    print(\"------------\")"
   ]
  },
  {
   "cell_type": "markdown",
   "id": "427a0957",
   "metadata": {},
   "source": [
    "**Cluster 0: \"Active Moderate-Value Customers\"**\n",
    "- Description: This cluster represents customers who are active, show moderate recency (recent purchases), and have a moderate level of spending (moderate monetary value).\n",
    "\n",
    "**Cluster 1: \"Inactive Low-Spending Customers\"**\n",
    "- Description: This cluster consists of customers who exhibit high recency (longest inactivity), low spending (lowest monetary value), and have low purchase frequency (low frequency). These customers are currently inactive and have not made recent purchases.\n",
    "\n",
    "**Cluster 2: \"High-Value Loyal Customers\"**\n",
    "- Description: This cluster includes customers who are both high-value and highly loyal to the business. They have moderate recency (recent purchases), a high purchase frequency (high frequency), and spend significantly (high monetary value). These customers are the most valuable and loyal members, representing a critical segment for the business's ongoing success.\n",
    "\n",
    "**Cluster 3: \"Engaged Moderate-Value Customers\"**\n",
    "- Description: This cluster comprises customers who show moderate recency (recent purchases), a moderate purchase frequency (moderate frequency), and have a moderate level of spending (moderate monetary value). They are actively engaged with the brand and contribute to the business's success.\n",
    "\n",
    "**Cluster 4: \"Active Low-Spending Customers\"**\n",
    "- Description: This cluster consists of customers who have made recent purchases (moderate recency), but their spending is relatively low (low monetary value). They exhibit moderate purchase frequency (moderate frequency) and represent an active but low-spending segment."
   ]
  },
  {
   "cell_type": "code",
   "execution_count": 43,
   "id": "219b3378",
   "metadata": {},
   "outputs": [],
   "source": [
    "X = rfm_Table_Scaled.drop(['kmeans_cluster'], axis =1,\n",
    "                  errors='ignore')\n",
    "y = rfm_Table_Scaled[\"kmeans_cluster\"]\n",
    "\n",
    "\n",
    "X_train,X_test,y_train,y_test=train_test_split(X,y,test_size=0.6,random_state=42)"
   ]
  },
  {
   "cell_type": "code",
   "execution_count": 44,
   "id": "e85a76b2",
   "metadata": {},
   "outputs": [],
   "source": [
    "# Test and holdout split\n",
    "X_test,X_holdout,y_test,y_holdout=train_test_split(X_test,y_test,test_size=0.5,random_state=42)"
   ]
  },
  {
   "cell_type": "code",
   "execution_count": 45,
   "id": "95d2dabe",
   "metadata": {},
   "outputs": [],
   "source": [
    "# Function to show MSE, MAE, r-sq of Classification models\n",
    "def evaluateModel(model):\n",
    "\n",
    "    print('Train Accuracy: \\t{:.2f}%  \\\n",
    "          \\nTest Accuracy: \\t\\t{:.2f}%  \\\n",
    "          \\nHoldout Accuracy: \\t{:.2f}%'.format(model.score(X_train, y_train)*100,model.score(X_test, y_test)*100,model.score(X_holdout, y_holdout)*100))"
   ]
  },
  {
   "cell_type": "markdown",
   "id": "36965c0f",
   "metadata": {},
   "source": [
    "## Logistic Regression"
   ]
  },
  {
   "cell_type": "code",
   "execution_count": 46,
   "id": "17bf10fb",
   "metadata": {},
   "outputs": [
    {
     "name": "stdout",
     "output_type": "stream",
     "text": [
      "Train Accuracy: \t97.72%            \n",
      "Test Accuracy: \t\t97.83%            \n",
      "Holdout Accuracy: \t97.65%\n"
     ]
    }
   ],
   "source": [
    "# Build Logistic Regression Model\n",
    "log_ref_before = LogisticRegression(max_iter=10000)\n",
    "log_ref_before.fit(X_train, y_train)\n",
    "\n",
    "evaluateModel(log_ref_before)"
   ]
  },
  {
   "cell_type": "code",
   "execution_count": 47,
   "id": "e4c228fb",
   "metadata": {},
   "outputs": [
    {
     "name": "stdout",
     "output_type": "stream",
     "text": [
      "0.989902807775378\n",
      "{'C': 10, 'penalty': 'l2', 'solver': 'newton-cg'}\n"
     ]
    }
   ],
   "source": [
    "# Use GridSearch to find the best combination of model hyperparameters\n",
    "\n",
    "logreg = LogisticRegression()\n",
    "param_grid = {\"penalty\": [\"l2\"],\n",
    "                \"C\" : [0.1, 1, 10],\n",
    "                \"solver\" : [\"newton-cg\", \"lbfgs\", \"liblinear\"]}\n",
    "\n",
    "gs =GridSearchCV(logreg, param_grid = param_grid, scoring = \"accuracy\", cv = 10, n_jobs = -1)\n",
    "gs = gs.fit(X_train, y_train)\n",
    "\n",
    "lr_best_score=gs.best_score_\n",
    "print(gs.best_score_)\n",
    "print(gs.best_params_)"
   ]
  },
  {
   "cell_type": "code",
   "execution_count": 48,
   "id": "7d6f6c4e",
   "metadata": {},
   "outputs": [
    {
     "name": "stdout",
     "output_type": "stream",
     "text": [
      "Train Accuracy: \t99.04%            \n",
      "Test Accuracy: \t\t99.17%            \n",
      "Holdout Accuracy: \t99.10%\n"
     ]
    }
   ],
   "source": [
    "# Build Logistic Regression Model\n",
    "log_ref_improved = LogisticRegression(**gs.best_params_)\n",
    "log_ref_improved.fit(X_train, y_train)\n",
    "\n",
    "evaluateModel(log_ref_improved)"
   ]
  },
  {
   "cell_type": "markdown",
   "id": "32f2170a",
   "metadata": {},
   "source": [
    "## Decision Tree"
   ]
  },
  {
   "cell_type": "code",
   "execution_count": 50,
   "id": "771e65dd",
   "metadata": {},
   "outputs": [
    {
     "name": "stdout",
     "output_type": "stream",
     "text": [
      "Train Accuracy: \t100.00%            \n",
      "Test Accuracy: \t\t98.25%            \n",
      "Holdout Accuracy: \t98.39%\n"
     ]
    }
   ],
   "source": [
    "# Build Decision Tree Model\n",
    "decision_tree_before = tree.DecisionTreeClassifier(max_depth = 20)\n",
    "\n",
    "decision_tree_before.fit(X_train, y_train)\n",
    "\n",
    "evaluateModel(decision_tree_before)"
   ]
  },
  {
   "cell_type": "code",
   "execution_count": 51,
   "id": "0c924882",
   "metadata": {},
   "outputs": [
    {
     "name": "stdout",
     "output_type": "stream",
     "text": [
      "0.9624190064794818\n",
      "{'criterion': 'entropy', 'max_depth': 7, 'min_samples_leaf': 10, 'min_samples_split': 2}\n"
     ]
    }
   ],
   "source": [
    "dt = tree.DecisionTreeClassifier()\n",
    "\n",
    "param_grid = { \"criterion\" : [\"gini\", \"entropy\"], \n",
    "              \"min_samples_leaf\" : [1, 5, 10,20,30,40,50,100], \n",
    "              \"min_samples_split\" : [2, 4, 10, 12, 16], \n",
    "              'max_depth' : [2,3,4,5,6,7]}\n",
    "\n",
    "gs = GridSearchCV(dt, param_grid=param_grid, scoring='accuracy', cv= 5, n_jobs=-1)\n",
    "# cv: number of partitions for cross validation\n",
    "# n_jobs: number of jobs to run in parallel, -1 means using all processors\n",
    "\n",
    "gs = gs.fit(X_train, y_train) \n",
    "dt_best_score=gs.best_score_\n",
    "\n",
    "print(gs.best_score_)\n",
    "print(gs.best_params_)"
   ]
  },
  {
   "cell_type": "code",
   "execution_count": 52,
   "id": "c772606a",
   "metadata": {},
   "outputs": [
    {
     "name": "stdout",
     "output_type": "stream",
     "text": [
      "Train Accuracy: \t96.95%            \n",
      "Test Accuracy: \t\t96.41%            \n",
      "Holdout Accuracy: \t96.04%\n"
     ]
    }
   ],
   "source": [
    "# Create Decision Tree using the best hyperparameters\n",
    "decision_tree_improved = tree.DecisionTreeClassifier(**gs.best_params_)\n",
    "decision_tree_improved.fit(X_train, y_train)\n",
    "\n",
    "evaluateModel(decision_tree_improved)"
   ]
  },
  {
   "cell_type": "markdown",
   "id": "ecba9960",
   "metadata": {},
   "source": [
    "## Random Forest"
   ]
  },
  {
   "cell_type": "code",
   "execution_count": 53,
   "id": "419aaaac",
   "metadata": {},
   "outputs": [
    {
     "name": "stdout",
     "output_type": "stream",
     "text": [
      "Train Accuracy: \t100.00%            \n",
      "Test Accuracy: \t\t98.96%            \n",
      "Holdout Accuracy: \t98.94%\n"
     ]
    }
   ],
   "source": [
    "# Build Random Forest Model\n",
    "random_forest_before= RandomForestClassifier(n_estimators=100)\n",
    "random_forest_before.fit(X_train, y_train)\n",
    "\n",
    "evaluateModel(random_forest_before)"
   ]
  },
  {
   "cell_type": "code",
   "execution_count": 54,
   "id": "7ed9a6d2",
   "metadata": {},
   "outputs": [
    {
     "name": "stdout",
     "output_type": "stream",
     "text": [
      "0.9766738660907126\n",
      "{'max_depth': 8, 'min_samples_split': 5, 'n_estimators': 100}\n"
     ]
    }
   ],
   "source": [
    "rf = RandomForestClassifier()\n",
    "param_grid = {'n_estimators': [10, 50, 100],\n",
    "'max_depth': [ 4, 6, 8],\n",
    "'min_samples_split': [5, 10, 15]}\n",
    "\n",
    "gs = GridSearchCV(rf, param_grid = param_grid, scoring = \"accuracy\", cv = 5, n_jobs = -1)\n",
    "gs = gs.fit(X_train, y_train)\n",
    "\n",
    "rf_best_score=gs.best_score_\n",
    "print(gs.best_score_)\n",
    "print(gs.best_params_)"
   ]
  },
  {
   "cell_type": "code",
   "execution_count": 55,
   "id": "7a256228",
   "metadata": {},
   "outputs": [
    {
     "name": "stdout",
     "output_type": "stream",
     "text": [
      "Train Accuracy: \t98.74%            \n",
      "Test Accuracy: \t\t97.82%            \n",
      "Holdout Accuracy: \t97.75%\n"
     ]
    }
   ],
   "source": [
    "# Build RandomForest Model and Evaluate both training and testing accuracy\n",
    "random_forest_improved = RandomForestClassifier(**gs.best_params_)\n",
    "random_forest_improved.fit(X_train,y_train)\n",
    "\n",
    "evaluateModel(random_forest_improved)"
   ]
  },
  {
   "cell_type": "markdown",
   "id": "1ca11a79",
   "metadata": {},
   "source": [
    "## Adaboost"
   ]
  },
  {
   "cell_type": "code",
   "execution_count": 56,
   "id": "f8a2ff0d",
   "metadata": {},
   "outputs": [
    {
     "name": "stdout",
     "output_type": "stream",
     "text": [
      "Train Accuracy: \t100.00%            \n",
      "Test Accuracy: \t\t98.31%            \n",
      "Holdout Accuracy: \t98.32%\n"
     ]
    }
   ],
   "source": [
    "# Build Ada Boost Model\n",
    "adb_before = AdaBoostClassifier(DecisionTreeClassifier(),n_estimators=5,learning_rate=1)\n",
    "adb_before.fit(X_train, y_train)\n",
    "\n",
    "evaluateModel(adb_before)"
   ]
  },
  {
   "cell_type": "code",
   "execution_count": 57,
   "id": "8bb868be",
   "metadata": {},
   "outputs": [
    {
     "name": "stdout",
     "output_type": "stream",
     "text": [
      "0.9605831533477323\n",
      "{'algorithm': 'SAMME', 'estimator': DecisionTreeClassifier(max_depth=2), 'learning_rate': 1, 'n_estimators': 100}\n"
     ]
    }
   ],
   "source": [
    "adb = AdaBoostClassifier()\n",
    "\n",
    "param_grid = {\n",
    "    'estimator': [tree.DecisionTreeClassifier(max_depth=1), tree.DecisionTreeClassifier(max_depth=2)],\n",
    "    'n_estimators': [50, 100, 200],\n",
    "    'learning_rate': [0.1, 0.5, 1],\n",
    "    'algorithm': ['SAMME', 'SAMME.R']\n",
    "}\n",
    "\n",
    "gs = GridSearchCV(adb, param_grid, cv=5, n_jobs=-1)\n",
    "\n",
    "gs.fit(X_train, y_train)\n",
    "\n",
    "adb_best_score=gs.best_score_\n",
    "print(gs.best_score_)\n",
    "print(gs.best_params_)"
   ]
  },
  {
   "cell_type": "code",
   "execution_count": 58,
   "id": "5625c8bc",
   "metadata": {},
   "outputs": [
    {
     "name": "stdout",
     "output_type": "stream",
     "text": [
      "Train Accuracy: \t95.97%            \n",
      "Test Accuracy: \t\t96.08%            \n",
      "Holdout Accuracy: \t95.87%\n"
     ]
    }
   ],
   "source": [
    "# Build Ada Boost Model and Evaluate both training and testing accuracy\n",
    "adb_improved = AdaBoostClassifier(**gs.best_params_)\n",
    "adb_improved.fit(X_train,y_train)\n",
    "\n",
    "evaluateModel(adb_improved)"
   ]
  },
  {
   "cell_type": "markdown",
   "id": "5a30ff0c",
   "metadata": {},
   "source": [
    "## XGboost (Final Model)"
   ]
  },
  {
   "cell_type": "code",
   "execution_count": 59,
   "id": "c73f3c95",
   "metadata": {},
   "outputs": [
    {
     "name": "stdout",
     "output_type": "stream",
     "text": [
      "Train Accuracy: \t99.88%            \n",
      "Test Accuracy: \t\t98.73%            \n",
      "Holdout Accuracy: \t98.78%\n"
     ]
    }
   ],
   "source": [
    "# Build XGBoost Model\n",
    "xgb_before= XGBClassifier(n_estimators = 20, learning_rate = 0.1, eval_metric='logloss',max_depth = 20)\n",
    "xgb_before.fit(X_train, y_train)\n",
    "\n",
    "#E valuate XGBoost Model\n",
    "evaluateModel(xgb_before)"
   ]
  },
  {
   "cell_type": "code",
   "execution_count": 60,
   "id": "fbe6a707",
   "metadata": {},
   "outputs": [
    {
     "name": "stdout",
     "output_type": "stream",
     "text": [
      "0.9898488120950324\n",
      "{'learning_rate': 0.2, 'max_depth': 4, 'n_estimators': 100, 'subsample': 0.6}\n"
     ]
    }
   ],
   "source": [
    "xgb = XGBClassifier()\n",
    "\n",
    "param_grid = {\n",
    "    'max_depth': [4, 6, 8], \n",
    "    'learning_rate': [0.05, 0.1, 0.2],\n",
    "    'n_estimators': [20, 50, 100],\n",
    "    'subsample':[0.6,0.7,0.8]\n",
    "}\n",
    "\n",
    "gs = GridSearchCV(xgb_before, param_grid, cv=5, n_jobs=-1,scoring='accuracy')\n",
    "\n",
    "gs.fit(X_train, y_train)\n",
    "\n",
    "xgb_best_score=gs.best_score_\n",
    "print(gs.best_score_)\n",
    "print(gs.best_params_)"
   ]
  },
  {
   "cell_type": "code",
   "execution_count": 61,
   "id": "7553631d",
   "metadata": {},
   "outputs": [
    {
     "name": "stdout",
     "output_type": "stream",
     "text": [
      "Train Accuracy: \t99.94%            \n",
      "Test Accuracy: \t\t99.26%            \n",
      "Holdout Accuracy: \t99.27%\n"
     ]
    }
   ],
   "source": [
    "# Build XGBoost Model and Evaluate both training and testing accuracy \n",
    "xgb_improved = XGBClassifier(**gs.best_params_)\n",
    "xgb_improved.fit(X_train,y_train)\n",
    "\n",
    "evaluateModel(xgb_improved)"
   ]
  },
  {
   "cell_type": "code",
   "execution_count": 62,
   "id": "510f0e40",
   "metadata": {},
   "outputs": [],
   "source": [
    "y_pred= xgb_improved.predict(X_test)"
   ]
  },
  {
   "cell_type": "code",
   "execution_count": 63,
   "id": "24ab9f2f",
   "metadata": {},
   "outputs": [
    {
     "name": "stdout",
     "output_type": "stream",
     "text": [
      "              precision    recall  f1-score   support\n",
      "\n",
      "           0       0.99      0.99      0.99      4583\n",
      "           1       0.99      0.99      0.99      1173\n",
      "           2       1.00      0.99      1.00      3428\n",
      "           3       0.99      0.99      0.99      2045\n",
      "           4       0.99      0.99      0.99      2661\n",
      "\n",
      "    accuracy                           0.99     13890\n",
      "   macro avg       0.99      0.99      0.99     13890\n",
      "weighted avg       0.99      0.99      0.99     13890\n",
      "\n"
     ]
    }
   ],
   "source": [
    "print(classification_report(y_test, y_pred))"
   ]
  },
  {
   "cell_type": "code",
   "execution_count": null,
   "id": "2d378d4b",
   "metadata": {},
   "outputs": [],
   "source": []
  }
 ],
 "metadata": {
  "kernelspec": {
   "display_name": "py38_env",
   "language": "python",
   "name": "python3"
  },
  "language_info": {
   "codemirror_mode": {
    "name": "ipython",
    "version": 3
   },
   "file_extension": ".py",
   "mimetype": "text/x-python",
   "name": "python",
   "nbconvert_exporter": "python",
   "pygments_lexer": "ipython3",
   "version": "3.8.16"
  }
 },
 "nbformat": 4,
 "nbformat_minor": 5
}
