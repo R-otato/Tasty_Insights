{
 "cells": [
  {
   "cell_type": "code",
   "execution_count": 141,
   "metadata": {},
   "outputs": [],
   "source": [
    "# Import Snowflake modules\n",
    "from snowflake.snowpark import Session\n",
    "import snowflake.snowpark.functions as F\n",
    "import snowflake.snowpark.types as T\n",
    "from snowflake.snowpark import Window\n",
    "\n",
    "import pandas\n",
    "import matplotlib.pyplot as plt\n",
    "import seaborn as sns\n",
    "import numpy as np\n",
    "import json"
   ]
  },
  {
   "cell_type": "code",
   "execution_count": 142,
   "metadata": {},
   "outputs": [],
   "source": [
    "# Get account credentials from a json file\n",
    "with open(\"data_scientist_auth.json\") as f:\n",
    "    data = json.load(f)\n",
    "    username = data[\"username\"]\n",
    "    password = data[\"password\"]\n",
    "    account = data[\"account\"]\n",
    "\n",
    "# Specify connection parameters\n",
    "connection_parameters = {\n",
    "    \"account\": account,\n",
    "    \"user\": username,\n",
    "    \"password\": password,\n",
    "    \"role\": \"TASTY_BI\",\n",
    "    \"warehouse\": \"TASTY_BI_WH\",\n",
    "    \"database\": \"frostbyte_tasty_bytes\",\n",
    "    \"schema\": \"analytics\",\n",
    "}\n",
    "\n",
    "# Create Snowpark session\n",
    "session = Session.builder.configs(connection_parameters).create()"
   ]
  },
  {
   "cell_type": "code",
   "execution_count": 143,
   "metadata": {},
   "outputs": [],
   "source": [
    "SENTIMENT_DATA = session.table(\"frostbyte_tasty_bytes_setup_s.raw_survey.sentiment_survey_ds\")\n",
    "\n",
    "TRUCK_DATA = session.table(\"frostbyte_tasty_bytes_setup_s.raw_pos.truck\")"
   ]
  },
  {
   "cell_type": "code",
   "execution_count": 144,
   "metadata": {},
   "outputs": [
    {
     "name": "stdout",
     "output_type": "stream",
     "text": [
      "-------------------------------------------------------------------------------------------------------------------------------------------------------------------------------------------------\n",
      "|\"SURVEY_ID\"       |\"SURVEY_TS\"  |\"TRUCK_ID\"  |\"COMMENTS\"                                    |\"NPS_SCORE\"  |\"NPS_CATEGORY\"  |\"OVERALL_SENTIMENT\"  |\"ASPECT_SENTIMENT\"                           |\n",
      "-------------------------------------------------------------------------------------------------------------------------------------------------------------------------------------------------\n",
      "|60509-SL          |2023-01-25   |291         |                                              |60.0         |Passive         |0.0                  |[                                            |\n",
      "|                  |             |            |                                              |             |                |                     |  {                                          |\n",
      "|                  |             |            |                                              |             |                |                     |    \"aspect\": null,                          |\n",
      "|                  |             |            |                                              |             |                |                     |    \"aspect_keywords\": [],                   |\n",
      "|                  |             |            |                                              |             |                |                     |    \"compound_nouns\": [],                    |\n",
      "|                  |             |            |                                              |             |                |                     |    \"sentiment\": null,                       |\n",
      "|                  |             |            |                                              |             |                |                     |    \"subject\": [],                           |\n",
      "|                  |             |            |                                              |             |                |                     |    \"text\": \" \"                              |\n",
      "|                  |             |            |                                              |             |                |                     |  }                                          |\n",
      "|                  |             |            |                                              |             |                |                     |]                                            |\n",
      "|20612-SL          |2023-01-25   |36          |Amazing food. I had good experience overall.  |60.0         |Passive         |0.4404               |[                                            |\n",
      "|                  |             |            |                                              |             |                |                     |  {                                          |\n",
      "|                  |             |            |                                              |             |                |                     |    \"aspect\": \"Food\",                        |\n",
      "|                  |             |            |                                              |             |                |                     |    \"aspect_keywords\": [                     |\n",
      "|                  |             |            |                                              |             |                |                     |      \"amazing food\"                         |\n",
      "|                  |             |            |                                              |             |                |                     |    ],                                       |\n",
      "|                  |             |            |                                              |             |                |                     |    \"compound_nouns\": [],                    |\n",
      "|                  |             |            |                                              |             |                |                     |    \"sentiment\": 0.5859,                     |\n",
      "|                  |             |            |                                              |             |                |                     |    \"subject\": [                             |\n",
      "|                  |             |            |                                              |             |                |                     |      \"food\"                                 |\n",
      "|                  |             |            |                                              |             |                |                     |    ],                                       |\n",
      "|                  |             |            |                                              |             |                |                     |    \"text\": \" amazing food\"                  |\n",
      "|                  |             |            |                                              |             |                |                     |  },                                         |\n",
      "|                  |             |            |                                              |             |                |                     |  {                                          |\n",
      "|                  |             |            |                                              |             |                |                     |    \"aspect\": \"Experience\",                  |\n",
      "|                  |             |            |                                              |             |                |                     |    \"aspect_keywords\": [                     |\n",
      "|                  |             |            |                                              |             |                |                     |      \"good experience\",                     |\n",
      "|                  |             |            |                                              |             |                |                     |      \"overall \"                             |\n",
      "|                  |             |            |                                              |             |                |                     |    ],                                       |\n",
      "|                  |             |            |                                              |             |                |                     |    \"compound_nouns\": [],                    |\n",
      "|                  |             |            |                                              |             |                |                     |    \"sentiment\": 0.4404,                     |\n",
      "|                  |             |            |                                              |             |                |                     |    \"subject\": [                             |\n",
      "|                  |             |            |                                              |             |                |                     |      \"\",                                    |\n",
      "|                  |             |            |                                              |             |                |                     |      \"experience\"                           |\n",
      "|                  |             |            |                                              |             |                |                     |    ],                                       |\n",
      "|                  |             |            |                                              |             |                |                     |    \"text\": \"i had good experience overall\"  |\n",
      "|                  |             |            |                                              |             |                |                     |  },                                         |\n",
      "|                  |             |            |                                              |             |                |                     |  {                                          |\n",
      "|                  |             |            |                                              |             |                |                     |    \"aspect\": null,                          |\n",
      "|                  |             |            |                                              |             |                |                     |    \"aspect_keywords\": [],                   |\n",
      "|                  |             |            |                                              |             |                |                     |    \"compound_nouns\": [],                    |\n",
      "|                  |             |            |                                              |             |                |                     |    \"sentiment\": null,                       |\n",
      "|                  |             |            |                                              |             |                |                     |    \"subject\": [],                           |\n",
      "|                  |             |            |                                              |             |                |                     |    \"text\": \" \"                              |\n",
      "|                  |             |            |                                              |             |                |                     |  }                                          |\n",
      "|                  |             |            |                                              |             |                |                     |]                                            |\n",
      "|45808-SL          |2023-01-25   |291         |Great food. Had a good experience.            |100.0        |Promoter        |0.4404               |[                                            |\n",
      "|                  |             |            |                                              |             |                |                     |  {                                          |\n",
      "|                  |             |            |                                              |             |                |                     |    \"aspect\": \"Food\",                        |\n",
      "|                  |             |            |                                              |             |                |                     |    \"aspect_keywords\": [                     |\n",
      "|                  |             |            |                                              |             |                |                     |      \"great food\"                           |\n",
      "|                  |             |            |                                              |             |                |                     |    ],                                       |\n",
      "|                  |             |            |                                              |             |                |                     |    \"compound_nouns\": [],                    |\n",
      "|                  |             |            |                                              |             |                |                     |    \"sentiment\": 0.6249,                     |\n",
      "|                  |             |            |                                              |             |                |                     |    \"subject\": [                             |\n",
      "|                  |             |            |                                              |             |                |                     |      \"food\"                                 |\n",
      "|                  |             |            |                                              |             |                |                     |    ],                                       |\n",
      "|                  |             |            |                                              |             |                |                     |    \"text\": \" great food\"                    |\n",
      "|                  |             |            |                                              |             |                |                     |  },                                         |\n",
      "|                  |             |            |                                              |             |                |                     |  {                                          |\n",
      "|                  |             |            |                                              |             |                |                     |    \"aspect\": \"Experience\",                  |\n",
      "|                  |             |            |                                              |             |                |                     |    \"aspect_keywords\": [                     |\n",
      "|                  |             |            |                                              |             |                |                     |      \"good experience\"                      |\n",
      "|                  |             |            |                                              |             |                |                     |    ],                                       |\n",
      "|                  |             |            |                                              |             |                |                     |    \"compound_nouns\": [],                    |\n",
      "|                  |             |            |                                              |             |                |                     |    \"sentiment\": 0.4404,                     |\n",
      "|                  |             |            |                                              |             |                |                     |    \"subject\": [                             |\n",
      "|                  |             |            |                                              |             |                |                     |      \"experience\"                           |\n",
      "|                  |             |            |                                              |             |                |                     |    ],                                       |\n",
      "|                  |             |            |                                              |             |                |                     |    \"text\": \"had a good experience\"          |\n",
      "|                  |             |            |                                              |             |                |                     |  },                                         |\n",
      "|                  |             |            |                                              |             |                |                     |  {                                          |\n",
      "|                  |             |            |                                              |             |                |                     |    \"aspect\": null,                          |\n",
      "|                  |             |            |                                              |             |                |                     |    \"aspect_keywords\": [],                   |\n",
      "|                  |             |            |                                              |             |                |                     |    \"compound_nouns\": [],                    |\n",
      "|                  |             |            |                                              |             |                |                     |    \"sentiment\": null,                       |\n",
      "|                  |             |            |                                              |             |                |                     |    \"subject\": [],                           |\n",
      "|                  |             |            |                                              |             |                |                     |    \"text\": \" \"                              |\n",
      "|                  |             |            |                                              |             |                |                     |  }                                          |\n",
      "|                  |             |            |                                              |             |                |                     |]                                            |\n",
      "|93806-SL          |2023-01-25   |291         |Awesome food. Great experience.               |60.0         |Passive         |0.6249               |[                                            |\n",
      "|                  |             |            |                                              |             |                |                     |  {                                          |\n",
      "|                  |             |            |                                              |             |                |                     |    \"aspect\": \"Food\",                        |\n",
      "|                  |             |            |                                              |             |                |                     |    \"aspect_keywords\": [                     |\n",
      "|                  |             |            |                                              |             |                |                     |      \"awesome food\"                         |\n",
      "|                  |             |            |                                              |             |                |                     |    ],                                       |\n",
      "|                  |             |            |                                              |             |                |                     |    \"compound_nouns\": [],                    |\n",
      "|                  |             |            |                                              |             |                |                     |    \"sentiment\": 0.6249,                     |\n",
      "|                  |             |            |                                              |             |                |                     |    \"subject\": [                             |\n",
      "|                  |             |            |                                              |             |                |                     |      \"food\"                                 |\n",
      "|                  |             |            |                                              |             |                |                     |    ],                                       |\n",
      "|                  |             |            |                                              |             |                |                     |    \"text\": \" awesome food\"                  |\n",
      "|                  |             |            |                                              |             |                |                     |  },                                         |\n",
      "|                  |             |            |                                              |             |                |                     |  {                                          |\n",
      "|                  |             |            |                                              |             |                |                     |    \"aspect\": \"Experience\",                  |\n",
      "|                  |             |            |                                              |             |                |                     |    \"aspect_keywords\": [                     |\n",
      "|                  |             |            |                                              |             |                |                     |      \"great experience\"                     |\n",
      "|                  |             |            |                                              |             |                |                     |    ],                                       |\n",
      "|                  |             |            |                                              |             |                |                     |    \"compound_nouns\": [],                    |\n",
      "|                  |             |            |                                              |             |                |                     |    \"sentiment\": 0.6249,                     |\n",
      "|                  |             |            |                                              |             |                |                     |    \"subject\": [                             |\n",
      "|                  |             |            |                                              |             |                |                     |      \"experience\"                           |\n",
      "|                  |             |            |                                              |             |                |                     |    ],                                       |\n",
      "|                  |             |            |                                              |             |                |                     |    \"text\": \"great experience\"               |\n",
      "|                  |             |            |                                              |             |                |                     |  },                                         |\n",
      "|                  |             |            |                                              |             |                |                     |  {                                          |\n",
      "|                  |             |            |                                              |             |                |                     |    \"aspect\": null,                          |\n",
      "|                  |             |            |                                              |             |                |                     |    \"aspect_keywords\": [],                   |\n",
      "|                  |             |            |                                              |             |                |                     |    \"compound_nouns\": [],                    |\n",
      "|                  |             |            |                                              |             |                |                     |    \"sentiment\": null,                       |\n",
      "|                  |             |            |                                              |             |                |                     |    \"subject\": [],                           |\n",
      "|                  |             |            |                                              |             |                |                     |    \"text\": \" \"                              |\n",
      "|                  |             |            |                                              |             |                |                     |  }                                          |\n",
      "|                  |             |            |                                              |             |                |                     |]                                            |\n",
      "|TP-TMM0000000068  |2019-04-02   |21          |                                              |100.0        |Promoter        |NULL                 |NULL                                         |\n",
      "|TP-TMM0000000069  |2019-04-02   |21          |                                              |60.0         |Passive         |NULL                 |NULL                                         |\n",
      "|TP-TMM0000000070  |2019-04-02   |21          |                                              |100.0        |Promoter        |NULL                 |NULL                                         |\n",
      "|TP-TMM0000000071  |2019-04-02   |21          |                                              |100.0        |Promoter        |NULL                 |NULL                                         |\n",
      "|TP-TMM0000000072  |2019-04-02   |21          |                                              |60.0         |Passive         |NULL                 |NULL                                         |\n",
      "|TP-TMM0000000073  |2019-04-02   |21          |                                              |60.0         |Passive         |NULL                 |NULL                                         |\n",
      "-------------------------------------------------------------------------------------------------------------------------------------------------------------------------------------------------\n",
      "\n"
     ]
    }
   ],
   "source": [
    "SENTIMENT_DATA.show()"
   ]
  },
  {
   "cell_type": "code",
   "execution_count": 145,
   "metadata": {},
   "outputs": [
    {
     "name": "stdout",
     "output_type": "stream",
     "text": [
      "-----------------------------------------------------------------------------------------------------------------------------------------------------------------------------------------------------------------------------------\n",
      "|\"TRUCK_ID\"  |\"MENU_TYPE_ID\"  |\"PRIMARY_CITY\"  |\"REGION\"    |\"ISO_REGION\"  |\"COUNTRY\"      |\"ISO_COUNTRY_CODE\"  |\"FRANCHISE_FLAG\"  |\"YEAR\"  |\"MAKE\"        |\"MODEL\"           |\"EV_FLAG\"  |\"FRANCHISE_ID\"  |\"TRUCK_OPENING_DATE\"  |\n",
      "-----------------------------------------------------------------------------------------------------------------------------------------------------------------------------------------------------------------------------------\n",
      "|3           |3               |San Mateo       |California  |CA            |United States  |US                  |1                 |2004    |Freightliner  |MT45 Utilimaster  |0          |2               |2021-10-01            |\n",
      "|4           |4               |San Mateo       |California  |CA            |United States  |US                  |1                 |1997    |Chevrolet     |P30               |1          |3               |2021-01-01            |\n",
      "|5           |5               |San Mateo       |California  |CA            |United States  |US                  |1                 |2010    |Custom        |Van               |1          |4               |2022-04-01            |\n",
      "|6           |6               |San Mateo       |California  |CA            |United States  |US                  |1                 |2010    |Airstream     |Trailer           |0          |5               |2019-07-01            |\n",
      "|7           |7               |San Mateo       |California  |CA            |United States  |US                  |1                 |2010    |Custom        |Van               |0          |6               |2021-01-01            |\n",
      "|8           |8               |San Mateo       |California  |CA            |United States  |US                  |1                 |1999    |Chevrolet     |P30               |1          |7               |2022-04-01            |\n",
      "|9           |9               |San Mateo       |California  |CA            |United States  |US                  |1                 |2008    |Custom        |Box Truck         |0          |8               |2020-07-01            |\n",
      "|12          |12              |San Mateo       |California  |CA            |United States  |US                  |1                 |2010    |Custom        |Van               |0          |11              |2021-04-01            |\n",
      "|13          |13              |San Mateo       |California  |CA            |United States  |US                  |1                 |2000    |Freightliner  |MT45 Utilimaster  |0          |12              |2021-07-01            |\n",
      "|14          |14              |San Mateo       |California  |CA            |United States  |US                  |1                 |2004    |Freightliner  |MT45 Utilimaster  |0          |12              |2020-10-01            |\n",
      "-----------------------------------------------------------------------------------------------------------------------------------------------------------------------------------------------------------------------------------\n",
      "\n"
     ]
    }
   ],
   "source": [
    "TRUCK_DATA.show()"
   ]
  },
  {
   "cell_type": "code",
   "execution_count": 146,
   "metadata": {},
   "outputs": [],
   "source": [
    "SENTIMENT = TRUCK_DATA.join(SENTIMENT_DATA, SENTIMENT_DATA[\"TRUCK_ID\"] == TRUCK_DATA[\"TRUCK_ID\"], \"inner\")"
   ]
  },
  {
   "cell_type": "code",
   "execution_count": 147,
   "metadata": {},
   "outputs": [],
   "source": [
    "SENTIMENT2 = SENTIMENT.dropna()"
   ]
  },
  {
   "cell_type": "code",
   "execution_count": 165,
   "metadata": {},
   "outputs": [
    {
     "name": "stdout",
     "output_type": "stream",
     "text": [
      "----------------------------------------\n",
      "|\"SURVEY_TS_YEAR\"  |\"AVG(NPS_SCORE)\"   |\n",
      "----------------------------------------\n",
      "|2023              |70.0               |\n",
      "|2019              |89.78290366350068  |\n",
      "|2020              |82.65104808877929  |\n",
      "|2021              |70.78996630475477  |\n",
      "|2022              |73.91523935002196  |\n",
      "----------------------------------------\n",
      "\n",
      "-----------------------------------------\n",
      "|\"SURVEY_TS_MONTH\"  |\"AVG(NPS_SCORE)\"   |\n",
      "-----------------------------------------\n",
      "|1                  |77.3211009174312   |\n",
      "|5                  |73.8928210313448   |\n",
      "|2                  |79.09722222222223  |\n",
      "|7                  |73.42359767891683  |\n",
      "|10                 |78.1470588235294   |\n",
      "|3                  |75.85144927536231  |\n",
      "|4                  |76.62244897959184  |\n",
      "|8                  |74.87179487179488  |\n",
      "|6                  |75.06467661691542  |\n",
      "|11                 |78.18380743982495  |\n",
      "-----------------------------------------\n",
      "\n",
      "------------------------------------------------------------\n",
      "|\"SURVEY_TS_YEAR\"  |\"SURVEY_TS_MONTH\"  |\"AVG(NPS_SCORE)\"   |\n",
      "------------------------------------------------------------\n",
      "|2023              |1                  |70.0               |\n",
      "|2019              |4                  |88.14814814814815  |\n",
      "|2020              |5                  |83.00813008130082  |\n",
      "|2020              |8                  |81.7605633802817   |\n",
      "|2021              |6                  |66.37096774193549  |\n",
      "|2022              |2                  |74.90384615384616  |\n",
      "|2019              |8                  |88.7128712871287   |\n",
      "|2019              |11                 |83.05555555555556  |\n",
      "|2020              |9                  |81.71641791044776  |\n",
      "|2020              |11                 |83.74045801526718  |\n",
      "------------------------------------------------------------\n",
      "\n"
     ]
    }
   ],
   "source": [
    "AVG_NPS_SCORE = SENTIMENT2.with_column(\"SURVEY_TS_YEAR\", F.year(\"SURVEY_TS\"))\n",
    "AVG_NPS_SCORE = AVG_NPS_SCORE.with_column(\"SURVEY_TS_MONTH\", F.month(\"SURVEY_TS\"))\n",
    "AVG_NPS_SCORE = AVG_NPS_SCORE.with_column(\"YEAR_MONTH\", F.concat(F.col(\"SURVEY_TS_YEAR\"), F.col(\"SURVEY_TS_MONTH\")))\n",
    "AVG_NPS_SCORE_YEAR = AVG_NPS_SCORE.groupBy(F.col(\"SURVEY_TS_YEAR\")).agg(F.avg(\"NPS_SCORE\"))\n",
    "AVG_NPS_SCORE_MONTH = AVG_NPS_SCORE.groupBy(F.col(\"SURVEY_TS_MONTH\")).agg(F.avg(\"NPS_SCORE\"))\n",
    "AVG_NPS_SCORE_YM = AVG_NPS_SCORE.groupBy(F.col(\"SURVEY_TS_YEAR\"), F.col(\"SURVEY_TS_MONTH\")).agg(F.avg(\"NPS_SCORE\"))\n",
    "AVG_NPS_SCORE_YEAR.show()\n",
    "AVG_NPS_SCORE_MONTH.show()\n",
    "AVG_NPS_SCORE_YM.show()"
   ]
  },
  {
   "cell_type": "code",
   "execution_count": 149,
   "metadata": {},
   "outputs": [],
   "source": [
    "NPS_COMPARE = session.table(name = \"NPS_COMPARE\")"
   ]
  },
  {
   "cell_type": "code",
   "execution_count": 150,
   "metadata": {},
   "outputs": [
    {
     "name": "stdout",
     "output_type": "stream",
     "text": [
      "-----------------------------------------------------------------------------------------------------------------------------------------------------------------------------------------------------------------------------------------------------------------------\n",
      "|\"CUSTOMER_ID\"  |\"CITY\"  |\"DATE\"      |\"ORDER_TOTAL\"  |\"TOTAL_QUANTITY\"  |\"DAYS_TO_NEXT_ORDER\"  |\"DAYS_SINCE_PRIOR_ORDER\"  |\"AVG_DAYS_BETWEEN_PURCHASES\"  |\"MAX_DAYS_WITHOUT_ITEM\"  |\"MIN_DAYS_WITHOUT_ITEM\"  |\"FREQUENCY\"  |\"MONETARYVALUE\"  |\"TIME_OF_DAY\"  |\"AGE\"  |\n",
      "-----------------------------------------------------------------------------------------------------------------------------------------------------------------------------------------------------------------------------------------------------------------------\n",
      "|154886         |London  |2020-04-04  |26.0000        |2                 |17                    |70                        |70                            |70                       |70                       |1            |26.0000          |evening        |68     |\n",
      "|154886         |London  |2020-04-21  |38.0000        |3                 |20                    |17                        |44                            |70                       |17                       |2            |64.0000          |morning        |68     |\n",
      "|154886         |London  |2020-05-11  |91.0000        |9                 |41                    |20                        |36                            |70                       |17                       |3            |155.0000         |evening        |68     |\n",
      "|154886         |London  |2020-06-21  |24.0000        |2                 |3                     |41                        |37                            |70                       |17                       |4            |179.0000         |afternoon      |68     |\n",
      "|154886         |London  |2020-06-24  |90.0000        |8                 |59                    |3                         |30                            |70                       |3                        |5            |269.0000         |evening        |68     |\n",
      "|154886         |London  |2020-08-22  |76.0000        |6                 |30                    |59                        |35                            |70                       |3                        |6            |345.0000         |morning        |68     |\n",
      "|154886         |London  |2020-09-21  |51.0000        |5                 |21                    |30                        |34                            |70                       |3                        |7            |396.0000         |morning        |68     |\n",
      "|154886         |London  |2020-10-12  |15.0000        |1                 |96                    |21                        |33                            |70                       |3                        |8            |411.0000         |afternoon      |68     |\n",
      "|154886         |London  |2021-01-16  |11.0000        |1                 |14                    |96                        |40                            |96                       |3                        |9            |422.0000         |afternoon      |68     |\n",
      "|154886         |London  |2021-01-30  |279.0000       |17                |41                    |14                        |37                            |96                       |3                        |10           |701.0000         |afternoon      |68     |\n",
      "-----------------------------------------------------------------------------------------------------------------------------------------------------------------------------------------------------------------------------------------------------------------------\n",
      "\n"
     ]
    }
   ],
   "source": [
    "NPS_COMPARE.show()"
   ]
  },
  {
   "cell_type": "code",
   "execution_count": 151,
   "metadata": {},
   "outputs": [
    {
     "name": "stdout",
     "output_type": "stream",
     "text": [
      "---------------------------------------------------------------------------------------------------------------------------------------------------------------------------------------------------------------------------------------------------------------------------------------------------------\n",
      "|\"CUSTOMER_ID\"  |\"CITY\"  |\"DATE\"      |\"ORDER_TOTAL\"  |\"TOTAL_QUANTITY\"  |\"DAYS_TO_NEXT_ORDER\"  |\"DAYS_SINCE_PRIOR_ORDER\"  |\"AVG_DAYS_BETWEEN_PURCHASES\"  |\"MAX_DAYS_WITHOUT_ITEM\"  |\"MIN_DAYS_WITHOUT_ITEM\"  |\"FREQUENCY\"  |\"MONETARYVALUE\"  |\"TIME_OF_DAY\"  |\"AGE\"  |\"YEAR\"  |\"MONTH\"  |\"YEAR_MONTH\"  |\n",
      "---------------------------------------------------------------------------------------------------------------------------------------------------------------------------------------------------------------------------------------------------------------------------------------------------------\n",
      "|172662         |Delhi   |2020-03-31  |12.0000        |2                 |60                    |8                         |8                             |8                        |8                        |1            |12.0000          |morning        |76     |2020    |3        |20203         |\n",
      "|172662         |Delhi   |2020-05-30  |17.0000        |3                 |77                    |60                        |34                            |60                       |8                        |2            |29.0000          |afternoon      |76     |2020    |5        |20205         |\n",
      "|172662         |Delhi   |2020-08-15  |50.0000        |3                 |43                    |77                        |48                            |77                       |8                        |3            |79.0000          |morning        |76     |2020    |8        |20208         |\n",
      "|172662         |Delhi   |2020-09-27  |12.0000        |2                 |25                    |43                        |47                            |77                       |8                        |4            |91.0000          |evening        |76     |2020    |9        |20209         |\n",
      "|172662         |Delhi   |2020-10-22  |31.0000        |2                 |13                    |25                        |43                            |77                       |8                        |5            |122.0000         |afternoon      |76     |2020    |10       |202010        |\n",
      "|172662         |Delhi   |2020-11-04  |36.0000        |2                 |9                     |13                        |38                            |77                       |8                        |6            |158.0000         |afternoon      |76     |2020    |11       |202011        |\n",
      "|172662         |Delhi   |2020-11-13  |42.0000        |4                 |27                    |9                         |34                            |77                       |8                        |7            |200.0000         |evening        |76     |2020    |11       |202011        |\n",
      "|172662         |Delhi   |2020-12-10  |12.0000        |2                 |11                    |27                        |33                            |77                       |8                        |8            |212.0000         |morning        |76     |2020    |12       |202012        |\n",
      "|172662         |Delhi   |2020-12-21  |33.5000        |4                 |33                    |11                        |30                            |77                       |8                        |9            |245.5000         |afternoon      |76     |2020    |12       |202012        |\n",
      "|172662         |Delhi   |2021-01-23  |40.0000        |7                 |62                    |33                        |31                            |77                       |8                        |10           |285.5000         |morning        |76     |2021    |1        |20211         |\n",
      "---------------------------------------------------------------------------------------------------------------------------------------------------------------------------------------------------------------------------------------------------------------------------------------------------------\n",
      "\n"
     ]
    }
   ],
   "source": [
    "NPS_COMPARE = NPS_COMPARE.with_column(\"YEAR\", F.year(\"DATE\"))\n",
    "NPS_COMPARE = NPS_COMPARE.with_column(\"MONTH\", F.month(\"DATE\"))\n",
    "NPS_COMPARE = NPS_COMPARE.with_column(\"YEAR_MONTH\", F.concat(F.col(\"YEAR\"), F.col(\"MONTH\")))\n",
    "NPS_COMPARE.show()"
   ]
  },
  {
   "cell_type": "code",
   "execution_count": 166,
   "metadata": {},
   "outputs": [
    {
     "name": "stdout",
     "output_type": "stream",
     "text": [
      "--------------------------------------\n",
      "|\"YEAR\"  |\"AVG(DAYS_TO_NEXT_ORDER)\"  |\n",
      "--------------------------------------\n",
      "|2019    |43.885027                  |\n",
      "|2020    |24.773306                  |\n",
      "|2022    |12.569290                  |\n",
      "|2021    |16.843626                  |\n",
      "--------------------------------------\n",
      "\n",
      "----------------------------------------\n",
      "|\"SURVEY_TS_YEAR\"  |\"AVG(NPS_SCORE)\"   |\n",
      "----------------------------------------\n",
      "|2023              |70.0               |\n",
      "|2019              |89.78290366350068  |\n",
      "|2020              |82.65104808877929  |\n",
      "|2021              |70.78996630475477  |\n",
      "|2022              |73.91523935002196  |\n",
      "----------------------------------------\n",
      "\n",
      "---------------------------------------\n",
      "|\"MONTH\"  |\"AVG(DAYS_TO_NEXT_ORDER)\"  |\n",
      "---------------------------------------\n",
      "|7        |17.482664                  |\n",
      "|1        |18.871947                  |\n",
      "|5        |17.842351                  |\n",
      "|4        |18.088972                  |\n",
      "|9        |16.592366                  |\n",
      "|2        |19.060879                  |\n",
      "|10       |15.816426                  |\n",
      "|8        |17.022887                  |\n",
      "|12       |18.995870                  |\n",
      "|6        |17.525412                  |\n",
      "---------------------------------------\n",
      "\n",
      "-----------------------------------------\n",
      "|\"SURVEY_TS_MONTH\"  |\"AVG(NPS_SCORE)\"   |\n",
      "-----------------------------------------\n",
      "|1                  |77.3211009174312   |\n",
      "|5                  |73.8928210313448   |\n",
      "|2                  |79.09722222222223  |\n",
      "|7                  |73.42359767891683  |\n",
      "|10                 |78.1470588235294   |\n",
      "|3                  |75.85144927536231  |\n",
      "|4                  |76.62244897959184  |\n",
      "|8                  |74.87179487179488  |\n",
      "|6                  |75.06467661691542  |\n",
      "|11                 |78.18380743982495  |\n",
      "-----------------------------------------\n",
      "\n",
      "------------------------------------------------\n",
      "|\"YEAR\"  |\"MONTH\"  |\"AVG(DAYS_TO_NEXT_ORDER)\"  |\n",
      "------------------------------------------------\n",
      "|2020    |12       |20.739423                  |\n",
      "|2021    |11       |14.707342                  |\n",
      "|2019    |4        |77.666835                  |\n",
      "|2020    |7        |24.714787                  |\n",
      "|2021    |9        |15.519572                  |\n",
      "|2019    |5        |67.769028                  |\n",
      "|2020    |11       |21.382089                  |\n",
      "|2022    |9        |11.438550                  |\n",
      "|2020    |10       |22.150312                  |\n",
      "|2020    |3        |29.322378                  |\n",
      "------------------------------------------------\n",
      "\n",
      "------------------------------------------------------------\n",
      "|\"SURVEY_TS_YEAR\"  |\"SURVEY_TS_MONTH\"  |\"AVG(NPS_SCORE)\"   |\n",
      "------------------------------------------------------------\n",
      "|2023              |1                  |70.0               |\n",
      "|2019              |4                  |88.14814814814815  |\n",
      "|2020              |5                  |83.00813008130082  |\n",
      "|2020              |8                  |81.7605633802817   |\n",
      "|2021              |6                  |66.37096774193549  |\n",
      "|2022              |2                  |74.90384615384616  |\n",
      "|2019              |8                  |88.7128712871287   |\n",
      "|2019              |11                 |83.05555555555556  |\n",
      "|2020              |9                  |81.71641791044776  |\n",
      "|2020              |11                 |83.74045801526718  |\n",
      "------------------------------------------------------------\n",
      "\n"
     ]
    }
   ],
   "source": [
    "AVG_NPDR_YEAR = NPS_COMPARE.groupBy(F.col(\"YEAR\")).agg(F.avg('\"DAYS_TO_NEXT_ORDER\"'))\n",
    "AVG_NPDR_MONTH = NPS_COMPARE.groupBy(F.col(\"MONTH\")).agg(F.avg('\"DAYS_TO_NEXT_ORDER\"'))\n",
    "AVG_NPDR_YM = NPS_COMPARE.groupBy(F.col(\"YEAR\"),F.col(\"MONTH\")).agg(F.avg('\"DAYS_TO_NEXT_ORDER\"'))\n",
    "AVG_NPDR_YEAR.show()\n",
    "AVG_NPS_SCORE_YEAR.show()\n",
    "AVG_NPDR_MONTH.show()\n",
    "AVG_NPS_SCORE_MONTH.show()\n",
    "AVG_NPDR_YM.show()\n",
    "AVG_NPS_SCORE_YM.show()"
   ]
  },
  {
   "cell_type": "code",
   "execution_count": 153,
   "metadata": {},
   "outputs": [
    {
     "name": "stdout",
     "output_type": "stream",
     "text": [
      "-------------------------------\n",
      "|\"YEAR\"  |\"AVG(ORDER_TOTAL)\"  |\n",
      "-------------------------------\n",
      "|2021    |41.1477210996       |\n",
      "|2020    |41.4189057943       |\n",
      "|2022    |40.2805051052       |\n",
      "|2019    |37.1881657206       |\n",
      "-------------------------------\n",
      "\n"
     ]
    }
   ],
   "source": [
    "AVG_SPEND_YEAR = NPS_COMPARE.group_by(F.col(\"YEAR\")).agg(F.avg(\"ORDER_TOTAL\"))\n",
    "AVG_SPEND_YEAR.show()"
   ]
  },
  {
   "cell_type": "code",
   "execution_count": 155,
   "metadata": {},
   "outputs": [
    {
     "name": "stdout",
     "output_type": "stream",
     "text": [
      "------------------------------------------\n",
      "|\"YEAR\"  |\"COUNT(DISTINCT CUSTOMER_ID)\"  |\n",
      "------------------------------------------\n",
      "|2020    |221757                         |\n",
      "|2021    |222540                         |\n",
      "|2019    |100903                         |\n",
      "|2022    |222540                         |\n",
      "------------------------------------------\n",
      "\n"
     ]
    }
   ],
   "source": [
    "CUSTOMER_BY_YEAR = NPS_COMPARE.group_by(F.col(\"YEAR\")).agg(F.count_distinct(\"CUSTOMER_ID\"))\n",
    "CUSTOMER_BY_YEAR.show()"
   ]
  },
  {
   "attachments": {},
   "cell_type": "markdown",
   "metadata": {},
   "source": [
    "--------------------------------------\n",
    "|\"YEAR\"  |\"AVG(DAYS_TO_NEXT_ORDER)\"  |\n",
    "--------------------------------------\n",
    "|2019    |43.885027                  |\n",
    "|2020    |24.773306                  |\n",
    "|2022    |12.569290                  |\n",
    "|2021    |16.843626                  |\n",
    "--------------------------------------"
   ]
  },
  {
   "cell_type": "code",
   "execution_count": 156,
   "metadata": {},
   "outputs": [
    {
     "name": "stdout",
     "output_type": "stream",
     "text": [
      "---------------------------------\n",
      "|\"COUNT(DISTINCT CUSTOMER_ID)\"  |\n",
      "---------------------------------\n",
      "|222540                         |\n",
      "---------------------------------\n",
      "\n"
     ]
    }
   ],
   "source": [
    "CUSTOMER_UNIQUE = NPS_COMPARE.agg(F.count_distinct(\"CUSTOMER_ID\"))\n",
    "CUSTOMER_UNIQUE.show()"
   ]
  },
  {
   "cell_type": "code",
   "execution_count": 170,
   "metadata": {},
   "outputs": [
    {
     "name": "stdout",
     "output_type": "stream",
     "text": [
      "-----------------------------------------\n",
      "|\"YEAR\"  |\"MONTH\"  |\"AVG(ORDER_TOTAL)\"  |\n",
      "-----------------------------------------\n",
      "|2020    |6        |40.9930506501       |\n",
      "|2022    |7        |40.2391587444       |\n",
      "|2020    |12       |42.0042184028       |\n",
      "|2021    |11       |41.1920454646       |\n",
      "|2019    |4        |35.9820344130       |\n",
      "|2021    |12       |41.1608334972       |\n",
      "|2020    |3        |40.9749306408       |\n",
      "|2020    |11       |41.9235477415       |\n",
      "|2020    |10       |42.0323526472       |\n",
      "|2021    |2        |40.9168982283       |\n",
      "-----------------------------------------\n",
      "\n",
      "-----------------------------------------\n",
      "|\"YEAR\"  |\"MONTH\"  |\"SUM(ORDER_TOTAL)\"  |\n",
      "-----------------------------------------\n",
      "|2020    |6        |9401264.2500        |\n",
      "|2020    |12       |13382712.0000       |\n",
      "|2021    |11       |18665928.2500       |\n",
      "|2019    |4        |213301.5000         |\n",
      "|2020    |11       |12505542.7500       |\n",
      "|2021    |12       |19045652.7500       |\n",
      "|2022    |7        |21768942.2500       |\n",
      "|2022    |2        |17527227.7500       |\n",
      "|2021    |7        |16620161.2500       |\n",
      "|2020    |8        |10945427.7500       |\n",
      "-----------------------------------------\n",
      "\n",
      "------------------------------------------------\n",
      "|\"YEAR\"  |\"MONTH\"  |\"AVG(DAYS_TO_NEXT_ORDER)\"  |\n",
      "------------------------------------------------\n",
      "|2020    |12       |20.739423                  |\n",
      "|2021    |11       |14.707342                  |\n",
      "|2019    |4        |77.666835                  |\n",
      "|2020    |7        |24.714787                  |\n",
      "|2021    |9        |15.519572                  |\n",
      "|2019    |5        |67.769028                  |\n",
      "|2020    |11       |21.382089                  |\n",
      "|2022    |9        |11.438550                  |\n",
      "|2020    |10       |22.150312                  |\n",
      "|2020    |3        |29.322378                  |\n",
      "------------------------------------------------\n",
      "\n",
      "--------------------------------------------------------------------------------------------------------------------\n",
      "|\"l_nac3_YEAR\"  |\"l_nac3_MONTH\"  |\"SUM(ORDER_TOTAL)\"  |\"r_y4lu_YEAR\"  |\"r_y4lu_MONTH\"  |\"AVG(DAYS_TO_NEXT_ORDER)\"  |\n",
      "--------------------------------------------------------------------------------------------------------------------\n",
      "|2020           |11              |12505542.7500       |2020           |11              |21.382089                  |\n",
      "|2019           |9               |1989693.0000        |2019           |9               |43.228522                  |\n",
      "|2020           |5               |9263361.2500        |2020           |5               |26.446154                  |\n",
      "|2019           |2               |20881.5000          |2019           |2               |108.026820                 |\n",
      "|2022           |9               |20604796.5000       |2022           |9               |11.438550                  |\n",
      "|2020           |6               |9401264.2500        |2020           |6               |25.202461                  |\n",
      "|2020           |3               |7576551.5000        |2020           |3               |29.322378                  |\n",
      "|2021           |7               |16620161.2500       |2021           |7               |16.780414                  |\n",
      "|2020           |8               |10945427.7500       |2020           |8               |23.566927                  |\n",
      "|2022           |7               |21768942.2500       |2022           |7               |12.429537                  |\n",
      "--------------------------------------------------------------------------------------------------------------------\n",
      "\n"
     ]
    }
   ],
   "source": [
    "AVG_SALES_YM = NPS_COMPARE.groupBy(F.col(\"YEAR\"),F.col(\"MONTH\")).agg(F.avg('\"ORDER_TOTAL\"'))\n",
    "SUM_SALES_YM = NPS_COMPARE.groupBy(F.col(\"YEAR\"),F.col(\"MONTH\")).agg(F.sum('\"ORDER_TOTAL\"'))\n",
    "\n",
    "AVG_SALES_YM.show()\n",
    "SUM_SALES_YM.show()\n",
    "AVG_NPDR_YM.show()\n",
    "\n",
    "temp = SUM_SALES_YM.join(AVG_NPDR_YM, (SUM_SALES_YM[\"YEAR\"] == AVG_NPDR_YM[\"YEAR\"])&(SUM_SALES_YM[\"MONTH\"] == AVG_NPDR_YM[\"MONTH\"]))\n",
    "temp.show()"
   ]
  }
 ],
 "metadata": {
  "kernelspec": {
   "display_name": "py38_env",
   "language": "python",
   "name": "python3"
  },
  "language_info": {
   "codemirror_mode": {
    "name": "ipython",
    "version": 3
   },
   "file_extension": ".py",
   "mimetype": "text/x-python",
   "name": "python",
   "nbconvert_exporter": "python",
   "pygments_lexer": "ipython3",
   "version": "3.8.16"
  },
  "orig_nbformat": 4
 },
 "nbformat": 4,
 "nbformat_minor": 2
}
