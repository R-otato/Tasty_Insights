{
 "cells": [
  {
   "cell_type": "code",
   "execution_count": 1,
   "metadata": {},
   "outputs": [],
   "source": [
    "# Import Snowflake modules\n",
    "from snowflake.snowpark import Session\n",
    "import snowflake.snowpark.functions as F\n",
    "import snowflake.snowpark.types as T\n",
    "from snowflake.snowpark import Window\n",
    "\n",
    "import pandas\n",
    "import matplotlib.pyplot as plt\n",
    "import seaborn as sns\n",
    "import numpy as np\n",
    "import json"
   ]
  },
  {
   "cell_type": "code",
   "execution_count": 2,
   "metadata": {},
   "outputs": [],
   "source": [
    "# Get account credentials from a json file\n",
    "with open(\"data_scientist_auth.json\") as f:\n",
    "    data = json.load(f)\n",
    "    username = data[\"username\"]\n",
    "    password = data[\"password\"]\n",
    "    account = data[\"account\"]\n",
    "\n",
    "# Specify connection parameters\n",
    "connection_parameters = {\n",
    "    \"account\": account,\n",
    "    \"user\": username,\n",
    "    \"password\": password,\n",
    "    \"role\": \"TASTY_BI\",\n",
    "    \"warehouse\": \"TASTY_BI_WH\",\n",
    "    \"database\": \"frostbyte_tasty_bytes\",\n",
    "    \"schema\": \"analytics\",\n",
    "}\n",
    "\n",
    "# Create Snowpark session\n",
    "session = Session.builder.configs(connection_parameters).create()"
   ]
  },
  {
   "cell_type": "code",
   "execution_count": 3,
   "metadata": {},
   "outputs": [],
   "source": [
    "SENTIMENT_DATA = session.table(\"frostbyte_tasty_bytes_setup_s.raw_survey.sentiment_survey_ds\")\n",
    "\n",
    "TRUCK_DATA = session.table(\"frostbyte_tasty_bytes_setup_s.raw_pos.truck\")"
   ]
  },
  {
   "cell_type": "code",
   "execution_count": 4,
   "metadata": {},
   "outputs": [
    {
     "name": "stdout",
     "output_type": "stream",
     "text": [
      "-------------------------------------------------------------------------------------------------------------------------------------------------------------------------------------------------\n",
      "|\"SURVEY_ID\"       |\"SURVEY_TS\"  |\"TRUCK_ID\"  |\"COMMENTS\"                                    |\"NPS_SCORE\"  |\"NPS_CATEGORY\"  |\"OVERALL_SENTIMENT\"  |\"ASPECT_SENTIMENT\"                           |\n",
      "-------------------------------------------------------------------------------------------------------------------------------------------------------------------------------------------------\n",
      "|60509-SL          |2023-01-25   |291         |                                              |60.0         |Passive         |0.0                  |[                                            |\n",
      "|                  |             |            |                                              |             |                |                     |  {                                          |\n",
      "|                  |             |            |                                              |             |                |                     |    \"aspect\": null,                          |\n",
      "|                  |             |            |                                              |             |                |                     |    \"aspect_keywords\": [],                   |\n",
      "|                  |             |            |                                              |             |                |                     |    \"compound_nouns\": [],                    |\n",
      "|                  |             |            |                                              |             |                |                     |    \"sentiment\": null,                       |\n",
      "|                  |             |            |                                              |             |                |                     |    \"subject\": [],                           |\n",
      "|                  |             |            |                                              |             |                |                     |    \"text\": \" \"                              |\n",
      "|                  |             |            |                                              |             |                |                     |  }                                          |\n",
      "|                  |             |            |                                              |             |                |                     |]                                            |\n",
      "|20612-SL          |2023-01-25   |36          |Amazing food. I had good experience overall.  |60.0         |Passive         |0.4404               |[                                            |\n",
      "|                  |             |            |                                              |             |                |                     |  {                                          |\n",
      "|                  |             |            |                                              |             |                |                     |    \"aspect\": \"Food\",                        |\n",
      "|                  |             |            |                                              |             |                |                     |    \"aspect_keywords\": [                     |\n",
      "|                  |             |            |                                              |             |                |                     |      \"amazing food\"                         |\n",
      "|                  |             |            |                                              |             |                |                     |    ],                                       |\n",
      "|                  |             |            |                                              |             |                |                     |    \"compound_nouns\": [],                    |\n",
      "|                  |             |            |                                              |             |                |                     |    \"sentiment\": 0.5859,                     |\n",
      "|                  |             |            |                                              |             |                |                     |    \"subject\": [                             |\n",
      "|                  |             |            |                                              |             |                |                     |      \"food\"                                 |\n",
      "|                  |             |            |                                              |             |                |                     |    ],                                       |\n",
      "|                  |             |            |                                              |             |                |                     |    \"text\": \" amazing food\"                  |\n",
      "|                  |             |            |                                              |             |                |                     |  },                                         |\n",
      "|                  |             |            |                                              |             |                |                     |  {                                          |\n",
      "|                  |             |            |                                              |             |                |                     |    \"aspect\": \"Experience\",                  |\n",
      "|                  |             |            |                                              |             |                |                     |    \"aspect_keywords\": [                     |\n",
      "|                  |             |            |                                              |             |                |                     |      \"good experience\",                     |\n",
      "|                  |             |            |                                              |             |                |                     |      \"overall \"                             |\n",
      "|                  |             |            |                                              |             |                |                     |    ],                                       |\n",
      "|                  |             |            |                                              |             |                |                     |    \"compound_nouns\": [],                    |\n",
      "|                  |             |            |                                              |             |                |                     |    \"sentiment\": 0.4404,                     |\n",
      "|                  |             |            |                                              |             |                |                     |    \"subject\": [                             |\n",
      "|                  |             |            |                                              |             |                |                     |      \"\",                                    |\n",
      "|                  |             |            |                                              |             |                |                     |      \"experience\"                           |\n",
      "|                  |             |            |                                              |             |                |                     |    ],                                       |\n",
      "|                  |             |            |                                              |             |                |                     |    \"text\": \"i had good experience overall\"  |\n",
      "|                  |             |            |                                              |             |                |                     |  },                                         |\n",
      "|                  |             |            |                                              |             |                |                     |  {                                          |\n",
      "|                  |             |            |                                              |             |                |                     |    \"aspect\": null,                          |\n",
      "|                  |             |            |                                              |             |                |                     |    \"aspect_keywords\": [],                   |\n",
      "|                  |             |            |                                              |             |                |                     |    \"compound_nouns\": [],                    |\n",
      "|                  |             |            |                                              |             |                |                     |    \"sentiment\": null,                       |\n",
      "|                  |             |            |                                              |             |                |                     |    \"subject\": [],                           |\n",
      "|                  |             |            |                                              |             |                |                     |    \"text\": \" \"                              |\n",
      "|                  |             |            |                                              |             |                |                     |  }                                          |\n",
      "|                  |             |            |                                              |             |                |                     |]                                            |\n",
      "|45808-SL          |2023-01-25   |291         |Great food. Had a good experience.            |100.0        |Promoter        |0.4404               |[                                            |\n",
      "|                  |             |            |                                              |             |                |                     |  {                                          |\n",
      "|                  |             |            |                                              |             |                |                     |    \"aspect\": \"Food\",                        |\n",
      "|                  |             |            |                                              |             |                |                     |    \"aspect_keywords\": [                     |\n",
      "|                  |             |            |                                              |             |                |                     |      \"great food\"                           |\n",
      "|                  |             |            |                                              |             |                |                     |    ],                                       |\n",
      "|                  |             |            |                                              |             |                |                     |    \"compound_nouns\": [],                    |\n",
      "|                  |             |            |                                              |             |                |                     |    \"sentiment\": 0.6249,                     |\n",
      "|                  |             |            |                                              |             |                |                     |    \"subject\": [                             |\n",
      "|                  |             |            |                                              |             |                |                     |      \"food\"                                 |\n",
      "|                  |             |            |                                              |             |                |                     |    ],                                       |\n",
      "|                  |             |            |                                              |             |                |                     |    \"text\": \" great food\"                    |\n",
      "|                  |             |            |                                              |             |                |                     |  },                                         |\n",
      "|                  |             |            |                                              |             |                |                     |  {                                          |\n",
      "|                  |             |            |                                              |             |                |                     |    \"aspect\": \"Experience\",                  |\n",
      "|                  |             |            |                                              |             |                |                     |    \"aspect_keywords\": [                     |\n",
      "|                  |             |            |                                              |             |                |                     |      \"good experience\"                      |\n",
      "|                  |             |            |                                              |             |                |                     |    ],                                       |\n",
      "|                  |             |            |                                              |             |                |                     |    \"compound_nouns\": [],                    |\n",
      "|                  |             |            |                                              |             |                |                     |    \"sentiment\": 0.4404,                     |\n",
      "|                  |             |            |                                              |             |                |                     |    \"subject\": [                             |\n",
      "|                  |             |            |                                              |             |                |                     |      \"experience\"                           |\n",
      "|                  |             |            |                                              |             |                |                     |    ],                                       |\n",
      "|                  |             |            |                                              |             |                |                     |    \"text\": \"had a good experience\"          |\n",
      "|                  |             |            |                                              |             |                |                     |  },                                         |\n",
      "|                  |             |            |                                              |             |                |                     |  {                                          |\n",
      "|                  |             |            |                                              |             |                |                     |    \"aspect\": null,                          |\n",
      "|                  |             |            |                                              |             |                |                     |    \"aspect_keywords\": [],                   |\n",
      "|                  |             |            |                                              |             |                |                     |    \"compound_nouns\": [],                    |\n",
      "|                  |             |            |                                              |             |                |                     |    \"sentiment\": null,                       |\n",
      "|                  |             |            |                                              |             |                |                     |    \"subject\": [],                           |\n",
      "|                  |             |            |                                              |             |                |                     |    \"text\": \" \"                              |\n",
      "|                  |             |            |                                              |             |                |                     |  }                                          |\n",
      "|                  |             |            |                                              |             |                |                     |]                                            |\n",
      "|93806-SL          |2023-01-25   |291         |Awesome food. Great experience.               |60.0         |Passive         |0.6249               |[                                            |\n",
      "|                  |             |            |                                              |             |                |                     |  {                                          |\n",
      "|                  |             |            |                                              |             |                |                     |    \"aspect\": \"Food\",                        |\n",
      "|                  |             |            |                                              |             |                |                     |    \"aspect_keywords\": [                     |\n",
      "|                  |             |            |                                              |             |                |                     |      \"awesome food\"                         |\n",
      "|                  |             |            |                                              |             |                |                     |    ],                                       |\n",
      "|                  |             |            |                                              |             |                |                     |    \"compound_nouns\": [],                    |\n",
      "|                  |             |            |                                              |             |                |                     |    \"sentiment\": 0.6249,                     |\n",
      "|                  |             |            |                                              |             |                |                     |    \"subject\": [                             |\n",
      "|                  |             |            |                                              |             |                |                     |      \"food\"                                 |\n",
      "|                  |             |            |                                              |             |                |                     |    ],                                       |\n",
      "|                  |             |            |                                              |             |                |                     |    \"text\": \" awesome food\"                  |\n",
      "|                  |             |            |                                              |             |                |                     |  },                                         |\n",
      "|                  |             |            |                                              |             |                |                     |  {                                          |\n",
      "|                  |             |            |                                              |             |                |                     |    \"aspect\": \"Experience\",                  |\n",
      "|                  |             |            |                                              |             |                |                     |    \"aspect_keywords\": [                     |\n",
      "|                  |             |            |                                              |             |                |                     |      \"great experience\"                     |\n",
      "|                  |             |            |                                              |             |                |                     |    ],                                       |\n",
      "|                  |             |            |                                              |             |                |                     |    \"compound_nouns\": [],                    |\n",
      "|                  |             |            |                                              |             |                |                     |    \"sentiment\": 0.6249,                     |\n",
      "|                  |             |            |                                              |             |                |                     |    \"subject\": [                             |\n",
      "|                  |             |            |                                              |             |                |                     |      \"experience\"                           |\n",
      "|                  |             |            |                                              |             |                |                     |    ],                                       |\n",
      "|                  |             |            |                                              |             |                |                     |    \"text\": \"great experience\"               |\n",
      "|                  |             |            |                                              |             |                |                     |  },                                         |\n",
      "|                  |             |            |                                              |             |                |                     |  {                                          |\n",
      "|                  |             |            |                                              |             |                |                     |    \"aspect\": null,                          |\n",
      "|                  |             |            |                                              |             |                |                     |    \"aspect_keywords\": [],                   |\n",
      "|                  |             |            |                                              |             |                |                     |    \"compound_nouns\": [],                    |\n",
      "|                  |             |            |                                              |             |                |                     |    \"sentiment\": null,                       |\n",
      "|                  |             |            |                                              |             |                |                     |    \"subject\": [],                           |\n",
      "|                  |             |            |                                              |             |                |                     |    \"text\": \" \"                              |\n",
      "|                  |             |            |                                              |             |                |                     |  }                                          |\n",
      "|                  |             |            |                                              |             |                |                     |]                                            |\n",
      "|TP-TMM0000000068  |2019-04-02   |21          |                                              |100.0        |Promoter        |NULL                 |NULL                                         |\n",
      "|TP-TMM0000000069  |2019-04-02   |21          |                                              |60.0         |Passive         |NULL                 |NULL                                         |\n",
      "|TP-TMM0000000070  |2019-04-02   |21          |                                              |100.0        |Promoter        |NULL                 |NULL                                         |\n",
      "|TP-TMM0000000071  |2019-04-02   |21          |                                              |100.0        |Promoter        |NULL                 |NULL                                         |\n",
      "|TP-TMM0000000072  |2019-04-02   |21          |                                              |60.0         |Passive         |NULL                 |NULL                                         |\n",
      "|TP-TMM0000000073  |2019-04-02   |21          |                                              |60.0         |Passive         |NULL                 |NULL                                         |\n",
      "-------------------------------------------------------------------------------------------------------------------------------------------------------------------------------------------------\n",
      "\n"
     ]
    }
   ],
   "source": [
    "SENTIMENT_DATA.show()"
   ]
  },
  {
   "cell_type": "code",
   "execution_count": 41,
   "metadata": {},
   "outputs": [
    {
     "name": "stdout",
     "output_type": "stream",
     "text": [
      "-----------------------------------------------------------------------------------------------------------------------------------------------------------------------------------------------------------------------------------\n",
      "|\"TRUCK_ID\"  |\"MENU_TYPE_ID\"  |\"PRIMARY_CITY\"  |\"REGION\"    |\"ISO_REGION\"  |\"COUNTRY\"      |\"ISO_COUNTRY_CODE\"  |\"FRANCHISE_FLAG\"  |\"YEAR\"  |\"MAKE\"        |\"MODEL\"           |\"EV_FLAG\"  |\"FRANCHISE_ID\"  |\"TRUCK_OPENING_DATE\"  |\n",
      "-----------------------------------------------------------------------------------------------------------------------------------------------------------------------------------------------------------------------------------\n",
      "|3           |3               |San Mateo       |California  |CA            |United States  |US                  |1                 |2004    |Freightliner  |MT45 Utilimaster  |0          |2               |2021-10-01            |\n",
      "|4           |4               |San Mateo       |California  |CA            |United States  |US                  |1                 |1997    |Chevrolet     |P30               |1          |3               |2021-01-01            |\n",
      "|5           |5               |San Mateo       |California  |CA            |United States  |US                  |1                 |2010    |Custom        |Van               |1          |4               |2022-04-01            |\n",
      "|6           |6               |San Mateo       |California  |CA            |United States  |US                  |1                 |2010    |Airstream     |Trailer           |0          |5               |2019-07-01            |\n",
      "|7           |7               |San Mateo       |California  |CA            |United States  |US                  |1                 |2010    |Custom        |Van               |0          |6               |2021-01-01            |\n",
      "|8           |8               |San Mateo       |California  |CA            |United States  |US                  |1                 |1999    |Chevrolet     |P30               |1          |7               |2022-04-01            |\n",
      "|9           |9               |San Mateo       |California  |CA            |United States  |US                  |1                 |2008    |Custom        |Box Truck         |0          |8               |2020-07-01            |\n",
      "|12          |12              |San Mateo       |California  |CA            |United States  |US                  |1                 |2010    |Custom        |Van               |0          |11              |2021-04-01            |\n",
      "|13          |13              |San Mateo       |California  |CA            |United States  |US                  |1                 |2000    |Freightliner  |MT45 Utilimaster  |0          |12              |2021-07-01            |\n",
      "|14          |14              |San Mateo       |California  |CA            |United States  |US                  |1                 |2004    |Freightliner  |MT45 Utilimaster  |0          |12              |2020-10-01            |\n",
      "-----------------------------------------------------------------------------------------------------------------------------------------------------------------------------------------------------------------------------------\n",
      "\n"
     ]
    }
   ],
   "source": [
    "TRUCK_DATA.show()"
   ]
  },
  {
   "cell_type": "code",
   "execution_count": 43,
   "metadata": {},
   "outputs": [],
   "source": [
    "SENTIMENT = TRUCK_DATA.join(SENTIMENT_DATA, SENTIMENT_DATA[\"TRUCK_ID\"] == TRUCK_DATA[\"TRUCK_ID\"], \"inner\")"
   ]
  },
  {
   "cell_type": "code",
   "execution_count": 44,
   "metadata": {},
   "outputs": [],
   "source": [
    "SENTIMENT2 = SENTIMENT.dropna()"
   ]
  },
  {
   "cell_type": "code",
   "execution_count": 45,
   "metadata": {},
   "outputs": [
    {
     "name": "stdout",
     "output_type": "stream",
     "text": [
      "----------------------------------------\n",
      "|\"SURVEY_TS_YEAR\"  |\"AVG(NPS_SCORE)\"   |\n",
      "----------------------------------------\n",
      "|2023              |70.0               |\n",
      "|2019              |89.78290366350068  |\n",
      "|2020              |82.65104808877929  |\n",
      "|2021              |70.78996630475477  |\n",
      "|2022              |73.91523935002196  |\n",
      "----------------------------------------\n",
      "\n"
     ]
    }
   ],
   "source": [
    "AVG_NPS_SCORE = SENTIMENT2.with_column(\"SURVEY_TS_YEAR\", F.year(\"SURVEY_TS\"))\n",
    "AVG_NPS_SCORE = AVG_NPS_SCORE.groupBy(F.col(\"SURVEY_TS_YEAR\")).agg(F.avg(\"NPS_SCORE\"))\n",
    "AVG_NPS_SCORE.show()"
   ]
  },
  {
   "cell_type": "code",
   "execution_count": 51,
   "metadata": {},
   "outputs": [],
   "source": [
    "NPS_COMPARE = session.table(name = \"NPS_COMPARE\")"
   ]
  },
  {
   "cell_type": "code",
   "execution_count": 52,
   "metadata": {},
   "outputs": [
    {
     "name": "stdout",
     "output_type": "stream",
     "text": [
      "--------------------------------------------------------------------------------------------------------------------------------------------------------------------------------------------------------------------------------------------------------------------------------\n",
      "|\"CUSTOMER_ID\"  |\"CITY\"  |\"DATE\"      |\"ORDER_TOTAL\"  |\"TOTAL_QUANTITY\"  |\"DAYS_TO_NEXT_ORDER\"  |\"DAYS_SINCE_PRIOR_ORDER\"  |\"AVG_DAYS_BETWEEN_PURCHASES\"  |\"MAX_DAYS_WITHOUT_ITEM\"  |\"MIN_DAYS_WITHOUT_ITEM\"  |\"FREQUENCY\"  |\"MONETARYVALUE\"  |\"AGE\"  |\"NextPurchaseDayRange\"  |\n",
      "--------------------------------------------------------------------------------------------------------------------------------------------------------------------------------------------------------------------------------------------------------------------------------\n",
      "|81445          |Sydney  |2020-04-20  |104.0          |12                |29                    |64                        |64                            |64                       |64                       |1            |104.0            |79     |1                       |\n",
      "|81445          |Sydney  |2020-05-19  |33.0           |3                 |1                     |29                        |47                            |64                       |29                       |2            |137.0            |79     |0                       |\n",
      "|81445          |Sydney  |2020-05-20  |49.0           |6                 |41                    |1                         |31                            |64                       |1                        |3            |186.0            |79     |1                       |\n",
      "|81445          |Sydney  |2020-06-30  |11.0           |1                 |19                    |41                        |34                            |64                       |1                        |4            |197.0            |79     |1                       |\n",
      "|81445          |Sydney  |2020-07-19  |22.0           |2                 |34                    |19                        |31                            |64                       |1                        |5            |219.0            |79     |1                       |\n",
      "|81445          |Sydney  |2020-08-22  |22.0           |2                 |37                    |34                        |31                            |64                       |1                        |6            |241.0            |79     |1                       |\n",
      "|81445          |Sydney  |2020-09-28  |68.0           |7                 |14                    |37                        |32                            |64                       |1                        |7            |309.0            |79     |1                       |\n",
      "|81445          |Sydney  |2020-10-12  |17.0           |2                 |9                     |14                        |30                            |64                       |1                        |8            |326.0            |79     |1                       |\n",
      "|81445          |Sydney  |2020-10-21  |60.0           |6                 |13                    |9                         |28                            |64                       |1                        |9            |386.0            |79     |1                       |\n",
      "|81445          |Sydney  |2020-11-03  |8.0            |2                 |30                    |13                        |26                            |64                       |1                        |10           |394.0            |79     |1                       |\n",
      "--------------------------------------------------------------------------------------------------------------------------------------------------------------------------------------------------------------------------------------------------------------------------------\n",
      "\n"
     ]
    }
   ],
   "source": [
    "NPS_COMPARE.show()"
   ]
  },
  {
   "cell_type": "code",
   "execution_count": 53,
   "metadata": {},
   "outputs": [
    {
     "name": "stdout",
     "output_type": "stream",
     "text": [
      "-----------------------------------------------------------------------------------------------------------------------------------------------------------------------------------------------------------------------------------------------------------------------------------------\n",
      "|\"CUSTOMER_ID\"  |\"CITY\"  |\"DATE\"      |\"ORDER_TOTAL\"  |\"TOTAL_QUANTITY\"  |\"DAYS_TO_NEXT_ORDER\"  |\"DAYS_SINCE_PRIOR_ORDER\"  |\"AVG_DAYS_BETWEEN_PURCHASES\"  |\"MAX_DAYS_WITHOUT_ITEM\"  |\"MIN_DAYS_WITHOUT_ITEM\"  |\"FREQUENCY\"  |\"MONETARYVALUE\"  |\"AGE\"  |\"NextPurchaseDayRange\"  |\"YEAR\"  |\n",
      "-----------------------------------------------------------------------------------------------------------------------------------------------------------------------------------------------------------------------------------------------------------------------------------------\n",
      "|81445          |Sydney  |2020-04-20  |104.0          |12                |29                    |64                        |64                            |64                       |64                       |1            |104.0            |79     |1                       |2020    |\n",
      "|81445          |Sydney  |2020-05-19  |33.0           |3                 |1                     |29                        |47                            |64                       |29                       |2            |137.0            |79     |0                       |2020    |\n",
      "|81445          |Sydney  |2020-05-20  |49.0           |6                 |41                    |1                         |31                            |64                       |1                        |3            |186.0            |79     |1                       |2020    |\n",
      "|81445          |Sydney  |2020-06-30  |11.0           |1                 |19                    |41                        |34                            |64                       |1                        |4            |197.0            |79     |1                       |2020    |\n",
      "|81445          |Sydney  |2020-07-19  |22.0           |2                 |34                    |19                        |31                            |64                       |1                        |5            |219.0            |79     |1                       |2020    |\n",
      "|81445          |Sydney  |2020-08-22  |22.0           |2                 |37                    |34                        |31                            |64                       |1                        |6            |241.0            |79     |1                       |2020    |\n",
      "|81445          |Sydney  |2020-09-28  |68.0           |7                 |14                    |37                        |32                            |64                       |1                        |7            |309.0            |79     |1                       |2020    |\n",
      "|81445          |Sydney  |2020-10-12  |17.0           |2                 |9                     |14                        |30                            |64                       |1                        |8            |326.0            |79     |1                       |2020    |\n",
      "|81445          |Sydney  |2020-10-21  |60.0           |6                 |13                    |9                         |28                            |64                       |1                        |9            |386.0            |79     |1                       |2020    |\n",
      "|81445          |Sydney  |2020-11-03  |8.0            |2                 |30                    |13                        |26                            |64                       |1                        |10           |394.0            |79     |1                       |2020    |\n",
      "-----------------------------------------------------------------------------------------------------------------------------------------------------------------------------------------------------------------------------------------------------------------------------------------\n",
      "\n"
     ]
    }
   ],
   "source": [
    "NPS_COMPARE = NPS_COMPARE.with_column(\"YEAR\", F.year(\"DATE\"))\n",
    "NPS_COMPARE.show()"
   ]
  },
  {
   "cell_type": "code",
   "execution_count": 54,
   "metadata": {},
   "outputs": [
    {
     "name": "stdout",
     "output_type": "stream",
     "text": [
      "----------------------------------------\n",
      "|\"YEAR\"  |\"AVG(NEXTPURCHASEDAYRANGE)\"  |\n",
      "----------------------------------------\n",
      "|2020    |0.737171                     |\n",
      "|2021    |0.634631                     |\n",
      "|2022    |0.522950                     |\n",
      "----------------------------------------\n",
      "\n",
      "----------------------------------------\n",
      "|\"SURVEY_TS_YEAR\"  |\"AVG(NPS_SCORE)\"   |\n",
      "----------------------------------------\n",
      "|2023              |70.0               |\n",
      "|2019              |89.78290366350068  |\n",
      "|2020              |82.65104808877929  |\n",
      "|2021              |70.78996630475477  |\n",
      "|2022              |73.91523935002196  |\n",
      "----------------------------------------\n",
      "\n"
     ]
    }
   ],
   "source": [
    "AVG_NPDR = NPS_COMPARE.groupBy(F.col(\"YEAR\")).agg(F.avg('\"NextPurchaseDayRange\"'))\n",
    "AVG_NPDR.show()\n",
    "AVG_NPS_SCORE.show()"
   ]
  }
 ],
 "metadata": {
  "kernelspec": {
   "display_name": "py38_env",
   "language": "python",
   "name": "python3"
  },
  "language_info": {
   "codemirror_mode": {
    "name": "ipython",
    "version": 3
   },
   "file_extension": ".py",
   "mimetype": "text/x-python",
   "name": "python",
   "nbconvert_exporter": "python",
   "pygments_lexer": "ipython3",
   "version": "3.8.16"
  },
  "orig_nbformat": 4
 },
 "nbformat": 4,
 "nbformat_minor": 2
}
