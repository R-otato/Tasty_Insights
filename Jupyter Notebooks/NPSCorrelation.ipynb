{
 "cells": [
  {
   "cell_type": "code",
   "execution_count": 1,
   "metadata": {},
   "outputs": [],
   "source": [
    "# Import Snowflake modules\n",
    "from snowflake.snowpark import Session\n",
    "import snowflake.snowpark.functions as F\n",
    "import snowflake.snowpark.types as T\n",
    "from snowflake.snowpark import Window\n",
    "\n",
    "import pandas\n",
    "import matplotlib.pyplot as plt\n",
    "import seaborn as sns\n",
    "import numpy as np\n",
    "import json"
   ]
  },
  {
   "cell_type": "code",
   "execution_count": 6,
   "metadata": {},
   "outputs": [],
   "source": [
    "# Get account credentials from a json file\n",
    "with open(\"data_scientist_auth.json\") as f:\n",
    "    data = json.load(f)\n",
    "    username = data[\"username\"]\n",
    "    password = data[\"password\"]\n",
    "    account = data[\"account\"]\n",
    "\n",
    "# Specify connection parameters\n",
    "connection_parameters = {\n",
    "    \"account\": account,\n",
    "    \"user\": username,\n",
    "    \"password\": password,\n",
    "    \"role\": \"TASTY_BI\",\n",
    "    \"warehouse\": \"TASTY_BI_WH\",\n",
    "    \"database\": \"frostbyte_tasty_bytes\",\n",
    "    \"schema\": \"analytics\",\n",
    "}\n",
    "\n",
    "# Create Snowpark session\n",
    "session = Session.builder.configs(connection_parameters).create()"
   ]
  },
  {
   "cell_type": "code",
   "execution_count": 3,
   "metadata": {},
   "outputs": [],
   "source": [
    "SENTIMENT_DATA = session.table(\"frostbyte_tasty_bytes_setup_s.raw_survey.sentiment_survey_ds\")\n",
    "\n",
    "TRUCK_DATA = session.table(\"frostbyte_tasty_bytes_setup_s.raw_pos.truck\")"
   ]
  },
  {
   "cell_type": "code",
   "execution_count": 144,
   "metadata": {},
   "outputs": [
    {
     "name": "stdout",
     "output_type": "stream",
     "text": [
      "-------------------------------------------------------------------------------------------------------------------------------------------------------------------------------------------------\n",
      "|\"SURVEY_ID\"       |\"SURVEY_TS\"  |\"TRUCK_ID\"  |\"COMMENTS\"                                    |\"NPS_SCORE\"  |\"NPS_CATEGORY\"  |\"OVERALL_SENTIMENT\"  |\"ASPECT_SENTIMENT\"                           |\n",
      "-------------------------------------------------------------------------------------------------------------------------------------------------------------------------------------------------\n",
      "|60509-SL          |2023-01-25   |291         |                                              |60.0         |Passive         |0.0                  |[                                            |\n",
      "|                  |             |            |                                              |             |                |                     |  {                                          |\n",
      "|                  |             |            |                                              |             |                |                     |    \"aspect\": null,                          |\n",
      "|                  |             |            |                                              |             |                |                     |    \"aspect_keywords\": [],                   |\n",
      "|                  |             |            |                                              |             |                |                     |    \"compound_nouns\": [],                    |\n",
      "|                  |             |            |                                              |             |                |                     |    \"sentiment\": null,                       |\n",
      "|                  |             |            |                                              |             |                |                     |    \"subject\": [],                           |\n",
      "|                  |             |            |                                              |             |                |                     |    \"text\": \" \"                              |\n",
      "|                  |             |            |                                              |             |                |                     |  }                                          |\n",
      "|                  |             |            |                                              |             |                |                     |]                                            |\n",
      "|20612-SL          |2023-01-25   |36          |Amazing food. I had good experience overall.  |60.0         |Passive         |0.4404               |[                                            |\n",
      "|                  |             |            |                                              |             |                |                     |  {                                          |\n",
      "|                  |             |            |                                              |             |                |                     |    \"aspect\": \"Food\",                        |\n",
      "|                  |             |            |                                              |             |                |                     |    \"aspect_keywords\": [                     |\n",
      "|                  |             |            |                                              |             |                |                     |      \"amazing food\"                         |\n",
      "|                  |             |            |                                              |             |                |                     |    ],                                       |\n",
      "|                  |             |            |                                              |             |                |                     |    \"compound_nouns\": [],                    |\n",
      "|                  |             |            |                                              |             |                |                     |    \"sentiment\": 0.5859,                     |\n",
      "|                  |             |            |                                              |             |                |                     |    \"subject\": [                             |\n",
      "|                  |             |            |                                              |             |                |                     |      \"food\"                                 |\n",
      "|                  |             |            |                                              |             |                |                     |    ],                                       |\n",
      "|                  |             |            |                                              |             |                |                     |    \"text\": \" amazing food\"                  |\n",
      "|                  |             |            |                                              |             |                |                     |  },                                         |\n",
      "|                  |             |            |                                              |             |                |                     |  {                                          |\n",
      "|                  |             |            |                                              |             |                |                     |    \"aspect\": \"Experience\",                  |\n",
      "|                  |             |            |                                              |             |                |                     |    \"aspect_keywords\": [                     |\n",
      "|                  |             |            |                                              |             |                |                     |      \"good experience\",                     |\n",
      "|                  |             |            |                                              |             |                |                     |      \"overall \"                             |\n",
      "|                  |             |            |                                              |             |                |                     |    ],                                       |\n",
      "|                  |             |            |                                              |             |                |                     |    \"compound_nouns\": [],                    |\n",
      "|                  |             |            |                                              |             |                |                     |    \"sentiment\": 0.4404,                     |\n",
      "|                  |             |            |                                              |             |                |                     |    \"subject\": [                             |\n",
      "|                  |             |            |                                              |             |                |                     |      \"\",                                    |\n",
      "|                  |             |            |                                              |             |                |                     |      \"experience\"                           |\n",
      "|                  |             |            |                                              |             |                |                     |    ],                                       |\n",
      "|                  |             |            |                                              |             |                |                     |    \"text\": \"i had good experience overall\"  |\n",
      "|                  |             |            |                                              |             |                |                     |  },                                         |\n",
      "|                  |             |            |                                              |             |                |                     |  {                                          |\n",
      "|                  |             |            |                                              |             |                |                     |    \"aspect\": null,                          |\n",
      "|                  |             |            |                                              |             |                |                     |    \"aspect_keywords\": [],                   |\n",
      "|                  |             |            |                                              |             |                |                     |    \"compound_nouns\": [],                    |\n",
      "|                  |             |            |                                              |             |                |                     |    \"sentiment\": null,                       |\n",
      "|                  |             |            |                                              |             |                |                     |    \"subject\": [],                           |\n",
      "|                  |             |            |                                              |             |                |                     |    \"text\": \" \"                              |\n",
      "|                  |             |            |                                              |             |                |                     |  }                                          |\n",
      "|                  |             |            |                                              |             |                |                     |]                                            |\n",
      "|45808-SL          |2023-01-25   |291         |Great food. Had a good experience.            |100.0        |Promoter        |0.4404               |[                                            |\n",
      "|                  |             |            |                                              |             |                |                     |  {                                          |\n",
      "|                  |             |            |                                              |             |                |                     |    \"aspect\": \"Food\",                        |\n",
      "|                  |             |            |                                              |             |                |                     |    \"aspect_keywords\": [                     |\n",
      "|                  |             |            |                                              |             |                |                     |      \"great food\"                           |\n",
      "|                  |             |            |                                              |             |                |                     |    ],                                       |\n",
      "|                  |             |            |                                              |             |                |                     |    \"compound_nouns\": [],                    |\n",
      "|                  |             |            |                                              |             |                |                     |    \"sentiment\": 0.6249,                     |\n",
      "|                  |             |            |                                              |             |                |                     |    \"subject\": [                             |\n",
      "|                  |             |            |                                              |             |                |                     |      \"food\"                                 |\n",
      "|                  |             |            |                                              |             |                |                     |    ],                                       |\n",
      "|                  |             |            |                                              |             |                |                     |    \"text\": \" great food\"                    |\n",
      "|                  |             |            |                                              |             |                |                     |  },                                         |\n",
      "|                  |             |            |                                              |             |                |                     |  {                                          |\n",
      "|                  |             |            |                                              |             |                |                     |    \"aspect\": \"Experience\",                  |\n",
      "|                  |             |            |                                              |             |                |                     |    \"aspect_keywords\": [                     |\n",
      "|                  |             |            |                                              |             |                |                     |      \"good experience\"                      |\n",
      "|                  |             |            |                                              |             |                |                     |    ],                                       |\n",
      "|                  |             |            |                                              |             |                |                     |    \"compound_nouns\": [],                    |\n",
      "|                  |             |            |                                              |             |                |                     |    \"sentiment\": 0.4404,                     |\n",
      "|                  |             |            |                                              |             |                |                     |    \"subject\": [                             |\n",
      "|                  |             |            |                                              |             |                |                     |      \"experience\"                           |\n",
      "|                  |             |            |                                              |             |                |                     |    ],                                       |\n",
      "|                  |             |            |                                              |             |                |                     |    \"text\": \"had a good experience\"          |\n",
      "|                  |             |            |                                              |             |                |                     |  },                                         |\n",
      "|                  |             |            |                                              |             |                |                     |  {                                          |\n",
      "|                  |             |            |                                              |             |                |                     |    \"aspect\": null,                          |\n",
      "|                  |             |            |                                              |             |                |                     |    \"aspect_keywords\": [],                   |\n",
      "|                  |             |            |                                              |             |                |                     |    \"compound_nouns\": [],                    |\n",
      "|                  |             |            |                                              |             |                |                     |    \"sentiment\": null,                       |\n",
      "|                  |             |            |                                              |             |                |                     |    \"subject\": [],                           |\n",
      "|                  |             |            |                                              |             |                |                     |    \"text\": \" \"                              |\n",
      "|                  |             |            |                                              |             |                |                     |  }                                          |\n",
      "|                  |             |            |                                              |             |                |                     |]                                            |\n",
      "|93806-SL          |2023-01-25   |291         |Awesome food. Great experience.               |60.0         |Passive         |0.6249               |[                                            |\n",
      "|                  |             |            |                                              |             |                |                     |  {                                          |\n",
      "|                  |             |            |                                              |             |                |                     |    \"aspect\": \"Food\",                        |\n",
      "|                  |             |            |                                              |             |                |                     |    \"aspect_keywords\": [                     |\n",
      "|                  |             |            |                                              |             |                |                     |      \"awesome food\"                         |\n",
      "|                  |             |            |                                              |             |                |                     |    ],                                       |\n",
      "|                  |             |            |                                              |             |                |                     |    \"compound_nouns\": [],                    |\n",
      "|                  |             |            |                                              |             |                |                     |    \"sentiment\": 0.6249,                     |\n",
      "|                  |             |            |                                              |             |                |                     |    \"subject\": [                             |\n",
      "|                  |             |            |                                              |             |                |                     |      \"food\"                                 |\n",
      "|                  |             |            |                                              |             |                |                     |    ],                                       |\n",
      "|                  |             |            |                                              |             |                |                     |    \"text\": \" awesome food\"                  |\n",
      "|                  |             |            |                                              |             |                |                     |  },                                         |\n",
      "|                  |             |            |                                              |             |                |                     |  {                                          |\n",
      "|                  |             |            |                                              |             |                |                     |    \"aspect\": \"Experience\",                  |\n",
      "|                  |             |            |                                              |             |                |                     |    \"aspect_keywords\": [                     |\n",
      "|                  |             |            |                                              |             |                |                     |      \"great experience\"                     |\n",
      "|                  |             |            |                                              |             |                |                     |    ],                                       |\n",
      "|                  |             |            |                                              |             |                |                     |    \"compound_nouns\": [],                    |\n",
      "|                  |             |            |                                              |             |                |                     |    \"sentiment\": 0.6249,                     |\n",
      "|                  |             |            |                                              |             |                |                     |    \"subject\": [                             |\n",
      "|                  |             |            |                                              |             |                |                     |      \"experience\"                           |\n",
      "|                  |             |            |                                              |             |                |                     |    ],                                       |\n",
      "|                  |             |            |                                              |             |                |                     |    \"text\": \"great experience\"               |\n",
      "|                  |             |            |                                              |             |                |                     |  },                                         |\n",
      "|                  |             |            |                                              |             |                |                     |  {                                          |\n",
      "|                  |             |            |                                              |             |                |                     |    \"aspect\": null,                          |\n",
      "|                  |             |            |                                              |             |                |                     |    \"aspect_keywords\": [],                   |\n",
      "|                  |             |            |                                              |             |                |                     |    \"compound_nouns\": [],                    |\n",
      "|                  |             |            |                                              |             |                |                     |    \"sentiment\": null,                       |\n",
      "|                  |             |            |                                              |             |                |                     |    \"subject\": [],                           |\n",
      "|                  |             |            |                                              |             |                |                     |    \"text\": \" \"                              |\n",
      "|                  |             |            |                                              |             |                |                     |  }                                          |\n",
      "|                  |             |            |                                              |             |                |                     |]                                            |\n",
      "|TP-TMM0000000068  |2019-04-02   |21          |                                              |100.0        |Promoter        |NULL                 |NULL                                         |\n",
      "|TP-TMM0000000069  |2019-04-02   |21          |                                              |60.0         |Passive         |NULL                 |NULL                                         |\n",
      "|TP-TMM0000000070  |2019-04-02   |21          |                                              |100.0        |Promoter        |NULL                 |NULL                                         |\n",
      "|TP-TMM0000000071  |2019-04-02   |21          |                                              |100.0        |Promoter        |NULL                 |NULL                                         |\n",
      "|TP-TMM0000000072  |2019-04-02   |21          |                                              |60.0         |Passive         |NULL                 |NULL                                         |\n",
      "|TP-TMM0000000073  |2019-04-02   |21          |                                              |60.0         |Passive         |NULL                 |NULL                                         |\n",
      "-------------------------------------------------------------------------------------------------------------------------------------------------------------------------------------------------\n",
      "\n"
     ]
    }
   ],
   "source": [
    "SENTIMENT_DATA.show()"
   ]
  },
  {
   "cell_type": "code",
   "execution_count": 145,
   "metadata": {},
   "outputs": [
    {
     "name": "stdout",
     "output_type": "stream",
     "text": [
      "-----------------------------------------------------------------------------------------------------------------------------------------------------------------------------------------------------------------------------------\n",
      "|\"TRUCK_ID\"  |\"MENU_TYPE_ID\"  |\"PRIMARY_CITY\"  |\"REGION\"    |\"ISO_REGION\"  |\"COUNTRY\"      |\"ISO_COUNTRY_CODE\"  |\"FRANCHISE_FLAG\"  |\"YEAR\"  |\"MAKE\"        |\"MODEL\"           |\"EV_FLAG\"  |\"FRANCHISE_ID\"  |\"TRUCK_OPENING_DATE\"  |\n",
      "-----------------------------------------------------------------------------------------------------------------------------------------------------------------------------------------------------------------------------------\n",
      "|3           |3               |San Mateo       |California  |CA            |United States  |US                  |1                 |2004    |Freightliner  |MT45 Utilimaster  |0          |2               |2021-10-01            |\n",
      "|4           |4               |San Mateo       |California  |CA            |United States  |US                  |1                 |1997    |Chevrolet     |P30               |1          |3               |2021-01-01            |\n",
      "|5           |5               |San Mateo       |California  |CA            |United States  |US                  |1                 |2010    |Custom        |Van               |1          |4               |2022-04-01            |\n",
      "|6           |6               |San Mateo       |California  |CA            |United States  |US                  |1                 |2010    |Airstream     |Trailer           |0          |5               |2019-07-01            |\n",
      "|7           |7               |San Mateo       |California  |CA            |United States  |US                  |1                 |2010    |Custom        |Van               |0          |6               |2021-01-01            |\n",
      "|8           |8               |San Mateo       |California  |CA            |United States  |US                  |1                 |1999    |Chevrolet     |P30               |1          |7               |2022-04-01            |\n",
      "|9           |9               |San Mateo       |California  |CA            |United States  |US                  |1                 |2008    |Custom        |Box Truck         |0          |8               |2020-07-01            |\n",
      "|12          |12              |San Mateo       |California  |CA            |United States  |US                  |1                 |2010    |Custom        |Van               |0          |11              |2021-04-01            |\n",
      "|13          |13              |San Mateo       |California  |CA            |United States  |US                  |1                 |2000    |Freightliner  |MT45 Utilimaster  |0          |12              |2021-07-01            |\n",
      "|14          |14              |San Mateo       |California  |CA            |United States  |US                  |1                 |2004    |Freightliner  |MT45 Utilimaster  |0          |12              |2020-10-01            |\n",
      "-----------------------------------------------------------------------------------------------------------------------------------------------------------------------------------------------------------------------------------\n",
      "\n"
     ]
    }
   ],
   "source": [
    "TRUCK_DATA.show()"
   ]
  },
  {
   "cell_type": "code",
   "execution_count": 146,
   "metadata": {},
   "outputs": [],
   "source": [
    "SENTIMENT = TRUCK_DATA.join(SENTIMENT_DATA, SENTIMENT_DATA[\"TRUCK_ID\"] == TRUCK_DATA[\"TRUCK_ID\"], \"inner\")"
   ]
  },
  {
   "cell_type": "code",
   "execution_count": 147,
   "metadata": {},
   "outputs": [],
   "source": [
    "SENTIMENT2 = SENTIMENT.dropna()"
   ]
  },
  {
   "cell_type": "code",
   "execution_count": 165,
   "metadata": {},
   "outputs": [
    {
     "name": "stdout",
     "output_type": "stream",
     "text": [
      "----------------------------------------\n",
      "|\"SURVEY_TS_YEAR\"  |\"AVG(NPS_SCORE)\"   |\n",
      "----------------------------------------\n",
      "|2023              |70.0               |\n",
      "|2019              |89.78290366350068  |\n",
      "|2020              |82.65104808877929  |\n",
      "|2021              |70.78996630475477  |\n",
      "|2022              |73.91523935002196  |\n",
      "----------------------------------------\n",
      "\n",
      "-----------------------------------------\n",
      "|\"SURVEY_TS_MONTH\"  |\"AVG(NPS_SCORE)\"   |\n",
      "-----------------------------------------\n",
      "|1                  |77.3211009174312   |\n",
      "|5                  |73.8928210313448   |\n",
      "|2                  |79.09722222222223  |\n",
      "|7                  |73.42359767891683  |\n",
      "|10                 |78.1470588235294   |\n",
      "|3                  |75.85144927536231  |\n",
      "|4                  |76.62244897959184  |\n",
      "|8                  |74.87179487179488  |\n",
      "|6                  |75.06467661691542  |\n",
      "|11                 |78.18380743982495  |\n",
      "-----------------------------------------\n",
      "\n",
      "------------------------------------------------------------\n",
      "|\"SURVEY_TS_YEAR\"  |\"SURVEY_TS_MONTH\"  |\"AVG(NPS_SCORE)\"   |\n",
      "------------------------------------------------------------\n",
      "|2023              |1                  |70.0               |\n",
      "|2019              |4                  |88.14814814814815  |\n",
      "|2020              |5                  |83.00813008130082  |\n",
      "|2020              |8                  |81.7605633802817   |\n",
      "|2021              |6                  |66.37096774193549  |\n",
      "|2022              |2                  |74.90384615384616  |\n",
      "|2019              |8                  |88.7128712871287   |\n",
      "|2019              |11                 |83.05555555555556  |\n",
      "|2020              |9                  |81.71641791044776  |\n",
      "|2020              |11                 |83.74045801526718  |\n",
      "------------------------------------------------------------\n",
      "\n"
     ]
    }
   ],
   "source": [
    "AVG_NPS_SCORE = SENTIMENT2.with_column(\"SURVEY_TS_YEAR\", F.year(\"SURVEY_TS\"))\n",
    "AVG_NPS_SCORE = AVG_NPS_SCORE.with_column(\"SURVEY_TS_MONTH\", F.month(\"SURVEY_TS\"))\n",
    "AVG_NPS_SCORE = AVG_NPS_SCORE.with_column(\"YEAR_MONTH\", F.concat(F.col(\"SURVEY_TS_YEAR\"), F.col(\"SURVEY_TS_MONTH\")))\n",
    "AVG_NPS_SCORE_YEAR = AVG_NPS_SCORE.groupBy(F.col(\"SURVEY_TS_YEAR\")).agg(F.avg(\"NPS_SCORE\"))\n",
    "AVG_NPS_SCORE_MONTH = AVG_NPS_SCORE.groupBy(F.col(\"SURVEY_TS_MONTH\")).agg(F.avg(\"NPS_SCORE\"))\n",
    "AVG_NPS_SCORE_YM = AVG_NPS_SCORE.groupBy(F.col(\"SURVEY_TS_YEAR\"), F.col(\"SURVEY_TS_MONTH\")).agg(F.avg(\"NPS_SCORE\"))\n",
    "AVG_NPS_SCORE_YEAR.show()\n",
    "AVG_NPS_SCORE_MONTH.show()\n",
    "AVG_NPS_SCORE_YM.show()"
   ]
  },
  {
   "cell_type": "code",
   "execution_count": 7,
   "metadata": {},
   "outputs": [],
   "source": [
    "NPS_COMPARE = session.table(name = \"NPS_COMPARE\")"
   ]
  },
  {
   "cell_type": "code",
   "execution_count": 8,
   "metadata": {},
   "outputs": [
    {
     "ename": "SnowparkSQLException",
     "evalue": "(1304): 01ad85d8-3200-c882-0004-ff0e00030006: 002003 (42S02): SQL compilation error:\nObject 'NPS_COMPARE' does not exist or not authorized.",
     "output_type": "error",
     "traceback": [
      "\u001b[1;31m---------------------------------------------------------------------------\u001b[0m",
      "\u001b[1;31mSnowparkSQLException\u001b[0m                      Traceback (most recent call last)",
      "Cell \u001b[1;32mIn[8], line 1\u001b[0m\n\u001b[1;32m----> 1\u001b[0m NPS_COMPARE\u001b[39m.\u001b[39;49mshow()\n",
      "File \u001b[1;32mc:\\Users\\tehzh\\anaconda3\\envs\\py38_env\\lib\\site-packages\\snowflake\\snowpark\\_internal\\telemetry.py:139\u001b[0m, in \u001b[0;36mdf_collect_api_telemetry.<locals>.wrap\u001b[1;34m(*args, **kwargs)\u001b[0m\n\u001b[0;32m    136\u001b[0m \u001b[39m@functools\u001b[39m\u001b[39m.\u001b[39mwraps(func)\n\u001b[0;32m    137\u001b[0m \u001b[39mdef\u001b[39;00m \u001b[39mwrap\u001b[39m(\u001b[39m*\u001b[39margs, \u001b[39m*\u001b[39m\u001b[39m*\u001b[39mkwargs):\n\u001b[0;32m    138\u001b[0m     \u001b[39mwith\u001b[39;00m args[\u001b[39m0\u001b[39m]\u001b[39m.\u001b[39m_session\u001b[39m.\u001b[39mquery_history() \u001b[39mas\u001b[39;00m query_history:\n\u001b[1;32m--> 139\u001b[0m         result \u001b[39m=\u001b[39m func(\u001b[39m*\u001b[39;49margs, \u001b[39m*\u001b[39;49m\u001b[39m*\u001b[39;49mkwargs)\n\u001b[0;32m    140\u001b[0m     plan \u001b[39m=\u001b[39m args[\u001b[39m0\u001b[39m]\u001b[39m.\u001b[39m_select_statement \u001b[39mor\u001b[39;00m args[\u001b[39m0\u001b[39m]\u001b[39m.\u001b[39m_plan\n\u001b[0;32m    141\u001b[0m     api_calls \u001b[39m=\u001b[39m [\n\u001b[0;32m    142\u001b[0m         \u001b[39m*\u001b[39mplan\u001b[39m.\u001b[39mapi_calls,\n\u001b[0;32m    143\u001b[0m         {TelemetryField\u001b[39m.\u001b[39mNAME\u001b[39m.\u001b[39mvalue: \u001b[39mf\u001b[39m\u001b[39m\"\u001b[39m\u001b[39mDataFrame.\u001b[39m\u001b[39m{\u001b[39;00mfunc\u001b[39m.\u001b[39m\u001b[39m__name__\u001b[39m\u001b[39m}\u001b[39;00m\u001b[39m\"\u001b[39m},\n\u001b[0;32m    144\u001b[0m     ]\n",
      "File \u001b[1;32mc:\\Users\\tehzh\\anaconda3\\envs\\py38_env\\lib\\site-packages\\snowflake\\snowpark\\dataframe.py:2701\u001b[0m, in \u001b[0;36mDataFrame.show\u001b[1;34m(self, n, max_width, statement_params)\u001b[0m\n\u001b[0;32m   2682\u001b[0m \u001b[39m@df_collect_api_telemetry\u001b[39m\n\u001b[0;32m   2683\u001b[0m \u001b[39mdef\u001b[39;00m \u001b[39mshow\u001b[39m(\n\u001b[0;32m   2684\u001b[0m     \u001b[39mself\u001b[39m,\n\u001b[1;32m   (...)\u001b[0m\n\u001b[0;32m   2688\u001b[0m     statement_params: Optional[Dict[\u001b[39mstr\u001b[39m, \u001b[39mstr\u001b[39m]] \u001b[39m=\u001b[39m \u001b[39mNone\u001b[39;00m,\n\u001b[0;32m   2689\u001b[0m ) \u001b[39m-\u001b[39m\u001b[39m>\u001b[39m \u001b[39mNone\u001b[39;00m:\n\u001b[0;32m   2690\u001b[0m \u001b[39m    \u001b[39m\u001b[39m\"\"\"Evaluates this DataFrame and prints out the first ``n`` rows with the\u001b[39;00m\n\u001b[0;32m   2691\u001b[0m \u001b[39m    specified maximum number of characters per column.\u001b[39;00m\n\u001b[0;32m   2692\u001b[0m \n\u001b[1;32m   (...)\u001b[0m\n\u001b[0;32m   2698\u001b[0m \u001b[39m        statement_params: Dictionary of statement level parameters to be set while executing this action.\u001b[39;00m\n\u001b[0;32m   2699\u001b[0m \u001b[39m    \"\"\"\u001b[39;00m\n\u001b[0;32m   2700\u001b[0m     \u001b[39mprint\u001b[39m(\n\u001b[1;32m-> 2701\u001b[0m         \u001b[39mself\u001b[39;49m\u001b[39m.\u001b[39;49m_show_string(\n\u001b[0;32m   2702\u001b[0m             n,\n\u001b[0;32m   2703\u001b[0m             max_width,\n\u001b[0;32m   2704\u001b[0m             _statement_params\u001b[39m=\u001b[39;49mcreate_or_update_statement_params_with_query_tag(\n\u001b[0;32m   2705\u001b[0m                 statement_params, \u001b[39mself\u001b[39;49m\u001b[39m.\u001b[39;49m_session\u001b[39m.\u001b[39;49mquery_tag, SKIP_LEVELS_TWO\n\u001b[0;32m   2706\u001b[0m             ),\n\u001b[0;32m   2707\u001b[0m         )\n\u001b[0;32m   2708\u001b[0m     )\n",
      "File \u001b[1;32mc:\\Users\\tehzh\\anaconda3\\envs\\py38_env\\lib\\site-packages\\snowflake\\snowpark\\dataframe.py:2817\u001b[0m, in \u001b[0;36mDataFrame._show_string\u001b[1;34m(self, n, max_width, **kwargs)\u001b[0m\n\u001b[0;32m   2814\u001b[0m query \u001b[39m=\u001b[39m \u001b[39mself\u001b[39m\u001b[39m.\u001b[39m_plan\u001b[39m.\u001b[39mqueries[\u001b[39m-\u001b[39m\u001b[39m1\u001b[39m]\u001b[39m.\u001b[39msql\u001b[39m.\u001b[39mstrip()\u001b[39m.\u001b[39mlower()\n\u001b[0;32m   2816\u001b[0m \u001b[39mif\u001b[39;00m is_sql_select_statement(query):\n\u001b[1;32m-> 2817\u001b[0m     result, meta \u001b[39m=\u001b[39m \u001b[39mself\u001b[39;49m\u001b[39m.\u001b[39;49m_session\u001b[39m.\u001b[39;49m_conn\u001b[39m.\u001b[39;49mget_result_and_metadata(\n\u001b[0;32m   2818\u001b[0m         \u001b[39mself\u001b[39;49m\u001b[39m.\u001b[39;49mlimit(n)\u001b[39m.\u001b[39;49m_plan, \u001b[39m*\u001b[39;49m\u001b[39m*\u001b[39;49mkwargs\n\u001b[0;32m   2819\u001b[0m     )\n\u001b[0;32m   2820\u001b[0m \u001b[39melse\u001b[39;00m:\n\u001b[0;32m   2821\u001b[0m     res, meta \u001b[39m=\u001b[39m \u001b[39mself\u001b[39m\u001b[39m.\u001b[39m_session\u001b[39m.\u001b[39m_conn\u001b[39m.\u001b[39mget_result_and_metadata(\n\u001b[0;32m   2822\u001b[0m         \u001b[39mself\u001b[39m\u001b[39m.\u001b[39m_plan, \u001b[39m*\u001b[39m\u001b[39m*\u001b[39mkwargs\n\u001b[0;32m   2823\u001b[0m     )\n",
      "File \u001b[1;32mc:\\Users\\tehzh\\anaconda3\\envs\\py38_env\\lib\\site-packages\\snowflake\\snowpark\\_internal\\server_connection.py:560\u001b[0m, in \u001b[0;36mServerConnection.get_result_and_metadata\u001b[1;34m(self, plan, **kwargs)\u001b[0m\n\u001b[0;32m    557\u001b[0m \u001b[39mdef\u001b[39;00m \u001b[39mget_result_and_metadata\u001b[39m(\n\u001b[0;32m    558\u001b[0m     \u001b[39mself\u001b[39m, plan: SnowflakePlan, \u001b[39m*\u001b[39m\u001b[39m*\u001b[39mkwargs\n\u001b[0;32m    559\u001b[0m ) \u001b[39m-\u001b[39m\u001b[39m>\u001b[39m Tuple[List[Row], List[Attribute]]:\n\u001b[1;32m--> 560\u001b[0m     result_set, result_meta \u001b[39m=\u001b[39m \u001b[39mself\u001b[39;49m\u001b[39m.\u001b[39;49mget_result_set(plan, \u001b[39m*\u001b[39;49m\u001b[39m*\u001b[39;49mkwargs)\n\u001b[0;32m    561\u001b[0m     result \u001b[39m=\u001b[39m result_set_to_rows(result_set[\u001b[39m\"\u001b[39m\u001b[39mdata\u001b[39m\u001b[39m\"\u001b[39m])\n\u001b[0;32m    562\u001b[0m     meta \u001b[39m=\u001b[39m convert_result_meta_to_attribute(result_meta)\n",
      "File \u001b[1;32mc:\\Users\\tehzh\\anaconda3\\envs\\py38_env\\lib\\site-packages\\snowflake\\snowpark\\_internal\\analyzer\\snowflake_plan.py:168\u001b[0m, in \u001b[0;36mSnowflakePlan.Decorator.wrap_exception.<locals>.wrap\u001b[1;34m(*args, **kwargs)\u001b[0m\n\u001b[0;32m    164\u001b[0m \u001b[39melse\u001b[39;00m:\n\u001b[0;32m    165\u001b[0m     ne \u001b[39m=\u001b[39m SnowparkClientExceptionMessages\u001b[39m.\u001b[39mSQL_EXCEPTION_FROM_PROGRAMMING_ERROR(\n\u001b[0;32m    166\u001b[0m         e\n\u001b[0;32m    167\u001b[0m     )\n\u001b[1;32m--> 168\u001b[0m     \u001b[39mraise\u001b[39;00m ne\u001b[39m.\u001b[39mwith_traceback(tb) \u001b[39mfrom\u001b[39;00m \u001b[39mNone\u001b[39;00m\n",
      "File \u001b[1;32mc:\\Users\\tehzh\\anaconda3\\envs\\py38_env\\lib\\site-packages\\snowflake\\snowpark\\_internal\\analyzer\\snowflake_plan.py:98\u001b[0m, in \u001b[0;36mSnowflakePlan.Decorator.wrap_exception.<locals>.wrap\u001b[1;34m(*args, **kwargs)\u001b[0m\n\u001b[0;32m     96\u001b[0m \u001b[39mdef\u001b[39;00m \u001b[39mwrap\u001b[39m(\u001b[39m*\u001b[39margs, \u001b[39m*\u001b[39m\u001b[39m*\u001b[39mkwargs):\n\u001b[0;32m     97\u001b[0m     \u001b[39mtry\u001b[39;00m:\n\u001b[1;32m---> 98\u001b[0m         \u001b[39mreturn\u001b[39;00m func(\u001b[39m*\u001b[39;49margs, \u001b[39m*\u001b[39;49m\u001b[39m*\u001b[39;49mkwargs)\n\u001b[0;32m     99\u001b[0m     \u001b[39mexcept\u001b[39;00m snowflake\u001b[39m.\u001b[39mconnector\u001b[39m.\u001b[39merrors\u001b[39m.\u001b[39mProgrammingError \u001b[39mas\u001b[39;00m e:\n\u001b[0;32m    100\u001b[0m         query \u001b[39m=\u001b[39m \u001b[39mNone\u001b[39;00m\n",
      "File \u001b[1;32mc:\\Users\\tehzh\\anaconda3\\envs\\py38_env\\lib\\site-packages\\snowflake\\snowpark\\_internal\\server_connection.py:521\u001b[0m, in \u001b[0;36mServerConnection.get_result_set\u001b[1;34m(self, plan, to_pandas, to_iter, block, data_type, log_on_exception, case_sensitive, **kwargs)\u001b[0m\n\u001b[0;32m    519\u001b[0m \u001b[39mfor\u001b[39;00m holder, id_ \u001b[39min\u001b[39;00m placeholders\u001b[39m.\u001b[39mitems():\n\u001b[0;32m    520\u001b[0m     final_query \u001b[39m=\u001b[39m final_query\u001b[39m.\u001b[39mreplace(holder, id_)\n\u001b[1;32m--> 521\u001b[0m result \u001b[39m=\u001b[39m \u001b[39mself\u001b[39;49m\u001b[39m.\u001b[39;49mrun_query(\n\u001b[0;32m    522\u001b[0m     final_query,\n\u001b[0;32m    523\u001b[0m     to_pandas,\n\u001b[0;32m    524\u001b[0m     to_iter \u001b[39mand\u001b[39;49;00m (i \u001b[39m==\u001b[39;49m \u001b[39mlen\u001b[39;49m(plan\u001b[39m.\u001b[39;49mqueries) \u001b[39m-\u001b[39;49m \u001b[39m1\u001b[39;49m),\n\u001b[0;32m    525\u001b[0m     is_ddl_on_temp_object\u001b[39m=\u001b[39;49mquery\u001b[39m.\u001b[39;49mis_ddl_on_temp_object,\n\u001b[0;32m    526\u001b[0m     block\u001b[39m=\u001b[39;49m\u001b[39mnot\u001b[39;49;00m is_last,\n\u001b[0;32m    527\u001b[0m     data_type\u001b[39m=\u001b[39;49mdata_type,\n\u001b[0;32m    528\u001b[0m     async_job_plan\u001b[39m=\u001b[39;49mplan,\n\u001b[0;32m    529\u001b[0m     log_on_exception\u001b[39m=\u001b[39;49mlog_on_exception,\n\u001b[0;32m    530\u001b[0m     case_sensitive\u001b[39m=\u001b[39;49mcase_sensitive,\n\u001b[0;32m    531\u001b[0m     \u001b[39m*\u001b[39;49m\u001b[39m*\u001b[39;49mkwargs,\n\u001b[0;32m    532\u001b[0m )\n\u001b[0;32m    533\u001b[0m placeholders[query\u001b[39m.\u001b[39mquery_id_place_holder] \u001b[39m=\u001b[39m (\n\u001b[0;32m    534\u001b[0m     result[\u001b[39m\"\u001b[39m\u001b[39msfqid\u001b[39m\u001b[39m\"\u001b[39m] \u001b[39mif\u001b[39;00m \u001b[39mnot\u001b[39;00m is_last \u001b[39melse\u001b[39;00m result\u001b[39m.\u001b[39mquery_id\n\u001b[0;32m    535\u001b[0m )\n\u001b[0;32m    536\u001b[0m result_meta \u001b[39m=\u001b[39m \u001b[39mself\u001b[39m\u001b[39m.\u001b[39m_cursor\u001b[39m.\u001b[39mdescription\n",
      "File \u001b[1;32mc:\\Users\\tehzh\\anaconda3\\envs\\py38_env\\lib\\site-packages\\snowflake\\snowpark\\_internal\\server_connection.py:101\u001b[0m, in \u001b[0;36mServerConnection._Decorator.wrap_exception.<locals>.wrap\u001b[1;34m(*args, **kwargs)\u001b[0m\n\u001b[0;32m     97\u001b[0m     \u001b[39mraise\u001b[39;00m SnowparkClientExceptionMessages\u001b[39m.\u001b[39mSERVER_SESSION_EXPIRED(\n\u001b[0;32m     98\u001b[0m         ex\u001b[39m.\u001b[39mcause\n\u001b[0;32m     99\u001b[0m     )\n\u001b[0;32m    100\u001b[0m \u001b[39mexcept\u001b[39;00m \u001b[39mException\u001b[39;00m \u001b[39mas\u001b[39;00m ex:\n\u001b[1;32m--> 101\u001b[0m     \u001b[39mraise\u001b[39;00m ex\n",
      "File \u001b[1;32mc:\\Users\\tehzh\\anaconda3\\envs\\py38_env\\lib\\site-packages\\snowflake\\snowpark\\_internal\\server_connection.py:95\u001b[0m, in \u001b[0;36mServerConnection._Decorator.wrap_exception.<locals>.wrap\u001b[1;34m(*args, **kwargs)\u001b[0m\n\u001b[0;32m     93\u001b[0m     \u001b[39mraise\u001b[39;00m SnowparkClientExceptionMessages\u001b[39m.\u001b[39mSERVER_SESSION_HAS_BEEN_CLOSED()\n\u001b[0;32m     94\u001b[0m \u001b[39mtry\u001b[39;00m:\n\u001b[1;32m---> 95\u001b[0m     \u001b[39mreturn\u001b[39;00m func(\u001b[39m*\u001b[39;49margs, \u001b[39m*\u001b[39;49m\u001b[39m*\u001b[39;49mkwargs)\n\u001b[0;32m     96\u001b[0m \u001b[39mexcept\u001b[39;00m ReauthenticationRequest \u001b[39mas\u001b[39;00m ex:\n\u001b[0;32m     97\u001b[0m     \u001b[39mraise\u001b[39;00m SnowparkClientExceptionMessages\u001b[39m.\u001b[39mSERVER_SESSION_EXPIRED(\n\u001b[0;32m     98\u001b[0m         ex\u001b[39m.\u001b[39mcause\n\u001b[0;32m     99\u001b[0m     )\n",
      "File \u001b[1;32mc:\\Users\\tehzh\\anaconda3\\envs\\py38_env\\lib\\site-packages\\snowflake\\snowpark\\_internal\\server_connection.py:341\u001b[0m, in \u001b[0;36mServerConnection.run_query\u001b[1;34m(self, query, to_pandas, to_iter, is_ddl_on_temp_object, block, data_type, async_job_plan, log_on_exception, case_sensitive, **kwargs)\u001b[0m\n\u001b[0;32m    339\u001b[0m         query_id_log \u001b[39m=\u001b[39m \u001b[39mf\u001b[39m\u001b[39m\"\u001b[39m\u001b[39m [queryID: \u001b[39m\u001b[39m{\u001b[39;00mex\u001b[39m.\u001b[39msfqid\u001b[39m}\u001b[39;00m\u001b[39m]\u001b[39m\u001b[39m\"\u001b[39m \u001b[39mif\u001b[39;00m \u001b[39mhasattr\u001b[39m(ex, \u001b[39m\"\u001b[39m\u001b[39msfqid\u001b[39m\u001b[39m\"\u001b[39m) \u001b[39melse\u001b[39;00m \u001b[39m\"\u001b[39m\u001b[39m\"\u001b[39m\n\u001b[0;32m    340\u001b[0m         logger\u001b[39m.\u001b[39merror(\u001b[39mf\u001b[39m\u001b[39m\"\u001b[39m\u001b[39mFailed to execute query\u001b[39m\u001b[39m{\u001b[39;00mquery_id_log\u001b[39m}\u001b[39;00m\u001b[39m \u001b[39m\u001b[39m{\u001b[39;00mquery\u001b[39m}\u001b[39;00m\u001b[39m\\n\u001b[39;00m\u001b[39m{\u001b[39;00mex\u001b[39m}\u001b[39;00m\u001b[39m\"\u001b[39m)\n\u001b[1;32m--> 341\u001b[0m     \u001b[39mraise\u001b[39;00m ex\n\u001b[0;32m    343\u001b[0m \u001b[39m# fetch_pandas_all/batches() only works for SELECT statements\u001b[39;00m\n\u001b[0;32m    344\u001b[0m \u001b[39m# We call fetchall() if fetch_pandas_all/batches() fails,\u001b[39;00m\n\u001b[0;32m    345\u001b[0m \u001b[39m# because when the query plan has multiple queries, it will\u001b[39;00m\n\u001b[0;32m    346\u001b[0m \u001b[39m# have non-select statements, and it shouldn't fail if the user\u001b[39;00m\n\u001b[0;32m    347\u001b[0m \u001b[39m# calls to_pandas() to execute the query.\u001b[39;00m\n\u001b[0;32m    348\u001b[0m \u001b[39mif\u001b[39;00m block:\n",
      "File \u001b[1;32mc:\\Users\\tehzh\\anaconda3\\envs\\py38_env\\lib\\site-packages\\snowflake\\snowpark\\_internal\\server_connection.py:324\u001b[0m, in \u001b[0;36mServerConnection.run_query\u001b[1;34m(self, query, to_pandas, to_iter, is_ddl_on_temp_object, block, data_type, async_job_plan, log_on_exception, case_sensitive, **kwargs)\u001b[0m\n\u001b[0;32m    322\u001b[0m     kwargs[\u001b[39m\"\u001b[39m\u001b[39m_statement_params\u001b[39m\u001b[39m\"\u001b[39m][\u001b[39m\"\u001b[39m\u001b[39mSNOWPARK_SKIP_TXN_COMMIT_IN_DDL\u001b[39m\u001b[39m\"\u001b[39m] \u001b[39m=\u001b[39m \u001b[39mTrue\u001b[39;00m\n\u001b[0;32m    323\u001b[0m \u001b[39mif\u001b[39;00m block:\n\u001b[1;32m--> 324\u001b[0m     results_cursor \u001b[39m=\u001b[39m \u001b[39mself\u001b[39;49m\u001b[39m.\u001b[39;49m_cursor\u001b[39m.\u001b[39;49mexecute(query, \u001b[39m*\u001b[39;49m\u001b[39m*\u001b[39;49mkwargs)\n\u001b[0;32m    325\u001b[0m     \u001b[39mself\u001b[39m\u001b[39m.\u001b[39mnotify_query_listeners(\n\u001b[0;32m    326\u001b[0m         QueryRecord(results_cursor\u001b[39m.\u001b[39msfqid, results_cursor\u001b[39m.\u001b[39mquery)\n\u001b[0;32m    327\u001b[0m     )\n\u001b[0;32m    328\u001b[0m     logger\u001b[39m.\u001b[39mdebug(\u001b[39mf\u001b[39m\u001b[39m\"\u001b[39m\u001b[39mExecute query [queryID: \u001b[39m\u001b[39m{\u001b[39;00mresults_cursor\u001b[39m.\u001b[39msfqid\u001b[39m}\u001b[39;00m\u001b[39m] \u001b[39m\u001b[39m{\u001b[39;00mquery\u001b[39m}\u001b[39;00m\u001b[39m\"\u001b[39m)\n",
      "File \u001b[1;32mc:\\Users\\tehzh\\anaconda3\\envs\\py38_env\\lib\\site-packages\\snowflake\\connector\\cursor.py:904\u001b[0m, in \u001b[0;36mSnowflakeCursor.execute\u001b[1;34m(self, command, params, _bind_stage, timeout, _exec_async, _no_retry, _do_reset, _put_callback, _put_azure_callback, _put_callback_output_stream, _get_callback, _get_azure_callback, _get_callback_output_stream, _show_progress_bar, _statement_params, _is_internal, _describe_only, _no_results, _is_put_get, _raise_put_get_error, _force_put_overwrite, _skip_upload_on_content_match, file_stream, num_statements)\u001b[0m\n\u001b[0;32m    900\u001b[0m     is_integrity_error \u001b[39m=\u001b[39m (\n\u001b[0;32m    901\u001b[0m         code \u001b[39m==\u001b[39m \u001b[39m\"\u001b[39m\u001b[39m100072\u001b[39m\u001b[39m\"\u001b[39m\n\u001b[0;32m    902\u001b[0m     )  \u001b[39m# NULL result in a non-nullable column\u001b[39;00m\n\u001b[0;32m    903\u001b[0m     error_class \u001b[39m=\u001b[39m IntegrityError \u001b[39mif\u001b[39;00m is_integrity_error \u001b[39melse\u001b[39;00m ProgrammingError\n\u001b[1;32m--> 904\u001b[0m     Error\u001b[39m.\u001b[39;49merrorhandler_wrapper(\u001b[39mself\u001b[39;49m\u001b[39m.\u001b[39;49mconnection, \u001b[39mself\u001b[39;49m, error_class, errvalue)\n\u001b[0;32m    905\u001b[0m \u001b[39mreturn\u001b[39;00m \u001b[39mself\u001b[39m\n",
      "File \u001b[1;32mc:\\Users\\tehzh\\anaconda3\\envs\\py38_env\\lib\\site-packages\\snowflake\\connector\\errors.py:290\u001b[0m, in \u001b[0;36mError.errorhandler_wrapper\u001b[1;34m(connection, cursor, error_class, error_value)\u001b[0m\n\u001b[0;32m    267\u001b[0m \u001b[39m@staticmethod\u001b[39m\n\u001b[0;32m    268\u001b[0m \u001b[39mdef\u001b[39;00m \u001b[39merrorhandler_wrapper\u001b[39m(\n\u001b[0;32m    269\u001b[0m     connection: SnowflakeConnection \u001b[39m|\u001b[39m \u001b[39mNone\u001b[39;00m,\n\u001b[1;32m   (...)\u001b[0m\n\u001b[0;32m    272\u001b[0m     error_value: \u001b[39mdict\u001b[39m[\u001b[39mstr\u001b[39m, Any],\n\u001b[0;32m    273\u001b[0m ) \u001b[39m-\u001b[39m\u001b[39m>\u001b[39m \u001b[39mNone\u001b[39;00m:\n\u001b[0;32m    274\u001b[0m \u001b[39m    \u001b[39m\u001b[39m\"\"\"Error handler wrapper that calls the errorhandler method.\u001b[39;00m\n\u001b[0;32m    275\u001b[0m \n\u001b[0;32m    276\u001b[0m \u001b[39m    Args:\u001b[39;00m\n\u001b[1;32m   (...)\u001b[0m\n\u001b[0;32m    287\u001b[0m \u001b[39m        exception to the first handler in that order.\u001b[39;00m\n\u001b[0;32m    288\u001b[0m \u001b[39m    \"\"\"\u001b[39;00m\n\u001b[1;32m--> 290\u001b[0m     handed_over \u001b[39m=\u001b[39m Error\u001b[39m.\u001b[39;49mhand_to_other_handler(\n\u001b[0;32m    291\u001b[0m         connection,\n\u001b[0;32m    292\u001b[0m         cursor,\n\u001b[0;32m    293\u001b[0m         error_class,\n\u001b[0;32m    294\u001b[0m         error_value,\n\u001b[0;32m    295\u001b[0m     )\n\u001b[0;32m    296\u001b[0m     \u001b[39mif\u001b[39;00m \u001b[39mnot\u001b[39;00m handed_over:\n\u001b[0;32m    297\u001b[0m         \u001b[39mraise\u001b[39;00m Error\u001b[39m.\u001b[39merrorhandler_make_exception(\n\u001b[0;32m    298\u001b[0m             error_class,\n\u001b[0;32m    299\u001b[0m             error_value,\n\u001b[0;32m    300\u001b[0m         )\n",
      "File \u001b[1;32mc:\\Users\\tehzh\\anaconda3\\envs\\py38_env\\lib\\site-packages\\snowflake\\connector\\errors.py:345\u001b[0m, in \u001b[0;36mError.hand_to_other_handler\u001b[1;34m(connection, cursor, error_class, error_value)\u001b[0m\n\u001b[0;32m    343\u001b[0m \u001b[39mif\u001b[39;00m cursor \u001b[39mis\u001b[39;00m \u001b[39mnot\u001b[39;00m \u001b[39mNone\u001b[39;00m:\n\u001b[0;32m    344\u001b[0m     cursor\u001b[39m.\u001b[39mmessages\u001b[39m.\u001b[39mappend((error_class, error_value))\n\u001b[1;32m--> 345\u001b[0m     cursor\u001b[39m.\u001b[39;49merrorhandler(connection, cursor, error_class, error_value)\n\u001b[0;32m    346\u001b[0m     \u001b[39mreturn\u001b[39;00m \u001b[39mTrue\u001b[39;00m\n\u001b[0;32m    347\u001b[0m \u001b[39melif\u001b[39;00m connection \u001b[39mis\u001b[39;00m \u001b[39mnot\u001b[39;00m \u001b[39mNone\u001b[39;00m:\n",
      "File \u001b[1;32mc:\\Users\\tehzh\\anaconda3\\envs\\py38_env\\lib\\site-packages\\snowflake\\connector\\errors.py:221\u001b[0m, in \u001b[0;36mError.default_errorhandler\u001b[1;34m(connection, cursor, error_class, error_value)\u001b[0m\n\u001b[0;32m    219\u001b[0m errno \u001b[39m=\u001b[39m error_value\u001b[39m.\u001b[39mget(\u001b[39m\"\u001b[39m\u001b[39merrno\u001b[39m\u001b[39m\"\u001b[39m)\n\u001b[0;32m    220\u001b[0m done_format_msg \u001b[39m=\u001b[39m error_value\u001b[39m.\u001b[39mget(\u001b[39m\"\u001b[39m\u001b[39mdone_format_msg\u001b[39m\u001b[39m\"\u001b[39m)\n\u001b[1;32m--> 221\u001b[0m \u001b[39mraise\u001b[39;00m error_class(\n\u001b[0;32m    222\u001b[0m     msg\u001b[39m=\u001b[39merror_value\u001b[39m.\u001b[39mget(\u001b[39m\"\u001b[39m\u001b[39mmsg\u001b[39m\u001b[39m\"\u001b[39m),\n\u001b[0;32m    223\u001b[0m     errno\u001b[39m=\u001b[39m\u001b[39mNone\u001b[39;00m \u001b[39mif\u001b[39;00m errno \u001b[39mis\u001b[39;00m \u001b[39mNone\u001b[39;00m \u001b[39melse\u001b[39;00m \u001b[39mint\u001b[39m(errno),\n\u001b[0;32m    224\u001b[0m     sqlstate\u001b[39m=\u001b[39merror_value\u001b[39m.\u001b[39mget(\u001b[39m\"\u001b[39m\u001b[39msqlstate\u001b[39m\u001b[39m\"\u001b[39m),\n\u001b[0;32m    225\u001b[0m     sfqid\u001b[39m=\u001b[39merror_value\u001b[39m.\u001b[39mget(\u001b[39m\"\u001b[39m\u001b[39msfqid\u001b[39m\u001b[39m\"\u001b[39m),\n\u001b[0;32m    226\u001b[0m     query\u001b[39m=\u001b[39merror_value\u001b[39m.\u001b[39mget(\u001b[39m\"\u001b[39m\u001b[39mquery\u001b[39m\u001b[39m\"\u001b[39m),\n\u001b[0;32m    227\u001b[0m     done_format_msg\u001b[39m=\u001b[39m(\n\u001b[0;32m    228\u001b[0m         \u001b[39mNone\u001b[39;00m \u001b[39mif\u001b[39;00m done_format_msg \u001b[39mis\u001b[39;00m \u001b[39mNone\u001b[39;00m \u001b[39melse\u001b[39;00m \u001b[39mbool\u001b[39m(done_format_msg)\n\u001b[0;32m    229\u001b[0m     ),\n\u001b[0;32m    230\u001b[0m     connection\u001b[39m=\u001b[39mconnection,\n\u001b[0;32m    231\u001b[0m     cursor\u001b[39m=\u001b[39mcursor,\n\u001b[0;32m    232\u001b[0m )\n",
      "\u001b[1;31mSnowparkSQLException\u001b[0m: (1304): 01ad85d8-3200-c882-0004-ff0e00030006: 002003 (42S02): SQL compilation error:\nObject 'NPS_COMPARE' does not exist or not authorized."
     ]
    }
   ],
   "source": [
    "NPS_COMPARE.show()"
   ]
  },
  {
   "cell_type": "code",
   "execution_count": 151,
   "metadata": {},
   "outputs": [
    {
     "name": "stdout",
     "output_type": "stream",
     "text": [
      "---------------------------------------------------------------------------------------------------------------------------------------------------------------------------------------------------------------------------------------------------------------------------------------------------------\n",
      "|\"CUSTOMER_ID\"  |\"CITY\"  |\"DATE\"      |\"ORDER_TOTAL\"  |\"TOTAL_QUANTITY\"  |\"DAYS_TO_NEXT_ORDER\"  |\"DAYS_SINCE_PRIOR_ORDER\"  |\"AVG_DAYS_BETWEEN_PURCHASES\"  |\"MAX_DAYS_WITHOUT_ITEM\"  |\"MIN_DAYS_WITHOUT_ITEM\"  |\"FREQUENCY\"  |\"MONETARYVALUE\"  |\"TIME_OF_DAY\"  |\"AGE\"  |\"YEAR\"  |\"MONTH\"  |\"YEAR_MONTH\"  |\n",
      "---------------------------------------------------------------------------------------------------------------------------------------------------------------------------------------------------------------------------------------------------------------------------------------------------------\n",
      "|172662         |Delhi   |2020-03-31  |12.0000        |2                 |60                    |8                         |8                             |8                        |8                        |1            |12.0000          |morning        |76     |2020    |3        |20203         |\n",
      "|172662         |Delhi   |2020-05-30  |17.0000        |3                 |77                    |60                        |34                            |60                       |8                        |2            |29.0000          |afternoon      |76     |2020    |5        |20205         |\n",
      "|172662         |Delhi   |2020-08-15  |50.0000        |3                 |43                    |77                        |48                            |77                       |8                        |3            |79.0000          |morning        |76     |2020    |8        |20208         |\n",
      "|172662         |Delhi   |2020-09-27  |12.0000        |2                 |25                    |43                        |47                            |77                       |8                        |4            |91.0000          |evening        |76     |2020    |9        |20209         |\n",
      "|172662         |Delhi   |2020-10-22  |31.0000        |2                 |13                    |25                        |43                            |77                       |8                        |5            |122.0000         |afternoon      |76     |2020    |10       |202010        |\n",
      "|172662         |Delhi   |2020-11-04  |36.0000        |2                 |9                     |13                        |38                            |77                       |8                        |6            |158.0000         |afternoon      |76     |2020    |11       |202011        |\n",
      "|172662         |Delhi   |2020-11-13  |42.0000        |4                 |27                    |9                         |34                            |77                       |8                        |7            |200.0000         |evening        |76     |2020    |11       |202011        |\n",
      "|172662         |Delhi   |2020-12-10  |12.0000        |2                 |11                    |27                        |33                            |77                       |8                        |8            |212.0000         |morning        |76     |2020    |12       |202012        |\n",
      "|172662         |Delhi   |2020-12-21  |33.5000        |4                 |33                    |11                        |30                            |77                       |8                        |9            |245.5000         |afternoon      |76     |2020    |12       |202012        |\n",
      "|172662         |Delhi   |2021-01-23  |40.0000        |7                 |62                    |33                        |31                            |77                       |8                        |10           |285.5000         |morning        |76     |2021    |1        |20211         |\n",
      "---------------------------------------------------------------------------------------------------------------------------------------------------------------------------------------------------------------------------------------------------------------------------------------------------------\n",
      "\n"
     ]
    }
   ],
   "source": [
    "NPS_COMPARE = NPS_COMPARE.with_column(\"YEAR\", F.year(\"DATE\"))\n",
    "NPS_COMPARE = NPS_COMPARE.with_column(\"MONTH\", F.month(\"DATE\"))\n",
    "NPS_COMPARE = NPS_COMPARE.with_column(\"YEAR_MONTH\", F.concat(F.col(\"YEAR\"), F.col(\"MONTH\")))\n",
    "NPS_COMPARE.show()"
   ]
  },
  {
   "cell_type": "code",
   "execution_count": 166,
   "metadata": {},
   "outputs": [
    {
     "name": "stdout",
     "output_type": "stream",
     "text": [
      "--------------------------------------\n",
      "|\"YEAR\"  |\"AVG(DAYS_TO_NEXT_ORDER)\"  |\n",
      "--------------------------------------\n",
      "|2019    |43.885027                  |\n",
      "|2020    |24.773306                  |\n",
      "|2022    |12.569290                  |\n",
      "|2021    |16.843626                  |\n",
      "--------------------------------------\n",
      "\n",
      "----------------------------------------\n",
      "|\"SURVEY_TS_YEAR\"  |\"AVG(NPS_SCORE)\"   |\n",
      "----------------------------------------\n",
      "|2023              |70.0               |\n",
      "|2019              |89.78290366350068  |\n",
      "|2020              |82.65104808877929  |\n",
      "|2021              |70.78996630475477  |\n",
      "|2022              |73.91523935002196  |\n",
      "----------------------------------------\n",
      "\n",
      "---------------------------------------\n",
      "|\"MONTH\"  |\"AVG(DAYS_TO_NEXT_ORDER)\"  |\n",
      "---------------------------------------\n",
      "|7        |17.482664                  |\n",
      "|1        |18.871947                  |\n",
      "|5        |17.842351                  |\n",
      "|4        |18.088972                  |\n",
      "|9        |16.592366                  |\n",
      "|2        |19.060879                  |\n",
      "|10       |15.816426                  |\n",
      "|8        |17.022887                  |\n",
      "|12       |18.995870                  |\n",
      "|6        |17.525412                  |\n",
      "---------------------------------------\n",
      "\n",
      "-----------------------------------------\n",
      "|\"SURVEY_TS_MONTH\"  |\"AVG(NPS_SCORE)\"   |\n",
      "-----------------------------------------\n",
      "|1                  |77.3211009174312   |\n",
      "|5                  |73.8928210313448   |\n",
      "|2                  |79.09722222222223  |\n",
      "|7                  |73.42359767891683  |\n",
      "|10                 |78.1470588235294   |\n",
      "|3                  |75.85144927536231  |\n",
      "|4                  |76.62244897959184  |\n",
      "|8                  |74.87179487179488  |\n",
      "|6                  |75.06467661691542  |\n",
      "|11                 |78.18380743982495  |\n",
      "-----------------------------------------\n",
      "\n",
      "------------------------------------------------\n",
      "|\"YEAR\"  |\"MONTH\"  |\"AVG(DAYS_TO_NEXT_ORDER)\"  |\n",
      "------------------------------------------------\n",
      "|2020    |12       |20.739423                  |\n",
      "|2021    |11       |14.707342                  |\n",
      "|2019    |4        |77.666835                  |\n",
      "|2020    |7        |24.714787                  |\n",
      "|2021    |9        |15.519572                  |\n",
      "|2019    |5        |67.769028                  |\n",
      "|2020    |11       |21.382089                  |\n",
      "|2022    |9        |11.438550                  |\n",
      "|2020    |10       |22.150312                  |\n",
      "|2020    |3        |29.322378                  |\n",
      "------------------------------------------------\n",
      "\n",
      "------------------------------------------------------------\n",
      "|\"SURVEY_TS_YEAR\"  |\"SURVEY_TS_MONTH\"  |\"AVG(NPS_SCORE)\"   |\n",
      "------------------------------------------------------------\n",
      "|2023              |1                  |70.0               |\n",
      "|2019              |4                  |88.14814814814815  |\n",
      "|2020              |5                  |83.00813008130082  |\n",
      "|2020              |8                  |81.7605633802817   |\n",
      "|2021              |6                  |66.37096774193549  |\n",
      "|2022              |2                  |74.90384615384616  |\n",
      "|2019              |8                  |88.7128712871287   |\n",
      "|2019              |11                 |83.05555555555556  |\n",
      "|2020              |9                  |81.71641791044776  |\n",
      "|2020              |11                 |83.74045801526718  |\n",
      "------------------------------------------------------------\n",
      "\n"
     ]
    }
   ],
   "source": [
    "AVG_NPDR_YEAR = NPS_COMPARE.groupBy(F.col(\"YEAR\")).agg(F.avg('\"DAYS_TO_NEXT_ORDER\"'))\n",
    "AVG_NPDR_MONTH = NPS_COMPARE.groupBy(F.col(\"MONTH\")).agg(F.avg('\"DAYS_TO_NEXT_ORDER\"'))\n",
    "AVG_NPDR_YM = NPS_COMPARE.groupBy(F.col(\"YEAR\"),F.col(\"MONTH\")).agg(F.avg('\"DAYS_TO_NEXT_ORDER\"'))\n",
    "AVG_NPDR_YEAR.show()\n",
    "AVG_NPS_SCORE_YEAR.show()\n",
    "AVG_NPDR_MONTH.show()\n",
    "AVG_NPS_SCORE_MONTH.show()\n",
    "AVG_NPDR_YM.show()\n",
    "AVG_NPS_SCORE_YM.show()"
   ]
  },
  {
   "cell_type": "code",
   "execution_count": 153,
   "metadata": {},
   "outputs": [
    {
     "name": "stdout",
     "output_type": "stream",
     "text": [
      "-------------------------------\n",
      "|\"YEAR\"  |\"AVG(ORDER_TOTAL)\"  |\n",
      "-------------------------------\n",
      "|2021    |41.1477210996       |\n",
      "|2020    |41.4189057943       |\n",
      "|2022    |40.2805051052       |\n",
      "|2019    |37.1881657206       |\n",
      "-------------------------------\n",
      "\n"
     ]
    }
   ],
   "source": [
    "AVG_SPEND_YEAR = NPS_COMPARE.group_by(F.col(\"YEAR\")).agg(F.avg(\"ORDER_TOTAL\"))\n",
    "AVG_SPEND_YEAR.show()"
   ]
  },
  {
   "cell_type": "code",
   "execution_count": 155,
   "metadata": {},
   "outputs": [
    {
     "name": "stdout",
     "output_type": "stream",
     "text": [
      "------------------------------------------\n",
      "|\"YEAR\"  |\"COUNT(DISTINCT CUSTOMER_ID)\"  |\n",
      "------------------------------------------\n",
      "|2020    |221757                         |\n",
      "|2021    |222540                         |\n",
      "|2019    |100903                         |\n",
      "|2022    |222540                         |\n",
      "------------------------------------------\n",
      "\n"
     ]
    }
   ],
   "source": [
    "CUSTOMER_BY_YEAR = NPS_COMPARE.group_by(F.col(\"YEAR\")).agg(F.count_distinct(\"CUSTOMER_ID\"))\n",
    "CUSTOMER_BY_YEAR.show()"
   ]
  },
  {
   "attachments": {},
   "cell_type": "markdown",
   "metadata": {},
   "source": [
    "--------------------------------------\n",
    "|\"YEAR\"  |\"AVG(DAYS_TO_NEXT_ORDER)\"  |\n",
    "--------------------------------------\n",
    "|2019    |43.885027                  |\n",
    "|2020    |24.773306                  |\n",
    "|2022    |12.569290                  |\n",
    "|2021    |16.843626                  |\n",
    "--------------------------------------"
   ]
  },
  {
   "cell_type": "code",
   "execution_count": 156,
   "metadata": {},
   "outputs": [
    {
     "name": "stdout",
     "output_type": "stream",
     "text": [
      "---------------------------------\n",
      "|\"COUNT(DISTINCT CUSTOMER_ID)\"  |\n",
      "---------------------------------\n",
      "|222540                         |\n",
      "---------------------------------\n",
      "\n"
     ]
    }
   ],
   "source": [
    "CUSTOMER_UNIQUE = NPS_COMPARE.agg(F.count_distinct(\"CUSTOMER_ID\"))\n",
    "CUSTOMER_UNIQUE.show()"
   ]
  },
  {
   "cell_type": "code",
   "execution_count": 170,
   "metadata": {},
   "outputs": [
    {
     "name": "stdout",
     "output_type": "stream",
     "text": [
      "-----------------------------------------\n",
      "|\"YEAR\"  |\"MONTH\"  |\"AVG(ORDER_TOTAL)\"  |\n",
      "-----------------------------------------\n",
      "|2020    |6        |40.9930506501       |\n",
      "|2022    |7        |40.2391587444       |\n",
      "|2020    |12       |42.0042184028       |\n",
      "|2021    |11       |41.1920454646       |\n",
      "|2019    |4        |35.9820344130       |\n",
      "|2021    |12       |41.1608334972       |\n",
      "|2020    |3        |40.9749306408       |\n",
      "|2020    |11       |41.9235477415       |\n",
      "|2020    |10       |42.0323526472       |\n",
      "|2021    |2        |40.9168982283       |\n",
      "-----------------------------------------\n",
      "\n",
      "-----------------------------------------\n",
      "|\"YEAR\"  |\"MONTH\"  |\"SUM(ORDER_TOTAL)\"  |\n",
      "-----------------------------------------\n",
      "|2020    |6        |9401264.2500        |\n",
      "|2020    |12       |13382712.0000       |\n",
      "|2021    |11       |18665928.2500       |\n",
      "|2019    |4        |213301.5000         |\n",
      "|2020    |11       |12505542.7500       |\n",
      "|2021    |12       |19045652.7500       |\n",
      "|2022    |7        |21768942.2500       |\n",
      "|2022    |2        |17527227.7500       |\n",
      "|2021    |7        |16620161.2500       |\n",
      "|2020    |8        |10945427.7500       |\n",
      "-----------------------------------------\n",
      "\n",
      "------------------------------------------------\n",
      "|\"YEAR\"  |\"MONTH\"  |\"AVG(DAYS_TO_NEXT_ORDER)\"  |\n",
      "------------------------------------------------\n",
      "|2020    |12       |20.739423                  |\n",
      "|2021    |11       |14.707342                  |\n",
      "|2019    |4        |77.666835                  |\n",
      "|2020    |7        |24.714787                  |\n",
      "|2021    |9        |15.519572                  |\n",
      "|2019    |5        |67.769028                  |\n",
      "|2020    |11       |21.382089                  |\n",
      "|2022    |9        |11.438550                  |\n",
      "|2020    |10       |22.150312                  |\n",
      "|2020    |3        |29.322378                  |\n",
      "------------------------------------------------\n",
      "\n",
      "--------------------------------------------------------------------------------------------------------------------\n",
      "|\"l_nac3_YEAR\"  |\"l_nac3_MONTH\"  |\"SUM(ORDER_TOTAL)\"  |\"r_y4lu_YEAR\"  |\"r_y4lu_MONTH\"  |\"AVG(DAYS_TO_NEXT_ORDER)\"  |\n",
      "--------------------------------------------------------------------------------------------------------------------\n",
      "|2020           |11              |12505542.7500       |2020           |11              |21.382089                  |\n",
      "|2019           |9               |1989693.0000        |2019           |9               |43.228522                  |\n",
      "|2020           |5               |9263361.2500        |2020           |5               |26.446154                  |\n",
      "|2019           |2               |20881.5000          |2019           |2               |108.026820                 |\n",
      "|2022           |9               |20604796.5000       |2022           |9               |11.438550                  |\n",
      "|2020           |6               |9401264.2500        |2020           |6               |25.202461                  |\n",
      "|2020           |3               |7576551.5000        |2020           |3               |29.322378                  |\n",
      "|2021           |7               |16620161.2500       |2021           |7               |16.780414                  |\n",
      "|2020           |8               |10945427.7500       |2020           |8               |23.566927                  |\n",
      "|2022           |7               |21768942.2500       |2022           |7               |12.429537                  |\n",
      "--------------------------------------------------------------------------------------------------------------------\n",
      "\n"
     ]
    }
   ],
   "source": [
    "AVG_SALES_YM = NPS_COMPARE.groupBy(F.col(\"YEAR\"),F.col(\"MONTH\")).agg(F.avg('\"ORDER_TOTAL\"'))\n",
    "SUM_SALES_YM = NPS_COMPARE.groupBy(F.col(\"YEAR\"),F.col(\"MONTH\")).agg(F.sum('\"ORDER_TOTAL\"'))\n",
    "\n",
    "AVG_SALES_YM.show()\n",
    "SUM_SALES_YM.show()\n",
    "AVG_NPDR_YM.show()\n",
    "\n",
    "temp = SUM_SALES_YM.join(AVG_NPDR_YM, (SUM_SALES_YM[\"YEAR\"] == AVG_NPDR_YM[\"YEAR\"])&(SUM_SALES_YM[\"MONTH\"] == AVG_NPDR_YM[\"MONTH\"]))\n",
    "temp.show()"
   ]
  }
 ],
 "metadata": {
  "kernelspec": {
   "display_name": "py38_env",
   "language": "python",
   "name": "python3"
  },
  "language_info": {
   "codemirror_mode": {
    "name": "ipython",
    "version": 3
   },
   "file_extension": ".py",
   "mimetype": "text/x-python",
   "name": "python",
   "nbconvert_exporter": "python",
   "pygments_lexer": "ipython3",
   "version": "3.8.16"
  },
  "orig_nbformat": 4
 },
 "nbformat": 4,
 "nbformat_minor": 2
}
