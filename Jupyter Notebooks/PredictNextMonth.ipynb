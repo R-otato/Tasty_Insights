{
 "cells": [
  {
   "cell_type": "code",
   "execution_count": 1,
   "metadata": {},
   "outputs": [],
   "source": [
    "#Import Python packages\n",
    "import pandas as pd\n",
    "import json\n",
    "import matplotlib.pyplot as plt\n",
    "import seaborn as sns\n",
    "import json\n",
    "import datetime\n",
    "\n",
    "# Import Snowflake modules\n",
    "from snowflake.snowpark import Session\n",
    "import snowflake.snowpark.functions as F\n",
    "import snowflake.snowpark.types as T\n",
    "from snowflake.snowpark import Window"
   ]
  },
  {
   "cell_type": "code",
   "execution_count": 2,
   "metadata": {},
   "outputs": [],
   "source": [
    "# Get account credentials from a json file\n",
    "with open(\"data_scientist_auth.json\") as f:\n",
    "    data = json.load(f)\n",
    "    username = data[\"username\"]\n",
    "    password = data[\"password\"]\n",
    "    account = data[\"account\"]\n",
    "\n",
    "# Specify connection parameters\n",
    "connection_parameters = {\n",
    "    \"account\": account,\n",
    "    \"user\": username,\n",
    "    \"password\": password,\n",
    "    \"role\": \"TASTY_BI\",\n",
    "    \"warehouse\": \"TASTY_BI_WH\",\n",
    "    \"database\": \"frostbyte_tasty_bytes\",\n",
    "    \"schema\": \"analytics\",\n",
    "}\n",
    "\n",
    "# Create Snowpark session\n",
    "session = Session.builder.configs(connection_parameters).create()"
   ]
  },
  {
   "cell_type": "code",
   "execution_count": 3,
   "metadata": {},
   "outputs": [],
   "source": [
    "#Function to remove and rename columns after inner join\n",
    "def remove_dup_join_col(df):\n",
    "    # capitalise all columns\n",
    "    for col in df.columns:\n",
    "        df = df.withColumnRenamed(col, col.upper())\n",
    "    \n",
    "    # get list of renamable columns for left and right join\n",
    "    left_dup_col = [col_name for col_name in df.columns if col_name.startswith('L_')]\n",
    "    right_dup_col = [col_name for col_name in df.columns if col_name.startswith('R_')]\n",
    "    old_columns = df.columns\n",
    "    \n",
    "    # rename the list with the most number of renamable columns\n",
    "    # drop the list of columns with less number of renamable columns\n",
    "    if len(left_dup_col)>len(right_dup_col):\n",
    "        columns_rename=left_dup_col\n",
    "        df= df.drop(*right_dup_col)\n",
    "    else:\n",
    "        columns_rename=right_dup_col\n",
    "        df= df.drop(*left_dup_col)\n",
    "    \n",
    "    for old_column in old_columns:\n",
    "        if old_column in columns_rename:\n",
    "            # get string to remove\n",
    "            string_to_replace = columns_rename[0][:7]\n",
    "            # replace starting string\n",
    "            new_column = old_column.replace(string_to_replace, \"\")\n",
    "            df = df.withColumnRenamed(old_column, new_column)\n",
    "    \n",
    "    return df"
   ]
  },
  {
   "cell_type": "code",
   "execution_count": 4,
   "metadata": {},
   "outputs": [],
   "source": [
    "orders_df = session.table(\"tran_anal\")"
   ]
  },
  {
   "cell_type": "code",
   "execution_count": 5,
   "metadata": {},
   "outputs": [
    {
     "name": "stdout",
     "output_type": "stream",
     "text": [
      "-----------------------------------------------------------------------------------------------------------------------------------------------------------------------------------------------------------------------------------------------------------------------------------------------------------------------------------------------------------------------------------------------------------------------------------------------------------------------------------------------------------------------------------------------\n",
      "|\"ORDER_ID\"  |\"TRUCK_ID\"  |\"LOCATION_ID\"  |\"DISCOUNT_ID\"  |\"SHIFT_ID\"  |\"SHIFT_START_TIME\"  |\"SHIFT_END_TIME\"  |\"ORDER_CHANNEL\"  |\"ORDER_TS\"           |\"SERVED_TS\"  |\"ORDER_CURRENCY\"  |\"ORDER_AMOUNT\"  |\"ORDER_TAX_AMOUNT\"  |\"ORDER_DISCOUNT_AMOUNT\"  |\"ORDER_TOTAL\"  |\"CUSTOMER_ID\"  |\"FIRST_NAME\"  |\"LAST_NAME\"  |\"CITY\"  |\"COUNTRY\"  |\"POSTAL_CODE\"  |\"PREFERRED_LANGUAGE\"  |\"GENDER\"  |\"FAVOURITE_BRAND\"  |\"MARITAL_STATUS\"  |\"CHILDREN_COUNT\"  |\"SIGN_UP_DATE\"  |\"BIRTHDAY_DATE\"  |\"E_MAIL\"                  |\"PHONE_NUMBER\"  |\"DTNO\"  |\n",
      "-----------------------------------------------------------------------------------------------------------------------------------------------------------------------------------------------------------------------------------------------------------------------------------------------------------------------------------------------------------------------------------------------------------------------------------------------------------------------------------------------------------------------------------------------\n",
      "|120162899   |275         |13820.0        |NULL           |282714      |08:00:00            |14:00:00          |NULL             |2020-02-08 11:10:02  |NULL         |USD               |69.0000         |NULL                |NULL                     |69.0000        |99833          |Curtis        |Maldonado    |Sydney  |Australia  |2055           |English               |Female    |NULL               |Married           |1                 |2019-06-30      |1964-07-10       |Curtis.Maldonado@aol.com  |579-971-5554    |49      |\n",
      "|120368745   |285         |7753.0         |NULL           |283013      |16:00:00            |23:00:00          |NULL             |2020-03-28 20:20:37  |NULL         |USD               |49.0000         |NULL                |NULL                     |49.0000        |99833          |Curtis        |Maldonado    |Sydney  |Australia  |2055           |English               |Female    |NULL               |Married           |1                 |2019-06-30      |1964-07-10       |Curtis.Maldonado@aol.com  |579-971-5554    |38      |\n",
      "|120524421   |279         |7715.0         |NULL           |283238      |08:00:00            |14:00:00          |NULL             |2020-05-05 12:39:11  |NULL         |USD               |49.0000         |NULL                |NULL                     |49.0000        |99833          |Curtis        |Maldonado    |Sydney  |Australia  |2055           |English               |Female    |NULL               |Married           |1                 |2019-06-30      |1964-07-10       |Curtis.Maldonado@aol.com  |579-971-5554    |5       |\n",
      "|120546104   |279         |12682.0        |NULL           |283269      |15:00:00            |22:00:00          |NULL             |2020-05-10 18:33:08  |NULL         |USD               |57.0000         |NULL                |NULL                     |57.0000        |99833          |Curtis        |Maldonado    |Sydney  |Australia  |2055           |English               |Female    |NULL               |Married           |1                 |2019-06-30      |1964-07-10       |Curtis.Maldonado@aol.com  |579-971-5554    |3       |\n",
      "|120559947   |285         |7663.0         |NULL           |283289      |15:00:00            |22:00:00          |NULL             |2020-05-13 18:04:25  |NULL         |USD               |77.0000         |NULL                |NULL                     |77.0000        |99833          |Curtis        |Maldonado    |Sydney  |Australia  |2055           |English               |Female    |NULL               |Married           |1                 |2019-06-30      |1964-07-10       |Curtis.Maldonado@aol.com  |579-971-5554    |36      |\n",
      "|120708429   |279         |7664.0         |NULL           |283503      |16:00:00            |23:00:00          |NULL             |2020-06-18 21:34:51  |NULL         |USD               |20.0000         |NULL                |NULL                     |20.0000        |99833          |Curtis        |Maldonado    |Sydney  |Australia  |2055           |English               |Female    |NULL               |Married           |1                 |2019-06-30      |1964-07-10       |Curtis.Maldonado@aol.com  |579-971-5554    |72      |\n",
      "|121009760   |279         |10081.0        |NULL           |283934      |08:00:00            |14:00:00          |NULL             |2020-08-29 11:39:31  |NULL         |USD               |107.0000        |NULL                |NULL                     |107.0000       |99833          |Curtis        |Maldonado    |Sydney  |Australia  |2055           |English               |Female    |NULL               |Married           |1                 |2019-06-30      |1964-07-10       |Curtis.Maldonado@aol.com  |579-971-5554    |12      |\n",
      "|121062179   |285         |7749.0         |NULL           |284009      |16:00:00            |23:00:00          |NULL             |2020-09-10 16:35:14  |NULL         |USD               |11.0000         |NULL                |NULL                     |11.0000        |99833          |Curtis        |Maldonado    |Sydney  |Australia  |2055           |English               |Female    |NULL               |Married           |1                 |2019-06-30      |1964-07-10       |Curtis.Maldonado@aol.com  |579-971-5554    |55      |\n",
      "|121385523   |275         |11141.0        |NULL           |284473      |15:30:00            |22:30:00          |NULL             |2020-11-04 18:48:10  |NULL         |USD               |75.0000         |NULL                |NULL                     |75.0000        |99833          |Curtis        |Maldonado    |Sydney  |Australia  |2055           |English               |Female    |NULL               |Married           |1                 |2019-06-30      |1964-07-10       |Curtis.Maldonado@aol.com  |579-971-5554    |92      |\n",
      "|122029345   |283         |7686.0         |NULL           |285396      |08:30:00            |14:30:00          |NULL             |2021-02-04 10:42:05  |NULL         |USD               |48.0000         |NULL                |NULL                     |48.0000        |99833          |Curtis        |Maldonado    |Sydney  |Australia  |2055           |English               |Female    |NULL               |Married           |1                 |2019-06-30      |1964-07-10       |Curtis.Maldonado@aol.com  |579-971-5554    |16      |\n",
      "-----------------------------------------------------------------------------------------------------------------------------------------------------------------------------------------------------------------------------------------------------------------------------------------------------------------------------------------------------------------------------------------------------------------------------------------------------------------------------------------------------------------------------------------------\n",
      "\n"
     ]
    }
   ],
   "source": [
    "orders_df.show()"
   ]
  },
  {
   "cell_type": "code",
   "execution_count": 6,
   "metadata": {},
   "outputs": [
    {
     "name": "stdout",
     "output_type": "stream",
     "text": [
      "----------------------------------------------------------------------------------------------------------------------------------------------------------------------------------------------------------------------------------------------------------------------------------------------------------------------------------------------------------------------------------------------------------------------------------------------------------------------------------------------------------------------------------------------------------\n",
      "|\"ORDER_ID\"  |\"TRUCK_ID\"  |\"LOCATION_ID\"  |\"DISCOUNT_ID\"  |\"SHIFT_ID\"  |\"SHIFT_START_TIME\"  |\"SHIFT_END_TIME\"  |\"ORDER_CHANNEL\"  |\"ORDER_TS\"           |\"SERVED_TS\"  |\"ORDER_CURRENCY\"  |\"ORDER_AMOUNT\"  |\"ORDER_TAX_AMOUNT\"  |\"ORDER_DISCOUNT_AMOUNT\"  |\"ORDER_TOTAL\"  |\"CUSTOMER_ID\"  |\"FIRST_NAME\"  |\"LAST_NAME\"  |\"CITY\"         |\"COUNTRY\"      |\"POSTAL_CODE\"  |\"PREFERRED_LANGUAGE\"  |\"GENDER\"  |\"FAVOURITE_BRAND\"  |\"MARITAL_STATUS\"  |\"CHILDREN_COUNT\"  |\"SIGN_UP_DATE\"  |\"BIRTHDAY_DATE\"  |\"E_MAIL\"                  |\"PHONE_NUMBER\"  |\"DTNO\"  |\n",
      "----------------------------------------------------------------------------------------------------------------------------------------------------------------------------------------------------------------------------------------------------------------------------------------------------------------------------------------------------------------------------------------------------------------------------------------------------------------------------------------------------------------------------------------------------------\n",
      "|436044383   |73          |15201.0        |NULL           |200508585   |15:00:00            |22:00:00          |NULL             |2020-01-29 16:43:00  |NULL         |USD               |38.0000         |NULL                |NULL                     |38.0000        |17725          |Marlene       |Cuevas       |New York City  |United States  |10467          |English               |Female    |NULL               |Married           |1                 |2019-12-12      |1947-06-09       |Marlene.Cuevas@ymail.com  |652-718-4202    |97      |\n",
      "|436328069   |73          |5212.0         |NULL           |200508973   |15:30:00            |22:30:00          |NULL             |2020-05-05 18:17:15  |NULL         |USD               |65.0000         |NULL                |NULL                     |65.0000        |17725          |Marlene       |Cuevas       |New York City  |United States  |10467          |English               |Female    |NULL               |Married           |1                 |2019-12-12      |1947-06-09       |Marlene.Cuevas@ymail.com  |652-718-4202    |64      |\n",
      "|436514358   |67          |4072.0         |NULL           |200509226   |08:30:00            |14:30:00          |NULL             |2020-07-08 12:19:12  |NULL         |USD               |19.0000         |NULL                |NULL                     |19.0000        |17725          |Marlene       |Cuevas       |New York City  |United States  |10467          |English               |Female    |NULL               |Married           |1                 |2019-12-12      |1947-06-09       |Marlene.Cuevas@ymail.com  |652-718-4202    |19      |\n",
      "|436571360   |73          |3726.0         |NULL           |200509304   |08:00:00            |14:00:00          |NULL             |2020-07-27 12:41:05  |NULL         |USD               |55.0000         |NULL                |NULL                     |55.0000        |17725          |Marlene       |Cuevas       |New York City  |United States  |10467          |English               |Female    |NULL               |Married           |1                 |2019-12-12      |1947-06-09       |Marlene.Cuevas@ymail.com  |652-718-4202    |67      |\n",
      "|436772181   |73          |2068.0         |NULL           |200509578   |08:30:00            |14:30:00          |NULL             |2020-10-02 10:49:55  |NULL         |USD               |31.0000         |NULL                |NULL                     |31.0000        |17725          |Marlene       |Cuevas       |New York City  |United States  |10467          |English               |Female    |NULL               |Married           |1                 |2019-12-12      |1947-06-09       |Marlene.Cuevas@ymail.com  |652-718-4202    |2       |\n",
      "|436784591   |73          |15211.0        |NULL           |200509595   |15:00:00            |22:00:00          |NULL             |2020-10-04 18:00:59  |NULL         |USD               |13.0000         |NULL                |NULL                     |13.0000        |17725          |Marlene       |Cuevas       |New York City  |United States  |10467          |English               |Female    |NULL               |Married           |1                 |2019-12-12      |1947-06-09       |Marlene.Cuevas@ymail.com  |652-718-4202    |35      |\n",
      "|436989725   |73          |1831.0         |NULL           |200509874   |08:00:00            |14:00:00          |NULL             |2020-11-08 11:56:23  |NULL         |USD               |13.0000         |NULL                |NULL                     |13.0000        |17725          |Marlene       |Cuevas       |New York City  |United States  |10467          |English               |Female    |NULL               |Married           |1                 |2019-12-12      |1947-06-09       |Marlene.Cuevas@ymail.com  |652-718-4202    |13      |\n",
      "|437067999   |74          |2787.0         |NULL           |200509981   |15:30:00            |22:30:00          |NULL             |2020-11-21 18:23:16  |NULL         |USD               |30.0000         |NULL                |NULL                     |30.0000        |17725          |Marlene       |Cuevas       |New York City  |United States  |10467          |English               |Female    |NULL               |Married           |1                 |2019-12-12      |1947-06-09       |Marlene.Cuevas@ymail.com  |652-718-4202    |6       |\n",
      "|437099946   |71          |1906.0         |NULL           |200510025   |16:00:00            |23:00:00          |NULL             |2020-11-27 19:15:41  |NULL         |USD               |87.0000         |NULL                |NULL                     |87.0000        |17725          |Marlene       |Cuevas       |New York City  |United States  |10467          |English               |Female    |NULL               |Married           |1                 |2019-12-12      |1947-06-09       |Marlene.Cuevas@ymail.com  |652-718-4202    |49      |\n",
      "|437452150   |67          |13098.0        |NULL           |200510502   |08:00:00            |14:00:00          |NULL             |2021-01-15 11:24:14  |NULL         |USD               |7.0000          |NULL                |NULL                     |7.0000         |17725          |Marlene       |Cuevas       |New York City  |United States  |10467          |English               |Female    |NULL               |Married           |1                 |2019-12-12      |1947-06-09       |Marlene.Cuevas@ymail.com  |652-718-4202    |26      |\n",
      "----------------------------------------------------------------------------------------------------------------------------------------------------------------------------------------------------------------------------------------------------------------------------------------------------------------------------------------------------------------------------------------------------------------------------------------------------------------------------------------------------------------------------------------------------------\n",
      "\n"
     ]
    }
   ],
   "source": [
    "orders_df = orders_df.filter(F.col(\"COUNTRY\") == \"United States\")\n",
    "\n",
    "orders_df.show()"
   ]
  },
  {
   "cell_type": "code",
   "execution_count": 7,
   "metadata": {},
   "outputs": [
    {
     "name": "stdout",
     "output_type": "stream",
     "text": [
      "----------------------------------------------------------------------------------------------------------------------------------------------------------------------------------------------------------------------------------------------------------------------------------------------------------------------------------------------------------------------------------------------------------------------------------------------------------------------------------------------------------------------------------------------------------------------------------------\n",
      "|\"ORDER_ID\"  |\"TRUCK_ID\"  |\"LOCATION_ID\"  |\"DISCOUNT_ID\"  |\"SHIFT_ID\"  |\"SHIFT_START_TIME\"  |\"SHIFT_END_TIME\"  |\"ORDER_CHANNEL\"  |\"ORDER_TS\"           |\"SERVED_TS\"  |\"ORDER_CURRENCY\"  |\"ORDER_AMOUNT\"  |\"ORDER_TAX_AMOUNT\"  |\"ORDER_DISCOUNT_AMOUNT\"  |\"ORDER_TOTAL\"  |\"CUSTOMER_ID\"  |\"FIRST_NAME\"  |\"LAST_NAME\"  |\"CITY\"   |\"COUNTRY\"      |\"POSTAL_CODE\"  |\"PREFERRED_LANGUAGE\"  |\"GENDER\"     |\"FAVOURITE_BRAND\"  |\"MARITAL_STATUS\"  |\"CHILDREN_COUNT\"  |\"SIGN_UP_DATE\"  |\"BIRTHDAY_DATE\"  |\"E_MAIL\"                 |\"PHONE_NUMBER\"  |\"DTNO\"  |\"YEAR\"  |\"MONTH\"  |\"YEAR_MONTH\"  |\n",
      "----------------------------------------------------------------------------------------------------------------------------------------------------------------------------------------------------------------------------------------------------------------------------------------------------------------------------------------------------------------------------------------------------------------------------------------------------------------------------------------------------------------------------------------------------------------------------------------\n",
      "|452737773   |33          |2559.0         |NULL           |200546897   |15:30:00            |22:30:00          |NULL             |2019-10-11 21:48:36  |NULL         |USD               |12.5000         |NULL                |NULL                     |12.5000        |81902          |Amelia        |Reynolds     |Seattle  |United States  |98185          |English               |Undisclosed  |NULL               |Married           |2                 |2020-04-10      |1963-01-25       |Amelia.Reynolds@aol.com  |903-030-2107    |15      |2019    |10       |201910        |\n",
      "|452743140   |33          |9634.0         |NULL           |200546926   |08:00:00            |14:00:00          |NULL             |2019-10-26 13:33:53  |NULL         |USD               |83.5000         |NULL                |NULL                     |83.5000        |81902          |Amelia        |Reynolds     |Seattle  |United States  |98185          |English               |Undisclosed  |NULL               |Married           |2                 |2020-04-10      |1963-01-25       |Amelia.Reynolds@aol.com  |903-030-2107    |6       |2019    |10       |201910        |\n",
      "|452745806   |33          |15014.0        |NULL           |200546939   |16:00:00            |23:00:00          |NULL             |2019-11-01 20:14:52  |NULL         |USD               |35.0000         |NULL                |NULL                     |35.0000        |81902          |Amelia        |Reynolds     |Seattle  |United States  |98185          |English               |Undisclosed  |NULL               |Married           |2                 |2020-04-10      |1963-01-25       |Amelia.Reynolds@aol.com  |903-030-2107    |22      |2019    |11       |201911        |\n",
      "|452754365   |33          |1677.0         |NULL           |200546982   |09:00:00            |15:00:00          |NULL             |2019-11-23 12:55:43  |NULL         |USD               |34.5000         |NULL                |NULL                     |34.5000        |81902          |Amelia        |Reynolds     |Seattle  |United States  |98185          |English               |Undisclosed  |NULL               |Married           |2                 |2020-04-10      |1963-01-25       |Amelia.Reynolds@aol.com  |903-030-2107    |55      |2019    |11       |201911        |\n",
      "|452778989   |33          |3889.0         |NULL           |200547127   |15:00:00            |22:00:00          |NULL             |2020-01-17 17:21:58  |NULL         |USD               |10.0000         |NULL                |NULL                     |10.0000        |81902          |Amelia        |Reynolds     |Seattle  |United States  |98185          |English               |Undisclosed  |NULL               |Married           |2                 |2020-04-10      |1963-01-25       |Amelia.Reynolds@aol.com  |903-030-2107    |3       |2020    |1        |20201         |\n",
      "|452780896   |33          |1081.0         |NULL           |200547139   |15:00:00            |22:00:00          |NULL             |2020-01-20 19:44:39  |NULL         |USD               |12.5000         |NULL                |NULL                     |12.5000        |81902          |Amelia        |Reynolds     |Seattle  |United States  |98185          |English               |Undisclosed  |NULL               |Married           |2                 |2020-04-10      |1963-01-25       |Amelia.Reynolds@aol.com  |903-030-2107    |54      |2020    |1        |20201         |\n",
      "|452814309   |31          |3893.0         |NULL           |200547353   |15:00:00            |22:00:00          |NULL             |2020-03-14 17:37:37  |NULL         |USD               |6.0000          |NULL                |NULL                     |6.0000         |81902          |Amelia        |Reynolds     |Seattle  |United States  |98185          |English               |Undisclosed  |NULL               |Married           |2                 |2020-04-10      |1963-01-25       |Amelia.Reynolds@aol.com  |903-030-2107    |8       |2020    |3        |20203         |\n",
      "|452821097   |33          |8405.0         |NULL           |200547387   |15:00:00            |22:00:00          |NULL             |2020-03-22 21:46:19  |NULL         |USD               |12.5000         |NULL                |NULL                     |12.5000        |81902          |Amelia        |Reynolds     |Seattle  |United States  |98185          |English               |Undisclosed  |NULL               |Married           |2                 |2020-04-10      |1963-01-25       |Amelia.Reynolds@aol.com  |903-030-2107    |8       |2020    |3        |20203         |\n",
      "|452825670   |33          |15466.0        |NULL           |200547418   |09:00:00            |15:00:00          |NULL             |2020-03-30 13:55:07  |NULL         |USD               |25.0000         |NULL                |NULL                     |25.0000        |81902          |Amelia        |Reynolds     |Seattle  |United States  |98185          |English               |Undisclosed  |NULL               |Married           |2                 |2020-04-10      |1963-01-25       |Amelia.Reynolds@aol.com  |903-030-2107    |20      |2020    |3        |20203         |\n",
      "|452846761   |45          |1328.0         |NULL           |200547537   |15:00:00            |22:00:00          |NULL             |2020-04-19 15:56:13  |NULL         |USD               |44.0000         |NULL                |NULL                     |44.0000        |81902          |Amelia        |Reynolds     |Seattle  |United States  |98185          |English               |Undisclosed  |NULL               |Married           |2                 |2020-04-10      |1963-01-25       |Amelia.Reynolds@aol.com  |903-030-2107    |6       |2020    |4        |20204         |\n",
      "----------------------------------------------------------------------------------------------------------------------------------------------------------------------------------------------------------------------------------------------------------------------------------------------------------------------------------------------------------------------------------------------------------------------------------------------------------------------------------------------------------------------------------------------------------------------------------------\n",
      "\n"
     ]
    }
   ],
   "source": [
    "orders_df = orders_df.with_column(\"YEAR\", F.year(\"ORDER_TS\"))\n",
    "orders_df = orders_df.with_column(\"MONTH\", F.month(\"ORDER_TS\"))\n",
    "orders_df = orders_df.with_column(\"YEAR_MONTH\", F.concat(F.col(\"YEAR\"), F.col(\"MONTH\")))\n",
    "orders_df.show()"
   ]
  },
  {
   "cell_type": "code",
   "execution_count": 8,
   "metadata": {},
   "outputs": [
    {
     "name": "stdout",
     "output_type": "stream",
     "text": [
      "------------------------------------------------------------------------------------------------------------------------------------------------------------------------------------------------------------------------------------------------------------------------------------------------------------------------------------------------------------------------------------------------------------------------------------------------------------------------------------------------------------------------------------------------------------------------------------------------\n",
      "|\"ORDER_ID\"  |\"TRUCK_ID\"  |\"LOCATION_ID\"  |\"DISCOUNT_ID\"  |\"SHIFT_ID\"  |\"SHIFT_START_TIME\"  |\"SHIFT_END_TIME\"  |\"ORDER_CHANNEL\"  |\"ORDER_TS\"           |\"SERVED_TS\"  |\"ORDER_CURRENCY\"  |\"ORDER_AMOUNT\"  |\"ORDER_TAX_AMOUNT\"  |\"ORDER_DISCOUNT_AMOUNT\"  |\"ORDER_TOTAL\"  |\"CUSTOMER_ID\"  |\"FIRST_NAME\"  |\"LAST_NAME\"  |\"CITY\"   |\"COUNTRY\"      |\"POSTAL_CODE\"  |\"PREFERRED_LANGUAGE\"  |\"GENDER\"     |\"FAVOURITE_BRAND\"  |\"MARITAL_STATUS\"  |\"CHILDREN_COUNT\"  |\"SIGN_UP_DATE\"  |\"BIRTHDAY_DATE\"  |\"E_MAIL\"                 |\"PHONE_NUMBER\"  |\"DTNO\"  |\"YEAR\"  |\"MONTH\"  |\"YEAR_MONTH\"  |\"AGE\"  |\n",
      "------------------------------------------------------------------------------------------------------------------------------------------------------------------------------------------------------------------------------------------------------------------------------------------------------------------------------------------------------------------------------------------------------------------------------------------------------------------------------------------------------------------------------------------------------------------------------------------------\n",
      "|452737773   |33          |2559.0         |NULL           |200546897   |15:30:00            |22:30:00          |NULL             |2019-10-11 21:48:36  |NULL         |USD               |12.5000         |NULL                |NULL                     |12.5000        |81902          |Amelia        |Reynolds     |Seattle  |United States  |98185          |English               |Undisclosed  |NULL               |Married           |2                 |2020-04-10      |1963-01-25       |Amelia.Reynolds@aol.com  |903-030-2107    |15      |2019    |10       |201910        |59     |\n",
      "|452743140   |33          |9634.0         |NULL           |200546926   |08:00:00            |14:00:00          |NULL             |2019-10-26 13:33:53  |NULL         |USD               |83.5000         |NULL                |NULL                     |83.5000        |81902          |Amelia        |Reynolds     |Seattle  |United States  |98185          |English               |Undisclosed  |NULL               |Married           |2                 |2020-04-10      |1963-01-25       |Amelia.Reynolds@aol.com  |903-030-2107    |6       |2019    |10       |201910        |59     |\n",
      "|452745806   |33          |15014.0        |NULL           |200546939   |16:00:00            |23:00:00          |NULL             |2019-11-01 20:14:52  |NULL         |USD               |35.0000         |NULL                |NULL                     |35.0000        |81902          |Amelia        |Reynolds     |Seattle  |United States  |98185          |English               |Undisclosed  |NULL               |Married           |2                 |2020-04-10      |1963-01-25       |Amelia.Reynolds@aol.com  |903-030-2107    |22      |2019    |11       |201911        |59     |\n",
      "|452754365   |33          |1677.0         |NULL           |200546982   |09:00:00            |15:00:00          |NULL             |2019-11-23 12:55:43  |NULL         |USD               |34.5000         |NULL                |NULL                     |34.5000        |81902          |Amelia        |Reynolds     |Seattle  |United States  |98185          |English               |Undisclosed  |NULL               |Married           |2                 |2020-04-10      |1963-01-25       |Amelia.Reynolds@aol.com  |903-030-2107    |55      |2019    |11       |201911        |59     |\n",
      "|452778989   |33          |3889.0         |NULL           |200547127   |15:00:00            |22:00:00          |NULL             |2020-01-17 17:21:58  |NULL         |USD               |10.0000         |NULL                |NULL                     |10.0000        |81902          |Amelia        |Reynolds     |Seattle  |United States  |98185          |English               |Undisclosed  |NULL               |Married           |2                 |2020-04-10      |1963-01-25       |Amelia.Reynolds@aol.com  |903-030-2107    |3       |2020    |1        |20201         |59     |\n",
      "|452780896   |33          |1081.0         |NULL           |200547139   |15:00:00            |22:00:00          |NULL             |2020-01-20 19:44:39  |NULL         |USD               |12.5000         |NULL                |NULL                     |12.5000        |81902          |Amelia        |Reynolds     |Seattle  |United States  |98185          |English               |Undisclosed  |NULL               |Married           |2                 |2020-04-10      |1963-01-25       |Amelia.Reynolds@aol.com  |903-030-2107    |54      |2020    |1        |20201         |59     |\n",
      "|452814309   |31          |3893.0         |NULL           |200547353   |15:00:00            |22:00:00          |NULL             |2020-03-14 17:37:37  |NULL         |USD               |6.0000          |NULL                |NULL                     |6.0000         |81902          |Amelia        |Reynolds     |Seattle  |United States  |98185          |English               |Undisclosed  |NULL               |Married           |2                 |2020-04-10      |1963-01-25       |Amelia.Reynolds@aol.com  |903-030-2107    |8       |2020    |3        |20203         |59     |\n",
      "|452821097   |33          |8405.0         |NULL           |200547387   |15:00:00            |22:00:00          |NULL             |2020-03-22 21:46:19  |NULL         |USD               |12.5000         |NULL                |NULL                     |12.5000        |81902          |Amelia        |Reynolds     |Seattle  |United States  |98185          |English               |Undisclosed  |NULL               |Married           |2                 |2020-04-10      |1963-01-25       |Amelia.Reynolds@aol.com  |903-030-2107    |8       |2020    |3        |20203         |59     |\n",
      "|452825670   |33          |15466.0        |NULL           |200547418   |09:00:00            |15:00:00          |NULL             |2020-03-30 13:55:07  |NULL         |USD               |25.0000         |NULL                |NULL                     |25.0000        |81902          |Amelia        |Reynolds     |Seattle  |United States  |98185          |English               |Undisclosed  |NULL               |Married           |2                 |2020-04-10      |1963-01-25       |Amelia.Reynolds@aol.com  |903-030-2107    |20      |2020    |3        |20203         |59     |\n",
      "|452846761   |45          |1328.0         |NULL           |200547537   |15:00:00            |22:00:00          |NULL             |2020-04-19 15:56:13  |NULL         |USD               |44.0000         |NULL                |NULL                     |44.0000        |81902          |Amelia        |Reynolds     |Seattle  |United States  |98185          |English               |Undisclosed  |NULL               |Married           |2                 |2020-04-10      |1963-01-25       |Amelia.Reynolds@aol.com  |903-030-2107    |6       |2020    |4        |20204         |59     |\n",
      "------------------------------------------------------------------------------------------------------------------------------------------------------------------------------------------------------------------------------------------------------------------------------------------------------------------------------------------------------------------------------------------------------------------------------------------------------------------------------------------------------------------------------------------------------------------------------------------------\n",
      "\n"
     ]
    }
   ],
   "source": [
    "#Get last purchase date as a variable\n",
    "lastdate=orders_df.select(F.max('ORDER_TS')).first()[0]\n",
    "\n",
    "# get AGE variable\n",
    "orders_df = orders_df.withColumn(\"AGE\", F.datediff('year', F.col(\"BIRTHDAY_DATE\"),F.lit(lastdate)))\n",
    "orders_df.show()"
   ]
  },
  {
   "cell_type": "code",
   "execution_count": 9,
   "metadata": {},
   "outputs": [
    {
     "name": "stdout",
     "output_type": "stream",
     "text": [
      "----------------------------------------------------------------------------------------------------------------------------------------------------------------------------------------------------------------------------------------------------------------------------------------------------------------------------------------------------------------------------------------------------------------------------------------------------------------------------------------------------------------------------------------------------------------------------------------------------------\n",
      "|\"ORDER_ID\"  |\"TRUCK_ID\"  |\"LOCATION_ID\"  |\"DISCOUNT_ID\"  |\"SHIFT_ID\"  |\"SHIFT_START_TIME\"  |\"SHIFT_END_TIME\"  |\"ORDER_CHANNEL\"  |\"ORDER_TS\"           |\"SERVED_TS\"  |\"ORDER_CURRENCY\"  |\"ORDER_AMOUNT\"  |\"ORDER_TAX_AMOUNT\"  |\"ORDER_DISCOUNT_AMOUNT\"  |\"ORDER_TOTAL\"  |\"CUSTOMER_ID\"  |\"FIRST_NAME\"  |\"LAST_NAME\"  |\"CITY\"   |\"COUNTRY\"      |\"POSTAL_CODE\"  |\"PREFERRED_LANGUAGE\"  |\"GENDER\"     |\"FAVOURITE_BRAND\"  |\"MARITAL_STATUS\"  |\"CHILDREN_COUNT\"  |\"SIGN_UP_DATE\"  |\"BIRTHDAY_DATE\"  |\"E_MAIL\"                 |\"PHONE_NUMBER\"  |\"DTNO\"  |\"YEAR\"  |\"MONTH\"  |\"YEAR_MONTH\"  |\"AGE\"  |\"CHURN\"  |\n",
      "----------------------------------------------------------------------------------------------------------------------------------------------------------------------------------------------------------------------------------------------------------------------------------------------------------------------------------------------------------------------------------------------------------------------------------------------------------------------------------------------------------------------------------------------------------------------------------------------------------\n",
      "|452737773   |33          |2559.0         |NULL           |200546897   |15:30:00            |22:30:00          |NULL             |2019-10-11 21:48:36  |NULL         |USD               |12.5000         |NULL                |NULL                     |12.5000        |81902          |Amelia        |Reynolds     |Seattle  |United States  |98185          |English               |Undisclosed  |NULL               |Married           |2                 |2020-04-10      |1963-01-25       |Amelia.Reynolds@aol.com  |903-030-2107    |15      |2019    |10       |201910        |59     |1        |\n",
      "|452743140   |33          |9634.0         |NULL           |200546926   |08:00:00            |14:00:00          |NULL             |2019-10-26 13:33:53  |NULL         |USD               |83.5000         |NULL                |NULL                     |83.5000        |81902          |Amelia        |Reynolds     |Seattle  |United States  |98185          |English               |Undisclosed  |NULL               |Married           |2                 |2020-04-10      |1963-01-25       |Amelia.Reynolds@aol.com  |903-030-2107    |6       |2019    |10       |201910        |59     |0        |\n",
      "|452745806   |33          |15014.0        |NULL           |200546939   |16:00:00            |23:00:00          |NULL             |2019-11-01 20:14:52  |NULL         |USD               |35.0000         |NULL                |NULL                     |35.0000        |81902          |Amelia        |Reynolds     |Seattle  |United States  |98185          |English               |Undisclosed  |NULL               |Married           |2                 |2020-04-10      |1963-01-25       |Amelia.Reynolds@aol.com  |903-030-2107    |22      |2019    |11       |201911        |59     |1        |\n",
      "|452754365   |33          |1677.0         |NULL           |200546982   |09:00:00            |15:00:00          |NULL             |2019-11-23 12:55:43  |NULL         |USD               |34.5000         |NULL                |NULL                     |34.5000        |81902          |Amelia        |Reynolds     |Seattle  |United States  |98185          |English               |Undisclosed  |NULL               |Married           |2                 |2020-04-10      |1963-01-25       |Amelia.Reynolds@aol.com  |903-030-2107    |55      |2019    |11       |201911        |59     |1        |\n",
      "|452778989   |33          |3889.0         |NULL           |200547127   |15:00:00            |22:00:00          |NULL             |2020-01-17 17:21:58  |NULL         |USD               |10.0000         |NULL                |NULL                     |10.0000        |81902          |Amelia        |Reynolds     |Seattle  |United States  |98185          |English               |Undisclosed  |NULL               |Married           |2                 |2020-04-10      |1963-01-25       |Amelia.Reynolds@aol.com  |903-030-2107    |3       |2020    |1        |20201         |59     |0        |\n",
      "|452780896   |33          |1081.0         |NULL           |200547139   |15:00:00            |22:00:00          |NULL             |2020-01-20 19:44:39  |NULL         |USD               |12.5000         |NULL                |NULL                     |12.5000        |81902          |Amelia        |Reynolds     |Seattle  |United States  |98185          |English               |Undisclosed  |NULL               |Married           |2                 |2020-04-10      |1963-01-25       |Amelia.Reynolds@aol.com  |903-030-2107    |54      |2020    |1        |20201         |59     |1        |\n",
      "|452814309   |31          |3893.0         |NULL           |200547353   |15:00:00            |22:00:00          |NULL             |2020-03-14 17:37:37  |NULL         |USD               |6.0000          |NULL                |NULL                     |6.0000         |81902          |Amelia        |Reynolds     |Seattle  |United States  |98185          |English               |Undisclosed  |NULL               |Married           |2                 |2020-04-10      |1963-01-25       |Amelia.Reynolds@aol.com  |903-030-2107    |8       |2020    |3        |20203         |59     |0        |\n",
      "|452821097   |33          |8405.0         |NULL           |200547387   |15:00:00            |22:00:00          |NULL             |2020-03-22 21:46:19  |NULL         |USD               |12.5000         |NULL                |NULL                     |12.5000        |81902          |Amelia        |Reynolds     |Seattle  |United States  |98185          |English               |Undisclosed  |NULL               |Married           |2                 |2020-04-10      |1963-01-25       |Amelia.Reynolds@aol.com  |903-030-2107    |8       |2020    |3        |20203         |59     |0        |\n",
      "|452825670   |33          |15466.0        |NULL           |200547418   |09:00:00            |15:00:00          |NULL             |2020-03-30 13:55:07  |NULL         |USD               |25.0000         |NULL                |NULL                     |25.0000        |81902          |Amelia        |Reynolds     |Seattle  |United States  |98185          |English               |Undisclosed  |NULL               |Married           |2                 |2020-04-10      |1963-01-25       |Amelia.Reynolds@aol.com  |903-030-2107    |20      |2020    |3        |20203         |59     |1        |\n",
      "|452846761   |45          |1328.0         |NULL           |200547537   |15:00:00            |22:00:00          |NULL             |2020-04-19 15:56:13  |NULL         |USD               |44.0000         |NULL                |NULL                     |44.0000        |81902          |Amelia        |Reynolds     |Seattle  |United States  |98185          |English               |Undisclosed  |NULL               |Married           |2                 |2020-04-10      |1963-01-25       |Amelia.Reynolds@aol.com  |903-030-2107    |6       |2020    |4        |20204         |59     |0        |\n",
      "----------------------------------------------------------------------------------------------------------------------------------------------------------------------------------------------------------------------------------------------------------------------------------------------------------------------------------------------------------------------------------------------------------------------------------------------------------------------------------------------------------------------------------------------------------------------------------------------------------\n",
      "\n"
     ]
    }
   ],
   "source": [
    "churn_YN = orders_df.with_column(\"CHURN\", F.iff(F.col(\"DTNO\") > 9, \"1\", \"0\"))\n",
    "\n",
    "churn_YN.show()"
   ]
  },
  {
   "cell_type": "code",
   "execution_count": 10,
   "metadata": {},
   "outputs": [
    {
     "name": "stdout",
     "output_type": "stream",
     "text": [
      "---------------------------------------------------------\n",
      "|\"YEAR\"  |\"MONTH\"  |\"CITY\"         |\"SUM(ORDER_TOTAL)\"  |\n",
      "---------------------------------------------------------\n",
      "|2021    |10       |San Mateo      |580027.0000         |\n",
      "|2019    |12       |Denver         |194667.0000         |\n",
      "|2022    |5        |Denver         |932059.2500         |\n",
      "|2021    |3        |New York City  |536115.5000         |\n",
      "|2022    |9        |Seattle        |694222.7500         |\n",
      "|2022    |10       |San Mateo      |490403.5000         |\n",
      "|2022    |8        |New York City  |985278.7500         |\n",
      "|2019    |6        |San Mateo      |32390.0000          |\n",
      "|2021    |12       |Denver         |833850.5000         |\n",
      "|2020    |10       |San Mateo      |279131.5000         |\n",
      "---------------------------------------------------------\n",
      "\n"
     ]
    }
   ],
   "source": [
    "SUM_SALES_YM_CITY = orders_df.groupBy(F.col(\"YEAR\"),F.col(\"MONTH\"), F.col(\"CITY\")).agg(F.sum('\"ORDER_TOTAL\"'))\n",
    "SUM_SALES_YM_CITY.show()"
   ]
  },
  {
   "cell_type": "code",
   "execution_count": 11,
   "metadata": {},
   "outputs": [
    {
     "name": "stdout",
     "output_type": "stream",
     "text": [
      "----------------------------------------------------------------------------------------------\n",
      "|\"DIVIDE(SUM(CHURN), COUNT(CHURN))\"  |\"YEAR\"  |\"MONTH\"  |\"CITY\"         |\"SUM(ORDER_TOTAL)\"  |\n",
      "----------------------------------------------------------------------------------------------\n",
      "|0.5161159125571937                  |2021    |12       |Denver         |833850.5000         |\n",
      "|0.49650633734156646                 |2022    |8        |New York City  |985278.7500         |\n",
      "|0.9607376561570494                  |2019    |6        |San Mateo      |32390.0000          |\n",
      "|0.8277453091356506                  |2020    |11       |San Mateo      |250519.0000         |\n",
      "|0.6304780276086563                  |2021    |12       |San Mateo      |640553.0000         |\n",
      "|0.2653277464720898                  |2022    |10       |New York City  |828738.2500         |\n",
      "|0.6858797834963442                  |2020    |11       |Denver         |451505.0000         |\n",
      "|0.4814881623449831                  |2022    |3        |Boston         |848422.0000         |\n",
      "|0.9252130009466709                  |2020    |1        |San Mateo      |88938.0000          |\n",
      "|0.5239694656488549                  |2021    |10       |New York City  |773964.5000         |\n",
      "----------------------------------------------------------------------------------------------\n",
      "\n"
     ]
    }
   ],
   "source": [
    "churn_rate_YM_CITY = churn_YN.group_by(F.col(\"YEAR\"), F.col(\"MONTH\"), F.col(\"CITY\")).agg(F.sum(\"CHURN\")/F.count(\"CHURN\"))\n",
    "\n",
    "churn_to_sales_CITY = churn_rate_YM_CITY.join(SUM_SALES_YM_CITY, (churn_rate_YM_CITY[\"YEAR\"] == SUM_SALES_YM_CITY[\"YEAR\"]) & (churn_rate_YM_CITY[\"MONTH\"] == SUM_SALES_YM_CITY[\"MONTH\"]) & (churn_rate_YM_CITY[\"CITY\"] == SUM_SALES_YM_CITY[\"CITY\"]), how=\"inner\")\n",
    "churn_to_sales_CITY = remove_dup_join_col(churn_to_sales_CITY)\n",
    "churn_to_sales_CITY.show()"
   ]
  },
  {
   "cell_type": "code",
   "execution_count": 12,
   "metadata": {},
   "outputs": [
    {
     "name": "stdout",
     "output_type": "stream",
     "text": [
      "------------------------------------------------------------------------------------------------------------------------------\n",
      "|\"DIVIDE(SUM(CHURN), COUNT(CHURN))\"  |\"SUM(ORDER_TOTAL)\"  |\"YEAR\"  |\"MONTH\"  |\"CITY\"         |\"COUNT(DISTINCT CUSTOMER_ID)\"  |\n",
      "------------------------------------------------------------------------------------------------------------------------------\n",
      "|0.5161159125571937                  |833850.5000         |2021    |12       |Denver         |8172                           |\n",
      "|0.49650633734156646                 |985278.7500         |2022    |8        |New York City  |9296                           |\n",
      "|0.9607376561570494                  |32390.0000          |2019    |6        |San Mateo      |1554                           |\n",
      "|0.8277453091356506                  |250519.0000         |2020    |11       |San Mateo      |4932                           |\n",
      "|0.6304780276086563                  |640553.0000         |2021    |12       |San Mateo      |8498                           |\n",
      "|0.6858797834963442                  |451505.0000         |2020    |11       |Denver         |6280                           |\n",
      "|0.4814881623449831                  |848422.0000         |2022    |3        |Boston         |8506                           |\n",
      "|0.2653277464720898                  |828738.2500         |2022    |10       |New York City  |8257                           |\n",
      "|0.9252130009466709                  |88938.0000          |2020    |1        |San Mateo      |2779                           |\n",
      "|0.5417961633265459                  |785945.7500         |2021    |11       |Denver         |8028                           |\n",
      "------------------------------------------------------------------------------------------------------------------------------\n",
      "\n"
     ]
    }
   ],
   "source": [
    "churn_members = churn_YN.group_by(F.col(\"YEAR\"), F.col(\"MONTH\"), F.col(\"CITY\")).agg(F.count_distinct('CUSTOMER_ID'))\n",
    "\n",
    "churn_to_sales_CITY = churn_to_sales_CITY.join(churn_members, (churn_members[\"YEAR\"] == churn_to_sales_CITY[\"YEAR\"]) & (churn_members[\"MONTH\"] == churn_to_sales_CITY[\"MONTH\"]) & (churn_members[\"CITY\"] == churn_to_sales_CITY[\"CITY\"]), how=\"inner\")\n",
    "\n",
    "churn_to_sales_new = remove_dup_join_col(churn_to_sales_CITY)\n",
    "churn_to_sales_new.show()"
   ]
  },
  {
   "cell_type": "code",
   "execution_count": 13,
   "metadata": {},
   "outputs": [
    {
     "name": "stdout",
     "output_type": "stream",
     "text": [
      "-------------------------------------------------------------------------------------------------------------------------------------------\n",
      "|\"DIVIDE(SUM(CHURN), COUNT(CHURN))\"  |\"SUM(ORDER_TOTAL)\"  |\"COUNT(DISTINCT CUSTOMER_ID)\"  |\"YEAR\"  |\"MONTH\"  |\"CITY\"         |\"AVG(AGE)\"  |\n",
      "-------------------------------------------------------------------------------------------------------------------------------------------\n",
      "|0.4690076466316374                  |932059.2500         |8504                           |2022    |5        |Denver         |49.883506   |\n",
      "|0.6762660718971398                  |580027.0000         |8204                           |2021    |10       |San Mateo      |49.332590   |\n",
      "|0.3230442593499918                  |490403.5000         |6546                           |2022    |10       |San Mateo      |49.362486   |\n",
      "|0.46136521136521136                 |694222.7500         |6657                           |2022    |9        |Seattle        |49.278067   |\n",
      "|0.6542634580609265                  |536115.5000         |7769                           |2021    |3        |New York City  |49.375713   |\n",
      "|0.8215978334461747                  |194667.0000         |4388                           |2019    |12       |Denver         |49.613406   |\n",
      "|0.4814881623449831                  |848422.0000         |8506                           |2022    |3        |Boston         |49.078828   |\n",
      "|0.6858797834963442                  |451505.0000         |6280                           |2020    |11       |Denver         |49.842560   |\n",
      "|0.6304780276086563                  |640553.0000         |8498                           |2021    |12       |San Mateo      |49.379167   |\n",
      "|0.9252130009466709                  |88938.0000          |2779                           |2020    |1        |San Mateo      |48.982644   |\n",
      "-------------------------------------------------------------------------------------------------------------------------------------------\n",
      "\n"
     ]
    }
   ],
   "source": [
    "member_age = churn_YN.group_by(F.col(\"YEAR\"), F.col(\"MONTH\"), F.col(\"CITY\")).agg(F.avg(\"AGE\"))\n",
    "\n",
    "churn_to_sales_new = churn_to_sales_new.join(member_age, (member_age[\"YEAR\"] == churn_to_sales_new[\"YEAR\"]) & (member_age[\"MONTH\"] == churn_to_sales_new[\"MONTH\"]) & (member_age[\"CITY\"] == churn_to_sales_new[\"CITY\"]), how=\"inner\")\n",
    "\n",
    "churn_to_sales_new = remove_dup_join_col(churn_to_sales_new)\n",
    "churn_to_sales_new.show()"
   ]
  },
  {
   "cell_type": "code",
   "execution_count": 14,
   "metadata": {},
   "outputs": [
    {
     "name": "stdout",
     "output_type": "stream",
     "text": [
      "---------------------------------------------------------------------------------------------------------------\n",
      "|\"CHURN_RATE\"         |\"SALES\"       |\"DISTINCT_CUSTOMER\"  |\"YEAR\"  |\"MONTH\"  |\"CITY\"         |\"AVERAGE_AGE\"  |\n",
      "---------------------------------------------------------------------------------------------------------------\n",
      "|0.5509103169251517   |686160.0000   |7699                 |2022    |3        |Denver         |49.570649      |\n",
      "|0.4457274826789838   |1028289.7500  |8751                 |2022    |8        |Boston         |49.173171      |\n",
      "|0.5743677988927128   |476266.0000   |6224                 |2021    |5        |Seattle        |49.242631      |\n",
      "|0.5766390009898729   |481152.0000   |6160                 |2021    |8        |Seattle        |49.105840      |\n",
      "|0.45185995623632386  |778045.5000   |6854                 |2022    |8        |Seattle        |49.427217      |\n",
      "|0.48135843484680696  |874321.7500   |8507                 |2022    |4        |Boston         |49.191722      |\n",
      "|0.6663455362877329   |323942.0000   |5312                 |2020    |8        |Seattle        |49.313851      |\n",
      "|0.6207528441627854   |495825.0000   |7384                 |2021    |2        |New York City  |49.724364      |\n",
      "|0.7148904382470119   |519330.0000   |7136                 |2020    |10       |New York City  |49.923307      |\n",
      "|0.7344591643616247   |230039.5000   |4512                 |2020    |4        |Seattle        |49.399185      |\n",
      "---------------------------------------------------------------------------------------------------------------\n",
      "\n"
     ]
    }
   ],
   "source": [
    "pred = churn_to_sales_new.withColumnRenamed(\"DIVIDE(SUM(CHURN), COUNT(CHURN))\",\"CHURN_RATE\")\n",
    "pred = pred.withColumnRenamed(\"SUM(ORDER_TOTAL)\", \"SALES\")\n",
    "pred = pred.withColumnRenamed(\"COUNT(DISTINCT CUSTOMER_ID)\", \"DISTINCT_CUSTOMER\")\n",
    "pred = pred.withColumnRenamed(\"AVG(AGE)\", \"AVERAGE_AGE\")\n",
    "\n",
    "pred.show()"
   ]
  },
  {
   "cell_type": "code",
   "execution_count": 15,
   "metadata": {},
   "outputs": [],
   "source": [
    "df = pred.to_pandas()"
   ]
  },
  {
   "cell_type": "code",
   "execution_count": 16,
   "metadata": {},
   "outputs": [
    {
     "data": {
      "text/html": [
       "<div>\n",
       "<style scoped>\n",
       "    .dataframe tbody tr th:only-of-type {\n",
       "        vertical-align: middle;\n",
       "    }\n",
       "\n",
       "    .dataframe tbody tr th {\n",
       "        vertical-align: top;\n",
       "    }\n",
       "\n",
       "    .dataframe thead th {\n",
       "        text-align: right;\n",
       "    }\n",
       "</style>\n",
       "<table border=\"1\" class=\"dataframe\">\n",
       "  <thead>\n",
       "    <tr style=\"text-align: right;\">\n",
       "      <th></th>\n",
       "      <th>CHURN_RATE</th>\n",
       "      <th>SALES</th>\n",
       "      <th>DISTINCT_CUSTOMER</th>\n",
       "      <th>YEAR</th>\n",
       "      <th>MONTH</th>\n",
       "      <th>CITY</th>\n",
       "      <th>AVERAGE_AGE</th>\n",
       "    </tr>\n",
       "  </thead>\n",
       "  <tbody>\n",
       "    <tr>\n",
       "      <th>0</th>\n",
       "      <td>0.469008</td>\n",
       "      <td>932059.25</td>\n",
       "      <td>8504</td>\n",
       "      <td>2022</td>\n",
       "      <td>5</td>\n",
       "      <td>Denver</td>\n",
       "      <td>49.883506</td>\n",
       "    </tr>\n",
       "    <tr>\n",
       "      <th>1</th>\n",
       "      <td>0.676266</td>\n",
       "      <td>580027.00</td>\n",
       "      <td>8204</td>\n",
       "      <td>2021</td>\n",
       "      <td>10</td>\n",
       "      <td>San Mateo</td>\n",
       "      <td>49.332590</td>\n",
       "    </tr>\n",
       "    <tr>\n",
       "      <th>2</th>\n",
       "      <td>0.323044</td>\n",
       "      <td>490403.50</td>\n",
       "      <td>6546</td>\n",
       "      <td>2022</td>\n",
       "      <td>10</td>\n",
       "      <td>San Mateo</td>\n",
       "      <td>49.362486</td>\n",
       "    </tr>\n",
       "    <tr>\n",
       "      <th>3</th>\n",
       "      <td>0.461365</td>\n",
       "      <td>694222.75</td>\n",
       "      <td>6657</td>\n",
       "      <td>2022</td>\n",
       "      <td>9</td>\n",
       "      <td>Seattle</td>\n",
       "      <td>49.278067</td>\n",
       "    </tr>\n",
       "    <tr>\n",
       "      <th>4</th>\n",
       "      <td>0.654263</td>\n",
       "      <td>536115.50</td>\n",
       "      <td>7769</td>\n",
       "      <td>2021</td>\n",
       "      <td>3</td>\n",
       "      <td>New York City</td>\n",
       "      <td>49.375713</td>\n",
       "    </tr>\n",
       "    <tr>\n",
       "      <th>...</th>\n",
       "      <td>...</td>\n",
       "      <td>...</td>\n",
       "      <td>...</td>\n",
       "      <td>...</td>\n",
       "      <td>...</td>\n",
       "      <td>...</td>\n",
       "      <td>...</td>\n",
       "    </tr>\n",
       "    <tr>\n",
       "      <th>189</th>\n",
       "      <td>0.687888</td>\n",
       "      <td>475562.00</td>\n",
       "      <td>6829</td>\n",
       "      <td>2020</td>\n",
       "      <td>12</td>\n",
       "      <td>Boston</td>\n",
       "      <td>49.407567</td>\n",
       "    </tr>\n",
       "    <tr>\n",
       "      <th>190</th>\n",
       "      <td>0.836338</td>\n",
       "      <td>172150.00</td>\n",
       "      <td>3256</td>\n",
       "      <td>2019</td>\n",
       "      <td>11</td>\n",
       "      <td>Seattle</td>\n",
       "      <td>48.959494</td>\n",
       "    </tr>\n",
       "    <tr>\n",
       "      <th>191</th>\n",
       "      <td>0.597644</td>\n",
       "      <td>701537.00</td>\n",
       "      <td>8629</td>\n",
       "      <td>2022</td>\n",
       "      <td>7</td>\n",
       "      <td>San Mateo</td>\n",
       "      <td>49.200627</td>\n",
       "    </tr>\n",
       "    <tr>\n",
       "      <th>192</th>\n",
       "      <td>0.761827</td>\n",
       "      <td>315791.00</td>\n",
       "      <td>6092</td>\n",
       "      <td>2020</td>\n",
       "      <td>4</td>\n",
       "      <td>New York City</td>\n",
       "      <td>49.455682</td>\n",
       "    </tr>\n",
       "    <tr>\n",
       "      <th>193</th>\n",
       "      <td>0.930334</td>\n",
       "      <td>50654.50</td>\n",
       "      <td>2253</td>\n",
       "      <td>2019</td>\n",
       "      <td>7</td>\n",
       "      <td>San Mateo</td>\n",
       "      <td>49.489650</td>\n",
       "    </tr>\n",
       "  </tbody>\n",
       "</table>\n",
       "<p>194 rows × 7 columns</p>\n",
       "</div>"
      ],
      "text/plain": [
       "     CHURN_RATE      SALES  DISTINCT_CUSTOMER  YEAR  MONTH           CITY  \\\n",
       "0      0.469008  932059.25               8504  2022      5         Denver   \n",
       "1      0.676266  580027.00               8204  2021     10      San Mateo   \n",
       "2      0.323044  490403.50               6546  2022     10      San Mateo   \n",
       "3      0.461365  694222.75               6657  2022      9        Seattle   \n",
       "4      0.654263  536115.50               7769  2021      3  New York City   \n",
       "..          ...        ...                ...   ...    ...            ...   \n",
       "189    0.687888  475562.00               6829  2020     12         Boston   \n",
       "190    0.836338  172150.00               3256  2019     11        Seattle   \n",
       "191    0.597644  701537.00               8629  2022      7      San Mateo   \n",
       "192    0.761827  315791.00               6092  2020      4  New York City   \n",
       "193    0.930334   50654.50               2253  2019      7      San Mateo   \n",
       "\n",
       "    AVERAGE_AGE  \n",
       "0     49.883506  \n",
       "1     49.332590  \n",
       "2     49.362486  \n",
       "3     49.278067  \n",
       "4     49.375713  \n",
       "..          ...  \n",
       "189   49.407567  \n",
       "190   48.959494  \n",
       "191   49.200627  \n",
       "192   49.455682  \n",
       "193   49.489650  \n",
       "\n",
       "[194 rows x 7 columns]"
      ]
     },
     "execution_count": 16,
     "metadata": {},
     "output_type": "execute_result"
    }
   ],
   "source": [
    "df"
   ]
  },
  {
   "cell_type": "code",
   "execution_count": null,
   "metadata": {},
   "outputs": [],
   "source": [
    "df.to_csv(\"churn_and_sale_data.csv\", index=False)"
   ]
  },
  {
   "cell_type": "code",
   "execution_count": 17,
   "metadata": {},
   "outputs": [],
   "source": [
    "from sklearn.linear_model import LinearRegression\n",
    "from sklearn.model_selection import train_test_split"
   ]
  },
  {
   "cell_type": "code",
   "execution_count": 18,
   "metadata": {},
   "outputs": [],
   "source": [
    "# df = df.drop(axis=1, columns=\"CITY\")\n",
    "# df"
   ]
  },
  {
   "cell_type": "code",
   "execution_count": 27,
   "metadata": {},
   "outputs": [],
   "source": [
    "check = df.loc[df[\"MONTH\"]==9]\n",
    "check = check.loc[check[\"YEAR\"]==2022]\n",
    "check[[\"CITY\", \"YEAR\", \"MONTH\", \"SALES\"]].to_csv(\"last_month_sales.csv\",index=False)"
   ]
  },
  {
   "cell_type": "code",
   "execution_count": 91,
   "metadata": {},
   "outputs": [],
   "source": [
    "train_x = df.drop(axis=1, columns=[\"SALES\", \"YEAR\"])\n",
    "train_y = df[\"SALES\"]\n",
    "\n",
    "X_train, X_test, y_train, y_test = train_test_split(train_x, train_y, test_size=0.3, random_state=10)"
   ]
  },
  {
   "cell_type": "code",
   "execution_count": 94,
   "metadata": {},
   "outputs": [
    {
     "name": "stdout",
     "output_type": "stream",
     "text": [
      "69948.93045674295 (Train RMSE)\n",
      "0.9255714867910557 (Train R^2 Value)\n"
     ]
    }
   ],
   "source": [
    "from math import sqrt\n",
    "from sklearn.metrics import mean_squared_error\n",
    "\n",
    "LR = LinearRegression()\n",
    "LR.fit(X_train, y_train)\n",
    "\n",
    "y_fitted = LR.predict(X_train)\n",
    "print(sqrt(mean_squared_error(y_fitted, y_train)), '(Train RMSE)') # the lower the better\n",
    "print(LR.score(X_train, y_train), '(Train R^2 Value)') # higher better"
   ]
  },
  {
   "cell_type": "code",
   "execution_count": 95,
   "metadata": {},
   "outputs": [
    {
     "name": "stdout",
     "output_type": "stream",
     "text": [
      "93039.09927575946 (Test RMSE)\n",
      "0.8946651190403448 (Test R^2 Value)\n"
     ]
    }
   ],
   "source": [
    "y_fitted2 = LR.predict(X_test)\n",
    "print(sqrt(mean_squared_error(y_fitted2, y_test)), '(Test RMSE)') # the lower the better\n",
    "print(LR.score(X_test, y_test), '(Test R^2 Value)') # higher better"
   ]
  },
  {
   "cell_type": "code",
   "execution_count": 98,
   "metadata": {},
   "outputs": [
    {
     "data": {
      "text/plain": [
       "array([-7.38158153e+05,  7.36264000e+01,  2.58992191e+03,  3.18397288e+04])"
      ]
     },
     "execution_count": 98,
     "metadata": {},
     "output_type": "execute_result"
    }
   ],
   "source": [
    "# Coefficients of the logistic regression model\n",
    "coefficients = LR.coef_\n",
    "coefficients"
   ]
  },
  {
   "cell_type": "code",
   "execution_count": 126,
   "metadata": {},
   "outputs": [
    {
     "data": {
      "text/html": [
       "<div>\n",
       "<style scoped>\n",
       "    .dataframe tbody tr th:only-of-type {\n",
       "        vertical-align: middle;\n",
       "    }\n",
       "\n",
       "    .dataframe tbody tr th {\n",
       "        vertical-align: top;\n",
       "    }\n",
       "\n",
       "    .dataframe thead th {\n",
       "        text-align: right;\n",
       "    }\n",
       "</style>\n",
       "<table border=\"1\" class=\"dataframe\">\n",
       "  <thead>\n",
       "    <tr style=\"text-align: right;\">\n",
       "      <th></th>\n",
       "      <th>CHURN_RATE</th>\n",
       "      <th>DISTINCT_CUSTOMER</th>\n",
       "      <th>MONTH</th>\n",
       "      <th>AVERAGE_AGE</th>\n",
       "    </tr>\n",
       "  </thead>\n",
       "  <tbody>\n",
       "    <tr>\n",
       "      <th>81</th>\n",
       "      <td>0.649929</td>\n",
       "      <td>7332</td>\n",
       "      <td>12</td>\n",
       "      <td>49.447595</td>\n",
       "    </tr>\n",
       "    <tr>\n",
       "      <th>43</th>\n",
       "      <td>0.652713</td>\n",
       "      <td>8122</td>\n",
       "      <td>3</td>\n",
       "      <td>49.492447</td>\n",
       "    </tr>\n",
       "    <tr>\n",
       "      <th>58</th>\n",
       "      <td>0.731253</td>\n",
       "      <td>6458</td>\n",
       "      <td>6</td>\n",
       "      <td>49.316196</td>\n",
       "    </tr>\n",
       "    <tr>\n",
       "      <th>166</th>\n",
       "      <td>0.648108</td>\n",
       "      <td>6903</td>\n",
       "      <td>2</td>\n",
       "      <td>49.766099</td>\n",
       "    </tr>\n",
       "    <tr>\n",
       "      <th>180</th>\n",
       "      <td>0.717455</td>\n",
       "      <td>7243</td>\n",
       "      <td>5</td>\n",
       "      <td>49.346016</td>\n",
       "    </tr>\n",
       "    <tr>\n",
       "      <th>...</th>\n",
       "      <td>...</td>\n",
       "      <td>...</td>\n",
       "      <td>...</td>\n",
       "      <td>...</td>\n",
       "    </tr>\n",
       "    <tr>\n",
       "      <th>113</th>\n",
       "      <td>0.925213</td>\n",
       "      <td>2779</td>\n",
       "      <td>1</td>\n",
       "      <td>48.982644</td>\n",
       "    </tr>\n",
       "    <tr>\n",
       "      <th>64</th>\n",
       "      <td>0.697872</td>\n",
       "      <td>6243</td>\n",
       "      <td>8</td>\n",
       "      <td>49.142196</td>\n",
       "    </tr>\n",
       "    <tr>\n",
       "      <th>15</th>\n",
       "      <td>0.823013</td>\n",
       "      <td>3356</td>\n",
       "      <td>12</td>\n",
       "      <td>49.054042</td>\n",
       "    </tr>\n",
       "    <tr>\n",
       "      <th>125</th>\n",
       "      <td>0.847277</td>\n",
       "      <td>4716</td>\n",
       "      <td>7</td>\n",
       "      <td>49.069062</td>\n",
       "    </tr>\n",
       "    <tr>\n",
       "      <th>9</th>\n",
       "      <td>0.719696</td>\n",
       "      <td>6447</td>\n",
       "      <td>7</td>\n",
       "      <td>49.912862</td>\n",
       "    </tr>\n",
       "  </tbody>\n",
       "</table>\n",
       "<p>135 rows × 4 columns</p>\n",
       "</div>"
      ],
      "text/plain": [
       "     CHURN_RATE  DISTINCT_CUSTOMER  MONTH AVERAGE_AGE\n",
       "81     0.649929               7332     12   49.447595\n",
       "43     0.652713               8122      3   49.492447\n",
       "58     0.731253               6458      6   49.316196\n",
       "166    0.648108               6903      2   49.766099\n",
       "180    0.717455               7243      5   49.346016\n",
       "..          ...                ...    ...         ...\n",
       "113    0.925213               2779      1   48.982644\n",
       "64     0.697872               6243      8   49.142196\n",
       "15     0.823013               3356     12   49.054042\n",
       "125    0.847277               4716      7   49.069062\n",
       "9      0.719696               6447      7   49.912862\n",
       "\n",
       "[135 rows x 4 columns]"
      ]
     },
     "execution_count": 126,
     "metadata": {},
     "output_type": "execute_result"
    }
   ],
   "source": [
    "X_train"
   ]
  },
  {
   "cell_type": "code",
   "execution_count": 125,
   "metadata": {},
   "outputs": [
    {
     "ename": "OSError",
     "evalue": "[Errno 22] Invalid argument: 'nextMonth.jbl'",
     "output_type": "error",
     "traceback": [
      "\u001b[1;31m---------------------------------------------------------------------------\u001b[0m",
      "\u001b[1;31mOSError\u001b[0m                                   Traceback (most recent call last)",
      "Cell \u001b[1;32mIn[125], line 3\u001b[0m\n\u001b[0;32m      1\u001b[0m \u001b[39mimport\u001b[39;00m \u001b[39mjoblib\u001b[39;00m\n\u001b[1;32m----> 3\u001b[0m joblib\u001b[39m.\u001b[39;49mdump(LR, \u001b[39m'\u001b[39;49m\u001b[39mnextMonth.jbl\u001b[39;49m\u001b[39m'\u001b[39;49m)\n",
      "File \u001b[1;32mc:\\Users\\tehzh\\anaconda3\\envs\\py38_env\\lib\\site-packages\\joblib\\numpy_pickle.py:552\u001b[0m, in \u001b[0;36mdump\u001b[1;34m(value, filename, compress, protocol, cache_size)\u001b[0m\n\u001b[0;32m    550\u001b[0m         NumpyPickler(f, protocol\u001b[39m=\u001b[39mprotocol)\u001b[39m.\u001b[39mdump(value)\n\u001b[0;32m    551\u001b[0m \u001b[39melif\u001b[39;00m is_filename:\n\u001b[1;32m--> 552\u001b[0m     \u001b[39mwith\u001b[39;00m \u001b[39mopen\u001b[39;49m(filename, \u001b[39m'\u001b[39;49m\u001b[39mwb\u001b[39;49m\u001b[39m'\u001b[39;49m) \u001b[39mas\u001b[39;00m f:\n\u001b[0;32m    553\u001b[0m         NumpyPickler(f, protocol\u001b[39m=\u001b[39mprotocol)\u001b[39m.\u001b[39mdump(value)\n\u001b[0;32m    554\u001b[0m \u001b[39melse\u001b[39;00m:\n",
      "\u001b[1;31mOSError\u001b[0m: [Errno 22] Invalid argument: 'nextMonth.jbl'"
     ]
    }
   ],
   "source": [
    "import joblib\n",
    "\n",
    "joblib.dump(LR, 'nextMonth.jbl')"
   ]
  }
 ],
 "metadata": {
  "kernelspec": {
   "display_name": "py38_env",
   "language": "python",
   "name": "python3"
  },
  "language_info": {
   "codemirror_mode": {
    "name": "ipython",
    "version": 3
   },
   "file_extension": ".py",
   "mimetype": "text/x-python",
   "name": "python",
   "nbconvert_exporter": "python",
   "pygments_lexer": "ipython3",
   "version": "3.8.16"
  },
  "orig_nbformat": 4
 },
 "nbformat": 4,
 "nbformat_minor": 2
}
