{
 "cells": [
  {
   "attachments": {},
   "cell_type": "markdown",
   "id": "eaeb5653",
   "metadata": {},
   "source": [
    "![Logo.png](Images/Logo.png)\n"
   ]
  },
  {
   "attachments": {},
   "cell_type": "markdown",
   "id": "0f547ef0",
   "metadata": {},
   "source": [
    "# 1. Setup"
   ]
  },
  {
   "attachments": {},
   "cell_type": "markdown",
   "id": "9f8d1940",
   "metadata": {},
   "source": [
    "## 1.1 Import Packages"
   ]
  },
  {
   "cell_type": "code",
   "execution_count": 1,
   "id": "2b76a42a",
   "metadata": {},
   "outputs": [],
   "source": [
    "#Import Python packages\n",
    "import pandas as pd\n",
    "import json\n",
    "import matplotlib.pyplot as plt\n",
    "import seaborn as sns\n",
    "import json\n",
    "import datetime\n",
    "import numpy as np\n",
    "from matplotlib.gridspec import GridSpec\n",
    "import matplotlib.cm as cm\n",
    "import matplotlib.colors as mcolors\n",
    "\n",
    "# for splitting of the dataset\n",
    "from sklearn.model_selection import train_test_split\n",
    "\n",
    "# for encoding/transforming the data\n",
    "from feature_engine.encoding import OneHotEncoder\n",
    "from feature_engine.encoding import RareLabelEncoder\n",
    "from feature_engine.outliers import Winsorizer\n",
    "from feature_engine.transformation import YeoJohnsonTransformer\n",
    "from sklearn.preprocessing import MinMaxScaler\n",
    "\n",
    "#ML-Models: Classification\n",
    "from xgboost import XGBClassifier\n",
    "from sklearn import tree\n",
    "from sklearn.linear_model import LogisticRegression\n",
    "from sklearn. ensemble import RandomForestClassifier\n",
    "from sklearn.tree import DecisionTreeClassifier\n",
    "from sklearn. ensemble import AdaBoostClassifier\n",
    "\n",
    "#Building clustering model\n",
    "from sklearn.cluster import KMeans \n",
    "\n",
    "# for getting metrics\n",
    "from sklearn.metrics import classification_report\n",
    "from sklearn.metrics import silhouette_score,silhouette_samples\n",
    "\n",
    "# model selection\n",
    "from sklearn.model_selection import GridSearchCV\n",
    "\n",
    "# Import Snowflake modules\n",
    "from snowflake.snowpark import Session\n",
    "import snowflake.snowpark.functions as F\n",
    "import snowflake.snowpark.types as T\n",
    "from snowflake.snowpark import Window\n",
    "# Define a simple scoring function\n",
    "from cachetools import cached"
   ]
  },
  {
   "attachments": {},
   "cell_type": "markdown",
   "id": "c689510f",
   "metadata": {},
   "source": [
    "## 1.2 Connect to Snowflake"
   ]
  },
  {
   "cell_type": "code",
   "execution_count": 2,
   "id": "9140d4bb",
   "metadata": {},
   "outputs": [],
   "source": [
    "# Get account credentials from a json file\n",
    "with open(\"data_scientist_auth.json\") as f:\n",
    "    data = json.load(f)\n",
    "    username = data[\"username\"]\n",
    "    password = data[\"password\"]\n",
    "    account = data[\"account\"]\n",
    "\n",
    "# Specify connection parameters\n",
    "connection_parameters = {\n",
    "    \"account\": account,\n",
    "    \"user\": username,\n",
    "    \"password\": password,\n",
    "    \"role\": \"TASTY_BI\",\n",
    "    \"warehouse\": \"TASTY_BI_WH\",\n",
    "    \"database\": \"frostbyte_tasty_bytes\",\n",
    "    \"schema\": \"analytics\",\n",
    "}\n",
    "\n",
    "# Create Snowpark session\n",
    "session = Session.builder.configs(connection_parameters).create()"
   ]
  },
  {
   "cell_type": "code",
   "execution_count": 3,
   "id": "113c796d",
   "metadata": {},
   "outputs": [
    {
     "data": {
      "text/plain": [
       "[Row(status='Statement executed successfully.')]"
      ]
     },
     "execution_count": 3,
     "metadata": {},
     "output_type": "execute_result"
    }
   ],
   "source": [
    "session.sql(\"ALTER WAREHOUSE TASTY_BI_WH SET WAREHOUSE_SIZE = MEDIUM\").collect()"
   ]
  },
  {
   "attachments": {},
   "cell_type": "markdown",
   "id": "c3d02814",
   "metadata": {},
   "source": [
    "## 1.3 Gathering Data as Snowpark DataFrame"
   ]
  },
  {
   "cell_type": "code",
   "execution_count": 4,
   "id": "9f5810e2",
   "metadata": {},
   "outputs": [],
   "source": [
    "# Orders_V\n",
    "# contains orders, trucks, shift information\n",
    "tasty_bytes_orders_v = session.table(\"frostbyte_tasty_bytes.analytics.orders_v\")\n",
    "# Customer Loyalty\n",
    "# contains information on signed up members\n",
    "tasty_bytes_customer_loyalty = session.table(\"frostbyte_tasty_bytes.raw_customer.customer_loyalty\")\n",
    "\n",
    "locations= session.table(\"frostbyte_tasty_bytes.raw_pos.location\")\n",
    "\n",
    "menu= session.table(\"frostbyte_tasty_bytes.raw_pos.menu\")\n",
    "#Sentiment_Survey_ds\n",
    "# contains NPS score\n",
    "SENTIMENT_DATA = session.table(\"ngee_ann_polytechnic_frostbyte_data_share.raw_survey.sentiment_survey_ds\")\n",
    "# Truck information data\n",
    "TRUCK_DATA = session.table(\"NGEE_ANN_POLYTECHNIC_FROSTBYTE_DATA_SHARE.raw_pos.truck\")\n",
    "# Comparison Data\n",
    "NPS_COMPARE = session.table(\"NPS_COMPARE\")"
   ]
  },
  {
   "attachments": {},
   "cell_type": "markdown",
   "id": "461b0173",
   "metadata": {},
   "source": [
    "# 2. Data Exploration "
   ]
  },
  {
   "attachments": {},
   "cell_type": "markdown",
   "id": "bde7f4bf",
   "metadata": {},
   "source": [
    "## 2.0 Model Value Towards Tasty Byte KPI"
   ]
  },
  {
   "attachments": {},
   "cell_type": "markdown",
   "id": "924e1d21",
   "metadata": {},
   "source": [
    "### 2.0.1 Define function - Remove Duplicate Columns from Joins"
   ]
  },
  {
   "cell_type": "code",
   "execution_count": 5,
   "id": "ce2a15cb",
   "metadata": {},
   "outputs": [],
   "source": [
    "#Function to remove and rename columns after inner join\n",
    "def remove_dup_join_col(df):\n",
    "    # capitalise all columns\n",
    "    for col in df.columns:\n",
    "        df = df.withColumnRenamed(col, col.upper())\n",
    "    \n",
    "    # get list of renamable columns for left and right join\n",
    "    left_dup_col = [col_name for col_name in df.columns if col_name.startswith('L_')]\n",
    "    right_dup_col = [col_name for col_name in df.columns if col_name.startswith('R_')]\n",
    "    old_columns = df.columns\n",
    "    \n",
    "    # rename the list with the most number of renamable columns\n",
    "    # drop the list of columns with less number of renamable columns\n",
    "    if len(left_dup_col)>len(right_dup_col):\n",
    "        columns_rename=left_dup_col\n",
    "        df= df.drop(*right_dup_col)\n",
    "    else:\n",
    "        columns_rename=right_dup_col\n",
    "        df= df.drop(*left_dup_col)\n",
    "    \n",
    "    for old_column in old_columns:\n",
    "        if old_column in columns_rename:\n",
    "            # get string to remove\n",
    "            string_to_replace = columns_rename[0][:7]\n",
    "            # replace starting string\n",
    "            new_column = old_column.replace(string_to_replace, \"\")\n",
    "            df = df.withColumnRenamed(old_column, new_column)\n",
    "    \n",
    "    return df"
   ]
  },
  {
   "attachments": {},
   "cell_type": "markdown",
   "id": "a4bf5f70",
   "metadata": {},
   "source": [
    "# 3. Data Engineering"
   ]
  },
  {
   "attachments": {},
   "cell_type": "markdown",
   "id": "acef3504",
   "metadata": {},
   "source": [
    "## 3.1 Generate new Columns"
   ]
  },
  {
   "cell_type": "code",
   "execution_count": 6,
   "id": "a9e19c3a",
   "metadata": {},
   "outputs": [],
   "source": [
    "#Merge to get loyal customers orders\n",
    "loyal_customer_orders=tasty_bytes_orders_v.join(\n",
    "    right=tasty_bytes_customer_loyalty,\n",
    "    on=\"CUSTOMER_ID\",\n",
    "    how=\"inner\"\n",
    ")"
   ]
  },
  {
   "cell_type": "code",
   "execution_count": 7,
   "id": "3f5edd2f",
   "metadata": {},
   "outputs": [],
   "source": [
    "#Remove duplicate columns\n",
    "loyal_customer_orders = remove_dup_join_col(loyal_customer_orders)\n",
    "\n",
    "#Remove duplicate order ids\n",
    "remove_dup = loyal_customer_orders.dropDuplicates(['ORDER_ID'])"
   ]
  },
  {
   "attachments": {},
   "cell_type": "markdown",
   "id": "c3465838",
   "metadata": {},
   "source": [
    "### 3.1.1 Get Latest Order Date"
   ]
  },
  {
   "cell_type": "code",
   "execution_count": 8,
   "id": "60b18852",
   "metadata": {},
   "outputs": [],
   "source": [
    "# called `orders` with columns `customer_id` and `order_ts`\n",
    "window_spec = Window.partitionBy('customer_id').orderBy(F.col('order_ts').desc())\n",
    "\n",
    "orders_with_rank = remove_dup.withColumn('rank', F.rank().over(window_spec))\n",
    "\n",
    "# Get max order of each customer\n",
    "max_order_ts = orders_with_rank.filter(F.col('rank') == 1).select('customer_id', 'order_ts')\n"
   ]
  },
  {
   "cell_type": "code",
   "execution_count": 9,
   "id": "cbaa607a",
   "metadata": {},
   "outputs": [],
   "source": [
    "# Rename columns\n",
    "max_order_ts = max_order_ts.withColumnRenamed('ORDER_TS','Max_Order_TS')"
   ]
  },
  {
   "cell_type": "code",
   "execution_count": 10,
   "id": "122d9f7e",
   "metadata": {},
   "outputs": [],
   "source": [
    "# Merge with second max order dataframe\n",
    "max_Order=remove_dup.join(right=max_order_ts,on='CUSTOMER_ID',how='inner')\n",
    "\n",
    "#Filter out last purchase\n",
    "filtered_df = max_Order.filter(F.col('ORDER_TS') < F.col('Max_Order_TS'))\n"
   ]
  },
  {
   "cell_type": "code",
   "execution_count": 11,
   "id": "5a5a5ebe",
   "metadata": {},
   "outputs": [
    {
     "name": "stdout",
     "output_type": "stream",
     "text": [
      "-----------------------\n",
      "|\"MAX(\"\"ORDER_TS\"\")\"  |\n",
      "-----------------------\n",
      "|2022-10-31 22:54:37  |\n",
      "-----------------------\n",
      "\n"
     ]
    }
   ],
   "source": [
    "# Display last recorded purchase globally\n",
    "filtered_df.select(F.max('ORDER_TS')).show()"
   ]
  },
  {
   "attachments": {},
   "cell_type": "markdown",
   "id": "0f0abb55",
   "metadata": {},
   "source": [
    "We got the latest order date to filter out the last purchase and its also used to get the days to next order. Since our target variable is closely related to the days to next order, we filter out the last purchase to not leak future information such that we are able to prevent target leakage."
   ]
  },
  {
   "attachments": {},
   "cell_type": "markdown",
   "id": "45012b5c",
   "metadata": {},
   "source": [
    "### 3.1.2 RFM (Recency, Freqency, Monetary)"
   ]
  },
  {
   "cell_type": "code",
   "execution_count": 12,
   "id": "476754b5",
   "metadata": {},
   "outputs": [],
   "source": [
    "# Get last purchase date as a variable\n",
    "lastdate=filtered_df.select(F.max('ORDER_TS')).first()[0]\n",
    "\n",
    "# Recency\n",
    "recency = filtered_df.groupBy('CUSTOMER_ID').agg(F.max('ORDER_TS').alias('ORDER_TS'))\n",
    "recency = recency.withColumn('RECENCY', F.datediff(col1=F.col('ORDER_TS'), col2=F.lit(lastdate),part='day'))\n",
    "\n",
    "# Frequency\n",
    "frequency = filtered_df.groupBy('CUSTOMER_ID').agg(F.countDistinct('ORDER_ID').alias('frequency'))\n",
    "\n",
    "# Monetary\n",
    "monetary = filtered_df.groupBy('CUSTOMER_ID').agg(F.sum('ORDER_TOTAL').alias('monetary'))\n",
    "\n",
    "# Merge into RFM table\n",
    "RFM_table = recency.join(frequency, on='CUSTOMER_ID', how='inner')\n",
    "RFM_table = RFM_table.join(monetary, on='CUSTOMER_ID', how='inner')\n"
   ]
  },
  {
   "attachments": {},
   "cell_type": "markdown",
   "id": "ce7aacf0",
   "metadata": {},
   "source": [
    "This code is used to get RFM, Recency, Frequency, and Monetary for each customer. The purpose of doing this is to generate new features and show the customer's behavioural data."
   ]
  },
  {
   "attachments": {},
   "cell_type": "markdown",
   "id": "18d6061f",
   "metadata": {},
   "source": [
    "### 3.1.3 Average Time Difference, Max and Min Days without Purchase"
   ]
  },
  {
   "cell_type": "code",
   "execution_count": 13,
   "id": "419b542d",
   "metadata": {},
   "outputs": [],
   "source": [
    "# Define a window partitioned by customer and menu item, ordered by date\n",
    "window_spec = Window.partitionBy(\"CUSTOMER_ID\").orderBy(\"DATE\")\n",
    "\n",
    "# Add a column with the date of the prior order for each customer \n",
    "orders_df = filtered_df.withColumn(\"DAYS_SINCE_PRIOR_ORDER\", F.lag(\"DATE\").over(window_spec))\n",
    "\n",
    "# Calculate the number of days between the prior order and the current order for each customer and menu item\n",
    "orders_df = orders_df.withColumn(\"DAYS_SINCE_PRIOR_ORDER\", F.datediff(col1=\"DAYS_SINCE_PRIOR_ORDER\", col2=\"DATE\",part='day'))\n",
    "orders_df = orders_df.na.drop(subset=[\"DAYS_SINCE_PRIOR_ORDER\"])\n",
    "\n",
    "# Calculate the average purchase time difference for each customer\n",
    "avg_time_diff=orders_df.group_by('CUSTOMER_ID').agg(F.round(F.avg('DAYS_SINCE_PRIOR_ORDER'),0).alias('Avg_Days_Between_Purchase'))\n",
    "\n",
    "# Max Days without Purchase\n",
    "max_days=orders_df.group_by('CUSTOMER_ID').agg(F.max('DAYS_SINCE_PRIOR_ORDER').alias('Max_Days_Without_Purchase'))\n",
    "\n",
    "# Min Days without Purchase\n",
    "min_days=orders_df.group_by('CUSTOMER_ID').agg(F.min('DAYS_SINCE_PRIOR_ORDER').alias('Min_Days_Without_Purchase'))"
   ]
  },
  {
   "attachments": {},
   "cell_type": "markdown",
   "id": "e4adf10f",
   "metadata": {},
   "source": [
    "This code is used to get the average purchase time difference for each customers. This is done by calculating the most number of days a customer has gone without purchasing and the least number of days the customer has gone without purchasing. These features are also to show the behavioural information of each customer."
   ]
  },
  {
   "attachments": {},
   "cell_type": "markdown",
   "id": "883f6e7a",
   "metadata": {},
   "source": [
    "### 3.1.4 Creating Age and getting Customer's Gender, Marital Status and Country"
   ]
  },
  {
   "cell_type": "code",
   "execution_count": 14,
   "id": "973cd550",
   "metadata": {},
   "outputs": [
    {
     "name": "stdout",
     "output_type": "stream",
     "text": [
      "---------------------------------------------------------------------------------------------------------------------------------------------\n",
      "|\"CUSTOMER_ID\"  |\"BIRTHDAY_DATE\"  |\"GENDER\"     |\"MARITAL_STATUS\"  |\"COUNTRY\"  |\"CITY\"          |\"SIGN_UP_DATE\"  |\"CHILDREN_COUNT\"  |\"AGE\"  |\n",
      "---------------------------------------------------------------------------------------------------------------------------------------------\n",
      "|1              |1953-12-01       |Female       |Single            |Germany    |Hamburg         |2019-02-19      |0                 |69     |\n",
      "|2              |1973-09-21       |Male         |Single            |Brazil     |Rio de Janeiro  |2019-10-07      |0                 |49     |\n",
      "|3              |2000-09-04       |Female       |Married           |Poland     |Krakow          |2020-09-11      |2                 |22     |\n",
      "|4              |1950-03-05       |Female       |Single            |Poland     |Krakow          |2021-09-09      |1                 |72     |\n",
      "|5              |1978-10-29       |Female       |Married           |Spain      |Barcelona       |2022-06-17      |1                 |44     |\n",
      "|6              |1969-08-17       |Male         |Single            |Germany    |Hamburg         |2021-06-02      |0                 |53     |\n",
      "|7              |1961-12-23       |Male         |Undisclosed       |Spain      |Barcelona       |2020-09-29      |Undisclosed       |61     |\n",
      "|8              |1960-07-12       |Female       |Single            |Germany    |Hamburg         |2021-04-08      |0                 |62     |\n",
      "|9              |1970-09-11       |Male         |Single            |Sweden     |Stockholm       |2020-10-30      |0                 |52     |\n",
      "|10             |1989-05-27       |Undisclosed  |Single            |Egypt      |Cairo           |2020-06-04      |0                 |33     |\n",
      "---------------------------------------------------------------------------------------------------------------------------------------------\n",
      "\n"
     ]
    }
   ],
   "source": [
    "# Get Customer demographic\n",
    "cust_demo=tasty_bytes_customer_loyalty.select('CUSTOMER_ID','BIRTHDAY_DATE','GENDER','MARITAL_STATUS','COUNTRY','CITY','SIGN_UP_DATE','CHILDREN_COUNT')\n",
    "\n",
    "# get AGE variable\n",
    "cust_demo = cust_demo.withColumn(\"AGE\", F.datediff('year', F.col(\"BIRTHDAY_DATE\"),F.lit(lastdate)))\n",
    "\n",
    "# Show\n",
    "cust_demo.show()"
   ]
  },
  {
   "attachments": {},
   "cell_type": "markdown",
   "id": "74736857",
   "metadata": {},
   "source": [
    "We added a new column called \"AGE\" which contains the age of the customer at the time of the latest transaction. We also retrieved new columns like the customer's gender, marital status and country."
   ]
  },
  {
   "cell_type": "markdown",
   "id": "8cdd1eaa",
   "metadata": {},
   "source": [
    "### Attempted Improvements to the model"
   ]
  },
  {
   "cell_type": "markdown",
   "id": "5e68411f",
   "metadata": {},
   "source": [
    "#### Improved the Model"
   ]
  },
  {
   "cell_type": "code",
   "execution_count": 15,
   "id": "f35d4887",
   "metadata": {},
   "outputs": [],
   "source": [
    "# Number of locations visited\n",
    "num_of_locations_visited=filtered_df.group_by('CUSTOMER_ID').agg(F.countDistinct('LOCATION_ID').alias('NUM_OF_LOCATIONS_VISITED'))"
   ]
  },
  {
   "cell_type": "code",
   "execution_count": 16,
   "id": "2dd51461",
   "metadata": {},
   "outputs": [
    {
     "name": "stdout",
     "output_type": "stream",
     "text": [
      "--------------------------------------------\n",
      "|\"CUSTOMER_ID\"  |\"LENGTH_OF_RELATIONSHIP\"  |\n",
      "--------------------------------------------\n",
      "|124719         |1262                      |\n",
      "|212564         |1175                      |\n",
      "|164235         |999                       |\n",
      "|43024          |1271                      |\n",
      "|191120         |1032                      |\n",
      "|125591         |1011                      |\n",
      "|24741          |1262                      |\n",
      "|195672         |1020                      |\n",
      "|195177         |817                       |\n",
      "|194559         |1194                      |\n",
      "--------------------------------------------\n",
      "\n"
     ]
    }
   ],
   "source": [
    "# Add Length of relationship\n",
    "\n",
    "window_spec = Window.partitionBy('customer_id').orderBy(F.col('order_ts').asc())\n",
    "\n",
    "orders_with_rank = filtered_df.withColumn('rank', F.rank().over(window_spec))\n",
    "\n",
    "# Get max order of each customer\n",
    "first_order_ts = orders_with_rank.filter(F.col('rank') == 1).select('customer_id', 'order_ts')\n",
    "\n",
    "# Join the first_orders and last_orders DataFrames on customer_id\n",
    "joined_orders = first_order_ts.join(max_order_ts, 'customer_id')\n",
    "\n",
    "# Calculate the difference in days between the first and last order\n",
    "diff_in_days = joined_orders.withColumn('Length_of_Relationship', F.datediff(col1='order_ts', col2='max_order_ts',part='day'))\n",
    "\n",
    "diff_in_days=diff_in_days.drop(['ORDER_TS','MAX_ORDER_TS'])\n",
    "\n",
    "diff_in_days.show()"
   ]
  },
  {
   "attachments": {},
   "cell_type": "markdown",
   "id": "776061f6",
   "metadata": {},
   "source": [
    "### 3.1.5 Join Generated Variables"
   ]
  },
  {
   "cell_type": "code",
   "execution_count": 17,
   "id": "95506e69",
   "metadata": {},
   "outputs": [],
   "source": [
    "# Merge to get final dataframe\n",
    "final_df = RFM_table.join(max_order_ts, on='CUSTOMER_ID', how='inner')\n",
    "final_df = final_df.join(avg_time_diff, on='CUSTOMER_ID', how='inner')\n",
    "final_df = final_df.join(max_days, on='CUSTOMER_ID', how='inner')\n",
    "final_df = final_df.join(min_days, on='CUSTOMER_ID', how='inner')\n",
    "final_df = final_df.join(cust_demo,on='CUSTOMER_ID',how='inner')\n",
    "final_df = final_df.join(diff_in_days,on='CUSTOMER_ID',how='inner')\n",
    "final_df = final_df.join(num_of_locations_visited,on='CUSTOMER_ID',how='inner')"
   ]
  },
  {
   "attachments": {},
   "cell_type": "markdown",
   "id": "aeb90423",
   "metadata": {},
   "source": [
    "We joined all the different tables to get all the columns in the same table by inner joining all the different tables on the CUSTOMER_ID column. The joined table contains all the different features we will be using to predict the target."
   ]
  },
  {
   "cell_type": "markdown",
   "id": "de3f0b8f",
   "metadata": {},
   "source": [
    "#### Attempted Improvement: Created Relative Purchase Frequency and Monetary"
   ]
  },
  {
   "cell_type": "code",
   "execution_count": 18,
   "id": "e89be1d1",
   "metadata": {},
   "outputs": [],
   "source": [
    "final_df=final_df.with_column('RELATIVE_PURCHASE_FREQUENCY',(F.col('FREQUENCY')/F.col('Length_of_Relationship')).cast('float'))\n",
    "final_df=final_df.with_column('RELATIVE_PURCHASE_MONETARY',(F.col('MONETARY')/F.col('Length_of_Relationship')).cast('float'))"
   ]
  },
  {
   "attachments": {},
   "cell_type": "markdown",
   "id": "d3525c1d",
   "metadata": {},
   "source": [
    "### 3.1.6 Days to Next Order"
   ]
  },
  {
   "cell_type": "code",
   "execution_count": 19,
   "id": "84f3adc1",
   "metadata": {},
   "outputs": [],
   "source": [
    "# Convert timestamp to date such that Days to next orders is more accurate\n",
    "final_df=final_df.with_column('ORDER_TS',F.to_date(F.col('ORDER_TS')))\n",
    "final_df=final_df.with_column('MAX_ORDER_TS',F.to_date(F.col('MAX_ORDER_TS')))"
   ]
  },
  {
   "cell_type": "code",
   "execution_count": 20,
   "id": "0d284939",
   "metadata": {},
   "outputs": [],
   "source": [
    "# Add Days To Next Order\n",
    "final_df = final_df.withColumn('Days_To_Next_Order', F.datediff(col1=final_df['ORDER_TS'], col2=final_df['MAX_ORDER_TS'],part='day'))"
   ]
  },
  {
   "cell_type": "code",
   "execution_count": 21,
   "id": "9c56d0a9",
   "metadata": {},
   "outputs": [
    {
     "name": "stdout",
     "output_type": "stream",
     "text": [
      "------------------------------------\n",
      "|\"MEDIAN(\"\"DAYS_TO_NEXT_ORDER\"\")\"  |\n",
      "------------------------------------\n",
      "|9.000                             |\n",
      "------------------------------------\n",
      "\n"
     ]
    }
   ],
   "source": [
    "# Get median of Days to next order\n",
    "final_df.select(F.median('DAYS_TO_NEXT_ORDER')).show()"
   ]
  },
  {
   "attachments": {},
   "cell_type": "markdown",
   "id": "ee432710",
   "metadata": {},
   "source": [
    "We use the median number of days since the prior order for the global dataset to create a target variable that distinguishes customers who purchase below or above this median. Customers who purchase below the median will be labeled as 'Not churn', while those who purchase above the median will be labeled as 'Churn'. This approach will help us identify customers who may require retention strategies and predict their level of engagement with our business.\n",
    "\n",
    "The median days to next order is 9 for customers from all countries, this will be used to check if our train dataset's target variable is representative of the global dataset."
   ]
  },
  {
   "attachments": {},
   "cell_type": "markdown",
   "id": "5d89694c",
   "metadata": {},
   "source": [
    "### 3.1.7 Filter to selected Country"
   ]
  },
  {
   "cell_type": "code",
   "execution_count": 22,
   "id": "8f8692f7",
   "metadata": {},
   "outputs": [],
   "source": [
    "# Filter to United States\n",
    "final_df=final_df.filter(F.col('COUNTRY')=='United States')"
   ]
  },
  {
   "attachments": {},
   "cell_type": "markdown",
   "id": "e84299d0",
   "metadata": {},
   "source": [
    "We filtered the data to only have records for the United States. This is because we are only interested in the United States as shown above due to its high churn rate and high number of customers"
   ]
  },
  {
   "cell_type": "code",
   "execution_count": 23,
   "id": "dc90e2f3",
   "metadata": {},
   "outputs": [],
   "source": [
    "# Sort CustomerID\n",
    "final_df=final_df.sort('CUSTOMER_ID')"
   ]
  },
  {
   "cell_type": "code",
   "execution_count": 24,
   "id": "c4d31ac2",
   "metadata": {},
   "outputs": [],
   "source": [
    "# Convert to pandas\n",
    "final_df=final_df.to_pandas()"
   ]
  },
  {
   "cell_type": "code",
   "execution_count": 25,
   "id": "e7d92673",
   "metadata": {},
   "outputs": [
    {
     "data": {
      "text/html": [
       "<div>\n",
       "<style scoped>\n",
       "    .dataframe tbody tr th:only-of-type {\n",
       "        vertical-align: middle;\n",
       "    }\n",
       "\n",
       "    .dataframe tbody tr th {\n",
       "        vertical-align: top;\n",
       "    }\n",
       "\n",
       "    .dataframe thead th {\n",
       "        text-align: right;\n",
       "    }\n",
       "</style>\n",
       "<table border=\"1\" class=\"dataframe\">\n",
       "  <thead>\n",
       "    <tr style=\"text-align: right;\">\n",
       "      <th></th>\n",
       "      <th>CUSTOMER_ID</th>\n",
       "      <th>RECENCY</th>\n",
       "      <th>FREQUENCY</th>\n",
       "      <th>MONETARY</th>\n",
       "      <th>AVG_DAYS_BETWEEN_PURCHASE</th>\n",
       "      <th>MAX_DAYS_WITHOUT_PURCHASE</th>\n",
       "      <th>MIN_DAYS_WITHOUT_PURCHASE</th>\n",
       "      <th>BIRTHDAY_DATE</th>\n",
       "      <th>GENDER</th>\n",
       "      <th>MARITAL_STATUS</th>\n",
       "      <th>...</th>\n",
       "      <th>SIGN_UP_DATE</th>\n",
       "      <th>CHILDREN_COUNT</th>\n",
       "      <th>AGE</th>\n",
       "      <th>LENGTH_OF_RELATIONSHIP</th>\n",
       "      <th>NUM_OF_LOCATIONS_VISITED</th>\n",
       "      <th>RELATIVE_PURCHASE_FREQUENCY</th>\n",
       "      <th>RELATIVE_PURCHASE_MONETARY</th>\n",
       "      <th>ORDER_TS</th>\n",
       "      <th>MAX_ORDER_TS</th>\n",
       "      <th>DAYS_TO_NEXT_ORDER</th>\n",
       "    </tr>\n",
       "  </thead>\n",
       "  <tbody>\n",
       "    <tr>\n",
       "      <th>0</th>\n",
       "      <td>22</td>\n",
       "      <td>14</td>\n",
       "      <td>43</td>\n",
       "      <td>1404.50</td>\n",
       "      <td>30</td>\n",
       "      <td>173</td>\n",
       "      <td>1</td>\n",
       "      <td>1949-01-12</td>\n",
       "      <td>Male</td>\n",
       "      <td>Married</td>\n",
       "      <td>...</td>\n",
       "      <td>2021-04-22</td>\n",
       "      <td>4</td>\n",
       "      <td>73</td>\n",
       "      <td>1253</td>\n",
       "      <td>40</td>\n",
       "      <td>0.034318</td>\n",
       "      <td>1.120910</td>\n",
       "      <td>2022-10-17</td>\n",
       "      <td>2022-10-19</td>\n",
       "      <td>2</td>\n",
       "    </tr>\n",
       "    <tr>\n",
       "      <th>1</th>\n",
       "      <td>42</td>\n",
       "      <td>8</td>\n",
       "      <td>39</td>\n",
       "      <td>1811.50</td>\n",
       "      <td>33</td>\n",
       "      <td>167</td>\n",
       "      <td>1</td>\n",
       "      <td>1966-06-28</td>\n",
       "      <td>Undisclosed</td>\n",
       "      <td>Single</td>\n",
       "      <td>...</td>\n",
       "      <td>2020-07-11</td>\n",
       "      <td>0</td>\n",
       "      <td>56</td>\n",
       "      <td>1270</td>\n",
       "      <td>36</td>\n",
       "      <td>0.030709</td>\n",
       "      <td>1.426378</td>\n",
       "      <td>2022-10-23</td>\n",
       "      <td>2022-10-26</td>\n",
       "      <td>3</td>\n",
       "    </tr>\n",
       "    <tr>\n",
       "      <th>2</th>\n",
       "      <td>59</td>\n",
       "      <td>26</td>\n",
       "      <td>38</td>\n",
       "      <td>1256.50</td>\n",
       "      <td>33</td>\n",
       "      <td>390</td>\n",
       "      <td>1</td>\n",
       "      <td>1961-06-05</td>\n",
       "      <td>Male</td>\n",
       "      <td>Married</td>\n",
       "      <td>...</td>\n",
       "      <td>2020-12-29</td>\n",
       "      <td>2</td>\n",
       "      <td>61</td>\n",
       "      <td>1260</td>\n",
       "      <td>35</td>\n",
       "      <td>0.030159</td>\n",
       "      <td>0.997222</td>\n",
       "      <td>2022-10-05</td>\n",
       "      <td>2022-10-26</td>\n",
       "      <td>21</td>\n",
       "    </tr>\n",
       "    <tr>\n",
       "      <th>3</th>\n",
       "      <td>65</td>\n",
       "      <td>29</td>\n",
       "      <td>42</td>\n",
       "      <td>1393.25</td>\n",
       "      <td>30</td>\n",
       "      <td>207</td>\n",
       "      <td>2</td>\n",
       "      <td>1958-09-01</td>\n",
       "      <td>Male</td>\n",
       "      <td>Divorced/Seperated</td>\n",
       "      <td>...</td>\n",
       "      <td>2020-11-05</td>\n",
       "      <td>5+</td>\n",
       "      <td>64</td>\n",
       "      <td>1222</td>\n",
       "      <td>40</td>\n",
       "      <td>0.034370</td>\n",
       "      <td>1.140139</td>\n",
       "      <td>2022-10-02</td>\n",
       "      <td>2022-10-13</td>\n",
       "      <td>11</td>\n",
       "    </tr>\n",
       "    <tr>\n",
       "      <th>4</th>\n",
       "      <td>106</td>\n",
       "      <td>18</td>\n",
       "      <td>48</td>\n",
       "      <td>2096.75</td>\n",
       "      <td>24</td>\n",
       "      <td>158</td>\n",
       "      <td>1</td>\n",
       "      <td>1967-05-10</td>\n",
       "      <td>Female</td>\n",
       "      <td>Single</td>\n",
       "      <td>...</td>\n",
       "      <td>2021-06-28</td>\n",
       "      <td>0</td>\n",
       "      <td>55</td>\n",
       "      <td>1133</td>\n",
       "      <td>47</td>\n",
       "      <td>0.042365</td>\n",
       "      <td>1.850618</td>\n",
       "      <td>2022-10-13</td>\n",
       "      <td>2022-10-29</td>\n",
       "      <td>16</td>\n",
       "    </tr>\n",
       "    <tr>\n",
       "      <th>...</th>\n",
       "      <td>...</td>\n",
       "      <td>...</td>\n",
       "      <td>...</td>\n",
       "      <td>...</td>\n",
       "      <td>...</td>\n",
       "      <td>...</td>\n",
       "      <td>...</td>\n",
       "      <td>...</td>\n",
       "      <td>...</td>\n",
       "      <td>...</td>\n",
       "      <td>...</td>\n",
       "      <td>...</td>\n",
       "      <td>...</td>\n",
       "      <td>...</td>\n",
       "      <td>...</td>\n",
       "      <td>...</td>\n",
       "      <td>...</td>\n",
       "      <td>...</td>\n",
       "      <td>...</td>\n",
       "      <td>...</td>\n",
       "      <td>...</td>\n",
       "    </tr>\n",
       "    <tr>\n",
       "      <th>46295</th>\n",
       "      <td>199985</td>\n",
       "      <td>19</td>\n",
       "      <td>66</td>\n",
       "      <td>2576.50</td>\n",
       "      <td>16</td>\n",
       "      <td>54</td>\n",
       "      <td>1</td>\n",
       "      <td>1944-01-13</td>\n",
       "      <td>Female</td>\n",
       "      <td>Married</td>\n",
       "      <td>...</td>\n",
       "      <td>2021-01-19</td>\n",
       "      <td>2</td>\n",
       "      <td>78</td>\n",
       "      <td>1028</td>\n",
       "      <td>60</td>\n",
       "      <td>0.064202</td>\n",
       "      <td>2.506323</td>\n",
       "      <td>2022-10-12</td>\n",
       "      <td>2022-10-23</td>\n",
       "      <td>11</td>\n",
       "    </tr>\n",
       "    <tr>\n",
       "      <th>46296</th>\n",
       "      <td>199991</td>\n",
       "      <td>4</td>\n",
       "      <td>57</td>\n",
       "      <td>2185.50</td>\n",
       "      <td>18</td>\n",
       "      <td>107</td>\n",
       "      <td>1</td>\n",
       "      <td>1958-09-26</td>\n",
       "      <td>Female</td>\n",
       "      <td>Married</td>\n",
       "      <td>...</td>\n",
       "      <td>2020-06-07</td>\n",
       "      <td>1</td>\n",
       "      <td>64</td>\n",
       "      <td>1034</td>\n",
       "      <td>54</td>\n",
       "      <td>0.055126</td>\n",
       "      <td>2.113636</td>\n",
       "      <td>2022-10-27</td>\n",
       "      <td>2022-10-31</td>\n",
       "      <td>4</td>\n",
       "    </tr>\n",
       "    <tr>\n",
       "      <th>46297</th>\n",
       "      <td>199995</td>\n",
       "      <td>59</td>\n",
       "      <td>36</td>\n",
       "      <td>1297.75</td>\n",
       "      <td>24</td>\n",
       "      <td>125</td>\n",
       "      <td>1</td>\n",
       "      <td>1944-08-03</td>\n",
       "      <td>Undisclosed</td>\n",
       "      <td>Single</td>\n",
       "      <td>...</td>\n",
       "      <td>2020-01-11</td>\n",
       "      <td>0</td>\n",
       "      <td>78</td>\n",
       "      <td>903</td>\n",
       "      <td>34</td>\n",
       "      <td>0.039867</td>\n",
       "      <td>1.437154</td>\n",
       "      <td>2022-09-02</td>\n",
       "      <td>2022-10-29</td>\n",
       "      <td>57</td>\n",
       "    </tr>\n",
       "    <tr>\n",
       "      <th>46298</th>\n",
       "      <td>199999</td>\n",
       "      <td>31</td>\n",
       "      <td>36</td>\n",
       "      <td>1210.50</td>\n",
       "      <td>31</td>\n",
       "      <td>182</td>\n",
       "      <td>1</td>\n",
       "      <td>1972-08-19</td>\n",
       "      <td>Female</td>\n",
       "      <td>Married</td>\n",
       "      <td>...</td>\n",
       "      <td>2021-05-23</td>\n",
       "      <td>2</td>\n",
       "      <td>50</td>\n",
       "      <td>1102</td>\n",
       "      <td>35</td>\n",
       "      <td>0.032668</td>\n",
       "      <td>1.098457</td>\n",
       "      <td>2022-09-30</td>\n",
       "      <td>2022-10-18</td>\n",
       "      <td>18</td>\n",
       "    </tr>\n",
       "    <tr>\n",
       "      <th>46299</th>\n",
       "      <td>200000</td>\n",
       "      <td>33</td>\n",
       "      <td>51</td>\n",
       "      <td>2075.50</td>\n",
       "      <td>20</td>\n",
       "      <td>120</td>\n",
       "      <td>1</td>\n",
       "      <td>1989-06-23</td>\n",
       "      <td>Male</td>\n",
       "      <td>Single</td>\n",
       "      <td>...</td>\n",
       "      <td>2019-08-10</td>\n",
       "      <td>0</td>\n",
       "      <td>33</td>\n",
       "      <td>1027</td>\n",
       "      <td>49</td>\n",
       "      <td>0.049659</td>\n",
       "      <td>2.020935</td>\n",
       "      <td>2022-09-28</td>\n",
       "      <td>2022-10-27</td>\n",
       "      <td>29</td>\n",
       "    </tr>\n",
       "  </tbody>\n",
       "</table>\n",
       "<p>46300 rows × 22 columns</p>\n",
       "</div>"
      ],
      "text/plain": [
       "       CUSTOMER_ID  RECENCY  FREQUENCY  MONETARY  AVG_DAYS_BETWEEN_PURCHASE  \\\n",
       "0               22       14         43   1404.50                         30   \n",
       "1               42        8         39   1811.50                         33   \n",
       "2               59       26         38   1256.50                         33   \n",
       "3               65       29         42   1393.25                         30   \n",
       "4              106       18         48   2096.75                         24   \n",
       "...            ...      ...        ...       ...                        ...   \n",
       "46295       199985       19         66   2576.50                         16   \n",
       "46296       199991        4         57   2185.50                         18   \n",
       "46297       199995       59         36   1297.75                         24   \n",
       "46298       199999       31         36   1210.50                         31   \n",
       "46299       200000       33         51   2075.50                         20   \n",
       "\n",
       "       MAX_DAYS_WITHOUT_PURCHASE  MIN_DAYS_WITHOUT_PURCHASE BIRTHDAY_DATE  \\\n",
       "0                            173                          1    1949-01-12   \n",
       "1                            167                          1    1966-06-28   \n",
       "2                            390                          1    1961-06-05   \n",
       "3                            207                          2    1958-09-01   \n",
       "4                            158                          1    1967-05-10   \n",
       "...                          ...                        ...           ...   \n",
       "46295                         54                          1    1944-01-13   \n",
       "46296                        107                          1    1958-09-26   \n",
       "46297                        125                          1    1944-08-03   \n",
       "46298                        182                          1    1972-08-19   \n",
       "46299                        120                          1    1989-06-23   \n",
       "\n",
       "            GENDER      MARITAL_STATUS  ... SIGN_UP_DATE CHILDREN_COUNT AGE  \\\n",
       "0             Male             Married  ...   2021-04-22              4  73   \n",
       "1      Undisclosed              Single  ...   2020-07-11              0  56   \n",
       "2             Male             Married  ...   2020-12-29              2  61   \n",
       "3             Male  Divorced/Seperated  ...   2020-11-05             5+  64   \n",
       "4           Female              Single  ...   2021-06-28              0  55   \n",
       "...            ...                 ...  ...          ...            ...  ..   \n",
       "46295       Female             Married  ...   2021-01-19              2  78   \n",
       "46296       Female             Married  ...   2020-06-07              1  64   \n",
       "46297  Undisclosed              Single  ...   2020-01-11              0  78   \n",
       "46298       Female             Married  ...   2021-05-23              2  50   \n",
       "46299         Male              Single  ...   2019-08-10              0  33   \n",
       "\n",
       "      LENGTH_OF_RELATIONSHIP  NUM_OF_LOCATIONS_VISITED  \\\n",
       "0                       1253                        40   \n",
       "1                       1270                        36   \n",
       "2                       1260                        35   \n",
       "3                       1222                        40   \n",
       "4                       1133                        47   \n",
       "...                      ...                       ...   \n",
       "46295                   1028                        60   \n",
       "46296                   1034                        54   \n",
       "46297                    903                        34   \n",
       "46298                   1102                        35   \n",
       "46299                   1027                        49   \n",
       "\n",
       "       RELATIVE_PURCHASE_FREQUENCY  RELATIVE_PURCHASE_MONETARY    ORDER_TS  \\\n",
       "0                         0.034318                    1.120910  2022-10-17   \n",
       "1                         0.030709                    1.426378  2022-10-23   \n",
       "2                         0.030159                    0.997222  2022-10-05   \n",
       "3                         0.034370                    1.140139  2022-10-02   \n",
       "4                         0.042365                    1.850618  2022-10-13   \n",
       "...                            ...                         ...         ...   \n",
       "46295                     0.064202                    2.506323  2022-10-12   \n",
       "46296                     0.055126                    2.113636  2022-10-27   \n",
       "46297                     0.039867                    1.437154  2022-09-02   \n",
       "46298                     0.032668                    1.098457  2022-09-30   \n",
       "46299                     0.049659                    2.020935  2022-09-28   \n",
       "\n",
       "       MAX_ORDER_TS DAYS_TO_NEXT_ORDER  \n",
       "0        2022-10-19                  2  \n",
       "1        2022-10-26                  3  \n",
       "2        2022-10-26                 21  \n",
       "3        2022-10-13                 11  \n",
       "4        2022-10-29                 16  \n",
       "...             ...                ...  \n",
       "46295    2022-10-23                 11  \n",
       "46296    2022-10-31                  4  \n",
       "46297    2022-10-29                 57  \n",
       "46298    2022-10-18                 18  \n",
       "46299    2022-10-27                 29  \n",
       "\n",
       "[46300 rows x 22 columns]"
      ]
     },
     "execution_count": 25,
     "metadata": {},
     "output_type": "execute_result"
    }
   ],
   "source": [
    "final_df"
   ]
  },
  {
   "attachments": {},
   "cell_type": "markdown",
   "id": "96657bfa",
   "metadata": {},
   "source": [
    "We converted the table to pandas because we want to carry out data manipulation."
   ]
  },
  {
   "attachments": {},
   "cell_type": "markdown",
   "id": "40dc4f32",
   "metadata": {},
   "source": [
    "## 3.2 Outlier Handling"
   ]
  },
  {
   "attachments": {},
   "cell_type": "markdown",
   "id": "7ec9b939",
   "metadata": {},
   "source": [
    "### 3.2.3 Cap the Outliers"
   ]
  },
  {
   "attachments": {},
   "cell_type": "markdown",
   "id": "7bc0ed82",
   "metadata": {},
   "source": [
    "#### 3.2.3.1 Cap by IQR"
   ]
  },
  {
   "cell_type": "code",
   "execution_count": 26,
   "id": "aaeac27e",
   "metadata": {},
   "outputs": [
    {
     "data": {
      "text/html": [
       "<style>#sk-container-id-1 {color: black;background-color: white;}#sk-container-id-1 pre{padding: 0;}#sk-container-id-1 div.sk-toggleable {background-color: white;}#sk-container-id-1 label.sk-toggleable__label {cursor: pointer;display: block;width: 100%;margin-bottom: 0;padding: 0.3em;box-sizing: border-box;text-align: center;}#sk-container-id-1 label.sk-toggleable__label-arrow:before {content: \"▸\";float: left;margin-right: 0.25em;color: #696969;}#sk-container-id-1 label.sk-toggleable__label-arrow:hover:before {color: black;}#sk-container-id-1 div.sk-estimator:hover label.sk-toggleable__label-arrow:before {color: black;}#sk-container-id-1 div.sk-toggleable__content {max-height: 0;max-width: 0;overflow: hidden;text-align: left;background-color: #f0f8ff;}#sk-container-id-1 div.sk-toggleable__content pre {margin: 0.2em;color: black;border-radius: 0.25em;background-color: #f0f8ff;}#sk-container-id-1 input.sk-toggleable__control:checked~div.sk-toggleable__content {max-height: 200px;max-width: 100%;overflow: auto;}#sk-container-id-1 input.sk-toggleable__control:checked~label.sk-toggleable__label-arrow:before {content: \"▾\";}#sk-container-id-1 div.sk-estimator input.sk-toggleable__control:checked~label.sk-toggleable__label {background-color: #d4ebff;}#sk-container-id-1 div.sk-label input.sk-toggleable__control:checked~label.sk-toggleable__label {background-color: #d4ebff;}#sk-container-id-1 input.sk-hidden--visually {border: 0;clip: rect(1px 1px 1px 1px);clip: rect(1px, 1px, 1px, 1px);height: 1px;margin: -1px;overflow: hidden;padding: 0;position: absolute;width: 1px;}#sk-container-id-1 div.sk-estimator {font-family: monospace;background-color: #f0f8ff;border: 1px dotted black;border-radius: 0.25em;box-sizing: border-box;margin-bottom: 0.5em;}#sk-container-id-1 div.sk-estimator:hover {background-color: #d4ebff;}#sk-container-id-1 div.sk-parallel-item::after {content: \"\";width: 100%;border-bottom: 1px solid gray;flex-grow: 1;}#sk-container-id-1 div.sk-label:hover label.sk-toggleable__label {background-color: #d4ebff;}#sk-container-id-1 div.sk-serial::before {content: \"\";position: absolute;border-left: 1px solid gray;box-sizing: border-box;top: 0;bottom: 0;left: 50%;z-index: 0;}#sk-container-id-1 div.sk-serial {display: flex;flex-direction: column;align-items: center;background-color: white;padding-right: 0.2em;padding-left: 0.2em;position: relative;}#sk-container-id-1 div.sk-item {position: relative;z-index: 1;}#sk-container-id-1 div.sk-parallel {display: flex;align-items: stretch;justify-content: center;background-color: white;position: relative;}#sk-container-id-1 div.sk-item::before, #sk-container-id-1 div.sk-parallel-item::before {content: \"\";position: absolute;border-left: 1px solid gray;box-sizing: border-box;top: 0;bottom: 0;left: 50%;z-index: -1;}#sk-container-id-1 div.sk-parallel-item {display: flex;flex-direction: column;z-index: 1;position: relative;background-color: white;}#sk-container-id-1 div.sk-parallel-item:first-child::after {align-self: flex-end;width: 50%;}#sk-container-id-1 div.sk-parallel-item:last-child::after {align-self: flex-start;width: 50%;}#sk-container-id-1 div.sk-parallel-item:only-child::after {width: 0;}#sk-container-id-1 div.sk-dashed-wrapped {border: 1px dashed gray;margin: 0 0.4em 0.5em 0.4em;box-sizing: border-box;padding-bottom: 0.4em;background-color: white;}#sk-container-id-1 div.sk-label label {font-family: monospace;font-weight: bold;display: inline-block;line-height: 1.2em;}#sk-container-id-1 div.sk-label-container {text-align: center;}#sk-container-id-1 div.sk-container {/* jupyter's `normalize.less` sets `[hidden] { display: none; }` but bootstrap.min.css set `[hidden] { display: none !important; }` so we also need the `!important` here to be able to override the default hidden behavior on the sphinx rendered scikit-learn.org. See: https://github.com/scikit-learn/scikit-learn/issues/21755 */display: inline-block !important;position: relative;}#sk-container-id-1 div.sk-text-repr-fallback {display: none;}</style><div id=\"sk-container-id-1\" class=\"sk-top-container\"><div class=\"sk-text-repr-fallback\"><pre>Winsorizer(capping_method=&#x27;iqr&#x27;, tail=&#x27;both&#x27;,\n",
       "           variables=[&#x27;RECENCY&#x27;, &#x27;AVG_DAYS_BETWEEN_PURCHASE&#x27;,\n",
       "                      &#x27;MAX_DAYS_WITHOUT_PURCHASE&#x27;])</pre><b>In a Jupyter environment, please rerun this cell to show the HTML representation or trust the notebook. <br />On GitHub, the HTML representation is unable to render, please try loading this page with nbviewer.org.</b></div><div class=\"sk-container\" hidden><div class=\"sk-item\"><div class=\"sk-estimator sk-toggleable\"><input class=\"sk-toggleable__control sk-hidden--visually\" id=\"sk-estimator-id-1\" type=\"checkbox\" checked><label for=\"sk-estimator-id-1\" class=\"sk-toggleable__label sk-toggleable__label-arrow\">Winsorizer</label><div class=\"sk-toggleable__content\"><pre>Winsorizer(capping_method=&#x27;iqr&#x27;, tail=&#x27;both&#x27;,\n",
       "           variables=[&#x27;RECENCY&#x27;, &#x27;AVG_DAYS_BETWEEN_PURCHASE&#x27;,\n",
       "                      &#x27;MAX_DAYS_WITHOUT_PURCHASE&#x27;])</pre></div></div></div></div></div>"
      ],
      "text/plain": [
       "Winsorizer(capping_method='iqr', tail='both',\n",
       "           variables=['RECENCY', 'AVG_DAYS_BETWEEN_PURCHASE',\n",
       "                      'MAX_DAYS_WITHOUT_PURCHASE'])"
      ]
     },
     "execution_count": 26,
     "metadata": {},
     "output_type": "execute_result"
    }
   ],
   "source": [
    "# create the capper\n",
    "windsorizer = Winsorizer(capping_method='iqr', # choose iqr for skewed or gaussian for normal\n",
    "                          tail='both', # cap left, right or both tails \n",
    "                          fold=3,\n",
    "                          variables=['RECENCY','AVG_DAYS_BETWEEN_PURCHASE','MAX_DAYS_WITHOUT_PURCHASE'])\n",
    "\n",
    "windsorizer.fit(final_df)\n"
   ]
  },
  {
   "cell_type": "code",
   "execution_count": 27,
   "id": "c15aa6be",
   "metadata": {},
   "outputs": [],
   "source": [
    "final_df_win = windsorizer.transform(final_df)"
   ]
  },
  {
   "attachments": {},
   "cell_type": "markdown",
   "id": "633de7f5",
   "metadata": {},
   "source": [
    "Cap by IQR for distributions with high skewness. (Outliers = 75th percentile onwards)"
   ]
  },
  {
   "attachments": {},
   "cell_type": "markdown",
   "id": "91c49b68",
   "metadata": {},
   "source": [
    "#### 3.2.3.2 Cap by Gaussian"
   ]
  },
  {
   "cell_type": "code",
   "execution_count": 28,
   "id": "124422d9",
   "metadata": {},
   "outputs": [
    {
     "data": {
      "text/html": [
       "<style>#sk-container-id-2 {color: black;background-color: white;}#sk-container-id-2 pre{padding: 0;}#sk-container-id-2 div.sk-toggleable {background-color: white;}#sk-container-id-2 label.sk-toggleable__label {cursor: pointer;display: block;width: 100%;margin-bottom: 0;padding: 0.3em;box-sizing: border-box;text-align: center;}#sk-container-id-2 label.sk-toggleable__label-arrow:before {content: \"▸\";float: left;margin-right: 0.25em;color: #696969;}#sk-container-id-2 label.sk-toggleable__label-arrow:hover:before {color: black;}#sk-container-id-2 div.sk-estimator:hover label.sk-toggleable__label-arrow:before {color: black;}#sk-container-id-2 div.sk-toggleable__content {max-height: 0;max-width: 0;overflow: hidden;text-align: left;background-color: #f0f8ff;}#sk-container-id-2 div.sk-toggleable__content pre {margin: 0.2em;color: black;border-radius: 0.25em;background-color: #f0f8ff;}#sk-container-id-2 input.sk-toggleable__control:checked~div.sk-toggleable__content {max-height: 200px;max-width: 100%;overflow: auto;}#sk-container-id-2 input.sk-toggleable__control:checked~label.sk-toggleable__label-arrow:before {content: \"▾\";}#sk-container-id-2 div.sk-estimator input.sk-toggleable__control:checked~label.sk-toggleable__label {background-color: #d4ebff;}#sk-container-id-2 div.sk-label input.sk-toggleable__control:checked~label.sk-toggleable__label {background-color: #d4ebff;}#sk-container-id-2 input.sk-hidden--visually {border: 0;clip: rect(1px 1px 1px 1px);clip: rect(1px, 1px, 1px, 1px);height: 1px;margin: -1px;overflow: hidden;padding: 0;position: absolute;width: 1px;}#sk-container-id-2 div.sk-estimator {font-family: monospace;background-color: #f0f8ff;border: 1px dotted black;border-radius: 0.25em;box-sizing: border-box;margin-bottom: 0.5em;}#sk-container-id-2 div.sk-estimator:hover {background-color: #d4ebff;}#sk-container-id-2 div.sk-parallel-item::after {content: \"\";width: 100%;border-bottom: 1px solid gray;flex-grow: 1;}#sk-container-id-2 div.sk-label:hover label.sk-toggleable__label {background-color: #d4ebff;}#sk-container-id-2 div.sk-serial::before {content: \"\";position: absolute;border-left: 1px solid gray;box-sizing: border-box;top: 0;bottom: 0;left: 50%;z-index: 0;}#sk-container-id-2 div.sk-serial {display: flex;flex-direction: column;align-items: center;background-color: white;padding-right: 0.2em;padding-left: 0.2em;position: relative;}#sk-container-id-2 div.sk-item {position: relative;z-index: 1;}#sk-container-id-2 div.sk-parallel {display: flex;align-items: stretch;justify-content: center;background-color: white;position: relative;}#sk-container-id-2 div.sk-item::before, #sk-container-id-2 div.sk-parallel-item::before {content: \"\";position: absolute;border-left: 1px solid gray;box-sizing: border-box;top: 0;bottom: 0;left: 50%;z-index: -1;}#sk-container-id-2 div.sk-parallel-item {display: flex;flex-direction: column;z-index: 1;position: relative;background-color: white;}#sk-container-id-2 div.sk-parallel-item:first-child::after {align-self: flex-end;width: 50%;}#sk-container-id-2 div.sk-parallel-item:last-child::after {align-self: flex-start;width: 50%;}#sk-container-id-2 div.sk-parallel-item:only-child::after {width: 0;}#sk-container-id-2 div.sk-dashed-wrapped {border: 1px dashed gray;margin: 0 0.4em 0.5em 0.4em;box-sizing: border-box;padding-bottom: 0.4em;background-color: white;}#sk-container-id-2 div.sk-label label {font-family: monospace;font-weight: bold;display: inline-block;line-height: 1.2em;}#sk-container-id-2 div.sk-label-container {text-align: center;}#sk-container-id-2 div.sk-container {/* jupyter's `normalize.less` sets `[hidden] { display: none; }` but bootstrap.min.css set `[hidden] { display: none !important; }` so we also need the `!important` here to be able to override the default hidden behavior on the sphinx rendered scikit-learn.org. See: https://github.com/scikit-learn/scikit-learn/issues/21755 */display: inline-block !important;position: relative;}#sk-container-id-2 div.sk-text-repr-fallback {display: none;}</style><div id=\"sk-container-id-2\" class=\"sk-top-container\"><div class=\"sk-text-repr-fallback\"><pre>Winsorizer(tail=&#x27;both&#x27;, variables=[&#x27;FREQUENCY&#x27;, &#x27;MONETARY&#x27;])</pre><b>In a Jupyter environment, please rerun this cell to show the HTML representation or trust the notebook. <br />On GitHub, the HTML representation is unable to render, please try loading this page with nbviewer.org.</b></div><div class=\"sk-container\" hidden><div class=\"sk-item\"><div class=\"sk-estimator sk-toggleable\"><input class=\"sk-toggleable__control sk-hidden--visually\" id=\"sk-estimator-id-2\" type=\"checkbox\" checked><label for=\"sk-estimator-id-2\" class=\"sk-toggleable__label sk-toggleable__label-arrow\">Winsorizer</label><div class=\"sk-toggleable__content\"><pre>Winsorizer(tail=&#x27;both&#x27;, variables=[&#x27;FREQUENCY&#x27;, &#x27;MONETARY&#x27;])</pre></div></div></div></div></div>"
      ],
      "text/plain": [
       "Winsorizer(tail='both', variables=['FREQUENCY', 'MONETARY'])"
      ]
     },
     "execution_count": 28,
     "metadata": {},
     "output_type": "execute_result"
    }
   ],
   "source": [
    "# create the capper\n",
    "windsorizer = Winsorizer(capping_method='gaussian', # choose iqr for skewed or gaussian for normal\n",
    "                          tail='both', # cap left, right or both tails \n",
    "                          fold=3,\n",
    "                          variables=['FREQUENCY','MONETARY'])\n",
    "\n",
    "windsorizer.fit(final_df_win)"
   ]
  },
  {
   "cell_type": "code",
   "execution_count": 29,
   "id": "8da1c9cf",
   "metadata": {},
   "outputs": [],
   "source": [
    "final_df_win = windsorizer.transform(final_df_win)"
   ]
  },
  {
   "attachments": {},
   "cell_type": "markdown",
   "id": "6f6d83f8",
   "metadata": {},
   "source": [
    "### 3.3.2 Generate Churn"
   ]
  },
  {
   "cell_type": "code",
   "execution_count": 30,
   "id": "29f1026c",
   "metadata": {},
   "outputs": [],
   "source": [
    "# create untransformed copy of the dataframe for customer segmentation\n",
    "cust_seg_ori = final_df_win.copy()\n",
    "\n",
    "# Add Target CHURNED\n",
    "cust_seg_ori['CHURNED'] = 1\n",
    "cust_seg_ori.loc[cust_seg_ori['DAYS_TO_NEXT_ORDER']<=14,'CHURNED'] = 0"
   ]
  },
  {
   "cell_type": "code",
   "execution_count": 31,
   "id": "1d139bf5",
   "metadata": {},
   "outputs": [],
   "source": [
    "# plots a vertical bar graph of value counts by category, lengend of cluster number\n",
    "def plot_categorical_distribution(categorical_variable, cluster_variable,custom_palette,df_categoical):\n",
    "    plt.figure(figsize=(14, 6))\n",
    "    ax = sns.countplot(data=df_categoical, x=categorical_variable, hue=cluster_variable, palette=custom_palette)\n",
    "    plt.title(f\"Distribution of {categorical_variable} by Clusters\")\n",
    "    plt.xlabel(categorical_variable)\n",
    "    plt.ylabel(\"Count\")\n",
    "    plt.legend(title=cluster_variable, loc=\"upper right\")    \n",
    "    # data labels\n",
    "    for p in ax.patches:\n",
    "        ax.annotate(format(p.get_height(), '.0f'), (p.get_x() + p.get_width() / 2., p.get_height()),\n",
    "                    ha = 'center', va = 'center', xytext = (0, 5), textcoords = 'offset points')\n",
    "    plt.show()"
   ]
  },
  {
   "cell_type": "code",
   "execution_count": 32,
   "id": "3cf03ede",
   "metadata": {},
   "outputs": [],
   "source": [
    "cust_seg_demo_full=cust_seg_ori.copy()"
   ]
  },
  {
   "cell_type": "code",
   "execution_count": 33,
   "id": "6d9603c5",
   "metadata": {},
   "outputs": [
    {
     "data": {
      "text/html": [
       "<div>\n",
       "<style scoped>\n",
       "    .dataframe tbody tr th:only-of-type {\n",
       "        vertical-align: middle;\n",
       "    }\n",
       "\n",
       "    .dataframe tbody tr th {\n",
       "        vertical-align: top;\n",
       "    }\n",
       "\n",
       "    .dataframe thead th {\n",
       "        text-align: right;\n",
       "    }\n",
       "</style>\n",
       "<table border=\"1\" class=\"dataframe\">\n",
       "  <thead>\n",
       "    <tr style=\"text-align: right;\">\n",
       "      <th></th>\n",
       "      <th>CUSTOMER_ID</th>\n",
       "      <th>RECENCY</th>\n",
       "      <th>FREQUENCY</th>\n",
       "      <th>MONETARY</th>\n",
       "      <th>AVG_DAYS_BETWEEN_PURCHASE</th>\n",
       "      <th>MAX_DAYS_WITHOUT_PURCHASE</th>\n",
       "      <th>MIN_DAYS_WITHOUT_PURCHASE</th>\n",
       "      <th>BIRTHDAY_DATE</th>\n",
       "      <th>GENDER</th>\n",
       "      <th>MARITAL_STATUS</th>\n",
       "      <th>...</th>\n",
       "      <th>CHILDREN_COUNT</th>\n",
       "      <th>AGE</th>\n",
       "      <th>LENGTH_OF_RELATIONSHIP</th>\n",
       "      <th>NUM_OF_LOCATIONS_VISITED</th>\n",
       "      <th>RELATIVE_PURCHASE_FREQUENCY</th>\n",
       "      <th>RELATIVE_PURCHASE_MONETARY</th>\n",
       "      <th>ORDER_TS</th>\n",
       "      <th>MAX_ORDER_TS</th>\n",
       "      <th>DAYS_TO_NEXT_ORDER</th>\n",
       "      <th>CHURNED</th>\n",
       "    </tr>\n",
       "  </thead>\n",
       "  <tbody>\n",
       "    <tr>\n",
       "      <th>0</th>\n",
       "      <td>22</td>\n",
       "      <td>14</td>\n",
       "      <td>43.0</td>\n",
       "      <td>1404.50</td>\n",
       "      <td>30</td>\n",
       "      <td>173</td>\n",
       "      <td>1</td>\n",
       "      <td>1949-01-12</td>\n",
       "      <td>Male</td>\n",
       "      <td>Married</td>\n",
       "      <td>...</td>\n",
       "      <td>4</td>\n",
       "      <td>73</td>\n",
       "      <td>1253</td>\n",
       "      <td>40</td>\n",
       "      <td>0.034318</td>\n",
       "      <td>1.120910</td>\n",
       "      <td>2022-10-17</td>\n",
       "      <td>2022-10-19</td>\n",
       "      <td>2</td>\n",
       "      <td>0</td>\n",
       "    </tr>\n",
       "    <tr>\n",
       "      <th>1</th>\n",
       "      <td>42</td>\n",
       "      <td>8</td>\n",
       "      <td>39.0</td>\n",
       "      <td>1811.50</td>\n",
       "      <td>33</td>\n",
       "      <td>167</td>\n",
       "      <td>1</td>\n",
       "      <td>1966-06-28</td>\n",
       "      <td>Undisclosed</td>\n",
       "      <td>Single</td>\n",
       "      <td>...</td>\n",
       "      <td>0</td>\n",
       "      <td>56</td>\n",
       "      <td>1270</td>\n",
       "      <td>36</td>\n",
       "      <td>0.030709</td>\n",
       "      <td>1.426378</td>\n",
       "      <td>2022-10-23</td>\n",
       "      <td>2022-10-26</td>\n",
       "      <td>3</td>\n",
       "      <td>0</td>\n",
       "    </tr>\n",
       "    <tr>\n",
       "      <th>2</th>\n",
       "      <td>59</td>\n",
       "      <td>26</td>\n",
       "      <td>38.0</td>\n",
       "      <td>1256.50</td>\n",
       "      <td>33</td>\n",
       "      <td>355</td>\n",
       "      <td>1</td>\n",
       "      <td>1961-06-05</td>\n",
       "      <td>Male</td>\n",
       "      <td>Married</td>\n",
       "      <td>...</td>\n",
       "      <td>2</td>\n",
       "      <td>61</td>\n",
       "      <td>1260</td>\n",
       "      <td>35</td>\n",
       "      <td>0.030159</td>\n",
       "      <td>0.997222</td>\n",
       "      <td>2022-10-05</td>\n",
       "      <td>2022-10-26</td>\n",
       "      <td>21</td>\n",
       "      <td>1</td>\n",
       "    </tr>\n",
       "    <tr>\n",
       "      <th>3</th>\n",
       "      <td>65</td>\n",
       "      <td>29</td>\n",
       "      <td>42.0</td>\n",
       "      <td>1393.25</td>\n",
       "      <td>30</td>\n",
       "      <td>207</td>\n",
       "      <td>2</td>\n",
       "      <td>1958-09-01</td>\n",
       "      <td>Male</td>\n",
       "      <td>Divorced/Seperated</td>\n",
       "      <td>...</td>\n",
       "      <td>5+</td>\n",
       "      <td>64</td>\n",
       "      <td>1222</td>\n",
       "      <td>40</td>\n",
       "      <td>0.034370</td>\n",
       "      <td>1.140139</td>\n",
       "      <td>2022-10-02</td>\n",
       "      <td>2022-10-13</td>\n",
       "      <td>11</td>\n",
       "      <td>0</td>\n",
       "    </tr>\n",
       "    <tr>\n",
       "      <th>4</th>\n",
       "      <td>106</td>\n",
       "      <td>18</td>\n",
       "      <td>48.0</td>\n",
       "      <td>2096.75</td>\n",
       "      <td>24</td>\n",
       "      <td>158</td>\n",
       "      <td>1</td>\n",
       "      <td>1967-05-10</td>\n",
       "      <td>Female</td>\n",
       "      <td>Single</td>\n",
       "      <td>...</td>\n",
       "      <td>0</td>\n",
       "      <td>55</td>\n",
       "      <td>1133</td>\n",
       "      <td>47</td>\n",
       "      <td>0.042365</td>\n",
       "      <td>1.850618</td>\n",
       "      <td>2022-10-13</td>\n",
       "      <td>2022-10-29</td>\n",
       "      <td>16</td>\n",
       "      <td>1</td>\n",
       "    </tr>\n",
       "    <tr>\n",
       "      <th>...</th>\n",
       "      <td>...</td>\n",
       "      <td>...</td>\n",
       "      <td>...</td>\n",
       "      <td>...</td>\n",
       "      <td>...</td>\n",
       "      <td>...</td>\n",
       "      <td>...</td>\n",
       "      <td>...</td>\n",
       "      <td>...</td>\n",
       "      <td>...</td>\n",
       "      <td>...</td>\n",
       "      <td>...</td>\n",
       "      <td>...</td>\n",
       "      <td>...</td>\n",
       "      <td>...</td>\n",
       "      <td>...</td>\n",
       "      <td>...</td>\n",
       "      <td>...</td>\n",
       "      <td>...</td>\n",
       "      <td>...</td>\n",
       "      <td>...</td>\n",
       "    </tr>\n",
       "    <tr>\n",
       "      <th>46295</th>\n",
       "      <td>199985</td>\n",
       "      <td>19</td>\n",
       "      <td>66.0</td>\n",
       "      <td>2576.50</td>\n",
       "      <td>16</td>\n",
       "      <td>54</td>\n",
       "      <td>1</td>\n",
       "      <td>1944-01-13</td>\n",
       "      <td>Female</td>\n",
       "      <td>Married</td>\n",
       "      <td>...</td>\n",
       "      <td>2</td>\n",
       "      <td>78</td>\n",
       "      <td>1028</td>\n",
       "      <td>60</td>\n",
       "      <td>0.064202</td>\n",
       "      <td>2.506323</td>\n",
       "      <td>2022-10-12</td>\n",
       "      <td>2022-10-23</td>\n",
       "      <td>11</td>\n",
       "      <td>0</td>\n",
       "    </tr>\n",
       "    <tr>\n",
       "      <th>46296</th>\n",
       "      <td>199991</td>\n",
       "      <td>4</td>\n",
       "      <td>57.0</td>\n",
       "      <td>2185.50</td>\n",
       "      <td>18</td>\n",
       "      <td>107</td>\n",
       "      <td>1</td>\n",
       "      <td>1958-09-26</td>\n",
       "      <td>Female</td>\n",
       "      <td>Married</td>\n",
       "      <td>...</td>\n",
       "      <td>1</td>\n",
       "      <td>64</td>\n",
       "      <td>1034</td>\n",
       "      <td>54</td>\n",
       "      <td>0.055126</td>\n",
       "      <td>2.113636</td>\n",
       "      <td>2022-10-27</td>\n",
       "      <td>2022-10-31</td>\n",
       "      <td>4</td>\n",
       "      <td>0</td>\n",
       "    </tr>\n",
       "    <tr>\n",
       "      <th>46297</th>\n",
       "      <td>199995</td>\n",
       "      <td>59</td>\n",
       "      <td>36.0</td>\n",
       "      <td>1297.75</td>\n",
       "      <td>24</td>\n",
       "      <td>125</td>\n",
       "      <td>1</td>\n",
       "      <td>1944-08-03</td>\n",
       "      <td>Undisclosed</td>\n",
       "      <td>Single</td>\n",
       "      <td>...</td>\n",
       "      <td>0</td>\n",
       "      <td>78</td>\n",
       "      <td>903</td>\n",
       "      <td>34</td>\n",
       "      <td>0.039867</td>\n",
       "      <td>1.437154</td>\n",
       "      <td>2022-09-02</td>\n",
       "      <td>2022-10-29</td>\n",
       "      <td>57</td>\n",
       "      <td>1</td>\n",
       "    </tr>\n",
       "    <tr>\n",
       "      <th>46298</th>\n",
       "      <td>199999</td>\n",
       "      <td>31</td>\n",
       "      <td>36.0</td>\n",
       "      <td>1210.50</td>\n",
       "      <td>31</td>\n",
       "      <td>182</td>\n",
       "      <td>1</td>\n",
       "      <td>1972-08-19</td>\n",
       "      <td>Female</td>\n",
       "      <td>Married</td>\n",
       "      <td>...</td>\n",
       "      <td>2</td>\n",
       "      <td>50</td>\n",
       "      <td>1102</td>\n",
       "      <td>35</td>\n",
       "      <td>0.032668</td>\n",
       "      <td>1.098457</td>\n",
       "      <td>2022-09-30</td>\n",
       "      <td>2022-10-18</td>\n",
       "      <td>18</td>\n",
       "      <td>1</td>\n",
       "    </tr>\n",
       "    <tr>\n",
       "      <th>46299</th>\n",
       "      <td>200000</td>\n",
       "      <td>33</td>\n",
       "      <td>51.0</td>\n",
       "      <td>2075.50</td>\n",
       "      <td>20</td>\n",
       "      <td>120</td>\n",
       "      <td>1</td>\n",
       "      <td>1989-06-23</td>\n",
       "      <td>Male</td>\n",
       "      <td>Single</td>\n",
       "      <td>...</td>\n",
       "      <td>0</td>\n",
       "      <td>33</td>\n",
       "      <td>1027</td>\n",
       "      <td>49</td>\n",
       "      <td>0.049659</td>\n",
       "      <td>2.020935</td>\n",
       "      <td>2022-09-28</td>\n",
       "      <td>2022-10-27</td>\n",
       "      <td>29</td>\n",
       "      <td>1</td>\n",
       "    </tr>\n",
       "  </tbody>\n",
       "</table>\n",
       "<p>46300 rows × 23 columns</p>\n",
       "</div>"
      ],
      "text/plain": [
       "       CUSTOMER_ID  RECENCY  FREQUENCY  MONETARY  AVG_DAYS_BETWEEN_PURCHASE  \\\n",
       "0               22       14       43.0   1404.50                         30   \n",
       "1               42        8       39.0   1811.50                         33   \n",
       "2               59       26       38.0   1256.50                         33   \n",
       "3               65       29       42.0   1393.25                         30   \n",
       "4              106       18       48.0   2096.75                         24   \n",
       "...            ...      ...        ...       ...                        ...   \n",
       "46295       199985       19       66.0   2576.50                         16   \n",
       "46296       199991        4       57.0   2185.50                         18   \n",
       "46297       199995       59       36.0   1297.75                         24   \n",
       "46298       199999       31       36.0   1210.50                         31   \n",
       "46299       200000       33       51.0   2075.50                         20   \n",
       "\n",
       "       MAX_DAYS_WITHOUT_PURCHASE  MIN_DAYS_WITHOUT_PURCHASE BIRTHDAY_DATE  \\\n",
       "0                            173                          1    1949-01-12   \n",
       "1                            167                          1    1966-06-28   \n",
       "2                            355                          1    1961-06-05   \n",
       "3                            207                          2    1958-09-01   \n",
       "4                            158                          1    1967-05-10   \n",
       "...                          ...                        ...           ...   \n",
       "46295                         54                          1    1944-01-13   \n",
       "46296                        107                          1    1958-09-26   \n",
       "46297                        125                          1    1944-08-03   \n",
       "46298                        182                          1    1972-08-19   \n",
       "46299                        120                          1    1989-06-23   \n",
       "\n",
       "            GENDER      MARITAL_STATUS  ... CHILDREN_COUNT AGE  \\\n",
       "0             Male             Married  ...              4  73   \n",
       "1      Undisclosed              Single  ...              0  56   \n",
       "2             Male             Married  ...              2  61   \n",
       "3             Male  Divorced/Seperated  ...             5+  64   \n",
       "4           Female              Single  ...              0  55   \n",
       "...            ...                 ...  ...            ...  ..   \n",
       "46295       Female             Married  ...              2  78   \n",
       "46296       Female             Married  ...              1  64   \n",
       "46297  Undisclosed              Single  ...              0  78   \n",
       "46298       Female             Married  ...              2  50   \n",
       "46299         Male              Single  ...              0  33   \n",
       "\n",
       "      LENGTH_OF_RELATIONSHIP NUM_OF_LOCATIONS_VISITED  \\\n",
       "0                       1253                       40   \n",
       "1                       1270                       36   \n",
       "2                       1260                       35   \n",
       "3                       1222                       40   \n",
       "4                       1133                       47   \n",
       "...                      ...                      ...   \n",
       "46295                   1028                       60   \n",
       "46296                   1034                       54   \n",
       "46297                    903                       34   \n",
       "46298                   1102                       35   \n",
       "46299                   1027                       49   \n",
       "\n",
       "       RELATIVE_PURCHASE_FREQUENCY  RELATIVE_PURCHASE_MONETARY    ORDER_TS  \\\n",
       "0                         0.034318                    1.120910  2022-10-17   \n",
       "1                         0.030709                    1.426378  2022-10-23   \n",
       "2                         0.030159                    0.997222  2022-10-05   \n",
       "3                         0.034370                    1.140139  2022-10-02   \n",
       "4                         0.042365                    1.850618  2022-10-13   \n",
       "...                            ...                         ...         ...   \n",
       "46295                     0.064202                    2.506323  2022-10-12   \n",
       "46296                     0.055126                    2.113636  2022-10-27   \n",
       "46297                     0.039867                    1.437154  2022-09-02   \n",
       "46298                     0.032668                    1.098457  2022-09-30   \n",
       "46299                     0.049659                    2.020935  2022-09-28   \n",
       "\n",
       "       MAX_ORDER_TS  DAYS_TO_NEXT_ORDER CHURNED  \n",
       "0        2022-10-19                   2       0  \n",
       "1        2022-10-26                   3       0  \n",
       "2        2022-10-26                  21       1  \n",
       "3        2022-10-13                  11       0  \n",
       "4        2022-10-29                  16       1  \n",
       "...             ...                 ...     ...  \n",
       "46295    2022-10-23                  11       0  \n",
       "46296    2022-10-31                   4       0  \n",
       "46297    2022-10-29                  57       1  \n",
       "46298    2022-10-18                  18       1  \n",
       "46299    2022-10-27                  29       1  \n",
       "\n",
       "[46300 rows x 23 columns]"
      ]
     },
     "execution_count": 33,
     "metadata": {},
     "output_type": "execute_result"
    }
   ],
   "source": [
    "cust_seg_demo_full"
   ]
  },
  {
   "cell_type": "code",
   "execution_count": 34,
   "id": "349d4daa",
   "metadata": {},
   "outputs": [],
   "source": [
    "cust_seg_demo_full['CHILDREN_COUNT'] = cust_seg_demo_full['CHILDREN_COUNT'].map({\n",
    "    '0': \"No\",\n",
    "    '1': \"Yes\",\n",
    "    '2': \"Yes\",\n",
    "    '3': \"Yes\",\n",
    "    '4': \"Yes\",\n",
    "    '5+': \"Yes\",\n",
    "    'Undisclosed':'Undisclosed'})\n",
    "\n",
    "cust_seg_demo_full.rename({'CHILDREN_COUNT':'HAVE_CHILDREN'},inplace=True,errors='ignore',axis=1)"
   ]
  },
  {
   "cell_type": "code",
   "execution_count": 35,
   "id": "e384542b",
   "metadata": {},
   "outputs": [],
   "source": [
    "# Define the age groups and corresponding labels\n",
    "age_bins = [0, 46, 66, 83]\n",
    "age_labels = ['Adults', 'Middle-Aged Adults', 'Seniors']\n",
    "\n",
    "# Bin the age column based on the age groups and labels\n",
    "cust_seg_demo_full['AGE_GROUP'] = pd.cut(cust_seg_demo_full['AGE'], bins=age_bins, labels=age_labels)"
   ]
  },
  {
   "cell_type": "code",
   "execution_count": 36,
   "id": "768ebe2b",
   "metadata": {},
   "outputs": [],
   "source": [
    "# Define the age groups and corresponding labels\n",
    "DTNO_bins = [0, 7, 14, 30, 999]\n",
    "DTNO_labels = ['<7 Days', '14 Days', '30 Days', '>30 Days']\n",
    "\n",
    "# Bin the age column based on the age groups and labels\n",
    "cust_seg_demo_full['DAYS_TO_NEXT_ORDER'] = pd.cut(cust_seg_demo_full['DAYS_TO_NEXT_ORDER'], bins=DTNO_bins, labels=DTNO_labels)"
   ]
  },
  {
   "cell_type": "code",
   "execution_count": 37,
   "id": "562dfe76",
   "metadata": {},
   "outputs": [
    {
     "data": {
      "text/html": [
       "<div>\n",
       "<style scoped>\n",
       "    .dataframe tbody tr th:only-of-type {\n",
       "        vertical-align: middle;\n",
       "    }\n",
       "\n",
       "    .dataframe tbody tr th {\n",
       "        vertical-align: top;\n",
       "    }\n",
       "\n",
       "    .dataframe thead th {\n",
       "        text-align: right;\n",
       "    }\n",
       "</style>\n",
       "<table border=\"1\" class=\"dataframe\">\n",
       "  <thead>\n",
       "    <tr style=\"text-align: right;\">\n",
       "      <th></th>\n",
       "      <th>GENDER</th>\n",
       "      <th>MARITAL_STATUS</th>\n",
       "      <th>CITY</th>\n",
       "      <th>HAVE_CHILDREN</th>\n",
       "      <th>AGE_GROUP</th>\n",
       "    </tr>\n",
       "  </thead>\n",
       "  <tbody>\n",
       "    <tr>\n",
       "      <th>0</th>\n",
       "      <td>Male</td>\n",
       "      <td>Married</td>\n",
       "      <td>San Mateo</td>\n",
       "      <td>Yes</td>\n",
       "      <td>Seniors</td>\n",
       "    </tr>\n",
       "    <tr>\n",
       "      <th>1</th>\n",
       "      <td>Undisclosed</td>\n",
       "      <td>Single</td>\n",
       "      <td>San Mateo</td>\n",
       "      <td>No</td>\n",
       "      <td>Middle-Aged Adults</td>\n",
       "    </tr>\n",
       "    <tr>\n",
       "      <th>2</th>\n",
       "      <td>Male</td>\n",
       "      <td>Married</td>\n",
       "      <td>San Mateo</td>\n",
       "      <td>Yes</td>\n",
       "      <td>Middle-Aged Adults</td>\n",
       "    </tr>\n",
       "    <tr>\n",
       "      <th>3</th>\n",
       "      <td>Male</td>\n",
       "      <td>Divorced/Seperated</td>\n",
       "      <td>San Mateo</td>\n",
       "      <td>Yes</td>\n",
       "      <td>Middle-Aged Adults</td>\n",
       "    </tr>\n",
       "    <tr>\n",
       "      <th>4</th>\n",
       "      <td>Female</td>\n",
       "      <td>Single</td>\n",
       "      <td>San Mateo</td>\n",
       "      <td>No</td>\n",
       "      <td>Middle-Aged Adults</td>\n",
       "    </tr>\n",
       "    <tr>\n",
       "      <th>...</th>\n",
       "      <td>...</td>\n",
       "      <td>...</td>\n",
       "      <td>...</td>\n",
       "      <td>...</td>\n",
       "      <td>...</td>\n",
       "    </tr>\n",
       "    <tr>\n",
       "      <th>46295</th>\n",
       "      <td>Female</td>\n",
       "      <td>Married</td>\n",
       "      <td>Seattle</td>\n",
       "      <td>Yes</td>\n",
       "      <td>Seniors</td>\n",
       "    </tr>\n",
       "    <tr>\n",
       "      <th>46296</th>\n",
       "      <td>Female</td>\n",
       "      <td>Married</td>\n",
       "      <td>New York City</td>\n",
       "      <td>Yes</td>\n",
       "      <td>Middle-Aged Adults</td>\n",
       "    </tr>\n",
       "    <tr>\n",
       "      <th>46297</th>\n",
       "      <td>Undisclosed</td>\n",
       "      <td>Single</td>\n",
       "      <td>Boston</td>\n",
       "      <td>No</td>\n",
       "      <td>Seniors</td>\n",
       "    </tr>\n",
       "    <tr>\n",
       "      <th>46298</th>\n",
       "      <td>Female</td>\n",
       "      <td>Married</td>\n",
       "      <td>San Mateo</td>\n",
       "      <td>Yes</td>\n",
       "      <td>Middle-Aged Adults</td>\n",
       "    </tr>\n",
       "    <tr>\n",
       "      <th>46299</th>\n",
       "      <td>Male</td>\n",
       "      <td>Single</td>\n",
       "      <td>New York City</td>\n",
       "      <td>No</td>\n",
       "      <td>Adults</td>\n",
       "    </tr>\n",
       "  </tbody>\n",
       "</table>\n",
       "<p>46300 rows × 5 columns</p>\n",
       "</div>"
      ],
      "text/plain": [
       "            GENDER      MARITAL_STATUS           CITY HAVE_CHILDREN  \\\n",
       "0             Male             Married      San Mateo           Yes   \n",
       "1      Undisclosed              Single      San Mateo            No   \n",
       "2             Male             Married      San Mateo           Yes   \n",
       "3             Male  Divorced/Seperated      San Mateo           Yes   \n",
       "4           Female              Single      San Mateo            No   \n",
       "...            ...                 ...            ...           ...   \n",
       "46295       Female             Married        Seattle           Yes   \n",
       "46296       Female             Married  New York City           Yes   \n",
       "46297  Undisclosed              Single         Boston            No   \n",
       "46298       Female             Married      San Mateo           Yes   \n",
       "46299         Male              Single  New York City            No   \n",
       "\n",
       "                AGE_GROUP  \n",
       "0                 Seniors  \n",
       "1      Middle-Aged Adults  \n",
       "2      Middle-Aged Adults  \n",
       "3      Middle-Aged Adults  \n",
       "4      Middle-Aged Adults  \n",
       "...                   ...  \n",
       "46295             Seniors  \n",
       "46296  Middle-Aged Adults  \n",
       "46297             Seniors  \n",
       "46298  Middle-Aged Adults  \n",
       "46299              Adults  \n",
       "\n",
       "[46300 rows x 5 columns]"
      ]
     },
     "execution_count": 37,
     "metadata": {},
     "output_type": "execute_result"
    }
   ],
   "source": [
    "cust_seg_demo=cust_seg_demo_full[['GENDER','MARITAL_STATUS','CITY','HAVE_CHILDREN','AGE_GROUP']]#,'DAYS_TO_NEXT_ORDER','CHURNED']]\n",
    "cust_seg_demo"
   ]
  },
  {
   "cell_type": "code",
   "execution_count": 38,
   "id": "33b06775",
   "metadata": {},
   "outputs": [],
   "source": [
    "def kmodes_eval(cost):\n",
    "    \n",
    "    percentage_change = [(cost[i+1] - cost[i]) / cost[i] * 100 for i in range(len(cost)-1)]\n",
    "\n",
    "    # Define figure size\n",
    "    plt.figure(figsize=(16, 4))\n",
    "\n",
    "    # Regular\n",
    "    plt.subplot(1, 2, 1)\n",
    "    plt.plot(range(1, 11), cost, 'b-*')\n",
    "    plt.title('Actual Cost')\n",
    "    plt.xlabel('Number of clusters')\n",
    "    plt.ylabel('Cost')\n",
    "\n",
    "    # Difference\n",
    "    plt.subplot(1, 2, 2)\n",
    "    plt.plot(range(1, 10), percentage_change, 'b-*')\n",
    "    plt.title('% change in Cost')\n",
    "    plt.xlabel('Number of clusters')\n",
    "    plt.ylabel('% Change')\n",
    "\n",
    "    plt.suptitle('K-Modes Clustering Elbow Curve')\n",
    "\n",
    "    plt.show()"
   ]
  },
  {
   "cell_type": "code",
   "execution_count": 39,
   "id": "7b0116dc",
   "metadata": {},
   "outputs": [
    {
     "name": "stdout",
     "output_type": "stream",
     "text": [
      "Init: initializing centroids\n",
      "Init: initializing clusters\n",
      "Starting iterations...\n",
      "Run 1, iteration: 1/100, moves: 0, cost: 137532.0\n",
      "Init: initializing centroids\n",
      "Init: initializing clusters\n",
      "Starting iterations...\n",
      "Run 2, iteration: 1/100, moves: 0, cost: 137532.0\n",
      "Init: initializing centroids\n",
      "Init: initializing clusters\n",
      "Starting iterations...\n",
      "Run 3, iteration: 1/100, moves: 0, cost: 137532.0\n",
      "Init: initializing centroids\n",
      "Init: initializing clusters\n",
      "Starting iterations...\n",
      "Run 4, iteration: 1/100, moves: 0, cost: 137532.0\n",
      "Init: initializing centroids\n",
      "Init: initializing clusters\n",
      "Starting iterations...\n",
      "Run 5, iteration: 1/100, moves: 0, cost: 137532.0\n",
      "Best run was number 1\n",
      "Init: initializing centroids\n",
      "Init: initializing clusters\n",
      "Starting iterations...\n",
      "Run 1, iteration: 1/100, moves: 9333, cost: 100794.0\n",
      "Init: initializing centroids\n",
      "Init: initializing clusters\n",
      "Starting iterations...\n",
      "Run 2, iteration: 1/100, moves: 4189, cost: 102899.0\n",
      "Run 2, iteration: 2/100, moves: 235, cost: 102899.0\n",
      "Init: initializing centroids\n",
      "Init: initializing clusters\n",
      "Starting iterations...\n",
      "Run 3, iteration: 1/100, moves: 3064, cost: 103883.0\n",
      "Init: initializing centroids\n",
      "Init: initializing clusters\n",
      "Starting iterations...\n",
      "Run 4, iteration: 1/100, moves: 3038, cost: 103877.0\n",
      "Init: initializing centroids\n",
      "Init: initializing clusters\n",
      "Starting iterations...\n",
      "Run 5, iteration: 1/100, moves: 15022, cost: 101710.0\n",
      "Best run was number 1\n",
      "Init: initializing centroids\n",
      "Init: initializing clusters\n",
      "Starting iterations...\n",
      "Run 1, iteration: 1/100, moves: 10115, cost: 90731.0\n",
      "Run 1, iteration: 2/100, moves: 1129, cost: 90731.0\n",
      "Init: initializing centroids\n",
      "Init: initializing clusters\n",
      "Starting iterations...\n",
      "Run 2, iteration: 1/100, moves: 0, cost: 91827.0\n",
      "Init: initializing centroids\n",
      "Init: initializing clusters\n",
      "Starting iterations...\n",
      "Run 3, iteration: 1/100, moves: 2336, cost: 93492.0\n",
      "Run 3, iteration: 2/100, moves: 18, cost: 93492.0\n",
      "Init: initializing centroids\n",
      "Init: initializing clusters\n",
      "Starting iterations...\n",
      "Run 4, iteration: 1/100, moves: 9523, cost: 90365.0\n",
      "Init: initializing centroids\n",
      "Init: initializing clusters\n",
      "Starting iterations...\n",
      "Run 5, iteration: 1/100, moves: 10288, cost: 94932.0\n",
      "Run 5, iteration: 2/100, moves: 1886, cost: 94932.0\n",
      "Best run was number 4\n",
      "Init: initializing centroids\n",
      "Init: initializing clusters\n",
      "Starting iterations...\n",
      "Run 1, iteration: 1/100, moves: 7723, cost: 85244.0\n",
      "Run 1, iteration: 2/100, moves: 835, cost: 85244.0\n",
      "Init: initializing centroids\n",
      "Init: initializing clusters\n",
      "Starting iterations...\n",
      "Run 2, iteration: 1/100, moves: 9023, cost: 81935.0\n",
      "Init: initializing centroids\n",
      "Init: initializing clusters\n",
      "Starting iterations...\n",
      "Run 3, iteration: 1/100, moves: 0, cost: 88297.0\n",
      "Init: initializing centroids\n",
      "Init: initializing clusters\n",
      "Starting iterations...\n",
      "Run 4, iteration: 1/100, moves: 14537, cost: 83023.0\n",
      "Run 4, iteration: 2/100, moves: 377, cost: 83023.0\n",
      "Init: initializing centroids\n",
      "Init: initializing clusters\n",
      "Starting iterations...\n",
      "Run 5, iteration: 1/100, moves: 11871, cost: 88343.0\n",
      "Best run was number 2\n",
      "Init: initializing centroids\n",
      "Init: initializing clusters\n",
      "Starting iterations...\n",
      "Run 1, iteration: 1/100, moves: 0, cost: 81692.0\n",
      "Init: initializing centroids\n",
      "Init: initializing clusters\n",
      "Starting iterations...\n",
      "Run 2, iteration: 1/100, moves: 11855, cost: 79677.0\n",
      "Run 2, iteration: 2/100, moves: 5702, cost: 77567.0\n",
      "Run 2, iteration: 3/100, moves: 1815, cost: 77567.0\n",
      "Init: initializing centroids\n",
      "Init: initializing clusters\n",
      "Starting iterations...\n",
      "Run 3, iteration: 1/100, moves: 4229, cost: 86552.0\n",
      "Init: initializing centroids\n",
      "Init: initializing clusters\n",
      "Starting iterations...\n",
      "Run 4, iteration: 1/100, moves: 5742, cost: 83735.0\n",
      "Init: initializing centroids\n",
      "Init: initializing clusters\n",
      "Starting iterations...\n",
      "Run 5, iteration: 1/100, moves: 4904, cost: 77869.0\n",
      "Best run was number 2\n",
      "Init: initializing centroids\n",
      "Init: initializing clusters\n",
      "Starting iterations...\n",
      "Run 1, iteration: 1/100, moves: 8962, cost: 79457.0\n",
      "Run 1, iteration: 2/100, moves: 1290, cost: 79457.0\n",
      "Init: initializing centroids\n",
      "Init: initializing clusters\n",
      "Starting iterations...\n",
      "Run 2, iteration: 1/100, moves: 13451, cost: 75083.0\n",
      "Run 2, iteration: 2/100, moves: 8247, cost: 75083.0\n",
      "Init: initializing centroids\n",
      "Init: initializing clusters\n",
      "Starting iterations...\n",
      "Run 3, iteration: 1/100, moves: 10957, cost: 72740.0\n",
      "Run 3, iteration: 2/100, moves: 3257, cost: 72740.0\n",
      "Init: initializing centroids\n",
      "Init: initializing clusters\n",
      "Starting iterations...\n",
      "Run 4, iteration: 1/100, moves: 19496, cost: 73700.0\n",
      "Run 4, iteration: 2/100, moves: 137, cost: 73700.0\n",
      "Init: initializing centroids\n",
      "Init: initializing clusters\n",
      "Starting iterations...\n",
      "Run 5, iteration: 1/100, moves: 8598, cost: 74105.0\n",
      "Best run was number 3\n",
      "Init: initializing centroids\n",
      "Init: initializing clusters\n",
      "Starting iterations...\n",
      "Run 1, iteration: 1/100, moves: 5617, cost: 70411.0\n",
      "Init: initializing centroids\n",
      "Init: initializing clusters\n",
      "Starting iterations...\n",
      "Run 2, iteration: 1/100, moves: 10285, cost: 73224.0\n",
      "Run 2, iteration: 2/100, moves: 4162, cost: 73224.0\n",
      "Init: initializing centroids\n",
      "Init: initializing clusters\n",
      "Starting iterations...\n",
      "Run 3, iteration: 1/100, moves: 16355, cost: 74899.0\n",
      "Init: initializing centroids\n",
      "Init: initializing clusters\n",
      "Starting iterations...\n",
      "Run 4, iteration: 1/100, moves: 10132, cost: 68100.0\n",
      "Run 4, iteration: 2/100, moves: 2608, cost: 68100.0\n",
      "Init: initializing centroids\n",
      "Init: initializing clusters\n",
      "Starting iterations...\n",
      "Run 5, iteration: 1/100, moves: 13389, cost: 68990.0\n",
      "Best run was number 4\n",
      "Init: initializing centroids\n",
      "Init: initializing clusters\n",
      "Starting iterations...\n",
      "Run 1, iteration: 1/100, moves: 12440, cost: 73522.0\n",
      "Init: initializing centroids\n",
      "Init: initializing clusters\n",
      "Starting iterations...\n",
      "Run 2, iteration: 1/100, moves: 9838, cost: 67645.0\n",
      "Run 2, iteration: 2/100, moves: 698, cost: 67645.0\n",
      "Init: initializing centroids\n",
      "Init: initializing clusters\n",
      "Starting iterations...\n",
      "Run 3, iteration: 1/100, moves: 0, cost: 74370.0\n",
      "Init: initializing centroids\n",
      "Init: initializing clusters\n",
      "Starting iterations...\n",
      "Run 4, iteration: 1/100, moves: 8948, cost: 73542.0\n",
      "Run 4, iteration: 2/100, moves: 1368, cost: 73542.0\n",
      "Init: initializing centroids\n",
      "Init: initializing clusters\n",
      "Starting iterations...\n",
      "Run 5, iteration: 1/100, moves: 0, cost: 69314.0\n",
      "Best run was number 2\n",
      "Init: initializing centroids\n",
      "Init: initializing clusters\n",
      "Starting iterations...\n",
      "Run 1, iteration: 1/100, moves: 0, cost: 72563.0\n",
      "Init: initializing centroids\n",
      "Init: initializing clusters\n",
      "Starting iterations...\n",
      "Run 2, iteration: 1/100, moves: 17479, cost: 64936.0\n",
      "Run 2, iteration: 2/100, moves: 2113, cost: 64936.0\n",
      "Init: initializing centroids\n",
      "Init: initializing clusters\n",
      "Starting iterations...\n",
      "Run 3, iteration: 1/100, moves: 7087, cost: 66754.0\n",
      "Init: initializing centroids\n",
      "Init: initializing clusters\n",
      "Starting iterations...\n",
      "Run 4, iteration: 1/100, moves: 7020, cost: 65220.0\n",
      "Run 4, iteration: 2/100, moves: 59, cost: 65220.0\n",
      "Init: initializing centroids\n",
      "Init: initializing clusters\n",
      "Starting iterations...\n",
      "Run 5, iteration: 1/100, moves: 328, cost: 66951.0\n",
      "Best run was number 2\n",
      "Init: initializing centroids\n",
      "Init: initializing clusters\n",
      "Starting iterations...\n",
      "Run 1, iteration: 1/100, moves: 4129, cost: 65872.0\n",
      "Run 1, iteration: 2/100, moves: 12, cost: 65872.0\n",
      "Init: initializing centroids\n",
      "Init: initializing clusters\n",
      "Starting iterations...\n",
      "Run 2, iteration: 1/100, moves: 5838, cost: 63075.0\n",
      "Init: initializing centroids\n",
      "Init: initializing clusters\n",
      "Starting iterations...\n",
      "Run 3, iteration: 1/100, moves: 10460, cost: 64386.0\n",
      "Run 3, iteration: 2/100, moves: 1269, cost: 64386.0\n",
      "Init: initializing centroids\n",
      "Init: initializing clusters\n",
      "Starting iterations...\n",
      "Run 4, iteration: 1/100, moves: 9720, cost: 67186.0\n",
      "Init: initializing centroids\n",
      "Init: initializing clusters\n",
      "Starting iterations...\n",
      "Run 5, iteration: 1/100, moves: 1195, cost: 62291.0\n",
      "Best run was number 5\n"
     ]
    },
    {
     "data": {
      "image/png": "[encoded data removed]",
      "text/plain": [
       "<Figure size 1600x400 with 2 Axes>"
      ]
     },
     "metadata": {},
     "output_type": "display_data"
    }
   ],
   "source": [
    "from kmodes.kmodes import KModes\n",
    "cost = []\n",
    "for k in range(1, 11):\n",
    "    kmode = KModes(n_clusters=k, init = \"random\", n_init = 5, verbose=1)\n",
    "    kmode.fit(cust_seg_demo)\n",
    "    cost.append(kmode.cost_)\n",
    "\n",
    "kmodes_eval(cost)"
   ]
  },
  {
   "cell_type": "code",
   "execution_count": 40,
   "id": "30cc6b1c",
   "metadata": {},
   "outputs": [
    {
     "name": "stdout",
     "output_type": "stream",
     "text": [
      "Init: initializing centroids\n",
      "Init: initializing clusters\n",
      "Starting iterations...\n",
      "Run 1, iteration: 1/100, moves: 4486, cost: 81637.0\n",
      "Init: initializing centroids\n",
      "Init: initializing clusters\n",
      "Starting iterations...\n",
      "Run 2, iteration: 1/100, moves: 3613, cost: 87427.0\n",
      "Run 2, iteration: 2/100, moves: 908, cost: 87427.0\n",
      "Init: initializing centroids\n",
      "Init: initializing clusters\n",
      "Starting iterations...\n",
      "Run 3, iteration: 1/100, moves: 11182, cost: 86008.0\n",
      "Run 3, iteration: 2/100, moves: 2134, cost: 86008.0\n",
      "Init: initializing centroids\n",
      "Init: initializing clusters\n",
      "Starting iterations...\n",
      "Run 4, iteration: 1/100, moves: 6044, cost: 86040.0\n",
      "Init: initializing centroids\n",
      "Init: initializing clusters\n",
      "Starting iterations...\n",
      "Run 5, iteration: 1/100, moves: 8869, cost: 81965.0\n",
      "Best run was number 1\n"
     ]
    }
   ],
   "source": [
    "from kmodes.kmodes import KModes\n",
    "# Building the model with 3 clusters\n",
    "kmode = KModes(n_clusters=4, init = \"random\", n_init = 5, verbose=1)\n",
    "clusters = kmode.fit_predict(cust_seg_demo)"
   ]
  },
  {
   "cell_type": "code",
   "execution_count": 41,
   "id": "1f355417",
   "metadata": {},
   "outputs": [
    {
     "name": "stderr",
     "output_type": "stream",
     "text": [
      "C:\\Users\\kaiyi\\AppData\\Local\\Temp\\ipykernel_21616\\4045738462.py:1: SettingWithCopyWarning: \n",
      "A value is trying to be set on a copy of a slice from a DataFrame.\n",
      "Try using .loc[row_indexer,col_indexer] = value instead\n",
      "\n",
      "See the caveats in the documentation: https://pandas.pydata.org/pandas-docs/stable/user_guide/indexing.html#returning-a-view-versus-a-copy\n",
      "  cust_seg_demo['CLUSTERS'] = clusters\n"
     ]
    }
   ],
   "source": [
    "cust_seg_demo['CLUSTERS'] = clusters"
   ]
  },
  {
   "cell_type": "code",
   "execution_count": 42,
   "id": "19ae7bae",
   "metadata": {},
   "outputs": [
    {
     "data": {
      "text/html": [
       "<svg  width=\"220\" height=\"55\"><rect x=\"0\" y=\"0\" width=\"55\" height=\"55\" style=\"fill:#1f77b4;stroke-width:2;stroke:rgb(255,255,255)\"/><rect x=\"55\" y=\"0\" width=\"55\" height=\"55\" style=\"fill:#ff7f0e;stroke-width:2;stroke:rgb(255,255,255)\"/><rect x=\"110\" y=\"0\" width=\"55\" height=\"55\" style=\"fill:#2ca02c;stroke-width:2;stroke:rgb(255,255,255)\"/><rect x=\"165\" y=\"0\" width=\"55\" height=\"55\" style=\"fill:#d62728;stroke-width:2;stroke:rgb(255,255,255)\"/></svg>"
      ],
      "text/plain": [
       "[(0.12156862745098039, 0.4666666666666667, 0.7058823529411765),\n",
       " (1.0, 0.4980392156862745, 0.054901960784313725),\n",
       " (0.17254901960784313, 0.6274509803921569, 0.17254901960784313),\n",
       " (0.8392156862745098, 0.15294117647058825, 0.1568627450980392)]"
      ]
     },
     "execution_count": 42,
     "metadata": {},
     "output_type": "execute_result"
    }
   ],
   "source": [
    "# Define a custom color palette\n",
    "custom_palette_k_modes = sns.color_palette(\"tab10\", n_colors=4)\n",
    "custom_palette_k_modes"
   ]
  },
  {
   "cell_type": "code",
   "execution_count": 43,
   "id": "77a7996b",
   "metadata": {},
   "outputs": [
    {
     "data": {
      "image/png": "[encoded data removed]",
      "text/plain": [
       "<Figure size 1400x600 with 1 Axes>"
      ]
     },
     "metadata": {},
     "output_type": "display_data"
    },
    {
     "data": {
      "image/png": "[encoded data removed]",
      "text/plain": [
       "<Figure size 1400x600 with 1 Axes>"
      ]
     },
     "metadata": {},
     "output_type": "display_data"
    },
    {
     "data": {
      "image/png": "[encoded data removed]",
      "text/plain": [
       "<Figure size 1400x600 with 1 Axes>"
      ]
     },
     "metadata": {},
     "output_type": "display_data"
    },
    {
     "data": {
      "image/png": "[encoded data removed]",
      "text/plain": [
       "<Figure size 1400x600 with 1 Axes>"
      ]
     },
     "metadata": {},
     "output_type": "display_data"
    },
    {
     "data": {
      "image/png": "[encoded data removed]",
      "text/plain": [
       "<Figure size 1400x600 with 1 Axes>"
      ]
     },
     "metadata": {},
     "output_type": "display_data"
    },
    {
     "data": {
      "image/png": "[encoded data removed]",
      "text/plain": [
       "<Figure size 1400x600 with 1 Axes>"
      ]
     },
     "metadata": {},
     "output_type": "display_data"
    }
   ],
   "source": [
    "for col in cust_seg_demo.columns:\n",
    "    plot_categorical_distribution(col, \"CLUSTERS\", custom_palette_k_modes,cust_seg_demo)"
   ]
  },
  {
   "cell_type": "code",
   "execution_count": 44,
   "id": "25105edb",
   "metadata": {},
   "outputs": [],
   "source": [
    "def print_categorical_distribution(categorical_variable, cluster_variable, df_categorical):\n",
    "    # Group by categorical_variable and cluster_variable, then count the occurrences\n",
    "    counts = df_categorical.groupby([categorical_variable, cluster_variable]).size().reset_index(name='Count')\n",
    "\n",
    "    # Iterate through each category and print the value counts by cluster\n",
    "    for category in counts[categorical_variable].unique():\n",
    "        print(f\"{categorical_variable}: {category}\")\n",
    "        category_counts = counts[counts[categorical_variable] == category]\n",
    "        for _, row in category_counts.iterrows():\n",
    "            cluster = row[cluster_variable]\n",
    "            count = row['Count']\n",
    "            print(f\"Cluster {cluster}: {count} occurrence(s)\")\n",
    "        print()  # Add an empty line between categories\n"
   ]
  },
  {
   "cell_type": "code",
   "execution_count": 45,
   "id": "4394a7a4",
   "metadata": {},
   "outputs": [],
   "source": [
    "# for col in cust_seg_demo.columns:\n",
    "#     if col != \"CLUSTERS\":\n",
    "#         print_categorical_distribution(col, \"CLUSTERS\", cust_seg_demo)"
   ]
  },
  {
   "cell_type": "code",
   "execution_count": 46,
   "id": "659558a7",
   "metadata": {},
   "outputs": [
    {
     "data": {
      "text/plain": [
       "Index(['GENDER', 'MARITAL_STATUS', 'CITY', 'HAVE_CHILDREN', 'AGE_GROUP',\n",
       "       'CLUSTERS'],\n",
       "      dtype='object')"
      ]
     },
     "execution_count": 46,
     "metadata": {},
     "output_type": "execute_result"
    }
   ],
   "source": [
    "cust_seg_demo.columns"
   ]
  },
  {
   "cell_type": "code",
   "execution_count": 47,
   "id": "63a17f56",
   "metadata": {},
   "outputs": [
    {
     "name": "stdout",
     "output_type": "stream",
     "text": [
      "Cluster 0 Description:\n",
      "       CLUSTERS\n",
      "count   15426.0\n",
      "mean        0.0\n",
      "std         0.0\n",
      "min         0.0\n",
      "25%         0.0\n",
      "50%         0.0\n",
      "75%         0.0\n",
      "max         0.0\n",
      "------------\n",
      "Cluster 1 Description:\n",
      "       CLUSTERS\n",
      "count   13132.0\n",
      "mean        1.0\n",
      "std         0.0\n",
      "min         1.0\n",
      "25%         1.0\n",
      "50%         1.0\n",
      "75%         1.0\n",
      "max         1.0\n",
      "------------\n",
      "Cluster 2 Description:\n",
      "       CLUSTERS\n",
      "count    9151.0\n",
      "mean        2.0\n",
      "std         0.0\n",
      "min         2.0\n",
      "25%         2.0\n",
      "50%         2.0\n",
      "75%         2.0\n",
      "max         2.0\n",
      "------------\n",
      "Cluster 3 Description:\n",
      "       CLUSTERS\n",
      "count    8591.0\n",
      "mean        3.0\n",
      "std         0.0\n",
      "min         3.0\n",
      "25%         3.0\n",
      "50%         3.0\n",
      "75%         3.0\n",
      "max         3.0\n",
      "------------\n"
     ]
    }
   ],
   "source": [
    "# Step 1: Group the DataFrame by 'kmeans_cluster'\n",
    "cluster_groups = cust_seg_demo.groupby('CLUSTERS')\n",
    "\n",
    "# Step 2: Iterate through each cluster group and apply .info() function\n",
    "for cluster, cluster_df in cluster_groups:\n",
    "    print(f\"Cluster {cluster} Description:\")\n",
    "    print(cluster_df.describe())\n",
    "    print(\"------------\")"
   ]
  },
  {
   "cell_type": "code",
   "execution_count": 48,
   "id": "6f119265",
   "metadata": {},
   "outputs": [
    {
     "name": "stderr",
     "output_type": "stream",
     "text": [
      "C:\\Users\\kaiyi\\AppData\\Local\\Temp\\ipykernel_21616\\96624673.py:1: SettingWithCopyWarning: \n",
      "A value is trying to be set on a copy of a slice from a DataFrame.\n",
      "Try using .loc[row_indexer,col_indexer] = value instead\n",
      "\n",
      "See the caveats in the documentation: https://pandas.pydata.org/pandas-docs/stable/user_guide/indexing.html#returning-a-view-versus-a-copy\n",
      "  cust_seg_demo['CHURNED'] = cust_seg_demo_full['CHURNED']\n"
     ]
    }
   ],
   "source": [
    "cust_seg_demo['CHURNED'] = cust_seg_demo_full['CHURNED']"
   ]
  },
  {
   "cell_type": "code",
   "execution_count": 49,
   "id": "44e7c19a",
   "metadata": {},
   "outputs": [
    {
     "data": {
      "text/plain": [
       "CLUSTERS  CHURNED\n",
       "0         0          10875\n",
       "          1           4551\n",
       "1         0           8885\n",
       "          1           4247\n",
       "2         0           6498\n",
       "          1           2653\n",
       "3         0           6066\n",
       "          1           2525\n",
       "Name: CHURNED, dtype: int64"
      ]
     },
     "execution_count": 49,
     "metadata": {},
     "output_type": "execute_result"
    }
   ],
   "source": [
    "cust_seg_demo.groupby('CLUSTERS')['CHURNED'].value_counts()"
   ]
  },
  {
   "cell_type": "code",
   "execution_count": 50,
   "id": "543664ce",
   "metadata": {},
   "outputs": [
    {
     "data": {
      "text/plain": [
       "CLUSTERS\n",
       "0    29.502139\n",
       "1    32.340847\n",
       "2    28.991367\n",
       "3    29.391223\n",
       "Name: CHURNED, dtype: float64"
      ]
     },
     "execution_count": 50,
     "metadata": {},
     "output_type": "execute_result"
    }
   ],
   "source": [
    "cust_seg_demo.groupby('CLUSTERS')['CHURNED'].mean() * 100"
   ]
  },
  {
   "cell_type": "code",
   "execution_count": 51,
   "id": "0007f76a",
   "metadata": {},
   "outputs": [],
   "source": [
    "total = 0\n",
    "for i in range(4):\n",
    "    total +=cust_seg_demo.groupby('CLUSTERS')['CLUSTERS'].count()[i]"
   ]
  },
  {
   "cell_type": "code",
   "execution_count": 52,
   "id": "43f3dbc6",
   "metadata": {},
   "outputs": [
    {
     "data": {
      "text/plain": [
       "46300"
      ]
     },
     "execution_count": 52,
     "metadata": {},
     "output_type": "execute_result"
    }
   ],
   "source": [
    "total"
   ]
  },
  {
   "cell_type": "code",
   "execution_count": 53,
   "id": "d8a01c8b",
   "metadata": {},
   "outputs": [
    {
     "name": "stdout",
     "output_type": "stream",
     "text": [
      "33.317494600431964\n",
      "28.36285097192225\n",
      "19.764578833693307\n",
      "18.555075593952484\n"
     ]
    }
   ],
   "source": [
    "for i in range(4):\n",
    "    print((cust_seg_demo.groupby('CLUSTERS')['CLUSTERS'].count()[i]/total)*100)\n",
    "    "
   ]
  },
  {
   "cell_type": "code",
   "execution_count": 54,
   "id": "d2c7b7cc",
   "metadata": {},
   "outputs": [
    {
     "name": "stderr",
     "output_type": "stream",
     "text": [
      "C:\\Users\\kaiyi\\AppData\\Local\\Temp\\ipykernel_21616\\4053940899.py:1: SettingWithCopyWarning: \n",
      "A value is trying to be set on a copy of a slice from a DataFrame.\n",
      "Try using .loc[row_indexer,col_indexer] = value instead\n",
      "\n",
      "See the caveats in the documentation: https://pandas.pydata.org/pandas-docs/stable/user_guide/indexing.html#returning-a-view-versus-a-copy\n",
      "  cust_seg_demo['SALES'] = cust_seg_demo_full['MONETARY']\n"
     ]
    }
   ],
   "source": [
    "cust_seg_demo['SALES'] = cust_seg_demo_full['MONETARY']"
   ]
  },
  {
   "cell_type": "code",
   "execution_count": 55,
   "id": "6e3a4b24",
   "metadata": {},
   "outputs": [],
   "source": [
    "total = 0\n",
    "for i in range(4):\n",
    "    total +=cust_seg_demo.groupby('CLUSTERS')['SALES'].sum()[i]"
   ]
  },
  {
   "cell_type": "code",
   "execution_count": 56,
   "id": "6e828034",
   "metadata": {},
   "outputs": [
    {
     "data": {
      "text/plain": [
       "95077318.60481219"
      ]
     },
     "execution_count": 56,
     "metadata": {},
     "output_type": "execute_result"
    }
   ],
   "source": [
    "total"
   ]
  },
  {
   "cell_type": "code",
   "execution_count": 57,
   "id": "986e5b59",
   "metadata": {},
   "outputs": [
    {
     "name": "stdout",
     "output_type": "stream",
     "text": [
      "33.75154941645983\n",
      "26.39031855592672\n",
      "20.93287552832999\n",
      "18.92525649928348\n"
     ]
    }
   ],
   "source": [
    "for i in range(4):\n",
    "    print((cust_seg_demo.groupby('CLUSTERS')['SALES'].sum()[i]/total)*100)\n",
    "    "
   ]
  },
  {
   "cell_type": "code",
   "execution_count": 58,
   "id": "6fae55b5",
   "metadata": {},
   "outputs": [
    {
     "name": "stdout",
     "output_type": "stream",
     "text": [
      "32090068.17274814\n",
      "25091207.254243314\n",
      "19902416.759219065\n",
      "17993626.41860168\n"
     ]
    }
   ],
   "source": [
    "for i in range(4):\n",
    "    print((cust_seg_demo.groupby('CLUSTERS')['SALES'].sum()[i]))\n",
    "    "
   ]
  },
  {
   "cell_type": "code",
   "execution_count": 59,
   "id": "8a26fb3f",
   "metadata": {},
   "outputs": [],
   "source": [
    "# cust_seg_demo.to_csv('cust_seg_demo.csv', index=False)"
   ]
  },
  {
   "cell_type": "markdown",
   "id": "a79629d2",
   "metadata": {},
   "source": [
    "Cluster 0: \"Middle-Aged Married Men\"\n",
    "\n",
    "Description: This cluster represents middle-aged men who are married. They are primarily located in Denver and have children. Most of them fall into the \"Middle-Aged Adults\" age group. In this cluster, 28% of members have churned, the lowest of all clusters, and this cluster represents 33% of all members. They are characterized by a mix of churned and retained members.\n",
    "\n",
    "\n",
    "Cluster 1: \"Single Men of all Ages\"\n",
    "\n",
    "Description: This cluster consists of men of various age groups who are single. They are mainly located in New York City and have no children. The most common age group in this cluster is \"Adults.\" In this cluster, 29% of members have churned, and this cluster represents 28% of all members% of all members. The majority of members are currently inactive and have not made recent purchases.\n",
    "\n",
    "\n",
    "Cluster 2: \"Adult Married Women\"\n",
    "\n",
    "Description: This cluster includes adult women who are married. They are primarily located in San Mateo and have children. Most of them fall into the \"Adults\" age group. In this cluster, 33% of members have churned, the highest of all clusters, and this cluster represents 22% of all members. They are characterized by a mix of churned and retained members.\n",
    "\n",
    "\n",
    "Cluster 3: \"Young and Single\"\n",
    "\n",
    "Description: This cluster represents young members who are single. They are mainly located in Boston and have children. Most of them fall into the \"Middle-Aged Adults\" age group. In this cluster, 31% of members have churned, and this cluster represents 15% of all members. They are characterized by a mix of churned and retained members."
   ]
  },
  {
   "cell_type": "code",
   "execution_count": 60,
   "id": "fccfe41a",
   "metadata": {},
   "outputs": [
    {
     "data": {
      "text/html": [
       "<div>\n",
       "<style scoped>\n",
       "    .dataframe tbody tr th:only-of-type {\n",
       "        vertical-align: middle;\n",
       "    }\n",
       "\n",
       "    .dataframe tbody tr th {\n",
       "        vertical-align: top;\n",
       "    }\n",
       "\n",
       "    .dataframe thead th {\n",
       "        text-align: right;\n",
       "    }\n",
       "</style>\n",
       "<table border=\"1\" class=\"dataframe\">\n",
       "  <thead>\n",
       "    <tr style=\"text-align: right;\">\n",
       "      <th></th>\n",
       "      <th>GENDER</th>\n",
       "      <th>MARITAL_STATUS</th>\n",
       "      <th>CITY</th>\n",
       "      <th>HAVE_CHILDREN</th>\n",
       "      <th>AGE_GROUP</th>\n",
       "      <th>CLUSTERS</th>\n",
       "      <th>CHURNED</th>\n",
       "      <th>SALES</th>\n",
       "    </tr>\n",
       "  </thead>\n",
       "  <tbody>\n",
       "    <tr>\n",
       "      <th>0</th>\n",
       "      <td>Male</td>\n",
       "      <td>Married</td>\n",
       "      <td>San Mateo</td>\n",
       "      <td>Yes</td>\n",
       "      <td>Seniors</td>\n",
       "      <td>0</td>\n",
       "      <td>0</td>\n",
       "      <td>1404.50</td>\n",
       "    </tr>\n",
       "    <tr>\n",
       "      <th>1</th>\n",
       "      <td>Undisclosed</td>\n",
       "      <td>Single</td>\n",
       "      <td>San Mateo</td>\n",
       "      <td>No</td>\n",
       "      <td>Middle-Aged Adults</td>\n",
       "      <td>1</td>\n",
       "      <td>0</td>\n",
       "      <td>1811.50</td>\n",
       "    </tr>\n",
       "    <tr>\n",
       "      <th>2</th>\n",
       "      <td>Male</td>\n",
       "      <td>Married</td>\n",
       "      <td>San Mateo</td>\n",
       "      <td>Yes</td>\n",
       "      <td>Middle-Aged Adults</td>\n",
       "      <td>0</td>\n",
       "      <td>1</td>\n",
       "      <td>1256.50</td>\n",
       "    </tr>\n",
       "    <tr>\n",
       "      <th>3</th>\n",
       "      <td>Male</td>\n",
       "      <td>Divorced/Seperated</td>\n",
       "      <td>San Mateo</td>\n",
       "      <td>Yes</td>\n",
       "      <td>Middle-Aged Adults</td>\n",
       "      <td>0</td>\n",
       "      <td>0</td>\n",
       "      <td>1393.25</td>\n",
       "    </tr>\n",
       "    <tr>\n",
       "      <th>4</th>\n",
       "      <td>Female</td>\n",
       "      <td>Single</td>\n",
       "      <td>San Mateo</td>\n",
       "      <td>No</td>\n",
       "      <td>Middle-Aged Adults</td>\n",
       "      <td>1</td>\n",
       "      <td>1</td>\n",
       "      <td>2096.75</td>\n",
       "    </tr>\n",
       "    <tr>\n",
       "      <th>...</th>\n",
       "      <td>...</td>\n",
       "      <td>...</td>\n",
       "      <td>...</td>\n",
       "      <td>...</td>\n",
       "      <td>...</td>\n",
       "      <td>...</td>\n",
       "      <td>...</td>\n",
       "      <td>...</td>\n",
       "    </tr>\n",
       "    <tr>\n",
       "      <th>46295</th>\n",
       "      <td>Female</td>\n",
       "      <td>Married</td>\n",
       "      <td>Seattle</td>\n",
       "      <td>Yes</td>\n",
       "      <td>Seniors</td>\n",
       "      <td>3</td>\n",
       "      <td>0</td>\n",
       "      <td>2576.50</td>\n",
       "    </tr>\n",
       "    <tr>\n",
       "      <th>46296</th>\n",
       "      <td>Female</td>\n",
       "      <td>Married</td>\n",
       "      <td>New York City</td>\n",
       "      <td>Yes</td>\n",
       "      <td>Middle-Aged Adults</td>\n",
       "      <td>0</td>\n",
       "      <td>0</td>\n",
       "      <td>2185.50</td>\n",
       "    </tr>\n",
       "    <tr>\n",
       "      <th>46297</th>\n",
       "      <td>Undisclosed</td>\n",
       "      <td>Single</td>\n",
       "      <td>Boston</td>\n",
       "      <td>No</td>\n",
       "      <td>Seniors</td>\n",
       "      <td>1</td>\n",
       "      <td>1</td>\n",
       "      <td>1297.75</td>\n",
       "    </tr>\n",
       "    <tr>\n",
       "      <th>46298</th>\n",
       "      <td>Female</td>\n",
       "      <td>Married</td>\n",
       "      <td>San Mateo</td>\n",
       "      <td>Yes</td>\n",
       "      <td>Middle-Aged Adults</td>\n",
       "      <td>0</td>\n",
       "      <td>1</td>\n",
       "      <td>1210.50</td>\n",
       "    </tr>\n",
       "    <tr>\n",
       "      <th>46299</th>\n",
       "      <td>Male</td>\n",
       "      <td>Single</td>\n",
       "      <td>New York City</td>\n",
       "      <td>No</td>\n",
       "      <td>Adults</td>\n",
       "      <td>2</td>\n",
       "      <td>1</td>\n",
       "      <td>2075.50</td>\n",
       "    </tr>\n",
       "  </tbody>\n",
       "</table>\n",
       "<p>46300 rows × 8 columns</p>\n",
       "</div>"
      ],
      "text/plain": [
       "            GENDER      MARITAL_STATUS           CITY HAVE_CHILDREN  \\\n",
       "0             Male             Married      San Mateo           Yes   \n",
       "1      Undisclosed              Single      San Mateo            No   \n",
       "2             Male             Married      San Mateo           Yes   \n",
       "3             Male  Divorced/Seperated      San Mateo           Yes   \n",
       "4           Female              Single      San Mateo            No   \n",
       "...            ...                 ...            ...           ...   \n",
       "46295       Female             Married        Seattle           Yes   \n",
       "46296       Female             Married  New York City           Yes   \n",
       "46297  Undisclosed              Single         Boston            No   \n",
       "46298       Female             Married      San Mateo           Yes   \n",
       "46299         Male              Single  New York City            No   \n",
       "\n",
       "                AGE_GROUP  CLUSTERS  CHURNED    SALES  \n",
       "0                 Seniors         0        0  1404.50  \n",
       "1      Middle-Aged Adults         1        0  1811.50  \n",
       "2      Middle-Aged Adults         0        1  1256.50  \n",
       "3      Middle-Aged Adults         0        0  1393.25  \n",
       "4      Middle-Aged Adults         1        1  2096.75  \n",
       "...                   ...       ...      ...      ...  \n",
       "46295             Seniors         3        0  2576.50  \n",
       "46296  Middle-Aged Adults         0        0  2185.50  \n",
       "46297             Seniors         1        1  1297.75  \n",
       "46298  Middle-Aged Adults         0        1  1210.50  \n",
       "46299              Adults         2        1  2075.50  \n",
       "\n",
       "[46300 rows x 8 columns]"
      ]
     },
     "execution_count": 60,
     "metadata": {},
     "output_type": "execute_result"
    }
   ],
   "source": [
    "cust_seg_demo"
   ]
  },
  {
   "cell_type": "code",
   "execution_count": 61,
   "id": "3cee073b",
   "metadata": {},
   "outputs": [
    {
     "data": {
      "text/plain": [
       "Index(['GENDER', 'MARITAL_STATUS', 'CITY', 'HAVE_CHILDREN', 'AGE_GROUP',\n",
       "       'CLUSTERS', 'CHURNED', 'SALES'],\n",
       "      dtype='object')"
      ]
     },
     "execution_count": 61,
     "metadata": {},
     "output_type": "execute_result"
    }
   ],
   "source": [
    "cust_seg_demo.columns"
   ]
  },
  {
   "cell_type": "code",
   "execution_count": 62,
   "id": "fa8257c8",
   "metadata": {},
   "outputs": [],
   "source": [
    "temp = cust_seg_demo.copy()\n",
    "temp['CHURNED'] = temp['CHURNED'].astype(object)"
   ]
  },
  {
   "cell_type": "code",
   "execution_count": 63,
   "id": "7c250426",
   "metadata": {},
   "outputs": [],
   "source": [
    "# train test split\n",
    "X_train, X_test, y_train, y_test = train_test_split(temp.drop(columns=['CLUSTERS']), temp['CLUSTERS'], test_size=0.3, random_state=123)"
   ]
  },
  {
   "cell_type": "code",
   "execution_count": 64,
   "id": "e0dc1bb1",
   "metadata": {},
   "outputs": [],
   "source": [
    "# one hot encoding\n",
    "ohe_enc = OneHotEncoder(\n",
    "     top_categories=None,\n",
    "     drop_last=True,\n",
    "     variables=['GENDER', 'MARITAL_STATUS', 'CITY', 'HAVE_CHILDREN', 'AGE_GROUP', 'CHURNED']) \n",
    "\n",
    "ohe_enc.fit(X_train)\n",
    "X_train = ohe_enc.transform(X_train)\n",
    "X_test=ohe_enc.transform(X_test)"
   ]
  },
  {
   "cell_type": "code",
   "execution_count": 65,
   "id": "10ca1318",
   "metadata": {},
   "outputs": [
    {
     "name": "stdout",
     "output_type": "stream",
     "text": [
      "0.9887688984881209\n",
      "{'max_depth': 8, 'min_samples_split': 5, 'n_estimators': 100}\n"
     ]
    }
   ],
   "source": [
    "rf = RandomForestClassifier()\n",
    "param_grid = {'n_estimators': [10, 50, 100],\n",
    "'max_depth': [ 4, 6, 8],\n",
    "'min_samples_split': [5, 10, 15]}\n",
    "\n",
    "gs = GridSearchCV(rf, param_grid = param_grid, scoring = \"accuracy\", cv = 5, n_jobs = -1)\n",
    "gs = gs.fit(X_train, y_train)\n",
    "\n",
    "rf_best_score=gs.best_score_\n",
    "print(gs.best_score_)\n",
    "print(gs.best_params_)"
   ]
  },
  {
   "cell_type": "code",
   "execution_count": 66,
   "id": "13e705f6",
   "metadata": {},
   "outputs": [],
   "source": [
    "# Function to show MSE, MAE, r-sq of Classification models\n",
    "def evaluateModel(model, X_train, X_test, y_train, y_test):\n",
    "    print('Train Accuracy: \\t{:.2f}%'.format(model.score(X_train, y_train)*100))\n",
    "    print('Test Accuracy: \\t\\t{:.2f}%'.format(model.score(X_test, y_test)*100))"
   ]
  },
  {
   "cell_type": "code",
   "execution_count": 67,
   "id": "2f2c014f",
   "metadata": {},
   "outputs": [
    {
     "name": "stdout",
     "output_type": "stream",
     "text": [
      "Train Accuracy: \t98.86%\n",
      "Test Accuracy: \t\t98.73%\n"
     ]
    }
   ],
   "source": [
    "# Create Decision Tree using the best hyperparameters\n",
    "cust_seg_demographic_model = RandomForestClassifier(**gs.best_params_)\n",
    "cust_seg_demographic_model.fit(X_train, y_train)\n",
    "\n",
    "evaluateModel(cust_seg_demographic_model,X_train, X_test, y_train, y_test)"
   ]
  },
  {
   "cell_type": "code",
   "execution_count": 68,
   "id": "4f1a16f2",
   "metadata": {},
   "outputs": [],
   "source": [
    "# import joblib\n",
    "# joblib.dump(ohe_enc, 'cust_demographic_ohe.jbl')\n",
    "# joblib.dump(cust_seg_demographic_model, 'cust_demographic_model.jbl')"
   ]
  }
 ],
 "metadata": {
  "kernelspec": {
   "display_name": "py38_env",
   "language": "python",
   "name": "python3"
  },
  "language_info": {
   "codemirror_mode": {
    "name": "ipython",
    "version": 3
   },
   "file_extension": ".py",
   "mimetype": "text/x-python",
   "name": "python",
   "nbconvert_exporter": "python",
   "pygments_lexer": "ipython3",
   "version": "3.8.16"
  }
 },
 "nbformat": 4,
 "nbformat_minor": 5
}
