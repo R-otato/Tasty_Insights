{
 "cells": [
  {
   "attachments": {},
   "cell_type": "markdown",
   "id": "0f547ef0",
   "metadata": {},
   "source": [
    "# 1. Setup"
   ]
  },
  {
   "attachments": {},
   "cell_type": "markdown",
   "id": "9f8d1940",
   "metadata": {},
   "source": [
    "## 1.1 Import Packages"
   ]
  },
  {
   "cell_type": "code",
   "execution_count": 1,
   "id": "2b76a42a",
   "metadata": {},
   "outputs": [],
   "source": [
    "#Import Python packages\n",
    "import pandas as pd\n",
    "import json\n",
    "import matplotlib.pyplot as plt\n",
    "import seaborn as sns\n",
    "import json\n",
    "import datetime\n",
    "import numpy as np\n",
    "from matplotlib.gridspec import GridSpec\n",
    "import matplotlib.cm as cm\n",
    "import matplotlib.colors as mcolors\n",
    "\n",
    "# for splitting of the dataset\n",
    "from sklearn.model_selection import train_test_split\n",
    "\n",
    "# for encoding/transforming the data\n",
    "from feature_engine.encoding import OneHotEncoder\n",
    "from feature_engine.encoding import RareLabelEncoder\n",
    "from feature_engine.outliers import Winsorizer\n",
    "from feature_engine.transformation import YeoJohnsonTransformer\n",
    "from sklearn.preprocessing import MinMaxScaler\n",
    "\n",
    "#ML-Models: Classification\n",
    "from xgboost import XGBClassifier\n",
    "from sklearn import tree\n",
    "from sklearn.linear_model import LogisticRegression\n",
    "from sklearn. ensemble import RandomForestClassifier\n",
    "from sklearn.tree import DecisionTreeClassifier\n",
    "from sklearn. ensemble import AdaBoostClassifier\n",
    "\n",
    "#Building clustering model\n",
    "from sklearn.cluster import KMeans \n",
    "\n",
    "# for getting metrics\n",
    "from sklearn.metrics import classification_report\n",
    "from sklearn.metrics import silhouette_score,silhouette_samples\n",
    "\n",
    "# model selection\n",
    "from sklearn.model_selection import GridSearchCV\n",
    "\n",
    "# Import Snowflake modules\n",
    "from snowflake.snowpark import Session\n",
    "import snowflake.snowpark.functions as F\n",
    "import snowflake.snowpark.types as T\n",
    "from snowflake.snowpark import Window\n",
    "# Define a simple scoring function\n",
    "from cachetools import cached"
   ]
  },
  {
   "attachments": {},
   "cell_type": "markdown",
   "id": "c689510f",
   "metadata": {},
   "source": [
    "## 1.2 Connect to Snowflake"
   ]
  },
  {
   "cell_type": "code",
   "execution_count": 2,
   "id": "9140d4bb",
   "metadata": {},
   "outputs": [],
   "source": [
    "# Get account credentials from a json file\n",
    "with open(\"data_scientist_auth.json\") as f:\n",
    "    data = json.load(f)\n",
    "    username = data[\"username\"]\n",
    "    password = data[\"password\"]\n",
    "    account = data[\"account\"]\n",
    "\n",
    "# Specify connection parameters\n",
    "connection_parameters = {\n",
    "    \"account\": account,\n",
    "    \"user\": username,\n",
    "    \"password\": password,\n",
    "    \"role\": \"TASTY_BI\",\n",
    "    \"warehouse\": \"TASTY_BI_WH\",\n",
    "    \"database\": \"frostbyte_tasty_bytes\",\n",
    "    \"schema\": \"analytics\",\n",
    "}\n",
    "\n",
    "# Create Snowpark session\n",
    "session = Session.builder.configs(connection_parameters).create()"
   ]
  },
  {
   "cell_type": "code",
   "execution_count": 3,
   "id": "113c796d",
   "metadata": {},
   "outputs": [
    {
     "data": {
      "text/plain": [
       "[Row(status='Statement executed successfully.')]"
      ]
     },
     "execution_count": 3,
     "metadata": {},
     "output_type": "execute_result"
    }
   ],
   "source": [
    "session.sql(\"ALTER WAREHOUSE TASTY_BI_WH SET WAREHOUSE_SIZE = MEDIUM\").collect()"
   ]
  },
  {
   "attachments": {},
   "cell_type": "markdown",
   "id": "c3d02814",
   "metadata": {},
   "source": [
    "## 1.3 Gathering Data as Snowpark DataFrame"
   ]
  },
  {
   "cell_type": "code",
   "execution_count": 4,
   "id": "9f5810e2",
   "metadata": {},
   "outputs": [],
   "source": [
    "# Orders_V\n",
    "# contains orders, trucks, shift information\n",
    "tasty_bytes_orders_v = session.table(\"frostbyte_tasty_bytes.analytics.orders_v\")\n",
    "# Customer Loyalty\n",
    "# contains information on signed up members\n",
    "tasty_bytes_customer_loyalty = session.table(\"frostbyte_tasty_bytes.raw_customer.customer_loyalty\")\n",
    "\n",
    "locations= session.table(\"frostbyte_tasty_bytes.raw_pos.location\")\n",
    "\n",
    "menu= session.table(\"frostbyte_tasty_bytes.raw_pos.menu\")\n",
    "#Sentiment_Survey_ds\n",
    "# contains NPS score\n",
    "SENTIMENT_DATA = session.table(\"ngee_ann_polytechnic_frostbyte_data_share.raw_survey.sentiment_survey_ds\")\n",
    "# Truck information data\n",
    "TRUCK_DATA = session.table(\"NGEE_ANN_POLYTECHNIC_FROSTBYTE_DATA_SHARE.raw_pos.truck\")\n",
    "# Comparison Data\n",
    "NPS_COMPARE = session.table(\"NPS_COMPARE\")"
   ]
  },
  {
   "attachments": {},
   "cell_type": "markdown",
   "id": "461b0173",
   "metadata": {},
   "source": [
    "# 2. Data Exploration "
   ]
  },
  {
   "attachments": {},
   "cell_type": "markdown",
   "id": "bde7f4bf",
   "metadata": {},
   "source": [
    "## 2.0 Model Value Towards Tasty Byte KPI"
   ]
  },
  {
   "attachments": {},
   "cell_type": "markdown",
   "id": "924e1d21",
   "metadata": {},
   "source": [
    "### 2.0.1 Define function - Remove Duplicate Columns from Joins"
   ]
  },
  {
   "cell_type": "code",
   "execution_count": 5,
   "id": "ce2a15cb",
   "metadata": {},
   "outputs": [],
   "source": [
    "#Function to remove and rename columns after inner join\n",
    "def remove_dup_join_col(df):\n",
    "    # capitalise all columns\n",
    "    for col in df.columns:\n",
    "        df = df.withColumnRenamed(col, col.upper())\n",
    "    \n",
    "    # get list of renamable columns for left and right join\n",
    "    left_dup_col = [col_name for col_name in df.columns if col_name.startswith('L_')]\n",
    "    right_dup_col = [col_name for col_name in df.columns if col_name.startswith('R_')]\n",
    "    old_columns = df.columns\n",
    "    \n",
    "    # rename the list with the most number of renamable columns\n",
    "    # drop the list of columns with less number of renamable columns\n",
    "    if len(left_dup_col)>len(right_dup_col):\n",
    "        columns_rename=left_dup_col\n",
    "        df= df.drop(*right_dup_col)\n",
    "    else:\n",
    "        columns_rename=right_dup_col\n",
    "        df= df.drop(*left_dup_col)\n",
    "    \n",
    "    for old_column in old_columns:\n",
    "        if old_column in columns_rename:\n",
    "            # get string to remove\n",
    "            string_to_replace = columns_rename[0][:7]\n",
    "            # replace starting string\n",
    "            new_column = old_column.replace(string_to_replace, \"\")\n",
    "            df = df.withColumnRenamed(old_column, new_column)\n",
    "    \n",
    "    return df"
   ]
  },
  {
   "attachments": {},
   "cell_type": "markdown",
   "id": "a4bf5f70",
   "metadata": {},
   "source": [
    "# 3. Data Engineering"
   ]
  },
  {
   "attachments": {},
   "cell_type": "markdown",
   "id": "acef3504",
   "metadata": {},
   "source": [
    "## 3.1 Generate new Columns"
   ]
  },
  {
   "cell_type": "code",
   "execution_count": 6,
   "id": "a9e19c3a",
   "metadata": {},
   "outputs": [],
   "source": [
    "#Merge to get loyal customers orders\n",
    "loyal_customer_orders=tasty_bytes_orders_v.join(\n",
    "    right=tasty_bytes_customer_loyalty,\n",
    "    on=\"CUSTOMER_ID\",\n",
    "    how=\"inner\"\n",
    ")"
   ]
  },
  {
   "cell_type": "code",
   "execution_count": 7,
   "id": "3f5edd2f",
   "metadata": {},
   "outputs": [],
   "source": [
    "#Remove duplicate columns\n",
    "loyal_customer_orders = remove_dup_join_col(loyal_customer_orders)\n",
    "\n",
    "#Remove duplicate order ids\n",
    "remove_dup = loyal_customer_orders.dropDuplicates(['ORDER_ID'])"
   ]
  },
  {
   "attachments": {},
   "cell_type": "markdown",
   "id": "c3465838",
   "metadata": {},
   "source": [
    "### 3.1.1 Get Latest Order Date"
   ]
  },
  {
   "cell_type": "code",
   "execution_count": 8,
   "id": "60b18852",
   "metadata": {},
   "outputs": [],
   "source": [
    "# called `orders` with columns `customer_id` and `order_ts`\n",
    "window_spec = Window.partitionBy('customer_id').orderBy(F.col('order_ts').desc())\n",
    "\n",
    "orders_with_rank = remove_dup.withColumn('rank', F.rank().over(window_spec))\n",
    "\n",
    "# Get max order of each customer\n",
    "max_order_ts = orders_with_rank.filter(F.col('rank') == 1).select('customer_id', 'order_ts')\n"
   ]
  },
  {
   "cell_type": "code",
   "execution_count": 17,
   "id": "956059ab",
   "metadata": {},
   "outputs": [
    {
     "name": "stdout",
     "output_type": "stream",
     "text": [
      "-----------------------\n",
      "|\"MAX(ORDER_TS)\"      |\n",
      "-----------------------\n",
      "|2022-11-01 22:59:57  |\n",
      "-----------------------\n",
      "\n"
     ]
    }
   ],
   "source": [
    "max_order_ts.agg(F.max(F.col('ORDER_TS'))).show()"
   ]
  },
  {
   "cell_type": "markdown",
   "id": "87527d6c",
   "metadata": {},
   "source": [
    "## Before vs After Conversion"
   ]
  },
  {
   "cell_type": "code",
   "execution_count": 9,
   "id": "89b00001",
   "metadata": {},
   "outputs": [],
   "source": [
    "us_Orders=orders_with_rank.filter(F.col('COUNTRY')=='United States')"
   ]
  },
  {
   "cell_type": "code",
   "execution_count": 10,
   "id": "7843c6c1",
   "metadata": {},
   "outputs": [],
   "source": [
    "bef_Conv=us_Orders.filter(F.col('DATE')<F.col('SIGN_UP_DATE'))\n",
    "aft_Conv=us_Orders.filter(F.col('DATE')>=F.col('SIGN_UP_DATE'))"
   ]
  },
  {
   "cell_type": "code",
   "execution_count": 11,
   "id": "186929a3",
   "metadata": {},
   "outputs": [],
   "source": [
    "# Define a window partitioned by customer and ordered by date\n",
    "window_spec = Window.partitionBy(\"CUSTOMER_ID\").orderBy(\"DATE\")\n",
    "\n",
    "# Add a column with the date of the next order for each customer\n",
    "bef_Conv_orders_df = bef_Conv.withColumn(\"DAYS_TO_NEXT_ORDER\", F.lead(\"DATE\").over(window_spec))\n",
    "\n",
    "# Calculate the number of days between the current order and the next order\n",
    "bef_Conv_orders_df= bef_Conv_orders_df.withColumn(\"DAYS_TO_NEXT_ORDER\", F.datediff(col1=\"DATE\", col2=\"DAYS_TO_NEXT_ORDER\",part='day'))\n",
    "\n",
    "#Remove null values in target variable\n",
    "bef_Conv_orders_df= bef_Conv_orders_df.na.drop(subset=[\"DAYS_TO_NEXT_ORDER\"])"
   ]
  },
  {
   "cell_type": "code",
   "execution_count": 12,
   "id": "858e3db5",
   "metadata": {},
   "outputs": [],
   "source": [
    "# Define a window partitioned by customer and ordered by date\n",
    "window_spec = Window.partitionBy(\"CUSTOMER_ID\").orderBy(\"DATE\")\n",
    "\n",
    "# Add a column with the date of the next order for each customer\n",
    "aft_Conv_orders_df = aft_Conv.withColumn(\"DAYS_TO_NEXT_ORDER\", F.lead(\"DATE\").over(window_spec))\n",
    "\n",
    "# Calculate the number of days between the current order and the next order\n",
    "aft_Conv_orders_df= aft_Conv_orders_df.withColumn(\"DAYS_TO_NEXT_ORDER\", F.datediff(col1=\"DATE\", col2=\"DAYS_TO_NEXT_ORDER\",part='day'))\n",
    "\n",
    "#Remove null values in target variable\n",
    "aft_Conv_orders_df= aft_Conv_orders_df.na.drop(subset=[\"DAYS_TO_NEXT_ORDER\"])"
   ]
  },
  {
   "cell_type": "code",
   "execution_count": 13,
   "id": "f7e99604",
   "metadata": {},
   "outputs": [],
   "source": [
    "bef_Conv_analysis=bef_Conv_orders_df.group_by('CUSTOMER_ID').agg(F.avg(F.col('DAYS_TO_NEXT_ORDER')).alias('BEF_AVG_DAYS_TO_NEXT_ORDER'))\n",
    "\n",
    "bef_Conv_analysis=bef_Conv_analysis.join(\n",
    "    right=bef_Conv_orders_df.group_by('CUSTOMER_ID').agg(F.count('*').alias('BEF_NUM_OF_ORDERS')),\n",
    "    on=\"CUSTOMER_ID\",\n",
    "    how=\"inner\"\n",
    ")\n",
    "\n",
    "bef_Conv_analysis=bef_Conv_analysis.join(\n",
    "    right=bef_Conv_orders_df.group_by('CUSTOMER_ID').agg(F.avg('ORDER_TOTAL').alias('BEF_AVERAGE_SPENDING')),\n",
    "    on=\"CUSTOMER_ID\",\n",
    "    how=\"inner\"\n",
    ")\n",
    "\n",
    "# bef_Conv_analysis.show()"
   ]
  },
  {
   "cell_type": "code",
   "execution_count": 14,
   "id": "0159189e",
   "metadata": {},
   "outputs": [],
   "source": [
    "aft_Conv_analysis=aft_Conv_orders_df.group_by('CUSTOMER_ID').agg(F.avg(F.col('DAYS_TO_NEXT_ORDER')).alias('AFT_AVG_DAYS_TO_NEXT_ORDER'))\n",
    "\n",
    "aft_Conv_analysis=aft_Conv_analysis.join(\n",
    "    right=aft_Conv_orders_df.group_by('CUSTOMER_ID').agg(F.count('*').alias('AFT_NUM_OF_ORDERS')),\n",
    "    on=\"CUSTOMER_ID\",\n",
    "    how=\"inner\"\n",
    ")\n",
    "\n",
    "aft_Conv_analysis=aft_Conv_analysis.join(\n",
    "    right=aft_Conv_orders_df.group_by('CUSTOMER_ID').agg(F.avg('ORDER_TOTAL').alias('AFT_AVERAGE_SPENDING')),\n",
    "    on=\"CUSTOMER_ID\",\n",
    "    how=\"inner\"\n",
    ")\n",
    "\n",
    "# aft_Conv_analysis.show()"
   ]
  },
  {
   "cell_type": "code",
   "execution_count": 15,
   "id": "7f4a22a2",
   "metadata": {},
   "outputs": [],
   "source": [
    "conv_Analysis=bef_Conv_analysis.join(\n",
    "    right=aft_Conv_analysis,\n",
    "    on=\"CUSTOMER_ID\",\n",
    "    how=\"inner\"\n",
    ")\n"
   ]
  },
  {
   "cell_type": "code",
   "execution_count": 16,
   "id": "8477169b",
   "metadata": {},
   "outputs": [],
   "source": [
    "conv_Analysis_df=conv_Analysis.to_pandas()"
   ]
  },
  {
   "cell_type": "code",
   "execution_count": 17,
   "id": "a4eee8a2",
   "metadata": {},
   "outputs": [
    {
     "data": {
      "image/png": "[encoded data removed]",
      "text/plain": [
       "<Figure size 800x600 with 1 Axes>"
      ]
     },
     "metadata": {},
     "output_type": "display_data"
    }
   ],
   "source": [
    "# Plot a box plot to compare 'BEF_AVG_DAYS_TO_NEXT_ORDER' and 'AFT_AVG_DAYS_TO_NEXT_ORDER'\n",
    "plt.figure(figsize=(8, 6))\n",
    "sns.boxplot(data=conv_Analysis_df[['BEF_AVG_DAYS_TO_NEXT_ORDER', 'AFT_AVG_DAYS_TO_NEXT_ORDER']], palette=['skyblue', 'lightgreen'])\n",
    "plt.xlabel('Membership Status')\n",
    "plt.ylabel('Avg Days to Next Order')\n",
    "plt.title('Comparison of Avg Days to Next Order\\n(Before - Non-Members vs. After - Members)')\n",
    "plt.xticks(ticks=[0, 1], labels=['Before (Non-Member)', 'After (Member)'])\n",
    "plt.show()\n",
    "\n"
   ]
  },
  {
   "cell_type": "code",
   "execution_count": 18,
   "id": "94c7463d",
   "metadata": {},
   "outputs": [],
   "source": [
    "# Assuming conv_Analysis_df contains the data and columns 'BEF_AVG_DAYS_TO_NEXT_ORDER' and 'AFT_AVG_DAYS_TO_NEXT_ORDER'\n",
    "\n",
    "conv_Analysis_df[['BEF_AVG_DAYS_TO_NEXT_ORDER', 'AFT_AVG_DAYS_TO_NEXT_ORDER','BEF_AVERAGE_SPENDING','AFT_AVERAGE_SPENDING']] = conv_Analysis_df[\n",
    "    ['BEF_AVG_DAYS_TO_NEXT_ORDER', 'AFT_AVG_DAYS_TO_NEXT_ORDER','BEF_AVERAGE_SPENDING','AFT_AVERAGE_SPENDING']].astype('float32')\n"
   ]
  },
  {
   "cell_type": "code",
   "execution_count": 19,
   "id": "ba466e63",
   "metadata": {},
   "outputs": [
    {
     "data": {
      "text/html": [
       "<div>\n",
       "<style scoped>\n",
       "    .dataframe tbody tr th:only-of-type {\n",
       "        vertical-align: middle;\n",
       "    }\n",
       "\n",
       "    .dataframe tbody tr th {\n",
       "        vertical-align: top;\n",
       "    }\n",
       "\n",
       "    .dataframe thead th {\n",
       "        text-align: right;\n",
       "    }\n",
       "</style>\n",
       "<table border=\"1\" class=\"dataframe\">\n",
       "  <thead>\n",
       "    <tr style=\"text-align: right;\">\n",
       "      <th></th>\n",
       "      <th>BEF_AVG_DAYS_TO_NEXT_ORDER</th>\n",
       "      <th>AFT_AVG_DAYS_TO_NEXT_ORDER</th>\n",
       "      <th>BEF_AVERAGE_SPENDING</th>\n",
       "      <th>AFT_AVERAGE_SPENDING</th>\n",
       "      <th>BEF_NUM_OF_ORDERS</th>\n",
       "      <th>AFT_NUM_OF_ORDERS</th>\n",
       "    </tr>\n",
       "  </thead>\n",
       "  <tbody>\n",
       "    <tr>\n",
       "      <th>count</th>\n",
       "      <td>33180.000000</td>\n",
       "      <td>33180.000000</td>\n",
       "      <td>33180.000000</td>\n",
       "      <td>33180.000000</td>\n",
       "      <td>33180.000000</td>\n",
       "      <td>33180.000000</td>\n",
       "    </tr>\n",
       "    <tr>\n",
       "      <th>mean</th>\n",
       "      <td>38.413441</td>\n",
       "      <td>16.139229</td>\n",
       "      <td>34.308617</td>\n",
       "      <td>39.740299</td>\n",
       "      <td>17.918264</td>\n",
       "      <td>34.343972</td>\n",
       "    </tr>\n",
       "    <tr>\n",
       "      <th>std</th>\n",
       "      <td>31.384535</td>\n",
       "      <td>4.710234</td>\n",
       "      <td>10.473816</td>\n",
       "      <td>5.840581</td>\n",
       "      <td>13.815220</td>\n",
       "      <td>14.796630</td>\n",
       "    </tr>\n",
       "    <tr>\n",
       "      <th>min</th>\n",
       "      <td>1.000000</td>\n",
       "      <td>5.222222</td>\n",
       "      <td>3.000000</td>\n",
       "      <td>7.333333</td>\n",
       "      <td>1.000000</td>\n",
       "      <td>2.000000</td>\n",
       "    </tr>\n",
       "    <tr>\n",
       "      <th>25%</th>\n",
       "      <td>21.822023</td>\n",
       "      <td>13.000000</td>\n",
       "      <td>28.937500</td>\n",
       "      <td>35.989361</td>\n",
       "      <td>6.000000</td>\n",
       "      <td>23.000000</td>\n",
       "    </tr>\n",
       "    <tr>\n",
       "      <th>50%</th>\n",
       "      <td>28.250000</td>\n",
       "      <td>15.297872</td>\n",
       "      <td>35.055557</td>\n",
       "      <td>39.514273</td>\n",
       "      <td>15.000000</td>\n",
       "      <td>34.000000</td>\n",
       "    </tr>\n",
       "    <tr>\n",
       "      <th>75%</th>\n",
       "      <td>42.602173</td>\n",
       "      <td>18.200001</td>\n",
       "      <td>40.227439</td>\n",
       "      <td>43.182199</td>\n",
       "      <td>28.000000</td>\n",
       "      <td>45.000000</td>\n",
       "    </tr>\n",
       "    <tr>\n",
       "      <th>max</th>\n",
       "      <td>502.000000</td>\n",
       "      <td>62.000000</td>\n",
       "      <td>141.000000</td>\n",
       "      <td>107.500000</td>\n",
       "      <td>74.000000</td>\n",
       "      <td>83.000000</td>\n",
       "    </tr>\n",
       "  </tbody>\n",
       "</table>\n",
       "</div>"
      ],
      "text/plain": [
       "       BEF_AVG_DAYS_TO_NEXT_ORDER  AFT_AVG_DAYS_TO_NEXT_ORDER  \\\n",
       "count                33180.000000                33180.000000   \n",
       "mean                    38.413441                   16.139229   \n",
       "std                     31.384535                    4.710234   \n",
       "min                      1.000000                    5.222222   \n",
       "25%                     21.822023                   13.000000   \n",
       "50%                     28.250000                   15.297872   \n",
       "75%                     42.602173                   18.200001   \n",
       "max                    502.000000                   62.000000   \n",
       "\n",
       "       BEF_AVERAGE_SPENDING  AFT_AVERAGE_SPENDING  BEF_NUM_OF_ORDERS  \\\n",
       "count          33180.000000          33180.000000       33180.000000   \n",
       "mean              34.308617             39.740299          17.918264   \n",
       "std               10.473816              5.840581          13.815220   \n",
       "min                3.000000              7.333333           1.000000   \n",
       "25%               28.937500             35.989361           6.000000   \n",
       "50%               35.055557             39.514273          15.000000   \n",
       "75%               40.227439             43.182199          28.000000   \n",
       "max              141.000000            107.500000          74.000000   \n",
       "\n",
       "       AFT_NUM_OF_ORDERS  \n",
       "count       33180.000000  \n",
       "mean           34.343972  \n",
       "std            14.796630  \n",
       "min             2.000000  \n",
       "25%            23.000000  \n",
       "50%            34.000000  \n",
       "75%            45.000000  \n",
       "max            83.000000  "
      ]
     },
     "execution_count": 19,
     "metadata": {},
     "output_type": "execute_result"
    }
   ],
   "source": [
    "conv_Analysis_df[['BEF_AVG_DAYS_TO_NEXT_ORDER','AFT_AVG_DAYS_TO_NEXT_ORDER','BEF_AVERAGE_SPENDING','AFT_AVERAGE_SPENDING','BEF_NUM_OF_ORDERS','AFT_NUM_OF_ORDERS']].describe()"
   ]
  },
  {
   "cell_type": "markdown",
   "id": "f877c9b3",
   "metadata": {},
   "source": [
    "## Year on Year Analysis"
   ]
  },
  {
   "cell_type": "code",
   "execution_count": 45,
   "id": "dc94e19c",
   "metadata": {},
   "outputs": [],
   "source": [
    "#Get unit profit\n",
    "menu_profit=menu.with_column('UNIT_PROFIT',F.col('SALE_PRICE_USD')-F.col('COST_OF_GOODS_USD').cast('float'))\n",
    "menu_profit=menu_profit.select(['MENU_ITEM_ID','UNIT_PROFIT'])"
   ]
  },
  {
   "cell_type": "code",
   "execution_count": 46,
   "id": "12340323",
   "metadata": {},
   "outputs": [],
   "source": [
    "cust_Order = tasty_bytes_orders_v.filter(F.col('COUNTRY')=='United States')\n",
    "memb_Order= loyal_customer_orders.filter(F.col('COUNTRY')=='United States')\n",
    "\n",
    "#Merge to get loyal customers orders\n",
    "cust_Order=cust_Order.join(\n",
    "    right=menu_profit,\n",
    "    on=\"MENU_ITEM_ID\",\n",
    "    how=\"inner\"\n",
    ")\n",
    "\n",
    "#Get Profit\n",
    "cust_Order=cust_Order.with_column('PROFIT',F.col('UNIT_PROFIT')*F.col('QUANTITY'))\n",
    "\n",
    "#Get total sales\n",
    "cust_Order =cust_Order.with_column('YEAR', F.year(\"ORDER_TS\"))\n",
    "cust_Order =cust_Order.with_column('MONTH',F.month(\"ORDER_TS\"))\n",
    "cust_sales_by_year=cust_Order.group_by('YEAR').agg(F.round(F.sum('PRICE'),2).alias('TOTAL_SALES'))\n",
    "cust_sales_by_month=cust_Order.group_by(['YEAR','MONTH']).agg(F.round(F.sum('PRICE'),2).alias('TOTAL_SALES'))"
   ]
  },
  {
   "cell_type": "code",
   "execution_count": 47,
   "id": "e248bb5c",
   "metadata": {},
   "outputs": [],
   "source": [
    "#Get total profits\n",
    "cust_profit_by_year=cust_Order.group_by('YEAR').agg(F.round(F.sum('PROFIT'),2).alias('TOTAL_PROFIT'))\n",
    "cust_profit_by_month=cust_Order.group_by(['YEAR','MONTH']).agg(F.round(F.sum('PROFIT'),2).alias('TOTAL_PROFIT'))"
   ]
  },
  {
   "cell_type": "code",
   "execution_count": 48,
   "id": "d9883a8b",
   "metadata": {},
   "outputs": [],
   "source": [
    "#Get total orders\n",
    "cust_orders_by_year=cust_Order.group_by('YEAR').agg(F.round(F.countDistinct('ORDER_ID'),2).alias('TOTAL_ORDERS'))\n",
    "cust_orders_by_month=cust_Order.group_by(['YEAR','MONTH']).agg(F.round(F.countDistinct('ORDER_ID'),2).alias('TOTAL_ORDERS'))"
   ]
  },
  {
   "cell_type": "code",
   "execution_count": 49,
   "id": "0480ba48",
   "metadata": {},
   "outputs": [],
   "source": [
    "#Get total sales\n",
    "memb_Order=memb_Order.with_column('YEAR', F.year(\"ORDER_TS\"))\n",
    "memb_Order=memb_Order.with_column('MONTH',F.month(\"ORDER_TS\"))\n",
    "memb_sales_by_year=memb_Order.group_by('YEAR').agg(F.round(F.sum('PRICE'),2).alias('TOTAL_MEMBER_SALES'))\n",
    "memb_sales_by_month=memb_Order.group_by(['YEAR','MONTH']).agg(F.round(F.sum('PRICE'),2).alias('TOTAL_MEMBER_SALES'))"
   ]
  },
  {
   "cell_type": "code",
   "execution_count": 50,
   "id": "7775d002",
   "metadata": {},
   "outputs": [],
   "source": [
    "#Get total orders\n",
    "memb_orders_by_year=memb_Order.group_by('YEAR').agg(F.round(F.countDistinct('ORDER_ID'),2).alias('TOTAL_MEMBER_ORDERS'))\n",
    "memb_orders_by_month=memb_Order.group_by(['YEAR','MONTH']).agg(F.round(F.countDistinct('ORDER_ID'),2).alias('TOTAL_MEMBER_ORDERS'))"
   ]
  },
  {
   "cell_type": "code",
   "execution_count": 51,
   "id": "234d235b",
   "metadata": {},
   "outputs": [],
   "source": [
    "memb_Sign_Up = memb_Order.dropDuplicates(['CUSTOMER_ID'])\n",
    "memb_Sign_Up=memb_Sign_Up.with_column('SIGN_UP_YEAR', F.year('SIGN_UP_DATE'))\n",
    "memb_Sign_Up=memb_Sign_Up.with_column('SIGN_UP_MONTH', F.month('SIGN_UP_DATE'))\n",
    "memb_sign_up_by_year=memb_Sign_Up.group_by('SIGN_UP_YEAR').agg(F.round(F.count('CUSTOMER_ID'),2).alias('TOTAL_SIGN_UPS'))\n",
    "memb_sign_up_by_year=memb_sign_up_by_year.withColumnRenamed(F.col('SIGN_UP_YEAR'),'YEAR')"
   ]
  },
  {
   "cell_type": "code",
   "execution_count": 52,
   "id": "f2243d9a",
   "metadata": {},
   "outputs": [],
   "source": [
    "memb_sign_up_by_month=memb_Sign_Up.group_by(['SIGN_UP_YEAR','SIGN_UP_MONTH']).agg(F.round(F.count('CUSTOMER_ID'),2).alias('TOTAL_SIGN_UPS'))\n",
    "memb_sign_up_by_month=memb_sign_up_by_month.withColumnRenamed(F.col('SIGN_UP_YEAR'),'YEAR')\n",
    "memb_sign_up_by_month=memb_sign_up_by_month.withColumnRenamed(F.col('SIGN_UP_MONTH'),'MONTH')"
   ]
  },
  {
   "cell_type": "code",
   "execution_count": 53,
   "id": "eb9ace57",
   "metadata": {},
   "outputs": [],
   "source": [
    "# cust_Sales=cust_Order.group_by(['YEAR','MONTH','CUSTOMER_ID']).agg(F.round(F.sum('ORDER_TOTAL'),2).alias('TOTAL_SALES'))\n",
    "\n",
    "# cust_profit=cust_Order.group_by(['YEAR','MONTH','CUSTOMER_ID']).agg(F.round(F.sum('PROFIT'),2).alias('TOTAL_PROFIT'))\n",
    "\n",
    "# cust_orders=cust_Order.group_by(['YEAR','MONTH','CUSTOMER_ID']).agg(F.round(F.count('ORDER_ID'),2).alias('TOTAL_ORDERS'))\n",
    "\n",
    "# cust_Analysis=cust_Sales.join(\n",
    "#     right=cust_profit,\n",
    "#     on=['YEAR','MONTH','CUSTOMER_ID'],\n",
    "#     how=\"inner\"\n",
    "# )\n",
    "# cust_Analysis=cust_Analysis.join(\n",
    "#     right=cust_orders,\n",
    "#     on=['YEAR','MONTH','CUSTOMER_ID'],\n",
    "#     how=\"inner\"\n",
    "# )\n",
    "\n",
    "# cust_Analysis=cust_Analysis.sort(['YEAR','MONTH'])\n",
    "\n",
    "# # Define a window partitioned by customer and menu item, ordered by date\n",
    "# window_spec = Window.orderBy(\"YEAR\")\n",
    "\n",
    "# # Add a column with the date of the prior order for each customer \n",
    "# cust_Analysis= cust_Analysis.withColumn(\"PREVIOUS_YEAR_SALES_IN_MILLIONS\", F.lag(\"TOTAL_SALES_IN_MILLIONS\").over(window_spec))\n",
    "\n",
    "# cust_Analysis=cust_Analysis.withColumn('YOY_SALES%',F.round(((F.col('TOTAL_SALES')-F.col(\"PREVIOUS_YEAR_SALES_IN_MILLIONS\"))/ F.col(\"PREVIOUS_YEAR_SALES_IN_MILLIONS\")) * 100,0))\n",
    "# cust_Analysis=cust_Analysis.withColumn('MEMBER_SALES%',F.round((F.col('TOTAL_MEMBER_SALES_IN_MILLIONS')/F.col(\"TOTAL_SALES_IN_MILLIONS\"))*100,2))"
   ]
  },
  {
   "cell_type": "code",
   "execution_count": 54,
   "id": "adf90646",
   "metadata": {},
   "outputs": [],
   "source": [
    "# #Merge to get loyal customers orders\n",
    "# sales_Analysis_month=cust_sales_by_month.join(\n",
    "#     right=memb_sales_by_month,\n",
    "#     on=['YEAR','MONTH'],\n",
    "#     how=\"inner\"\n",
    "# )\n",
    "# sales_Analysis_month=sales_Analysis_month.join(\n",
    "#     right=cust_orders_by_month,\n",
    "#     on=['YEAR','MONTH'],\n",
    "#     how=\"inner\"\n",
    "# )\n",
    "\n",
    "# sales_Analysis_month=sales_Analysis_month.join(\n",
    "#     right=memb_orders_by_month,\n",
    "#     on=['YEAR','MONTH'],\n",
    "#     how=\"inner\"\n",
    "# )\n",
    "\n",
    "# sales_Analysis_month=sales_Analysis_month.join(\n",
    "#     right=memb_sign_up_by_month,\n",
    "#     on=['YEAR','MONTH'],\n",
    "#     how=\"inner\"\n",
    "# )\n",
    "# sales_Analysis_month=sales_Analysis_month.join(\n",
    "#     right=cust_profit_by_month,\n",
    "#     on=['YEAR','MONTH'],\n",
    "#     how=\"inner\"\n",
    "# )\n",
    "\n",
    "# sales_Analysis_month=sales_Analysis_month.sort(['YEAR','MONTH'])"
   ]
  },
  {
   "cell_type": "code",
   "execution_count": 55,
   "id": "1ab956f8",
   "metadata": {},
   "outputs": [],
   "source": [
    "#Merge to get loyal customers orders\n",
    "sales_Analysis_year=cust_sales_by_year.join(\n",
    "    right=memb_sales_by_year,\n",
    "    on=\"YEAR\",\n",
    "    how=\"inner\"\n",
    ")\n",
    "sales_Analysis_year=sales_Analysis_year.join(\n",
    "    right=cust_orders_by_year,\n",
    "    on=\"YEAR\",\n",
    "    how=\"inner\"\n",
    ")\n",
    "\n",
    "sales_Analysis_year=sales_Analysis_year.join(\n",
    "    right=memb_orders_by_year,\n",
    "    on=\"YEAR\",\n",
    "    how=\"inner\"\n",
    ")\n",
    "\n",
    "sales_Analysis_year=sales_Analysis_year.join(\n",
    "    right=memb_sign_up_by_year,\n",
    "    on=\"YEAR\",\n",
    "    how=\"inner\"\n",
    ")\n",
    "sales_Analysis_year=sales_Analysis_year.join(\n",
    "    right=cust_profit_by_year,\n",
    "    on=\"YEAR\",\n",
    "    how=\"inner\"\n",
    ")\n",
    "\n",
    "sales_Analysis_year=sales_Analysis_year.sort('YEAR')"
   ]
  },
  {
   "cell_type": "code",
   "execution_count": 56,
   "id": "89236a0b",
   "metadata": {},
   "outputs": [],
   "source": [
    "# Define a window partitioned by customer and menu item, ordered by date\n",
    "window_spec = Window.orderBy(\"YEAR\")\n",
    "\n",
    "# Add a column with the date of the prior order for each customer \n",
    "sales_Analysis_year = sales_Analysis_year.withColumn(\"PREVIOUS_YEAR_SALES\", F.lag(\"TOTAL_SALES\").over(window_spec))"
   ]
  },
  {
   "cell_type": "code",
   "execution_count": 57,
   "id": "3ff341c7",
   "metadata": {},
   "outputs": [],
   "source": [
    "sales_Analysis_year=sales_Analysis_year.withColumn('YOY_SALES%',F.round(((F.col('TOTAL_SALES')-F.col(\"PREVIOUS_YEAR_SALES\"))/ F.col(\"PREVIOUS_YEAR_SALES\")) * 100,2))\n",
    "sales_Analysis_year=sales_Analysis_year.withColumn('MEMBER_SALES%',F.round((F.col('TOTAL_MEMBER_SALES')/F.col(\"TOTAL_SALES\"))*100,2))"
   ]
  },
  {
   "cell_type": "code",
   "execution_count": 58,
   "id": "b763eb8e",
   "metadata": {},
   "outputs": [],
   "source": [
    "# Define a window partitioned by customer and menu item, ordered by date\n",
    "window_spec = Window.orderBy(\"YEAR\")\n",
    "\n",
    "# Add a column with the date of the prior order for each customer \n",
    "sales_Analysis_year = sales_Analysis_year.withColumn(\"PREVIOUS_YEAR_SIGN_UPS\", F.lag(\"TOTAL_SIGN_UPS\").over(window_spec))\n",
    "\n",
    "sales_Analysis_year=sales_Analysis_year.withColumn('YOY_MEMBER_GROWTH%',F.round(((F.col('TOTAL_SIGN_UPS')-F.col(\"PREVIOUS_YEAR_SIGN_UPS\"))/ F.col(\"PREVIOUS_YEAR_SIGN_UPS\")) * 100,2))"
   ]
  },
  {
   "cell_type": "code",
   "execution_count": 69,
   "id": "f4be5d17",
   "metadata": {},
   "outputs": [],
   "source": [
    "# Define a window partitioned by customer and menu item, ordered by date\n",
    "window_spec = Window.orderBy(\"YEAR\")\n",
    "\n",
    "# Add a column with the date of the prior order for each customer \n",
    "sales_Analysis_year = sales_Analysis_year.withColumn(\"PREVIOUS_MEMBER_SALES\", F.lag(\"TOTAL_MEMBER_SALES\").over(window_spec))\n",
    "\n",
    "sales_Analysis_year=sales_Analysis_year.withColumn('YOY_MEMBER_SALES%',F.round(((F.col('TOTAL_MEMBER_SALES')-F.col(\"PREVIOUS_MEMBER_SALES\"))/ F.col(\"PREVIOUS_MEMBER_SALES\")) * 100,2))"
   ]
  },
  {
   "cell_type": "code",
   "execution_count": 60,
   "id": "1ffd0451",
   "metadata": {},
   "outputs": [
    {
     "name": "stdout",
     "output_type": "stream",
     "text": [
      "-------------------------------------------------------------------------------------------------------------------------------------------------------------------------------------------------------------------------------------------------------------------------------------------------------------------------------------------------------------------------------------------------------------------------------------------------------------------------------------------------------------------------------------------------------------------------------------------------------------------------------------------------------------\n",
      "|\"MENU_ITEM_ID\"  |\"DATE\"      |\"ORDER_ID\"  |\"TRUCK_ID\"  |\"ORDER_TS\"           |\"ORDER_DETAIL_ID\"  |\"LINE_NUMBER\"  |\"TRUCK_BRAND_NAME\"  |\"MENU_TYPE\"  |\"PRIMARY_CITY\"  |\"REGION\"  |\"COUNTRY\"      |\"FRANCHISE_FLAG\"  |\"FRANCHISE_ID\"  |\"FRANCHISEE_FIRST_NAME\"  |\"FRANCHISEE_LAST_NAME\"  |\"LOCATION_ID\"  |\"CUSTOMER_ID\"  |\"FIRST_NAME\"  |\"LAST_NAME\"  |\"E_MAIL\"                     |\"PHONE_NUMBER\"  |\"CHILDREN_COUNT\"  |\"GENDER\"     |\"MARITAL_STATUS\"  |\"MENU_ITEM_NAME\"      |\"QUANTITY\"  |\"UNIT_PRICE\"  |\"PRICE\"  |\"ORDER_AMOUNT\"  |\"ORDER_TAX_AMOUNT\"  |\"ORDER_DISCOUNT_AMOUNT\"  |\"ORDER_TOTAL\"  |\"UNIT_PROFIT\"  |\"PROFIT\"  |\"YEAR\"  |\"MONTH\"  |\"DTNO\"  |\n",
      "-------------------------------------------------------------------------------------------------------------------------------------------------------------------------------------------------------------------------------------------------------------------------------------------------------------------------------------------------------------------------------------------------------------------------------------------------------------------------------------------------------------------------------------------------------------------------------------------------------------------------------------------------------------\n",
      "|133             |2020-01-15  |436002929   |73          |2020-01-15 14:22:57  |840804388          |0              |Peking Truck        |Chinese      |New York City   |New York  |United States  |1                 |58              |Joseph                   |Hernandez               |11850          |108667         |Karissa       |Andrade      |Karissa.Andrade@hotmail.com  |721-624-9478    |2                 |Undisclosed  |Married           |Wonton Soup           |1           |6.0000        |6.0000   |6.0000          |NULL                |NULL                     |6.0000         |4.0            |4.0       |2020    |1        |36      |\n",
      "|72              |2020-02-20  |436107137   |67          |2020-02-20 15:55:36  |841075521          |0              |Plant Palace        |Vegetarian   |New York City   |New York  |United States  |1                 |54              |Madeline                 |Turner                  |1980           |108667         |Karissa       |Andrade      |Karissa.Andrade@hotmail.com  |721-624-9478    |2                 |Undisclosed  |Married           |Seitan Buffalo Wings  |3           |7.0000        |21.0000  |45.0000         |NULL                |NULL                     |45.0000        |3.0            |9.0       |2020    |2        |16      |\n",
      "|72              |2020-03-07  |436154001   |67          |2020-03-07 15:02:02  |841198134          |0              |Plant Palace        |Vegetarian   |New York City   |New York  |United States  |1                 |54              |Madeline                 |Turner                  |15114          |108667         |Karissa       |Andrade      |Karissa.Andrade@hotmail.com  |721-624-9478    |2                 |Undisclosed  |Married           |Seitan Buffalo Wings  |2           |7.0000        |14.0000  |62.0000         |NULL                |NULL                     |62.0000        |3.0            |6.0       |2020    |3        |3       |\n",
      "|71              |2020-03-10  |436163339   |67          |2020-03-10 19:40:37  |841222378          |0              |Plant Palace        |Vegetarian   |New York City   |New York  |United States  |1                 |54              |Madeline                 |Turner                  |15157          |108667         |Karissa       |Andrade      |Karissa.Andrade@hotmail.com  |721-624-9478    |2                 |Undisclosed  |Married           |Veggie Burger         |1           |9.0000        |9.0000   |9.0000          |NULL                |NULL                     |9.0000         |4.0            |4.0       |2020    |3        |18      |\n",
      "|135             |2020-03-28  |436217142   |73          |2020-03-28 13:01:27  |841362271          |1              |Peking Truck        |Chinese      |New York City   |New York  |United States  |1                 |58              |Joseph                   |Hernandez               |3123           |108667         |Karissa       |Andrade      |Karissa.Andrade@hotmail.com  |721-624-9478    |2                 |Undisclosed  |Married           |Bottled Soda          |1           |3.0000        |3.0000   |29.0000         |NULL                |NULL                     |29.0000        |2.5            |2.5       |2020    |3        |23      |\n",
      "|131             |2020-04-20  |436284903   |73          |2020-04-20 19:38:29  |841538058          |0              |Peking Truck        |Chinese      |New York City   |New York  |United States  |1                 |58              |Joseph                   |Hernandez               |14257          |108667         |Karissa       |Andrade      |Karissa.Andrade@hotmail.com  |721-624-9478    |2                 |Undisclosed  |Married           |Combo Lo Mein         |1           |13.0000       |13.0000  |19.0000         |NULL                |NULL                     |19.0000        |7.0            |7.0       |2020    |4        |8       |\n",
      "|132             |2020-04-28  |436308387   |73          |2020-04-28 22:38:56  |841598969          |1              |Peking Truck        |Chinese      |New York City   |New York  |United States  |1                 |58              |Joseph                   |Hernandez               |2068           |108667         |Karissa       |Andrade      |Karissa.Andrade@hotmail.com  |721-624-9478    |2                 |Undisclosed  |Married           |Combo Fried Rice      |1           |11.0000       |11.0000  |24.0000         |NULL                |NULL                     |24.0000        |6.0            |6.0       |2020    |4        |8       |\n",
      "|131             |2020-05-06  |436330631   |73          |2020-05-06 13:12:24  |841656500          |0              |Peking Truck        |Chinese      |New York City   |New York  |United States  |1                 |58              |Joseph                   |Hernandez               |5216           |108667         |Karissa       |Andrade      |Karissa.Andrade@hotmail.com  |721-624-9478    |2                 |Undisclosed  |Married           |Combo Lo Mein         |3           |13.0000       |39.0000  |91.0000         |NULL                |NULL                     |91.0000        |7.0            |21.0      |2020    |5        |17      |\n",
      "|132             |2020-05-23  |436380821   |73          |2020-05-23 11:35:48  |841787334          |0              |Peking Truck        |Chinese      |New York City   |New York  |United States  |1                 |58              |Joseph                   |Hernandez               |1139           |108667         |Karissa       |Andrade      |Karissa.Andrade@hotmail.com  |721-624-9478    |2                 |Undisclosed  |Married           |Combo Fried Rice      |1           |11.0000       |11.0000  |11.0000         |NULL                |NULL                     |11.0000        |6.0            |6.0       |2020    |5        |28      |\n",
      "|133             |2020-06-20  |436464078   |73          |2020-06-20 16:45:49  |842004380          |0              |Peking Truck        |Chinese      |New York City   |New York  |United States  |1                 |58              |Joseph                   |Hernandez               |4112           |108667         |Karissa       |Andrade      |Karissa.Andrade@hotmail.com  |721-624-9478    |2                 |Undisclosed  |Married           |Wonton Soup           |1           |6.0000        |6.0000   |6.0000          |NULL                |NULL                     |6.0000         |4.0            |4.0       |2020    |6        |46      |\n",
      "-------------------------------------------------------------------------------------------------------------------------------------------------------------------------------------------------------------------------------------------------------------------------------------------------------------------------------------------------------------------------------------------------------------------------------------------------------------------------------------------------------------------------------------------------------------------------------------------------------------------------------------------------------------\n",
      "\n"
     ]
    }
   ],
   "source": [
    "# Define a window partitioned by customer and menu item, ordered by date\n",
    "window_spec = Window.partitionBy(\"CUSTOMER_ID\").orderBy(\"ORDER_TS\")\n",
    "\n",
    "unique_Order=cust_Order.dropDuplicates(['ORDER_ID'])\n",
    "# Add a column with the date of the prior order for each customer and order\n",
    "orders_df_pre = unique_Order.withColumn(\"DTNO\", F.lead(\"ORDER_TS\").over(window_spec))\n",
    "\n",
    "orders_df = orders_df_pre.withColumn(\"DTNO\", F.datediff(col1=\"ORDER_TS\", col2=\"DTNO\",part='day'))\n",
    "orders_df = orders_df.na.drop(subset=[\"DTNO\"])\n",
    "\n",
    "orders_df.show()"
   ]
  },
  {
   "cell_type": "code",
   "execution_count": 61,
   "id": "01a13cb8",
   "metadata": {},
   "outputs": [],
   "source": [
    "orders_df = orders_df.with_column(\"YEAR\", F.year(\"ORDER_TS\"))\n",
    "orders_df = orders_df.with_column(\"MONTH\", F.month(\"ORDER_TS\"))\n",
    "orders_df = orders_df.with_column(\"YEAR_MONTH\", F.concat(F.col(\"YEAR\"), F.col(\"MONTH\")))"
   ]
  },
  {
   "cell_type": "code",
   "execution_count": 62,
   "id": "6bb2c4ad",
   "metadata": {},
   "outputs": [
    {
     "name": "stdout",
     "output_type": "stream",
     "text": [
      "-----------------------------------------------------------------------------------------------------------------------------------------------------------------------------------------------------------------------------------------------------------------------------------------------------------------------------------------------------------------------------------------------------------------------------------------------------------------------------------------------------------------------------------------------------------------------------------------------------------------------------------------------------------------------------------\n",
      "|\"MENU_ITEM_ID\"  |\"DATE\"      |\"ORDER_ID\"  |\"TRUCK_ID\"  |\"ORDER_TS\"           |\"ORDER_DETAIL_ID\"  |\"LINE_NUMBER\"  |\"TRUCK_BRAND_NAME\"  |\"MENU_TYPE\"     |\"PRIMARY_CITY\"  |\"REGION\"  |\"COUNTRY\"      |\"FRANCHISE_FLAG\"  |\"FRANCHISE_ID\"  |\"FRANCHISEE_FIRST_NAME\"  |\"FRANCHISEE_LAST_NAME\"  |\"LOCATION_ID\"  |\"CUSTOMER_ID\"  |\"FIRST_NAME\"  |\"LAST_NAME\"  |\"E_MAIL\"                |\"PHONE_NUMBER\"  |\"CHILDREN_COUNT\"  |\"GENDER\"  |\"MARITAL_STATUS\"  |\"MENU_ITEM_NAME\"        |\"QUANTITY\"  |\"UNIT_PRICE\"  |\"PRICE\"  |\"ORDER_AMOUNT\"  |\"ORDER_TAX_AMOUNT\"  |\"ORDER_DISCOUNT_AMOUNT\"  |\"ORDER_TOTAL\"  |\"UNIT_PROFIT\"  |\"PROFIT\"  |\"DTNO\"  |\"YEAR\"  |\"MONTH\"  |\"YEAR_MONTH\"  |\"CHURN\"  |\n",
      "-----------------------------------------------------------------------------------------------------------------------------------------------------------------------------------------------------------------------------------------------------------------------------------------------------------------------------------------------------------------------------------------------------------------------------------------------------------------------------------------------------------------------------------------------------------------------------------------------------------------------------------------------------------------------------------\n",
      "|24              |2019-08-29  |448771687   |17          |2019-08-29 08:49:46  |875224744          |0              |Smoky BBQ           |BBQ             |Denver          |Colorado  |United States  |0                 |1               |Corporate                |Owned                   |14942          |32106          |Kiara         |Caldwell     |Kiara.Caldwell@aol.com  |041-929-2157    |1                 |Female    |Married           |Bottled Water           |1           |2.0000        |2.0000   |22.0000         |NULL                |NULL                     |22.0000        |1.5            |1.5       |103     |2019    |8        |20198         |1        |\n",
      "|25              |2019-12-10  |448850483   |17          |2019-12-10 13:52:17  |875451751          |0              |Smoky BBQ           |BBQ             |Denver          |Colorado  |United States  |0                 |1               |Corporate                |Owned                   |2937           |32106          |Kiara         |Caldwell     |Kiara.Caldwell@aol.com  |041-929-2157    |1                 |Female    |Married           |Bottled Soda            |1           |3.0000        |3.0000   |64.0000         |NULL                |NULL                     |64.0000        |2.5            |2.5       |14      |2019    |12       |201912        |0        |\n",
      "|28              |2019-12-24  |448861403   |17          |2019-12-24 20:07:17  |875483229          |0              |Smoky BBQ           |BBQ             |Denver          |Colorado  |United States  |0                 |1               |Corporate                |Owned                   |3179           |32106          |Kiara         |Caldwell     |Kiara.Caldwell@aol.com  |041-929-2157    |1                 |Female    |Married           |Rack of Pork Ribs       |1           |21.0000       |21.0000  |45.0000         |NULL                |NULL                     |45.0000        |9.75           |9.75      |15      |2019    |12       |201912        |1        |\n",
      "|81              |2020-01-08  |448878329   |23          |2020-01-08 18:13:56  |875532200          |0              |Le Coin des Crêpes  |Crepes          |Denver          |Colorado  |United States  |1                 |19              |Stephanie                |Martin                  |5117           |32106          |Kiara         |Caldwell     |Kiara.Caldwell@aol.com  |041-929-2157    |1                 |Female    |Married           |Breakfast Crepe         |3           |12.0000       |36.0000  |108.0000        |NULL                |NULL                     |108.0000       |7.0            |21.0      |3       |2020    |1        |20201         |0        |\n",
      "|25              |2020-01-11  |448881002   |17          |2020-01-11 12:37:00  |875539867          |0              |Smoky BBQ           |BBQ             |Denver          |Colorado  |United States  |0                 |1               |Corporate                |Owned                   |15453          |32106          |Kiara         |Caldwell     |Kiara.Caldwell@aol.com  |041-929-2157    |1                 |Female    |Married           |Bottled Soda            |1           |3.0000        |3.0000   |31.0000         |NULL                |NULL                     |31.0000        |2.5            |2.5       |72      |2020    |1        |20201         |1        |\n",
      "|81              |2020-03-23  |448971740   |23          |2020-03-23 13:13:05  |875800992          |0              |Le Coin des Crêpes  |Crepes          |Denver          |Colorado  |United States  |1                 |19              |Stephanie                |Martin                  |14853          |32106          |Kiara         |Caldwell     |Kiara.Caldwell@aol.com  |041-929-2157    |1                 |Female    |Married           |Breakfast Crepe         |1           |12.0000       |12.0000  |21.0000         |NULL                |NULL                     |21.0000        |7.0            |7.0       |12      |2020    |3        |20203         |0        |\n",
      "|82              |2020-04-04  |448987646   |23          |2020-04-04 12:19:13  |875846676          |0              |Le Coin des Crêpes  |Crepes          |Denver          |Colorado  |United States  |1                 |19              |Stephanie                |Martin                  |3426           |32106          |Kiara         |Caldwell     |Kiara.Caldwell@aol.com  |041-929-2157    |1                 |Female    |Married           |Chicken Pot Pie Crepe   |1           |15.0000       |15.0000  |24.0000         |NULL                |NULL                     |24.0000        |9.0            |9.0       |32      |2020    |4        |20204         |1        |\n",
      "|82              |2020-05-06  |449028698   |23          |2020-05-06 16:06:04  |875965007          |0              |Le Coin des Crêpes  |Crepes          |Denver          |Colorado  |United States  |1                 |19              |Stephanie                |Martin                  |14759          |32106          |Kiara         |Caldwell     |Kiara.Caldwell@aol.com  |041-929-2157    |1                 |Female    |Married           |Chicken Pot Pie Crepe   |1           |15.0000       |15.0000  |15.0000         |NULL                |NULL                     |15.0000        |9.0            |9.0       |31      |2020    |5        |20205         |1        |\n",
      "|32              |2020-06-06  |449067529   |18          |2020-06-06 19:49:01  |876076512          |0              |Guac n' Roll        |Tacos           |Denver          |Colorado  |United States  |1                 |15              |Jasmine                  |Conrad                  |5096           |32106          |Kiara         |Caldwell     |Kiara.Caldwell@aol.com  |041-929-2157    |1                 |Female    |Married           |Three Taco Combo Plate  |1           |11.0000       |11.0000  |23.0000         |NULL                |NULL                     |23.0000        |4.0            |4.0       |39      |2020    |6        |20206         |1        |\n",
      "|65              |2020-07-15  |449122832   |21          |2020-07-15 19:29:47  |876234419          |0              |The Mega Melt       |Grilled Cheese  |Denver          |Colorado  |United States  |0                 |1               |Corporate                |Owned                   |5107           |32106          |Kiara         |Caldwell     |Kiara.Caldwell@aol.com  |041-929-2157    |1                 |Female    |Married           |Bottled Soda            |1           |3.0000        |3.0000   |43.0000         |NULL                |NULL                     |43.0000        |2.5            |2.5       |58      |2020    |7        |20207         |1        |\n",
      "-----------------------------------------------------------------------------------------------------------------------------------------------------------------------------------------------------------------------------------------------------------------------------------------------------------------------------------------------------------------------------------------------------------------------------------------------------------------------------------------------------------------------------------------------------------------------------------------------------------------------------------------------------------------------------------\n",
      "\n"
     ]
    }
   ],
   "source": [
    "churn_YN = orders_df.with_column(\"CHURN\", F.iff(F.col(\"DTNO\") > 14, \"1\", \"0\"))\n",
    "churn_YN.show()"
   ]
  },
  {
   "cell_type": "code",
   "execution_count": 68,
   "id": "cab3f6a0",
   "metadata": {},
   "outputs": [
    {
     "name": "stdout",
     "output_type": "stream",
     "text": [
      "-------------------------\n",
      "|\"YEAR\"  |\"SUM(CHURN)\"  |\n",
      "-------------------------\n",
      "|2020    |318027.0      |\n",
      "|2019    |60001.0       |\n",
      "|2022    |320415.0      |\n",
      "|2021    |409236.0      |\n",
      "-------------------------\n",
      "\n"
     ]
    }
   ],
   "source": [
    "churn_YN.group_by('YEAR').agg(F.sum('CHURN')).show()"
   ]
  },
  {
   "cell_type": "code",
   "execution_count": 63,
   "id": "13955535",
   "metadata": {},
   "outputs": [],
   "source": [
    "churn_rate=churn_YN.group_by('YEAR').agg(F.round((F.sum('CHURN')/F.count('ORDER_ID'))*100,2).alias('CHURN_RATE%'))"
   ]
  },
  {
   "cell_type": "code",
   "execution_count": 64,
   "id": "9fa3011a",
   "metadata": {},
   "outputs": [],
   "source": [
    "sales_Analysis_year=sales_Analysis_year.join(\n",
    "    right=churn_rate,\n",
    "    on=\"YEAR\",\n",
    "    how=\"inner\"\n",
    ")"
   ]
  },
  {
   "cell_type": "code",
   "execution_count": 70,
   "id": "24ab315e",
   "metadata": {},
   "outputs": [
    {
     "name": "stdout",
     "output_type": "stream",
     "text": [
      "---------------------------------------------------------------------------------------------------------------------------------------------------------------------------------------------------------------------------------------------------------------------------------------------------------\n",
      "|\"YEAR\"  |\"TOTAL_SALES\"  |\"TOTAL_MEMBER_SALES\"  |\"TOTAL_ORDERS\"  |\"TOTAL_MEMBER_ORDERS\"  |\"TOTAL_SIGN_UPS\"  |\"TOTAL_PROFIT\"  |\"PREVIOUS_YEAR_SALES\"  |\"YOY_SALES%\"  |\"MEMBER_SALES%\"  |\"PREVIOUS_YEAR_SIGN_UPS\"  |\"YOY_MEMBER_GROWTH%\"  |\"CHURN_RATE%\"  |\"PREVIOUS_MEMBER_SALES\"  |\"YOY_MEMBER_SALES%\"  |\n",
      "---------------------------------------------------------------------------------------------------------------------------------------------------------------------------------------------------------------------------------------------------------------------------------------------------------\n",
      "|2019    |8849707.00     |2194719.50            |274299          |72810                  |13184             |4833998.65      |NULL                   |NULL          |24.80            |NULL                      |NULL                  |21.87          |NULL                     |NULL                 |\n",
      "|2020    |110572387.25   |19372860.75           |2843322         |512805                 |13383             |58486367.25     |8849707.00             |1149.45       |17.52            |13184                     |1.51                  |11.19          |2194719.50               |782.70               |\n",
      "|2021    |389860661.50   |38286188.75           |9272831         |905266                 |13225             |202433464.0     |110572387.25           |252.58        |9.82             |13383                     |-1.18                 |4.41           |19372860.75              |97.63                |\n",
      "|2022    |502776126.00   |43932804.25           |11689172        |1018872                |6508              |263088559.85    |389860661.50           |28.96         |8.74             |13225                     |-50.79                |2.75           |38286188.75              |14.75                |\n",
      "---------------------------------------------------------------------------------------------------------------------------------------------------------------------------------------------------------------------------------------------------------------------------------------------------------\n",
      "\n"
     ]
    }
   ],
   "source": [
    "sales_Analysis_year.show()"
   ]
  },
  {
   "cell_type": "code",
   "execution_count": 71,
   "id": "0a96e9c6",
   "metadata": {},
   "outputs": [],
   "source": [
    "# sales_Analysis_year.to_pandas().to_csv('YoY_Analysis.csv',index=False)"
   ]
  },
  {
   "cell_type": "code",
   "execution_count": null,
   "id": "eeae3d7a",
   "metadata": {},
   "outputs": [],
   "source": []
  }
 ],
 "metadata": {
  "kernelspec": {
   "display_name": "py38_env",
   "language": "python",
   "name": "python3"
  },
  "language_info": {
   "codemirror_mode": {
    "name": "ipython",
    "version": 3
   },
   "file_extension": ".py",
   "mimetype": "text/x-python",
   "name": "python",
   "nbconvert_exporter": "python",
   "pygments_lexer": "ipython3",
   "version": "3.8.16"
  }
 },
 "nbformat": 4,
 "nbformat_minor": 5
}
