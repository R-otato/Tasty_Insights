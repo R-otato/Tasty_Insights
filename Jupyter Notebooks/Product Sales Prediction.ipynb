{
 "cells": [
  {
   "cell_type": "markdown",
   "metadata": {},
   "source": [
    "# Import Statements"
   ]
  },
  {
   "cell_type": "code",
   "execution_count": 425,
   "metadata": {},
   "outputs": [],
   "source": [
    "# IMPORT STATEMENTS\n",
    "\n",
    "#Import Python packages\n",
    "import pandas as pd\n",
    "import json\n",
    "import matplotlib.pyplot as plt\n",
    "import numpy as np\n",
    "import ast\n",
    "\n",
    "# Import Snowflake modules\n",
    "from snowflake.snowpark import Session\n",
    "from pyspark.sql.functions import year\n",
    "import snowflake.snowpark.functions as F\n",
    "import snowflake.snowpark.types as T\n",
    "\n",
    "# import matplotlib and seaborn to plot charts and graphs\n",
    "import matplotlib.pyplot as plt\n",
    "import seaborn as sns\n",
    "\n",
    "# to split training and testing data\n",
    "from sklearn.model_selection import train_test_split\n",
    "\n",
    "# DATA PREPARATION\n",
    "from feature_engine.encoding import OneHotEncoder\n",
    "from sklearn.preprocessing import MinMaxScaler\n",
    "from sklearn.preprocessing import StandardScaler\n",
    "from sklearn.preprocessing import RobustScaler\n",
    "from feature_engine.outliers import Winsorizer\n",
    "\n",
    "# MODEL BUILDING\n",
    "from sklearn.linear_model import LinearRegression\n",
    "from xgboost import XGBRegressor\n",
    "from sklearn.tree import DecisionTreeRegressor\n",
    "from sklearn.neural_network import MLPRegressor\n",
    "from sklearn. ensemble import RandomForestRegressor, AdaBoostRegressor\n",
    "from sklearn.svm import SVR\n",
    "\n",
    "# MODEL EVALUATION & IMPROVEMENT\n",
    "from sklearn.metrics import mean_squared_error, r2_score\n",
    "from sklearn.model_selection import GridSearchCV\n",
    "from sklearn.model_selection import cross_val_score, cross_validate\n",
    "\n",
    "# to export model\n",
    "import joblib"
   ]
  },
  {
   "cell_type": "markdown",
   "metadata": {},
   "source": [
    "# Functions"
   ]
  },
  {
   "cell_type": "code",
   "execution_count": 426,
   "metadata": {},
   "outputs": [],
   "source": [
    "def model_performance(model):\n",
    "    print('the training root mean squared error is: ',  np.sqrt(mean_squared_error(model.predict(X_train_scaled), y_train)))\n",
    "    print('the testing root mean squared error is: ',  np.sqrt(mean_squared_error(model.predict(X_test_scaled), y_test)))\n",
    "\n",
    "    print()\n",
    "\n",
    "    #training mse\n",
    "    train_mse = mean_squared_error(model.predict(X_train_scaled), y_train)\n",
    "    print('the training mean squared error is: ', train_mse)\n",
    "    #testing mse\n",
    "    test_mse = mean_squared_error(model.predict(X_test_scaled), y_test)\n",
    "    print('the testing mean squared error is: ', test_mse)\n",
    "\n",
    "    print()\n",
    "\n",
    "    print('training accuracy is: ', model.score(X_train_scaled, y_train))\n",
    "    print('testing accuracy is: ', model.score(X_test_scaled, y_test))\n"
   ]
  },
  {
   "cell_type": "markdown",
   "metadata": {},
   "source": [
    "# Load Tables From Snowflake"
   ]
  },
  {
   "cell_type": "code",
   "execution_count": 427,
   "metadata": {},
   "outputs": [],
   "source": [
    "# Get account credentials from a json file\n",
    "with open(\"data_scientist_auth.json\") as f:\n",
    "    data = json.load(f)\n",
    "    username = data[\"username\"]\n",
    "    password = data[\"password\"]\n",
    "    account = data[\"account\"]\n",
    "\n",
    "# Specify connection parameters\n",
    "connection_parameters = {\n",
    "    \"account\": account,\n",
    "    \"user\": username,\n",
    "    \"password\": password,\n",
    "    \"role\": \"TASTY_BI\",\n",
    "    \"warehouse\": \"TASTY_BI_WH\",\n",
    "    \"database\": \"frostbyte_tasty_bytes\",\n",
    "    \"schema\": \"raw_pos\",\n",
    "}\n",
    "\n",
    "# Create Snowpark session\n",
    "session = Session.builder.configs(connection_parameters).create()"
   ]
  },
  {
   "cell_type": "code",
   "execution_count": 428,
   "metadata": {},
   "outputs": [],
   "source": [
    "# retrieve order details usa table from snowflake\n",
    "order_detail = session.table(\"frostbyte_tasty_bytes.raw_pos.ORDER_DETAIL\")\n",
    "order_header = session.table(\"frostbyte_tasty_bytes.raw_pos.ORDER_HEADER\")\n",
    "location_table = session.table(\"frostbyte_tasty_bytes.raw_pos.LOCATION\")"
   ]
  },
  {
   "cell_type": "code",
   "execution_count": 429,
   "metadata": {},
   "outputs": [
    {
     "name": "stdout",
     "output_type": "stream",
     "text": [
      "----------------------------------------------------------------------------------------------------------------------------------------------------------------------------------\n",
      "|\"LOCATION_ID\"  |\"PLACEKEY\"           |\"LOCATION\"                                          |\"CITY\"      |\"REGION\"                               |\"ISO_COUNTRY_CODE\"  |\"COUNTRY\"  |\n",
      "----------------------------------------------------------------------------------------------------------------------------------------------------------------------------------\n",
      "|1001           |222-222@4hf-nch-k2k  |Seasoners Fine Foods                                |Manchester  |Greater Manchester                     |GB                  |England    |\n",
      "|1002           |222-222@4hf-ndn-4sq  |HM Music Promotions                                 |Manchester  |Greater Manchester                     |GB                  |England    |\n",
      "|1003           |222-222@4hf-ndp-grk  |G J Hull                                            |Manchester  |Greater Manchester                     |GB                  |England    |\n",
      "|1004           |222-222@4hf-pr3-8qf  |Allens Bakery                                       |Manchester  |Greater Manchester                     |GB                  |England    |\n",
      "|1005           |222-222@4hh-ztb-rrk  |Just Box                                            |London      |Greater London                         |GB                  |England    |\n",
      "|1007           |222-222@4hh-zvh-389  |South Of England Athletic Association               |London      |Greater London                         |GB                  |England    |\n",
      "|1008           |222-222@4hh-zvp-zs5  |Come Play Sport                                     |London      |City and County of the City of London  |GB                  |England    |\n",
      "|1009           |222-222@4hh-zzq-h3q  |Richardson Evans Memorial Playing Fields            |London      |Greater London                         |GB                  |England    |\n",
      "|1010           |222-222@4hj-zt5-ty9  |Capital Ring Section 15 Beckton District Park t...  |London      |Greater London                         |GB                  |England    |\n",
      "|1011           |222-222@4hk-wyd-fvf  |Woodsend Park                                       |Manchester  |Greater Manchester                     |GB                  |England    |\n",
      "----------------------------------------------------------------------------------------------------------------------------------------------------------------------------------\n",
      "\n"
     ]
    }
   ],
   "source": [
    "location_table.show()"
   ]
  },
  {
   "cell_type": "markdown",
   "metadata": {},
   "source": [
    "### Filter rows for United States ONLY"
   ]
  },
  {
   "cell_type": "code",
   "execution_count": 430,
   "metadata": {},
   "outputs": [],
   "source": [
    "# Get a list of LOCATION_IDs where the COUNTRY column's value is 'United States'\n",
    "## Filter the 'location_table' where the 'COUNTRY' column is 'United States'\n",
    "filtered_location_table = location_table.filter(location_table['COUNTRY'] == 'United States')\n",
    "\n",
    "## Select the 'LOCATION_ID' column from the filtered DataFrame\n",
    "location_id_df = filtered_location_table.select('LOCATION_ID')\n",
    "\n",
    "## Convert the 'LOCATION_ID' column to a Python list\n",
    "location_id_list = location_id_df.collect()\n",
    "\n",
    "## Extract the values from the DataFrame and convert them to a list\n",
    "location_id_list = [row['LOCATION_ID'] for row in location_id_list]"
   ]
  },
  {
   "cell_type": "code",
   "execution_count": 431,
   "metadata": {},
   "outputs": [
    {
     "name": "stdout",
     "output_type": "stream",
     "text": [
      "--------------------------------------------------------------------------------------------------------------------------------------------------------\n",
      "|\"ORDER_DETAIL_ID\"  |\"ORDER_ID\"  |\"MENU_ITEM_ID\"  |\"DISCOUNT_ID\"  |\"LINE_NUMBER\"  |\"QUANTITY\"  |\"UNIT_PRICE\"  |\"PRICE\"  |\"ORDER_ITEM_DISCOUNT_AMOUNT\"  |\n",
      "--------------------------------------------------------------------------------------------------------------------------------------------------------\n",
      "|73015891           |26977276    |82              |NULL           |0              |1           |15.0000       |15.0000  |NULL                          |\n",
      "|73015895           |26977277    |86              |NULL           |3              |1           |3.0000        |3.0000   |NULL                          |\n",
      "|73015894           |26977277    |83              |NULL           |2              |1           |9.0000        |9.0000   |NULL                          |\n",
      "|73015892           |26977277    |81              |NULL           |0              |2           |12.0000       |24.0000  |NULL                          |\n",
      "|73015893           |26977277    |82              |NULL           |1              |1           |15.0000       |15.0000  |NULL                          |\n",
      "|73015896           |26977278    |81              |NULL           |0              |1           |12.0000       |12.0000  |NULL                          |\n",
      "|73015897           |26977278    |82              |NULL           |1              |2           |15.0000       |30.0000  |NULL                          |\n",
      "|73015898           |26977278    |84              |NULL           |2              |1           |2.0000        |2.0000   |NULL                          |\n",
      "|73015899           |26977279    |81              |NULL           |0              |2           |12.0000       |24.0000  |NULL                          |\n",
      "|73015900           |26977279    |82              |NULL           |1              |3           |15.0000       |45.0000  |NULL                          |\n",
      "--------------------------------------------------------------------------------------------------------------------------------------------------------\n",
      "\n"
     ]
    }
   ],
   "source": [
    "order_detail.show()"
   ]
  },
  {
   "cell_type": "code",
   "execution_count": 432,
   "metadata": {},
   "outputs": [
    {
     "name": "stdout",
     "output_type": "stream",
     "text": [
      "-----------------------------------------------------------------------------------------------------------------------------------------------------------------------------------------------------------------------------------------------------------------------------------------\n",
      "|\"ORDER_ID\"  |\"TRUCK_ID\"  |\"LOCATION_ID\"  |\"CUSTOMER_ID\"  |\"DISCOUNT_ID\"  |\"SHIFT_ID\"  |\"SHIFT_START_TIME\"  |\"SHIFT_END_TIME\"  |\"ORDER_CHANNEL\"  |\"ORDER_TS\"           |\"SERVED_TS\"  |\"ORDER_CURRENCY\"  |\"ORDER_AMOUNT\"  |\"ORDER_TAX_AMOUNT\"  |\"ORDER_DISCOUNT_AMOUNT\"  |\"ORDER_TOTAL\"  |\n",
      "-----------------------------------------------------------------------------------------------------------------------------------------------------------------------------------------------------------------------------------------------------------------------------------------\n",
      "|14271673    |90          |2666.0         |NULL           |NULL           |63645       |15:30:00            |22:30:00          |NULL             |2021-05-25 16:53:13  |NULL         |USD               |11.0000         |NULL                |NULL                     |11.0000        |\n",
      "|14271674    |90          |2666.0         |59685          |NULL           |63645       |15:30:00            |22:30:00          |NULL             |2021-05-25 16:53:26  |NULL         |USD               |11.0000         |NULL                |NULL                     |11.0000        |\n",
      "|14271675    |90          |2666.0         |NULL           |NULL           |63645       |15:30:00            |22:30:00          |NULL             |2021-05-25 16:53:26  |NULL         |USD               |11.0000         |NULL                |NULL                     |11.0000        |\n",
      "|14271676    |90          |2666.0         |NULL           |NULL           |63645       |15:30:00            |22:30:00          |NULL             |2021-05-25 16:53:29  |NULL         |USD               |57.0000         |NULL                |NULL                     |57.0000        |\n",
      "|14271677    |90          |2666.0         |NULL           |NULL           |63645       |15:30:00            |22:30:00          |NULL             |2021-05-25 16:53:49  |NULL         |USD               |24.0000         |NULL                |NULL                     |24.0000        |\n",
      "|14271678    |90          |2666.0         |NULL           |NULL           |63645       |15:30:00            |22:30:00          |NULL             |2021-05-25 16:54:11  |NULL         |USD               |33.0000         |NULL                |NULL                     |33.0000        |\n",
      "|14271679    |90          |2666.0         |NULL           |NULL           |63645       |15:30:00            |22:30:00          |NULL             |2021-05-25 16:54:25  |NULL         |USD               |71.0000         |NULL                |NULL                     |71.0000        |\n",
      "|14271680    |90          |2666.0         |NULL           |NULL           |63645       |15:30:00            |22:30:00          |NULL             |2021-05-25 16:54:57  |NULL         |USD               |33.0000         |NULL                |NULL                     |33.0000        |\n",
      "|14271681    |90          |2666.0         |NULL           |NULL           |63645       |15:30:00            |22:30:00          |NULL             |2021-05-25 16:55:00  |NULL         |USD               |39.0000         |NULL                |NULL                     |39.0000        |\n",
      "|14271682    |90          |2666.0         |NULL           |NULL           |63645       |15:30:00            |22:30:00          |NULL             |2021-05-25 16:55:03  |NULL         |USD               |69.0000         |NULL                |NULL                     |69.0000        |\n",
      "-----------------------------------------------------------------------------------------------------------------------------------------------------------------------------------------------------------------------------------------------------------------------------------------\n",
      "\n"
     ]
    }
   ],
   "source": [
    "order_header.show()"
   ]
  },
  {
   "cell_type": "code",
   "execution_count": 433,
   "metadata": {},
   "outputs": [],
   "source": [
    "# Merge the two tables using the 'ORDER_ID' column as the common key\n",
    "merged_df = order_detail.join(order_header, on='ORDER_ID', how='inner')"
   ]
  },
  {
   "cell_type": "code",
   "execution_count": 434,
   "metadata": {},
   "outputs": [],
   "source": [
    "# Get rows where the LOCATION_ID is for United States\n",
    "merged_df = merged_df.filter(F.col('LOCATION_ID').isin(location_id_list))"
   ]
  },
  {
   "cell_type": "code",
   "execution_count": 435,
   "metadata": {},
   "outputs": [],
   "source": [
    "# Filter table for only the required columns\n",
    "order_df = merged_df.select(\"MENU_ITEM_ID\", \"QUANTITY\", \"ORDER_TS\")"
   ]
  },
  {
   "cell_type": "code",
   "execution_count": 436,
   "metadata": {},
   "outputs": [
    {
     "name": "stdout",
     "output_type": "stream",
     "text": [
      "-----------------------------------------------------\n",
      "|\"MENU_ITEM_ID\"  |\"QUANTITY\"  |\"ORDER_TS\"           |\n",
      "-----------------------------------------------------\n",
      "|18              |1           |2022-03-29 08:10:05  |\n",
      "|17              |2           |2022-03-29 08:10:05  |\n",
      "|16              |1           |2022-03-29 08:10:05  |\n",
      "|12              |1           |2022-03-29 08:10:05  |\n",
      "|10              |1           |2022-03-29 08:10:05  |\n",
      "|12              |1           |2022-03-29 08:34:54  |\n",
      "|13              |2           |2022-03-29 08:34:54  |\n",
      "|15              |2           |2022-03-29 08:34:54  |\n",
      "|16              |1           |2022-03-29 08:34:54  |\n",
      "|17              |1           |2022-03-29 08:34:54  |\n",
      "-----------------------------------------------------\n",
      "\n"
     ]
    }
   ],
   "source": [
    "order_df.show()"
   ]
  },
  {
   "cell_type": "markdown",
   "metadata": {},
   "source": [
    "### Feature Engineering: ORDER_TS to get YEAR"
   ]
  },
  {
   "cell_type": "code",
   "execution_count": 437,
   "metadata": {},
   "outputs": [
    {
     "name": "stdout",
     "output_type": "stream",
     "text": [
      "----------------------------------------\n",
      "|\"MENU_ITEM_ID\"  |\"QUANTITY\"  |\"YEAR\"  |\n",
      "----------------------------------------\n",
      "|18              |1           |2022    |\n",
      "|17              |2           |2022    |\n",
      "|16              |1           |2022    |\n",
      "|12              |1           |2022    |\n",
      "|10              |1           |2022    |\n",
      "|12              |1           |2022    |\n",
      "|13              |2           |2022    |\n",
      "|15              |2           |2022    |\n",
      "|16              |1           |2022    |\n",
      "|17              |1           |2022    |\n",
      "----------------------------------------\n",
      "\n"
     ]
    }
   ],
   "source": [
    "# Convert the 'ORDER_TS' column to a java.sql.Timestamp object\n",
    "order_df = order_df.withColumn('ORDER_TS', F.to_timestamp(order_df['ORDER_TS']))\n",
    "\n",
    "# Extract the year from the 'ORDER_TS' column\n",
    "order_df = order_df.withColumn('YEAR', F.year(order_df['ORDER_TS']))\n",
    "\n",
    "# Drop the 'ORDER_TS' column\n",
    "order_df = order_df.drop('ORDER_TS')\n",
    "\n",
    "# Show the modified DataFrame with the 'YEAR' column\n",
    "order_df.show()"
   ]
  },
  {
   "cell_type": "code",
   "execution_count": 438,
   "metadata": {},
   "outputs": [
    {
     "name": "stdout",
     "output_type": "stream",
     "text": [
      "-------------------------------------------------------\n",
      "|\"YEAR\"  |\"MENU_ITEM_ID\"  |\"TOTAL_QTY_SOLD_PER_YEAR\"  |\n",
      "-------------------------------------------------------\n",
      "|2019    |10              |5305                       |\n",
      "|2019    |11              |15597                      |\n",
      "|2019    |12              |15612                      |\n",
      "|2019    |13              |15641                      |\n",
      "|2019    |14              |5211                       |\n",
      "|2019    |15              |5211                       |\n",
      "|2019    |16              |5349                       |\n",
      "|2019    |17              |15560                      |\n",
      "|2019    |18              |15759                      |\n",
      "|2019    |19              |15658                      |\n",
      "-------------------------------------------------------\n",
      "\n"
     ]
    }
   ],
   "source": [
    "# Group by 'YEAR' and 'MENU_ITEM_ID' and calculate the sum of 'QUANTITY'\n",
    "total_qty_by_item = order_df.group_by(['YEAR', 'MENU_ITEM_ID']) \\\n",
    "                           .agg(F.sum(order_df['QUANTITY']).alias('TOTAL_QTY_SOLD_PER_YEAR')) \\\n",
    "                           .orderBy(['YEAR', 'MENU_ITEM_ID'])\n",
    "\n",
    "# View the data\n",
    "total_qty_by_item.show()"
   ]
  },
  {
   "cell_type": "code",
   "execution_count": 439,
   "metadata": {},
   "outputs": [],
   "source": [
    "order_df_grp_by = total_qty_by_item.to_pandas()"
   ]
  },
  {
   "cell_type": "markdown",
   "metadata": {},
   "source": [
    "### Account for missing Dec 2022 quantity sold for all menu items"
   ]
  },
  {
   "cell_type": "code",
   "execution_count": 440,
   "metadata": {},
   "outputs": [
    {
     "data": {
      "text/html": [
       "<div>\n",
       "<style scoped>\n",
       "    .dataframe tbody tr th:only-of-type {\n",
       "        vertical-align: middle;\n",
       "    }\n",
       "\n",
       "    .dataframe tbody tr th {\n",
       "        vertical-align: top;\n",
       "    }\n",
       "\n",
       "    .dataframe thead th {\n",
       "        text-align: right;\n",
       "    }\n",
       "</style>\n",
       "<table border=\"1\" class=\"dataframe\">\n",
       "  <thead>\n",
       "    <tr style=\"text-align: right;\">\n",
       "      <th></th>\n",
       "      <th>YEAR</th>\n",
       "      <th>MENU_ITEM_ID</th>\n",
       "      <th>TOTAL_QTY_SOLD_PER_YEAR</th>\n",
       "    </tr>\n",
       "  </thead>\n",
       "  <tbody>\n",
       "    <tr>\n",
       "      <th>228</th>\n",
       "      <td>2022</td>\n",
       "      <td>10</td>\n",
       "      <td>149318</td>\n",
       "    </tr>\n",
       "    <tr>\n",
       "      <th>229</th>\n",
       "      <td>2022</td>\n",
       "      <td>11</td>\n",
       "      <td>443405</td>\n",
       "    </tr>\n",
       "    <tr>\n",
       "      <th>230</th>\n",
       "      <td>2022</td>\n",
       "      <td>12</td>\n",
       "      <td>441775</td>\n",
       "    </tr>\n",
       "    <tr>\n",
       "      <th>231</th>\n",
       "      <td>2022</td>\n",
       "      <td>13</td>\n",
       "      <td>441694</td>\n",
       "    </tr>\n",
       "    <tr>\n",
       "      <th>232</th>\n",
       "      <td>2022</td>\n",
       "      <td>14</td>\n",
       "      <td>149397</td>\n",
       "    </tr>\n",
       "  </tbody>\n",
       "</table>\n",
       "</div>"
      ],
      "text/plain": [
       "     YEAR  MENU_ITEM_ID  TOTAL_QTY_SOLD_PER_YEAR\n",
       "228  2022            10                   149318\n",
       "229  2022            11                   443405\n",
       "230  2022            12                   441775\n",
       "231  2022            13                   441694\n",
       "232  2022            14                   149397"
      ]
     },
     "execution_count": 440,
     "metadata": {},
     "output_type": "execute_result"
    }
   ],
   "source": [
    "# result before adding the assumed missing Dec 2022 qty sold for all items\n",
    "order_df_grp_by[order_df_grp_by[\"YEAR\"]==2022].head()"
   ]
  },
  {
   "cell_type": "code",
   "execution_count": 441,
   "metadata": {},
   "outputs": [],
   "source": [
    "order_df_grp_by[\"TOTAL_QTY_SOLD_PER_YEAR\"] = np.where(\n",
    "    order_df_grp_by[\"YEAR\"] == 2022,\n",
    "    np.ceil((order_df_grp_by[\"TOTAL_QTY_SOLD_PER_YEAR\"] / 11) * 12),\n",
    "    order_df_grp_by[\"TOTAL_QTY_SOLD_PER_YEAR\"]\n",
    ")"
   ]
  },
  {
   "cell_type": "code",
   "execution_count": 442,
   "metadata": {},
   "outputs": [
    {
     "data": {
      "text/html": [
       "<div>\n",
       "<style scoped>\n",
       "    .dataframe tbody tr th:only-of-type {\n",
       "        vertical-align: middle;\n",
       "    }\n",
       "\n",
       "    .dataframe tbody tr th {\n",
       "        vertical-align: top;\n",
       "    }\n",
       "\n",
       "    .dataframe thead th {\n",
       "        text-align: right;\n",
       "    }\n",
       "</style>\n",
       "<table border=\"1\" class=\"dataframe\">\n",
       "  <thead>\n",
       "    <tr style=\"text-align: right;\">\n",
       "      <th></th>\n",
       "      <th>YEAR</th>\n",
       "      <th>MENU_ITEM_ID</th>\n",
       "      <th>TOTAL_QTY_SOLD_PER_YEAR</th>\n",
       "    </tr>\n",
       "  </thead>\n",
       "  <tbody>\n",
       "    <tr>\n",
       "      <th>228</th>\n",
       "      <td>2022</td>\n",
       "      <td>10</td>\n",
       "      <td>162893.0</td>\n",
       "    </tr>\n",
       "    <tr>\n",
       "      <th>229</th>\n",
       "      <td>2022</td>\n",
       "      <td>11</td>\n",
       "      <td>483715.0</td>\n",
       "    </tr>\n",
       "    <tr>\n",
       "      <th>230</th>\n",
       "      <td>2022</td>\n",
       "      <td>12</td>\n",
       "      <td>481937.0</td>\n",
       "    </tr>\n",
       "    <tr>\n",
       "      <th>231</th>\n",
       "      <td>2022</td>\n",
       "      <td>13</td>\n",
       "      <td>481848.0</td>\n",
       "    </tr>\n",
       "    <tr>\n",
       "      <th>232</th>\n",
       "      <td>2022</td>\n",
       "      <td>14</td>\n",
       "      <td>162979.0</td>\n",
       "    </tr>\n",
       "  </tbody>\n",
       "</table>\n",
       "</div>"
      ],
      "text/plain": [
       "     YEAR  MENU_ITEM_ID  TOTAL_QTY_SOLD_PER_YEAR\n",
       "228  2022            10                 162893.0\n",
       "229  2022            11                 483715.0\n",
       "230  2022            12                 481937.0\n",
       "231  2022            13                 481848.0\n",
       "232  2022            14                 162979.0"
      ]
     },
     "execution_count": 442,
     "metadata": {},
     "output_type": "execute_result"
    }
   ],
   "source": [
    "order_df_grp_by[order_df_grp_by[\"YEAR\"]==2022].head()"
   ]
  },
  {
   "cell_type": "code",
   "execution_count": 443,
   "metadata": {},
   "outputs": [],
   "source": [
    "order_df_grp_by.to_csv('C:/Users/donsu/OneDrive - Ngee Ann Polytechnic/ICP - Industry Currency Project/Week 3/Tasty_Insights/StreamlitApp/assets/datasets/total_qty_by_item.csv', index=False)"
   ]
  },
  {
   "cell_type": "markdown",
   "metadata": {},
   "source": [
    "# Menu Table "
   ]
  },
  {
   "cell_type": "code",
   "execution_count": 444,
   "metadata": {},
   "outputs": [],
   "source": [
    "# retrieve menu data from snowflake\n",
    "menu_data_from_snowflake = session.table(\"frostbyte_tasty_bytes.raw_pos.MENU\")"
   ]
  },
  {
   "cell_type": "code",
   "execution_count": 445,
   "metadata": {},
   "outputs": [],
   "source": [
    "# convert menu_data_from_snowflake to pandas dataframe\n",
    "menu_df = menu_data_from_snowflake.to_pandas()"
   ]
  },
  {
   "cell_type": "code",
   "execution_count": 446,
   "metadata": {},
   "outputs": [],
   "source": [
    "# merge total_qty_sold_per_item with final_product_df\n",
    "menu_df = pd.merge(menu_df, order_df_grp_by, on='MENU_ITEM_ID')"
   ]
  },
  {
   "cell_type": "code",
   "execution_count": 447,
   "metadata": {},
   "outputs": [
    {
     "data": {
      "text/html": [
       "<div>\n",
       "<style scoped>\n",
       "    .dataframe tbody tr th:only-of-type {\n",
       "        vertical-align: middle;\n",
       "    }\n",
       "\n",
       "    .dataframe tbody tr th {\n",
       "        vertical-align: top;\n",
       "    }\n",
       "\n",
       "    .dataframe thead th {\n",
       "        text-align: right;\n",
       "    }\n",
       "</style>\n",
       "<table border=\"1\" class=\"dataframe\">\n",
       "  <thead>\n",
       "    <tr style=\"text-align: right;\">\n",
       "      <th></th>\n",
       "      <th>MENU_ID</th>\n",
       "      <th>MENU_TYPE_ID</th>\n",
       "      <th>MENU_TYPE</th>\n",
       "      <th>TRUCK_BRAND_NAME</th>\n",
       "      <th>MENU_ITEM_ID</th>\n",
       "      <th>MENU_ITEM_NAME</th>\n",
       "      <th>ITEM_CATEGORY</th>\n",
       "      <th>ITEM_SUBCATEGORY</th>\n",
       "      <th>COST_OF_GOODS_USD</th>\n",
       "      <th>SALE_PRICE_USD</th>\n",
       "      <th>MENU_ITEM_HEALTH_METRICS_OBJ</th>\n",
       "      <th>YEAR</th>\n",
       "      <th>TOTAL_QTY_SOLD_PER_YEAR</th>\n",
       "    </tr>\n",
       "  </thead>\n",
       "  <tbody>\n",
       "    <tr>\n",
       "      <th>0</th>\n",
       "      <td>10001</td>\n",
       "      <td>1</td>\n",
       "      <td>Ice Cream</td>\n",
       "      <td>Freezing Point</td>\n",
       "      <td>10</td>\n",
       "      <td>Lemonade</td>\n",
       "      <td>Beverage</td>\n",
       "      <td>Cold Option</td>\n",
       "      <td>0.65</td>\n",
       "      <td>3.5</td>\n",
       "      <td>{\\n  \"menu_item_health_metrics\": [\\n    {\\n   ...</td>\n",
       "      <td>2019</td>\n",
       "      <td>5305.0</td>\n",
       "    </tr>\n",
       "    <tr>\n",
       "      <th>1</th>\n",
       "      <td>10001</td>\n",
       "      <td>1</td>\n",
       "      <td>Ice Cream</td>\n",
       "      <td>Freezing Point</td>\n",
       "      <td>10</td>\n",
       "      <td>Lemonade</td>\n",
       "      <td>Beverage</td>\n",
       "      <td>Cold Option</td>\n",
       "      <td>0.65</td>\n",
       "      <td>3.5</td>\n",
       "      <td>{\\n  \"menu_item_health_metrics\": [\\n    {\\n   ...</td>\n",
       "      <td>2020</td>\n",
       "      <td>26284.0</td>\n",
       "    </tr>\n",
       "    <tr>\n",
       "      <th>2</th>\n",
       "      <td>10001</td>\n",
       "      <td>1</td>\n",
       "      <td>Ice Cream</td>\n",
       "      <td>Freezing Point</td>\n",
       "      <td>10</td>\n",
       "      <td>Lemonade</td>\n",
       "      <td>Beverage</td>\n",
       "      <td>Cold Option</td>\n",
       "      <td>0.65</td>\n",
       "      <td>3.5</td>\n",
       "      <td>{\\n  \"menu_item_health_metrics\": [\\n    {\\n   ...</td>\n",
       "      <td>2021</td>\n",
       "      <td>159322.0</td>\n",
       "    </tr>\n",
       "    <tr>\n",
       "      <th>3</th>\n",
       "      <td>10001</td>\n",
       "      <td>1</td>\n",
       "      <td>Ice Cream</td>\n",
       "      <td>Freezing Point</td>\n",
       "      <td>10</td>\n",
       "      <td>Lemonade</td>\n",
       "      <td>Beverage</td>\n",
       "      <td>Cold Option</td>\n",
       "      <td>0.65</td>\n",
       "      <td>3.5</td>\n",
       "      <td>{\\n  \"menu_item_health_metrics\": [\\n    {\\n   ...</td>\n",
       "      <td>2022</td>\n",
       "      <td>162893.0</td>\n",
       "    </tr>\n",
       "    <tr>\n",
       "      <th>4</th>\n",
       "      <td>10002</td>\n",
       "      <td>1</td>\n",
       "      <td>Ice Cream</td>\n",
       "      <td>Freezing Point</td>\n",
       "      <td>11</td>\n",
       "      <td>Sugar Cone</td>\n",
       "      <td>Dessert</td>\n",
       "      <td>Cold Option</td>\n",
       "      <td>2.50</td>\n",
       "      <td>6.0</td>\n",
       "      <td>{\\n  \"menu_item_health_metrics\": [\\n    {\\n   ...</td>\n",
       "      <td>2019</td>\n",
       "      <td>15597.0</td>\n",
       "    </tr>\n",
       "  </tbody>\n",
       "</table>\n",
       "</div>"
      ],
      "text/plain": [
       "   MENU_ID  MENU_TYPE_ID  MENU_TYPE TRUCK_BRAND_NAME  MENU_ITEM_ID  \\\n",
       "0    10001             1  Ice Cream   Freezing Point            10   \n",
       "1    10001             1  Ice Cream   Freezing Point            10   \n",
       "2    10001             1  Ice Cream   Freezing Point            10   \n",
       "3    10001             1  Ice Cream   Freezing Point            10   \n",
       "4    10002             1  Ice Cream   Freezing Point            11   \n",
       "\n",
       "  MENU_ITEM_NAME ITEM_CATEGORY ITEM_SUBCATEGORY  COST_OF_GOODS_USD  \\\n",
       "0       Lemonade      Beverage      Cold Option               0.65   \n",
       "1       Lemonade      Beverage      Cold Option               0.65   \n",
       "2       Lemonade      Beverage      Cold Option               0.65   \n",
       "3       Lemonade      Beverage      Cold Option               0.65   \n",
       "4     Sugar Cone       Dessert      Cold Option               2.50   \n",
       "\n",
       "   SALE_PRICE_USD                       MENU_ITEM_HEALTH_METRICS_OBJ  YEAR  \\\n",
       "0             3.5  {\\n  \"menu_item_health_metrics\": [\\n    {\\n   ...  2019   \n",
       "1             3.5  {\\n  \"menu_item_health_metrics\": [\\n    {\\n   ...  2020   \n",
       "2             3.5  {\\n  \"menu_item_health_metrics\": [\\n    {\\n   ...  2021   \n",
       "3             3.5  {\\n  \"menu_item_health_metrics\": [\\n    {\\n   ...  2022   \n",
       "4             6.0  {\\n  \"menu_item_health_metrics\": [\\n    {\\n   ...  2019   \n",
       "\n",
       "   TOTAL_QTY_SOLD_PER_YEAR  \n",
       "0                   5305.0  \n",
       "1                  26284.0  \n",
       "2                 159322.0  \n",
       "3                 162893.0  \n",
       "4                  15597.0  "
      ]
     },
     "execution_count": 447,
     "metadata": {},
     "output_type": "execute_result"
    }
   ],
   "source": [
    "# preview menu table\n",
    "menu_df.head()"
   ]
  },
  {
   "cell_type": "markdown",
   "metadata": {},
   "source": [
    "### Feature Engineering: MENU_ITEM_HEALTH_METRICS_OBJ "
   ]
  },
  {
   "cell_type": "code",
   "execution_count": 448,
   "metadata": {},
   "outputs": [],
   "source": [
    "# Convert the string JSON data to a nested dictionary\n",
    "menu_df['MENU_ITEM_HEALTH_METRICS_OBJ'] = menu_df['MENU_ITEM_HEALTH_METRICS_OBJ'].apply(ast.literal_eval)\n",
    "\n",
    "# Use json_normalize to flatten the nested JSON data\n",
    "menu_item_metrics = pd.json_normalize(menu_df['MENU_ITEM_HEALTH_METRICS_OBJ'], record_path='menu_item_health_metrics')\n",
    "\n",
    "# Rename the columns\n",
    "menu_item_metrics = menu_item_metrics.rename(columns={\n",
    "    'is_dairy_free_flag': 'DAIRY_FREE',\n",
    "    'is_gluten_free_flag': 'GLUTEN_FREE',\n",
    "    'is_healthy_flag': 'HEALTHY',\n",
    "    'is_nut_free_flag': 'NUT_FREE'\n",
    "})\n",
    "\n",
    "# Replace 'Y' with 'Yes' and 'N' with 'No' in the DataFrame\n",
    "menu_item_metrics = menu_item_metrics.replace({'Y': 1, 'N': 0})\n",
    "\n",
    "# Concatenate the flattened DataFrame with the original DataFrame\n",
    "menu_df = pd.concat([menu_df, menu_item_metrics], axis=1)\n",
    "\n",
    "# Drop the original 'MENU_ITEM_HEALTH_METRICS_OBJ' and 'ingredients' column \n",
    "menu_df = menu_df.drop(columns=['MENU_ITEM_HEALTH_METRICS_OBJ', 'ingredients'])"
   ]
  },
  {
   "cell_type": "code",
   "execution_count": 449,
   "metadata": {},
   "outputs": [
    {
     "data": {
      "text/html": [
       "<div>\n",
       "<style scoped>\n",
       "    .dataframe tbody tr th:only-of-type {\n",
       "        vertical-align: middle;\n",
       "    }\n",
       "\n",
       "    .dataframe tbody tr th {\n",
       "        vertical-align: top;\n",
       "    }\n",
       "\n",
       "    .dataframe thead th {\n",
       "        text-align: right;\n",
       "    }\n",
       "</style>\n",
       "<table border=\"1\" class=\"dataframe\">\n",
       "  <thead>\n",
       "    <tr style=\"text-align: right;\">\n",
       "      <th></th>\n",
       "      <th>MENU_ID</th>\n",
       "      <th>MENU_TYPE_ID</th>\n",
       "      <th>MENU_TYPE</th>\n",
       "      <th>TRUCK_BRAND_NAME</th>\n",
       "      <th>MENU_ITEM_ID</th>\n",
       "      <th>MENU_ITEM_NAME</th>\n",
       "      <th>ITEM_CATEGORY</th>\n",
       "      <th>ITEM_SUBCATEGORY</th>\n",
       "      <th>COST_OF_GOODS_USD</th>\n",
       "      <th>SALE_PRICE_USD</th>\n",
       "      <th>YEAR</th>\n",
       "      <th>TOTAL_QTY_SOLD_PER_YEAR</th>\n",
       "      <th>DAIRY_FREE</th>\n",
       "      <th>GLUTEN_FREE</th>\n",
       "      <th>HEALTHY</th>\n",
       "      <th>NUT_FREE</th>\n",
       "    </tr>\n",
       "  </thead>\n",
       "  <tbody>\n",
       "    <tr>\n",
       "      <th>0</th>\n",
       "      <td>10001</td>\n",
       "      <td>1</td>\n",
       "      <td>Ice Cream</td>\n",
       "      <td>Freezing Point</td>\n",
       "      <td>10</td>\n",
       "      <td>Lemonade</td>\n",
       "      <td>Beverage</td>\n",
       "      <td>Cold Option</td>\n",
       "      <td>0.65</td>\n",
       "      <td>3.5</td>\n",
       "      <td>2019</td>\n",
       "      <td>5305.0</td>\n",
       "      <td>1</td>\n",
       "      <td>1</td>\n",
       "      <td>0</td>\n",
       "      <td>1</td>\n",
       "    </tr>\n",
       "    <tr>\n",
       "      <th>1</th>\n",
       "      <td>10001</td>\n",
       "      <td>1</td>\n",
       "      <td>Ice Cream</td>\n",
       "      <td>Freezing Point</td>\n",
       "      <td>10</td>\n",
       "      <td>Lemonade</td>\n",
       "      <td>Beverage</td>\n",
       "      <td>Cold Option</td>\n",
       "      <td>0.65</td>\n",
       "      <td>3.5</td>\n",
       "      <td>2020</td>\n",
       "      <td>26284.0</td>\n",
       "      <td>1</td>\n",
       "      <td>1</td>\n",
       "      <td>0</td>\n",
       "      <td>1</td>\n",
       "    </tr>\n",
       "    <tr>\n",
       "      <th>2</th>\n",
       "      <td>10001</td>\n",
       "      <td>1</td>\n",
       "      <td>Ice Cream</td>\n",
       "      <td>Freezing Point</td>\n",
       "      <td>10</td>\n",
       "      <td>Lemonade</td>\n",
       "      <td>Beverage</td>\n",
       "      <td>Cold Option</td>\n",
       "      <td>0.65</td>\n",
       "      <td>3.5</td>\n",
       "      <td>2021</td>\n",
       "      <td>159322.0</td>\n",
       "      <td>1</td>\n",
       "      <td>1</td>\n",
       "      <td>0</td>\n",
       "      <td>1</td>\n",
       "    </tr>\n",
       "    <tr>\n",
       "      <th>3</th>\n",
       "      <td>10001</td>\n",
       "      <td>1</td>\n",
       "      <td>Ice Cream</td>\n",
       "      <td>Freezing Point</td>\n",
       "      <td>10</td>\n",
       "      <td>Lemonade</td>\n",
       "      <td>Beverage</td>\n",
       "      <td>Cold Option</td>\n",
       "      <td>0.65</td>\n",
       "      <td>3.5</td>\n",
       "      <td>2022</td>\n",
       "      <td>162893.0</td>\n",
       "      <td>1</td>\n",
       "      <td>1</td>\n",
       "      <td>0</td>\n",
       "      <td>1</td>\n",
       "    </tr>\n",
       "    <tr>\n",
       "      <th>4</th>\n",
       "      <td>10002</td>\n",
       "      <td>1</td>\n",
       "      <td>Ice Cream</td>\n",
       "      <td>Freezing Point</td>\n",
       "      <td>11</td>\n",
       "      <td>Sugar Cone</td>\n",
       "      <td>Dessert</td>\n",
       "      <td>Cold Option</td>\n",
       "      <td>2.50</td>\n",
       "      <td>6.0</td>\n",
       "      <td>2019</td>\n",
       "      <td>15597.0</td>\n",
       "      <td>1</td>\n",
       "      <td>1</td>\n",
       "      <td>0</td>\n",
       "      <td>1</td>\n",
       "    </tr>\n",
       "  </tbody>\n",
       "</table>\n",
       "</div>"
      ],
      "text/plain": [
       "   MENU_ID  MENU_TYPE_ID  MENU_TYPE TRUCK_BRAND_NAME  MENU_ITEM_ID  \\\n",
       "0    10001             1  Ice Cream   Freezing Point            10   \n",
       "1    10001             1  Ice Cream   Freezing Point            10   \n",
       "2    10001             1  Ice Cream   Freezing Point            10   \n",
       "3    10001             1  Ice Cream   Freezing Point            10   \n",
       "4    10002             1  Ice Cream   Freezing Point            11   \n",
       "\n",
       "  MENU_ITEM_NAME ITEM_CATEGORY ITEM_SUBCATEGORY  COST_OF_GOODS_USD  \\\n",
       "0       Lemonade      Beverage      Cold Option               0.65   \n",
       "1       Lemonade      Beverage      Cold Option               0.65   \n",
       "2       Lemonade      Beverage      Cold Option               0.65   \n",
       "3       Lemonade      Beverage      Cold Option               0.65   \n",
       "4     Sugar Cone       Dessert      Cold Option               2.50   \n",
       "\n",
       "   SALE_PRICE_USD  YEAR  TOTAL_QTY_SOLD_PER_YEAR  DAIRY_FREE  GLUTEN_FREE  \\\n",
       "0             3.5  2019                   5305.0           1            1   \n",
       "1             3.5  2020                  26284.0           1            1   \n",
       "2             3.5  2021                 159322.0           1            1   \n",
       "3             3.5  2022                 162893.0           1            1   \n",
       "4             6.0  2019                  15597.0           1            1   \n",
       "\n",
       "   HEALTHY  NUT_FREE  \n",
       "0        0         1  \n",
       "1        0         1  \n",
       "2        0         1  \n",
       "3        0         1  \n",
       "4        0         1  "
      ]
     },
     "execution_count": 449,
     "metadata": {},
     "output_type": "execute_result"
    }
   ],
   "source": [
    "menu_df.head()"
   ]
  },
  {
   "cell_type": "markdown",
   "metadata": {},
   "source": [
    "# Final Table"
   ]
  },
  {
   "cell_type": "code",
   "execution_count": 450,
   "metadata": {},
   "outputs": [],
   "source": [
    "final_df = menu_df"
   ]
  },
  {
   "cell_type": "code",
   "execution_count": 451,
   "metadata": {},
   "outputs": [
    {
     "data": {
      "text/html": [
       "<div>\n",
       "<style scoped>\n",
       "    .dataframe tbody tr th:only-of-type {\n",
       "        vertical-align: middle;\n",
       "    }\n",
       "\n",
       "    .dataframe tbody tr th {\n",
       "        vertical-align: top;\n",
       "    }\n",
       "\n",
       "    .dataframe thead th {\n",
       "        text-align: right;\n",
       "    }\n",
       "</style>\n",
       "<table border=\"1\" class=\"dataframe\">\n",
       "  <thead>\n",
       "    <tr style=\"text-align: right;\">\n",
       "      <th></th>\n",
       "      <th>MENU_ID</th>\n",
       "      <th>MENU_TYPE_ID</th>\n",
       "      <th>MENU_TYPE</th>\n",
       "      <th>TRUCK_BRAND_NAME</th>\n",
       "      <th>MENU_ITEM_ID</th>\n",
       "      <th>MENU_ITEM_NAME</th>\n",
       "      <th>ITEM_CATEGORY</th>\n",
       "      <th>ITEM_SUBCATEGORY</th>\n",
       "      <th>COST_OF_GOODS_USD</th>\n",
       "      <th>SALE_PRICE_USD</th>\n",
       "      <th>YEAR</th>\n",
       "      <th>TOTAL_QTY_SOLD_PER_YEAR</th>\n",
       "      <th>DAIRY_FREE</th>\n",
       "      <th>GLUTEN_FREE</th>\n",
       "      <th>HEALTHY</th>\n",
       "      <th>NUT_FREE</th>\n",
       "    </tr>\n",
       "  </thead>\n",
       "  <tbody>\n",
       "    <tr>\n",
       "      <th>0</th>\n",
       "      <td>10001</td>\n",
       "      <td>1</td>\n",
       "      <td>Ice Cream</td>\n",
       "      <td>Freezing Point</td>\n",
       "      <td>10</td>\n",
       "      <td>Lemonade</td>\n",
       "      <td>Beverage</td>\n",
       "      <td>Cold Option</td>\n",
       "      <td>0.65</td>\n",
       "      <td>3.5</td>\n",
       "      <td>2019</td>\n",
       "      <td>5305.0</td>\n",
       "      <td>1</td>\n",
       "      <td>1</td>\n",
       "      <td>0</td>\n",
       "      <td>1</td>\n",
       "    </tr>\n",
       "    <tr>\n",
       "      <th>1</th>\n",
       "      <td>10001</td>\n",
       "      <td>1</td>\n",
       "      <td>Ice Cream</td>\n",
       "      <td>Freezing Point</td>\n",
       "      <td>10</td>\n",
       "      <td>Lemonade</td>\n",
       "      <td>Beverage</td>\n",
       "      <td>Cold Option</td>\n",
       "      <td>0.65</td>\n",
       "      <td>3.5</td>\n",
       "      <td>2020</td>\n",
       "      <td>26284.0</td>\n",
       "      <td>1</td>\n",
       "      <td>1</td>\n",
       "      <td>0</td>\n",
       "      <td>1</td>\n",
       "    </tr>\n",
       "    <tr>\n",
       "      <th>2</th>\n",
       "      <td>10001</td>\n",
       "      <td>1</td>\n",
       "      <td>Ice Cream</td>\n",
       "      <td>Freezing Point</td>\n",
       "      <td>10</td>\n",
       "      <td>Lemonade</td>\n",
       "      <td>Beverage</td>\n",
       "      <td>Cold Option</td>\n",
       "      <td>0.65</td>\n",
       "      <td>3.5</td>\n",
       "      <td>2021</td>\n",
       "      <td>159322.0</td>\n",
       "      <td>1</td>\n",
       "      <td>1</td>\n",
       "      <td>0</td>\n",
       "      <td>1</td>\n",
       "    </tr>\n",
       "    <tr>\n",
       "      <th>3</th>\n",
       "      <td>10001</td>\n",
       "      <td>1</td>\n",
       "      <td>Ice Cream</td>\n",
       "      <td>Freezing Point</td>\n",
       "      <td>10</td>\n",
       "      <td>Lemonade</td>\n",
       "      <td>Beverage</td>\n",
       "      <td>Cold Option</td>\n",
       "      <td>0.65</td>\n",
       "      <td>3.5</td>\n",
       "      <td>2022</td>\n",
       "      <td>162893.0</td>\n",
       "      <td>1</td>\n",
       "      <td>1</td>\n",
       "      <td>0</td>\n",
       "      <td>1</td>\n",
       "    </tr>\n",
       "    <tr>\n",
       "      <th>4</th>\n",
       "      <td>10002</td>\n",
       "      <td>1</td>\n",
       "      <td>Ice Cream</td>\n",
       "      <td>Freezing Point</td>\n",
       "      <td>11</td>\n",
       "      <td>Sugar Cone</td>\n",
       "      <td>Dessert</td>\n",
       "      <td>Cold Option</td>\n",
       "      <td>2.50</td>\n",
       "      <td>6.0</td>\n",
       "      <td>2019</td>\n",
       "      <td>15597.0</td>\n",
       "      <td>1</td>\n",
       "      <td>1</td>\n",
       "      <td>0</td>\n",
       "      <td>1</td>\n",
       "    </tr>\n",
       "  </tbody>\n",
       "</table>\n",
       "</div>"
      ],
      "text/plain": [
       "   MENU_ID  MENU_TYPE_ID  MENU_TYPE TRUCK_BRAND_NAME  MENU_ITEM_ID  \\\n",
       "0    10001             1  Ice Cream   Freezing Point            10   \n",
       "1    10001             1  Ice Cream   Freezing Point            10   \n",
       "2    10001             1  Ice Cream   Freezing Point            10   \n",
       "3    10001             1  Ice Cream   Freezing Point            10   \n",
       "4    10002             1  Ice Cream   Freezing Point            11   \n",
       "\n",
       "  MENU_ITEM_NAME ITEM_CATEGORY ITEM_SUBCATEGORY  COST_OF_GOODS_USD  \\\n",
       "0       Lemonade      Beverage      Cold Option               0.65   \n",
       "1       Lemonade      Beverage      Cold Option               0.65   \n",
       "2       Lemonade      Beverage      Cold Option               0.65   \n",
       "3       Lemonade      Beverage      Cold Option               0.65   \n",
       "4     Sugar Cone       Dessert      Cold Option               2.50   \n",
       "\n",
       "   SALE_PRICE_USD  YEAR  TOTAL_QTY_SOLD_PER_YEAR  DAIRY_FREE  GLUTEN_FREE  \\\n",
       "0             3.5  2019                   5305.0           1            1   \n",
       "1             3.5  2020                  26284.0           1            1   \n",
       "2             3.5  2021                 159322.0           1            1   \n",
       "3             3.5  2022                 162893.0           1            1   \n",
       "4             6.0  2019                  15597.0           1            1   \n",
       "\n",
       "   HEALTHY  NUT_FREE  \n",
       "0        0         1  \n",
       "1        0         1  \n",
       "2        0         1  \n",
       "3        0         1  \n",
       "4        0         1  "
      ]
     },
     "execution_count": 451,
     "metadata": {},
     "output_type": "execute_result"
    }
   ],
   "source": [
    "final_df.head()"
   ]
  },
  {
   "cell_type": "code",
   "execution_count": 452,
   "metadata": {},
   "outputs": [],
   "source": [
    "# convert target to int type\n",
    "final_df['TOTAL_QTY_SOLD_PER_YEAR'] = final_df['TOTAL_QTY_SOLD_PER_YEAR'].astype(int)"
   ]
  },
  {
   "cell_type": "code",
   "execution_count": 453,
   "metadata": {},
   "outputs": [
    {
     "data": {
      "text/html": [
       "<div>\n",
       "<style scoped>\n",
       "    .dataframe tbody tr th:only-of-type {\n",
       "        vertical-align: middle;\n",
       "    }\n",
       "\n",
       "    .dataframe tbody tr th {\n",
       "        vertical-align: top;\n",
       "    }\n",
       "\n",
       "    .dataframe thead th {\n",
       "        text-align: right;\n",
       "    }\n",
       "</style>\n",
       "<table border=\"1\" class=\"dataframe\">\n",
       "  <thead>\n",
       "    <tr style=\"text-align: right;\">\n",
       "      <th></th>\n",
       "      <th>MENU_TYPE</th>\n",
       "      <th>MENU_ITEM_ID</th>\n",
       "      <th>ITEM_CATEGORY</th>\n",
       "      <th>ITEM_SUBCATEGORY</th>\n",
       "      <th>SALE_PRICE_USD</th>\n",
       "      <th>YEAR</th>\n",
       "      <th>TOTAL_QTY_SOLD_PER_YEAR</th>\n",
       "      <th>DAIRY_FREE</th>\n",
       "      <th>GLUTEN_FREE</th>\n",
       "      <th>HEALTHY</th>\n",
       "      <th>NUT_FREE</th>\n",
       "    </tr>\n",
       "  </thead>\n",
       "  <tbody>\n",
       "    <tr>\n",
       "      <th>0</th>\n",
       "      <td>Ice Cream</td>\n",
       "      <td>10</td>\n",
       "      <td>Beverage</td>\n",
       "      <td>Cold Option</td>\n",
       "      <td>3.5</td>\n",
       "      <td>2019</td>\n",
       "      <td>5305</td>\n",
       "      <td>1</td>\n",
       "      <td>1</td>\n",
       "      <td>0</td>\n",
       "      <td>1</td>\n",
       "    </tr>\n",
       "    <tr>\n",
       "      <th>1</th>\n",
       "      <td>Ice Cream</td>\n",
       "      <td>10</td>\n",
       "      <td>Beverage</td>\n",
       "      <td>Cold Option</td>\n",
       "      <td>3.5</td>\n",
       "      <td>2020</td>\n",
       "      <td>26284</td>\n",
       "      <td>1</td>\n",
       "      <td>1</td>\n",
       "      <td>0</td>\n",
       "      <td>1</td>\n",
       "    </tr>\n",
       "    <tr>\n",
       "      <th>2</th>\n",
       "      <td>Ice Cream</td>\n",
       "      <td>10</td>\n",
       "      <td>Beverage</td>\n",
       "      <td>Cold Option</td>\n",
       "      <td>3.5</td>\n",
       "      <td>2021</td>\n",
       "      <td>159322</td>\n",
       "      <td>1</td>\n",
       "      <td>1</td>\n",
       "      <td>0</td>\n",
       "      <td>1</td>\n",
       "    </tr>\n",
       "    <tr>\n",
       "      <th>3</th>\n",
       "      <td>Ice Cream</td>\n",
       "      <td>10</td>\n",
       "      <td>Beverage</td>\n",
       "      <td>Cold Option</td>\n",
       "      <td>3.5</td>\n",
       "      <td>2022</td>\n",
       "      <td>162893</td>\n",
       "      <td>1</td>\n",
       "      <td>1</td>\n",
       "      <td>0</td>\n",
       "      <td>1</td>\n",
       "    </tr>\n",
       "    <tr>\n",
       "      <th>4</th>\n",
       "      <td>Ice Cream</td>\n",
       "      <td>11</td>\n",
       "      <td>Dessert</td>\n",
       "      <td>Cold Option</td>\n",
       "      <td>6.0</td>\n",
       "      <td>2019</td>\n",
       "      <td>15597</td>\n",
       "      <td>1</td>\n",
       "      <td>1</td>\n",
       "      <td>0</td>\n",
       "      <td>1</td>\n",
       "    </tr>\n",
       "  </tbody>\n",
       "</table>\n",
       "</div>"
      ],
      "text/plain": [
       "   MENU_TYPE  MENU_ITEM_ID ITEM_CATEGORY ITEM_SUBCATEGORY  SALE_PRICE_USD  \\\n",
       "0  Ice Cream            10      Beverage      Cold Option             3.5   \n",
       "1  Ice Cream            10      Beverage      Cold Option             3.5   \n",
       "2  Ice Cream            10      Beverage      Cold Option             3.5   \n",
       "3  Ice Cream            10      Beverage      Cold Option             3.5   \n",
       "4  Ice Cream            11       Dessert      Cold Option             6.0   \n",
       "\n",
       "   YEAR  TOTAL_QTY_SOLD_PER_YEAR  DAIRY_FREE  GLUTEN_FREE  HEALTHY  NUT_FREE  \n",
       "0  2019                     5305           1            1        0         1  \n",
       "1  2020                    26284           1            1        0         1  \n",
       "2  2021                   159322           1            1        0         1  \n",
       "3  2022                   162893           1            1        0         1  \n",
       "4  2019                    15597           1            1        0         1  "
      ]
     },
     "execution_count": 453,
     "metadata": {},
     "output_type": "execute_result"
    }
   ],
   "source": [
    "final_df = final_df.drop([\"COST_OF_GOODS_USD\", \"MENU_ID\", \"MENU_TYPE_ID\", \"MENU_ITEM_NAME\", \"TRUCK_BRAND_NAME\"], axis=1)\n",
    "final_df.head()"
   ]
  },
  {
   "cell_type": "markdown",
   "metadata": {},
   "source": [
    "### Ordinal Encoding for ITEM_SUBCATEGORY"
   ]
  },
  {
   "cell_type": "code",
   "execution_count": 454,
   "metadata": {},
   "outputs": [
    {
     "data": {
      "text/html": [
       "<div>\n",
       "<style scoped>\n",
       "    .dataframe tbody tr th:only-of-type {\n",
       "        vertical-align: middle;\n",
       "    }\n",
       "\n",
       "    .dataframe tbody tr th {\n",
       "        vertical-align: top;\n",
       "    }\n",
       "\n",
       "    .dataframe thead th {\n",
       "        text-align: right;\n",
       "    }\n",
       "</style>\n",
       "<table border=\"1\" class=\"dataframe\">\n",
       "  <thead>\n",
       "    <tr style=\"text-align: right;\">\n",
       "      <th></th>\n",
       "      <th>MENU_TYPE</th>\n",
       "      <th>MENU_ITEM_ID</th>\n",
       "      <th>ITEM_CATEGORY</th>\n",
       "      <th>ITEM_SUBCATEGORY</th>\n",
       "      <th>SALE_PRICE_USD</th>\n",
       "      <th>YEAR</th>\n",
       "      <th>TOTAL_QTY_SOLD_PER_YEAR</th>\n",
       "      <th>DAIRY_FREE</th>\n",
       "      <th>GLUTEN_FREE</th>\n",
       "      <th>HEALTHY</th>\n",
       "      <th>NUT_FREE</th>\n",
       "    </tr>\n",
       "  </thead>\n",
       "  <tbody>\n",
       "    <tr>\n",
       "      <th>0</th>\n",
       "      <td>Ice Cream</td>\n",
       "      <td>10</td>\n",
       "      <td>Beverage</td>\n",
       "      <td>0</td>\n",
       "      <td>3.5</td>\n",
       "      <td>2019</td>\n",
       "      <td>5305</td>\n",
       "      <td>1</td>\n",
       "      <td>1</td>\n",
       "      <td>0</td>\n",
       "      <td>1</td>\n",
       "    </tr>\n",
       "    <tr>\n",
       "      <th>1</th>\n",
       "      <td>Ice Cream</td>\n",
       "      <td>10</td>\n",
       "      <td>Beverage</td>\n",
       "      <td>0</td>\n",
       "      <td>3.5</td>\n",
       "      <td>2020</td>\n",
       "      <td>26284</td>\n",
       "      <td>1</td>\n",
       "      <td>1</td>\n",
       "      <td>0</td>\n",
       "      <td>1</td>\n",
       "    </tr>\n",
       "    <tr>\n",
       "      <th>2</th>\n",
       "      <td>Ice Cream</td>\n",
       "      <td>10</td>\n",
       "      <td>Beverage</td>\n",
       "      <td>0</td>\n",
       "      <td>3.5</td>\n",
       "      <td>2021</td>\n",
       "      <td>159322</td>\n",
       "      <td>1</td>\n",
       "      <td>1</td>\n",
       "      <td>0</td>\n",
       "      <td>1</td>\n",
       "    </tr>\n",
       "    <tr>\n",
       "      <th>3</th>\n",
       "      <td>Ice Cream</td>\n",
       "      <td>10</td>\n",
       "      <td>Beverage</td>\n",
       "      <td>0</td>\n",
       "      <td>3.5</td>\n",
       "      <td>2022</td>\n",
       "      <td>162893</td>\n",
       "      <td>1</td>\n",
       "      <td>1</td>\n",
       "      <td>0</td>\n",
       "      <td>1</td>\n",
       "    </tr>\n",
       "    <tr>\n",
       "      <th>4</th>\n",
       "      <td>Ice Cream</td>\n",
       "      <td>11</td>\n",
       "      <td>Dessert</td>\n",
       "      <td>0</td>\n",
       "      <td>6.0</td>\n",
       "      <td>2019</td>\n",
       "      <td>15597</td>\n",
       "      <td>1</td>\n",
       "      <td>1</td>\n",
       "      <td>0</td>\n",
       "      <td>1</td>\n",
       "    </tr>\n",
       "  </tbody>\n",
       "</table>\n",
       "</div>"
      ],
      "text/plain": [
       "   MENU_TYPE  MENU_ITEM_ID ITEM_CATEGORY  ITEM_SUBCATEGORY  SALE_PRICE_USD  \\\n",
       "0  Ice Cream            10      Beverage                 0             3.5   \n",
       "1  Ice Cream            10      Beverage                 0             3.5   \n",
       "2  Ice Cream            10      Beverage                 0             3.5   \n",
       "3  Ice Cream            10      Beverage                 0             3.5   \n",
       "4  Ice Cream            11       Dessert                 0             6.0   \n",
       "\n",
       "   YEAR  TOTAL_QTY_SOLD_PER_YEAR  DAIRY_FREE  GLUTEN_FREE  HEALTHY  NUT_FREE  \n",
       "0  2019                     5305           1            1        0         1  \n",
       "1  2020                    26284           1            1        0         1  \n",
       "2  2021                   159322           1            1        0         1  \n",
       "3  2022                   162893           1            1        0         1  \n",
       "4  2019                    15597           1            1        0         1  "
      ]
     },
     "execution_count": 454,
     "metadata": {},
     "output_type": "execute_result"
    }
   ],
   "source": [
    "# Define the mapping dictionary\n",
    "temperature_mapping = {'Cold Option': 0, 'Warm Option': 1, 'Hot Option': 2}\n",
    "\n",
    "# Apply the mapping to the 'ITEM_SUBCATEGORY' column in final_df\n",
    "final_df['ITEM_SUBCATEGORY'] = final_df['ITEM_SUBCATEGORY'].map(temperature_mapping)\n",
    "\n",
    "final_df.head()"
   ]
  },
  {
   "cell_type": "markdown",
   "metadata": {},
   "source": [
    "# Check for Missing Values"
   ]
  },
  {
   "cell_type": "code",
   "execution_count": 455,
   "metadata": {},
   "outputs": [
    {
     "data": {
      "text/plain": [
       "MENU_TYPE                  0\n",
       "MENU_ITEM_ID               0\n",
       "ITEM_CATEGORY              0\n",
       "ITEM_SUBCATEGORY           0\n",
       "SALE_PRICE_USD             0\n",
       "YEAR                       0\n",
       "TOTAL_QTY_SOLD_PER_YEAR    0\n",
       "DAIRY_FREE                 0\n",
       "GLUTEN_FREE                0\n",
       "HEALTHY                    0\n",
       "NUT_FREE                   0\n",
       "dtype: int64"
      ]
     },
     "execution_count": 455,
     "metadata": {},
     "output_type": "execute_result"
    }
   ],
   "source": [
    "final_df.isnull().sum()"
   ]
  },
  {
   "cell_type": "markdown",
   "metadata": {},
   "source": [
    "No missing values have been detected. Hence, no process required at this stage."
   ]
  },
  {
   "cell_type": "markdown",
   "metadata": {},
   "source": [
    "# Dealing with Outliers"
   ]
  },
  {
   "cell_type": "code",
   "execution_count": 456,
   "metadata": {},
   "outputs": [
    {
     "data": {
      "image/png": "[encoded data removed]",
      "text/plain": [
       "<Figure size 300x500 with 1 Axes>"
      ]
     },
     "metadata": {},
     "output_type": "display_data"
    }
   ],
   "source": [
    "# plot box plot for 'minimum_nights' variable\n",
    "plt.figure(figsize=(3,5))\n",
    "sns.boxplot(y=final_df['SALE_PRICE_USD'])\n",
    "plt.title('SALE_PRICE_USD boxplot')\n",
    "plt.show()"
   ]
  },
  {
   "cell_type": "code",
   "execution_count": 457,
   "metadata": {},
   "outputs": [
    {
     "data": {
      "image/png": "[encoded data removed]",
      "text/plain": [
       "<Figure size 300x500 with 1 Axes>"
      ]
     },
     "metadata": {},
     "output_type": "display_data"
    }
   ],
   "source": [
    "# plot box plot for 'minimum_nights' variable\n",
    "plt.figure(figsize=(3,5))\n",
    "sns.boxplot(y=final_df['TOTAL_QTY_SOLD_PER_YEAR'])\n",
    "plt.title('TOTAL_QTY_SOLD_PER_YEAR boxplot')\n",
    "plt.show()"
   ]
  },
  {
   "cell_type": "markdown",
   "metadata": {},
   "source": [
    "Based on the boxplot shown above, there are no outliers detected. Hence, no process required for this stage.\n",
    "\n",
    "Note: Outliers for the target variable wold not dealt with even if observed as it would be considered cherry picking convenient data. Furthermore, due to the relatively small number of menu items, if subsetting of the target variable was done, there might be too limited data to build an accurate model."
   ]
  },
  {
   "cell_type": "markdown",
   "metadata": {},
   "source": [
    "# View Target Column Range"
   ]
  },
  {
   "cell_type": "code",
   "execution_count": 458,
   "metadata": {},
   "outputs": [
    {
     "name": "stdout",
     "output_type": "stream",
     "text": [
      "Range: 5211 - 1013940\n"
     ]
    }
   ],
   "source": [
    "# Calculate the minimum and maximum values of the 'TOTAL_QTY_SOLD' column\n",
    "min_value = final_df['TOTAL_QTY_SOLD_PER_YEAR'].min()\n",
    "max_value = final_df['TOTAL_QTY_SOLD_PER_YEAR'].max()\n",
    "\n",
    "# Calculate the range\n",
    "column_range = max_value - min_value\n",
    "\n",
    "print(\"Range: {} - {}\".format(min_value, max_value))"
   ]
  },
  {
   "cell_type": "markdown",
   "metadata": {},
   "source": [
    "# Train Test Split"
   ]
  },
  {
   "cell_type": "code",
   "execution_count": 459,
   "metadata": {},
   "outputs": [
    {
     "data": {
      "text/plain": [
       "((229, 10), (99, 10))"
      ]
     },
     "execution_count": 459,
     "metadata": {},
     "output_type": "execute_result"
    }
   ],
   "source": [
    "X_train, X_test, y_train, y_test = train_test_split(\n",
    "    final_df.drop('TOTAL_QTY_SOLD_PER_YEAR', axis=1), final_df['TOTAL_QTY_SOLD_PER_YEAR'], test_size=0.3, random_state=0)\n",
    "\n",
    "X_train.shape, X_test.shape"
   ]
  },
  {
   "cell_type": "markdown",
   "metadata": {},
   "source": [
    "# Categorical Variable Encoding "
   ]
  },
  {
   "cell_type": "code",
   "execution_count": 460,
   "metadata": {},
   "outputs": [],
   "source": [
    "# Specify the columns to encode\n",
    "columns_to_encode = [\"MENU_TYPE\", \"ITEM_CATEGORY\"]\n",
    "\n",
    "ohe_enc = OneHotEncoder(variables=columns_to_encode, drop_last=True)"
   ]
  },
  {
   "cell_type": "code",
   "execution_count": 461,
   "metadata": {},
   "outputs": [
    {
     "data": {
      "text/html": [
       "<style>#sk-container-id-31 {color: black;background-color: white;}#sk-container-id-31 pre{padding: 0;}#sk-container-id-31 div.sk-toggleable {background-color: white;}#sk-container-id-31 label.sk-toggleable__label {cursor: pointer;display: block;width: 100%;margin-bottom: 0;padding: 0.3em;box-sizing: border-box;text-align: center;}#sk-container-id-31 label.sk-toggleable__label-arrow:before {content: \"▸\";float: left;margin-right: 0.25em;color: #696969;}#sk-container-id-31 label.sk-toggleable__label-arrow:hover:before {color: black;}#sk-container-id-31 div.sk-estimator:hover label.sk-toggleable__label-arrow:before {color: black;}#sk-container-id-31 div.sk-toggleable__content {max-height: 0;max-width: 0;overflow: hidden;text-align: left;background-color: #f0f8ff;}#sk-container-id-31 div.sk-toggleable__content pre {margin: 0.2em;color: black;border-radius: 0.25em;background-color: #f0f8ff;}#sk-container-id-31 input.sk-toggleable__control:checked~div.sk-toggleable__content {max-height: 200px;max-width: 100%;overflow: auto;}#sk-container-id-31 input.sk-toggleable__control:checked~label.sk-toggleable__label-arrow:before {content: \"▾\";}#sk-container-id-31 div.sk-estimator input.sk-toggleable__control:checked~label.sk-toggleable__label {background-color: #d4ebff;}#sk-container-id-31 div.sk-label input.sk-toggleable__control:checked~label.sk-toggleable__label {background-color: #d4ebff;}#sk-container-id-31 input.sk-hidden--visually {border: 0;clip: rect(1px 1px 1px 1px);clip: rect(1px, 1px, 1px, 1px);height: 1px;margin: -1px;overflow: hidden;padding: 0;position: absolute;width: 1px;}#sk-container-id-31 div.sk-estimator {font-family: monospace;background-color: #f0f8ff;border: 1px dotted black;border-radius: 0.25em;box-sizing: border-box;margin-bottom: 0.5em;}#sk-container-id-31 div.sk-estimator:hover {background-color: #d4ebff;}#sk-container-id-31 div.sk-parallel-item::after {content: \"\";width: 100%;border-bottom: 1px solid gray;flex-grow: 1;}#sk-container-id-31 div.sk-label:hover label.sk-toggleable__label {background-color: #d4ebff;}#sk-container-id-31 div.sk-serial::before {content: \"\";position: absolute;border-left: 1px solid gray;box-sizing: border-box;top: 0;bottom: 0;left: 50%;z-index: 0;}#sk-container-id-31 div.sk-serial {display: flex;flex-direction: column;align-items: center;background-color: white;padding-right: 0.2em;padding-left: 0.2em;position: relative;}#sk-container-id-31 div.sk-item {position: relative;z-index: 1;}#sk-container-id-31 div.sk-parallel {display: flex;align-items: stretch;justify-content: center;background-color: white;position: relative;}#sk-container-id-31 div.sk-item::before, #sk-container-id-31 div.sk-parallel-item::before {content: \"\";position: absolute;border-left: 1px solid gray;box-sizing: border-box;top: 0;bottom: 0;left: 50%;z-index: -1;}#sk-container-id-31 div.sk-parallel-item {display: flex;flex-direction: column;z-index: 1;position: relative;background-color: white;}#sk-container-id-31 div.sk-parallel-item:first-child::after {align-self: flex-end;width: 50%;}#sk-container-id-31 div.sk-parallel-item:last-child::after {align-self: flex-start;width: 50%;}#sk-container-id-31 div.sk-parallel-item:only-child::after {width: 0;}#sk-container-id-31 div.sk-dashed-wrapped {border: 1px dashed gray;margin: 0 0.4em 0.5em 0.4em;box-sizing: border-box;padding-bottom: 0.4em;background-color: white;}#sk-container-id-31 div.sk-label label {font-family: monospace;font-weight: bold;display: inline-block;line-height: 1.2em;}#sk-container-id-31 div.sk-label-container {text-align: center;}#sk-container-id-31 div.sk-container {/* jupyter's `normalize.less` sets `[hidden] { display: none; }` but bootstrap.min.css set `[hidden] { display: none !important; }` so we also need the `!important` here to be able to override the default hidden behavior on the sphinx rendered scikit-learn.org. See: https://github.com/scikit-learn/scikit-learn/issues/21755 */display: inline-block !important;position: relative;}#sk-container-id-31 div.sk-text-repr-fallback {display: none;}</style><div id=\"sk-container-id-31\" class=\"sk-top-container\"><div class=\"sk-text-repr-fallback\"><pre>OneHotEncoder(drop_last=True, variables=[&#x27;MENU_TYPE&#x27;, &#x27;ITEM_CATEGORY&#x27;])</pre><b>In a Jupyter environment, please rerun this cell to show the HTML representation or trust the notebook. <br />On GitHub, the HTML representation is unable to render, please try loading this page with nbviewer.org.</b></div><div class=\"sk-container\" hidden><div class=\"sk-item\"><div class=\"sk-estimator sk-toggleable\"><input class=\"sk-toggleable__control sk-hidden--visually\" id=\"sk-estimator-id-41\" type=\"checkbox\" checked><label for=\"sk-estimator-id-41\" class=\"sk-toggleable__label sk-toggleable__label-arrow\">OneHotEncoder</label><div class=\"sk-toggleable__content\"><pre>OneHotEncoder(drop_last=True, variables=[&#x27;MENU_TYPE&#x27;, &#x27;ITEM_CATEGORY&#x27;])</pre></div></div></div></div></div>"
      ],
      "text/plain": [
       "OneHotEncoder(drop_last=True, variables=['MENU_TYPE', 'ITEM_CATEGORY'])"
      ]
     },
     "execution_count": 461,
     "metadata": {},
     "output_type": "execute_result"
    }
   ],
   "source": [
    "# fit the encoder to the train set: it will learn the variables and \n",
    "# categories to encode\n",
    "ohe_enc.fit(X_train)"
   ]
  },
  {
   "cell_type": "code",
   "execution_count": 462,
   "metadata": {},
   "outputs": [],
   "source": [
    "X_train = ohe_enc.transform(X_train)\n",
    "X_test = ohe_enc.transform(X_test)"
   ]
  },
  {
   "cell_type": "markdown",
   "metadata": {},
   "source": [
    "# Scaling"
   ]
  },
  {
   "cell_type": "markdown",
   "metadata": {},
   "source": [
    "## Min Max Scaler"
   ]
  },
  {
   "cell_type": "code",
   "execution_count": 463,
   "metadata": {},
   "outputs": [],
   "source": [
    "# set up the scaler\n",
    "scaler = MinMaxScaler()\n",
    "\n",
    "# fit the scaler to the train set, it will learn the parameters\n",
    "scaler.fit(X_train)\n",
    "\n",
    "# transform train and test sets\n",
    "X_train_scaled = scaler.transform(X_train)\n",
    "X_test_scaled = scaler.transform(X_test)"
   ]
  },
  {
   "cell_type": "code",
   "execution_count": 464,
   "metadata": {},
   "outputs": [
    {
     "data": {
      "text/plain": [
       "['C:/Users/donsu/OneDrive - Ngee Ann Polytechnic/ICP - Industry Currency Project/Week 3/Tasty_Insights/StreamlitApp/assets/models/product_qty_year_min_max_scaler.joblib']"
      ]
     },
     "execution_count": 464,
     "metadata": {},
     "output_type": "execute_result"
    }
   ],
   "source": [
    "# Save the model to a file\n",
    "joblib.dump(scaler, \"C:/Users/donsu/OneDrive - Ngee Ann Polytechnic/ICP - Industry Currency Project/Week 3/Tasty_Insights/StreamlitApp/assets/models/product_qty_year_min_max_scaler.joblib\")"
   ]
  },
  {
   "cell_type": "markdown",
   "metadata": {},
   "source": [
    "## Standard Scaler"
   ]
  },
  {
   "cell_type": "code",
   "execution_count": 465,
   "metadata": {},
   "outputs": [],
   "source": [
    "# # set up the scaler\n",
    "# scaler = StandardScaler()\n",
    "\n",
    "# # fit the scaler to the train set, it will learn the parameters\n",
    "# scaler.fit(X_train)\n",
    "\n",
    "# # transform train and test sets\n",
    "# X_train_scaled = scaler.transform(X_train)\n",
    "# X_test_scaled = scaler.transform(X_test)"
   ]
  },
  {
   "cell_type": "markdown",
   "metadata": {},
   "source": [
    "Standard Scaler did not lead to a difference in result."
   ]
  },
  {
   "cell_type": "code",
   "execution_count": 466,
   "metadata": {},
   "outputs": [],
   "source": [
    "# # set up the scaler\n",
    "# scaler = RobustScaler()\n",
    "\n",
    "# # fit the scaler to the train set, it will learn the parameters\n",
    "# scaler.fit(X_train)\n",
    "\n",
    "# # transform train and test sets\n",
    "# X_train_scaled = scaler.transform(X_train)\n",
    "# X_test_scaled = scaler.transform(X_test)"
   ]
  },
  {
   "cell_type": "markdown",
   "metadata": {},
   "source": [
    "Robust Scaler did not lead to a difference in result."
   ]
  },
  {
   "cell_type": "code",
   "execution_count": 467,
   "metadata": {},
   "outputs": [],
   "source": [
    "# let's transform the returned NumPy arrays to dataframes\n",
    "X_train_scaled = pd.DataFrame(X_train_scaled, columns=X_train.columns)\n",
    "X_test_scaled = pd.DataFrame(X_test_scaled, columns=X_test.columns)"
   ]
  },
  {
   "cell_type": "markdown",
   "metadata": {},
   "source": [
    "# Build Models"
   ]
  },
  {
   "cell_type": "markdown",
   "metadata": {},
   "source": [
    "## Linear Regression"
   ]
  },
  {
   "cell_type": "code",
   "execution_count": 468,
   "metadata": {},
   "outputs": [
    {
     "data": {
      "text/html": [
       "<style>#sk-container-id-32 {color: black;background-color: white;}#sk-container-id-32 pre{padding: 0;}#sk-container-id-32 div.sk-toggleable {background-color: white;}#sk-container-id-32 label.sk-toggleable__label {cursor: pointer;display: block;width: 100%;margin-bottom: 0;padding: 0.3em;box-sizing: border-box;text-align: center;}#sk-container-id-32 label.sk-toggleable__label-arrow:before {content: \"▸\";float: left;margin-right: 0.25em;color: #696969;}#sk-container-id-32 label.sk-toggleable__label-arrow:hover:before {color: black;}#sk-container-id-32 div.sk-estimator:hover label.sk-toggleable__label-arrow:before {color: black;}#sk-container-id-32 div.sk-toggleable__content {max-height: 0;max-width: 0;overflow: hidden;text-align: left;background-color: #f0f8ff;}#sk-container-id-32 div.sk-toggleable__content pre {margin: 0.2em;color: black;border-radius: 0.25em;background-color: #f0f8ff;}#sk-container-id-32 input.sk-toggleable__control:checked~div.sk-toggleable__content {max-height: 200px;max-width: 100%;overflow: auto;}#sk-container-id-32 input.sk-toggleable__control:checked~label.sk-toggleable__label-arrow:before {content: \"▾\";}#sk-container-id-32 div.sk-estimator input.sk-toggleable__control:checked~label.sk-toggleable__label {background-color: #d4ebff;}#sk-container-id-32 div.sk-label input.sk-toggleable__control:checked~label.sk-toggleable__label {background-color: #d4ebff;}#sk-container-id-32 input.sk-hidden--visually {border: 0;clip: rect(1px 1px 1px 1px);clip: rect(1px, 1px, 1px, 1px);height: 1px;margin: -1px;overflow: hidden;padding: 0;position: absolute;width: 1px;}#sk-container-id-32 div.sk-estimator {font-family: monospace;background-color: #f0f8ff;border: 1px dotted black;border-radius: 0.25em;box-sizing: border-box;margin-bottom: 0.5em;}#sk-container-id-32 div.sk-estimator:hover {background-color: #d4ebff;}#sk-container-id-32 div.sk-parallel-item::after {content: \"\";width: 100%;border-bottom: 1px solid gray;flex-grow: 1;}#sk-container-id-32 div.sk-label:hover label.sk-toggleable__label {background-color: #d4ebff;}#sk-container-id-32 div.sk-serial::before {content: \"\";position: absolute;border-left: 1px solid gray;box-sizing: border-box;top: 0;bottom: 0;left: 50%;z-index: 0;}#sk-container-id-32 div.sk-serial {display: flex;flex-direction: column;align-items: center;background-color: white;padding-right: 0.2em;padding-left: 0.2em;position: relative;}#sk-container-id-32 div.sk-item {position: relative;z-index: 1;}#sk-container-id-32 div.sk-parallel {display: flex;align-items: stretch;justify-content: center;background-color: white;position: relative;}#sk-container-id-32 div.sk-item::before, #sk-container-id-32 div.sk-parallel-item::before {content: \"\";position: absolute;border-left: 1px solid gray;box-sizing: border-box;top: 0;bottom: 0;left: 50%;z-index: -1;}#sk-container-id-32 div.sk-parallel-item {display: flex;flex-direction: column;z-index: 1;position: relative;background-color: white;}#sk-container-id-32 div.sk-parallel-item:first-child::after {align-self: flex-end;width: 50%;}#sk-container-id-32 div.sk-parallel-item:last-child::after {align-self: flex-start;width: 50%;}#sk-container-id-32 div.sk-parallel-item:only-child::after {width: 0;}#sk-container-id-32 div.sk-dashed-wrapped {border: 1px dashed gray;margin: 0 0.4em 0.5em 0.4em;box-sizing: border-box;padding-bottom: 0.4em;background-color: white;}#sk-container-id-32 div.sk-label label {font-family: monospace;font-weight: bold;display: inline-block;line-height: 1.2em;}#sk-container-id-32 div.sk-label-container {text-align: center;}#sk-container-id-32 div.sk-container {/* jupyter's `normalize.less` sets `[hidden] { display: none; }` but bootstrap.min.css set `[hidden] { display: none !important; }` so we also need the `!important` here to be able to override the default hidden behavior on the sphinx rendered scikit-learn.org. See: https://github.com/scikit-learn/scikit-learn/issues/21755 */display: inline-block !important;position: relative;}#sk-container-id-32 div.sk-text-repr-fallback {display: none;}</style><div id=\"sk-container-id-32\" class=\"sk-top-container\"><div class=\"sk-text-repr-fallback\"><pre>LinearRegression()</pre><b>In a Jupyter environment, please rerun this cell to show the HTML representation or trust the notebook. <br />On GitHub, the HTML representation is unable to render, please try loading this page with nbviewer.org.</b></div><div class=\"sk-container\" hidden><div class=\"sk-item\"><div class=\"sk-estimator sk-toggleable\"><input class=\"sk-toggleable__control sk-hidden--visually\" id=\"sk-estimator-id-42\" type=\"checkbox\" checked><label for=\"sk-estimator-id-42\" class=\"sk-toggleable__label sk-toggleable__label-arrow\">LinearRegression</label><div class=\"sk-toggleable__content\"><pre>LinearRegression()</pre></div></div></div></div></div>"
      ],
      "text/plain": [
       "LinearRegression()"
      ]
     },
     "execution_count": 468,
     "metadata": {},
     "output_type": "execute_result"
    }
   ],
   "source": [
    "# create the linear regression model\n",
    "# fit the model to the training data\n",
    "lm = LinearRegression()\n",
    "lm.fit(X_train, y_train)"
   ]
  },
  {
   "cell_type": "code",
   "execution_count": 469,
   "metadata": {},
   "outputs": [],
   "source": [
    "# Calculated the fitted values for training set\n",
    "y_fitted = lm.predict(X_train)\n",
    "\n",
    "# Task 5a: calculated the predicated value for testing data\n",
    "y_pred = lm.predict(X_test)"
   ]
  },
  {
   "cell_type": "code",
   "execution_count": 470,
   "metadata": {},
   "outputs": [
    {
     "name": "stdout",
     "output_type": "stream",
     "text": [
      "the training root mean squared error is:  323818891.8470172\n",
      "the testing root mean squared error is:  323906990.21193296\n",
      "\n",
      "the training mean squared error is:  1.0485867471703022e+17\n",
      "the testing mean squared error is:  1.0491573830815322e+17\n",
      "\n",
      "training accuracy is:  -1036879.3099519929\n",
      "testing accuracy is:  -1084446.6315793777\n"
     ]
    }
   ],
   "source": [
    "model_performance(lm)"
   ]
  },
  {
   "cell_type": "markdown",
   "metadata": {},
   "source": [
    "## Decision Tree"
   ]
  },
  {
   "cell_type": "code",
   "execution_count": 471,
   "metadata": {},
   "outputs": [
    {
     "data": {
      "text/html": [
       "<style>#sk-container-id-33 {color: black;background-color: white;}#sk-container-id-33 pre{padding: 0;}#sk-container-id-33 div.sk-toggleable {background-color: white;}#sk-container-id-33 label.sk-toggleable__label {cursor: pointer;display: block;width: 100%;margin-bottom: 0;padding: 0.3em;box-sizing: border-box;text-align: center;}#sk-container-id-33 label.sk-toggleable__label-arrow:before {content: \"▸\";float: left;margin-right: 0.25em;color: #696969;}#sk-container-id-33 label.sk-toggleable__label-arrow:hover:before {color: black;}#sk-container-id-33 div.sk-estimator:hover label.sk-toggleable__label-arrow:before {color: black;}#sk-container-id-33 div.sk-toggleable__content {max-height: 0;max-width: 0;overflow: hidden;text-align: left;background-color: #f0f8ff;}#sk-container-id-33 div.sk-toggleable__content pre {margin: 0.2em;color: black;border-radius: 0.25em;background-color: #f0f8ff;}#sk-container-id-33 input.sk-toggleable__control:checked~div.sk-toggleable__content {max-height: 200px;max-width: 100%;overflow: auto;}#sk-container-id-33 input.sk-toggleable__control:checked~label.sk-toggleable__label-arrow:before {content: \"▾\";}#sk-container-id-33 div.sk-estimator input.sk-toggleable__control:checked~label.sk-toggleable__label {background-color: #d4ebff;}#sk-container-id-33 div.sk-label input.sk-toggleable__control:checked~label.sk-toggleable__label {background-color: #d4ebff;}#sk-container-id-33 input.sk-hidden--visually {border: 0;clip: rect(1px 1px 1px 1px);clip: rect(1px, 1px, 1px, 1px);height: 1px;margin: -1px;overflow: hidden;padding: 0;position: absolute;width: 1px;}#sk-container-id-33 div.sk-estimator {font-family: monospace;background-color: #f0f8ff;border: 1px dotted black;border-radius: 0.25em;box-sizing: border-box;margin-bottom: 0.5em;}#sk-container-id-33 div.sk-estimator:hover {background-color: #d4ebff;}#sk-container-id-33 div.sk-parallel-item::after {content: \"\";width: 100%;border-bottom: 1px solid gray;flex-grow: 1;}#sk-container-id-33 div.sk-label:hover label.sk-toggleable__label {background-color: #d4ebff;}#sk-container-id-33 div.sk-serial::before {content: \"\";position: absolute;border-left: 1px solid gray;box-sizing: border-box;top: 0;bottom: 0;left: 50%;z-index: 0;}#sk-container-id-33 div.sk-serial {display: flex;flex-direction: column;align-items: center;background-color: white;padding-right: 0.2em;padding-left: 0.2em;position: relative;}#sk-container-id-33 div.sk-item {position: relative;z-index: 1;}#sk-container-id-33 div.sk-parallel {display: flex;align-items: stretch;justify-content: center;background-color: white;position: relative;}#sk-container-id-33 div.sk-item::before, #sk-container-id-33 div.sk-parallel-item::before {content: \"\";position: absolute;border-left: 1px solid gray;box-sizing: border-box;top: 0;bottom: 0;left: 50%;z-index: -1;}#sk-container-id-33 div.sk-parallel-item {display: flex;flex-direction: column;z-index: 1;position: relative;background-color: white;}#sk-container-id-33 div.sk-parallel-item:first-child::after {align-self: flex-end;width: 50%;}#sk-container-id-33 div.sk-parallel-item:last-child::after {align-self: flex-start;width: 50%;}#sk-container-id-33 div.sk-parallel-item:only-child::after {width: 0;}#sk-container-id-33 div.sk-dashed-wrapped {border: 1px dashed gray;margin: 0 0.4em 0.5em 0.4em;box-sizing: border-box;padding-bottom: 0.4em;background-color: white;}#sk-container-id-33 div.sk-label label {font-family: monospace;font-weight: bold;display: inline-block;line-height: 1.2em;}#sk-container-id-33 div.sk-label-container {text-align: center;}#sk-container-id-33 div.sk-container {/* jupyter's `normalize.less` sets `[hidden] { display: none; }` but bootstrap.min.css set `[hidden] { display: none !important; }` so we also need the `!important` here to be able to override the default hidden behavior on the sphinx rendered scikit-learn.org. See: https://github.com/scikit-learn/scikit-learn/issues/21755 */display: inline-block !important;position: relative;}#sk-container-id-33 div.sk-text-repr-fallback {display: none;}</style><div id=\"sk-container-id-33\" class=\"sk-top-container\"><div class=\"sk-text-repr-fallback\"><pre>DecisionTreeRegressor(max_depth=2, random_state=2)</pre><b>In a Jupyter environment, please rerun this cell to show the HTML representation or trust the notebook. <br />On GitHub, the HTML representation is unable to render, please try loading this page with nbviewer.org.</b></div><div class=\"sk-container\" hidden><div class=\"sk-item\"><div class=\"sk-estimator sk-toggleable\"><input class=\"sk-toggleable__control sk-hidden--visually\" id=\"sk-estimator-id-43\" type=\"checkbox\" checked><label for=\"sk-estimator-id-43\" class=\"sk-toggleable__label sk-toggleable__label-arrow\">DecisionTreeRegressor</label><div class=\"sk-toggleable__content\"><pre>DecisionTreeRegressor(max_depth=2, random_state=2)</pre></div></div></div></div></div>"
      ],
      "text/plain": [
       "DecisionTreeRegressor(max_depth=2, random_state=2)"
      ]
     },
     "execution_count": 471,
     "metadata": {},
     "output_type": "execute_result"
    }
   ],
   "source": [
    "# Create Decision Tree Regressor with random state equal to 2\n",
    "# fit the model to the training data\n",
    "tree_reg = DecisionTreeRegressor(max_depth=2, random_state=2)\n",
    "tree_reg.fit(X_train, y_train)"
   ]
  },
  {
   "cell_type": "code",
   "execution_count": 472,
   "metadata": {},
   "outputs": [
    {
     "name": "stdout",
     "output_type": "stream",
     "text": [
      "the training root mean squared error is:  424111.86399201246\n",
      "the testing root mean squared error is:  384753.89341422403\n",
      "\n",
      "the training mean squared error is:  179870873178.77927\n",
      "the testing mean squared error is:  148035558497.40405\n",
      "\n",
      "training accuracy is:  -0.7786279221652017\n",
      "testing accuracy is:  -0.5301499411891819\n"
     ]
    }
   ],
   "source": [
    "model_performance(tree_reg)"
   ]
  },
  {
   "cell_type": "markdown",
   "metadata": {},
   "source": [
    "## MLP Regressor"
   ]
  },
  {
   "cell_type": "code",
   "execution_count": 473,
   "metadata": {},
   "outputs": [
    {
     "data": {
      "text/html": [
       "<style>#sk-container-id-34 {color: black;background-color: white;}#sk-container-id-34 pre{padding: 0;}#sk-container-id-34 div.sk-toggleable {background-color: white;}#sk-container-id-34 label.sk-toggleable__label {cursor: pointer;display: block;width: 100%;margin-bottom: 0;padding: 0.3em;box-sizing: border-box;text-align: center;}#sk-container-id-34 label.sk-toggleable__label-arrow:before {content: \"▸\";float: left;margin-right: 0.25em;color: #696969;}#sk-container-id-34 label.sk-toggleable__label-arrow:hover:before {color: black;}#sk-container-id-34 div.sk-estimator:hover label.sk-toggleable__label-arrow:before {color: black;}#sk-container-id-34 div.sk-toggleable__content {max-height: 0;max-width: 0;overflow: hidden;text-align: left;background-color: #f0f8ff;}#sk-container-id-34 div.sk-toggleable__content pre {margin: 0.2em;color: black;border-radius: 0.25em;background-color: #f0f8ff;}#sk-container-id-34 input.sk-toggleable__control:checked~div.sk-toggleable__content {max-height: 200px;max-width: 100%;overflow: auto;}#sk-container-id-34 input.sk-toggleable__control:checked~label.sk-toggleable__label-arrow:before {content: \"▾\";}#sk-container-id-34 div.sk-estimator input.sk-toggleable__control:checked~label.sk-toggleable__label {background-color: #d4ebff;}#sk-container-id-34 div.sk-label input.sk-toggleable__control:checked~label.sk-toggleable__label {background-color: #d4ebff;}#sk-container-id-34 input.sk-hidden--visually {border: 0;clip: rect(1px 1px 1px 1px);clip: rect(1px, 1px, 1px, 1px);height: 1px;margin: -1px;overflow: hidden;padding: 0;position: absolute;width: 1px;}#sk-container-id-34 div.sk-estimator {font-family: monospace;background-color: #f0f8ff;border: 1px dotted black;border-radius: 0.25em;box-sizing: border-box;margin-bottom: 0.5em;}#sk-container-id-34 div.sk-estimator:hover {background-color: #d4ebff;}#sk-container-id-34 div.sk-parallel-item::after {content: \"\";width: 100%;border-bottom: 1px solid gray;flex-grow: 1;}#sk-container-id-34 div.sk-label:hover label.sk-toggleable__label {background-color: #d4ebff;}#sk-container-id-34 div.sk-serial::before {content: \"\";position: absolute;border-left: 1px solid gray;box-sizing: border-box;top: 0;bottom: 0;left: 50%;z-index: 0;}#sk-container-id-34 div.sk-serial {display: flex;flex-direction: column;align-items: center;background-color: white;padding-right: 0.2em;padding-left: 0.2em;position: relative;}#sk-container-id-34 div.sk-item {position: relative;z-index: 1;}#sk-container-id-34 div.sk-parallel {display: flex;align-items: stretch;justify-content: center;background-color: white;position: relative;}#sk-container-id-34 div.sk-item::before, #sk-container-id-34 div.sk-parallel-item::before {content: \"\";position: absolute;border-left: 1px solid gray;box-sizing: border-box;top: 0;bottom: 0;left: 50%;z-index: -1;}#sk-container-id-34 div.sk-parallel-item {display: flex;flex-direction: column;z-index: 1;position: relative;background-color: white;}#sk-container-id-34 div.sk-parallel-item:first-child::after {align-self: flex-end;width: 50%;}#sk-container-id-34 div.sk-parallel-item:last-child::after {align-self: flex-start;width: 50%;}#sk-container-id-34 div.sk-parallel-item:only-child::after {width: 0;}#sk-container-id-34 div.sk-dashed-wrapped {border: 1px dashed gray;margin: 0 0.4em 0.5em 0.4em;box-sizing: border-box;padding-bottom: 0.4em;background-color: white;}#sk-container-id-34 div.sk-label label {font-family: monospace;font-weight: bold;display: inline-block;line-height: 1.2em;}#sk-container-id-34 div.sk-label-container {text-align: center;}#sk-container-id-34 div.sk-container {/* jupyter's `normalize.less` sets `[hidden] { display: none; }` but bootstrap.min.css set `[hidden] { display: none !important; }` so we also need the `!important` here to be able to override the default hidden behavior on the sphinx rendered scikit-learn.org. See: https://github.com/scikit-learn/scikit-learn/issues/21755 */display: inline-block !important;position: relative;}#sk-container-id-34 div.sk-text-repr-fallback {display: none;}</style><div id=\"sk-container-id-34\" class=\"sk-top-container\"><div class=\"sk-text-repr-fallback\"><pre>MLPRegressor(hidden_layer_sizes=(10,), max_iter=2000, random_state=2,\n",
       "             solver=&#x27;sgd&#x27;)</pre><b>In a Jupyter environment, please rerun this cell to show the HTML representation or trust the notebook. <br />On GitHub, the HTML representation is unable to render, please try loading this page with nbviewer.org.</b></div><div class=\"sk-container\" hidden><div class=\"sk-item\"><div class=\"sk-estimator sk-toggleable\"><input class=\"sk-toggleable__control sk-hidden--visually\" id=\"sk-estimator-id-44\" type=\"checkbox\" checked><label for=\"sk-estimator-id-44\" class=\"sk-toggleable__label sk-toggleable__label-arrow\">MLPRegressor</label><div class=\"sk-toggleable__content\"><pre>MLPRegressor(hidden_layer_sizes=(10,), max_iter=2000, random_state=2,\n",
       "             solver=&#x27;sgd&#x27;)</pre></div></div></div></div></div>"
      ],
      "text/plain": [
       "MLPRegressor(hidden_layer_sizes=(10,), max_iter=2000, random_state=2,\n",
       "             solver='sgd')"
      ]
     },
     "execution_count": 473,
     "metadata": {},
     "output_type": "execute_result"
    }
   ],
   "source": [
    "# Create the ann model\n",
    "mlp = MLPRegressor(activation ='relu', hidden_layer_sizes=(10,), max_iter= 2000, solver = 'sgd', random_state=2)\n",
    "# Fit the model to the training set\n",
    "mlp.fit(X_train,y_train)"
   ]
  },
  {
   "cell_type": "code",
   "execution_count": 474,
   "metadata": {},
   "outputs": [
    {
     "name": "stdout",
     "output_type": "stream",
     "text": [
      "the training root mean squared error is:  6142549992676.496\n",
      "the testing root mean squared error is:  6142549938539.126\n",
      "\n",
      "the training mean squared error is:  3.7730920412530025e+25\n",
      "the testing mean squared error is:  3.7730919747447025e+25\n",
      "\n",
      "training accuracy is:  -373096918854764.8\n",
      "testing accuracy is:  -390000654022473.1\n"
     ]
    }
   ],
   "source": [
    "model_performance(mlp)"
   ]
  },
  {
   "cell_type": "markdown",
   "metadata": {},
   "source": [
    "## ADA Boost Regressor"
   ]
  },
  {
   "cell_type": "code",
   "execution_count": 475,
   "metadata": {},
   "outputs": [
    {
     "data": {
      "text/html": [
       "<style>#sk-container-id-35 {color: black;background-color: white;}#sk-container-id-35 pre{padding: 0;}#sk-container-id-35 div.sk-toggleable {background-color: white;}#sk-container-id-35 label.sk-toggleable__label {cursor: pointer;display: block;width: 100%;margin-bottom: 0;padding: 0.3em;box-sizing: border-box;text-align: center;}#sk-container-id-35 label.sk-toggleable__label-arrow:before {content: \"▸\";float: left;margin-right: 0.25em;color: #696969;}#sk-container-id-35 label.sk-toggleable__label-arrow:hover:before {color: black;}#sk-container-id-35 div.sk-estimator:hover label.sk-toggleable__label-arrow:before {color: black;}#sk-container-id-35 div.sk-toggleable__content {max-height: 0;max-width: 0;overflow: hidden;text-align: left;background-color: #f0f8ff;}#sk-container-id-35 div.sk-toggleable__content pre {margin: 0.2em;color: black;border-radius: 0.25em;background-color: #f0f8ff;}#sk-container-id-35 input.sk-toggleable__control:checked~div.sk-toggleable__content {max-height: 200px;max-width: 100%;overflow: auto;}#sk-container-id-35 input.sk-toggleable__control:checked~label.sk-toggleable__label-arrow:before {content: \"▾\";}#sk-container-id-35 div.sk-estimator input.sk-toggleable__control:checked~label.sk-toggleable__label {background-color: #d4ebff;}#sk-container-id-35 div.sk-label input.sk-toggleable__control:checked~label.sk-toggleable__label {background-color: #d4ebff;}#sk-container-id-35 input.sk-hidden--visually {border: 0;clip: rect(1px 1px 1px 1px);clip: rect(1px, 1px, 1px, 1px);height: 1px;margin: -1px;overflow: hidden;padding: 0;position: absolute;width: 1px;}#sk-container-id-35 div.sk-estimator {font-family: monospace;background-color: #f0f8ff;border: 1px dotted black;border-radius: 0.25em;box-sizing: border-box;margin-bottom: 0.5em;}#sk-container-id-35 div.sk-estimator:hover {background-color: #d4ebff;}#sk-container-id-35 div.sk-parallel-item::after {content: \"\";width: 100%;border-bottom: 1px solid gray;flex-grow: 1;}#sk-container-id-35 div.sk-label:hover label.sk-toggleable__label {background-color: #d4ebff;}#sk-container-id-35 div.sk-serial::before {content: \"\";position: absolute;border-left: 1px solid gray;box-sizing: border-box;top: 0;bottom: 0;left: 50%;z-index: 0;}#sk-container-id-35 div.sk-serial {display: flex;flex-direction: column;align-items: center;background-color: white;padding-right: 0.2em;padding-left: 0.2em;position: relative;}#sk-container-id-35 div.sk-item {position: relative;z-index: 1;}#sk-container-id-35 div.sk-parallel {display: flex;align-items: stretch;justify-content: center;background-color: white;position: relative;}#sk-container-id-35 div.sk-item::before, #sk-container-id-35 div.sk-parallel-item::before {content: \"\";position: absolute;border-left: 1px solid gray;box-sizing: border-box;top: 0;bottom: 0;left: 50%;z-index: -1;}#sk-container-id-35 div.sk-parallel-item {display: flex;flex-direction: column;z-index: 1;position: relative;background-color: white;}#sk-container-id-35 div.sk-parallel-item:first-child::after {align-self: flex-end;width: 50%;}#sk-container-id-35 div.sk-parallel-item:last-child::after {align-self: flex-start;width: 50%;}#sk-container-id-35 div.sk-parallel-item:only-child::after {width: 0;}#sk-container-id-35 div.sk-dashed-wrapped {border: 1px dashed gray;margin: 0 0.4em 0.5em 0.4em;box-sizing: border-box;padding-bottom: 0.4em;background-color: white;}#sk-container-id-35 div.sk-label label {font-family: monospace;font-weight: bold;display: inline-block;line-height: 1.2em;}#sk-container-id-35 div.sk-label-container {text-align: center;}#sk-container-id-35 div.sk-container {/* jupyter's `normalize.less` sets `[hidden] { display: none; }` but bootstrap.min.css set `[hidden] { display: none !important; }` so we also need the `!important` here to be able to override the default hidden behavior on the sphinx rendered scikit-learn.org. See: https://github.com/scikit-learn/scikit-learn/issues/21755 */display: inline-block !important;position: relative;}#sk-container-id-35 div.sk-text-repr-fallback {display: none;}</style><div id=\"sk-container-id-35\" class=\"sk-top-container\"><div class=\"sk-text-repr-fallback\"><pre>AdaBoostRegressor(estimator=DecisionTreeRegressor(max_depth=3),\n",
       "                  learning_rate=0.1, n_estimators=20)</pre><b>In a Jupyter environment, please rerun this cell to show the HTML representation or trust the notebook. <br />On GitHub, the HTML representation is unable to render, please try loading this page with nbviewer.org.</b></div><div class=\"sk-container\" hidden><div class=\"sk-item sk-dashed-wrapped\"><div class=\"sk-label-container\"><div class=\"sk-label sk-toggleable\"><input class=\"sk-toggleable__control sk-hidden--visually\" id=\"sk-estimator-id-45\" type=\"checkbox\" ><label for=\"sk-estimator-id-45\" class=\"sk-toggleable__label sk-toggleable__label-arrow\">AdaBoostRegressor</label><div class=\"sk-toggleable__content\"><pre>AdaBoostRegressor(estimator=DecisionTreeRegressor(max_depth=3),\n",
       "                  learning_rate=0.1, n_estimators=20)</pre></div></div></div><div class=\"sk-parallel\"><div class=\"sk-parallel-item\"><div class=\"sk-item\"><div class=\"sk-label-container\"><div class=\"sk-label sk-toggleable\"><input class=\"sk-toggleable__control sk-hidden--visually\" id=\"sk-estimator-id-46\" type=\"checkbox\" ><label for=\"sk-estimator-id-46\" class=\"sk-toggleable__label sk-toggleable__label-arrow\">estimator: DecisionTreeRegressor</label><div class=\"sk-toggleable__content\"><pre>DecisionTreeRegressor(max_depth=3)</pre></div></div></div><div class=\"sk-serial\"><div class=\"sk-item\"><div class=\"sk-estimator sk-toggleable\"><input class=\"sk-toggleable__control sk-hidden--visually\" id=\"sk-estimator-id-47\" type=\"checkbox\" ><label for=\"sk-estimator-id-47\" class=\"sk-toggleable__label sk-toggleable__label-arrow\">DecisionTreeRegressor</label><div class=\"sk-toggleable__content\"><pre>DecisionTreeRegressor(max_depth=3)</pre></div></div></div></div></div></div></div></div></div></div>"
      ],
      "text/plain": [
       "AdaBoostRegressor(estimator=DecisionTreeRegressor(max_depth=3),\n",
       "                  learning_rate=0.1, n_estimators=20)"
      ]
     },
     "execution_count": 475,
     "metadata": {},
     "output_type": "execute_result"
    }
   ],
   "source": [
    "# Build Ada Boost Model \n",
    "ada_reg = AdaBoostRegressor(DecisionTreeRegressor(max_depth=3), n_estimators = 20, learning_rate =0.1)\n",
    "# fit the model to the training data\n",
    "ada_reg.fit(X_train, y_train)"
   ]
  },
  {
   "cell_type": "code",
   "execution_count": 476,
   "metadata": {},
   "outputs": [
    {
     "name": "stdout",
     "output_type": "stream",
     "text": [
      "the training root mean squared error is:  390151.49258587096\n",
      "the testing root mean squared error is:  354750.32295323425\n",
      "\n",
      "the training mean squared error is:  152218187166.98294\n",
      "the testing mean squared error is:  125847791635.42398\n",
      "\n",
      "training accuracy is:  -0.505188211809414\n",
      "testing accuracy is:  -0.3008090280762461\n"
     ]
    }
   ],
   "source": [
    "model_performance(ada_reg)"
   ]
  },
  {
   "cell_type": "markdown",
   "metadata": {},
   "source": [
    "## SVR"
   ]
  },
  {
   "cell_type": "code",
   "execution_count": 477,
   "metadata": {},
   "outputs": [
    {
     "data": {
      "text/html": [
       "<style>#sk-container-id-36 {color: black;background-color: white;}#sk-container-id-36 pre{padding: 0;}#sk-container-id-36 div.sk-toggleable {background-color: white;}#sk-container-id-36 label.sk-toggleable__label {cursor: pointer;display: block;width: 100%;margin-bottom: 0;padding: 0.3em;box-sizing: border-box;text-align: center;}#sk-container-id-36 label.sk-toggleable__label-arrow:before {content: \"▸\";float: left;margin-right: 0.25em;color: #696969;}#sk-container-id-36 label.sk-toggleable__label-arrow:hover:before {color: black;}#sk-container-id-36 div.sk-estimator:hover label.sk-toggleable__label-arrow:before {color: black;}#sk-container-id-36 div.sk-toggleable__content {max-height: 0;max-width: 0;overflow: hidden;text-align: left;background-color: #f0f8ff;}#sk-container-id-36 div.sk-toggleable__content pre {margin: 0.2em;color: black;border-radius: 0.25em;background-color: #f0f8ff;}#sk-container-id-36 input.sk-toggleable__control:checked~div.sk-toggleable__content {max-height: 200px;max-width: 100%;overflow: auto;}#sk-container-id-36 input.sk-toggleable__control:checked~label.sk-toggleable__label-arrow:before {content: \"▾\";}#sk-container-id-36 div.sk-estimator input.sk-toggleable__control:checked~label.sk-toggleable__label {background-color: #d4ebff;}#sk-container-id-36 div.sk-label input.sk-toggleable__control:checked~label.sk-toggleable__label {background-color: #d4ebff;}#sk-container-id-36 input.sk-hidden--visually {border: 0;clip: rect(1px 1px 1px 1px);clip: rect(1px, 1px, 1px, 1px);height: 1px;margin: -1px;overflow: hidden;padding: 0;position: absolute;width: 1px;}#sk-container-id-36 div.sk-estimator {font-family: monospace;background-color: #f0f8ff;border: 1px dotted black;border-radius: 0.25em;box-sizing: border-box;margin-bottom: 0.5em;}#sk-container-id-36 div.sk-estimator:hover {background-color: #d4ebff;}#sk-container-id-36 div.sk-parallel-item::after {content: \"\";width: 100%;border-bottom: 1px solid gray;flex-grow: 1;}#sk-container-id-36 div.sk-label:hover label.sk-toggleable__label {background-color: #d4ebff;}#sk-container-id-36 div.sk-serial::before {content: \"\";position: absolute;border-left: 1px solid gray;box-sizing: border-box;top: 0;bottom: 0;left: 50%;z-index: 0;}#sk-container-id-36 div.sk-serial {display: flex;flex-direction: column;align-items: center;background-color: white;padding-right: 0.2em;padding-left: 0.2em;position: relative;}#sk-container-id-36 div.sk-item {position: relative;z-index: 1;}#sk-container-id-36 div.sk-parallel {display: flex;align-items: stretch;justify-content: center;background-color: white;position: relative;}#sk-container-id-36 div.sk-item::before, #sk-container-id-36 div.sk-parallel-item::before {content: \"\";position: absolute;border-left: 1px solid gray;box-sizing: border-box;top: 0;bottom: 0;left: 50%;z-index: -1;}#sk-container-id-36 div.sk-parallel-item {display: flex;flex-direction: column;z-index: 1;position: relative;background-color: white;}#sk-container-id-36 div.sk-parallel-item:first-child::after {align-self: flex-end;width: 50%;}#sk-container-id-36 div.sk-parallel-item:last-child::after {align-self: flex-start;width: 50%;}#sk-container-id-36 div.sk-parallel-item:only-child::after {width: 0;}#sk-container-id-36 div.sk-dashed-wrapped {border: 1px dashed gray;margin: 0 0.4em 0.5em 0.4em;box-sizing: border-box;padding-bottom: 0.4em;background-color: white;}#sk-container-id-36 div.sk-label label {font-family: monospace;font-weight: bold;display: inline-block;line-height: 1.2em;}#sk-container-id-36 div.sk-label-container {text-align: center;}#sk-container-id-36 div.sk-container {/* jupyter's `normalize.less` sets `[hidden] { display: none; }` but bootstrap.min.css set `[hidden] { display: none !important; }` so we also need the `!important` here to be able to override the default hidden behavior on the sphinx rendered scikit-learn.org. See: https://github.com/scikit-learn/scikit-learn/issues/21755 */display: inline-block !important;position: relative;}#sk-container-id-36 div.sk-text-repr-fallback {display: none;}</style><div id=\"sk-container-id-36\" class=\"sk-top-container\"><div class=\"sk-text-repr-fallback\"><pre>SVR(C=0.8)</pre><b>In a Jupyter environment, please rerun this cell to show the HTML representation or trust the notebook. <br />On GitHub, the HTML representation is unable to render, please try loading this page with nbviewer.org.</b></div><div class=\"sk-container\" hidden><div class=\"sk-item\"><div class=\"sk-estimator sk-toggleable\"><input class=\"sk-toggleable__control sk-hidden--visually\" id=\"sk-estimator-id-48\" type=\"checkbox\" checked><label for=\"sk-estimator-id-48\" class=\"sk-toggleable__label sk-toggleable__label-arrow\">SVR</label><div class=\"sk-toggleable__content\"><pre>SVR(C=0.8)</pre></div></div></div></div></div>"
      ],
      "text/plain": [
       "SVR(C=0.8)"
      ]
     },
     "execution_count": 477,
     "metadata": {},
     "output_type": "execute_result"
    }
   ],
   "source": [
    "svr = SVR(C=0.8, kernel ='rbf')\n",
    "svr.fit(X_train, y_train)"
   ]
  },
  {
   "cell_type": "code",
   "execution_count": 478,
   "metadata": {},
   "outputs": [
    {
     "name": "stdout",
     "output_type": "stream",
     "text": [
      "the training root mean squared error is:  343012.1634111573\n",
      "the testing root mean squared error is:  319820.10610581917\n",
      "\n",
      "the training mean squared error is:  117657344248.0025\n",
      "the testing mean squared error is:  102284900269.53745\n",
      "\n",
      "training accuracy is:  -0.16343815999215128\n",
      "testing accuracy is:  -0.05725432268165931\n"
     ]
    }
   ],
   "source": [
    "model_performance(svr)"
   ]
  },
  {
   "cell_type": "markdown",
   "metadata": {},
   "source": [
    "## XGBoost Regressor"
   ]
  },
  {
   "cell_type": "code",
   "execution_count": 479,
   "metadata": {},
   "outputs": [
    {
     "name": "stdout",
     "output_type": "stream",
     "text": [
      "the training root mean squared error is:  74067.87092797786\n",
      "the testing root mean squared error is:  80073.27197659234\n",
      "\n",
      "the training mean squared error is:  5486049503.803587\n",
      "the testing mean squared error is:  6411728885.037329\n",
      "\n",
      "training accuracy is:  0.9457519683014649\n",
      "testing accuracy is:  0.9337260136960074\n"
     ]
    }
   ],
   "source": [
    "# Build XGBoost Model\n",
    "xgb = XGBRegressor(n_estimators = 20, learning_rate = 0.1, use_label_encoder = False, eval_metric='logloss')\n",
    "# fit the model to the training data\n",
    "xgb.fit(X_train_scaled, y_train)\n",
    "model_performance(xgb)"
   ]
  },
  {
   "cell_type": "code",
   "execution_count": 480,
   "metadata": {},
   "outputs": [
    {
     "name": "stdout",
     "output_type": "stream",
     "text": [
      "                     Feature  Importance\n",
      "2             SALE_PRICE_USD    0.715124\n",
      "3                       YEAR    0.092378\n",
      "22    ITEM_CATEGORY_Beverage    0.041925\n",
      "0               MENU_ITEM_ID    0.038212\n",
      "16           MENU_TYPE_Ramen    0.028256\n",
      "10         MENU_TYPE_Chinese    0.021146\n",
      "15      MENU_TYPE_Vegetarian    0.016171\n",
      "13           MENU_TYPE_Gyros    0.014406\n",
      "4                 DAIRY_FREE    0.007171\n",
      "17          MENU_TYPE_Crepes    0.006267\n",
      "20  MENU_TYPE_Grilled Cheese    0.005895\n",
      "8        MENU_TYPE_Ethiopian    0.005062\n",
      "12        MENU_TYPE_Hot Dogs    0.003411\n",
      "1           ITEM_SUBCATEGORY    0.002815\n",
      "24        ITEM_CATEGORY_Main    0.000977\n",
      "14           MENU_TYPE_Tacos    0.000518\n",
      "11             MENU_TYPE_BBQ    0.000267\n",
      "9        MENU_TYPE_Ice Cream    0.000000\n",
      "7                   NUT_FREE    0.000000\n",
      "18         MENU_TYPE_Poutine    0.000000\n",
      "19      MENU_TYPE_Sandwiches    0.000000\n",
      "6                    HEALTHY    0.000000\n",
      "21    MENU_TYPE_Mac & Cheese    0.000000\n",
      "5                GLUTEN_FREE    0.000000\n",
      "23     ITEM_CATEGORY_Dessert    0.000000\n"
     ]
    }
   ],
   "source": [
    "# Get the feature importances\n",
    "feature_importance = xgb.feature_importances_\n",
    "\n",
    "# Create a DataFrame to display the feature importances\n",
    "feature_importance_df = pd.DataFrame({'Feature': X_train.columns, 'Importance': feature_importance})\n",
    "\n",
    "# Sort the DataFrame by importance in descending order\n",
    "feature_importance_df = feature_importance_df.sort_values(by='Importance', ascending=False)\n",
    "\n",
    "# Display the feature importances\n",
    "print(feature_importance_df)"
   ]
  },
  {
   "cell_type": "code",
   "execution_count": 481,
   "metadata": {},
   "outputs": [],
   "source": [
    "# Get the column names with importance score not equal to 0\n",
    "selected_features = feature_importance_df[feature_importance_df['Importance'] != 0]['Feature'].tolist()\n",
    "\n",
    "# Update the X_train_scaled and X_test_scaled with the selected features\n",
    "X_train_scaled = X_train_scaled[selected_features]\n",
    "X_test_scaled = X_test_scaled[selected_features]"
   ]
  },
  {
   "cell_type": "code",
   "execution_count": 492,
   "metadata": {},
   "outputs": [
    {
     "name": "stdout",
     "output_type": "stream",
     "text": [
      "the training root mean squared error is:  74067.87092797786\n",
      "the testing root mean squared error is:  79927.12745700512\n",
      "\n",
      "the training mean squared error is:  5486049503.803587\n",
      "the testing mean squared error is:  6388345703.528341\n",
      "\n",
      "training accuracy is:  0.9457519683014649\n",
      "testing accuracy is:  0.9339677108542711\n"
     ]
    }
   ],
   "source": [
    "# Build XGBoost Model\n",
    "xgb = XGBRegressor(n_estimators = 20, learning_rate = 0.1, use_label_encoder = False, eval_metric='logloss')\n",
    "# fit the model to the training data\n",
    "xgb.fit(X_train_scaled, y_train)\n",
    "model_performance(xgb)"
   ]
  },
  {
   "cell_type": "code",
   "execution_count": 482,
   "metadata": {},
   "outputs": [
    {
     "name": "stdout",
     "output_type": "stream",
     "text": [
      "the training root mean squared error is:  30139.554097663462\n",
      "the testing root mean squared error is:  52521.010616778076\n",
      "\n",
      "the training mean squared error is:  908392721.2059824\n",
      "the testing mean squared error is:  2758456556.2077155\n",
      "\n",
      "training accuracy is:  0.9910174858793135\n",
      "testing accuracy is:  0.9714875791999111\n"
     ]
    }
   ],
   "source": [
    "# Build XGBoost Model\n",
    "xgb_updated = XGBRegressor(n_estimators=32, learning_rate=0.1, use_label_encoder=False, eval_metric='logloss')\n",
    "\n",
    "# Fit the model to the updated training data\n",
    "xgb_updated.fit(X_train_scaled, y_train)\n",
    "\n",
    "# Evaluate the performance of the updated model\n",
    "model_performance(xgb_updated)"
   ]
  },
  {
   "cell_type": "code",
   "execution_count": 483,
   "metadata": {},
   "outputs": [
    {
     "data": {
      "text/plain": [
       "['C:/Users/donsu/OneDrive - Ngee Ann Polytechnic/ICP - Industry Currency Project/Week 3/Tasty_Insights/StreamlitApp/assets/models/product_qty_year_xgb_model.joblib']"
      ]
     },
     "execution_count": 483,
     "metadata": {},
     "output_type": "execute_result"
    }
   ],
   "source": [
    "# Save the model to a file\n",
    "joblib.dump(xgb_updated, \"C:/Users/donsu/OneDrive - Ngee Ann Polytechnic/ICP - Industry Currency Project/Week 3/Tasty_Insights/StreamlitApp/assets/models/product_qty_year_xgb_model.joblib\")"
   ]
  },
  {
   "cell_type": "markdown",
   "metadata": {},
   "source": [
    "# Model Improvement (GridSearch CV)"
   ]
  },
  {
   "cell_type": "code",
   "execution_count": 484,
   "metadata": {},
   "outputs": [
    {
     "name": "stdout",
     "output_type": "stream",
     "text": [
      "Best parameters found:  {'learning_rate': 0.3, 'n_estimators': 50}\n",
      "Best score found:  0.942766795790569\n"
     ]
    }
   ],
   "source": [
    "param_grid = {'n_estimators': [10, 20, 30, 40, 50],\n",
    "              'learning_rate': [0.1, 0.2, 0.3]}\n",
    "\n",
    "xgb_grid = GridSearchCV(xgb_updated, param_grid, cv=5)\n",
    "xgb_grid.fit(X_train_scaled, y_train)\n",
    "\n",
    "best_params = xgb_grid.best_params_\n",
    "print(\"Best parameters found: \", best_params)\n",
    "print(\"Best score found: \", xgb_grid.best_score_)"
   ]
  },
  {
   "cell_type": "markdown",
   "metadata": {},
   "source": [
    "# Improved Model "
   ]
  },
  {
   "cell_type": "code",
   "execution_count": 485,
   "metadata": {},
   "outputs": [
    {
     "name": "stdout",
     "output_type": "stream",
     "text": [
      "the training root mean squared error is:  2380.5336741531287\n",
      "the testing root mean squared error is:  44268.650530806335\n",
      "\n",
      "the training mean squared error is:  5666940.573776995\n",
      "the testing mean squared error is:  1959713419.81866\n",
      "\n",
      "training accuracy is:  0.9999439632523063\n",
      "testing accuracy is:  0.9797436818253652\n"
     ]
    }
   ],
   "source": [
    "# Build XGBoost Model\n",
    "xgb_improved = XGBRegressor(**best_params)\n",
    "# fit the model to the training data\n",
    "xgb_improved.fit(X_train_scaled, y_train)\n",
    "\n",
    "model_performance(xgb_improved)"
   ]
  },
  {
   "cell_type": "markdown",
   "metadata": {},
   "source": [
    "# Cross Validation"
   ]
  },
  {
   "cell_type": "code",
   "execution_count": 486,
   "metadata": {},
   "outputs": [],
   "source": [
    "X_combined = pd.concat([X_train, X_test])\n",
    "y_combined = pd.concat([y_train, y_test])"
   ]
  },
  {
   "cell_type": "code",
   "execution_count": 487,
   "metadata": {},
   "outputs": [
    {
     "name": "stdout",
     "output_type": "stream",
     "text": [
      "Train RMSE Scores: [29431.2657263  28956.54795533 28659.98126269 31330.58924748\n",
      " 30854.78781542]\n",
      "Test RMSE Scores: [45913.39497418 49825.38718229 84163.44985474 67865.23346211\n",
      " 51759.65012862]\n"
     ]
    }
   ],
   "source": [
    "# Evaluate the Model using K-folds Cross validation\n",
    "results  = cross_validate(xgb_updated, X_combined, y_combined, scoring='neg_mean_squared_error', cv=5, return_train_score = True)\n",
    "\n",
    "# Convert the negative mean squared errors to positive RMSE values\n",
    "train_rmse_scores = np.sqrt(-results['train_score'])\n",
    "test_rmse_scores = np.sqrt(-results['test_score'])\n",
    "\n",
    "# Print the RMSE scores for each fold\n",
    "print('Train RMSE Scores:', train_rmse_scores)\n",
    "print('Test RMSE Scores:', test_rmse_scores)"
   ]
  },
  {
   "cell_type": "code",
   "execution_count": 488,
   "metadata": {},
   "outputs": [
    {
     "name": "stdout",
     "output_type": "stream",
     "text": [
      "Train RMSE Scores: [2523.1632457  1546.17664159 1932.67444126 2458.53176963 1661.37893997]\n",
      "Test RMSE Scores: [33948.96073916 32446.47318183 60531.66939462 41247.97170905\n",
      " 31061.88568248]\n"
     ]
    }
   ],
   "source": [
    "# Evaluate the Model using K-folds Cross validation\n",
    "results  = cross_validate(xgb_improved, X_combined, y_combined, scoring='neg_mean_squared_error', cv=5, return_train_score = True)\n",
    "\n",
    "# Convert the negative mean squared errors to positive RMSE values\n",
    "train_rmse_scores = np.sqrt(-results['train_score'])\n",
    "test_rmse_scores = np.sqrt(-results['test_score'])\n",
    "\n",
    "# Print the RMSE scores for each fold\n",
    "print('Train RMSE Scores:', train_rmse_scores)\n",
    "print('Test RMSE Scores:', test_rmse_scores)"
   ]
  },
  {
   "cell_type": "markdown",
   "metadata": {},
   "source": [
    "# Feature Importance"
   ]
  },
  {
   "cell_type": "code",
   "execution_count": 489,
   "metadata": {},
   "outputs": [
    {
     "name": "stdout",
     "output_type": "stream",
     "text": [
      "                     Feature  Importance\n",
      "0             SALE_PRICE_USD    0.543579\n",
      "1                       YEAR    0.133174\n",
      "2     ITEM_CATEGORY_Beverage    0.074403\n",
      "3               MENU_ITEM_ID    0.057402\n",
      "4            MENU_TYPE_Ramen    0.046283\n",
      "5          MENU_TYPE_Chinese    0.036876\n",
      "7            MENU_TYPE_Gyros    0.025607\n",
      "6       MENU_TYPE_Vegetarian    0.024681\n",
      "14        ITEM_CATEGORY_Main    0.019142\n",
      "10  MENU_TYPE_Grilled Cheese    0.009292\n",
      "8                 DAIRY_FREE    0.008711\n",
      "11       MENU_TYPE_Ethiopian    0.007939\n",
      "13          ITEM_SUBCATEGORY    0.006155\n",
      "9           MENU_TYPE_Crepes    0.002514\n",
      "12        MENU_TYPE_Hot Dogs    0.002466\n",
      "15           MENU_TYPE_Tacos    0.001192\n",
      "16             MENU_TYPE_BBQ    0.000582\n"
     ]
    }
   ],
   "source": [
    "# Get the feature importances\n",
    "feature_importance = xgb_updated.feature_importances_\n",
    "\n",
    "# Create a DataFrame to display the feature importances\n",
    "feature_importance_df = pd.DataFrame({'Feature': X_train_scaled.columns, 'Importance': feature_importance})\n",
    "\n",
    "# Sort the DataFrame by importance in descending order\n",
    "feature_importance_df = feature_importance_df.sort_values(by='Importance', ascending=False)\n",
    "\n",
    "# Display the feature importances\n",
    "print(feature_importance_df)"
   ]
  },
  {
   "cell_type": "markdown",
   "metadata": {},
   "source": [
    "# Insights for Streamlit Data Pre-Processing"
   ]
  },
  {
   "cell_type": "code",
   "execution_count": 490,
   "metadata": {},
   "outputs": [
    {
     "data": {
      "text/html": [
       "<div>\n",
       "<style scoped>\n",
       "    .dataframe tbody tr th:only-of-type {\n",
       "        vertical-align: middle;\n",
       "    }\n",
       "\n",
       "    .dataframe tbody tr th {\n",
       "        vertical-align: top;\n",
       "    }\n",
       "\n",
       "    .dataframe thead th {\n",
       "        text-align: right;\n",
       "    }\n",
       "</style>\n",
       "<table border=\"1\" class=\"dataframe\">\n",
       "  <thead>\n",
       "    <tr style=\"text-align: right;\">\n",
       "      <th></th>\n",
       "      <th>SALE_PRICE_USD</th>\n",
       "      <th>YEAR</th>\n",
       "      <th>ITEM_CATEGORY_Beverage</th>\n",
       "      <th>MENU_ITEM_ID</th>\n",
       "      <th>MENU_TYPE_Ramen</th>\n",
       "      <th>MENU_TYPE_Chinese</th>\n",
       "      <th>MENU_TYPE_Vegetarian</th>\n",
       "      <th>MENU_TYPE_Gyros</th>\n",
       "      <th>DAIRY_FREE</th>\n",
       "      <th>MENU_TYPE_Crepes</th>\n",
       "      <th>MENU_TYPE_Grilled Cheese</th>\n",
       "      <th>MENU_TYPE_Ethiopian</th>\n",
       "      <th>MENU_TYPE_Hot Dogs</th>\n",
       "      <th>ITEM_SUBCATEGORY</th>\n",
       "      <th>ITEM_CATEGORY_Main</th>\n",
       "      <th>MENU_TYPE_Tacos</th>\n",
       "      <th>MENU_TYPE_BBQ</th>\n",
       "    </tr>\n",
       "  </thead>\n",
       "  <tbody>\n",
       "    <tr>\n",
       "      <th>0</th>\n",
       "      <td>0.052632</td>\n",
       "      <td>1.000000</td>\n",
       "      <td>1.0</td>\n",
       "      <td>0.582192</td>\n",
       "      <td>0.0</td>\n",
       "      <td>0.0</td>\n",
       "      <td>0.0</td>\n",
       "      <td>0.0</td>\n",
       "      <td>1.0</td>\n",
       "      <td>0.0</td>\n",
       "      <td>0.0</td>\n",
       "      <td>1.0</td>\n",
       "      <td>0.0</td>\n",
       "      <td>0.0</td>\n",
       "      <td>0.0</td>\n",
       "      <td>0.0</td>\n",
       "      <td>0.0</td>\n",
       "    </tr>\n",
       "    <tr>\n",
       "      <th>1</th>\n",
       "      <td>0.105263</td>\n",
       "      <td>0.333333</td>\n",
       "      <td>0.0</td>\n",
       "      <td>0.047945</td>\n",
       "      <td>0.0</td>\n",
       "      <td>0.0</td>\n",
       "      <td>0.0</td>\n",
       "      <td>0.0</td>\n",
       "      <td>0.0</td>\n",
       "      <td>0.0</td>\n",
       "      <td>0.0</td>\n",
       "      <td>0.0</td>\n",
       "      <td>0.0</td>\n",
       "      <td>0.0</td>\n",
       "      <td>0.0</td>\n",
       "      <td>0.0</td>\n",
       "      <td>0.0</td>\n",
       "    </tr>\n",
       "    <tr>\n",
       "      <th>2</th>\n",
       "      <td>0.578947</td>\n",
       "      <td>1.000000</td>\n",
       "      <td>0.0</td>\n",
       "      <td>0.828767</td>\n",
       "      <td>0.0</td>\n",
       "      <td>1.0</td>\n",
       "      <td>0.0</td>\n",
       "      <td>0.0</td>\n",
       "      <td>1.0</td>\n",
       "      <td>0.0</td>\n",
       "      <td>0.0</td>\n",
       "      <td>0.0</td>\n",
       "      <td>0.0</td>\n",
       "      <td>1.0</td>\n",
       "      <td>1.0</td>\n",
       "      <td>0.0</td>\n",
       "      <td>0.0</td>\n",
       "    </tr>\n",
       "    <tr>\n",
       "      <th>3</th>\n",
       "      <td>0.052632</td>\n",
       "      <td>0.000000</td>\n",
       "      <td>1.0</td>\n",
       "      <td>0.034247</td>\n",
       "      <td>0.0</td>\n",
       "      <td>0.0</td>\n",
       "      <td>0.0</td>\n",
       "      <td>0.0</td>\n",
       "      <td>1.0</td>\n",
       "      <td>0.0</td>\n",
       "      <td>0.0</td>\n",
       "      <td>0.0</td>\n",
       "      <td>0.0</td>\n",
       "      <td>0.0</td>\n",
       "      <td>0.0</td>\n",
       "      <td>0.0</td>\n",
       "      <td>0.0</td>\n",
       "    </tr>\n",
       "    <tr>\n",
       "      <th>4</th>\n",
       "      <td>0.789474</td>\n",
       "      <td>0.666667</td>\n",
       "      <td>0.0</td>\n",
       "      <td>0.082192</td>\n",
       "      <td>0.0</td>\n",
       "      <td>0.0</td>\n",
       "      <td>0.0</td>\n",
       "      <td>0.0</td>\n",
       "      <td>1.0</td>\n",
       "      <td>0.0</td>\n",
       "      <td>0.0</td>\n",
       "      <td>0.0</td>\n",
       "      <td>0.0</td>\n",
       "      <td>1.0</td>\n",
       "      <td>1.0</td>\n",
       "      <td>0.0</td>\n",
       "      <td>1.0</td>\n",
       "    </tr>\n",
       "  </tbody>\n",
       "</table>\n",
       "</div>"
      ],
      "text/plain": [
       "   SALE_PRICE_USD      YEAR  ITEM_CATEGORY_Beverage  MENU_ITEM_ID  \\\n",
       "0        0.052632  1.000000                     1.0      0.582192   \n",
       "1        0.105263  0.333333                     0.0      0.047945   \n",
       "2        0.578947  1.000000                     0.0      0.828767   \n",
       "3        0.052632  0.000000                     1.0      0.034247   \n",
       "4        0.789474  0.666667                     0.0      0.082192   \n",
       "\n",
       "   MENU_TYPE_Ramen  MENU_TYPE_Chinese  MENU_TYPE_Vegetarian  MENU_TYPE_Gyros  \\\n",
       "0              0.0                0.0                   0.0              0.0   \n",
       "1              0.0                0.0                   0.0              0.0   \n",
       "2              0.0                1.0                   0.0              0.0   \n",
       "3              0.0                0.0                   0.0              0.0   \n",
       "4              0.0                0.0                   0.0              0.0   \n",
       "\n",
       "   DAIRY_FREE  MENU_TYPE_Crepes  MENU_TYPE_Grilled Cheese  \\\n",
       "0         1.0               0.0                       0.0   \n",
       "1         0.0               0.0                       0.0   \n",
       "2         1.0               0.0                       0.0   \n",
       "3         1.0               0.0                       0.0   \n",
       "4         1.0               0.0                       0.0   \n",
       "\n",
       "   MENU_TYPE_Ethiopian  MENU_TYPE_Hot Dogs  ITEM_SUBCATEGORY  \\\n",
       "0                  1.0                 0.0               0.0   \n",
       "1                  0.0                 0.0               0.0   \n",
       "2                  0.0                 0.0               1.0   \n",
       "3                  0.0                 0.0               0.0   \n",
       "4                  0.0                 0.0               1.0   \n",
       "\n",
       "   ITEM_CATEGORY_Main  MENU_TYPE_Tacos  MENU_TYPE_BBQ  \n",
       "0                 0.0              0.0            0.0  \n",
       "1                 0.0              0.0            0.0  \n",
       "2                 1.0              0.0            0.0  \n",
       "3                 0.0              0.0            0.0  \n",
       "4                 1.0              0.0            1.0  "
      ]
     },
     "execution_count": 490,
     "metadata": {},
     "output_type": "execute_result"
    }
   ],
   "source": [
    "X_train_scaled.head()"
   ]
  },
  {
   "cell_type": "code",
   "execution_count": 491,
   "metadata": {},
   "outputs": [
    {
     "data": {
      "text/plain": [
       "Index(['SALE_PRICE_USD', 'YEAR', 'ITEM_CATEGORY_Beverage', 'MENU_ITEM_ID',\n",
       "       'MENU_TYPE_Ramen', 'MENU_TYPE_Chinese', 'MENU_TYPE_Vegetarian',\n",
       "       'MENU_TYPE_Gyros', 'DAIRY_FREE', 'MENU_TYPE_Crepes',\n",
       "       'MENU_TYPE_Grilled Cheese', 'MENU_TYPE_Ethiopian', 'MENU_TYPE_Hot Dogs',\n",
       "       'ITEM_SUBCATEGORY', 'ITEM_CATEGORY_Main', 'MENU_TYPE_Tacos',\n",
       "       'MENU_TYPE_BBQ'],\n",
       "      dtype='object')"
      ]
     },
     "execution_count": 491,
     "metadata": {},
     "output_type": "execute_result"
    }
   ],
   "source": [
    "X_train_scaled.columns"
   ]
  }
 ],
 "metadata": {
  "kernelspec": {
   "display_name": "streamlit_delete_later_env",
   "language": "python",
   "name": "python3"
  },
  "language_info": {
   "codemirror_mode": {
    "name": "ipython",
    "version": 3
   },
   "file_extension": ".py",
   "mimetype": "text/x-python",
   "name": "python",
   "nbconvert_exporter": "python",
   "pygments_lexer": "ipython3",
   "version": "3.8.16"
  },
  "orig_nbformat": 4
 },
 "nbformat": 4,
 "nbformat_minor": 2
}
