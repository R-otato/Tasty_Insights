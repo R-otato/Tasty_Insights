{
 "cells": [
  {
   "attachments": {},
   "cell_type": "markdown",
   "id": "eaeb5653",
   "metadata": {},
   "source": [
    "![Logo.png](Images/Logo.png)\n"
   ]
  },
  {
   "attachments": {},
   "cell_type": "markdown",
   "id": "c3f6eae7",
   "metadata": {},
   "source": [
    "#### 1. [Load and Explore the Data](#1)\n",
    "   - [1.1 Load Packages](#1.1)  \n",
    "   - [1.2 Load CSVs](#1.2) \n",
    "   - [1.3 Define NaNs](#1.3) \n",
    "   \n",
    "#### 2. [Data Wrangling on multiple tables](#2)\n",
    "   - [2.1 Define Target Variable](#2.1)  \n",
    "   - [2.2 Load and Clean Tables](#2.2)\n",
    "      - [2.2.1 Results Table](#2.2.1)\n",
    "      - [2.2.2 Driver Table](#2.2.2)\n",
    "      - [2.2.3 Races Table](#2.2.3)\n",
    "      - [2.2.4 Circuit Table](#2.2.4)\n",
    "      - [2.2.5 Driver Standings Table](#2.2.5)\n",
    "      - [2.2.6 Lap Time Table](#2.2.6)\n",
    "      - [2.2.7 Pit Stop Table](#2.2.7)\n",
    "\n",
    "#### 3. [Data Exploration](#3)\n",
    "   - [3.1 Dropping Unattainable Data](#3.1)  \n",
    "   - [3.2 Visualisations](#3.22)  \n",
    "      - [3.2.1 Correlation](#3.2.1)\n",
    "      - [3.2.2 Distribution](#3.2.2)\n",
    "\n",
    "#### 4. [Outlier Handling](#3)\n",
    "   - [4.1 Defining Diagnostic Plots](#4.1)  \n",
    "   - [4.2 Visualise Continuous Variables](#4.2)  \n",
    "   - [4.3 Outlier Removal Methods](#4.3)  \n",
    "      - [4.3.1 Capping](#4.3.1)\n",
    "      - [4.3.2 Winsorization](#4.3.2)\n",
    "\n",
    "#### 5. [Train Test Split](#5)\n",
    "\n",
    "#### 6. [Missing Value Imputation](#6)\n",
    "   - [6.1 Identify NaNs](#6.1)  \n",
    "   - [6.2 Null Handling](#6.2)  \n",
    "      - [6.2.1 K-Clustering Imputation](#6.2.1)\n",
    "      - [6.2.2 Arbitary Number Imputation](#6.2.2)\n",
    "      - [6.2.3 Random Sampling Imputation](#6.2.3)\n",
    "\n",
    "#### 7. [Transformation](#7)\n",
    "   - [7.1 Initalizing Transformers](#7.1)  \n",
    "   - [7.2 Visualise Changes](#7.2)  \n",
    "\n",
    "#### 8. [Categorial Encoding](#8)\n",
    "   - [8.1 Identify Categoricals](#8.1)  \n",
    "   - [8.2 Encoding](#8.2)  \n",
    "      - [8.2.1 One-Hot Encoding](#8.2.1)\n",
    "      - [8.2.2 Frequency Encoding](#8.2.2)\n",
    "\n",
    "#### 9. [Variable Discretization](#9)\n",
    "   - [9.1 Initalize Variables](#9.1)  \n",
    "   - [9.2 Equal Width/Frequency Discretiser](#9.2)  \n",
    "\n",
    "#### 10. [Scaling](#10)\n",
    "   - [10.1 Initalize Scaler](#10.1)  \n",
    "      - [10.1.1 Standard Scaler](#10.1.1)\n",
    "      - [10.1.2 MinMax Scaler](#10.1.2)\n",
    "      - [10.1.3 Robust Scaler](#10.1.3)\n",
    "      - [10.1.4 Maximum Absoulute Scaler](#10.1.4)\n",
    "      - [10.1.5 Mean Normalisation Scaler](#10.1.5)\n",
    "   - [10.2 Visualise Scalers](#10.2)  \n",
    "\n",
    "#### 11. [Machine Learning Modelling](#11)\n",
    "   - [11.1 Naive BaseLine](#11.1)  \n",
    "      - [11.1.1 Defining Modal label](#11.1.1)\n",
    "      - [11.1.2 Prediction](#11.1.2)\n",
    "   - [11.2 Decision Tree](#11.2)  \n",
    "      - [11.2.1 Set Up](#11.2.1)\n",
    "      - [11.2.2 Prediction](#11.2.2)\n",
    "   - [11.3 Logistic Regression](#11.3)  \n",
    "      - [11.3.1 Set Up](#1.3.1)\n",
    "      - [11.3.2 Prediction](#11.3.2)\n",
    "\n",
    "\n",
    "\n"
   ]
  },
  {
   "attachments": {},
   "cell_type": "markdown",
   "id": "0f547ef0",
   "metadata": {},
   "source": [
    "# 0. Setup"
   ]
  },
  {
   "attachments": {},
   "cell_type": "markdown",
   "id": "9f8d1940",
   "metadata": {},
   "source": [
    "## 0.1 Import Packages"
   ]
  },
  {
   "cell_type": "code",
   "execution_count": 1,
   "id": "2b76a42a",
   "metadata": {},
   "outputs": [],
   "source": [
    "#Import Python packages\n",
    "import pandas as pd\n",
    "import plotly.express as px\n",
    "import json\n",
    "import sys\n",
    "import cachetools\n",
    "import matplotlib.pyplot as plt\n",
    "import seaborn as sns\n",
    "import datetime as dt\n",
    "import numpy as np\n",
    "import json\n",
    "import datetime\n",
    "\n",
    "# for splitting of the dataset\n",
    "from sklearn.model_selection import train_test_split\n",
    "from sklearn.model_selection import cross_validate\n",
    "\n",
    "# for encoding/transforming the data\n",
    "from feature_engine.encoding import OneHotEncoder\n",
    "from feature_engine.outliers import Winsorizer\n",
    "from feature_engine.transformation import YeoJohnsonTransformer\n",
    "from sklearn.preprocessing import MinMaxScaler\n",
    "\n",
    "#ML-Models: Classification\n",
    "from xgboost import XGBClassifier\n",
    "from sklearn.neural_network import MLPClassifier\n",
    "from sklearn import tree\n",
    "from sklearn.linear_model import LogisticRegression\n",
    "from sklearn.neural_network import MLPClassifier\n",
    "from sklearn. ensemble import RandomForestClassifier\n",
    "from sklearn.tree import DecisionTreeClassifier\n",
    "from sklearn. ensemble import AdaBoostClassifier\n",
    "from sklearn.svm import SVC\n",
    "\n",
    "\n",
    "# for getting metrics\n",
    "from sklearn.metrics import mean_squared_error, r2_score, accuracy_score\n",
    "\n",
    "# model selection\n",
    "from sklearn.model_selection import GridSearchCV\n",
    "\n",
    "# for feature selection\n",
    "from sklearn.feature_selection import SelectFromModel\n",
    "\n",
    "# Import Snowflake modules\n",
    "from snowflake.snowpark import Session\n",
    "import snowflake.snowpark.functions as F\n",
    "import snowflake.snowpark.types as T\n",
    "from snowflake.snowpark import Window"
   ]
  },
  {
   "attachments": {},
   "cell_type": "markdown",
   "id": "c689510f",
   "metadata": {},
   "source": [
    "## 0.2 Connect to Snowflake"
   ]
  },
  {
   "cell_type": "code",
   "execution_count": 2,
   "id": "9140d4bb",
   "metadata": {},
   "outputs": [],
   "source": [
    "# Get account credentials from a json file\n",
    "with open(\"data_scientist_auth.json\") as f:\n",
    "    data = json.load(f)\n",
    "    username = data[\"username\"]\n",
    "    password = data[\"password\"]\n",
    "    account = data[\"account\"]\n",
    "\n",
    "# Specify connection parameters\n",
    "connection_parameters = {\n",
    "    \"account\": account,\n",
    "    \"user\": username,\n",
    "    \"password\": password,\n",
    "    \"role\": \"TASTY_BI\",\n",
    "    \"warehouse\": \"TASTY_BI_WH\",\n",
    "    \"database\": \"frostbyte_tasty_bytes\",\n",
    "    \"schema\": \"analytics\",\n",
    "}\n",
    "\n",
    "# Create Snowpark session\n",
    "session = Session.builder.configs(connection_parameters).create()"
   ]
  },
  {
   "attachments": {},
   "cell_type": "markdown",
   "id": "c3d02814",
   "metadata": {},
   "source": [
    "## 0.3 Gathering Data as Snowpark DataFrame"
   ]
  },
  {
   "cell_type": "code",
   "execution_count": 3,
   "id": "9f5810e2",
   "metadata": {},
   "outputs": [],
   "source": [
    "# Orders_V\n",
    "# contains orders, trucks, shift information\n",
    "tasty_bytes_orders_v = session.table(\"frostbyte_tasty_bytes.analytics.orders_v\")\n",
    "# Customer Loyalty\n",
    "# contains information on signed up members\n",
    "tasty_bytes_customer_loyalty = session.table(\"frostbyte_tasty_bytes.raw_customer.customer_loyalty\")"
   ]
  },
  {
   "attachments": {},
   "cell_type": "markdown",
   "id": "461b0173",
   "metadata": {},
   "source": [
    "# 1. Data Exploration "
   ]
  },
  {
   "attachments": {},
   "cell_type": "markdown",
   "id": "56d1ecc6",
   "metadata": {},
   "source": [
    "## 1.1 Members in Country"
   ]
  },
  {
   "cell_type": "code",
   "execution_count": 4,
   "id": "c7a37387",
   "metadata": {},
   "outputs": [
    {
     "data": {
      "image/png": "[encoded data removed]",
      "text/plain": [
       "<Figure size 640x480 with 1 Axes>"
      ]
     },
     "metadata": {},
     "output_type": "display_data"
    }
   ],
   "source": [
    "# Unique members\n",
    "temp_df=tasty_bytes_customer_loyalty.group_by(F.col('Country')).count().to_pandas().sort_values(by='COUNT',ascending=False)\n",
    "sns.barplot(x='COUNTRY',y='COUNT',data=temp_df)\n",
    "plt.xticks(rotation=90)\n",
    "plt.title('Number of Members per Country')\n",
    "plt.show()"
   ]
  },
  {
   "attachments": {},
   "cell_type": "markdown",
   "id": "a0b6f340",
   "metadata": {},
   "source": [
    "## 1.2 Total number of Transactions"
   ]
  },
  {
   "cell_type": "code",
   "execution_count": 5,
   "id": "38ef8554",
   "metadata": {},
   "outputs": [
    {
     "data": {
      "image/png": "[encoded data removed]",
      "text/plain": [
       "<Figure size 640x480 with 1 Axes>"
      ]
     },
     "metadata": {},
     "output_type": "display_data"
    }
   ],
   "source": [
    "# Number of unique transactions\n",
    "temp_df=tasty_bytes_orders_v.group_by(F.col('COUNTRY')).agg(F.countDistinct('ORDER_ID').alias('COUNT')).to_pandas().sort_values(by='COUNT',ascending=False)\n",
    "sns.barplot(x='COUNTRY',y='COUNT',data=temp_df)\n",
    "plt.xticks(rotation=90)\n",
    "plt.title('')\n",
    "plt.show()"
   ]
  },
  {
   "attachments": {},
   "cell_type": "markdown",
   "id": "61eb6572",
   "metadata": {},
   "source": [
    "## 1.3 Churn Rate by Country"
   ]
  },
  {
   "attachments": {},
   "cell_type": "markdown",
   "id": "353bc62b",
   "metadata": {},
   "source": [
    "### 1.3.1 Get Churn Cut Off date by Country"
   ]
  },
  {
   "cell_type": "code",
   "execution_count": 99,
   "id": "10b4fddf",
   "metadata": {},
   "outputs": [],
   "source": [
    "#Get last transaction date for each country\n",
    "last_tran_country = tasty_bytes_orders_v.group_by(F.col('COUNTRY')).max(F.to_date(F.col('ORDER_TS'))).to_pandas()\n",
    "\n",
    "#Get assumed churned date which is two weeks before last transaction date, then get total number of customers in the assumed time period\n",
    "last_tran_country['CHURN_DATE']=last_tran_country['MAX(TO_DATE(ORDER_TS))']-datetime.timedelta(days=14)\n",
    "last_tran_country['CUSTOMER_COUNT_DATE']=last_tran_country['MAX(TO_DATE(ORDER_TS))']-datetime.timedelta(days=44)\n",
    "\n",
    "#Make pandas dataframe into a snowpark dataframe\n",
    "last_tran_country_sdf=session.createDataFrame(last_tran_country)\n",
    "\n",
    "#Merge \n",
    "last_tran_country_sdf_join = last_tran_country_sdf.join(\n",
    "    right=tasty_bytes_orders_v,\n",
    "    on=\"COUNTRY\",\n",
    "    how=\"inner\"\n",
    ")"
   ]
  },
  {
   "attachments": {},
   "cell_type": "markdown",
   "id": "f4756327",
   "metadata": {},
   "source": [
    "### 1.3.2 Calculate Churn Rate by Country"
   ]
  },
  {
   "cell_type": "code",
   "execution_count": 100,
   "id": "65c811f1",
   "metadata": {},
   "outputs": [
    {
     "name": "stdout",
     "output_type": "stream",
     "text": [
      "---------------------------------------------------------------------------------------------------------------------------------------------------------------------------------------------------------------------------------------------------------------------------------------------------------------------------------------------------------------------------------------------------------------------------------------------------------------------------------------------------------------------------------------------------------------------------------------------------------------------------------------------------------------------------------------------------------------------------------------------------------------------------------------------------------------\n",
      "|\"COUNTRY\"  |\"MAX(TO_DATE(ORDER_TS))\"  |\"CHURN_DATE\"  |\"CUSTOMER_COUNT_DATE\"  |\"DATE\"      |\"ORDER_ID\"  |\"TRUCK_ID\"  |\"ORDER_TS\"           |\"ORDER_DETAIL_ID\"  |\"LINE_NUMBER\"  |\"TRUCK_BRAND_NAME\"  |\"MENU_TYPE\"   |\"PRIMARY_CITY\"  |\"REGION\"  |\"FRANCHISE_FLAG\"  |\"FRANCHISE_ID\"  |\"FRANCHISEE_FIRST_NAME\"  |\"FRANCHISEE_LAST_NAME\"  |\"LOCATION_ID\"  |\"PLACEKEY\"           |\"LOCATION_NAME\"  |\"TOP_CATEGORY\"                             |\"SUB_CATEGORY\"                                 |\"LATITUDE\"  |\"LONGITUDE\"  |\"CUSTOMER_ID\"  |\"FIRST_NAME\"  |\"LAST_NAME\"  |\"E_MAIL\"  |\"PHONE_NUMBER\"  |\"CHILDREN_COUNT\"  |\"GENDER\"  |\"MARITAL_STATUS\"  |\"MENU_ITEM_ID\"  |\"MENU_ITEM_NAME\"       |\"QUANTITY\"  |\"UNIT_PRICE\"  |\"PRICE\"  |\"ORDER_AMOUNT\"  |\"ORDER_TAX_AMOUNT\"  |\"ORDER_DISCOUNT_AMOUNT\"  |\"ORDER_TOTAL\"  |\n",
      "---------------------------------------------------------------------------------------------------------------------------------------------------------------------------------------------------------------------------------------------------------------------------------------------------------------------------------------------------------------------------------------------------------------------------------------------------------------------------------------------------------------------------------------------------------------------------------------------------------------------------------------------------------------------------------------------------------------------------------------------------------------------------------------------------------------\n",
      "|Canada     |2022-11-01                |2022-10-18    |2022-09-18             |2022-10-28  |22002064    |79          |2022-10-28 09:50:39  |59725135           |0              |The Mac Shack       |Mac & Cheese  |Toronto         |Ontario   |1                 |62              |Sarah                    |Phillips                |2147           |226-222@665-zdc-f2k  |Super Tech       |Other Amusement and Recreation Industries  |All Other Amusement and Recreation Industries  |43.653254   |-79.394751   |NULL           |NULL          |NULL         |NULL      |NULL            |NULL              |NULL      |NULL              |41              |Standard Mac & Cheese  |1           |8.0000        |8.0000   |23.0000         |NULL                |NULL                     |23.0000        |\n",
      "|Canada     |2022-11-01                |2022-10-18    |2022-09-18             |2022-10-28  |22002064    |79          |2022-10-28 09:50:39  |59725136           |1              |The Mac Shack       |Mac & Cheese  |Toronto         |Ontario   |1                 |62              |Sarah                    |Phillips                |2147           |226-222@665-zdc-f2k  |Super Tech       |Other Amusement and Recreation Industries  |All Other Amusement and Recreation Industries  |43.653254   |-79.394751   |NULL           |NULL          |NULL         |NULL      |NULL            |NULL              |NULL      |NULL              |43              |Lobster Mac & Cheese   |1           |15.0000       |15.0000  |23.0000         |NULL                |NULL                     |23.0000        |\n",
      "|Canada     |2022-11-01                |2022-10-18    |2022-09-18             |2022-10-28  |22002067    |79          |2022-10-28 09:54:03  |59725142           |0              |The Mac Shack       |Mac & Cheese  |Toronto         |Ontario   |1                 |62              |Sarah                    |Phillips                |2147           |226-222@665-zdc-f2k  |Super Tech       |Other Amusement and Recreation Industries  |All Other Amusement and Recreation Industries  |43.653254   |-79.394751   |NULL           |NULL          |NULL         |NULL      |NULL            |NULL              |NULL      |NULL              |41              |Standard Mac & Cheese  |3           |8.0000        |24.0000  |42.0000         |NULL                |NULL                     |42.0000        |\n",
      "|Canada     |2022-11-01                |2022-10-18    |2022-09-18             |2022-10-28  |22002067    |79          |2022-10-28 09:54:03  |59725143           |1              |The Mac Shack       |Mac & Cheese  |Toronto         |Ontario   |1                 |62              |Sarah                    |Phillips                |2147           |226-222@665-zdc-f2k  |Super Tech       |Other Amusement and Recreation Industries  |All Other Amusement and Recreation Industries  |43.653254   |-79.394751   |NULL           |NULL          |NULL         |NULL      |NULL            |NULL              |NULL      |NULL              |42              |Buffalo Mac & Cheese   |1           |10.0000       |10.0000  |42.0000         |NULL                |NULL                     |42.0000        |\n",
      "|Canada     |2022-11-01                |2022-10-18    |2022-09-18             |2022-10-28  |22002067    |79          |2022-10-28 09:54:03  |59725144           |2              |The Mac Shack       |Mac & Cheese  |Toronto         |Ontario   |1                 |62              |Sarah                    |Phillips                |2147           |226-222@665-zdc-f2k  |Super Tech       |Other Amusement and Recreation Industries  |All Other Amusement and Recreation Industries  |43.653254   |-79.394751   |NULL           |NULL          |NULL         |NULL      |NULL            |NULL              |NULL      |NULL              |44              |Bottled Water          |1           |2.0000        |2.0000   |42.0000         |NULL                |NULL                     |42.0000        |\n",
      "|Canada     |2022-11-01                |2022-10-18    |2022-09-18             |2022-10-28  |22002067    |79          |2022-10-28 09:54:03  |59725145           |3              |The Mac Shack       |Mac & Cheese  |Toronto         |Ontario   |1                 |62              |Sarah                    |Phillips                |2147           |226-222@665-zdc-f2k  |Super Tech       |Other Amusement and Recreation Industries  |All Other Amusement and Recreation Industries  |43.653254   |-79.394751   |NULL           |NULL          |NULL         |NULL      |NULL            |NULL              |NULL      |NULL              |45              |Bottled Soda           |2           |3.0000        |6.0000   |42.0000         |NULL                |NULL                     |42.0000        |\n",
      "|Canada     |2022-11-01                |2022-10-18    |2022-09-18             |2022-10-28  |22002202    |79          |2022-10-28 11:14:35  |59725493           |0              |The Mac Shack       |Mac & Cheese  |Toronto         |Ontario   |1                 |62              |Sarah                    |Phillips                |2147           |226-222@665-zdc-f2k  |Super Tech       |Other Amusement and Recreation Industries  |All Other Amusement and Recreation Industries  |43.653254   |-79.394751   |NULL           |NULL          |NULL         |NULL      |NULL            |NULL              |NULL      |NULL              |42              |Buffalo Mac & Cheese   |2           |10.0000       |20.0000  |37.0000         |NULL                |NULL                     |37.0000        |\n",
      "|Canada     |2022-11-01                |2022-10-18    |2022-09-18             |2022-10-28  |22002202    |79          |2022-10-28 11:14:35  |59725494           |1              |The Mac Shack       |Mac & Cheese  |Toronto         |Ontario   |1                 |62              |Sarah                    |Phillips                |2147           |226-222@665-zdc-f2k  |Super Tech       |Other Amusement and Recreation Industries  |All Other Amusement and Recreation Industries  |43.653254   |-79.394751   |NULL           |NULL          |NULL         |NULL      |NULL            |NULL              |NULL      |NULL              |43              |Lobster Mac & Cheese   |1           |15.0000       |15.0000  |37.0000         |NULL                |NULL                     |37.0000        |\n",
      "|Canada     |2022-11-01                |2022-10-18    |2022-09-18             |2022-10-28  |22002202    |79          |2022-10-28 11:14:35  |59725495           |2              |The Mac Shack       |Mac & Cheese  |Toronto         |Ontario   |1                 |62              |Sarah                    |Phillips                |2147           |226-222@665-zdc-f2k  |Super Tech       |Other Amusement and Recreation Industries  |All Other Amusement and Recreation Industries  |43.653254   |-79.394751   |NULL           |NULL          |NULL         |NULL      |NULL            |NULL              |NULL      |NULL              |44              |Bottled Water          |1           |2.0000        |2.0000   |37.0000         |NULL                |NULL                     |37.0000        |\n",
      "|Canada     |2022-11-01                |2022-10-18    |2022-09-18             |2022-10-28  |22002378    |79          |2022-10-28 12:58:52  |59725958           |0              |The Mac Shack       |Mac & Cheese  |Toronto         |Ontario   |1                 |62              |Sarah                    |Phillips                |2147           |226-222@665-zdc-f2k  |Super Tech       |Other Amusement and Recreation Industries  |All Other Amusement and Recreation Industries  |43.653254   |-79.394751   |NULL           |NULL          |NULL         |NULL      |NULL            |NULL              |NULL      |NULL              |41              |Standard Mac & Cheese  |1           |8.0000        |8.0000   |18.0000         |NULL                |NULL                     |18.0000        |\n",
      "---------------------------------------------------------------------------------------------------------------------------------------------------------------------------------------------------------------------------------------------------------------------------------------------------------------------------------------------------------------------------------------------------------------------------------------------------------------------------------------------------------------------------------------------------------------------------------------------------------------------------------------------------------------------------------------------------------------------------------------------------------------------------------------------------------------\n",
      "\n"
     ]
    }
   ],
   "source": [
    "#Filter dataframe to the assumed time period\n",
    "df = last_tran_country_sdf_join[last_tran_country_sdf_join[\"DATE\"] > last_tran_country_sdf_join[\"CUSTOMER_COUNT_DATE\"]]\n",
    "\n",
    "#Filter to get churned members dataset\n",
    "df2 = df[last_tran_country_sdf_join[\"DATE\"] > last_tran_country_sdf_join[\"CHURN_DATE\"]]\n",
    "\n",
    "#Number of customers before churn date\n",
    "cust_bef = df.groupBy(\"COUNTRY\").agg(F.countDistinct(F.col(\"CUSTOMER_ID\")).alias('COUNT_BEF'))\n",
    "#Number of customers after churn date\n",
    "cust_aft = df2.groupBy(\"COUNTRY\").agg(F.countDistinct(F.col(\"CUSTOMER_ID\")).alias('COUNT_AFT'))\n",
    "\n",
    "#Merge\n",
    "calculator = cust_aft.join(\n",
    "    right=cust_bef,\n",
    "    on=\"COUNTRY\",\n",
    "    how=\"inner\"\n",
    ")\n",
    "calc = calculator.to_pandas()\n",
    "\n",
    "#Calculate Churn rate \n",
    "calc[\"CHURN_RATE\"] = (((calc[\"COUNT_BEF\"] - calc[\"COUNT_AFT\"]) / calc[\"COUNT_BEF\"]) * 100)\n",
    "temp_df=calc.sort_values(by='CHURN_RATE',ascending=False)"
   ]
  },
  {
   "attachments": {},
   "cell_type": "markdown",
   "id": "3b1212ca",
   "metadata": {},
   "source": [
    "### 1.3.3 Visualise Churn Rate"
   ]
  },
  {
   "cell_type": "code",
   "execution_count": 101,
   "id": "7859f70e",
   "metadata": {},
   "outputs": [
    {
     "data": {
      "image/png": "[encoded data removed]",
      "text/plain": [
       "<Figure size 640x480 with 1 Axes>"
      ]
     },
     "metadata": {},
     "output_type": "display_data"
    }
   ],
   "source": [
    "#Churn rate by Country\n",
    "sns.barplot(x='COUNTRY',y='CHURN_RATE',data=temp_df)\n",
    "plt.xticks(rotation=90)\n",
    "plt.title('Churn rate by Country')\n",
    "plt.show()"
   ]
  },
  {
   "attachments": {},
   "cell_type": "markdown",
   "id": "c8a3da66",
   "metadata": {},
   "source": [
    "<b>We decided to work on United States as it has the most number of customers, a high number of customers and quite a high Churn Rate."
   ]
  },
  {
   "attachments": {},
   "cell_type": "markdown",
   "id": "ff826d48",
   "metadata": {},
   "source": [
    "# 2. Joining Tables"
   ]
  },
  {
   "attachments": {},
   "cell_type": "markdown",
   "id": "288a07ad",
   "metadata": {},
   "source": [
    "## 2.1 Define functions"
   ]
  },
  {
   "attachments": {},
   "cell_type": "markdown",
   "id": "b077322d",
   "metadata": {},
   "source": [
    "### 2.1.1 Remove Duplicate Columns from Joins"
   ]
  },
  {
   "cell_type": "code",
   "execution_count": 9,
   "id": "a97a6df1",
   "metadata": {},
   "outputs": [],
   "source": [
    "#Function to remove and rename columns after inner join\n",
    "def remove_dup_join_col(df):\n",
    "    # capitalise all columns\n",
    "    for col in df.columns:\n",
    "        df = df.withColumnRenamed(col, col.upper())\n",
    "    \n",
    "    # get list of renamable columns for left and right join\n",
    "    left_dup_col = [col_name for col_name in df.columns if col_name.startswith('L_')]\n",
    "    right_dup_col = [col_name for col_name in df.columns if col_name.startswith('R_')]\n",
    "    old_columns = df.columns\n",
    "    \n",
    "    # rename the list with the most number of renamable columns\n",
    "    # drop the list of columns with less number of renamable columns\n",
    "    if len(left_dup_col)>len(right_dup_col):\n",
    "        columns_rename=left_dup_col\n",
    "        df= df.drop(*right_dup_col)\n",
    "    else:\n",
    "        columns_rename=right_dup_col\n",
    "        df= df.drop(*left_dup_col)\n",
    "    \n",
    "    for old_column in old_columns:\n",
    "        if old_column in columns_rename:\n",
    "            # get string to remove\n",
    "            string_to_replace = columns_rename[0][:7]\n",
    "            # replace starting string\n",
    "            new_column = old_column.replace(string_to_replace, \"\")\n",
    "            df = df.withColumnRenamed(old_column, new_column)\n",
    "    \n",
    "    return df"
   ]
  },
  {
   "attachments": {},
   "cell_type": "markdown",
   "id": "8bee097b",
   "metadata": {},
   "source": [
    "## 2.2 Join Members Data with Orders_V"
   ]
  },
  {
   "attachments": {},
   "cell_type": "markdown",
   "id": "6374cdbe",
   "metadata": {},
   "source": [
    "### 2.2.1 Inner Join Tables"
   ]
  },
  {
   "cell_type": "code",
   "execution_count": 10,
   "id": "04b27d34",
   "metadata": {},
   "outputs": [
    {
     "name": "stdout",
     "output_type": "stream",
     "text": [
      "-----------------------------------------------------------------------------------------------------------------------------------------------------------------------------------------------------------------------------------------------------------------------------------------------------------------------------------------------------------------------------------------------------------------------------------------------------------------------------------------------------------------------------------------------------------------------------------------------------------------------------------------------------------------------------------------------------------------------------------------------------------------------------------------------------------------------------------------------------------------------------------------------------------------------------------------------------------------------------------------------------------------------------------------------------------------------------------------------------------------------------------------\n",
      "|\"CUSTOMER_ID\"  |\"DATE\"      |\"ORDER_ID\"  |\"TRUCK_ID\"  |\"ORDER_TS\"           |\"ORDER_DETAIL_ID\"  |\"LINE_NUMBER\"  |\"TRUCK_BRAND_NAME\"      |\"MENU_TYPE\"     |\"PRIMARY_CITY\"  |\"REGION\"  |\"l_axag_COUNTRY\"  |\"FRANCHISE_FLAG\"  |\"FRANCHISE_ID\"  |\"FRANCHISEE_FIRST_NAME\"  |\"FRANCHISEE_LAST_NAME\"  |\"LOCATION_ID\"  |\"PLACEKEY\"           |\"LOCATION_NAME\"             |\"TOP_CATEGORY\"                                      |\"SUB_CATEGORY\"                           |\"LATITUDE\"  |\"LONGITUDE\"  |\"l_axag_FIRST_NAME\"  |\"l_axag_LAST_NAME\"  |\"l_axag_E_MAIL\"              |\"l_axag_PHONE_NUMBER\"  |\"l_axag_CHILDREN_COUNT\"  |\"l_axag_GENDER\"  |\"l_axag_MARITAL_STATUS\"  |\"MENU_ITEM_ID\"  |\"MENU_ITEM_NAME\"         |\"QUANTITY\"  |\"UNIT_PRICE\"  |\"PRICE\"  |\"ORDER_AMOUNT\"  |\"ORDER_TAX_AMOUNT\"  |\"ORDER_DISCOUNT_AMOUNT\"  |\"ORDER_TOTAL\"  |\"r_x26r_FIRST_NAME\"  |\"r_x26r_LAST_NAME\"  |\"CITY\"   |\"r_x26r_COUNTRY\"  |\"POSTAL_CODE\"  |\"PREFERRED_LANGUAGE\"  |\"r_x26r_GENDER\"  |\"FAVOURITE_BRAND\"  |\"r_x26r_MARITAL_STATUS\"  |\"r_x26r_CHILDREN_COUNT\"  |\"SIGN_UP_DATE\"  |\"BIRTHDAY_DATE\"  |\"r_x26r_E_MAIL\"              |\"r_x26r_PHONE_NUMBER\"  |\n",
      "-----------------------------------------------------------------------------------------------------------------------------------------------------------------------------------------------------------------------------------------------------------------------------------------------------------------------------------------------------------------------------------------------------------------------------------------------------------------------------------------------------------------------------------------------------------------------------------------------------------------------------------------------------------------------------------------------------------------------------------------------------------------------------------------------------------------------------------------------------------------------------------------------------------------------------------------------------------------------------------------------------------------------------------------------------------------------------------------------------------------------------------------\n",
      "|83544          |2022-10-28  |22004908    |81          |2022-10-28 10:55:26  |59732428           |0              |The Mega Melt           |Grilled Cheese  |Toronto         |Ontario   |Canada            |0                 |1               |Corporate                |Owned                   |1986           |225-222@665-z9y-sh5  |Market Square Shoe Service  |Personal and Household Goods Repair and Mainten...  |Footwear and Leather Goods Repair        |43.649405   |-79.373256   |Emerson              |Christian           |Emerson.Christian@aol.com    |090-125-7904           |5+                       |Male             |Married                  |61              |The Original             |1           |5.0000        |5.0000   |5.0000          |NULL                |NULL                     |5.0000         |Emerson              |Christian           |Toronto  |Canada            |M4C 1V8        |English               |Male             |NULL               |Married                  |5+                       |2020-11-21      |1957-06-16       |Emerson.Christian@aol.com    |090-125-7904           |\n",
      "|10417          |2022-10-28  |22006760    |82          |2022-10-28 18:37:19  |59737246           |0              |Plant Palace            |Vegetarian      |Toronto         |Ontario   |Canada            |1                 |63              |Gary                     |Hartman                 |3265           |236-222@665-zcb-wzf  |F45 Training                |Other Amusement and Recreation Industries           |Fitness and Recreational Sports Centers  |43.667846   |-79.308903   |Bryce                |Acevedo             |Bryce.Acevedo@ymail.com      |712-218-9908           |0                        |Undisclosed      |Single                   |72              |Seitan Buffalo Wings     |1           |7.0000        |7.0000   |37.0000         |NULL                |NULL                     |37.0000        |Bryce                |Acevedo             |Toronto  |Canada            |M4C 1E7        |English               |Undisclosed      |NULL               |Single                   |0                        |2022-05-23      |1940-10-14       |Bryce.Acevedo@ymail.com      |712-218-9908           |\n",
      "|10417          |2022-10-28  |22006760    |82          |2022-10-28 18:37:19  |59737247           |1              |Plant Palace            |Vegetarian      |Toronto         |Ontario   |Canada            |1                 |63              |Gary                     |Hartman                 |3265           |236-222@665-zcb-wzf  |F45 Training                |Other Amusement and Recreation Industries           |Fitness and Recreational Sports Centers  |43.667846   |-79.308903   |Bryce                |Acevedo             |Bryce.Acevedo@ymail.com      |712-218-9908           |0                        |Undisclosed      |Single                   |73              |The Salad of All Salads  |1           |12.0000       |12.0000  |37.0000         |NULL                |NULL                     |37.0000        |Bryce                |Acevedo             |Toronto  |Canada            |M4C 1E7        |English               |Undisclosed      |NULL               |Single                   |0                        |2022-05-23      |1940-10-14       |Bryce.Acevedo@ymail.com      |712-218-9908           |\n",
      "|10417          |2022-10-28  |22006760    |82          |2022-10-28 18:37:19  |59737248           |2              |Plant Palace            |Vegetarian      |Toronto         |Ontario   |Canada            |1                 |63              |Gary                     |Hartman                 |3265           |236-222@665-zcb-wzf  |F45 Training                |Other Amusement and Recreation Industries           |Fitness and Recreational Sports Centers  |43.667846   |-79.308903   |Bryce                |Acevedo             |Bryce.Acevedo@ymail.com      |712-218-9908           |0                        |Undisclosed      |Single                   |71              |Veggie Burger            |2           |9.0000        |18.0000  |37.0000         |NULL                |NULL                     |37.0000        |Bryce                |Acevedo             |Toronto  |Canada            |M4C 1E7        |English               |Undisclosed      |NULL               |Single                   |0                        |2022-05-23      |1940-10-14       |Bryce.Acevedo@ymail.com      |712-218-9908           |\n",
      "|123578         |2022-10-28  |22007144    |82          |2022-10-28 22:04:40  |59738225           |0              |Plant Palace            |Vegetarian      |Toronto         |Ontario   |Canada            |1                 |63              |Gary                     |Hartman                 |3265           |236-222@665-zcb-wzf  |F45 Training                |Other Amusement and Recreation Industries           |Fitness and Recreational Sports Centers  |43.667846   |-79.308903   |Sullivan             |Juarez              |Sullivan.Juarez@gmail.com    |082-453-7678           |4                        |Female           |Married                  |72              |Seitan Buffalo Wings     |1           |7.0000        |7.0000   |16.0000         |NULL                |NULL                     |16.0000        |Sullivan             |Juarez              |Toronto  |Canada            |M4C 1X6        |English               |Female           |NULL               |Married                  |4                        |2021-10-01      |1993-01-15       |Sullivan.Juarez@gmail.com    |082-453-7678           |\n",
      "|123578         |2022-10-28  |22007144    |82          |2022-10-28 22:04:40  |59738226           |1              |Plant Palace            |Vegetarian      |Toronto         |Ontario   |Canada            |1                 |63              |Gary                     |Hartman                 |3265           |236-222@665-zcb-wzf  |F45 Training                |Other Amusement and Recreation Industries           |Fitness and Recreational Sports Centers  |43.667846   |-79.308903   |Sullivan             |Juarez              |Sullivan.Juarez@gmail.com    |082-453-7678           |4                        |Female           |Married                  |71              |Veggie Burger            |1           |9.0000        |9.0000   |16.0000         |NULL                |NULL                     |16.0000        |Sullivan             |Juarez              |Toronto  |Canada            |M4C 1X6        |English               |Female           |NULL               |Married                  |4                        |2021-10-01      |1993-01-15       |Sullivan.Juarez@gmail.com    |082-453-7678           |\n",
      "|143820         |2022-10-28  |22011023    |85          |2022-10-28 19:48:06  |59748509           |0              |Not the Wurst Hot Dogs  |Hot Dogs        |Toronto         |Ontario   |Canada            |1                 |65              |Danielle                 |Roman                   |2647           |22d-222@665-zd8-gff  |OBF Gyms                    |Other Amusement and Recreation Industries           |Fitness and Recreational Sports Centers  |43.654438   |-79.369147   |Gracelyn             |Murillo             |Gracelyn.Murillo@ymail.com   |226-427-1810           |0                        |Female           |Single                   |101             |New York Dog             |3           |8.0000        |24.0000  |33.0000         |NULL                |NULL                     |33.0000        |Gracelyn             |Murillo             |Toronto  |Canada            |M4C 3J6        |English               |Female           |NULL               |Single                   |0                        |2019-03-24      |1954-12-08       |Gracelyn.Murillo@ymail.com   |226-427-1810           |\n",
      "|143820         |2022-10-28  |22011023    |85          |2022-10-28 19:48:06  |59748510           |1              |Not the Wurst Hot Dogs  |Hot Dogs        |Toronto         |Ontario   |Canada            |1                 |65              |Danielle                 |Roman                   |2647           |22d-222@665-zd8-gff  |OBF Gyms                    |Other Amusement and Recreation Industries           |Fitness and Recreational Sports Centers  |43.654438   |-79.369147   |Gracelyn             |Murillo             |Gracelyn.Murillo@ymail.com   |226-427-1810           |0                        |Female           |Single                   |102             |Chicago Dog              |1           |9.0000        |9.0000   |33.0000         |NULL                |NULL                     |33.0000        |Gracelyn             |Murillo             |Toronto  |Canada            |M4C 3J6        |English               |Female           |NULL               |Single                   |0                        |2019-03-24      |1954-12-08       |Gracelyn.Murillo@ymail.com   |226-427-1810           |\n",
      "|96248          |2022-10-28  |22011718    |86          |2022-10-28 11:48:27  |59750348           |0              |Revenge of the Curds    |Poutine         |Toronto         |Ontario   |Canada            |1                 |66              |Jeffrey                  |Hunter                  |3317           |23b-222@665-zcp-4y9  |Legacy Indoor Cycling       |Other Amusement and Recreation Industries           |Fitness and Recreational Sports Centers  |43.683209   |-79.325311   |Brynlee              |Maxwell             |Brynlee.Maxwell@hotmail.com  |977-701-5222           |0                        |Female           |Single                   |112             |Mothers Favorite         |1           |12.0000       |12.0000  |38.0000         |NULL                |NULL                     |38.0000        |Brynlee              |Maxwell             |Toronto  |Canada            |M4C 0A2        |English               |Female           |NULL               |Single                   |0                        |2021-10-28      |1983-09-02       |Brynlee.Maxwell@hotmail.com  |977-701-5222           |\n",
      "|96248          |2022-10-28  |22011718    |86          |2022-10-28 11:48:27  |59750349           |1              |Revenge of the Curds    |Poutine         |Toronto         |Ontario   |Canada            |1                 |66              |Jeffrey                  |Hunter                  |3317           |23b-222@665-zcp-4y9  |Legacy Indoor Cycling       |Other Amusement and Recreation Industries           |Fitness and Recreational Sports Centers  |43.683209   |-79.325311   |Brynlee              |Maxwell             |Brynlee.Maxwell@hotmail.com  |977-701-5222           |0                        |Female           |Single                   |113             |The Kitchen Sink         |1           |14.0000       |14.0000  |38.0000         |NULL                |NULL                     |38.0000        |Brynlee              |Maxwell             |Toronto  |Canada            |M4C 0A2        |English               |Female           |NULL               |Single                   |0                        |2021-10-28      |1983-09-02       |Brynlee.Maxwell@hotmail.com  |977-701-5222           |\n",
      "-----------------------------------------------------------------------------------------------------------------------------------------------------------------------------------------------------------------------------------------------------------------------------------------------------------------------------------------------------------------------------------------------------------------------------------------------------------------------------------------------------------------------------------------------------------------------------------------------------------------------------------------------------------------------------------------------------------------------------------------------------------------------------------------------------------------------------------------------------------------------------------------------------------------------------------------------------------------------------------------------------------------------------------------------------------------------------------------------------------------------------------------\n",
      "\n",
      "Number of rows: 36279471\n"
     ]
    }
   ],
   "source": [
    "#Merge to get loyal customers orders\n",
    "loyal_customer_orders=tasty_bytes_orders_v.join(\n",
    "    right=tasty_bytes_customer_loyalty,\n",
    "    on=\"CUSTOMER_ID\",\n",
    "    how=\"inner\"\n",
    ")\n",
    "loyal_customer_orders.show()\n",
    "print('Number of rows:',loyal_customer_orders.count())"
   ]
  },
  {
   "attachments": {},
   "cell_type": "markdown",
   "id": "f798993c",
   "metadata": {},
   "source": [
    "### 2.2.2 Remove Duplicate "
   ]
  },
  {
   "cell_type": "code",
   "execution_count": 11,
   "id": "aff6a312",
   "metadata": {},
   "outputs": [
    {
     "name": "stdout",
     "output_type": "stream",
     "text": [
      "---------------------------------------------------------------------------------------------------------------------------------------------------------------------------------------------------------------------------------------------------------------------------------------------------------------------------------------------------------------------------------------------------------------------------------------------------------------------------------------------------------------------------------------------------------------------------------------------------------------------------------------------------------------------------------------------------------------------------------------------------------------------------------------------------------------------------------------------------------------------------------------------------------------\n",
      "|\"CUSTOMER_ID\"  |\"DATE\"      |\"ORDER_ID\"  |\"TRUCK_ID\"  |\"ORDER_TS\"           |\"ORDER_DETAIL_ID\"  |\"LINE_NUMBER\"  |\"TRUCK_BRAND_NAME\"  |\"MENU_TYPE\"   |\"PRIMARY_CITY\"  |\"REGION\"  |\"FRANCHISE_FLAG\"  |\"FRANCHISE_ID\"  |\"FRANCHISEE_FIRST_NAME\"  |\"FRANCHISEE_LAST_NAME\"  |\"LOCATION_ID\"  |\"PLACEKEY\"           |\"LOCATION_NAME\"                         |\"TOP_CATEGORY\"                                    |\"SUB_CATEGORY\"                                    |\"LATITUDE\"  |\"LONGITUDE\"  |\"MENU_ITEM_ID\"  |\"MENU_ITEM_NAME\"            |\"QUANTITY\"  |\"UNIT_PRICE\"  |\"PRICE\"  |\"ORDER_AMOUNT\"  |\"ORDER_TAX_AMOUNT\"  |\"ORDER_DISCOUNT_AMOUNT\"  |\"ORDER_TOTAL\"  |\"FIRST_NAME\"  |\"LAST_NAME\"  |\"CITY\"   |\"COUNTRY\"  |\"POSTAL_CODE\"  |\"PREFERRED_LANGUAGE\"  |\"GENDER\"  |\"FAVOURITE_BRAND\"  |\"MARITAL_STATUS\"  |\"CHILDREN_COUNT\"  |\"SIGN_UP_DATE\"  |\"BIRTHDAY_DATE\"  |\"E_MAIL\"                      |\"PHONE_NUMBER\"  |\n",
      "---------------------------------------------------------------------------------------------------------------------------------------------------------------------------------------------------------------------------------------------------------------------------------------------------------------------------------------------------------------------------------------------------------------------------------------------------------------------------------------------------------------------------------------------------------------------------------------------------------------------------------------------------------------------------------------------------------------------------------------------------------------------------------------------------------------------------------------------------------------------------------------------------------------\n",
      "|56934          |2022-10-28  |22002493    |79          |2022-10-28 13:58:13  |59726237           |0              |The Mac Shack       |Mac & Cheese  |Toronto         |Ontario   |1                 |62              |Sarah                    |Phillips                |2147           |226-222@665-zdc-f2k  |Super Tech                              |Other Amusement and Recreation Industries         |All Other Amusement and Recreation Industries     |43.653254   |-79.394751   |43              |Lobster Mac & Cheese        |1           |15.0000       |15.0000  |15.0000         |NULL                |NULL                     |15.0000        |Adolfo        |Huff         |Toronto  |Canada     |M4C 3M7        |English               |Female    |NULL               |Single            |0                 |2020-02-13      |1999-11-17       |Adolfo.Huff@gmail.com         |111-587-1978    |\n",
      "|93503          |2022-10-28  |22002963    |79          |2022-10-28 19:29:22  |59727432           |0              |The Mac Shack       |Mac & Cheese  |Toronto         |Ontario   |1                 |62              |Sarah                    |Phillips                |2592           |22c-224@665-zbn-6tv  |Hayes Doreen School of Dancing          |Other Amusement and Recreation Industries         |Fitness and Recreational Sports Centers           |43.649103   |-79.48448    |42              |Buffalo Mac & Cheese        |1           |10.0000       |10.0000  |25.0000         |NULL                |NULL                     |25.0000        |Kaitlynn      |Church       |Toronto  |Canada     |M4C 1L8        |English               |Female    |NULL               |Married           |2                 |2021-05-31      |2005-08-02       |Kaitlynn.Church@gmail.com     |391-106-1130    |\n",
      "|93503          |2022-10-28  |22002963    |79          |2022-10-28 19:29:22  |59727433           |1              |The Mac Shack       |Mac & Cheese  |Toronto         |Ontario   |1                 |62              |Sarah                    |Phillips                |2592           |22c-224@665-zbn-6tv  |Hayes Doreen School of Dancing          |Other Amusement and Recreation Industries         |Fitness and Recreational Sports Centers           |43.649103   |-79.48448    |43              |Lobster Mac & Cheese        |1           |15.0000       |15.0000  |25.0000         |NULL                |NULL                     |25.0000        |Kaitlynn      |Church       |Toronto  |Canada     |M4C 1L8        |English               |Female    |NULL               |Married           |2                 |2021-05-31      |2005-08-02       |Kaitlynn.Church@gmail.com     |391-106-1130    |\n",
      "|167987         |2022-10-28  |22003026    |79          |2022-10-28 20:02:20  |59727596           |0              |The Mac Shack       |Mac & Cheese  |Toronto         |Ontario   |1                 |62              |Sarah                    |Phillips                |2592           |22c-224@665-zbn-6tv  |Hayes Doreen School of Dancing          |Other Amusement and Recreation Industries         |Fitness and Recreational Sports Centers           |43.649103   |-79.48448    |43              |Lobster Mac & Cheese        |1           |15.0000       |15.0000  |15.0000         |NULL                |NULL                     |15.0000        |Urijah        |Baird        |Toronto  |Canada     |M4C 0A2        |English               |Male      |NULL               |Single            |1                 |2019-11-08      |1943-05-28       |Urijah.Baird@ymail.com        |480-320-4828    |\n",
      "|37751          |2022-10-28  |22003056    |79          |2022-10-28 20:19:01  |59727666           |0              |The Mac Shack       |Mac & Cheese  |Toronto         |Ontario   |1                 |62              |Sarah                    |Phillips                |2592           |22c-224@665-zbn-6tv  |Hayes Doreen School of Dancing          |Other Amusement and Recreation Industries         |Fitness and Recreational Sports Centers           |43.649103   |-79.48448    |42              |Buffalo Mac & Cheese        |3           |10.0000       |30.0000  |48.0000         |NULL                |NULL                     |48.0000        |Adrienne      |Fischer      |Toronto  |Canada     |M4C 1V6        |English               |Male      |NULL               |Married           |2                 |2021-02-04      |1977-09-21       |Adrienne.Fischer@hotmail.com  |008-952-5675    |\n",
      "|37751          |2022-10-28  |22003056    |79          |2022-10-28 20:19:01  |59727667           |1              |The Mac Shack       |Mac & Cheese  |Toronto         |Ontario   |1                 |62              |Sarah                    |Phillips                |2592           |22c-224@665-zbn-6tv  |Hayes Doreen School of Dancing          |Other Amusement and Recreation Industries         |Fitness and Recreational Sports Centers           |43.649103   |-79.48448    |43              |Lobster Mac & Cheese        |1           |15.0000       |15.0000  |48.0000         |NULL                |NULL                     |48.0000        |Adrienne      |Fischer      |Toronto  |Canada     |M4C 1V6        |English               |Male      |NULL               |Married           |2                 |2021-02-04      |1977-09-21       |Adrienne.Fischer@hotmail.com  |008-952-5675    |\n",
      "|37751          |2022-10-28  |22003056    |79          |2022-10-28 20:19:01  |59727668           |2              |The Mac Shack       |Mac & Cheese  |Toronto         |Ontario   |1                 |62              |Sarah                    |Phillips                |2592           |22c-224@665-zbn-6tv  |Hayes Doreen School of Dancing          |Other Amusement and Recreation Industries         |Fitness and Recreational Sports Centers           |43.649103   |-79.48448    |45              |Bottled Soda                |1           |3.0000        |3.0000   |48.0000         |NULL                |NULL                     |48.0000        |Adrienne      |Fischer      |Toronto  |Canada     |M4C 1V6        |English               |Male      |NULL               |Married           |2                 |2021-02-04      |1977-09-21       |Adrienne.Fischer@hotmail.com  |008-952-5675    |\n",
      "|176385         |2022-10-28  |22004331    |80          |2022-10-28 19:51:10  |59730962           |0              |Kitakata Ramen Bar  |Ramen         |Toronto         |Ontario   |1                 |63              |Gary                     |Hartman                 |1210           |222-222@665-ztg-vj9  |Canadian Memorial Chiropractic College  |Colleges, Universities, and Professional Schools  |Colleges, Universities, and Professional Schools  |43.803382   |-79.371874   |51              |Creamy Chicken Ramen        |2           |17.2500       |34.5000  |86.2500         |NULL                |NULL                     |86.2500        |Karma         |Frye         |Toronto  |Canada     |M4C 3C7        |English               |Female    |NULL               |Single            |0                 |2021-10-05      |1949-04-21       |Karma.Frye@ymail.com          |670-238-8508    |\n",
      "|176385         |2022-10-28  |22004331    |80          |2022-10-28 19:51:10  |59730963           |1              |Kitakata Ramen Bar  |Ramen         |Toronto         |Ontario   |1                 |63              |Gary                     |Hartman                 |1210           |222-222@665-ztg-vj9  |Canadian Memorial Chiropractic College  |Colleges, Universities, and Professional Schools  |Colleges, Universities, and Professional Schools  |43.803382   |-79.371874   |52              |Spicy Miso Vegetable Ramen  |2           |17.2500       |34.5000  |86.2500         |NULL                |NULL                     |86.2500        |Karma         |Frye         |Toronto  |Canada     |M4C 3C7        |English               |Female    |NULL               |Single            |0                 |2021-10-05      |1949-04-21       |Karma.Frye@ymail.com          |670-238-8508    |\n",
      "|176385         |2022-10-28  |22004331    |80          |2022-10-28 19:51:10  |59730964           |2              |Kitakata Ramen Bar  |Ramen         |Toronto         |Ontario   |1                 |63              |Gary                     |Hartman                 |1210           |222-222@665-ztg-vj9  |Canadian Memorial Chiropractic College  |Colleges, Universities, and Professional Schools  |Colleges, Universities, and Professional Schools  |43.803382   |-79.371874   |53              |Tonkotsu Ramen              |1           |17.2500       |17.2500  |86.2500         |NULL                |NULL                     |86.2500        |Karma         |Frye         |Toronto  |Canada     |M4C 3C7        |English               |Female    |NULL               |Single            |0                 |2021-10-05      |1949-04-21       |Karma.Frye@ymail.com          |670-238-8508    |\n",
      "---------------------------------------------------------------------------------------------------------------------------------------------------------------------------------------------------------------------------------------------------------------------------------------------------------------------------------------------------------------------------------------------------------------------------------------------------------------------------------------------------------------------------------------------------------------------------------------------------------------------------------------------------------------------------------------------------------------------------------------------------------------------------------------------------------------------------------------------------------------------------------------------------------------\n",
      "\n"
     ]
    }
   ],
   "source": [
    "#Remove duplicate columns\n",
    "loyal_customer_orders = remove_dup_join_col(loyal_customer_orders)\n",
    "loyal_customer_orders.show()"
   ]
  },
  {
   "cell_type": "code",
   "execution_count": 12,
   "id": "ea428700",
   "metadata": {},
   "outputs": [
    {
     "name": "stdout",
     "output_type": "stream",
     "text": [
      "---------------------------------------------------------------------------------------------------------------------------------------------------------------------------------------------------------------------------------------------------------------------------------------------------------------------------------------------------------------------------------------------------------------------------------------------------------------------------------------------------------------------------------------------------------------------------------------------------------------------------------------------------------------------------------------------------------------------------------------------------------------------------------------------------------------------------------------------------------------------------------------------------------------------------------------------------------------\n",
      "|\"CUSTOMER_ID\"  |\"DATE\"      |\"ORDER_ID\"  |\"TRUCK_ID\"  |\"ORDER_TS\"           |\"ORDER_DETAIL_ID\"  |\"LINE_NUMBER\"  |\"TRUCK_BRAND_NAME\"    |\"MENU_TYPE\"     |\"PRIMARY_CITY\"  |\"REGION\"                 |\"FRANCHISE_FLAG\"  |\"FRANCHISE_ID\"  |\"FRANCHISEE_FIRST_NAME\"  |\"FRANCHISEE_LAST_NAME\"  |\"LOCATION_ID\"  |\"PLACEKEY\"           |\"LOCATION_NAME\"                                     |\"TOP_CATEGORY\"                                      |\"SUB_CATEGORY\"                                     |\"LATITUDE\"  |\"LONGITUDE\"  |\"MENU_ITEM_ID\"  |\"MENU_ITEM_NAME\"        |\"QUANTITY\"  |\"UNIT_PRICE\"  |\"PRICE\"  |\"ORDER_AMOUNT\"  |\"ORDER_TAX_AMOUNT\"  |\"ORDER_DISCOUNT_AMOUNT\"  |\"ORDER_TOTAL\"  |\"FIRST_NAME\"  |\"LAST_NAME\"  |\"CITY\"          |\"COUNTRY\"      |\"POSTAL_CODE\"  |\"PREFERRED_LANGUAGE\"  |\"GENDER\"  |\"FAVOURITE_BRAND\"  |\"MARITAL_STATUS\"    |\"CHILDREN_COUNT\"  |\"SIGN_UP_DATE\"  |\"BIRTHDAY_DATE\"  |\"E_MAIL\"                           |\"PHONE_NUMBER\"  |\n",
      "---------------------------------------------------------------------------------------------------------------------------------------------------------------------------------------------------------------------------------------------------------------------------------------------------------------------------------------------------------------------------------------------------------------------------------------------------------------------------------------------------------------------------------------------------------------------------------------------------------------------------------------------------------------------------------------------------------------------------------------------------------------------------------------------------------------------------------------------------------------------------------------------------------------------------------------------------------------\n",
      "|91159          |2020-12-18  |453175201   |42          |2020-12-18 16:55:05  |887340437          |0              |Cheeky Greek          |Gyros           |Seattle         |Washington               |1                 |35              |Jennifer                 |Fuentes                 |15108          |zzz-222@5x4-4xn-3kf  |Arroyo Heights                                      |Museums, Historical Sites, and Similar Institut...  |Nature Parks and Other Similar Institutions        |47.504649   |-122.384321  |121             |The King Combo          |1           |20.0000       |20.0000  |89.0000         |NULL                |NULL                     |89.0000        |Mylie         |Hooper       |Seattle         |United States  |98117          |English               |Female    |NULL               |Married             |4                 |2020-11-25      |2003-01-23       |Mylie.Hooper@gmail.com             |530-034-4974    |\n",
      "|67416          |2022-08-11  |25485239    |91          |2022-08-11 19:24:58  |69080946           |0              |Freezing Point        |Ice Cream       |Vancouver       |British Columbia         |1                 |70              |John                     |Perez                   |1107           |222-222@5x6-prs-7bk  |Tactical Training Centre                            |Justice, Public Order, and Safety Activities        |Police Protection                                  |49.266806   |-123.07999   |13              |Two Scoop Bowl          |1           |7.0000        |7.0000   |7.0000          |NULL                |NULL                     |7.0000         |Neveah        |Petersen     |Vancouver       |Canada         |V5K 1H9        |English               |Female    |NULL               |Single              |0                 |2020-10-10      |1976-06-07       |Neveah.Petersen@hotmail.com        |683-279-3721    |\n",
      "|14846          |2022-02-18  |17480711    |78          |2022-02-18 18:33:26  |47437541           |0              |Guac n' Roll          |Tacos           |Toronto         |Ontario                  |0                 |1               |Corporate                |Owned                   |1892           |224-224@665-zd7-vmk  |The KIN Studio                                      |Other Amusement and Recreation Industries           |Fitness and Recreational Sports Centers            |43.688786   |-79.391935   |32              |Three Taco Combo Plate  |1           |11.0000       |11.0000  |75.5000         |NULL                |NULL                     |75.5000        |Agustin       |Buckley      |Toronto         |Canada         |M4C 1X6        |English               |Female    |NULL               |Single              |0                 |2022-01-18      |1959-04-24       |Agustin.Buckley@aol.com            |731-282-9600    |\n",
      "|21910          |2022-04-23  |390016277   |373         |2022-04-23 16:42:31  |715401985          |0              |Peking Truck          |Chinese         |Hamburg         |Hamburg                  |1                 |273             |John                     |Hunter                  |14528          |zzy-24f@529-24g-yqf  |Studium Downunder                                   |Colleges, Universities, and Professional Schools    |Colleges, Universities, and Professional Schools   |53.552432   |10.001964    |136             |Ice Tea                 |1           |3.0000        |3.0000   |56.0000         |NULL                |NULL                     |56.0000        |Taliyah       |Santos       |Hamburg         |Germany        |21129          |German                |Male      |NULL               |Married             |4                 |2021-01-03      |1999-05-11       |Taliyah.Santos@gmail.com           |332-670-0243    |\n",
      "|219501         |2022-01-02  |419550287   |435         |2022-01-02 12:57:20  |795821369          |0              |Better Off Bread      |Sandwiches      |Cairo           |Cairo Governorate        |1                 |325             |Adam                     |Carter                  |6473           |zzy-222@7vy-ttp-2zf  |Western Union                                       |Activities Related to Credit Intermediation         |Other Activities Related to Credit Intermediation  |30.121554   |31.583374    |152             |Pastrami                |1           |11.0000       |11.0000  |11.0000         |NULL                |NULL                     |11.0000        |Willow        |Benson       |Cairo           |Egypt          |00000          |Arabic                |Male      |NULL               |Divorced/Seperated  |2                 |2019-02-19      |1962-12-11       |**~MASKED~**.**~MASKED~**@msn.com  |111-111-1111    |\n",
      "|129411         |2020-04-26  |55685830    |191         |2020-04-26 09:12:40  |150484457          |0              |Revenge of the Curds  |Poutine         |Warsaw          |Mazowieckie województwo  |1                 |139             |Michelle                 |Allen                   |11261          |zzy-227@52w-bhb-vpv  |Zaklad Elektromechanika Elektronika Bek Mieczyslaw  |Personal and Household Goods Repair and Mainten...  |Appliance Repair and Maintenance                   |52.248284   |21.057846    |112             |Mothers Favorite        |3           |12.0000       |36.0000  |72.0000         |NULL                |NULL                     |72.0000        |Jackson       |Henson       |Warsaw          |Poland         |00-061         |Polish                |Female    |NULL               |Undisclosed         |Undisclosed       |2019-03-16      |1981-05-27       |Jackson.Henson@hotmail.com         |079-358-7974    |\n",
      "|42672          |2020-10-27  |392922056   |380         |2020-10-27 19:45:11  |723342613          |0              |Kitakata Ramen Bar    |Ramen           |Stockholm       |Stockholm, län           |1                 |276             |Christopher              |Sutton                  |13596          |zzy-22r@ayt-gjt-t9z  |Kratz Steve                                         |Other Amusement and Recreation Industries           |All Other Amusement and Recreation Industries      |59.346563   |18.044796    |51              |Creamy Chicken Ramen    |2           |17.2500       |34.5000  |57.7500         |NULL                |NULL                     |57.7500        |Joy           |Martinez     |Stockholm       |Sweden         |6206           |Swedish               |Female    |NULL               |Married             |2                 |2021-06-25      |1963-01-16       |Joy.Martinez@aol.com               |623-390-0004    |\n",
      "|2237           |2021-11-10  |361297431   |327         |2021-11-10 21:30:12  |637117555          |0              |Cheeky Greek          |Gyros           |Rio de Janeiro  |Rio de Janeiro, estado   |1                 |244             |Trevor                   |Hopkins                 |7258           |zzy-222@kjj-2j2-zpv  |Nex Coworking Rio                                   |Lessors of Real Estate                              |Lessors of Other Real Estate Property              |-22.921881  |-43.176208   |122             |Gyro Plate              |1           |12.0000       |12.0000  |12.0000         |NULL                |NULL                     |12.0000        |Kelsie        |Hughes       |Rio de Janeiro  |Brazil         |22753-000      |Portuguese            |Male      |NULL               |Married             |2                 |2022-01-19      |1942-01-19       |Kelsie.Hughes@ymail.com            |696-718-0226    |\n",
      "|46654          |2020-01-02  |92902023    |246         |2020-01-02 21:50:28  |251035200          |0              |The Mega Melt         |Grilled Cheese  |Tokyo           |Kantō                    |1                 |181             |Edward                   |Clark                   |5420           |zzy-222@6hp-xw7-x5z  |Intimissimi                                         |Clothing Stores                                     |Women's Clothing Stores                            |35.660144   |139.697557   |61              |The Original            |1           |5.0000        |5.0000   |17.0000         |NULL                |NULL                     |17.0000        |Justice       |Guzman       |Tokyo           |Japan          |105-0000       |Japanese              |Female    |NULL               |Divorced/Seperated  |2                 |2021-05-09      |1957-02-13       |Justice.Guzman@aol.com             |375-016-8376    |\n",
      "|15847          |2020-01-19  |408677239   |413         |2020-01-19 20:13:42  |766448994          |0              |Le Coin des Crêpes    |Crepes          |Barcelona       |Barcelona provincia      |0                 |1               |Corporate                |Owned                   |9796           |zzy-224@7dx-w5h-hqz  |Jardins del Turo del Putget                         |Museums, Historical Sites, and Similar Institut...  |Nature Parks and Other Similar Institutions        |41.407991   |2.143455     |82              |Chicken Pot Pie Crepe   |1           |15.0000       |15.0000  |15.0000         |NULL                |NULL                     |15.0000        |Emmalee       |Andrade      |Barcelona       |Spain          |08013          |English               |Male      |NULL               |Single              |0                 |2021-06-12      |1971-10-31       |Emmalee.Andrade@hotmail.com        |528-804-9456    |\n",
      "---------------------------------------------------------------------------------------------------------------------------------------------------------------------------------------------------------------------------------------------------------------------------------------------------------------------------------------------------------------------------------------------------------------------------------------------------------------------------------------------------------------------------------------------------------------------------------------------------------------------------------------------------------------------------------------------------------------------------------------------------------------------------------------------------------------------------------------------------------------------------------------------------------------------------------------------------------------\n",
      "\n"
     ]
    }
   ],
   "source": [
    "#Remove duplicate order ids\n",
    "remove_dup = loyal_customer_orders.dropDuplicates(['ORDER_ID'])\n",
    "remove_dup.show()"
   ]
  },
  {
   "attachments": {},
   "cell_type": "markdown",
   "id": "a4bf5f70",
   "metadata": {},
   "source": [
    "# 3. Data Engineering"
   ]
  },
  {
   "attachments": {},
   "cell_type": "markdown",
   "id": "acef3504",
   "metadata": {},
   "source": [
    "## 3.1 Generate new Columns"
   ]
  },
  {
   "attachments": {},
   "cell_type": "markdown",
   "id": "c3465838",
   "metadata": {},
   "source": [
    "### 3.1.1 Get Latest Order Date"
   ]
  },
  {
   "cell_type": "code",
   "execution_count": 13,
   "id": "60b18852",
   "metadata": {},
   "outputs": [],
   "source": [
    "# called `orders` with columns `customer_id` and `order_ts`\n",
    "window_spec = Window.partitionBy('customer_id').orderBy(F.col('order_ts').desc())\n",
    "\n",
    "orders_with_rank = remove_dup.withColumn('rank', F.rank().over(window_spec))\n",
    "\n",
    "#Get max order of each customer\n",
    "max_order_ts = orders_with_rank.filter(F.col('rank') == 1).select('customer_id', 'order_ts')\n",
    "\n",
    "#Get second max order of each customer\n",
    "second_max_order_ts = orders_with_rank.filter(F.col('rank') == 2).select('customer_id', 'order_ts')\n"
   ]
  },
  {
   "cell_type": "code",
   "execution_count": 14,
   "id": "cbaa607a",
   "metadata": {},
   "outputs": [],
   "source": [
    "#Rename columns\n",
    "second_max_order_ts = second_max_order_ts.withColumnRenamed('ORDER_TS','2ndMax_Order_TS')\n",
    "max_order_ts = max_order_ts.withColumnRenamed('ORDER_TS','Max_Order_TS')"
   ]
  },
  {
   "cell_type": "code",
   "execution_count": 15,
   "id": "122d9f7e",
   "metadata": {},
   "outputs": [],
   "source": [
    "#Merge with second max order dataframe\n",
    "temp_df=remove_dup.join(right=second_max_order_ts,on='CUSTOMER_ID',how='inner')\n",
    "\n",
    "#Filter out last purchase\n",
    "filtered_df = temp_df.filter(F.col('ORDER_TS') <= F.col('2ndMax_Order_TS'))"
   ]
  },
  {
   "cell_type": "code",
   "execution_count": 16,
   "id": "5a5a5ebe",
   "metadata": {},
   "outputs": [
    {
     "name": "stdout",
     "output_type": "stream",
     "text": [
      "-----------------------\n",
      "|\"MAX(\"\"ORDER_TS\"\")\"  |\n",
      "-----------------------\n",
      "|2022-11-01 22:59:59  |\n",
      "-----------------------\n",
      "\n"
     ]
    }
   ],
   "source": [
    "#Display last purchase\n",
    "tasty_bytes_orders_v.select(F.max('ORDER_TS')).show()"
   ]
  },
  {
   "attachments": {},
   "cell_type": "markdown",
   "id": "45012b5c",
   "metadata": {},
   "source": [
    "### 3.1.2 RFM (Rececny, Freqency, Monetary)"
   ]
  },
  {
   "cell_type": "code",
   "execution_count": 17,
   "id": "476754b5",
   "metadata": {},
   "outputs": [],
   "source": [
    "#Get last purchase date as a variable\n",
    "lastdate=tasty_bytes_orders_v.select(F.max('ORDER_TS')).first()[0]\n",
    "\n",
    "# Recency\n",
    "recency = filtered_df.groupBy('CUSTOMER_ID').agg(F.max('ORDER_TS').alias('ORDER_TS'))\n",
    "recency = recency.withColumn('RECENCY', F.datediff(col1=F.col('ORDER_TS'), col2=F.lit(lastdate),part='day'))\n",
    "\n",
    "# Frequency\n",
    "frequency = filtered_df.groupBy('CUSTOMER_ID').agg(F.countDistinct('ORDER_ID').alias('frequency'))\n",
    "\n",
    "# Monetary\n",
    "monetary = filtered_df.groupBy('CUSTOMER_ID').agg(F.sum('ORDER_TOTAL').alias('monetary'))\n",
    "\n",
    "# Merge into RFM table\n",
    "RFM_table = recency.join(frequency, on='CUSTOMER_ID', how='inner')\n",
    "RFM_table = RFM_table.join(monetary, on='CUSTOMER_ID', how='inner')"
   ]
  },
  {
   "attachments": {},
   "cell_type": "markdown",
   "id": "18d6061f",
   "metadata": {},
   "source": [
    "### 3.1.3 Average Time Difference, Max and Min Days without Purchase"
   ]
  },
  {
   "cell_type": "code",
   "execution_count": 18,
   "id": "419b542d",
   "metadata": {},
   "outputs": [],
   "source": [
    "# Define a window partitioned by customer and menu item, ordered by date\n",
    "window_spec = Window.partitionBy(\"CUSTOMER_ID\").orderBy(\"DATE\")\n",
    "\n",
    "# Add a column with the date of the prior order for each customer and menu item\n",
    "orders_df = filtered_df.withColumn(\"DAYS_SINCE_PRIOR_ORDER\", F.lag(\"DATE\").over(window_spec))\n",
    "\n",
    "# Calculate the number of days between the prior order and the current order for each customer and menu item\n",
    "orders_df = orders_df.withColumn(\"DAYS_SINCE_PRIOR_ORDER\", F.datediff(col1=\"DAYS_SINCE_PRIOR_ORDER\", col2=\"DATE\",part='day'))\n",
    "orders_df = orders_df.na.drop(subset=[\"DAYS_SINCE_PRIOR_ORDER\"])\n",
    "\n",
    "#Calculate the average purchase time difference for each customer\n",
    "avg_time_diff=orders_df.group_by('CUSTOMER_ID').agg(F.round(F.avg('DAYS_SINCE_PRIOR_ORDER'),0).alias('Avg_Days_Between_Purchase'))\n",
    "\n",
    "# Max Days without Purchase\n",
    "max_days=orders_df.group_by('CUSTOMER_ID').agg(F.max('DAYS_SINCE_PRIOR_ORDER').alias('Max_Days_Without_Purchase'))\n",
    "\n",
    "# Min Days without Purchase\n",
    "min_days=orders_df.group_by('CUSTOMER_ID').agg(F.min('DAYS_SINCE_PRIOR_ORDER').alias('Min_Days_Without_Purchase'))"
   ]
  },
  {
   "attachments": {},
   "cell_type": "markdown",
   "id": "883f6e7a",
   "metadata": {},
   "source": [
    "### 3.1.4 Age"
   ]
  },
  {
   "cell_type": "code",
   "execution_count": 19,
   "id": "973cd550",
   "metadata": {},
   "outputs": [
    {
     "name": "stdout",
     "output_type": "stream",
     "text": [
      "--------------------------------------------------------------------------------------------\n",
      "|\"CUSTOMER_ID\"  |\"BIRTHDAY_DATE\"  |\"GENDER\"     |\"MARITAL_STATUS\"  |\"COUNTRY\"      |\"AGE\"  |\n",
      "--------------------------------------------------------------------------------------------\n",
      "|66             |1982-11-24       |Male         |Married           |Canada         |40     |\n",
      "|118            |1988-06-13       |Male         |Single            |United States  |34     |\n",
      "|131            |1984-12-29       |Male         |Single            |Canada         |38     |\n",
      "|132            |1981-04-30       |Male         |Single            |Canada         |41     |\n",
      "|171            |1987-08-06       |Male         |Single            |Canada         |35     |\n",
      "|189            |1984-03-05       |Undisclosed  |Married           |United States  |38     |\n",
      "|195            |1987-08-17       |Female       |Single            |Canada         |35     |\n",
      "|204            |1979-06-25       |Male         |Undisclosed       |United States  |43     |\n",
      "|42             |1966-06-28       |Undisclosed  |Single            |United States  |56     |\n",
      "|59             |1961-06-05       |Male         |Married           |United States  |61     |\n",
      "--------------------------------------------------------------------------------------------\n",
      "\n"
     ]
    }
   ],
   "source": [
    "#Get Customer demographic\n",
    "cust_demo=tasty_bytes_customer_loyalty.select('CUSTOMER_ID','BIRTHDAY_DATE','GENDER','MARITAL_STATUS','COUNTRY')\n",
    "\n",
    "# get AGE variable\n",
    "cust_demo = cust_demo.withColumn(\"AGE\", F.datediff('year', F.col(\"BIRTHDAY_DATE\"),F.lit(lastdate)))\n",
    "\n",
    "cust_demo.show()\n"
   ]
  },
  {
   "attachments": {},
   "cell_type": "markdown",
   "id": "776061f6",
   "metadata": {},
   "source": [
    "### 3.1.5 Join Generated Variables"
   ]
  },
  {
   "cell_type": "code",
   "execution_count": 20,
   "id": "95506e69",
   "metadata": {},
   "outputs": [],
   "source": [
    "#Merge to get final dataframe\n",
    "final_df = RFM_table.join(max_order_ts, on='CUSTOMER_ID', how='inner')\n",
    "final_df = final_df.join(avg_time_diff, on='CUSTOMER_ID', how='inner')\n",
    "final_df = final_df.join(max_days, on='CUSTOMER_ID', how='inner')\n",
    "final_df = final_df.join(min_days, on='CUSTOMER_ID', how='inner')\n",
    "final_df = final_df.join(cust_demo,on='CUSTOMER_ID',how='inner')"
   ]
  },
  {
   "attachments": {},
   "cell_type": "markdown",
   "id": "d3525c1d",
   "metadata": {},
   "source": [
    "### 3.1.6 Days to Next Order"
   ]
  },
  {
   "cell_type": "code",
   "execution_count": 21,
   "id": "84f3adc1",
   "metadata": {},
   "outputs": [],
   "source": [
    "#Convert timestamp to date such that Days to next orders is more accurate\n",
    "final_df=final_df.with_column('ORDER_TS',F.to_date(F.col('ORDER_TS')))\n",
    "final_df=final_df.with_column('MAX_ORDER_TS',F.to_date(F.col('MAX_ORDER_TS')))"
   ]
  },
  {
   "cell_type": "code",
   "execution_count": 22,
   "id": "0d284939",
   "metadata": {},
   "outputs": [],
   "source": [
    "#Add Days To Next Order\n",
    "final_df = final_df.withColumn('Days_To_Next_Order', F.datediff(col1=final_df['ORDER_TS'], col2=final_df['MAX_ORDER_TS'],part='day'))\n",
    "#final_df['Days_To_Next_Order']=(final_df['MAX_ORDER_TS']-final_df['ORDER_TS']).dt.days"
   ]
  },
  {
   "cell_type": "code",
   "execution_count": 23,
   "id": "9c56d0a9",
   "metadata": {},
   "outputs": [
    {
     "name": "stdout",
     "output_type": "stream",
     "text": [
      "------------------------------------\n",
      "|\"MEDIAN(\"\"DAYS_TO_NEXT_ORDER\"\")\"  |\n",
      "------------------------------------\n",
      "|9.000                             |\n",
      "------------------------------------\n",
      "\n"
     ]
    }
   ],
   "source": [
    "#Get median of Days to next order\n",
    "final_df.select(F.median('DAYS_TO_NEXT_ORDER')).show()"
   ]
  },
  {
   "attachments": {},
   "cell_type": "markdown",
   "id": "ee432710",
   "metadata": {},
   "source": [
    "*We'll create a target variable based on whether customers purchase below or above the median number of days since their prior order. 'Not churn' will indicate purchases below the median, while 'Churn' will represent purchases above the median. This helps identify customers for retention strategies and predicts their engagement with our business."
   ]
  },
  {
   "attachments": {},
   "cell_type": "markdown",
   "id": "5d89694c",
   "metadata": {},
   "source": [
    "### 3.1.7 Filter to selected Country"
   ]
  },
  {
   "cell_type": "code",
   "execution_count": 24,
   "id": "8f8692f7",
   "metadata": {},
   "outputs": [],
   "source": [
    "#Filter to United States\n",
    "final_df=final_df.filter(F.col('COUNTRY')=='United States')"
   ]
  },
  {
   "cell_type": "code",
   "execution_count": 25,
   "id": "c4d31ac2",
   "metadata": {},
   "outputs": [],
   "source": [
    "#Convert to pandas\n",
    "final_df=final_df.to_pandas()"
   ]
  },
  {
   "cell_type": "code",
   "execution_count": 26,
   "id": "0f60a6dc",
   "metadata": {},
   "outputs": [
    {
     "data": {
      "text/html": [
       "<div>\n",
       "<style scoped>\n",
       "    .dataframe tbody tr th:only-of-type {\n",
       "        vertical-align: middle;\n",
       "    }\n",
       "\n",
       "    .dataframe tbody tr th {\n",
       "        vertical-align: top;\n",
       "    }\n",
       "\n",
       "    .dataframe thead th {\n",
       "        text-align: right;\n",
       "    }\n",
       "</style>\n",
       "<table border=\"1\" class=\"dataframe\">\n",
       "  <thead>\n",
       "    <tr style=\"text-align: right;\">\n",
       "      <th></th>\n",
       "      <th>CUSTOMER_ID</th>\n",
       "      <th>RECENCY</th>\n",
       "      <th>FREQUENCY</th>\n",
       "      <th>MONETARY</th>\n",
       "      <th>AVG_DAYS_BETWEEN_PURCHASE</th>\n",
       "      <th>MAX_DAYS_WITHOUT_PURCHASE</th>\n",
       "      <th>MIN_DAYS_WITHOUT_PURCHASE</th>\n",
       "      <th>BIRTHDAY_DATE</th>\n",
       "      <th>GENDER</th>\n",
       "      <th>MARITAL_STATUS</th>\n",
       "      <th>COUNTRY</th>\n",
       "      <th>AGE</th>\n",
       "      <th>ORDER_TS</th>\n",
       "      <th>MAX_ORDER_TS</th>\n",
       "      <th>DAYS_TO_NEXT_ORDER</th>\n",
       "    </tr>\n",
       "  </thead>\n",
       "  <tbody>\n",
       "    <tr>\n",
       "      <th>0</th>\n",
       "      <td>61792</td>\n",
       "      <td>31</td>\n",
       "      <td>27</td>\n",
       "      <td>1002.00</td>\n",
       "      <td>29</td>\n",
       "      <td>92</td>\n",
       "      <td>2</td>\n",
       "      <td>1997-12-11</td>\n",
       "      <td>Female</td>\n",
       "      <td>Undisclosed</td>\n",
       "      <td>United States</td>\n",
       "      <td>25</td>\n",
       "      <td>2022-10-01</td>\n",
       "      <td>2022-10-20</td>\n",
       "      <td>19</td>\n",
       "    </tr>\n",
       "    <tr>\n",
       "      <th>1</th>\n",
       "      <td>141268</td>\n",
       "      <td>4</td>\n",
       "      <td>54</td>\n",
       "      <td>1902.75</td>\n",
       "      <td>19</td>\n",
       "      <td>95</td>\n",
       "      <td>1</td>\n",
       "      <td>1943-09-13</td>\n",
       "      <td>Female</td>\n",
       "      <td>Divorced/Seperated</td>\n",
       "      <td>United States</td>\n",
       "      <td>79</td>\n",
       "      <td>2022-10-28</td>\n",
       "      <td>2022-10-29</td>\n",
       "      <td>1</td>\n",
       "    </tr>\n",
       "    <tr>\n",
       "      <th>2</th>\n",
       "      <td>145521</td>\n",
       "      <td>7</td>\n",
       "      <td>54</td>\n",
       "      <td>2156.75</td>\n",
       "      <td>19</td>\n",
       "      <td>111</td>\n",
       "      <td>1</td>\n",
       "      <td>2001-02-22</td>\n",
       "      <td>Male</td>\n",
       "      <td>Married</td>\n",
       "      <td>United States</td>\n",
       "      <td>21</td>\n",
       "      <td>2022-10-25</td>\n",
       "      <td>2022-10-29</td>\n",
       "      <td>4</td>\n",
       "    </tr>\n",
       "    <tr>\n",
       "      <th>3</th>\n",
       "      <td>100865</td>\n",
       "      <td>21</td>\n",
       "      <td>54</td>\n",
       "      <td>2195.50</td>\n",
       "      <td>24</td>\n",
       "      <td>143</td>\n",
       "      <td>1</td>\n",
       "      <td>1954-04-26</td>\n",
       "      <td>Male</td>\n",
       "      <td>Single</td>\n",
       "      <td>United States</td>\n",
       "      <td>68</td>\n",
       "      <td>2022-10-11</td>\n",
       "      <td>2022-10-17</td>\n",
       "      <td>6</td>\n",
       "    </tr>\n",
       "    <tr>\n",
       "      <th>4</th>\n",
       "      <td>177192</td>\n",
       "      <td>27</td>\n",
       "      <td>72</td>\n",
       "      <td>3094.25</td>\n",
       "      <td>18</td>\n",
       "      <td>92</td>\n",
       "      <td>1</td>\n",
       "      <td>1969-06-30</td>\n",
       "      <td>Male</td>\n",
       "      <td>Married</td>\n",
       "      <td>United States</td>\n",
       "      <td>53</td>\n",
       "      <td>2022-10-05</td>\n",
       "      <td>2022-11-01</td>\n",
       "      <td>27</td>\n",
       "    </tr>\n",
       "    <tr>\n",
       "      <th>...</th>\n",
       "      <td>...</td>\n",
       "      <td>...</td>\n",
       "      <td>...</td>\n",
       "      <td>...</td>\n",
       "      <td>...</td>\n",
       "      <td>...</td>\n",
       "      <td>...</td>\n",
       "      <td>...</td>\n",
       "      <td>...</td>\n",
       "      <td>...</td>\n",
       "      <td>...</td>\n",
       "      <td>...</td>\n",
       "      <td>...</td>\n",
       "      <td>...</td>\n",
       "      <td>...</td>\n",
       "    </tr>\n",
       "    <tr>\n",
       "      <th>46295</th>\n",
       "      <td>191946</td>\n",
       "      <td>11</td>\n",
       "      <td>58</td>\n",
       "      <td>2115.50</td>\n",
       "      <td>23</td>\n",
       "      <td>220</td>\n",
       "      <td>1</td>\n",
       "      <td>1963-08-09</td>\n",
       "      <td>Male</td>\n",
       "      <td>Single</td>\n",
       "      <td>United States</td>\n",
       "      <td>59</td>\n",
       "      <td>2022-10-21</td>\n",
       "      <td>2022-10-24</td>\n",
       "      <td>3</td>\n",
       "    </tr>\n",
       "    <tr>\n",
       "      <th>46296</th>\n",
       "      <td>148021</td>\n",
       "      <td>11</td>\n",
       "      <td>49</td>\n",
       "      <td>1967.50</td>\n",
       "      <td>21</td>\n",
       "      <td>171</td>\n",
       "      <td>1</td>\n",
       "      <td>1950-01-14</td>\n",
       "      <td>Male</td>\n",
       "      <td>Married</td>\n",
       "      <td>United States</td>\n",
       "      <td>72</td>\n",
       "      <td>2022-10-21</td>\n",
       "      <td>2022-10-25</td>\n",
       "      <td>4</td>\n",
       "    </tr>\n",
       "    <tr>\n",
       "      <th>46297</th>\n",
       "      <td>137544</td>\n",
       "      <td>2</td>\n",
       "      <td>54</td>\n",
       "      <td>2236.75</td>\n",
       "      <td>21</td>\n",
       "      <td>100</td>\n",
       "      <td>1</td>\n",
       "      <td>1947-01-12</td>\n",
       "      <td>Male</td>\n",
       "      <td>Divorced/Seperated</td>\n",
       "      <td>United States</td>\n",
       "      <td>75</td>\n",
       "      <td>2022-10-30</td>\n",
       "      <td>2022-10-31</td>\n",
       "      <td>1</td>\n",
       "    </tr>\n",
       "    <tr>\n",
       "      <th>46298</th>\n",
       "      <td>125450</td>\n",
       "      <td>9</td>\n",
       "      <td>47</td>\n",
       "      <td>1848.75</td>\n",
       "      <td>24</td>\n",
       "      <td>163</td>\n",
       "      <td>1</td>\n",
       "      <td>1999-04-11</td>\n",
       "      <td>Undisclosed</td>\n",
       "      <td>Married</td>\n",
       "      <td>United States</td>\n",
       "      <td>23</td>\n",
       "      <td>2022-10-23</td>\n",
       "      <td>2022-10-30</td>\n",
       "      <td>7</td>\n",
       "    </tr>\n",
       "    <tr>\n",
       "      <th>46299</th>\n",
       "      <td>84853</td>\n",
       "      <td>3</td>\n",
       "      <td>59</td>\n",
       "      <td>2338.00</td>\n",
       "      <td>22</td>\n",
       "      <td>130</td>\n",
       "      <td>1</td>\n",
       "      <td>1943-01-28</td>\n",
       "      <td>Male</td>\n",
       "      <td>Undisclosed</td>\n",
       "      <td>United States</td>\n",
       "      <td>79</td>\n",
       "      <td>2022-10-29</td>\n",
       "      <td>2022-10-30</td>\n",
       "      <td>1</td>\n",
       "    </tr>\n",
       "  </tbody>\n",
       "</table>\n",
       "<p>46300 rows × 15 columns</p>\n",
       "</div>"
      ],
      "text/plain": [
       "       CUSTOMER_ID  RECENCY  FREQUENCY  MONETARY  AVG_DAYS_BETWEEN_PURCHASE  \\\n",
       "0            61792       31         27   1002.00                         29   \n",
       "1           141268        4         54   1902.75                         19   \n",
       "2           145521        7         54   2156.75                         19   \n",
       "3           100865       21         54   2195.50                         24   \n",
       "4           177192       27         72   3094.25                         18   \n",
       "...            ...      ...        ...       ...                        ...   \n",
       "46295       191946       11         58   2115.50                         23   \n",
       "46296       148021       11         49   1967.50                         21   \n",
       "46297       137544        2         54   2236.75                         21   \n",
       "46298       125450        9         47   1848.75                         24   \n",
       "46299        84853        3         59   2338.00                         22   \n",
       "\n",
       "       MAX_DAYS_WITHOUT_PURCHASE  MIN_DAYS_WITHOUT_PURCHASE BIRTHDAY_DATE  \\\n",
       "0                             92                          2    1997-12-11   \n",
       "1                             95                          1    1943-09-13   \n",
       "2                            111                          1    2001-02-22   \n",
       "3                            143                          1    1954-04-26   \n",
       "4                             92                          1    1969-06-30   \n",
       "...                          ...                        ...           ...   \n",
       "46295                        220                          1    1963-08-09   \n",
       "46296                        171                          1    1950-01-14   \n",
       "46297                        100                          1    1947-01-12   \n",
       "46298                        163                          1    1999-04-11   \n",
       "46299                        130                          1    1943-01-28   \n",
       "\n",
       "            GENDER      MARITAL_STATUS        COUNTRY  AGE    ORDER_TS  \\\n",
       "0           Female         Undisclosed  United States   25  2022-10-01   \n",
       "1           Female  Divorced/Seperated  United States   79  2022-10-28   \n",
       "2             Male             Married  United States   21  2022-10-25   \n",
       "3             Male              Single  United States   68  2022-10-11   \n",
       "4             Male             Married  United States   53  2022-10-05   \n",
       "...            ...                 ...            ...  ...         ...   \n",
       "46295         Male              Single  United States   59  2022-10-21   \n",
       "46296         Male             Married  United States   72  2022-10-21   \n",
       "46297         Male  Divorced/Seperated  United States   75  2022-10-30   \n",
       "46298  Undisclosed             Married  United States   23  2022-10-23   \n",
       "46299         Male         Undisclosed  United States   79  2022-10-29   \n",
       "\n",
       "      MAX_ORDER_TS  DAYS_TO_NEXT_ORDER  \n",
       "0       2022-10-20                  19  \n",
       "1       2022-10-29                   1  \n",
       "2       2022-10-29                   4  \n",
       "3       2022-10-17                   6  \n",
       "4       2022-11-01                  27  \n",
       "...            ...                 ...  \n",
       "46295   2022-10-24                   3  \n",
       "46296   2022-10-25                   4  \n",
       "46297   2022-10-31                   1  \n",
       "46298   2022-10-30                   7  \n",
       "46299   2022-10-30                   1  \n",
       "\n",
       "[46300 rows x 15 columns]"
      ]
     },
     "execution_count": 26,
     "metadata": {},
     "output_type": "execute_result"
    }
   ],
   "source": [
    "final_df"
   ]
  },
  {
   "attachments": {},
   "cell_type": "markdown",
   "id": "40dc4f32",
   "metadata": {},
   "source": [
    "## 3.2 Outlier Handling"
   ]
  },
  {
   "attachments": {},
   "cell_type": "markdown",
   "id": "ad627369",
   "metadata": {},
   "source": [
    "### 3.2.1 Identify Numericals"
   ]
  },
  {
   "cell_type": "code",
   "execution_count": 149,
   "id": "be573be5",
   "metadata": {},
   "outputs": [],
   "source": [
    "num_cols=final_df.select_dtypes(exclude=['object','datetime64[ns]']).columns.drop('CUSTOMER_ID')"
   ]
  },
  {
   "attachments": {},
   "cell_type": "markdown",
   "id": "75663bb9",
   "metadata": {},
   "source": [
    "### 3.2.2 Visualise Outliers"
   ]
  },
  {
   "cell_type": "code",
   "execution_count": 150,
   "id": "96846112",
   "metadata": {},
   "outputs": [
    {
     "data": {
      "image/png": "[encoded data removed]",
      "text/plain": [
       "<Figure size 640x480 with 1 Axes>"
      ]
     },
     "metadata": {},
     "output_type": "display_data"
    },
    {
     "data": {
      "image/png": "[encoded data removed]",
      "text/plain": [
       "<Figure size 640x480 with 1 Axes>"
      ]
     },
     "metadata": {},
     "output_type": "display_data"
    },
    {
     "data": {
      "image/png": "[encoded data removed]",
      "text/plain": [
       "<Figure size 640x480 with 1 Axes>"
      ]
     },
     "metadata": {},
     "output_type": "display_data"
    },
    {
     "data": {
      "image/png": "[encoded data removed]",
      "text/plain": [
       "<Figure size 640x480 with 1 Axes>"
      ]
     },
     "metadata": {},
     "output_type": "display_data"
    },
    {
     "data": {
      "image/png": "[encoded data removed]",
      "text/plain": [
       "<Figure size 640x480 with 1 Axes>"
      ]
     },
     "metadata": {},
     "output_type": "display_data"
    },
    {
     "data": {
      "image/png": "[encoded data removed]",
      "text/plain": [
       "<Figure size 640x480 with 1 Axes>"
      ]
     },
     "metadata": {},
     "output_type": "display_data"
    },
    {
     "data": {
      "image/png": "[encoded data removed]",
      "text/plain": [
       "<Figure size 640x480 with 1 Axes>"
      ]
     },
     "metadata": {},
     "output_type": "display_data"
    },
    {
     "data": {
      "image/png": "[encoded data removed]",
      "text/plain": [
       "<Figure size 640x480 with 1 Axes>"
      ]
     },
     "metadata": {},
     "output_type": "display_data"
    },
    {
     "data": {
      "image/png": "[encoded data removed]",
      "text/plain": [
       "<Figure size 640x480 with 1 Axes>"
      ]
     },
     "metadata": {},
     "output_type": "display_data"
    }
   ],
   "source": [
    "for i in num_cols:\n",
    "    sns.boxplot(data=final_df,x=final_df[i])\n",
    "    plt.show()"
   ]
  },
  {
   "attachments": {},
   "cell_type": "markdown",
   "id": "7ec9b939",
   "metadata": {},
   "source": [
    "### 3.2.3 Cap the Outliers"
   ]
  },
  {
   "attachments": {},
   "cell_type": "markdown",
   "id": "7bc0ed82",
   "metadata": {},
   "source": [
    "#### 3.2.3.1 Cap by IQR"
   ]
  },
  {
   "cell_type": "code",
   "execution_count": 151,
   "id": "aaeac27e",
   "metadata": {},
   "outputs": [
    {
     "data": {
      "text/html": [
       "<style>#sk-container-id-10 {color: black;background-color: white;}#sk-container-id-10 pre{padding: 0;}#sk-container-id-10 div.sk-toggleable {background-color: white;}#sk-container-id-10 label.sk-toggleable__label {cursor: pointer;display: block;width: 100%;margin-bottom: 0;padding: 0.3em;box-sizing: border-box;text-align: center;}#sk-container-id-10 label.sk-toggleable__label-arrow:before {content: \"▸\";float: left;margin-right: 0.25em;color: #696969;}#sk-container-id-10 label.sk-toggleable__label-arrow:hover:before {color: black;}#sk-container-id-10 div.sk-estimator:hover label.sk-toggleable__label-arrow:before {color: black;}#sk-container-id-10 div.sk-toggleable__content {max-height: 0;max-width: 0;overflow: hidden;text-align: left;background-color: #f0f8ff;}#sk-container-id-10 div.sk-toggleable__content pre {margin: 0.2em;color: black;border-radius: 0.25em;background-color: #f0f8ff;}#sk-container-id-10 input.sk-toggleable__control:checked~div.sk-toggleable__content {max-height: 200px;max-width: 100%;overflow: auto;}#sk-container-id-10 input.sk-toggleable__control:checked~label.sk-toggleable__label-arrow:before {content: \"▾\";}#sk-container-id-10 div.sk-estimator input.sk-toggleable__control:checked~label.sk-toggleable__label {background-color: #d4ebff;}#sk-container-id-10 div.sk-label input.sk-toggleable__control:checked~label.sk-toggleable__label {background-color: #d4ebff;}#sk-container-id-10 input.sk-hidden--visually {border: 0;clip: rect(1px 1px 1px 1px);clip: rect(1px, 1px, 1px, 1px);height: 1px;margin: -1px;overflow: hidden;padding: 0;position: absolute;width: 1px;}#sk-container-id-10 div.sk-estimator {font-family: monospace;background-color: #f0f8ff;border: 1px dotted black;border-radius: 0.25em;box-sizing: border-box;margin-bottom: 0.5em;}#sk-container-id-10 div.sk-estimator:hover {background-color: #d4ebff;}#sk-container-id-10 div.sk-parallel-item::after {content: \"\";width: 100%;border-bottom: 1px solid gray;flex-grow: 1;}#sk-container-id-10 div.sk-label:hover label.sk-toggleable__label {background-color: #d4ebff;}#sk-container-id-10 div.sk-serial::before {content: \"\";position: absolute;border-left: 1px solid gray;box-sizing: border-box;top: 0;bottom: 0;left: 50%;z-index: 0;}#sk-container-id-10 div.sk-serial {display: flex;flex-direction: column;align-items: center;background-color: white;padding-right: 0.2em;padding-left: 0.2em;position: relative;}#sk-container-id-10 div.sk-item {position: relative;z-index: 1;}#sk-container-id-10 div.sk-parallel {display: flex;align-items: stretch;justify-content: center;background-color: white;position: relative;}#sk-container-id-10 div.sk-item::before, #sk-container-id-10 div.sk-parallel-item::before {content: \"\";position: absolute;border-left: 1px solid gray;box-sizing: border-box;top: 0;bottom: 0;left: 50%;z-index: -1;}#sk-container-id-10 div.sk-parallel-item {display: flex;flex-direction: column;z-index: 1;position: relative;background-color: white;}#sk-container-id-10 div.sk-parallel-item:first-child::after {align-self: flex-end;width: 50%;}#sk-container-id-10 div.sk-parallel-item:last-child::after {align-self: flex-start;width: 50%;}#sk-container-id-10 div.sk-parallel-item:only-child::after {width: 0;}#sk-container-id-10 div.sk-dashed-wrapped {border: 1px dashed gray;margin: 0 0.4em 0.5em 0.4em;box-sizing: border-box;padding-bottom: 0.4em;background-color: white;}#sk-container-id-10 div.sk-label label {font-family: monospace;font-weight: bold;display: inline-block;line-height: 1.2em;}#sk-container-id-10 div.sk-label-container {text-align: center;}#sk-container-id-10 div.sk-container {/* jupyter's `normalize.less` sets `[hidden] { display: none; }` but bootstrap.min.css set `[hidden] { display: none !important; }` so we also need the `!important` here to be able to override the default hidden behavior on the sphinx rendered scikit-learn.org. See: https://github.com/scikit-learn/scikit-learn/issues/21755 */display: inline-block !important;position: relative;}#sk-container-id-10 div.sk-text-repr-fallback {display: none;}</style><div id=\"sk-container-id-10\" class=\"sk-top-container\"><div class=\"sk-text-repr-fallback\"><pre>Winsorizer(capping_method=&#x27;iqr&#x27;, tail=&#x27;both&#x27;,\n",
       "           variables=[&#x27;RECENCY&#x27;, &#x27;AVG_DAYS_BETWEEN_PURCHASE&#x27;,\n",
       "                      &#x27;MAX_DAYS_WITHOUT_PURCHASE&#x27;])</pre><b>In a Jupyter environment, please rerun this cell to show the HTML representation or trust the notebook. <br />On GitHub, the HTML representation is unable to render, please try loading this page with nbviewer.org.</b></div><div class=\"sk-container\" hidden><div class=\"sk-item\"><div class=\"sk-estimator sk-toggleable\"><input class=\"sk-toggleable__control sk-hidden--visually\" id=\"sk-estimator-id-10\" type=\"checkbox\" checked><label for=\"sk-estimator-id-10\" class=\"sk-toggleable__label sk-toggleable__label-arrow\">Winsorizer</label><div class=\"sk-toggleable__content\"><pre>Winsorizer(capping_method=&#x27;iqr&#x27;, tail=&#x27;both&#x27;,\n",
       "           variables=[&#x27;RECENCY&#x27;, &#x27;AVG_DAYS_BETWEEN_PURCHASE&#x27;,\n",
       "                      &#x27;MAX_DAYS_WITHOUT_PURCHASE&#x27;])</pre></div></div></div></div></div>"
      ],
      "text/plain": [
       "Winsorizer(capping_method='iqr', tail='both',\n",
       "           variables=['RECENCY', 'AVG_DAYS_BETWEEN_PURCHASE',\n",
       "                      'MAX_DAYS_WITHOUT_PURCHASE'])"
      ]
     },
     "execution_count": 151,
     "metadata": {},
     "output_type": "execute_result"
    }
   ],
   "source": [
    "# create the capper\n",
    "windsorizer = Winsorizer(capping_method='iqr', # choose iqr for skewed or gaussian for normal\n",
    "                          tail='both', # cap left, right or both tails \n",
    "                          fold=3,\n",
    "                          variables=['RECENCY','AVG_DAYS_BETWEEN_PURCHASE','MAX_DAYS_WITHOUT_PURCHASE'])\n",
    "\n",
    "windsorizer.fit(final_df)\n"
   ]
  },
  {
   "attachments": {},
   "cell_type": "markdown",
   "id": "67e82c39",
   "metadata": {},
   "source": [
    "*Note there is no point dealing with outliers in Days to next order as even when dealt with, the 50% mark stays the same, meaning no change to our target variable."
   ]
  },
  {
   "attachments": {},
   "cell_type": "markdown",
   "id": "053698fa",
   "metadata": {},
   "source": [
    "#### 3.2.3.1 Cap by Gaussian"
   ]
  },
  {
   "cell_type": "code",
   "execution_count": 152,
   "id": "cb29651f",
   "metadata": {},
   "outputs": [],
   "source": [
    "final_df_win = windsorizer.transform(final_df)"
   ]
  },
  {
   "cell_type": "code",
   "execution_count": 153,
   "id": "124422d9",
   "metadata": {},
   "outputs": [
    {
     "data": {
      "text/html": [
       "<style>#sk-container-id-11 {color: black;background-color: white;}#sk-container-id-11 pre{padding: 0;}#sk-container-id-11 div.sk-toggleable {background-color: white;}#sk-container-id-11 label.sk-toggleable__label {cursor: pointer;display: block;width: 100%;margin-bottom: 0;padding: 0.3em;box-sizing: border-box;text-align: center;}#sk-container-id-11 label.sk-toggleable__label-arrow:before {content: \"▸\";float: left;margin-right: 0.25em;color: #696969;}#sk-container-id-11 label.sk-toggleable__label-arrow:hover:before {color: black;}#sk-container-id-11 div.sk-estimator:hover label.sk-toggleable__label-arrow:before {color: black;}#sk-container-id-11 div.sk-toggleable__content {max-height: 0;max-width: 0;overflow: hidden;text-align: left;background-color: #f0f8ff;}#sk-container-id-11 div.sk-toggleable__content pre {margin: 0.2em;color: black;border-radius: 0.25em;background-color: #f0f8ff;}#sk-container-id-11 input.sk-toggleable__control:checked~div.sk-toggleable__content {max-height: 200px;max-width: 100%;overflow: auto;}#sk-container-id-11 input.sk-toggleable__control:checked~label.sk-toggleable__label-arrow:before {content: \"▾\";}#sk-container-id-11 div.sk-estimator input.sk-toggleable__control:checked~label.sk-toggleable__label {background-color: #d4ebff;}#sk-container-id-11 div.sk-label input.sk-toggleable__control:checked~label.sk-toggleable__label {background-color: #d4ebff;}#sk-container-id-11 input.sk-hidden--visually {border: 0;clip: rect(1px 1px 1px 1px);clip: rect(1px, 1px, 1px, 1px);height: 1px;margin: -1px;overflow: hidden;padding: 0;position: absolute;width: 1px;}#sk-container-id-11 div.sk-estimator {font-family: monospace;background-color: #f0f8ff;border: 1px dotted black;border-radius: 0.25em;box-sizing: border-box;margin-bottom: 0.5em;}#sk-container-id-11 div.sk-estimator:hover {background-color: #d4ebff;}#sk-container-id-11 div.sk-parallel-item::after {content: \"\";width: 100%;border-bottom: 1px solid gray;flex-grow: 1;}#sk-container-id-11 div.sk-label:hover label.sk-toggleable__label {background-color: #d4ebff;}#sk-container-id-11 div.sk-serial::before {content: \"\";position: absolute;border-left: 1px solid gray;box-sizing: border-box;top: 0;bottom: 0;left: 50%;z-index: 0;}#sk-container-id-11 div.sk-serial {display: flex;flex-direction: column;align-items: center;background-color: white;padding-right: 0.2em;padding-left: 0.2em;position: relative;}#sk-container-id-11 div.sk-item {position: relative;z-index: 1;}#sk-container-id-11 div.sk-parallel {display: flex;align-items: stretch;justify-content: center;background-color: white;position: relative;}#sk-container-id-11 div.sk-item::before, #sk-container-id-11 div.sk-parallel-item::before {content: \"\";position: absolute;border-left: 1px solid gray;box-sizing: border-box;top: 0;bottom: 0;left: 50%;z-index: -1;}#sk-container-id-11 div.sk-parallel-item {display: flex;flex-direction: column;z-index: 1;position: relative;background-color: white;}#sk-container-id-11 div.sk-parallel-item:first-child::after {align-self: flex-end;width: 50%;}#sk-container-id-11 div.sk-parallel-item:last-child::after {align-self: flex-start;width: 50%;}#sk-container-id-11 div.sk-parallel-item:only-child::after {width: 0;}#sk-container-id-11 div.sk-dashed-wrapped {border: 1px dashed gray;margin: 0 0.4em 0.5em 0.4em;box-sizing: border-box;padding-bottom: 0.4em;background-color: white;}#sk-container-id-11 div.sk-label label {font-family: monospace;font-weight: bold;display: inline-block;line-height: 1.2em;}#sk-container-id-11 div.sk-label-container {text-align: center;}#sk-container-id-11 div.sk-container {/* jupyter's `normalize.less` sets `[hidden] { display: none; }` but bootstrap.min.css set `[hidden] { display: none !important; }` so we also need the `!important` here to be able to override the default hidden behavior on the sphinx rendered scikit-learn.org. See: https://github.com/scikit-learn/scikit-learn/issues/21755 */display: inline-block !important;position: relative;}#sk-container-id-11 div.sk-text-repr-fallback {display: none;}</style><div id=\"sk-container-id-11\" class=\"sk-top-container\"><div class=\"sk-text-repr-fallback\"><pre>Winsorizer(tail=&#x27;both&#x27;, variables=[&#x27;FREQUENCY&#x27;, &#x27;RECENCY&#x27;])</pre><b>In a Jupyter environment, please rerun this cell to show the HTML representation or trust the notebook. <br />On GitHub, the HTML representation is unable to render, please try loading this page with nbviewer.org.</b></div><div class=\"sk-container\" hidden><div class=\"sk-item\"><div class=\"sk-estimator sk-toggleable\"><input class=\"sk-toggleable__control sk-hidden--visually\" id=\"sk-estimator-id-11\" type=\"checkbox\" checked><label for=\"sk-estimator-id-11\" class=\"sk-toggleable__label sk-toggleable__label-arrow\">Winsorizer</label><div class=\"sk-toggleable__content\"><pre>Winsorizer(tail=&#x27;both&#x27;, variables=[&#x27;FREQUENCY&#x27;, &#x27;RECENCY&#x27;])</pre></div></div></div></div></div>"
      ],
      "text/plain": [
       "Winsorizer(tail='both', variables=['FREQUENCY', 'RECENCY'])"
      ]
     },
     "execution_count": 153,
     "metadata": {},
     "output_type": "execute_result"
    }
   ],
   "source": [
    "# create the capper\n",
    "windsorizer = Winsorizer(capping_method='gaussian', # choose iqr for skewed or gaussian for normal\n",
    "                          tail='both', # cap left, right or both tails \n",
    "                          fold=3,\n",
    "                          variables=['FREQUENCY','RECENCY'])\n",
    "\n",
    "windsorizer.fit(final_df_win)"
   ]
  },
  {
   "cell_type": "code",
   "execution_count": 154,
   "id": "8da1c9cf",
   "metadata": {},
   "outputs": [],
   "source": [
    "final_df_win = windsorizer.transform(final_df_win)"
   ]
  },
  {
   "attachments": {},
   "cell_type": "markdown",
   "id": "638ca938",
   "metadata": {},
   "source": [
    "## 3.3 Numerical Transformation"
   ]
  },
  {
   "attachments": {},
   "cell_type": "markdown",
   "id": "13904889",
   "metadata": {},
   "source": [
    "### 3.3.1 Visualise Numericals"
   ]
  },
  {
   "cell_type": "code",
   "execution_count": 155,
   "id": "4d8e2343",
   "metadata": {},
   "outputs": [
    {
     "data": {
      "image/png": "[encoded data removed]",
      "text/plain": [
       "<Figure size 1200x1200 with 12 Axes>"
      ]
     },
     "metadata": {},
     "output_type": "display_data"
    }
   ],
   "source": [
    "# plot the histogram to inspect variable distributions (not in book)\n",
    "\n",
    "final_df_win.hist(bins=30, figsize=(12,12))\n",
    "plt.show()"
   ]
  },
  {
   "cell_type": "code",
   "execution_count": 156,
   "id": "e11026f2",
   "metadata": {},
   "outputs": [
    {
     "data": {
      "text/html": [
       "<style>#sk-container-id-12 {color: black;background-color: white;}#sk-container-id-12 pre{padding: 0;}#sk-container-id-12 div.sk-toggleable {background-color: white;}#sk-container-id-12 label.sk-toggleable__label {cursor: pointer;display: block;width: 100%;margin-bottom: 0;padding: 0.3em;box-sizing: border-box;text-align: center;}#sk-container-id-12 label.sk-toggleable__label-arrow:before {content: \"▸\";float: left;margin-right: 0.25em;color: #696969;}#sk-container-id-12 label.sk-toggleable__label-arrow:hover:before {color: black;}#sk-container-id-12 div.sk-estimator:hover label.sk-toggleable__label-arrow:before {color: black;}#sk-container-id-12 div.sk-toggleable__content {max-height: 0;max-width: 0;overflow: hidden;text-align: left;background-color: #f0f8ff;}#sk-container-id-12 div.sk-toggleable__content pre {margin: 0.2em;color: black;border-radius: 0.25em;background-color: #f0f8ff;}#sk-container-id-12 input.sk-toggleable__control:checked~div.sk-toggleable__content {max-height: 200px;max-width: 100%;overflow: auto;}#sk-container-id-12 input.sk-toggleable__control:checked~label.sk-toggleable__label-arrow:before {content: \"▾\";}#sk-container-id-12 div.sk-estimator input.sk-toggleable__control:checked~label.sk-toggleable__label {background-color: #d4ebff;}#sk-container-id-12 div.sk-label input.sk-toggleable__control:checked~label.sk-toggleable__label {background-color: #d4ebff;}#sk-container-id-12 input.sk-hidden--visually {border: 0;clip: rect(1px 1px 1px 1px);clip: rect(1px, 1px, 1px, 1px);height: 1px;margin: -1px;overflow: hidden;padding: 0;position: absolute;width: 1px;}#sk-container-id-12 div.sk-estimator {font-family: monospace;background-color: #f0f8ff;border: 1px dotted black;border-radius: 0.25em;box-sizing: border-box;margin-bottom: 0.5em;}#sk-container-id-12 div.sk-estimator:hover {background-color: #d4ebff;}#sk-container-id-12 div.sk-parallel-item::after {content: \"\";width: 100%;border-bottom: 1px solid gray;flex-grow: 1;}#sk-container-id-12 div.sk-label:hover label.sk-toggleable__label {background-color: #d4ebff;}#sk-container-id-12 div.sk-serial::before {content: \"\";position: absolute;border-left: 1px solid gray;box-sizing: border-box;top: 0;bottom: 0;left: 50%;z-index: 0;}#sk-container-id-12 div.sk-serial {display: flex;flex-direction: column;align-items: center;background-color: white;padding-right: 0.2em;padding-left: 0.2em;position: relative;}#sk-container-id-12 div.sk-item {position: relative;z-index: 1;}#sk-container-id-12 div.sk-parallel {display: flex;align-items: stretch;justify-content: center;background-color: white;position: relative;}#sk-container-id-12 div.sk-item::before, #sk-container-id-12 div.sk-parallel-item::before {content: \"\";position: absolute;border-left: 1px solid gray;box-sizing: border-box;top: 0;bottom: 0;left: 50%;z-index: -1;}#sk-container-id-12 div.sk-parallel-item {display: flex;flex-direction: column;z-index: 1;position: relative;background-color: white;}#sk-container-id-12 div.sk-parallel-item:first-child::after {align-self: flex-end;width: 50%;}#sk-container-id-12 div.sk-parallel-item:last-child::after {align-self: flex-start;width: 50%;}#sk-container-id-12 div.sk-parallel-item:only-child::after {width: 0;}#sk-container-id-12 div.sk-dashed-wrapped {border: 1px dashed gray;margin: 0 0.4em 0.5em 0.4em;box-sizing: border-box;padding-bottom: 0.4em;background-color: white;}#sk-container-id-12 div.sk-label label {font-family: monospace;font-weight: bold;display: inline-block;line-height: 1.2em;}#sk-container-id-12 div.sk-label-container {text-align: center;}#sk-container-id-12 div.sk-container {/* jupyter's `normalize.less` sets `[hidden] { display: none; }` but bootstrap.min.css set `[hidden] { display: none !important; }` so we also need the `!important` here to be able to override the default hidden behavior on the sphinx rendered scikit-learn.org. See: https://github.com/scikit-learn/scikit-learn/issues/21755 */display: inline-block !important;position: relative;}#sk-container-id-12 div.sk-text-repr-fallback {display: none;}</style><div id=\"sk-container-id-12\" class=\"sk-top-container\"><div class=\"sk-text-repr-fallback\"><pre>YeoJohnsonTransformer(variables=[&#x27;RECENCY&#x27;, &#x27;AVG_DAYS_BETWEEN_PURCHASE&#x27;,\n",
       "                                 &#x27;MAX_DAYS_WITHOUT_PURCHASE&#x27;,\n",
       "                                 &#x27;MIN_DAYS_WITHOUT_PURCHASE&#x27;])</pre><b>In a Jupyter environment, please rerun this cell to show the HTML representation or trust the notebook. <br />On GitHub, the HTML representation is unable to render, please try loading this page with nbviewer.org.</b></div><div class=\"sk-container\" hidden><div class=\"sk-item\"><div class=\"sk-estimator sk-toggleable\"><input class=\"sk-toggleable__control sk-hidden--visually\" id=\"sk-estimator-id-12\" type=\"checkbox\" checked><label for=\"sk-estimator-id-12\" class=\"sk-toggleable__label sk-toggleable__label-arrow\">YeoJohnsonTransformer</label><div class=\"sk-toggleable__content\"><pre>YeoJohnsonTransformer(variables=[&#x27;RECENCY&#x27;, &#x27;AVG_DAYS_BETWEEN_PURCHASE&#x27;,\n",
       "                                 &#x27;MAX_DAYS_WITHOUT_PURCHASE&#x27;,\n",
       "                                 &#x27;MIN_DAYS_WITHOUT_PURCHASE&#x27;])</pre></div></div></div></div></div>"
      ],
      "text/plain": [
       "YeoJohnsonTransformer(variables=['RECENCY', 'AVG_DAYS_BETWEEN_PURCHASE',\n",
       "                                 'MAX_DAYS_WITHOUT_PURCHASE',\n",
       "                                 'MIN_DAYS_WITHOUT_PURCHASE'])"
      ]
     },
     "execution_count": 156,
     "metadata": {},
     "output_type": "execute_result"
    }
   ],
   "source": [
    "# select variables to transform in a list\n",
    "cols = ['RECENCY', 'AVG_DAYS_BETWEEN_PURCHASE', 'MAX_DAYS_WITHOUT_PURCHASE', 'MIN_DAYS_WITHOUT_PURCHASE']\n",
    "\n",
    "# initialize the transformer with a subset of variables to transform\n",
    "yjt = YeoJohnsonTransformer(variables = cols)\n",
    "\n",
    "# fit transformer to the dataframe\n",
    "yjt.fit(final_df_win)"
   ]
  },
  {
   "cell_type": "code",
   "execution_count": 157,
   "id": "bc6f8fb8",
   "metadata": {},
   "outputs": [],
   "source": [
    "# transform indicated variables\n",
    "final_df_win = yjt.transform(final_df_win)"
   ]
  },
  {
   "cell_type": "code",
   "execution_count": 158,
   "id": "836a95fc",
   "metadata": {},
   "outputs": [],
   "source": [
    "final_df_enc=final_df_win"
   ]
  },
  {
   "attachments": {},
   "cell_type": "markdown",
   "id": "1f07cb74",
   "metadata": {},
   "source": [
    "## 3.4 Generate Target Variable"
   ]
  },
  {
   "cell_type": "code",
   "execution_count": 159,
   "id": "e995402c",
   "metadata": {},
   "outputs": [
    {
     "data": {
      "text/plain": [
       "count    46300.000000\n",
       "mean        12.572959\n",
       "std         12.840417\n",
       "min          1.000000\n",
       "25%          4.000000\n",
       "50%          9.000000\n",
       "75%         17.000000\n",
       "max        174.000000\n",
       "Name: DAYS_TO_NEXT_ORDER, dtype: float64"
      ]
     },
     "execution_count": 159,
     "metadata": {},
     "output_type": "execute_result"
    }
   ],
   "source": [
    "#Describe the target\n",
    "final_df_enc['DAYS_TO_NEXT_ORDER'].describe()"
   ]
  },
  {
   "cell_type": "code",
   "execution_count": 160,
   "id": "7f67fcce",
   "metadata": {},
   "outputs": [],
   "source": [
    "#Add Target Variable Next Purchase Day Range \n",
    "final_df_enc['NextPurchaseDayRange'] = 1\n",
    "final_df_enc.loc[final_df_enc['DAYS_TO_NEXT_ORDER']<=9,'NextPurchaseDayRange'] = 0"
   ]
  },
  {
   "cell_type": "code",
   "execution_count": 161,
   "id": "d1d19e9b",
   "metadata": {},
   "outputs": [
    {
     "data": {
      "image/png": "[encoded data removed]",
      "text/plain": [
       "<Figure size 640x480 with 1 Axes>"
      ]
     },
     "metadata": {},
     "output_type": "display_data"
    }
   ],
   "source": [
    "#Distribution of target variable\n",
    "sns.countplot(data=final_df_enc,x='NextPurchaseDayRange')\n",
    "plt.show()"
   ]
  },
  {
   "attachments": {},
   "cell_type": "markdown",
   "id": "3ec211e7",
   "metadata": {},
   "source": [
    "## 3.5 Sample the Data"
   ]
  },
  {
   "attachments": {},
   "cell_type": "markdown",
   "id": "88cf7316",
   "metadata": {},
   "source": [
    "### 3.5.1 Stratified Sampling"
   ]
  },
  {
   "cell_type": "code",
   "execution_count": 162,
   "id": "a64b72ac",
   "metadata": {},
   "outputs": [
    {
     "data": {
      "text/plain": [
       "21328"
      ]
     },
     "execution_count": 162,
     "metadata": {},
     "output_type": "execute_result"
    }
   ],
   "source": [
    "df1=final_df_enc[final_df_enc['NextPurchaseDayRange']==1]\n",
    "len(df1)"
   ]
  },
  {
   "cell_type": "code",
   "execution_count": 163,
   "id": "913ac4f4",
   "metadata": {},
   "outputs": [
    {
     "data": {
      "text/plain": [
       "24972"
      ]
     },
     "execution_count": 163,
     "metadata": {},
     "output_type": "execute_result"
    }
   ],
   "source": [
    "df0=final_df_enc[final_df_enc['NextPurchaseDayRange']==0]\n",
    "len(df0)"
   ]
  },
  {
   "cell_type": "code",
   "execution_count": 164,
   "id": "4ddae06e",
   "metadata": {},
   "outputs": [
    {
     "data": {
      "text/plain": [
       "1    21328\n",
       "0    21328\n",
       "Name: NextPurchaseDayRange, dtype: int64"
      ]
     },
     "execution_count": 164,
     "metadata": {},
     "output_type": "execute_result"
    }
   ],
   "source": [
    "#Perform Stratified Sampling\n",
    "df0_sampled = df0.sample(n=len(df1), random_state=4).copy()\n",
    "df_new=pd.concat([df1,df0_sampled],axis=0)\n",
    "df_new['NextPurchaseDayRange'].value_counts()"
   ]
  },
  {
   "attachments": {},
   "cell_type": "markdown",
   "id": "f2599b56",
   "metadata": {},
   "source": [
    "# 4 Split the Data"
   ]
  },
  {
   "cell_type": "code",
   "execution_count": 165,
   "id": "295fa125",
   "metadata": {},
   "outputs": [],
   "source": [
    "#Train test split\n",
    "X = df_new.drop(['DAYS_TO_NEXT_ORDER','MAX_ORDER_TS','ORDER_TS','FAVOURITE_BRAND_encode','GENDER_encode','MARITAL_STATUS_encode','BIRTHDAY_DATE'], axis =1,\n",
    "                  errors='ignore')\n",
    "y = df_new[\"NextPurchaseDayRange\"]\n",
    "\n",
    "\n",
    "X_train,X_test,y_train,y_test=train_test_split(X,y,test_size=0.6,random_state=4)"
   ]
  },
  {
   "cell_type": "code",
   "execution_count": 166,
   "id": "91c4d560",
   "metadata": {},
   "outputs": [],
   "source": [
    "#Test and holdout split\n",
    "X_test,X_holdout,y_test,y_holdout=train_test_split(X_test,y_test,test_size=0.5,random_state=4)"
   ]
  },
  {
   "attachments": {},
   "cell_type": "markdown",
   "id": "f13a5e67",
   "metadata": {},
   "source": [
    "## 4.1 Data Engineering 2"
   ]
  },
  {
   "attachments": {},
   "cell_type": "markdown",
   "id": "0cb873e0",
   "metadata": {},
   "source": [
    "Data engineering needs to be done in 2 parts, one before and one after splitting the data so as to prevent data leakage to the test datasets"
   ]
  },
  {
   "attachments": {},
   "cell_type": "markdown",
   "id": "df77fbd5",
   "metadata": {},
   "source": [
    "### 4.1.1 Categorical Encoding"
   ]
  },
  {
   "attachments": {},
   "cell_type": "markdown",
   "id": "72fdc62a",
   "metadata": {},
   "source": [
    "#### 4.1.1.1 One Hot Encoding"
   ]
  },
  {
   "cell_type": "code",
   "execution_count": 167,
   "id": "031693a7",
   "metadata": {},
   "outputs": [],
   "source": [
    "#One Hot Encoding \n",
    "ohe_enc = OneHotEncoder(\n",
    "     top_categories=None,\n",
    "     drop_last=True)  # to return k-1, false to return k\n",
    "\n",
    "ohe_enc.fit(X_train)\n",
    "X_train = ohe_enc.transform(X_train)\n",
    "X_test=ohe_enc.transform(X_test)\n",
    "X_holdout=ohe_enc.transform(X_holdout)"
   ]
  },
  {
   "cell_type": "code",
   "execution_count": 177,
   "id": "2feb10bb",
   "metadata": {},
   "outputs": [
    {
     "data": {
      "text/html": [
       "<div>\n",
       "<style scoped>\n",
       "    .dataframe tbody tr th:only-of-type {\n",
       "        vertical-align: middle;\n",
       "    }\n",
       "\n",
       "    .dataframe tbody tr th {\n",
       "        vertical-align: top;\n",
       "    }\n",
       "\n",
       "    .dataframe thead th {\n",
       "        text-align: right;\n",
       "    }\n",
       "</style>\n",
       "<table border=\"1\" class=\"dataframe\">\n",
       "  <thead>\n",
       "    <tr style=\"text-align: right;\">\n",
       "      <th></th>\n",
       "      <th>CUSTOMER_ID</th>\n",
       "      <th>RECENCY</th>\n",
       "      <th>FREQUENCY</th>\n",
       "      <th>MONETARY</th>\n",
       "      <th>AVG_DAYS_BETWEEN_PURCHASE</th>\n",
       "      <th>MAX_DAYS_WITHOUT_PURCHASE</th>\n",
       "      <th>MIN_DAYS_WITHOUT_PURCHASE</th>\n",
       "      <th>AGE</th>\n",
       "      <th>GENDER_MALE</th>\n",
       "      <th>GENDER_FEMALE</th>\n",
       "      <th>MARITAL_STATUS_MARRIED</th>\n",
       "      <th>MARITAL_STATUS_DIVORCED_OR_SEPERATED</th>\n",
       "      <th>MARITAL_STATUS_SINGLE</th>\n",
       "    </tr>\n",
       "  </thead>\n",
       "  <tbody>\n",
       "    <tr>\n",
       "      <th>17718</th>\n",
       "      <td>0.487631</td>\n",
       "      <td>0.773360</td>\n",
       "      <td>0.327699</td>\n",
       "      <td>0.231896</td>\n",
       "      <td>0.866144</td>\n",
       "      <td>0.842823</td>\n",
       "      <td>0.0</td>\n",
       "      <td>0.984848</td>\n",
       "      <td>1.0</td>\n",
       "      <td>0.0</td>\n",
       "      <td>1.0</td>\n",
       "      <td>0.0</td>\n",
       "      <td>0.0</td>\n",
       "    </tr>\n",
       "    <tr>\n",
       "      <th>32122</th>\n",
       "      <td>0.815520</td>\n",
       "      <td>0.304902</td>\n",
       "      <td>0.527578</td>\n",
       "      <td>0.440683</td>\n",
       "      <td>0.648069</td>\n",
       "      <td>0.538836</td>\n",
       "      <td>0.0</td>\n",
       "      <td>0.196970</td>\n",
       "      <td>0.0</td>\n",
       "      <td>1.0</td>\n",
       "      <td>0.0</td>\n",
       "      <td>1.0</td>\n",
       "      <td>0.0</td>\n",
       "    </tr>\n",
       "    <tr>\n",
       "      <th>15119</th>\n",
       "      <td>0.769584</td>\n",
       "      <td>0.487408</td>\n",
       "      <td>0.927337</td>\n",
       "      <td>1.000000</td>\n",
       "      <td>0.432413</td>\n",
       "      <td>0.643122</td>\n",
       "      <td>0.0</td>\n",
       "      <td>0.424242</td>\n",
       "      <td>0.0</td>\n",
       "      <td>1.0</td>\n",
       "      <td>0.0</td>\n",
       "      <td>0.0</td>\n",
       "      <td>1.0</td>\n",
       "    </tr>\n",
       "    <tr>\n",
       "      <th>25597</th>\n",
       "      <td>0.215724</td>\n",
       "      <td>0.730982</td>\n",
       "      <td>0.250822</td>\n",
       "      <td>0.291616</td>\n",
       "      <td>0.815736</td>\n",
       "      <td>0.650868</td>\n",
       "      <td>0.0</td>\n",
       "      <td>0.257576</td>\n",
       "      <td>1.0</td>\n",
       "      <td>0.0</td>\n",
       "      <td>0.0</td>\n",
       "      <td>0.0</td>\n",
       "      <td>1.0</td>\n",
       "    </tr>\n",
       "    <tr>\n",
       "      <th>38942</th>\n",
       "      <td>0.877598</td>\n",
       "      <td>0.304902</td>\n",
       "      <td>0.512203</td>\n",
       "      <td>0.454588</td>\n",
       "      <td>0.648069</td>\n",
       "      <td>0.468222</td>\n",
       "      <td>0.0</td>\n",
       "      <td>1.000000</td>\n",
       "      <td>1.0</td>\n",
       "      <td>0.0</td>\n",
       "      <td>0.0</td>\n",
       "      <td>0.0</td>\n",
       "      <td>1.0</td>\n",
       "    </tr>\n",
       "    <tr>\n",
       "      <th>...</th>\n",
       "      <td>...</td>\n",
       "      <td>...</td>\n",
       "      <td>...</td>\n",
       "      <td>...</td>\n",
       "      <td>...</td>\n",
       "      <td>...</td>\n",
       "      <td>...</td>\n",
       "      <td>...</td>\n",
       "      <td>...</td>\n",
       "      <td>...</td>\n",
       "      <td>...</td>\n",
       "      <td>...</td>\n",
       "      <td>...</td>\n",
       "    </tr>\n",
       "    <tr>\n",
       "      <th>29436</th>\n",
       "      <td>0.427443</td>\n",
       "      <td>0.748483</td>\n",
       "      <td>0.496828</td>\n",
       "      <td>0.417439</td>\n",
       "      <td>0.717839</td>\n",
       "      <td>0.654655</td>\n",
       "      <td>0.0</td>\n",
       "      <td>0.272727</td>\n",
       "      <td>0.0</td>\n",
       "      <td>1.0</td>\n",
       "      <td>0.0</td>\n",
       "      <td>0.0</td>\n",
       "      <td>0.0</td>\n",
       "    </tr>\n",
       "    <tr>\n",
       "      <th>25557</th>\n",
       "      <td>0.628190</td>\n",
       "      <td>0.673172</td>\n",
       "      <td>0.619830</td>\n",
       "      <td>0.446325</td>\n",
       "      <td>0.605529</td>\n",
       "      <td>0.581419</td>\n",
       "      <td>0.0</td>\n",
       "      <td>0.393939</td>\n",
       "      <td>1.0</td>\n",
       "      <td>0.0</td>\n",
       "      <td>0.0</td>\n",
       "      <td>0.0</td>\n",
       "      <td>1.0</td>\n",
       "    </tr>\n",
       "    <tr>\n",
       "      <th>5303</th>\n",
       "      <td>0.724808</td>\n",
       "      <td>0.551026</td>\n",
       "      <td>0.466077</td>\n",
       "      <td>0.457880</td>\n",
       "      <td>0.685207</td>\n",
       "      <td>0.669257</td>\n",
       "      <td>0.0</td>\n",
       "      <td>0.742424</td>\n",
       "      <td>1.0</td>\n",
       "      <td>0.0</td>\n",
       "      <td>0.0</td>\n",
       "      <td>1.0</td>\n",
       "      <td>0.0</td>\n",
       "    </tr>\n",
       "    <tr>\n",
       "      <th>18027</th>\n",
       "      <td>0.878754</td>\n",
       "      <td>0.756950</td>\n",
       "      <td>0.419951</td>\n",
       "      <td>0.340051</td>\n",
       "      <td>0.746682</td>\n",
       "      <td>0.717327</td>\n",
       "      <td>0.0</td>\n",
       "      <td>0.363636</td>\n",
       "      <td>0.0</td>\n",
       "      <td>1.0</td>\n",
       "      <td>0.0</td>\n",
       "      <td>0.0</td>\n",
       "      <td>1.0</td>\n",
       "    </tr>\n",
       "    <tr>\n",
       "      <th>37927</th>\n",
       "      <td>0.202112</td>\n",
       "      <td>0.739830</td>\n",
       "      <td>0.558329</td>\n",
       "      <td>0.418245</td>\n",
       "      <td>0.605529</td>\n",
       "      <td>0.662062</td>\n",
       "      <td>0.0</td>\n",
       "      <td>0.757576</td>\n",
       "      <td>1.0</td>\n",
       "      <td>0.0</td>\n",
       "      <td>0.0</td>\n",
       "      <td>0.0</td>\n",
       "      <td>1.0</td>\n",
       "    </tr>\n",
       "  </tbody>\n",
       "</table>\n",
       "<p>17062 rows × 13 columns</p>\n",
       "</div>"
      ],
      "text/plain": [
       "       CUSTOMER_ID   RECENCY  FREQUENCY  MONETARY  AVG_DAYS_BETWEEN_PURCHASE  \\\n",
       "17718     0.487631  0.773360   0.327699  0.231896                   0.866144   \n",
       "32122     0.815520  0.304902   0.527578  0.440683                   0.648069   \n",
       "15119     0.769584  0.487408   0.927337  1.000000                   0.432413   \n",
       "25597     0.215724  0.730982   0.250822  0.291616                   0.815736   \n",
       "38942     0.877598  0.304902   0.512203  0.454588                   0.648069   \n",
       "...            ...       ...        ...       ...                        ...   \n",
       "29436     0.427443  0.748483   0.496828  0.417439                   0.717839   \n",
       "25557     0.628190  0.673172   0.619830  0.446325                   0.605529   \n",
       "5303      0.724808  0.551026   0.466077  0.457880                   0.685207   \n",
       "18027     0.878754  0.756950   0.419951  0.340051                   0.746682   \n",
       "37927     0.202112  0.739830   0.558329  0.418245                   0.605529   \n",
       "\n",
       "       MAX_DAYS_WITHOUT_PURCHASE  MIN_DAYS_WITHOUT_PURCHASE       AGE  \\\n",
       "17718                   0.842823                        0.0  0.984848   \n",
       "32122                   0.538836                        0.0  0.196970   \n",
       "15119                   0.643122                        0.0  0.424242   \n",
       "25597                   0.650868                        0.0  0.257576   \n",
       "38942                   0.468222                        0.0  1.000000   \n",
       "...                          ...                        ...       ...   \n",
       "29436                   0.654655                        0.0  0.272727   \n",
       "25557                   0.581419                        0.0  0.393939   \n",
       "5303                    0.669257                        0.0  0.742424   \n",
       "18027                   0.717327                        0.0  0.363636   \n",
       "37927                   0.662062                        0.0  0.757576   \n",
       "\n",
       "       GENDER_MALE  GENDER_FEMALE  MARITAL_STATUS_MARRIED  \\\n",
       "17718          1.0            0.0                     1.0   \n",
       "32122          0.0            1.0                     0.0   \n",
       "15119          0.0            1.0                     0.0   \n",
       "25597          1.0            0.0                     0.0   \n",
       "38942          1.0            0.0                     0.0   \n",
       "...            ...            ...                     ...   \n",
       "29436          0.0            1.0                     0.0   \n",
       "25557          1.0            0.0                     0.0   \n",
       "5303           1.0            0.0                     0.0   \n",
       "18027          0.0            1.0                     0.0   \n",
       "37927          1.0            0.0                     0.0   \n",
       "\n",
       "       MARITAL_STATUS_DIVORCED_OR_SEPERATED  MARITAL_STATUS_SINGLE  \n",
       "17718                                   0.0                    0.0  \n",
       "32122                                   1.0                    0.0  \n",
       "15119                                   0.0                    1.0  \n",
       "25597                                   0.0                    1.0  \n",
       "38942                                   0.0                    1.0  \n",
       "...                                     ...                    ...  \n",
       "29436                                   0.0                    0.0  \n",
       "25557                                   0.0                    1.0  \n",
       "5303                                    1.0                    0.0  \n",
       "18027                                   0.0                    1.0  \n",
       "37927                                   0.0                    1.0  \n",
       "\n",
       "[17062 rows x 13 columns]"
      ]
     },
     "execution_count": 177,
     "metadata": {},
     "output_type": "execute_result"
    }
   ],
   "source": [
    "X_train"
   ]
  },
  {
   "attachments": {},
   "cell_type": "markdown",
   "id": "b6e2cdf8",
   "metadata": {},
   "source": [
    "#### 4.1.1.2 Clean the Encoded Columns"
   ]
  },
  {
   "cell_type": "code",
   "execution_count": 168,
   "id": "32ddeff0",
   "metadata": {},
   "outputs": [],
   "source": [
    "X_train.rename({'MARITAL_STATUS_Divorced/Seperated':'MARITAL_STATUS_Divorced_Or_Seperated'}, axis=1,inplace=True)\n",
    "X_test.rename({'MARITAL_STATUS_Divorced/Seperated':'MARITAL_STATUS_Divorced_Or_Seperated'}, axis=1,inplace=True)\n",
    "X_holdout.rename({'MARITAL_STATUS_Divorced/Seperated':'MARITAL_STATUS_Divorced_Or_Seperated'}, axis=1,inplace=True)"
   ]
  },
  {
   "cell_type": "code",
   "execution_count": 169,
   "id": "a310db0b",
   "metadata": {},
   "outputs": [],
   "source": [
    "X_train.columns = map(str.upper, X_train.columns)\n",
    "X_test.columns = map(str.upper, X_test.columns)\n",
    "X_holdout.columns = map(str.upper, X_holdout.columns)"
   ]
  },
  {
   "attachments": {},
   "cell_type": "markdown",
   "id": "2268959d",
   "metadata": {},
   "source": [
    "### 4.1.2 Drop Target Variable"
   ]
  },
  {
   "attachments": {},
   "cell_type": "markdown",
   "id": "6427c304",
   "metadata": {},
   "source": [
    "### 4.1.3 Feature Scaling"
   ]
  },
  {
   "cell_type": "code",
   "execution_count": 170,
   "id": "fd5f47d3",
   "metadata": {},
   "outputs": [],
   "source": [
    "from sklearn.preprocessing import MinMaxScaler\n",
    "\n",
    "cols_to_scale=X_train.drop('NEXTPURCHASEDAYRANGE',axis=1, errors='ignore').columns\n",
    "\n",
    "scaler = MinMaxScaler()\n",
    "\n",
    "#fit the scaler to the train set, it will learn the parameters\n",
    "scaler.fit(X_train[cols_to_scale])\n",
    "\n",
    "#transform train and test sets\n",
    "X_train[cols_to_scale] = scaler.transform(X_train[cols_to_scale])\n",
    "X_test[cols_to_scale]= scaler.transform(X_test[cols_to_scale])\n",
    "X_holdout[cols_to_scale]=scaler.transform(X_holdout[cols_to_scale])"
   ]
  },
  {
   "cell_type": "code",
   "execution_count": 144,
   "id": "35a94b88",
   "metadata": {},
   "outputs": [],
   "source": [
    "#Save tables to snowflake\n",
    "session.create_dataframe(X_train).write.save_as_table(table_name=\"train_table\", mode='overwrite')\n",
    "session.create_dataframe(X_test).write.save_as_table(table_name=\"test_table\", mode='overwrite')\n",
    "session.create_dataframe(X_holdout).write.save_as_table(table_name=\"holdout_table\", mode='overwrite')"
   ]
  },
  {
   "cell_type": "code",
   "execution_count": 171,
   "id": "e2fb8517",
   "metadata": {},
   "outputs": [],
   "source": [
    "X_train=X_train.drop('NEXTPURCHASEDAYRANGE',axis=1, errors='ignore')\n",
    "X_test=X_test.drop('NEXTPURCHASEDAYRANGE',axis=1, errors='ignore')\n",
    "X_holdout=X_holdout.drop('NEXTPURCHASEDAYRANGE',axis=1, errors='ignore')"
   ]
  },
  {
   "attachments": {},
   "cell_type": "markdown",
   "id": "edbe3422",
   "metadata": {},
   "source": [
    "## Model Building"
   ]
  },
  {
   "attachments": {},
   "cell_type": "markdown",
   "id": "31d1a24e",
   "metadata": {},
   "source": [
    "## Define Evaluation Function"
   ]
  },
  {
   "cell_type": "code",
   "execution_count": 51,
   "id": "41cb0a36",
   "metadata": {},
   "outputs": [],
   "source": [
    "#Function to show MSE, MAE, r-sq of Classification models\n",
    "def evaluateModel(model):\n",
    "    #Accuracy\n",
    "    print('Train Accuracy:',model.score(X_train, y_train),\n",
    "          '\\nTest Accuracy:',model.score(X_test, y_test),\n",
    "          '\\nHoldout Accuracy:',model.score(X_holdout, y_holdout))"
   ]
  },
  {
   "cell_type": "code",
   "execution_count": 52,
   "id": "a600e587",
   "metadata": {},
   "outputs": [],
   "source": [
    "#Function to show MSE, MAE, r-sq of Classification models\n",
    "def evaluateModelWithName(model,model_name):\n",
    "    print(model_name)\n",
    "    print('Train Accuracy:',model.score(X_train, y_train),\n",
    "          '\\nTest Accuracy:',model.score(X_test, y_test),\n",
    "          '\\n')"
   ]
  },
  {
   "attachments": {},
   "cell_type": "markdown",
   "id": "670c5eae",
   "metadata": {},
   "source": [
    "## Models"
   ]
  },
  {
   "attachments": {},
   "cell_type": "markdown",
   "id": "1260879f",
   "metadata": {},
   "source": [
    "### Logistic Regression"
   ]
  },
  {
   "attachments": {},
   "cell_type": "markdown",
   "id": "39821d5f",
   "metadata": {},
   "source": [
    "#### Build the model"
   ]
  },
  {
   "cell_type": "code",
   "execution_count": 53,
   "id": "8b128643",
   "metadata": {},
   "outputs": [
    {
     "name": "stdout",
     "output_type": "stream",
     "text": [
      "Train Accuracy: 0.7697221896612355 \n",
      "Test Accuracy: 0.7682269281862937 \n",
      "Holdout Accuracy: 0.7700242244276002\n"
     ]
    }
   ],
   "source": [
    "#Build Logistic Regression Model\n",
    "log_ref_before = LogisticRegression(max_iter=10000)\n",
    "log_ref_before.fit(X_train, y_train)\n",
    "\n",
    "evaluateModel(log_ref_before)"
   ]
  },
  {
   "attachments": {},
   "cell_type": "markdown",
   "id": "69bc18c0",
   "metadata": {},
   "source": [
    "#### Improve the model"
   ]
  },
  {
   "cell_type": "code",
   "execution_count": 54,
   "id": "ac7663d6",
   "metadata": {},
   "outputs": [
    {
     "name": "stdout",
     "output_type": "stream",
     "text": [
      "0.7689595493626341\n",
      "{'C': 0.1, 'penalty': 'l2', 'solver': 'newton-cg'}\n"
     ]
    }
   ],
   "source": [
    "# Task 1: Use GridSearch to find the best combination of model hyperparameters\n",
    "\n",
    "logreg = LogisticRegression()\n",
    "param_grid = {\"penalty\": [\"l2\"],\n",
    "                \"C\" : [0.1, 1, 10],\n",
    "                \"solver\" : [\"newton-cg\", \"lbfgs\", \"liblinear\"]}\n",
    "\n",
    "gs =GridSearchCV(logreg, param_grid = param_grid, scoring = \"accuracy\", cv = 10, n_jobs = -1)\n",
    "gs = gs.fit(X_train, y_train)\n",
    "\n",
    "print(gs.best_score_)\n",
    "print(gs.best_params_)"
   ]
  },
  {
   "cell_type": "code",
   "execution_count": 55,
   "id": "8bd80baf",
   "metadata": {},
   "outputs": [
    {
     "name": "stdout",
     "output_type": "stream",
     "text": [
      "Train Accuracy: 0.7693705310045715 \n",
      "Test Accuracy: 0.7690083613346879 \n",
      "Holdout Accuracy: 0.7697897944830819\n"
     ]
    }
   ],
   "source": [
    "#Build Logistic Regression Model\n",
    "log_ref_improved = LogisticRegression(**gs.best_params_)\n",
    "log_ref_improved.fit(X_train, y_train)\n",
    "\n",
    "evaluateModel(log_ref_improved)"
   ]
  },
  {
   "attachments": {},
   "cell_type": "markdown",
   "id": "e4ae598d",
   "metadata": {},
   "source": [
    "## Decision Tree"
   ]
  },
  {
   "attachments": {},
   "cell_type": "markdown",
   "id": "dc87829e",
   "metadata": {},
   "source": [
    "#### Build the model"
   ]
  },
  {
   "cell_type": "code",
   "execution_count": 56,
   "id": "6eed511c",
   "metadata": {},
   "outputs": [
    {
     "name": "stdout",
     "output_type": "stream",
     "text": [
      "Train Accuracy: 0.9377564177704841 \n",
      "Test Accuracy: 0.7075095725560678 \n",
      "Holdout Accuracy: 0.7097757286864109\n"
     ]
    }
   ],
   "source": [
    "#Build Decision Tree Model\n",
    "decision_tree_before = tree.DecisionTreeClassifier(max_depth = 20)\n",
    "\n",
    "decision_tree_before.fit(X_train, y_train)\n",
    "\n",
    "evaluateModel(decision_tree_before)"
   ]
  },
  {
   "attachments": {},
   "cell_type": "markdown",
   "id": "c97faac8",
   "metadata": {},
   "source": [
    "#### Improve the model"
   ]
  },
  {
   "cell_type": "code",
   "execution_count": 57,
   "id": "f82be2d3",
   "metadata": {},
   "outputs": [
    {
     "name": "stdout",
     "output_type": "stream",
     "text": [
      "0.7786889856332556\n",
      "{'criterion': 'entropy', 'max_depth': 4, 'min_samples_leaf': 20, 'min_samples_split': 2}\n"
     ]
    }
   ],
   "source": [
    "dt = tree.DecisionTreeClassifier(max_depth = 2)\n",
    "\n",
    "param_grid = { \"criterion\" : [\"gini\", \"entropy\"], \n",
    "              \"min_samples_leaf\" : [1, 5, 10,20,30,40,50,100], \n",
    "              \"min_samples_split\" : [2, 4, 10, 12, 16], \n",
    "              'max_depth' : [2,3,4,5,6,7]}\n",
    "\n",
    "gs = GridSearchCV(dt, param_grid=param_grid, scoring='accuracy', cv= 10, n_jobs=-1)\n",
    "# cv: number of partitions for cross validation\n",
    "# n_jobs: number of jobs to run in parallel, -1 means using all processors\n",
    "\n",
    "gs = gs.fit(X_train, y_train) \n",
    "\n",
    "print(gs.best_score_)\n",
    "print(gs.best_params_)"
   ]
  },
  {
   "cell_type": "code",
   "execution_count": 58,
   "id": "adc96767",
   "metadata": {},
   "outputs": [
    {
     "name": "stdout",
     "output_type": "stream",
     "text": [
      "Train Accuracy: 0.7785136560778337 \n",
      "Test Accuracy: 0.7759631163553958 \n",
      "Holdout Accuracy: 0.7717433773540674\n"
     ]
    }
   ],
   "source": [
    "# Create Decision Tree using the best hyperparameters\n",
    "decision_tree_improved = tree.DecisionTreeClassifier(**gs.best_params_)\n",
    "decision_tree_improved.fit(X_train, y_train)\n",
    "\n",
    "evaluateModel(decision_tree_improved)"
   ]
  },
  {
   "attachments": {},
   "cell_type": "markdown",
   "id": "06eb7b92",
   "metadata": {},
   "source": [
    "### Random Forest"
   ]
  },
  {
   "attachments": {},
   "cell_type": "markdown",
   "id": "b921f8d9",
   "metadata": {},
   "source": [
    "#### Build the model"
   ]
  },
  {
   "cell_type": "code",
   "execution_count": 59,
   "id": "c709b469",
   "metadata": {},
   "outputs": [
    {
     "name": "stdout",
     "output_type": "stream",
     "text": [
      "Train Accuracy: 1.0 \n",
      "Test Accuracy: 0.7689302180198484 \n",
      "Holdout Accuracy: 0.7711963741501915\n"
     ]
    }
   ],
   "source": [
    "#Build Random Forest Model\n",
    "\n",
    "random_forest_before= RandomForestClassifier(n_estimators=100)\n",
    "random_forest_before.fit(X_train, y_train)\n",
    "\n",
    "evaluateModel(random_forest_before)"
   ]
  },
  {
   "attachments": {},
   "cell_type": "markdown",
   "id": "05817007",
   "metadata": {},
   "source": [
    "#### Improve the model"
   ]
  },
  {
   "cell_type": "code",
   "execution_count": 60,
   "id": "9658a832",
   "metadata": {},
   "outputs": [
    {
     "name": "stdout",
     "output_type": "stream",
     "text": [
      "0.779216226406542\n",
      "{'max_depth': 8, 'min_samples_split': 5, 'n_estimators': 50}\n"
     ]
    }
   ],
   "source": [
    "rf = RandomForestClassifier()\n",
    "param_grid = {'n_estimators': [1, 10, 50, 100],\n",
    "'max_depth': [2, 4, 6, 8, 10],\n",
    "'min_samples_split': [2, 5, 10, 15, 20]}\n",
    "\n",
    "gs = GridSearchCV(rf, param_grid = param_grid, scoring = \"accuracy\", cv = 10, n_jobs = -1)\n",
    "gs = gs.fit(X_train, y_train)\n",
    "\n",
    "print(gs.best_score_)\n",
    "print(gs.best_params_)"
   ]
  },
  {
   "cell_type": "code",
   "execution_count": 61,
   "id": "9417473b",
   "metadata": {},
   "outputs": [
    {
     "name": "stdout",
     "output_type": "stream",
     "text": [
      "Train Accuracy: 0.7854296096588911 \n",
      "Test Accuracy: 0.7754942564663593 \n",
      "Holdout Accuracy: 0.7718215206689067\n"
     ]
    }
   ],
   "source": [
    "# Build RandomForest Model and Evaluate both training and testing accuracy\n",
    "random_forest_improved = RandomForestClassifier(**gs.best_params_)\n",
    "random_forest_improved.fit(X_train,y_train)\n",
    "\n",
    "evaluateModel(random_forest_improved)"
   ]
  },
  {
   "attachments": {},
   "cell_type": "markdown",
   "id": "b7d268ac",
   "metadata": {},
   "source": [
    "## Adaboost"
   ]
  },
  {
   "cell_type": "code",
   "execution_count": 62,
   "id": "86d103be",
   "metadata": {},
   "outputs": [
    {
     "name": "stdout",
     "output_type": "stream",
     "text": [
      "Train Accuracy: 1.0 \n",
      "Test Accuracy: 0.6860201609752286 \n",
      "Holdout Accuracy: 0.6896928967726811\n"
     ]
    }
   ],
   "source": [
    "#Build Ada Boost Model\n",
    "adb_before = AdaBoostClassifier(DecisionTreeClassifier(),n_estimators=5,learning_rate=1)\n",
    "adb_before.fit(X_train, y_train)\n",
    "\n",
    "evaluateModel(adb_before)"
   ]
  },
  {
   "cell_type": "code",
   "execution_count": 63,
   "id": "23b7e8d3",
   "metadata": {},
   "outputs": [],
   "source": [
    "# Without Outlier Handling\n",
    "# Train Accuracy: 1.0 \n",
    "# Test Accuracy: 0.6900836133468782 \n",
    "# Holdout Accuracy: 0.6907869031804329"
   ]
  },
  {
   "cell_type": "code",
   "execution_count": 64,
   "id": "eaaa7e49",
   "metadata": {},
   "outputs": [],
   "source": [
    "# With Numerical Transformation\n",
    "# Train Accuracy: 1.0 \n",
    "# Test Accuracy: 0.6844572946784403 \n",
    "# Holdout Accuracy: 0.6900054700320387"
   ]
  },
  {
   "cell_type": "code",
   "execution_count": 65,
   "id": "7f21f868",
   "metadata": {},
   "outputs": [
    {
     "name": "stdout",
     "output_type": "stream",
     "text": [
      "0.77933420557011\n",
      "{'algorithm': 'SAMME', 'estimator': DecisionTreeClassifier(max_depth=2), 'learning_rate': 0.5, 'n_estimators': 50}\n"
     ]
    }
   ],
   "source": [
    "adb = AdaBoostClassifier()\n",
    "\n",
    "param_grid = {\n",
    "    'estimator': [tree.DecisionTreeClassifier(max_depth=1), tree.DecisionTreeClassifier(max_depth=2)],\n",
    "    'n_estimators': [50, 100, 200],\n",
    "    'learning_rate': [0.1, 0.5, 1],\n",
    "    'algorithm': ['SAMME', 'SAMME.R']\n",
    "}\n",
    "\n",
    "gs = GridSearchCV(adb, param_grid, cv=5, n_jobs=-1)\n",
    "\n",
    "gs.fit(X_train, y_train)\n",
    "\n",
    "print(gs.best_score_)\n",
    "print(gs.best_params_)"
   ]
  },
  {
   "cell_type": "code",
   "execution_count": 66,
   "id": "9e9aa140",
   "metadata": {},
   "outputs": [
    {
     "name": "stdout",
     "output_type": "stream",
     "text": [
      "Train Accuracy: 0.779158363615051 \n",
      "Test Accuracy: 0.774869109947644 \n",
      "Holdout Accuracy: 0.772055950613425\n"
     ]
    }
   ],
   "source": [
    "#Task 2: Build Ada Boost Model and Evaluate both training and testing accuracy\n",
    "adb_improved = AdaBoostClassifier(**gs.best_params_)\n",
    "adb_improved.fit(X_train,y_train)\n",
    "\n",
    "evaluateModel(adb_improved)"
   ]
  },
  {
   "cell_type": "code",
   "execution_count": 67,
   "id": "d5cabcb1",
   "metadata": {},
   "outputs": [],
   "source": [
    "# Without Outlier Handling\n",
    "# Train Accuracy: 0.7796858516000469 \n",
    "# Test Accuracy: 0.7742439634289286 \n",
    "# Holdout Accuracy: 0.7740876767992498"
   ]
  },
  {
   "cell_type": "code",
   "execution_count": 68,
   "id": "64ca5ab7",
   "metadata": {},
   "outputs": [],
   "source": [
    "# With Numerical Transformation\n",
    "# Train Accuracy: 0.7771656312272888 \n",
    "# Test Accuracy: 0.7759631163553958 \n",
    "# Holdout Accuracy: 0.7737751035398922"
   ]
  },
  {
   "attachments": {},
   "cell_type": "markdown",
   "id": "ca758de6",
   "metadata": {},
   "source": [
    "## XGboost"
   ]
  },
  {
   "cell_type": "code",
   "execution_count": 174,
   "id": "cafdf029",
   "metadata": {},
   "outputs": [
    {
     "name": "stdout",
     "output_type": "stream",
     "text": [
      "Train Accuracy: 0.9718673074668854 \n",
      "Test Accuracy: 0.7525982652184106 \n",
      "Holdout Accuracy: 0.7616628897397828\n"
     ]
    }
   ],
   "source": [
    "#Build XGBoost Model\n",
    "xgb_before = XGBClassifier(n_estimators = 20, learning_rate = 0.1, eval_metric='logloss',max_depth = 20)\n",
    "xgb_before.fit(X_train, y_train)\n",
    "\n",
    "#Evaluate XGBoost Model\n",
    "evaluateModel(xgb_before)"
   ]
  },
  {
   "cell_type": "code",
   "execution_count": 70,
   "id": "dcec2841",
   "metadata": {},
   "outputs": [],
   "source": [
    "#After outlier handling\n",
    "# Train Accuracy: 0.9708123314968937 \n",
    "# Test Accuracy: 0.7601000234429944 \n",
    "# Holdout Accuracy: 0.7544737047745566"
   ]
  },
  {
   "cell_type": "code",
   "execution_count": 71,
   "id": "d5669bd4",
   "metadata": {},
   "outputs": [],
   "source": [
    "# With Numerical Transformation\n",
    "# Train Accuracy: 0.9706365021685617 \n",
    "# Test Accuracy: 0.7561147143861843 \n",
    "# Holdout Accuracy: 0.7561147143861843"
   ]
  },
  {
   "cell_type": "code",
   "execution_count": 172,
   "id": "0d08acc7",
   "metadata": {},
   "outputs": [
    {
     "name": "stdout",
     "output_type": "stream",
     "text": [
      "0.77857230937911\n",
      "{'learning_rate': 0.05, 'max_depth': 4, 'n_estimators': 50, 'n_jobs': -1, 'objective': 'binary:logistic'}\n"
     ]
    }
   ],
   "source": [
    "xgb = XGBClassifier()\n",
    "\n",
    "param_grid = {\n",
    "    'max_depth': [4, 6, 8], \n",
    "    'learning_rate': [0.05, 0.1, 0.2, 0.3],\n",
    "    'n_estimators': [20, 50, 100, 200],\n",
    "    'objective': ['binary:logistic'],\n",
    "    'n_jobs': [-1]\n",
    "}\n",
    "\n",
    "gs = GridSearchCV(xgb, param_grid, cv=5, n_jobs=-1)\n",
    "\n",
    "gs.fit(X_train, y_train)\n",
    "\n",
    "print(gs.best_score_)\n",
    "print(gs.best_params_)"
   ]
  },
  {
   "cell_type": "code",
   "execution_count": 173,
   "id": "e349211d",
   "metadata": {},
   "outputs": [
    {
     "name": "stdout",
     "output_type": "stream",
     "text": [
      "Train Accuracy: 0.7815027546594772 \n",
      "Test Accuracy: 0.7764319762444323 \n",
      "Holdout Accuracy: 0.7729155270766586\n"
     ]
    }
   ],
   "source": [
    "#  Build XGBoost Model and Evaluate both training and testing accuracy \n",
    "xgb_improved = XGBClassifier(**gs.best_params_)\n",
    "xgb_improved.fit(X_train,y_train)\n",
    "\n",
    "evaluateModel(xgb_improved)"
   ]
  },
  {
   "cell_type": "code",
   "execution_count": null,
   "id": "d2ed23cc",
   "metadata": {},
   "outputs": [],
   "source": [
    "#1.5\n",
    "# Train Accuracy: 0.7809166568983706 \n",
    "# Test Accuracy: 0.7759631163553958 \n",
    "# Holdout Accuracy: 0.7733843869656951"
   ]
  },
  {
   "cell_type": "code",
   "execution_count": 74,
   "id": "1e290419",
   "metadata": {},
   "outputs": [],
   "source": [
    "#After outlier handling\n",
    "# Train Accuracy: 0.7800375102567109 \n",
    "# Test Accuracy: 0.7773696960225053 \n",
    "# Holdout Accuracy: 0.7727592404469797"
   ]
  },
  {
   "cell_type": "code",
   "execution_count": 75,
   "id": "48ea885a",
   "metadata": {},
   "outputs": [],
   "source": [
    "# With Numerical Transformation\n",
    "# Train Accuracy: 0.7789239245106083 \n",
    "# Test Accuracy: 0.7752598265218411 \n",
    "# Holdout Accuracy: 0.7744783933734469"
   ]
  },
  {
   "cell_type": "code",
   "execution_count": 175,
   "id": "8f1ad367",
   "metadata": {},
   "outputs": [
    {
     "name": "stdout",
     "output_type": "stream",
     "text": [
      "              precision    recall  f1-score   support\n",
      "\n",
      "           0       0.84      0.67      0.75      6291\n",
      "           1       0.73      0.88      0.80      6506\n",
      "\n",
      "    accuracy                           0.78     12797\n",
      "   macro avg       0.79      0.77      0.77     12797\n",
      "weighted avg       0.79      0.78      0.77     12797\n",
      "\n"
     ]
    }
   ],
   "source": [
    "from sklearn.metrics import classification_report\n",
    "print(classification_report(y_test,xgb_improved.predict(X_test)))"
   ]
  },
  {
   "attachments": {},
   "cell_type": "markdown",
   "id": "bd774b3f",
   "metadata": {},
   "source": [
    "#### Improve the Model"
   ]
  },
  {
   "attachments": {},
   "cell_type": "markdown",
   "id": "9f33a9b5",
   "metadata": {},
   "source": [
    "# Model Evaulation"
   ]
  },
  {
   "cell_type": "code",
   "execution_count": 77,
   "id": "325c541f",
   "metadata": {},
   "outputs": [
    {
     "name": "stdout",
     "output_type": "stream",
     "text": [
      "log_ref_before\n",
      "Train Accuracy: 0.7697221896612355 \n",
      "Test Accuracy: 0.7682269281862937 \n",
      "\n",
      "log_ref_improved\n",
      "Train Accuracy: 0.7693705310045715 \n",
      "Test Accuracy: 0.7690083613346879 \n",
      "\n",
      "decision_tree_before\n",
      "Train Accuracy: 0.9377564177704841 \n",
      "Test Accuracy: 0.7075095725560678 \n",
      "\n",
      "decision_tree_improved\n",
      "Train Accuracy: 0.7785136560778337 \n",
      "Test Accuracy: 0.7759631163553958 \n",
      "\n",
      "log_ref_before\n",
      "Train Accuracy: 1.0 \n",
      "Test Accuracy: 0.7689302180198484 \n",
      "\n",
      "log_ref_before\n",
      "Train Accuracy: 0.7854296096588911 \n",
      "Test Accuracy: 0.7754942564663593 \n",
      "\n",
      "adb_before\n",
      "Train Accuracy: 1.0 \n",
      "Test Accuracy: 0.6860201609752286 \n",
      "\n",
      "adb_improved\n",
      "Train Accuracy: 0.779158363615051 \n",
      "Test Accuracy: 0.774869109947644 \n",
      "\n",
      "xgb_before\n",
      "Train Accuracy: 0.9718673074668854 \n",
      "Test Accuracy: 0.7525982652184106 \n",
      "\n",
      "xgb_improved\n",
      "Train Accuracy: 0.7815027546594772 \n",
      "Test Accuracy: 0.7764319762444323 \n",
      "\n"
     ]
    }
   ],
   "source": [
    "evaluateModelWithName(log_ref_before,'log_ref_before')\n",
    "evaluateModelWithName(log_ref_improved,'log_ref_improved')\n",
    "\n",
    "evaluateModelWithName(decision_tree_before,'decision_tree_before')\n",
    "evaluateModelWithName(decision_tree_improved,'decision_tree_improved')\n",
    "\n",
    "evaluateModelWithName(random_forest_before,'log_ref_before')\n",
    "evaluateModelWithName(random_forest_improved,'log_ref_before')\n",
    "\n",
    "evaluateModelWithName(adb_before,'adb_before')\n",
    "evaluateModelWithName(adb_improved,'adb_improved')\n",
    "\n",
    "evaluateModelWithName(xgb_before,'xgb_before')\n",
    "evaluateModelWithName(xgb_improved,'xgb_improved')"
   ]
  },
  {
   "attachments": {},
   "cell_type": "markdown",
   "id": "cad9d7bd",
   "metadata": {},
   "source": [
    "# Data evaluation"
   ]
  },
  {
   "cell_type": "code",
   "execution_count": 78,
   "id": "efe59d39",
   "metadata": {},
   "outputs": [
    {
     "data": {
      "text/html": [
       "<div>\n",
       "<style scoped>\n",
       "    .dataframe tbody tr th:only-of-type {\n",
       "        vertical-align: middle;\n",
       "    }\n",
       "\n",
       "    .dataframe tbody tr th {\n",
       "        vertical-align: top;\n",
       "    }\n",
       "\n",
       "    .dataframe thead th {\n",
       "        text-align: right;\n",
       "    }\n",
       "</style>\n",
       "<table border=\"1\" class=\"dataframe\">\n",
       "  <thead>\n",
       "    <tr style=\"text-align: right;\">\n",
       "      <th></th>\n",
       "      <th>is_promoted</th>\n",
       "    </tr>\n",
       "  </thead>\n",
       "  <tbody>\n",
       "    <tr>\n",
       "      <th>RECENCY</th>\n",
       "      <td>0.893456</td>\n",
       "    </tr>\n",
       "    <tr>\n",
       "      <th>MAX_DAYS_WITHOUT_PURCHASE</th>\n",
       "      <td>0.020856</td>\n",
       "    </tr>\n",
       "    <tr>\n",
       "      <th>MONETARY</th>\n",
       "      <td>0.016894</td>\n",
       "    </tr>\n",
       "    <tr>\n",
       "      <th>FREQUENCY</th>\n",
       "      <td>0.015246</td>\n",
       "    </tr>\n",
       "    <tr>\n",
       "      <th>AVG_DAYS_BETWEEN_PURCHASE</th>\n",
       "      <td>0.015102</td>\n",
       "    </tr>\n",
       "    <tr>\n",
       "      <th>MARITAL_STATUS_DIVORCED_OR_SEPERATED</th>\n",
       "      <td>0.014570</td>\n",
       "    </tr>\n",
       "    <tr>\n",
       "      <th>CUSTOMER_ID</th>\n",
       "      <td>0.014378</td>\n",
       "    </tr>\n",
       "    <tr>\n",
       "      <th>AGE</th>\n",
       "      <td>0.009498</td>\n",
       "    </tr>\n",
       "    <tr>\n",
       "      <th>MIN_DAYS_WITHOUT_PURCHASE</th>\n",
       "      <td>0.000000</td>\n",
       "    </tr>\n",
       "    <tr>\n",
       "      <th>GENDER_MALE</th>\n",
       "      <td>0.000000</td>\n",
       "    </tr>\n",
       "    <tr>\n",
       "      <th>GENDER_FEMALE</th>\n",
       "      <td>0.000000</td>\n",
       "    </tr>\n",
       "    <tr>\n",
       "      <th>MARITAL_STATUS_MARRIED</th>\n",
       "      <td>0.000000</td>\n",
       "    </tr>\n",
       "    <tr>\n",
       "      <th>MARITAL_STATUS_SINGLE</th>\n",
       "      <td>0.000000</td>\n",
       "    </tr>\n",
       "  </tbody>\n",
       "</table>\n",
       "</div>"
      ],
      "text/plain": [
       "                                      is_promoted\n",
       "RECENCY                                  0.893456\n",
       "MAX_DAYS_WITHOUT_PURCHASE                0.020856\n",
       "MONETARY                                 0.016894\n",
       "FREQUENCY                                0.015246\n",
       "AVG_DAYS_BETWEEN_PURCHASE                0.015102\n",
       "MARITAL_STATUS_DIVORCED_OR_SEPERATED     0.014570\n",
       "CUSTOMER_ID                              0.014378\n",
       "AGE                                      0.009498\n",
       "MIN_DAYS_WITHOUT_PURCHASE                0.000000\n",
       "GENDER_MALE                              0.000000\n",
       "GENDER_FEMALE                            0.000000\n",
       "MARITAL_STATUS_MARRIED                   0.000000\n",
       "MARITAL_STATUS_SINGLE                    0.000000"
      ]
     },
     "execution_count": 78,
     "metadata": {},
     "output_type": "execute_result"
    }
   ],
   "source": [
    "#Check top 10 features based on feature importance\n",
    "ft_weights_xgb_clf = pd.DataFrame(xgb_improved.feature_importances_, columns=['is_promoted'], index=X_train.columns)\n",
    "ft_weights_xgb_clf.sort_values('', ascending=False, inplace=True)\n",
    "ft_weights_xgb_clf.tail(100)"
   ]
  },
  {
   "cell_type": "code",
   "execution_count": 178,
   "id": "9e36211f",
   "metadata": {},
   "outputs": [
    {
     "name": "stdout",
     "output_type": "stream",
     "text": [
      "Thresh=0.000, n=13, Accuracy: 77.64320%\n",
      "Thresh=0.000, n=13, Accuracy: 77.64320%\n",
      "Thresh=0.000, n=13, Accuracy: 77.64320%\n",
      "Thresh=0.000, n=13, Accuracy: 77.64320%\n",
      "Thresh=0.000, n=13, Accuracy: 77.64320%\n",
      "Thresh=0.009, n=8, Accuracy: 77.64320%\n",
      "Thresh=0.014, n=7, Accuracy: 77.61975%\n",
      "Thresh=0.015, n=6, Accuracy: 77.59631%\n",
      "Thresh=0.015, n=5, Accuracy: 77.58850%\n",
      "Thresh=0.015, n=4, Accuracy: 77.58068%\n",
      "Thresh=0.017, n=3, Accuracy: 77.56505%\n",
      "Thresh=0.021, n=2, Accuracy: 77.64320%\n",
      "Thresh=0.893, n=1, Accuracy: 77.59631%\n"
     ]
    }
   ],
   "source": [
    "thresholds = np.sort(xgb_improved.feature_importances_)\n",
    "for thresh in thresholds:\n",
    "    # select features using threshold\n",
    "    selection = SelectFromModel(xgb_improved, threshold=thresh, prefit=True)\n",
    "    select_X_train = selection.transform(X_train.to_numpy())\n",
    "    # train model\n",
    "    selection_model = XGBClassifier(**gs.best_params_)\n",
    "    selection_model.fit(select_X_train, y_train)\n",
    "    # eval model\n",
    "    select_X_test = selection.transform(X_test.to_numpy())\n",
    "    y_pred = selection_model.predict(select_X_test)\n",
    "    predictions = [round(value) for value in y_pred]\n",
    "    accuracy = accuracy_score(y_test, predictions)\n",
    "    print(\"Thresh=%.3f, n=%d, Accuracy: %.3f%%\" % (thresh, select_X_train.shape[1], accuracy*100.0))"
   ]
  },
  {
   "cell_type": "code",
   "execution_count": 80,
   "id": "763c4373",
   "metadata": {},
   "outputs": [
    {
     "data": {
      "text/plain": [
       "[Row(status='MODEL_STAGE already exists, statement succeeded.')]"
      ]
     },
     "execution_count": 80,
     "metadata": {},
     "output_type": "execute_result"
    }
   ],
   "source": [
    "# Create stage\n",
    "session.sql(\"CREATE STAGE IF NOT EXISTS model_stage\").collect()"
   ]
  },
  {
   "cell_type": "code",
   "execution_count": 81,
   "id": "e39e5bed",
   "metadata": {},
   "outputs": [],
   "source": [
    "train_table = session.table(name=\"train_table\")\n",
    "test_table=session.table(name=\"test_table\")"
   ]
  },
  {
   "attachments": {},
   "cell_type": "markdown",
   "id": "6cb1698d",
   "metadata": {},
   "source": [
    "Define your Stored Procedure to train an XGBoost Model"
   ]
  },
  {
   "cell_type": "code",
   "execution_count": 82,
   "id": "69ff1423",
   "metadata": {},
   "outputs": [],
   "source": [
    "# This local Python-function will be registered as a Stored Procedure and runs in Snowflake\n",
    "def sproc_train_xgboost_model(session: Session, \n",
    "                              training_table: str, \n",
    "                              feature_cols: list,\n",
    "                              target_col: str,\n",
    "                              model_name: str) -> T.Variant:\n",
    "    from joblib import dump\n",
    "    import os\n",
    "    # Loading data into pandas dataframe\n",
    "    local_training_data = session.table(training_table).to_pandas()\n",
    "\n",
    "    # Define features and label\n",
    "    X = local_training_data[feature_cols]\n",
    "    y = local_training_data[target_col]\n",
    "\n",
    "    # Actual model training\n",
    "    from xgboost import XGBClassifier\n",
    "    xgbmodel = XGBClassifier(learning_rate=0.1,max_depth=4,n_estimators= 20, n_jobs= -1, objective= 'binary:logistic')\n",
    "    xgbmodel.fit(X,y)\n",
    "    \n",
    "    # Getting model coefficients\n",
    "    feat_importance = pd.DataFrame(xgbmodel.feature_importances_,feature_cols,columns=['FeatImportance']).to_dict()\n",
    "\n",
    "    # Save model as file and upload to Snowflake stage\n",
    "    model_file = os.path.join('/tmp', model_name)\n",
    "    dump(xgbmodel, model_file)\n",
    "    session.file.put(model_file, '@MODEL_STAGE', auto_compress=False, overwrite=True)\n",
    "\n",
    "    return feat_importance"
   ]
  },
  {
   "attachments": {},
   "cell_type": "markdown",
   "id": "7b9930e9",
   "metadata": {},
   "source": [
    "Register your Stored Procedure to train an XGBoost Model"
   ]
  },
  {
   "cell_type": "code",
   "execution_count": 83,
   "id": "76e8c036",
   "metadata": {},
   "outputs": [
    {
     "name": "stderr",
     "output_type": "stream",
     "text": [
      "The version of package xgboost in the local environment is 1.7.5, which does not fit the criteria for the requirement xgboost==1.7.3. Your UDF might not work when the package version is different between the server and your local environment\n",
      "The version of package joblib in the local environment is 1.2.0, which does not fit the criteria for the requirement joblib==1.1.1. Your UDF might not work when the package version is different between the server and your local environment\n"
     ]
    }
   ],
   "source": [
    "# Registering the function as a Stored Procedure\n",
    "sproc_xgboost_model = session.sproc.register(func=sproc_train_xgboost_model, \n",
    "                                            name='sproc_train_xgboost_model', \n",
    "                                            is_permanent=True, \n",
    "                                            replace=True, \n",
    "                                            stage_location='@MODEL_STAGE', \n",
    "                                            packages=[f'snowflake-snowpark-python==1.3.0'\n",
    "                                                      ,f'scikit-learn==1.2.2'\n",
    "                                                      ,f'xgboost==1.7.3'\n",
    "                                                      ,f'joblib==1.1.1'])"
   ]
  },
  {
   "attachments": {},
   "cell_type": "markdown",
   "id": "637bf6f7",
   "metadata": {},
   "source": [
    "Run your Stored Procedure to train an XGBoost Model"
   ]
  },
  {
   "cell_type": "code",
   "execution_count": 84,
   "id": "2c2cb11a",
   "metadata": {},
   "outputs": [],
   "source": [
    "training_table = \"frostbyte_tasty_bytes.analytics.train_table\"\n",
    "# get feature columns\n",
    "feature_cols = train_table.drop('NEXTPURCHASEDAYRANGE').columns\n",
    "target_col = 'NEXTPURCHASEDAYRANGE'\n",
    "model_name = 'xgboost_model.sav'\n",
    "\n",
    "feature_importance = sproc_xgboost_model(training_table, \n",
    "                                         feature_cols, \n",
    "                                         target_col,\n",
    "                                         model_name, \n",
    "                                         session=session)\n",
    "\n",
    "feature_importance = pd.DataFrame(eval(feature_importance))"
   ]
  },
  {
   "cell_type": "code",
   "execution_count": 85,
   "id": "0f88b3eb",
   "metadata": {},
   "outputs": [
    {
     "data": {
      "text/html": [
       "<div>\n",
       "<style scoped>\n",
       "    .dataframe tbody tr th:only-of-type {\n",
       "        vertical-align: middle;\n",
       "    }\n",
       "\n",
       "    .dataframe tbody tr th {\n",
       "        vertical-align: top;\n",
       "    }\n",
       "\n",
       "    .dataframe thead th {\n",
       "        text-align: right;\n",
       "    }\n",
       "</style>\n",
       "<table border=\"1\" class=\"dataframe\">\n",
       "  <thead>\n",
       "    <tr style=\"text-align: right;\">\n",
       "      <th></th>\n",
       "      <th>name</th>\n",
       "      <th>size</th>\n",
       "      <th>md5</th>\n",
       "      <th>last_modified</th>\n",
       "    </tr>\n",
       "  </thead>\n",
       "  <tbody>\n",
       "    <tr>\n",
       "      <th>0</th>\n",
       "      <td>model_stage/c63fd01776483bfda20e4ab09ae5ed4643...</td>\n",
       "      <td>13616</td>\n",
       "      <td>d9c1820c27993d4d292aed8f961da0d2</td>\n",
       "      <td>Wed, 24 May 2023 16:24:06 GMT</td>\n",
       "    </tr>\n",
       "    <tr>\n",
       "      <th>1</th>\n",
       "      <td>model_stage/e1c68012a174d85e8c6c4470c9cb5ff0e5...</td>\n",
       "      <td>353920</td>\n",
       "      <td>74ac8c781a7eeca2f0aecda85089026d</td>\n",
       "      <td>Wed, 24 May 2023 16:24:05 GMT</td>\n",
       "    </tr>\n",
       "    <tr>\n",
       "      <th>2</th>\n",
       "      <td>model_stage/optuna_model.sav</td>\n",
       "      <td>27472</td>\n",
       "      <td>de4c7c5c4363049dc23d3a3f6ee24f30</td>\n",
       "      <td>Wed, 24 May 2023 16:25:33 GMT</td>\n",
       "    </tr>\n",
       "    <tr>\n",
       "      <th>3</th>\n",
       "      <td>model_stage/xgb_churn_model.sav</td>\n",
       "      <td>36528</td>\n",
       "      <td>1a05a2eefcaccff7b8f7d6f9a016fb40</td>\n",
       "      <td>Tue, 23 May 2023 15:04:42 GMT</td>\n",
       "    </tr>\n",
       "    <tr>\n",
       "      <th>4</th>\n",
       "      <td>model_stage/xgboost_model.sav</td>\n",
       "      <td>37056</td>\n",
       "      <td>7f611c3616c09babce85f9208fcb98ec</td>\n",
       "      <td>Thu, 25 May 2023 01:00:06 GMT</td>\n",
       "    </tr>\n",
       "  </tbody>\n",
       "</table>\n",
       "</div>"
      ],
      "text/plain": [
       "                                                name    size  \\\n",
       "0  model_stage/c63fd01776483bfda20e4ab09ae5ed4643...   13616   \n",
       "1  model_stage/e1c68012a174d85e8c6c4470c9cb5ff0e5...  353920   \n",
       "2                       model_stage/optuna_model.sav   27472   \n",
       "3                    model_stage/xgb_churn_model.sav   36528   \n",
       "4                      model_stage/xgboost_model.sav   37056   \n",
       "\n",
       "                                md5                  last_modified  \n",
       "0  d9c1820c27993d4d292aed8f961da0d2  Wed, 24 May 2023 16:24:06 GMT  \n",
       "1  74ac8c781a7eeca2f0aecda85089026d  Wed, 24 May 2023 16:24:05 GMT  \n",
       "2  de4c7c5c4363049dc23d3a3f6ee24f30  Wed, 24 May 2023 16:25:33 GMT  \n",
       "3  1a05a2eefcaccff7b8f7d6f9a016fb40  Tue, 23 May 2023 15:04:42 GMT  \n",
       "4  7f611c3616c09babce85f9208fcb98ec  Thu, 25 May 2023 01:00:06 GMT  "
      ]
     },
     "execution_count": 85,
     "metadata": {},
     "output_type": "execute_result"
    }
   ],
   "source": [
    "# The model is now stored in a Snowflake stage\n",
    "pd.DataFrame(session.sql('LIST @MODEL_STAGE').collect())"
   ]
  },
  {
   "cell_type": "code",
   "execution_count": 86,
   "id": "34d66b31",
   "metadata": {},
   "outputs": [
    {
     "data": {
      "text/plain": [
       "<Axes: >"
      ]
     },
     "execution_count": 86,
     "metadata": {},
     "output_type": "execute_result"
    },
    {
     "data": {
      "image/png": "[encoded data removed]",
      "text/plain": [
       "<Figure size 500x1500 with 1 Axes>"
      ]
     },
     "metadata": {},
     "output_type": "display_data"
    }
   ],
   "source": [
    "# Plot Feature Importance\n",
    "feature_importance.sort_values('FeatImportance').plot.barh(y='FeatImportance', figsize=(5,15))"
   ]
  },
  {
   "attachments": {},
   "cell_type": "markdown",
   "id": "f8420b32",
   "metadata": {},
   "source": [
    "Model Scoring"
   ]
  },
  {
   "attachments": {},
   "cell_type": "markdown",
   "id": "b43fd35a",
   "metadata": {},
   "source": [
    "Define your UDF to Score an XGBoost Model"
   ]
  },
  {
   "cell_type": "code",
   "execution_count": 87,
   "id": "f7e72aaa",
   "metadata": {},
   "outputs": [],
   "source": [
    "# Define a simple scoring function\n",
    "from cachetools import cached\n",
    "\n",
    "@cached(cache={})\n",
    "def load_model(model_path: str) -> object:\n",
    "    from joblib import load\n",
    "    model = load(model_path)\n",
    "    return model\n",
    "\n",
    "def udf_score_logistic_xgboost_model_vec_cached(df: pd.DataFrame) -> pd.Series:\n",
    "    import os\n",
    "    import sys\n",
    "    # file-dependencies of UDFs are available in snowflake_import_directory\n",
    "    IMPORT_DIRECTORY_NAME = \"snowflake_import_directory\"\n",
    "    import_dir = sys._xoptions[IMPORT_DIRECTORY_NAME]\n",
    "    model_name = 'xgboost_model.sav'\n",
    "    model = load_model(import_dir+model_name)\n",
    "    df.columns = feature_cols\n",
    "    scored_data = pd.Series(model.predict(df))\n",
    "    return scored_data"
   ]
  },
  {
   "attachments": {},
   "cell_type": "markdown",
   "id": "a44b653e",
   "metadata": {},
   "source": [
    "Register your UDF to Score an XGBoost Model"
   ]
  },
  {
   "cell_type": "code",
   "execution_count": 88,
   "id": "fc2508c6",
   "metadata": {},
   "outputs": [
    {
     "name": "stderr",
     "output_type": "stream",
     "text": [
      "The version of package xgboost in the local environment is 1.7.5, which does not fit the criteria for the requirement xgboost==1.7.3. Your UDF might not work when the package version is different between the server and your local environment\n",
      "The version of package joblib in the local environment is 1.2.0, which does not fit the criteria for the requirement joblib==1.1.1. Your UDF might not work when the package version is different between the server and your local environment\n",
      "The version of package cachetools in the local environment is 5.3.0, which does not fit the criteria for the requirement cachetools==4.2.2. Your UDF might not work when the package version is different between the server and your local environment\n"
     ]
    }
   ],
   "source": [
    "# Register UDF\n",
    "udf_score_logistic_xgboost_model_vec_cached = session.udf.register(func=udf_score_logistic_xgboost_model_vec_cached, \n",
    "                                                                   name=\"udf_score_xgboost_model\", \n",
    "                                                                   stage_location='@MODEL_STAGE',\n",
    "                                                                   input_types=[T.FloatType()]*len(feature_cols),\n",
    "                                                                   return_type = T.FloatType(),\n",
    "                                                                   replace=True, \n",
    "                                                                   is_permanent=True, \n",
    "                                                                   imports=['@MODEL_STAGE/xgboost_model.sav'],\n",
    "                                                                   packages=[f'scikit-learn==1.2.2'\n",
    "                                                                             ,f'xgboost==1.7.3'\n",
    "                                                                             ,f'joblib==1.1.1'\n",
    "                                                                             ,f'cachetools==4.2.2'], \n",
    "                                                                   session=session)"
   ]
  },
  {
   "attachments": {},
   "cell_type": "markdown",
   "id": "3f08853c",
   "metadata": {},
   "source": [
    "Run your UDF to Score an XGBoost Model"
   ]
  },
  {
   "cell_type": "code",
   "execution_count": 89,
   "id": "fa170914",
   "metadata": {},
   "outputs": [
    {
     "name": "stdout",
     "output_type": "stream",
     "text": [
      "CPU times: total: 0 ns\n",
      "Wall time: 3.53 s\n"
     ]
    }
   ],
   "source": [
    "%%time\n",
    "# Scoring test data with scalar UDF but caching the model\n",
    "scored_sdf = test_table.with_column('PREDICTION', udf_score_logistic_xgboost_model_vec_cached(*feature_cols))\n",
    "scored_sdf.write.save_as_table(table_name='frostbyte_tasty_bytes.analytics.test_table', mode='overwrite')"
   ]
  },
  {
   "attachments": {},
   "cell_type": "markdown",
   "id": "0d865152",
   "metadata": {},
   "source": [
    "## Reset"
   ]
  },
  {
   "cell_type": "code",
   "execution_count": 139,
   "id": "7cc17fb5",
   "metadata": {},
   "outputs": [
    {
     "data": {
      "text/plain": [
       "'# Drop training table\\nsession.sql(\"DROP TABLE IF EXISTS frostbyte_tasty_bytes.analytics.shift_sales_train\").collect()\\n\\n# Drop testing table\\nsession.sql(\"DROP TABLE IF EXISTS frostbyte_tasty_bytes.analytics.shift_sales_test\").collect()\\n\\n# Drop training stored procedure\\nsession.sql(\"DROP PROCEDURE IF EXISTS sproc_train_linreg(varchar, array, varchar, varchar)\").collect()\\n\\n# Drop inference user-defined function\\nsession.sql(\\n    \"DROP FUNCTION IF EXISTS udf_linreg_predict_location_sales(float, float, float, float, float, float, float, float)\"\\n).collect()\\n\\n# Drop stage\\nsession.sql(\"DROP STAGE IF EXISTS model_stage\").collect()\\n\\n# Scale down compute\\nsession.sql(\"ALTER WAREHOUSE tasty_ds_wh SET WAREHOUSE_SIZE = XSMALL\").collect()\\n\\n# Close the session\\nsession.close()'"
      ]
     },
     "execution_count": 139,
     "metadata": {},
     "output_type": "execute_result"
    }
   ],
   "source": [
    "\"\"\"# Drop training table\n",
    "session.sql(\"DROP TABLE IF EXISTS frostbyte_tasty_bytes.analytics.shift_sales_train\").collect()\n",
    "\n",
    "# Drop testing table\n",
    "session.sql(\"DROP TABLE IF EXISTS frostbyte_tasty_bytes.analytics.shift_sales_test\").collect()\n",
    "\n",
    "# Drop training stored procedure\n",
    "session.sql(\"DROP PROCEDURE IF EXISTS sproc_train_linreg(varchar, array, varchar, varchar)\").collect()\n",
    "\n",
    "# Drop inference user-defined function\n",
    "session.sql(\n",
    "    \"DROP FUNCTION IF EXISTS udf_linreg_predict_location_sales(float, float, float, float, float, float, float, float)\"\n",
    ").collect()\n",
    "\n",
    "# Drop stage\n",
    "session.sql(\"DROP STAGE IF EXISTS model_stage\").collect()\n",
    "\n",
    "# Scale down compute\n",
    "session.sql(\"ALTER WAREHOUSE tasty_ds_wh SET WAREHOUSE_SIZE = XSMALL\").collect()\n",
    "\n",
    "# Close the session\n",
    "session.close()\"\"\""
   ]
  }
 ],
 "metadata": {
  "kernelspec": {
   "display_name": "py38_env",
   "language": "python",
   "name": "python3"
  },
  "language_info": {
   "codemirror_mode": {
    "name": "ipython",
    "version": 3
   },
   "file_extension": ".py",
   "mimetype": "text/x-python",
   "name": "python",
   "nbconvert_exporter": "python",
   "pygments_lexer": "ipython3",
   "version": "3.8.16"
  }
 },
 "nbformat": 4,
 "nbformat_minor": 5
}
