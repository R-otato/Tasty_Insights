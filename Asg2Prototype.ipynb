{
 "cells": [
  {
   "attachments": {},
   "cell_type": "markdown",
   "id": "eaeb5653",
   "metadata": {},
   "source": [
    "![Logo.png](Images/Logo.png)\n"
   ]
  },
  {
   "attachments": {},
   "cell_type": "markdown",
   "id": "c3f6eae7",
   "metadata": {},
   "source": [
    "#### 1. [Load and Explore the Data](#1)\n",
    "   - [1.1 Load Packages](#1.1)  \n",
    "   - [1.2 Load CSVs](#1.2) \n",
    "   - [1.3 Define NaNs](#1.3) \n",
    "   \n",
    "#### 2. [Data Wrangling on multiple tables](#2)\n",
    "   - [2.1 Define Target Variable](#2.1)  \n",
    "   - [2.2 Load and Clean Tables](#2.2)\n",
    "      - [2.2.1 Results Table](#2.2.1)\n",
    "      - [2.2.2 Driver Table](#2.2.2)\n",
    "      - [2.2.3 Races Table](#2.2.3)\n",
    "      - [2.2.4 Circuit Table](#2.2.4)\n",
    "      - [2.2.5 Driver Standings Table](#2.2.5)\n",
    "      - [2.2.6 Lap Time Table](#2.2.6)\n",
    "      - [2.2.7 Pit Stop Table](#2.2.7)\n",
    "\n",
    "#### 3. [Data Exploration](#3)\n",
    "   - [3.1 Dropping Unattainable Data](#3.1)  \n",
    "   - [3.2 Visualisations](#3.22)  \n",
    "      - [3.2.1 Correlation](#3.2.1)\n",
    "      - [3.2.2 Distribution](#3.2.2)\n",
    "\n",
    "#### 4. [Outlier Handling](#3)\n",
    "   - [4.1 Defining Diagnostic Plots](#4.1)  \n",
    "   - [4.2 Visualise Continuous Variables](#4.2)  \n",
    "   - [4.3 Outlier Removal Methods](#4.3)  \n",
    "      - [4.3.1 Capping](#4.3.1)\n",
    "      - [4.3.2 Winsorization](#4.3.2)\n",
    "\n",
    "#### 5. [Train Test Split](#5)\n",
    "\n",
    "#### 6. [Missing Value Imputation](#6)\n",
    "   - [6.1 Identify NaNs](#6.1)  \n",
    "   - [6.2 Null Handling](#6.2)  \n",
    "      - [6.2.1 K-Clustering Imputation](#6.2.1)\n",
    "      - [6.2.2 Arbitary Number Imputation](#6.2.2)\n",
    "      - [6.2.3 Random Sampling Imputation](#6.2.3)\n",
    "\n",
    "#### 7. [Transformation](#7)\n",
    "   - [7.1 Initalizing Transformers](#7.1)  \n",
    "   - [7.2 Visualise Changes](#7.2)  \n",
    "\n",
    "#### 8. [Categorial Encoding](#8)\n",
    "   - [8.1 Identify Categoricals](#8.1)  \n",
    "   - [8.2 Encoding](#8.2)  \n",
    "      - [8.2.1 One-Hot Encoding](#8.2.1)\n",
    "      - [8.2.2 Frequency Encoding](#8.2.2)\n",
    "\n",
    "#### 9. [Variable Discretization](#9)\n",
    "   - [9.1 Initalize Variables](#9.1)  \n",
    "   - [9.2 Equal Width/Frequency Discretiser](#9.2)  \n",
    "\n",
    "#### 10. [Scaling](#10)\n",
    "   - [10.1 Initalize Scaler](#10.1)  \n",
    "      - [10.1.1 Standard Scaler](#10.1.1)\n",
    "      - [10.1.2 MinMax Scaler](#10.1.2)\n",
    "      - [10.1.3 Robust Scaler](#10.1.3)\n",
    "      - [10.1.4 Maximum Absoulute Scaler](#10.1.4)\n",
    "      - [10.1.5 Mean Normalisation Scaler](#10.1.5)\n",
    "   - [10.2 Visualise Scalers](#10.2)  \n",
    "\n",
    "#### 11. [Machine Learning Modelling](#11)\n",
    "   - [11.1 Naive BaseLine](#11.1)  \n",
    "      - [11.1.1 Defining Modal label](#11.1.1)\n",
    "      - [11.1.2 Prediction](#11.1.2)\n",
    "   - [11.2 Decision Tree](#11.2)  \n",
    "      - [11.2.1 Set Up](#11.2.1)\n",
    "      - [11.2.2 Prediction](#11.2.2)\n",
    "   - [11.3 Logistic Regression](#11.3)  \n",
    "      - [11.3.1 Set Up](#1.3.1)\n",
    "      - [11.3.2 Prediction](#11.3.2)\n",
    "\n",
    "\n",
    "\n"
   ]
  },
  {
   "attachments": {},
   "cell_type": "markdown",
   "id": "0f547ef0",
   "metadata": {},
   "source": [
    "# 0. Setup"
   ]
  },
  {
   "attachments": {},
   "cell_type": "markdown",
   "id": "9f8d1940",
   "metadata": {},
   "source": [
    "## 0.1 Import Packages"
   ]
  },
  {
   "cell_type": "code",
   "execution_count": 1,
   "id": "2b76a42a",
   "metadata": {},
   "outputs": [],
   "source": [
    "#Import Python packages\n",
    "import pandas as pd\n",
    "import json\n",
    "import matplotlib.pyplot as plt\n",
    "import seaborn as sns\n",
    "import numpy as np\n",
    "import json\n",
    "import datetime\n",
    "\n",
    "# for splitting of the dataset\n",
    "from sklearn.model_selection import train_test_split\n",
    "\n",
    "# for encoding/transforming the data\n",
    "from feature_engine.encoding import OneHotEncoder\n",
    "from feature_engine.outliers import Winsorizer\n",
    "from feature_engine.transformation import YeoJohnsonTransformer\n",
    "from sklearn.preprocessing import MinMaxScaler\n",
    "\n",
    "#ML-Models: Classification\n",
    "from xgboost import XGBClassifier\n",
    "from sklearn import tree\n",
    "from sklearn.linear_model import LogisticRegression\n",
    "from sklearn. ensemble import RandomForestClassifier\n",
    "from sklearn.tree import DecisionTreeClassifier\n",
    "from sklearn. ensemble import AdaBoostClassifier\n",
    "\n",
    "\n",
    "# for getting metrics\n",
    "from sklearn.metrics import accuracy_score\n",
    "from sklearn.metrics import classification_report\n",
    "\n",
    "# model selection\n",
    "from sklearn.model_selection import GridSearchCV\n",
    "\n",
    "# for feature selection\n",
    "from sklearn.feature_selection import SelectFromModel\n",
    "\n",
    "# Import Snowflake modules\n",
    "from snowflake.snowpark import Session\n",
    "import snowflake.snowpark.functions as F\n",
    "import snowflake.snowpark.types as T\n",
    "from snowflake.snowpark import Window"
   ]
  },
  {
   "attachments": {},
   "cell_type": "markdown",
   "id": "c689510f",
   "metadata": {},
   "source": [
    "## 0.2 Connect to Snowflake"
   ]
  },
  {
   "cell_type": "code",
   "execution_count": 2,
   "id": "9140d4bb",
   "metadata": {},
   "outputs": [],
   "source": [
    "# Get account credentials from a json file\n",
    "with open(\"data_scientist_auth.json\") as f:\n",
    "    data = json.load(f)\n",
    "    username = data[\"username\"]\n",
    "    password = data[\"password\"]\n",
    "    account = data[\"account\"]\n",
    "\n",
    "# Specify connection parameters\n",
    "connection_parameters = {\n",
    "    \"account\": account,\n",
    "    \"user\": username,\n",
    "    \"password\": password,\n",
    "    \"role\": \"TASTY_BI\",\n",
    "    \"warehouse\": \"TASTY_BI_WH\",\n",
    "    \"database\": \"frostbyte_tasty_bytes\",\n",
    "    \"schema\": \"analytics\",\n",
    "}\n",
    "\n",
    "# Create Snowpark session\n",
    "session = Session.builder.configs(connection_parameters).create()"
   ]
  },
  {
   "attachments": {},
   "cell_type": "markdown",
   "id": "c3d02814",
   "metadata": {},
   "source": [
    "## 0.3 Gathering Data as Snowpark DataFrame"
   ]
  },
  {
   "cell_type": "code",
   "execution_count": 3,
   "id": "9f5810e2",
   "metadata": {},
   "outputs": [],
   "source": [
    "# Orders_V\n",
    "# contains orders, trucks, shift information\n",
    "tasty_bytes_orders_v = session.table(\"frostbyte_tasty_bytes.analytics.orders_v\")\n",
    "# Customer Loyalty\n",
    "# contains information on signed up members\n",
    "tasty_bytes_customer_loyalty = session.table(\"frostbyte_tasty_bytes.raw_customer.customer_loyalty\")"
   ]
  },
  {
   "attachments": {},
   "cell_type": "markdown",
   "id": "461b0173",
   "metadata": {},
   "source": [
    "# 1. Data Exploration "
   ]
  },
  {
   "attachments": {},
   "cell_type": "markdown",
   "id": "56d1ecc6",
   "metadata": {},
   "source": [
    "## 1.1 Members in Country"
   ]
  },
  {
   "cell_type": "code",
   "execution_count": 4,
   "id": "c7a37387",
   "metadata": {},
   "outputs": [
    {
     "data": {
      "image/png": "[encoded data removed]",
      "text/plain": [
       "<Figure size 640x480 with 1 Axes>"
      ]
     },
     "metadata": {},
     "output_type": "display_data"
    }
   ],
   "source": [
    "# Unique members\n",
    "temp_df=tasty_bytes_customer_loyalty.group_by(F.col('Country')).count().to_pandas().sort_values(by='COUNT',ascending=False)\n",
    "sns.barplot(x='COUNTRY',y='COUNT',data=temp_df)\n",
    "plt.xticks(rotation=90)\n",
    "plt.title('Number of Members per Country')\n",
    "plt.show()"
   ]
  },
  {
   "attachments": {},
   "cell_type": "markdown",
   "id": "a0b6f340",
   "metadata": {},
   "source": [
    "## 1.2 Total number of Transactions"
   ]
  },
  {
   "cell_type": "code",
   "execution_count": 5,
   "id": "38ef8554",
   "metadata": {},
   "outputs": [
    {
     "data": {
      "image/png": "[encoded data removed]",
      "text/plain": [
       "<Figure size 640x480 with 1 Axes>"
      ]
     },
     "metadata": {},
     "output_type": "display_data"
    }
   ],
   "source": [
    "# Number of unique transactions\n",
    "temp_df=tasty_bytes_orders_v.group_by(F.col('COUNTRY')).agg(F.countDistinct('ORDER_ID').alias('COUNT')).to_pandas().sort_values(by='COUNT',ascending=False)\n",
    "sns.barplot(x='COUNTRY',y='COUNT',data=temp_df)\n",
    "plt.xticks(rotation=90)\n",
    "plt.title('')\n",
    "plt.show()"
   ]
  },
  {
   "attachments": {},
   "cell_type": "markdown",
   "id": "61eb6572",
   "metadata": {},
   "source": [
    "## 1.3 Churn Rate by Country"
   ]
  },
  {
   "attachments": {},
   "cell_type": "markdown",
   "id": "353bc62b",
   "metadata": {},
   "source": [
    "### 1.3.1 Get Churn Cut Off date by Country"
   ]
  },
  {
   "cell_type": "code",
   "execution_count": 6,
   "id": "10b4fddf",
   "metadata": {},
   "outputs": [],
   "source": [
    "#Get last transaction date for each country\n",
    "last_tran_country = tasty_bytes_orders_v.group_by(F.col('COUNTRY')).max(F.to_date(F.col('ORDER_TS'))).to_pandas()\n",
    "\n",
    "#Get assumed churned date which is two weeks before last transaction date, then get total number of customers in the assumed time period\n",
    "last_tran_country['CHURN_DATE']=last_tran_country['MAX(TO_DATE(ORDER_TS))']-datetime.timedelta(days=14)\n",
    "last_tran_country['CUSTOMER_COUNT_DATE']=last_tran_country['MAX(TO_DATE(ORDER_TS))']-datetime.timedelta(days=44)\n",
    "\n",
    "#Make pandas dataframe into a snowpark dataframe\n",
    "last_tran_country_sdf=session.createDataFrame(last_tran_country)\n",
    "\n",
    "#Merge \n",
    "last_tran_country_sdf_join = last_tran_country_sdf.join(\n",
    "    right=tasty_bytes_orders_v,\n",
    "    on=\"COUNTRY\",\n",
    "    how=\"inner\"\n",
    ")"
   ]
  },
  {
   "attachments": {},
   "cell_type": "markdown",
   "id": "f4756327",
   "metadata": {},
   "source": [
    "### 1.3.2 Calculate Churn Rate by Country"
   ]
  },
  {
   "cell_type": "code",
   "execution_count": 7,
   "id": "65c811f1",
   "metadata": {},
   "outputs": [],
   "source": [
    "#Filter dataframe to the assumed time period\n",
    "df = last_tran_country_sdf_join[last_tran_country_sdf_join[\"DATE\"] > last_tran_country_sdf_join[\"CUSTOMER_COUNT_DATE\"]]\n",
    "\n",
    "#Filter to get churned members dataset\n",
    "df2 = df[last_tran_country_sdf_join[\"DATE\"] > last_tran_country_sdf_join[\"CHURN_DATE\"]]\n",
    "\n",
    "#Number of customers before churn date\n",
    "cust_bef = df.groupBy(\"COUNTRY\").agg(F.countDistinct(F.col(\"CUSTOMER_ID\")).alias('COUNT_BEF'))\n",
    "#Number of customers after churn date\n",
    "cust_aft = df2.groupBy(\"COUNTRY\").agg(F.countDistinct(F.col(\"CUSTOMER_ID\")).alias('COUNT_AFT'))\n",
    "\n",
    "#Merge\n",
    "calculator = cust_aft.join(\n",
    "    right=cust_bef,\n",
    "    on=\"COUNTRY\",\n",
    "    how=\"inner\"\n",
    ")\n",
    "calc = calculator.to_pandas()\n",
    "\n",
    "#Calculate Churn rate \n",
    "calc[\"CHURN_RATE\"] = (((calc[\"COUNT_BEF\"] - calc[\"COUNT_AFT\"]) / calc[\"COUNT_BEF\"]) * 100)\n",
    "temp_df=calc.sort_values(by='CHURN_RATE',ascending=False)"
   ]
  },
  {
   "attachments": {},
   "cell_type": "markdown",
   "id": "3b1212ca",
   "metadata": {},
   "source": [
    "### 1.3.3 Visualise Churn Rate"
   ]
  },
  {
   "cell_type": "code",
   "execution_count": 8,
   "id": "7859f70e",
   "metadata": {},
   "outputs": [
    {
     "data": {
      "image/png": "[encoded data removed]",
      "text/plain": [
       "<Figure size 640x480 with 1 Axes>"
      ]
     },
     "metadata": {},
     "output_type": "display_data"
    }
   ],
   "source": [
    "#Churn rate by Country\n",
    "sns.barplot(x='COUNTRY',y='CHURN_RATE',data=temp_df)\n",
    "plt.xticks(rotation=90)\n",
    "plt.title('Churn rate by Country')\n",
    "plt.show()"
   ]
  },
  {
   "attachments": {},
   "cell_type": "markdown",
   "id": "c8a3da66",
   "metadata": {},
   "source": [
    "<b>We decided to work on United States as it has the most number of customers, a high number of customers and quite a high Churn Rate."
   ]
  },
  {
   "attachments": {},
   "cell_type": "markdown",
   "id": "ff826d48",
   "metadata": {},
   "source": [
    "# 2. Joining Tables"
   ]
  },
  {
   "attachments": {},
   "cell_type": "markdown",
   "id": "288a07ad",
   "metadata": {},
   "source": [
    "## 2.1 Define functions"
   ]
  },
  {
   "attachments": {},
   "cell_type": "markdown",
   "id": "b077322d",
   "metadata": {},
   "source": [
    "### 2.1.1 Remove Duplicate Columns from Joins"
   ]
  },
  {
   "cell_type": "code",
   "execution_count": 9,
   "id": "a97a6df1",
   "metadata": {},
   "outputs": [],
   "source": [
    "#Function to remove and rename columns after inner join\n",
    "def remove_dup_join_col(df):\n",
    "    # capitalise all columns\n",
    "    for col in df.columns:\n",
    "        df = df.withColumnRenamed(col, col.upper())\n",
    "    \n",
    "    # get list of renamable columns for left and right join\n",
    "    left_dup_col = [col_name for col_name in df.columns if col_name.startswith('L_')]\n",
    "    right_dup_col = [col_name for col_name in df.columns if col_name.startswith('R_')]\n",
    "    old_columns = df.columns\n",
    "    \n",
    "    # rename the list with the most number of renamable columns\n",
    "    # drop the list of columns with less number of renamable columns\n",
    "    if len(left_dup_col)>len(right_dup_col):\n",
    "        columns_rename=left_dup_col\n",
    "        df= df.drop(*right_dup_col)\n",
    "    else:\n",
    "        columns_rename=right_dup_col\n",
    "        df= df.drop(*left_dup_col)\n",
    "    \n",
    "    for old_column in old_columns:\n",
    "        if old_column in columns_rename:\n",
    "            # get string to remove\n",
    "            string_to_replace = columns_rename[0][:7]\n",
    "            # replace starting string\n",
    "            new_column = old_column.replace(string_to_replace, \"\")\n",
    "            df = df.withColumnRenamed(old_column, new_column)\n",
    "    \n",
    "    return df"
   ]
  },
  {
   "attachments": {},
   "cell_type": "markdown",
   "id": "8bee097b",
   "metadata": {},
   "source": [
    "## 2.2 Join Members Data with Orders_V"
   ]
  },
  {
   "attachments": {},
   "cell_type": "markdown",
   "id": "6374cdbe",
   "metadata": {},
   "source": [
    "### 2.2.1 Inner Join Tables"
   ]
  },
  {
   "cell_type": "code",
   "execution_count": 10,
   "id": "04b27d34",
   "metadata": {},
   "outputs": [
    {
     "name": "stdout",
     "output_type": "stream",
     "text": [
      "---------------------------------------------------------------------------------------------------------------------------------------------------------------------------------------------------------------------------------------------------------------------------------------------------------------------------------------------------------------------------------------------------------------------------------------------------------------------------------------------------------------------------------------------------------------------------------------------------------------------------------------------------------------------------------------------------------------------------------------------------------------------------------------------------------------------------------------------------------------------------------------------------------------------------------------------------------------------------------------------------------------------------------------------------------------------------------------------------------------------------------------------------------------\n",
      "|\"CUSTOMER_ID\"  |\"DATE\"      |\"ORDER_ID\"  |\"TRUCK_ID\"  |\"ORDER_TS\"           |\"ORDER_DETAIL_ID\"  |\"LINE_NUMBER\"  |\"TRUCK_BRAND_NAME\"  |\"MENU_TYPE\"     |\"PRIMARY_CITY\"  |\"REGION\"                 |\"l_enjw_COUNTRY\"  |\"FRANCHISE_FLAG\"  |\"FRANCHISE_ID\"  |\"FRANCHISEE_FIRST_NAME\"  |\"FRANCHISEE_LAST_NAME\"  |\"LOCATION_ID\"  |\"PLACEKEY\"           |\"LOCATION_NAME\"                               |\"TOP_CATEGORY\"                                      |\"SUB_CATEGORY\"                           |\"LATITUDE\"  |\"LONGITUDE\"  |\"l_enjw_FIRST_NAME\"  |\"l_enjw_LAST_NAME\"  |\"l_enjw_E_MAIL\"              |\"l_enjw_PHONE_NUMBER\"  |\"l_enjw_CHILDREN_COUNT\"  |\"l_enjw_GENDER\"  |\"l_enjw_MARITAL_STATUS\"  |\"MENU_ITEM_ID\"  |\"MENU_ITEM_NAME\"   |\"QUANTITY\"  |\"UNIT_PRICE\"  |\"PRICE\"  |\"ORDER_AMOUNT\"  |\"ORDER_TAX_AMOUNT\"  |\"ORDER_DISCOUNT_AMOUNT\"  |\"ORDER_TOTAL\"  |\"r_b63y_FIRST_NAME\"  |\"r_b63y_LAST_NAME\"  |\"CITY\"  |\"r_b63y_COUNTRY\"  |\"POSTAL_CODE\"  |\"PREFERRED_LANGUAGE\"  |\"r_b63y_GENDER\"  |\"FAVOURITE_BRAND\"  |\"r_b63y_MARITAL_STATUS\"  |\"r_b63y_CHILDREN_COUNT\"  |\"SIGN_UP_DATE\"  |\"BIRTHDAY_DATE\"  |\"r_b63y_E_MAIL\"              |\"r_b63y_PHONE_NUMBER\"  |\n",
      "---------------------------------------------------------------------------------------------------------------------------------------------------------------------------------------------------------------------------------------------------------------------------------------------------------------------------------------------------------------------------------------------------------------------------------------------------------------------------------------------------------------------------------------------------------------------------------------------------------------------------------------------------------------------------------------------------------------------------------------------------------------------------------------------------------------------------------------------------------------------------------------------------------------------------------------------------------------------------------------------------------------------------------------------------------------------------------------------------------------------------------------------------------------\n",
      "|126622         |2022-09-19  |63330798    |186         |2022-09-19 17:59:37  |170946863          |0              |The Mega Melt       |Grilled Cheese  |Warsaw          |Mazowieckie województwo  |Poland            |1                 |136             |Natalie                  |Tucker                  |11549          |zzy-228@52w-bgv-4vz  |Bachleda Sport                                |Sporting Goods, Hobby, and Musical Instrument S...  |Sporting Goods Stores                    |52.219499   |20.985819    |Tyree                |Rivers              |Tyree.Rivers@aol.com         |078-678-8469           |1                        |Undisclosed      |Married                  |61              |The Original       |1           |5.0000        |5.0000   |11.0000         |NULL                |NULL                     |11.0000        |Tyree                |Rivers              |Warsaw  |Poland            |00-036         |Polish                |Undisclosed      |NULL               |Married                  |1                        |2019-01-02      |1958-10-14       |Tyree.Rivers@aol.com         |078-678-8469           |\n",
      "|126622         |2022-09-19  |63330798    |186         |2022-09-19 17:59:37  |170946864          |1              |The Mega Melt       |Grilled Cheese  |Warsaw          |Mazowieckie województwo  |Poland            |1                 |136             |Natalie                  |Tucker                  |11549          |zzy-228@52w-bgv-4vz  |Bachleda Sport                                |Sporting Goods, Hobby, and Musical Instrument S...  |Sporting Goods Stores                    |52.219499   |20.985819    |Tyree                |Rivers              |Tyree.Rivers@aol.com         |078-678-8469           |1                        |Undisclosed      |Married                  |62              |The Ranch          |1           |6.0000        |6.0000   |11.0000         |NULL                |NULL                     |11.0000        |Tyree                |Rivers              |Warsaw  |Poland            |00-036         |Polish                |Undisclosed      |NULL               |Married                  |1                        |2019-01-02      |1958-10-14       |Tyree.Rivers@aol.com         |078-678-8469           |\n",
      "|42558          |2022-09-19  |63333156    |189         |2022-09-19 15:35:34  |170953147          |0              |Tasty Tibs          |Ethiopian       |Warsaw          |Mazowieckie województwo  |Poland            |1                 |139             |Michelle                 |Allen                   |13830          |zzy-22x@52w-6tj-hyv  |Liga Firm Sobczak Robert Grzegorzewski Artur  |Other Amusement and Recreation Industries           |Fitness and Recreational Sports Centers  |52.130844   |21.074482    |Tyrone               |Mccullough          |Tyrone.Mccullough@ymail.com  |468-250-9508           |0                        |Male             |Married                  |96              |Ice Tea            |3           |3.0000        |9.0000   |67.0000         |NULL                |NULL                     |67.0000        |Tyrone               |Mccullough          |Warsaw  |Poland            |00-007         |Polish                |Male             |NULL               |Married                  |0                        |2019-08-02      |1946-05-09       |Tyrone.Mccullough@ymail.com  |468-250-9508           |\n",
      "|42558          |2022-09-19  |63333156    |189         |2022-09-19 15:35:34  |170953148          |1              |Tasty Tibs          |Ethiopian       |Warsaw          |Mazowieckie województwo  |Poland            |1                 |139             |Michelle                 |Allen                   |13830          |zzy-22x@52w-6tj-hyv  |Liga Firm Sobczak Robert Grzegorzewski Artur  |Other Amusement and Recreation Industries           |Fitness and Recreational Sports Centers  |52.130844   |21.074482    |Tyrone               |Mccullough          |Tyrone.Mccullough@ymail.com  |468-250-9508           |0                        |Male             |Married                  |91              |Lean Chicken Tibs  |3           |11.0000       |33.0000  |67.0000         |NULL                |NULL                     |67.0000        |Tyrone               |Mccullough          |Warsaw  |Poland            |00-007         |Polish                |Male             |NULL               |Married                  |0                        |2019-08-02      |1946-05-09       |Tyrone.Mccullough@ymail.com  |468-250-9508           |\n",
      "|42558          |2022-09-19  |63333156    |189         |2022-09-19 15:35:34  |170953149          |2              |Tasty Tibs          |Ethiopian       |Warsaw          |Mazowieckie województwo  |Poland            |1                 |139             |Michelle                 |Allen                   |13830          |zzy-22x@52w-6tj-hyv  |Liga Firm Sobczak Robert Grzegorzewski Artur  |Other Amusement and Recreation Industries           |Fitness and Recreational Sports Centers  |52.130844   |21.074482    |Tyrone               |Mccullough          |Tyrone.Mccullough@ymail.com  |468-250-9508           |0                        |Male             |Married                  |92              |Lean Beef Tibs     |1           |13.0000       |13.0000  |67.0000         |NULL                |NULL                     |67.0000        |Tyrone               |Mccullough          |Warsaw  |Poland            |00-007         |Polish                |Male             |NULL               |Married                  |0                        |2019-08-02      |1946-05-09       |Tyrone.Mccullough@ymail.com  |468-250-9508           |\n",
      "|42558          |2022-09-19  |63333156    |189         |2022-09-19 15:35:34  |170953150          |3              |Tasty Tibs          |Ethiopian       |Warsaw          |Mazowieckie województwo  |Poland            |1                 |139             |Michelle                 |Allen                   |13830          |zzy-22x@52w-6tj-hyv  |Liga Firm Sobczak Robert Grzegorzewski Artur  |Other Amusement and Recreation Industries           |Fitness and Recreational Sports Centers  |52.130844   |21.074482    |Tyrone               |Mccullough          |Tyrone.Mccullough@ymail.com  |468-250-9508           |0                        |Male             |Married                  |93              |Veggie Combo       |1           |9.0000        |9.0000   |67.0000         |NULL                |NULL                     |67.0000        |Tyrone               |Mccullough          |Warsaw  |Poland            |00-007         |Polish                |Male             |NULL               |Married                  |0                        |2019-08-02      |1946-05-09       |Tyrone.Mccullough@ymail.com  |468-250-9508           |\n",
      "|42558          |2022-09-19  |63333156    |189         |2022-09-19 15:35:34  |170953151          |4              |Tasty Tibs          |Ethiopian       |Warsaw          |Mazowieckie województwo  |Poland            |1                 |139             |Michelle                 |Allen                   |13830          |zzy-22x@52w-6tj-hyv  |Liga Firm Sobczak Robert Grzegorzewski Artur  |Other Amusement and Recreation Industries           |Fitness and Recreational Sports Centers  |52.130844   |21.074482    |Tyrone               |Mccullough          |Tyrone.Mccullough@ymail.com  |468-250-9508           |0                        |Male             |Married                  |95              |Bottled Soda       |1           |3.0000        |3.0000   |67.0000         |NULL                |NULL                     |67.0000        |Tyrone               |Mccullough          |Warsaw  |Poland            |00-007         |Polish                |Male             |NULL               |Married                  |0                        |2019-08-02      |1946-05-09       |Tyrone.Mccullough@ymail.com  |468-250-9508           |\n",
      "|117507         |2022-09-19  |63333471    |189         |2022-09-19 19:56:11  |170953992          |0              |Tasty Tibs          |Ethiopian       |Warsaw          |Mazowieckie województwo  |Poland            |1                 |139             |Michelle                 |Allen                   |13830          |zzy-22x@52w-6tj-hyv  |Liga Firm Sobczak Robert Grzegorzewski Artur  |Other Amusement and Recreation Industries           |Fitness and Recreational Sports Centers  |52.130844   |21.074482    |Keira                |Coleman             |Keira.Coleman@ymail.com      |984-130-0916           |2                        |Female           |Divorced/Seperated       |91              |Lean Chicken Tibs  |1           |11.0000       |11.0000  |42.0000         |NULL                |NULL                     |42.0000        |Keira                |Coleman             |Warsaw  |Poland            |00-087         |Polish                |Female           |NULL               |Divorced/Seperated       |2                        |2022-05-13      |1945-02-12       |Keira.Coleman@ymail.com      |984-130-0916           |\n",
      "|117507         |2022-09-19  |63333471    |189         |2022-09-19 19:56:11  |170953993          |1              |Tasty Tibs          |Ethiopian       |Warsaw          |Mazowieckie województwo  |Poland            |1                 |139             |Michelle                 |Allen                   |13830          |zzy-22x@52w-6tj-hyv  |Liga Firm Sobczak Robert Grzegorzewski Artur  |Other Amusement and Recreation Industries           |Fitness and Recreational Sports Centers  |52.130844   |21.074482    |Keira                |Coleman             |Keira.Coleman@ymail.com      |984-130-0916           |2                        |Female           |Divorced/Seperated       |92              |Lean Beef Tibs     |1           |13.0000       |13.0000  |42.0000         |NULL                |NULL                     |42.0000        |Keira                |Coleman             |Warsaw  |Poland            |00-087         |Polish                |Female           |NULL               |Divorced/Seperated       |2                        |2022-05-13      |1945-02-12       |Keira.Coleman@ymail.com      |984-130-0916           |\n",
      "|117507         |2022-09-19  |63333471    |189         |2022-09-19 19:56:11  |170953994          |2              |Tasty Tibs          |Ethiopian       |Warsaw          |Mazowieckie województwo  |Poland            |1                 |139             |Michelle                 |Allen                   |13830          |zzy-22x@52w-6tj-hyv  |Liga Firm Sobczak Robert Grzegorzewski Artur  |Other Amusement and Recreation Industries           |Fitness and Recreational Sports Centers  |52.130844   |21.074482    |Keira                |Coleman             |Keira.Coleman@ymail.com      |984-130-0916           |2                        |Female           |Divorced/Seperated       |93              |Veggie Combo       |2           |9.0000        |18.0000  |42.0000         |NULL                |NULL                     |42.0000        |Keira                |Coleman             |Warsaw  |Poland            |00-087         |Polish                |Female           |NULL               |Divorced/Seperated       |2                        |2022-05-13      |1945-02-12       |Keira.Coleman@ymail.com      |984-130-0916           |\n",
      "---------------------------------------------------------------------------------------------------------------------------------------------------------------------------------------------------------------------------------------------------------------------------------------------------------------------------------------------------------------------------------------------------------------------------------------------------------------------------------------------------------------------------------------------------------------------------------------------------------------------------------------------------------------------------------------------------------------------------------------------------------------------------------------------------------------------------------------------------------------------------------------------------------------------------------------------------------------------------------------------------------------------------------------------------------------------------------------------------------------------------------------------------------------\n",
      "\n",
      "Number of rows: 36279471\n"
     ]
    }
   ],
   "source": [
    "#Merge to get loyal customers orders\n",
    "loyal_customer_orders=tasty_bytes_orders_v.join(\n",
    "    right=tasty_bytes_customer_loyalty,\n",
    "    on=\"CUSTOMER_ID\",\n",
    "    how=\"inner\"\n",
    ")\n",
    "loyal_customer_orders.show()\n",
    "print('Number of rows:',loyal_customer_orders.count())"
   ]
  },
  {
   "attachments": {},
   "cell_type": "markdown",
   "id": "f798993c",
   "metadata": {},
   "source": [
    "### 2.2.2 Remove Duplicate "
   ]
  },
  {
   "cell_type": "code",
   "execution_count": 11,
   "id": "aff6a312",
   "metadata": {},
   "outputs": [
    {
     "name": "stdout",
     "output_type": "stream",
     "text": [
      "---------------------------------------------------------------------------------------------------------------------------------------------------------------------------------------------------------------------------------------------------------------------------------------------------------------------------------------------------------------------------------------------------------------------------------------------------------------------------------------------------------------------------------------------------------------------------------------------------------------------------------------------------------------------------------------------------------------------------------------------------------------------------------------------------------------------------------------------------------------------------------------------------------------\n",
      "|\"CUSTOMER_ID\"  |\"DATE\"      |\"ORDER_ID\"  |\"TRUCK_ID\"  |\"ORDER_TS\"           |\"ORDER_DETAIL_ID\"  |\"LINE_NUMBER\"  |\"TRUCK_BRAND_NAME\"  |\"MENU_TYPE\"   |\"PRIMARY_CITY\"  |\"REGION\"  |\"FRANCHISE_FLAG\"  |\"FRANCHISE_ID\"  |\"FRANCHISEE_FIRST_NAME\"  |\"FRANCHISEE_LAST_NAME\"  |\"LOCATION_ID\"  |\"PLACEKEY\"           |\"LOCATION_NAME\"                         |\"TOP_CATEGORY\"                                    |\"SUB_CATEGORY\"                                    |\"LATITUDE\"  |\"LONGITUDE\"  |\"MENU_ITEM_ID\"  |\"MENU_ITEM_NAME\"            |\"QUANTITY\"  |\"UNIT_PRICE\"  |\"PRICE\"  |\"ORDER_AMOUNT\"  |\"ORDER_TAX_AMOUNT\"  |\"ORDER_DISCOUNT_AMOUNT\"  |\"ORDER_TOTAL\"  |\"FIRST_NAME\"  |\"LAST_NAME\"  |\"CITY\"   |\"COUNTRY\"  |\"POSTAL_CODE\"  |\"PREFERRED_LANGUAGE\"  |\"GENDER\"  |\"FAVOURITE_BRAND\"  |\"MARITAL_STATUS\"  |\"CHILDREN_COUNT\"  |\"SIGN_UP_DATE\"  |\"BIRTHDAY_DATE\"  |\"E_MAIL\"                      |\"PHONE_NUMBER\"  |\n",
      "---------------------------------------------------------------------------------------------------------------------------------------------------------------------------------------------------------------------------------------------------------------------------------------------------------------------------------------------------------------------------------------------------------------------------------------------------------------------------------------------------------------------------------------------------------------------------------------------------------------------------------------------------------------------------------------------------------------------------------------------------------------------------------------------------------------------------------------------------------------------------------------------------------------\n",
      "|56934          |2022-10-28  |22002493    |79          |2022-10-28 13:58:13  |59726237           |0              |The Mac Shack       |Mac & Cheese  |Toronto         |Ontario   |1                 |62              |Sarah                    |Phillips                |2147           |226-222@665-zdc-f2k  |Super Tech                              |Other Amusement and Recreation Industries         |All Other Amusement and Recreation Industries     |43.653254   |-79.394751   |43              |Lobster Mac & Cheese        |1           |15.0000       |15.0000  |15.0000         |NULL                |NULL                     |15.0000        |Adolfo        |Huff         |Toronto  |Canada     |M4C 3M7        |English               |Female    |NULL               |Single            |0                 |2020-02-13      |1999-11-17       |Adolfo.Huff@gmail.com         |111-587-1978    |\n",
      "|93503          |2022-10-28  |22002963    |79          |2022-10-28 19:29:22  |59727432           |0              |The Mac Shack       |Mac & Cheese  |Toronto         |Ontario   |1                 |62              |Sarah                    |Phillips                |2592           |22c-224@665-zbn-6tv  |Hayes Doreen School of Dancing          |Other Amusement and Recreation Industries         |Fitness and Recreational Sports Centers           |43.649103   |-79.48448    |42              |Buffalo Mac & Cheese        |1           |10.0000       |10.0000  |25.0000         |NULL                |NULL                     |25.0000        |Kaitlynn      |Church       |Toronto  |Canada     |M4C 1L8        |English               |Female    |NULL               |Married           |2                 |2021-05-31      |2005-08-02       |Kaitlynn.Church@gmail.com     |391-106-1130    |\n",
      "|93503          |2022-10-28  |22002963    |79          |2022-10-28 19:29:22  |59727433           |1              |The Mac Shack       |Mac & Cheese  |Toronto         |Ontario   |1                 |62              |Sarah                    |Phillips                |2592           |22c-224@665-zbn-6tv  |Hayes Doreen School of Dancing          |Other Amusement and Recreation Industries         |Fitness and Recreational Sports Centers           |43.649103   |-79.48448    |43              |Lobster Mac & Cheese        |1           |15.0000       |15.0000  |25.0000         |NULL                |NULL                     |25.0000        |Kaitlynn      |Church       |Toronto  |Canada     |M4C 1L8        |English               |Female    |NULL               |Married           |2                 |2021-05-31      |2005-08-02       |Kaitlynn.Church@gmail.com     |391-106-1130    |\n",
      "|167987         |2022-10-28  |22003026    |79          |2022-10-28 20:02:20  |59727596           |0              |The Mac Shack       |Mac & Cheese  |Toronto         |Ontario   |1                 |62              |Sarah                    |Phillips                |2592           |22c-224@665-zbn-6tv  |Hayes Doreen School of Dancing          |Other Amusement and Recreation Industries         |Fitness and Recreational Sports Centers           |43.649103   |-79.48448    |43              |Lobster Mac & Cheese        |1           |15.0000       |15.0000  |15.0000         |NULL                |NULL                     |15.0000        |Urijah        |Baird        |Toronto  |Canada     |M4C 0A2        |English               |Male      |NULL               |Single            |1                 |2019-11-08      |1943-05-28       |Urijah.Baird@ymail.com        |480-320-4828    |\n",
      "|37751          |2022-10-28  |22003056    |79          |2022-10-28 20:19:01  |59727666           |0              |The Mac Shack       |Mac & Cheese  |Toronto         |Ontario   |1                 |62              |Sarah                    |Phillips                |2592           |22c-224@665-zbn-6tv  |Hayes Doreen School of Dancing          |Other Amusement and Recreation Industries         |Fitness and Recreational Sports Centers           |43.649103   |-79.48448    |42              |Buffalo Mac & Cheese        |3           |10.0000       |30.0000  |48.0000         |NULL                |NULL                     |48.0000        |Adrienne      |Fischer      |Toronto  |Canada     |M4C 1V6        |English               |Male      |NULL               |Married           |2                 |2021-02-04      |1977-09-21       |Adrienne.Fischer@hotmail.com  |008-952-5675    |\n",
      "|37751          |2022-10-28  |22003056    |79          |2022-10-28 20:19:01  |59727667           |1              |The Mac Shack       |Mac & Cheese  |Toronto         |Ontario   |1                 |62              |Sarah                    |Phillips                |2592           |22c-224@665-zbn-6tv  |Hayes Doreen School of Dancing          |Other Amusement and Recreation Industries         |Fitness and Recreational Sports Centers           |43.649103   |-79.48448    |43              |Lobster Mac & Cheese        |1           |15.0000       |15.0000  |48.0000         |NULL                |NULL                     |48.0000        |Adrienne      |Fischer      |Toronto  |Canada     |M4C 1V6        |English               |Male      |NULL               |Married           |2                 |2021-02-04      |1977-09-21       |Adrienne.Fischer@hotmail.com  |008-952-5675    |\n",
      "|37751          |2022-10-28  |22003056    |79          |2022-10-28 20:19:01  |59727668           |2              |The Mac Shack       |Mac & Cheese  |Toronto         |Ontario   |1                 |62              |Sarah                    |Phillips                |2592           |22c-224@665-zbn-6tv  |Hayes Doreen School of Dancing          |Other Amusement and Recreation Industries         |Fitness and Recreational Sports Centers           |43.649103   |-79.48448    |45              |Bottled Soda                |1           |3.0000        |3.0000   |48.0000         |NULL                |NULL                     |48.0000        |Adrienne      |Fischer      |Toronto  |Canada     |M4C 1V6        |English               |Male      |NULL               |Married           |2                 |2021-02-04      |1977-09-21       |Adrienne.Fischer@hotmail.com  |008-952-5675    |\n",
      "|176385         |2022-10-28  |22004331    |80          |2022-10-28 19:51:10  |59730962           |0              |Kitakata Ramen Bar  |Ramen         |Toronto         |Ontario   |1                 |63              |Gary                     |Hartman                 |1210           |222-222@665-ztg-vj9  |Canadian Memorial Chiropractic College  |Colleges, Universities, and Professional Schools  |Colleges, Universities, and Professional Schools  |43.803382   |-79.371874   |51              |Creamy Chicken Ramen        |2           |17.2500       |34.5000  |86.2500         |NULL                |NULL                     |86.2500        |Karma         |Frye         |Toronto  |Canada     |M4C 3C7        |English               |Female    |NULL               |Single            |0                 |2021-10-05      |1949-04-21       |Karma.Frye@ymail.com          |670-238-8508    |\n",
      "|176385         |2022-10-28  |22004331    |80          |2022-10-28 19:51:10  |59730963           |1              |Kitakata Ramen Bar  |Ramen         |Toronto         |Ontario   |1                 |63              |Gary                     |Hartman                 |1210           |222-222@665-ztg-vj9  |Canadian Memorial Chiropractic College  |Colleges, Universities, and Professional Schools  |Colleges, Universities, and Professional Schools  |43.803382   |-79.371874   |52              |Spicy Miso Vegetable Ramen  |2           |17.2500       |34.5000  |86.2500         |NULL                |NULL                     |86.2500        |Karma         |Frye         |Toronto  |Canada     |M4C 3C7        |English               |Female    |NULL               |Single            |0                 |2021-10-05      |1949-04-21       |Karma.Frye@ymail.com          |670-238-8508    |\n",
      "|176385         |2022-10-28  |22004331    |80          |2022-10-28 19:51:10  |59730964           |2              |Kitakata Ramen Bar  |Ramen         |Toronto         |Ontario   |1                 |63              |Gary                     |Hartman                 |1210           |222-222@665-ztg-vj9  |Canadian Memorial Chiropractic College  |Colleges, Universities, and Professional Schools  |Colleges, Universities, and Professional Schools  |43.803382   |-79.371874   |53              |Tonkotsu Ramen              |1           |17.2500       |17.2500  |86.2500         |NULL                |NULL                     |86.2500        |Karma         |Frye         |Toronto  |Canada     |M4C 3C7        |English               |Female    |NULL               |Single            |0                 |2021-10-05      |1949-04-21       |Karma.Frye@ymail.com          |670-238-8508    |\n",
      "---------------------------------------------------------------------------------------------------------------------------------------------------------------------------------------------------------------------------------------------------------------------------------------------------------------------------------------------------------------------------------------------------------------------------------------------------------------------------------------------------------------------------------------------------------------------------------------------------------------------------------------------------------------------------------------------------------------------------------------------------------------------------------------------------------------------------------------------------------------------------------------------------------------\n",
      "\n"
     ]
    }
   ],
   "source": [
    "#Remove duplicate columns\n",
    "loyal_customer_orders = remove_dup_join_col(loyal_customer_orders)\n",
    "loyal_customer_orders.show()"
   ]
  },
  {
   "cell_type": "code",
   "execution_count": 12,
   "id": "ea428700",
   "metadata": {},
   "outputs": [
    {
     "name": "stdout",
     "output_type": "stream",
     "text": [
      "------------------------------------------------------------------------------------------------------------------------------------------------------------------------------------------------------------------------------------------------------------------------------------------------------------------------------------------------------------------------------------------------------------------------------------------------------------------------------------------------------------------------------------------------------------------------------------------------------------------------------------------------------------------------------------------------------------------------------------------------------------------------------------------------------------------------------------------------------------------------------------------------------------------------------------\n",
      "|\"CUSTOMER_ID\"  |\"DATE\"      |\"ORDER_ID\"  |\"TRUCK_ID\"  |\"ORDER_TS\"           |\"ORDER_DETAIL_ID\"  |\"LINE_NUMBER\"  |\"TRUCK_BRAND_NAME\"      |\"MENU_TYPE\"  |\"PRIMARY_CITY\"  |\"REGION\"            |\"FRANCHISE_FLAG\"  |\"FRANCHISE_ID\"  |\"FRANCHISEE_FIRST_NAME\"  |\"FRANCHISEE_LAST_NAME\"  |\"LOCATION_ID\"  |\"PLACEKEY\"           |\"LOCATION_NAME\"            |\"TOP_CATEGORY\"                                      |\"SUB_CATEGORY\"                                      |\"LATITUDE\"  |\"LONGITUDE\"  |\"MENU_ITEM_ID\"  |\"MENU_ITEM_NAME\"      |\"QUANTITY\"  |\"UNIT_PRICE\"  |\"PRICE\"  |\"ORDER_AMOUNT\"  |\"ORDER_TAX_AMOUNT\"  |\"ORDER_DISCOUNT_AMOUNT\"  |\"ORDER_TOTAL\"  |\"FIRST_NAME\"  |\"LAST_NAME\"  |\"CITY\"         |\"COUNTRY\"       |\"POSTAL_CODE\"  |\"PREFERRED_LANGUAGE\"  |\"GENDER\"     |\"FAVOURITE_BRAND\"  |\"MARITAL_STATUS\"    |\"CHILDREN_COUNT\"  |\"SIGN_UP_DATE\"  |\"BIRTHDAY_DATE\"  |\"E_MAIL\"                             |\"PHONE_NUMBER\"  |\n",
      "------------------------------------------------------------------------------------------------------------------------------------------------------------------------------------------------------------------------------------------------------------------------------------------------------------------------------------------------------------------------------------------------------------------------------------------------------------------------------------------------------------------------------------------------------------------------------------------------------------------------------------------------------------------------------------------------------------------------------------------------------------------------------------------------------------------------------------------------------------------------------------------------------------------------------------\n",
      "|161637         |2021-07-09  |44601366    |144         |2021-07-09 15:15:04  |120572372          |0              |Tasty Tibs              |Ethiopian    |Manchester      |Greater Manchester  |1                 |111             |Margaret                 |Conley                  |4337           |zzy-222@4hk-xm9-zj9  |Kim's Thai Food Store      |Specialty Food Stores                               |NULL                                                |53.479199   |-2.240355    |91              |Lean Chicken Tibs     |1           |11.0000       |11.0000  |57.0000         |NULL                |NULL                     |57.0000        |Cole          |Dodson       |Manchester     |United Kingdom  |M1 1WN         |English               |Undisclosed  |NULL               |Single              |0                 |2020-11-12      |1979-07-20       |Cole.Dodson@hotmail.com              |818-929-4396    |\n",
      "|16701          |2022-08-28  |355392055   |308         |2022-08-28 09:34:38  |620993627          |0              |Le Coin des Crêpes      |Crepes       |Sao Paulo       |São Paulo estado    |1                 |229             |Lori                     |Sellers                 |7007           |zzy-222@kh3-tq9-68v  |Droga Raia                 |Health and Personal Care Stores                     |Pharmacies and Drug Stores                          |-23.601268  |-46.681738   |81              |Breakfast Crepe       |1           |12.0000       |12.0000  |56.0000         |NULL                |NULL                     |56.0000        |Lydia         |Duarte       |Sao Paulo      |Brazil          |04849-000      |Portuguese            |Male         |NULL               |Single              |0                 |2020-12-13      |1995-07-21       |Lydia.Duarte@gmail.com               |499-629-0829    |\n",
      "|211977         |2019-06-09  |397027522   |392         |2019-06-09 19:30:26  |734724994          |0              |Smoky BBQ               |BBQ          |Madrid          |Madrid provincia    |0                 |1               |Corporate                |Owned                   |11631          |zzy-228@7dd-cw5-xwk  |La Tahona                  |Bakeries and Tortilla Manufacturing                 |Retail Bakeries                                     |40.477595   |-3.703165    |25              |Bottled Soda          |1           |3.0000        |3.0000   |21.0000         |NULL                |NULL                     |21.0000        |Marques       |Snow         |Madrid         |Spain           |28021          |Spanish               |Female       |NULL               |Divorced/Seperated  |2                 |2019-01-22      |1966-05-10       |**~MASKED~**.**~MASKED~**@yahoo.com  |111-111-1111    |\n",
      "|22051          |2020-10-06  |94014278    |242         |2020-10-06 17:57:29  |254086339          |0              |Smoky BBQ               |BBQ          |Tokyo           |Kantō               |1                 |179             |Jessica                  |Lyons                   |5407           |zzy-222@6hp-xs8-3nq  |Comfort Inn                |Traveler Accommodation                              |Hotels (except Casino Hotels) and Motels            |35.694612   |139.779731   |21              |Two Meat Plate        |1           |14.0000       |14.0000  |14.0000         |NULL                |NULL                     |14.0000        |Jovanny       |Bradley      |Tokyo          |Japan           |114-0000       |Japanese              |Male         |NULL               |Married             |1                 |2020-10-17      |1976-03-28       |Jovanny.Bradley@hotmail.com          |448-888-5944    |\n",
      "|142563         |2020-10-13  |121233326   |275         |2020-10-13 17:17:56  |328510073          |0              |Kitakata Ramen Bar      |Ramen        |Sydney          |New South Wales     |1                 |202             |Margaret                 |Shaw                    |10670          |zzy-225@nh3-y9y-n89  |Saint Laurent              |Clothing Stores                                     |Women's Clothing Stores                             |-33.892336  |151.250688   |51              |Creamy Chicken Ramen  |2           |17.2500       |34.5000  |86.2500         |NULL                |NULL                     |86.2500        |Caitlyn       |Sherman      |Sydney         |Australia       |1466           |English               |Female       |NULL               |Single              |0                 |2019-01-24      |1997-02-01       |Caitlyn.Sherman@gmail.com            |285-492-0979    |\n",
      "|91293          |2021-07-02  |44584284    |145         |2021-07-02 10:10:16  |120525660          |0              |Not the Wurst Hot Dogs  |Hot Dogs     |Manchester      |Greater Manchester  |0                 |1               |Corporate                |Owned                   |13767          |zzy-22w@4hk-xm8-8qf  |The Last Shot Statue       |Museums, Historical Sites, and Similar Institut...  |NULL                                                |53.482206   |-2.245305    |101             |New York Dog          |4           |8.0000        |32.0000  |51.0000         |NULL                |NULL                     |51.0000        |Kimora        |Sweeney      |Manchester     |United Kingdom  |M1 1LN         |English               |Male         |NULL               |Single              |0                 |2020-05-30      |2004-09-13       |Kimora.Sweeney@gmail.com             |390-065-3152    |\n",
      "|131095         |2022-05-28  |445161677   |61          |2022-05-28 08:58:19  |865406132          |0              |Freezing Point          |Ice Cream    |New York City   |New York            |1                 |49              |Bruce                    |Kent                    |11301          |zzy-227@627-s4n-87q  |Nell Singer Lilac Walk     |Museums, Historical Sites, and Similar Institut...  |Nature Parks and Other Similar Institutions         |40.77944    |-73.969096   |17              |Ice Cream Sandwich    |1           |4.0000        |4.0000   |10.0000         |NULL                |NULL                     |10.0000        |Darien        |Lee          |New York City  |United States   |10467          |English               |Male         |NULL               |Single              |0                 |2020-12-20      |1953-08-31       |Darien.Lee@ymail.com                 |574-735-1606    |\n",
      "|82959          |2022-09-17  |343496884   |8           |2022-09-17 18:04:47  |588525540          |0              |Le Coin des Crêpes      |Crepes       |San Mateo       |California          |1                 |7               |Kimberly                 |Johnson                 |2959           |22n-222@5vg-7y9-gkz  |Thrive Integrative Health  |Offices of Other Health Practitioners               |Offices of All Other Miscellaneous Health Pract...  |37.563401   |-122.319767  |81              |Breakfast Crepe       |1           |12.0000       |12.0000  |54.0000         |NULL                |NULL                     |54.0000        |Kendrick      |Schroeder    |San Mateo      |United States   |94404          |English               |Undisclosed  |NULL               |Married             |3                 |2019-03-04      |1956-03-20       |Kendrick.Schroeder@aol.com           |785-185-5587    |\n",
      "|159740         |2021-05-31  |439041514   |73          |2021-05-31 12:11:03  |848847050          |0              |Peking Truck            |Chinese      |New York City   |New York            |1                 |58              |Joseph                   |Hernandez               |1740           |223-22b@627-wbn-m6k  |West 14th Candy Store      |Specialty Food Stores                               |Confectionery and Nut Stores                        |40.739483   |-74.002289   |131             |Combo Lo Mein         |1           |13.0000       |13.0000  |46.0000         |NULL                |NULL                     |46.0000        |Madison       |Austin       |New York City  |United States   |11220          |English               |Male         |NULL               |Married             |3                 |2021-03-02      |1981-01-25       |Madison.Austin@hotmail.com           |312-642-5187    |\n",
      "|135135         |2021-08-02  |35710998    |131         |2021-08-02 13:48:46  |96466789           |0              |Revenge of the Curds    |Poutine      |London          |Greater London      |1                 |101             |Donald                   |Larson                  |3300           |239-222@4hj-23p-rkz  |One Eyed Films             |Amusement Parks and Arcades                         |Amusement Arcades                                   |51.508254   |-0.231588    |112             |Mothers Favorite      |1           |12.0000       |12.0000  |50.0000         |NULL                |NULL                     |50.0000        |Milagros      |Conrad       |London         |United Kingdom  |E1 7JJ         |English               |Male         |NULL               |Married             |2                 |2021-04-21      |1967-07-17       |Milagros.Conrad@aol.com              |518-858-0748    |\n",
      "------------------------------------------------------------------------------------------------------------------------------------------------------------------------------------------------------------------------------------------------------------------------------------------------------------------------------------------------------------------------------------------------------------------------------------------------------------------------------------------------------------------------------------------------------------------------------------------------------------------------------------------------------------------------------------------------------------------------------------------------------------------------------------------------------------------------------------------------------------------------------------------------------------------------------------\n",
      "\n"
     ]
    }
   ],
   "source": [
    "#Remove duplicate order ids\n",
    "remove_dup = loyal_customer_orders.dropDuplicates(['ORDER_ID'])\n",
    "remove_dup.show()"
   ]
  },
  {
   "attachments": {},
   "cell_type": "markdown",
   "id": "a4bf5f70",
   "metadata": {},
   "source": [
    "# 3. Data Engineering"
   ]
  },
  {
   "attachments": {},
   "cell_type": "markdown",
   "id": "acef3504",
   "metadata": {},
   "source": [
    "## 3.1 Generate new Columns"
   ]
  },
  {
   "attachments": {},
   "cell_type": "markdown",
   "id": "c3465838",
   "metadata": {},
   "source": [
    "### 3.1.1 Get Latest Order Date"
   ]
  },
  {
   "cell_type": "code",
   "execution_count": 13,
   "id": "60b18852",
   "metadata": {},
   "outputs": [],
   "source": [
    "# called `orders` with columns `customer_id` and `order_ts`\n",
    "window_spec = Window.partitionBy('customer_id').orderBy(F.col('order_ts').desc())\n",
    "\n",
    "orders_with_rank = remove_dup.withColumn('rank', F.rank().over(window_spec))\n",
    "\n",
    "#Get max order of each customer\n",
    "max_order_ts = orders_with_rank.filter(F.col('rank') == 1).select('customer_id', 'order_ts')"
   ]
  },
  {
   "cell_type": "code",
   "execution_count": 14,
   "id": "cbaa607a",
   "metadata": {},
   "outputs": [],
   "source": [
    "#Rename columns\n",
    "max_order_ts = max_order_ts.withColumnRenamed('ORDER_TS','Max_Order_TS')"
   ]
  },
  {
   "cell_type": "code",
   "execution_count": 15,
   "id": "122d9f7e",
   "metadata": {},
   "outputs": [],
   "source": [
    "#Merge with second max order dataframe\n",
    "temp_df=remove_dup.join(right=max_order_ts,on='CUSTOMER_ID',how='inner')\n",
    "\n",
    "#Filter out last purchase\n",
    "filtered_df = temp_df.filter(F.col('ORDER_TS') < F.col('Max_Order_TS'))"
   ]
  },
  {
   "cell_type": "code",
   "execution_count": 16,
   "id": "5a5a5ebe",
   "metadata": {},
   "outputs": [
    {
     "name": "stdout",
     "output_type": "stream",
     "text": [
      "-----------------------\n",
      "|\"MAX(\"\"ORDER_TS\"\")\"  |\n",
      "-----------------------\n",
      "|2022-11-01 22:59:59  |\n",
      "-----------------------\n",
      "\n"
     ]
    }
   ],
   "source": [
    "#Display last recorded purchase globally\n",
    "tasty_bytes_orders_v.select(F.max('ORDER_TS')).show()"
   ]
  },
  {
   "attachments": {},
   "cell_type": "markdown",
   "id": "45012b5c",
   "metadata": {},
   "source": [
    "### 3.1.2 RFM (Recency, Freqency, Monetary)"
   ]
  },
  {
   "cell_type": "code",
   "execution_count": 17,
   "id": "476754b5",
   "metadata": {},
   "outputs": [],
   "source": [
    "#Get last purchase date as a variable\n",
    "lastdate=tasty_bytes_orders_v.select(F.max('ORDER_TS')).first()[0]\n",
    "\n",
    "# Recency\n",
    "recency = filtered_df.groupBy('CUSTOMER_ID').agg(F.max('ORDER_TS').alias('ORDER_TS'))\n",
    "recency = recency.withColumn('RECENCY', F.datediff(col1=F.col('ORDER_TS'), col2=F.lit(lastdate),part='day'))\n",
    "\n",
    "# Frequency\n",
    "frequency = filtered_df.groupBy('CUSTOMER_ID').agg(F.countDistinct('ORDER_ID').alias('frequency'))\n",
    "\n",
    "# Monetary\n",
    "monetary = filtered_df.groupBy('CUSTOMER_ID').agg(F.sum('ORDER_TOTAL').alias('monetary'))\n",
    "\n",
    "# Merge into RFM table\n",
    "RFM_table = recency.join(frequency, on='CUSTOMER_ID', how='inner')\n",
    "RFM_table = RFM_table.join(monetary, on='CUSTOMER_ID', how='inner')"
   ]
  },
  {
   "attachments": {},
   "cell_type": "markdown",
   "id": "18d6061f",
   "metadata": {},
   "source": [
    "### 3.1.3 Average Time Difference, Max and Min Days without Purchase"
   ]
  },
  {
   "cell_type": "code",
   "execution_count": 18,
   "id": "419b542d",
   "metadata": {},
   "outputs": [],
   "source": [
    "# Define a window partitioned by customer and menu item, ordered by date\n",
    "window_spec = Window.partitionBy(\"CUSTOMER_ID\").orderBy(\"DATE\")\n",
    "\n",
    "# Add a column with the date of the prior order for each customer and menu item\n",
    "orders_df = filtered_df.withColumn(\"DAYS_SINCE_PRIOR_ORDER\", F.lag(\"DATE\").over(window_spec))\n",
    "\n",
    "# Calculate the number of days between the prior order and the current order for each customer and menu item\n",
    "orders_df = orders_df.withColumn(\"DAYS_SINCE_PRIOR_ORDER\", F.datediff(col1=\"DAYS_SINCE_PRIOR_ORDER\", col2=\"DATE\",part='day'))\n",
    "orders_df = orders_df.na.drop(subset=[\"DAYS_SINCE_PRIOR_ORDER\"])\n",
    "\n",
    "#Calculate the average purchase time difference for each customer\n",
    "avg_time_diff=orders_df.group_by('CUSTOMER_ID').agg(F.round(F.avg('DAYS_SINCE_PRIOR_ORDER'),0).alias('Avg_Days_Between_Purchase'))\n",
    "\n",
    "# Max Days without Purchase\n",
    "max_days=orders_df.group_by('CUSTOMER_ID').agg(F.max('DAYS_SINCE_PRIOR_ORDER').alias('Max_Days_Without_Purchase'))\n",
    "\n",
    "# Min Days without Purchase\n",
    "min_days=orders_df.group_by('CUSTOMER_ID').agg(F.min('DAYS_SINCE_PRIOR_ORDER').alias('Min_Days_Without_Purchase'))"
   ]
  },
  {
   "attachments": {},
   "cell_type": "markdown",
   "id": "883f6e7a",
   "metadata": {},
   "source": [
    "### 3.1.4 Creating Age and getting Customer's Gender, Marital Status and Country"
   ]
  },
  {
   "cell_type": "code",
   "execution_count": 19,
   "id": "973cd550",
   "metadata": {},
   "outputs": [
    {
     "name": "stdout",
     "output_type": "stream",
     "text": [
      "--------------------------------------------------------------------------------------------\n",
      "|\"CUSTOMER_ID\"  |\"BIRTHDAY_DATE\"  |\"GENDER\"     |\"MARITAL_STATUS\"  |\"COUNTRY\"      |\"AGE\"  |\n",
      "--------------------------------------------------------------------------------------------\n",
      "|66             |1982-11-24       |Male         |Married           |Canada         |40     |\n",
      "|118            |1988-06-13       |Male         |Single            |United States  |34     |\n",
      "|131            |1984-12-29       |Male         |Single            |Canada         |38     |\n",
      "|132            |1981-04-30       |Male         |Single            |Canada         |41     |\n",
      "|171            |1987-08-06       |Male         |Single            |Canada         |35     |\n",
      "|189            |1984-03-05       |Undisclosed  |Married           |United States  |38     |\n",
      "|195            |1987-08-17       |Female       |Single            |Canada         |35     |\n",
      "|204            |1979-06-25       |Male         |Undisclosed       |United States  |43     |\n",
      "|42             |1966-06-28       |Undisclosed  |Single            |United States  |56     |\n",
      "|59             |1961-06-05       |Male         |Married           |United States  |61     |\n",
      "--------------------------------------------------------------------------------------------\n",
      "\n"
     ]
    }
   ],
   "source": [
    "#Get Customer demographic\n",
    "cust_demo=tasty_bytes_customer_loyalty.select('CUSTOMER_ID','BIRTHDAY_DATE','GENDER','MARITAL_STATUS','COUNTRY')\n",
    "\n",
    "# get AGE variable\n",
    "cust_demo = cust_demo.withColumn(\"AGE\", F.datediff('year', F.col(\"BIRTHDAY_DATE\"),F.lit(lastdate)))\n",
    "\n",
    "cust_demo.show()\n"
   ]
  },
  {
   "attachments": {},
   "cell_type": "markdown",
   "id": "776061f6",
   "metadata": {},
   "source": [
    "### 3.1.5 Join Generated Variables"
   ]
  },
  {
   "cell_type": "code",
   "execution_count": 21,
   "id": "95506e69",
   "metadata": {},
   "outputs": [],
   "source": [
    "#Merge to get final dataframe\n",
    "final_df = RFM_table.join(max_order_ts, on='CUSTOMER_ID', how='inner')\n",
    "final_df = final_df.join(avg_time_diff, on='CUSTOMER_ID', how='inner')\n",
    "final_df = final_df.join(max_days, on='CUSTOMER_ID', how='inner')\n",
    "final_df = final_df.join(min_days, on='CUSTOMER_ID', how='inner')\n",
    "final_df = final_df.join(cust_demo,on='CUSTOMER_ID',how='inner')"
   ]
  },
  {
   "attachments": {},
   "cell_type": "markdown",
   "id": "d3525c1d",
   "metadata": {},
   "source": [
    "### 3.1.6 Days to Next Order"
   ]
  },
  {
   "cell_type": "code",
   "execution_count": 23,
   "id": "84f3adc1",
   "metadata": {},
   "outputs": [],
   "source": [
    "#Convert timestamp to date such that Days to next orders is more accurate\n",
    "final_df=final_df.with_column('ORDER_TS',F.to_date(F.col('ORDER_TS')))\n",
    "final_df=final_df.with_column('MAX_ORDER_TS',F.to_date(F.col('MAX_ORDER_TS')))"
   ]
  },
  {
   "cell_type": "code",
   "execution_count": 24,
   "id": "0d284939",
   "metadata": {},
   "outputs": [],
   "source": [
    "#Add Days To Next Order\n",
    "final_df = final_df.withColumn('Days_To_Next_Order', F.datediff(col1=final_df['ORDER_TS'], col2=final_df['MAX_ORDER_TS'],part='day'))"
   ]
  },
  {
   "cell_type": "code",
   "execution_count": 25,
   "id": "9c56d0a9",
   "metadata": {},
   "outputs": [
    {
     "name": "stdout",
     "output_type": "stream",
     "text": [
      "------------------------------------\n",
      "|\"MEDIAN(\"\"DAYS_TO_NEXT_ORDER\"\")\"  |\n",
      "------------------------------------\n",
      "|9.000                             |\n",
      "------------------------------------\n",
      "\n"
     ]
    }
   ],
   "source": [
    "#Get median of Days to next order\n",
    "final_df.select(F.median('DAYS_TO_NEXT_ORDER')).show()"
   ]
  },
  {
   "attachments": {},
   "cell_type": "markdown",
   "id": "ee432710",
   "metadata": {},
   "source": [
    "*We'll create a target variable based on whether customers purchase below or above the median number of days since their prior order. 'Not churn' will indicate purchases below the median, while 'Churn' will represent purchases above the median. This helps identify customers for retention strategies and predicts their engagement with our business."
   ]
  },
  {
   "attachments": {},
   "cell_type": "markdown",
   "id": "5d89694c",
   "metadata": {},
   "source": [
    "### 3.1.7 Filter to selected Country"
   ]
  },
  {
   "cell_type": "code",
   "execution_count": 26,
   "id": "8f8692f7",
   "metadata": {},
   "outputs": [],
   "source": [
    "#Filter to United States\n",
    "final_df=final_df.filter(F.col('COUNTRY')=='United States')"
   ]
  },
  {
   "cell_type": "code",
   "execution_count": 27,
   "id": "dc90e2f3",
   "metadata": {},
   "outputs": [],
   "source": [
    "#Drop CustomerID\n",
    "final_df=final_df.drop('CUSTOMER_ID')"
   ]
  },
  {
   "cell_type": "code",
   "execution_count": 28,
   "id": "c4d31ac2",
   "metadata": {},
   "outputs": [],
   "source": [
    "#Convert to pandas\n",
    "final_df=final_df.to_pandas()"
   ]
  },
  {
   "attachments": {},
   "cell_type": "markdown",
   "id": "40dc4f32",
   "metadata": {},
   "source": [
    "## 3.2 Outlier Handling"
   ]
  },
  {
   "attachments": {},
   "cell_type": "markdown",
   "id": "ad627369",
   "metadata": {},
   "source": [
    "### 3.2.1 Identify Numericals"
   ]
  },
  {
   "cell_type": "code",
   "execution_count": 29,
   "id": "be573be5",
   "metadata": {},
   "outputs": [],
   "source": [
    "num_cols=final_df.select_dtypes(exclude=['object','datetime64[ns]']).columns"
   ]
  },
  {
   "attachments": {},
   "cell_type": "markdown",
   "id": "75663bb9",
   "metadata": {},
   "source": [
    "### 3.2.2 Visualise Outliers"
   ]
  },
  {
   "cell_type": "code",
   "execution_count": 30,
   "id": "96846112",
   "metadata": {},
   "outputs": [
    {
     "data": {
      "image/png": "[encoded data removed]",
      "text/plain": [
       "<Figure size 640x480 with 1 Axes>"
      ]
     },
     "metadata": {},
     "output_type": "display_data"
    },
    {
     "data": {
      "image/png": "[encoded data removed]",
      "text/plain": [
       "<Figure size 640x480 with 1 Axes>"
      ]
     },
     "metadata": {},
     "output_type": "display_data"
    },
    {
     "data": {
      "image/png": "[encoded data removed]",
      "text/plain": [
       "<Figure size 640x480 with 1 Axes>"
      ]
     },
     "metadata": {},
     "output_type": "display_data"
    },
    {
     "data": {
      "image/png": "[encoded data removed]",
      "text/plain": [
       "<Figure size 640x480 with 1 Axes>"
      ]
     },
     "metadata": {},
     "output_type": "display_data"
    },
    {
     "data": {
      "image/png": "[encoded data removed]",
      "text/plain": [
       "<Figure size 640x480 with 1 Axes>"
      ]
     },
     "metadata": {},
     "output_type": "display_data"
    },
    {
     "data": {
      "image/png": "[encoded data removed]",
      "text/plain": [
       "<Figure size 640x480 with 1 Axes>"
      ]
     },
     "metadata": {},
     "output_type": "display_data"
    },
    {
     "data": {
      "image/png": "[encoded data removed]",
      "text/plain": [
       "<Figure size 640x480 with 1 Axes>"
      ]
     },
     "metadata": {},
     "output_type": "display_data"
    },
    {
     "data": {
      "image/png": "[encoded data removed]",
      "text/plain": [
       "<Figure size 640x480 with 1 Axes>"
      ]
     },
     "metadata": {},
     "output_type": "display_data"
    }
   ],
   "source": [
    "for i in num_cols:\n",
    "    sns.boxplot(data=final_df,x=final_df[i])\n",
    "    plt.show()"
   ]
  },
  {
   "attachments": {},
   "cell_type": "markdown",
   "id": "7ec9b939",
   "metadata": {},
   "source": [
    "### 3.2.3 Cap the Outliers"
   ]
  },
  {
   "attachments": {},
   "cell_type": "markdown",
   "id": "7bc0ed82",
   "metadata": {},
   "source": [
    "#### 3.2.3.1 Cap by IQR"
   ]
  },
  {
   "cell_type": "code",
   "execution_count": 31,
   "id": "aaeac27e",
   "metadata": {},
   "outputs": [
    {
     "data": {
      "text/html": [
       "<style>#sk-container-id-1 {color: black;background-color: white;}#sk-container-id-1 pre{padding: 0;}#sk-container-id-1 div.sk-toggleable {background-color: white;}#sk-container-id-1 label.sk-toggleable__label {cursor: pointer;display: block;width: 100%;margin-bottom: 0;padding: 0.3em;box-sizing: border-box;text-align: center;}#sk-container-id-1 label.sk-toggleable__label-arrow:before {content: \"▸\";float: left;margin-right: 0.25em;color: #696969;}#sk-container-id-1 label.sk-toggleable__label-arrow:hover:before {color: black;}#sk-container-id-1 div.sk-estimator:hover label.sk-toggleable__label-arrow:before {color: black;}#sk-container-id-1 div.sk-toggleable__content {max-height: 0;max-width: 0;overflow: hidden;text-align: left;background-color: #f0f8ff;}#sk-container-id-1 div.sk-toggleable__content pre {margin: 0.2em;color: black;border-radius: 0.25em;background-color: #f0f8ff;}#sk-container-id-1 input.sk-toggleable__control:checked~div.sk-toggleable__content {max-height: 200px;max-width: 100%;overflow: auto;}#sk-container-id-1 input.sk-toggleable__control:checked~label.sk-toggleable__label-arrow:before {content: \"▾\";}#sk-container-id-1 div.sk-estimator input.sk-toggleable__control:checked~label.sk-toggleable__label {background-color: #d4ebff;}#sk-container-id-1 div.sk-label input.sk-toggleable__control:checked~label.sk-toggleable__label {background-color: #d4ebff;}#sk-container-id-1 input.sk-hidden--visually {border: 0;clip: rect(1px 1px 1px 1px);clip: rect(1px, 1px, 1px, 1px);height: 1px;margin: -1px;overflow: hidden;padding: 0;position: absolute;width: 1px;}#sk-container-id-1 div.sk-estimator {font-family: monospace;background-color: #f0f8ff;border: 1px dotted black;border-radius: 0.25em;box-sizing: border-box;margin-bottom: 0.5em;}#sk-container-id-1 div.sk-estimator:hover {background-color: #d4ebff;}#sk-container-id-1 div.sk-parallel-item::after {content: \"\";width: 100%;border-bottom: 1px solid gray;flex-grow: 1;}#sk-container-id-1 div.sk-label:hover label.sk-toggleable__label {background-color: #d4ebff;}#sk-container-id-1 div.sk-serial::before {content: \"\";position: absolute;border-left: 1px solid gray;box-sizing: border-box;top: 0;bottom: 0;left: 50%;z-index: 0;}#sk-container-id-1 div.sk-serial {display: flex;flex-direction: column;align-items: center;background-color: white;padding-right: 0.2em;padding-left: 0.2em;position: relative;}#sk-container-id-1 div.sk-item {position: relative;z-index: 1;}#sk-container-id-1 div.sk-parallel {display: flex;align-items: stretch;justify-content: center;background-color: white;position: relative;}#sk-container-id-1 div.sk-item::before, #sk-container-id-1 div.sk-parallel-item::before {content: \"\";position: absolute;border-left: 1px solid gray;box-sizing: border-box;top: 0;bottom: 0;left: 50%;z-index: -1;}#sk-container-id-1 div.sk-parallel-item {display: flex;flex-direction: column;z-index: 1;position: relative;background-color: white;}#sk-container-id-1 div.sk-parallel-item:first-child::after {align-self: flex-end;width: 50%;}#sk-container-id-1 div.sk-parallel-item:last-child::after {align-self: flex-start;width: 50%;}#sk-container-id-1 div.sk-parallel-item:only-child::after {width: 0;}#sk-container-id-1 div.sk-dashed-wrapped {border: 1px dashed gray;margin: 0 0.4em 0.5em 0.4em;box-sizing: border-box;padding-bottom: 0.4em;background-color: white;}#sk-container-id-1 div.sk-label label {font-family: monospace;font-weight: bold;display: inline-block;line-height: 1.2em;}#sk-container-id-1 div.sk-label-container {text-align: center;}#sk-container-id-1 div.sk-container {/* jupyter's `normalize.less` sets `[hidden] { display: none; }` but bootstrap.min.css set `[hidden] { display: none !important; }` so we also need the `!important` here to be able to override the default hidden behavior on the sphinx rendered scikit-learn.org. See: https://github.com/scikit-learn/scikit-learn/issues/21755 */display: inline-block !important;position: relative;}#sk-container-id-1 div.sk-text-repr-fallback {display: none;}</style><div id=\"sk-container-id-1\" class=\"sk-top-container\"><div class=\"sk-text-repr-fallback\"><pre>Winsorizer(capping_method=&#x27;iqr&#x27;, tail=&#x27;both&#x27;,\n",
       "           variables=[&#x27;RECENCY&#x27;, &#x27;AVG_DAYS_BETWEEN_PURCHASE&#x27;,\n",
       "                      &#x27;MAX_DAYS_WITHOUT_PURCHASE&#x27;])</pre><b>In a Jupyter environment, please rerun this cell to show the HTML representation or trust the notebook. <br />On GitHub, the HTML representation is unable to render, please try loading this page with nbviewer.org.</b></div><div class=\"sk-container\" hidden><div class=\"sk-item\"><div class=\"sk-estimator sk-toggleable\"><input class=\"sk-toggleable__control sk-hidden--visually\" id=\"sk-estimator-id-1\" type=\"checkbox\" checked><label for=\"sk-estimator-id-1\" class=\"sk-toggleable__label sk-toggleable__label-arrow\">Winsorizer</label><div class=\"sk-toggleable__content\"><pre>Winsorizer(capping_method=&#x27;iqr&#x27;, tail=&#x27;both&#x27;,\n",
       "           variables=[&#x27;RECENCY&#x27;, &#x27;AVG_DAYS_BETWEEN_PURCHASE&#x27;,\n",
       "                      &#x27;MAX_DAYS_WITHOUT_PURCHASE&#x27;])</pre></div></div></div></div></div>"
      ],
      "text/plain": [
       "Winsorizer(capping_method='iqr', tail='both',\n",
       "           variables=['RECENCY', 'AVG_DAYS_BETWEEN_PURCHASE',\n",
       "                      'MAX_DAYS_WITHOUT_PURCHASE'])"
      ]
     },
     "execution_count": 31,
     "metadata": {},
     "output_type": "execute_result"
    }
   ],
   "source": [
    "# create the capper\n",
    "windsorizer = Winsorizer(capping_method='iqr', # choose iqr for skewed or gaussian for normal\n",
    "                          tail='both', # cap left, right or both tails \n",
    "                          fold=3,\n",
    "                          variables=['RECENCY','AVG_DAYS_BETWEEN_PURCHASE','MAX_DAYS_WITHOUT_PURCHASE'])\n",
    "\n",
    "windsorizer.fit(final_df)\n"
   ]
  },
  {
   "attachments": {},
   "cell_type": "markdown",
   "id": "67e82c39",
   "metadata": {},
   "source": [
    "*Note there is no point dealing with outliers in Days to next order as even when dealt with, the 50% mark stays the same, meaning no change to our target variable."
   ]
  },
  {
   "attachments": {},
   "cell_type": "markdown",
   "id": "053698fa",
   "metadata": {},
   "source": [
    "#### 3.2.3.1 Cap by Gaussian"
   ]
  },
  {
   "cell_type": "code",
   "execution_count": 32,
   "id": "cb29651f",
   "metadata": {},
   "outputs": [],
   "source": [
    "final_df_win = windsorizer.transform(final_df)"
   ]
  },
  {
   "cell_type": "code",
   "execution_count": 33,
   "id": "124422d9",
   "metadata": {},
   "outputs": [
    {
     "data": {
      "text/html": [
       "<style>#sk-container-id-2 {color: black;background-color: white;}#sk-container-id-2 pre{padding: 0;}#sk-container-id-2 div.sk-toggleable {background-color: white;}#sk-container-id-2 label.sk-toggleable__label {cursor: pointer;display: block;width: 100%;margin-bottom: 0;padding: 0.3em;box-sizing: border-box;text-align: center;}#sk-container-id-2 label.sk-toggleable__label-arrow:before {content: \"▸\";float: left;margin-right: 0.25em;color: #696969;}#sk-container-id-2 label.sk-toggleable__label-arrow:hover:before {color: black;}#sk-container-id-2 div.sk-estimator:hover label.sk-toggleable__label-arrow:before {color: black;}#sk-container-id-2 div.sk-toggleable__content {max-height: 0;max-width: 0;overflow: hidden;text-align: left;background-color: #f0f8ff;}#sk-container-id-2 div.sk-toggleable__content pre {margin: 0.2em;color: black;border-radius: 0.25em;background-color: #f0f8ff;}#sk-container-id-2 input.sk-toggleable__control:checked~div.sk-toggleable__content {max-height: 200px;max-width: 100%;overflow: auto;}#sk-container-id-2 input.sk-toggleable__control:checked~label.sk-toggleable__label-arrow:before {content: \"▾\";}#sk-container-id-2 div.sk-estimator input.sk-toggleable__control:checked~label.sk-toggleable__label {background-color: #d4ebff;}#sk-container-id-2 div.sk-label input.sk-toggleable__control:checked~label.sk-toggleable__label {background-color: #d4ebff;}#sk-container-id-2 input.sk-hidden--visually {border: 0;clip: rect(1px 1px 1px 1px);clip: rect(1px, 1px, 1px, 1px);height: 1px;margin: -1px;overflow: hidden;padding: 0;position: absolute;width: 1px;}#sk-container-id-2 div.sk-estimator {font-family: monospace;background-color: #f0f8ff;border: 1px dotted black;border-radius: 0.25em;box-sizing: border-box;margin-bottom: 0.5em;}#sk-container-id-2 div.sk-estimator:hover {background-color: #d4ebff;}#sk-container-id-2 div.sk-parallel-item::after {content: \"\";width: 100%;border-bottom: 1px solid gray;flex-grow: 1;}#sk-container-id-2 div.sk-label:hover label.sk-toggleable__label {background-color: #d4ebff;}#sk-container-id-2 div.sk-serial::before {content: \"\";position: absolute;border-left: 1px solid gray;box-sizing: border-box;top: 0;bottom: 0;left: 50%;z-index: 0;}#sk-container-id-2 div.sk-serial {display: flex;flex-direction: column;align-items: center;background-color: white;padding-right: 0.2em;padding-left: 0.2em;position: relative;}#sk-container-id-2 div.sk-item {position: relative;z-index: 1;}#sk-container-id-2 div.sk-parallel {display: flex;align-items: stretch;justify-content: center;background-color: white;position: relative;}#sk-container-id-2 div.sk-item::before, #sk-container-id-2 div.sk-parallel-item::before {content: \"\";position: absolute;border-left: 1px solid gray;box-sizing: border-box;top: 0;bottom: 0;left: 50%;z-index: -1;}#sk-container-id-2 div.sk-parallel-item {display: flex;flex-direction: column;z-index: 1;position: relative;background-color: white;}#sk-container-id-2 div.sk-parallel-item:first-child::after {align-self: flex-end;width: 50%;}#sk-container-id-2 div.sk-parallel-item:last-child::after {align-self: flex-start;width: 50%;}#sk-container-id-2 div.sk-parallel-item:only-child::after {width: 0;}#sk-container-id-2 div.sk-dashed-wrapped {border: 1px dashed gray;margin: 0 0.4em 0.5em 0.4em;box-sizing: border-box;padding-bottom: 0.4em;background-color: white;}#sk-container-id-2 div.sk-label label {font-family: monospace;font-weight: bold;display: inline-block;line-height: 1.2em;}#sk-container-id-2 div.sk-label-container {text-align: center;}#sk-container-id-2 div.sk-container {/* jupyter's `normalize.less` sets `[hidden] { display: none; }` but bootstrap.min.css set `[hidden] { display: none !important; }` so we also need the `!important` here to be able to override the default hidden behavior on the sphinx rendered scikit-learn.org. See: https://github.com/scikit-learn/scikit-learn/issues/21755 */display: inline-block !important;position: relative;}#sk-container-id-2 div.sk-text-repr-fallback {display: none;}</style><div id=\"sk-container-id-2\" class=\"sk-top-container\"><div class=\"sk-text-repr-fallback\"><pre>Winsorizer(tail=&#x27;both&#x27;, variables=[&#x27;FREQUENCY&#x27;, &#x27;RECENCY&#x27;])</pre><b>In a Jupyter environment, please rerun this cell to show the HTML representation or trust the notebook. <br />On GitHub, the HTML representation is unable to render, please try loading this page with nbviewer.org.</b></div><div class=\"sk-container\" hidden><div class=\"sk-item\"><div class=\"sk-estimator sk-toggleable\"><input class=\"sk-toggleable__control sk-hidden--visually\" id=\"sk-estimator-id-2\" type=\"checkbox\" checked><label for=\"sk-estimator-id-2\" class=\"sk-toggleable__label sk-toggleable__label-arrow\">Winsorizer</label><div class=\"sk-toggleable__content\"><pre>Winsorizer(tail=&#x27;both&#x27;, variables=[&#x27;FREQUENCY&#x27;, &#x27;RECENCY&#x27;])</pre></div></div></div></div></div>"
      ],
      "text/plain": [
       "Winsorizer(tail='both', variables=['FREQUENCY', 'RECENCY'])"
      ]
     },
     "execution_count": 33,
     "metadata": {},
     "output_type": "execute_result"
    }
   ],
   "source": [
    "# create the capper\n",
    "windsorizer = Winsorizer(capping_method='gaussian', # choose iqr for skewed or gaussian for normal\n",
    "                          tail='both', # cap left, right or both tails \n",
    "                          fold=3,\n",
    "                          variables=['FREQUENCY','RECENCY'])\n",
    "\n",
    "windsorizer.fit(final_df_win)"
   ]
  },
  {
   "cell_type": "code",
   "execution_count": 34,
   "id": "8da1c9cf",
   "metadata": {},
   "outputs": [],
   "source": [
    "final_df_win = windsorizer.transform(final_df_win)"
   ]
  },
  {
   "attachments": {},
   "cell_type": "markdown",
   "id": "638ca938",
   "metadata": {},
   "source": [
    "## 3.3 Numerical Transformation"
   ]
  },
  {
   "attachments": {},
   "cell_type": "markdown",
   "id": "13904889",
   "metadata": {},
   "source": [
    "### 3.3.1 Visualise Numericals"
   ]
  },
  {
   "cell_type": "code",
   "execution_count": 35,
   "id": "4d8e2343",
   "metadata": {},
   "outputs": [
    {
     "data": {
      "image/png": "[encoded data removed]",
      "text/plain": [
       "<Figure size 1200x1200 with 9 Axes>"
      ]
     },
     "metadata": {},
     "output_type": "display_data"
    }
   ],
   "source": [
    "# plot the histogram to inspect variable distributions (not in book)\n",
    "\n",
    "final_df_win.hist(bins=30, figsize=(12,12))\n",
    "plt.show()"
   ]
  },
  {
   "cell_type": "code",
   "execution_count": 36,
   "id": "e11026f2",
   "metadata": {},
   "outputs": [
    {
     "data": {
      "text/html": [
       "<style>#sk-container-id-3 {color: black;background-color: white;}#sk-container-id-3 pre{padding: 0;}#sk-container-id-3 div.sk-toggleable {background-color: white;}#sk-container-id-3 label.sk-toggleable__label {cursor: pointer;display: block;width: 100%;margin-bottom: 0;padding: 0.3em;box-sizing: border-box;text-align: center;}#sk-container-id-3 label.sk-toggleable__label-arrow:before {content: \"▸\";float: left;margin-right: 0.25em;color: #696969;}#sk-container-id-3 label.sk-toggleable__label-arrow:hover:before {color: black;}#sk-container-id-3 div.sk-estimator:hover label.sk-toggleable__label-arrow:before {color: black;}#sk-container-id-3 div.sk-toggleable__content {max-height: 0;max-width: 0;overflow: hidden;text-align: left;background-color: #f0f8ff;}#sk-container-id-3 div.sk-toggleable__content pre {margin: 0.2em;color: black;border-radius: 0.25em;background-color: #f0f8ff;}#sk-container-id-3 input.sk-toggleable__control:checked~div.sk-toggleable__content {max-height: 200px;max-width: 100%;overflow: auto;}#sk-container-id-3 input.sk-toggleable__control:checked~label.sk-toggleable__label-arrow:before {content: \"▾\";}#sk-container-id-3 div.sk-estimator input.sk-toggleable__control:checked~label.sk-toggleable__label {background-color: #d4ebff;}#sk-container-id-3 div.sk-label input.sk-toggleable__control:checked~label.sk-toggleable__label {background-color: #d4ebff;}#sk-container-id-3 input.sk-hidden--visually {border: 0;clip: rect(1px 1px 1px 1px);clip: rect(1px, 1px, 1px, 1px);height: 1px;margin: -1px;overflow: hidden;padding: 0;position: absolute;width: 1px;}#sk-container-id-3 div.sk-estimator {font-family: monospace;background-color: #f0f8ff;border: 1px dotted black;border-radius: 0.25em;box-sizing: border-box;margin-bottom: 0.5em;}#sk-container-id-3 div.sk-estimator:hover {background-color: #d4ebff;}#sk-container-id-3 div.sk-parallel-item::after {content: \"\";width: 100%;border-bottom: 1px solid gray;flex-grow: 1;}#sk-container-id-3 div.sk-label:hover label.sk-toggleable__label {background-color: #d4ebff;}#sk-container-id-3 div.sk-serial::before {content: \"\";position: absolute;border-left: 1px solid gray;box-sizing: border-box;top: 0;bottom: 0;left: 50%;z-index: 0;}#sk-container-id-3 div.sk-serial {display: flex;flex-direction: column;align-items: center;background-color: white;padding-right: 0.2em;padding-left: 0.2em;position: relative;}#sk-container-id-3 div.sk-item {position: relative;z-index: 1;}#sk-container-id-3 div.sk-parallel {display: flex;align-items: stretch;justify-content: center;background-color: white;position: relative;}#sk-container-id-3 div.sk-item::before, #sk-container-id-3 div.sk-parallel-item::before {content: \"\";position: absolute;border-left: 1px solid gray;box-sizing: border-box;top: 0;bottom: 0;left: 50%;z-index: -1;}#sk-container-id-3 div.sk-parallel-item {display: flex;flex-direction: column;z-index: 1;position: relative;background-color: white;}#sk-container-id-3 div.sk-parallel-item:first-child::after {align-self: flex-end;width: 50%;}#sk-container-id-3 div.sk-parallel-item:last-child::after {align-self: flex-start;width: 50%;}#sk-container-id-3 div.sk-parallel-item:only-child::after {width: 0;}#sk-container-id-3 div.sk-dashed-wrapped {border: 1px dashed gray;margin: 0 0.4em 0.5em 0.4em;box-sizing: border-box;padding-bottom: 0.4em;background-color: white;}#sk-container-id-3 div.sk-label label {font-family: monospace;font-weight: bold;display: inline-block;line-height: 1.2em;}#sk-container-id-3 div.sk-label-container {text-align: center;}#sk-container-id-3 div.sk-container {/* jupyter's `normalize.less` sets `[hidden] { display: none; }` but bootstrap.min.css set `[hidden] { display: none !important; }` so we also need the `!important` here to be able to override the default hidden behavior on the sphinx rendered scikit-learn.org. See: https://github.com/scikit-learn/scikit-learn/issues/21755 */display: inline-block !important;position: relative;}#sk-container-id-3 div.sk-text-repr-fallback {display: none;}</style><div id=\"sk-container-id-3\" class=\"sk-top-container\"><div class=\"sk-text-repr-fallback\"><pre>YeoJohnsonTransformer(variables=[&#x27;RECENCY&#x27;, &#x27;AVG_DAYS_BETWEEN_PURCHASE&#x27;,\n",
       "                                 &#x27;MAX_DAYS_WITHOUT_PURCHASE&#x27;,\n",
       "                                 &#x27;MIN_DAYS_WITHOUT_PURCHASE&#x27;])</pre><b>In a Jupyter environment, please rerun this cell to show the HTML representation or trust the notebook. <br />On GitHub, the HTML representation is unable to render, please try loading this page with nbviewer.org.</b></div><div class=\"sk-container\" hidden><div class=\"sk-item\"><div class=\"sk-estimator sk-toggleable\"><input class=\"sk-toggleable__control sk-hidden--visually\" id=\"sk-estimator-id-3\" type=\"checkbox\" checked><label for=\"sk-estimator-id-3\" class=\"sk-toggleable__label sk-toggleable__label-arrow\">YeoJohnsonTransformer</label><div class=\"sk-toggleable__content\"><pre>YeoJohnsonTransformer(variables=[&#x27;RECENCY&#x27;, &#x27;AVG_DAYS_BETWEEN_PURCHASE&#x27;,\n",
       "                                 &#x27;MAX_DAYS_WITHOUT_PURCHASE&#x27;,\n",
       "                                 &#x27;MIN_DAYS_WITHOUT_PURCHASE&#x27;])</pre></div></div></div></div></div>"
      ],
      "text/plain": [
       "YeoJohnsonTransformer(variables=['RECENCY', 'AVG_DAYS_BETWEEN_PURCHASE',\n",
       "                                 'MAX_DAYS_WITHOUT_PURCHASE',\n",
       "                                 'MIN_DAYS_WITHOUT_PURCHASE'])"
      ]
     },
     "execution_count": 36,
     "metadata": {},
     "output_type": "execute_result"
    }
   ],
   "source": [
    "# select variables to transform in a list\n",
    "cols = ['RECENCY', 'AVG_DAYS_BETWEEN_PURCHASE', 'MAX_DAYS_WITHOUT_PURCHASE', 'MIN_DAYS_WITHOUT_PURCHASE']\n",
    "\n",
    "# initialize the transformer with a subset of variables to transform\n",
    "yjt = YeoJohnsonTransformer(variables = cols)\n",
    "\n",
    "# fit transformer to the dataframe\n",
    "yjt.fit(final_df_win)"
   ]
  },
  {
   "cell_type": "code",
   "execution_count": 37,
   "id": "bc6f8fb8",
   "metadata": {},
   "outputs": [],
   "source": [
    "# transform indicated variables\n",
    "final_df_yjt = yjt.transform(final_df_win)"
   ]
  },
  {
   "attachments": {},
   "cell_type": "markdown",
   "id": "1f07cb74",
   "metadata": {},
   "source": [
    "## 3.4 Generate Target Variable"
   ]
  },
  {
   "cell_type": "code",
   "execution_count": 38,
   "id": "e995402c",
   "metadata": {},
   "outputs": [
    {
     "data": {
      "text/plain": [
       "count    46300.000000\n",
       "mean        12.572959\n",
       "std         12.840417\n",
       "min          1.000000\n",
       "25%          4.000000\n",
       "50%          9.000000\n",
       "75%         17.000000\n",
       "max        174.000000\n",
       "Name: DAYS_TO_NEXT_ORDER, dtype: float64"
      ]
     },
     "execution_count": 38,
     "metadata": {},
     "output_type": "execute_result"
    }
   ],
   "source": [
    "#Describe the target\n",
    "final_df_yjt['DAYS_TO_NEXT_ORDER'].describe()"
   ]
  },
  {
   "cell_type": "code",
   "execution_count": 39,
   "id": "7f67fcce",
   "metadata": {},
   "outputs": [],
   "source": [
    "#Add Target Variable Next Purchase Day Range \n",
    "final_df_yjt['NextPurchaseDayRange'] = 1\n",
    "final_df_yjt.loc[final_df_yjt['DAYS_TO_NEXT_ORDER']<=9,'NextPurchaseDayRange'] = 0"
   ]
  },
  {
   "cell_type": "code",
   "execution_count": 40,
   "id": "d1d19e9b",
   "metadata": {},
   "outputs": [
    {
     "data": {
      "image/png": "[encoded data removed]",
      "text/plain": [
       "<Figure size 640x480 with 1 Axes>"
      ]
     },
     "metadata": {},
     "output_type": "display_data"
    }
   ],
   "source": [
    "#Distribution of target variable\n",
    "sns.countplot(data=final_df_yjt,x='NextPurchaseDayRange')\n",
    "plt.show()"
   ]
  },
  {
   "attachments": {},
   "cell_type": "markdown",
   "id": "3ec211e7",
   "metadata": {},
   "source": [
    "## 3.5 Sample the Data"
   ]
  },
  {
   "attachments": {},
   "cell_type": "markdown",
   "id": "88cf7316",
   "metadata": {},
   "source": [
    "### 3.5.1 Stratified Sampling"
   ]
  },
  {
   "cell_type": "code",
   "execution_count": 41,
   "id": "a64b72ac",
   "metadata": {},
   "outputs": [
    {
     "data": {
      "text/plain": [
       "21328"
      ]
     },
     "execution_count": 41,
     "metadata": {},
     "output_type": "execute_result"
    }
   ],
   "source": [
    "df1=final_df_yjt[final_df_yjt['NextPurchaseDayRange']==1]\n",
    "len(df1)"
   ]
  },
  {
   "cell_type": "code",
   "execution_count": 42,
   "id": "913ac4f4",
   "metadata": {},
   "outputs": [
    {
     "data": {
      "text/plain": [
       "24972"
      ]
     },
     "execution_count": 42,
     "metadata": {},
     "output_type": "execute_result"
    }
   ],
   "source": [
    "df0=final_df_yjt[final_df_yjt['NextPurchaseDayRange']==0]\n",
    "len(df0)"
   ]
  },
  {
   "cell_type": "code",
   "execution_count": 43,
   "id": "4ddae06e",
   "metadata": {},
   "outputs": [
    {
     "data": {
      "text/plain": [
       "1    21328\n",
       "0    21328\n",
       "Name: NextPurchaseDayRange, dtype: int64"
      ]
     },
     "execution_count": 43,
     "metadata": {},
     "output_type": "execute_result"
    }
   ],
   "source": [
    "#Perform Stratified Sampling\n",
    "df0_sampled = df0.sample(n=len(df1), random_state=4).copy()\n",
    "df_new=pd.concat([df1,df0_sampled],axis=0)\n",
    "df_new['NextPurchaseDayRange'].value_counts()"
   ]
  },
  {
   "attachments": {},
   "cell_type": "markdown",
   "id": "f2599b56",
   "metadata": {},
   "source": [
    "# 4 Split the Data"
   ]
  },
  {
   "cell_type": "code",
   "execution_count": 44,
   "id": "295fa125",
   "metadata": {},
   "outputs": [],
   "source": [
    "#Train test split\n",
    "X = df_new.drop(['DAYS_TO_NEXT_ORDER','MAX_ORDER_TS','ORDER_TS','COUNTRY','BIRTHDAY_DATE'], axis =1,\n",
    "                  errors='ignore')\n",
    "y = df_new[\"NextPurchaseDayRange\"]\n",
    "\n",
    "\n",
    "X_train,X_test,y_train,y_test=train_test_split(X,y,test_size=0.6,random_state=4)"
   ]
  },
  {
   "cell_type": "code",
   "execution_count": 45,
   "id": "91c4d560",
   "metadata": {},
   "outputs": [],
   "source": [
    "#Test and holdout split\n",
    "X_test,X_holdout,y_test,y_holdout=train_test_split(X_test,y_test,test_size=0.5,random_state=4)"
   ]
  },
  {
   "attachments": {},
   "cell_type": "markdown",
   "id": "f13a5e67",
   "metadata": {},
   "source": [
    "## 4.1 Data Engineering 2"
   ]
  },
  {
   "attachments": {},
   "cell_type": "markdown",
   "id": "0cb873e0",
   "metadata": {},
   "source": [
    "Data engineering needs to be done in 2 parts, one before and one after splitting the data so as to prevent data leakage to the test datasets"
   ]
  },
  {
   "attachments": {},
   "cell_type": "markdown",
   "id": "df77fbd5",
   "metadata": {},
   "source": [
    "### 4.1.1 Categorical Encoding"
   ]
  },
  {
   "attachments": {},
   "cell_type": "markdown",
   "id": "72fdc62a",
   "metadata": {},
   "source": [
    "#### 4.1.1.1 One Hot Encoding"
   ]
  },
  {
   "cell_type": "code",
   "execution_count": 46,
   "id": "031693a7",
   "metadata": {},
   "outputs": [],
   "source": [
    "#One Hot Encoding \n",
    "ohe_enc = OneHotEncoder(\n",
    "     top_categories=None,\n",
    "     drop_last=True,\n",
    "     variables=['GENDER','MARITAL_STATUS']) \n",
    "\n",
    "ohe_enc.fit(X_train)\n",
    "X_train = ohe_enc.transform(X_train)\n",
    "X_test=ohe_enc.transform(X_test)\n",
    "X_holdout=ohe_enc.transform(X_holdout)"
   ]
  },
  {
   "attachments": {},
   "cell_type": "markdown",
   "id": "b6e2cdf8",
   "metadata": {},
   "source": [
    "#### 4.1.1.2 Clean the Encoded Columns"
   ]
  },
  {
   "cell_type": "code",
   "execution_count": 47,
   "id": "32ddeff0",
   "metadata": {},
   "outputs": [],
   "source": [
    "X_train.rename({'MARITAL_STATUS_Divorced/Seperated':'MARITAL_STATUS_Divorced_Or_Seperated'}, axis=1,inplace=True)\n",
    "X_test.rename({'MARITAL_STATUS_Divorced/Seperated':'MARITAL_STATUS_Divorced_Or_Seperated'}, axis=1,inplace=True)\n",
    "X_holdout.rename({'MARITAL_STATUS_Divorced/Seperated':'MARITAL_STATUS_Divorced_Or_Seperated'}, axis=1,inplace=True)"
   ]
  },
  {
   "cell_type": "code",
   "execution_count": 48,
   "id": "a310db0b",
   "metadata": {},
   "outputs": [],
   "source": [
    "X_train.columns = map(str.upper, X_train.columns)\n",
    "X_test.columns = map(str.upper, X_test.columns)\n",
    "X_holdout.columns = map(str.upper, X_holdout.columns)"
   ]
  },
  {
   "attachments": {},
   "cell_type": "markdown",
   "id": "2268959d",
   "metadata": {},
   "source": [
    "### 4.1.2 Drop Target Variable"
   ]
  },
  {
   "attachments": {},
   "cell_type": "markdown",
   "id": "6427c304",
   "metadata": {},
   "source": [
    "### 4.1.3 Feature Scaling"
   ]
  },
  {
   "cell_type": "code",
   "execution_count": 49,
   "id": "fd5f47d3",
   "metadata": {},
   "outputs": [],
   "source": [
    "#Min Max Scaler\n",
    "\n",
    "cols_to_scale=X_train.drop('NEXTPURCHASEDAYRANGE',axis=1, errors='ignore').columns\n",
    "\n",
    "scaler = MinMaxScaler()\n",
    "\n",
    "#fit the scaler to the train set, it will learn the parameters\n",
    "scaler.fit(X_train[cols_to_scale])\n",
    "\n",
    "#transform train and test sets\n",
    "X_train[cols_to_scale] = scaler.transform(X_train[cols_to_scale])\n",
    "X_test[cols_to_scale]= scaler.transform(X_test[cols_to_scale])\n",
    "X_holdout[cols_to_scale]=scaler.transform(X_holdout[cols_to_scale])"
   ]
  },
  {
   "cell_type": "code",
   "execution_count": 50,
   "id": "35a94b88",
   "metadata": {},
   "outputs": [],
   "source": [
    "#Save tables to snowflake\n",
    "session.create_dataframe(X_train).write.save_as_table(table_name=\"train_table\", mode='overwrite')\n",
    "session.create_dataframe(X_test).write.save_as_table(table_name=\"test_table\", mode='overwrite')\n",
    "session.create_dataframe(X_holdout).write.save_as_table(table_name=\"holdout_table\", mode='overwrite')"
   ]
  },
  {
   "cell_type": "code",
   "execution_count": 51,
   "id": "e2fb8517",
   "metadata": {},
   "outputs": [],
   "source": [
    "X_train=X_train.drop('NEXTPURCHASEDAYRANGE',axis=1, errors='ignore')\n",
    "X_test=X_test.drop('NEXTPURCHASEDAYRANGE',axis=1, errors='ignore')\n",
    "X_holdout=X_holdout.drop('NEXTPURCHASEDAYRANGE',axis=1, errors='ignore')"
   ]
  },
  {
   "attachments": {},
   "cell_type": "markdown",
   "id": "edbe3422",
   "metadata": {},
   "source": [
    "## Model Building"
   ]
  },
  {
   "attachments": {},
   "cell_type": "markdown",
   "id": "31d1a24e",
   "metadata": {},
   "source": [
    "## Define Evaluation Function"
   ]
  },
  {
   "cell_type": "code",
   "execution_count": 52,
   "id": "41cb0a36",
   "metadata": {},
   "outputs": [],
   "source": [
    "#Function to show MSE, MAE, r-sq of Classification models\n",
    "def evaluateModel(model):\n",
    "    #Accuracy\n",
    "    print('Train Accuracy:',model.score(X_train, y_train),\n",
    "          '\\nTest Accuracy:',model.score(X_test, y_test),\n",
    "          '\\nHoldout Accuracy:',model.score(X_holdout, y_holdout))"
   ]
  },
  {
   "cell_type": "code",
   "execution_count": 53,
   "id": "a600e587",
   "metadata": {},
   "outputs": [],
   "source": [
    "#Function to show MSE, MAE, r-sq of Classification models\n",
    "def evaluateModelWithName(model,model_name):\n",
    "    print(model_name)\n",
    "    print('Train Accuracy:',model.score(X_train, y_train),\n",
    "          '\\nTest Accuracy:',model.score(X_test, y_test),\n",
    "          '\\nHoldout Accuracy:',model.score(X_holdout, y_holdout),\n",
    "          '\\n')"
   ]
  },
  {
   "attachments": {},
   "cell_type": "markdown",
   "id": "670c5eae",
   "metadata": {},
   "source": [
    "## Models"
   ]
  },
  {
   "attachments": {},
   "cell_type": "markdown",
   "id": "1260879f",
   "metadata": {},
   "source": [
    "### Logistic Regression"
   ]
  },
  {
   "attachments": {},
   "cell_type": "markdown",
   "id": "39821d5f",
   "metadata": {},
   "source": [
    "#### Build the model"
   ]
  },
  {
   "cell_type": "code",
   "execution_count": 54,
   "id": "8b128643",
   "metadata": {},
   "outputs": [
    {
     "name": "stdout",
     "output_type": "stream",
     "text": [
      "Train Accuracy: 0.7695463603329036 \n",
      "Test Accuracy: 0.7687739313901696 \n",
      "Holdout Accuracy: 0.767914354926936\n"
     ]
    }
   ],
   "source": [
    "#Build Logistic Regression Model\n",
    "log_ref_before = LogisticRegression(max_iter=10000)\n",
    "log_ref_before.fit(X_train, y_train)\n",
    "\n",
    "evaluateModel(log_ref_before)"
   ]
  },
  {
   "attachments": {},
   "cell_type": "markdown",
   "id": "69bc18c0",
   "metadata": {},
   "source": [
    "#### Improve the model"
   ]
  },
  {
   "cell_type": "code",
   "execution_count": 55,
   "id": "ac7663d6",
   "metadata": {},
   "outputs": [
    {
     "name": "stdout",
     "output_type": "stream",
     "text": [
      "0.7691938099172362\n",
      "{'C': 0.1, 'penalty': 'l2', 'solver': 'liblinear'}\n"
     ]
    }
   ],
   "source": [
    "# Task 1: Use GridSearch to find the best combination of model hyperparameters\n",
    "\n",
    "logreg = LogisticRegression()\n",
    "param_grid = {\"penalty\": [\"l2\"],\n",
    "                \"C\" : [0.1, 1, 10],\n",
    "                \"solver\" : [\"newton-cg\", \"lbfgs\", \"liblinear\"]}\n",
    "\n",
    "gs =GridSearchCV(logreg, param_grid = param_grid, scoring = \"accuracy\", cv = 10, n_jobs = -1)\n",
    "gs = gs.fit(X_train, y_train)\n",
    "\n",
    "print(gs.best_score_)\n",
    "print(gs.best_params_)"
   ]
  },
  {
   "cell_type": "code",
   "execution_count": 56,
   "id": "8bd80baf",
   "metadata": {},
   "outputs": [
    {
     "name": "stdout",
     "output_type": "stream",
     "text": [
      "Train Accuracy: 0.7691947016762396 \n",
      "Test Accuracy: 0.7682269281862937 \n",
      "Holdout Accuracy: 0.7680706415566149\n"
     ]
    }
   ],
   "source": [
    "#Build Logistic Regression Model\n",
    "log_ref_improved = LogisticRegression(**gs.best_params_)\n",
    "log_ref_improved.fit(X_train, y_train)\n",
    "\n",
    "evaluateModel(log_ref_improved)"
   ]
  },
  {
   "attachments": {},
   "cell_type": "markdown",
   "id": "e4ae598d",
   "metadata": {},
   "source": [
    "## Decision Tree"
   ]
  },
  {
   "attachments": {},
   "cell_type": "markdown",
   "id": "dc87829e",
   "metadata": {},
   "source": [
    "#### Build the model"
   ]
  },
  {
   "cell_type": "code",
   "execution_count": 57,
   "id": "6eed511c",
   "metadata": {},
   "outputs": [
    {
     "name": "stdout",
     "output_type": "stream",
     "text": [
      "Train Accuracy: 0.9330676356816316 \n",
      "Test Accuracy: 0.7011799640540751 \n",
      "Holdout Accuracy: 0.7067281394076737\n"
     ]
    }
   ],
   "source": [
    "#Build Decision Tree Model\n",
    "decision_tree_before = tree.DecisionTreeClassifier(max_depth = 20)\n",
    "\n",
    "decision_tree_before.fit(X_train, y_train)\n",
    "\n",
    "evaluateModel(decision_tree_before)"
   ]
  },
  {
   "attachments": {},
   "cell_type": "markdown",
   "id": "c97faac8",
   "metadata": {},
   "source": [
    "#### Improve the model"
   ]
  },
  {
   "cell_type": "code",
   "execution_count": 58,
   "id": "f82be2d3",
   "metadata": {},
   "outputs": [
    {
     "name": "stdout",
     "output_type": "stream",
     "text": [
      "0.7781028535009626\n",
      "{'criterion': 'entropy', 'max_depth': 4, 'min_samples_leaf': 1, 'min_samples_split': 2}\n"
     ]
    }
   ],
   "source": [
    "dt = tree.DecisionTreeClassifier(max_depth = 2)\n",
    "\n",
    "param_grid = { \"criterion\" : [\"gini\", \"entropy\"], \n",
    "              \"min_samples_leaf\" : [1, 5, 10,20,30,40,50,100], \n",
    "              \"min_samples_split\" : [2, 4, 10, 12, 16], \n",
    "              'max_depth' : [2,3,4,5,6,7]}\n",
    "\n",
    "gs = GridSearchCV(dt, param_grid=param_grid, scoring='accuracy', cv= 10, n_jobs=-1)\n",
    "# cv: number of partitions for cross validation\n",
    "# n_jobs: number of jobs to run in parallel, -1 means using all processors\n",
    "\n",
    "gs = gs.fit(X_train, y_train) \n",
    "\n",
    "print(gs.best_score_)\n",
    "print(gs.best_params_)"
   ]
  },
  {
   "cell_type": "code",
   "execution_count": 59,
   "id": "adc96767",
   "metadata": {},
   "outputs": [
    {
     "name": "stdout",
     "output_type": "stream",
     "text": [
      "Train Accuracy: 0.778982534286719 \n",
      "Test Accuracy: 0.773931390169571 \n",
      "Holdout Accuracy: 0.7714308040947097\n"
     ]
    }
   ],
   "source": [
    "# Create Decision Tree using the best hyperparameters\n",
    "decision_tree_improved = tree.DecisionTreeClassifier(**gs.best_params_)\n",
    "decision_tree_improved.fit(X_train, y_train)\n",
    "\n",
    "evaluateModel(decision_tree_improved)"
   ]
  },
  {
   "attachments": {},
   "cell_type": "markdown",
   "id": "06eb7b92",
   "metadata": {},
   "source": [
    "### Random Forest"
   ]
  },
  {
   "attachments": {},
   "cell_type": "markdown",
   "id": "b921f8d9",
   "metadata": {},
   "source": [
    "#### Build the model"
   ]
  },
  {
   "cell_type": "code",
   "execution_count": 60,
   "id": "c709b469",
   "metadata": {},
   "outputs": [
    {
     "name": "stdout",
     "output_type": "stream",
     "text": [
      "Train Accuracy: 1.0 \n",
      "Test Accuracy: 0.7638509025552864 \n",
      "Holdout Accuracy: 0.764163475814644\n"
     ]
    }
   ],
   "source": [
    "#Build Random Forest Model\n",
    "\n",
    "random_forest_before= RandomForestClassifier(n_estimators=100)\n",
    "random_forest_before.fit(X_train, y_train)\n",
    "\n",
    "evaluateModel(random_forest_before)"
   ]
  },
  {
   "attachments": {},
   "cell_type": "markdown",
   "id": "05817007",
   "metadata": {},
   "source": [
    "#### Improve the model"
   ]
  },
  {
   "cell_type": "code",
   "execution_count": 61,
   "id": "9658a832",
   "metadata": {},
   "outputs": [
    {
     "name": "stdout",
     "output_type": "stream",
     "text": [
      "0.7795094126591355\n",
      "{'max_depth': 10, 'min_samples_split': 10, 'n_estimators': 50}\n"
     ]
    }
   ],
   "source": [
    "rf = RandomForestClassifier()\n",
    "param_grid = {'n_estimators': [10, 50, 100],\n",
    "'max_depth': [ 4, 6, 8, 10],\n",
    "'min_samples_split': [5, 10, 15, 20]}\n",
    "\n",
    "gs = GridSearchCV(rf, param_grid = param_grid, scoring = \"accuracy\", cv = 10, n_jobs = -1)\n",
    "gs = gs.fit(X_train, y_train)\n",
    "\n",
    "print(gs.best_score_)\n",
    "print(gs.best_params_)"
   ]
  },
  {
   "cell_type": "code",
   "execution_count": 109,
   "id": "9417473b",
   "metadata": {},
   "outputs": [
    {
     "ename": "TypeError",
     "evalue": "__init__() got an unexpected keyword argument 'learning_rate'",
     "output_type": "error",
     "traceback": [
      "\u001b[1;31m---------------------------------------------------------------------------\u001b[0m",
      "\u001b[1;31mTypeError\u001b[0m                                 Traceback (most recent call last)",
      "Cell \u001b[1;32mIn[109], line 2\u001b[0m\n\u001b[0;32m      1\u001b[0m \u001b[39m# Build RandomForest Model and Evaluate both training and testing accuracy\u001b[39;00m\n\u001b[1;32m----> 2\u001b[0m random_forest_improved \u001b[39m=\u001b[39m RandomForestClassifier(\u001b[39m*\u001b[39;49m\u001b[39m*\u001b[39;49mgs\u001b[39m.\u001b[39;49mbest_params_)\n\u001b[0;32m      3\u001b[0m random_forest_improved\u001b[39m.\u001b[39mfit(X_train,y_train)\n\u001b[0;32m      5\u001b[0m evaluateModel(random_forest_improved)\n",
      "\u001b[1;31mTypeError\u001b[0m: __init__() got an unexpected keyword argument 'learning_rate'"
     ]
    }
   ],
   "source": [
    "# Build RandomForest Model and Evaluate both training and testing accuracy\n",
    "random_forest_improved = RandomForestClassifier(**gs.best_params_)\n",
    "random_forest_improved.fit(X_train,y_train)\n",
    "\n",
    "evaluateModel(random_forest_improved)"
   ]
  },
  {
   "attachments": {},
   "cell_type": "markdown",
   "id": "b7d268ac",
   "metadata": {},
   "source": [
    "## Adaboost"
   ]
  },
  {
   "cell_type": "code",
   "execution_count": 63,
   "id": "86d103be",
   "metadata": {},
   "outputs": [
    {
     "name": "stdout",
     "output_type": "stream",
     "text": [
      "Train Accuracy: 1.0 \n",
      "Test Accuracy: 0.6834414315855278 \n",
      "Holdout Accuracy: 0.6908650464952724\n"
     ]
    }
   ],
   "source": [
    "#Build Ada Boost Model\n",
    "adb_before = AdaBoostClassifier(DecisionTreeClassifier(),n_estimators=5,learning_rate=1)\n",
    "adb_before.fit(X_train, y_train)\n",
    "\n",
    "evaluateModel(adb_before)"
   ]
  },
  {
   "cell_type": "code",
   "execution_count": 64,
   "id": "7f21f868",
   "metadata": {},
   "outputs": [
    {
     "name": "stdout",
     "output_type": "stream",
     "text": [
      "0.7786893537536121\n",
      "{'algorithm': 'SAMME', 'estimator': DecisionTreeClassifier(max_depth=1), 'learning_rate': 0.1, 'n_estimators': 200}\n"
     ]
    }
   ],
   "source": [
    "adb = AdaBoostClassifier()\n",
    "\n",
    "param_grid = {\n",
    "    'estimator': [tree.DecisionTreeClassifier(max_depth=1), tree.DecisionTreeClassifier(max_depth=2)],\n",
    "    'n_estimators': [50, 100, 200],\n",
    "    'learning_rate': [0.1, 0.5, 1],\n",
    "    'algorithm': ['SAMME', 'SAMME.R']\n",
    "}\n",
    "\n",
    "gs = GridSearchCV(adb, param_grid, cv=5, n_jobs=-1)\n",
    "\n",
    "gs.fit(X_train, y_train)\n",
    "\n",
    "print(gs.best_score_)\n",
    "print(gs.best_params_)"
   ]
  },
  {
   "cell_type": "code",
   "execution_count": 65,
   "id": "9e9aa140",
   "metadata": {},
   "outputs": [
    {
     "name": "stdout",
     "output_type": "stream",
     "text": [
      "Train Accuracy: 0.7786894854061658 \n",
      "Test Accuracy: 0.7746346800031257 \n",
      "Holdout Accuracy: 0.7721340939282645\n"
     ]
    }
   ],
   "source": [
    "#Build Ada Boost Model and Evaluate both training and testing accuracy\n",
    "adb_improved = AdaBoostClassifier(**gs.best_params_)\n",
    "adb_improved.fit(X_train,y_train)\n",
    "\n",
    "evaluateModel(adb_improved)"
   ]
  },
  {
   "attachments": {},
   "cell_type": "markdown",
   "id": "ca758de6",
   "metadata": {},
   "source": [
    "## Final Model: XGboost"
   ]
  },
  {
   "cell_type": "code",
   "execution_count": 94,
   "id": "cafdf029",
   "metadata": {},
   "outputs": [
    {
     "name": "stdout",
     "output_type": "stream",
     "text": [
      "Train Accuracy: 0.9570976438870004 \n",
      "Test Accuracy: 0.753614128311323 \n",
      "Holdout Accuracy: 0.757755723997812\n"
     ]
    }
   ],
   "source": [
    "#Build XGBoost Model\n",
    "xgb_before = XGBClassifier(n_estimators = 20, learning_rate = 0.1, eval_metric='logloss',max_depth = 20)\n",
    "xgb_before.fit(X_train, y_train)\n",
    "\n",
    "#Evaluate XGBoost Model\n",
    "evaluateModel(xgb_before)"
   ]
  },
  {
   "cell_type": "code",
   "execution_count": 121,
   "id": "0d08acc7",
   "metadata": {},
   "outputs": [
    {
     "name": "stdout",
     "output_type": "stream",
     "text": [
      "0.7788656158835484\n",
      "{'colsample_bytree': 0.7, 'learning_rate': 0.2, 'max_depth': 4, 'n_estimators': 20, 'subsample': 0.7}\n"
     ]
    }
   ],
   "source": [
    "xgb = XGBClassifier()\n",
    "\n",
    "param_grid = {\n",
    "    'max_depth': [4, 6, 8], \n",
    "    'learning_rate': [0.05, 0.1, 0.2],\n",
    "    'n_estimators': [20, 50, 100],\n",
    "    'colsample_bytree': [0.6,0.7,0.8],\n",
    "    'subsample':[0.6,0.7,0.8]\n",
    "}\n",
    "\n",
    "gs = GridSearchCV(xgb, param_grid, cv=5, n_jobs=-1)\n",
    "\n",
    "gs.fit(X_train, y_train)\n",
    "\n",
    "print(gs.best_score_)\n",
    "print(gs.best_params_)"
   ]
  },
  {
   "cell_type": "code",
   "execution_count": 122,
   "id": "e349211d",
   "metadata": {},
   "outputs": [
    {
     "name": "stdout",
     "output_type": "stream",
     "text": [
      "Train Accuracy: 0.7834368772711289 \n",
      "Test Accuracy: 0.7773696960225053 \n",
      "Holdout Accuracy: 0.774869109947644\n"
     ]
    }
   ],
   "source": [
    "#  Build XGBoost Model and Evaluate both training and testing accuracy \n",
    "xgb_improved = XGBClassifier(**gs.best_params_)\n",
    "xgb_improved.fit(X_train,y_train)\n",
    "\n",
    "evaluateModel(xgb_improved)"
   ]
  },
  {
   "cell_type": "code",
   "execution_count": 120,
   "id": "8f1ad367",
   "metadata": {},
   "outputs": [
    {
     "name": "stdout",
     "output_type": "stream",
     "text": [
      "              precision    recall  f1-score   support\n",
      "\n",
      "           0       0.84      0.68      0.75      6291\n",
      "           1       0.74      0.87      0.80      6506\n",
      "\n",
      "    accuracy                           0.78     12797\n",
      "   macro avg       0.79      0.78      0.77     12797\n",
      "weighted avg       0.79      0.78      0.78     12797\n",
      "\n"
     ]
    }
   ],
   "source": [
    "#Classification Report\n",
    "print(classification_report(y_test,xgb_improved.predict(X_test)))"
   ]
  },
  {
   "attachments": {},
   "cell_type": "markdown",
   "id": "bd774b3f",
   "metadata": {},
   "source": [
    "#### Improve the Model"
   ]
  },
  {
   "attachments": {},
   "cell_type": "markdown",
   "id": "9f33a9b5",
   "metadata": {},
   "source": [
    "# Model Evaulation"
   ]
  },
  {
   "cell_type": "code",
   "execution_count": 124,
   "id": "325c541f",
   "metadata": {},
   "outputs": [
    {
     "name": "stdout",
     "output_type": "stream",
     "text": [
      "log_ref_improved\n",
      "Train Accuracy: 0.7691947016762396 \n",
      "Test Accuracy: 0.7682269281862937 \n",
      "Holdout Accuracy: 0.7680706415566149 \n",
      "\n",
      "decision_tree_improved\n",
      "Train Accuracy: 0.778982534286719 \n",
      "Test Accuracy: 0.773931390169571 \n",
      "Holdout Accuracy: 0.7714308040947097 \n",
      "\n",
      "rdm_fst_improved\n",
      "Train Accuracy: 0.8000234439104442 \n",
      "Test Accuracy: 0.7747909666328046 \n",
      "Holdout Accuracy: 0.7736969602250527 \n",
      "\n",
      "adb_improved\n",
      "Train Accuracy: 0.7786894854061658 \n",
      "Test Accuracy: 0.7746346800031257 \n",
      "Holdout Accuracy: 0.7721340939282645 \n",
      "\n",
      "xgb_improved\n",
      "Train Accuracy: 0.7834368772711289 \n",
      "Test Accuracy: 0.7773696960225053 \n",
      "Holdout Accuracy: 0.774869109947644 \n",
      "\n"
     ]
    }
   ],
   "source": [
    "evaluateModelWithName(log_ref_improved,'log_ref_improved')\n",
    "\n",
    "evaluateModelWithName(decision_tree_improved,'decision_tree_improved')\n",
    "\n",
    "evaluateModelWithName(random_forest_improved,'rdm_fst_improved')\n",
    "\n",
    "evaluateModelWithName(adb_improved,'adb_improved')\n",
    "\n",
    "evaluateModelWithName(xgb_improved,'xgb_improved')"
   ]
  },
  {
   "attachments": {},
   "cell_type": "markdown",
   "id": "cad9d7bd",
   "metadata": {},
   "source": [
    "# Data evaluation"
   ]
  },
  {
   "cell_type": "code",
   "execution_count": 71,
   "id": "efe59d39",
   "metadata": {},
   "outputs": [
    {
     "data": {
      "text/html": [
       "<div>\n",
       "<style scoped>\n",
       "    .dataframe tbody tr th:only-of-type {\n",
       "        vertical-align: middle;\n",
       "    }\n",
       "\n",
       "    .dataframe tbody tr th {\n",
       "        vertical-align: top;\n",
       "    }\n",
       "\n",
       "    .dataframe thead th {\n",
       "        text-align: right;\n",
       "    }\n",
       "</style>\n",
       "<table border=\"1\" class=\"dataframe\">\n",
       "  <thead>\n",
       "    <tr style=\"text-align: right;\">\n",
       "      <th></th>\n",
       "      <th>NextPurchaseDayRange</th>\n",
       "    </tr>\n",
       "  </thead>\n",
       "  <tbody>\n",
       "    <tr>\n",
       "      <th>RECENCY</th>\n",
       "      <td>0.911387</td>\n",
       "    </tr>\n",
       "    <tr>\n",
       "      <th>MAX_DAYS_WITHOUT_PURCHASE</th>\n",
       "      <td>0.017043</td>\n",
       "    </tr>\n",
       "    <tr>\n",
       "      <th>MONETARY</th>\n",
       "      <td>0.014867</td>\n",
       "    </tr>\n",
       "    <tr>\n",
       "      <th>AVG_DAYS_BETWEEN_PURCHASE</th>\n",
       "      <td>0.014406</td>\n",
       "    </tr>\n",
       "    <tr>\n",
       "      <th>GENDER_MALE</th>\n",
       "      <td>0.011890</td>\n",
       "    </tr>\n",
       "    <tr>\n",
       "      <th>MARITAL_STATUS_DIVORCED_OR_SEPERATED</th>\n",
       "      <td>0.011570</td>\n",
       "    </tr>\n",
       "    <tr>\n",
       "      <th>FREQUENCY</th>\n",
       "      <td>0.010124</td>\n",
       "    </tr>\n",
       "    <tr>\n",
       "      <th>AGE</th>\n",
       "      <td>0.008714</td>\n",
       "    </tr>\n",
       "    <tr>\n",
       "      <th>MIN_DAYS_WITHOUT_PURCHASE</th>\n",
       "      <td>0.000000</td>\n",
       "    </tr>\n",
       "    <tr>\n",
       "      <th>GENDER_FEMALE</th>\n",
       "      <td>0.000000</td>\n",
       "    </tr>\n",
       "    <tr>\n",
       "      <th>MARITAL_STATUS_MARRIED</th>\n",
       "      <td>0.000000</td>\n",
       "    </tr>\n",
       "    <tr>\n",
       "      <th>MARITAL_STATUS_SINGLE</th>\n",
       "      <td>0.000000</td>\n",
       "    </tr>\n",
       "  </tbody>\n",
       "</table>\n",
       "</div>"
      ],
      "text/plain": [
       "                                      NextPurchaseDayRange\n",
       "RECENCY                                           0.911387\n",
       "MAX_DAYS_WITHOUT_PURCHASE                         0.017043\n",
       "MONETARY                                          0.014867\n",
       "AVG_DAYS_BETWEEN_PURCHASE                         0.014406\n",
       "GENDER_MALE                                       0.011890\n",
       "MARITAL_STATUS_DIVORCED_OR_SEPERATED              0.011570\n",
       "FREQUENCY                                         0.010124\n",
       "AGE                                               0.008714\n",
       "MIN_DAYS_WITHOUT_PURCHASE                         0.000000\n",
       "GENDER_FEMALE                                     0.000000\n",
       "MARITAL_STATUS_MARRIED                            0.000000\n",
       "MARITAL_STATUS_SINGLE                             0.000000"
      ]
     },
     "execution_count": 71,
     "metadata": {},
     "output_type": "execute_result"
    }
   ],
   "source": [
    "#Check top 10 features based on feature importance\n",
    "ft_weights_xgb_clf = pd.DataFrame(xgb_improved.feature_importances_, columns=[\"NextPurchaseDayRange\"], index=X_train.columns)\n",
    "ft_weights_xgb_clf.sort_values('NextPurchaseDayRange', ascending=False, inplace=True)\n",
    "ft_weights_xgb_clf"
   ]
  },
  {
   "cell_type": "code",
   "execution_count": 72,
   "id": "9e36211f",
   "metadata": {},
   "outputs": [
    {
     "name": "stdout",
     "output_type": "stream",
     "text": [
      "Thresh=0.000, n=12, Accuracy: 77.448%\n",
      "Thresh=0.000, n=12, Accuracy: 77.448%\n",
      "Thresh=0.000, n=12, Accuracy: 77.448%\n",
      "Thresh=0.000, n=12, Accuracy: 77.448%\n",
      "Thresh=0.009, n=8, Accuracy: 77.448%\n",
      "Thresh=0.010, n=7, Accuracy: 77.479%\n",
      "Thresh=0.012, n=6, Accuracy: 77.526%\n",
      "Thresh=0.012, n=5, Accuracy: 77.526%\n",
      "Thresh=0.014, n=4, Accuracy: 77.526%\n",
      "Thresh=0.015, n=3, Accuracy: 77.479%\n",
      "Thresh=0.017, n=2, Accuracy: 77.463%\n",
      "Thresh=0.911, n=1, Accuracy: 77.463%\n"
     ]
    }
   ],
   "source": [
    "thresholds = np.sort(xgb_improved.feature_importances_)\n",
    "for thresh in thresholds:\n",
    "    # select features using threshold\n",
    "    selection = SelectFromModel(xgb_improved, threshold=thresh, prefit=True)\n",
    "    select_X_train = selection.transform(X_train.to_numpy())\n",
    "    # train model\n",
    "    selection_model = XGBClassifier(**gs.best_params_)\n",
    "    selection_model.fit(select_X_train, y_train)\n",
    "    # eval model\n",
    "    select_X_test = selection.transform(X_test.to_numpy())\n",
    "    y_pred = selection_model.predict(select_X_test)\n",
    "    predictions = [round(value) for value in y_pred]\n",
    "    accuracy = accuracy_score(y_test, predictions)\n",
    "    print(\"Thresh=%.3f, n=%d, Accuracy: %.3f%%\" % (thresh, select_X_train.shape[1], accuracy*100.0))"
   ]
  },
  {
   "cell_type": "code",
   "execution_count": 73,
   "id": "763c4373",
   "metadata": {},
   "outputs": [
    {
     "data": {
      "text/plain": [
       "[Row(status='MODEL_STAGE already exists, statement succeeded.')]"
      ]
     },
     "execution_count": 73,
     "metadata": {},
     "output_type": "execute_result"
    }
   ],
   "source": [
    "# Create stage\n",
    "session.sql(\"CREATE STAGE IF NOT EXISTS model_stage\").collect()"
   ]
  },
  {
   "cell_type": "code",
   "execution_count": 74,
   "id": "e39e5bed",
   "metadata": {},
   "outputs": [],
   "source": [
    "train_table = session.table(name=\"train_table\")\n",
    "test_table=session.table(name=\"test_table\")"
   ]
  },
  {
   "attachments": {},
   "cell_type": "markdown",
   "id": "6cb1698d",
   "metadata": {},
   "source": [
    "Define your Stored Procedure to train an XGBoost Model"
   ]
  },
  {
   "cell_type": "code",
   "execution_count": 75,
   "id": "69ff1423",
   "metadata": {},
   "outputs": [],
   "source": [
    "# This local Python-function will be registered as a Stored Procedure and runs in Snowflake\n",
    "def sproc_train_xgboost_model(session: Session, \n",
    "                              training_table: str, \n",
    "                              feature_cols: list,\n",
    "                              target_col: str,\n",
    "                              model_name: str) -> T.Variant:\n",
    "    from joblib import dump\n",
    "    import os\n",
    "    # Loading data into pandas dataframe\n",
    "    local_training_data = session.table(training_table).to_pandas()\n",
    "\n",
    "    # Define features and label\n",
    "    X = local_training_data[feature_cols]\n",
    "    y = local_training_data[target_col]\n",
    "\n",
    "    # Actual model training\n",
    "    from xgboost import XGBClassifier\n",
    "    xgbmodel = XGBClassifier(learning_rate=0.1,max_depth=4,n_estimators= 20, n_jobs= -1, objective= 'binary:logistic')\n",
    "    xgbmodel.fit(X,y)\n",
    "    \n",
    "    # Getting model coefficients\n",
    "    feat_importance = pd.DataFrame(xgbmodel.feature_importances_,feature_cols,columns=['FeatImportance']).to_dict()\n",
    "\n",
    "    # Save model as file and upload to Snowflake stage\n",
    "    model_file = os.path.join('/tmp', model_name)\n",
    "    dump(xgbmodel, model_file)\n",
    "    session.file.put(model_file, '@MODEL_STAGE', auto_compress=False, overwrite=True)\n",
    "\n",
    "    return feat_importance"
   ]
  },
  {
   "attachments": {},
   "cell_type": "markdown",
   "id": "7b9930e9",
   "metadata": {},
   "source": [
    "Register your Stored Procedure to train an XGBoost Model"
   ]
  },
  {
   "cell_type": "code",
   "execution_count": 76,
   "id": "76e8c036",
   "metadata": {},
   "outputs": [
    {
     "name": "stderr",
     "output_type": "stream",
     "text": [
      "The version of package xgboost in the local environment is 1.7.5, which does not fit the criteria for the requirement xgboost==1.7.3. Your UDF might not work when the package version is different between the server and your local environment\n",
      "The version of package joblib in the local environment is 1.2.0, which does not fit the criteria for the requirement joblib==1.1.1. Your UDF might not work when the package version is different between the server and your local environment\n"
     ]
    }
   ],
   "source": [
    "# Registering the function as a Stored Procedure\n",
    "sproc_xgboost_model = session.sproc.register(func=sproc_train_xgboost_model, \n",
    "                                            name='sproc_train_xgboost_model', \n",
    "                                            is_permanent=True, \n",
    "                                            replace=True, \n",
    "                                            stage_location='@MODEL_STAGE', \n",
    "                                            packages=[f'snowflake-snowpark-python==1.3.0'\n",
    "                                                      ,f'scikit-learn==1.2.2'\n",
    "                                                      ,f'xgboost==1.7.3'\n",
    "                                                      ,f'joblib==1.1.1'])"
   ]
  },
  {
   "attachments": {},
   "cell_type": "markdown",
   "id": "637bf6f7",
   "metadata": {},
   "source": [
    "Run your Stored Procedure to train an XGBoost Model"
   ]
  },
  {
   "cell_type": "code",
   "execution_count": 77,
   "id": "2c2cb11a",
   "metadata": {},
   "outputs": [],
   "source": [
    "training_table = \"frostbyte_tasty_bytes.analytics.train_table\"\n",
    "# get feature columns\n",
    "feature_cols = train_table.drop('NEXTPURCHASEDAYRANGE').columns\n",
    "target_col = 'NEXTPURCHASEDAYRANGE'\n",
    "model_name = 'xgboost_model.sav'\n",
    "\n",
    "feature_importance = sproc_xgboost_model(training_table, \n",
    "                                         feature_cols, \n",
    "                                         target_col,\n",
    "                                         model_name, \n",
    "                                         session=session)\n",
    "\n",
    "feature_importance = pd.DataFrame(eval(feature_importance))"
   ]
  },
  {
   "cell_type": "code",
   "execution_count": 78,
   "id": "0f88b3eb",
   "metadata": {},
   "outputs": [
    {
     "data": {
      "text/html": [
       "<div>\n",
       "<style scoped>\n",
       "    .dataframe tbody tr th:only-of-type {\n",
       "        vertical-align: middle;\n",
       "    }\n",
       "\n",
       "    .dataframe tbody tr th {\n",
       "        vertical-align: top;\n",
       "    }\n",
       "\n",
       "    .dataframe thead th {\n",
       "        text-align: right;\n",
       "    }\n",
       "</style>\n",
       "<table border=\"1\" class=\"dataframe\">\n",
       "  <thead>\n",
       "    <tr style=\"text-align: right;\">\n",
       "      <th></th>\n",
       "      <th>name</th>\n",
       "      <th>size</th>\n",
       "      <th>md5</th>\n",
       "      <th>last_modified</th>\n",
       "    </tr>\n",
       "  </thead>\n",
       "  <tbody>\n",
       "    <tr>\n",
       "      <th>0</th>\n",
       "      <td>model_stage/c63fd01776483bfda20e4ab09ae5ed4643...</td>\n",
       "      <td>13616</td>\n",
       "      <td>d9c1820c27993d4d292aed8f961da0d2</td>\n",
       "      <td>Wed, 24 May 2023 16:24:06 GMT</td>\n",
       "    </tr>\n",
       "    <tr>\n",
       "      <th>1</th>\n",
       "      <td>model_stage/e1c68012a174d85e8c6c4470c9cb5ff0e5...</td>\n",
       "      <td>353920</td>\n",
       "      <td>74ac8c781a7eeca2f0aecda85089026d</td>\n",
       "      <td>Wed, 24 May 2023 16:24:05 GMT</td>\n",
       "    </tr>\n",
       "    <tr>\n",
       "      <th>2</th>\n",
       "      <td>model_stage/optuna_model.sav</td>\n",
       "      <td>27472</td>\n",
       "      <td>de4c7c5c4363049dc23d3a3f6ee24f30</td>\n",
       "      <td>Wed, 24 May 2023 16:25:33 GMT</td>\n",
       "    </tr>\n",
       "    <tr>\n",
       "      <th>3</th>\n",
       "      <td>model_stage/xgb_churn_model.sav</td>\n",
       "      <td>36528</td>\n",
       "      <td>1a05a2eefcaccff7b8f7d6f9a016fb40</td>\n",
       "      <td>Tue, 23 May 2023 15:04:42 GMT</td>\n",
       "    </tr>\n",
       "    <tr>\n",
       "      <th>4</th>\n",
       "      <td>model_stage/xgboost_model.sav</td>\n",
       "      <td>36960</td>\n",
       "      <td>69b18d3db88202496cb15409028d935f</td>\n",
       "      <td>Fri, 26 May 2023 09:38:43 GMT</td>\n",
       "    </tr>\n",
       "  </tbody>\n",
       "</table>\n",
       "</div>"
      ],
      "text/plain": [
       "                                                name    size  \\\n",
       "0  model_stage/c63fd01776483bfda20e4ab09ae5ed4643...   13616   \n",
       "1  model_stage/e1c68012a174d85e8c6c4470c9cb5ff0e5...  353920   \n",
       "2                       model_stage/optuna_model.sav   27472   \n",
       "3                    model_stage/xgb_churn_model.sav   36528   \n",
       "4                      model_stage/xgboost_model.sav   36960   \n",
       "\n",
       "                                md5                  last_modified  \n",
       "0  d9c1820c27993d4d292aed8f961da0d2  Wed, 24 May 2023 16:24:06 GMT  \n",
       "1  74ac8c781a7eeca2f0aecda85089026d  Wed, 24 May 2023 16:24:05 GMT  \n",
       "2  de4c7c5c4363049dc23d3a3f6ee24f30  Wed, 24 May 2023 16:25:33 GMT  \n",
       "3  1a05a2eefcaccff7b8f7d6f9a016fb40  Tue, 23 May 2023 15:04:42 GMT  \n",
       "4  69b18d3db88202496cb15409028d935f  Fri, 26 May 2023 09:38:43 GMT  "
      ]
     },
     "execution_count": 78,
     "metadata": {},
     "output_type": "execute_result"
    }
   ],
   "source": [
    "# The model is now stored in a Snowflake stage\n",
    "pd.DataFrame(session.sql('LIST @MODEL_STAGE').collect())"
   ]
  },
  {
   "cell_type": "code",
   "execution_count": 79,
   "id": "34d66b31",
   "metadata": {},
   "outputs": [
    {
     "data": {
      "text/plain": [
       "<Axes: >"
      ]
     },
     "execution_count": 79,
     "metadata": {},
     "output_type": "execute_result"
    },
    {
     "data": {
      "image/png": "[encoded data removed]",
      "text/plain": [
       "<Figure size 500x1500 with 1 Axes>"
      ]
     },
     "metadata": {},
     "output_type": "display_data"
    }
   ],
   "source": [
    "# Plot Feature Importance\n",
    "feature_importance.sort_values('FeatImportance').plot.barh(y='FeatImportance', figsize=(5,15))"
   ]
  },
  {
   "attachments": {},
   "cell_type": "markdown",
   "id": "f8420b32",
   "metadata": {},
   "source": [
    "Model Scoring"
   ]
  },
  {
   "attachments": {},
   "cell_type": "markdown",
   "id": "b43fd35a",
   "metadata": {},
   "source": [
    "Define your UDF to Score an XGBoost Model"
   ]
  },
  {
   "cell_type": "code",
   "execution_count": 80,
   "id": "f7e72aaa",
   "metadata": {},
   "outputs": [],
   "source": [
    "# Define a simple scoring function\n",
    "from cachetools import cached\n",
    "\n",
    "@cached(cache={})\n",
    "def load_model(model_path: str) -> object:\n",
    "    from joblib import load\n",
    "    model = load(model_path)\n",
    "    return model\n",
    "\n",
    "def udf_score_logistic_xgboost_model_vec_cached(df: pd.DataFrame) -> pd.Series:\n",
    "    import os\n",
    "    import sys\n",
    "    # file-dependencies of UDFs are available in snowflake_import_directory\n",
    "    IMPORT_DIRECTORY_NAME = \"snowflake_import_directory\"\n",
    "    import_dir = sys._xoptions[IMPORT_DIRECTORY_NAME]\n",
    "    model_name = 'xgboost_model.sav'\n",
    "    model = load_model(import_dir+model_name)\n",
    "    df.columns = feature_cols\n",
    "    scored_data = pd.Series(model.predict(df))\n",
    "    return scored_data"
   ]
  },
  {
   "attachments": {},
   "cell_type": "markdown",
   "id": "a44b653e",
   "metadata": {},
   "source": [
    "Register your UDF to Score an XGBoost Model"
   ]
  },
  {
   "cell_type": "code",
   "execution_count": 81,
   "id": "fc2508c6",
   "metadata": {},
   "outputs": [
    {
     "name": "stderr",
     "output_type": "stream",
     "text": [
      "The version of package xgboost in the local environment is 1.7.5, which does not fit the criteria for the requirement xgboost==1.7.3. Your UDF might not work when the package version is different between the server and your local environment\n",
      "The version of package joblib in the local environment is 1.2.0, which does not fit the criteria for the requirement joblib==1.1.1. Your UDF might not work when the package version is different between the server and your local environment\n",
      "The version of package cachetools in the local environment is 5.3.0, which does not fit the criteria for the requirement cachetools==4.2.2. Your UDF might not work when the package version is different between the server and your local environment\n"
     ]
    }
   ],
   "source": [
    "# Register UDF\n",
    "udf_score_logistic_xgboost_model_vec_cached = session.udf.register(func=udf_score_logistic_xgboost_model_vec_cached, \n",
    "                                                                   name=\"udf_score_xgboost_model\", \n",
    "                                                                   stage_location='@MODEL_STAGE',\n",
    "                                                                   input_types=[T.FloatType()]*len(feature_cols),\n",
    "                                                                   return_type = T.FloatType(),\n",
    "                                                                   replace=True, \n",
    "                                                                   is_permanent=True, \n",
    "                                                                   imports=['@MODEL_STAGE/xgboost_model.sav'],\n",
    "                                                                   packages=[f'scikit-learn==1.2.2'\n",
    "                                                                             ,f'xgboost==1.7.3'\n",
    "                                                                             ,f'joblib==1.1.1'\n",
    "                                                                             ,f'cachetools==4.2.2'], \n",
    "                                                                   session=session)"
   ]
  },
  {
   "attachments": {},
   "cell_type": "markdown",
   "id": "3f08853c",
   "metadata": {},
   "source": [
    "Run your UDF to Score an XGBoost Model"
   ]
  },
  {
   "cell_type": "code",
   "execution_count": 82,
   "id": "fa170914",
   "metadata": {},
   "outputs": [
    {
     "name": "stdout",
     "output_type": "stream",
     "text": [
      "CPU times: total: 0 ns\n",
      "Wall time: 4.02 s\n"
     ]
    }
   ],
   "source": [
    "%%time\n",
    "# Scoring test data with scalar UDF but caching the model\n",
    "scored_sdf = test_table.with_column('PREDICTION', udf_score_logistic_xgboost_model_vec_cached(*feature_cols))\n",
    "scored_sdf.write.save_as_table(table_name='frostbyte_tasty_bytes.analytics.test_table', mode='overwrite')"
   ]
  },
  {
   "attachments": {},
   "cell_type": "markdown",
   "id": "0d865152",
   "metadata": {},
   "source": [
    "## Reset"
   ]
  },
  {
   "cell_type": "code",
   "execution_count": 83,
   "id": "7cc17fb5",
   "metadata": {},
   "outputs": [
    {
     "data": {
      "text/plain": [
       "'# Drop training table\\nsession.sql(\"DROP TABLE IF EXISTS frostbyte_tasty_bytes.analytics.shift_sales_train\").collect()\\n\\n# Drop testing table\\nsession.sql(\"DROP TABLE IF EXISTS frostbyte_tasty_bytes.analytics.shift_sales_test\").collect()\\n\\n# Drop training stored procedure\\nsession.sql(\"DROP PROCEDURE IF EXISTS sproc_train_linreg(varchar, array, varchar, varchar)\").collect()\\n\\n# Drop inference user-defined function\\nsession.sql(\\n    \"DROP FUNCTION IF EXISTS udf_linreg_predict_location_sales(float, float, float, float, float, float, float, float)\"\\n).collect()\\n\\n# Drop stage\\nsession.sql(\"DROP STAGE IF EXISTS model_stage\").collect()\\n\\n# Scale down compute\\nsession.sql(\"ALTER WAREHOUSE tasty_ds_wh SET WAREHOUSE_SIZE = XSMALL\").collect()\\n\\n# Close the session\\nsession.close()'"
      ]
     },
     "execution_count": 83,
     "metadata": {},
     "output_type": "execute_result"
    }
   ],
   "source": [
    "\"\"\"# Drop training table\n",
    "session.sql(\"DROP TABLE IF EXISTS frostbyte_tasty_bytes.analytics.shift_sales_train\").collect()\n",
    "\n",
    "# Drop testing table\n",
    "session.sql(\"DROP TABLE IF EXISTS frostbyte_tasty_bytes.analytics.shift_sales_test\").collect()\n",
    "\n",
    "# Drop training stored procedure\n",
    "session.sql(\"DROP PROCEDURE IF EXISTS sproc_train_linreg(varchar, array, varchar, varchar)\").collect()\n",
    "\n",
    "# Drop inference user-defined function\n",
    "session.sql(\n",
    "    \"DROP FUNCTION IF EXISTS udf_linreg_predict_location_sales(float, float, float, float, float, float, float, float)\"\n",
    ").collect()\n",
    "\n",
    "# Drop stage\n",
    "session.sql(\"DROP STAGE IF EXISTS model_stage\").collect()\n",
    "\n",
    "# Scale down compute\n",
    "session.sql(\"ALTER WAREHOUSE tasty_ds_wh SET WAREHOUSE_SIZE = XSMALL\").collect()\n",
    "\n",
    "# Close the session\n",
    "session.close()\"\"\""
   ]
  }
 ],
 "metadata": {
  "kernelspec": {
   "display_name": "py38_env",
   "language": "python",
   "name": "python3"
  },
  "language_info": {
   "codemirror_mode": {
    "name": "ipython",
    "version": 3
   },
   "file_extension": ".py",
   "mimetype": "text/x-python",
   "name": "python",
   "nbconvert_exporter": "python",
   "pygments_lexer": "ipython3",
   "version": "3.8.16"
  }
 },
 "nbformat": 4,
 "nbformat_minor": 5
}
