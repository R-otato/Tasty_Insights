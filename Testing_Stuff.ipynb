{
 "cells": [
  {
   "cell_type": "markdown",
   "id": "eaeb5653",
   "metadata": {},
   "source": [
    "![download.png](download.png)\n"
   ]
  },
  {
   "cell_type": "markdown",
   "id": "9f8d1940",
   "metadata": {},
   "source": [
    "## Import Packages"
   ]
  },
  {
   "cell_type": "code",
   "execution_count": 3,
   "id": "2b76a42a",
   "metadata": {},
   "outputs": [],
   "source": [
    "#Import Python packages\n",
    "\n",
    "# Import Snowflake modules\n",
    "from snowflake.snowpark import Session\n",
    "import snowflake.snowpark.functions as F\n",
    "import snowflake.snowpark.types as T\n",
    "from snowflake.snowpark import Window"
   ]
  },
  {
   "cell_type": "markdown",
   "id": "c689510f",
   "metadata": {},
   "source": [
    "## Connect to Snowflake"
   ]
  },
  {
   "cell_type": "code",
   "execution_count": 4,
   "id": "4f9ed021",
   "metadata": {},
   "outputs": [],
   "source": [
    "# Get account credentials from a json file\n",
    "\n",
    "#Ryan Liam: To create a json file?\n",
    "'''with open(\"data_scientist_auth.json\") as f:\n",
    "    data = json.load(f)\n",
    "    username = data[\"username\"]\n",
    "    password = data[\"password\"]\n",
    "    account = data[\"account\"]'''\n",
    "\n",
    "# Specify connection parameters\n",
    "connection_parameters = {\n",
    "    \"account\": 'OIBYVZR-PJ46704',\n",
    "    \"user\": 'RYANLIAM',\n",
    "    \"password\": 'Cats2004',\n",
    "    \"role\": \"tasty_data_scientist\",\n",
    "    \"warehouse\": \"tasty_ds_wh\",\n",
    "    \"database\": \"frostbyte_tasty_bytes\",\n",
    "    \"schema\": \"analytics\",\n",
    "}\n",
    "\n",
    "# Create Snowpark session\n",
    "session = Session.builder.configs(connection_parameters).create()"
   ]
  },
  {
   "cell_type": "markdown",
   "id": "c3d02814",
   "metadata": {},
   "source": [
    "## Gathering Data as Snowpark DataFrame"
   ]
  },
  {
   "cell_type": "code",
   "execution_count": 5,
   "id": "93bc4928",
   "metadata": {
    "scrolled": false
   },
   "outputs": [],
   "source": [
    "#Orders_V\n",
    "tasty_bytes_orders_v = session.table(\"frostbyte_tasty_bytes.analytics.orders_v\")\n",
    "#Customer Loyalty\n",
    "tasty_bytes_customer_loyalty = session.table(\"frostbyte_tasty_bytes.raw_customer.customer_loyalty\")\n",
    "#\n",
    "frostbyte_safegraph=session.table(\"frostbyte_safegraph.public.frostbyte_tb_safegraph_s\")\n"
   ]
  },
  {
   "attachments": {},
   "cell_type": "markdown",
   "id": "461b0173",
   "metadata": {},
   "source": [
    "## Preview The Data"
   ]
  },
  {
   "cell_type": "code",
   "execution_count": 6,
   "id": "2f239bc8",
   "metadata": {},
   "outputs": [
    {
     "name": "stdout",
     "output_type": "stream",
     "text": [
      "-------------------------------------------------------------------------------------------------------------------------------------------------------------------------------------------------------------------------------------------------------------------------\n",
      "|\"CUSTOMER_ID\"  |\"FIRST_NAME\"  |\"LAST_NAME\"  |\"CITY\"          |\"COUNTRY\"  |\"POSTAL_CODE\"  |\"PREFERRED_LANGUAGE\"  |\"GENDER\"     |\"FAVOURITE_BRAND\"  |\"MARITAL_STATUS\"  |\"CHILDREN_COUNT\"  |\"SIGN_UP_DATE\"  |\"BIRTHDAY_DATE\"  |\"E_MAIL\"                  |\"PHONE_NUMBER\"  |\n",
      "-------------------------------------------------------------------------------------------------------------------------------------------------------------------------------------------------------------------------------------------------------------------------\n",
      "|1              |Rodolfo       |Tucker       |Hamburg         |Germany    |21129          |German                |Female       |NULL               |Single            |0                 |2019-02-19      |1953-12-01       |Rodolfo.Tucker@ymail.com  |007-506-6068    |\n",
      "|2              |Karla         |Mullen       |Rio de Janeiro  |Brazil     |22753-000      |Portuguese            |Male         |NULL               |Single            |0                 |2019-10-07      |1973-09-21       |Karla.Mullen@hotmail.com  |431-122-6142    |\n",
      "|3              |Cortez        |Douglas      |Krakow          |Poland     |31-5           |Polish                |Female       |NULL               |Married           |2                 |2020-09-11      |2000-09-04       |Cortez.Douglas@gmail.com  |157-518-3848    |\n",
      "|4              |Janiya        |Pope         |Krakow          |Poland     |31-5           |Polish                |Female       |NULL               |Single            |1                 |2021-09-09      |1950-03-05       |Janiya.Pope@ymail.com     |872-718-6879    |\n",
      "|5              |Zaiden        |Knapp        |Barcelona       |Spain      |08013          |English               |Female       |NULL               |Married           |1                 |2022-06-17      |1978-10-29       |Zaiden.Knapp@hotmail.com  |545-152-4832    |\n",
      "|6              |Micah         |Beard        |Hamburg         |Germany    |21129          |German                |Male         |NULL               |Single            |0                 |2021-06-02      |1969-08-17       |Micah.Beard@aol.com       |535-753-3461    |\n",
      "|7              |Ricardo       |Byrd         |Barcelona       |Spain      |08013          |English               |Male         |NULL               |Undisclosed       |Undisclosed       |2020-09-29      |1961-12-23       |Ricardo.Byrd@aol.com      |138-082-1391    |\n",
      "|8              |Marie         |Boyer        |Hamburg         |Germany    |21129          |German                |Female       |NULL               |Single            |0                 |2021-04-08      |1960-07-12       |Marie.Boyer@aol.com       |587-006-4451    |\n",
      "|9              |Josie         |Glass        |Stockholm       |Sweden     |6206           |Swedish               |Male         |NULL               |Single            |0                 |2020-10-30      |1970-09-11       |Josie.Glass@hotmail.com   |023-863-4028    |\n",
      "|10             |Korbin        |Ward         |Cairo           |Egypt      |00000          |Arabic                |Undisclosed  |NULL               |Single            |0                 |2020-06-04      |1989-05-27       |Korbin.Ward@gmail.com     |049-196-8102    |\n",
      "-------------------------------------------------------------------------------------------------------------------------------------------------------------------------------------------------------------------------------------------------------------------------\n",
      "\n"
     ]
    }
   ],
   "source": [
    "tasty_bytes_customer_loyalty.show()"
   ]
  },
  {
   "cell_type": "code",
   "execution_count": null,
   "id": "feae8662",
   "metadata": {},
   "outputs": [],
   "source": []
  }
 ],
 "metadata": {
  "kernelspec": {
   "display_name": "py38_env",
   "language": "python",
   "name": "python3"
  },
  "language_info": {
   "codemirror_mode": {
    "name": "ipython",
    "version": 3
   },
   "file_extension": ".py",
   "mimetype": "text/x-python",
   "name": "python",
   "nbconvert_exporter": "python",
   "pygments_lexer": "ipython3",
   "version": "3.8.16"
  }
 },
 "nbformat": 4,
 "nbformat_minor": 5
}
