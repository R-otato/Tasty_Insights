{
 "cells": [
  {
   "cell_type": "markdown",
   "metadata": {},
   "source": [
    "# Import Statements"
   ]
  },
  {
   "cell_type": "code",
   "execution_count": 11,
   "metadata": {},
   "outputs": [],
   "source": [
    "# IMPORT STATEMENTS\n",
    "\n",
    "#Import Python packages\n",
    "import pandas as pd\n",
    "import json\n",
    "import matplotlib.pyplot as plt\n",
    "import numpy as np\n",
    "import ast\n",
    "\n",
    "# import matplotlib and seaborn to plot charts and graphs\n",
    "import matplotlib.pyplot as plt\n",
    "import seaborn as sns\n",
    "\n",
    "# to split training and testing data\n",
    "from sklearn.model_selection import train_test_split\n",
    "\n",
    "# carry out one hot encoding\n",
    "from feature_engine.encoding import OneHotEncoder\n",
    "\n",
    "# Import Scalers\n",
    "# for min-max scaling\n",
    "from sklearn.preprocessing import MinMaxScaler\n",
    "# for standardization\n",
    "from sklearn.preprocessing import StandardScaler\n",
    "# for robust scaling\n",
    "from sklearn.preprocessing import RobustScaler\n",
    "\n",
    "# import XGBRegressor from xgboost package\n",
    "from xgboost import XGBRegressor\n",
    "\n",
    "# to evaluate model metrics\n",
    "from sklearn.metrics import mean_squared_error, r2_score\n",
    "\n",
    "# import grid search cv to improve decision tree model by helping search for parameters\n",
    "from sklearn.model_selection import GridSearchCV\n",
    "\n",
    "# Import Snowflake modules\n",
    "from snowflake.snowpark import Session\n",
    "import snowflake.snowpark.functions as F\n",
    "\n",
    "# to export model\n",
    "import joblib"
   ]
  },
  {
   "cell_type": "markdown",
   "metadata": {},
   "source": [
    "# Functions"
   ]
  },
  {
   "cell_type": "code",
   "execution_count": 12,
   "metadata": {},
   "outputs": [],
   "source": [
    "def model_performance(model):\n",
    "    print('the training root mean squared error is: ',  np.sqrt(mean_squared_error(model.predict(X_train_scaled), y_train)))\n",
    "    print('the testing root mean squared error is: ',  np.sqrt(mean_squared_error(model.predict(X_test_scaled), y_test)))\n",
    "\n",
    "    print()\n",
    "\n",
    "    #training mse\n",
    "    train_mse = mean_squared_error(model.predict(X_train_scaled), y_train)\n",
    "    print('the training mean squared error is: ', train_mse)\n",
    "    #testing mse\n",
    "    test_mse = mean_squared_error(model.predict(X_test_scaled), y_test)\n",
    "    print('the testing mean squared error is: ', test_mse)\n",
    "\n",
    "    print()\n",
    "\n",
    "    print('training accuracy is: ', model.score(X_train_scaled, y_train))\n",
    "    print('testing accuracy is: ', model.score(X_test_scaled, y_test))\n"
   ]
  },
  {
   "cell_type": "markdown",
   "metadata": {},
   "source": [
    "# Load Tables From Snowflake"
   ]
  },
  {
   "cell_type": "code",
   "execution_count": 13,
   "metadata": {},
   "outputs": [],
   "source": [
    "# Get account credentials from a json file\n",
    "with open(\"data_scientist_auth.json\") as f:\n",
    "    data = json.load(f)\n",
    "    username = data[\"username\"]\n",
    "    password = data[\"password\"]\n",
    "    account = data[\"account\"]\n",
    "\n",
    "# Specify connection parameters\n",
    "connection_parameters = {\n",
    "    \"account\": account,\n",
    "    \"user\": username,\n",
    "    \"password\": password,\n",
    "    \"role\": \"TASTY_BI\",\n",
    "    \"warehouse\": \"TASTY_BI_WH\",\n",
    "    \"database\": \"frostbyte_tasty_bytes\",\n",
    "    \"schema\": \"analytics\",\n",
    "}\n",
    "\n",
    "# Create Snowpark session\n",
    "session = Session.builder.configs(connection_parameters).create()"
   ]
  },
  {
   "cell_type": "markdown",
   "metadata": {},
   "source": [
    "# Order Table"
   ]
  },
  {
   "cell_type": "code",
   "execution_count": 14,
   "metadata": {},
   "outputs": [],
   "source": [
    "# retrieve order details usa table from snowflake\n",
    "order_data_from_snowflake = session.table(\"frostbyte_tasty_bytes.analytics.ORDER_DETAILS_USA_MATCHED\").collect()"
   ]
  },
  {
   "cell_type": "code",
   "execution_count": 15,
   "metadata": {},
   "outputs": [],
   "source": [
    "# convert order_data_from_snowflake to pandas dataframe\n",
    "order_df = pd.DataFrame(order_data_from_snowflake)\n",
    "#order_df = order_data_from_snowflake.to_pandas()"
   ]
  },
  {
   "cell_type": "code",
   "execution_count": 16,
   "metadata": {},
   "outputs": [],
   "source": [
    "# # Get the total quantity sold for each menu item \n",
    "# ## group by 'MENU_ITEM_ID' and calculate the total quantity sold\n",
    "# total_qty_sold_per_item = order_df.groupby('MENU_ITEM_ID')['QUANTITY'].sum().reset_index()\n",
    "\n",
    "# ## rename the 'QUANTITY' column to 'TOTAL_QTY_SOLD'\n",
    "# total_qty_sold_per_item = total_qty_sold_per_item.rename(columns={'QUANTITY': 'TOTAL_QTY_SOLD'})"
   ]
  },
  {
   "cell_type": "markdown",
   "metadata": {},
   "source": [
    "# Menu Table "
   ]
  },
  {
   "cell_type": "code",
   "execution_count": 17,
   "metadata": {},
   "outputs": [],
   "source": [
    "# retrieve menu data from snowflake\n",
    "menu_data_from_snowflake = session.table(\"frostbyte_tasty_bytes.raw_pos.MENU\").collect()"
   ]
  },
  {
   "cell_type": "code",
   "execution_count": 18,
   "metadata": {},
   "outputs": [],
   "source": [
    "# convert menu_data_from_snowflake to pandas dataframe\n",
    "menu_df = pd.DataFrame(menu_data_from_snowflake)"
   ]
  },
  {
   "cell_type": "code",
   "execution_count": 19,
   "metadata": {},
   "outputs": [],
   "source": [
    "# # merge total_qty_sold_per_item with final_product_df\n",
    "# menu_df = pd.merge(menu_df, total_qty_sold_per_item, on='MENU_ITEM_ID')"
   ]
  },
  {
   "cell_type": "markdown",
   "metadata": {},
   "source": [
    "# Truck Table"
   ]
  },
  {
   "cell_type": "code",
   "execution_count": 20,
   "metadata": {},
   "outputs": [],
   "source": [
    "# retrieve menu data from snowflake\n",
    "truck_data_from_snowflake = session.table(\"frostbyte_tasty_bytes.raw_pos.TRUCK\").collect()"
   ]
  },
  {
   "cell_type": "code",
   "execution_count": 21,
   "metadata": {},
   "outputs": [],
   "source": [
    "# convert menu_data_from_snowflake to pandas dataframe\n",
    "truck_df = pd.DataFrame(truck_data_from_snowflake)"
   ]
  },
  {
   "cell_type": "code",
   "execution_count": 22,
   "metadata": {},
   "outputs": [],
   "source": [
    "# Filter only for the United States\n",
    "truck_df = truck_df[truck_df['COUNTRY'] == 'United States']"
   ]
  },
  {
   "cell_type": "markdown",
   "metadata": {},
   "source": [
    "# Order Table"
   ]
  },
  {
   "cell_type": "code",
   "execution_count": 23,
   "metadata": {},
   "outputs": [
    {
     "data": {
      "text/html": [
       "<div>\n",
       "<style scoped>\n",
       "    .dataframe tbody tr th:only-of-type {\n",
       "        vertical-align: middle;\n",
       "    }\n",
       "\n",
       "    .dataframe tbody tr th {\n",
       "        vertical-align: top;\n",
       "    }\n",
       "\n",
       "    .dataframe thead th {\n",
       "        text-align: right;\n",
       "    }\n",
       "</style>\n",
       "<table border=\"1\" class=\"dataframe\">\n",
       "  <thead>\n",
       "    <tr style=\"text-align: right;\">\n",
       "      <th></th>\n",
       "      <th>ORDER_ID</th>\n",
       "      <th>CUSTOMER_ID</th>\n",
       "      <th>TRUCK_ID</th>\n",
       "      <th>LOCATION_ID</th>\n",
       "      <th>SHIFT_ID</th>\n",
       "      <th>SHIFT_START_TIME</th>\n",
       "      <th>SHIFT_END_TIME</th>\n",
       "      <th>ORDER_CHANNEL</th>\n",
       "      <th>ORDER_TS</th>\n",
       "      <th>SERVED_TS</th>\n",
       "      <th>...</th>\n",
       "      <th>E_MAIL</th>\n",
       "      <th>PHONE_NUMBER</th>\n",
       "      <th>ORDER_DETAIL_ID</th>\n",
       "      <th>MENU_ITEM_ID</th>\n",
       "      <th>DISCOUNT_ID</th>\n",
       "      <th>LINE_NUMBER</th>\n",
       "      <th>QUANTITY</th>\n",
       "      <th>UNIT_PRICE</th>\n",
       "      <th>PRICE</th>\n",
       "      <th>ORDER_ITEM_DISCOUNT_AMOUNT</th>\n",
       "    </tr>\n",
       "  </thead>\n",
       "  <tbody>\n",
       "    <tr>\n",
       "      <th>0</th>\n",
       "      <td>452165023</td>\n",
       "      <td>110872</td>\n",
       "      <td>17</td>\n",
       "      <td>14954.0</td>\n",
       "      <td>200544059</td>\n",
       "      <td>15:00:00</td>\n",
       "      <td>22:00:00</td>\n",
       "      <td>None</td>\n",
       "      <td>2022-07-30 17:34:42</td>\n",
       "      <td>None</td>\n",
       "      <td>...</td>\n",
       "      <td>Jase.Haynes@aol.com</td>\n",
       "      <td>861-138-0409</td>\n",
       "      <td>884494568</td>\n",
       "      <td>21</td>\n",
       "      <td>None</td>\n",
       "      <td>0</td>\n",
       "      <td>3</td>\n",
       "      <td>14.0000</td>\n",
       "      <td>42.0000</td>\n",
       "      <td>None</td>\n",
       "    </tr>\n",
       "    <tr>\n",
       "      <th>1</th>\n",
       "      <td>452165023</td>\n",
       "      <td>110872</td>\n",
       "      <td>17</td>\n",
       "      <td>14954.0</td>\n",
       "      <td>200544059</td>\n",
       "      <td>15:00:00</td>\n",
       "      <td>22:00:00</td>\n",
       "      <td>None</td>\n",
       "      <td>2022-07-30 17:34:42</td>\n",
       "      <td>None</td>\n",
       "      <td>...</td>\n",
       "      <td>Jase.Haynes@aol.com</td>\n",
       "      <td>861-138-0409</td>\n",
       "      <td>884494569</td>\n",
       "      <td>23</td>\n",
       "      <td>None</td>\n",
       "      <td>1</td>\n",
       "      <td>1</td>\n",
       "      <td>12.0000</td>\n",
       "      <td>12.0000</td>\n",
       "      <td>None</td>\n",
       "    </tr>\n",
       "    <tr>\n",
       "      <th>2</th>\n",
       "      <td>452165023</td>\n",
       "      <td>110872</td>\n",
       "      <td>17</td>\n",
       "      <td>14954.0</td>\n",
       "      <td>200544059</td>\n",
       "      <td>15:00:00</td>\n",
       "      <td>22:00:00</td>\n",
       "      <td>None</td>\n",
       "      <td>2022-07-30 17:34:42</td>\n",
       "      <td>None</td>\n",
       "      <td>...</td>\n",
       "      <td>Jase.Haynes@aol.com</td>\n",
       "      <td>861-138-0409</td>\n",
       "      <td>884494570</td>\n",
       "      <td>27</td>\n",
       "      <td>None</td>\n",
       "      <td>2</td>\n",
       "      <td>1</td>\n",
       "      <td>6.0000</td>\n",
       "      <td>6.0000</td>\n",
       "      <td>None</td>\n",
       "    </tr>\n",
       "    <tr>\n",
       "      <th>3</th>\n",
       "      <td>452165023</td>\n",
       "      <td>110872</td>\n",
       "      <td>17</td>\n",
       "      <td>14954.0</td>\n",
       "      <td>200544059</td>\n",
       "      <td>15:00:00</td>\n",
       "      <td>22:00:00</td>\n",
       "      <td>None</td>\n",
       "      <td>2022-07-30 17:34:42</td>\n",
       "      <td>None</td>\n",
       "      <td>...</td>\n",
       "      <td>Jase.Haynes@aol.com</td>\n",
       "      <td>861-138-0409</td>\n",
       "      <td>884494571</td>\n",
       "      <td>28</td>\n",
       "      <td>None</td>\n",
       "      <td>3</td>\n",
       "      <td>1</td>\n",
       "      <td>21.0000</td>\n",
       "      <td>21.0000</td>\n",
       "      <td>None</td>\n",
       "    </tr>\n",
       "    <tr>\n",
       "      <th>4</th>\n",
       "      <td>452165023</td>\n",
       "      <td>110872</td>\n",
       "      <td>17</td>\n",
       "      <td>14954.0</td>\n",
       "      <td>200544059</td>\n",
       "      <td>15:00:00</td>\n",
       "      <td>22:00:00</td>\n",
       "      <td>None</td>\n",
       "      <td>2022-07-30 17:34:42</td>\n",
       "      <td>None</td>\n",
       "      <td>...</td>\n",
       "      <td>Jase.Haynes@aol.com</td>\n",
       "      <td>861-138-0409</td>\n",
       "      <td>884494572</td>\n",
       "      <td>29</td>\n",
       "      <td>None</td>\n",
       "      <td>4</td>\n",
       "      <td>1</td>\n",
       "      <td>6.0000</td>\n",
       "      <td>6.0000</td>\n",
       "      <td>None</td>\n",
       "    </tr>\n",
       "  </tbody>\n",
       "</table>\n",
       "<p>5 rows × 38 columns</p>\n",
       "</div>"
      ],
      "text/plain": [
       "    ORDER_ID  CUSTOMER_ID  TRUCK_ID  LOCATION_ID   SHIFT_ID SHIFT_START_TIME  \\\n",
       "0  452165023       110872        17      14954.0  200544059         15:00:00   \n",
       "1  452165023       110872        17      14954.0  200544059         15:00:00   \n",
       "2  452165023       110872        17      14954.0  200544059         15:00:00   \n",
       "3  452165023       110872        17      14954.0  200544059         15:00:00   \n",
       "4  452165023       110872        17      14954.0  200544059         15:00:00   \n",
       "\n",
       "  SHIFT_END_TIME ORDER_CHANNEL            ORDER_TS SERVED_TS  ...  \\\n",
       "0       22:00:00          None 2022-07-30 17:34:42      None  ...   \n",
       "1       22:00:00          None 2022-07-30 17:34:42      None  ...   \n",
       "2       22:00:00          None 2022-07-30 17:34:42      None  ...   \n",
       "3       22:00:00          None 2022-07-30 17:34:42      None  ...   \n",
       "4       22:00:00          None 2022-07-30 17:34:42      None  ...   \n",
       "\n",
       "                E_MAIL  PHONE_NUMBER ORDER_DETAIL_ID MENU_ITEM_ID DISCOUNT_ID  \\\n",
       "0  Jase.Haynes@aol.com  861-138-0409       884494568           21        None   \n",
       "1  Jase.Haynes@aol.com  861-138-0409       884494569           23        None   \n",
       "2  Jase.Haynes@aol.com  861-138-0409       884494570           27        None   \n",
       "3  Jase.Haynes@aol.com  861-138-0409       884494571           28        None   \n",
       "4  Jase.Haynes@aol.com  861-138-0409       884494572           29        None   \n",
       "\n",
       "  LINE_NUMBER QUANTITY UNIT_PRICE    PRICE ORDER_ITEM_DISCOUNT_AMOUNT  \n",
       "0           0        3    14.0000  42.0000                       None  \n",
       "1           1        1    12.0000  12.0000                       None  \n",
       "2           2        1     6.0000   6.0000                       None  \n",
       "3           3        1    21.0000  21.0000                       None  \n",
       "4           4        1     6.0000   6.0000                       None  \n",
       "\n",
       "[5 rows x 38 columns]"
      ]
     },
     "execution_count": 23,
     "metadata": {},
     "output_type": "execute_result"
    }
   ],
   "source": [
    "# preview order table\n",
    "order_df.head()"
   ]
  },
  {
   "cell_type": "code",
   "execution_count": 24,
   "metadata": {},
   "outputs": [
    {
     "data": {
      "text/html": [
       "<div>\n",
       "<style scoped>\n",
       "    .dataframe tbody tr th:only-of-type {\n",
       "        vertical-align: middle;\n",
       "    }\n",
       "\n",
       "    .dataframe tbody tr th {\n",
       "        vertical-align: top;\n",
       "    }\n",
       "\n",
       "    .dataframe thead th {\n",
       "        text-align: right;\n",
       "    }\n",
       "</style>\n",
       "<table border=\"1\" class=\"dataframe\">\n",
       "  <thead>\n",
       "    <tr style=\"text-align: right;\">\n",
       "      <th></th>\n",
       "      <th>TRUCK_ID</th>\n",
       "      <th>LOCATION_ID</th>\n",
       "      <th>ORDER_TS</th>\n",
       "      <th>ORDER_TOTAL</th>\n",
       "    </tr>\n",
       "  </thead>\n",
       "  <tbody>\n",
       "    <tr>\n",
       "      <th>0</th>\n",
       "      <td>17</td>\n",
       "      <td>14954.0</td>\n",
       "      <td>2022-07-30 17:34:42</td>\n",
       "      <td>87.0000</td>\n",
       "    </tr>\n",
       "    <tr>\n",
       "      <th>1</th>\n",
       "      <td>17</td>\n",
       "      <td>14954.0</td>\n",
       "      <td>2022-07-30 17:34:42</td>\n",
       "      <td>87.0000</td>\n",
       "    </tr>\n",
       "    <tr>\n",
       "      <th>2</th>\n",
       "      <td>17</td>\n",
       "      <td>14954.0</td>\n",
       "      <td>2022-07-30 17:34:42</td>\n",
       "      <td>87.0000</td>\n",
       "    </tr>\n",
       "    <tr>\n",
       "      <th>3</th>\n",
       "      <td>17</td>\n",
       "      <td>14954.0</td>\n",
       "      <td>2022-07-30 17:34:42</td>\n",
       "      <td>87.0000</td>\n",
       "    </tr>\n",
       "    <tr>\n",
       "      <th>4</th>\n",
       "      <td>17</td>\n",
       "      <td>14954.0</td>\n",
       "      <td>2022-07-30 17:34:42</td>\n",
       "      <td>87.0000</td>\n",
       "    </tr>\n",
       "  </tbody>\n",
       "</table>\n",
       "</div>"
      ],
      "text/plain": [
       "   TRUCK_ID  LOCATION_ID            ORDER_TS ORDER_TOTAL\n",
       "0        17      14954.0 2022-07-30 17:34:42     87.0000\n",
       "1        17      14954.0 2022-07-30 17:34:42     87.0000\n",
       "2        17      14954.0 2022-07-30 17:34:42     87.0000\n",
       "3        17      14954.0 2022-07-30 17:34:42     87.0000\n",
       "4        17      14954.0 2022-07-30 17:34:42     87.0000"
      ]
     },
     "execution_count": 24,
     "metadata": {},
     "output_type": "execute_result"
    }
   ],
   "source": [
    "order_df = order_df.drop([\"ORDER_ID\", \"SHIFT_ID\", \"SHIFT_START_TIME\", \"SHIFT_END_TIME\", \"ORDER_CHANNEL\", \"SERVED_TS\", \"E_MAIL\", \"PHONE_NUMBER\", \"ORDER_DETAIL_ID\", \"DISCOUNT_ID\", \"LINE_NUMBER\", \"QUANTITY\", \"UNIT_PRICE\", \"PRICE\", \"ORDER_ITEM_DISCOUNT_AMOUNT\", \"BIRTHDAY_DATE\", \"SIGN_UP_DATE\", \"CHILDREN_COUNT\", \"MARITAL_STATUS\", \"FAVOURITE_BRAND\", \"GENDER\", \"PREFERRED_LANGUAGE\", \"POSTAL_CODE\", \"COUNTRY\", \"FIRST_NAME\", \"MAX_ORDER_TS\", \"ORDER_DISCOUNT_AMOUNT\", \"ORDER_TAX_AMOUNT\", \"ORDER_AMOUNT\", \"ORDER_CURRENCY\", \"LAST_NAME\", \"MENU_ITEM_ID\", \"CUSTOMER_ID\", \"CITY\"], axis=1)\n",
    "\n",
    "order_df.head()"
   ]
  },
  {
   "cell_type": "code",
   "execution_count": 25,
   "metadata": {},
   "outputs": [
    {
     "data": {
      "text/html": [
       "<div>\n",
       "<style scoped>\n",
       "    .dataframe tbody tr th:only-of-type {\n",
       "        vertical-align: middle;\n",
       "    }\n",
       "\n",
       "    .dataframe tbody tr th {\n",
       "        vertical-align: top;\n",
       "    }\n",
       "\n",
       "    .dataframe thead th {\n",
       "        text-align: right;\n",
       "    }\n",
       "</style>\n",
       "<table border=\"1\" class=\"dataframe\">\n",
       "  <thead>\n",
       "    <tr style=\"text-align: right;\">\n",
       "      <th></th>\n",
       "      <th>TRUCK_ID</th>\n",
       "      <th>LOCATION_ID</th>\n",
       "      <th>ORDER_TS</th>\n",
       "      <th>ORDER_TOTAL</th>\n",
       "      <th>YEAR</th>\n",
       "      <th>MONTH</th>\n",
       "    </tr>\n",
       "  </thead>\n",
       "  <tbody>\n",
       "    <tr>\n",
       "      <th>0</th>\n",
       "      <td>17</td>\n",
       "      <td>14954.0</td>\n",
       "      <td>2022-07-30 17:34:42</td>\n",
       "      <td>87.0000</td>\n",
       "      <td>2022</td>\n",
       "      <td>7</td>\n",
       "    </tr>\n",
       "    <tr>\n",
       "      <th>1</th>\n",
       "      <td>17</td>\n",
       "      <td>14954.0</td>\n",
       "      <td>2022-07-30 17:34:42</td>\n",
       "      <td>87.0000</td>\n",
       "      <td>2022</td>\n",
       "      <td>7</td>\n",
       "    </tr>\n",
       "    <tr>\n",
       "      <th>2</th>\n",
       "      <td>17</td>\n",
       "      <td>14954.0</td>\n",
       "      <td>2022-07-30 17:34:42</td>\n",
       "      <td>87.0000</td>\n",
       "      <td>2022</td>\n",
       "      <td>7</td>\n",
       "    </tr>\n",
       "    <tr>\n",
       "      <th>3</th>\n",
       "      <td>17</td>\n",
       "      <td>14954.0</td>\n",
       "      <td>2022-07-30 17:34:42</td>\n",
       "      <td>87.0000</td>\n",
       "      <td>2022</td>\n",
       "      <td>7</td>\n",
       "    </tr>\n",
       "    <tr>\n",
       "      <th>4</th>\n",
       "      <td>17</td>\n",
       "      <td>14954.0</td>\n",
       "      <td>2022-07-30 17:34:42</td>\n",
       "      <td>87.0000</td>\n",
       "      <td>2022</td>\n",
       "      <td>7</td>\n",
       "    </tr>\n",
       "  </tbody>\n",
       "</table>\n",
       "</div>"
      ],
      "text/plain": [
       "   TRUCK_ID  LOCATION_ID            ORDER_TS ORDER_TOTAL  YEAR  MONTH\n",
       "0        17      14954.0 2022-07-30 17:34:42     87.0000  2022      7\n",
       "1        17      14954.0 2022-07-30 17:34:42     87.0000  2022      7\n",
       "2        17      14954.0 2022-07-30 17:34:42     87.0000  2022      7\n",
       "3        17      14954.0 2022-07-30 17:34:42     87.0000  2022      7\n",
       "4        17      14954.0 2022-07-30 17:34:42     87.0000  2022      7"
      ]
     },
     "execution_count": 25,
     "metadata": {},
     "output_type": "execute_result"
    }
   ],
   "source": [
    "order_df['YEAR'] = order_df['ORDER_TS'].dt.year\n",
    "order_df['MONTH'] = order_df['ORDER_TS'].dt.month\n",
    "order_df.head()"
   ]
  },
  {
   "cell_type": "code",
   "execution_count": 26,
   "metadata": {},
   "outputs": [
    {
     "data": {
      "text/html": [
       "<div>\n",
       "<style scoped>\n",
       "    .dataframe tbody tr th:only-of-type {\n",
       "        vertical-align: middle;\n",
       "    }\n",
       "\n",
       "    .dataframe tbody tr th {\n",
       "        vertical-align: top;\n",
       "    }\n",
       "\n",
       "    .dataframe thead th {\n",
       "        text-align: right;\n",
       "    }\n",
       "</style>\n",
       "<table border=\"1\" class=\"dataframe\">\n",
       "  <thead>\n",
       "    <tr style=\"text-align: right;\">\n",
       "      <th></th>\n",
       "      <th>TRUCK_ID</th>\n",
       "      <th>LOCATION_ID</th>\n",
       "      <th>ORDER_TS</th>\n",
       "      <th>ORDER_TOTAL</th>\n",
       "      <th>YEAR</th>\n",
       "      <th>MONTH</th>\n",
       "    </tr>\n",
       "  </thead>\n",
       "  <tbody>\n",
       "    <tr>\n",
       "      <th>0</th>\n",
       "      <td>17</td>\n",
       "      <td>14954</td>\n",
       "      <td>2022-07-30 17:34:42</td>\n",
       "      <td>87.0000</td>\n",
       "      <td>2022</td>\n",
       "      <td>7</td>\n",
       "    </tr>\n",
       "    <tr>\n",
       "      <th>1</th>\n",
       "      <td>17</td>\n",
       "      <td>14954</td>\n",
       "      <td>2022-07-30 17:34:42</td>\n",
       "      <td>87.0000</td>\n",
       "      <td>2022</td>\n",
       "      <td>7</td>\n",
       "    </tr>\n",
       "    <tr>\n",
       "      <th>2</th>\n",
       "      <td>17</td>\n",
       "      <td>14954</td>\n",
       "      <td>2022-07-30 17:34:42</td>\n",
       "      <td>87.0000</td>\n",
       "      <td>2022</td>\n",
       "      <td>7</td>\n",
       "    </tr>\n",
       "    <tr>\n",
       "      <th>3</th>\n",
       "      <td>17</td>\n",
       "      <td>14954</td>\n",
       "      <td>2022-07-30 17:34:42</td>\n",
       "      <td>87.0000</td>\n",
       "      <td>2022</td>\n",
       "      <td>7</td>\n",
       "    </tr>\n",
       "    <tr>\n",
       "      <th>4</th>\n",
       "      <td>17</td>\n",
       "      <td>14954</td>\n",
       "      <td>2022-07-30 17:34:42</td>\n",
       "      <td>87.0000</td>\n",
       "      <td>2022</td>\n",
       "      <td>7</td>\n",
       "    </tr>\n",
       "  </tbody>\n",
       "</table>\n",
       "</div>"
      ],
      "text/plain": [
       "   TRUCK_ID  LOCATION_ID            ORDER_TS ORDER_TOTAL  YEAR  MONTH\n",
       "0        17        14954 2022-07-30 17:34:42     87.0000  2022      7\n",
       "1        17        14954 2022-07-30 17:34:42     87.0000  2022      7\n",
       "2        17        14954 2022-07-30 17:34:42     87.0000  2022      7\n",
       "3        17        14954 2022-07-30 17:34:42     87.0000  2022      7\n",
       "4        17        14954 2022-07-30 17:34:42     87.0000  2022      7"
      ]
     },
     "execution_count": 26,
     "metadata": {},
     "output_type": "execute_result"
    }
   ],
   "source": [
    "# Convert 'location_id' column to integers\n",
    "order_df['LOCATION_ID'] = order_df['LOCATION_ID'].astype(int)\n",
    "\n",
    "order_df.head()"
   ]
  },
  {
   "cell_type": "code",
   "execution_count": 27,
   "metadata": {},
   "outputs": [
    {
     "data": {
      "text/html": [
       "<div>\n",
       "<style scoped>\n",
       "    .dataframe tbody tr th:only-of-type {\n",
       "        vertical-align: middle;\n",
       "    }\n",
       "\n",
       "    .dataframe tbody tr th {\n",
       "        vertical-align: top;\n",
       "    }\n",
       "\n",
       "    .dataframe thead th {\n",
       "        text-align: right;\n",
       "    }\n",
       "</style>\n",
       "<table border=\"1\" class=\"dataframe\">\n",
       "  <thead>\n",
       "    <tr style=\"text-align: right;\">\n",
       "      <th></th>\n",
       "      <th>YEAR</th>\n",
       "      <th>MONTH</th>\n",
       "      <th>TRUCK_ID</th>\n",
       "      <th>TOTAL_SALES_PER_MONTH</th>\n",
       "    </tr>\n",
       "  </thead>\n",
       "  <tbody>\n",
       "    <tr>\n",
       "      <th>0</th>\n",
       "      <td>2022</td>\n",
       "      <td>6</td>\n",
       "      <td>4</td>\n",
       "      <td>50.0000</td>\n",
       "    </tr>\n",
       "    <tr>\n",
       "      <th>1</th>\n",
       "      <td>2022</td>\n",
       "      <td>6</td>\n",
       "      <td>5</td>\n",
       "      <td>215.0000</td>\n",
       "    </tr>\n",
       "    <tr>\n",
       "      <th>2</th>\n",
       "      <td>2022</td>\n",
       "      <td>6</td>\n",
       "      <td>8</td>\n",
       "      <td>360.0000</td>\n",
       "    </tr>\n",
       "    <tr>\n",
       "      <th>3</th>\n",
       "      <td>2022</td>\n",
       "      <td>6</td>\n",
       "      <td>14</td>\n",
       "      <td>66.0000</td>\n",
       "    </tr>\n",
       "    <tr>\n",
       "      <th>4</th>\n",
       "      <td>2022</td>\n",
       "      <td>6</td>\n",
       "      <td>15</td>\n",
       "      <td>410.0000</td>\n",
       "    </tr>\n",
       "  </tbody>\n",
       "</table>\n",
       "</div>"
      ],
      "text/plain": [
       "   YEAR  MONTH  TRUCK_ID TOTAL_SALES_PER_MONTH\n",
       "0  2022      6         4               50.0000\n",
       "1  2022      6         5              215.0000\n",
       "2  2022      6         8              360.0000\n",
       "3  2022      6        14               66.0000\n",
       "4  2022      6        15              410.0000"
      ]
     },
     "execution_count": 27,
     "metadata": {},
     "output_type": "execute_result"
    }
   ],
   "source": [
    "# Group order total to truck id\n",
    "SUM_SALES_CITY = order_df.groupby(['YEAR', 'MONTH', 'TRUCK_ID'])['ORDER_TOTAL'].sum().reset_index()\n",
    "\n",
    "# Renaming the 'ORDER_TOTAL' column to 'TOTAL_SALES_PER_MONTH'\n",
    "SUM_SALES_CITY = SUM_SALES_CITY.rename(columns={'ORDER_TOTAL': 'TOTAL_SALES_PER_MONTH'})\n",
    "\n",
    "# View the data\n",
    "SUM_SALES_CITY.head()"
   ]
  },
  {
   "cell_type": "markdown",
   "metadata": {},
   "source": [
    "# Preview Truck Table"
   ]
  },
  {
   "cell_type": "code",
   "execution_count": 28,
   "metadata": {},
   "outputs": [
    {
     "data": {
      "text/html": [
       "<div>\n",
       "<style scoped>\n",
       "    .dataframe tbody tr th:only-of-type {\n",
       "        vertical-align: middle;\n",
       "    }\n",
       "\n",
       "    .dataframe tbody tr th {\n",
       "        vertical-align: top;\n",
       "    }\n",
       "\n",
       "    .dataframe thead th {\n",
       "        text-align: right;\n",
       "    }\n",
       "</style>\n",
       "<table border=\"1\" class=\"dataframe\">\n",
       "  <thead>\n",
       "    <tr style=\"text-align: right;\">\n",
       "      <th></th>\n",
       "      <th>TRUCK_ID</th>\n",
       "      <th>MENU_TYPE_ID</th>\n",
       "      <th>PRIMARY_CITY</th>\n",
       "      <th>REGION</th>\n",
       "      <th>ISO_REGION</th>\n",
       "      <th>COUNTRY</th>\n",
       "      <th>ISO_COUNTRY_CODE</th>\n",
       "      <th>FRANCHISE_FLAG</th>\n",
       "      <th>YEAR</th>\n",
       "      <th>MAKE</th>\n",
       "      <th>MODEL</th>\n",
       "      <th>EV_FLAG</th>\n",
       "      <th>FRANCHISE_ID</th>\n",
       "      <th>TRUCK_OPENING_DATE</th>\n",
       "    </tr>\n",
       "  </thead>\n",
       "  <tbody>\n",
       "    <tr>\n",
       "      <th>0</th>\n",
       "      <td>1</td>\n",
       "      <td>1</td>\n",
       "      <td>San Mateo</td>\n",
       "      <td>California</td>\n",
       "      <td>CA</td>\n",
       "      <td>United States</td>\n",
       "      <td>US</td>\n",
       "      <td>0</td>\n",
       "      <td>2009</td>\n",
       "      <td>Ford_</td>\n",
       "      <td>Step Van</td>\n",
       "      <td>0</td>\n",
       "      <td>1</td>\n",
       "      <td>2019-01-01</td>\n",
       "    </tr>\n",
       "    <tr>\n",
       "      <th>1</th>\n",
       "      <td>2</td>\n",
       "      <td>2</td>\n",
       "      <td>San Mateo</td>\n",
       "      <td>California</td>\n",
       "      <td>CA</td>\n",
       "      <td>United States</td>\n",
       "      <td>US</td>\n",
       "      <td>0</td>\n",
       "      <td>2015</td>\n",
       "      <td>Ford_</td>\n",
       "      <td>Step Van</td>\n",
       "      <td>0</td>\n",
       "      <td>1</td>\n",
       "      <td>2020-07-01</td>\n",
       "    </tr>\n",
       "    <tr>\n",
       "      <th>2</th>\n",
       "      <td>3</td>\n",
       "      <td>3</td>\n",
       "      <td>San Mateo</td>\n",
       "      <td>California</td>\n",
       "      <td>CA</td>\n",
       "      <td>United States</td>\n",
       "      <td>US</td>\n",
       "      <td>1</td>\n",
       "      <td>2004</td>\n",
       "      <td>Freightliner</td>\n",
       "      <td>MT45 Utilimaster</td>\n",
       "      <td>0</td>\n",
       "      <td>2</td>\n",
       "      <td>2021-10-01</td>\n",
       "    </tr>\n",
       "    <tr>\n",
       "      <th>3</th>\n",
       "      <td>4</td>\n",
       "      <td>4</td>\n",
       "      <td>San Mateo</td>\n",
       "      <td>California</td>\n",
       "      <td>CA</td>\n",
       "      <td>United States</td>\n",
       "      <td>US</td>\n",
       "      <td>1</td>\n",
       "      <td>1997</td>\n",
       "      <td>Chevrolet</td>\n",
       "      <td>P30</td>\n",
       "      <td>1</td>\n",
       "      <td>3</td>\n",
       "      <td>2021-01-01</td>\n",
       "    </tr>\n",
       "    <tr>\n",
       "      <th>4</th>\n",
       "      <td>5</td>\n",
       "      <td>5</td>\n",
       "      <td>San Mateo</td>\n",
       "      <td>California</td>\n",
       "      <td>CA</td>\n",
       "      <td>United States</td>\n",
       "      <td>US</td>\n",
       "      <td>1</td>\n",
       "      <td>2010</td>\n",
       "      <td>Custom</td>\n",
       "      <td>Van</td>\n",
       "      <td>1</td>\n",
       "      <td>4</td>\n",
       "      <td>2022-04-01</td>\n",
       "    </tr>\n",
       "  </tbody>\n",
       "</table>\n",
       "</div>"
      ],
      "text/plain": [
       "   TRUCK_ID  MENU_TYPE_ID PRIMARY_CITY      REGION ISO_REGION        COUNTRY  \\\n",
       "0         1             1    San Mateo  California         CA  United States   \n",
       "1         2             2    San Mateo  California         CA  United States   \n",
       "2         3             3    San Mateo  California         CA  United States   \n",
       "3         4             4    San Mateo  California         CA  United States   \n",
       "4         5             5    San Mateo  California         CA  United States   \n",
       "\n",
       "  ISO_COUNTRY_CODE  FRANCHISE_FLAG  YEAR          MAKE             MODEL  \\\n",
       "0               US               0  2009         Ford_          Step Van   \n",
       "1               US               0  2015         Ford_          Step Van   \n",
       "2               US               1  2004  Freightliner  MT45 Utilimaster   \n",
       "3               US               1  1997     Chevrolet               P30   \n",
       "4               US               1  2010        Custom               Van   \n",
       "\n",
       "   EV_FLAG  FRANCHISE_ID TRUCK_OPENING_DATE  \n",
       "0        0             1         2019-01-01  \n",
       "1        0             1         2020-07-01  \n",
       "2        0             2         2021-10-01  \n",
       "3        1             3         2021-01-01  \n",
       "4        1             4         2022-04-01  "
      ]
     },
     "execution_count": 28,
     "metadata": {},
     "output_type": "execute_result"
    }
   ],
   "source": [
    "truck_df.head()"
   ]
  },
  {
   "cell_type": "code",
   "execution_count": 29,
   "metadata": {},
   "outputs": [
    {
     "data": {
      "text/html": [
       "<div>\n",
       "<style scoped>\n",
       "    .dataframe tbody tr th:only-of-type {\n",
       "        vertical-align: middle;\n",
       "    }\n",
       "\n",
       "    .dataframe tbody tr th {\n",
       "        vertical-align: top;\n",
       "    }\n",
       "\n",
       "    .dataframe thead th {\n",
       "        text-align: right;\n",
       "    }\n",
       "</style>\n",
       "<table border=\"1\" class=\"dataframe\">\n",
       "  <thead>\n",
       "    <tr style=\"text-align: right;\">\n",
       "      <th></th>\n",
       "      <th>TRUCK_ID</th>\n",
       "      <th>MENU_TYPE_ID</th>\n",
       "      <th>PRIMARY_CITY</th>\n",
       "    </tr>\n",
       "  </thead>\n",
       "  <tbody>\n",
       "    <tr>\n",
       "      <th>0</th>\n",
       "      <td>1</td>\n",
       "      <td>1</td>\n",
       "      <td>San Mateo</td>\n",
       "    </tr>\n",
       "    <tr>\n",
       "      <th>1</th>\n",
       "      <td>2</td>\n",
       "      <td>2</td>\n",
       "      <td>San Mateo</td>\n",
       "    </tr>\n",
       "    <tr>\n",
       "      <th>2</th>\n",
       "      <td>3</td>\n",
       "      <td>3</td>\n",
       "      <td>San Mateo</td>\n",
       "    </tr>\n",
       "    <tr>\n",
       "      <th>3</th>\n",
       "      <td>4</td>\n",
       "      <td>4</td>\n",
       "      <td>San Mateo</td>\n",
       "    </tr>\n",
       "    <tr>\n",
       "      <th>4</th>\n",
       "      <td>5</td>\n",
       "      <td>5</td>\n",
       "      <td>San Mateo</td>\n",
       "    </tr>\n",
       "  </tbody>\n",
       "</table>\n",
       "</div>"
      ],
      "text/plain": [
       "   TRUCK_ID  MENU_TYPE_ID PRIMARY_CITY\n",
       "0         1             1    San Mateo\n",
       "1         2             2    San Mateo\n",
       "2         3             3    San Mateo\n",
       "3         4             4    San Mateo\n",
       "4         5             5    San Mateo"
      ]
     },
     "execution_count": 29,
     "metadata": {},
     "output_type": "execute_result"
    }
   ],
   "source": [
    "truck_df = truck_df.drop([\"REGION\", \"ISO_REGION\", \"COUNTRY\", \"ISO_COUNTRY_CODE\", \"FRANCHISE_FLAG\", \"YEAR\", \"MAKE\", \"MODEL\", \"EV_FLAG\", \"FRANCHISE_ID\", \"TRUCK_OPENING_DATE\"], axis =1 )\n",
    "\n",
    "truck_df.head()"
   ]
  },
  {
   "cell_type": "code",
   "execution_count": 30,
   "metadata": {},
   "outputs": [
    {
     "data": {
      "text/html": [
       "<div>\n",
       "<style scoped>\n",
       "    .dataframe tbody tr th:only-of-type {\n",
       "        vertical-align: middle;\n",
       "    }\n",
       "\n",
       "    .dataframe tbody tr th {\n",
       "        vertical-align: top;\n",
       "    }\n",
       "\n",
       "    .dataframe thead th {\n",
       "        text-align: right;\n",
       "    }\n",
       "</style>\n",
       "<table border=\"1\" class=\"dataframe\">\n",
       "  <thead>\n",
       "    <tr style=\"text-align: right;\">\n",
       "      <th></th>\n",
       "      <th>YEAR</th>\n",
       "      <th>MONTH</th>\n",
       "      <th>TRUCK_ID</th>\n",
       "      <th>TOTAL_SALES_PER_MONTH</th>\n",
       "      <th>MENU_TYPE_ID</th>\n",
       "      <th>PRIMARY_CITY</th>\n",
       "    </tr>\n",
       "  </thead>\n",
       "  <tbody>\n",
       "    <tr>\n",
       "      <th>0</th>\n",
       "      <td>2022</td>\n",
       "      <td>6</td>\n",
       "      <td>4</td>\n",
       "      <td>50.0000</td>\n",
       "      <td>4</td>\n",
       "      <td>San Mateo</td>\n",
       "    </tr>\n",
       "    <tr>\n",
       "      <th>1</th>\n",
       "      <td>2022</td>\n",
       "      <td>7</td>\n",
       "      <td>4</td>\n",
       "      <td>110.0000</td>\n",
       "      <td>4</td>\n",
       "      <td>San Mateo</td>\n",
       "    </tr>\n",
       "    <tr>\n",
       "      <th>2</th>\n",
       "      <td>2022</td>\n",
       "      <td>8</td>\n",
       "      <td>4</td>\n",
       "      <td>632.0000</td>\n",
       "      <td>4</td>\n",
       "      <td>San Mateo</td>\n",
       "    </tr>\n",
       "    <tr>\n",
       "      <th>3</th>\n",
       "      <td>2022</td>\n",
       "      <td>9</td>\n",
       "      <td>4</td>\n",
       "      <td>12929.0000</td>\n",
       "      <td>4</td>\n",
       "      <td>San Mateo</td>\n",
       "    </tr>\n",
       "    <tr>\n",
       "      <th>4</th>\n",
       "      <td>2022</td>\n",
       "      <td>10</td>\n",
       "      <td>4</td>\n",
       "      <td>78456.0000</td>\n",
       "      <td>4</td>\n",
       "      <td>San Mateo</td>\n",
       "    </tr>\n",
       "  </tbody>\n",
       "</table>\n",
       "</div>"
      ],
      "text/plain": [
       "   YEAR  MONTH  TRUCK_ID TOTAL_SALES_PER_MONTH  MENU_TYPE_ID PRIMARY_CITY\n",
       "0  2022      6         4               50.0000             4    San Mateo\n",
       "1  2022      7         4              110.0000             4    San Mateo\n",
       "2  2022      8         4              632.0000             4    San Mateo\n",
       "3  2022      9         4            12929.0000             4    San Mateo\n",
       "4  2022     10         4            78456.0000             4    San Mateo"
      ]
     },
     "execution_count": 30,
     "metadata": {},
     "output_type": "execute_result"
    }
   ],
   "source": [
    "# merge SUM_SALES_CITY table with truck table\n",
    "final_df = pd.merge(SUM_SALES_CITY, truck_df, on='TRUCK_ID')\n",
    "\n",
    "final_df.head()"
   ]
  },
  {
   "cell_type": "code",
   "execution_count": 31,
   "metadata": {},
   "outputs": [],
   "source": [
    "# Convert 'TOTAL_SALES_PER_MONTH' column to numeric data type (decimal.Decimal to float)\n",
    "final_df['TOTAL_SALES_PER_MONTH'] = final_df['TOTAL_SALES_PER_MONTH'].astype(float)"
   ]
  },
  {
   "cell_type": "code",
   "execution_count": 32,
   "metadata": {},
   "outputs": [
    {
     "name": "stdout",
     "output_type": "stream",
     "text": [
      "Range: 5.0 - 123064.0\n"
     ]
    }
   ],
   "source": [
    "# Calculate the minimum and maximum values of the '\tTOTAL_SALES_PER_MONTH' column\n",
    "min_value = final_df['TOTAL_SALES_PER_MONTH'].min()\n",
    "max_value = final_df['TOTAL_SALES_PER_MONTH'].max()\n",
    "\n",
    "# Calculate the range\n",
    "column_range = max_value - min_value\n",
    "\n",
    "print(\"Range: {} - {}\".format(min_value, max_value))"
   ]
  },
  {
   "cell_type": "markdown",
   "metadata": {},
   "source": [
    "# Check for Missing Values"
   ]
  },
  {
   "cell_type": "code",
   "execution_count": 33,
   "metadata": {},
   "outputs": [
    {
     "data": {
      "text/plain": [
       "YEAR                     0\n",
       "MONTH                    0\n",
       "TRUCK_ID                 0\n",
       "TOTAL_SALES_PER_MONTH    0\n",
       "MENU_TYPE_ID             0\n",
       "PRIMARY_CITY             0\n",
       "dtype: int64"
      ]
     },
     "execution_count": 33,
     "metadata": {},
     "output_type": "execute_result"
    }
   ],
   "source": [
    "final_df.isnull().sum()"
   ]
  },
  {
   "cell_type": "markdown",
   "metadata": {},
   "source": [
    "No missing values have been detected. Hence, no process required at this stage."
   ]
  },
  {
   "cell_type": "markdown",
   "metadata": {},
   "source": [
    "# Dealing with Outliers"
   ]
  },
  {
   "cell_type": "code",
   "execution_count": 34,
   "metadata": {},
   "outputs": [
    {
     "name": "stderr",
     "output_type": "stream",
     "text": [
      "C:\\Users\\Darryl koh\\AppData\\Roaming\\Python\\Python38\\site-packages\\IPython\\core\\pylabtools.py:152: UserWarning: Glyph 9 (\t) missing from current font.\n",
      "  fig.canvas.print_figure(bytes_io, **kw)\n"
     ]
    },
    {
     "data": {
      "image/png": "[encoded data removed]",
      "text/plain": [
       "<Figure size 300x500 with 1 Axes>"
      ]
     },
     "metadata": {},
     "output_type": "display_data"
    }
   ],
   "source": [
    "# plot box plot for 'TOTAL_QTY_SOLD' variable\n",
    "plt.figure(figsize=(3,5))\n",
    "sns.boxplot(y=final_df['TOTAL_SALES_PER_MONTH'])\n",
    "plt.title('\tTOTAL_SALES_PER_MONTH boxplot')\n",
    "plt.show()"
   ]
  },
  {
   "cell_type": "markdown",
   "metadata": {},
   "source": [
    "Note: Outliers for the target variable wold not dealt with even if observed as it would be considered cherry picking convenient data. Furthermore, due to the relatively small number of order total amount, if subsetting of the target variable was done, there might be too limited data to build an accurate model."
   ]
  },
  {
   "cell_type": "markdown",
   "metadata": {},
   "source": [
    "# Train Test Split"
   ]
  },
  {
   "cell_type": "code",
   "execution_count": 35,
   "metadata": {},
   "outputs": [
    {
     "data": {
      "text/plain": [
       "((214, 5), (92, 5))"
      ]
     },
     "execution_count": 35,
     "metadata": {},
     "output_type": "execute_result"
    }
   ],
   "source": [
    "X_train, X_test, y_train, y_test = train_test_split(\n",
    "    final_df.drop('TOTAL_SALES_PER_MONTH', axis=1), final_df['TOTAL_SALES_PER_MONTH'], test_size=0.3, random_state=0)\n",
    "\n",
    "X_train.shape, X_test.shape"
   ]
  },
  {
   "cell_type": "markdown",
   "metadata": {},
   "source": [
    "# Categorical Variable Encoding "
   ]
  },
  {
   "cell_type": "code",
   "execution_count": 36,
   "metadata": {},
   "outputs": [],
   "source": [
    "# let's create the encoder\n",
    "\n",
    "ohe_enc = OneHotEncoder(\n",
    "    top_categories=None,\n",
    "    drop_last=True)  # to return k-1, false to return k"
   ]
  },
  {
   "cell_type": "code",
   "execution_count": 37,
   "metadata": {},
   "outputs": [
    {
     "data": {
      "text/html": [
       "<style>#sk-container-id-1 {color: black;}#sk-container-id-1 pre{padding: 0;}#sk-container-id-1 div.sk-toggleable {background-color: white;}#sk-container-id-1 label.sk-toggleable__label {cursor: pointer;display: block;width: 100%;margin-bottom: 0;padding: 0.3em;box-sizing: border-box;text-align: center;}#sk-container-id-1 label.sk-toggleable__label-arrow:before {content: \"▸\";float: left;margin-right: 0.25em;color: #696969;}#sk-container-id-1 label.sk-toggleable__label-arrow:hover:before {color: black;}#sk-container-id-1 div.sk-estimator:hover label.sk-toggleable__label-arrow:before {color: black;}#sk-container-id-1 div.sk-toggleable__content {max-height: 0;max-width: 0;overflow: hidden;text-align: left;background-color: #f0f8ff;}#sk-container-id-1 div.sk-toggleable__content pre {margin: 0.2em;color: black;border-radius: 0.25em;background-color: #f0f8ff;}#sk-container-id-1 input.sk-toggleable__control:checked~div.sk-toggleable__content {max-height: 200px;max-width: 100%;overflow: auto;}#sk-container-id-1 input.sk-toggleable__control:checked~label.sk-toggleable__label-arrow:before {content: \"▾\";}#sk-container-id-1 div.sk-estimator input.sk-toggleable__control:checked~label.sk-toggleable__label {background-color: #d4ebff;}#sk-container-id-1 div.sk-label input.sk-toggleable__control:checked~label.sk-toggleable__label {background-color: #d4ebff;}#sk-container-id-1 input.sk-hidden--visually {border: 0;clip: rect(1px 1px 1px 1px);clip: rect(1px, 1px, 1px, 1px);height: 1px;margin: -1px;overflow: hidden;padding: 0;position: absolute;width: 1px;}#sk-container-id-1 div.sk-estimator {font-family: monospace;background-color: #f0f8ff;border: 1px dotted black;border-radius: 0.25em;box-sizing: border-box;margin-bottom: 0.5em;}#sk-container-id-1 div.sk-estimator:hover {background-color: #d4ebff;}#sk-container-id-1 div.sk-parallel-item::after {content: \"\";width: 100%;border-bottom: 1px solid gray;flex-grow: 1;}#sk-container-id-1 div.sk-label:hover label.sk-toggleable__label {background-color: #d4ebff;}#sk-container-id-1 div.sk-serial::before {content: \"\";position: absolute;border-left: 1px solid gray;box-sizing: border-box;top: 0;bottom: 0;left: 50%;z-index: 0;}#sk-container-id-1 div.sk-serial {display: flex;flex-direction: column;align-items: center;background-color: white;padding-right: 0.2em;padding-left: 0.2em;position: relative;}#sk-container-id-1 div.sk-item {position: relative;z-index: 1;}#sk-container-id-1 div.sk-parallel {display: flex;align-items: stretch;justify-content: center;background-color: white;position: relative;}#sk-container-id-1 div.sk-item::before, #sk-container-id-1 div.sk-parallel-item::before {content: \"\";position: absolute;border-left: 1px solid gray;box-sizing: border-box;top: 0;bottom: 0;left: 50%;z-index: -1;}#sk-container-id-1 div.sk-parallel-item {display: flex;flex-direction: column;z-index: 1;position: relative;background-color: white;}#sk-container-id-1 div.sk-parallel-item:first-child::after {align-self: flex-end;width: 50%;}#sk-container-id-1 div.sk-parallel-item:last-child::after {align-self: flex-start;width: 50%;}#sk-container-id-1 div.sk-parallel-item:only-child::after {width: 0;}#sk-container-id-1 div.sk-dashed-wrapped {border: 1px dashed gray;margin: 0 0.4em 0.5em 0.4em;box-sizing: border-box;padding-bottom: 0.4em;background-color: white;}#sk-container-id-1 div.sk-label label {font-family: monospace;font-weight: bold;display: inline-block;line-height: 1.2em;}#sk-container-id-1 div.sk-label-container {text-align: center;}#sk-container-id-1 div.sk-container {/* jupyter's `normalize.less` sets `[hidden] { display: none; }` but bootstrap.min.css set `[hidden] { display: none !important; }` so we also need the `!important` here to be able to override the default hidden behavior on the sphinx rendered scikit-learn.org. See: https://github.com/scikit-learn/scikit-learn/issues/21755 */display: inline-block !important;position: relative;}#sk-container-id-1 div.sk-text-repr-fallback {display: none;}</style><div id=\"sk-container-id-1\" class=\"sk-top-container\"><div class=\"sk-text-repr-fallback\"><pre>OneHotEncoder(drop_last=True)</pre><b>In a Jupyter environment, please rerun this cell to show the HTML representation or trust the notebook. <br />On GitHub, the HTML representation is unable to render, please try loading this page with nbviewer.org.</b></div><div class=\"sk-container\" hidden><div class=\"sk-item\"><div class=\"sk-estimator sk-toggleable\"><input class=\"sk-toggleable__control sk-hidden--visually\" id=\"sk-estimator-id-1\" type=\"checkbox\" checked><label for=\"sk-estimator-id-1\" class=\"sk-toggleable__label sk-toggleable__label-arrow\">OneHotEncoder</label><div class=\"sk-toggleable__content\"><pre>OneHotEncoder(drop_last=True)</pre></div></div></div></div></div>"
      ],
      "text/plain": [
       "OneHotEncoder(drop_last=True)"
      ]
     },
     "execution_count": 37,
     "metadata": {},
     "output_type": "execute_result"
    }
   ],
   "source": [
    "# fit the encoder to the train set: it will learn the variables and \n",
    "# categories to encode\n",
    "\n",
    "ohe_enc.fit(X_train)"
   ]
  },
  {
   "cell_type": "code",
   "execution_count": 38,
   "metadata": {},
   "outputs": [],
   "source": [
    "X_train = ohe_enc.transform(X_train)\n",
    "X_test = ohe_enc.transform(X_test)"
   ]
  },
  {
   "cell_type": "markdown",
   "metadata": {},
   "source": [
    "# Scaling"
   ]
  },
  {
   "cell_type": "markdown",
   "metadata": {},
   "source": [
    "## Min Max Scaler"
   ]
  },
  {
   "cell_type": "code",
   "execution_count": 39,
   "metadata": {},
   "outputs": [],
   "source": [
    "# set up the scaler\n",
    "scaler = MinMaxScaler()\n",
    "\n",
    "# fit the scaler to the train set, it will learn the parameters\n",
    "scaler.fit(X_train)\n",
    "\n",
    "# transform train and test sets\n",
    "X_train_scaled = scaler.transform(X_train)\n",
    "X_test_scaled = scaler.transform(X_test)"
   ]
  },
  {
   "cell_type": "markdown",
   "metadata": {},
   "source": [
    "## Standard Scaler"
   ]
  },
  {
   "cell_type": "code",
   "execution_count": 40,
   "metadata": {},
   "outputs": [],
   "source": [
    "# # set up the scaler\n",
    "# scaler = StandardScaler()\n",
    "\n",
    "# # fit the scaler to the train set, it will learn the parameters\n",
    "# scaler.fit(X_train)\n",
    "\n",
    "# # transform train and test sets\n",
    "# X_train_scaled = scaler.transform(X_train)\n",
    "# X_test_scaled = scaler.transform(X_test)"
   ]
  },
  {
   "cell_type": "markdown",
   "metadata": {},
   "source": [
    "Standard Scaler did not lead to a difference in result."
   ]
  },
  {
   "cell_type": "code",
   "execution_count": 41,
   "metadata": {},
   "outputs": [],
   "source": [
    "# # set up the scaler\n",
    "# scaler = RobustScaler()\n",
    "\n",
    "# # fit the scaler to the train set, it will learn the parameters\n",
    "# scaler.fit(X_train)\n",
    "\n",
    "# # transform train and test sets\n",
    "# X_train_scaled = scaler.transform(X_train)\n",
    "# X_test_scaled = scaler.transform(X_test)"
   ]
  },
  {
   "cell_type": "markdown",
   "metadata": {},
   "source": [
    "Robust Scaler did not lead to a difference in result."
   ]
  },
  {
   "cell_type": "code",
   "execution_count": 42,
   "metadata": {},
   "outputs": [],
   "source": [
    "# let's transform the returned NumPy arrays to dataframes\n",
    "X_train_scaled = pd.DataFrame(X_train_scaled, columns=X_train.columns)\n",
    "X_test_scaled = pd.DataFrame(X_test_scaled, columns=X_test.columns)"
   ]
  },
  {
   "cell_type": "markdown",
   "metadata": {},
   "source": [
    "# Build Model"
   ]
  },
  {
   "cell_type": "code",
   "execution_count": 43,
   "metadata": {},
   "outputs": [
    {
     "name": "stdout",
     "output_type": "stream",
     "text": [
      "the training root mean squared error is:  8103.281403114479\n",
      "the testing root mean squared error is:  6647.525416902809\n",
      "\n",
      "the training mean squared error is:  65663169.49806096\n",
      "the testing mean squared error is:  44189594.168368876\n",
      "\n",
      "training accuracy is:  0.9442713892586988\n",
      "testing accuracy is:  0.9501372162013493\n"
     ]
    }
   ],
   "source": [
    "# Build XGBoost Model\n",
    "xgb = XGBRegressor(n_estimators = 20, learning_rate = 0.1, use_label_encoder = False, eval_metric='logloss')\n",
    "# fit the model to the training data\n",
    "xgb.fit(X_train_scaled, y_train)\n",
    "model_performance(xgb)"
   ]
  },
  {
   "cell_type": "markdown",
   "metadata": {},
   "source": [
    "# Improve Model (GridSearch CV)"
   ]
  },
  {
   "cell_type": "code",
   "execution_count": 47,
   "metadata": {},
   "outputs": [
    {
     "name": "stdout",
     "output_type": "stream",
     "text": [
      "Best parameters found:  {'learning_rate': 0.3, 'max_depth': 7, 'n_estimators': 40}\n",
      "Best score found:  0.9405801743197116\n"
     ]
    }
   ],
   "source": [
    "param_grid = {'n_estimators': [30, 40, 50, 60],\n",
    "              'learning_rate': [0.1, 0.2, 0.3, 0.4],\n",
    "              'max_depth': [5,6,7,8]}\n",
    "\n",
    "xgb_grid = GridSearchCV(xgb, param_grid, cv=5)\n",
    "xgb_grid.fit(X_train_scaled, y_train)\n",
    "\n",
    "print(\"Best parameters found: \", xgb_grid.best_params_)\n",
    "print(\"Best score found: \", xgb_grid.best_score_)"
   ]
  },
  {
   "cell_type": "markdown",
   "metadata": {},
   "source": [
    "# Improved Model Results"
   ]
  },
  {
   "cell_type": "code",
   "execution_count": 48,
   "metadata": {},
   "outputs": [
    {
     "name": "stdout",
     "output_type": "stream",
     "text": [
      "the training root mean squared error is:  356.97885075335375\n",
      "the testing root mean squared error is:  3630.856256498544\n",
      "\n",
      "the training mean squared error is:  127433.89988518521\n",
      "the testing mean squared error is:  13183117.15535462\n",
      "\n",
      "training accuracy is:  0.9998918463081171\n",
      "testing accuracy is:  0.9851243956211695\n"
     ]
    }
   ],
   "source": [
    "# Build XGBoost Model\n",
    "xgb_improved = XGBRegressor(learning_rate = 0.3, max_depth = 7, n_estimators = 40)\n",
    "# fit the model to the training data\n",
    "xgb_improved.fit(X_train_scaled, y_train)\n",
    "\n",
    "model_performance(xgb_improved)"
   ]
  },
  {
   "cell_type": "code",
   "execution_count": 46,
   "metadata": {},
   "outputs": [
    {
     "data": {
      "text/plain": [
       "array([0.0000000e+00, 8.8042456e-01, 2.1485579e-03, 3.3553153e-02,\n",
       "       4.9643673e-04, 8.1970938e-02, 1.4063659e-03, 0.0000000e+00],\n",
       "      dtype=float32)"
      ]
     },
     "execution_count": 46,
     "metadata": {},
     "output_type": "execute_result"
    }
   ],
   "source": [
    "xgb_improved.feature_importances_"
   ]
  }
 ],
 "metadata": {
  "kernelspec": {
   "display_name": "streamlit_delete_later_env",
   "language": "python",
   "name": "python3"
  },
  "language_info": {
   "codemirror_mode": {
    "name": "ipython",
    "version": 3
   },
   "file_extension": ".py",
   "mimetype": "text/x-python",
   "name": "python",
   "nbconvert_exporter": "python",
   "pygments_lexer": "ipython3",
   "version": "3.8.16"
  },
  "orig_nbformat": 4
 },
 "nbformat": 4,
 "nbformat_minor": 2
}
