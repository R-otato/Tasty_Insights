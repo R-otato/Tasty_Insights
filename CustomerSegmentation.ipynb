{
 "cells": [
  {
   "cell_type": "code",
   "execution_count": 3,
   "metadata": {},
   "outputs": [],
   "source": [
    "#Import Python packages\n",
    "import pandas as pd\n",
    "import plotly.express as px\n",
    "import json\n",
    "import sys\n",
    "import cachetools\n",
    "import matplotlib.pyplot as plt\n",
    "import seaborn as sns\n",
    "import datetime as dt\n",
    "import numpy as np\n",
    "import json\n",
    "import datetime\n",
    "\n",
    "# for splitting of the dataset\n",
    "from sklearn.model_selection import train_test_split\n",
    "from sklearn.model_selection import cross_validate\n",
    "\n",
    "\n",
    "#ML-Models:\n",
    "\n",
    "# for getting metrics\n",
    "\n",
    "\n",
    "# model selection\n",
    "\n",
    "\n",
    "# for feature selection\n",
    "\n",
    "\n",
    "# Import Snowflake modules\n",
    "from snowflake.snowpark import Session\n",
    "import snowflake.snowpark.functions as F\n",
    "import snowflake.snowpark.types as T\n",
    "from snowflake.snowpark import Window"
   ]
  },
  {
   "attachments": {},
   "cell_type": "markdown",
   "metadata": {},
   "source": [
    "# Connect to Snowflake"
   ]
  },
  {
   "cell_type": "code",
   "execution_count": 4,
   "metadata": {},
   "outputs": [],
   "source": [
    "# Get account credentials from a json file\n",
    "with open(\"data_scientist_auth.json\") as f:\n",
    "    data = json.load(f)\n",
    "    username = data[\"username\"]\n",
    "    password = data[\"password\"]\n",
    "    account = data[\"account\"]\n",
    "\n",
    "# Specify connection parameters\n",
    "connection_parameters = {\n",
    "    \"account\": account,\n",
    "    \"user\": username,\n",
    "    \"password\": password,\n",
    "    \"role\": \"TASTY_BI\",\n",
    "    \"warehouse\": \"TASTY_BI_WH\",\n",
    "    \"database\": \"frostbyte_tasty_bytes\",\n",
    "    \"schema\": \"analytics\",\n",
    "}\n",
    "\n",
    "# Create Snowpark session\n",
    "session = Session.builder.configs(connection_parameters).create()"
   ]
  },
  {
   "cell_type": "code",
   "execution_count": 5,
   "metadata": {},
   "outputs": [],
   "source": [
    "#Orders_V\n",
    "tasty_bytes_orders_v = session.table(\"frostbyte_tasty_bytes.analytics.orders_v\")\n",
    "#Customer Loyalty\n",
    "tasty_bytes_customer_loyalty = session.table(\"frostbyte_tasty_bytes.raw_customer.customer_loyalty\")"
   ]
  },
  {
   "cell_type": "code",
   "execution_count": 6,
   "metadata": {},
   "outputs": [
    {
     "name": "stdout",
     "output_type": "stream",
     "text": [
      "-----------------------------------------------------------------------------------------------------------------------------------------------------------------------------------------------------------------------------------------------------------------------------------------------------------------------------------------------------------------------------------------------------------------------------------------------------------------------------------------------------------------------------------------------------------------------------------------------------------------------------------------------------------------------------------------------------------------------------------------------------------------------------------------------------------------------------------------------------------------------------------------------------------------------------------------------------------------------------------------------------------------------------------------------------------------------------------------------------------------------------\n",
      "|\"CUSTOMER_ID\"  |\"DATE\"      |\"ORDER_ID\"  |\"TRUCK_ID\"  |\"ORDER_TS\"           |\"ORDER_DETAIL_ID\"  |\"LINE_NUMBER\"  |\"TRUCK_BRAND_NAME\"  |\"MENU_TYPE\"  |\"PRIMARY_CITY\"  |\"REGION\"  |\"l_3nas_COUNTRY\"  |\"FRANCHISE_FLAG\"  |\"FRANCHISE_ID\"  |\"FRANCHISEE_FIRST_NAME\"  |\"FRANCHISEE_LAST_NAME\"  |\"LOCATION_ID\"  |\"PLACEKEY\"           |\"LOCATION_NAME\"     |\"TOP_CATEGORY\"                                      |\"SUB_CATEGORY\"                               |\"LATITUDE\"  |\"LONGITUDE\"  |\"l_3nas_FIRST_NAME\"  |\"l_3nas_LAST_NAME\"  |\"l_3nas_E_MAIL\"              |\"l_3nas_PHONE_NUMBER\"  |\"l_3nas_CHILDREN_COUNT\"  |\"l_3nas_GENDER\"  |\"l_3nas_MARITAL_STATUS\"  |\"MENU_ITEM_ID\"  |\"MENU_ITEM_NAME\"       |\"QUANTITY\"  |\"UNIT_PRICE\"  |\"PRICE\"  |\"ORDER_AMOUNT\"  |\"ORDER_TAX_AMOUNT\"  |\"ORDER_DISCOUNT_AMOUNT\"  |\"ORDER_TOTAL\"  |\"r_sccu_FIRST_NAME\"  |\"r_sccu_LAST_NAME\"  |\"CITY\"    |\"r_sccu_COUNTRY\"  |\"POSTAL_CODE\"  |\"PREFERRED_LANGUAGE\"  |\"r_sccu_GENDER\"  |\"FAVOURITE_BRAND\"  |\"r_sccu_MARITAL_STATUS\"  |\"r_sccu_CHILDREN_COUNT\"  |\"SIGN_UP_DATE\"  |\"BIRTHDAY_DATE\"  |\"r_sccu_E_MAIL\"              |\"r_sccu_PHONE_NUMBER\"  |\n",
      "-----------------------------------------------------------------------------------------------------------------------------------------------------------------------------------------------------------------------------------------------------------------------------------------------------------------------------------------------------------------------------------------------------------------------------------------------------------------------------------------------------------------------------------------------------------------------------------------------------------------------------------------------------------------------------------------------------------------------------------------------------------------------------------------------------------------------------------------------------------------------------------------------------------------------------------------------------------------------------------------------------------------------------------------------------------------------------------------------------------------------------\n",
      "|140158         |2019-04-05  |26032155    |113         |2019-04-05 13:24:57  |70555497           |0              |Le Coin des Crêpes  |Crepes       |Montreal        |Quebec    |Canada            |0                 |1               |Corporate                |Owned                   |5292           |zzy-222@66b-2cw-99f  |Parc Lhasa de Sela  |Museums, Historical Sites, and Similar Institut...  |Nature Parks and Other Similar Institutions  |45.527424   |-73.604713   |Aldo                 |King                |Aldo.King@ymail.com          |721-678-0441           |0                        |Undisclosed      |Single                   |81              |Breakfast Crepe        |1           |12.0000       |12.0000  |62.0000         |NULL                |NULL                     |62.0000        |Aldo                 |King                |Montreal  |Canada            |H2E 1T9        |English               |Undisclosed      |NULL               |Single                   |0                        |2019-10-21      |1940-06-11       |Aldo.King@ymail.com          |721-678-0441           |\n",
      "|140158         |2019-04-05  |26032155    |113         |2019-04-05 13:24:57  |70555498           |1              |Le Coin des Crêpes  |Crepes       |Montreal        |Quebec    |Canada            |0                 |1               |Corporate                |Owned                   |5292           |zzy-222@66b-2cw-99f  |Parc Lhasa de Sela  |Museums, Historical Sites, and Similar Institut...  |Nature Parks and Other Similar Institutions  |45.527424   |-73.604713   |Aldo                 |King                |Aldo.King@ymail.com          |721-678-0441           |0                        |Undisclosed      |Single                   |82              |Chicken Pot Pie Crepe  |3           |15.0000       |45.0000  |62.0000         |NULL                |NULL                     |62.0000        |Aldo                 |King                |Montreal  |Canada            |H2E 1T9        |English               |Undisclosed      |NULL               |Single                   |0                        |2019-10-21      |1940-06-11       |Aldo.King@ymail.com          |721-678-0441           |\n",
      "|140158         |2019-04-05  |26032155    |113         |2019-04-05 13:24:57  |70555499           |2              |Le Coin des Crêpes  |Crepes       |Montreal        |Quebec    |Canada            |0                 |1               |Corporate                |Owned                   |5292           |zzy-222@66b-2cw-99f  |Parc Lhasa de Sela  |Museums, Historical Sites, and Similar Institut...  |Nature Parks and Other Similar Institutions  |45.527424   |-73.604713   |Aldo                 |King                |Aldo.King@ymail.com          |721-678-0441           |0                        |Undisclosed      |Single                   |84              |Bottled Water          |1           |2.0000        |2.0000   |62.0000         |NULL                |NULL                     |62.0000        |Aldo                 |King                |Montreal  |Canada            |H2E 1T9        |English               |Undisclosed      |NULL               |Single                   |0                        |2019-10-21      |1940-06-11       |Aldo.King@ymail.com          |721-678-0441           |\n",
      "|140158         |2019-04-05  |26032155    |113         |2019-04-05 13:24:57  |70555500           |3              |Le Coin des Crêpes  |Crepes       |Montreal        |Quebec    |Canada            |0                 |1               |Corporate                |Owned                   |5292           |zzy-222@66b-2cw-99f  |Parc Lhasa de Sela  |Museums, Historical Sites, and Similar Institut...  |Nature Parks and Other Similar Institutions  |45.527424   |-73.604713   |Aldo                 |King                |Aldo.King@ymail.com          |721-678-0441           |0                        |Undisclosed      |Single                   |85              |Bottled Soda           |1           |3.0000        |3.0000   |62.0000         |NULL                |NULL                     |62.0000        |Aldo                 |King                |Montreal  |Canada            |H2E 1T9        |English               |Undisclosed      |NULL               |Single                   |0                        |2019-10-21      |1940-06-11       |Aldo.King@ymail.com          |721-678-0441           |\n",
      "|165047         |2019-04-05  |26032425    |113         |2019-04-05 19:12:04  |70556208           |0              |Le Coin des Crêpes  |Crepes       |Montreal        |Quebec    |Canada            |0                 |1               |Corporate                |Owned                   |4058           |zzw-226@66b-2dn-8vz  |Evelyne             |Clothing Stores                                     |NULL                                         |45.476214   |-73.606921   |Jovani               |Knight              |Jovani.Knight@hotmail.com    |813-902-8622           |0                        |Male             |Single                   |82              |Chicken Pot Pie Crepe  |2           |15.0000       |30.0000  |42.0000         |NULL                |NULL                     |42.0000        |Jovani               |Knight              |Montreal  |Canada            |H3M 1R6        |English               |Male             |NULL               |Single                   |0                        |2019-01-22      |1987-06-12       |Jovani.Knight@hotmail.com    |813-902-8622           |\n",
      "|165047         |2019-04-05  |26032425    |113         |2019-04-05 19:12:04  |70556209           |1              |Le Coin des Crêpes  |Crepes       |Montreal        |Quebec    |Canada            |0                 |1               |Corporate                |Owned                   |4058           |zzw-226@66b-2dn-8vz  |Evelyne             |Clothing Stores                                     |NULL                                         |45.476214   |-73.606921   |Jovani               |Knight              |Jovani.Knight@hotmail.com    |813-902-8622           |0                        |Male             |Single                   |83              |Crepe Suzette          |1           |9.0000        |9.0000   |42.0000         |NULL                |NULL                     |42.0000        |Jovani               |Knight              |Montreal  |Canada            |H3M 1R6        |English               |Male             |NULL               |Single                   |0                        |2019-01-22      |1987-06-12       |Jovani.Knight@hotmail.com    |813-902-8622           |\n",
      "|165047         |2019-04-05  |26032425    |113         |2019-04-05 19:12:04  |70556210           |2              |Le Coin des Crêpes  |Crepes       |Montreal        |Quebec    |Canada            |0                 |1               |Corporate                |Owned                   |4058           |zzw-226@66b-2dn-8vz  |Evelyne             |Clothing Stores                                     |NULL                                         |45.476214   |-73.606921   |Jovani               |Knight              |Jovani.Knight@hotmail.com    |813-902-8622           |0                        |Male             |Single                   |85              |Bottled Soda           |1           |3.0000        |3.0000   |42.0000         |NULL                |NULL                     |42.0000        |Jovani               |Knight              |Montreal  |Canada            |H3M 1R6        |English               |Male             |NULL               |Single                   |0                        |2019-01-22      |1987-06-12       |Jovani.Knight@hotmail.com    |813-902-8622           |\n",
      "|153216         |2019-04-05  |26032441    |113         |2019-04-05 19:23:03  |70556256           |0              |Le Coin des Crêpes  |Crepes       |Montreal        |Quebec    |Canada            |0                 |1               |Corporate                |Owned                   |4058           |zzw-226@66b-2dn-8vz  |Evelyne             |Clothing Stores                                     |NULL                                         |45.476214   |-73.606921   |Chance               |Bradley             |Chance.Bradley@hotmail.com   |012-163-0173           |0                        |Undisclosed      |Single                   |83              |Crepe Suzette          |2           |9.0000        |18.0000  |18.0000         |NULL                |NULL                     |18.0000        |Chance               |Bradley             |Montreal  |Canada            |H1L 1L4        |English               |Undisclosed      |NULL               |Single                   |0                        |2021-05-14      |1979-08-16       |Chance.Bradley@hotmail.com   |012-163-0173           |\n",
      "|114660         |2019-04-07  |26033820    |113         |2019-04-07 12:33:06  |70559798           |0              |Le Coin des Crêpes  |Crepes       |Montreal        |Quebec    |Canada            |0                 |1               |Corporate                |Owned                   |5376           |zzy-222@66b-2gj-9xq  |TAIGA Montreal      |Other Amusement and Recreation Industries           |Fitness and Recreational Sports Centers      |45.560169   |-73.604149   |Francisco            |Nunez               |Francisco.Nunez@hotmail.com  |926-997-9902           |2                        |Female           |Married                  |82              |Chicken Pot Pie Crepe  |2           |15.0000       |30.0000  |48.0000         |NULL                |NULL                     |48.0000        |Francisco            |Nunez               |Montreal  |Canada            |H2P 1L1        |English               |Female           |NULL               |Married                  |2                        |2021-03-12      |1988-09-17       |Francisco.Nunez@hotmail.com  |926-997-9902           |\n",
      "|114660         |2019-04-07  |26033820    |113         |2019-04-07 12:33:06  |70559799           |1              |Le Coin des Crêpes  |Crepes       |Montreal        |Quebec    |Canada            |0                 |1               |Corporate                |Owned                   |5376           |zzy-222@66b-2gj-9xq  |TAIGA Montreal      |Other Amusement and Recreation Industries           |Fitness and Recreational Sports Centers      |45.560169   |-73.604149   |Francisco            |Nunez               |Francisco.Nunez@hotmail.com  |926-997-9902           |2                        |Female           |Married                  |83              |Crepe Suzette          |2           |9.0000        |18.0000  |48.0000         |NULL                |NULL                     |48.0000        |Francisco            |Nunez               |Montreal  |Canada            |H2P 1L1        |English               |Female           |NULL               |Married                  |2                        |2021-03-12      |1988-09-17       |Francisco.Nunez@hotmail.com  |926-997-9902           |\n",
      "-----------------------------------------------------------------------------------------------------------------------------------------------------------------------------------------------------------------------------------------------------------------------------------------------------------------------------------------------------------------------------------------------------------------------------------------------------------------------------------------------------------------------------------------------------------------------------------------------------------------------------------------------------------------------------------------------------------------------------------------------------------------------------------------------------------------------------------------------------------------------------------------------------------------------------------------------------------------------------------------------------------------------------------------------------------------------------------------------------------------------------\n",
      "\n",
      "Number of rows: 36279471\n"
     ]
    }
   ],
   "source": [
    "#Merge to get loyal customers orders\n",
    "loyal_customer_orders=tasty_bytes_orders_v.join(\n",
    "    right=tasty_bytes_customer_loyalty,\n",
    "    on=\"CUSTOMER_ID\",\n",
    "    how=\"inner\"\n",
    ")\n",
    "loyal_customer_orders.show()\n",
    "print('Number of rows:',loyal_customer_orders.count())"
   ]
  },
  {
   "cell_type": "code",
   "execution_count": 7,
   "metadata": {},
   "outputs": [],
   "source": [
    "#Function to remove and rename columns after inner join\n",
    "def remove_dup_join_col(df):\n",
    "    # capitalise all columns\n",
    "    for col in df.columns:\n",
    "        df = df.withColumnRenamed(col, col.upper())\n",
    "    \n",
    "    # get list of renamable columns for left and right join\n",
    "    left_dup_col = [col_name for col_name in df.columns if col_name.startswith('L_')]\n",
    "    right_dup_col = [col_name for col_name in df.columns if col_name.startswith('R_')]\n",
    "    old_columns = df.columns\n",
    "    \n",
    "    # rename the list with the most number of renamable columns\n",
    "    # drop the list of columns with less number of renamable columns\n",
    "    if len(left_dup_col)>len(right_dup_col):\n",
    "        columns_rename=left_dup_col\n",
    "        df= df.drop(*right_dup_col)\n",
    "    else:\n",
    "        columns_rename=right_dup_col\n",
    "        df= df.drop(*left_dup_col)\n",
    "    \n",
    "    for old_column in old_columns:\n",
    "        if old_column in columns_rename:\n",
    "            # get string to remove\n",
    "            string_to_replace = columns_rename[0][:7]\n",
    "            # replace starting string\n",
    "            new_column = old_column.replace(string_to_replace, \"\")\n",
    "            df = df.withColumnRenamed(old_column, new_column)\n",
    "    \n",
    "    return df"
   ]
  },
  {
   "cell_type": "code",
   "execution_count": 8,
   "metadata": {},
   "outputs": [
    {
     "name": "stdout",
     "output_type": "stream",
     "text": [
      "----------------------------------------------------------------------------------------------------------------------------------------------------------------------------------------------------------------------------------------------------------------------------------------------------------------------------------------------------------------------------------------------------------------------------------------------------------------------------------------------------------------------------------------------------------------------------------------------------------------------------------------------------------------------------------------------------------------------------------------------------------------------------------------------------------------------------------------------------------------------------------------------\n",
      "|\"CUSTOMER_ID\"  |\"DATE\"      |\"ORDER_ID\"  |\"TRUCK_ID\"  |\"ORDER_TS\"           |\"ORDER_DETAIL_ID\"  |\"LINE_NUMBER\"  |\"TRUCK_BRAND_NAME\"  |\"MENU_TYPE\"  |\"PRIMARY_CITY\"  |\"REGION\"  |\"FRANCHISE_FLAG\"  |\"FRANCHISE_ID\"  |\"FRANCHISEE_FIRST_NAME\"  |\"FRANCHISEE_LAST_NAME\"  |\"LOCATION_ID\"  |\"PLACEKEY\"           |\"LOCATION_NAME\"                |\"TOP_CATEGORY\"                                      |\"SUB_CATEGORY\"                               |\"LATITUDE\"  |\"LONGITUDE\"  |\"MENU_ITEM_ID\"  |\"MENU_ITEM_NAME\"       |\"QUANTITY\"  |\"UNIT_PRICE\"  |\"PRICE\"  |\"ORDER_AMOUNT\"  |\"ORDER_TAX_AMOUNT\"  |\"ORDER_DISCOUNT_AMOUNT\"  |\"ORDER_TOTAL\"  |\"FIRST_NAME\"  |\"LAST_NAME\"  |\"CITY\"    |\"COUNTRY\"  |\"POSTAL_CODE\"  |\"PREFERRED_LANGUAGE\"  |\"GENDER\"  |\"FAVOURITE_BRAND\"  |\"MARITAL_STATUS\"    |\"CHILDREN_COUNT\"  |\"SIGN_UP_DATE\"  |\"BIRTHDAY_DATE\"  |\"E_MAIL\"                    |\"PHONE_NUMBER\"  |\n",
      "----------------------------------------------------------------------------------------------------------------------------------------------------------------------------------------------------------------------------------------------------------------------------------------------------------------------------------------------------------------------------------------------------------------------------------------------------------------------------------------------------------------------------------------------------------------------------------------------------------------------------------------------------------------------------------------------------------------------------------------------------------------------------------------------------------------------------------------------------------------------------------------------\n",
      "|43564          |2019-04-05  |26031914    |113         |2019-04-05 09:46:28  |70554897           |0              |Le Coin des Crêpes  |Crepes       |Montreal        |Quebec    |0                 |1               |Corporate                |Owned                   |5292           |zzy-222@66b-2cw-99f  |Parc Lhasa de Sela             |Museums, Historical Sites, and Similar Institut...  |Nature Parks and Other Similar Institutions  |45.527424   |-73.604713   |82              |Chicken Pot Pie Crepe  |2           |15.0000       |30.0000  |30.0000         |NULL                |NULL                     |30.0000        |Kailyn        |Baxter       |Montreal  |Canada     |H1X 2K6        |English               |Male      |NULL               |Single              |0                 |2021-08-11      |1946-02-15       |Kailyn.Baxter@ymail.com     |398-886-8666    |\n",
      "|41818          |2019-04-05  |26032401    |113         |2019-04-05 18:51:06  |70556143           |0              |Le Coin des Crêpes  |Crepes       |Montreal        |Quebec    |0                 |1               |Corporate                |Owned                   |4058           |zzw-226@66b-2dn-8vz  |Evelyne                        |Clothing Stores                                     |NULL                                         |45.476214   |-73.606921   |81              |Breakfast Crepe        |1           |12.0000       |12.0000  |54.0000         |NULL                |NULL                     |54.0000        |Rogelio       |Ayers        |Montreal  |Canada     |H1L 1L4        |English               |Male      |NULL               |Divorced/Seperated  |2                 |2019-11-19      |1961-06-02       |Rogelio.Ayers@aol.com       |490-811-1532    |\n",
      "|41818          |2019-04-05  |26032401    |113         |2019-04-05 18:51:06  |70556144           |1              |Le Coin des Crêpes  |Crepes       |Montreal        |Quebec    |0                 |1               |Corporate                |Owned                   |4058           |zzw-226@66b-2dn-8vz  |Evelyne                        |Clothing Stores                                     |NULL                                         |45.476214   |-73.606921   |82              |Chicken Pot Pie Crepe  |2           |15.0000       |30.0000  |54.0000         |NULL                |NULL                     |54.0000        |Rogelio       |Ayers        |Montreal  |Canada     |H1L 1L4        |English               |Male      |NULL               |Divorced/Seperated  |2                 |2019-11-19      |1961-06-02       |Rogelio.Ayers@aol.com       |490-811-1532    |\n",
      "|41818          |2019-04-05  |26032401    |113         |2019-04-05 18:51:06  |70556145           |2              |Le Coin des Crêpes  |Crepes       |Montreal        |Quebec    |0                 |1               |Corporate                |Owned                   |4058           |zzw-226@66b-2dn-8vz  |Evelyne                        |Clothing Stores                                     |NULL                                         |45.476214   |-73.606921   |83              |Crepe Suzette          |1           |9.0000        |9.0000   |54.0000         |NULL                |NULL                     |54.0000        |Rogelio       |Ayers        |Montreal  |Canada     |H1L 1L4        |English               |Male      |NULL               |Divorced/Seperated  |2                 |2019-11-19      |1961-06-02       |Rogelio.Ayers@aol.com       |490-811-1532    |\n",
      "|41818          |2019-04-05  |26032401    |113         |2019-04-05 18:51:06  |70556146           |3              |Le Coin des Crêpes  |Crepes       |Montreal        |Quebec    |0                 |1               |Corporate                |Owned                   |4058           |zzw-226@66b-2dn-8vz  |Evelyne                        |Clothing Stores                                     |NULL                                         |45.476214   |-73.606921   |85              |Bottled Soda           |1           |3.0000        |3.0000   |54.0000         |NULL                |NULL                     |54.0000        |Rogelio       |Ayers        |Montreal  |Canada     |H1L 1L4        |English               |Male      |NULL               |Divorced/Seperated  |2                 |2019-11-19      |1961-06-02       |Rogelio.Ayers@aol.com       |490-811-1532    |\n",
      "|130972         |2019-04-07  |26034225    |113         |2019-04-07 19:51:35  |70560794           |0              |Le Coin des Crêpes  |Crepes       |Montreal        |Quebec    |0                 |1               |Corporate                |Owned                   |1654           |223-222@66b-2fp-z4v  |Habitations Nouvelles Avenues  |Nursing and Residential Care Facilities             |NULL                                         |45.562106   |-73.5798     |81              |Breakfast Crepe        |1           |12.0000       |12.0000  |12.0000         |NULL                |NULL                     |12.0000        |Areli         |Williams     |Montreal  |Canada     |H1X 2K6        |English               |Female    |NULL               |Divorced/Seperated  |1                 |2019-10-29      |1972-02-22       |Areli.Williams@hotmail.com  |790-752-9905    |\n",
      "|122493         |2019-04-09  |26035595    |113         |2019-04-09 20:46:19  |70564470           |0              |Le Coin des Crêpes  |Crepes       |Montreal        |Quebec    |0                 |1               |Corporate                |Owned                   |2178           |226-224@66b-2f2-bx5  |Atelier Boutique Lelievre      |Clothing Stores                                     |NULL                                         |45.544414   |-73.651852   |81              |Breakfast Crepe        |2           |12.0000       |24.0000  |24.0000         |NULL                |NULL                     |24.0000        |Adyson        |White        |Montreal  |Canada     |H4E 1B5        |English               |Female    |NULL               |Married             |2                 |2019-03-13      |1994-08-23       |Adyson.White@gmail.com      |580-936-5033    |\n",
      "|117049         |2019-04-11  |26037284    |113         |2019-04-11 19:09:32  |70568894           |0              |Le Coin des Crêpes  |Crepes       |Montreal        |Quebec    |0                 |1               |Corporate                |Owned                   |3830           |zzw-222@66b-2g4-y5f  |Cargill Salt                   |Specialty Food Stores                               |All Other Specialty Food Stores              |45.501704   |-73.55762    |81              |Breakfast Crepe        |2           |12.0000       |24.0000  |81.0000         |NULL                |NULL                     |81.0000        |Mira          |Castaneda    |Montreal  |Canada     |H4V 1S9        |English               |Female    |NULL               |Single              |0                 |2019-12-26      |1966-03-19       |Mira.Castaneda@aol.com      |785-031-2719    |\n",
      "|117049         |2019-04-11  |26037284    |113         |2019-04-11 19:09:32  |70568895           |1              |Le Coin des Crêpes  |Crepes       |Montreal        |Quebec    |0                 |1               |Corporate                |Owned                   |3830           |zzw-222@66b-2g4-y5f  |Cargill Salt                   |Specialty Food Stores                               |All Other Specialty Food Stores              |45.501704   |-73.55762    |82              |Chicken Pot Pie Crepe  |3           |15.0000       |45.0000  |81.0000         |NULL                |NULL                     |81.0000        |Mira          |Castaneda    |Montreal  |Canada     |H4V 1S9        |English               |Female    |NULL               |Single              |0                 |2019-12-26      |1966-03-19       |Mira.Castaneda@aol.com      |785-031-2719    |\n",
      "|117049         |2019-04-11  |26037284    |113         |2019-04-11 19:09:32  |70568896           |2              |Le Coin des Crêpes  |Crepes       |Montreal        |Quebec    |0                 |1               |Corporate                |Owned                   |3830           |zzw-222@66b-2g4-y5f  |Cargill Salt                   |Specialty Food Stores                               |All Other Specialty Food Stores              |45.501704   |-73.55762    |83              |Crepe Suzette          |1           |9.0000        |9.0000   |81.0000         |NULL                |NULL                     |81.0000        |Mira          |Castaneda    |Montreal  |Canada     |H4V 1S9        |English               |Female    |NULL               |Single              |0                 |2019-12-26      |1966-03-19       |Mira.Castaneda@aol.com      |785-031-2719    |\n",
      "----------------------------------------------------------------------------------------------------------------------------------------------------------------------------------------------------------------------------------------------------------------------------------------------------------------------------------------------------------------------------------------------------------------------------------------------------------------------------------------------------------------------------------------------------------------------------------------------------------------------------------------------------------------------------------------------------------------------------------------------------------------------------------------------------------------------------------------------------------------------------------------------\n",
      "\n"
     ]
    }
   ],
   "source": [
    "#Remove duplicate columns\n",
    "loyal_customer_orders = remove_dup_join_col(loyal_customer_orders)\n",
    "loyal_customer_orders.show()"
   ]
  },
  {
   "cell_type": "code",
   "execution_count": 9,
   "metadata": {},
   "outputs": [
    {
     "name": "stdout",
     "output_type": "stream",
     "text": [
      "---------------------------------------------------------------------------------------------------------------------------------------------------------------------------------------------------------------------------------------------------------------------------------------------------------------------------------------------------------------------------------------------------------------------------------------------------------------------------------------------------------------------------------------------------------------------------------------------------------------------------------------------------------------------------------------------------------------------------------------------------------------------------------------------------------------------------------------------------------------------------------------------------------------------\n",
      "|\"CUSTOMER_ID\"  |\"DATE\"      |\"ORDER_ID\"  |\"TRUCK_ID\"  |\"ORDER_TS\"           |\"ORDER_DETAIL_ID\"  |\"LINE_NUMBER\"  |\"TRUCK_BRAND_NAME\"      |\"MENU_TYPE\"   |\"PRIMARY_CITY\"  |\"REGION\"                 |\"FRANCHISE_FLAG\"  |\"FRANCHISE_ID\"  |\"FRANCHISEE_FIRST_NAME\"  |\"FRANCHISEE_LAST_NAME\"  |\"LOCATION_ID\"  |\"PLACEKEY\"           |\"LOCATION_NAME\"    |\"TOP_CATEGORY\"                                      |\"SUB_CATEGORY\"                           |\"LATITUDE\"  |\"LONGITUDE\"  |\"MENU_ITEM_ID\"  |\"MENU_ITEM_NAME\"      |\"QUANTITY\"  |\"UNIT_PRICE\"  |\"PRICE\"  |\"ORDER_AMOUNT\"  |\"ORDER_TAX_AMOUNT\"  |\"ORDER_DISCOUNT_AMOUNT\"  |\"ORDER_TOTAL\"  |\"FIRST_NAME\"  |\"LAST_NAME\"  |\"CITY\"     |\"COUNTRY\"       |\"POSTAL_CODE\"  |\"PREFERRED_LANGUAGE\"  |\"GENDER\"     |\"FAVOURITE_BRAND\"  |\"MARITAL_STATUS\"    |\"CHILDREN_COUNT\"  |\"SIGN_UP_DATE\"  |\"BIRTHDAY_DATE\"  |\"E_MAIL\"                               |\"PHONE_NUMBER\"  |\n",
      "---------------------------------------------------------------------------------------------------------------------------------------------------------------------------------------------------------------------------------------------------------------------------------------------------------------------------------------------------------------------------------------------------------------------------------------------------------------------------------------------------------------------------------------------------------------------------------------------------------------------------------------------------------------------------------------------------------------------------------------------------------------------------------------------------------------------------------------------------------------------------------------------------------------------\n",
      "|25438          |2022-06-22  |31024718    |112         |2022-06-22 12:17:04  |83815184           |0              |Plant Palace            |Vegetarian    |Montreal        |Quebec                   |1                 |87              |Kimberly                 |Johnson                 |1152           |222-222@65w-r4h-jvz  |Rudolf Popradi     |Clothing Stores                                     |NULL                                     |45.433859   |-73.875527   |72              |Seitan Buffalo Wings  |2           |7.0000        |14.0000  |17.0000         |NULL                |NULL                     |17.0000        |Jerimiah      |Boyer        |Montreal   |Canada          |H2E 1T9        |English               |Undisclosed  |NULL               |Divorced/Seperated  |2                 |2021-07-28      |1994-01-21       |Jerimiah.Boyer@gmail.com               |881-366-5165    |\n",
      "|58505          |2021-08-24  |418757550   |431         |2021-08-24 11:10:17  |793711097          |0              |Revenge of the Curds    |Poutine       |Cairo           |Cairo Governorate        |1                 |319             |Bill                     |Rivera                  |6401           |zzy-222@7vy-sqv-ysq  |Parfois            |Clothing Stores                                     |Women's Clothing Stores                  |29.968417   |31.271886    |112             |Mothers Favorite      |1           |12.0000       |12.0000  |12.0000         |NULL                |NULL                     |12.0000        |Gaige         |Allison      |Cairo      |Egypt           |00000          |Arabic                |Female       |NULL               |Undisclosed         |Undisclosed       |2021-04-10      |1963-07-08       |Gaige.Allison@aol.com                  |385-549-6180    |\n",
      "|190673         |2021-04-27  |82808812    |234         |2021-04-27 21:12:10  |223666070          |0              |Tasty Tibs              |Ethiopian     |Delhi           |Delhi                    |1                 |173             |Brandy                   |Mcdonald                |8811           |zzy-223@7t2-wyf-hqz  |Bata               |Shoe Stores                                         |Shoe Stores                              |28.568138   |77.219476    |91              |Lean Chicken Tibs     |1           |11.0000       |11.0000  |11.0000         |NULL                |NULL                     |11.0000        |Jack          |Lozano       |Delhi      |India           |110084         |Hindi                 |Undisclosed  |NULL               |Married             |2                 |2020-01-03      |1976-05-15       |Jack.Lozano@hotmail.com                |467-673-6238    |\n",
      "|91985          |2020-12-05  |46353924    |154         |2020-12-05 18:13:18  |125324067          |0              |The Mac Shack           |Mac & Cheese  |Paris           |Île-de-France            |1                 |119             |Rebecca                  |Morse                   |12594          |zzy-22f@53v-7tg-5zz  |Petits Fils        |Nursing and Residential Care Facilities             |NULL                                     |48.851671   |2.264654     |43              |Lobster Mac & Cheese  |1           |15.0000       |15.0000  |15.0000         |NULL                |NULL                     |15.0000        |America       |Hall         |Paris      |France          |75005          |French                |Male         |NULL               |Married             |3                 |2020-09-28      |1979-11-25       |America.Hall@hotmail.com               |259-185-6956    |\n",
      "|47655          |2021-05-29  |95588910    |250         |2021-05-29 18:32:08  |258377974          |0              |Not the Wurst Hot Dogs  |Hot Dogs      |Tokyo           |Kantō                    |1                 |185             |Virginia                 |Moore                   |14725          |zzy-5ms@dvt-smp-tvz  |Novartis           |Other Miscellaneous Manufacturing                   |NULL                                     |35.666877   |139.749102   |101             |New York Dog          |1           |8.0000        |8.0000   |17.0000         |NULL                |NULL                     |17.0000        |Aryan         |Adkins       |Tokyo      |Japan           |180-0000       |Japanese              |Female       |NULL               |Undisclosed         |Undisclosed       |2019-11-14      |1989-06-10       |Aryan.Adkins@gmail.com                 |542-230-6704    |\n",
      "|25431          |2022-07-29  |31550775    |120         |2022-07-29 13:41:29  |85242692           |0              |Better Off Bread        |Sandwiches    |Montreal        |Quebec                   |1                 |93              |Jeff                     |Murphy                  |4215           |zzw-23v@66b-2dj-gtv  |Econofitness       |Other Amusement and Recreation Industries           |Fitness and Recreational Sports Centers  |45.488866   |-73.586143   |152             |Pastrami              |2           |11.0000       |22.0000  |44.0000         |NULL                |NULL                     |44.0000        |Ava           |Rivers       |Montreal   |Canada          |H4E 1B5        |English               |Female       |NULL               |Divorced/Seperated  |2                 |2019-04-12      |2003-04-27       |Ava.Rivers@gmail.com                   |004-846-6631    |\n",
      "|167028         |2021-06-01  |134227684   |296         |2021-06-01 21:20:11  |363584620          |0              |Revenge of the Curds    |Poutine       |Melbourne       |Victoria                 |1                 |220             |Michael                  |Smith                   |7769           |zzy-222@nhx-npb-9pv  |Victoria's Secret  |Clothing Stores                                     |Women's Clothing Stores                  |-37.668969  |144.849714   |113             |The Kitchen Sink      |2           |14.0000       |28.0000  |43.0000         |NULL                |NULL                     |43.0000        |Annie         |Bentley      |Melbourne  |Australia       |3205           |English               |Male         |NULL               |Single              |0                 |2020-10-28      |1973-01-19       |Annie.Bentley@hotmail.com              |385-041-6090    |\n",
      "|133216         |2020-09-16  |56105476    |195         |2020-09-16 11:27:52  |151576524          |0              |Better Off Bread        |Sandwiches    |Warsaw          |Mazowieckie województwo  |1                 |142             |Amanda                   |Smith                   |12584          |zzy-22f@52w-bhd-s89  |Leszek Siwek       |Personal and Household Goods Repair and Mainten...  |Footwear and Leather Goods Repair        |52.240954   |21.081186    |152             |Pastrami              |1           |11.0000       |11.0000  |36.0000         |NULL                |NULL                     |36.0000        |Dominick      |Drake        |Warsaw     |Poland          |00-020         |Polish                |Male         |NULL               |Single              |0                 |2021-07-31      |1997-09-14       |Dominick.Drake@gmail.com               |313-057-3084    |\n",
      "|200999         |2022-05-25  |353339458   |315         |2022-05-25 16:51:25  |615410996          |0              |Better Off Bread        |Sandwiches    |Sao Paulo       |São Paulo estado         |1                 |232             |Joy                      |Smith                   |7111           |zzy-222@kh3-xw4-nkf  |Crocs              |Shoe Stores                                         |Shoe Stores                              |-23.4829    |-46.645063   |152             |Pastrami              |2           |11.0000       |22.0000  |55.0000         |NULL                |NULL                     |55.0000        |Kirsten       |Walsh        |Sao Paulo  |Brazil          |NULL           |Portuguese            |Male         |NULL               |Married             |3                 |2019-04-09      |1988-06-07       |**~MASKED~**.**~MASKED~**@hotmail.com  |111-111-1111    |\n",
      "|12526          |2022-04-27  |39651762    |131         |2022-04-27 16:46:34  |107132705          |0              |Revenge of the Curds    |Poutine       |London          |Greater London           |1                 |101             |Donald                   |Larson                  |9370           |zzy-224@4hj-zy6-bzf  |UEL SportDock      |Other Amusement and Recreation Industries           |NULL                                     |51.507583   |0.068582     |112             |Mothers Favorite      |1           |12.0000       |12.0000  |36.0000         |NULL                |NULL                     |36.0000        |Kailee        |Bryan        |London     |United Kingdom  |E1 7AF         |English               |Female       |NULL               |Single              |0                 |2020-05-11      |1978-01-18       |Kailee.Bryan@hotmail.com               |675-134-6276    |\n",
      "---------------------------------------------------------------------------------------------------------------------------------------------------------------------------------------------------------------------------------------------------------------------------------------------------------------------------------------------------------------------------------------------------------------------------------------------------------------------------------------------------------------------------------------------------------------------------------------------------------------------------------------------------------------------------------------------------------------------------------------------------------------------------------------------------------------------------------------------------------------------------------------------------------------------\n",
      "\n"
     ]
    }
   ],
   "source": [
    "#Remove duplicate order ids\n",
    "remove_dup = loyal_customer_orders.dropDuplicates(['ORDER_ID'])\n",
    "remove_dup.show()"
   ]
  },
  {
   "attachments": {},
   "cell_type": "markdown",
   "metadata": {},
   "source": [
    "# Add RFM column"
   ]
  },
  {
   "cell_type": "code",
   "execution_count": 10,
   "metadata": {},
   "outputs": [],
   "source": [
    "#Get last purchase date as a variable\n",
    "lastdate=tasty_bytes_orders_v.select(F.max('ORDER_TS')).first()[0]\n",
    "\n",
    "# Recency\n",
    "recency = remove_dup.groupBy('CUSTOMER_ID').agg(F.max('ORDER_TS').alias('ORDER_TS'))\n",
    "recency = recency.withColumn('RECENCY', F.datediff(col1=F.col('ORDER_TS'), col2=F.lit(lastdate),part='day'))\n",
    "\n",
    "# Frequency\n",
    "frequency = remove_dup.groupBy('CUSTOMER_ID').agg(F.countDistinct('ORDER_ID').alias('frequency'))\n",
    "\n",
    "# Monetary\n",
    "monetary = remove_dup.groupBy('CUSTOMER_ID').agg(F.sum('ORDER_TOTAL').alias('monetary'))\n",
    "\n",
    "# Merge into RFM table\n",
    "RFM_table = recency.join(frequency, on='CUSTOMER_ID', how='inner')\n",
    "RFM_table = RFM_table.join(monetary, on='CUSTOMER_ID', how='inner')"
   ]
  },
  {
   "cell_type": "code",
   "execution_count": 11,
   "metadata": {},
   "outputs": [],
   "source": [
    "RFM_table_df=RFM_table.to_pandas()"
   ]
  },
  {
   "cell_type": "code",
   "execution_count": 15,
   "metadata": {},
   "outputs": [],
   "source": [
    "RFM_table_df=RFM_table_df.drop('ORDER_TS',axis=1,errors='ignore')"
   ]
  },
  {
   "cell_type": "code",
   "execution_count": null,
   "metadata": {},
   "outputs": [],
   "source": []
  }
 ],
 "metadata": {
  "kernelspec": {
   "display_name": "py38_env",
   "language": "python",
   "name": "python3"
  },
  "language_info": {
   "codemirror_mode": {
    "name": "ipython",
    "version": 3
   },
   "file_extension": ".py",
   "mimetype": "text/x-python",
   "name": "python",
   "nbconvert_exporter": "python",
   "pygments_lexer": "ipython3",
   "version": "3.8.16"
  },
  "orig_nbformat": 4
 },
 "nbformat": 4,
 "nbformat_minor": 2
}
