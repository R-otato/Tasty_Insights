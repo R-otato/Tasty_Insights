{
 "cells": [
  {
   "attachments": {},
   "cell_type": "markdown",
   "id": "eaeb5653",
   "metadata": {},
   "source": [
    "![download.png](download.png)\n"
   ]
  },
  {
   "attachments": {},
   "cell_type": "markdown",
   "id": "9f8d1940",
   "metadata": {},
   "source": [
    "## Import Packages"
   ]
  },
  {
   "cell_type": "code",
   "execution_count": 2,
   "id": "2b76a42a",
   "metadata": {},
   "outputs": [],
   "source": [
    "#Import Python packages\n",
    "import pandas as pd\n",
    "import plotly.express as px\n",
    "import json\n",
    "import sys\n",
    "import cachetools\n",
    "import matplotlib.pyplot as plt\n",
    "import seaborn as sns\n",
    "import datetime as dt\n",
    "import numpy as np\n",
    "import json\n",
    "import datetime\n",
    "\n",
    "# for splitting of the dataset\n",
    "from sklearn.model_selection import train_test_split\n",
    "from sklearn.model_selection import cross_validate\n",
    "\n",
    "# for encoding/transforming the data\n",
    "from feature_engine.encoding import OneHotEncoder\n",
    "\n",
    "#ML-Models\n",
    "from xgboost import XGBClassifier\n",
    "from sklearn.neural_network import MLPClassifier\n",
    "\n",
    "# for getting metrics\n",
    "from sklearn.metrics import mean_squared_error, r2_score, accuracy_score\n",
    "\n",
    "# model selection\n",
    "from sklearn.model_selection import GridSearchCV\n",
    "\n",
    "# Import Snowflake modules\n",
    "from snowflake.snowpark import Session\n",
    "import snowflake.snowpark.functions as F\n",
    "import snowflake.snowpark.types as T\n",
    "from snowflake.snowpark import Window"
   ]
  },
  {
   "attachments": {},
   "cell_type": "markdown",
   "id": "c689510f",
   "metadata": {},
   "source": [
    "## Connect to Snowflake"
   ]
  },
  {
   "cell_type": "code",
   "execution_count": 3,
   "id": "9140d4bb",
   "metadata": {},
   "outputs": [],
   "source": [
    "# Get account credentials from a json file\n",
    "with open(\"data_scientist_auth.json\") as f:\n",
    "    data = json.load(f)\n",
    "    username = data[\"username\"]\n",
    "    password = data[\"password\"]\n",
    "    account = data[\"account\"]\n",
    "\n",
    "# Specify connection parameters\n",
    "connection_parameters = {\n",
    "    \"account\": account,\n",
    "    \"user\": username,\n",
    "    \"password\": password,\n",
    "    \"role\": \"TASTY_BI\",\n",
    "    \"warehouse\": \"TASTY_BI_WH\",\n",
    "    \"database\": \"frostbyte_tasty_bytes\",\n",
    "    \"schema\": \"analytics\",\n",
    "}\n",
    "\n",
    "# Create Snowpark session\n",
    "session = Session.builder.configs(connection_parameters).create()"
   ]
  },
  {
   "attachments": {},
   "cell_type": "markdown",
   "id": "c3d02814",
   "metadata": {},
   "source": [
    "## Gathering Data as Snowpark DataFrame"
   ]
  },
  {
   "cell_type": "code",
   "execution_count": 4,
   "id": "9f5810e2",
   "metadata": {},
   "outputs": [],
   "source": [
    "#Orders_V\n",
    "tasty_bytes_orders_v = session.table(\"frostbyte_tasty_bytes.analytics.orders_v\")\n",
    "#Customer Loyalty\n",
    "tasty_bytes_customer_loyalty = session.table(\"frostbyte_tasty_bytes.raw_customer.customer_loyalty\")"
   ]
  },
  {
   "attachments": {},
   "cell_type": "markdown",
   "id": "461b0173",
   "metadata": {},
   "source": [
    "## Preview The Data"
   ]
  },
  {
   "cell_type": "code",
   "execution_count": 28,
   "id": "04b27d34",
   "metadata": {},
   "outputs": [
    {
     "name": "stdout",
     "output_type": "stream",
     "text": [
      "------------------------------------------------------------------------------------------------------------------------------------------------------------------------------------------------------------------------------------------------------------------------------------------------------------------------------------------------------------------------------------------------------------------------------------------------------------------------------------------------------------------------------------------------------------------------------------------------------------------------------------------------------------------------------------------------------------------------------------------------------------------------------------------------------------------------------------------------------------------------------------------------------------------------------------------------------------------------------------------------------------------------------------------------------------------------------------------------------\n",
      "|\"CUSTOMER_ID\"  |\"l_gn2u_FIRST_NAME\"  |\"l_gn2u_LAST_NAME\"  |\"CITY\"     |\"l_gn2u_COUNTRY\"  |\"POSTAL_CODE\"  |\"PREFERRED_LANGUAGE\"  |\"l_gn2u_GENDER\"  |\"FAVOURITE_BRAND\"  |\"l_gn2u_MARITAL_STATUS\"  |\"l_gn2u_CHILDREN_COUNT\"  |\"SIGN_UP_DATE\"  |\"BIRTHDAY_DATE\"  |\"l_gn2u_E_MAIL\"              |\"l_gn2u_PHONE_NUMBER\"  |\"DATE\"      |\"ORDER_ID\"  |\"TRUCK_ID\"  |\"ORDER_TS\"           |\"ORDER_DETAIL_ID\"  |\"LINE_NUMBER\"  |\"TRUCK_BRAND_NAME\"  |\"MENU_TYPE\"   |\"PRIMARY_CITY\"  |\"REGION\"  |\"r_tigo_COUNTRY\"  |\"FRANCHISE_FLAG\"  |\"FRANCHISE_ID\"  |\"FRANCHISEE_FIRST_NAME\"  |\"FRANCHISEE_LAST_NAME\"  |\"LOCATION_ID\"  |\"PLACEKEY\"           |\"LOCATION_NAME\"  |\"TOP_CATEGORY\"                                      |\"SUB_CATEGORY\"         |\"LATITUDE\"  |\"LONGITUDE\"  |\"r_tigo_FIRST_NAME\"  |\"r_tigo_LAST_NAME\"  |\"r_tigo_E_MAIL\"              |\"r_tigo_PHONE_NUMBER\"  |\"r_tigo_CHILDREN_COUNT\"  |\"r_tigo_GENDER\"  |\"r_tigo_MARITAL_STATUS\"  |\"MENU_ITEM_ID\"  |\"MENU_ITEM_NAME\"       |\"QUANTITY\"  |\"UNIT_PRICE\"  |\"PRICE\"  |\"ORDER_AMOUNT\"  |\"ORDER_TAX_AMOUNT\"  |\"ORDER_DISCOUNT_AMOUNT\"  |\"ORDER_TOTAL\"  |\n",
      "------------------------------------------------------------------------------------------------------------------------------------------------------------------------------------------------------------------------------------------------------------------------------------------------------------------------------------------------------------------------------------------------------------------------------------------------------------------------------------------------------------------------------------------------------------------------------------------------------------------------------------------------------------------------------------------------------------------------------------------------------------------------------------------------------------------------------------------------------------------------------------------------------------------------------------------------------------------------------------------------------------------------------------------------------------------------------------------------------\n",
      "|79089          |Rylie                |Jensen              |Melbourne  |Australia         |3010           |English               |Male             |NULL               |Single                   |0                        |2020-05-25      |2005-06-14       |Rylie.Jensen@gmail.com       |298-637-8539           |2022-06-09  |340255290   |289         |2022-06-09 19:59:08  |579721695          |0              |The Mac Shack       |Mac & Cheese  |Melbourne       |Victoria  |Australia         |0                 |1               |Corporate                |Owned                   |13359          |zzy-22n@nhx-p7k-ygk  |rebel            |Sporting Goods, Hobby, and Musical Instrument S...  |Sporting Goods Stores  |-37.814035  |144.965175   |Rylie                |Jensen              |Rylie.Jensen@gmail.com       |298-637-8539           |0                        |Male             |Single                   |41              |Standard Mac & Cheese  |3           |8.0000        |24.0000  |57.0000         |NULL                |NULL                     |57.0000        |\n",
      "|79089          |Rylie                |Jensen              |Melbourne  |Australia         |3010           |English               |Male             |NULL               |Single                   |0                        |2020-05-25      |2005-06-14       |Rylie.Jensen@gmail.com       |298-637-8539           |2022-06-09  |340255290   |289         |2022-06-09 19:59:08  |579721696          |1              |The Mac Shack       |Mac & Cheese  |Melbourne       |Victoria  |Australia         |0                 |1               |Corporate                |Owned                   |13359          |zzy-22n@nhx-p7k-ygk  |rebel            |Sporting Goods, Hobby, and Musical Instrument S...  |Sporting Goods Stores  |-37.814035  |144.965175   |Rylie                |Jensen              |Rylie.Jensen@gmail.com       |298-637-8539           |0                        |Male             |Single                   |42              |Buffalo Mac & Cheese   |3           |10.0000       |30.0000  |57.0000         |NULL                |NULL                     |57.0000        |\n",
      "|79089          |Rylie                |Jensen              |Melbourne  |Australia         |3010           |English               |Male             |NULL               |Single                   |0                        |2020-05-25      |2005-06-14       |Rylie.Jensen@gmail.com       |298-637-8539           |2022-06-09  |340255290   |289         |2022-06-09 19:59:08  |579721697          |2              |The Mac Shack       |Mac & Cheese  |Melbourne       |Victoria  |Australia         |0                 |1               |Corporate                |Owned                   |13359          |zzy-22n@nhx-p7k-ygk  |rebel            |Sporting Goods, Hobby, and Musical Instrument S...  |Sporting Goods Stores  |-37.814035  |144.965175   |Rylie                |Jensen              |Rylie.Jensen@gmail.com       |298-637-8539           |0                        |Male             |Single                   |46              |Ice Tea                |1           |3.0000        |3.0000   |57.0000         |NULL                |NULL                     |57.0000        |\n",
      "|113317         |Veronica             |Richards            |Melbourne  |Australia         |3003           |English               |Female           |NULL               |Single                   |0                        |2021-12-13      |2000-10-30       |Veronica.Richards@gmail.com  |700-486-3130           |2022-06-09  |340255296   |289         |2022-06-09 20:00:44  |579721709          |0              |The Mac Shack       |Mac & Cheese  |Melbourne       |Victoria  |Australia         |0                 |1               |Corporate                |Owned                   |13359          |zzy-22n@nhx-p7k-ygk  |rebel            |Sporting Goods, Hobby, and Musical Instrument S...  |Sporting Goods Stores  |-37.814035  |144.965175   |Veronica             |Richards            |Veronica.Richards@gmail.com  |700-486-3130           |0                        |Female           |Single                   |41              |Standard Mac & Cheese  |4           |8.0000        |32.0000  |35.0000         |NULL                |NULL                     |35.0000        |\n",
      "|113317         |Veronica             |Richards            |Melbourne  |Australia         |3003           |English               |Female           |NULL               |Single                   |0                        |2021-12-13      |2000-10-30       |Veronica.Richards@gmail.com  |700-486-3130           |2022-06-09  |340255296   |289         |2022-06-09 20:00:44  |579721710          |1              |The Mac Shack       |Mac & Cheese  |Melbourne       |Victoria  |Australia         |0                 |1               |Corporate                |Owned                   |13359          |zzy-22n@nhx-p7k-ygk  |rebel            |Sporting Goods, Hobby, and Musical Instrument S...  |Sporting Goods Stores  |-37.814035  |144.965175   |Veronica             |Richards            |Veronica.Richards@gmail.com  |700-486-3130           |0                        |Female           |Single                   |46              |Ice Tea                |1           |3.0000        |3.0000   |35.0000         |NULL                |NULL                     |35.0000        |\n",
      "|110375         |Robert               |Hurst               |Melbourne  |Australia         |3004           |English               |Male             |NULL               |Single                   |0                        |2020-04-29      |1957-07-10       |Robert.Hurst@aol.com         |598-772-1016           |2022-06-09  |340255297   |289         |2022-06-09 20:01:11  |579721711          |0              |The Mac Shack       |Mac & Cheese  |Melbourne       |Victoria  |Australia         |0                 |1               |Corporate                |Owned                   |13359          |zzy-22n@nhx-p7k-ygk  |rebel            |Sporting Goods, Hobby, and Musical Instrument S...  |Sporting Goods Stores  |-37.814035  |144.965175   |Robert               |Hurst               |Robert.Hurst@aol.com         |598-772-1016           |0                        |Male             |Single                   |42              |Buffalo Mac & Cheese   |1           |10.0000       |10.0000  |10.0000         |NULL                |NULL                     |10.0000        |\n",
      "|134642         |Rylie                |Guzman              |Melbourne  |Australia         |5006           |English               |Male             |NULL               |Married                  |1                        |2021-05-25      |1977-10-11       |Rylie.Guzman@hotmail.com     |987-451-8378           |2022-06-09  |340255301   |289         |2022-06-09 20:01:49  |579721718          |0              |The Mac Shack       |Mac & Cheese  |Melbourne       |Victoria  |Australia         |0                 |1               |Corporate                |Owned                   |13359          |zzy-22n@nhx-p7k-ygk  |rebel            |Sporting Goods, Hobby, and Musical Instrument S...  |Sporting Goods Stores  |-37.814035  |144.965175   |Rylie                |Guzman              |Rylie.Guzman@hotmail.com     |987-451-8378           |1                        |Male             |Married                  |42              |Buffalo Mac & Cheese   |1           |10.0000       |10.0000  |25.0000         |NULL                |NULL                     |25.0000        |\n",
      "|134642         |Rylie                |Guzman              |Melbourne  |Australia         |5006           |English               |Male             |NULL               |Married                  |1                        |2021-05-25      |1977-10-11       |Rylie.Guzman@hotmail.com     |987-451-8378           |2022-06-09  |340255301   |289         |2022-06-09 20:01:49  |579721719          |1              |The Mac Shack       |Mac & Cheese  |Melbourne       |Victoria  |Australia         |0                 |1               |Corporate                |Owned                   |13359          |zzy-22n@nhx-p7k-ygk  |rebel            |Sporting Goods, Hobby, and Musical Instrument S...  |Sporting Goods Stores  |-37.814035  |144.965175   |Rylie                |Guzman              |Rylie.Guzman@hotmail.com     |987-451-8378           |1                        |Male             |Married                  |43              |Lobster Mac & Cheese   |1           |15.0000       |15.0000  |25.0000         |NULL                |NULL                     |25.0000        |\n",
      "|196185         |Abbey                |Nielsen             |Melbourne  |Australia         |5006           |English               |Male             |NULL               |Married                  |2                        |2022-01-31      |1950-05-25       |Abbey.Nielsen@ymail.com      |279-141-7252           |2022-06-09  |340255393   |289         |2022-06-09 20:53:52  |579721977          |0              |The Mac Shack       |Mac & Cheese  |Melbourne       |Victoria  |Australia         |0                 |1               |Corporate                |Owned                   |13359          |zzy-22n@nhx-p7k-ygk  |rebel            |Sporting Goods, Hobby, and Musical Instrument S...  |Sporting Goods Stores  |-37.814035  |144.965175   |Abbey                |Nielsen             |Abbey.Nielsen@ymail.com      |279-141-7252           |2                        |Male             |Married                  |41              |Standard Mac & Cheese  |1           |8.0000        |8.0000   |23.0000         |NULL                |NULL                     |23.0000        |\n",
      "|196185         |Abbey                |Nielsen             |Melbourne  |Australia         |5006           |English               |Male             |NULL               |Married                  |2                        |2022-01-31      |1950-05-25       |Abbey.Nielsen@ymail.com      |279-141-7252           |2022-06-09  |340255393   |289         |2022-06-09 20:53:52  |579721978          |1              |The Mac Shack       |Mac & Cheese  |Melbourne       |Victoria  |Australia         |0                 |1               |Corporate                |Owned                   |13359          |zzy-22n@nhx-p7k-ygk  |rebel            |Sporting Goods, Hobby, and Musical Instrument S...  |Sporting Goods Stores  |-37.814035  |144.965175   |Abbey                |Nielsen             |Abbey.Nielsen@ymail.com      |279-141-7252           |2                        |Male             |Married                  |43              |Lobster Mac & Cheese   |1           |15.0000       |15.0000  |23.0000         |NULL                |NULL                     |23.0000        |\n",
      "------------------------------------------------------------------------------------------------------------------------------------------------------------------------------------------------------------------------------------------------------------------------------------------------------------------------------------------------------------------------------------------------------------------------------------------------------------------------------------------------------------------------------------------------------------------------------------------------------------------------------------------------------------------------------------------------------------------------------------------------------------------------------------------------------------------------------------------------------------------------------------------------------------------------------------------------------------------------------------------------------------------------------------------------------------------------------------------------------\n",
      "\n",
      "Number of rows: 2144021\n"
     ]
    }
   ],
   "source": [
    "#Filter to only Australia\n",
    "filtered_df=tasty_bytes_orders_v.filter(F.col('COUNTRY')=='Australia')\n",
    "\n",
    "#Merge to get loyal customers orders\n",
    "loyal_customer_orders=tasty_bytes_customer_loyalty.join(\n",
    "    right=filtered_df,\n",
    "    on=\"CUSTOMER_ID\",\n",
    "    how=\"inner\"\n",
    ")\n",
    "loyal_customer_orders.show()\n",
    "print('Number of rows:',loyal_customer_orders.count())"
   ]
  },
  {
   "cell_type": "code",
   "execution_count": 6,
   "id": "e976d751",
   "metadata": {},
   "outputs": [],
   "source": [
    "#Function to remove and rename columns after inner join\n",
    "def remove_dup_join_col(df):\n",
    "    # capitalise all columns\n",
    "    for col in df.columns:\n",
    "        df = df.withColumnRenamed(col, col.upper())\n",
    "    \n",
    "    # get list of renamable columns for left and right join\n",
    "    left_dup_col = [col_name for col_name in df.columns if col_name.startswith('L_')]\n",
    "    right_dup_col = [col_name for col_name in df.columns if col_name.startswith('R_')]\n",
    "    old_columns = df.columns\n",
    "    \n",
    "    # rename the list with the most number of renamable columns\n",
    "    # drop the list of columns with less number of renamable columns\n",
    "    if len(left_dup_col)>len(right_dup_col):\n",
    "        columns_rename=left_dup_col\n",
    "        df= df.drop(*right_dup_col)\n",
    "    else:\n",
    "        columns_rename=right_dup_col\n",
    "        df= df.drop(*left_dup_col)\n",
    "    \n",
    "    for old_column in old_columns:\n",
    "        if old_column in columns_rename:\n",
    "            # get string to remove\n",
    "            string_to_replace = columns_rename[0][:7]\n",
    "            # replace starting string\n",
    "            new_column = old_column.replace(string_to_replace, \"\")\n",
    "            df = df.withColumnRenamed(old_column, new_column)\n",
    "    \n",
    "    return df"
   ]
  },
  {
   "cell_type": "code",
   "execution_count": 29,
   "id": "aff6a312",
   "metadata": {},
   "outputs": [
    {
     "name": "stdout",
     "output_type": "stream",
     "text": [
      "-----------------------------------------------------------------------------------------------------------------------------------------------------------------------------------------------------------------------------------------------------------------------------------------------------------------------------------------------------------------------------------------------------------------------------------------------------------------------------------------------------------------------------------------------------------------------------------------------------------------------------------------------------------------------------------------------------------------------------------------------------------------------------------------------------------------------------------------------------------\n",
      "|\"CUSTOMER_ID\"  |\"CITY\"     |\"POSTAL_CODE\"  |\"PREFERRED_LANGUAGE\"  |\"FAVOURITE_BRAND\"  |\"SIGN_UP_DATE\"  |\"BIRTHDAY_DATE\"  |\"DATE\"      |\"ORDER_ID\"  |\"TRUCK_ID\"  |\"ORDER_TS\"           |\"ORDER_DETAIL_ID\"  |\"LINE_NUMBER\"  |\"TRUCK_BRAND_NAME\"  |\"MENU_TYPE\"   |\"PRIMARY_CITY\"  |\"REGION\"  |\"COUNTRY\"  |\"FRANCHISE_FLAG\"  |\"FRANCHISE_ID\"  |\"FRANCHISEE_FIRST_NAME\"  |\"FRANCHISEE_LAST_NAME\"  |\"LOCATION_ID\"  |\"PLACEKEY\"           |\"LOCATION_NAME\"  |\"TOP_CATEGORY\"                                      |\"SUB_CATEGORY\"         |\"LATITUDE\"  |\"LONGITUDE\"  |\"FIRST_NAME\"  |\"LAST_NAME\"  |\"E_MAIL\"                     |\"PHONE_NUMBER\"  |\"CHILDREN_COUNT\"  |\"GENDER\"  |\"MARITAL_STATUS\"  |\"MENU_ITEM_ID\"  |\"MENU_ITEM_NAME\"       |\"QUANTITY\"  |\"UNIT_PRICE\"  |\"PRICE\"  |\"ORDER_AMOUNT\"  |\"ORDER_TAX_AMOUNT\"  |\"ORDER_DISCOUNT_AMOUNT\"  |\"ORDER_TOTAL\"  |\n",
      "-----------------------------------------------------------------------------------------------------------------------------------------------------------------------------------------------------------------------------------------------------------------------------------------------------------------------------------------------------------------------------------------------------------------------------------------------------------------------------------------------------------------------------------------------------------------------------------------------------------------------------------------------------------------------------------------------------------------------------------------------------------------------------------------------------------------------------------------------------------\n",
      "|79089          |Melbourne  |3010           |English               |NULL               |2020-05-25      |2005-06-14       |2022-06-09  |340255290   |289         |2022-06-09 19:59:08  |579721695          |0              |The Mac Shack       |Mac & Cheese  |Melbourne       |Victoria  |Australia  |0                 |1               |Corporate                |Owned                   |13359          |zzy-22n@nhx-p7k-ygk  |rebel            |Sporting Goods, Hobby, and Musical Instrument S...  |Sporting Goods Stores  |-37.814035  |144.965175   |Rylie         |Jensen       |Rylie.Jensen@gmail.com       |298-637-8539    |0                 |Male      |Single            |41              |Standard Mac & Cheese  |3           |8.0000        |24.0000  |57.0000         |NULL                |NULL                     |57.0000        |\n",
      "|79089          |Melbourne  |3010           |English               |NULL               |2020-05-25      |2005-06-14       |2022-06-09  |340255290   |289         |2022-06-09 19:59:08  |579721696          |1              |The Mac Shack       |Mac & Cheese  |Melbourne       |Victoria  |Australia  |0                 |1               |Corporate                |Owned                   |13359          |zzy-22n@nhx-p7k-ygk  |rebel            |Sporting Goods, Hobby, and Musical Instrument S...  |Sporting Goods Stores  |-37.814035  |144.965175   |Rylie         |Jensen       |Rylie.Jensen@gmail.com       |298-637-8539    |0                 |Male      |Single            |42              |Buffalo Mac & Cheese   |3           |10.0000       |30.0000  |57.0000         |NULL                |NULL                     |57.0000        |\n",
      "|79089          |Melbourne  |3010           |English               |NULL               |2020-05-25      |2005-06-14       |2022-06-09  |340255290   |289         |2022-06-09 19:59:08  |579721697          |2              |The Mac Shack       |Mac & Cheese  |Melbourne       |Victoria  |Australia  |0                 |1               |Corporate                |Owned                   |13359          |zzy-22n@nhx-p7k-ygk  |rebel            |Sporting Goods, Hobby, and Musical Instrument S...  |Sporting Goods Stores  |-37.814035  |144.965175   |Rylie         |Jensen       |Rylie.Jensen@gmail.com       |298-637-8539    |0                 |Male      |Single            |46              |Ice Tea                |1           |3.0000        |3.0000   |57.0000         |NULL                |NULL                     |57.0000        |\n",
      "|113317         |Melbourne  |3003           |English               |NULL               |2021-12-13      |2000-10-30       |2022-06-09  |340255296   |289         |2022-06-09 20:00:44  |579721709          |0              |The Mac Shack       |Mac & Cheese  |Melbourne       |Victoria  |Australia  |0                 |1               |Corporate                |Owned                   |13359          |zzy-22n@nhx-p7k-ygk  |rebel            |Sporting Goods, Hobby, and Musical Instrument S...  |Sporting Goods Stores  |-37.814035  |144.965175   |Veronica      |Richards     |Veronica.Richards@gmail.com  |700-486-3130    |0                 |Female    |Single            |41              |Standard Mac & Cheese  |4           |8.0000        |32.0000  |35.0000         |NULL                |NULL                     |35.0000        |\n",
      "|113317         |Melbourne  |3003           |English               |NULL               |2021-12-13      |2000-10-30       |2022-06-09  |340255296   |289         |2022-06-09 20:00:44  |579721710          |1              |The Mac Shack       |Mac & Cheese  |Melbourne       |Victoria  |Australia  |0                 |1               |Corporate                |Owned                   |13359          |zzy-22n@nhx-p7k-ygk  |rebel            |Sporting Goods, Hobby, and Musical Instrument S...  |Sporting Goods Stores  |-37.814035  |144.965175   |Veronica      |Richards     |Veronica.Richards@gmail.com  |700-486-3130    |0                 |Female    |Single            |46              |Ice Tea                |1           |3.0000        |3.0000   |35.0000         |NULL                |NULL                     |35.0000        |\n",
      "|110375         |Melbourne  |3004           |English               |NULL               |2020-04-29      |1957-07-10       |2022-06-09  |340255297   |289         |2022-06-09 20:01:11  |579721711          |0              |The Mac Shack       |Mac & Cheese  |Melbourne       |Victoria  |Australia  |0                 |1               |Corporate                |Owned                   |13359          |zzy-22n@nhx-p7k-ygk  |rebel            |Sporting Goods, Hobby, and Musical Instrument S...  |Sporting Goods Stores  |-37.814035  |144.965175   |Robert        |Hurst        |Robert.Hurst@aol.com         |598-772-1016    |0                 |Male      |Single            |42              |Buffalo Mac & Cheese   |1           |10.0000       |10.0000  |10.0000         |NULL                |NULL                     |10.0000        |\n",
      "|134642         |Melbourne  |5006           |English               |NULL               |2021-05-25      |1977-10-11       |2022-06-09  |340255301   |289         |2022-06-09 20:01:49  |579721718          |0              |The Mac Shack       |Mac & Cheese  |Melbourne       |Victoria  |Australia  |0                 |1               |Corporate                |Owned                   |13359          |zzy-22n@nhx-p7k-ygk  |rebel            |Sporting Goods, Hobby, and Musical Instrument S...  |Sporting Goods Stores  |-37.814035  |144.965175   |Rylie         |Guzman       |Rylie.Guzman@hotmail.com     |987-451-8378    |1                 |Male      |Married           |42              |Buffalo Mac & Cheese   |1           |10.0000       |10.0000  |25.0000         |NULL                |NULL                     |25.0000        |\n",
      "|134642         |Melbourne  |5006           |English               |NULL               |2021-05-25      |1977-10-11       |2022-06-09  |340255301   |289         |2022-06-09 20:01:49  |579721719          |1              |The Mac Shack       |Mac & Cheese  |Melbourne       |Victoria  |Australia  |0                 |1               |Corporate                |Owned                   |13359          |zzy-22n@nhx-p7k-ygk  |rebel            |Sporting Goods, Hobby, and Musical Instrument S...  |Sporting Goods Stores  |-37.814035  |144.965175   |Rylie         |Guzman       |Rylie.Guzman@hotmail.com     |987-451-8378    |1                 |Male      |Married           |43              |Lobster Mac & Cheese   |1           |15.0000       |15.0000  |25.0000         |NULL                |NULL                     |25.0000        |\n",
      "|196185         |Melbourne  |5006           |English               |NULL               |2022-01-31      |1950-05-25       |2022-06-09  |340255393   |289         |2022-06-09 20:53:52  |579721977          |0              |The Mac Shack       |Mac & Cheese  |Melbourne       |Victoria  |Australia  |0                 |1               |Corporate                |Owned                   |13359          |zzy-22n@nhx-p7k-ygk  |rebel            |Sporting Goods, Hobby, and Musical Instrument S...  |Sporting Goods Stores  |-37.814035  |144.965175   |Abbey         |Nielsen      |Abbey.Nielsen@ymail.com      |279-141-7252    |2                 |Male      |Married           |41              |Standard Mac & Cheese  |1           |8.0000        |8.0000   |23.0000         |NULL                |NULL                     |23.0000        |\n",
      "|196185         |Melbourne  |5006           |English               |NULL               |2022-01-31      |1950-05-25       |2022-06-09  |340255393   |289         |2022-06-09 20:53:52  |579721978          |1              |The Mac Shack       |Mac & Cheese  |Melbourne       |Victoria  |Australia  |0                 |1               |Corporate                |Owned                   |13359          |zzy-22n@nhx-p7k-ygk  |rebel            |Sporting Goods, Hobby, and Musical Instrument S...  |Sporting Goods Stores  |-37.814035  |144.965175   |Abbey         |Nielsen      |Abbey.Nielsen@ymail.com      |279-141-7252    |2                 |Male      |Married           |43              |Lobster Mac & Cheese   |1           |15.0000       |15.0000  |23.0000         |NULL                |NULL                     |23.0000        |\n",
      "-----------------------------------------------------------------------------------------------------------------------------------------------------------------------------------------------------------------------------------------------------------------------------------------------------------------------------------------------------------------------------------------------------------------------------------------------------------------------------------------------------------------------------------------------------------------------------------------------------------------------------------------------------------------------------------------------------------------------------------------------------------------------------------------------------------------------------------------------------------\n",
      "\n"
     ]
    }
   ],
   "source": [
    "loyal_customer_orders = remove_dup_join_col(loyal_customer_orders)\n",
    "loyal_customer_orders.show()"
   ]
  },
  {
   "cell_type": "code",
   "execution_count": 96,
   "id": "ea428700",
   "metadata": {},
   "outputs": [
    {
     "name": "stdout",
     "output_type": "stream",
     "text": [
      "-----------------------------------------------------------------------------------------------------------------------------------------------------------------------------------------------------------------------------------------------------------------------------------------------------------------------------------------------------------------------------------------------------------------------------------------------------------------------------------------------------------------------------------------------------------------------------------------------------------------------------------------------------------------------------------------------------------------------------------------------------------------------------------------------------------------------------------------------------------------------------------------------------------------------\n",
      "|\"ORDER_ID\"  |\"CUSTOMER_ID\"  |\"CITY\"     |\"POSTAL_CODE\"  |\"PREFERRED_LANGUAGE\"  |\"FAVOURITE_BRAND\"  |\"SIGN_UP_DATE\"  |\"BIRTHDAY_DATE\"  |\"DATE\"      |\"TRUCK_ID\"  |\"ORDER_TS\"           |\"ORDER_DETAIL_ID\"  |\"LINE_NUMBER\"  |\"TRUCK_BRAND_NAME\"      |\"MENU_TYPE\"  |\"PRIMARY_CITY\"  |\"REGION\"         |\"COUNTRY\"  |\"FRANCHISE_FLAG\"  |\"FRANCHISE_ID\"  |\"FRANCHISEE_FIRST_NAME\"  |\"FRANCHISEE_LAST_NAME\"  |\"LOCATION_ID\"  |\"PLACEKEY\"           |\"LOCATION_NAME\"           |\"TOP_CATEGORY\"                               |\"SUB_CATEGORY\"                                      |\"LATITUDE\"  |\"LONGITUDE\"  |\"FIRST_NAME\"  |\"LAST_NAME\"  |\"E_MAIL\"                    |\"PHONE_NUMBER\"  |\"CHILDREN_COUNT\"  |\"GENDER\"  |\"MARITAL_STATUS\"    |\"MENU_ITEM_ID\"  |\"MENU_ITEM_NAME\"      |\"QUANTITY\"  |\"UNIT_PRICE\"  |\"PRICE\"  |\"ORDER_AMOUNT\"  |\"ORDER_TAX_AMOUNT\"  |\"ORDER_DISCOUNT_AMOUNT\"  |\"ORDER_TOTAL\"  |\"TOTAL_QUANTITY\"  |\n",
      "-----------------------------------------------------------------------------------------------------------------------------------------------------------------------------------------------------------------------------------------------------------------------------------------------------------------------------------------------------------------------------------------------------------------------------------------------------------------------------------------------------------------------------------------------------------------------------------------------------------------------------------------------------------------------------------------------------------------------------------------------------------------------------------------------------------------------------------------------------------------------------------------------------------------------\n",
      "|121779928   |86245          |Sydney     |2001           |English               |NULL               |2020-02-14      |1949-09-11       |2020-12-31  |283         |2020-12-31 11:33:37  |329994597          |0              |Peking Truck            |Chinese      |Sydney          |New South Wales  |Australia  |1                 |210             |Amanda                   |Welch                   |10071          |zzy-224@nh3-yc5-st9  |Aerotek                   |Employment Services                          |Employment Placement Agencies                       |-33.864005  |151.206442   |Frances       |Avila        |Frances.Avila@ymail.com     |527-494-9201    |2                 |Female    |Married             |131             |Combo Lo Mein         |1           |13.0000       |13.0000  |22.0000         |NULL                |NULL                     |22.0000        |3                 |\n",
      "|126976664   |172951         |Sydney     |2060           |English               |NULL               |2022-01-03      |2003-09-13       |2022-02-24  |284         |2022-02-24 18:42:16  |344129158          |0              |Nani's Kitchen          |Indian       |Sydney          |New South Wales  |Australia  |1                 |211             |Cristina                 |Lewis                   |7654           |zzy-222@nh3-xzm-575  |Hostelling International  |Traveler Accommodation                       |All Other Traveler Accommodation                    |-33.627473  |151.284839   |Jayvon        |Bell         |Jayvon.Bell@gmail.com       |602-660-4667    |2                 |Male      |Divorced/Seperated  |145             |Bottled Soda          |1           |3.0000        |3.0000   |101.0000        |NULL                |NULL                     |101.0000       |7                 |\n",
      "|127621208   |91655          |Sydney     |2020           |English               |NULL               |2020-08-21      |1985-12-29       |2022-03-31  |284         |2022-03-31 08:36:22  |345865027          |0              |Nani's Kitchen          |Indian       |Sydney          |New South Wales  |Australia  |1                 |211             |Cristina                 |Lewis                   |7675           |zzy-222@nh3-y9s-wtv  |Western Union             |Activities Related to Credit Intermediation  |Other Activities Related to Credit Intermediation   |-33.877191  |151.207474   |Terrance      |Wise         |Terrance.Wise@hotmail.com   |183-267-6594    |Undisclosed       |Male      |Undisclosed         |142             |Tandoori Mixed Grill  |1           |18.0000       |18.0000  |18.0000         |NULL                |NULL                     |18.0000        |1                 |\n",
      "|127518577   |117768         |Sydney     |2055           |English               |NULL               |2021-04-27      |1995-12-04       |2022-03-26  |275         |2022-03-26 18:40:02  |345589836          |0              |Kitakata Ramen Bar      |Ramen        |Sydney          |New South Wales  |Australia  |1                 |202             |Margaret                 |Shaw                    |13536          |zzy-22q@nh3-y9s-xwk  |Qualys                    |Management of Companies and Enterprises      |Corporate, Subsidiary, and Regional Managing Of...  |-33.872703  |151.207697   |Emery         |Page         |Emery.Page@gmail.com        |169-119-7394    |2                 |Male      |Divorced/Seperated  |56              |Ice Tea               |1           |3.0000        |3.0000   |37.5000         |NULL                |NULL                     |37.5000        |3                 |\n",
      "|139025373   |161180         |Melbourne  |3052           |English               |NULL               |2021-01-03      |1988-03-27       |2022-04-30  |294         |2022-04-30 20:16:28  |376358360          |0              |Tasty Tibs              |Ethiopian    |Melbourne       |Victoria         |Australia  |1                 |220             |Michael                  |Smith                   |11483          |zzy-227@nhx-p7m-fcq  |Aon                       |Management of Companies and Enterprises      |Corporate, Subsidiary, and Regional Managing Of...  |-37.813428  |144.970931   |Paula         |Lin          |Paula.Lin@hotmail.com       |436-073-5556    |2                 |Female    |Married             |91              |Lean Chicken Tibs     |1           |11.0000       |11.0000  |24.0000         |NULL                |NULL                     |24.0000        |2                 |\n",
      "|123017702   |169995         |Sydney     |2000           |English               |NULL               |2021-03-26      |1961-08-31       |2021-05-22  |285         |2021-05-22 20:17:47  |333374047          |0              |Better Off Bread        |Sandwiches   |Sydney          |New South Wales  |Australia  |1                 |212             |Mary                     |Warren                  |10668          |zzy-225@nh3-y9s-xt9  |Ascend Resort Collection  |Traveler Accommodation                       |Hotels (except Casino Hotels) and Motels            |-33.872635  |151.209213   |Clarissa      |Salas        |Clarissa.Salas@aol.com      |359-740-3269    |0                 |Female    |Single              |152             |Pastrami              |2           |11.0000       |22.0000  |22.0000         |NULL                |NULL                     |22.0000        |2                 |\n",
      "|136544648   |197258         |Melbourne  |3002           |English               |NULL               |2019-10-21      |1983-10-22       |2021-12-10  |287         |2021-12-10 16:20:04  |369671111          |0              |Smoky BBQ               |BBQ          |Melbourne       |Victoria         |Australia  |1                 |214             |Sandra                   |Jones                   |7920           |zzy-222@nhx-st9-btv  |Burberry                  |Clothing Stores                              |Family Clothing Stores                              |-37.816154  |144.96558    |Georgia       |Baker        |Georgia.Baker@hotmail.com   |961-176-2081    |0                 |Male      |Single              |27              |Spring Mix Salad      |2           |6.0000        |12.0000  |79.0000         |NULL                |NULL                     |79.0000        |6                 |\n",
      "|340103042   |167796         |Melbourne  |3004           |English               |NULL               |2019-09-01      |1970-09-25       |2022-06-02  |286         |2022-06-02 18:14:28  |579306319          |0              |Freezing Point          |Ice Cream    |Melbourne       |Victoria         |Australia  |1                 |213             |Amber                    |Munoz                   |10090          |zzy-224@nhx-npb-kzz  |MAC Cosmetics             |Health and Personal Care Stores              |Cosmetics, Beauty Supplies, and Perfume Stores      |-37.668997  |144.841016   |Mikayla       |Snyder       |Mikayla.Snyder@hotmail.com  |079-725-9850    |0                 |Female    |Single              |12              |Waffle Cone           |2           |6.0000        |12.0000  |38.0000         |NULL                |NULL                     |38.0000        |8                 |\n",
      "|123967742   |142986         |Sydney     |2020           |English               |NULL               |2020-09-16      |1945-12-31       |2021-08-09  |275         |2021-08-09 09:36:22  |335975679          |0              |Kitakata Ramen Bar      |Ramen        |Sydney          |New South Wales  |Australia  |1                 |202             |Margaret                 |Shaw                    |7627           |zzy-222@nh2-fzr-yd9  |Daimler Trucks Milperra   |Automobile Dealers                           |New Car Dealers                                     |-33.932858  |150.989539   |Taryn         |James        |Taryn.James@ymail.com       |807-236-5142    |1                 |Female    |Married             |51              |Creamy Chicken Ramen  |2           |17.2500       |34.5000  |34.5000         |NULL                |NULL                     |34.5000        |2                 |\n",
      "|137154803   |104386         |Melbourne  |3004           |English               |NULL               |2019-02-22      |1945-10-18       |2022-01-18  |295         |2022-01-18 11:47:32  |371303343          |0              |Not the Wurst Hot Dogs  |Hot Dogs     |Melbourne       |Victoria         |Australia  |1                 |221             |Kevin                    |Arnold                  |9329           |zzy-223@nhx-p7m-kvf  |Jacadi                    |Clothing Stores                              |Family Clothing Stores                              |-37.812434  |144.961611   |Esperanza     |Dyer         |Esperanza.Dyer@ymail.com    |474-160-1130    |0                 |Male      |Single              |101             |New York Dog          |1           |8.0000        |8.0000   |17.0000         |NULL                |NULL                     |17.0000        |2                 |\n",
      "-----------------------------------------------------------------------------------------------------------------------------------------------------------------------------------------------------------------------------------------------------------------------------------------------------------------------------------------------------------------------------------------------------------------------------------------------------------------------------------------------------------------------------------------------------------------------------------------------------------------------------------------------------------------------------------------------------------------------------------------------------------------------------------------------------------------------------------------------------------------------------------------------------------------------\n",
      "\n"
     ]
    }
   ],
   "source": [
    "#Total Quantity of each order\n",
    "temp_df=loyal_customer_orders.group_by(F.col('ORDER_ID')).agg(F.sum(F.col('QUANTITY')).alias('Total_Quantity'))\n",
    "#Remove duplicate order ids\n",
    "remove_dup = loyal_customer_orders.dropDuplicates(['ORDER_ID'])\n",
    "#Merge to get transactions table\n",
    "combined_df=remove_dup.join(\n",
    "    right=temp_df,\n",
    "    on=\"ORDER_ID\",\n",
    "    how=\"inner\"\n",
    ")\n",
    "combined_df.show()"
   ]
  },
  {
   "cell_type": "code",
   "execution_count": 97,
   "id": "60b18852",
   "metadata": {},
   "outputs": [],
   "source": [
    "# assuming you have a DataFrame called `orders` with columns `customer_id` and `order_ts`\n",
    "window_spec = Window.partitionBy('customer_id').orderBy(F.col('order_ts').desc())\n",
    "\n",
    "orders_with_rank = combined_df.withColumn('rank', F.rank().over(window_spec))\n",
    "\n",
    "max_order_ts = orders_with_rank.filter(F.col('rank') == 1).select('customer_id', 'order_ts').to_pandas()\n",
    "max_order_ts =max_order_ts.drop_duplicates()\n",
    "second_max_order_ts = orders_with_rank.filter(F.col('rank') == 2).select('customer_id', 'order_ts').to_pandas()\n",
    "second_max_order_ts =second_max_order_ts.drop_duplicates()"
   ]
  },
  {
   "cell_type": "code",
   "execution_count": 120,
   "id": "cbaa607a",
   "metadata": {},
   "outputs": [],
   "source": [
    "second_max_order_ts=second_max_order_ts.rename(columns={'ORDER_TS':'2ndMax_Order_TS'})\n",
    "max_order_ts =max_order_ts.rename(columns={'ORDER_TS':'Max_Order_TS'})"
   ]
  },
  {
   "cell_type": "code",
   "execution_count": 100,
   "id": "dfb38386",
   "metadata": {},
   "outputs": [],
   "source": [
    "loyal_orders_df=combined_df.to_pandas()"
   ]
  },
  {
   "cell_type": "code",
   "execution_count": 103,
   "id": "bbd8ee35",
   "metadata": {},
   "outputs": [
    {
     "data": {
      "text/plain": [
       "25"
      ]
     },
     "execution_count": 103,
     "metadata": {},
     "output_type": "execute_result"
    }
   ],
   "source": [
    "loyal_orders_df.value_counts('CUSTOMER_ID').min()"
   ]
  },
  {
   "cell_type": "code",
   "execution_count": 153,
   "id": "20b15aee",
   "metadata": {},
   "outputs": [],
   "source": [
    "temp_df=loyal_orders_df.merge(second_max_order_ts,on='CUSTOMER_ID',how='inner')"
   ]
  },
  {
   "cell_type": "code",
   "execution_count": 154,
   "id": "054c4032",
   "metadata": {},
   "outputs": [],
   "source": [
    "last_purchase_gone=temp_df[temp_df['ORDER_TS']<=temp_df['2ndMax_Order_TS']]"
   ]
  },
  {
   "cell_type": "code",
   "execution_count": 117,
   "id": "d2069fd6",
   "metadata": {},
   "outputs": [],
   "source": [
    "#Recency\n",
    "recency = last_purchase_gone.groupby('CUSTOMER_ID')['ORDER_TS'].max().reset_index()\n",
    "recency['RECENCY'] = (pd.Timestamp('2022-11-01 22:42:53') - recency['ORDER_TS']).dt.days\n",
    "\n",
    "# Frequency\n",
    "frequency = last_purchase_gone.groupby('CUSTOMER_ID')['ORDER_ID'].nunique().reset_index().rename(columns={'ORDER_ID': 'frequency'})\n",
    "\n",
    "# Monetary\n",
    "monetary = last_purchase_gone.groupby('CUSTOMER_ID')['ORDER_TOTAL'].sum().reset_index().rename(columns={'ORDER_TOTAL': 'monetary'})\n",
    "\n",
    "# Merge into RFM table\n",
    "RFM_table = recency.merge(right=frequency, how='inner', on='CUSTOMER_ID')\n",
    "RFM_table = RFM_table.merge(right=monetary, how='inner', on='CUSTOMER_ID')"
   ]
  },
  {
   "cell_type": "code",
   "execution_count": 166,
   "id": "c0c0c11f",
   "metadata": {},
   "outputs": [],
   "source": [
    "temp_df = last_purchase_gone.sort_values(['CUSTOMER_ID', 'ORDER_TS'])\n",
    "# Calculate the time difference between consecutive 'ORDER_TS' values for each customer\n",
    "temp_df['time_diff'] = temp_df.groupby('CUSTOMER_ID')['ORDER_TS'].diff().dt.days\n",
    "\n",
    "# Calculate the mean time difference for each customer\n",
    "avg_time_diff = temp_df.groupby('CUSTOMER_ID')['time_diff'].mean().reset_index().rename(columns={'time_diff': 'AVG_TIME_DIFF'})\n",
    "\n",
    "#Max Days without Purchase\n",
    "max_days=temp_df.groupby('CUSTOMER_ID')['time_diff'].max().reset_index().rename(columns={'time_diff': 'Max_Days_Without_Purchase'})\n",
    "\n",
    "#Min Days without Purchase\n",
    "min_days=temp_df.groupby('CUSTOMER_ID')['time_diff'].min().reset_index().rename(columns={'time_diff': 'Min_Days_Without_Purchase'})"
   ]
  },
  {
   "cell_type": "code",
   "execution_count": 167,
   "id": "b2c59dc7",
   "metadata": {},
   "outputs": [],
   "source": [
    "temp_df=RFM_table.merge(right=max_order_ts,how='inner',on='CUSTOMER_ID')\n",
    "temp_df=temp_df.merge(right=avg_time_diff,how='inner',on='CUSTOMER_ID')\n",
    "temp_df=temp_df.merge(right=max_days,how='inner',on='CUSTOMER_ID')\n",
    "temp_df=temp_df.merge(right=min_days,how='inner',on='CUSTOMER_ID')"
   ]
  },
  {
   "cell_type": "code",
   "execution_count": 168,
   "id": "9592cb2c",
   "metadata": {},
   "outputs": [
    {
     "data": {
      "text/html": [
       "<div>\n",
       "<style scoped>\n",
       "    .dataframe tbody tr th:only-of-type {\n",
       "        vertical-align: middle;\n",
       "    }\n",
       "\n",
       "    .dataframe tbody tr th {\n",
       "        vertical-align: top;\n",
       "    }\n",
       "\n",
       "    .dataframe thead th {\n",
       "        text-align: right;\n",
       "    }\n",
       "</style>\n",
       "<table border=\"1\" class=\"dataframe\">\n",
       "  <thead>\n",
       "    <tr style=\"text-align: right;\">\n",
       "      <th></th>\n",
       "      <th>CUSTOMER_ID</th>\n",
       "      <th>ORDER_TS</th>\n",
       "      <th>RECENCY</th>\n",
       "      <th>frequency</th>\n",
       "      <th>monetary</th>\n",
       "      <th>Max_Order_TS</th>\n",
       "      <th>AVG_TIME_DIFF</th>\n",
       "      <th>Max_Days_Without_Purchase</th>\n",
       "      <th>Min_Days_Without_Purchase</th>\n",
       "    </tr>\n",
       "  </thead>\n",
       "  <tbody>\n",
       "    <tr>\n",
       "      <th>0</th>\n",
       "      <td>43121</td>\n",
       "      <td>2022-10-01 18:46:22</td>\n",
       "      <td>31</td>\n",
       "      <td>51</td>\n",
       "      <td>2118.50</td>\n",
       "      <td>2022-10-12 09:43:00</td>\n",
       "      <td>17.740000</td>\n",
       "      <td>83.0</td>\n",
       "      <td>0.0</td>\n",
       "    </tr>\n",
       "    <tr>\n",
       "      <th>1</th>\n",
       "      <td>43266</td>\n",
       "      <td>2022-09-28 10:34:12</td>\n",
       "      <td>34</td>\n",
       "      <td>56</td>\n",
       "      <td>2279.50</td>\n",
       "      <td>2022-10-06 21:50:40</td>\n",
       "      <td>16.690909</td>\n",
       "      <td>70.0</td>\n",
       "      <td>1.0</td>\n",
       "    </tr>\n",
       "    <tr>\n",
       "      <th>2</th>\n",
       "      <td>43388</td>\n",
       "      <td>2022-09-22 21:59:43</td>\n",
       "      <td>40</td>\n",
       "      <td>53</td>\n",
       "      <td>2254.50</td>\n",
       "      <td>2022-10-19 09:58:47</td>\n",
       "      <td>16.961538</td>\n",
       "      <td>74.0</td>\n",
       "      <td>0.0</td>\n",
       "    </tr>\n",
       "    <tr>\n",
       "      <th>3</th>\n",
       "      <td>43391</td>\n",
       "      <td>2022-09-27 21:18:00</td>\n",
       "      <td>35</td>\n",
       "      <td>46</td>\n",
       "      <td>1710.25</td>\n",
       "      <td>2022-09-29 13:40:44</td>\n",
       "      <td>20.933333</td>\n",
       "      <td>95.0</td>\n",
       "      <td>1.0</td>\n",
       "    </tr>\n",
       "    <tr>\n",
       "      <th>4</th>\n",
       "      <td>43411</td>\n",
       "      <td>2022-09-18 21:46:43</td>\n",
       "      <td>44</td>\n",
       "      <td>53</td>\n",
       "      <td>2188.50</td>\n",
       "      <td>2022-10-07 20:26:21</td>\n",
       "      <td>18.346154</td>\n",
       "      <td>84.0</td>\n",
       "      <td>0.0</td>\n",
       "    </tr>\n",
       "    <tr>\n",
       "      <th>...</th>\n",
       "      <td>...</td>\n",
       "      <td>...</td>\n",
       "      <td>...</td>\n",
       "      <td>...</td>\n",
       "      <td>...</td>\n",
       "      <td>...</td>\n",
       "      <td>...</td>\n",
       "      <td>...</td>\n",
       "      <td>...</td>\n",
       "    </tr>\n",
       "    <tr>\n",
       "      <th>15212</th>\n",
       "      <td>199837</td>\n",
       "      <td>2022-10-05 12:23:38</td>\n",
       "      <td>27</td>\n",
       "      <td>54</td>\n",
       "      <td>2268.25</td>\n",
       "      <td>2022-10-10 13:11:15</td>\n",
       "      <td>15.094340</td>\n",
       "      <td>72.0</td>\n",
       "      <td>0.0</td>\n",
       "    </tr>\n",
       "    <tr>\n",
       "      <th>15213</th>\n",
       "      <td>199841</td>\n",
       "      <td>2022-10-06 11:01:33</td>\n",
       "      <td>26</td>\n",
       "      <td>46</td>\n",
       "      <td>1891.00</td>\n",
       "      <td>2022-10-16 11:31:29</td>\n",
       "      <td>17.711111</td>\n",
       "      <td>68.0</td>\n",
       "      <td>0.0</td>\n",
       "    </tr>\n",
       "    <tr>\n",
       "      <th>15214</th>\n",
       "      <td>199870</td>\n",
       "      <td>2022-10-07 20:26:20</td>\n",
       "      <td>25</td>\n",
       "      <td>55</td>\n",
       "      <td>2599.50</td>\n",
       "      <td>2022-10-20 12:14:04</td>\n",
       "      <td>14.685185</td>\n",
       "      <td>95.0</td>\n",
       "      <td>0.0</td>\n",
       "    </tr>\n",
       "    <tr>\n",
       "      <th>15215</th>\n",
       "      <td>199892</td>\n",
       "      <td>2022-09-20 22:55:02</td>\n",
       "      <td>41</td>\n",
       "      <td>51</td>\n",
       "      <td>2447.75</td>\n",
       "      <td>2022-10-22 15:18:31</td>\n",
       "      <td>15.540000</td>\n",
       "      <td>63.0</td>\n",
       "      <td>0.0</td>\n",
       "    </tr>\n",
       "    <tr>\n",
       "      <th>15216</th>\n",
       "      <td>199933</td>\n",
       "      <td>2022-10-02 21:49:52</td>\n",
       "      <td>30</td>\n",
       "      <td>50</td>\n",
       "      <td>1968.50</td>\n",
       "      <td>2022-10-06 10:17:37</td>\n",
       "      <td>14.816327</td>\n",
       "      <td>94.0</td>\n",
       "      <td>0.0</td>\n",
       "    </tr>\n",
       "  </tbody>\n",
       "</table>\n",
       "<p>15217 rows × 9 columns</p>\n",
       "</div>"
      ],
      "text/plain": [
       "       CUSTOMER_ID            ORDER_TS  RECENCY  frequency  monetary  \\\n",
       "0            43121 2022-10-01 18:46:22       31         51   2118.50   \n",
       "1            43266 2022-09-28 10:34:12       34         56   2279.50   \n",
       "2            43388 2022-09-22 21:59:43       40         53   2254.50   \n",
       "3            43391 2022-09-27 21:18:00       35         46   1710.25   \n",
       "4            43411 2022-09-18 21:46:43       44         53   2188.50   \n",
       "...            ...                 ...      ...        ...       ...   \n",
       "15212       199837 2022-10-05 12:23:38       27         54   2268.25   \n",
       "15213       199841 2022-10-06 11:01:33       26         46   1891.00   \n",
       "15214       199870 2022-10-07 20:26:20       25         55   2599.50   \n",
       "15215       199892 2022-09-20 22:55:02       41         51   2447.75   \n",
       "15216       199933 2022-10-02 21:49:52       30         50   1968.50   \n",
       "\n",
       "             Max_Order_TS  AVG_TIME_DIFF  Max_Days_Without_Purchase  \\\n",
       "0     2022-10-12 09:43:00      17.740000                       83.0   \n",
       "1     2022-10-06 21:50:40      16.690909                       70.0   \n",
       "2     2022-10-19 09:58:47      16.961538                       74.0   \n",
       "3     2022-09-29 13:40:44      20.933333                       95.0   \n",
       "4     2022-10-07 20:26:21      18.346154                       84.0   \n",
       "...                   ...            ...                        ...   \n",
       "15212 2022-10-10 13:11:15      15.094340                       72.0   \n",
       "15213 2022-10-16 11:31:29      17.711111                       68.0   \n",
       "15214 2022-10-20 12:14:04      14.685185                       95.0   \n",
       "15215 2022-10-22 15:18:31      15.540000                       63.0   \n",
       "15216 2022-10-06 10:17:37      14.816327                       94.0   \n",
       "\n",
       "       Min_Days_Without_Purchase  \n",
       "0                            0.0  \n",
       "1                            1.0  \n",
       "2                            0.0  \n",
       "3                            1.0  \n",
       "4                            0.0  \n",
       "...                          ...  \n",
       "15212                        0.0  \n",
       "15213                        0.0  \n",
       "15214                        0.0  \n",
       "15215                        0.0  \n",
       "15216                        0.0  \n",
       "\n",
       "[15217 rows x 9 columns]"
      ]
     },
     "execution_count": 168,
     "metadata": {},
     "output_type": "execute_result"
    }
   ],
   "source": [
    "temp_df"
   ]
  },
  {
   "cell_type": "code",
   "execution_count": 169,
   "id": "830b0942",
   "metadata": {},
   "outputs": [],
   "source": [
    "temp_df['Days_To_Next_Order']=(temp_df['Max_Order_TS']-temp_df['ORDER_TS']).dt.days"
   ]
  },
  {
   "cell_type": "code",
   "execution_count": 170,
   "id": "e995402c",
   "metadata": {},
   "outputs": [
    {
     "data": {
      "text/plain": [
       "count    15217.000000\n",
       "mean        13.051193\n",
       "std         12.504497\n",
       "min          0.000000\n",
       "25%          4.000000\n",
       "50%         10.000000\n",
       "75%         18.000000\n",
       "max        108.000000\n",
       "Name: Days_To_Next_Order, dtype: float64"
      ]
     },
     "execution_count": 170,
     "metadata": {},
     "output_type": "execute_result"
    }
   ],
   "source": [
    "temp_df['Days_To_Next_Order'].describe()"
   ]
  },
  {
   "cell_type": "code",
   "execution_count": 179,
   "id": "0b3485a0",
   "metadata": {},
   "outputs": [
    {
     "data": {
      "text/html": [
       "<div>\n",
       "<style scoped>\n",
       "    .dataframe tbody tr th:only-of-type {\n",
       "        vertical-align: middle;\n",
       "    }\n",
       "\n",
       "    .dataframe tbody tr th {\n",
       "        vertical-align: top;\n",
       "    }\n",
       "\n",
       "    .dataframe thead th {\n",
       "        text-align: right;\n",
       "    }\n",
       "</style>\n",
       "<table border=\"1\" class=\"dataframe\">\n",
       "  <thead>\n",
       "    <tr style=\"text-align: right;\">\n",
       "      <th></th>\n",
       "      <th>CUSTOMER_ID</th>\n",
       "      <th>RECENCY</th>\n",
       "      <th>frequency</th>\n",
       "      <th>monetary</th>\n",
       "      <th>AVG_TIME_DIFF</th>\n",
       "      <th>Max_Days_Without_Purchase</th>\n",
       "      <th>Min_Days_Without_Purchase</th>\n",
       "    </tr>\n",
       "  </thead>\n",
       "  <tbody>\n",
       "    <tr>\n",
       "      <th>13114</th>\n",
       "      <td>180216</td>\n",
       "      <td>55</td>\n",
       "      <td>41</td>\n",
       "      <td>1421.75</td>\n",
       "      <td>23.475000</td>\n",
       "      <td>102.0</td>\n",
       "      <td>1.0</td>\n",
       "    </tr>\n",
       "    <tr>\n",
       "      <th>3328</th>\n",
       "      <td>87631</td>\n",
       "      <td>16</td>\n",
       "      <td>57</td>\n",
       "      <td>2121.50</td>\n",
       "      <td>17.089286</td>\n",
       "      <td>115.0</td>\n",
       "      <td>1.0</td>\n",
       "    </tr>\n",
       "    <tr>\n",
       "      <th>8600</th>\n",
       "      <td>137583</td>\n",
       "      <td>11</td>\n",
       "      <td>47</td>\n",
       "      <td>1700.75</td>\n",
       "      <td>17.108696</td>\n",
       "      <td>91.0</td>\n",
       "      <td>0.0</td>\n",
       "    </tr>\n",
       "    <tr>\n",
       "      <th>14451</th>\n",
       "      <td>192928</td>\n",
       "      <td>1</td>\n",
       "      <td>52</td>\n",
       "      <td>1683.00</td>\n",
       "      <td>17.372549</td>\n",
       "      <td>64.0</td>\n",
       "      <td>0.0</td>\n",
       "    </tr>\n",
       "    <tr>\n",
       "      <th>4021</th>\n",
       "      <td>94413</td>\n",
       "      <td>25</td>\n",
       "      <td>64</td>\n",
       "      <td>2731.00</td>\n",
       "      <td>14.587302</td>\n",
       "      <td>118.0</td>\n",
       "      <td>0.0</td>\n",
       "    </tr>\n",
       "    <tr>\n",
       "      <th>...</th>\n",
       "      <td>...</td>\n",
       "      <td>...</td>\n",
       "      <td>...</td>\n",
       "      <td>...</td>\n",
       "      <td>...</td>\n",
       "      <td>...</td>\n",
       "      <td>...</td>\n",
       "    </tr>\n",
       "    <tr>\n",
       "      <th>6017</th>\n",
       "      <td>113475</td>\n",
       "      <td>22</td>\n",
       "      <td>49</td>\n",
       "      <td>1858.25</td>\n",
       "      <td>16.354167</td>\n",
       "      <td>78.0</td>\n",
       "      <td>0.0</td>\n",
       "    </tr>\n",
       "    <tr>\n",
       "      <th>709</th>\n",
       "      <td>56973</td>\n",
       "      <td>104</td>\n",
       "      <td>42</td>\n",
       "      <td>1511.00</td>\n",
       "      <td>21.292683</td>\n",
       "      <td>94.0</td>\n",
       "      <td>1.0</td>\n",
       "    </tr>\n",
       "    <tr>\n",
       "      <th>10679</th>\n",
       "      <td>157738</td>\n",
       "      <td>7</td>\n",
       "      <td>47</td>\n",
       "      <td>2064.50</td>\n",
       "      <td>20.500000</td>\n",
       "      <td>122.0</td>\n",
       "      <td>1.0</td>\n",
       "    </tr>\n",
       "    <tr>\n",
       "      <th>8366</th>\n",
       "      <td>135513</td>\n",
       "      <td>48</td>\n",
       "      <td>37</td>\n",
       "      <td>1756.50</td>\n",
       "      <td>17.861111</td>\n",
       "      <td>68.0</td>\n",
       "      <td>0.0</td>\n",
       "    </tr>\n",
       "    <tr>\n",
       "      <th>1146</th>\n",
       "      <td>65213</td>\n",
       "      <td>11</td>\n",
       "      <td>73</td>\n",
       "      <td>3412.50</td>\n",
       "      <td>13.638889</td>\n",
       "      <td>66.0</td>\n",
       "      <td>0.0</td>\n",
       "    </tr>\n",
       "  </tbody>\n",
       "</table>\n",
       "<p>10651 rows × 7 columns</p>\n",
       "</div>"
      ],
      "text/plain": [
       "       CUSTOMER_ID  RECENCY  frequency  monetary  AVG_TIME_DIFF  \\\n",
       "13114       180216       55         41   1421.75      23.475000   \n",
       "3328         87631       16         57   2121.50      17.089286   \n",
       "8600        137583       11         47   1700.75      17.108696   \n",
       "14451       192928        1         52   1683.00      17.372549   \n",
       "4021         94413       25         64   2731.00      14.587302   \n",
       "...            ...      ...        ...       ...            ...   \n",
       "6017        113475       22         49   1858.25      16.354167   \n",
       "709          56973      104         42   1511.00      21.292683   \n",
       "10679       157738        7         47   2064.50      20.500000   \n",
       "8366        135513       48         37   1756.50      17.861111   \n",
       "1146         65213       11         73   3412.50      13.638889   \n",
       "\n",
       "       Max_Days_Without_Purchase  Min_Days_Without_Purchase  \n",
       "13114                      102.0                        1.0  \n",
       "3328                       115.0                        1.0  \n",
       "8600                        91.0                        0.0  \n",
       "14451                       64.0                        0.0  \n",
       "4021                       118.0                        0.0  \n",
       "...                          ...                        ...  \n",
       "6017                        78.0                        0.0  \n",
       "709                         94.0                        1.0  \n",
       "10679                      122.0                        1.0  \n",
       "8366                        68.0                        0.0  \n",
       "1146                        66.0                        0.0  \n",
       "\n",
       "[10651 rows x 7 columns]"
      ]
     },
     "execution_count": 179,
     "metadata": {},
     "output_type": "execute_result"
    }
   ],
   "source": [
    "X_train"
   ]
  },
  {
   "cell_type": "code",
   "execution_count": 175,
   "id": "7f67fcce",
   "metadata": {},
   "outputs": [],
   "source": [
    "temp_df['NextPurchaseDayRange'] = 1\n",
    "temp_df.loc[temp_df['Days_To_Next_Order']<=14,'NextPurchaseDayRange'] = 0\n"
   ]
  },
  {
   "cell_type": "code",
   "execution_count": 176,
   "id": "27662754",
   "metadata": {},
   "outputs": [],
   "source": [
    "# Define Model Inputs (X) and Output (y)\n",
    "X = temp_df.drop(['Days_To_Next_Order','NextPurchaseDayRange','Max_Order_TS','ORDER_TS'], axis =1)\n",
    "y = temp_df[\"NextPurchaseDayRange\"]\n",
    "\n",
    "# Split both Inputs (X) and Ouput (y) into training set (70%) and testing set (30%)\n",
    "X_train, X_test, y_train, y_test = train_test_split(X, y, test_size=0.3, random_state=4)"
   ]
  },
  {
   "cell_type": "code",
   "execution_count": 177,
   "id": "cafdf029",
   "metadata": {},
   "outputs": [
    {
     "data": {
      "text/html": [
       "<style>#sk-container-id-3 {color: black;background-color: white;}#sk-container-id-3 pre{padding: 0;}#sk-container-id-3 div.sk-toggleable {background-color: white;}#sk-container-id-3 label.sk-toggleable__label {cursor: pointer;display: block;width: 100%;margin-bottom: 0;padding: 0.3em;box-sizing: border-box;text-align: center;}#sk-container-id-3 label.sk-toggleable__label-arrow:before {content: \"▸\";float: left;margin-right: 0.25em;color: #696969;}#sk-container-id-3 label.sk-toggleable__label-arrow:hover:before {color: black;}#sk-container-id-3 div.sk-estimator:hover label.sk-toggleable__label-arrow:before {color: black;}#sk-container-id-3 div.sk-toggleable__content {max-height: 0;max-width: 0;overflow: hidden;text-align: left;background-color: #f0f8ff;}#sk-container-id-3 div.sk-toggleable__content pre {margin: 0.2em;color: black;border-radius: 0.25em;background-color: #f0f8ff;}#sk-container-id-3 input.sk-toggleable__control:checked~div.sk-toggleable__content {max-height: 200px;max-width: 100%;overflow: auto;}#sk-container-id-3 input.sk-toggleable__control:checked~label.sk-toggleable__label-arrow:before {content: \"▾\";}#sk-container-id-3 div.sk-estimator input.sk-toggleable__control:checked~label.sk-toggleable__label {background-color: #d4ebff;}#sk-container-id-3 div.sk-label input.sk-toggleable__control:checked~label.sk-toggleable__label {background-color: #d4ebff;}#sk-container-id-3 input.sk-hidden--visually {border: 0;clip: rect(1px 1px 1px 1px);clip: rect(1px, 1px, 1px, 1px);height: 1px;margin: -1px;overflow: hidden;padding: 0;position: absolute;width: 1px;}#sk-container-id-3 div.sk-estimator {font-family: monospace;background-color: #f0f8ff;border: 1px dotted black;border-radius: 0.25em;box-sizing: border-box;margin-bottom: 0.5em;}#sk-container-id-3 div.sk-estimator:hover {background-color: #d4ebff;}#sk-container-id-3 div.sk-parallel-item::after {content: \"\";width: 100%;border-bottom: 1px solid gray;flex-grow: 1;}#sk-container-id-3 div.sk-label:hover label.sk-toggleable__label {background-color: #d4ebff;}#sk-container-id-3 div.sk-serial::before {content: \"\";position: absolute;border-left: 1px solid gray;box-sizing: border-box;top: 0;bottom: 0;left: 50%;z-index: 0;}#sk-container-id-3 div.sk-serial {display: flex;flex-direction: column;align-items: center;background-color: white;padding-right: 0.2em;padding-left: 0.2em;position: relative;}#sk-container-id-3 div.sk-item {position: relative;z-index: 1;}#sk-container-id-3 div.sk-parallel {display: flex;align-items: stretch;justify-content: center;background-color: white;position: relative;}#sk-container-id-3 div.sk-item::before, #sk-container-id-3 div.sk-parallel-item::before {content: \"\";position: absolute;border-left: 1px solid gray;box-sizing: border-box;top: 0;bottom: 0;left: 50%;z-index: -1;}#sk-container-id-3 div.sk-parallel-item {display: flex;flex-direction: column;z-index: 1;position: relative;background-color: white;}#sk-container-id-3 div.sk-parallel-item:first-child::after {align-self: flex-end;width: 50%;}#sk-container-id-3 div.sk-parallel-item:last-child::after {align-self: flex-start;width: 50%;}#sk-container-id-3 div.sk-parallel-item:only-child::after {width: 0;}#sk-container-id-3 div.sk-dashed-wrapped {border: 1px dashed gray;margin: 0 0.4em 0.5em 0.4em;box-sizing: border-box;padding-bottom: 0.4em;background-color: white;}#sk-container-id-3 div.sk-label label {font-family: monospace;font-weight: bold;display: inline-block;line-height: 1.2em;}#sk-container-id-3 div.sk-label-container {text-align: center;}#sk-container-id-3 div.sk-container {/* jupyter's `normalize.less` sets `[hidden] { display: none; }` but bootstrap.min.css set `[hidden] { display: none !important; }` so we also need the `!important` here to be able to override the default hidden behavior on the sphinx rendered scikit-learn.org. See: https://github.com/scikit-learn/scikit-learn/issues/21755 */display: inline-block !important;position: relative;}#sk-container-id-3 div.sk-text-repr-fallback {display: none;}</style><div id=\"sk-container-id-3\" class=\"sk-top-container\"><div class=\"sk-text-repr-fallback\"><pre>XGBClassifier(base_score=None, booster=None, callbacks=None,\n",
       "              colsample_bylevel=None, colsample_bynode=None,\n",
       "              colsample_bytree=None, early_stopping_rounds=None,\n",
       "              enable_categorical=False, eval_metric=&#x27;logloss&#x27;,\n",
       "              feature_types=None, gamma=None, gpu_id=None, grow_policy=None,\n",
       "              importance_type=None, interaction_constraints=None,\n",
       "              learning_rate=0.1, max_bin=None, max_cat_threshold=None,\n",
       "              max_cat_to_onehot=None, max_delta_step=None, max_depth=None,\n",
       "              max_leaves=None, min_child_weight=None, missing=nan,\n",
       "              monotone_constraints=None, n_estimators=20, n_jobs=None,\n",
       "              num_parallel_tree=None, predictor=None, random_state=None, ...)</pre><b>In a Jupyter environment, please rerun this cell to show the HTML representation or trust the notebook. <br />On GitHub, the HTML representation is unable to render, please try loading this page with nbviewer.org.</b></div><div class=\"sk-container\" hidden><div class=\"sk-item\"><div class=\"sk-estimator sk-toggleable\"><input class=\"sk-toggleable__control sk-hidden--visually\" id=\"sk-estimator-id-3\" type=\"checkbox\" checked><label for=\"sk-estimator-id-3\" class=\"sk-toggleable__label sk-toggleable__label-arrow\">XGBClassifier</label><div class=\"sk-toggleable__content\"><pre>XGBClassifier(base_score=None, booster=None, callbacks=None,\n",
       "              colsample_bylevel=None, colsample_bynode=None,\n",
       "              colsample_bytree=None, early_stopping_rounds=None,\n",
       "              enable_categorical=False, eval_metric=&#x27;logloss&#x27;,\n",
       "              feature_types=None, gamma=None, gpu_id=None, grow_policy=None,\n",
       "              importance_type=None, interaction_constraints=None,\n",
       "              learning_rate=0.1, max_bin=None, max_cat_threshold=None,\n",
       "              max_cat_to_onehot=None, max_delta_step=None, max_depth=None,\n",
       "              max_leaves=None, min_child_weight=None, missing=nan,\n",
       "              monotone_constraints=None, n_estimators=20, n_jobs=None,\n",
       "              num_parallel_tree=None, predictor=None, random_state=None, ...)</pre></div></div></div></div></div>"
      ],
      "text/plain": [
       "XGBClassifier(base_score=None, booster=None, callbacks=None,\n",
       "              colsample_bylevel=None, colsample_bynode=None,\n",
       "              colsample_bytree=None, early_stopping_rounds=None,\n",
       "              enable_categorical=False, eval_metric='logloss',\n",
       "              feature_types=None, gamma=None, gpu_id=None, grow_policy=None,\n",
       "              importance_type=None, interaction_constraints=None,\n",
       "              learning_rate=0.1, max_bin=None, max_cat_threshold=None,\n",
       "              max_cat_to_onehot=None, max_delta_step=None, max_depth=None,\n",
       "              max_leaves=None, min_child_weight=None, missing=nan,\n",
       "              monotone_constraints=None, n_estimators=20, n_jobs=None,\n",
       "              num_parallel_tree=None, predictor=None, random_state=None, ...)"
      ]
     },
     "execution_count": 177,
     "metadata": {},
     "output_type": "execute_result"
    }
   ],
   "source": [
    "#Build XGBoost Model\n",
    "xgb = XGBClassifier(n_estimators = 20, learning_rate = 0.1, eval_metric='logloss')\n",
    "xgb.fit(X_train, y_train)"
   ]
  },
  {
   "cell_type": "code",
   "execution_count": 146,
   "id": "8234af79",
   "metadata": {},
   "outputs": [],
   "source": [
    "#Function to show MSE, MAE, r-sq of Classification models\n",
    "def evaluateClassificationModelPerformance(model):\n",
    "    #Accuracy\n",
    "    print('Train Accuracy:',model.score(X_train, y_train),\n",
    "          '\\nTest Accuracy:',model.score(X_test, y_test))"
   ]
  },
  {
   "cell_type": "code",
   "execution_count": 178,
   "id": "923571b8",
   "metadata": {},
   "outputs": [
    {
     "name": "stdout",
     "output_type": "stream",
     "text": [
      "Train Accuracy: 0.7796451037461272 \n",
      "Test Accuracy: 0.7433201927288655\n"
     ]
    }
   ],
   "source": [
    "#Evaluate XGBoost Model\n",
    "evaluateClassificationModelPerformance(xgb)"
   ]
  },
  {
   "cell_type": "code",
   "execution_count": null,
   "id": "f189c9b7",
   "metadata": {},
   "outputs": [],
   "source": [
    "Train Accuracy: 0.5550652520890057 \n",
    "Test Accuracy: 0.5162067455102934\n",
    "\n",
    "Train Accuracy: 0.5673645667073515 \n",
    "Test Accuracy: 0.5127025843188787"
   ]
  },
  {
   "cell_type": "code",
   "execution_count": 148,
   "id": "efe59d39",
   "metadata": {},
   "outputs": [
    {
     "data": {
      "text/html": [
       "<div>\n",
       "<style scoped>\n",
       "    .dataframe tbody tr th:only-of-type {\n",
       "        vertical-align: middle;\n",
       "    }\n",
       "\n",
       "    .dataframe tbody tr th {\n",
       "        vertical-align: top;\n",
       "    }\n",
       "\n",
       "    .dataframe thead th {\n",
       "        text-align: right;\n",
       "    }\n",
       "</style>\n",
       "<table border=\"1\" class=\"dataframe\">\n",
       "  <thead>\n",
       "    <tr style=\"text-align: right;\">\n",
       "      <th></th>\n",
       "      <th>is_promoted</th>\n",
       "    </tr>\n",
       "  </thead>\n",
       "  <tbody>\n",
       "    <tr>\n",
       "      <th>RECENCY</th>\n",
       "      <td>0.904882</td>\n",
       "    </tr>\n",
       "    <tr>\n",
       "      <th>CUSTOMER_ID</th>\n",
       "      <td>0.033462</td>\n",
       "    </tr>\n",
       "    <tr>\n",
       "      <th>monetary</th>\n",
       "      <td>0.032506</td>\n",
       "    </tr>\n",
       "    <tr>\n",
       "      <th>frequency</th>\n",
       "      <td>0.029150</td>\n",
       "    </tr>\n",
       "  </tbody>\n",
       "</table>\n",
       "</div>"
      ],
      "text/plain": [
       "             is_promoted\n",
       "RECENCY         0.904882\n",
       "CUSTOMER_ID     0.033462\n",
       "monetary        0.032506\n",
       "frequency       0.029150"
      ]
     },
     "execution_count": 148,
     "metadata": {},
     "output_type": "execute_result"
    }
   ],
   "source": [
    "#Check top 10 features based on feature importance\n",
    "ft_weights_xgb_clf = pd.DataFrame(xgb.feature_importances_, columns=['is_promoted'], index=X_train.columns)\n",
    "ft_weights_xgb_clf.sort_values('is_promoted', ascending=False, inplace=True)\n",
    "ft_weights_xgb_clf.tail(100)"
   ]
  },
  {
   "cell_type": "code",
   "execution_count": null,
   "id": "5db70377",
   "metadata": {},
   "outputs": [],
   "source": []
  }
 ],
 "metadata": {
  "kernelspec": {
   "display_name": "py38_env",
   "language": "python",
   "name": "python3"
  },
  "language_info": {
   "codemirror_mode": {
    "name": "ipython",
    "version": 3
   },
   "file_extension": ".py",
   "mimetype": "text/x-python",
   "name": "python",
   "nbconvert_exporter": "python",
   "pygments_lexer": "ipython3",
   "version": "3.8.16"
  }
 },
 "nbformat": 4,
 "nbformat_minor": 5
}
