{
 "cells": [
  {
   "attachments": {},
   "cell_type": "markdown",
   "id": "eaeb5653",
   "metadata": {},
   "source": [
    "![download.png](download.png)\n"
   ]
  },
  {
   "attachments": {},
   "cell_type": "markdown",
   "id": "9f8d1940",
   "metadata": {},
   "source": [
    "## Import Packages"
   ]
  },
  {
   "cell_type": "code",
   "execution_count": 4,
   "id": "2b76a42a",
   "metadata": {},
   "outputs": [],
   "source": [
    "#Import Python packages\n",
    "import pandas as pd\n",
    "import plotly.express as px\n",
    "import json\n",
    "import sys\n",
    "import cachetools\n",
    "import matplotlib.pyplot as plt\n",
    "import seaborn as sns\n",
    "import datetime as dt\n",
    "import numpy as np\n",
    "import json\n",
    "\n",
    "# Import Snowflake modules\n",
    "from snowflake.snowpark import Session\n",
    "import snowflake.snowpark.functions as F\n",
    "import snowflake.snowpark.types as T\n",
    "from snowflake.snowpark import Window"
   ]
  },
  {
   "attachments": {},
   "cell_type": "markdown",
   "id": "c689510f",
   "metadata": {},
   "source": [
    "## Connect to Snowflake"
   ]
  },
  {
   "cell_type": "code",
   "execution_count": 14,
   "id": "9140d4bb",
   "metadata": {},
   "outputs": [],
   "source": [
    "# Get account credentials from a json file\n",
    "with open(\"data_scientist_auth.json\") as f:\n",
    "    data = json.load(f)\n",
    "    username = data[\"username\"]\n",
    "    password = data[\"password\"]\n",
    "    account = data[\"account\"]\n",
    "\n",
    "# Specify connection parameters\n",
    "connection_parameters = {\n",
    "    \"account\": account,\n",
    "    \"user\": username,\n",
    "    \"password\": password,\n",
    "    \"role\": \"tasty_data_scientist\",\n",
    "    \"warehouse\": \"tasty_ds_wh\",\n",
    "    \"database\": \"frostbyte_tasty_bytes\",\n",
    "    \"schema\": \"analytics\",\n",
    "}\n",
    "\n",
    "# Create Snowpark session\n",
    "session = Session.builder.configs(connection_parameters).create()"
   ]
  },
  {
   "attachments": {},
   "cell_type": "markdown",
   "id": "c3d02814",
   "metadata": {},
   "source": [
    "## Gathering Data as Snowpark DataFrame"
   ]
  },
  {
   "cell_type": "code",
   "execution_count": 15,
   "id": "9f5810e2",
   "metadata": {},
   "outputs": [],
   "source": [
    "#Orders_V\n",
    "tasty_bytes_orders_v = session.table(\"frostbyte_tasty_bytes.analytics.orders_v\")\n",
    "#Customer Loyalty\n",
    "tasty_bytes_customer_loyalty = session.table(\"frostbyte_tasty_bytes.raw_customer.customer_loyalty\")"
   ]
  },
  {
   "attachments": {},
   "cell_type": "markdown",
   "id": "461b0173",
   "metadata": {},
   "source": [
    "## Preview The Data"
   ]
  },
  {
   "cell_type": "code",
   "execution_count": 18,
   "id": "69e310ef",
   "metadata": {},
   "outputs": [
    {
     "name": "stdout",
     "output_type": "stream",
     "text": [
      "-------------------------------------------------------------------------------------------------------------------------------------------------------------------------------------------------------------------------------------------------------------------------------------------------------------------------------------------------------------------------------------------------------------------------------------------------------------------------------------------------------------------------------------------------------------------------------------------------\n",
      "|\"DATE\"      |\"ORDER_ID\"  |\"TRUCK_ID\"  |\"ORDER_TS\"           |\"ORDER_DETAIL_ID\"  |\"LINE_NUMBER\"  |\"TRUCK_BRAND_NAME\"  |\"MENU_TYPE\"  |\"PRIMARY_CITY\"  |\"REGION\"                 |\"COUNTRY\"  |\"FRANCHISE_FLAG\"  |\"FRANCHISE_ID\"  |\"FRANCHISEE_FIRST_NAME\"  |\"FRANCHISEE_LAST_NAME\"  |\"LOCATION_ID\"  |\"CUSTOMER_ID\"  |\"FIRST_NAME\"  |\"LAST_NAME\"  |\"E_MAIL\"  |\"PHONE_NUMBER\"  |\"CHILDREN_COUNT\"  |\"GENDER\"  |\"MARITAL_STATUS\"  |\"MENU_ITEM_ID\"  |\"MENU_ITEM_NAME\"            |\"QUANTITY\"  |\"UNIT_PRICE\"  |\"PRICE\"  |\"ORDER_AMOUNT\"  |\"ORDER_TAX_AMOUNT\"  |\"ORDER_DISCOUNT_AMOUNT\"  |\"ORDER_TOTAL\"  |\n",
      "-------------------------------------------------------------------------------------------------------------------------------------------------------------------------------------------------------------------------------------------------------------------------------------------------------------------------------------------------------------------------------------------------------------------------------------------------------------------------------------------------------------------------------------------------------------------------------------------------\n",
      "|2022-10-02  |67233239    |200         |2022-10-02 13:12:43  |181474383          |2              |Kitakata Ramen Bar  |Ramen        |Krakow          |Małopolskie województwo  |Poland     |1                 |146             |Sheri                    |Bryant                  |12392          |NULL           |NULL          |NULL         |NULL      |NULL            |NULL              |NULL      |NULL              |53              |Tonkotsu Ramen              |1           |17.2500       |17.2500  |112.5000        |NULL                |NULL                     |112.5000       |\n",
      "|2022-10-02  |67233239    |200         |2022-10-02 13:12:43  |181474382          |1              |Kitakata Ramen Bar  |Ramen        |Krakow          |Małopolskie województwo  |Poland     |1                 |146             |Sheri                    |Bryant                  |12392          |NULL           |NULL          |NULL         |NULL      |NULL            |NULL              |NULL      |NULL              |52              |Spicy Miso Vegetable Ramen  |4           |17.2500       |69.0000  |112.5000        |NULL                |NULL                     |112.5000       |\n",
      "|2022-10-02  |67233239    |200         |2022-10-02 13:12:43  |181474381          |0              |Kitakata Ramen Bar  |Ramen        |Krakow          |Małopolskie województwo  |Poland     |1                 |146             |Sheri                    |Bryant                  |12392          |NULL           |NULL          |NULL         |NULL      |NULL            |NULL              |NULL      |NULL              |51              |Creamy Chicken Ramen        |1           |17.2500       |17.2500  |112.5000        |NULL                |NULL                     |112.5000       |\n",
      "|2022-10-02  |67233239    |200         |2022-10-02 13:12:43  |181474384          |3              |Kitakata Ramen Bar  |Ramen        |Krakow          |Małopolskie województwo  |Poland     |1                 |146             |Sheri                    |Bryant                  |12392          |NULL           |NULL          |NULL         |NULL      |NULL            |NULL              |NULL      |NULL              |54              |Bottled Water               |3           |2.0000        |6.0000   |112.5000        |NULL                |NULL                     |112.5000       |\n",
      "|2022-10-02  |67233239    |200         |2022-10-02 13:12:43  |181474385          |4              |Kitakata Ramen Bar  |Ramen        |Krakow          |Małopolskie województwo  |Poland     |1                 |146             |Sheri                    |Bryant                  |12392          |NULL           |NULL          |NULL         |NULL      |NULL            |NULL              |NULL      |NULL              |56              |Ice Tea                     |1           |3.0000        |3.0000   |112.5000        |NULL                |NULL                     |112.5000       |\n",
      "|2022-10-02  |67233243    |200         |2022-10-02 13:25:42  |181474394          |0              |Kitakata Ramen Bar  |Ramen        |Krakow          |Małopolskie województwo  |Poland     |1                 |146             |Sheri                    |Bryant                  |12392          |NULL           |NULL          |NULL         |NULL      |NULL            |NULL              |NULL      |NULL              |53              |Tonkotsu Ramen              |2           |17.2500       |34.5000  |34.5000         |NULL                |NULL                     |34.5000        |\n",
      "|2022-10-02  |67233301    |200         |2022-10-02 17:09:16  |181474539          |0              |Kitakata Ramen Bar  |Ramen        |Krakow          |Małopolskie województwo  |Poland     |1                 |146             |Sheri                    |Bryant                  |10162          |NULL           |NULL          |NULL         |NULL      |NULL            |NULL              |NULL      |NULL              |56              |Ice Tea                     |2           |3.0000        |6.0000   |95.2500         |NULL                |NULL                     |95.2500        |\n",
      "|2022-10-02  |67233301    |200         |2022-10-02 17:09:16  |181474540          |1              |Kitakata Ramen Bar  |Ramen        |Krakow          |Małopolskie województwo  |Poland     |1                 |146             |Sheri                    |Bryant                  |10162          |NULL           |NULL          |NULL         |NULL      |NULL            |NULL              |NULL      |NULL              |51              |Creamy Chicken Ramen        |4           |17.2500       |69.0000  |95.2500         |NULL                |NULL                     |95.2500        |\n",
      "|2022-10-02  |67233301    |200         |2022-10-02 17:09:16  |181474541          |2              |Kitakata Ramen Bar  |Ramen        |Krakow          |Małopolskie województwo  |Poland     |1                 |146             |Sheri                    |Bryant                  |10162          |NULL           |NULL          |NULL         |NULL      |NULL            |NULL              |NULL      |NULL              |53              |Tonkotsu Ramen              |1           |17.2500       |17.2500  |95.2500         |NULL                |NULL                     |95.2500        |\n",
      "|2022-10-02  |67233301    |200         |2022-10-02 17:09:16  |181474542          |3              |Kitakata Ramen Bar  |Ramen        |Krakow          |Małopolskie województwo  |Poland     |1                 |146             |Sheri                    |Bryant                  |10162          |NULL           |NULL          |NULL         |NULL      |NULL            |NULL              |NULL      |NULL              |55              |Bottled Soda                |1           |3.0000        |3.0000   |95.2500         |NULL                |NULL                     |95.2500        |\n",
      "-------------------------------------------------------------------------------------------------------------------------------------------------------------------------------------------------------------------------------------------------------------------------------------------------------------------------------------------------------------------------------------------------------------------------------------------------------------------------------------------------------------------------------------------------------------------------------------------------\n",
      "\n"
     ]
    }
   ],
   "source": [
    "tasty_bytes_orders_v.show()"
   ]
  },
  {
   "cell_type": "code",
   "execution_count": 19,
   "id": "4692e490",
   "metadata": {},
   "outputs": [
    {
     "name": "stdout",
     "output_type": "stream",
     "text": [
      "-------------------------------------------------------------------------------------------------------------------------------------------------------------------------------------------------------------------------------------------------------------------------\n",
      "|\"CUSTOMER_ID\"  |\"FIRST_NAME\"  |\"LAST_NAME\"  |\"CITY\"          |\"COUNTRY\"  |\"POSTAL_CODE\"  |\"PREFERRED_LANGUAGE\"  |\"GENDER\"     |\"FAVOURITE_BRAND\"  |\"MARITAL_STATUS\"  |\"CHILDREN_COUNT\"  |\"SIGN_UP_DATE\"  |\"BIRTHDAY_DATE\"  |\"E_MAIL\"                  |\"PHONE_NUMBER\"  |\n",
      "-------------------------------------------------------------------------------------------------------------------------------------------------------------------------------------------------------------------------------------------------------------------------\n",
      "|1              |Rodolfo       |Tucker       |Hamburg         |Germany    |21129          |German                |Female       |NULL               |Single            |0                 |2019-02-19      |1953-12-01       |Rodolfo.Tucker@ymail.com  |007-506-6068    |\n",
      "|2              |Karla         |Mullen       |Rio de Janeiro  |Brazil     |22753-000      |Portuguese            |Male         |NULL               |Single            |0                 |2019-10-07      |1973-09-21       |Karla.Mullen@hotmail.com  |431-122-6142    |\n",
      "|3              |Cortez        |Douglas      |Krakow          |Poland     |31-5           |Polish                |Female       |NULL               |Married           |2                 |2020-09-11      |2000-09-04       |Cortez.Douglas@gmail.com  |157-518-3848    |\n",
      "|4              |Janiya        |Pope         |Krakow          |Poland     |31-5           |Polish                |Female       |NULL               |Single            |1                 |2021-09-09      |1950-03-05       |Janiya.Pope@ymail.com     |872-718-6879    |\n",
      "|5              |Zaiden        |Knapp        |Barcelona       |Spain      |08013          |English               |Female       |NULL               |Married           |1                 |2022-06-17      |1978-10-29       |Zaiden.Knapp@hotmail.com  |545-152-4832    |\n",
      "|6              |Micah         |Beard        |Hamburg         |Germany    |21129          |German                |Male         |NULL               |Single            |0                 |2021-06-02      |1969-08-17       |Micah.Beard@aol.com       |535-753-3461    |\n",
      "|7              |Ricardo       |Byrd         |Barcelona       |Spain      |08013          |English               |Male         |NULL               |Undisclosed       |Undisclosed       |2020-09-29      |1961-12-23       |Ricardo.Byrd@aol.com      |138-082-1391    |\n",
      "|8              |Marie         |Boyer        |Hamburg         |Germany    |21129          |German                |Female       |NULL               |Single            |0                 |2021-04-08      |1960-07-12       |Marie.Boyer@aol.com       |587-006-4451    |\n",
      "|9              |Josie         |Glass        |Stockholm       |Sweden     |6206           |Swedish               |Male         |NULL               |Single            |0                 |2020-10-30      |1970-09-11       |Josie.Glass@hotmail.com   |023-863-4028    |\n",
      "|10             |Korbin        |Ward         |Cairo           |Egypt      |00000          |Arabic                |Undisclosed  |NULL               |Single            |0                 |2020-06-04      |1989-05-27       |Korbin.Ward@gmail.com     |049-196-8102    |\n",
      "-------------------------------------------------------------------------------------------------------------------------------------------------------------------------------------------------------------------------------------------------------------------------\n",
      "\n"
     ]
    }
   ],
   "source": [
    "tasty_bytes_customer_loyalty.show()"
   ]
  },
  {
   "attachments": {},
   "cell_type": "markdown",
   "id": "feae8662",
   "metadata": {},
   "source": [
    "## Data Exploration"
   ]
  },
  {
   "cell_type": "code",
   "execution_count": null,
   "id": "853277e9",
   "metadata": {},
   "outputs": [],
   "source": []
  }
 ],
 "metadata": {
  "kernelspec": {
   "display_name": "py38_env",
   "language": "python",
   "name": "python3"
  },
  "language_info": {
   "codemirror_mode": {
    "name": "ipython",
    "version": 3
   },
   "file_extension": ".py",
   "mimetype": "text/x-python",
   "name": "python",
   "nbconvert_exporter": "python",
   "pygments_lexer": "ipython3",
   "version": "3.8.16"
  }
 },
 "nbformat": 4,
 "nbformat_minor": 5
}
