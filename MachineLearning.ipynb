{
 "cells": [
  {
   "attachments": {},
   "cell_type": "markdown",
   "id": "eaeb5653",
   "metadata": {},
   "source": [
    "![download.png](download.png)\n"
   ]
  },
  {
   "attachments": {},
   "cell_type": "markdown",
   "id": "9f8d1940",
   "metadata": {},
   "source": [
    "# 0. Import Packages"
   ]
  },
  {
   "cell_type": "code",
   "execution_count": 56,
   "id": "2b76a42a",
   "metadata": {},
   "outputs": [],
   "source": [
    "#Import Python packages\n",
    "import pandas as pd\n",
    "import plotly.express as px\n",
    "import json\n",
    "import sys\n",
    "import cachetools\n",
    "import matplotlib.pyplot as plt\n",
    "import seaborn as sns\n",
    "import datetime as dt\n",
    "import numpy as np\n",
    "import json\n",
    "import datetime\n",
    "\n",
    "# for splitting of the dataset\n",
    "from sklearn.model_selection import train_test_split\n",
    "from sklearn.model_selection import cross_validate\n",
    "\n",
    "# for encoding/transforming the data\n",
    "from feature_engine.encoding import OneHotEncoder\n",
    "\n",
    "from xgboost import XGBRegressor\n",
    "\n",
    "# for getting metrics\n",
    "from sklearn.metrics import mean_squared_error, r2_score, accuracy_score\n",
    "\n",
    "# model selection\n",
    "from sklearn.model_selection import GridSearchCV\n",
    "\n",
    "# Import Snowflake modules\n",
    "from snowflake.snowpark import Session\n",
    "import snowflake.snowpark.functions as F\n",
    "import snowflake.snowpark.types as T\n",
    "from snowflake.snowpark import Window"
   ]
  },
  {
   "attachments": {},
   "cell_type": "markdown",
   "id": "dd00ab0f",
   "metadata": {},
   "source": [
    "# 1. Load and Explore the data"
   ]
  },
  {
   "attachments": {},
   "cell_type": "markdown",
   "id": "c689510f",
   "metadata": {},
   "source": [
    "## 1.1 Connect to Snowflake"
   ]
  },
  {
   "cell_type": "code",
   "execution_count": 57,
   "id": "9140d4bb",
   "metadata": {},
   "outputs": [],
   "source": [
    "# Get account credentials from a json file\n",
    "with open(\"data_scientist_auth.json\") as f:\n",
    "    data = json.load(f)\n",
    "    username = data[\"username\"]\n",
    "    password = data[\"password\"]\n",
    "    account = data[\"account\"]\n",
    "\n",
    "# Specify connection parameters\n",
    "connection_parameters = {\n",
    "    \"account\": account,\n",
    "    \"user\": username,\n",
    "    \"password\": password,\n",
    "    \"role\": \"tasty_data_scientist\",\n",
    "    \"warehouse\": \"tasty_ds_wh\",\n",
    "    \"database\": \"frostbyte_tasty_bytes\",\n",
    "    \"schema\": \"analytics\",\n",
    "}\n",
    "\n",
    "# Create Snowpark session\n",
    "session = Session.builder.configs(connection_parameters).create()"
   ]
  },
  {
   "attachments": {},
   "cell_type": "markdown",
   "id": "c3d02814",
   "metadata": {},
   "source": [
    "## 1.2 Gathering Data as Snowpark DataFrame"
   ]
  },
  {
   "cell_type": "code",
   "execution_count": 58,
   "id": "9f5810e2",
   "metadata": {},
   "outputs": [],
   "source": [
    "#Orders_V\n",
    "tasty_bytes_orders_v = session.table(\"frostbyte_tasty_bytes.analytics.orders_v\")\n",
    "#Customer Loyalty\n",
    "tasty_bytes_customer_loyalty = session.table(\"frostbyte_tasty_bytes.raw_customer.customer_loyalty\")"
   ]
  },
  {
   "attachments": {},
   "cell_type": "markdown",
   "id": "461b0173",
   "metadata": {},
   "source": [
    "## 1.3 Preview The Data"
   ]
  },
  {
   "cell_type": "code",
   "execution_count": 59,
   "id": "69e310ef",
   "metadata": {},
   "outputs": [
    {
     "name": "stdout",
     "output_type": "stream",
     "text": [
      "------------------------------------------------------------------------------------------------------------------------------------------------------------------------------------------------------------------------------------------------------------------------------------------------------------------------------------------------------------------------------------------------------------------------------------------------------------------------------------------------------------------------------------------------------------------------------------------------------------------------------------------------------------------------------------------\n",
      "|\"DATE\"      |\"ORDER_ID\"  |\"TRUCK_ID\"  |\"ORDER_TS\"           |\"ORDER_DETAIL_ID\"  |\"LINE_NUMBER\"  |\"TRUCK_BRAND_NAME\"  |\"MENU_TYPE\"  |\"PRIMARY_CITY\"  |\"REGION\"           |\"COUNTRY\"  |\"FRANCHISE_FLAG\"  |\"FRANCHISE_ID\"  |\"FRANCHISEE_FIRST_NAME\"  |\"FRANCHISEE_LAST_NAME\"  |\"LOCATION_ID\"  |\"PLACEKEY\"           |\"LOCATION_NAME\"  |\"TOP_CATEGORY\"  |\"SUB_CATEGORY\"  |\"LATITUDE\"  |\"LONGITUDE\"  |\"CUSTOMER_ID\"  |\"FIRST_NAME\"  |\"LAST_NAME\"  |\"E_MAIL\"  |\"PHONE_NUMBER\"  |\"CHILDREN_COUNT\"  |\"GENDER\"  |\"MARITAL_STATUS\"  |\"MENU_ITEM_ID\"  |\"MENU_ITEM_NAME\"      |\"QUANTITY\"  |\"UNIT_PRICE\"  |\"PRICE\"  |\"ORDER_AMOUNT\"  |\"ORDER_TAX_AMOUNT\"  |\"ORDER_DISCOUNT_AMOUNT\"  |\"ORDER_TOTAL\"  |\n",
      "------------------------------------------------------------------------------------------------------------------------------------------------------------------------------------------------------------------------------------------------------------------------------------------------------------------------------------------------------------------------------------------------------------------------------------------------------------------------------------------------------------------------------------------------------------------------------------------------------------------------------------------------------------------------------------------\n",
      "|2022-04-11  |420429534   |422         |2022-04-11 09:45:54  |798208283          |0              |Smoky BBQ           |BBQ          |Cairo           |Cairo Governorate  |Egypt      |1                 |314             |Latoya                   |Wells                   |6385           |zzy-222@7vy-sqs-sqz  |Nike             |Shoe Stores     |Shoe Stores     |29.966707   |31.250005    |NULL           |NULL          |NULL         |NULL      |NULL            |NULL              |NULL      |NULL              |22              |Three Meat Plate      |1           |17.0000       |17.0000  |69.0000         |NULL                |NULL                     |69.0000        |\n",
      "|2022-04-11  |420429534   |422         |2022-04-11 09:45:54  |798208284          |1              |Smoky BBQ           |BBQ          |Cairo           |Cairo Governorate  |Egypt      |1                 |314             |Latoya                   |Wells                   |6385           |zzy-222@7vy-sqs-sqz  |Nike             |Shoe Stores     |Shoe Stores     |29.966707   |31.250005    |NULL           |NULL          |NULL         |NULL      |NULL            |NULL              |NULL      |NULL              |23              |Pulled Pork Sandwich  |1           |12.0000       |12.0000  |69.0000         |NULL                |NULL                     |69.0000        |\n",
      "|2022-04-11  |420429534   |422         |2022-04-11 09:45:54  |798208285          |2              |Smoky BBQ           |BBQ          |Cairo           |Cairo Governorate  |Egypt      |1                 |314             |Latoya                   |Wells                   |6385           |zzy-222@7vy-sqs-sqz  |Nike             |Shoe Stores     |Shoe Stores     |29.966707   |31.250005    |NULL           |NULL          |NULL         |NULL      |NULL            |NULL              |NULL      |NULL              |24              |Bottled Water         |2           |2.0000        |4.0000   |69.0000         |NULL                |NULL                     |69.0000        |\n",
      "|2022-04-11  |420429534   |422         |2022-04-11 09:45:54  |798208286          |3              |Smoky BBQ           |BBQ          |Cairo           |Cairo Governorate  |Egypt      |1                 |314             |Latoya                   |Wells                   |6385           |zzy-222@7vy-sqs-sqz  |Nike             |Shoe Stores     |Shoe Stores     |29.966707   |31.250005    |NULL           |NULL          |NULL         |NULL      |NULL            |NULL              |NULL      |NULL              |25              |Bottled Soda          |1           |3.0000        |3.0000   |69.0000         |NULL                |NULL                     |69.0000        |\n",
      "|2022-04-11  |420429534   |422         |2022-04-11 09:45:54  |798208287          |4              |Smoky BBQ           |BBQ          |Cairo           |Cairo Governorate  |Egypt      |1                 |314             |Latoya                   |Wells                   |6385           |zzy-222@7vy-sqs-sqz  |Nike             |Shoe Stores     |Shoe Stores     |29.966707   |31.250005    |NULL           |NULL          |NULL         |NULL      |NULL            |NULL              |NULL      |NULL              |26              |Ice Tea               |1           |3.0000        |3.0000   |69.0000         |NULL                |NULL                     |69.0000        |\n",
      "|2022-04-11  |420429534   |422         |2022-04-11 09:45:54  |798208288          |5              |Smoky BBQ           |BBQ          |Cairo           |Cairo Governorate  |Egypt      |1                 |314             |Latoya                   |Wells                   |6385           |zzy-222@7vy-sqs-sqz  |Nike             |Shoe Stores     |Shoe Stores     |29.966707   |31.250005    |NULL           |NULL          |NULL         |NULL      |NULL            |NULL              |NULL      |NULL              |27              |Spring Mix Salad      |3           |6.0000        |18.0000  |69.0000         |NULL                |NULL                     |69.0000        |\n",
      "|2022-04-11  |420429534   |422         |2022-04-11 09:45:54  |798208289          |6              |Smoky BBQ           |BBQ          |Cairo           |Cairo Governorate  |Egypt      |1                 |314             |Latoya                   |Wells                   |6385           |zzy-222@7vy-sqs-sqz  |Nike             |Shoe Stores     |Shoe Stores     |29.966707   |31.250005    |NULL           |NULL          |NULL         |NULL      |NULL            |NULL              |NULL      |NULL              |29              |Fried Pickles         |2           |6.0000        |12.0000  |69.0000         |NULL                |NULL                     |69.0000        |\n",
      "|2022-04-11  |420429566   |422         |2022-04-11 10:44:34  |798208400          |0              |Smoky BBQ           |BBQ          |Cairo           |Cairo Governorate  |Egypt      |1                 |314             |Latoya                   |Wells                   |6385           |zzy-222@7vy-sqs-sqz  |Nike             |Shoe Stores     |Shoe Stores     |29.966707   |31.250005    |NULL           |NULL          |NULL         |NULL      |NULL            |NULL              |NULL      |NULL              |21              |Two Meat Plate        |1           |14.0000       |14.0000  |84.0000         |NULL                |NULL                     |84.0000        |\n",
      "|2022-04-11  |420429566   |422         |2022-04-11 10:44:34  |798208401          |1              |Smoky BBQ           |BBQ          |Cairo           |Cairo Governorate  |Egypt      |1                 |314             |Latoya                   |Wells                   |6385           |zzy-222@7vy-sqs-sqz  |Nike             |Shoe Stores     |Shoe Stores     |29.966707   |31.250005    |NULL           |NULL          |NULL         |NULL      |NULL            |NULL              |NULL      |NULL              |22              |Three Meat Plate      |1           |17.0000       |17.0000  |84.0000         |NULL                |NULL                     |84.0000        |\n",
      "|2022-04-11  |420429566   |422         |2022-04-11 10:44:34  |798208402          |2              |Smoky BBQ           |BBQ          |Cairo           |Cairo Governorate  |Egypt      |1                 |314             |Latoya                   |Wells                   |6385           |zzy-222@7vy-sqs-sqz  |Nike             |Shoe Stores     |Shoe Stores     |29.966707   |31.250005    |NULL           |NULL          |NULL         |NULL      |NULL            |NULL              |NULL      |NULL              |23              |Pulled Pork Sandwich  |1           |12.0000       |12.0000  |84.0000         |NULL                |NULL                     |84.0000        |\n",
      "------------------------------------------------------------------------------------------------------------------------------------------------------------------------------------------------------------------------------------------------------------------------------------------------------------------------------------------------------------------------------------------------------------------------------------------------------------------------------------------------------------------------------------------------------------------------------------------------------------------------------------------------------------------------------------------\n",
      "\n"
     ]
    }
   ],
   "source": [
    "tasty_bytes_orders_v.show()"
   ]
  },
  {
   "cell_type": "code",
   "execution_count": 60,
   "id": "4692e490",
   "metadata": {},
   "outputs": [
    {
     "name": "stdout",
     "output_type": "stream",
     "text": [
      "---------------------------------------------------------------------------------------------------------------------------------------------------------------------------------------------------------------------------------------------------------------------------\n",
      "|\"CUSTOMER_ID\"  |\"FIRST_NAME\"  |\"LAST_NAME\"  |\"CITY\"     |\"COUNTRY\"      |\"POSTAL_CODE\"  |\"PREFERRED_LANGUAGE\"  |\"GENDER\"     |\"FAVOURITE_BRAND\"  |\"MARITAL_STATUS\"  |\"CHILDREN_COUNT\"  |\"SIGN_UP_DATE\"  |\"BIRTHDAY_DATE\"  |\"E_MAIL\"                     |\"PHONE_NUMBER\"  |\n",
      "---------------------------------------------------------------------------------------------------------------------------------------------------------------------------------------------------------------------------------------------------------------------------\n",
      "|66             |Cannon        |Waters       |Toronto    |Canada         |M4C 3M7        |English               |Male         |NULL               |Married           |4                 |2019-10-08      |1982-11-24       |Cannon.Waters@hotmail.com    |424-543-8925    |\n",
      "|118            |Donald        |Faulkner     |San Mateo  |United States  |94010          |English               |Male         |NULL               |Single            |0                 |2019-07-07      |1988-06-13       |Donald.Faulkner@hotmail.com  |080-861-2392    |\n",
      "|131            |Tate          |Tucker       |Toronto    |Canada         |M4C 1E7        |English               |Male         |NULL               |Single            |0                 |2021-05-27      |1984-12-29       |Tate.Tucker@hotmail.com      |896-393-1708    |\n",
      "|132            |Aileen        |Knapp        |Toronto    |Canada         |M4C 3J6        |English               |Male         |NULL               |Single            |0                 |2020-11-10      |1981-04-30       |Aileen.Knapp@hotmail.com     |477-406-2898    |\n",
      "|171            |Grayson       |Hayes        |Toronto    |Canada         |M4C 1E7        |English               |Male         |NULL               |Single            |0                 |2021-05-08      |1987-08-06       |Grayson.Hayes@hotmail.com    |849-485-3285    |\n",
      "|189            |Reese         |Mcfarland    |San Mateo  |United States  |94010          |English               |Undisclosed  |NULL               |Married           |1                 |2020-03-06      |1984-03-05       |Reese.Mcfarland@hotmail.com  |802-202-7275    |\n",
      "|195            |Summer        |Chung        |Toronto    |Canada         |M4C 1X6        |English               |Female       |NULL               |Single            |0                 |2021-05-13      |1987-08-17       |Summer.Chung@hotmail.com     |761-641-8122    |\n",
      "|204            |Emilio        |Lawrence     |San Mateo  |United States  |94497          |English               |Male         |NULL               |Undisclosed       |Undisclosed       |2021-10-10      |1979-06-25       |Emilio.Lawrence@hotmail.com  |693-524-2569    |\n",
      "|42             |Alexander     |Hicks        |San Mateo  |United States  |94404          |English               |Undisclosed  |NULL               |Single            |0                 |2020-07-11      |1966-06-28       |Alexander.Hicks@aol.com      |463-144-8555    |\n",
      "|59             |Ryan          |Shah         |San Mateo  |United States  |94401          |English               |Male         |NULL               |Married           |2                 |2020-12-29      |1961-06-05       |Ryan.Shah@aol.com            |679-586-9815    |\n",
      "---------------------------------------------------------------------------------------------------------------------------------------------------------------------------------------------------------------------------------------------------------------------------\n",
      "\n"
     ]
    }
   ],
   "source": [
    "tasty_bytes_customer_loyalty.show()"
   ]
  },
  {
   "attachments": {},
   "cell_type": "markdown",
   "id": "feae8662",
   "metadata": {},
   "source": [
    "## 1.4 Data Exploration"
   ]
  },
  {
   "attachments": {},
   "cell_type": "markdown",
   "id": "31fd2f91",
   "metadata": {},
   "source": [
    "### 1.4.1 Members per Country"
   ]
  },
  {
   "cell_type": "code",
   "execution_count": 61,
   "id": "853277e9",
   "metadata": {},
   "outputs": [
    {
     "data": {
      "image/png": "[encoded data removed]",
      "text/plain": [
       "<Figure size 640x480 with 1 Axes>"
      ]
     },
     "metadata": {},
     "output_type": "display_data"
    }
   ],
   "source": [
    "#Unique Customers\n",
    "temp_df=tasty_bytes_customer_loyalty.group_by(F.col('Country')).count().to_pandas().sort_values(by='COUNT',ascending=False)\n",
    "sns.barplot(x='COUNTRY',y='COUNT',data=temp_df)\n",
    "plt.xticks(rotation=90)\n",
    "plt.title('Number of Members per Country')\n",
    "plt.show()"
   ]
  },
  {
   "attachments": {},
   "cell_type": "markdown",
   "id": "0e33bd1d",
   "metadata": {},
   "source": [
    "### 1.4.2 Transactions per Country"
   ]
  },
  {
   "cell_type": "code",
   "execution_count": 62,
   "id": "b40dddb2",
   "metadata": {},
   "outputs": [
    {
     "data": {
      "image/png": "[encoded data removed]",
      "text/plain": [
       "<Figure size 640x480 with 1 Axes>"
      ]
     },
     "metadata": {},
     "output_type": "display_data"
    }
   ],
   "source": [
    "#Number of unique transactions\n",
    "temp_df=tasty_bytes_orders_v.group_by(F.col('COUNTRY')).agg(F.countDistinct('ORDER_ID').alias('COUNT')).to_pandas().sort_values(by='COUNT',ascending=False)\n",
    "sns.barplot(x='COUNTRY',y='COUNT',data=temp_df)\n",
    "plt.xticks(rotation=90)\n",
    "plt.title('')\n",
    "plt.show()"
   ]
  },
  {
   "attachments": {},
   "cell_type": "markdown",
   "id": "7e8e1055",
   "metadata": {},
   "source": [
    "### 1.4.2 Churn Rate per Country"
   ]
  },
  {
   "cell_type": "code",
   "execution_count": 63,
   "id": "41e99db7",
   "metadata": {},
   "outputs": [],
   "source": [
    "#Get last transaction date for each country\n",
    "last_tran_country = tasty_bytes_orders_v.group_by(F.col('COUNTRY')).max(F.to_date(F.col('ORDER_TS'))).to_pandas()"
   ]
  },
  {
   "cell_type": "code",
   "execution_count": 64,
   "id": "5e876715",
   "metadata": {},
   "outputs": [],
   "source": [
    "#Get assumed churned date which is two weeks before last transaction date, then get total number of customers in the assumed time period\n",
    "last_tran_country['CHURN_DATE']=last_tran_country['MAX(TO_DATE(ORDER_TS))']-datetime.timedelta(days=14)\n",
    "last_tran_country['CUSTOMER_COUNT_DATE']=last_tran_country['MAX(TO_DATE(ORDER_TS))']-datetime.timedelta(days=44)"
   ]
  },
  {
   "cell_type": "code",
   "execution_count": 65,
   "id": "e3d8f0c1",
   "metadata": {},
   "outputs": [
    {
     "name": "stdout",
     "output_type": "stream",
     "text": [
      "---------------------------------------------------------------------------------\n",
      "|\"COUNTRY\"    |\"MAX(TO_DATE(ORDER_TS))\"  |\"CHURN_DATE\"  |\"CUSTOMER_COUNT_DATE\"  |\n",
      "---------------------------------------------------------------------------------\n",
      "|Canada       |2022-11-01                |2022-10-18    |2022-09-18             |\n",
      "|Brazil       |2022-11-01                |2022-10-18    |2022-09-18             |\n",
      "|Germany      |2022-11-01                |2022-10-18    |2022-09-18             |\n",
      "|Australia    |2022-11-01                |2022-10-18    |2022-09-18             |\n",
      "|Japan        |2022-11-01                |2022-10-18    |2022-09-18             |\n",
      "|Poland       |2022-11-01                |2022-10-18    |2022-09-18             |\n",
      "|South Korea  |2022-11-01                |2022-10-18    |2022-09-18             |\n",
      "|Spain        |2022-11-01                |2022-10-18    |2022-09-18             |\n",
      "|Sweden       |2022-11-01                |2022-10-18    |2022-09-18             |\n",
      "|England      |2022-11-01                |2022-10-18    |2022-09-18             |\n",
      "---------------------------------------------------------------------------------\n",
      "\n"
     ]
    }
   ],
   "source": [
    "#Make pandas dataframe into a snowpark dataframe\n",
    "last_tran_country_sdf=session.createDataFrame(last_tran_country)\n",
    "last_tran_country_sdf.show()"
   ]
  },
  {
   "cell_type": "code",
   "execution_count": 66,
   "id": "1b1a6c04",
   "metadata": {},
   "outputs": [
    {
     "name": "stdout",
     "output_type": "stream",
     "text": [
      "-------------------------------------------------------------------------------------------------------------------------------------------------------------------------------------------------------------------------------------------------------------------------------------------------------------------------------------------------------------------------------------------------------------------------------------------------------------------------------------------------------------------------------------------------------------------------------------------------------------------------------------------------------------------------------------------------------------------------------------------------------------------------------------------------------------------------------------------------------------\n",
      "|\"COUNTRY\"      |\"MAX(TO_DATE(ORDER_TS))\"  |\"CHURN_DATE\"  |\"CUSTOMER_COUNT_DATE\"  |\"DATE\"      |\"ORDER_ID\"  |\"TRUCK_ID\"  |\"ORDER_TS\"           |\"ORDER_DETAIL_ID\"  |\"LINE_NUMBER\"  |\"TRUCK_BRAND_NAME\"      |\"MENU_TYPE\"   |\"PRIMARY_CITY\"  |\"REGION\"  |\"FRANCHISE_FLAG\"  |\"FRANCHISE_ID\"  |\"FRANCHISEE_FIRST_NAME\"  |\"FRANCHISEE_LAST_NAME\"  |\"LOCATION_ID\"  |\"PLACEKEY\"           |\"LOCATION_NAME\"                         |\"TOP_CATEGORY\"                                    |\"SUB_CATEGORY\"                                    |\"LATITUDE\"  |\"LONGITUDE\"  |\"CUSTOMER_ID\"  |\"FIRST_NAME\"  |\"LAST_NAME\"  |\"E_MAIL\"  |\"PHONE_NUMBER\"  |\"CHILDREN_COUNT\"  |\"GENDER\"  |\"MARITAL_STATUS\"  |\"MENU_ITEM_ID\"  |\"MENU_ITEM_NAME\"            |\"QUANTITY\"  |\"UNIT_PRICE\"  |\"PRICE\"  |\"ORDER_AMOUNT\"  |\"ORDER_TAX_AMOUNT\"  |\"ORDER_DISCOUNT_AMOUNT\"  |\"ORDER_TOTAL\"  |\n",
      "-------------------------------------------------------------------------------------------------------------------------------------------------------------------------------------------------------------------------------------------------------------------------------------------------------------------------------------------------------------------------------------------------------------------------------------------------------------------------------------------------------------------------------------------------------------------------------------------------------------------------------------------------------------------------------------------------------------------------------------------------------------------------------------------------------------------------------------------------------------\n",
      "|Canada         |2022-11-01                |2022-10-18    |2022-09-18             |2022-10-28  |22002743    |79          |2022-10-28 17:32:35  |59726873           |0              |The Mac Shack           |Mac & Cheese  |Toronto         |Ontario   |1                 |62              |Sarah                    |Phillips                |2592           |22c-224@665-zbn-6tv  |Hayes Doreen School of Dancing          |Other Amusement and Recreation Industries         |Fitness and Recreational Sports Centers           |43.649103   |-79.48448    |NULL           |NULL          |NULL         |NULL      |NULL            |NULL              |NULL      |NULL              |41              |Standard Mac & Cheese       |2           |8.0000        |16.0000  |34.0000         |NULL                |NULL                     |34.0000        |\n",
      "|Canada         |2022-11-01                |2022-10-18    |2022-09-18             |2022-10-28  |22002743    |79          |2022-10-28 17:32:35  |59726874           |1              |The Mac Shack           |Mac & Cheese  |Toronto         |Ontario   |1                 |62              |Sarah                    |Phillips                |2592           |22c-224@665-zbn-6tv  |Hayes Doreen School of Dancing          |Other Amusement and Recreation Industries         |Fitness and Recreational Sports Centers           |43.649103   |-79.48448    |NULL           |NULL          |NULL         |NULL      |NULL            |NULL              |NULL      |NULL              |42              |Buffalo Mac & Cheese        |1           |10.0000       |10.0000  |34.0000         |NULL                |NULL                     |34.0000        |\n",
      "|Canada         |2022-11-01                |2022-10-18    |2022-09-18             |2022-10-28  |22002743    |79          |2022-10-28 17:32:35  |59726875           |2              |The Mac Shack           |Mac & Cheese  |Toronto         |Ontario   |1                 |62              |Sarah                    |Phillips                |2592           |22c-224@665-zbn-6tv  |Hayes Doreen School of Dancing          |Other Amusement and Recreation Industries         |Fitness and Recreational Sports Centers           |43.649103   |-79.48448    |NULL           |NULL          |NULL         |NULL      |NULL            |NULL              |NULL      |NULL              |44              |Bottled Water               |1           |2.0000        |2.0000   |34.0000         |NULL                |NULL                     |34.0000        |\n",
      "|Canada         |2022-11-01                |2022-10-18    |2022-09-18             |2022-10-28  |22002743    |79          |2022-10-28 17:32:35  |59726876           |3              |The Mac Shack           |Mac & Cheese  |Toronto         |Ontario   |1                 |62              |Sarah                    |Phillips                |2592           |22c-224@665-zbn-6tv  |Hayes Doreen School of Dancing          |Other Amusement and Recreation Industries         |Fitness and Recreational Sports Centers           |43.649103   |-79.48448    |NULL           |NULL          |NULL         |NULL      |NULL            |NULL              |NULL      |NULL              |46              |Ice Tea                     |2           |3.0000        |6.0000   |34.0000         |NULL                |NULL                     |34.0000        |\n",
      "|Canada         |2022-11-01                |2022-10-18    |2022-09-18             |2022-10-28  |22003266    |79          |2022-10-28 22:25:27  |59728214           |0              |The Mac Shack           |Mac & Cheese  |Toronto         |Ontario   |1                 |62              |Sarah                    |Phillips                |2592           |22c-224@665-zbn-6tv  |Hayes Doreen School of Dancing          |Other Amusement and Recreation Industries         |Fitness and Recreational Sports Centers           |43.649103   |-79.48448    |NULL           |NULL          |NULL         |NULL      |NULL            |NULL              |NULL      |NULL              |42              |Buffalo Mac & Cheese        |1           |10.0000       |10.0000  |10.0000         |NULL                |NULL                     |10.0000        |\n",
      "|Canada         |2022-11-01                |2022-10-18    |2022-09-18             |2022-10-28  |22003949    |80          |2022-10-28 15:41:58  |59729970           |0              |Kitakata Ramen Bar      |Ramen         |Toronto         |Ontario   |1                 |63              |Gary                     |Hartman                 |1210           |222-222@665-ztg-vj9  |Canadian Memorial Chiropractic College  |Colleges, Universities, and Professional Schools  |Colleges, Universities, and Professional Schools  |43.803382   |-79.371874   |NULL           |NULL          |NULL         |NULL      |NULL            |NULL              |NULL      |NULL              |51              |Creamy Chicken Ramen        |1           |17.2500       |17.2500  |54.7500         |NULL                |NULL                     |54.7500        |\n",
      "|Canada         |2022-11-01                |2022-10-18    |2022-09-18             |2022-10-28  |22003949    |80          |2022-10-28 15:41:58  |59729971           |1              |Kitakata Ramen Bar      |Ramen         |Toronto         |Ontario   |1                 |63              |Gary                     |Hartman                 |1210           |222-222@665-ztg-vj9  |Canadian Memorial Chiropractic College  |Colleges, Universities, and Professional Schools  |Colleges, Universities, and Professional Schools  |43.803382   |-79.371874   |NULL           |NULL          |NULL         |NULL      |NULL            |NULL              |NULL      |NULL              |52              |Spicy Miso Vegetable Ramen  |1           |17.2500       |17.2500  |54.7500         |NULL                |NULL                     |54.7500        |\n",
      "|Canada         |2022-11-01                |2022-10-18    |2022-09-18             |2022-10-28  |22003949    |80          |2022-10-28 15:41:58  |59729972           |2              |Kitakata Ramen Bar      |Ramen         |Toronto         |Ontario   |1                 |63              |Gary                     |Hartman                 |1210           |222-222@665-ztg-vj9  |Canadian Memorial Chiropractic College  |Colleges, Universities, and Professional Schools  |Colleges, Universities, and Professional Schools  |43.803382   |-79.371874   |NULL           |NULL          |NULL         |NULL      |NULL            |NULL              |NULL      |NULL              |53              |Tonkotsu Ramen              |1           |17.2500       |17.2500  |54.7500         |NULL                |NULL                     |54.7500        |\n",
      "|Canada         |2022-11-01                |2022-10-18    |2022-09-18             |2022-10-28  |22003949    |80          |2022-10-28 15:41:58  |59729973           |3              |Kitakata Ramen Bar      |Ramen         |Toronto         |Ontario   |1                 |63              |Gary                     |Hartman                 |1210           |222-222@665-ztg-vj9  |Canadian Memorial Chiropractic College  |Colleges, Universities, and Professional Schools  |Colleges, Universities, and Professional Schools  |43.803382   |-79.371874   |NULL           |NULL          |NULL         |NULL      |NULL            |NULL              |NULL      |NULL              |55              |Bottled Soda                |1           |3.0000        |3.0000   |54.7500         |NULL                |NULL                     |54.7500        |\n",
      "|United States  |2022-11-01                |2022-10-18    |2022-09-18             |2022-09-12  |447549810   |70          |2022-09-12 20:27:08  |871891939          |0              |Not the Wurst Hot Dogs  |Hot Dogs      |New York City   |New York  |1                 |55              |Thomas                   |Figueroa                |3226           |234-222@627-s4r-s5z  |Columbus Gourmet Food                   |Specialty Food Stores                             |Fish and Seafood Markets                          |40.777521   |-73.978323   |NULL           |NULL          |NULL         |NULL      |NULL            |NULL              |NULL      |NULL              |101             |New York Dog                |2           |8.0000        |16.0000  |53.0000         |NULL                |NULL                     |53.0000        |\n",
      "-------------------------------------------------------------------------------------------------------------------------------------------------------------------------------------------------------------------------------------------------------------------------------------------------------------------------------------------------------------------------------------------------------------------------------------------------------------------------------------------------------------------------------------------------------------------------------------------------------------------------------------------------------------------------------------------------------------------------------------------------------------------------------------------------------------------------------------------------------------\n",
      "\n"
     ]
    }
   ],
   "source": [
    "#Merge \n",
    "last_tran_country_sdf_join = last_tran_country_sdf.join(\n",
    "    right=tasty_bytes_orders_v,\n",
    "    on=\"COUNTRY\",\n",
    "    how=\"inner\"\n",
    ")\n",
    "\n",
    "last_tran_country_sdf_join.show()"
   ]
  },
  {
   "cell_type": "code",
   "execution_count": 67,
   "id": "bc97dd29",
   "metadata": {},
   "outputs": [
    {
     "name": "stdout",
     "output_type": "stream",
     "text": [
      "---------------------------------------------------------------------------------------------------------------------------------------------------------------------------------------------------------------------------------------------------------------------------------------------------------------------------------------------------------------------------------------------------------------------------------------------------------------------------------------------------------------------------------------------------------------------------------------------------------------------------------------------------------------------------------------------------------------------------------------------------------------------------------------------------------------\n",
      "|\"COUNTRY\"  |\"MAX(TO_DATE(ORDER_TS))\"  |\"CHURN_DATE\"  |\"CUSTOMER_COUNT_DATE\"  |\"DATE\"      |\"ORDER_ID\"  |\"TRUCK_ID\"  |\"ORDER_TS\"           |\"ORDER_DETAIL_ID\"  |\"LINE_NUMBER\"  |\"TRUCK_BRAND_NAME\"  |\"MENU_TYPE\"   |\"PRIMARY_CITY\"  |\"REGION\"  |\"FRANCHISE_FLAG\"  |\"FRANCHISE_ID\"  |\"FRANCHISEE_FIRST_NAME\"  |\"FRANCHISEE_LAST_NAME\"  |\"LOCATION_ID\"  |\"PLACEKEY\"           |\"LOCATION_NAME\"  |\"TOP_CATEGORY\"                             |\"SUB_CATEGORY\"                                 |\"LATITUDE\"  |\"LONGITUDE\"  |\"CUSTOMER_ID\"  |\"FIRST_NAME\"  |\"LAST_NAME\"  |\"E_MAIL\"  |\"PHONE_NUMBER\"  |\"CHILDREN_COUNT\"  |\"GENDER\"  |\"MARITAL_STATUS\"  |\"MENU_ITEM_ID\"  |\"MENU_ITEM_NAME\"       |\"QUANTITY\"  |\"UNIT_PRICE\"  |\"PRICE\"  |\"ORDER_AMOUNT\"  |\"ORDER_TAX_AMOUNT\"  |\"ORDER_DISCOUNT_AMOUNT\"  |\"ORDER_TOTAL\"  |\n",
      "---------------------------------------------------------------------------------------------------------------------------------------------------------------------------------------------------------------------------------------------------------------------------------------------------------------------------------------------------------------------------------------------------------------------------------------------------------------------------------------------------------------------------------------------------------------------------------------------------------------------------------------------------------------------------------------------------------------------------------------------------------------------------------------------------------------\n",
      "|Canada     |2022-11-01                |2022-10-18    |2022-09-18             |2022-10-28  |22002049    |79          |2022-10-28 09:44:01  |59725101           |0              |The Mac Shack       |Mac & Cheese  |Toronto         |Ontario   |1                 |62              |Sarah                    |Phillips                |2147           |226-222@665-zdc-f2k  |Super Tech       |Other Amusement and Recreation Industries  |All Other Amusement and Recreation Industries  |43.653254   |-79.394751   |NULL           |NULL          |NULL         |NULL      |NULL            |NULL              |NULL      |NULL              |41              |Standard Mac & Cheese  |1           |8.0000        |8.0000   |18.0000         |NULL                |NULL                     |18.0000        |\n",
      "|Canada     |2022-11-01                |2022-10-18    |2022-09-18             |2022-10-28  |22002049    |79          |2022-10-28 09:44:01  |59725102           |1              |The Mac Shack       |Mac & Cheese  |Toronto         |Ontario   |1                 |62              |Sarah                    |Phillips                |2147           |226-222@665-zdc-f2k  |Super Tech       |Other Amusement and Recreation Industries  |All Other Amusement and Recreation Industries  |43.653254   |-79.394751   |NULL           |NULL          |NULL         |NULL      |NULL            |NULL              |NULL      |NULL              |42              |Buffalo Mac & Cheese   |1           |10.0000       |10.0000  |18.0000         |NULL                |NULL                     |18.0000        |\n",
      "|Canada     |2022-11-01                |2022-10-18    |2022-09-18             |2022-10-28  |22002240    |79          |2022-10-28 11:39:22  |59725597           |0              |The Mac Shack       |Mac & Cheese  |Toronto         |Ontario   |1                 |62              |Sarah                    |Phillips                |2147           |226-222@665-zdc-f2k  |Super Tech       |Other Amusement and Recreation Industries  |All Other Amusement and Recreation Industries  |43.653254   |-79.394751   |NULL           |NULL          |NULL         |NULL      |NULL            |NULL              |NULL      |NULL              |41              |Standard Mac & Cheese  |2           |8.0000        |16.0000  |56.0000         |NULL                |NULL                     |56.0000        |\n",
      "|Canada     |2022-11-01                |2022-10-18    |2022-09-18             |2022-10-28  |22002240    |79          |2022-10-28 11:39:22  |59725598           |1              |The Mac Shack       |Mac & Cheese  |Toronto         |Ontario   |1                 |62              |Sarah                    |Phillips                |2147           |226-222@665-zdc-f2k  |Super Tech       |Other Amusement and Recreation Industries  |All Other Amusement and Recreation Industries  |43.653254   |-79.394751   |NULL           |NULL          |NULL         |NULL      |NULL            |NULL              |NULL      |NULL              |42              |Buffalo Mac & Cheese   |2           |10.0000       |20.0000  |56.0000         |NULL                |NULL                     |56.0000        |\n",
      "|Canada     |2022-11-01                |2022-10-18    |2022-09-18             |2022-10-28  |22002240    |79          |2022-10-28 11:39:22  |59725599           |2              |The Mac Shack       |Mac & Cheese  |Toronto         |Ontario   |1                 |62              |Sarah                    |Phillips                |2147           |226-222@665-zdc-f2k  |Super Tech       |Other Amusement and Recreation Industries  |All Other Amusement and Recreation Industries  |43.653254   |-79.394751   |NULL           |NULL          |NULL         |NULL      |NULL            |NULL              |NULL      |NULL              |43              |Lobster Mac & Cheese   |1           |15.0000       |15.0000  |56.0000         |NULL                |NULL                     |56.0000        |\n",
      "|Canada     |2022-11-01                |2022-10-18    |2022-09-18             |2022-10-28  |22002240    |79          |2022-10-28 11:39:22  |59725600           |3              |The Mac Shack       |Mac & Cheese  |Toronto         |Ontario   |1                 |62              |Sarah                    |Phillips                |2147           |226-222@665-zdc-f2k  |Super Tech       |Other Amusement and Recreation Industries  |All Other Amusement and Recreation Industries  |43.653254   |-79.394751   |NULL           |NULL          |NULL         |NULL      |NULL            |NULL              |NULL      |NULL              |44              |Bottled Water          |1           |2.0000        |2.0000   |56.0000         |NULL                |NULL                     |56.0000        |\n",
      "|Canada     |2022-11-01                |2022-10-18    |2022-09-18             |2022-10-28  |22002240    |79          |2022-10-28 11:39:22  |59725601           |4              |The Mac Shack       |Mac & Cheese  |Toronto         |Ontario   |1                 |62              |Sarah                    |Phillips                |2147           |226-222@665-zdc-f2k  |Super Tech       |Other Amusement and Recreation Industries  |All Other Amusement and Recreation Industries  |43.653254   |-79.394751   |NULL           |NULL          |NULL         |NULL      |NULL            |NULL              |NULL      |NULL              |46              |Ice Tea                |1           |3.0000        |3.0000   |56.0000         |NULL                |NULL                     |56.0000        |\n",
      "|Canada     |2022-11-01                |2022-10-18    |2022-09-18             |2022-10-28  |22002324    |79          |2022-10-28 12:29:29  |59725817           |0              |The Mac Shack       |Mac & Cheese  |Toronto         |Ontario   |1                 |62              |Sarah                    |Phillips                |2147           |226-222@665-zdc-f2k  |Super Tech       |Other Amusement and Recreation Industries  |All Other Amusement and Recreation Industries  |43.653254   |-79.394751   |NULL           |NULL          |NULL         |NULL      |NULL            |NULL              |NULL      |NULL              |43              |Lobster Mac & Cheese   |1           |15.0000       |15.0000  |15.0000         |NULL                |NULL                     |15.0000        |\n",
      "|Canada     |2022-11-01                |2022-10-18    |2022-09-18             |2022-10-28  |22002373    |79          |2022-10-28 12:56:48  |59725945           |0              |The Mac Shack       |Mac & Cheese  |Toronto         |Ontario   |1                 |62              |Sarah                    |Phillips                |2147           |226-222@665-zdc-f2k  |Super Tech       |Other Amusement and Recreation Industries  |All Other Amusement and Recreation Industries  |43.653254   |-79.394751   |NULL           |NULL          |NULL         |NULL      |NULL            |NULL              |NULL      |NULL              |41              |Standard Mac & Cheese  |1           |8.0000        |8.0000   |38.0000         |NULL                |NULL                     |38.0000        |\n",
      "|Canada     |2022-11-01                |2022-10-18    |2022-09-18             |2022-10-28  |22002373    |79          |2022-10-28 12:56:48  |59725946           |1              |The Mac Shack       |Mac & Cheese  |Toronto         |Ontario   |1                 |62              |Sarah                    |Phillips                |2147           |226-222@665-zdc-f2k  |Super Tech       |Other Amusement and Recreation Industries  |All Other Amusement and Recreation Industries  |43.653254   |-79.394751   |NULL           |NULL          |NULL         |NULL      |NULL            |NULL              |NULL      |NULL              |43              |Lobster Mac & Cheese   |2           |15.0000       |30.0000  |38.0000         |NULL                |NULL                     |38.0000        |\n",
      "---------------------------------------------------------------------------------------------------------------------------------------------------------------------------------------------------------------------------------------------------------------------------------------------------------------------------------------------------------------------------------------------------------------------------------------------------------------------------------------------------------------------------------------------------------------------------------------------------------------------------------------------------------------------------------------------------------------------------------------------------------------------------------------------------------------\n",
      "\n"
     ]
    }
   ],
   "source": [
    "#Filter dataframe to the assumed time period\n",
    "df = last_tran_country_sdf_join[last_tran_country_sdf_join[\"DATE\"] > last_tran_country_sdf_join[\"CUSTOMER_COUNT_DATE\"]]\n",
    "df.show()"
   ]
  },
  {
   "cell_type": "code",
   "execution_count": 68,
   "id": "23b1ca2f",
   "metadata": {},
   "outputs": [],
   "source": [
    "#Filter to get churned members dataset\n",
    "df2 = df[last_tran_country_sdf_join[\"DATE\"] > last_tran_country_sdf_join[\"CHURN_DATE\"]]"
   ]
  },
  {
   "cell_type": "code",
   "execution_count": 69,
   "id": "82490bdd",
   "metadata": {},
   "outputs": [],
   "source": [
    "#Number of customers before churn date\n",
    "cust_bef = df.groupBy(\"COUNTRY\").agg(F.countDistinct(F.col(\"CUSTOMER_ID\")).alias('COUNT_BEF'))\n",
    "#Number of customers after churn date\n",
    "cust_aft = df2.groupBy(\"COUNTRY\").agg(F.countDistinct(F.col(\"CUSTOMER_ID\")).alias('COUNT_AFT'))"
   ]
  },
  {
   "cell_type": "code",
   "execution_count": 70,
   "id": "9d696fc7",
   "metadata": {},
   "outputs": [],
   "source": [
    "#Merge\n",
    "calculator = cust_aft.join(\n",
    "    right=cust_bef,\n",
    "    on=\"COUNTRY\",\n",
    "    how=\"inner\"\n",
    ")\n",
    "calc = calculator.to_pandas()\n",
    "\n",
    "#Calculate Churn rate \n",
    "calc[\"CHURN_RATE\"] = (((calc[\"COUNT_BEF\"] - calc[\"COUNT_AFT\"]) / calc[\"COUNT_BEF\"]) * 100)\n",
    "temp_df=calc.sort_values(by='CHURN_RATE',ascending=False)"
   ]
  },
  {
   "cell_type": "code",
   "execution_count": 71,
   "id": "8d093ff2",
   "metadata": {},
   "outputs": [
    {
     "data": {
      "image/png": "[encoded data removed]",
      "text/plain": [
       "<Figure size 640x480 with 1 Axes>"
      ]
     },
     "metadata": {},
     "output_type": "display_data"
    }
   ],
   "source": [
    "#Churn rate by Country\n",
    "sns.barplot(x='COUNTRY',y='CHURN_RATE',data=temp_df)\n",
    "plt.xticks(rotation=90)\n",
    "plt.title('Churn rate by Country')\n",
    "plt.show()"
   ]
  },
  {
   "attachments": {},
   "cell_type": "markdown",
   "id": "aaee91dc",
   "metadata": {},
   "source": [
    "Since Australia has quite a number of customers, a huge number of transactions and the highest churn rate. Therefore, we have decided to focus on Australia."
   ]
  },
  {
   "attachments": {},
   "cell_type": "markdown",
   "id": "d5141a06",
   "metadata": {},
   "source": [
    "# 2. Build Modelling Table"
   ]
  },
  {
   "attachments": {},
   "cell_type": "markdown",
   "id": "96db776a",
   "metadata": {},
   "source": [
    "## 2.1 Join and Subset Relavent Tables"
   ]
  },
  {
   "attachments": {},
   "cell_type": "markdown",
   "id": "efdc9e05",
   "metadata": {},
   "source": [
    "### 2.1.1 Define column cleaning function"
   ]
  },
  {
   "cell_type": "code",
   "execution_count": 72,
   "id": "73fb87c6",
   "metadata": {},
   "outputs": [],
   "source": [
    "#Function to remove and rename columns after inner join\n",
    "def remove_dup_join_col(df):\n",
    "    # capitalise all columns\n",
    "    for col in df.columns:\n",
    "        df = df.withColumnRenamed(col, col.upper())\n",
    "    \n",
    "    # get list of renamable columns for left and right join\n",
    "    left_dup_col = [col_name for col_name in df.columns if col_name.startswith('L_')]\n",
    "    right_dup_col = [col_name for col_name in df.columns if col_name.startswith('R_')]\n",
    "    old_columns = df.columns\n",
    "    \n",
    "    # rename the list with the most number of renamable columns\n",
    "    # drop the list of columns with less number of renamable columns\n",
    "    if len(left_dup_col)>len(right_dup_col):\n",
    "        columns_rename=left_dup_col\n",
    "        df= df.drop(*right_dup_col)\n",
    "    else:\n",
    "        columns_rename=right_dup_col\n",
    "        df= df.drop(*left_dup_col)\n",
    "    \n",
    "    for old_column in old_columns:\n",
    "        if old_column in columns_rename:\n",
    "            # get string to remove\n",
    "            string_to_replace = columns_rename[0][:7]\n",
    "            # replace starting string\n",
    "            new_column = old_column.replace(string_to_replace, \"\")\n",
    "            df = df.withColumnRenamed(old_column, new_column)\n",
    "    \n",
    "    return df"
   ]
  },
  {
   "attachments": {},
   "cell_type": "markdown",
   "id": "48db7778",
   "metadata": {},
   "source": [
    "### 2.1.2 Subset data to selected country"
   ]
  },
  {
   "cell_type": "code",
   "execution_count": 73,
   "id": "19eac311",
   "metadata": {},
   "outputs": [],
   "source": [
    "#Filter to only selected country\n",
    "filtered_df=tasty_bytes_orders_v.filter(F.col('COUNTRY')=='Australia')"
   ]
  },
  {
   "cell_type": "code",
   "execution_count": 74,
   "id": "3c307fba",
   "metadata": {},
   "outputs": [
    {
     "name": "stdout",
     "output_type": "stream",
     "text": [
      "-----------------------------------------------------------------------------------------------------------------------------------------------------------------------------------------------------------------------------------------------------------------------------------------------------------------------------------------------------------------------------------------------------------------------------------------------------------------------------------------------------------------------------------------------------------------------------------------------------------------------------------------------------------------------------------------------------------------------------------------------------------------------------------------------------------------------------------------------------------------------------------------------------------------------------------------------------------------------------------------------------------------------------------------------------------------------------------------------------\n",
      "|\"CUSTOMER_ID\"  |\"l_b3fc_FIRST_NAME\"  |\"l_b3fc_LAST_NAME\"  |\"CITY\"     |\"l_b3fc_COUNTRY\"  |\"POSTAL_CODE\"  |\"PREFERRED_LANGUAGE\"  |\"l_b3fc_GENDER\"  |\"FAVOURITE_BRAND\"  |\"l_b3fc_MARITAL_STATUS\"  |\"l_b3fc_CHILDREN_COUNT\"  |\"SIGN_UP_DATE\"  |\"BIRTHDAY_DATE\"  |\"l_b3fc_E_MAIL\"                 |\"l_b3fc_PHONE_NUMBER\"  |\"DATE\"      |\"ORDER_ID\"  |\"TRUCK_ID\"  |\"ORDER_TS\"           |\"ORDER_DETAIL_ID\"  |\"LINE_NUMBER\"  |\"TRUCK_BRAND_NAME\"  |\"MENU_TYPE\"  |\"PRIMARY_CITY\"  |\"REGION\"  |\"r_ilac_COUNTRY\"  |\"FRANCHISE_FLAG\"  |\"FRANCHISE_ID\"  |\"FRANCHISEE_FIRST_NAME\"  |\"FRANCHISEE_LAST_NAME\"  |\"LOCATION_ID\"  |\"PLACEKEY\"           |\"LOCATION_NAME\"             |\"TOP_CATEGORY\"          |\"SUB_CATEGORY\"                         |\"LATITUDE\"  |\"LONGITUDE\"  |\"r_ilac_FIRST_NAME\"  |\"r_ilac_LAST_NAME\"  |\"r_ilac_E_MAIL\"                 |\"r_ilac_PHONE_NUMBER\"  |\"r_ilac_CHILDREN_COUNT\"  |\"r_ilac_GENDER\"  |\"r_ilac_MARITAL_STATUS\"  |\"MENU_ITEM_ID\"  |\"MENU_ITEM_NAME\"  |\"QUANTITY\"  |\"UNIT_PRICE\"  |\"PRICE\"  |\"ORDER_AMOUNT\"  |\"ORDER_TAX_AMOUNT\"  |\"ORDER_DISCOUNT_AMOUNT\"  |\"ORDER_TOTAL\"  |\n",
      "-----------------------------------------------------------------------------------------------------------------------------------------------------------------------------------------------------------------------------------------------------------------------------------------------------------------------------------------------------------------------------------------------------------------------------------------------------------------------------------------------------------------------------------------------------------------------------------------------------------------------------------------------------------------------------------------------------------------------------------------------------------------------------------------------------------------------------------------------------------------------------------------------------------------------------------------------------------------------------------------------------------------------------------------------------------------------------------------------------\n",
      "|165784         |Yesenia              |Parsons             |Melbourne  |Australia         |3045           |English               |Female           |NULL               |Married                  |1                        |2021-03-15      |1970-09-16       |Yesenia.Parsons@hotmail.com     |315-535-2065           |2021-04-26  |133872580   |297         |2021-04-26 17:35:35  |362661149          |0              |Cheeky Greek        |Gyros        |Melbourne       |Victoria  |Australia         |1                 |221             |Kevin                    |Arnold                  |7778           |zzy-222@nhx-p3n-vj9  |Melbourne Innovation Cenre  |Lessors of Real Estate  |Lessors of Other Real Estate Property  |-37.687931  |145.111734   |Yesenia              |Parsons             |Yesenia.Parsons@hotmail.com     |315-535-2065           |1                        |Female           |Married                  |121             |The King Combo    |1           |20.0000       |20.0000  |55.0000         |NULL                |NULL                     |55.0000        |\n",
      "|165784         |Yesenia              |Parsons             |Melbourne  |Australia         |3045           |English               |Female           |NULL               |Married                  |1                        |2021-03-15      |1970-09-16       |Yesenia.Parsons@hotmail.com     |315-535-2065           |2021-04-26  |133872580   |297         |2021-04-26 17:35:35  |362661150          |1              |Cheeky Greek        |Gyros        |Melbourne       |Victoria  |Australia         |1                 |221             |Kevin                    |Arnold                  |7778           |zzy-222@nhx-p3n-vj9  |Melbourne Innovation Cenre  |Lessors of Real Estate  |Lessors of Other Real Estate Property  |-37.687931  |145.111734   |Yesenia              |Parsons             |Yesenia.Parsons@hotmail.com     |315-535-2065           |1                        |Female           |Married                  |122             |Gyro Plate        |2           |12.0000       |24.0000  |55.0000         |NULL                |NULL                     |55.0000        |\n",
      "|165784         |Yesenia              |Parsons             |Melbourne  |Australia         |3045           |English               |Female           |NULL               |Married                  |1                        |2021-03-15      |1970-09-16       |Yesenia.Parsons@hotmail.com     |315-535-2065           |2021-04-26  |133872580   |297         |2021-04-26 17:35:35  |362661151          |2              |Cheeky Greek        |Gyros        |Melbourne       |Victoria  |Australia         |1                 |221             |Kevin                    |Arnold                  |7778           |zzy-222@nhx-p3n-vj9  |Melbourne Innovation Cenre  |Lessors of Real Estate  |Lessors of Other Real Estate Property  |-37.687931  |145.111734   |Yesenia              |Parsons             |Yesenia.Parsons@hotmail.com     |315-535-2065           |1                        |Female           |Married                  |123             |Greek Salad       |1           |11.0000       |11.0000  |55.0000         |NULL                |NULL                     |55.0000        |\n",
      "|107181         |Jamarcus             |Sandoval            |Melbourne  |Australia         |3045           |English               |Female           |NULL               |Single                   |2                        |2019-06-04      |1972-06-16       |Jamarcus.Sandoval@hotmail.com   |333-035-2780           |2021-04-26  |133872743   |297         |2021-04-26 19:00:18  |362661597          |0              |Cheeky Greek        |Gyros        |Melbourne       |Victoria  |Australia         |1                 |221             |Kevin                    |Arnold                  |7778           |zzy-222@nhx-p3n-vj9  |Melbourne Innovation Cenre  |Lessors of Real Estate  |Lessors of Other Real Estate Property  |-37.687931  |145.111734   |Jamarcus             |Sandoval            |Jamarcus.Sandoval@hotmail.com   |333-035-2780           |2                        |Female           |Single                   |121             |The King Combo    |2           |20.0000       |40.0000  |40.0000         |NULL                |NULL                     |40.0000        |\n",
      "|87974          |Octavio              |Mercer              |Melbourne  |Australia         |3207           |English               |Male             |NULL               |Married                  |2                        |2021-05-24      |1952-04-10       |Octavio.Mercer@ymail.com        |044-796-7982           |2021-04-26  |133872747   |297         |2021-04-26 19:03:00  |362661603          |0              |Cheeky Greek        |Gyros        |Melbourne       |Victoria  |Australia         |1                 |221             |Kevin                    |Arnold                  |7778           |zzy-222@nhx-p3n-vj9  |Melbourne Innovation Cenre  |Lessors of Real Estate  |Lessors of Other Real Estate Property  |-37.687931  |145.111734   |Octavio              |Mercer              |Octavio.Mercer@ymail.com        |044-796-7982           |2                        |Male             |Married                  |121             |The King Combo    |3           |20.0000       |60.0000  |63.0000         |NULL                |NULL                     |63.0000        |\n",
      "|87974          |Octavio              |Mercer              |Melbourne  |Australia         |3207           |English               |Male             |NULL               |Married                  |2                        |2021-05-24      |1952-04-10       |Octavio.Mercer@ymail.com        |044-796-7982           |2021-04-26  |133872747   |297         |2021-04-26 19:03:00  |362661604          |1              |Cheeky Greek        |Gyros        |Melbourne       |Victoria  |Australia         |1                 |221             |Kevin                    |Arnold                  |7778           |zzy-222@nhx-p3n-vj9  |Melbourne Innovation Cenre  |Lessors of Real Estate  |Lessors of Other Real Estate Property  |-37.687931  |145.111734   |Octavio              |Mercer              |Octavio.Mercer@ymail.com        |044-796-7982           |2                        |Male             |Married                  |126             |Ice Tea           |1           |3.0000        |3.0000   |63.0000         |NULL                |NULL                     |63.0000        |\n",
      "|78086          |Sage                 |Davis               |Melbourne  |Australia         |3052           |English               |Female           |NULL               |Single                   |0                        |2022-02-21      |1985-01-03       |Sage.Davis@hotmail.com          |254-434-2493           |2021-04-26  |133872890   |297         |2021-04-26 20:11:12  |362662005          |0              |Cheeky Greek        |Gyros        |Melbourne       |Victoria  |Australia         |1                 |221             |Kevin                    |Arnold                  |7778           |zzy-222@nhx-p3n-vj9  |Melbourne Innovation Cenre  |Lessors of Real Estate  |Lessors of Other Real Estate Property  |-37.687931  |145.111734   |Sage                 |Davis               |Sage.Davis@hotmail.com          |254-434-2493           |0                        |Female           |Single                   |121             |The King Combo    |1           |20.0000       |20.0000  |32.0000         |NULL                |NULL                     |32.0000        |\n",
      "|78086          |Sage                 |Davis               |Melbourne  |Australia         |3052           |English               |Female           |NULL               |Single                   |0                        |2022-02-21      |1985-01-03       |Sage.Davis@hotmail.com          |254-434-2493           |2021-04-26  |133872890   |297         |2021-04-26 20:11:12  |362662006          |1              |Cheeky Greek        |Gyros        |Melbourne       |Victoria  |Australia         |1                 |221             |Kevin                    |Arnold                  |7778           |zzy-222@nhx-p3n-vj9  |Melbourne Innovation Cenre  |Lessors of Real Estate  |Lessors of Other Real Estate Property  |-37.687931  |145.111734   |Sage                 |Davis               |Sage.Davis@hotmail.com          |254-434-2493           |0                        |Female           |Single                   |122             |Gyro Plate        |1           |12.0000       |12.0000  |32.0000         |NULL                |NULL                     |32.0000        |\n",
      "|101729         |Charlotte            |Stephenson          |Melbourne  |Australia         |8002           |English               |Female           |NULL               |Single                   |0                        |2020-11-20      |2004-04-23       |Charlotte.Stephenson@gmail.com  |559-771-6397           |2021-04-26  |133872956   |297         |2021-04-26 20:48:33  |362662177          |0              |Cheeky Greek        |Gyros        |Melbourne       |Victoria  |Australia         |1                 |221             |Kevin                    |Arnold                  |7778           |zzy-222@nhx-p3n-vj9  |Melbourne Innovation Cenre  |Lessors of Real Estate  |Lessors of Other Real Estate Property  |-37.687931  |145.111734   |Charlotte            |Stephenson          |Charlotte.Stephenson@gmail.com  |559-771-6397           |0                        |Female           |Single                   |121             |The King Combo    |1           |20.0000       |20.0000  |31.0000         |NULL                |NULL                     |31.0000        |\n",
      "|101729         |Charlotte            |Stephenson          |Melbourne  |Australia         |8002           |English               |Female           |NULL               |Single                   |0                        |2020-11-20      |2004-04-23       |Charlotte.Stephenson@gmail.com  |559-771-6397           |2021-04-26  |133872956   |297         |2021-04-26 20:48:33  |362662178          |1              |Cheeky Greek        |Gyros        |Melbourne       |Victoria  |Australia         |1                 |221             |Kevin                    |Arnold                  |7778           |zzy-222@nhx-p3n-vj9  |Melbourne Innovation Cenre  |Lessors of Real Estate  |Lessors of Other Real Estate Property  |-37.687931  |145.111734   |Charlotte            |Stephenson          |Charlotte.Stephenson@gmail.com  |559-771-6397           |0                        |Female           |Single                   |123             |Greek Salad       |1           |11.0000       |11.0000  |31.0000         |NULL                |NULL                     |31.0000        |\n",
      "-----------------------------------------------------------------------------------------------------------------------------------------------------------------------------------------------------------------------------------------------------------------------------------------------------------------------------------------------------------------------------------------------------------------------------------------------------------------------------------------------------------------------------------------------------------------------------------------------------------------------------------------------------------------------------------------------------------------------------------------------------------------------------------------------------------------------------------------------------------------------------------------------------------------------------------------------------------------------------------------------------------------------------------------------------------------------------------------------------\n",
      "\n",
      "Number of rows: 2144021\n"
     ]
    }
   ],
   "source": [
    "#Merge to get loyal customers orders\n",
    "loyal_customer_orders=tasty_bytes_customer_loyalty.join(\n",
    "    right=filtered_df,\n",
    "    on=\"CUSTOMER_ID\",\n",
    "    how=\"inner\"\n",
    ")\n",
    "loyal_customer_orders.show()\n",
    "print('Number of rows:',loyal_customer_orders.count())"
   ]
  },
  {
   "cell_type": "code",
   "execution_count": 75,
   "id": "40a8adfc",
   "metadata": {},
   "outputs": [
    {
     "name": "stdout",
     "output_type": "stream",
     "text": [
      "-------------------------------------------------------------------------------------------------------------------------------------------------------------------------------------------------------------------------------------------------------------------------------------------------------------------------------------------------------------------------------------------------------------------------------------------------------------------------------------------------------------------------------------------------------------------------------------------------------------------------------------------------------------------------------------------------------------------------------------------------------------------------------------------------------------------------------------------------------\n",
      "|\"CUSTOMER_ID\"  |\"CITY\"     |\"POSTAL_CODE\"  |\"PREFERRED_LANGUAGE\"  |\"FAVOURITE_BRAND\"  |\"SIGN_UP_DATE\"  |\"BIRTHDAY_DATE\"  |\"DATE\"      |\"ORDER_ID\"  |\"TRUCK_ID\"  |\"ORDER_TS\"           |\"ORDER_DETAIL_ID\"  |\"LINE_NUMBER\"  |\"TRUCK_BRAND_NAME\"  |\"MENU_TYPE\"  |\"PRIMARY_CITY\"  |\"REGION\"  |\"COUNTRY\"  |\"FRANCHISE_FLAG\"  |\"FRANCHISE_ID\"  |\"FRANCHISEE_FIRST_NAME\"  |\"FRANCHISEE_LAST_NAME\"  |\"LOCATION_ID\"  |\"PLACEKEY\"           |\"LOCATION_NAME\"             |\"TOP_CATEGORY\"          |\"SUB_CATEGORY\"                         |\"LATITUDE\"  |\"LONGITUDE\"  |\"FIRST_NAME\"  |\"LAST_NAME\"  |\"E_MAIL\"                        |\"PHONE_NUMBER\"  |\"CHILDREN_COUNT\"  |\"GENDER\"  |\"MARITAL_STATUS\"  |\"MENU_ITEM_ID\"  |\"MENU_ITEM_NAME\"  |\"QUANTITY\"  |\"UNIT_PRICE\"  |\"PRICE\"  |\"ORDER_AMOUNT\"  |\"ORDER_TAX_AMOUNT\"  |\"ORDER_DISCOUNT_AMOUNT\"  |\"ORDER_TOTAL\"  |\n",
      "-------------------------------------------------------------------------------------------------------------------------------------------------------------------------------------------------------------------------------------------------------------------------------------------------------------------------------------------------------------------------------------------------------------------------------------------------------------------------------------------------------------------------------------------------------------------------------------------------------------------------------------------------------------------------------------------------------------------------------------------------------------------------------------------------------------------------------------------------------\n",
      "|165784         |Melbourne  |3045           |English               |NULL               |2021-03-15      |1970-09-16       |2021-04-26  |133872580   |297         |2021-04-26 17:35:35  |362661149          |0              |Cheeky Greek        |Gyros        |Melbourne       |Victoria  |Australia  |1                 |221             |Kevin                    |Arnold                  |7778           |zzy-222@nhx-p3n-vj9  |Melbourne Innovation Cenre  |Lessors of Real Estate  |Lessors of Other Real Estate Property  |-37.687931  |145.111734   |Yesenia       |Parsons      |Yesenia.Parsons@hotmail.com     |315-535-2065    |1                 |Female    |Married           |121             |The King Combo    |1           |20.0000       |20.0000  |55.0000         |NULL                |NULL                     |55.0000        |\n",
      "|165784         |Melbourne  |3045           |English               |NULL               |2021-03-15      |1970-09-16       |2021-04-26  |133872580   |297         |2021-04-26 17:35:35  |362661150          |1              |Cheeky Greek        |Gyros        |Melbourne       |Victoria  |Australia  |1                 |221             |Kevin                    |Arnold                  |7778           |zzy-222@nhx-p3n-vj9  |Melbourne Innovation Cenre  |Lessors of Real Estate  |Lessors of Other Real Estate Property  |-37.687931  |145.111734   |Yesenia       |Parsons      |Yesenia.Parsons@hotmail.com     |315-535-2065    |1                 |Female    |Married           |122             |Gyro Plate        |2           |12.0000       |24.0000  |55.0000         |NULL                |NULL                     |55.0000        |\n",
      "|165784         |Melbourne  |3045           |English               |NULL               |2021-03-15      |1970-09-16       |2021-04-26  |133872580   |297         |2021-04-26 17:35:35  |362661151          |2              |Cheeky Greek        |Gyros        |Melbourne       |Victoria  |Australia  |1                 |221             |Kevin                    |Arnold                  |7778           |zzy-222@nhx-p3n-vj9  |Melbourne Innovation Cenre  |Lessors of Real Estate  |Lessors of Other Real Estate Property  |-37.687931  |145.111734   |Yesenia       |Parsons      |Yesenia.Parsons@hotmail.com     |315-535-2065    |1                 |Female    |Married           |123             |Greek Salad       |1           |11.0000       |11.0000  |55.0000         |NULL                |NULL                     |55.0000        |\n",
      "|107181         |Melbourne  |3045           |English               |NULL               |2019-06-04      |1972-06-16       |2021-04-26  |133872743   |297         |2021-04-26 19:00:18  |362661597          |0              |Cheeky Greek        |Gyros        |Melbourne       |Victoria  |Australia  |1                 |221             |Kevin                    |Arnold                  |7778           |zzy-222@nhx-p3n-vj9  |Melbourne Innovation Cenre  |Lessors of Real Estate  |Lessors of Other Real Estate Property  |-37.687931  |145.111734   |Jamarcus      |Sandoval     |Jamarcus.Sandoval@hotmail.com   |333-035-2780    |2                 |Female    |Single            |121             |The King Combo    |2           |20.0000       |40.0000  |40.0000         |NULL                |NULL                     |40.0000        |\n",
      "|87974          |Melbourne  |3207           |English               |NULL               |2021-05-24      |1952-04-10       |2021-04-26  |133872747   |297         |2021-04-26 19:03:00  |362661603          |0              |Cheeky Greek        |Gyros        |Melbourne       |Victoria  |Australia  |1                 |221             |Kevin                    |Arnold                  |7778           |zzy-222@nhx-p3n-vj9  |Melbourne Innovation Cenre  |Lessors of Real Estate  |Lessors of Other Real Estate Property  |-37.687931  |145.111734   |Octavio       |Mercer       |Octavio.Mercer@ymail.com        |044-796-7982    |2                 |Male      |Married           |121             |The King Combo    |3           |20.0000       |60.0000  |63.0000         |NULL                |NULL                     |63.0000        |\n",
      "|87974          |Melbourne  |3207           |English               |NULL               |2021-05-24      |1952-04-10       |2021-04-26  |133872747   |297         |2021-04-26 19:03:00  |362661604          |1              |Cheeky Greek        |Gyros        |Melbourne       |Victoria  |Australia  |1                 |221             |Kevin                    |Arnold                  |7778           |zzy-222@nhx-p3n-vj9  |Melbourne Innovation Cenre  |Lessors of Real Estate  |Lessors of Other Real Estate Property  |-37.687931  |145.111734   |Octavio       |Mercer       |Octavio.Mercer@ymail.com        |044-796-7982    |2                 |Male      |Married           |126             |Ice Tea           |1           |3.0000        |3.0000   |63.0000         |NULL                |NULL                     |63.0000        |\n",
      "|78086          |Melbourne  |3052           |English               |NULL               |2022-02-21      |1985-01-03       |2021-04-26  |133872890   |297         |2021-04-26 20:11:12  |362662005          |0              |Cheeky Greek        |Gyros        |Melbourne       |Victoria  |Australia  |1                 |221             |Kevin                    |Arnold                  |7778           |zzy-222@nhx-p3n-vj9  |Melbourne Innovation Cenre  |Lessors of Real Estate  |Lessors of Other Real Estate Property  |-37.687931  |145.111734   |Sage          |Davis        |Sage.Davis@hotmail.com          |254-434-2493    |0                 |Female    |Single            |121             |The King Combo    |1           |20.0000       |20.0000  |32.0000         |NULL                |NULL                     |32.0000        |\n",
      "|78086          |Melbourne  |3052           |English               |NULL               |2022-02-21      |1985-01-03       |2021-04-26  |133872890   |297         |2021-04-26 20:11:12  |362662006          |1              |Cheeky Greek        |Gyros        |Melbourne       |Victoria  |Australia  |1                 |221             |Kevin                    |Arnold                  |7778           |zzy-222@nhx-p3n-vj9  |Melbourne Innovation Cenre  |Lessors of Real Estate  |Lessors of Other Real Estate Property  |-37.687931  |145.111734   |Sage          |Davis        |Sage.Davis@hotmail.com          |254-434-2493    |0                 |Female    |Single            |122             |Gyro Plate        |1           |12.0000       |12.0000  |32.0000         |NULL                |NULL                     |32.0000        |\n",
      "|101729         |Melbourne  |8002           |English               |NULL               |2020-11-20      |2004-04-23       |2021-04-26  |133872956   |297         |2021-04-26 20:48:33  |362662177          |0              |Cheeky Greek        |Gyros        |Melbourne       |Victoria  |Australia  |1                 |221             |Kevin                    |Arnold                  |7778           |zzy-222@nhx-p3n-vj9  |Melbourne Innovation Cenre  |Lessors of Real Estate  |Lessors of Other Real Estate Property  |-37.687931  |145.111734   |Charlotte     |Stephenson   |Charlotte.Stephenson@gmail.com  |559-771-6397    |0                 |Female    |Single            |121             |The King Combo    |1           |20.0000       |20.0000  |31.0000         |NULL                |NULL                     |31.0000        |\n",
      "|101729         |Melbourne  |8002           |English               |NULL               |2020-11-20      |2004-04-23       |2021-04-26  |133872956   |297         |2021-04-26 20:48:33  |362662178          |1              |Cheeky Greek        |Gyros        |Melbourne       |Victoria  |Australia  |1                 |221             |Kevin                    |Arnold                  |7778           |zzy-222@nhx-p3n-vj9  |Melbourne Innovation Cenre  |Lessors of Real Estate  |Lessors of Other Real Estate Property  |-37.687931  |145.111734   |Charlotte     |Stephenson   |Charlotte.Stephenson@gmail.com  |559-771-6397    |0                 |Female    |Single            |123             |Greek Salad       |1           |11.0000       |11.0000  |31.0000         |NULL                |NULL                     |31.0000        |\n",
      "-------------------------------------------------------------------------------------------------------------------------------------------------------------------------------------------------------------------------------------------------------------------------------------------------------------------------------------------------------------------------------------------------------------------------------------------------------------------------------------------------------------------------------------------------------------------------------------------------------------------------------------------------------------------------------------------------------------------------------------------------------------------------------------------------------------------------------------------------------\n",
      "\n"
     ]
    }
   ],
   "source": [
    "loyal_customer_orders = remove_dup_join_col(loyal_customer_orders)\n",
    "loyal_customer_orders.show()"
   ]
  },
  {
   "cell_type": "code",
   "execution_count": 76,
   "id": "3c3e4d6c",
   "metadata": {},
   "outputs": [],
   "source": [
    "# #Recency\n",
    "# recency=loyal_customer_orders.group_by('CUSTOMER_ID').max('ORDER_TS').to_pandas()\n",
    "# recency['RECENCY']=(dt.datetime(2022,11,1,22,42,53)-pd.to_datetime(recency['MAX(ORDER_TS)'])).dt.days\n",
    "\n",
    "# #Frequency\n",
    "# frequency=loyal_customer_orders.group_by('CUSTOMER_ID').agg(F.countDistinct('ORDER_ID').alias('frequency')).to_pandas()\n",
    "\n",
    "# #Monetary\n",
    "# monetary=loyal_customer_orders.group_by('CUSTOMER_ID').agg(F.sum('ORDER_TOTAL').alias('monetary')).to_pandas()\n",
    "\n",
    "# RFM_table=recency.merge(right=frequency, how=\"inner\",on='CUSTOMER_ID')\n",
    "# RFM_table=RFM_table.merge(right=monetary,how='inner',on='CUSTOMER_ID')\n",
    "# RFM_table.drop(labels='MAX(ORDER_TS)',inplace=True,errors='ignore')"
   ]
  },
  {
   "attachments": {},
   "cell_type": "markdown",
   "id": "e884c886",
   "metadata": {},
   "source": [
    ".### Customer segmentation"
   ]
  },
  {
   "cell_type": "code",
   "execution_count": 77,
   "id": "148fb8d3",
   "metadata": {},
   "outputs": [],
   "source": [
    "# quantiles_1 = RFM_table[['RECENCY','FREQUENCY','MONETARY']].quantile(q=[0.2,0.4,0.6,0.8])\n",
    "\n",
    "# # Converting quantiles to a dictionary, easier to use.\n",
    "# quantiles = quantiles_1.to_dict()\n",
    "# ##  RFM Segmentation ----\n",
    "# RFM_Segment = RFM_table.copy()\n",
    "# # Arguments (x = value, p = recency, monetary_value, frequency, k = quartiles dict)\n",
    "# def R_Class(x,p,d):\n",
    "#     if x <= d[p][0.2]:\n",
    "#         return 5\n",
    "#     elif x <= d[p][0.4]:\n",
    "#         return 4\n",
    "#     elif x <= d[p][0.6]: \n",
    "#         return 3\n",
    "#     elif x<=d[p][0.8]:\n",
    "#         return 2 \n",
    "#     else:\n",
    "#         return 1\n",
    "    \n",
    "# # Arguments (x = value, p = recency, monetary_value, frequency, k = quartiles dict)\n",
    "# def FM_Class(x,p,d):\n",
    "#     if x <= d[p][0.2]:\n",
    "#         return 1\n",
    "#     elif x <= d[p][0.4]:\n",
    "#         return 2\n",
    "#     elif x <= d[p][0.6]: \n",
    "#         return 3\n",
    "#     elif x<=d[p][0.8]:\n",
    "#         return 4 \n",
    "#     else:\n",
    "#         return 5\n",
    "# RFM_Segment['R_Quartile'] = RFM_Segment['RECENCY'].apply(R_Class, args=('RECENCY',quantiles,))\n",
    "# RFM_Segment['F_Quartile'] = RFM_Segment['FREQUENCY'].apply(FM_Class, args=('FREQUENCY',quantiles,))\n",
    "# RFM_Segment['M_Quartile'] = RFM_Segment['MONETARY'].apply(FM_Class, args=('MONETARY',quantiles,))\n",
    "# RFM_Segment['RFMClass'] = RFM_Segment.R_Quartile.map(str) \\\n",
    "#                             + RFM_Segment.F_Quartile.map(str) \\\n",
    "#                             + RFM_Segment.M_Quartile.map(str)"
   ]
  },
  {
   "cell_type": "code",
   "execution_count": 78,
   "id": "ebddeab5",
   "metadata": {},
   "outputs": [],
   "source": [
    "# #Segment Customers\n",
    "# RFM_Segment['Segment']=np.nan\n",
    "# best=list(RFM_Segment.loc[RFM_Segment['RFMClass']==\"555\"].index)\n",
    "# lost_cheap=list(RFM_Segment.loc[RFM_Segment['RFMClass']==\"111\"].index)\n",
    "# lost=list(RFM_Segment.loc[RFM_Segment['RFMClass']==\"155\"].index)\n",
    "# lost_almost=list(RFM_Segment.loc[RFM_Segment['RFMClass']==\"455\"].index)\n",
    "# for i in RFM_Segment.index:\n",
    "#     if i in lost_cheap:\n",
    "#         RFM_Segment['Segment'].iloc[i]='Lost Cheap Customers'\n",
    "#     elif i in lost:\n",
    "#         RFM_Segment['Segment'].iloc[i]='Lost Customers'\n",
    "#     elif i in best:\n",
    "#         RFM_Segment['Segment'].iloc[i]='Best Customers'\n",
    "#     elif i in lost_almost:\n",
    "#         RFM_Segment['Segment'].iloc[i]='Almost Lost'\n",
    "#     else:\n",
    "#         RFM_Segment['Segment'].iloc[i]='Others'\n",
    "\n",
    "# loyal=list(RFM_Segment.loc[RFM_Segment['F_Quartile']==5].index)\n",
    "# loyal2=[]\n",
    "# for i in loyal:\n",
    "#     if i not in best and i not in lost_cheap and i not in lost_almost and i not in lost:\n",
    "#         loyal2.append(i)\n",
    "# for i in RFM_Segment.index:\n",
    "#     if i in loyal2:\n",
    "#         RFM_Segment['Segment'].iloc[i]='Loyal Customers'\n",
    "# big=list(RFM_Segment.loc[RFM_Segment['M_Quartile']==5].index)\n",
    "# big2=[]\n",
    "# for i in big:\n",
    "#     if i not in best and i not in lost_cheap and i not in lost_almost and i not in lost:\n",
    "#         big2.append(i)\n",
    "# for i in RFM_Segment.index:\n",
    "#     if i in big2:\n",
    "#         RFM_Segment['Segment'].iloc[i]='Big Spenders'"
   ]
  },
  {
   "cell_type": "code",
   "execution_count": 79,
   "id": "c64bcbf6",
   "metadata": {},
   "outputs": [],
   "source": [
    "# query=RFM_Segment.groupby('Segment')['CUSTOMER_ID'].nunique().sort_values(ascending=False).reset_index()\n",
    "# query.drop([0],inplace=True)\n",
    "# plt.figure(figsize=(14,8))\n",
    "# sns.barplot(data=query,x='Segment',y='CUSTOMER_ID',palette='Greens_r')\n",
    "# plt.title('Customers per Segment')"
   ]
  },
  {
   "cell_type": "code",
   "execution_count": 80,
   "id": "e458a200",
   "metadata": {},
   "outputs": [],
   "source": [
    "# window_spec = Window.partitionBy(\"CUSTOMER_ID\").orderBy(\"DATE\")\n",
    "\n",
    "# orders_df = loyal_customer_orders.withColumn(\"PRIOR_ORDER_DATE\", F.lag(\"DATE\").over(window_spec))\n",
    "\n",
    "# orders_df = orders_df.withColumn(\"DAYS_SINCE_PRIOR_ORDER\", F.datediff(col1=F.col(\"PRIOR_ORDER_DATE\"), col2=F.col(\"DATE\"),part='days'))\n",
    "\n",
    "# avg_days_between_purchases = orders_df.groupBy(\"CUSTOMER_ID\").agg(F.avg(\"DAYS_SINCE_PRIOR_ORDER\").alias(\"AVG_DAYS_BETWEEN_PURCHASES\"))"
   ]
  },
  {
   "attachments": {},
   "cell_type": "markdown",
   "id": "e669ca70",
   "metadata": {},
   "source": [
    "### 2.2.2 Join Transaction and Members Table"
   ]
  },
  {
   "cell_type": "code",
   "execution_count": 81,
   "id": "49295bb1",
   "metadata": {},
   "outputs": [
    {
     "name": "stdout",
     "output_type": "stream",
     "text": [
      "----------------------------------------------------------------------------------------------------------------------------------------------------------------------------------------------------------------------------------------------------------------------------------------------------------------------------------------------------------------------------------------------------------------------------------------------------------------------------------------------------------------------------------------------------------------------------------------------------------------------------------------------------------------------------------------------------------------------------------------------------------------------------------------------------------------------------------------------------------------------------------------------------------------------------------\n",
      "|\"ORDER_ID\"  |\"CUSTOMER_ID\"  |\"CITY\"     |\"POSTAL_CODE\"  |\"PREFERRED_LANGUAGE\"  |\"FAVOURITE_BRAND\"  |\"SIGN_UP_DATE\"  |\"BIRTHDAY_DATE\"  |\"DATE\"      |\"TRUCK_ID\"  |\"ORDER_TS\"           |\"ORDER_DETAIL_ID\"  |\"LINE_NUMBER\"  |\"TRUCK_BRAND_NAME\"    |\"MENU_TYPE\"     |\"PRIMARY_CITY\"  |\"REGION\"         |\"COUNTRY\"  |\"FRANCHISE_FLAG\"  |\"FRANCHISE_ID\"  |\"FRANCHISEE_FIRST_NAME\"  |\"FRANCHISEE_LAST_NAME\"  |\"LOCATION_ID\"  |\"PLACEKEY\"           |\"LOCATION_NAME\"               |\"TOP_CATEGORY\"                               |\"SUB_CATEGORY\"                                      |\"LATITUDE\"  |\"LONGITUDE\"  |\"FIRST_NAME\"  |\"LAST_NAME\"  |\"E_MAIL\"                     |\"PHONE_NUMBER\"  |\"CHILDREN_COUNT\"  |\"GENDER\"  |\"MARITAL_STATUS\"    |\"MENU_ITEM_ID\"  |\"MENU_ITEM_NAME\"           |\"QUANTITY\"  |\"UNIT_PRICE\"  |\"PRICE\"  |\"ORDER_AMOUNT\"  |\"ORDER_TAX_AMOUNT\"  |\"ORDER_DISCOUNT_AMOUNT\"  |\"ORDER_TOTAL\"  |\"TOTAL_QUANTITY\"  |\n",
      "----------------------------------------------------------------------------------------------------------------------------------------------------------------------------------------------------------------------------------------------------------------------------------------------------------------------------------------------------------------------------------------------------------------------------------------------------------------------------------------------------------------------------------------------------------------------------------------------------------------------------------------------------------------------------------------------------------------------------------------------------------------------------------------------------------------------------------------------------------------------------------------------------------------------------------\n",
      "|130126606   |90940          |Sydney     |2006           |English               |NULL               |2019-07-30      |1997-03-08       |2022-07-26  |282         |2022-07-26 16:16:26  |352671416          |0              |Cheeky Greek          |Gyros           |Sydney          |New South Wales  |Australia  |1                 |209             |Erik                     |Moore                   |7715           |zzy-222@nh3-yc5-4gk  |The Northern Trust Company    |Depository Credit Intermediation             |Commercial Banking                                  |-33.862818  |151.207081   |Violet        |Nolan        |Violet.Nolan@gmail.com       |296-661-7518    |0                 |Female    |Single              |121             |The King Combo             |1           |20.0000       |20.0000  |55.0000         |NULL                |NULL                     |55.0000        |4                 |\n",
      "|133629255   |157328         |Melbourne  |3003           |English               |NULL               |2021-04-15      |1987-07-01       |2021-04-02  |293         |2021-04-02 08:58:55  |362028458          |0              |Le Coin des Crêpes    |Crepes          |Melbourne       |Victoria         |Australia  |1                 |219             |Eileen                   |Lyons                   |12376          |zzy-22c@nhx-p7m-ks5  |lululemon athletica           |Clothing Stores                              |Other Clothing Stores                               |-37.812421  |144.963864   |Teagan        |Reynolds     |Teagan.Reynolds@hotmail.com  |750-186-2486    |1                 |Female    |Married             |81              |Breakfast Crepe            |2           |12.0000       |24.0000  |33.0000         |NULL                |NULL                     |33.0000        |3                 |\n",
      "|133903634   |116629         |Melbourne  |3003           |English               |NULL               |2020-08-10      |1965-10-26       |2021-04-29  |299         |2021-04-29 20:26:26  |362741906          |0              |Nani's Kitchen        |Indian          |Melbourne       |Victoria         |Australia  |1                 |223             |Adam                     |Mclean                  |9316           |zzy-223@nhx-p7m-3kf  |Place Lab                     |Lessors of Real Estate                       |Lessors of Other Real Estate Property               |-37.816349  |144.970453   |Ronnie        |Hobbs        |Ronnie.Hobbs@aol.com         |536-603-9591    |0                 |Female    |Married             |141             |Lean Chicken Tikka Masala  |3           |17.0000       |51.0000  |135.0000        |NULL                |NULL                     |135.0000       |8                 |\n",
      "|342874237   |78785          |Melbourne  |3045           |English               |NULL               |2020-01-26      |2005-10-04       |2022-10-10  |294         |2022-10-10 19:15:59  |586835122          |0              |Tasty Tibs            |Ethiopian       |Melbourne       |Victoria         |Australia  |1                 |220             |Michael                  |Smith                   |5392           |zzy-222@6dm-2nk-f4v  |Port of Melbourne             |Support Activities for Water Transportation  |Port and Harbor Operations                          |-37.819971  |144.939273   |Ari           |Arroyo       |Ari.Arroyo@gmail.com         |479-347-3458    |0                 |Male      |Single              |91              |Lean Chicken Tibs          |2           |11.0000       |22.0000  |51.0000         |NULL                |NULL                     |51.0000        |6                 |\n",
      "|340645804   |118347         |Melbourne  |3003           |English               |NULL               |2021-04-03      |1955-03-11       |2022-06-27  |296         |2022-06-27 19:29:10  |580781829          |0              |Revenge of the Curds  |Poutine         |Melbourne       |Victoria         |Australia  |1                 |220             |Michael                  |Smith                   |12931          |zzy-22h@nhx-p7m-kfz  |Just Jeans                    |Clothing Stores                              |Family Clothing Stores                              |-37.810422  |144.962801   |Charlize      |Baxter       |Charlize.Baxter@ymail.com    |307-421-2321    |1                 |Male      |Married             |112             |Mothers Favorite           |1           |12.0000       |12.0000  |50.0000         |NULL                |NULL                     |50.0000        |4                 |\n",
      "|342421311   |137024         |Melbourne  |3000           |English               |NULL               |2021-12-18      |1960-10-06       |2022-09-19  |292         |2022-09-19 09:45:16  |585604985          |0              |Plant Palace          |Vegetarian      |Melbourne       |Victoria         |Australia  |1                 |218             |Larry                    |Moore                   |11482          |zzy-227@nhx-p7m-f75  |Cartier                       |Jewelry, Luggage, and Leather Goods Stores   |Jewelry Stores                                      |-37.814131  |144.970512   |Makhi         |Contreras    |Makhi.Contreras@aol.com      |248-167-0838    |0                 |Female    |Single              |72              |Seitan Buffalo Wings       |2           |7.0000        |14.0000  |41.0000         |NULL                |NULL                     |41.0000        |5                 |\n",
      "|138457448   |199102         |Melbourne  |3003           |English               |NULL               |2021-01-24      |1981-05-10       |2022-04-04  |290         |2022-04-04 14:15:50  |374818127          |0              |Kitakata Ramen Bar    |Ramen           |Melbourne       |Victoria         |Australia  |1                 |216             |Brandon                  |Massey                  |12932          |zzy-22h@nhx-p7m-kpv  |Scape                         |Lessors of Real Estate                       |Lessors of Other Real Estate Property               |-37.809631  |144.962872   |Helena        |Sosa         |Helena.Sosa@hotmail.com      |155-521-5747    |2                 |Male      |Married             |56              |Ice Tea                    |1           |3.0000        |3.0000   |54.7500         |NULL                |NULL                     |54.7500        |4                 |\n",
      "|131799588   |116201         |Sydney     |2020           |English               |NULL               |2021-03-11      |2001-05-20       |2022-10-13  |271         |2022-10-13 13:41:51  |357215602          |0              |Freezing Point        |Ice Cream       |Sydney          |New South Wales  |Australia  |1                 |200             |Theresa                  |Henderson               |7759           |zzy-222@nh3-yd4-94v  |Regus                         |Lessors of Real Estate                       |Lessors of Other Real Estate Property               |-33.940527  |151.19849    |Finnegan      |Cline        |Finnegan.Cline@gmail.com     |384-751-8341    |4                 |Female    |Married             |18              |Mango Sticky Rice          |1           |5.0000        |5.0000   |17.0000         |NULL                |NULL                     |17.0000        |3                 |\n",
      "|121287060   |151974         |Sydney     |2060           |English               |NULL               |2020-05-08      |1982-03-05       |2020-10-21  |271         |2020-10-21 16:08:47  |328655644          |0              |Freezing Point        |Ice Cream       |Sydney          |New South Wales  |Australia  |1                 |200             |Theresa                  |Henderson               |7754           |zzy-222@nh3-ycv-rff  |Discount Car & Truck Rentals  |Automotive Equipment Rental and Leasing      |Truck, Utility Trailer, and RV (Recreational Ve...  |-33.930156  |151.184555   |Kamila        |Bender       |Kamila.Bender@hotmail.com    |511-773-4326    |0                 |Male      |Single              |12              |Waffle Cone                |1           |6.0000        |6.0000   |22.0000         |NULL                |NULL                     |22.0000        |6                 |\n",
      "|342741137   |91868          |Melbourne  |3045           |English               |NULL               |2022-03-15      |1994-10-02       |2022-10-04  |291         |2022-10-04 08:51:19  |586474732          |0              |The Mega Melt         |Grilled Cheese  |Melbourne       |Victoria         |Australia  |1                 |217             |Michelle                 |Garcia                  |7870           |zzy-222@nhx-p7m-hbk  |Europcar                      |Automotive Equipment Rental and Leasing      |Passenger Car Rental                                |-37.808101  |144.961606   |Lilia         |Fitzgerald   |Lilia.Fitzgerald@gmail.com   |216-823-7786    |2                 |Female    |Divorced/Seperated  |64              |Bottled Water              |2           |2.0000        |4.0000   |48.0000         |NULL                |NULL                     |48.0000        |11                |\n",
      "----------------------------------------------------------------------------------------------------------------------------------------------------------------------------------------------------------------------------------------------------------------------------------------------------------------------------------------------------------------------------------------------------------------------------------------------------------------------------------------------------------------------------------------------------------------------------------------------------------------------------------------------------------------------------------------------------------------------------------------------------------------------------------------------------------------------------------------------------------------------------------------------------------------------------------\n",
      "\n"
     ]
    }
   ],
   "source": [
    "#Total Quantity of each order\n",
    "temp_df=loyal_customer_orders.group_by(F.col('ORDER_ID')).agg(F.sum(F.col('QUANTITY')).alias('Total_Quantity'))\n",
    "\n",
    "#Remove duplicate order ids\n",
    "remove_dup = loyal_customer_orders.dropDuplicates(['ORDER_ID'])\n",
    "\n",
    "#Merge to get transactions table\n",
    "combined_df=remove_dup.join(\n",
    "    right=temp_df,\n",
    "    on=\"ORDER_ID\",\n",
    "    how=\"inner\"\n",
    ")\n",
    "combined_df.show()"
   ]
  },
  {
   "attachments": {},
   "cell_type": "markdown",
   "id": "b438b72a",
   "metadata": {},
   "source": [
    "# 3. Create Target Variable"
   ]
  },
  {
   "cell_type": "code",
   "execution_count": 82,
   "id": "43e66af0",
   "metadata": {},
   "outputs": [
    {
     "name": "stdout",
     "output_type": "stream",
     "text": [
      "--------------------------------------------------------------------------------------------------------------------------------------------------------------------------------------------------------------------------------------------------------------------------------------------------------------------------------------------------------------------------------------------------------------------------------------------------------------------------------------------------------------------------------------------------------------------------------------------------------------------------------------------------------------------------------------------------------------------------------------------------------------------------------------------------------------------------------------------------------------------------------------------------------------------\n",
      "|\"ORDER_ID\"  |\"CUSTOMER_ID\"  |\"CITY\"     |\"POSTAL_CODE\"  |\"PREFERRED_LANGUAGE\"  |\"FAVOURITE_BRAND\"  |\"SIGN_UP_DATE\"  |\"BIRTHDAY_DATE\"  |\"DATE\"      |\"TRUCK_ID\"  |\"ORDER_TS\"           |\"ORDER_DETAIL_ID\"  |\"LINE_NUMBER\"  |\"TRUCK_BRAND_NAME\"  |\"MENU_TYPE\"     |\"PRIMARY_CITY\"  |\"REGION\"  |\"COUNTRY\"  |\"FRANCHISE_FLAG\"  |\"FRANCHISE_ID\"  |\"FRANCHISEE_FIRST_NAME\"  |\"FRANCHISEE_LAST_NAME\"  |\"LOCATION_ID\"  |\"PLACEKEY\"           |\"LOCATION_NAME\"  |\"TOP_CATEGORY\"                                      |\"SUB_CATEGORY\"                            |\"LATITUDE\"  |\"LONGITUDE\"  |\"FIRST_NAME\"  |\"LAST_NAME\"  |\"E_MAIL\"                  |\"PHONE_NUMBER\"  |\"CHILDREN_COUNT\"  |\"GENDER\"  |\"MARITAL_STATUS\"    |\"MENU_ITEM_ID\"  |\"MENU_ITEM_NAME\"  |\"QUANTITY\"  |\"UNIT_PRICE\"  |\"PRICE\"  |\"ORDER_AMOUNT\"  |\"ORDER_TAX_AMOUNT\"  |\"ORDER_DISCOUNT_AMOUNT\"  |\"ORDER_TOTAL\"  |\"TOTAL_QUANTITY\"  |\"DAYS_TO_NEXT_ORDER\"  |\n",
      "--------------------------------------------------------------------------------------------------------------------------------------------------------------------------------------------------------------------------------------------------------------------------------------------------------------------------------------------------------------------------------------------------------------------------------------------------------------------------------------------------------------------------------------------------------------------------------------------------------------------------------------------------------------------------------------------------------------------------------------------------------------------------------------------------------------------------------------------------------------------------------------------------------------------\n",
      "|132244797   |173261         |Melbourne  |3205           |English               |NULL               |2022-02-24      |1997-11-20       |2020-07-15  |297         |2020-07-15 13:46:23  |358422801          |0              |Cheeky Greek        |Gyros           |Melbourne       |Victoria  |Australia  |1                 |221             |Kevin                    |Arnold                  |7825           |zzy-222@nhx-p7k-y5f  |W Hotels         |Traveler Accommodation                              |Hotels (except Casino Hotels) and Motels  |-37.818108  |144.959944   |Addison       |Harris       |Addison.Harris@gmail.com  |269-175-6355    |4                 |Female    |Divorced/Seperated  |121             |The King Combo    |2           |20.0000       |40.0000  |70.0000         |NULL                |NULL                     |70.0000        |6                 |6                     |\n",
      "|132253270   |173261         |Melbourne  |3205           |English               |NULL               |2022-02-24      |1997-11-20       |2020-07-21  |297         |2020-07-21 17:54:04  |358445010          |0              |Cheeky Greek        |Gyros           |Melbourne       |Victoria  |Australia  |1                 |221             |Kevin                    |Arnold                  |7898           |zzy-222@nhx-p7r-p5f  |BoConcept        |Furniture Stores                                    |Furniture Stores                          |-37.829251  |144.997636   |Addison       |Harris       |Addison.Harris@gmail.com  |269-175-6355    |4                 |Female    |Divorced/Seperated  |122             |Gyro Plate        |1           |12.0000       |12.0000  |12.0000         |NULL                |NULL                     |12.0000        |1                 |33                    |\n",
      "|132298661   |173261         |Melbourne  |3205           |English               |NULL               |2022-02-24      |1997-11-20       |2020-08-23  |297         |2020-08-23 21:42:15  |358563310          |0              |Cheeky Greek        |Gyros           |Melbourne       |Victoria  |Australia  |1                 |221             |Kevin                    |Arnold                  |7814           |zzy-222@nhx-p7j-z2k  |Spaces           |Lessors of Real Estate                              |Lessors of Other Real Estate Property     |-37.80494   |144.9899     |Addison       |Harris       |Addison.Harris@gmail.com  |269-175-6355    |4                 |Female    |Divorced/Seperated  |121             |The King Combo    |1           |20.0000       |20.0000  |43.0000         |NULL                |NULL                     |43.0000        |3                 |26                    |\n",
      "|132333823   |173261         |Melbourne  |3205           |English               |NULL               |2022-02-24      |1997-11-20       |2020-09-18  |297         |2020-09-18 21:24:29  |358654651          |0              |Cheeky Greek        |Gyros           |Melbourne       |Victoria  |Australia  |1                 |221             |Kevin                    |Arnold                  |7907           |zzy-222@nhx-p86-rhq  |Marriott Hotels  |Traveler Accommodation                              |Hotels (except Casino Hotels) and Motels  |-37.813689  |144.939235   |Addison       |Harris       |Addison.Harris@gmail.com  |269-175-6355    |4                 |Female    |Divorced/Seperated  |121             |The King Combo    |1           |20.0000       |20.0000  |46.0000         |NULL                |NULL                     |46.0000        |4                 |6                     |\n",
      "|132340877   |173261         |Melbourne  |3205           |English               |NULL               |2022-02-24      |1997-11-20       |2020-09-24  |297         |2020-09-24 10:37:41  |358672876          |0              |Cheeky Greek        |Gyros           |Melbourne       |Victoria  |Australia  |1                 |221             |Kevin                    |Arnold                  |11151          |zzy-226@nhx-p7k-yvz  |rebel            |Sporting Goods, Hobby, and Musical Instrument S...  |Sporting Goods Stores                     |-37.814512  |144.963635   |Addison       |Harris       |Addison.Harris@gmail.com  |269-175-6355    |4                 |Female    |Divorced/Seperated  |122             |Gyro Plate        |1           |12.0000       |12.0000  |23.0000         |NULL                |NULL                     |23.0000        |2                 |4                     |\n",
      "|132346728   |173261         |Melbourne  |3205           |English               |NULL               |2022-02-24      |1997-11-20       |2020-09-28  |297         |2020-09-28 13:47:06  |358688007          |0              |Cheeky Greek        |Gyros           |Melbourne       |Victoria  |Australia  |1                 |221             |Kevin                    |Arnold                  |7765           |zzy-222@nhx-nn2-ht9  |Best Western     |Traveler Accommodation                              |Hotels (except Casino Hotels) and Motels  |-37.6942    |145.001801   |Addison       |Harris       |Addison.Harris@gmail.com  |269-175-6355    |4                 |Female    |Divorced/Seperated  |123             |Greek Salad       |1           |11.0000       |11.0000  |11.0000         |NULL                |NULL                     |11.0000        |1                 |12                    |\n",
      "|132404750   |173261         |Melbourne  |3205           |English               |NULL               |2022-02-24      |1997-11-20       |2020-10-10  |300         |2020-10-10 21:39:23  |358839400          |0              |Better Off Bread    |Sandwiches      |Melbourne       |Victoria  |Australia  |1                 |224             |Steve                    |Vasquez                 |11969          |zzy-229@nhx-p7m-ks5  |Sunglass Hut     |Health and Personal Care Stores                     |Optical Goods Stores                      |-37.812441  |144.963892   |Addison       |Harris       |Addison.Harris@gmail.com  |269-175-6355    |4                 |Female    |Divorced/Seperated  |151             |Italian           |1           |11.0000       |11.0000  |11.0000         |NULL                |NULL                     |11.0000        |1                 |31                    |\n",
      "|132573095   |173261         |Melbourne  |3205           |English               |NULL               |2022-02-24      |1997-11-20       |2020-11-10  |297         |2020-11-10 21:43:18  |359277924          |0              |Cheeky Greek        |Gyros           |Melbourne       |Victoria  |Australia  |1                 |221             |Kevin                    |Arnold                  |10094          |zzy-224@nhx-p5r-hkf  |Quality Inn      |Traveler Accommodation                              |Hotels (except Casino Hotels) and Motels  |-37.782991  |144.956652   |Addison       |Harris       |Addison.Harris@gmail.com  |269-175-6355    |4                 |Female    |Divorced/Seperated  |121             |The King Combo    |1           |20.0000       |20.0000  |31.0000         |NULL                |NULL                     |31.0000        |2                 |18                    |\n",
      "|132668095   |173261         |Melbourne  |3205           |English               |NULL               |2022-02-24      |1997-11-20       |2020-11-28  |291         |2020-11-28 11:44:09  |359524804          |0              |The Mega Melt       |Grilled Cheese  |Melbourne       |Victoria  |Australia  |1                 |217             |Michelle                 |Garcia                  |9337           |zzy-223@nhx-p7n-zfz  |Timberland       |Shoe Stores                                         |Shoe Stores                               |-37.844807  |144.994325   |Addison       |Harris       |Addison.Harris@gmail.com  |269-175-6355    |4                 |Female    |Divorced/Seperated  |64              |Bottled Water     |1           |2.0000        |2.0000   |39.0000         |NULL                |NULL                     |39.0000        |8                 |7                     |\n",
      "|132710007   |173261         |Melbourne  |3205           |English               |NULL               |2022-02-24      |1997-11-20       |2020-12-05  |297         |2020-12-05 17:59:14  |359634551          |0              |Cheeky Greek        |Gyros           |Melbourne       |Victoria  |Australia  |1                 |221             |Kevin                    |Arnold                  |11147          |zzy-226@nhx-p7k-yjv  |Sunglass Hut     |Health and Personal Care Stores                     |Optical Goods Stores                      |-37.813809  |144.964012   |Addison       |Harris       |Addison.Harris@gmail.com  |269-175-6355    |4                 |Female    |Divorced/Seperated  |121             |The King Combo    |2           |20.0000       |40.0000  |66.0000         |NULL                |NULL                     |66.0000        |5                 |4                     |\n",
      "--------------------------------------------------------------------------------------------------------------------------------------------------------------------------------------------------------------------------------------------------------------------------------------------------------------------------------------------------------------------------------------------------------------------------------------------------------------------------------------------------------------------------------------------------------------------------------------------------------------------------------------------------------------------------------------------------------------------------------------------------------------------------------------------------------------------------------------------------------------------------------------------------------------------\n",
      "\n",
      "Number of rows: 782888\n",
      "---------------\n",
      "|\"MIN(DATE)\"  |\n",
      "---------------\n",
      "|2020-01-01   |\n",
      "---------------\n",
      "\n",
      "---------------\n",
      "|\"MAX(DATE)\"  |\n",
      "---------------\n",
      "|2022-10-31   |\n",
      "---------------\n",
      "\n"
     ]
    }
   ],
   "source": [
    "# Get our target variable Days to next order\n",
    "\n",
    "# Define a window partitioned by customer and ordered by date\n",
    "window_spec = Window.partitionBy(\"CUSTOMER_ID\").orderBy(\"DATE\")\n",
    "\n",
    "# Add a column with the date of the next order for each customer\n",
    "orders_df = combined_df.withColumn(\"DAYS_TO_NEXT_ORDER\", F.lead(\"DATE\").over(window_spec))\n",
    "\n",
    "# Calculate the number of days between the current order and the next order\n",
    "orders_df = orders_df.withColumn(\"DAYS_TO_NEXT_ORDER\", F.datediff(col1=\"DATE\", col2=\"DAYS_TO_NEXT_ORDER\",part='day'))\n",
    "\n",
    "#Remove null values in target variable\n",
    "orders_df= orders_df.na.drop(subset=[\"DAYS_TO_NEXT_ORDER\"])\n",
    "\n",
    "#Preview data\n",
    "orders_df.show()\n",
    "print(\"Number of rows:\",orders_df.count())\n",
    "\n",
    "#Get min and max date - 2 years and 10 months\n",
    "orders_df.agg(F.min('Date')).show()\n",
    "orders_df.agg(F.max('Date')).show()"
   ]
  },
  {
   "attachments": {},
   "cell_type": "markdown",
   "id": "055a91ac",
   "metadata": {},
   "source": [
    "# 4. Feature Engineering"
   ]
  },
  {
   "attachments": {},
   "cell_type": "markdown",
   "id": "9209976a",
   "metadata": {},
   "source": [
    "## 4.1 Creating new features"
   ]
  },
  {
   "attachments": {},
   "cell_type": "markdown",
   "id": "c9bd0674",
   "metadata": {},
   "source": [
    "### 4.1.1 Days Since Prior Order"
   ]
  },
  {
   "cell_type": "code",
   "execution_count": 83,
   "id": "5080cf93",
   "metadata": {},
   "outputs": [],
   "source": [
    "# Define a window partitioned by customer and menu item, ordered by date\n",
    "window_spec = Window.partitionBy(\"CUSTOMER_ID\").orderBy(\"DATE\")\n",
    "\n",
    "# Add a column with the date of the prior order for each customer and menu item\n",
    "orders_df = orders_df.withColumn(\"DAYS_SINCE_PRIOR_ORDER\", F.lag(\"DATE\").over(window_spec))\n",
    "\n",
    "# Calculate the number of days between the prior order and the current order for each customer and menu item\n",
    "orders_df = orders_df.withColumn(\"DAYS_SINCE_PRIOR_ORDER\", F.datediff(col1=\"DAYS_SINCE_PRIOR_ORDER\", col2=\"DATE\",part='day'))\n",
    "\n",
    "# Remove null values \n",
    "orders_df = orders_df.na.drop(subset=[\"DAYS_SINCE_PRIOR_ORDER\"])"
   ]
  },
  {
   "cell_type": "code",
   "execution_count": 84,
   "id": "802ba289",
   "metadata": {},
   "outputs": [],
   "source": [
    "\n",
    "# # Calculate the average days between purchases for each customer\n",
    "# avg_days_between_purchases = orders_df.groupBy(\"CUSTOMER_ID\").agg(F.avg(\"DAYS_SINCE_PRIOR_ORDER\").alias(\"AVG_DAYS_BETWEEN_PURCHASES\"))\n",
    "\n",
    "# # Round the average days between purchases to 2 decimal places\n",
    "# avg_days_between_purchases = avg_days_between_purchases.withColumn(\"AVG_DAYS_BETWEEN_PURCHASES\", F.round(\"AVG_DAYS_BETWEEN_PURCHASES\", 0))\n",
    "\n",
    "# # Join the average days between purchases with the orders_df DataFrame\n",
    "# orders_df = orders_df.join(avg_days_between_purchases, \"CUSTOMER_ID\")"
   ]
  },
  {
   "attachments": {},
   "cell_type": "markdown",
   "id": "6062f32c",
   "metadata": {},
   "source": [
    "### 4.1.2 Average Days Between Purchases"
   ]
  },
  {
   "cell_type": "code",
   "execution_count": 85,
   "id": "f9c864f6",
   "metadata": {},
   "outputs": [
    {
     "name": "stdout",
     "output_type": "stream",
     "text": [
      "--------------------------------------------------------------------------------------------------------------------------------------------------------------------------------------------------------------------------------------------------------------------------------------------------------------------------------------------------------------------------------------------------------------------------------------------------------------------------------------------------------------------------------------------------------------------------------------------------------------------------------------------------------------------------------------------------------------------------------------------------------------------------------------------------------------------------------------------------------------------------------------------------------------------------------------------------------------------------------------------------------------\n",
      "|\"ORDER_ID\"  |\"CUSTOMER_ID\"  |\"CITY\"  |\"POSTAL_CODE\"  |\"PREFERRED_LANGUAGE\"  |\"FAVOURITE_BRAND\"  |\"SIGN_UP_DATE\"  |\"BIRTHDAY_DATE\"  |\"DATE\"      |\"TRUCK_ID\"  |\"ORDER_TS\"           |\"ORDER_DETAIL_ID\"  |\"LINE_NUMBER\"  |\"TRUCK_BRAND_NAME\"  |\"MENU_TYPE\"  |\"PRIMARY_CITY\"  |\"REGION\"         |\"COUNTRY\"  |\"FRANCHISE_FLAG\"  |\"FRANCHISE_ID\"  |\"FRANCHISEE_FIRST_NAME\"  |\"FRANCHISEE_LAST_NAME\"  |\"LOCATION_ID\"  |\"PLACEKEY\"           |\"LOCATION_NAME\"             |\"TOP_CATEGORY\"                                      |\"SUB_CATEGORY\"                                      |\"LATITUDE\"  |\"LONGITUDE\"  |\"FIRST_NAME\"  |\"LAST_NAME\"  |\"E_MAIL\"                  |\"PHONE_NUMBER\"  |\"CHILDREN_COUNT\"  |\"GENDER\"  |\"MARITAL_STATUS\"    |\"MENU_ITEM_ID\"  |\"MENU_ITEM_NAME\"            |\"QUANTITY\"  |\"UNIT_PRICE\"  |\"PRICE\"  |\"ORDER_AMOUNT\"  |\"ORDER_TAX_AMOUNT\"  |\"ORDER_DISCOUNT_AMOUNT\"  |\"ORDER_TOTAL\"  |\"TOTAL_QUANTITY\"  |\"DAYS_TO_NEXT_ORDER\"  |\"DAYS_SINCE_PRIOR_ORDER\"  |\"AVG_DAYS_BETWEEN_PURCHASES\"  |\n",
      "--------------------------------------------------------------------------------------------------------------------------------------------------------------------------------------------------------------------------------------------------------------------------------------------------------------------------------------------------------------------------------------------------------------------------------------------------------------------------------------------------------------------------------------------------------------------------------------------------------------------------------------------------------------------------------------------------------------------------------------------------------------------------------------------------------------------------------------------------------------------------------------------------------------------------------------------------------------------------------------------------------------\n",
      "|120353089   |103585         |Sydney  |2127           |English               |NULL               |2021-08-25      |1940-05-02       |2020-03-25  |275         |2020-03-25 12:46:53  |326209433          |0              |Kitakata Ramen Bar  |Ramen        |Sydney          |New South Wales  |Australia  |1                 |202             |Margaret                 |Shaw                    |11950          |zzy-229@nh3-yc5-rff  |Western Union               |Activities Related to Credit Intermediation         |Other Activities Related to Credit Intermediation   |-33.867601  |151.207194   |Jayden        |Brennan      |Jayden.Brennan@ymail.com  |965-791-0456    |4                 |Female    |Divorced/Seperated  |52              |Spicy Miso Vegetable Ramen  |1           |17.2500       |17.2500  |17.2500         |NULL                |NULL                     |17.2500        |1                 |32                    |68                        |68                            |\n",
      "|120488468   |103585         |Sydney  |2127           |English               |NULL               |2021-08-25      |1940-05-02       |2020-04-26  |285         |2020-04-26 09:54:47  |326561704          |0              |Better Off Bread    |Sandwiches   |Sydney          |New South Wales  |Australia  |1                 |212             |Mary                     |Warren                  |11716          |zzy-228@nh3-xwr-wrk  |Skechers                    |Shoe Stores                                         |Shoe Stores                                         |-33.797172  |151.183309   |Jayden        |Brennan      |Jayden.Brennan@ymail.com  |965-791-0456    |4                 |Female    |Divorced/Seperated  |152             |Pastrami                    |1           |11.0000       |11.0000  |36.0000         |NULL                |NULL                     |36.0000        |4                 |38                    |32                        |50                            |\n",
      "|120646128   |103585         |Sydney  |2127           |English               |NULL               |2021-08-25      |1940-05-02       |2020-06-03  |279         |2020-06-03 20:17:42  |326971648          |0              |Tasty Tibs          |Ethiopian    |Sydney          |New South Wales  |Australia  |1                 |206             |Sharon                   |Flores                  |13541          |zzy-22q@nh3-yc5-vzz  |Charlotte Tilbury           |Health and Personal Care Stores                     |Cosmetics, Beauty Supplies, and Perfume Stores      |-33.871182  |151.207204   |Jayden        |Brennan      |Jayden.Brennan@ymail.com  |965-791-0456    |4                 |Female    |Divorced/Seperated  |92              |Lean Beef Tibs              |1           |13.0000       |13.0000  |13.0000         |NULL                |NULL                     |13.0000        |1                 |9                     |38                        |46                            |\n",
      "|120682163   |103585         |Sydney  |2127           |English               |NULL               |2021-08-25      |1940-05-02       |2020-06-12  |279         |2020-06-12 10:33:15  |327065561          |0              |Tasty Tibs          |Ethiopian    |Sydney          |New South Wales  |Australia  |1                 |206             |Sharon                   |Flores                  |10069          |zzy-224@nh3-yc5-skf  |Witchery                    |Clothing Stores                                     |Women's Clothing Stores                             |-33.864906  |151.20724    |Jayden        |Brennan      |Jayden.Brennan@ymail.com  |965-791-0456    |4                 |Female    |Divorced/Seperated  |96              |Ice Tea                     |1           |3.0000        |3.0000   |36.0000         |NULL                |NULL                     |36.0000        |4                 |84                    |9                         |37                            |\n",
      "|121036374   |103585         |Sydney  |2127           |English               |NULL               |2021-08-25      |1940-05-02       |2020-09-04  |285         |2020-09-04 09:16:28  |327986763          |0              |Better Off Bread    |Sandwiches   |Sydney          |New South Wales  |Australia  |1                 |212             |Mary                     |Warren                  |12363          |zzy-22c@nh3-xtb-n5z  |H&M (Hennes & Mauritz)      |Clothing Stores                                     |Family Clothing Stores                              |-33.775842  |151.119445   |Jayden        |Brennan      |Jayden.Brennan@ymail.com  |965-791-0456    |4                 |Female    |Divorced/Seperated  |152             |Pastrami                    |3           |11.0000       |33.0000  |58.0000         |NULL                |NULL                     |58.0000        |6                 |4                     |84                        |46                            |\n",
      "|121050495   |103585         |Sydney  |2127           |English               |NULL               |2021-08-25      |1940-05-02       |2020-09-08  |275         |2020-09-08 09:35:18  |328023393          |0              |Kitakata Ramen Bar  |Ramen        |Sydney          |New South Wales  |Australia  |1                 |202             |Margaret                 |Shaw                    |9261           |zzy-223@nh3-yc5-t9z  |Victory Offices Barangaroo  |Lessors of Real Estate                              |Lessors of Other Real Estate Property               |-33.865152  |151.202118   |Jayden        |Brennan      |Jayden.Brennan@ymail.com  |965-791-0456    |4                 |Female    |Divorced/Seperated  |51              |Creamy Chicken Ramen        |3           |17.2500       |51.7500  |138.0000        |NULL                |NULL                     |138.0000       |8                 |21                    |4                         |39                            |\n",
      "|121141990   |103585         |Sydney  |2127           |English               |NULL               |2021-08-25      |1940-05-02       |2020-09-29  |285         |2020-09-29 13:51:29  |328261814          |0              |Better Off Bread    |Sandwiches   |Sydney          |New South Wales  |Australia  |1                 |212             |Mary                     |Warren                  |12166          |zzy-22b@nh3-yc5-v2k  |Giorgio Armani              |Apparel, Piece Goods, and Notions Merchant Whol...  |Men's and Boys' Clothing and Furnishings Mercha...  |-33.869934  |151.20974    |Jayden        |Brennan      |Jayden.Brennan@ymail.com  |965-791-0456    |4                 |Female    |Divorced/Seperated  |151             |Italian                     |1           |11.0000       |11.0000  |60.0000         |NULL                |NULL                     |60.0000        |7                 |5                     |21                        |37                            |\n",
      "|121174056   |103585         |Sydney  |2127           |English               |NULL               |2021-08-25      |1940-05-02       |2020-10-04  |283         |2020-10-04 21:37:29  |328348800          |0              |Peking Truck        |Chinese      |Sydney          |New South Wales  |Australia  |1                 |210             |Amanda                   |Welch                   |7626           |zzy-222@nh2-fxp-qs5  |H&M (Hennes & Mauritz)      |Clothing Stores                                     |Family Clothing Stores                              |-34.041669  |150.736038   |Jayden        |Brennan      |Jayden.Brennan@ymail.com  |965-791-0456    |4                 |Female    |Divorced/Seperated  |131             |Combo Lo Mein               |2           |13.0000       |26.0000  |76.0000         |NULL                |NULL                     |76.0000        |11                |9                     |5                         |33                            |\n",
      "|121233167   |103585         |Sydney  |2127           |English               |NULL               |2021-08-25      |1940-05-02       |2020-10-13  |275         |2020-10-13 15:25:18  |328509653          |0              |Kitakata Ramen Bar  |Ramen        |Sydney          |New South Wales  |Australia  |1                 |202             |Margaret                 |Shaw                    |10670          |zzy-225@nh3-y9y-n89  |Saint Laurent               |Clothing Stores                                     |Women's Clothing Stores                             |-33.892336  |151.250688   |Jayden        |Brennan      |Jayden.Brennan@ymail.com  |965-791-0456    |4                 |Female    |Divorced/Seperated  |51              |Creamy Chicken Ramen        |1           |17.2500       |17.2500  |36.5000         |NULL                |NULL                     |36.5000        |3                 |28                    |9                         |30                            |\n",
      "|121430497   |103585         |Sydney  |2127           |English               |NULL               |2021-08-25      |1940-05-02       |2020-11-10  |283         |2020-11-10 20:07:39  |329044811          |0              |Peking Truck        |Chinese      |Sydney          |New South Wales  |Australia  |1                 |210             |Amanda                   |Welch                   |7658           |zzy-222@nh3-y9q-kvf  |Under Armour                |Clothing Stores                                     |Other Clothing Stores                               |-33.911486  |151.194035   |Jayden        |Brennan      |Jayden.Brennan@ymail.com  |965-791-0456    |4                 |Female    |Divorced/Seperated  |136             |Ice Tea                     |1           |3.0000        |3.0000   |31.0000         |NULL                |NULL                     |31.0000        |4                 |1                     |28                        |30                            |\n",
      "--------------------------------------------------------------------------------------------------------------------------------------------------------------------------------------------------------------------------------------------------------------------------------------------------------------------------------------------------------------------------------------------------------------------------------------------------------------------------------------------------------------------------------------------------------------------------------------------------------------------------------------------------------------------------------------------------------------------------------------------------------------------------------------------------------------------------------------------------------------------------------------------------------------------------------------------------------------------------------------------------------------\n",
      "\n"
     ]
    }
   ],
   "source": [
    "#Create AVG_DAYS_BETWEEN_PURCHASES\n",
    "window = Window.partition_by(\"CUSTOMER_ID\").order_by(\"ORDER_TS\")\n",
    "orders_df  =  orders_df .withColumn(\"AVG_DAYS_BETWEEN_PURCHASES\", F.avg(\"DAYS_SINCE_PRIOR_ORDER\").over(window))\n",
    "orders_df =orders_df .withColumn(\"AVG_DAYS_BETWEEN_PURCHASES\", F.round(\"AVG_DAYS_BETWEEN_PURCHASES\", 0))\n",
    "\n",
    "orders_df.show()"
   ]
  },
  {
   "attachments": {},
   "cell_type": "markdown",
   "id": "081c5674",
   "metadata": {},
   "source": [
    "### 4.1.3 Maximum and Minimum Days Between Purchases"
   ]
  },
  {
   "cell_type": "code",
   "execution_count": 86,
   "id": "dfcaffe0",
   "metadata": {},
   "outputs": [],
   "source": [
    "# Calculate the maximum and minimum number of days a customer went without the menu item\n",
    "orders_df = orders_df.withColumn(\"MAX_DAYS_WITHOUT_ITEM\", F.max(F.when(F.col(\"DAYS_SINCE_PRIOR_ORDER\").isNull(), 0).otherwise(F.col(\"DAYS_SINCE_PRIOR_ORDER\"))).over(window_spec))\n",
    "orders_df = orders_df.withColumn(\"MIN_DAYS_WITHOUT_ITEM\", F.min(F.when(F.col(\"DAYS_SINCE_PRIOR_ORDER\").isNull(), 0).otherwise(F.col(\"DAYS_SINCE_PRIOR_ORDER\"))).over(window_spec))"
   ]
  },
  {
   "attachments": {},
   "cell_type": "markdown",
   "id": "df3e9dfd",
   "metadata": {},
   "source": [
    "### 4.1.4 Frequency Value of Member"
   ]
  },
  {
   "cell_type": "code",
   "execution_count": 87,
   "id": "7f5e5ac6",
   "metadata": {},
   "outputs": [
    {
     "name": "stdout",
     "output_type": "stream",
     "text": [
      "----------------------------------------------------------------------------------------------------------------------------------------------------------------------------------------------------------------------------------------------------------------------------------------------------------------------------------------------------------------------------------------------------------------------------------------------------------------------------------------------------------------------------------------------------------------------------------------------------------------------------------------------------------------------------------------------------------------------------------------------------------------------------------------------------------------------------------------------------------------------------------------------------------------------------------------------------------------------------------------------------------------------------------------------------------------\n",
      "|\"ORDER_ID\"  |\"CUSTOMER_ID\"  |\"CITY\"     |\"POSTAL_CODE\"  |\"PREFERRED_LANGUAGE\"  |\"FAVOURITE_BRAND\"  |\"SIGN_UP_DATE\"  |\"BIRTHDAY_DATE\"  |\"DATE\"      |\"TRUCK_ID\"  |\"ORDER_TS\"           |\"ORDER_DETAIL_ID\"  |\"LINE_NUMBER\"  |\"TRUCK_BRAND_NAME\"    |\"MENU_TYPE\"     |\"PRIMARY_CITY\"  |\"REGION\"  |\"COUNTRY\"  |\"FRANCHISE_FLAG\"  |\"FRANCHISE_ID\"  |\"FRANCHISEE_FIRST_NAME\"  |\"FRANCHISEE_LAST_NAME\"  |\"LOCATION_ID\"  |\"PLACEKEY\"           |\"LOCATION_NAME\"         |\"TOP_CATEGORY\"                                      |\"SUB_CATEGORY\"                                      |\"LATITUDE\"  |\"LONGITUDE\"  |\"FIRST_NAME\"  |\"LAST_NAME\"  |\"E_MAIL\"                |\"PHONE_NUMBER\"  |\"CHILDREN_COUNT\"  |\"GENDER\"  |\"MARITAL_STATUS\"  |\"MENU_ITEM_ID\"  |\"MENU_ITEM_NAME\"  |\"QUANTITY\"  |\"UNIT_PRICE\"  |\"PRICE\"   |\"ORDER_AMOUNT\"  |\"ORDER_TAX_AMOUNT\"  |\"ORDER_DISCOUNT_AMOUNT\"  |\"ORDER_TOTAL\"  |\"TOTAL_QUANTITY\"  |\"DAYS_TO_NEXT_ORDER\"  |\"DAYS_SINCE_PRIOR_ORDER\"  |\"AVG_DAYS_BETWEEN_PURCHASES\"  |\"MAX_DAYS_WITHOUT_ITEM\"  |\"MIN_DAYS_WITHOUT_ITEM\"  |\"FREQUENCY\"  |\n",
      "----------------------------------------------------------------------------------------------------------------------------------------------------------------------------------------------------------------------------------------------------------------------------------------------------------------------------------------------------------------------------------------------------------------------------------------------------------------------------------------------------------------------------------------------------------------------------------------------------------------------------------------------------------------------------------------------------------------------------------------------------------------------------------------------------------------------------------------------------------------------------------------------------------------------------------------------------------------------------------------------------------------------------------------------------------------\n",
      "|132280428   |187643         |Melbourne  |3207           |English               |NULL               |2019-06-02      |1977-09-10       |2020-08-10  |297         |2020-08-10 12:59:38  |358515689          |0              |Cheeky Greek          |Gyros           |Melbourne       |Victoria  |Australia  |1                 |221             |Kevin                    |Arnold                  |12172          |zzy-22b@nhx-p7k-yjv  |David Jones             |Department Stores                                   |Department Stores                                   |-37.81316   |144.964426   |Clare         |Meza         |Clare.Meza@hotmail.com  |434-334-4210    |0                 |Male      |Single            |121             |The King Combo    |5           |20.0000       |100.0000  |282.0000        |NULL                |NULL                     |282.0000       |23                |57                    |35                        |35                            |35                       |35                       |1            |\n",
      "|132381118   |187643         |Melbourne  |3207           |English               |NULL               |2019-06-02      |1977-09-10       |2020-10-06  |297         |2020-10-06 16:43:08  |358777703          |0              |Cheeky Greek          |Gyros           |Melbourne       |Victoria  |Australia  |1                 |221             |Kevin                    |Arnold                  |10093          |zzy-224@nhx-p4k-m49  |Thomas Sabo             |Jewelry, Luggage, and Leather Goods Stores          |Jewelry Stores                                      |-37.786938  |145.125312   |Clare         |Meza         |Clare.Meza@hotmail.com  |434-334-4210    |0                 |Male      |Single            |121             |The King Combo    |2           |20.0000       |40.0000   |43.0000         |NULL                |NULL                     |43.0000        |3                 |25                    |57                        |46                            |57                       |35                       |2            |\n",
      "|132517715   |187643         |Melbourne  |3207           |English               |NULL               |2019-06-02      |1977-09-10       |2020-10-31  |297         |2020-10-31 13:47:18  |359133629          |0              |Cheeky Greek          |Gyros           |Melbourne       |Victoria  |Australia  |1                 |221             |Kevin                    |Arnold                  |13453          |zzy-22p@nhx-p7m-ks5  |Victoria's Secret       |Clothing Stores                                     |Women's Clothing Stores                             |-37.812512  |144.963569   |Clare         |Meza         |Clare.Meza@hotmail.com  |434-334-4210    |0                 |Male      |Single            |121             |The King Combo    |1           |20.0000       |20.0000   |20.0000         |NULL                |NULL                     |20.0000        |1                 |8                     |25                        |39                            |57                       |25                       |3            |\n",
      "|132563366   |187643         |Melbourne  |3207           |English               |NULL               |2019-06-02      |1977-09-10       |2020-11-08  |300         |2020-11-08 17:49:42  |359252585          |0              |Better Off Bread      |Sandwiches      |Melbourne       |Victoria  |Australia  |1                 |224             |Steve                    |Vasquez                 |9324           |zzy-223@nhx-p7m-f75  |Giorgio Armani          |Apparel, Piece Goods, and Notions Merchant Whol...  |Men's and Boys' Clothing and Furnishings Mercha...  |-37.81456   |144.969596   |Clare         |Meza         |Clare.Meza@hotmail.com  |434-334-4210    |0                 |Male      |Single            |152             |Pastrami          |1           |11.0000       |11.0000   |25.0000         |NULL                |NULL                     |25.0000        |3                 |9                     |8                         |31                            |57                       |8                        |4            |\n",
      "|132607868   |187643         |Melbourne  |3207           |English               |NULL               |2019-06-02      |1977-09-10       |2020-11-17  |291         |2020-11-17 16:19:57  |359368189          |0              |The Mega Melt         |Grilled Cheese  |Melbourne       |Victoria  |Australia  |1                 |217             |Michelle                 |Garcia                  |11734          |zzy-228@nhx-p7k-ygk  |Zara                    |Clothing Stores                                     |Family Clothing Stores                              |-37.813734  |144.964648   |Clare         |Meza         |Clare.Meza@hotmail.com  |434-334-4210    |0                 |Male      |Single            |64              |Bottled Water     |1           |2.0000        |2.0000    |28.0000         |NULL                |NULL                     |28.0000        |6                 |14                    |9                         |27                            |57                       |8                        |5            |\n",
      "|132684304   |187643         |Melbourne  |3207           |English               |NULL               |2019-06-02      |1977-09-10       |2020-12-01  |291         |2020-12-01 11:09:31  |359567071          |0              |The Mega Melt         |Grilled Cheese  |Melbourne       |Victoria  |Australia  |1                 |217             |Michelle                 |Garcia                  |7925           |zzy-222@nhx-sw7-vpv  |Best Western            |Traveler Accommodation                              |Hotels (except Casino Hotels) and Motels            |-37.951927  |145.045508   |Clare         |Meza         |Clare.Meza@hotmail.com  |434-334-4210    |0                 |Male      |Single            |65              |Bottled Soda      |1           |3.0000        |3.0000    |13.0000         |NULL                |NULL                     |13.0000        |3                 |6                     |14                        |25                            |57                       |8                        |6            |\n",
      "|132720609   |187643         |Melbourne  |3207           |English               |NULL               |2019-06-02      |1977-09-10       |2020-12-07  |297         |2020-12-07 18:33:20  |359662206          |0              |Cheeky Greek          |Gyros           |Melbourne       |Victoria  |Australia  |1                 |221             |Kevin                    |Arnold                  |9330           |zzy-223@nhx-p7m-kxq  |Specsavers Optical      |Health and Personal Care Stores                     |Optical Goods Stores                                |-37.811382  |144.963519   |Clare         |Meza         |Clare.Meza@hotmail.com  |434-334-4210    |0                 |Male      |Single            |122             |Gyro Plate        |3           |12.0000       |36.0000   |41.0000         |NULL                |NULL                     |41.0000        |5                 |8                     |6                         |22                            |57                       |6                        |7            |\n",
      "|132765514   |187643         |Melbourne  |3207           |English               |NULL               |2019-06-02      |1977-09-10       |2020-12-15  |297         |2020-12-15 21:38:02  |359778678          |0              |Cheeky Greek          |Gyros           |Melbourne       |Victoria  |Australia  |1                 |221             |Kevin                    |Arnold                  |7836           |zzy-222@nhx-p7k-zmk  |H&M (Hennes & Mauritz)  |Clothing Stores                                     |Family Clothing Stores                              |-37.813985  |144.963489   |Clare         |Meza         |Clare.Meza@hotmail.com  |434-334-4210    |0                 |Male      |Single            |121             |The King Combo    |3           |20.0000       |60.0000   |130.0000        |NULL                |NULL                     |130.0000       |10                |11                    |8                         |20                            |57                       |6                        |8            |\n",
      "|132825539   |187643         |Melbourne  |3207           |English               |NULL               |2019-06-02      |1977-09-10       |2020-12-26  |297         |2020-12-26 20:49:52  |359934731          |0              |Cheeky Greek          |Gyros           |Melbourne       |Victoria  |Australia  |1                 |221             |Kevin                    |Arnold                  |7846           |zzy-222@nhx-p7m-7bk  |Virgin Active           |Other Amusement and Recreation Industries           |Fitness and Recreational Sports Centers             |-37.818806  |144.955742   |Clare         |Meza         |Clare.Meza@hotmail.com  |434-334-4210    |0                 |Male      |Single            |122             |Gyro Plate        |1           |12.0000       |12.0000   |23.0000         |NULL                |NULL                     |23.0000        |2                 |73                    |11                        |19                            |57                       |6                        |9            |\n",
      "|133425490   |187643         |Melbourne  |3207           |English               |NULL               |2019-06-02      |1977-09-10       |2021-03-09  |296         |2021-03-09 20:52:39  |361498358          |0              |Revenge of the Curds  |Poutine         |Melbourne       |Victoria  |Australia  |1                 |220             |Michael                  |Smith                   |9300           |zzy-223@nhx-p7k-x89  |Woolworths Australia    |Grocery Stores                                      |Supermarkets and Other Grocery (except Convenie...  |-37.815981  |144.96232    |Clare         |Meza         |Clare.Meza@hotmail.com  |434-334-4210    |0                 |Male      |Single            |111             |The Classic       |3           |12.0000       |36.0000   |95.0000         |NULL                |NULL                     |95.0000        |10                |3                     |73                        |25                            |73                       |6                        |10           |\n",
      "----------------------------------------------------------------------------------------------------------------------------------------------------------------------------------------------------------------------------------------------------------------------------------------------------------------------------------------------------------------------------------------------------------------------------------------------------------------------------------------------------------------------------------------------------------------------------------------------------------------------------------------------------------------------------------------------------------------------------------------------------------------------------------------------------------------------------------------------------------------------------------------------------------------------------------------------------------------------------------------------------------------------------------------------------------------\n",
      "\n"
     ]
    }
   ],
   "source": [
    "#Create Freqency\n",
    "window = Window.partition_by(\"CUSTOMER_ID\").order_by(\"ORDER_TS\")\n",
    "orders_df = orders_df.with_column(\"Frequency\", F.row_number().over(window))\n",
    "\n",
    "orders_df.show()"
   ]
  },
  {
   "attachments": {},
   "cell_type": "markdown",
   "id": "cb853743",
   "metadata": {},
   "source": [
    "### 4.1.5 Monetary Value of Member"
   ]
  },
  {
   "cell_type": "code",
   "execution_count": 88,
   "id": "f7843daf",
   "metadata": {},
   "outputs": [
    {
     "name": "stdout",
     "output_type": "stream",
     "text": [
      "--------------------------------------------------------------------------------------------------------------------------------------------------------------------------------------------------------------------------------------------------------------------------------------------------------------------------------------------------------------------------------------------------------------------------------------------------------------------------------------------------------------------------------------------------------------------------------------------------------------------------------------------------------------------------------------------------------------------------------------------------------------------------------------------------------------------------------------------------------------------------------------------------------------------------------------------------------------------------------------------------------------------------------------------------------------------------------------\n",
      "|\"ORDER_ID\"  |\"CUSTOMER_ID\"  |\"CITY\"     |\"POSTAL_CODE\"  |\"PREFERRED_LANGUAGE\"  |\"FAVOURITE_BRAND\"  |\"SIGN_UP_DATE\"  |\"BIRTHDAY_DATE\"  |\"DATE\"      |\"TRUCK_ID\"  |\"ORDER_TS\"           |\"ORDER_DETAIL_ID\"  |\"LINE_NUMBER\"  |\"TRUCK_BRAND_NAME\"    |\"MENU_TYPE\"     |\"PRIMARY_CITY\"  |\"REGION\"  |\"COUNTRY\"  |\"FRANCHISE_FLAG\"  |\"FRANCHISE_ID\"  |\"FRANCHISEE_FIRST_NAME\"  |\"FRANCHISEE_LAST_NAME\"  |\"LOCATION_ID\"  |\"PLACEKEY\"           |\"LOCATION_NAME\"            |\"TOP_CATEGORY\"                                      |\"SUB_CATEGORY\"                                      |\"LATITUDE\"  |\"LONGITUDE\"  |\"FIRST_NAME\"  |\"LAST_NAME\"  |\"E_MAIL\"                 |\"PHONE_NUMBER\"  |\"CHILDREN_COUNT\"  |\"GENDER\"  |\"MARITAL_STATUS\"  |\"MENU_ITEM_ID\"  |\"MENU_ITEM_NAME\"   |\"QUANTITY\"  |\"UNIT_PRICE\"  |\"PRICE\"  |\"ORDER_AMOUNT\"  |\"ORDER_TAX_AMOUNT\"  |\"ORDER_DISCOUNT_AMOUNT\"  |\"ORDER_TOTAL\"  |\"TOTAL_QUANTITY\"  |\"DAYS_TO_NEXT_ORDER\"  |\"DAYS_SINCE_PRIOR_ORDER\"  |\"AVG_DAYS_BETWEEN_PURCHASES\"  |\"MAX_DAYS_WITHOUT_ITEM\"  |\"MIN_DAYS_WITHOUT_ITEM\"  |\"FREQUENCY\"  |\"MONETARYVALUE\"  |\n",
      "--------------------------------------------------------------------------------------------------------------------------------------------------------------------------------------------------------------------------------------------------------------------------------------------------------------------------------------------------------------------------------------------------------------------------------------------------------------------------------------------------------------------------------------------------------------------------------------------------------------------------------------------------------------------------------------------------------------------------------------------------------------------------------------------------------------------------------------------------------------------------------------------------------------------------------------------------------------------------------------------------------------------------------------------------------------------------------------\n",
      "|132324858   |132310         |Melbourne  |3207           |English               |NULL               |2021-05-03      |1973-05-12       |2020-09-12  |297         |2020-09-12 12:44:32  |358631182          |0              |Cheeky Greek          |Gyros           |Melbourne       |Victoria  |Australia  |1                 |221             |Kevin                    |Arnold                  |9287           |zzy-223@nhx-nmn-qmk  |Michael Hill               |Jewelry, Luggage, and Leather Goods Stores          |Jewelry Stores                                      |-37.698223  |145.059711   |Ella          |Spence       |Ella.Spence@hotmail.com  |719-704-8648    |1                 |Female    |Married           |121             |The King Combo     |3           |20.0000       |60.0000  |106.0000        |NULL                |NULL                     |106.0000       |8                 |45                    |17                        |17                            |17                       |17                       |1            |106.0000         |\n",
      "|132494335   |132310         |Melbourne  |3207           |English               |NULL               |2021-05-03      |1973-05-12       |2020-10-27  |296         |2020-10-27 15:40:30  |359072816          |0              |Revenge of the Curds  |Poutine         |Melbourne       |Victoria  |Australia  |1                 |220             |Michael                  |Smith                   |12369          |zzy-22c@nhx-p4k-kxq  |Zara                       |Clothing Stores                                     |Family Clothing Stores                              |-37.785188  |145.125783   |Ella          |Spence       |Ella.Spence@hotmail.com  |719-704-8648    |1                 |Female    |Married           |111             |The Classic        |1           |12.0000       |12.0000  |12.0000         |NULL                |NULL                     |12.0000        |1                 |25                    |45                        |31                            |45                       |17                       |2            |118.0000         |\n",
      "|132633363   |132310         |Melbourne  |3207           |English               |NULL               |2021-05-03      |1973-05-12       |2020-11-21  |297         |2020-11-21 16:48:55  |359434819          |0              |Cheeky Greek          |Gyros           |Melbourne       |Victoria  |Australia  |1                 |221             |Kevin                    |Arnold                  |13364          |zzy-22n@nhx-st6-yn5  |Moncler                    |Clothing Stores                                     |Other Clothing Stores                               |-37.885864  |145.081477   |Ella          |Spence       |Ella.Spence@hotmail.com  |719-704-8648    |1                 |Female    |Married           |122             |Gyro Plate         |1           |12.0000       |12.0000  |34.0000         |NULL                |NULL                     |34.0000        |3                 |17                    |25                        |29                            |45                       |17                       |3            |152.0000         |\n",
      "|132725609   |132310         |Melbourne  |3207           |English               |NULL               |2021-05-03      |1973-05-12       |2020-12-08  |297         |2020-12-08 15:38:59  |359675125          |0              |Cheeky Greek          |Gyros           |Melbourne       |Victoria  |Australia  |1                 |221             |Kevin                    |Arnold                  |7809           |zzy-222@nhx-p7h-bx5  |South Hive                 |Lessors of Real Estate                              |Lessors of Other Real Estate Property               |-37.830893  |144.955608   |Ella          |Spence       |Ella.Spence@hotmail.com  |719-704-8648    |1                 |Female    |Married           |121             |The King Combo     |1           |20.0000       |20.0000  |76.0000         |NULL                |NULL                     |76.0000        |8                 |41                    |17                        |26                            |45                       |17                       |4            |228.0000         |\n",
      "|133004209   |132310         |Melbourne  |3207           |English               |NULL               |2021-05-03      |1973-05-12       |2021-01-18  |297         |2021-01-18 20:10:24  |360400293          |0              |Cheeky Greek          |Gyros           |Melbourne       |Victoria  |Australia  |1                 |221             |Kevin                    |Arnold                  |11481          |zzy-227@nhx-p7m-dvz  |Warhammer                  |Sporting Goods, Hobby, and Musical Instrument S...  |Hobby, Toy, and Game Stores                         |-37.813318  |144.970284   |Ella          |Spence       |Ella.Spence@hotmail.com  |719-704-8648    |1                 |Female    |Married           |123             |Greek Salad        |3           |11.0000       |33.0000  |33.0000         |NULL                |NULL                     |33.0000        |3                 |24                    |41                        |29                            |45                       |17                       |5            |261.0000         |\n",
      "|133202673   |132310         |Melbourne  |3207           |English               |NULL               |2021-05-03      |1973-05-12       |2021-02-11  |294         |2021-02-11 10:06:36  |360917696          |0              |Tasty Tibs            |Ethiopian       |Melbourne       |Victoria  |Australia  |1                 |220             |Michael                  |Smith                   |10707          |zzy-225@nhx-p7m-8n5  |Mastercard                 |Management of Companies and Enterprises             |Corporate, Subsidiary, and Regional Managing Of...  |-37.816086  |144.958046   |Ella          |Spence       |Ella.Spence@hotmail.com  |719-704-8648    |1                 |Female    |Married           |92              |Lean Beef Tibs     |2           |13.0000       |26.0000  |56.0000         |NULL                |NULL                     |56.0000        |6                 |9                     |24                        |28                            |45                       |17                       |6            |317.0000         |\n",
      "|133282961   |132310         |Melbourne  |3207           |English               |NULL               |2021-05-03      |1973-05-12       |2021-02-20  |297         |2021-02-20 18:28:30  |361126840          |0              |Cheeky Greek          |Gyros           |Melbourne       |Victoria  |Australia  |1                 |221             |Kevin                    |Arnold                  |10091          |zzy-224@nhx-nrx-nyv  |Quality Inn                |Traveler Accommodation                              |Hotels (except Casino Hotels) and Motels            |-37.68181   |144.883152   |Ella          |Spence       |Ella.Spence@hotmail.com  |719-704-8648    |1                 |Female    |Married           |121             |The King Combo     |1           |20.0000       |20.0000  |57.0000         |NULL                |NULL                     |57.0000        |5                 |28                    |9                         |25                            |45                       |9                        |7            |374.0000         |\n",
      "|133518759   |132310         |Melbourne  |3207           |English               |NULL               |2021-05-03      |1973-05-12       |2021-03-20  |294         |2021-03-20 13:45:50  |361741319          |0              |Tasty Tibs            |Ethiopian       |Melbourne       |Victoria  |Australia  |1                 |220             |Michael                  |Smith                   |9307           |zzy-223@nhx-p7k-yjv  |Gucci                      |Clothing Stores                                     |Family Clothing Stores                              |-37.813038  |144.964345   |Ella          |Spence       |Ella.Spence@hotmail.com  |719-704-8648    |1                 |Female    |Married           |91              |Lean Chicken Tibs  |3           |11.0000       |33.0000  |55.0000         |NULL                |NULL                     |55.0000        |5                 |48                    |28                        |26                            |45                       |9                        |8            |429.0000         |\n",
      "|133978808   |132310         |Melbourne  |3207           |English               |NULL               |2021-05-03      |1973-05-12       |2021-05-07  |296         |2021-05-07 10:39:12  |362937340          |0              |Revenge of the Curds  |Poutine         |Melbourne       |Victoria  |Australia  |1                 |220             |Michael                  |Smith                   |9347           |zzy-223@nhx-shg-x89  |Victory Offices Dandenong  |Lessors of Real Estate                              |Lessors of Other Real Estate Property               |-37.986317  |145.213586   |Ella          |Spence       |Ella.Spence@hotmail.com  |719-704-8648    |1                 |Female    |Married           |111             |The Classic        |1           |12.0000       |12.0000  |12.0000         |NULL                |NULL                     |12.0000        |1                 |17                    |48                        |28                            |48                       |9                        |9            |441.0000         |\n",
      "|134144128   |132310         |Melbourne  |3207           |English               |NULL               |2021-05-03      |1973-05-12       |2021-05-24  |291         |2021-05-24 18:01:00  |363367496          |0              |The Mega Melt         |Grilled Cheese  |Melbourne       |Victoria  |Australia  |1                 |217             |Michelle                 |Garcia                  |14006          |zzy-232@nhx-p7m-ks5  |Charlotte Tilbury          |Health and Personal Care Stores                     |Cosmetics, Beauty Supplies, and Perfume Stores      |-37.812451  |144.963796   |Ella          |Spence       |Ella.Spence@hotmail.com  |719-704-8648    |1                 |Female    |Married           |64              |Bottled Water      |1           |2.0000        |2.0000   |20.0000         |NULL                |NULL                     |20.0000        |4                 |7                     |17                        |27                            |48                       |9                        |10           |461.0000         |\n",
      "--------------------------------------------------------------------------------------------------------------------------------------------------------------------------------------------------------------------------------------------------------------------------------------------------------------------------------------------------------------------------------------------------------------------------------------------------------------------------------------------------------------------------------------------------------------------------------------------------------------------------------------------------------------------------------------------------------------------------------------------------------------------------------------------------------------------------------------------------------------------------------------------------------------------------------------------------------------------------------------------------------------------------------------------------------------------------------------\n",
      "\n"
     ]
    }
   ],
   "source": [
    "#Create Monetary\n",
    "window = Window.partition_by(\"CUSTOMER_ID\").order_by(\"ORDER_TS\")\n",
    "orders_df =  orders_df.withColumn(\"MonetaryValue\", F.sum(\"ORDER_TOTAL\").over(window))\n",
    "\n",
    "orders_df.show()"
   ]
  },
  {
   "attachments": {},
   "cell_type": "markdown",
   "id": "ec709ef2",
   "metadata": {},
   "source": [
    "### 4.1.6 Age of Member"
   ]
  },
  {
   "cell_type": "code",
   "execution_count": 89,
   "id": "992fa403",
   "metadata": {},
   "outputs": [],
   "source": [
    "#Extract time of day from Order_TS\n",
    "time_of_day = (\n",
    "    F.when((F.hour('order_ts') >= 0) & (F.hour('order_ts') < 6), 'night')\n",
    "    .when((F.hour('order_ts') >= 6) & (F.hour('order_ts') < 12), 'morning')\n",
    "    .when((F.hour('order_ts') >= 12) & (F.hour('order_ts') < 18), 'afternoon')\n",
    "    .when((F.hour('order_ts') >= 18) & (F.hour('order_ts') < 24), 'evening')\n",
    "    .otherwise('unknown')\n",
    ")\n",
    "\n",
    "orders_df = orders_df.withColumn('time_of_day', time_of_day)"
   ]
  },
  {
   "cell_type": "code",
   "execution_count": 90,
   "id": "cccf2491",
   "metadata": {},
   "outputs": [],
   "source": [
    "# get max date/latest date in the ORDER_TS column\n",
    "latest_date = orders_df.agg(F.max('ORDER_TS')).collect()[0][0]\n",
    "\n",
    "# convert BIRTHDAY_DATE column to timestamp type\n",
    "orders_df = orders_df.withColumn(\"BIRTHDAY_DATE\", F.to_timestamp(F.col(\"BIRTHDAY_DATE\")))\n",
    "\n",
    "# get AGE variable\n",
    "orders_df = orders_df.withColumn(\"AGE\", F.datediff('year',F.lit(latest_date), F.col(\"BIRTHDAY_DATE\")))\n",
    "\n",
    "# calculation leads to values in the AGE column to be -ve\n",
    "# convert all the values in the AGE column to positive values\n",
    "orders_df = orders_df.withColumn('AGE', F.abs(F.col('AGE')))\n",
    "\n",
    "# convert the AGE column to int type\n",
    "orders_df = orders_df.withColumn(\"AGE\", F.col(\"AGE\").cast(T.IntegerType()))\n"
   ]
  },
  {
   "attachments": {},
   "cell_type": "markdown",
   "id": "85bdd3db",
   "metadata": {},
   "source": [
    "### 4.2 Dropping unncessary columns"
   ]
  },
  {
   "cell_type": "code",
   "execution_count": 91,
   "id": "fa404492",
   "metadata": {},
   "outputs": [
    {
     "name": "stdout",
     "output_type": "stream",
     "text": [
      "---------------------------------------------------------------------------------------------------------------------------------------------------------------------------------------------------------------------------------------------------------------------------------------------------------------------------------------------------------------------------------------------------------------------------------------------------------\n",
      "|\"ORDER_ID\"  |\"CUSTOMER_ID\"  |\"CITY\"  |\"ORDER_TS\"           |\"TRUCK_BRAND_NAME\"  |\"MENU_TYPE\"  |\"REGION\"         |\"LOCATION_NAME\"             |\"CHILDREN_COUNT\"  |\"GENDER\"     |\"MARITAL_STATUS\"  |\"ORDER_TOTAL\"  |\"TOTAL_QUANTITY\"  |\"DAYS_TO_NEXT_ORDER\"  |\"DAYS_SINCE_PRIOR_ORDER\"  |\"AVG_DAYS_BETWEEN_PURCHASES\"  |\"MAX_DAYS_WITHOUT_ITEM\"  |\"MIN_DAYS_WITHOUT_ITEM\"  |\"FREQUENCY\"  |\"MONETARYVALUE\"  |\"TIME_OF_DAY\"  |\"BIRTHDAY_DATE\"      |\"AGE\"  |\n",
      "---------------------------------------------------------------------------------------------------------------------------------------------------------------------------------------------------------------------------------------------------------------------------------------------------------------------------------------------------------------------------------------------------------------------------------------------------------\n",
      "|120151547   |163711         |Sydney  |2020-02-05 21:55:27  |Kitakata Ramen Bar  |Ramen        |New South Wales  |Adidas                      |0                 |Undisclosed  |Single            |51.7500        |3                 |143                   |2                         |2                             |2                        |2                        |1            |51.7500          |evening        |1958-08-03 00:00:00  |64     |\n",
      "|120744105   |163711         |Sydney  |2020-06-27 12:26:21  |Kitakata Ramen Bar  |Ramen        |New South Wales  |Prada                       |0                 |Undisclosed  |Single            |17.2500        |1                 |10                    |143                       |73                            |143                      |2                        |2            |69.0000          |afternoon      |1958-08-03 00:00:00  |64     |\n",
      "|120787766   |163711         |Sydney  |2020-07-07 16:12:08  |Tasty Tibs          |Ethiopian    |New South Wales  |Balenciaga                  |0                 |Undisclosed  |Single            |53.0000        |5                 |21                    |10                        |52                            |143                      |2                        |3            |122.0000         |afternoon      |1958-08-03 00:00:00  |64     |\n",
      "|120874594   |163711         |Sydney  |2020-07-28 10:03:15  |Tasty Tibs          |Ethiopian    |New South Wales  |Courtyard by Marriott       |0                 |Undisclosed  |Single            |33.0000        |3                 |9                     |21                        |44                            |143                      |2                        |4            |155.0000         |morning        |1958-08-03 00:00:00  |64     |\n",
      "|120915644   |163711         |Sydney  |2020-08-06 20:30:21  |Better Off Bread    |Sandwiches   |New South Wales  |Sandro                      |0                 |Undisclosed  |Single            |36.0000        |4                 |3                     |9                         |37                            |143                      |2                        |5            |191.0000         |evening        |1958-08-03 00:00:00  |64     |\n",
      "|120926890   |163711         |Sydney  |2020-08-09 20:41:58  |Tasty Tibs          |Ethiopian    |New South Wales  |Victory Offices Barangaroo  |0                 |Undisclosed  |Single            |51.0000        |6                 |30                    |3                         |31                            |143                      |2                        |6            |242.0000         |evening        |1958-08-03 00:00:00  |64     |\n",
      "|121051260   |163711         |Sydney  |2020-09-08 17:59:30  |Kitakata Ramen Bar  |Ramen        |New South Wales  |Motive Coworking            |0                 |Undisclosed  |Single            |111.5000       |9                 |31                    |30                        |31                            |143                      |2                        |7            |353.5000         |afternoon      |1958-08-03 00:00:00  |64     |\n",
      "|121205865   |163711         |Sydney  |2020-10-09 10:14:22  |Tasty Tibs          |Ethiopian    |New South Wales  |Auburn Central              |0                 |Undisclosed  |Single            |9.0000         |1                 |24                    |31                        |31                            |143                      |2                        |8            |362.5000         |morning        |1958-08-03 00:00:00  |64     |\n",
      "|121372372   |163711         |Sydney  |2020-11-02 12:13:18  |Tasty Tibs          |Ethiopian    |New South Wales  |Ferragamo                   |0                 |Undisclosed  |Single            |57.0000        |7                 |37                    |24                        |30                            |143                      |2                        |9            |419.5000         |afternoon      |1958-08-03 00:00:00  |64     |\n",
      "|121630931   |163711         |Sydney  |2020-12-09 18:17:08  |Peking Truck        |Chinese      |New South Wales  |Servcorp                    |0                 |Undisclosed  |Single            |15.0000        |3                 |3                     |37                        |31                            |143                      |2                        |10           |434.5000         |evening        |1958-08-03 00:00:00  |64     |\n",
      "---------------------------------------------------------------------------------------------------------------------------------------------------------------------------------------------------------------------------------------------------------------------------------------------------------------------------------------------------------------------------------------------------------------------------------------------------------\n",
      "\n"
     ]
    }
   ],
   "source": [
    "#Remove unnecessary columns \n",
    "new_orders_df=orders_df.drop(['POSTAL_CODE', 'PREFERRED_LANGUAGE','FAVOURITE_BRAND','SIGN_UP_DATE','ORDER_DETAIL_ID','LINE_NUMBER','TRUCK_ID',\n",
    "                'PRIMARY_CITY','COUNTRY','FRANCHISE_FLAG','FRANCHISE_ID','FRANCHISEE_FIRST_NAME','FRANCHISEE_LAST_NAME','LOCATION_ID','PLACEKEY','TOP_CATEGORY','SUB_CATEGORY','LATITUDE',\n",
    "                'LONGITUDE','FIRST_NAME','LAST_NAME','E_MAIL','PHONE_NUMBER','QUANTITY','UNIT_PRICE','PRICE','ORDER_AMOUNT','ORDER_TAX_AMOUNT','ORDER_DISCOUNT_AMOUNT','DATE',\n",
    "                'MENU_ITEM_NAME','MENU_ITEM_ID'])\n",
    "new_orders_df.show()"
   ]
  },
  {
   "attachments": {},
   "cell_type": "markdown",
   "id": "115928f4",
   "metadata": {},
   "source": [
    "# 5. Null Handling"
   ]
  },
  {
   "cell_type": "code",
   "execution_count": 93,
   "id": "25f7752f",
   "metadata": {},
   "outputs": [
    {
     "name": "stdout",
     "output_type": "stream",
     "text": [
      "   ORDER_ID  CUSTOMER_ID  CITY  ORDER_TS  TRUCK_BRAND_NAME  MENU_TYPE  REGION  \\\n",
      "0         0            0     0         0                 0          0       0   \n",
      "\n",
      "   LOCATION_NAME  CHILDREN_COUNT  GENDER  ...  DAYS_TO_NEXT_ORDER  \\\n",
      "0              0               0       0  ...                   0   \n",
      "\n",
      "   DAYS_SINCE_PRIOR_ORDER  AVG_DAYS_BETWEEN_PURCHASES  MAX_DAYS_WITHOUT_ITEM  \\\n",
      "0                       0                           0                      0   \n",
      "\n",
      "   MIN_DAYS_WITHOUT_ITEM  FREQUENCY  MONETARYVALUE  TIME_OF_DAY  \\\n",
      "0                      0          0              0            0   \n",
      "\n",
      "   BIRTHDAY_DATE  AGE  \n",
      "0              0    0  \n",
      "\n",
      "[1 rows x 23 columns]\n"
     ]
    }
   ],
   "source": [
    "# Get Number of missing values\n",
    "missing_values_count = new_orders_df.select([F.count(F.when(F.is_null(c), c)).alias(c) for c in new_orders_df.columns]).to_pandas()\n",
    "\n",
    "print(missing_values_count)"
   ]
  },
  {
   "cell_type": "code",
   "execution_count": null,
   "id": "24520100",
   "metadata": {},
   "outputs": [
    {
     "name": "stdout",
     "output_type": "stream",
     "text": [
      "{'CITY': 0, 'TRUCK_BRAND_NAME': 0, 'MENU_TYPE': 0, 'REGION': 0, 'LOCATION_NAME': 0, 'CHILDREN_COUNT': 238925, 'GENDER': 256686, 'MARITAL_STATUS': 238925}\n"
     ]
    }
   ],
   "source": [
    "# Get number of undisclosed values in categorical columns\n",
    "# Get the column names that have string data type\n",
    "string_columns = [c[0] for c in new_orders_df.dtypes if c[1] == 'string']\n",
    "\n",
    "# Loop through the string columns and count the occurrences of \"Undisclosed\"\n",
    "undisclosed_count = {}\n",
    "for column in string_columns:\n",
    "    count = new_orders_df.filter(F.col(column) == \"Undisclosed\").count()\n",
    "    undisclosed_count[column] = count\n",
    "\n",
    "# Print the counts of \"Undisclosed\" for each column\n",
    "print(undisclosed_count)"
   ]
  },
  {
   "attachments": {},
   "cell_type": "markdown",
   "id": "8575c1de",
   "metadata": {},
   "source": [
    "# 6. Encoding Categoricals"
   ]
  },
  {
   "cell_type": "code",
   "execution_count": null,
   "id": "651584d2",
   "metadata": {},
   "outputs": [
    {
     "name": "stdout",
     "output_type": "stream",
     "text": [
      "{'CITY': 5, 'TRUCK_BRAND_NAME': 15, 'MENU_TYPE': 15, 'REGION': 5, 'LOCATION_NAME': 2139, 'CHILDREN_COUNT': 7, 'GENDER': 3, 'MARITAL_STATUS': 4}\n"
     ]
    }
   ],
   "source": [
    "# #Check cardinality\n",
    "# # Calculate cardinality for each string column\n",
    "# cardinalities = [new_orders_df.agg(F.approx_count_distinct(c)).collect()[0][0] for c in string_columns]\n",
    "\n",
    "# # Create a dictionary mapping column names to their respective cardinalities\n",
    "# column_cardinalities = dict(zip(string_columns, cardinalities))\n",
    "\n",
    "# # Print the results\n",
    "# print(column_cardinalities)"
   ]
  },
  {
   "cell_type": "code",
   "execution_count": null,
   "id": "a926bccc",
   "metadata": {},
   "outputs": [],
   "source": [
    "new_orders_df=new_orders_df.drop(['REGION','LOCATION_NAME','BIRTHDAY_DATE','CHILDREN_COUNT','GENDER','MARITAL_STATUS'])"
   ]
  },
  {
   "cell_type": "code",
   "execution_count": null,
   "id": "902cc0f4",
   "metadata": {},
   "outputs": [
    {
     "name": "stderr",
     "output_type": "stream",
     "text": [
      "C:\\Users\\kaiyi\\AppData\\Local\\Temp\\ipykernel_1120\\610254026.py:2: FutureWarning: The default value of numeric_only in DataFrame.corr is deprecated. In a future version, it will default to False. Select only valid columns or specify the value of numeric_only to silence this warning.\n",
      "  sns.heatmap(temp_df.corr())\n"
     ]
    },
    {
     "data": {
      "image/png": "[encoded data removed]",
      "text/plain": [
       "<Figure size 640x480 with 2 Axes>"
      ]
     },
     "metadata": {},
     "output_type": "display_data"
    }
   ],
   "source": [
    "temp_df=new_orders_df.to_pandas()\n",
    "sns.heatmap(temp_df.corr())\n",
    "plt.show()"
   ]
  },
  {
   "cell_type": "code",
   "execution_count": null,
   "id": "82f4610d",
   "metadata": {},
   "outputs": [],
   "source": [
    "# #Recency\n",
    "# recency=new_orders_df.group_by('CUSTOMER_ID').max('ORDER_TS').to_pandas()\n",
    "# recency['RECENCY']=(dt.datetime(2022,10,31)-pd.to_datetime(recency['MAX(ORDER_TS)'])).dt.days\n",
    "\n",
    "# #Frequency\n",
    "# frequency=new_orders_df.group_by('CUSTOMER_ID').agg(F.countDistinct('ORDER_ID').alias('frequency')).to_pandas()\n",
    "\n",
    "# #Monetary\n",
    "# monetary=new_orders_df.group_by('CUSTOMER_ID').agg(F.sum('ORDER_TOTAL').alias('monetary')).to_pandas()\n",
    "\n",
    "# RFM_table=recency.merge(right=frequency, how=\"inner\",on='CUSTOMER_ID')\n",
    "# RFM_table=RFM_table.merge(right=monetary,how='inner',on='CUSTOMER_ID')\n",
    "# RFM_table.drop(labels='MAX(ORDER_TS)',inplace=True,errors='ignore')\n",
    "\n",
    "# quantiles_1 = RFM_table[['RECENCY','FREQUENCY','MONETARY']].quantile(q=[0.2,0.4,0.6,0.8])\n",
    "\n",
    "# # Converting quantiles to a dictionary, easier to use.\n",
    "# quantiles = quantiles_1.to_dict()\n",
    "# ##  RFM Segmentation ----\n",
    "# RFM_Segment = RFM_table.copy()\n",
    "# # Arguments (x = value, p = recency, monetary_value, frequency, k = quartiles dict)\n",
    "# def R_Class(x,p,d):\n",
    "#     if x <= d[p][0.2]:\n",
    "#         return 5\n",
    "#     elif x <= d[p][0.4]:\n",
    "#         return 4\n",
    "#     elif x <= d[p][0.6]: \n",
    "#         return 3\n",
    "#     elif x<=d[p][0.8]:\n",
    "#         return 2 \n",
    "#     else:\n",
    "#         return 1\n",
    "    \n",
    "# # Arguments (x = value, p = recency, monetary_value, frequency, k = quartiles dict)\n",
    "# def FM_Class(x,p,d):\n",
    "#     if x <= d[p][0.2]:\n",
    "#         return 1\n",
    "#     elif x <= d[p][0.4]:\n",
    "#         return 2\n",
    "#     elif x <= d[p][0.6]: \n",
    "#         return 3\n",
    "#     elif x<=d[p][0.8]:\n",
    "#         return 4 \n",
    "#     else:\n",
    "#         return 5\n",
    "# RFM_Segment['R_Quartile'] = RFM_Segment['RECENCY'].apply(R_Class, args=('RECENCY',quantiles,))\n",
    "# RFM_Segment['F_Quartile'] = RFM_Segment['FREQUENCY'].apply(FM_Class, args=('FREQUENCY',quantiles,))\n",
    "# RFM_Segment['M_Quartile'] = RFM_Segment['MONETARY'].apply(FM_Class, args=('MONETARY',quantiles,))\n",
    "# RFM_Segment['RFMClass'] = RFM_Segment.R_Quartile.map(str) \\\n",
    "#                             + RFM_Segment.F_Quartile.map(str) \\\n",
    "#                             + RFM_Segment.M_Quartile.map(str)"
   ]
  },
  {
   "cell_type": "code",
   "execution_count": null,
   "id": "a6eadab5",
   "metadata": {},
   "outputs": [],
   "source": [
    "temp_df_2=temp_df.drop(['ORDER_TS','ORDER_ID'],axis=1)"
   ]
  },
  {
   "cell_type": "code",
   "execution_count": null,
   "id": "5e5b1511",
   "metadata": {},
   "outputs": [],
   "source": [
    "temp_df_3=temp_df_2.drop(['CITY','TRUCK_BRAND_NAME','MENU_TYPE','TIME_OF_DAY'],axis=1)"
   ]
  },
  {
   "cell_type": "code",
   "execution_count": null,
   "id": "4489091f",
   "metadata": {},
   "outputs": [
    {
     "data": {
      "text/plain": [
       "count    2.417153e+06\n",
       "mean     1.966707e+01\n",
       "std      2.385625e+01\n",
       "min      1.000000e+00\n",
       "25%      5.000000e+00\n",
       "50%      1.200000e+01\n",
       "75%      2.500000e+01\n",
       "max      6.330000e+02\n",
       "Name: DAYS_TO_NEXT_ORDER, dtype: float64"
      ]
     },
     "execution_count": 40,
     "metadata": {},
     "output_type": "execute_result"
    }
   ],
   "source": [
    "temp_df_3['DAYS_TO_NEXT_ORDER'].describe()"
   ]
  },
  {
   "cell_type": "code",
   "execution_count": null,
   "id": "aa656b11",
   "metadata": {},
   "outputs": [],
   "source": [
    "temp_df_3['NextPurchaseDayRange'] = 3\n",
    "temp_df_3.loc[temp_df_3['DAYS_TO_NEXT_ORDER']>5,'NextPurchaseDayRange'] = 2\n",
    "temp_df_3.loc[temp_df_3['DAYS_TO_NEXT_ORDER']>12,'NextPurchaseDayRange'] = 1\n",
    "temp_df_3.loc[temp_df_3['DAYS_TO_NEXT_ORDER']>23,'NextPurchaseDayRange'] = 0\n"
   ]
  },
  {
   "cell_type": "code",
   "execution_count": null,
   "id": "99ee6a79",
   "metadata": {},
   "outputs": [],
   "source": [
    "# # storing data in group snowflake to be retrieved later\n",
    "# #DTNO_data = session.createDataFrame(temp_df_3)\n",
    "\n",
    "# #DTNO_data.write.save_as_table(table_name=\"DTNO\", mode='overwrite')\n",
    "\n",
    "# # to retrieve use the following\n",
    "# temp_df_3 = session.table(\"DTNO\").to_pandas()"
   ]
  },
  {
   "cell_type": "code",
   "execution_count": null,
   "id": "b0c8c947",
   "metadata": {},
   "outputs": [],
   "source": [
    "# Define Model Inputs (X) and Output (y)\n",
    "X = temp_df_3.drop(['DAYS_TO_NEXT_ORDER','NextPurchaseDayRange'], axis =1)\n",
    "y = temp_df_3[\"NextPurchaseDayRange\"]\n",
    "\n",
    "# Split both Inputs (X) and Ouput (y) into training set (70%) and testing set (30%)\n",
    "X_train, X_test, y_train, y_test = train_test_split(X, y, test_size=0.3, random_state=4)"
   ]
  },
  {
   "attachments": {},
   "cell_type": "markdown",
   "id": "926994aa",
   "metadata": {},
   "source": [
    "#Performing one hot encoding\n",
    "ohe_enc = OneHotEncoder(\n",
    "    top_categories=None,\n",
    "    drop_last=True, \n",
    "    variables=['Segment']\n",
    ")  \n",
    "\n",
    "ohe_enc.fit(X_train)\n",
    "X_train = ohe_enc.transform(X_train)\n",
    "X_test=ohe_enc.transform(X_test)\n"
   ]
  },
  {
   "cell_type": "code",
   "execution_count": null,
   "id": "4df5bb9a",
   "metadata": {},
   "outputs": [],
   "source": [
    "#Split into Training 60, Testing 20, Validate 10, and Holdout 10"
   ]
  },
  {
   "cell_type": "code",
   "execution_count": null,
   "id": "938e53c9",
   "metadata": {},
   "outputs": [
    {
     "data": {
      "text/html": [
       "<div>\n",
       "<style scoped>\n",
       "    .dataframe tbody tr th:only-of-type {\n",
       "        vertical-align: middle;\n",
       "    }\n",
       "\n",
       "    .dataframe tbody tr th {\n",
       "        vertical-align: top;\n",
       "    }\n",
       "\n",
       "    .dataframe thead th {\n",
       "        text-align: right;\n",
       "    }\n",
       "</style>\n",
       "<table border=\"1\" class=\"dataframe\">\n",
       "  <thead>\n",
       "    <tr style=\"text-align: right;\">\n",
       "      <th></th>\n",
       "      <th>CUSTOMER_ID</th>\n",
       "      <th>ORDER_TOTAL</th>\n",
       "      <th>TOTAL_QUANTITY</th>\n",
       "      <th>DAYS_SINCE_PRIOR_ORDER</th>\n",
       "      <th>AVG_DAYS_BETWEEN_PURCHASES</th>\n",
       "      <th>MAX_DAYS_WITHOUT_ITEM</th>\n",
       "      <th>MIN_DAYS_WITHOUT_ITEM</th>\n",
       "      <th>FREQUENCY</th>\n",
       "      <th>MONETARYVALUE</th>\n",
       "      <th>AGE</th>\n",
       "    </tr>\n",
       "  </thead>\n",
       "  <tbody>\n",
       "  </tbody>\n",
       "</table>\n",
       "</div>"
      ],
      "text/plain": [
       "Empty DataFrame\n",
       "Columns: [CUSTOMER_ID, ORDER_TOTAL, TOTAL_QUANTITY, DAYS_SINCE_PRIOR_ORDER, AVG_DAYS_BETWEEN_PURCHASES, MAX_DAYS_WITHOUT_ITEM, MIN_DAYS_WITHOUT_ITEM, FREQUENCY, MONETARYVALUE, AGE]\n",
       "Index: []"
      ]
     },
     "execution_count": 45,
     "metadata": {},
     "output_type": "execute_result"
    }
   ],
   "source": [
    "X_train[X_train['CUSTOMER_ID']==115199]"
   ]
  },
  {
   "attachments": {},
   "cell_type": "markdown",
   "id": "833da25a",
   "metadata": {},
   "source": [
    "# Model Training"
   ]
  },
  {
   "cell_type": "code",
   "execution_count": null,
   "id": "45b26b4e",
   "metadata": {},
   "outputs": [],
   "source": [
    "from xgboost import XGBClassifier\n",
    "from sklearn.neural_network import MLPClassifier"
   ]
  },
  {
   "cell_type": "code",
   "execution_count": null,
   "id": "9e0a68dc",
   "metadata": {},
   "outputs": [
    {
     "data": {
      "text/html": [
       "<style>#sk-container-id-1 {color: black;background-color: white;}#sk-container-id-1 pre{padding: 0;}#sk-container-id-1 div.sk-toggleable {background-color: white;}#sk-container-id-1 label.sk-toggleable__label {cursor: pointer;display: block;width: 100%;margin-bottom: 0;padding: 0.3em;box-sizing: border-box;text-align: center;}#sk-container-id-1 label.sk-toggleable__label-arrow:before {content: \"▸\";float: left;margin-right: 0.25em;color: #696969;}#sk-container-id-1 label.sk-toggleable__label-arrow:hover:before {color: black;}#sk-container-id-1 div.sk-estimator:hover label.sk-toggleable__label-arrow:before {color: black;}#sk-container-id-1 div.sk-toggleable__content {max-height: 0;max-width: 0;overflow: hidden;text-align: left;background-color: #f0f8ff;}#sk-container-id-1 div.sk-toggleable__content pre {margin: 0.2em;color: black;border-radius: 0.25em;background-color: #f0f8ff;}#sk-container-id-1 input.sk-toggleable__control:checked~div.sk-toggleable__content {max-height: 200px;max-width: 100%;overflow: auto;}#sk-container-id-1 input.sk-toggleable__control:checked~label.sk-toggleable__label-arrow:before {content: \"▾\";}#sk-container-id-1 div.sk-estimator input.sk-toggleable__control:checked~label.sk-toggleable__label {background-color: #d4ebff;}#sk-container-id-1 div.sk-label input.sk-toggleable__control:checked~label.sk-toggleable__label {background-color: #d4ebff;}#sk-container-id-1 input.sk-hidden--visually {border: 0;clip: rect(1px 1px 1px 1px);clip: rect(1px, 1px, 1px, 1px);height: 1px;margin: -1px;overflow: hidden;padding: 0;position: absolute;width: 1px;}#sk-container-id-1 div.sk-estimator {font-family: monospace;background-color: #f0f8ff;border: 1px dotted black;border-radius: 0.25em;box-sizing: border-box;margin-bottom: 0.5em;}#sk-container-id-1 div.sk-estimator:hover {background-color: #d4ebff;}#sk-container-id-1 div.sk-parallel-item::after {content: \"\";width: 100%;border-bottom: 1px solid gray;flex-grow: 1;}#sk-container-id-1 div.sk-label:hover label.sk-toggleable__label {background-color: #d4ebff;}#sk-container-id-1 div.sk-serial::before {content: \"\";position: absolute;border-left: 1px solid gray;box-sizing: border-box;top: 0;bottom: 0;left: 50%;z-index: 0;}#sk-container-id-1 div.sk-serial {display: flex;flex-direction: column;align-items: center;background-color: white;padding-right: 0.2em;padding-left: 0.2em;position: relative;}#sk-container-id-1 div.sk-item {position: relative;z-index: 1;}#sk-container-id-1 div.sk-parallel {display: flex;align-items: stretch;justify-content: center;background-color: white;position: relative;}#sk-container-id-1 div.sk-item::before, #sk-container-id-1 div.sk-parallel-item::before {content: \"\";position: absolute;border-left: 1px solid gray;box-sizing: border-box;top: 0;bottom: 0;left: 50%;z-index: -1;}#sk-container-id-1 div.sk-parallel-item {display: flex;flex-direction: column;z-index: 1;position: relative;background-color: white;}#sk-container-id-1 div.sk-parallel-item:first-child::after {align-self: flex-end;width: 50%;}#sk-container-id-1 div.sk-parallel-item:last-child::after {align-self: flex-start;width: 50%;}#sk-container-id-1 div.sk-parallel-item:only-child::after {width: 0;}#sk-container-id-1 div.sk-dashed-wrapped {border: 1px dashed gray;margin: 0 0.4em 0.5em 0.4em;box-sizing: border-box;padding-bottom: 0.4em;background-color: white;}#sk-container-id-1 div.sk-label label {font-family: monospace;font-weight: bold;display: inline-block;line-height: 1.2em;}#sk-container-id-1 div.sk-label-container {text-align: center;}#sk-container-id-1 div.sk-container {/* jupyter's `normalize.less` sets `[hidden] { display: none; }` but bootstrap.min.css set `[hidden] { display: none !important; }` so we also need the `!important` here to be able to override the default hidden behavior on the sphinx rendered scikit-learn.org. See: https://github.com/scikit-learn/scikit-learn/issues/21755 */display: inline-block !important;position: relative;}#sk-container-id-1 div.sk-text-repr-fallback {display: none;}</style><div id=\"sk-container-id-1\" class=\"sk-top-container\"><div class=\"sk-text-repr-fallback\"><pre>XGBClassifier(base_score=None, booster=None, callbacks=None,\n",
       "              colsample_bylevel=None, colsample_bynode=None,\n",
       "              colsample_bytree=None, early_stopping_rounds=None,\n",
       "              enable_categorical=False, eval_metric=&#x27;logloss&#x27;,\n",
       "              feature_types=None, gamma=None, gpu_id=None, grow_policy=None,\n",
       "              importance_type=None, interaction_constraints=None,\n",
       "              learning_rate=0.1, max_bin=None, max_cat_threshold=None,\n",
       "              max_cat_to_onehot=None, max_delta_step=None, max_depth=None,\n",
       "              max_leaves=None, min_child_weight=None, missing=nan,\n",
       "              monotone_constraints=None, n_estimators=20, n_jobs=None,\n",
       "              num_parallel_tree=None, objective=&#x27;multi:softprob&#x27;,\n",
       "              predictor=None, ...)</pre><b>In a Jupyter environment, please rerun this cell to show the HTML representation or trust the notebook. <br />On GitHub, the HTML representation is unable to render, please try loading this page with nbviewer.org.</b></div><div class=\"sk-container\" hidden><div class=\"sk-item\"><div class=\"sk-estimator sk-toggleable\"><input class=\"sk-toggleable__control sk-hidden--visually\" id=\"sk-estimator-id-1\" type=\"checkbox\" checked><label for=\"sk-estimator-id-1\" class=\"sk-toggleable__label sk-toggleable__label-arrow\">XGBClassifier</label><div class=\"sk-toggleable__content\"><pre>XGBClassifier(base_score=None, booster=None, callbacks=None,\n",
       "              colsample_bylevel=None, colsample_bynode=None,\n",
       "              colsample_bytree=None, early_stopping_rounds=None,\n",
       "              enable_categorical=False, eval_metric=&#x27;logloss&#x27;,\n",
       "              feature_types=None, gamma=None, gpu_id=None, grow_policy=None,\n",
       "              importance_type=None, interaction_constraints=None,\n",
       "              learning_rate=0.1, max_bin=None, max_cat_threshold=None,\n",
       "              max_cat_to_onehot=None, max_delta_step=None, max_depth=None,\n",
       "              max_leaves=None, min_child_weight=None, missing=nan,\n",
       "              monotone_constraints=None, n_estimators=20, n_jobs=None,\n",
       "              num_parallel_tree=None, objective=&#x27;multi:softprob&#x27;,\n",
       "              predictor=None, ...)</pre></div></div></div></div></div>"
      ],
      "text/plain": [
       "XGBClassifier(base_score=None, booster=None, callbacks=None,\n",
       "              colsample_bylevel=None, colsample_bynode=None,\n",
       "              colsample_bytree=None, early_stopping_rounds=None,\n",
       "              enable_categorical=False, eval_metric='logloss',\n",
       "              feature_types=None, gamma=None, gpu_id=None, grow_policy=None,\n",
       "              importance_type=None, interaction_constraints=None,\n",
       "              learning_rate=0.1, max_bin=None, max_cat_threshold=None,\n",
       "              max_cat_to_onehot=None, max_delta_step=None, max_depth=None,\n",
       "              max_leaves=None, min_child_weight=None, missing=nan,\n",
       "              monotone_constraints=None, n_estimators=20, n_jobs=None,\n",
       "              num_parallel_tree=None, objective='multi:softprob',\n",
       "              predictor=None, ...)"
      ]
     },
     "execution_count": 47,
     "metadata": {},
     "output_type": "execute_result"
    }
   ],
   "source": [
    "#Build XGBoost Model\n",
    "xgb = XGBClassifier(n_estimators = 20, learning_rate = 0.1, eval_metric='logloss')\n",
    "xgb.fit(X_train, y_train)"
   ]
  },
  {
   "cell_type": "code",
   "execution_count": null,
   "id": "f5fa9b0f",
   "metadata": {},
   "outputs": [],
   "source": [
    "#Function to show MSE, MAE, r-sq of Classification models\n",
    "def evaluateClassificationModelPerformance(model):\n",
    "    #Accuracy\n",
    "    print('Train Accuracy:',model.score(X_train, y_train),\n",
    "          '\\nTest Accuracy:',model.score(X_test, y_test))"
   ]
  },
  {
   "cell_type": "code",
   "execution_count": null,
   "id": "fa33c7c4",
   "metadata": {},
   "outputs": [
    {
     "name": "stdout",
     "output_type": "stream",
     "text": [
      "Train Accuracy: 0.35209133295547834 \n",
      "Test Accuracy: 0.3504328783444989\n"
     ]
    }
   ],
   "source": [
    "#Evaluate XGBoost Model\n",
    "evaluateClassificationModelPerformance(xgb)"
   ]
  },
  {
   "cell_type": "code",
   "execution_count": null,
   "id": "74026038",
   "metadata": {},
   "outputs": [
    {
     "data": {
      "text/html": [
       "<div>\n",
       "<style scoped>\n",
       "    .dataframe tbody tr th:only-of-type {\n",
       "        vertical-align: middle;\n",
       "    }\n",
       "\n",
       "    .dataframe tbody tr th {\n",
       "        vertical-align: top;\n",
       "    }\n",
       "\n",
       "    .dataframe thead th {\n",
       "        text-align: right;\n",
       "    }\n",
       "</style>\n",
       "<table border=\"1\" class=\"dataframe\">\n",
       "  <thead>\n",
       "    <tr style=\"text-align: right;\">\n",
       "      <th></th>\n",
       "      <th>is_promoted</th>\n",
       "    </tr>\n",
       "  </thead>\n",
       "  <tbody>\n",
       "    <tr>\n",
       "      <th>FREQUENCY</th>\n",
       "      <td>0.875114</td>\n",
       "    </tr>\n",
       "    <tr>\n",
       "      <th>MONETARYVALUE</th>\n",
       "      <td>0.061488</td>\n",
       "    </tr>\n",
       "    <tr>\n",
       "      <th>AVG_DAYS_BETWEEN_PURCHASES</th>\n",
       "      <td>0.022385</td>\n",
       "    </tr>\n",
       "    <tr>\n",
       "      <th>MAX_DAYS_WITHOUT_ITEM</th>\n",
       "      <td>0.008702</td>\n",
       "    </tr>\n",
       "    <tr>\n",
       "      <th>TOTAL_QUANTITY</th>\n",
       "      <td>0.007569</td>\n",
       "    </tr>\n",
       "    <tr>\n",
       "      <th>CUSTOMER_ID</th>\n",
       "      <td>0.005916</td>\n",
       "    </tr>\n",
       "    <tr>\n",
       "      <th>ORDER_TOTAL</th>\n",
       "      <td>0.005543</td>\n",
       "    </tr>\n",
       "    <tr>\n",
       "      <th>DAYS_SINCE_PRIOR_ORDER</th>\n",
       "      <td>0.004783</td>\n",
       "    </tr>\n",
       "    <tr>\n",
       "      <th>AGE</th>\n",
       "      <td>0.004389</td>\n",
       "    </tr>\n",
       "    <tr>\n",
       "      <th>MIN_DAYS_WITHOUT_ITEM</th>\n",
       "      <td>0.004110</td>\n",
       "    </tr>\n",
       "  </tbody>\n",
       "</table>\n",
       "</div>"
      ],
      "text/plain": [
       "                            is_promoted\n",
       "FREQUENCY                      0.875114\n",
       "MONETARYVALUE                  0.061488\n",
       "AVG_DAYS_BETWEEN_PURCHASES     0.022385\n",
       "MAX_DAYS_WITHOUT_ITEM          0.008702\n",
       "TOTAL_QUANTITY                 0.007569\n",
       "CUSTOMER_ID                    0.005916\n",
       "ORDER_TOTAL                    0.005543\n",
       "DAYS_SINCE_PRIOR_ORDER         0.004783\n",
       "AGE                            0.004389\n",
       "MIN_DAYS_WITHOUT_ITEM          0.004110"
      ]
     },
     "execution_count": 50,
     "metadata": {},
     "output_type": "execute_result"
    }
   ],
   "source": [
    "#Check top 10 features based on feature importance\n",
    "ft_weights_xgb_clf = pd.DataFrame(xgb.feature_importances_, columns=['is_promoted'], index=X_train.columns)\n",
    "ft_weights_xgb_clf.sort_values('is_promoted', ascending=False, inplace=True)\n",
    "ft_weights_xgb_clf.tail(100)"
   ]
  },
  {
   "cell_type": "code",
   "execution_count": null,
   "id": "54d8f776",
   "metadata": {},
   "outputs": [
    {
     "name": "stdout",
     "output_type": "stream",
     "text": [
      "Train Accuracy: 0.4402073986691544 \n",
      "Test Accuracy: 0.3274816381804492\n"
     ]
    }
   ],
   "source": [
    "from sklearn import tree\n",
    "\n",
    "tree = tree.DecisionTreeClassifier(max_depth = 20)\n",
    "\n",
    "tree.fit(X_train, y_train)\n",
    "\n",
    "evaluateClassificationModelPerformance(tree)"
   ]
  },
  {
   "cell_type": "code",
   "execution_count": null,
   "id": "85aaaaa1",
   "metadata": {},
   "outputs": [
    {
     "name": "stdout",
     "output_type": "stream",
     "text": [
      "Train Accuracy: 0.3450346245612459 \n",
      "Test Accuracy: 0.34443684444236056\n"
     ]
    }
   ],
   "source": [
    "from sklearn.linear_model import LogisticRegression\n",
    "\n",
    "lr = LogisticRegression(max_iter=10000)\n",
    "lr.fit(X_train, y_train)\n",
    "\n",
    "evaluateClassificationModelPerformance(lr)"
   ]
  },
  {
   "cell_type": "code",
   "execution_count": null,
   "id": "0f455288",
   "metadata": {},
   "outputs": [
    {
     "name": "stdout",
     "output_type": "stream",
     "text": [
      "Train Accuracy: 0.2743723873482793 \n",
      "Test Accuracy: 0.27346217175575677\n"
     ]
    }
   ],
   "source": [
    "from sklearn.neural_network import MLPClassifier\n",
    "\n",
    "ANN_model = MLPClassifier(activation ='logistic', hidden_layer_sizes=(10,), max_iter= 2000, solver = 'sgd', random_state=2)\n",
    "\n",
    "ANN_model.fit(X_train, y_train)\n",
    "\n",
    "evaluateClassificationModelPerformance(ANN_model)"
   ]
  },
  {
   "cell_type": "code",
   "execution_count": null,
   "id": "eba4f248",
   "metadata": {},
   "outputs": [
    {
     "ename": "KeyboardInterrupt",
     "evalue": "",
     "output_type": "error",
     "traceback": [
      "\u001b[1;31m---------------------------------------------------------------------------\u001b[0m",
      "\u001b[1;31mKeyboardInterrupt\u001b[0m                         Traceback (most recent call last)",
      "Cell \u001b[1;32mIn[54], line 4\u001b[0m\n\u001b[0;32m      1\u001b[0m \u001b[39mfrom\u001b[39;00m \u001b[39msklearn\u001b[39;00m\u001b[39m.\u001b[39;00m ensemble \u001b[39mimport\u001b[39;00m \u001b[39mRandomForestClassifier\u001b[39;00m\n\u001b[0;32m      3\u001b[0m randomFr \u001b[39m=\u001b[39m RandomForestClassifier(n_estimators\u001b[39m=\u001b[39m\u001b[39m100\u001b[39m)\n\u001b[1;32m----> 4\u001b[0m randomFr\u001b[39m.\u001b[39;49mfit(X_train, y_train)\n\u001b[0;32m      6\u001b[0m evaluateClassificationModelPerformance(randomFr)\n",
      "File \u001b[1;32mc:\\Users\\kaiyi\\.conda\\envs\\py38_env\\lib\\site-packages\\sklearn\\ensemble\\_forest.py:473\u001b[0m, in \u001b[0;36mBaseForest.fit\u001b[1;34m(self, X, y, sample_weight)\u001b[0m\n\u001b[0;32m    462\u001b[0m trees \u001b[39m=\u001b[39m [\n\u001b[0;32m    463\u001b[0m     \u001b[39mself\u001b[39m\u001b[39m.\u001b[39m_make_estimator(append\u001b[39m=\u001b[39m\u001b[39mFalse\u001b[39;00m, random_state\u001b[39m=\u001b[39mrandom_state)\n\u001b[0;32m    464\u001b[0m     \u001b[39mfor\u001b[39;00m i \u001b[39min\u001b[39;00m \u001b[39mrange\u001b[39m(n_more_estimators)\n\u001b[0;32m    465\u001b[0m ]\n\u001b[0;32m    467\u001b[0m \u001b[39m# Parallel loop: we prefer the threading backend as the Cython code\u001b[39;00m\n\u001b[0;32m    468\u001b[0m \u001b[39m# for fitting the trees is internally releasing the Python GIL\u001b[39;00m\n\u001b[0;32m    469\u001b[0m \u001b[39m# making threading more efficient than multiprocessing in\u001b[39;00m\n\u001b[0;32m    470\u001b[0m \u001b[39m# that case. However, for joblib 0.12+ we respect any\u001b[39;00m\n\u001b[0;32m    471\u001b[0m \u001b[39m# parallel_backend contexts set at a higher level,\u001b[39;00m\n\u001b[0;32m    472\u001b[0m \u001b[39m# since correctness does not rely on using threads.\u001b[39;00m\n\u001b[1;32m--> 473\u001b[0m trees \u001b[39m=\u001b[39m Parallel(\n\u001b[0;32m    474\u001b[0m     n_jobs\u001b[39m=\u001b[39;49m\u001b[39mself\u001b[39;49m\u001b[39m.\u001b[39;49mn_jobs,\n\u001b[0;32m    475\u001b[0m     verbose\u001b[39m=\u001b[39;49m\u001b[39mself\u001b[39;49m\u001b[39m.\u001b[39;49mverbose,\n\u001b[0;32m    476\u001b[0m     prefer\u001b[39m=\u001b[39;49m\u001b[39m\"\u001b[39;49m\u001b[39mthreads\u001b[39;49m\u001b[39m\"\u001b[39;49m,\n\u001b[0;32m    477\u001b[0m )(\n\u001b[0;32m    478\u001b[0m     delayed(_parallel_build_trees)(\n\u001b[0;32m    479\u001b[0m         t,\n\u001b[0;32m    480\u001b[0m         \u001b[39mself\u001b[39;49m\u001b[39m.\u001b[39;49mbootstrap,\n\u001b[0;32m    481\u001b[0m         X,\n\u001b[0;32m    482\u001b[0m         y,\n\u001b[0;32m    483\u001b[0m         sample_weight,\n\u001b[0;32m    484\u001b[0m         i,\n\u001b[0;32m    485\u001b[0m         \u001b[39mlen\u001b[39;49m(trees),\n\u001b[0;32m    486\u001b[0m         verbose\u001b[39m=\u001b[39;49m\u001b[39mself\u001b[39;49m\u001b[39m.\u001b[39;49mverbose,\n\u001b[0;32m    487\u001b[0m         class_weight\u001b[39m=\u001b[39;49m\u001b[39mself\u001b[39;49m\u001b[39m.\u001b[39;49mclass_weight,\n\u001b[0;32m    488\u001b[0m         n_samples_bootstrap\u001b[39m=\u001b[39;49mn_samples_bootstrap,\n\u001b[0;32m    489\u001b[0m     )\n\u001b[0;32m    490\u001b[0m     \u001b[39mfor\u001b[39;49;00m i, t \u001b[39min\u001b[39;49;00m \u001b[39menumerate\u001b[39;49m(trees)\n\u001b[0;32m    491\u001b[0m )\n\u001b[0;32m    493\u001b[0m \u001b[39m# Collect newly grown trees\u001b[39;00m\n\u001b[0;32m    494\u001b[0m \u001b[39mself\u001b[39m\u001b[39m.\u001b[39mestimators_\u001b[39m.\u001b[39mextend(trees)\n",
      "File \u001b[1;32mc:\\Users\\kaiyi\\.conda\\envs\\py38_env\\lib\\site-packages\\sklearn\\utils\\parallel.py:63\u001b[0m, in \u001b[0;36mParallel.__call__\u001b[1;34m(self, iterable)\u001b[0m\n\u001b[0;32m     58\u001b[0m config \u001b[39m=\u001b[39m get_config()\n\u001b[0;32m     59\u001b[0m iterable_with_config \u001b[39m=\u001b[39m (\n\u001b[0;32m     60\u001b[0m     (_with_config(delayed_func, config), args, kwargs)\n\u001b[0;32m     61\u001b[0m     \u001b[39mfor\u001b[39;00m delayed_func, args, kwargs \u001b[39min\u001b[39;00m iterable\n\u001b[0;32m     62\u001b[0m )\n\u001b[1;32m---> 63\u001b[0m \u001b[39mreturn\u001b[39;00m \u001b[39msuper\u001b[39;49m()\u001b[39m.\u001b[39;49m\u001b[39m__call__\u001b[39;49m(iterable_with_config)\n",
      "File \u001b[1;32mc:\\Users\\kaiyi\\.conda\\envs\\py38_env\\lib\\site-packages\\joblib\\parallel.py:1088\u001b[0m, in \u001b[0;36mParallel.__call__\u001b[1;34m(self, iterable)\u001b[0m\n\u001b[0;32m   1085\u001b[0m \u001b[39mif\u001b[39;00m \u001b[39mself\u001b[39m\u001b[39m.\u001b[39mdispatch_one_batch(iterator):\n\u001b[0;32m   1086\u001b[0m     \u001b[39mself\u001b[39m\u001b[39m.\u001b[39m_iterating \u001b[39m=\u001b[39m \u001b[39mself\u001b[39m\u001b[39m.\u001b[39m_original_iterator \u001b[39mis\u001b[39;00m \u001b[39mnot\u001b[39;00m \u001b[39mNone\u001b[39;00m\n\u001b[1;32m-> 1088\u001b[0m \u001b[39mwhile\u001b[39;00m \u001b[39mself\u001b[39;49m\u001b[39m.\u001b[39;49mdispatch_one_batch(iterator):\n\u001b[0;32m   1089\u001b[0m     \u001b[39mpass\u001b[39;00m\n\u001b[0;32m   1091\u001b[0m \u001b[39mif\u001b[39;00m pre_dispatch \u001b[39m==\u001b[39m \u001b[39m\"\u001b[39m\u001b[39mall\u001b[39m\u001b[39m\"\u001b[39m \u001b[39mor\u001b[39;00m n_jobs \u001b[39m==\u001b[39m \u001b[39m1\u001b[39m:\n\u001b[0;32m   1092\u001b[0m     \u001b[39m# The iterable was consumed all at once by the above for loop.\u001b[39;00m\n\u001b[0;32m   1093\u001b[0m     \u001b[39m# No need to wait for async callbacks to trigger to\u001b[39;00m\n\u001b[0;32m   1094\u001b[0m     \u001b[39m# consumption.\u001b[39;00m\n",
      "File \u001b[1;32mc:\\Users\\kaiyi\\.conda\\envs\\py38_env\\lib\\site-packages\\joblib\\parallel.py:901\u001b[0m, in \u001b[0;36mParallel.dispatch_one_batch\u001b[1;34m(self, iterator)\u001b[0m\n\u001b[0;32m    899\u001b[0m     \u001b[39mreturn\u001b[39;00m \u001b[39mFalse\u001b[39;00m\n\u001b[0;32m    900\u001b[0m \u001b[39melse\u001b[39;00m:\n\u001b[1;32m--> 901\u001b[0m     \u001b[39mself\u001b[39;49m\u001b[39m.\u001b[39;49m_dispatch(tasks)\n\u001b[0;32m    902\u001b[0m     \u001b[39mreturn\u001b[39;00m \u001b[39mTrue\u001b[39;00m\n",
      "File \u001b[1;32mc:\\Users\\kaiyi\\.conda\\envs\\py38_env\\lib\\site-packages\\joblib\\parallel.py:819\u001b[0m, in \u001b[0;36mParallel._dispatch\u001b[1;34m(self, batch)\u001b[0m\n\u001b[0;32m    817\u001b[0m \u001b[39mwith\u001b[39;00m \u001b[39mself\u001b[39m\u001b[39m.\u001b[39m_lock:\n\u001b[0;32m    818\u001b[0m     job_idx \u001b[39m=\u001b[39m \u001b[39mlen\u001b[39m(\u001b[39mself\u001b[39m\u001b[39m.\u001b[39m_jobs)\n\u001b[1;32m--> 819\u001b[0m     job \u001b[39m=\u001b[39m \u001b[39mself\u001b[39;49m\u001b[39m.\u001b[39;49m_backend\u001b[39m.\u001b[39;49mapply_async(batch, callback\u001b[39m=\u001b[39;49mcb)\n\u001b[0;32m    820\u001b[0m     \u001b[39m# A job can complete so quickly than its callback is\u001b[39;00m\n\u001b[0;32m    821\u001b[0m     \u001b[39m# called before we get here, causing self._jobs to\u001b[39;00m\n\u001b[0;32m    822\u001b[0m     \u001b[39m# grow. To ensure correct results ordering, .insert is\u001b[39;00m\n\u001b[0;32m    823\u001b[0m     \u001b[39m# used (rather than .append) in the following line\u001b[39;00m\n\u001b[0;32m    824\u001b[0m     \u001b[39mself\u001b[39m\u001b[39m.\u001b[39m_jobs\u001b[39m.\u001b[39minsert(job_idx, job)\n",
      "File \u001b[1;32mc:\\Users\\kaiyi\\.conda\\envs\\py38_env\\lib\\site-packages\\joblib\\_parallel_backends.py:208\u001b[0m, in \u001b[0;36mSequentialBackend.apply_async\u001b[1;34m(self, func, callback)\u001b[0m\n\u001b[0;32m    206\u001b[0m \u001b[39mdef\u001b[39;00m \u001b[39mapply_async\u001b[39m(\u001b[39mself\u001b[39m, func, callback\u001b[39m=\u001b[39m\u001b[39mNone\u001b[39;00m):\n\u001b[0;32m    207\u001b[0m \u001b[39m    \u001b[39m\u001b[39m\"\"\"Schedule a func to be run\"\"\"\u001b[39;00m\n\u001b[1;32m--> 208\u001b[0m     result \u001b[39m=\u001b[39m ImmediateResult(func)\n\u001b[0;32m    209\u001b[0m     \u001b[39mif\u001b[39;00m callback:\n\u001b[0;32m    210\u001b[0m         callback(result)\n",
      "File \u001b[1;32mc:\\Users\\kaiyi\\.conda\\envs\\py38_env\\lib\\site-packages\\joblib\\_parallel_backends.py:597\u001b[0m, in \u001b[0;36mImmediateResult.__init__\u001b[1;34m(self, batch)\u001b[0m\n\u001b[0;32m    594\u001b[0m \u001b[39mdef\u001b[39;00m \u001b[39m__init__\u001b[39m(\u001b[39mself\u001b[39m, batch):\n\u001b[0;32m    595\u001b[0m     \u001b[39m# Don't delay the application, to avoid keeping the input\u001b[39;00m\n\u001b[0;32m    596\u001b[0m     \u001b[39m# arguments in memory\u001b[39;00m\n\u001b[1;32m--> 597\u001b[0m     \u001b[39mself\u001b[39m\u001b[39m.\u001b[39mresults \u001b[39m=\u001b[39m batch()\n",
      "File \u001b[1;32mc:\\Users\\kaiyi\\.conda\\envs\\py38_env\\lib\\site-packages\\joblib\\parallel.py:288\u001b[0m, in \u001b[0;36mBatchedCalls.__call__\u001b[1;34m(self)\u001b[0m\n\u001b[0;32m    284\u001b[0m \u001b[39mdef\u001b[39;00m \u001b[39m__call__\u001b[39m(\u001b[39mself\u001b[39m):\n\u001b[0;32m    285\u001b[0m     \u001b[39m# Set the default nested backend to self._backend but do not set the\u001b[39;00m\n\u001b[0;32m    286\u001b[0m     \u001b[39m# change the default number of processes to -1\u001b[39;00m\n\u001b[0;32m    287\u001b[0m     \u001b[39mwith\u001b[39;00m parallel_backend(\u001b[39mself\u001b[39m\u001b[39m.\u001b[39m_backend, n_jobs\u001b[39m=\u001b[39m\u001b[39mself\u001b[39m\u001b[39m.\u001b[39m_n_jobs):\n\u001b[1;32m--> 288\u001b[0m         \u001b[39mreturn\u001b[39;00m [func(\u001b[39m*\u001b[39margs, \u001b[39m*\u001b[39m\u001b[39m*\u001b[39mkwargs)\n\u001b[0;32m    289\u001b[0m                 \u001b[39mfor\u001b[39;00m func, args, kwargs \u001b[39min\u001b[39;00m \u001b[39mself\u001b[39m\u001b[39m.\u001b[39mitems]\n",
      "File \u001b[1;32mc:\\Users\\kaiyi\\.conda\\envs\\py38_env\\lib\\site-packages\\joblib\\parallel.py:288\u001b[0m, in \u001b[0;36m<listcomp>\u001b[1;34m(.0)\u001b[0m\n\u001b[0;32m    284\u001b[0m \u001b[39mdef\u001b[39;00m \u001b[39m__call__\u001b[39m(\u001b[39mself\u001b[39m):\n\u001b[0;32m    285\u001b[0m     \u001b[39m# Set the default nested backend to self._backend but do not set the\u001b[39;00m\n\u001b[0;32m    286\u001b[0m     \u001b[39m# change the default number of processes to -1\u001b[39;00m\n\u001b[0;32m    287\u001b[0m     \u001b[39mwith\u001b[39;00m parallel_backend(\u001b[39mself\u001b[39m\u001b[39m.\u001b[39m_backend, n_jobs\u001b[39m=\u001b[39m\u001b[39mself\u001b[39m\u001b[39m.\u001b[39m_n_jobs):\n\u001b[1;32m--> 288\u001b[0m         \u001b[39mreturn\u001b[39;00m [func(\u001b[39m*\u001b[39;49margs, \u001b[39m*\u001b[39;49m\u001b[39m*\u001b[39;49mkwargs)\n\u001b[0;32m    289\u001b[0m                 \u001b[39mfor\u001b[39;00m func, args, kwargs \u001b[39min\u001b[39;00m \u001b[39mself\u001b[39m\u001b[39m.\u001b[39mitems]\n",
      "File \u001b[1;32mc:\\Users\\kaiyi\\.conda\\envs\\py38_env\\lib\\site-packages\\sklearn\\utils\\parallel.py:123\u001b[0m, in \u001b[0;36m_FuncWrapper.__call__\u001b[1;34m(self, *args, **kwargs)\u001b[0m\n\u001b[0;32m    121\u001b[0m     config \u001b[39m=\u001b[39m {}\n\u001b[0;32m    122\u001b[0m \u001b[39mwith\u001b[39;00m config_context(\u001b[39m*\u001b[39m\u001b[39m*\u001b[39mconfig):\n\u001b[1;32m--> 123\u001b[0m     \u001b[39mreturn\u001b[39;00m \u001b[39mself\u001b[39;49m\u001b[39m.\u001b[39;49mfunction(\u001b[39m*\u001b[39;49margs, \u001b[39m*\u001b[39;49m\u001b[39m*\u001b[39;49mkwargs)\n",
      "File \u001b[1;32mc:\\Users\\kaiyi\\.conda\\envs\\py38_env\\lib\\site-packages\\sklearn\\ensemble\\_forest.py:184\u001b[0m, in \u001b[0;36m_parallel_build_trees\u001b[1;34m(tree, bootstrap, X, y, sample_weight, tree_idx, n_trees, verbose, class_weight, n_samples_bootstrap)\u001b[0m\n\u001b[0;32m    181\u001b[0m     \u001b[39melif\u001b[39;00m class_weight \u001b[39m==\u001b[39m \u001b[39m\"\u001b[39m\u001b[39mbalanced_subsample\u001b[39m\u001b[39m\"\u001b[39m:\n\u001b[0;32m    182\u001b[0m         curr_sample_weight \u001b[39m*\u001b[39m\u001b[39m=\u001b[39m compute_sample_weight(\u001b[39m\"\u001b[39m\u001b[39mbalanced\u001b[39m\u001b[39m\"\u001b[39m, y, indices\u001b[39m=\u001b[39mindices)\n\u001b[1;32m--> 184\u001b[0m     tree\u001b[39m.\u001b[39;49mfit(X, y, sample_weight\u001b[39m=\u001b[39;49mcurr_sample_weight, check_input\u001b[39m=\u001b[39;49m\u001b[39mFalse\u001b[39;49;00m)\n\u001b[0;32m    185\u001b[0m \u001b[39melse\u001b[39;00m:\n\u001b[0;32m    186\u001b[0m     tree\u001b[39m.\u001b[39mfit(X, y, sample_weight\u001b[39m=\u001b[39msample_weight, check_input\u001b[39m=\u001b[39m\u001b[39mFalse\u001b[39;00m)\n",
      "File \u001b[1;32mc:\\Users\\kaiyi\\.conda\\envs\\py38_env\\lib\\site-packages\\sklearn\\tree\\_classes.py:889\u001b[0m, in \u001b[0;36mDecisionTreeClassifier.fit\u001b[1;34m(self, X, y, sample_weight, check_input)\u001b[0m\n\u001b[0;32m    859\u001b[0m \u001b[39mdef\u001b[39;00m \u001b[39mfit\u001b[39m(\u001b[39mself\u001b[39m, X, y, sample_weight\u001b[39m=\u001b[39m\u001b[39mNone\u001b[39;00m, check_input\u001b[39m=\u001b[39m\u001b[39mTrue\u001b[39;00m):\n\u001b[0;32m    860\u001b[0m \u001b[39m    \u001b[39m\u001b[39m\"\"\"Build a decision tree classifier from the training set (X, y).\u001b[39;00m\n\u001b[0;32m    861\u001b[0m \n\u001b[0;32m    862\u001b[0m \u001b[39m    Parameters\u001b[39;00m\n\u001b[1;32m   (...)\u001b[0m\n\u001b[0;32m    886\u001b[0m \u001b[39m        Fitted estimator.\u001b[39;00m\n\u001b[0;32m    887\u001b[0m \u001b[39m    \"\"\"\u001b[39;00m\n\u001b[1;32m--> 889\u001b[0m     \u001b[39msuper\u001b[39;49m()\u001b[39m.\u001b[39;49mfit(\n\u001b[0;32m    890\u001b[0m         X,\n\u001b[0;32m    891\u001b[0m         y,\n\u001b[0;32m    892\u001b[0m         sample_weight\u001b[39m=\u001b[39;49msample_weight,\n\u001b[0;32m    893\u001b[0m         check_input\u001b[39m=\u001b[39;49mcheck_input,\n\u001b[0;32m    894\u001b[0m     )\n\u001b[0;32m    895\u001b[0m     \u001b[39mreturn\u001b[39;00m \u001b[39mself\u001b[39m\n",
      "File \u001b[1;32mc:\\Users\\kaiyi\\.conda\\envs\\py38_env\\lib\\site-packages\\sklearn\\tree\\_classes.py:379\u001b[0m, in \u001b[0;36mBaseDecisionTree.fit\u001b[1;34m(self, X, y, sample_weight, check_input)\u001b[0m\n\u001b[0;32m    368\u001b[0m \u001b[39melse\u001b[39;00m:\n\u001b[0;32m    369\u001b[0m     builder \u001b[39m=\u001b[39m BestFirstTreeBuilder(\n\u001b[0;32m    370\u001b[0m         splitter,\n\u001b[0;32m    371\u001b[0m         min_samples_split,\n\u001b[1;32m   (...)\u001b[0m\n\u001b[0;32m    376\u001b[0m         \u001b[39mself\u001b[39m\u001b[39m.\u001b[39mmin_impurity_decrease,\n\u001b[0;32m    377\u001b[0m     )\n\u001b[1;32m--> 379\u001b[0m builder\u001b[39m.\u001b[39;49mbuild(\u001b[39mself\u001b[39;49m\u001b[39m.\u001b[39;49mtree_, X, y, sample_weight)\n\u001b[0;32m    381\u001b[0m \u001b[39mif\u001b[39;00m \u001b[39mself\u001b[39m\u001b[39m.\u001b[39mn_outputs_ \u001b[39m==\u001b[39m \u001b[39m1\u001b[39m \u001b[39mand\u001b[39;00m is_classifier(\u001b[39mself\u001b[39m):\n\u001b[0;32m    382\u001b[0m     \u001b[39mself\u001b[39m\u001b[39m.\u001b[39mn_classes_ \u001b[39m=\u001b[39m \u001b[39mself\u001b[39m\u001b[39m.\u001b[39mn_classes_[\u001b[39m0\u001b[39m]\n",
      "\u001b[1;31mKeyboardInterrupt\u001b[0m: "
     ]
    }
   ],
   "source": [
    "from sklearn. ensemble import RandomForestClassifier\n",
    "\n",
    "randomFr = RandomForestClassifier(n_estimators=100)\n",
    "randomFr.fit(X_train, y_train)\n",
    "\n",
    "evaluateClassificationModelPerformance(randomFr)"
   ]
  },
  {
   "cell_type": "code",
   "execution_count": null,
   "id": "f765acad",
   "metadata": {},
   "outputs": [
    {
     "name": "stdout",
     "output_type": "stream",
     "text": [
      "Train Accuracy: 1.0 \n",
      "Test Accuracy: 0.8331017533499492\n"
     ]
    }
   ],
   "source": [
    "from sklearn.tree import DecisionTreeClassifier\n",
    "from sklearn. ensemble import AdaBoostClassifier\n",
    "\n",
    "adb = AdaBoostClassifier(DecisionTreeClassifier(),n_estimators=5,learning_rate=1)\n",
    "adb.fit(X_train, y_train)\n",
    "\n",
    "evaluateClassificationModelPerformance(adb)"
   ]
  },
  {
   "attachments": {},
   "cell_type": "markdown",
   "id": "6958b53f",
   "metadata": {},
   "source": [
    "# Model Deployment"
   ]
  },
  {
   "cell_type": "code",
   "execution_count": null,
   "id": "6b7b6a1b",
   "metadata": {},
   "outputs": [],
   "source": []
  },
  {
   "attachments": {},
   "cell_type": "markdown",
   "id": "390ed8ec",
   "metadata": {},
   "source": [
    "# Model Utilization"
   ]
  },
  {
   "cell_type": "code",
   "execution_count": null,
   "id": "ed0b1579",
   "metadata": {},
   "outputs": [],
   "source": []
  },
  {
   "attachments": {},
   "cell_type": "markdown",
   "id": "3b888389",
   "metadata": {},
   "source": [
    "# Reset\n",
    "We will run the following cell to remove the objects from Snowflake that we created in this notebook. Dropping our stage will remove the model file. We will also close our Snowflake session.<br>"
   ]
  },
  {
   "cell_type": "code",
   "execution_count": null,
   "id": "9edf53df",
   "metadata": {},
   "outputs": [
    {
     "data": {
      "text/plain": [
       "'# Drop training table\\nsession.sql(\"DROP TABLE IF EXISTS frostbyte_tasty_bytes.analytics.shift_sales_train\").collect()\\n\\n# Drop testing table\\nsession.sql(\"DROP TABLE IF EXISTS frostbyte_tasty_bytes.analytics.shift_sales_test\").collect()\\n\\n# Drop training stored procedure\\nsession.sql(\"DROP PROCEDURE IF EXISTS sproc_train_linreg(varchar, array, varchar, varchar)\").collect()\\n\\n# Drop inference user-defined function\\nsession.sql(\\n    \"DROP FUNCTION IF EXISTS udf_linreg_predict_location_sales(float, float, float, float, float, float, float, float)\"\\n).collect()\\n\\n# Drop stage\\nsession.sql(\"DROP STAGE IF EXISTS model_stage\").collect()\\n\\n# Scale down compute\\nsession.sql(\"ALTER WAREHOUSE tasty_ds_wh SET WAREHOUSE_SIZE = XSMALL\").collect()\\n\\n# Close the session\\nsession.close()'"
      ]
     },
     "execution_count": 44,
     "metadata": {},
     "output_type": "execute_result"
    }
   ],
   "source": [
    "\"\"\"# Drop training table\n",
    "session.sql(\"DROP TABLE IF EXISTS frostbyte_tasty_bytes.analytics.shift_sales_train\").collect()\n",
    "\n",
    "# Drop testing table\n",
    "session.sql(\"DROP TABLE IF EXISTS frostbyte_tasty_bytes.analytics.shift_sales_test\").collect()\n",
    "\n",
    "# Drop training stored procedure\n",
    "session.sql(\"DROP PROCEDURE IF EXISTS sproc_train_linreg(varchar, array, varchar, varchar)\").collect()\n",
    "\n",
    "# Drop inference user-defined function\n",
    "session.sql(\n",
    "    \"DROP FUNCTION IF EXISTS udf_linreg_predict_location_sales(float, float, float, float, float, float, float, float)\"\n",
    ").collect()\n",
    "\n",
    "# Drop stage\n",
    "session.sql(\"DROP STAGE IF EXISTS model_stage\").collect()\n",
    "\n",
    "# Scale down compute\n",
    "session.sql(\"ALTER WAREHOUSE tasty_ds_wh SET WAREHOUSE_SIZE = XSMALL\").collect()\n",
    "\n",
    "# Close the session\n",
    "session.close()\"\"\""
   ]
  }
 ],
 "metadata": {
  "kernelspec": {
   "display_name": "py38_env",
   "language": "python",
   "name": "python3"
  },
  "language_info": {
   "codemirror_mode": {
    "name": "ipython",
    "version": 3
   },
   "file_extension": ".py",
   "mimetype": "text/x-python",
   "name": "python",
   "nbconvert_exporter": "python",
   "pygments_lexer": "ipython3",
   "version": "3.8.16"
  }
 },
 "nbformat": 4,
 "nbformat_minor": 5
}
