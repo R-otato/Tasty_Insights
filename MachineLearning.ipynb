{
 "cells": [
  {
   "attachments": {},
   "cell_type": "markdown",
   "id": "eaeb5653",
   "metadata": {},
   "source": [
    "![download.png](download.png)\n"
   ]
  },
  {
   "attachments": {},
   "cell_type": "markdown",
   "id": "9f8d1940",
   "metadata": {},
   "source": [
    "## Import Packages"
   ]
  },
  {
   "cell_type": "code",
   "execution_count": 1,
   "id": "2b76a42a",
   "metadata": {},
   "outputs": [],
   "source": [
    "#Import Python packages\n",
    "import pandas as pd\n",
    "import plotly.express as px\n",
    "import json\n",
    "import sys\n",
    "import cachetools\n",
    "import matplotlib.pyplot as plt\n",
    "import seaborn as sns\n",
    "import datetime as dt\n",
    "import numpy as np\n",
    "import json\n",
    "import datetime\n",
    "\n",
    "# for splitting of the dataset\n",
    "from sklearn.model_selection import train_test_split\n",
    "from sklearn.model_selection import cross_validate\n",
    "\n",
    "# for encoding/transforming the data\n",
    "from feature_engine.encoding import OneHotEncoder\n",
    "\n",
    "from xgboost import XGBRegressor\n",
    "\n",
    "# for getting metrics\n",
    "from sklearn.metrics import mean_squared_error, r2_score, accuracy_score\n",
    "\n",
    "# model selection\n",
    "from sklearn.model_selection import GridSearchCV\n",
    "\n",
    "# Import Snowflake modules\n",
    "from snowflake.snowpark import Session\n",
    "import snowflake.snowpark.functions as F\n",
    "import snowflake.snowpark.types as T\n",
    "from snowflake.snowpark import Window"
   ]
  },
  {
   "attachments": {},
   "cell_type": "markdown",
   "id": "c689510f",
   "metadata": {},
   "source": [
    "## Connect to Snowflake"
   ]
  },
  {
   "cell_type": "code",
   "execution_count": 2,
   "id": "9140d4bb",
   "metadata": {},
   "outputs": [],
   "source": [
    "# Get account credentials from a json file\n",
    "with open(\"data_scientist_auth.json\") as f:\n",
    "    data = json.load(f)\n",
    "    username = data[\"username\"]\n",
    "    password = data[\"password\"]\n",
    "    account = data[\"account\"]\n",
    "\n",
    "# Specify connection parameters\n",
    "connection_parameters = {\n",
    "    \"account\": account,\n",
    "    \"user\": username,\n",
    "    \"password\": password,\n",
    "    \"role\": \"tasty_data_scientist\",\n",
    "    \"warehouse\": \"tasty_ds_wh\",\n",
    "    \"database\": \"frostbyte_tasty_bytes\",\n",
    "    \"schema\": \"analytics\",\n",
    "}\n",
    "\n",
    "# Create Snowpark session\n",
    "session = Session.builder.configs(connection_parameters).create()"
   ]
  },
  {
   "attachments": {},
   "cell_type": "markdown",
   "id": "c3d02814",
   "metadata": {},
   "source": [
    "## Gathering Data as Snowpark DataFrame"
   ]
  },
  {
   "cell_type": "code",
   "execution_count": 3,
   "id": "9f5810e2",
   "metadata": {},
   "outputs": [],
   "source": [
    "#Orders_V\n",
    "tasty_bytes_orders_v = session.table(\"frostbyte_tasty_bytes.analytics.orders_v\")\n",
    "#Customer Loyalty\n",
    "tasty_bytes_customer_loyalty = session.table(\"frostbyte_tasty_bytes.raw_customer.customer_loyalty\")"
   ]
  },
  {
   "attachments": {},
   "cell_type": "markdown",
   "id": "461b0173",
   "metadata": {},
   "source": [
    "## Preview The Data"
   ]
  },
  {
   "cell_type": "code",
   "execution_count": 4,
   "id": "69e310ef",
   "metadata": {},
   "outputs": [
    {
     "name": "stdout",
     "output_type": "stream",
     "text": [
      "------------------------------------------------------------------------------------------------------------------------------------------------------------------------------------------------------------------------------------------------------------------------------------------------------------------------------------------------------------------------------------------------------------------------------------------------------------------------------------------------------------------------------------------------------------------------------------------------------------------------------------------------------------------------------------------\n",
      "|\"DATE\"      |\"ORDER_ID\"  |\"TRUCK_ID\"  |\"ORDER_TS\"           |\"ORDER_DETAIL_ID\"  |\"LINE_NUMBER\"  |\"TRUCK_BRAND_NAME\"  |\"MENU_TYPE\"  |\"PRIMARY_CITY\"  |\"REGION\"           |\"COUNTRY\"  |\"FRANCHISE_FLAG\"  |\"FRANCHISE_ID\"  |\"FRANCHISEE_FIRST_NAME\"  |\"FRANCHISEE_LAST_NAME\"  |\"LOCATION_ID\"  |\"PLACEKEY\"           |\"LOCATION_NAME\"  |\"TOP_CATEGORY\"  |\"SUB_CATEGORY\"  |\"LATITUDE\"  |\"LONGITUDE\"  |\"CUSTOMER_ID\"  |\"FIRST_NAME\"  |\"LAST_NAME\"  |\"E_MAIL\"  |\"PHONE_NUMBER\"  |\"CHILDREN_COUNT\"  |\"GENDER\"  |\"MARITAL_STATUS\"  |\"MENU_ITEM_ID\"  |\"MENU_ITEM_NAME\"      |\"QUANTITY\"  |\"UNIT_PRICE\"  |\"PRICE\"  |\"ORDER_AMOUNT\"  |\"ORDER_TAX_AMOUNT\"  |\"ORDER_DISCOUNT_AMOUNT\"  |\"ORDER_TOTAL\"  |\n",
      "------------------------------------------------------------------------------------------------------------------------------------------------------------------------------------------------------------------------------------------------------------------------------------------------------------------------------------------------------------------------------------------------------------------------------------------------------------------------------------------------------------------------------------------------------------------------------------------------------------------------------------------------------------------------------------------\n",
      "|2022-04-11  |420429534   |422         |2022-04-11 09:45:54  |798208283          |0              |Smoky BBQ           |BBQ          |Cairo           |Cairo Governorate  |Egypt      |1                 |314             |Latoya                   |Wells                   |6385           |zzy-222@7vy-sqs-sqz  |Nike             |Shoe Stores     |Shoe Stores     |29.966707   |31.250005    |NULL           |NULL          |NULL         |NULL      |NULL            |NULL              |NULL      |NULL              |22              |Three Meat Plate      |1           |17.0000       |17.0000  |69.0000         |NULL                |NULL                     |69.0000        |\n",
      "|2022-04-11  |420429534   |422         |2022-04-11 09:45:54  |798208284          |1              |Smoky BBQ           |BBQ          |Cairo           |Cairo Governorate  |Egypt      |1                 |314             |Latoya                   |Wells                   |6385           |zzy-222@7vy-sqs-sqz  |Nike             |Shoe Stores     |Shoe Stores     |29.966707   |31.250005    |NULL           |NULL          |NULL         |NULL      |NULL            |NULL              |NULL      |NULL              |23              |Pulled Pork Sandwich  |1           |12.0000       |12.0000  |69.0000         |NULL                |NULL                     |69.0000        |\n",
      "|2022-04-11  |420429534   |422         |2022-04-11 09:45:54  |798208285          |2              |Smoky BBQ           |BBQ          |Cairo           |Cairo Governorate  |Egypt      |1                 |314             |Latoya                   |Wells                   |6385           |zzy-222@7vy-sqs-sqz  |Nike             |Shoe Stores     |Shoe Stores     |29.966707   |31.250005    |NULL           |NULL          |NULL         |NULL      |NULL            |NULL              |NULL      |NULL              |24              |Bottled Water         |2           |2.0000        |4.0000   |69.0000         |NULL                |NULL                     |69.0000        |\n",
      "|2022-04-11  |420429534   |422         |2022-04-11 09:45:54  |798208286          |3              |Smoky BBQ           |BBQ          |Cairo           |Cairo Governorate  |Egypt      |1                 |314             |Latoya                   |Wells                   |6385           |zzy-222@7vy-sqs-sqz  |Nike             |Shoe Stores     |Shoe Stores     |29.966707   |31.250005    |NULL           |NULL          |NULL         |NULL      |NULL            |NULL              |NULL      |NULL              |25              |Bottled Soda          |1           |3.0000        |3.0000   |69.0000         |NULL                |NULL                     |69.0000        |\n",
      "|2022-04-11  |420429534   |422         |2022-04-11 09:45:54  |798208287          |4              |Smoky BBQ           |BBQ          |Cairo           |Cairo Governorate  |Egypt      |1                 |314             |Latoya                   |Wells                   |6385           |zzy-222@7vy-sqs-sqz  |Nike             |Shoe Stores     |Shoe Stores     |29.966707   |31.250005    |NULL           |NULL          |NULL         |NULL      |NULL            |NULL              |NULL      |NULL              |26              |Ice Tea               |1           |3.0000        |3.0000   |69.0000         |NULL                |NULL                     |69.0000        |\n",
      "|2022-04-11  |420429534   |422         |2022-04-11 09:45:54  |798208288          |5              |Smoky BBQ           |BBQ          |Cairo           |Cairo Governorate  |Egypt      |1                 |314             |Latoya                   |Wells                   |6385           |zzy-222@7vy-sqs-sqz  |Nike             |Shoe Stores     |Shoe Stores     |29.966707   |31.250005    |NULL           |NULL          |NULL         |NULL      |NULL            |NULL              |NULL      |NULL              |27              |Spring Mix Salad      |3           |6.0000        |18.0000  |69.0000         |NULL                |NULL                     |69.0000        |\n",
      "|2022-04-11  |420429534   |422         |2022-04-11 09:45:54  |798208289          |6              |Smoky BBQ           |BBQ          |Cairo           |Cairo Governorate  |Egypt      |1                 |314             |Latoya                   |Wells                   |6385           |zzy-222@7vy-sqs-sqz  |Nike             |Shoe Stores     |Shoe Stores     |29.966707   |31.250005    |NULL           |NULL          |NULL         |NULL      |NULL            |NULL              |NULL      |NULL              |29              |Fried Pickles         |2           |6.0000        |12.0000  |69.0000         |NULL                |NULL                     |69.0000        |\n",
      "|2022-04-11  |420429566   |422         |2022-04-11 10:44:34  |798208400          |0              |Smoky BBQ           |BBQ          |Cairo           |Cairo Governorate  |Egypt      |1                 |314             |Latoya                   |Wells                   |6385           |zzy-222@7vy-sqs-sqz  |Nike             |Shoe Stores     |Shoe Stores     |29.966707   |31.250005    |NULL           |NULL          |NULL         |NULL      |NULL            |NULL              |NULL      |NULL              |21              |Two Meat Plate        |1           |14.0000       |14.0000  |84.0000         |NULL                |NULL                     |84.0000        |\n",
      "|2022-04-11  |420429566   |422         |2022-04-11 10:44:34  |798208401          |1              |Smoky BBQ           |BBQ          |Cairo           |Cairo Governorate  |Egypt      |1                 |314             |Latoya                   |Wells                   |6385           |zzy-222@7vy-sqs-sqz  |Nike             |Shoe Stores     |Shoe Stores     |29.966707   |31.250005    |NULL           |NULL          |NULL         |NULL      |NULL            |NULL              |NULL      |NULL              |22              |Three Meat Plate      |1           |17.0000       |17.0000  |84.0000         |NULL                |NULL                     |84.0000        |\n",
      "|2022-04-11  |420429566   |422         |2022-04-11 10:44:34  |798208402          |2              |Smoky BBQ           |BBQ          |Cairo           |Cairo Governorate  |Egypt      |1                 |314             |Latoya                   |Wells                   |6385           |zzy-222@7vy-sqs-sqz  |Nike             |Shoe Stores     |Shoe Stores     |29.966707   |31.250005    |NULL           |NULL          |NULL         |NULL      |NULL            |NULL              |NULL      |NULL              |23              |Pulled Pork Sandwich  |1           |12.0000       |12.0000  |84.0000         |NULL                |NULL                     |84.0000        |\n",
      "------------------------------------------------------------------------------------------------------------------------------------------------------------------------------------------------------------------------------------------------------------------------------------------------------------------------------------------------------------------------------------------------------------------------------------------------------------------------------------------------------------------------------------------------------------------------------------------------------------------------------------------------------------------------------------------\n",
      "\n"
     ]
    }
   ],
   "source": [
    "tasty_bytes_orders_v.show()"
   ]
  },
  {
   "cell_type": "code",
   "execution_count": 5,
   "id": "4692e490",
   "metadata": {},
   "outputs": [
    {
     "name": "stdout",
     "output_type": "stream",
     "text": [
      "---------------------------------------------------------------------------------------------------------------------------------------------------------------------------------------------------------------------------------------------------------------------------\n",
      "|\"CUSTOMER_ID\"  |\"FIRST_NAME\"  |\"LAST_NAME\"  |\"CITY\"     |\"COUNTRY\"      |\"POSTAL_CODE\"  |\"PREFERRED_LANGUAGE\"  |\"GENDER\"     |\"FAVOURITE_BRAND\"  |\"MARITAL_STATUS\"  |\"CHILDREN_COUNT\"  |\"SIGN_UP_DATE\"  |\"BIRTHDAY_DATE\"  |\"E_MAIL\"                     |\"PHONE_NUMBER\"  |\n",
      "---------------------------------------------------------------------------------------------------------------------------------------------------------------------------------------------------------------------------------------------------------------------------\n",
      "|66             |Cannon        |Waters       |Toronto    |Canada         |M4C 3M7        |English               |Male         |NULL               |Married           |4                 |2019-10-08      |1982-11-24       |Cannon.Waters@hotmail.com    |424-543-8925    |\n",
      "|118            |Donald        |Faulkner     |San Mateo  |United States  |94010          |English               |Male         |NULL               |Single            |0                 |2019-07-07      |1988-06-13       |Donald.Faulkner@hotmail.com  |080-861-2392    |\n",
      "|131            |Tate          |Tucker       |Toronto    |Canada         |M4C 1E7        |English               |Male         |NULL               |Single            |0                 |2021-05-27      |1984-12-29       |Tate.Tucker@hotmail.com      |896-393-1708    |\n",
      "|132            |Aileen        |Knapp        |Toronto    |Canada         |M4C 3J6        |English               |Male         |NULL               |Single            |0                 |2020-11-10      |1981-04-30       |Aileen.Knapp@hotmail.com     |477-406-2898    |\n",
      "|171            |Grayson       |Hayes        |Toronto    |Canada         |M4C 1E7        |English               |Male         |NULL               |Single            |0                 |2021-05-08      |1987-08-06       |Grayson.Hayes@hotmail.com    |849-485-3285    |\n",
      "|189            |Reese         |Mcfarland    |San Mateo  |United States  |94010          |English               |Undisclosed  |NULL               |Married           |1                 |2020-03-06      |1984-03-05       |Reese.Mcfarland@hotmail.com  |802-202-7275    |\n",
      "|195            |Summer        |Chung        |Toronto    |Canada         |M4C 1X6        |English               |Female       |NULL               |Single            |0                 |2021-05-13      |1987-08-17       |Summer.Chung@hotmail.com     |761-641-8122    |\n",
      "|204            |Emilio        |Lawrence     |San Mateo  |United States  |94497          |English               |Male         |NULL               |Undisclosed       |Undisclosed       |2021-10-10      |1979-06-25       |Emilio.Lawrence@hotmail.com  |693-524-2569    |\n",
      "|42             |Alexander     |Hicks        |San Mateo  |United States  |94404          |English               |Undisclosed  |NULL               |Single            |0                 |2020-07-11      |1966-06-28       |Alexander.Hicks@aol.com      |463-144-8555    |\n",
      "|59             |Ryan          |Shah         |San Mateo  |United States  |94401          |English               |Male         |NULL               |Married           |2                 |2020-12-29      |1961-06-05       |Ryan.Shah@aol.com            |679-586-9815    |\n",
      "---------------------------------------------------------------------------------------------------------------------------------------------------------------------------------------------------------------------------------------------------------------------------\n",
      "\n"
     ]
    }
   ],
   "source": [
    "tasty_bytes_customer_loyalty.show()"
   ]
  },
  {
   "attachments": {},
   "cell_type": "markdown",
   "id": "feae8662",
   "metadata": {},
   "source": [
    "## Data Exploration"
   ]
  },
  {
   "cell_type": "code",
   "execution_count": 6,
   "id": "853277e9",
   "metadata": {},
   "outputs": [
    {
     "data": {
      "image/png": "[encoded data removed]",
      "text/plain": [
       "<Figure size 640x480 with 1 Axes>"
      ]
     },
     "metadata": {},
     "output_type": "display_data"
    }
   ],
   "source": [
    "#Unique Customers\n",
    "temp_df=tasty_bytes_customer_loyalty.group_by(F.col('Country')).count().to_pandas().sort_values(by='COUNT',ascending=False)\n",
    "sns.barplot(x='COUNTRY',y='COUNT',data=temp_df)\n",
    "plt.xticks(rotation=90)\n",
    "plt.title('Number of Customers per Country')\n",
    "plt.show()"
   ]
  },
  {
   "cell_type": "code",
   "execution_count": 7,
   "id": "b40dddb2",
   "metadata": {},
   "outputs": [
    {
     "data": {
      "image/png": "[encoded data removed]",
      "text/plain": [
       "<Figure size 640x480 with 1 Axes>"
      ]
     },
     "metadata": {},
     "output_type": "display_data"
    }
   ],
   "source": [
    "#Number of unique transactions\n",
    "temp_df=tasty_bytes_orders_v.group_by(F.col('COUNTRY')).agg(F.countDistinct('ORDER_ID').alias('COUNT')).to_pandas().sort_values(by='COUNT',ascending=False)\n",
    "sns.barplot(x='COUNTRY',y='COUNT',data=temp_df)\n",
    "plt.xticks(rotation=90)\n",
    "plt.title('')\n",
    "plt.show()"
   ]
  },
  {
   "cell_type": "code",
   "execution_count": 8,
   "id": "41e99db7",
   "metadata": {},
   "outputs": [],
   "source": [
    "#Get last transaction date for each country\n",
    "last_tran_country = tasty_bytes_orders_v.group_by(F.col('COUNTRY')).max(F.to_date(F.col('ORDER_TS'))).to_pandas()"
   ]
  },
  {
   "cell_type": "code",
   "execution_count": 9,
   "id": "5e876715",
   "metadata": {},
   "outputs": [],
   "source": [
    "#Get assumed churned date which is two weeks before last transaction date, then get total number of customers in the assumed time period\n",
    "last_tran_country['CHURN_DATE']=last_tran_country['MAX(TO_DATE(ORDER_TS))']-datetime.timedelta(days=14)\n",
    "last_tran_country['CUSTOMER_COUNT_DATE']=last_tran_country['MAX(TO_DATE(ORDER_TS))']-datetime.timedelta(days=44)"
   ]
  },
  {
   "cell_type": "code",
   "execution_count": 10,
   "id": "e3d8f0c1",
   "metadata": {},
   "outputs": [
    {
     "name": "stdout",
     "output_type": "stream",
     "text": [
      "---------------------------------------------------------------------------------\n",
      "|\"COUNTRY\"    |\"MAX(TO_DATE(ORDER_TS))\"  |\"CHURN_DATE\"  |\"CUSTOMER_COUNT_DATE\"  |\n",
      "---------------------------------------------------------------------------------\n",
      "|Canada       |2022-11-01                |2022-10-18    |2022-09-18             |\n",
      "|Brazil       |2022-11-01                |2022-10-18    |2022-09-18             |\n",
      "|Germany      |2022-11-01                |2022-10-18    |2022-09-18             |\n",
      "|Australia    |2022-11-01                |2022-10-18    |2022-09-18             |\n",
      "|Japan        |2022-11-01                |2022-10-18    |2022-09-18             |\n",
      "|Poland       |2022-11-01                |2022-10-18    |2022-09-18             |\n",
      "|South Korea  |2022-11-01                |2022-10-18    |2022-09-18             |\n",
      "|Spain        |2022-11-01                |2022-10-18    |2022-09-18             |\n",
      "|Sweden       |2022-11-01                |2022-10-18    |2022-09-18             |\n",
      "|England      |2022-11-01                |2022-10-18    |2022-09-18             |\n",
      "---------------------------------------------------------------------------------\n",
      "\n"
     ]
    }
   ],
   "source": [
    "#Make pandas dataframe into a snowpark dataframe\n",
    "last_tran_country_sdf=session.createDataFrame(last_tran_country)\n",
    "last_tran_country_sdf.show()"
   ]
  },
  {
   "cell_type": "code",
   "execution_count": 11,
   "id": "1b1a6c04",
   "metadata": {},
   "outputs": [
    {
     "name": "stdout",
     "output_type": "stream",
     "text": [
      "-------------------------------------------------------------------------------------------------------------------------------------------------------------------------------------------------------------------------------------------------------------------------------------------------------------------------------------------------------------------------------------------------------------------------------------------------------------------------------------------------------------------------------------------------------------------------------------------------------------------------------------------------------------------------------------------------------------------------------------------------------------------------------------------------------------------------------------------------\n",
      "|\"COUNTRY\"  |\"MAX(TO_DATE(ORDER_TS))\"  |\"CHURN_DATE\"  |\"CUSTOMER_COUNT_DATE\"  |\"DATE\"      |\"ORDER_ID\"  |\"TRUCK_ID\"  |\"ORDER_TS\"           |\"ORDER_DETAIL_ID\"  |\"LINE_NUMBER\"  |\"TRUCK_BRAND_NAME\"  |\"MENU_TYPE\"  |\"PRIMARY_CITY\"  |\"REGION\"           |\"FRANCHISE_FLAG\"  |\"FRANCHISE_ID\"  |\"FRANCHISEE_FIRST_NAME\"  |\"FRANCHISEE_LAST_NAME\"  |\"LOCATION_ID\"  |\"PLACEKEY\"           |\"LOCATION_NAME\"                                 |\"TOP_CATEGORY\"                    |\"SUB_CATEGORY\"      |\"LATITUDE\"  |\"LONGITUDE\"  |\"CUSTOMER_ID\"  |\"FIRST_NAME\"  |\"LAST_NAME\"  |\"E_MAIL\"                           |\"PHONE_NUMBER\"  |\"CHILDREN_COUNT\"  |\"GENDER\"  |\"MARITAL_STATUS\"    |\"MENU_ITEM_ID\"  |\"MENU_ITEM_NAME\"           |\"QUANTITY\"  |\"UNIT_PRICE\"  |\"PRICE\"  |\"ORDER_AMOUNT\"  |\"ORDER_TAX_AMOUNT\"  |\"ORDER_DISCOUNT_AMOUNT\"  |\"ORDER_TOTAL\"  |\n",
      "-------------------------------------------------------------------------------------------------------------------------------------------------------------------------------------------------------------------------------------------------------------------------------------------------------------------------------------------------------------------------------------------------------------------------------------------------------------------------------------------------------------------------------------------------------------------------------------------------------------------------------------------------------------------------------------------------------------------------------------------------------------------------------------------------------------------------------------------------\n",
      "|Egypt      |2022-11-01                |2022-10-18    |2022-09-18             |2022-04-10  |420427694   |434         |2022-04-10 11:09:49  |798203232          |0              |Nani's Kitchen      |Indian       |Cairo           |Cairo Governorate  |1                 |324             |Brandon                  |Gaines                  |6413           |zzy-222@7vy-srt-jqf  |Egypt Renault El Masria Auto Sales Dealer       |Automobile Dealers                |New Car Dealers     |29.983328   |31.230708    |NULL           |NULL          |NULL         |NULL                               |NULL            |NULL              |NULL      |NULL                |141             |Lean Chicken Tikka Masala  |1           |17.0000       |17.0000  |17.0000         |NULL                |NULL                     |17.0000        |\n",
      "|Egypt      |2022-11-01                |2022-10-18    |2022-09-18             |2022-04-10  |420428103   |434         |2022-04-10 20:29:50  |798204296          |0              |Nani's Kitchen      |Indian       |Cairo           |Cairo Governorate  |1                 |324             |Brandon                  |Gaines                  |6331           |zzy-222@7vy-shx-bkz  |HSBC Bank                                       |Depository Credit Intermediation  |Commercial Banking  |30.10279    |31.328057    |NULL           |NULL          |NULL         |NULL                               |NULL            |NULL              |NULL      |NULL                |141             |Lean Chicken Tikka Masala  |1           |17.0000       |17.0000  |65.0000         |NULL                |NULL                     |65.0000        |\n",
      "|Egypt      |2022-11-01                |2022-10-18    |2022-09-18             |2022-04-10  |420428103   |434         |2022-04-10 20:29:50  |798204297          |1              |Nani's Kitchen      |Indian       |Cairo           |Cairo Governorate  |1                 |324             |Brandon                  |Gaines                  |6331           |zzy-222@7vy-shx-bkz  |HSBC Bank                                       |Depository Credit Intermediation  |Commercial Banking  |30.10279    |31.328057    |NULL           |NULL          |NULL         |NULL                               |NULL            |NULL              |NULL      |NULL                |142             |Tandoori Mixed Grill       |1           |18.0000       |18.0000  |65.0000         |NULL                |NULL                     |65.0000        |\n",
      "|Egypt      |2022-11-01                |2022-10-18    |2022-09-18             |2022-04-10  |420428103   |434         |2022-04-10 20:29:50  |798204298          |2              |Nani's Kitchen      |Indian       |Cairo           |Cairo Governorate  |1                 |324             |Brandon                  |Gaines                  |6331           |zzy-222@7vy-shx-bkz  |HSBC Bank                                       |Depository Credit Intermediation  |Commercial Banking  |30.10279    |31.328057    |NULL           |NULL          |NULL         |NULL                               |NULL            |NULL              |NULL      |NULL                |143             |Combination Curry          |2           |15.0000       |30.0000  |65.0000         |NULL                |NULL                     |65.0000        |\n",
      "|Egypt      |2022-11-01                |2022-10-18    |2022-09-18             |2022-04-10  |420428390   |435         |2022-04-10 11:56:21  |798205036          |0              |Better Off Bread    |Sandwiches   |Cairo           |Cairo Governorate  |1                 |325             |Adam                     |Carter                  |6476           |zzy-222@7vy-tvd-7t9  |Egypt Renault French Motors After Sales Dealer  |Automobile Dealers                |New Car Dealers     |30.056067   |31.492679    |219739         |Andy          |Miranda      |**~MASKED~**.**~MASKED~**@aim.com  |111-111-1111    |2                 |Male      |Divorced/Seperated  |153             |Hot Ham & Cheese           |2           |11.0000       |22.0000  |22.0000         |NULL                |NULL                     |22.0000        |\n",
      "|Egypt      |2022-11-01                |2022-10-18    |2022-09-18             |2022-04-10  |420428612   |435         |2022-04-10 18:18:35  |798205621          |0              |Better Off Bread    |Sandwiches   |Cairo           |Cairo Governorate  |1                 |325             |Adam                     |Carter                  |9884           |zzy-224@7vy-shr-vfz  |Crocs                                           |Shoe Stores                       |Shoe Stores         |30.080739   |31.364927    |NULL           |NULL          |NULL         |NULL                               |NULL            |NULL              |NULL      |NULL                |152             |Pastrami                   |1           |11.0000       |11.0000  |33.0000         |NULL                |NULL                     |33.0000        |\n",
      "|Egypt      |2022-11-01                |2022-10-18    |2022-09-18             |2022-04-10  |420428612   |435         |2022-04-10 18:18:35  |798205622          |1              |Better Off Bread    |Sandwiches   |Cairo           |Cairo Governorate  |1                 |325             |Adam                     |Carter                  |9884           |zzy-224@7vy-shr-vfz  |Crocs                                           |Shoe Stores                       |Shoe Stores         |30.080739   |31.364927    |NULL           |NULL          |NULL         |NULL                               |NULL            |NULL              |NULL      |NULL                |153             |Hot Ham & Cheese           |1           |11.0000       |11.0000  |33.0000         |NULL                |NULL                     |33.0000        |\n",
      "|Egypt      |2022-11-01                |2022-10-18    |2022-09-18             |2022-04-10  |420428612   |435         |2022-04-10 18:18:35  |798205623          |2              |Better Off Bread    |Sandwiches   |Cairo           |Cairo Governorate  |1                 |325             |Adam                     |Carter                  |9884           |zzy-224@7vy-shr-vfz  |Crocs                                           |Shoe Stores                       |Shoe Stores         |30.080739   |31.364927    |NULL           |NULL          |NULL         |NULL                               |NULL            |NULL              |NULL      |NULL                |151             |Italian                    |1           |11.0000       |11.0000  |33.0000         |NULL                |NULL                     |33.0000        |\n",
      "|Egypt      |2022-11-01                |2022-10-18    |2022-09-18             |2022-04-10  |420428652   |435         |2022-04-10 18:54:55  |798205730          |0              |Better Off Bread    |Sandwiches   |Cairo           |Cairo Governorate  |1                 |325             |Adam                     |Carter                  |9884           |zzy-224@7vy-shr-vfz  |Crocs                                           |Shoe Stores                       |Shoe Stores         |30.080739   |31.364927    |NULL           |NULL          |NULL         |NULL                               |NULL            |NULL              |NULL      |NULL                |152             |Pastrami                   |1           |11.0000       |11.0000  |22.0000         |NULL                |NULL                     |22.0000        |\n",
      "|Egypt      |2022-11-01                |2022-10-18    |2022-09-18             |2022-04-10  |420428652   |435         |2022-04-10 18:54:55  |798205731          |1              |Better Off Bread    |Sandwiches   |Cairo           |Cairo Governorate  |1                 |325             |Adam                     |Carter                  |9884           |zzy-224@7vy-shr-vfz  |Crocs                                           |Shoe Stores                       |Shoe Stores         |30.080739   |31.364927    |NULL           |NULL          |NULL         |NULL                               |NULL            |NULL              |NULL      |NULL                |153             |Hot Ham & Cheese           |1           |11.0000       |11.0000  |22.0000         |NULL                |NULL                     |22.0000        |\n",
      "-------------------------------------------------------------------------------------------------------------------------------------------------------------------------------------------------------------------------------------------------------------------------------------------------------------------------------------------------------------------------------------------------------------------------------------------------------------------------------------------------------------------------------------------------------------------------------------------------------------------------------------------------------------------------------------------------------------------------------------------------------------------------------------------------------------------------------------------------\n",
      "\n"
     ]
    }
   ],
   "source": [
    "#Merge \n",
    "last_tran_country_sdf_join = last_tran_country_sdf.join(\n",
    "    right=tasty_bytes_orders_v,\n",
    "    on=\"COUNTRY\",\n",
    "    how=\"inner\"\n",
    ")\n",
    "\n",
    "last_tran_country_sdf_join.show()"
   ]
  },
  {
   "cell_type": "code",
   "execution_count": 12,
   "id": "bc97dd29",
   "metadata": {},
   "outputs": [
    {
     "name": "stdout",
     "output_type": "stream",
     "text": [
      "---------------------------------------------------------------------------------------------------------------------------------------------------------------------------------------------------------------------------------------------------------------------------------------------------------------------------------------------------------------------------------------------------------------------------------------------------------------------------------------------------------------------------------------------------------------------------------------------------------------------------------------------------------------------------------------------------------------------------------------------------------------------------------------------------------------\n",
      "|\"COUNTRY\"  |\"MAX(TO_DATE(ORDER_TS))\"  |\"CHURN_DATE\"  |\"CUSTOMER_COUNT_DATE\"  |\"DATE\"      |\"ORDER_ID\"  |\"TRUCK_ID\"  |\"ORDER_TS\"           |\"ORDER_DETAIL_ID\"  |\"LINE_NUMBER\"  |\"TRUCK_BRAND_NAME\"  |\"MENU_TYPE\"   |\"PRIMARY_CITY\"  |\"REGION\"  |\"FRANCHISE_FLAG\"  |\"FRANCHISE_ID\"  |\"FRANCHISEE_FIRST_NAME\"  |\"FRANCHISEE_LAST_NAME\"  |\"LOCATION_ID\"  |\"PLACEKEY\"           |\"LOCATION_NAME\"  |\"TOP_CATEGORY\"                             |\"SUB_CATEGORY\"                                 |\"LATITUDE\"  |\"LONGITUDE\"  |\"CUSTOMER_ID\"  |\"FIRST_NAME\"  |\"LAST_NAME\"  |\"E_MAIL\"  |\"PHONE_NUMBER\"  |\"CHILDREN_COUNT\"  |\"GENDER\"  |\"MARITAL_STATUS\"  |\"MENU_ITEM_ID\"  |\"MENU_ITEM_NAME\"       |\"QUANTITY\"  |\"UNIT_PRICE\"  |\"PRICE\"  |\"ORDER_AMOUNT\"  |\"ORDER_TAX_AMOUNT\"  |\"ORDER_DISCOUNT_AMOUNT\"  |\"ORDER_TOTAL\"  |\n",
      "---------------------------------------------------------------------------------------------------------------------------------------------------------------------------------------------------------------------------------------------------------------------------------------------------------------------------------------------------------------------------------------------------------------------------------------------------------------------------------------------------------------------------------------------------------------------------------------------------------------------------------------------------------------------------------------------------------------------------------------------------------------------------------------------------------------\n",
      "|Canada     |2022-11-01                |2022-10-18    |2022-09-18             |2022-10-28  |22002020    |79          |2022-10-28 09:22:31  |59725031           |0              |The Mac Shack       |Mac & Cheese  |Toronto         |Ontario   |1                 |62              |Sarah                    |Phillips                |2147           |226-222@665-zdc-f2k  |Super Tech       |Other Amusement and Recreation Industries  |All Other Amusement and Recreation Industries  |43.653254   |-79.394751   |NULL           |NULL          |NULL         |NULL      |NULL            |NULL              |NULL      |NULL              |41              |Standard Mac & Cheese  |3           |8.0000        |24.0000  |78.0000         |NULL                |NULL                     |78.0000        |\n",
      "|Canada     |2022-11-01                |2022-10-18    |2022-09-18             |2022-10-28  |22002020    |79          |2022-10-28 09:22:31  |59725032           |1              |The Mac Shack       |Mac & Cheese  |Toronto         |Ontario   |1                 |62              |Sarah                    |Phillips                |2147           |226-222@665-zdc-f2k  |Super Tech       |Other Amusement and Recreation Industries  |All Other Amusement and Recreation Industries  |43.653254   |-79.394751   |NULL           |NULL          |NULL         |NULL      |NULL            |NULL              |NULL      |NULL              |42              |Buffalo Mac & Cheese   |3           |10.0000       |30.0000  |78.0000         |NULL                |NULL                     |78.0000        |\n",
      "|Canada     |2022-11-01                |2022-10-18    |2022-09-18             |2022-10-28  |22002020    |79          |2022-10-28 09:22:31  |59725033           |2              |The Mac Shack       |Mac & Cheese  |Toronto         |Ontario   |1                 |62              |Sarah                    |Phillips                |2147           |226-222@665-zdc-f2k  |Super Tech       |Other Amusement and Recreation Industries  |All Other Amusement and Recreation Industries  |43.653254   |-79.394751   |NULL           |NULL          |NULL         |NULL      |NULL            |NULL              |NULL      |NULL              |43              |Lobster Mac & Cheese   |1           |15.0000       |15.0000  |78.0000         |NULL                |NULL                     |78.0000        |\n",
      "|Canada     |2022-11-01                |2022-10-18    |2022-09-18             |2022-10-28  |22002020    |79          |2022-10-28 09:22:31  |59725034           |3              |The Mac Shack       |Mac & Cheese  |Toronto         |Ontario   |1                 |62              |Sarah                    |Phillips                |2147           |226-222@665-zdc-f2k  |Super Tech       |Other Amusement and Recreation Industries  |All Other Amusement and Recreation Industries  |43.653254   |-79.394751   |NULL           |NULL          |NULL         |NULL      |NULL            |NULL              |NULL      |NULL              |45              |Bottled Soda           |3           |3.0000        |9.0000   |78.0000         |NULL                |NULL                     |78.0000        |\n",
      "|Canada     |2022-11-01                |2022-10-18    |2022-09-18             |2022-10-28  |22002054    |79          |2022-10-28 09:46:34  |59725112           |0              |The Mac Shack       |Mac & Cheese  |Toronto         |Ontario   |1                 |62              |Sarah                    |Phillips                |2147           |226-222@665-zdc-f2k  |Super Tech       |Other Amusement and Recreation Industries  |All Other Amusement and Recreation Industries  |43.653254   |-79.394751   |NULL           |NULL          |NULL         |NULL      |NULL            |NULL              |NULL      |NULL              |42              |Buffalo Mac & Cheese   |1           |10.0000       |10.0000  |10.0000         |NULL                |NULL                     |10.0000        |\n",
      "|Canada     |2022-11-01                |2022-10-18    |2022-09-18             |2022-10-28  |22002150    |79          |2022-10-28 10:43:52  |59725366           |0              |The Mac Shack       |Mac & Cheese  |Toronto         |Ontario   |1                 |62              |Sarah                    |Phillips                |2147           |226-222@665-zdc-f2k  |Super Tech       |Other Amusement and Recreation Industries  |All Other Amusement and Recreation Industries  |43.653254   |-79.394751   |NULL           |NULL          |NULL         |NULL      |NULL            |NULL              |NULL      |NULL              |41              |Standard Mac & Cheese  |1           |8.0000        |8.0000   |48.0000         |NULL                |NULL                     |48.0000        |\n",
      "|Canada     |2022-11-01                |2022-10-18    |2022-09-18             |2022-10-28  |22002150    |79          |2022-10-28 10:43:52  |59725367           |1              |The Mac Shack       |Mac & Cheese  |Toronto         |Ontario   |1                 |62              |Sarah                    |Phillips                |2147           |226-222@665-zdc-f2k  |Super Tech       |Other Amusement and Recreation Industries  |All Other Amusement and Recreation Industries  |43.653254   |-79.394751   |NULL           |NULL          |NULL         |NULL      |NULL            |NULL              |NULL      |NULL              |42              |Buffalo Mac & Cheese   |1           |10.0000       |10.0000  |48.0000         |NULL                |NULL                     |48.0000        |\n",
      "|Canada     |2022-11-01                |2022-10-18    |2022-09-18             |2022-10-28  |22002150    |79          |2022-10-28 10:43:52  |59725368           |2              |The Mac Shack       |Mac & Cheese  |Toronto         |Ontario   |1                 |62              |Sarah                    |Phillips                |2147           |226-222@665-zdc-f2k  |Super Tech       |Other Amusement and Recreation Industries  |All Other Amusement and Recreation Industries  |43.653254   |-79.394751   |NULL           |NULL          |NULL         |NULL      |NULL            |NULL              |NULL      |NULL              |43              |Lobster Mac & Cheese   |2           |15.0000       |30.0000  |48.0000         |NULL                |NULL                     |48.0000        |\n",
      "|Canada     |2022-11-01                |2022-10-18    |2022-09-18             |2022-10-28  |22002151    |79          |2022-10-28 10:45:18  |59725369           |0              |The Mac Shack       |Mac & Cheese  |Toronto         |Ontario   |1                 |62              |Sarah                    |Phillips                |2147           |226-222@665-zdc-f2k  |Super Tech       |Other Amusement and Recreation Industries  |All Other Amusement and Recreation Industries  |43.653254   |-79.394751   |NULL           |NULL          |NULL         |NULL      |NULL            |NULL              |NULL      |NULL              |41              |Standard Mac & Cheese  |1           |8.0000        |8.0000   |23.0000         |NULL                |NULL                     |23.0000        |\n",
      "|Canada     |2022-11-01                |2022-10-18    |2022-09-18             |2022-10-28  |22002151    |79          |2022-10-28 10:45:18  |59725370           |1              |The Mac Shack       |Mac & Cheese  |Toronto         |Ontario   |1                 |62              |Sarah                    |Phillips                |2147           |226-222@665-zdc-f2k  |Super Tech       |Other Amusement and Recreation Industries  |All Other Amusement and Recreation Industries  |43.653254   |-79.394751   |NULL           |NULL          |NULL         |NULL      |NULL            |NULL              |NULL      |NULL              |43              |Lobster Mac & Cheese   |1           |15.0000       |15.0000  |23.0000         |NULL                |NULL                     |23.0000        |\n",
      "---------------------------------------------------------------------------------------------------------------------------------------------------------------------------------------------------------------------------------------------------------------------------------------------------------------------------------------------------------------------------------------------------------------------------------------------------------------------------------------------------------------------------------------------------------------------------------------------------------------------------------------------------------------------------------------------------------------------------------------------------------------------------------------------------------------\n",
      "\n"
     ]
    }
   ],
   "source": [
    "#Filter dataframe to the assumed time period\n",
    "df = last_tran_country_sdf_join[last_tran_country_sdf_join[\"DATE\"] > last_tran_country_sdf_join[\"CUSTOMER_COUNT_DATE\"]]\n",
    "df.show()"
   ]
  },
  {
   "cell_type": "code",
   "execution_count": 13,
   "id": "23b1ca2f",
   "metadata": {},
   "outputs": [],
   "source": [
    "#Filter to get churned members dataset\n",
    "df2 = df[last_tran_country_sdf_join[\"DATE\"] > last_tran_country_sdf_join[\"CHURN_DATE\"]]"
   ]
  },
  {
   "cell_type": "code",
   "execution_count": 14,
   "id": "82490bdd",
   "metadata": {},
   "outputs": [],
   "source": [
    "#Number of customers before churn date\n",
    "cust_bef = df.groupBy(\"COUNTRY\").agg(F.countDistinct(F.col(\"CUSTOMER_ID\")).alias('COUNT_BEF'))\n",
    "#Number of customers after churn date\n",
    "cust_aft = df2.groupBy(\"COUNTRY\").agg(F.countDistinct(F.col(\"CUSTOMER_ID\")).alias('COUNT_AFT'))"
   ]
  },
  {
   "cell_type": "code",
   "execution_count": 15,
   "id": "9d696fc7",
   "metadata": {},
   "outputs": [],
   "source": [
    "#Merge\n",
    "calculator = cust_aft.join(\n",
    "    right=cust_bef,\n",
    "    on=\"COUNTRY\",\n",
    "    how=\"inner\"\n",
    ")\n",
    "calc = calculator.to_pandas()\n",
    "\n",
    "#Calculate Churn rate \n",
    "calc[\"CHURN_RATE\"] = (((calc[\"COUNT_BEF\"] - calc[\"COUNT_AFT\"]) / calc[\"COUNT_BEF\"]) * 100)\n",
    "temp_df=calc.sort_values(by='CHURN_RATE',ascending=False)"
   ]
  },
  {
   "cell_type": "code",
   "execution_count": 16,
   "id": "8d093ff2",
   "metadata": {},
   "outputs": [
    {
     "data": {
      "image/png": "[encoded data removed]",
      "text/plain": [
       "<Figure size 640x480 with 1 Axes>"
      ]
     },
     "metadata": {},
     "output_type": "display_data"
    }
   ],
   "source": [
    "#Churn rate by Country\n",
    "sns.barplot(x='COUNTRY',y='CHURN_RATE',data=temp_df)\n",
    "plt.xticks(rotation=90)\n",
    "plt.title('Churn rate by Country')\n",
    "plt.show()"
   ]
  },
  {
   "attachments": {},
   "cell_type": "markdown",
   "id": "aaee91dc",
   "metadata": {},
   "source": [
    "Since Australia has quite a number of customers, a huge number of transactions and the highest churn rate. Therefore, we have decided to focus on Australia."
   ]
  },
  {
   "cell_type": "code",
   "execution_count": 17,
   "id": "d5816a26",
   "metadata": {},
   "outputs": [
    {
     "name": "stdout",
     "output_type": "stream",
     "text": [
      "------------------------------------------------------------------------------------------------------------------------------------------------------------------------------------------------------------------------------------------------------------------------------------------------------------------------------------------------------------------------------------------------------------------------------------------------------------------------------------------------------------------------------------------------------------------------------------------------------------------------------------------------------------------------------------------------------------------------------------------------------------------------------------------------------------------------------------------------------------------------------------------------------------------------------------------------------------------------------------------------------------------------------------------------------------------------------\n",
      "|\"CUSTOMER_ID\"  |\"l_4zt7_FIRST_NAME\"  |\"l_4zt7_LAST_NAME\"  |\"CITY\"     |\"l_4zt7_COUNTRY\"  |\"POSTAL_CODE\"  |\"PREFERRED_LANGUAGE\"  |\"l_4zt7_GENDER\"  |\"FAVOURITE_BRAND\"  |\"l_4zt7_MARITAL_STATUS\"  |\"l_4zt7_CHILDREN_COUNT\"  |\"SIGN_UP_DATE\"  |\"BIRTHDAY_DATE\"  |\"l_4zt7_E_MAIL\"              |\"l_4zt7_PHONE_NUMBER\"  |\"DATE\"      |\"ORDER_ID\"  |\"TRUCK_ID\"  |\"ORDER_TS\"           |\"ORDER_DETAIL_ID\"  |\"LINE_NUMBER\"  |\"TRUCK_BRAND_NAME\"  |\"MENU_TYPE\"     |\"PRIMARY_CITY\"  |\"REGION\"         |\"r_nzjf_COUNTRY\"  |\"FRANCHISE_FLAG\"  |\"FRANCHISE_ID\"  |\"FRANCHISEE_FIRST_NAME\"  |\"FRANCHISEE_LAST_NAME\"  |\"LOCATION_ID\"  |\"PLACEKEY\"           |\"LOCATION_NAME\"  |\"TOP_CATEGORY\"   |\"SUB_CATEGORY\"           |\"LATITUDE\"  |\"LONGITUDE\"  |\"r_nzjf_FIRST_NAME\"  |\"r_nzjf_LAST_NAME\"  |\"r_nzjf_E_MAIL\"              |\"r_nzjf_PHONE_NUMBER\"  |\"r_nzjf_CHILDREN_COUNT\"  |\"r_nzjf_GENDER\"  |\"r_nzjf_MARITAL_STATUS\"  |\"MENU_ITEM_ID\"  |\"MENU_ITEM_NAME\"       |\"QUANTITY\"  |\"UNIT_PRICE\"  |\"PRICE\"  |\"ORDER_AMOUNT\"  |\"ORDER_TAX_AMOUNT\"  |\"ORDER_DISCOUNT_AMOUNT\"  |\"ORDER_TOTAL\"  |\n",
      "------------------------------------------------------------------------------------------------------------------------------------------------------------------------------------------------------------------------------------------------------------------------------------------------------------------------------------------------------------------------------------------------------------------------------------------------------------------------------------------------------------------------------------------------------------------------------------------------------------------------------------------------------------------------------------------------------------------------------------------------------------------------------------------------------------------------------------------------------------------------------------------------------------------------------------------------------------------------------------------------------------------------------------------------------------------------------\n",
      "|147903         |Zackery              |Baxter              |Sydney     |Australia         |2001           |English               |Female           |NULL               |Married                  |3                        |2019-12-09      |1995-07-11       |Zackery.Baxter@gmail.com     |885-805-7025           |2022-03-05  |127131845   |276         |2022-03-05 17:16:44  |344547846          |0              |The Mega Melt       |Grilled Cheese  |Sydney          |New South Wales  |Australia         |1                 |203             |Brittany                 |White                   |13357          |zzy-22n@nh3-yc5-tvz  |Saint Laurent    |Clothing Stores  |Women's Clothing Stores  |-33.870288  |151.20986    |Zackery              |Baxter              |Zackery.Baxter@gmail.com     |885-805-7025           |3                        |Female           |Married                  |66              |Ice Tea                |1           |3.0000        |3.0000   |26.0000         |NULL                |NULL                     |26.0000        |\n",
      "|147903         |Zackery              |Baxter              |Sydney     |Australia         |2001           |English               |Female           |NULL               |Married                  |3                        |2019-12-09      |1995-07-11       |Zackery.Baxter@gmail.com     |885-805-7025           |2022-03-05  |127131845   |276         |2022-03-05 17:16:44  |344547847          |1              |The Mega Melt       |Grilled Cheese  |Sydney          |New South Wales  |Australia         |1                 |203             |Brittany                 |White                   |13357          |zzy-22n@nh3-yc5-tvz  |Saint Laurent    |Clothing Stores  |Women's Clothing Stores  |-33.870288  |151.20986    |Zackery              |Baxter              |Zackery.Baxter@gmail.com     |885-805-7025           |3                        |Female           |Married                  |61              |The Original           |1           |5.0000        |5.0000   |26.0000         |NULL                |NULL                     |26.0000        |\n",
      "|147903         |Zackery              |Baxter              |Sydney     |Australia         |2001           |English               |Female           |NULL               |Married                  |3                        |2019-12-09      |1995-07-11       |Zackery.Baxter@gmail.com     |885-805-7025           |2022-03-05  |127131845   |276         |2022-03-05 17:16:44  |344547848          |2              |The Mega Melt       |Grilled Cheese  |Sydney          |New South Wales  |Australia         |1                 |203             |Brittany                 |White                   |13357          |zzy-22n@nh3-yc5-tvz  |Saint Laurent    |Clothing Stores  |Women's Clothing Stores  |-33.870288  |151.20986    |Zackery              |Baxter              |Zackery.Baxter@gmail.com     |885-805-7025           |3                        |Female           |Married                  |63              |Miss Piggie            |3           |6.0000        |18.0000  |26.0000         |NULL                |NULL                     |26.0000        |\n",
      "|91343          |Frank                |Khan                |Melbourne  |Australia         |3000           |English               |Male             |NULL               |Single                   |0                        |2020-07-14      |1950-05-15       |Frank.Khan@ymail.com         |563-530-9596           |2022-04-27  |138945542   |293         |2022-04-27 09:54:53  |376141768          |0              |Le Coin des Crêpes  |Crepes          |Melbourne       |Victoria         |Australia         |1                 |219             |Eileen                   |Lyons                   |7805           |zzy-222@nhx-p7g-3wk  |Dolce & Gabbana  |Clothing Stores  |Women's Clothing Stores  |-37.824306  |144.977984   |Frank                |Khan                |Frank.Khan@ymail.com         |563-530-9596           |0                        |Male             |Single                   |83              |Crepe Suzette          |1           |9.0000        |9.0000   |9.0000          |NULL                |NULL                     |9.0000         |\n",
      "|120586         |Aidan                |Lynn                |Melbourne  |Australia         |3205           |English               |Female           |NULL               |Married                  |1                        |2020-04-14      |1994-07-12       |Aidan.Lynn@gmail.com         |351-261-2085           |2022-04-27  |138945549   |293         |2022-04-27 10:00:13  |376141784          |0              |Le Coin des Crêpes  |Crepes          |Melbourne       |Victoria         |Australia         |1                 |219             |Eileen                   |Lyons                   |7805           |zzy-222@nhx-p7g-3wk  |Dolce & Gabbana  |Clothing Stores  |Women's Clothing Stores  |-37.824306  |144.977984   |Aidan                |Lynn                |Aidan.Lynn@gmail.com         |351-261-2085           |1                        |Female           |Married                  |81              |Breakfast Crepe        |1           |12.0000       |12.0000  |48.0000         |NULL                |NULL                     |48.0000        |\n",
      "|120586         |Aidan                |Lynn                |Melbourne  |Australia         |3205           |English               |Female           |NULL               |Married                  |1                        |2020-04-14      |1994-07-12       |Aidan.Lynn@gmail.com         |351-261-2085           |2022-04-27  |138945549   |293         |2022-04-27 10:00:13  |376141785          |1              |Le Coin des Crêpes  |Crepes          |Melbourne       |Victoria         |Australia         |1                 |219             |Eileen                   |Lyons                   |7805           |zzy-222@nhx-p7g-3wk  |Dolce & Gabbana  |Clothing Stores  |Women's Clothing Stores  |-37.824306  |144.977984   |Aidan                |Lynn                |Aidan.Lynn@gmail.com         |351-261-2085           |1                        |Female           |Married                  |82              |Chicken Pot Pie Crepe  |1           |15.0000       |15.0000  |48.0000         |NULL                |NULL                     |48.0000        |\n",
      "|120586         |Aidan                |Lynn                |Melbourne  |Australia         |3205           |English               |Female           |NULL               |Married                  |1                        |2020-04-14      |1994-07-12       |Aidan.Lynn@gmail.com         |351-261-2085           |2022-04-27  |138945549   |293         |2022-04-27 10:00:13  |376141786          |2              |Le Coin des Crêpes  |Crepes          |Melbourne       |Victoria         |Australia         |1                 |219             |Eileen                   |Lyons                   |7805           |zzy-222@nhx-p7g-3wk  |Dolce & Gabbana  |Clothing Stores  |Women's Clothing Stores  |-37.824306  |144.977984   |Aidan                |Lynn                |Aidan.Lynn@gmail.com         |351-261-2085           |1                        |Female           |Married                  |83              |Crepe Suzette          |2           |9.0000        |18.0000  |48.0000         |NULL                |NULL                     |48.0000        |\n",
      "|120586         |Aidan                |Lynn                |Melbourne  |Australia         |3205           |English               |Female           |NULL               |Married                  |1                        |2020-04-14      |1994-07-12       |Aidan.Lynn@gmail.com         |351-261-2085           |2022-04-27  |138945549   |293         |2022-04-27 10:00:13  |376141787          |3              |Le Coin des Crêpes  |Crepes          |Melbourne       |Victoria         |Australia         |1                 |219             |Eileen                   |Lyons                   |7805           |zzy-222@nhx-p7g-3wk  |Dolce & Gabbana  |Clothing Stores  |Women's Clothing Stores  |-37.824306  |144.977984   |Aidan                |Lynn                |Aidan.Lynn@gmail.com         |351-261-2085           |1                        |Female           |Married                  |85              |Bottled Soda           |1           |3.0000        |3.0000   |48.0000         |NULL                |NULL                     |48.0000        |\n",
      "|129546         |Camren               |Ballard             |Melbourne  |Australia         |3004           |English               |Female           |NULL               |Undisclosed              |Undisclosed              |2021-09-22      |1979-01-20       |Camren.Ballard@hotmail.com   |260-485-3848           |2022-04-27  |138945586   |293         |2022-04-27 10:19:14  |376141887          |0              |Le Coin des Crêpes  |Crepes          |Melbourne       |Victoria         |Australia         |1                 |219             |Eileen                   |Lyons                   |7805           |zzy-222@nhx-p7g-3wk  |Dolce & Gabbana  |Clothing Stores  |Women's Clothing Stores  |-37.824306  |144.977984   |Camren               |Ballard             |Camren.Ballard@hotmail.com   |260-485-3848           |Undisclosed              |Female           |Undisclosed              |81              |Breakfast Crepe        |2           |12.0000       |24.0000  |24.0000         |NULL                |NULL                     |24.0000        |\n",
      "|156345         |Macie                |Whitehead           |Melbourne  |Australia         |5006           |English               |Undisclosed      |NULL               |Married                  |2                        |2022-05-23      |1985-01-07       |Macie.Whitehead@hotmail.com  |898-881-6820           |2022-04-27  |138945597   |293         |2022-04-27 10:24:14  |376141912          |0              |Le Coin des Crêpes  |Crepes          |Melbourne       |Victoria         |Australia         |1                 |219             |Eileen                   |Lyons                   |7805           |zzy-222@nhx-p7g-3wk  |Dolce & Gabbana  |Clothing Stores  |Women's Clothing Stores  |-37.824306  |144.977984   |Macie                |Whitehead           |Macie.Whitehead@hotmail.com  |898-881-6820           |2                        |Undisclosed      |Married                  |81              |Breakfast Crepe        |4           |12.0000       |48.0000  |101.0000        |NULL                |NULL                     |101.0000       |\n",
      "------------------------------------------------------------------------------------------------------------------------------------------------------------------------------------------------------------------------------------------------------------------------------------------------------------------------------------------------------------------------------------------------------------------------------------------------------------------------------------------------------------------------------------------------------------------------------------------------------------------------------------------------------------------------------------------------------------------------------------------------------------------------------------------------------------------------------------------------------------------------------------------------------------------------------------------------------------------------------------------------------------------------------------------------------------------------------\n",
      "\n",
      "Number of rows: 2144021\n"
     ]
    }
   ],
   "source": [
    "#Filter to only Australia\n",
    "filtered_df=tasty_bytes_orders_v.filter(F.col('COUNTRY')=='Australia')\n",
    "\n",
    "#Merge to get loyal customers orders\n",
    "loyal_customer_orders=tasty_bytes_customer_loyalty.join(\n",
    "    right=filtered_df,\n",
    "    on=\"CUSTOMER_ID\",\n",
    "    how=\"inner\"\n",
    ")\n",
    "loyal_customer_orders.show()\n",
    "print('Number of rows:',loyal_customer_orders.count())"
   ]
  },
  {
   "cell_type": "code",
   "execution_count": 18,
   "id": "682f25fc",
   "metadata": {},
   "outputs": [],
   "source": [
    "#Function to remove and rename columns after inner join\n",
    "def remove_dup_join_col(df):\n",
    "    # capitalise all columns\n",
    "    for col in df.columns:\n",
    "        df = df.withColumnRenamed(col, col.upper())\n",
    "    \n",
    "    # get list of renamable columns for left and right join\n",
    "    left_dup_col = [col_name for col_name in df.columns if col_name.startswith('L_')]\n",
    "    right_dup_col = [col_name for col_name in df.columns if col_name.startswith('R_')]\n",
    "    old_columns = df.columns\n",
    "    \n",
    "    # rename the list with the most number of renamable columns\n",
    "    # drop the list of columns with less number of renamable columns\n",
    "    if len(left_dup_col)>len(right_dup_col):\n",
    "        columns_rename=left_dup_col\n",
    "        df= df.drop(*right_dup_col)\n",
    "    else:\n",
    "        columns_rename=right_dup_col\n",
    "        df= df.drop(*left_dup_col)\n",
    "    \n",
    "    for old_column in old_columns:\n",
    "        if old_column in columns_rename:\n",
    "            # get string to remove\n",
    "            string_to_replace = columns_rename[0][:7]\n",
    "            # replace starting string\n",
    "            new_column = old_column.replace(string_to_replace, \"\")\n",
    "            df = df.withColumnRenamed(old_column, new_column)\n",
    "    \n",
    "    return df"
   ]
  },
  {
   "cell_type": "code",
   "execution_count": 19,
   "id": "40a8adfc",
   "metadata": {},
   "outputs": [
    {
     "name": "stdout",
     "output_type": "stream",
     "text": [
      "---------------------------------------------------------------------------------------------------------------------------------------------------------------------------------------------------------------------------------------------------------------------------------------------------------------------------------------------------------------------------------------------------------------------------------------------------------------------------------------------------------------------------------------------------------------------------------------------------------------------------------------------------------------------------------------------------------------------------------------------------------------------------------------------------------------------------------------------------\n",
      "|\"CUSTOMER_ID\"  |\"CITY\"  |\"POSTAL_CODE\"  |\"PREFERRED_LANGUAGE\"  |\"FAVOURITE_BRAND\"  |\"SIGN_UP_DATE\"  |\"BIRTHDAY_DATE\"  |\"DATE\"      |\"ORDER_ID\"  |\"TRUCK_ID\"  |\"ORDER_TS\"           |\"ORDER_DETAIL_ID\"  |\"LINE_NUMBER\"  |\"TRUCK_BRAND_NAME\"    |\"MENU_TYPE\"  |\"PRIMARY_CITY\"  |\"REGION\"         |\"COUNTRY\"  |\"FRANCHISE_FLAG\"  |\"FRANCHISE_ID\"  |\"FRANCHISEE_FIRST_NAME\"  |\"FRANCHISEE_LAST_NAME\"  |\"LOCATION_ID\"  |\"PLACEKEY\"           |\"LOCATION_NAME\"  |\"TOP_CATEGORY\"          |\"SUB_CATEGORY\"                            |\"LATITUDE\"  |\"LONGITUDE\"  |\"FIRST_NAME\"  |\"LAST_NAME\"  |\"E_MAIL\"                   |\"PHONE_NUMBER\"  |\"CHILDREN_COUNT\"  |\"GENDER\"     |\"MARITAL_STATUS\"  |\"MENU_ITEM_ID\"  |\"MENU_ITEM_NAME\"  |\"QUANTITY\"  |\"UNIT_PRICE\"  |\"PRICE\"  |\"ORDER_AMOUNT\"  |\"ORDER_TAX_AMOUNT\"  |\"ORDER_DISCOUNT_AMOUNT\"  |\"ORDER_TOTAL\"  |\n",
      "---------------------------------------------------------------------------------------------------------------------------------------------------------------------------------------------------------------------------------------------------------------------------------------------------------------------------------------------------------------------------------------------------------------------------------------------------------------------------------------------------------------------------------------------------------------------------------------------------------------------------------------------------------------------------------------------------------------------------------------------------------------------------------------------------------------------------------------------------\n",
      "|133033         |Sydney  |2127           |English               |NULL               |2021-05-07      |1994-04-04       |2021-10-23  |124970533   |281         |2021-10-23 09:06:42  |338707921          |0              |Revenge of the Curds  |Poutine      |Sydney          |New South Wales  |Australia  |1                 |208             |William                  |Lopez                   |9245           |zzy-223@nh3-y9t-5zz  |Holiday Inn      |Traveler Accommodation  |Hotels (except Casino Hotels) and Motels  |-33.878187  |151.203512   |Abigayle      |Huber        |Abigayle.Huber@gmail.com   |389-868-6147    |0                 |Female       |Single            |114             |Bottled Water     |1           |2.0000        |2.0000   |26.0000         |NULL                |NULL                     |26.0000        |\n",
      "|133033         |Sydney  |2127           |English               |NULL               |2021-05-07      |1994-04-04       |2021-10-23  |124970533   |281         |2021-10-23 09:06:42  |338707922          |1              |Revenge of the Curds  |Poutine      |Sydney          |New South Wales  |Australia  |1                 |208             |William                  |Lopez                   |9245           |zzy-223@nh3-y9t-5zz  |Holiday Inn      |Traveler Accommodation  |Hotels (except Casino Hotels) and Motels  |-33.878187  |151.203512   |Abigayle      |Huber        |Abigayle.Huber@gmail.com   |389-868-6147    |0                 |Female       |Single            |111             |The Classic       |2           |12.0000       |24.0000  |26.0000         |NULL                |NULL                     |26.0000        |\n",
      "|112621         |Sydney  |2000           |English               |NULL               |2019-09-11      |1968-09-19       |2021-10-23  |124970551   |281         |2021-10-23 09:13:54  |338707976          |0              |Revenge of the Curds  |Poutine      |Sydney          |New South Wales  |Australia  |1                 |208             |William                  |Lopez                   |9245           |zzy-223@nh3-y9t-5zz  |Holiday Inn      |Traveler Accommodation  |Hotels (except Casino Hotels) and Motels  |-33.878187  |151.203512   |Cannon        |Wilkerson    |Cannon.Wilkerson@aol.com   |369-789-9684    |4                 |Male         |Married           |112             |Mothers Favorite  |2           |12.0000       |24.0000  |24.0000         |NULL                |NULL                     |24.0000        |\n",
      "|143897         |Sydney  |2000           |English               |NULL               |2021-12-20      |1979-10-27       |2021-10-23  |124970565   |281         |2021-10-23 09:23:42  |338708009          |0              |Revenge of the Curds  |Poutine      |Sydney          |New South Wales  |Australia  |1                 |208             |William                  |Lopez                   |9245           |zzy-223@nh3-y9t-5zz  |Holiday Inn      |Traveler Accommodation  |Hotels (except Casino Hotels) and Motels  |-33.878187  |151.203512   |Kelvin        |Ayers        |Kelvin.Ayers@hotmail.com   |659-086-6296    |0                 |Undisclosed  |Single            |111             |The Classic       |2           |12.0000       |24.0000  |71.0000         |NULL                |NULL                     |71.0000        |\n",
      "|143897         |Sydney  |2000           |English               |NULL               |2021-12-20      |1979-10-27       |2021-10-23  |124970565   |281         |2021-10-23 09:23:42  |338708010          |1              |Revenge of the Curds  |Poutine      |Sydney          |New South Wales  |Australia  |1                 |208             |William                  |Lopez                   |9245           |zzy-223@nh3-y9t-5zz  |Holiday Inn      |Traveler Accommodation  |Hotels (except Casino Hotels) and Motels  |-33.878187  |151.203512   |Kelvin        |Ayers        |Kelvin.Ayers@hotmail.com   |659-086-6296    |0                 |Undisclosed  |Single            |112             |Mothers Favorite  |2           |12.0000       |24.0000  |71.0000         |NULL                |NULL                     |71.0000        |\n",
      "|143897         |Sydney  |2000           |English               |NULL               |2021-12-20      |1979-10-27       |2021-10-23  |124970565   |281         |2021-10-23 09:23:42  |338708011          |2              |Revenge of the Curds  |Poutine      |Sydney          |New South Wales  |Australia  |1                 |208             |William                  |Lopez                   |9245           |zzy-223@nh3-y9t-5zz  |Holiday Inn      |Traveler Accommodation  |Hotels (except Casino Hotels) and Motels  |-33.878187  |151.203512   |Kelvin        |Ayers        |Kelvin.Ayers@hotmail.com   |659-086-6296    |0                 |Undisclosed  |Single            |113             |The Kitchen Sink  |1           |14.0000       |14.0000  |71.0000         |NULL                |NULL                     |71.0000        |\n",
      "|143897         |Sydney  |2000           |English               |NULL               |2021-12-20      |1979-10-27       |2021-10-23  |124970565   |281         |2021-10-23 09:23:42  |338708012          |3              |Revenge of the Curds  |Poutine      |Sydney          |New South Wales  |Australia  |1                 |208             |William                  |Lopez                   |9245           |zzy-223@nh3-y9t-5zz  |Holiday Inn      |Traveler Accommodation  |Hotels (except Casino Hotels) and Motels  |-33.878187  |151.203512   |Kelvin        |Ayers        |Kelvin.Ayers@hotmail.com   |659-086-6296    |0                 |Undisclosed  |Single            |115             |Bottled Soda      |2           |3.0000        |6.0000   |71.0000         |NULL                |NULL                     |71.0000        |\n",
      "|143897         |Sydney  |2000           |English               |NULL               |2021-12-20      |1979-10-27       |2021-10-23  |124970565   |281         |2021-10-23 09:23:42  |338708013          |4              |Revenge of the Curds  |Poutine      |Sydney          |New South Wales  |Australia  |1                 |208             |William                  |Lopez                   |9245           |zzy-223@nh3-y9t-5zz  |Holiday Inn      |Traveler Accommodation  |Hotels (except Casino Hotels) and Motels  |-33.878187  |151.203512   |Kelvin        |Ayers        |Kelvin.Ayers@hotmail.com   |659-086-6296    |0                 |Undisclosed  |Single            |116             |Ice Tea           |1           |3.0000        |3.0000   |71.0000         |NULL                |NULL                     |71.0000        |\n",
      "|162815         |Sydney  |2020           |English               |NULL               |2020-10-13      |1976-08-31       |2021-10-23  |124970569   |281         |2021-10-23 09:26:39  |338708025          |0              |Revenge of the Curds  |Poutine      |Sydney          |New South Wales  |Australia  |1                 |208             |William                  |Lopez                   |9245           |zzy-223@nh3-y9t-5zz  |Holiday Inn      |Traveler Accommodation  |Hotels (except Casino Hotels) and Motels  |-33.878187  |151.203512   |Daniella      |Dunn         |Daniella.Dunn@hotmail.com  |952-740-8271    |2                 |Female       |Married           |113             |The Kitchen Sink  |2           |14.0000       |28.0000  |28.0000         |NULL                |NULL                     |28.0000        |\n",
      "|129769         |Sydney  |2060           |English               |NULL               |2019-01-06      |1961-04-24       |2021-10-23  |124970576   |281         |2021-10-23 09:29:24  |338708037          |0              |Revenge of the Curds  |Poutine      |Sydney          |New South Wales  |Australia  |1                 |208             |William                  |Lopez                   |9245           |zzy-223@nh3-y9t-5zz  |Holiday Inn      |Traveler Accommodation  |Hotels (except Casino Hotels) and Motels  |-33.878187  |151.203512   |Uriel         |Evans        |Uriel.Evans@aol.com        |160-130-9834    |0                 |Female       |Single            |113             |The Kitchen Sink  |3           |14.0000       |42.0000  |110.0000        |NULL                |NULL                     |110.0000       |\n",
      "---------------------------------------------------------------------------------------------------------------------------------------------------------------------------------------------------------------------------------------------------------------------------------------------------------------------------------------------------------------------------------------------------------------------------------------------------------------------------------------------------------------------------------------------------------------------------------------------------------------------------------------------------------------------------------------------------------------------------------------------------------------------------------------------------------------------------------------------------\n",
      "\n"
     ]
    }
   ],
   "source": [
    "loyal_customer_orders = remove_dup_join_col(loyal_customer_orders)\n",
    "loyal_customer_orders.show()"
   ]
  },
  {
   "cell_type": "code",
   "execution_count": 20,
   "id": "744be837",
   "metadata": {},
   "outputs": [
    {
     "name": "stdout",
     "output_type": "stream",
     "text": [
      "-----------------------\n",
      "|\"MAX(ORDER_TS)\"      |\n",
      "-----------------------\n",
      "|2022-11-01 22:42:53  |\n",
      "-----------------------\n",
      "\n"
     ]
    }
   ],
   "source": [
    "loyal_customer_orders.agg(F.max('ORDER_TS')).show()"
   ]
  },
  {
   "cell_type": "code",
   "execution_count": 21,
   "id": "3c3e4d6c",
   "metadata": {},
   "outputs": [],
   "source": [
    "#Recency\n",
    "recency=loyal_customer_orders.group_by('CUSTOMER_ID').max('ORDER_TS').to_pandas()\n",
    "recency['RECENCY']=(dt.datetime(2022,11,1,22,42,53)-pd.to_datetime(recency['MAX(ORDER_TS)'])).dt.days\n",
    "\n",
    "#Frequency\n",
    "frequency=loyal_customer_orders.group_by('CUSTOMER_ID').agg(F.countDistinct('ORDER_ID').alias('frequency')).to_pandas()\n",
    "\n",
    "#Monetary\n",
    "monetary=loyal_customer_orders.group_by('CUSTOMER_ID').agg(F.sum('ORDER_TOTAL').alias('monetary')).to_pandas()\n",
    "\n",
    "RFM_table=recency.merge(right=frequency, how=\"inner\",on='CUSTOMER_ID')\n",
    "RFM_table=RFM_table.merge(right=monetary,how='inner',on='CUSTOMER_ID')\n",
    "RFM_table.drop(labels='MAX(ORDER_TS)',inplace=True,errors='ignore')\n",
    "\n",
    "# quantiles_1 = RFM_table[['RECENCY','FREQUENCY','MONETARY']].quantile(q=[0.2,0.4,0.6,0.8])\n",
    "\n",
    "# # Converting quantiles to a dictionary, easier to use.\n",
    "# quantiles = quantiles_1.to_dict()\n",
    "# ##  RFM Segmentation ----\n",
    "# RFM_Segment = RFM_table.copy()\n",
    "# # Arguments (x = value, p = recency, monetary_value, frequency, k = quartiles dict)\n",
    "# def R_Class(x,p,d):\n",
    "#     if x <= d[p][0.2]:\n",
    "#         return 5\n",
    "#     elif x <= d[p][0.4]:\n",
    "#         return 4\n",
    "#     elif x <= d[p][0.6]: \n",
    "#         return 3\n",
    "#     elif x<=d[p][0.8]:\n",
    "#         return 2 \n",
    "#     else:\n",
    "#         return 1\n",
    "    \n",
    "# # Arguments (x = value, p = recency, monetary_value, frequency, k = quartiles dict)\n",
    "# def FM_Class(x,p,d):\n",
    "#     if x <= d[p][0.2]:\n",
    "#         return 1\n",
    "#     elif x <= d[p][0.4]:\n",
    "#         return 2\n",
    "#     elif x <= d[p][0.6]: \n",
    "#         return 3\n",
    "#     elif x<=d[p][0.8]:\n",
    "#         return 4 \n",
    "#     else:\n",
    "#         return 5\n",
    "# RFM_Segment['R_Quartile'] = RFM_Segment['RECENCY'].apply(R_Class, args=('RECENCY',quantiles,))\n",
    "# RFM_Segment['F_Quartile'] = RFM_Segment['FREQUENCY'].apply(FM_Class, args=('FREQUENCY',quantiles,))\n",
    "# RFM_Segment['M_Quartile'] = RFM_Segment['MONETARY'].apply(FM_Class, args=('MONETARY',quantiles,))\n",
    "# RFM_Segment['RFMClass'] = RFM_Segment.R_Quartile.map(str) \\\n",
    "#                             + RFM_Segment.F_Quartile.map(str) \\\n",
    "#                             + RFM_Segment.M_Quartile.map(str)"
   ]
  },
  {
   "cell_type": "code",
   "execution_count": 22,
   "id": "ebddeab5",
   "metadata": {},
   "outputs": [],
   "source": [
    "# #Segment Customers\n",
    "# RFM_Segment['Segment']=np.nan\n",
    "# best=list(RFM_Segment.loc[RFM_Segment['RFMClass']==\"555\"].index)\n",
    "# lost_cheap=list(RFM_Segment.loc[RFM_Segment['RFMClass']==\"111\"].index)\n",
    "# lost=list(RFM_Segment.loc[RFM_Segment['RFMClass']==\"155\"].index)\n",
    "# lost_almost=list(RFM_Segment.loc[RFM_Segment['RFMClass']==\"455\"].index)\n",
    "# for i in RFM_Segment.index:\n",
    "#     if i in lost_cheap:\n",
    "#         RFM_Segment['Segment'].iloc[i]='Lost Cheap Customers'\n",
    "#     elif i in lost:\n",
    "#         RFM_Segment['Segment'].iloc[i]='Lost Customers'\n",
    "#     elif i in best:\n",
    "#         RFM_Segment['Segment'].iloc[i]='Best Customers'\n",
    "#     elif i in lost_almost:\n",
    "#         RFM_Segment['Segment'].iloc[i]='Almost Lost'\n",
    "#     else:\n",
    "#         RFM_Segment['Segment'].iloc[i]='Others'\n",
    "\n",
    "# loyal=list(RFM_Segment.loc[RFM_Segment['F_Quartile']==5].index)\n",
    "# loyal2=[]\n",
    "# for i in loyal:\n",
    "#     if i not in best and i not in lost_cheap and i not in lost_almost and i not in lost:\n",
    "#         loyal2.append(i)\n",
    "# for i in RFM_Segment.index:\n",
    "#     if i in loyal2:\n",
    "#         RFM_Segment['Segment'].iloc[i]='Loyal Customers'\n",
    "# big=list(RFM_Segment.loc[RFM_Segment['M_Quartile']==5].index)\n",
    "# big2=[]\n",
    "# for i in big:\n",
    "#     if i not in best and i not in lost_cheap and i not in lost_almost and i not in lost:\n",
    "#         big2.append(i)\n",
    "# for i in RFM_Segment.index:\n",
    "#     if i in big2:\n",
    "#         RFM_Segment['Segment'].iloc[i]='Big Spenders'"
   ]
  },
  {
   "attachments": {},
   "cell_type": "markdown",
   "id": "4e67933c",
   "metadata": {},
   "source": [
    "query=RFM_Segment.groupby('Segment')['CUSTOMER_ID'].nunique().sort_values(ascending=False).reset_index()\n",
    "query.drop([0],inplace=True)\n",
    "plt.figure(figsize=(14,8))\n",
    "sns.barplot(data=query,x='Segment',y='CUSTOMER_ID',palette='Greens_r')\n",
    "plt.title('Customers per Segment')"
   ]
  },
  {
   "attachments": {},
   "cell_type": "markdown",
   "id": "95177d79",
   "metadata": {},
   "source": [
    "window_spec = Window.partitionBy(\"CUSTOMER_ID\").orderBy(\"DATE\")\n",
    "\n",
    "orders_df = loyal_customer_orders.withColumn(\"PRIOR_ORDER_DATE\", F.lag(\"DATE\").over(window_spec))\n",
    "\n",
    "orders_df = orders_df.withColumn(\"DAYS_SINCE_PRIOR_ORDER\", F.datediff(col1=F.col(\"PRIOR_ORDER_DATE\"), col2=F.col(\"DATE\"),part='days'))\n",
    "\n",
    "avg_days_between_purchases = orders_df.groupBy(\"CUSTOMER_ID\").agg(F.avg(\"DAYS_SINCE_PRIOR_ORDER\").alias(\"AVG_DAYS_BETWEEN_PURCHASES\"))"
   ]
  },
  {
   "attachments": {},
   "cell_type": "markdown",
   "id": "08632e8f",
   "metadata": {},
   "source": [
    "# Table for Modelling"
   ]
  },
  {
   "cell_type": "code",
   "execution_count": 23,
   "id": "49295bb1",
   "metadata": {},
   "outputs": [
    {
     "name": "stdout",
     "output_type": "stream",
     "text": [
      "---------------------------------------------------------------------------------------------------------------------------------------------------------------------------------------------------------------------------------------------------------------------------------------------------------------------------------------------------------------------------------------------------------------------------------------------------------------------------------------------------------------------------------------------------------------------------------------------------------------------------------------------------------------------------------------------------------------------------------------------------------------------------------------------------------------------------------------------------------------------------------------------------------------------------------------\n",
      "|\"ORDER_ID\"  |\"CUSTOMER_ID\"  |\"CITY\"     |\"POSTAL_CODE\"  |\"PREFERRED_LANGUAGE\"  |\"FAVOURITE_BRAND\"  |\"SIGN_UP_DATE\"  |\"BIRTHDAY_DATE\"  |\"DATE\"      |\"TRUCK_ID\"  |\"ORDER_TS\"           |\"ORDER_DETAIL_ID\"  |\"LINE_NUMBER\"  |\"TRUCK_BRAND_NAME\"    |\"MENU_TYPE\"     |\"PRIMARY_CITY\"  |\"REGION\"         |\"COUNTRY\"  |\"FRANCHISE_FLAG\"  |\"FRANCHISE_ID\"  |\"FRANCHISEE_FIRST_NAME\"  |\"FRANCHISEE_LAST_NAME\"  |\"LOCATION_ID\"  |\"PLACEKEY\"            |\"LOCATION_NAME\"             |\"TOP_CATEGORY\"                                      |\"SUB_CATEGORY\"                                      |\"LATITUDE\"  |\"LONGITUDE\"  |\"FIRST_NAME\"  |\"LAST_NAME\"  |\"E_MAIL\"                     |\"PHONE_NUMBER\"  |\"CHILDREN_COUNT\"  |\"GENDER\"     |\"MARITAL_STATUS\"    |\"MENU_ITEM_ID\"  |\"MENU_ITEM_NAME\"       |\"QUANTITY\"  |\"UNIT_PRICE\"  |\"PRICE\"  |\"ORDER_AMOUNT\"  |\"ORDER_TAX_AMOUNT\"  |\"ORDER_DISCOUNT_AMOUNT\"  |\"ORDER_TOTAL\"  |\"TOTAL_QUANTITY\"  |\n",
      "---------------------------------------------------------------------------------------------------------------------------------------------------------------------------------------------------------------------------------------------------------------------------------------------------------------------------------------------------------------------------------------------------------------------------------------------------------------------------------------------------------------------------------------------------------------------------------------------------------------------------------------------------------------------------------------------------------------------------------------------------------------------------------------------------------------------------------------------------------------------------------------------------------------------------------------\n",
      "|122840785   |79373          |Sydney     |2000           |English               |NULL               |2021-07-20      |1940-01-03       |2021-05-07  |283         |2021-05-07 08:51:14  |332889244          |0              |Peking Truck          |Chinese         |Sydney          |New South Wales  |Australia  |1                 |210             |Amanda                   |Welch                   |12680          |zzy-22f@nh3-yc4-v2k   |Omega Watches               |Miscellaneous Durable Goods Merchant Wholesalers    |Jewelry, Watch, Precious Stone, and Precious Me...  |-33.860723  |151.207986   |Hugo          |Knox         |Hugo.Knox@ymail.com          |143-230-3697    |2                 |Male         |Married             |136             |Ice Tea                |1           |3.0000        |3.0000   |63.0000         |NULL                |NULL                     |63.0000        |7                 |\n",
      "|127488625   |114550         |Sydney     |1466           |English               |NULL               |2021-03-24      |2000-06-28       |2022-03-24  |281         |2022-03-24 12:49:47  |345508600          |0              |Revenge of the Curds  |Poutine         |Sydney          |New South Wales  |Australia  |1                 |208             |William                  |Lopez                   |9261           |zzy-223@nh3-yc5-t9z   |Victory Offices Barangaroo  |Lessors of Real Estate                              |Lessors of Other Real Estate Property               |-33.865152  |151.202118   |Mariela       |Griffith     |Mariela.Griffith@gmail.com   |449-074-8800    |1                 |Undisclosed  |Married             |112             |Mothers Favorite       |3           |12.0000       |36.0000  |71.0000         |NULL                |NULL                     |71.0000        |8                 |\n",
      "|133405478   |92777          |Melbourne  |3052           |English               |NULL               |2022-02-03      |1968-06-09       |2021-03-07  |291         |2021-03-07 18:49:54  |361446006          |0              |The Mega Melt         |Grilled Cheese  |Melbourne       |Victoria         |Australia  |1                 |217             |Michelle                 |Garcia                  |14693          |zzy-4dsf@dvt-smp-tvz  |Le Creuset                  |Home Furnishings Stores                             |All Other Home Furnishings Stores                   |-37.785171  |145.126343   |Emanuel       |Frederick    |Emanuel.Frederick@aol.com    |429-516-4192    |Undisclosed       |Male         |Undisclosed         |61              |The Original           |1           |5.0000        |5.0000   |11.0000         |NULL                |NULL                     |11.0000        |2                 |\n",
      "|138701430   |86807          |Melbourne  |3000           |English               |NULL               |2021-11-14      |1972-06-13       |2022-04-15  |289         |2022-04-15 12:43:41  |375479710          |0              |The Mac Shack         |Mac & Cheese    |Melbourne       |Victoria         |Australia  |0                 |1               |Corporate                |Owned                   |9324           |zzy-223@nhx-p7m-f75   |Giorgio Armani              |Apparel, Piece Goods, and Notions Merchant Whol...  |Men's and Boys' Clothing and Furnishings Mercha...  |-37.81456   |144.969596   |Isabell       |Mills        |Isabell.Mills@hotmail.com    |291-430-1166    |4                 |Male         |Married             |41              |Standard Mac & Cheese  |1           |8.0000        |8.0000   |48.0000         |NULL                |NULL                     |48.0000        |4                 |\n",
      "|123610735   |197729         |Sydney     |2006           |English               |NULL               |2019-11-29      |1973-09-08       |2021-07-12  |278         |2021-07-12 16:42:35  |335001784          |0              |Le Coin des Crêpes    |Crepes          |Sydney          |New South Wales  |Australia  |1                 |205             |Kathy                    |Garcia                  |11950          |zzy-229@nh3-yc5-rff   |Western Union               |Activities Related to Credit Intermediation         |Other Activities Related to Credit Intermediation   |-33.867601  |151.207194   |Donovan       |Braun        |Donovan.Braun@hotmail.com    |185-501-8178    |2                 |Male         |Married             |81              |Breakfast Crepe        |2           |12.0000       |24.0000  |54.0000         |NULL                |NULL                     |54.0000        |6                 |\n",
      "|125126079   |47504          |Sydney     |2129           |English               |NULL               |2020-09-25      |1980-03-06       |2021-11-03  |278         |2021-11-03 12:30:58  |339130151          |0              |Le Coin des Crêpes    |Crepes          |Sydney          |New South Wales  |Australia  |1                 |205             |Kathy                    |Garcia                  |7706           |zzy-222@nh3-yc4-tvz   |Sunglass Hut                |Health and Personal Care Stores                     |Optical Goods Stores                                |-33.861964  |151.20753    |Estrella      |Krause       |Estrella.Krause@hotmail.com  |791-851-3739    |5+                |Male         |Divorced/Seperated  |81              |Breakfast Crepe        |1           |12.0000       |12.0000  |27.0000         |NULL                |NULL                     |27.0000        |2                 |\n",
      "|138021702   |91311          |Melbourne  |3207           |English               |NULL               |2019-07-29      |1947-10-20       |2022-03-10  |294         |2022-03-10 18:20:10  |373639869          |0              |Tasty Tibs            |Ethiopian       |Melbourne       |Victoria         |Australia  |1                 |220             |Michael                  |Smith                   |7768           |zzy-222@nhx-npb-92k   |WHSmith                     |Book Stores and News Dealers                        |Book Stores                                         |-37.673027  |144.847646   |Britney       |Pham         |Britney.Pham@ymail.com       |107-979-2000    |1                 |Male         |Married             |91              |Lean Chicken Tibs      |1           |11.0000       |11.0000  |33.0000         |NULL                |NULL                     |33.0000        |3                 |\n",
      "|137075979   |101199         |Melbourne  |8002           |English               |NULL               |2019-01-16      |1966-09-26       |2022-01-13  |300         |2022-01-13 11:10:56  |371090459          |0              |Better Off Bread      |Sandwiches      |Melbourne       |Victoria         |Australia  |1                 |224             |Steve                    |Vasquez                 |9284           |zzy-223@nhx-kxb-nwk   |H&M (Hennes & Mauritz)      |Clothing Stores                                     |Family Clothing Stores                              |-37.876164  |144.680464   |Karter        |Lang         |Karter.Lang@aol.com          |210-124-8864    |3                 |Male         |Married             |152             |Pastrami               |1           |11.0000       |11.0000  |22.0000         |NULL                |NULL                     |22.0000        |2                 |\n",
      "|120713047   |166168         |Sydney     |2000           |English               |NULL               |2022-06-06      |1983-03-14       |2020-06-19  |285         |2020-06-19 11:38:10  |327146353          |0              |Better Off Bread      |Sandwiches      |Sydney          |New South Wales  |Australia  |1                 |212             |Mary                     |Warren                  |7638           |zzy-222@nh3-xpv-54v   |H&M (Hennes & Mauritz)      |Clothing Stores                                     |Family Clothing Stores                              |-33.767021  |151.266151   |Tess          |Spears       |Tess.Spears@hotmail.com      |710-762-5711    |Undisclosed       |Female       |Undisclosed         |152             |Pastrami               |2           |11.0000       |22.0000  |22.0000         |NULL                |NULL                     |22.0000        |2                 |\n",
      "|120154357   |128310         |Sydney     |2059           |English               |NULL               |2022-01-25      |1986-12-09       |2020-02-06  |275         |2020-02-06 08:39:23  |325690448          |0              |Kitakata Ramen Bar    |Ramen           |Sydney          |New South Wales  |Australia  |1                 |202             |Margaret                 |Shaw                    |9269           |zzy-223@nh3-yc5-vcq   |Sandro                      |Clothing Stores                                     |Family Clothing Stores                              |-33.870446  |151.209904   |Zayden        |Osborn       |Zayden.Osborn@hotmail.com    |753-278-6137    |0                 |Female       |Single              |51              |Creamy Chicken Ramen   |1           |17.2500       |17.2500  |34.5000         |NULL                |NULL                     |34.5000        |2                 |\n",
      "---------------------------------------------------------------------------------------------------------------------------------------------------------------------------------------------------------------------------------------------------------------------------------------------------------------------------------------------------------------------------------------------------------------------------------------------------------------------------------------------------------------------------------------------------------------------------------------------------------------------------------------------------------------------------------------------------------------------------------------------------------------------------------------------------------------------------------------------------------------------------------------------------------------------------------------\n",
      "\n"
     ]
    }
   ],
   "source": [
    "#Total Quantity of each order\n",
    "temp_df=loyal_customer_orders.group_by(F.col('ORDER_ID')).agg(F.sum(F.col('QUANTITY')).alias('Total_Quantity'))\n",
    "#Remove duplicate order ids\n",
    "remove_dup = loyal_customer_orders.dropDuplicates(['ORDER_ID'])\n",
    "#Merge to get transactions table\n",
    "combined_df=remove_dup.join(\n",
    "    right=temp_df,\n",
    "    on=\"ORDER_ID\",\n",
    "    how=\"inner\"\n",
    ")\n",
    "combined_df.show()"
   ]
  },
  {
   "cell_type": "code",
   "execution_count": 24,
   "id": "43e66af0",
   "metadata": {},
   "outputs": [
    {
     "name": "stdout",
     "output_type": "stream",
     "text": [
      "---------------------------------------------------------------------------------------------------------------------------------------------------------------------------------------------------------------------------------------------------------------------------------------------------------------------------------------------------------------------------------------------------------------------------------------------------------------------------------------------------------------------------------------------------------------------------------------------------------------------------------------------------------------------------------------------------------------------------------------------------------------------------------------------------------------------------------------------------------------------------------------------------------------------------------------------------\n",
      "|\"ORDER_ID\"  |\"CUSTOMER_ID\"  |\"CITY\"  |\"POSTAL_CODE\"  |\"PREFERRED_LANGUAGE\"  |\"FAVOURITE_BRAND\"  |\"SIGN_UP_DATE\"  |\"BIRTHDAY_DATE\"  |\"DATE\"      |\"TRUCK_ID\"  |\"ORDER_TS\"           |\"ORDER_DETAIL_ID\"  |\"LINE_NUMBER\"  |\"TRUCK_BRAND_NAME\"  |\"MENU_TYPE\"  |\"PRIMARY_CITY\"  |\"REGION\"         |\"COUNTRY\"  |\"FRANCHISE_FLAG\"  |\"FRANCHISE_ID\"  |\"FRANCHISEE_FIRST_NAME\"  |\"FRANCHISEE_LAST_NAME\"  |\"LOCATION_ID\"  |\"PLACEKEY\"           |\"LOCATION_NAME\"                   |\"TOP_CATEGORY\"                                      |\"SUB_CATEGORY\"                                      |\"LATITUDE\"  |\"LONGITUDE\"  |\"FIRST_NAME\"  |\"LAST_NAME\"  |\"E_MAIL\"                   |\"PHONE_NUMBER\"  |\"CHILDREN_COUNT\"  |\"GENDER\"  |\"MARITAL_STATUS\"  |\"MENU_ITEM_ID\"  |\"MENU_ITEM_NAME\"      |\"QUANTITY\"  |\"UNIT_PRICE\"  |\"PRICE\"  |\"ORDER_AMOUNT\"  |\"ORDER_TAX_AMOUNT\"  |\"ORDER_DISCOUNT_AMOUNT\"  |\"ORDER_TOTAL\"  |\"TOTAL_QUANTITY\"  |\"DAYS_TO_NEXT_ORDER\"  |\n",
      "---------------------------------------------------------------------------------------------------------------------------------------------------------------------------------------------------------------------------------------------------------------------------------------------------------------------------------------------------------------------------------------------------------------------------------------------------------------------------------------------------------------------------------------------------------------------------------------------------------------------------------------------------------------------------------------------------------------------------------------------------------------------------------------------------------------------------------------------------------------------------------------------------------------------------------------------------\n",
      "|120255328   |96362          |Sydney  |2000           |English               |NULL               |2020-09-12      |1977-04-06       |2020-03-01  |275         |2020-03-01 20:51:11  |325954217          |0              |Kitakata Ramen Bar  |Ramen        |Sydney          |New South Wales  |Australia  |1                 |202             |Margaret                 |Shaw                    |7704           |zzy-222@nh3-yc2-m6k  |Regus                             |Lessors of Real Estate                              |Lessors of Other Real Estate Property               |-33.829171  |151.201207   |Stephany      |Haas         |Stephany.Haas@hotmail.com  |348-265-8575    |Undisclosed       |Male      |Undisclosed       |51              |Creamy Chicken Ramen  |1           |17.2500       |17.2500  |17.2500         |NULL                |NULL                     |17.2500        |1                 |34                    |\n",
      "|120396301   |96362          |Sydney  |2000           |English               |NULL               |2020-09-12      |1977-04-06       |2020-04-04  |285         |2020-04-04 11:25:28  |326322163          |0              |Better Off Bread    |Sandwiches   |Sydney          |New South Wales  |Australia  |1                 |212             |Mary                     |Warren                  |10675          |zzy-225@nh3-yc5-rff  |Giorgio Armani                    |Apparel, Piece Goods, and Notions Merchant Whol...  |Men's and Boys' Clothing and Furnishings Mercha...  |-33.867324  |151.207318   |Stephany      |Haas         |Stephany.Haas@hotmail.com  |348-265-8575    |Undisclosed       |Male      |Undisclosed       |151             |Italian               |1           |11.0000       |11.0000  |11.0000         |NULL                |NULL                     |11.0000        |1                 |2                     |\n",
      "|120402315   |96362          |Sydney  |2000           |English               |NULL               |2020-09-12      |1977-04-06       |2020-04-06  |275         |2020-04-06 14:14:21  |326337937          |0              |Kitakata Ramen Bar  |Ramen        |Sydney          |New South Wales  |Australia  |1                 |202             |Margaret                 |Shaw                    |7730           |zzy-222@nh3-yc5-tgk  |WeWork                            |Lessors of Real Estate                              |Lessors of Other Real Estate Property               |-33.866668  |151.203374   |Stephany      |Haas         |Stephany.Haas@hotmail.com  |348-265-8575    |Undisclosed       |Male      |Undisclosed       |51              |Creamy Chicken Ramen  |1           |17.2500       |17.2500  |34.5000         |NULL                |NULL                     |34.5000        |2                 |42                    |\n",
      "|120579361   |96362          |Sydney  |2000           |English               |NULL               |2020-09-12      |1977-04-06       |2020-05-18  |279         |2020-05-18 16:53:28  |326798375          |0              |Tasty Tibs          |Ethiopian    |Sydney          |New South Wales  |Australia  |1                 |206             |Sharon                   |Flores                  |11139          |zzy-226@nh3-yc5-v2k  |Cartier                           |Jewelry, Luggage, and Leather Goods Stores          |Jewelry Stores                                      |-33.869533  |151.209734   |Stephany      |Haas         |Stephany.Haas@hotmail.com  |348-265-8575    |Undisclosed       |Male      |Undisclosed       |96              |Ice Tea               |1           |3.0000        |3.0000   |67.0000         |NULL                |NULL                     |67.0000        |7                 |36                    |\n",
      "|120728250   |96362          |Sydney  |2000           |English               |NULL               |2020-09-12      |1977-04-06       |2020-06-23  |279         |2020-06-23 09:39:29  |327185502          |0              |Tasty Tibs          |Ethiopian    |Sydney          |New South Wales  |Australia  |1                 |206             |Sharon                   |Flores                  |13046          |zzy-22j@nh3-yc5-v4v  |JD Sports                         |Sporting Goods, Hobby, and Musical Instrument S...  |Sporting Goods Stores                               |-33.869678  |151.208257   |Stephany      |Haas         |Stephany.Haas@hotmail.com  |348-265-8575    |Undisclosed       |Male      |Undisclosed       |92              |Lean Beef Tibs        |2           |13.0000       |26.0000  |35.0000         |NULL                |NULL                     |35.0000        |3                 |78                    |\n",
      "|121057062   |96362          |Sydney  |2000           |English               |NULL               |2020-09-12      |1977-04-06       |2020-09-09  |279         |2020-09-09 20:25:03  |328040450          |0              |Tasty Tibs          |Ethiopian    |Sydney          |New South Wales  |Australia  |1                 |206             |Sharon                   |Flores                  |9265           |zzy-223@nh3-yc5-v2k  |Max Mara                          |Clothing Stores                                     |Family Clothing Stores                              |-33.870182  |151.209891   |Stephany      |Haas         |Stephany.Haas@hotmail.com  |348-265-8575    |Undisclosed       |Male      |Undisclosed       |91              |Lean Chicken Tibs     |2           |11.0000       |22.0000  |70.0000         |NULL                |NULL                     |70.0000        |6                 |71                    |\n",
      "|121488550   |96362          |Sydney  |2000           |English               |NULL               |2020-09-12      |1977-04-06       |2020-11-19  |271         |2020-11-19 17:14:50  |329202496          |0              |Freezing Point      |Ice Cream    |Sydney          |New South Wales  |Australia  |1                 |200             |Theresa                  |Henderson               |7758           |zzy-222@nh3-ycy-ckf  |MAC Cosmetics                     |Health and Personal Care Stores                     |Cosmetics, Beauty Supplies, and Perfume Stores      |-33.936554  |151.166237   |Stephany      |Haas         |Stephany.Haas@hotmail.com  |348-265-8575    |Undisclosed       |Male      |Undisclosed       |12              |Waffle Cone           |1           |6.0000        |6.0000   |30.0000         |NULL                |NULL                     |30.0000        |7                 |9                     |\n",
      "|121551500   |96362          |Sydney  |2000           |English               |NULL               |2020-09-12      |1977-04-06       |2020-11-28  |275         |2020-11-28 12:32:03  |329374315          |0              |Kitakata Ramen Bar  |Ramen        |Sydney          |New South Wales  |Australia  |1                 |202             |Margaret                 |Shaw                    |11455          |zzy-222@nh3-y9s-n89  |7-Eleven                          |Grocery Stores                                      |Convenience Stores                                  |-33.882421  |151.206905   |Stephany      |Haas         |Stephany.Haas@hotmail.com  |348-265-8575    |Undisclosed       |Male      |Undisclosed       |51              |Creamy Chicken Ramen  |1           |17.2500       |17.2500  |69.0000         |NULL                |NULL                     |69.0000        |4                 |23                    |\n",
      "|121710909   |96362          |Sydney  |2000           |English               |NULL               |2020-09-12      |1977-04-06       |2020-12-21  |275         |2020-12-21 22:10:49  |329806951          |0              |Kitakata Ramen Bar  |Ramen        |Sydney          |New South Wales  |Australia  |1                 |202             |Margaret                 |Shaw                    |7683           |zzy-222@nh3-y9s-zmk  |Thrifty Car Rental International  |Automotive Equipment Rental and Leasing             |Passenger Car Rental                                |-33.8751    |151.214819   |Stephany      |Haas         |Stephany.Haas@hotmail.com  |348-265-8575    |Undisclosed       |Male      |Undisclosed       |51              |Creamy Chicken Ramen  |2           |17.2500       |34.5000  |128.7500        |NULL                |NULL                     |128.7500       |10                |27                    |\n",
      "|121898204   |96362          |Sydney  |2000           |English               |NULL               |2020-09-12      |1977-04-06       |2021-01-17  |275         |2021-01-17 12:37:38  |330316535          |0              |Kitakata Ramen Bar  |Ramen        |Sydney          |New South Wales  |Australia  |1                 |202             |Margaret                 |Shaw                    |7619           |zzy-222@nh2-8rg-fpv  |Oranpark Smart Workhub            |Lessors of Real Estate                              |Lessors of Other Real Estate Property               |-33.997464  |150.740419   |Stephany      |Haas         |Stephany.Haas@hotmail.com  |348-265-8575    |Undisclosed       |Male      |Undisclosed       |51              |Creamy Chicken Ramen  |1           |17.2500       |17.2500  |86.2500         |NULL                |NULL                     |86.2500        |5                 |3                     |\n",
      "---------------------------------------------------------------------------------------------------------------------------------------------------------------------------------------------------------------------------------------------------------------------------------------------------------------------------------------------------------------------------------------------------------------------------------------------------------------------------------------------------------------------------------------------------------------------------------------------------------------------------------------------------------------------------------------------------------------------------------------------------------------------------------------------------------------------------------------------------------------------------------------------------------------------------------------------------\n",
      "\n",
      "Number of rows: 782888\n",
      "---------------\n",
      "|\"MIN(DATE)\"  |\n",
      "---------------\n",
      "|2020-01-01   |\n",
      "---------------\n",
      "\n",
      "---------------\n",
      "|\"MAX(DATE)\"  |\n",
      "---------------\n",
      "|2022-10-31   |\n",
      "---------------\n",
      "\n"
     ]
    }
   ],
   "source": [
    "# Get our target variable Days to next order\n",
    "\n",
    "# Define a window partitioned by customer and ordered by date\n",
    "window_spec = Window.partitionBy(\"CUSTOMER_ID\").orderBy(\"DATE\")\n",
    "\n",
    "# Add a column with the date of the next order for each customer\n",
    "orders_df = combined_df.withColumn(\"DAYS_TO_NEXT_ORDER\", F.lead(\"DATE\").over(window_spec))\n",
    "\n",
    "# Calculate the number of days between the current order and the next order\n",
    "orders_df = orders_df.withColumn(\"DAYS_TO_NEXT_ORDER\", F.datediff(col1=\"DATE\", col2=\"DAYS_TO_NEXT_ORDER\",part='day'))\n",
    "\n",
    "#Remove null values in target variable\n",
    "orders_df= orders_df.na.drop(subset=[\"DAYS_TO_NEXT_ORDER\"])\n",
    "\n",
    "#Preview data\n",
    "orders_df.show()\n",
    "print(\"Number of rows:\",orders_df.count())\n",
    "\n",
    "#Get min and max date - 2 years and 10 months\n",
    "orders_df.agg(F.min('Date')).show()\n",
    "orders_df.agg(F.max('Date')).show()"
   ]
  },
  {
   "cell_type": "code",
   "execution_count": 25,
   "id": "5080cf93",
   "metadata": {},
   "outputs": [],
   "source": [
    "# Define a window partitioned by customer and menu item, ordered by date\n",
    "window_spec = Window.partitionBy(\"CUSTOMER_ID\").orderBy(\"DATE\")\n",
    "\n",
    "# Add a column with the date of the prior order for each customer and menu item\n",
    "orders_df = orders_df.withColumn(\"DAYS_SINCE_PRIOR_ORDER\", F.lag(\"DATE\").over(window_spec))\n",
    "\n",
    "# Calculate the number of days between the prior order and the current order for each customer and menu item\n",
    "orders_df = orders_df.withColumn(\"DAYS_SINCE_PRIOR_ORDER\", F.datediff(col1=\"DAYS_SINCE_PRIOR_ORDER\", col2=\"DATE\",part='day'))\n",
    "\n",
    "# Remove null values in target variable\n",
    "orders_df = orders_df.na.drop(subset=[\"DAYS_SINCE_PRIOR_ORDER\"])"
   ]
  },
  {
   "attachments": {},
   "cell_type": "markdown",
   "id": "3d6f6b2f",
   "metadata": {},
   "source": [
    "\n",
    "# Calculate the average days between purchases for each customer\n",
    "avg_days_between_purchases = orders_df.groupBy(\"CUSTOMER_ID\").agg(F.avg(\"DAYS_SINCE_PRIOR_ORDER\").alias(\"AVG_DAYS_BETWEEN_PURCHASES\"))\n",
    "\n",
    "# Round the average days between purchases to 2 decimal places\n",
    "avg_days_between_purchases = avg_days_between_purchases.withColumn(\"AVG_DAYS_BETWEEN_PURCHASES\", F.round(\"AVG_DAYS_BETWEEN_PURCHASES\", 0))\n",
    "\n",
    "# Join the average days between purchases with the orders_df DataFrame\n",
    "orders_df = orders_df.join(avg_days_between_purchases, \"CUSTOMER_ID\")"
   ]
  },
  {
   "cell_type": "code",
   "execution_count": 26,
   "id": "f9c864f6",
   "metadata": {},
   "outputs": [
    {
     "name": "stdout",
     "output_type": "stream",
     "text": [
      "---------------------------------------------------------------------------------------------------------------------------------------------------------------------------------------------------------------------------------------------------------------------------------------------------------------------------------------------------------------------------------------------------------------------------------------------------------------------------------------------------------------------------------------------------------------------------------------------------------------------------------------------------------------------------------------------------------------------------------------------------------------------------------------------------------------------------------------------------------------------------------------------------------------------------------------------------------------------------------\n",
      "|\"ORDER_ID\"  |\"CUSTOMER_ID\"  |\"CITY\"  |\"POSTAL_CODE\"  |\"PREFERRED_LANGUAGE\"  |\"FAVOURITE_BRAND\"  |\"SIGN_UP_DATE\"  |\"BIRTHDAY_DATE\"  |\"DATE\"      |\"TRUCK_ID\"  |\"ORDER_TS\"           |\"ORDER_DETAIL_ID\"  |\"LINE_NUMBER\"  |\"TRUCK_BRAND_NAME\"  |\"MENU_TYPE\"  |\"PRIMARY_CITY\"  |\"REGION\"         |\"COUNTRY\"  |\"FRANCHISE_FLAG\"  |\"FRANCHISE_ID\"  |\"FRANCHISEE_FIRST_NAME\"  |\"FRANCHISEE_LAST_NAME\"  |\"LOCATION_ID\"  |\"PLACEKEY\"           |\"LOCATION_NAME\"       |\"TOP_CATEGORY\"                    |\"SUB_CATEGORY\"                                      |\"LATITUDE\"  |\"LONGITUDE\"  |\"FIRST_NAME\"  |\"LAST_NAME\"  |\"E_MAIL\"                     |\"PHONE_NUMBER\"  |\"CHILDREN_COUNT\"  |\"GENDER\"  |\"MARITAL_STATUS\"  |\"MENU_ITEM_ID\"  |\"MENU_ITEM_NAME\"      |\"QUANTITY\"  |\"UNIT_PRICE\"  |\"PRICE\"  |\"ORDER_AMOUNT\"  |\"ORDER_TAX_AMOUNT\"  |\"ORDER_DISCOUNT_AMOUNT\"  |\"ORDER_TOTAL\"  |\"TOTAL_QUANTITY\"  |\"DAYS_TO_NEXT_ORDER\"  |\"DAYS_SINCE_PRIOR_ORDER\"  |\"AVG_DAYS_BETWEEN_PURCHASES\"  |\n",
      "---------------------------------------------------------------------------------------------------------------------------------------------------------------------------------------------------------------------------------------------------------------------------------------------------------------------------------------------------------------------------------------------------------------------------------------------------------------------------------------------------------------------------------------------------------------------------------------------------------------------------------------------------------------------------------------------------------------------------------------------------------------------------------------------------------------------------------------------------------------------------------------------------------------------------------------------------------------------------------\n",
      "|120722174   |162926         |Sydney  |2020           |English               |NULL               |2022-04-30      |1972-03-14       |2020-06-21  |285         |2020-06-21 18:44:22  |327169771          |0              |Better Off Bread    |Sandwiches   |Sydney          |New South Wales  |Australia  |1                 |212             |Mary                     |Warren                  |7664           |zzy-222@nh3-y9s-jd9  |Design Hotels         |Traveler Accommodation            |Hotels (except Casino Hotels) and Motels            |-33.884996  |151.201706   |Janiya        |Chambers     |Janiya.Chambers@hotmail.com  |700-183-8712    |0                 |Female    |Single            |153             |Hot Ham & Cheese      |2           |11.0000       |22.0000  |33.0000         |NULL                |NULL                     |33.0000        |3                 |46                    |23                        |23                            |\n",
      "|120912683   |162926         |Sydney  |2020           |English               |NULL               |2022-04-30      |1972-03-14       |2020-08-06  |275         |2020-08-06 20:25:28  |327665627          |0              |Kitakata Ramen Bar  |Ramen        |Sydney          |New South Wales  |Australia  |1                 |202             |Margaret                 |Shaw                    |7679           |zzy-222@nh3-y9s-xyv  |WeWork                |Lessors of Real Estate            |Lessors of Other Real Estate Property               |-33.875462  |151.208215   |Janiya        |Chambers     |Janiya.Chambers@hotmail.com  |700-183-8712    |0                 |Female    |Single            |51              |Creamy Chicken Ramen  |1           |17.2500       |17.2500  |57.7500         |NULL                |NULL                     |57.7500        |5                 |1                     |46                        |35                            |\n",
      "|120917280   |162926         |Sydney  |2020           |English               |NULL               |2022-04-30      |1972-03-14       |2020-08-07  |279         |2020-08-07 08:52:28  |327677721          |0              |Tasty Tibs          |Ethiopian    |Sydney          |New South Wales  |Australia  |1                 |206             |Sharon                   |Flores                  |13922          |zzy-22y@nh3-y9y-n89  |MAC Cosmetics         |Health and Personal Care Stores   |Cosmetics, Beauty Supplies, and Perfume Stores      |-33.89168   |151.250252   |Janiya        |Chambers     |Janiya.Chambers@hotmail.com  |700-183-8712    |0                 |Female    |Single            |91              |Lean Chicken Tibs     |4           |11.0000       |44.0000  |47.0000         |NULL                |NULL                     |47.0000        |5                 |62                    |1                         |23                            |\n",
      "|121200648   |162926         |Sydney  |2020           |English               |NULL               |2022-04-30      |1972-03-14       |2020-10-08  |283         |2020-10-08 14:56:57  |328420973          |0              |Peking Truck        |Chinese      |Sydney          |New South Wales  |Australia  |1                 |210             |Amanda                   |Welch                   |10686          |zzy-225@nh3-yc5-w8v  |Vacheron Constantin   |Electronics and Appliance Stores  |Electronics Stores                                  |-33.867057  |151.208754   |Janiya        |Chambers     |Janiya.Chambers@hotmail.com  |700-183-8712    |0                 |Female    |Single            |131             |Combo Lo Mein         |3           |13.0000       |39.0000  |74.0000         |NULL                |NULL                     |74.0000        |8                 |18                    |62                        |33                            |\n",
      "|121327394   |162926         |Sydney  |2020           |English               |NULL               |2022-04-30      |1972-03-14       |2020-10-26  |285         |2020-10-26 16:52:20  |328764963          |0              |Better Off Bread    |Sandwiches   |Sydney          |New South Wales  |Australia  |1                 |212             |Mary                     |Warren                  |7712           |zzy-222@nh3-yc4-xqz  |The Executive Centre  |Lessors of Real Estate            |Lessors of Other Real Estate Property               |-33.864724  |151.212026   |Janiya        |Chambers     |Janiya.Chambers@hotmail.com  |700-183-8712    |0                 |Female    |Single            |152             |Pastrami              |1           |11.0000       |11.0000  |55.0000         |NULL                |NULL                     |55.0000        |5                 |10                    |18                        |30                            |\n",
      "|121393186   |162926         |Sydney  |2020           |English               |NULL               |2022-04-30      |1972-03-14       |2020-11-05  |279         |2020-11-05 10:30:45  |328943319          |0              |Tasty Tibs          |Ethiopian    |Sydney          |New South Wales  |Australia  |1                 |206             |Sharon                   |Flores                  |15515          |zzy-222@nh3-y9t-6zf  |7-Eleven              |Grocery Stores                    |Convenience Stores                                  |-33.872939  |151.204924   |Janiya        |Chambers     |Janiya.Chambers@hotmail.com  |700-183-8712    |0                 |Female    |Single            |91              |Lean Chicken Tibs     |1           |11.0000       |11.0000  |33.0000         |NULL                |NULL                     |33.0000        |3                 |4                     |10                        |27                            |\n",
      "|121423154   |162926         |Sydney  |2020           |English               |NULL               |2022-04-30      |1972-03-14       |2020-11-09  |283         |2020-11-09 16:17:44  |329024829          |0              |Peking Truck        |Chinese      |Sydney          |New South Wales  |Australia  |1                 |210             |Amanda                   |Welch                   |7728           |zzy-222@nh3-yc5-t35  |Radisson Blu          |Traveler Accommodation            |Hotels (except Casino Hotels) and Motels            |-33.86509   |151.208935   |Janiya        |Chambers     |Janiya.Chambers@hotmail.com  |700-183-8712    |0                 |Female    |Single            |131             |Combo Lo Mein         |1           |13.0000       |13.0000  |24.0000         |NULL                |NULL                     |24.0000        |2                 |22                    |4                         |23                            |\n",
      "|121576861   |162926         |Sydney  |2020           |English               |NULL               |2022-04-30      |1972-03-14       |2020-12-01  |285         |2020-12-01 13:35:41  |329442721          |0              |Better Off Bread    |Sandwiches   |Sydney          |New South Wales  |Australia  |1                 |212             |Mary                     |Warren                  |9248           |zzy-223@nh3-y9t-rx5  |Regus                 |Lessors of Real Estate            |Lessors of Other Real Estate Property               |-33.884681  |151.21798    |Janiya        |Chambers     |Janiya.Chambers@hotmail.com  |700-183-8712    |0                 |Female    |Single            |153             |Hot Ham & Cheese      |1           |11.0000       |11.0000  |62.0000         |NULL                |NULL                     |62.0000        |8                 |25                    |22                        |23                            |\n",
      "|121742438   |162926         |Sydney  |2020           |English               |NULL               |2022-04-30      |1972-03-14       |2020-12-26  |271         |2020-12-26 17:15:45  |329892632          |0              |Freezing Point      |Ice Cream    |Sydney          |New South Wales  |Australia  |1                 |200             |Theresa                  |Henderson               |14509          |zzy-247@nh3-y9y-n89  |The Body Shop         |Health and Personal Care Stores   |Cosmetics, Beauty Supplies, and Perfume Stores      |-33.892324  |151.250822   |Janiya        |Chambers     |Janiya.Chambers@hotmail.com  |700-183-8712    |0                 |Female    |Single            |17              |Ice Cream Sandwich    |1           |4.0000        |4.0000   |7.0000          |NULL                |NULL                     |7.0000         |2                 |16                    |25                        |23                            |\n",
      "|121857247   |162926         |Sydney  |2020           |English               |NULL               |2022-04-30      |1972-03-14       |2021-01-11  |279         |2021-01-11 20:05:44  |330205002          |0              |Tasty Tibs          |Ethiopian    |Sydney          |New South Wales  |Australia  |1                 |206             |Sharon                   |Flores                  |10064          |zzy-224@nh3-yc5-r8v  |Woolworths Australia  |Grocery Stores                    |Supermarkets and Other Grocery (except Convenie...  |-33.867798  |151.205733   |Janiya        |Chambers     |Janiya.Chambers@hotmail.com  |700-183-8712    |0                 |Female    |Single            |96              |Ice Tea               |1           |3.0000        |3.0000   |43.0000         |NULL                |NULL                     |43.0000        |5                 |23                    |16                        |23                            |\n",
      "---------------------------------------------------------------------------------------------------------------------------------------------------------------------------------------------------------------------------------------------------------------------------------------------------------------------------------------------------------------------------------------------------------------------------------------------------------------------------------------------------------------------------------------------------------------------------------------------------------------------------------------------------------------------------------------------------------------------------------------------------------------------------------------------------------------------------------------------------------------------------------------------------------------------------------------------------------------------------------\n",
      "\n"
     ]
    }
   ],
   "source": [
    "#Create AVG_DAYS_BETWEEN_PURCHASES\n",
    "window = Window.partition_by(\"CUSTOMER_ID\").order_by(\"ORDER_TS\")\n",
    "orders_df  =  orders_df .withColumn(\"AVG_DAYS_BETWEEN_PURCHASES\", F.avg(\"DAYS_SINCE_PRIOR_ORDER\").over(window))\n",
    "orders_df =orders_df .withColumn(\"AVG_DAYS_BETWEEN_PURCHASES\", F.round(\"AVG_DAYS_BETWEEN_PURCHASES\", 0))\n",
    "\n",
    "orders_df.show()"
   ]
  },
  {
   "cell_type": "code",
   "execution_count": 27,
   "id": "dfcaffe0",
   "metadata": {},
   "outputs": [],
   "source": [
    "# Calculate the maximum and minimum number of days a customer went without the menu item\n",
    "orders_df = orders_df.withColumn(\"MAX_DAYS_WITHOUT_ITEM\", F.max(F.when(F.col(\"DAYS_SINCE_PRIOR_ORDER\").isNull(), 0).otherwise(F.col(\"DAYS_SINCE_PRIOR_ORDER\"))).over(window_spec))\n",
    "orders_df = orders_df.withColumn(\"MIN_DAYS_WITHOUT_ITEM\", F.min(F.when(F.col(\"DAYS_SINCE_PRIOR_ORDER\").isNull(), 0).otherwise(F.col(\"DAYS_SINCE_PRIOR_ORDER\"))).over(window_spec))"
   ]
  },
  {
   "cell_type": "code",
   "execution_count": 28,
   "id": "fa404492",
   "metadata": {},
   "outputs": [
    {
     "name": "stdout",
     "output_type": "stream",
     "text": [
      "--------------------------------------------------------------------------------------------------------------------------------------------------------------------------------------------------------------------------------------------------------------------------------------------------------------------------------------------------------------------------------------\n",
      "|\"ORDER_ID\"  |\"CUSTOMER_ID\"  |\"CITY\"  |\"BIRTHDAY_DATE\"  |\"ORDER_TS\"           |\"TRUCK_BRAND_NAME\"  |\"MENU_TYPE\"  |\"REGION\"         |\"LOCATION_NAME\"         |\"CHILDREN_COUNT\"  |\"GENDER\"  |\"MARITAL_STATUS\"  |\"ORDER_TOTAL\"  |\"TOTAL_QUANTITY\"  |\"DAYS_TO_NEXT_ORDER\"  |\"DAYS_SINCE_PRIOR_ORDER\"  |\"AVG_DAYS_BETWEEN_PURCHASES\"  |\"MAX_DAYS_WITHOUT_ITEM\"  |\"MIN_DAYS_WITHOUT_ITEM\"  |\n",
      "--------------------------------------------------------------------------------------------------------------------------------------------------------------------------------------------------------------------------------------------------------------------------------------------------------------------------------------------------------------------------------------\n",
      "|120551869   |113859         |Sydney  |1980-12-11       |2020-05-11 21:52:04  |Better Off Bread    |Sandwiches   |New South Wales  |Twilio                  |Undisclosed       |Female    |Undisclosed       |75.0000        |9                 |46                    |113                       |113                           |113                      |113                      |\n",
      "|120740102   |113859         |Sydney  |1980-12-11       |2020-06-26 15:39:18  |Kitakata Ramen Bar  |Ramen        |New South Wales  |Foot Locker             |Undisclosed       |Female    |Undisclosed       |34.5000        |2                 |9                     |46                        |80                            |113                      |46                       |\n",
      "|120778868   |113859         |Sydney  |1980-12-11       |2020-07-05 09:34:30  |Tasty Tibs          |Ethiopian    |New South Wales  |Lumen Technologies      |Undisclosed       |Female    |Undisclosed       |22.0000        |2                 |42                    |9                         |56                            |113                      |9                        |\n",
      "|120954995   |113859         |Sydney  |1980-12-11       |2020-08-16 13:08:15  |Tasty Tibs          |Ethiopian    |New South Wales  |Adidas                  |Undisclosed       |Female    |Undisclosed       |34.0000        |4                 |64                    |42                        |53                            |113                      |9                        |\n",
      "|121278323   |113859         |Sydney  |1980-12-11       |2020-10-19 09:33:58  |Better Off Bread    |Sandwiches   |New South Wales  |Vibewire                |Undisclosed       |Female    |Undisclosed       |62.0000        |8                 |40                    |64                        |55                            |113                      |9                        |\n",
      "|121556501   |113859         |Sydney  |1980-12-11       |2020-11-28 18:47:48  |Better Off Bread    |Sandwiches   |New South Wales  |WHSmith                 |Undisclosed       |Female    |Undisclosed       |60.0000        |7                 |103                   |40                        |52                            |113                      |9                        |\n",
      "|122274763   |113859         |Sydney  |1980-12-11       |2021-03-11 21:24:02  |Freezing Point      |Ice Cream    |New South Wales  |Twilio                  |Undisclosed       |Female    |Undisclosed       |16.0000        |3                 |1                     |103                       |60                            |113                      |9                        |\n",
      "|122280416   |113859         |Sydney  |1980-12-11       |2021-03-12 08:51:25  |Freezing Point      |Ice Cream    |New South Wales  |Dingo Media             |Undisclosed       |Female    |Undisclosed       |18.0000        |4                 |15                    |1                         |52                            |113                      |1                        |\n",
      "|122391602   |113859         |Sydney  |1980-12-11       |2021-03-27 12:58:25  |Peking Truck        |Chinese      |New South Wales  |Mail Boxes Etc          |Undisclosed       |Female    |Undisclosed       |78.0000        |10                |6                     |15                        |48                            |113                      |1                        |\n",
      "|122437209   |113859         |Sydney  |1980-12-11       |2021-04-02 11:12:46  |Kitakata Ramen Bar  |Ramen        |New South Wales  |H&M (Hennes & Mauritz)  |Undisclosed       |Female    |Undisclosed       |37.5000        |3                 |21                    |6                         |44                            |113                      |1                        |\n",
      "--------------------------------------------------------------------------------------------------------------------------------------------------------------------------------------------------------------------------------------------------------------------------------------------------------------------------------------------------------------------------------------\n",
      "\n"
     ]
    }
   ],
   "source": [
    "#Remove unnecessary columns \n",
    "new_orders_df=orders_df.drop(['POSTAL_CODE', 'PREFERRED_LANGUAGE','FAVOURITE_BRAND','SIGN_UP_DATE','ORDER_DETAIL_ID','LINE_NUMBER','TRUCK_ID',\n",
    "                'PRIMARY_CITY','COUNTRY','FRANCHISE_FLAG','FRANCHISE_ID','FRANCHISEE_FIRST_NAME','FRANCHISEE_LAST_NAME','LOCATION_ID','PLACEKEY','TOP_CATEGORY','SUB_CATEGORY','LATITUDE',\n",
    "                'LONGITUDE','FIRST_NAME','LAST_NAME','E_MAIL','PHONE_NUMBER','QUANTITY','UNIT_PRICE','PRICE','ORDER_AMOUNT','ORDER_TAX_AMOUNT','ORDER_DISCOUNT_AMOUNT','DATE',\n",
    "                'MENU_ITEM_NAME','MENU_ITEM_ID'])\n",
    "new_orders_df.show()"
   ]
  },
  {
   "cell_type": "code",
   "execution_count": 29,
   "id": "25f7752f",
   "metadata": {},
   "outputs": [
    {
     "name": "stdout",
     "output_type": "stream",
     "text": [
      "   ORDER_ID  CUSTOMER_ID  CITY  BIRTHDAY_DATE  ORDER_TS  TRUCK_BRAND_NAME  \\\n",
      "0         0            0     0              0         0                 0   \n",
      "\n",
      "   MENU_TYPE  REGION  LOCATION_NAME  CHILDREN_COUNT  GENDER  MARITAL_STATUS  \\\n",
      "0          0       0              0               0       0               0   \n",
      "\n",
      "   ORDER_TOTAL  TOTAL_QUANTITY  DAYS_TO_NEXT_ORDER  DAYS_SINCE_PRIOR_ORDER  \\\n",
      "0            0               0                   0                       0   \n",
      "\n",
      "   AVG_DAYS_BETWEEN_PURCHASES  MAX_DAYS_WITHOUT_ITEM  MIN_DAYS_WITHOUT_ITEM  \n",
      "0                           0                      0                      0  \n"
     ]
    }
   ],
   "source": [
    "# Get Number of missing values\n",
    "missing_values_count = new_orders_df.select([F.count(F.when(F.is_null(c), c)).alias(c) for c in new_orders_df.columns]).to_pandas()\n",
    "\n",
    "print(missing_values_count)"
   ]
  },
  {
   "cell_type": "code",
   "execution_count": 30,
   "id": "24520100",
   "metadata": {},
   "outputs": [
    {
     "name": "stdout",
     "output_type": "stream",
     "text": [
      "{'CITY': 0, 'TRUCK_BRAND_NAME': 0, 'MENU_TYPE': 0, 'REGION': 0, 'LOCATION_NAME': 0, 'CHILDREN_COUNT': 75312, 'GENDER': 81517, 'MARITAL_STATUS': 75312}\n"
     ]
    }
   ],
   "source": [
    "#Get number of undisclosed values in categorical columns\n",
    "# Get the column names that have string data type\n",
    "string_columns = [c[0] for c in new_orders_df.dtypes if c[1] == 'string']\n",
    "\n",
    "# Loop through the string columns and count the occurrences of \"Undisclosed\"\n",
    "undisclosed_count = {}\n",
    "for column in string_columns:\n",
    "    count = new_orders_df.filter(F.col(column) == \"Undisclosed\").count()\n",
    "    undisclosed_count[column] = count\n",
    "\n",
    "# Print the counts of \"Undisclosed\" for each column\n",
    "print(undisclosed_count)"
   ]
  },
  {
   "cell_type": "code",
   "execution_count": 31,
   "id": "651584d2",
   "metadata": {},
   "outputs": [
    {
     "name": "stdout",
     "output_type": "stream",
     "text": [
      "{'CITY': 2, 'TRUCK_BRAND_NAME': 15, 'MENU_TYPE': 15, 'REGION': 2, 'LOCATION_NAME': 345, 'CHILDREN_COUNT': 7, 'GENDER': 3, 'MARITAL_STATUS': 4}\n"
     ]
    }
   ],
   "source": [
    "#Check cardinality\n",
    "# Calculate cardinality for each string column\n",
    "cardinalities = [new_orders_df.agg(F.approx_count_distinct(c)).collect()[0][0] for c in string_columns]\n",
    "\n",
    "# Create a dictionary mapping column names to their respective cardinalities\n",
    "column_cardinalities = dict(zip(string_columns, cardinalities))\n",
    "\n",
    "# Print the results\n",
    "print(column_cardinalities)"
   ]
  },
  {
   "attachments": {},
   "cell_type": "markdown",
   "id": "055a91ac",
   "metadata": {},
   "source": [
    "# Feature Engineering"
   ]
  },
  {
   "cell_type": "code",
   "execution_count": 32,
   "id": "7f5e5ac6",
   "metadata": {},
   "outputs": [
    {
     "name": "stdout",
     "output_type": "stream",
     "text": [
      "-----------------------------------------------------------------------------------------------------------------------------------------------------------------------------------------------------------------------------------------------------------------------------------------------------------------------------------------------------------------------------------------------------------\n",
      "|\"ORDER_ID\"  |\"CUSTOMER_ID\"  |\"CITY\"  |\"BIRTHDAY_DATE\"  |\"ORDER_TS\"           |\"TRUCK_BRAND_NAME\"  |\"MENU_TYPE\"  |\"REGION\"         |\"LOCATION_NAME\"             |\"CHILDREN_COUNT\"  |\"GENDER\"     |\"MARITAL_STATUS\"  |\"ORDER_TOTAL\"  |\"TOTAL_QUANTITY\"  |\"DAYS_TO_NEXT_ORDER\"  |\"DAYS_SINCE_PRIOR_ORDER\"  |\"AVG_DAYS_BETWEEN_PURCHASES\"  |\"MAX_DAYS_WITHOUT_ITEM\"  |\"MIN_DAYS_WITHOUT_ITEM\"  |\"FREQUENCY\"  |\n",
      "-----------------------------------------------------------------------------------------------------------------------------------------------------------------------------------------------------------------------------------------------------------------------------------------------------------------------------------------------------------------------------------------------------------\n",
      "|120151547   |163711         |Sydney  |1958-08-03       |2020-02-05 21:55:27  |Kitakata Ramen Bar  |Ramen        |New South Wales  |Adidas                      |0                 |Undisclosed  |Single            |51.7500        |3                 |143                   |2                         |2                             |2                        |2                        |1            |\n",
      "|120744105   |163711         |Sydney  |1958-08-03       |2020-06-27 12:26:21  |Kitakata Ramen Bar  |Ramen        |New South Wales  |Prada                       |0                 |Undisclosed  |Single            |17.2500        |1                 |10                    |143                       |73                            |143                      |2                        |2            |\n",
      "|120787766   |163711         |Sydney  |1958-08-03       |2020-07-07 16:12:08  |Tasty Tibs          |Ethiopian    |New South Wales  |Balenciaga                  |0                 |Undisclosed  |Single            |53.0000        |5                 |21                    |10                        |52                            |143                      |2                        |3            |\n",
      "|120874594   |163711         |Sydney  |1958-08-03       |2020-07-28 10:03:15  |Tasty Tibs          |Ethiopian    |New South Wales  |Courtyard by Marriott       |0                 |Undisclosed  |Single            |33.0000        |3                 |9                     |21                        |44                            |143                      |2                        |4            |\n",
      "|120915644   |163711         |Sydney  |1958-08-03       |2020-08-06 20:30:21  |Better Off Bread    |Sandwiches   |New South Wales  |Sandro                      |0                 |Undisclosed  |Single            |36.0000        |4                 |3                     |9                         |37                            |143                      |2                        |5            |\n",
      "|120926890   |163711         |Sydney  |1958-08-03       |2020-08-09 20:41:58  |Tasty Tibs          |Ethiopian    |New South Wales  |Victory Offices Barangaroo  |0                 |Undisclosed  |Single            |51.0000        |6                 |30                    |3                         |31                            |143                      |2                        |6            |\n",
      "|121051260   |163711         |Sydney  |1958-08-03       |2020-09-08 17:59:30  |Kitakata Ramen Bar  |Ramen        |New South Wales  |Motive Coworking            |0                 |Undisclosed  |Single            |111.5000       |9                 |31                    |30                        |31                            |143                      |2                        |7            |\n",
      "|121205865   |163711         |Sydney  |1958-08-03       |2020-10-09 10:14:22  |Tasty Tibs          |Ethiopian    |New South Wales  |Auburn Central              |0                 |Undisclosed  |Single            |9.0000         |1                 |24                    |31                        |31                            |143                      |2                        |8            |\n",
      "|121372372   |163711         |Sydney  |1958-08-03       |2020-11-02 12:13:18  |Tasty Tibs          |Ethiopian    |New South Wales  |Ferragamo                   |0                 |Undisclosed  |Single            |57.0000        |7                 |37                    |24                        |30                            |143                      |2                        |9            |\n",
      "|121630931   |163711         |Sydney  |1958-08-03       |2020-12-09 18:17:08  |Peking Truck        |Chinese      |New South Wales  |Servcorp                    |0                 |Undisclosed  |Single            |15.0000        |3                 |3                     |37                        |31                            |143                      |2                        |10           |\n",
      "-----------------------------------------------------------------------------------------------------------------------------------------------------------------------------------------------------------------------------------------------------------------------------------------------------------------------------------------------------------------------------------------------------------\n",
      "\n"
     ]
    }
   ],
   "source": [
    "#Create prev_orders\n",
    "window = Window.partition_by(\"CUSTOMER_ID\").order_by(\"ORDER_TS\")\n",
    "new_orders_df = new_orders_df.with_column(\"Frequency\", F.row_number().over(window))\n",
    "\n",
    "new_orders_df.show()"
   ]
  },
  {
   "cell_type": "code",
   "execution_count": 33,
   "id": "f7843daf",
   "metadata": {},
   "outputs": [
    {
     "name": "stdout",
     "output_type": "stream",
     "text": [
      "--------------------------------------------------------------------------------------------------------------------------------------------------------------------------------------------------------------------------------------------------------------------------------------------------------------------------------------------------------------------------------------------------------------------------------\n",
      "|\"ORDER_ID\"  |\"CUSTOMER_ID\"  |\"CITY\"     |\"BIRTHDAY_DATE\"  |\"ORDER_TS\"           |\"TRUCK_BRAND_NAME\"    |\"MENU_TYPE\"     |\"REGION\"  |\"LOCATION_NAME\"                  |\"CHILDREN_COUNT\"  |\"GENDER\"  |\"MARITAL_STATUS\"  |\"ORDER_TOTAL\"  |\"TOTAL_QUANTITY\"  |\"DAYS_TO_NEXT_ORDER\"  |\"DAYS_SINCE_PRIOR_ORDER\"  |\"AVG_DAYS_BETWEEN_PURCHASES\"  |\"MAX_DAYS_WITHOUT_ITEM\"  |\"MIN_DAYS_WITHOUT_ITEM\"  |\"FREQUENCY\"  |\"MONETARYVALUE\"  |\n",
      "--------------------------------------------------------------------------------------------------------------------------------------------------------------------------------------------------------------------------------------------------------------------------------------------------------------------------------------------------------------------------------------------------------------------------------\n",
      "|132315187   |102090         |Melbourne  |2003-06-22       |2020-09-05 11:44:20  |Cheeky Greek          |Gyros           |Victoria  |Hatch Quarter                    |2                 |Male      |Married           |34.0000        |3                 |25                    |17                        |17                            |17                       |17                       |1            |34.0000          |\n",
      "|132349950   |102090         |Melbourne  |2003-06-22       |2020-09-30 19:41:30  |Cheeky Greek          |Gyros           |Victoria  |Gucci                            |2                 |Male      |Married           |43.0000        |3                 |1                     |25                        |21                            |25                       |17                       |2            |77.0000          |\n",
      "|132350554   |102090         |Melbourne  |2003-06-22       |2020-10-01 11:47:53  |The Mega Melt         |Grilled Cheese  |Victoria  |Kenzo                            |2                 |Male      |Married           |21.0000        |4                 |4                     |1                         |14                            |25                       |1                        |3            |98.0000          |\n",
      "|132373041   |102090         |Melbourne  |2003-06-22       |2020-10-05 13:12:00  |The Mega Melt         |Grilled Cheese  |Victoria  |Swatch                           |2                 |Male      |Married           |17.0000        |3                 |30                    |4                         |12                            |25                       |1                        |4            |115.0000         |\n",
      "|132539148   |102090         |Melbourne  |2003-06-22       |2020-11-04 08:16:36  |Cheeky Greek          |Gyros           |Victoria  |WHSmith                          |2                 |Male      |Married           |133.0000       |10                |12                    |30                        |15                            |30                       |1                        |5            |248.0000         |\n",
      "|132605901   |102090         |Melbourne  |2003-06-22       |2020-11-16 08:21:06  |Better Off Bread      |Sandwiches      |Victoria  |Regus                            |2                 |Male      |Married           |11.0000        |1                 |1                     |12                        |15                            |30                       |1                        |6            |259.0000         |\n",
      "|132609143   |102090         |Melbourne  |2003-06-22       |2020-11-17 13:52:11  |Revenge of the Curds  |Poutine         |Victoria  |Crowne Plaza Hotels and Resorts  |2                 |Male      |Married           |54.0000        |4                 |15                    |1                         |13                            |30                       |1                        |7            |313.0000         |\n",
      "|132694015   |102090         |Melbourne  |2003-06-22       |2020-12-02 12:00:44  |Better Off Bread      |Sandwiches      |Victoria  |Best Western                     |2                 |Male      |Married           |58.0000        |6                 |13                    |15                        |13                            |30                       |1                        |8            |371.0000         |\n",
      "|132765504   |102090         |Melbourne  |2003-06-22       |2020-12-15 21:32:14  |Cheeky Greek          |Gyros           |Victoria  |H&M (Hennes & Mauritz)           |2                 |Male      |Married           |20.0000        |1                 |8                     |13                        |13                            |30                       |1                        |9            |391.0000         |\n",
      "|132805803   |102090         |Melbourne  |2003-06-22       |2020-12-23 18:05:30  |The Mega Melt         |Grilled Cheese  |Victoria  |Ermenegildo Zenga                |2                 |Male      |Married           |5.0000         |1                 |3                     |8                         |13                            |30                       |1                        |10           |396.0000         |\n",
      "--------------------------------------------------------------------------------------------------------------------------------------------------------------------------------------------------------------------------------------------------------------------------------------------------------------------------------------------------------------------------------------------------------------------------------\n",
      "\n"
     ]
    }
   ],
   "source": [
    "#Create Monetary\n",
    "window = Window.partition_by(\"CUSTOMER_ID\").order_by(\"ORDER_TS\")\n",
    "new_orders_df =  new_orders_df.withColumn(\"MonetaryValue\", F.sum(\"ORDER_TOTAL\").over(window))\n",
    "\n",
    "new_orders_df.show()"
   ]
  },
  {
   "cell_type": "code",
   "execution_count": 34,
   "id": "992fa403",
   "metadata": {},
   "outputs": [],
   "source": [
    "#Extract time of day from Order_TS\n",
    "time_of_day = (\n",
    "    F.when((F.hour('order_ts') >= 0) & (F.hour('order_ts') < 6), 'night')\n",
    "    .when((F.hour('order_ts') >= 6) & (F.hour('order_ts') < 12), 'morning')\n",
    "    .when((F.hour('order_ts') >= 12) & (F.hour('order_ts') < 18), 'afternoon')\n",
    "    .when((F.hour('order_ts') >= 18) & (F.hour('order_ts') < 24), 'evening')\n",
    "    .otherwise('unknown')\n",
    ")\n",
    "\n",
    "new_orders_df = new_orders_df.withColumn('time_of_day', time_of_day)"
   ]
  },
  {
   "cell_type": "code",
   "execution_count": 35,
   "id": "cccf2491",
   "metadata": {},
   "outputs": [],
   "source": [
    "# get max date/latest date in the ORDER_TS column\n",
    "latest_date = new_orders_df.agg(F.max('ORDER_TS')).collect()[0][0]\n",
    "\n",
    "# convert BIRTHDAY_DATE column to timestamp type\n",
    "new_orders_df = new_orders_df.withColumn(\"BIRTHDAY_DATE\", F.to_timestamp(F.col(\"BIRTHDAY_DATE\")))\n",
    "\n",
    "# get AGE variable\n",
    "new_orders_df = new_orders_df.withColumn(\"AGE\", F.datediff('year',F.lit(latest_date), F.col(\"BIRTHDAY_DATE\")))\n",
    "\n",
    "# calculation leads to values in the AGE column to be -ve\n",
    "# convert all the values in the AGE column to positive values\n",
    "new_orders_df = new_orders_df.withColumn('AGE', F.abs(F.col('AGE')))\n",
    "\n",
    "# convert the AGE column to int type\n",
    "new_orders_df = new_orders_df.withColumn(\"AGE\", F.col(\"AGE\").cast(T.IntegerType()))\n"
   ]
  },
  {
   "cell_type": "code",
   "execution_count": 36,
   "id": "a926bccc",
   "metadata": {},
   "outputs": [],
   "source": [
    "new_orders_df=new_orders_df.drop(['REGION','LOCATION_NAME','BIRTHDAY_DATE','CHILDREN_COUNT','GENDER','MARITAL_STATUS'])"
   ]
  },
  {
   "cell_type": "code",
   "execution_count": 37,
   "id": "902cc0f4",
   "metadata": {},
   "outputs": [
    {
     "name": "stderr",
     "output_type": "stream",
     "text": [
      "C:\\Users\\ryanl\\AppData\\Local\\Temp\\ipykernel_15672\\610254026.py:2: FutureWarning: The default value of numeric_only in DataFrame.corr is deprecated. In a future version, it will default to False. Select only valid columns or specify the value of numeric_only to silence this warning.\n",
      "  sns.heatmap(temp_df.corr())\n"
     ]
    },
    {
     "data": {
      "image/png": "[encoded data removed]",
      "text/plain": [
       "<Figure size 640x480 with 2 Axes>"
      ]
     },
     "metadata": {},
     "output_type": "display_data"
    }
   ],
   "source": [
    "temp_df=new_orders_df.to_pandas()\n",
    "sns.heatmap(temp_df.corr())\n",
    "plt.show()"
   ]
  },
  {
   "attachments": {},
   "cell_type": "markdown",
   "id": "8cfe5f55",
   "metadata": {},
   "source": [
    "#Recency\n",
    "recency=new_orders_df.group_by('CUSTOMER_ID').max('ORDER_TS').to_pandas()\n",
    "recency['RECENCY']=(dt.datetime(2022,10,31)-pd.to_datetime(recency['MAX(ORDER_TS)'])).dt.days\n",
    "\n",
    "#Frequency\n",
    "frequency=new_orders_df.group_by('CUSTOMER_ID').agg(F.countDistinct('ORDER_ID').alias('frequency')).to_pandas()\n",
    "\n",
    "#Monetary\n",
    "monetary=new_orders_df.group_by('CUSTOMER_ID').agg(F.sum('ORDER_TOTAL').alias('monetary')).to_pandas()\n",
    "\n",
    "RFM_table=recency.merge(right=frequency, how=\"inner\",on='CUSTOMER_ID')\n",
    "RFM_table=RFM_table.merge(right=monetary,how='inner',on='CUSTOMER_ID')\n",
    "RFM_table.drop(labels='MAX(ORDER_TS)',inplace=True,errors='ignore')\n",
    "\n",
    "quantiles_1 = RFM_table[['RECENCY','FREQUENCY','MONETARY']].quantile(q=[0.2,0.4,0.6,0.8])\n",
    "\n",
    "# Converting quantiles to a dictionary, easier to use.\n",
    "quantiles = quantiles_1.to_dict()\n",
    "##  RFM Segmentation ----\n",
    "RFM_Segment = RFM_table.copy()\n",
    "# Arguments (x = value, p = recency, monetary_value, frequency, k = quartiles dict)\n",
    "def R_Class(x,p,d):\n",
    "    if x <= d[p][0.2]:\n",
    "        return 5\n",
    "    elif x <= d[p][0.4]:\n",
    "        return 4\n",
    "    elif x <= d[p][0.6]: \n",
    "        return 3\n",
    "    elif x<=d[p][0.8]:\n",
    "        return 2 \n",
    "    else:\n",
    "        return 1\n",
    "    \n",
    "# Arguments (x = value, p = recency, monetary_value, frequency, k = quartiles dict)\n",
    "def FM_Class(x,p,d):\n",
    "    if x <= d[p][0.2]:\n",
    "        return 1\n",
    "    elif x <= d[p][0.4]:\n",
    "        return 2\n",
    "    elif x <= d[p][0.6]: \n",
    "        return 3\n",
    "    elif x<=d[p][0.8]:\n",
    "        return 4 \n",
    "    else:\n",
    "        return 5\n",
    "RFM_Segment['R_Quartile'] = RFM_Segment['RECENCY'].apply(R_Class, args=('RECENCY',quantiles,))\n",
    "RFM_Segment['F_Quartile'] = RFM_Segment['FREQUENCY'].apply(FM_Class, args=('FREQUENCY',quantiles,))\n",
    "RFM_Segment['M_Quartile'] = RFM_Segment['MONETARY'].apply(FM_Class, args=('MONETARY',quantiles,))\n",
    "RFM_Segment['RFMClass'] = RFM_Segment.R_Quartile.map(str) \\\n",
    "                            + RFM_Segment.F_Quartile.map(str) \\\n",
    "                            + RFM_Segment.M_Quartile.map(str)"
   ]
  },
  {
   "cell_type": "code",
   "execution_count": 38,
   "id": "a6eadab5",
   "metadata": {},
   "outputs": [],
   "source": [
    "temp_df_2=temp_df.drop(['ORDER_TS','ORDER_ID'],axis=1)"
   ]
  },
  {
   "cell_type": "code",
   "execution_count": 39,
   "id": "5e5b1511",
   "metadata": {},
   "outputs": [
    {
     "ename": "NameError",
     "evalue": "name 'temp_df_3' is not defined",
     "output_type": "error",
     "traceback": [
      "\u001b[1;31m---------------------------------------------------------------------------\u001b[0m",
      "\u001b[1;31mNameError\u001b[0m                                 Traceback (most recent call last)",
      "Cell \u001b[1;32mIn[39], line 1\u001b[0m\n\u001b[1;32m----> 1\u001b[0m temp_df_3\u001b[39m=\u001b[39mtemp_df_3\u001b[39m.\u001b[39mdrop([\u001b[39m'\u001b[39m\u001b[39mCITY\u001b[39m\u001b[39m'\u001b[39m,\u001b[39m'\u001b[39m\u001b[39mTRUCK_BRAND_NAME\u001b[39m\u001b[39m'\u001b[39m,\u001b[39m'\u001b[39m\u001b[39mMENU_TYPE\u001b[39m\u001b[39m'\u001b[39m,\u001b[39m'\u001b[39m\u001b[39mTIME_OF_DAY\u001b[39m\u001b[39m'\u001b[39m],axis\u001b[39m=\u001b[39m\u001b[39m1\u001b[39m)\n",
      "\u001b[1;31mNameError\u001b[0m: name 'temp_df_3' is not defined"
     ]
    }
   ],
   "source": [
    "temp_df_3=temp_df_3.drop(['CITY','TRUCK_BRAND_NAME','MENU_TYPE','TIME_OF_DAY'],axis=1)"
   ]
  },
  {
   "cell_type": "code",
   "execution_count": null,
   "id": "4489091f",
   "metadata": {},
   "outputs": [
    {
     "data": {
      "text/plain": [
       "count    687727.000000\n",
       "mean        139.545385\n",
       "std         131.005169\n",
       "min           1.000000\n",
       "25%          41.000000\n",
       "50%         100.000000\n",
       "75%         199.000000\n",
       "max         997.000000\n",
       "Name: DAYS_TO_NEXT_ORDER, dtype: float64"
      ]
     },
     "metadata": {},
     "output_type": "display_data"
    }
   ],
   "source": [
    "temp_df_3['DAYS_TO_NEXT_ORDER'].describe()"
   ]
  },
  {
   "cell_type": "code",
   "execution_count": null,
   "id": "aa656b11",
   "metadata": {},
   "outputs": [],
   "source": [
    "temp_df_3['NextPurchaseDayRange'] = 3\n",
    "temp_df_3.loc[temp_df_3['DAYS_TO_NEXT_ORDER']>41,'NextPurchaseDayRange'] = 2\n",
    "temp_df_3.loc[temp_df_3['DAYS_TO_NEXT_ORDER']>100,'NextPurchaseDayRange'] = 1\n",
    "temp_df_3.loc[temp_df_3['DAYS_TO_NEXT_ORDER']>199,'NextPurchaseDayRange'] = 0\n"
   ]
  },
  {
   "cell_type": "code",
   "execution_count": null,
   "id": "b0c8c947",
   "metadata": {},
   "outputs": [],
   "source": [
    "# Define Model Inputs (X) and Output (y)\n",
    "X = temp_df_3.drop(['DAYS_TO_NEXT_ORDER','NextPurchaseDayRange'], axis =1)\n",
    "y = temp_df_3[\"NextPurchaseDayRange\"]\n",
    "\n",
    "# Split both Inputs (X) and Ouput (y) into training set (70%) and testing set (30%)\n",
    "X_train, X_test, y_train, y_test = train_test_split(X, y, test_size=0.3, random_state=4)"
   ]
  },
  {
   "attachments": {},
   "cell_type": "markdown",
   "id": "926994aa",
   "metadata": {},
   "source": [
    "#Performing one hot encoding\n",
    "ohe_enc = OneHotEncoder(\n",
    "    top_categories=None,\n",
    "    drop_last=True, \n",
    "    variables=['Segment']\n",
    ")  \n",
    "\n",
    "ohe_enc.fit(X_train)\n",
    "X_train = ohe_enc.transform(X_train)\n",
    "X_test=ohe_enc.transform(X_test)\n"
   ]
  },
  {
   "cell_type": "code",
   "execution_count": null,
   "id": "4df5bb9a",
   "metadata": {},
   "outputs": [],
   "source": [
    "#Split into Training 60, Testing 20, Validate 10, and Holdout 10"
   ]
  },
  {
   "cell_type": "code",
   "execution_count": null,
   "id": "938e53c9",
   "metadata": {},
   "outputs": [
    {
     "data": {
      "text/html": [
       "<div>\n",
       "<style scoped>\n",
       "    .dataframe tbody tr th:only-of-type {\n",
       "        vertical-align: middle;\n",
       "    }\n",
       "\n",
       "    .dataframe tbody tr th {\n",
       "        vertical-align: top;\n",
       "    }\n",
       "\n",
       "    .dataframe thead th {\n",
       "        text-align: right;\n",
       "    }\n",
       "</style>\n",
       "<table border=\"1\" class=\"dataframe\">\n",
       "  <thead>\n",
       "    <tr style=\"text-align: right;\">\n",
       "      <th></th>\n",
       "      <th>CUSTOMER_ID</th>\n",
       "      <th>ORDER_TOTAL</th>\n",
       "      <th>TOTAL_QUANTITY</th>\n",
       "      <th>DAYS_SINCE_PRIOR_ORDER</th>\n",
       "      <th>AVG_DAYS_BETWEEN_PURCHASES</th>\n",
       "      <th>MAX_DAYS_WITHOUT_ITEM</th>\n",
       "      <th>MIN_DAYS_WITHOUT_ITEM</th>\n",
       "      <th>FREQUENCY</th>\n",
       "      <th>MONETARYVALUE</th>\n",
       "      <th>AGE</th>\n",
       "    </tr>\n",
       "  </thead>\n",
       "  <tbody>\n",
       "    <tr>\n",
       "      <th>583117</th>\n",
       "      <td>115199</td>\n",
       "      <td>104.00</td>\n",
       "      <td>6</td>\n",
       "      <td>18</td>\n",
       "      <td>20</td>\n",
       "      <td>88</td>\n",
       "      <td>2</td>\n",
       "      <td>36</td>\n",
       "      <td>1587.50</td>\n",
       "      <td>35</td>\n",
       "    </tr>\n",
       "    <tr>\n",
       "      <th>583115</th>\n",
       "      <td>115199</td>\n",
       "      <td>34.50</td>\n",
       "      <td>2</td>\n",
       "      <td>32</td>\n",
       "      <td>21</td>\n",
       "      <td>88</td>\n",
       "      <td>2</td>\n",
       "      <td>34</td>\n",
       "      <td>1469.50</td>\n",
       "      <td>35</td>\n",
       "    </tr>\n",
       "    <tr>\n",
       "      <th>583125</th>\n",
       "      <td>115199</td>\n",
       "      <td>71.00</td>\n",
       "      <td>5</td>\n",
       "      <td>16</td>\n",
       "      <td>20</td>\n",
       "      <td>88</td>\n",
       "      <td>2</td>\n",
       "      <td>44</td>\n",
       "      <td>1931.75</td>\n",
       "      <td>35</td>\n",
       "    </tr>\n",
       "    <tr>\n",
       "      <th>583133</th>\n",
       "      <td>115199</td>\n",
       "      <td>186.00</td>\n",
       "      <td>11</td>\n",
       "      <td>12</td>\n",
       "      <td>19</td>\n",
       "      <td>88</td>\n",
       "      <td>1</td>\n",
       "      <td>52</td>\n",
       "      <td>2375.25</td>\n",
       "      <td>35</td>\n",
       "    </tr>\n",
       "    <tr>\n",
       "      <th>583112</th>\n",
       "      <td>115199</td>\n",
       "      <td>71.00</td>\n",
       "      <td>8</td>\n",
       "      <td>40</td>\n",
       "      <td>22</td>\n",
       "      <td>88</td>\n",
       "      <td>2</td>\n",
       "      <td>31</td>\n",
       "      <td>1316.50</td>\n",
       "      <td>35</td>\n",
       "    </tr>\n",
       "    <tr>\n",
       "      <th>583093</th>\n",
       "      <td>115199</td>\n",
       "      <td>11.00</td>\n",
       "      <td>1</td>\n",
       "      <td>6</td>\n",
       "      <td>29</td>\n",
       "      <td>88</td>\n",
       "      <td>4</td>\n",
       "      <td>12</td>\n",
       "      <td>535.75</td>\n",
       "      <td>35</td>\n",
       "    </tr>\n",
       "    <tr>\n",
       "      <th>583107</th>\n",
       "      <td>115199</td>\n",
       "      <td>37.00</td>\n",
       "      <td>3</td>\n",
       "      <td>36</td>\n",
       "      <td>22</td>\n",
       "      <td>88</td>\n",
       "      <td>2</td>\n",
       "      <td>26</td>\n",
       "      <td>1034.50</td>\n",
       "      <td>35</td>\n",
       "    </tr>\n",
       "    <tr>\n",
       "      <th>583104</th>\n",
       "      <td>115199</td>\n",
       "      <td>42.00</td>\n",
       "      <td>8</td>\n",
       "      <td>3</td>\n",
       "      <td>20</td>\n",
       "      <td>88</td>\n",
       "      <td>2</td>\n",
       "      <td>23</td>\n",
       "      <td>932.50</td>\n",
       "      <td>35</td>\n",
       "    </tr>\n",
       "    <tr>\n",
       "      <th>583111</th>\n",
       "      <td>115199</td>\n",
       "      <td>33.00</td>\n",
       "      <td>3</td>\n",
       "      <td>21</td>\n",
       "      <td>21</td>\n",
       "      <td>88</td>\n",
       "      <td>2</td>\n",
       "      <td>30</td>\n",
       "      <td>1245.50</td>\n",
       "      <td>35</td>\n",
       "    </tr>\n",
       "    <tr>\n",
       "      <th>583124</th>\n",
       "      <td>115199</td>\n",
       "      <td>8.00</td>\n",
       "      <td>1</td>\n",
       "      <td>11</td>\n",
       "      <td>20</td>\n",
       "      <td>88</td>\n",
       "      <td>2</td>\n",
       "      <td>43</td>\n",
       "      <td>1860.75</td>\n",
       "      <td>35</td>\n",
       "    </tr>\n",
       "    <tr>\n",
       "      <th>583099</th>\n",
       "      <td>115199</td>\n",
       "      <td>56.75</td>\n",
       "      <td>5</td>\n",
       "      <td>3</td>\n",
       "      <td>24</td>\n",
       "      <td>88</td>\n",
       "      <td>3</td>\n",
       "      <td>18</td>\n",
       "      <td>806.50</td>\n",
       "      <td>35</td>\n",
       "    </tr>\n",
       "    <tr>\n",
       "      <th>583094</th>\n",
       "      <td>115199</td>\n",
       "      <td>11.00</td>\n",
       "      <td>1</td>\n",
       "      <td>17</td>\n",
       "      <td>28</td>\n",
       "      <td>88</td>\n",
       "      <td>4</td>\n",
       "      <td>13</td>\n",
       "      <td>546.75</td>\n",
       "      <td>35</td>\n",
       "    </tr>\n",
       "    <tr>\n",
       "      <th>583131</th>\n",
       "      <td>115199</td>\n",
       "      <td>35.00</td>\n",
       "      <td>4</td>\n",
       "      <td>18</td>\n",
       "      <td>19</td>\n",
       "      <td>88</td>\n",
       "      <td>1</td>\n",
       "      <td>50</td>\n",
       "      <td>2183.25</td>\n",
       "      <td>35</td>\n",
       "    </tr>\n",
       "    <tr>\n",
       "      <th>583087</th>\n",
       "      <td>115199</td>\n",
       "      <td>42.00</td>\n",
       "      <td>4</td>\n",
       "      <td>18</td>\n",
       "      <td>39</td>\n",
       "      <td>88</td>\n",
       "      <td>7</td>\n",
       "      <td>6</td>\n",
       "      <td>437.25</td>\n",
       "      <td>35</td>\n",
       "    </tr>\n",
       "    <tr>\n",
       "      <th>583118</th>\n",
       "      <td>115199</td>\n",
       "      <td>54.75</td>\n",
       "      <td>4</td>\n",
       "      <td>22</td>\n",
       "      <td>20</td>\n",
       "      <td>88</td>\n",
       "      <td>2</td>\n",
       "      <td>37</td>\n",
       "      <td>1642.25</td>\n",
       "      <td>35</td>\n",
       "    </tr>\n",
       "    <tr>\n",
       "      <th>583092</th>\n",
       "      <td>115199</td>\n",
       "      <td>36.00</td>\n",
       "      <td>4</td>\n",
       "      <td>36</td>\n",
       "      <td>32</td>\n",
       "      <td>88</td>\n",
       "      <td>4</td>\n",
       "      <td>11</td>\n",
       "      <td>524.75</td>\n",
       "      <td>35</td>\n",
       "    </tr>\n",
       "    <tr>\n",
       "      <th>583103</th>\n",
       "      <td>115199</td>\n",
       "      <td>36.00</td>\n",
       "      <td>4</td>\n",
       "      <td>2</td>\n",
       "      <td>21</td>\n",
       "      <td>88</td>\n",
       "      <td>2</td>\n",
       "      <td>22</td>\n",
       "      <td>890.50</td>\n",
       "      <td>35</td>\n",
       "    </tr>\n",
       "    <tr>\n",
       "      <th>583083</th>\n",
       "      <td>115199</td>\n",
       "      <td>147.00</td>\n",
       "      <td>11</td>\n",
       "      <td>7</td>\n",
       "      <td>48</td>\n",
       "      <td>88</td>\n",
       "      <td>7</td>\n",
       "      <td>2</td>\n",
       "      <td>170.00</td>\n",
       "      <td>35</td>\n",
       "    </tr>\n",
       "    <tr>\n",
       "      <th>583114</th>\n",
       "      <td>115199</td>\n",
       "      <td>6.00</td>\n",
       "      <td>1</td>\n",
       "      <td>6</td>\n",
       "      <td>21</td>\n",
       "      <td>88</td>\n",
       "      <td>2</td>\n",
       "      <td>33</td>\n",
       "      <td>1435.00</td>\n",
       "      <td>35</td>\n",
       "    </tr>\n",
       "    <tr>\n",
       "      <th>583086</th>\n",
       "      <td>115199</td>\n",
       "      <td>105.50</td>\n",
       "      <td>7</td>\n",
       "      <td>71</td>\n",
       "      <td>43</td>\n",
       "      <td>88</td>\n",
       "      <td>7</td>\n",
       "      <td>5</td>\n",
       "      <td>395.25</td>\n",
       "      <td>35</td>\n",
       "    </tr>\n",
       "    <tr>\n",
       "      <th>583126</th>\n",
       "      <td>115199</td>\n",
       "      <td>26.00</td>\n",
       "      <td>2</td>\n",
       "      <td>16</td>\n",
       "      <td>20</td>\n",
       "      <td>88</td>\n",
       "      <td>2</td>\n",
       "      <td>45</td>\n",
       "      <td>1957.75</td>\n",
       "      <td>35</td>\n",
       "    </tr>\n",
       "    <tr>\n",
       "      <th>583097</th>\n",
       "      <td>115199</td>\n",
       "      <td>22.00</td>\n",
       "      <td>2</td>\n",
       "      <td>10</td>\n",
       "      <td>25</td>\n",
       "      <td>88</td>\n",
       "      <td>4</td>\n",
       "      <td>16</td>\n",
       "      <td>669.75</td>\n",
       "      <td>35</td>\n",
       "    </tr>\n",
       "    <tr>\n",
       "      <th>583120</th>\n",
       "      <td>115199</td>\n",
       "      <td>9.00</td>\n",
       "      <td>1</td>\n",
       "      <td>12</td>\n",
       "      <td>21</td>\n",
       "      <td>88</td>\n",
       "      <td>2</td>\n",
       "      <td>39</td>\n",
       "      <td>1676.25</td>\n",
       "      <td>35</td>\n",
       "    </tr>\n",
       "    <tr>\n",
       "      <th>583127</th>\n",
       "      <td>115199</td>\n",
       "      <td>61.50</td>\n",
       "      <td>6</td>\n",
       "      <td>14</td>\n",
       "      <td>20</td>\n",
       "      <td>88</td>\n",
       "      <td>2</td>\n",
       "      <td>46</td>\n",
       "      <td>2019.25</td>\n",
       "      <td>35</td>\n",
       "    </tr>\n",
       "    <tr>\n",
       "      <th>583129</th>\n",
       "      <td>115199</td>\n",
       "      <td>55.00</td>\n",
       "      <td>5</td>\n",
       "      <td>1</td>\n",
       "      <td>19</td>\n",
       "      <td>88</td>\n",
       "      <td>1</td>\n",
       "      <td>48</td>\n",
       "      <td>2118.25</td>\n",
       "      <td>35</td>\n",
       "    </tr>\n",
       "    <tr>\n",
       "      <th>583113</th>\n",
       "      <td>115199</td>\n",
       "      <td>112.50</td>\n",
       "      <td>9</td>\n",
       "      <td>5</td>\n",
       "      <td>21</td>\n",
       "      <td>88</td>\n",
       "      <td>2</td>\n",
       "      <td>32</td>\n",
       "      <td>1429.00</td>\n",
       "      <td>35</td>\n",
       "    </tr>\n",
       "    <tr>\n",
       "      <th>583090</th>\n",
       "      <td>115199</td>\n",
       "      <td>13.00</td>\n",
       "      <td>1</td>\n",
       "      <td>4</td>\n",
       "      <td>33</td>\n",
       "      <td>88</td>\n",
       "      <td>4</td>\n",
       "      <td>9</td>\n",
       "      <td>482.75</td>\n",
       "      <td>35</td>\n",
       "    </tr>\n",
       "    <tr>\n",
       "      <th>583098</th>\n",
       "      <td>115199</td>\n",
       "      <td>80.00</td>\n",
       "      <td>8</td>\n",
       "      <td>31</td>\n",
       "      <td>25</td>\n",
       "      <td>88</td>\n",
       "      <td>4</td>\n",
       "      <td>17</td>\n",
       "      <td>749.75</td>\n",
       "      <td>35</td>\n",
       "    </tr>\n",
       "    <tr>\n",
       "      <th>583084</th>\n",
       "      <td>115199</td>\n",
       "      <td>68.00</td>\n",
       "      <td>7</td>\n",
       "      <td>37</td>\n",
       "      <td>44</td>\n",
       "      <td>88</td>\n",
       "      <td>7</td>\n",
       "      <td>3</td>\n",
       "      <td>238.00</td>\n",
       "      <td>35</td>\n",
       "    </tr>\n",
       "    <tr>\n",
       "      <th>583096</th>\n",
       "      <td>115199</td>\n",
       "      <td>88.00</td>\n",
       "      <td>11</td>\n",
       "      <td>12</td>\n",
       "      <td>26</td>\n",
       "      <td>88</td>\n",
       "      <td>4</td>\n",
       "      <td>15</td>\n",
       "      <td>647.75</td>\n",
       "      <td>35</td>\n",
       "    </tr>\n",
       "    <tr>\n",
       "      <th>583108</th>\n",
       "      <td>115199</td>\n",
       "      <td>68.00</td>\n",
       "      <td>4</td>\n",
       "      <td>2</td>\n",
       "      <td>21</td>\n",
       "      <td>88</td>\n",
       "      <td>2</td>\n",
       "      <td>27</td>\n",
       "      <td>1102.50</td>\n",
       "      <td>35</td>\n",
       "    </tr>\n",
       "    <tr>\n",
       "      <th>583089</th>\n",
       "      <td>115199</td>\n",
       "      <td>11.00</td>\n",
       "      <td>1</td>\n",
       "      <td>30</td>\n",
       "      <td>37</td>\n",
       "      <td>88</td>\n",
       "      <td>7</td>\n",
       "      <td>8</td>\n",
       "      <td>469.75</td>\n",
       "      <td>35</td>\n",
       "    </tr>\n",
       "    <tr>\n",
       "      <th>583106</th>\n",
       "      <td>115199</td>\n",
       "      <td>18.00</td>\n",
       "      <td>2</td>\n",
       "      <td>45</td>\n",
       "      <td>21</td>\n",
       "      <td>88</td>\n",
       "      <td>2</td>\n",
       "      <td>25</td>\n",
       "      <td>997.50</td>\n",
       "      <td>35</td>\n",
       "    </tr>\n",
       "    <tr>\n",
       "      <th>583123</th>\n",
       "      <td>115199</td>\n",
       "      <td>84.00</td>\n",
       "      <td>11</td>\n",
       "      <td>3</td>\n",
       "      <td>20</td>\n",
       "      <td>88</td>\n",
       "      <td>2</td>\n",
       "      <td>42</td>\n",
       "      <td>1852.75</td>\n",
       "      <td>35</td>\n",
       "    </tr>\n",
       "    <tr>\n",
       "      <th>583121</th>\n",
       "      <td>115199</td>\n",
       "      <td>37.50</td>\n",
       "      <td>3</td>\n",
       "      <td>20</td>\n",
       "      <td>21</td>\n",
       "      <td>88</td>\n",
       "      <td>2</td>\n",
       "      <td>40</td>\n",
       "      <td>1713.75</td>\n",
       "      <td>35</td>\n",
       "    </tr>\n",
       "    <tr>\n",
       "      <th>583095</th>\n",
       "      <td>115199</td>\n",
       "      <td>13.00</td>\n",
       "      <td>3</td>\n",
       "      <td>8</td>\n",
       "      <td>27</td>\n",
       "      <td>88</td>\n",
       "      <td>4</td>\n",
       "      <td>14</td>\n",
       "      <td>559.75</td>\n",
       "      <td>35</td>\n",
       "    </tr>\n",
       "    <tr>\n",
       "      <th>583082</th>\n",
       "      <td>115199</td>\n",
       "      <td>23.00</td>\n",
       "      <td>3</td>\n",
       "      <td>88</td>\n",
       "      <td>88</td>\n",
       "      <td>88</td>\n",
       "      <td>88</td>\n",
       "      <td>1</td>\n",
       "      <td>23.00</td>\n",
       "      <td>35</td>\n",
       "    </tr>\n",
       "    <tr>\n",
       "      <th>583110</th>\n",
       "      <td>115199</td>\n",
       "      <td>41.00</td>\n",
       "      <td>4</td>\n",
       "      <td>21</td>\n",
       "      <td>21</td>\n",
       "      <td>88</td>\n",
       "      <td>2</td>\n",
       "      <td>29</td>\n",
       "      <td>1212.50</td>\n",
       "      <td>35</td>\n",
       "    </tr>\n",
       "  </tbody>\n",
       "</table>\n",
       "</div>"
      ],
      "text/plain": [
       "        CUSTOMER_ID  ORDER_TOTAL  TOTAL_QUANTITY  DAYS_SINCE_PRIOR_ORDER  \\\n",
       "583117       115199       104.00               6                      18   \n",
       "583115       115199        34.50               2                      32   \n",
       "583125       115199        71.00               5                      16   \n",
       "583133       115199       186.00              11                      12   \n",
       "583112       115199        71.00               8                      40   \n",
       "583093       115199        11.00               1                       6   \n",
       "583107       115199        37.00               3                      36   \n",
       "583104       115199        42.00               8                       3   \n",
       "583111       115199        33.00               3                      21   \n",
       "583124       115199         8.00               1                      11   \n",
       "583099       115199        56.75               5                       3   \n",
       "583094       115199        11.00               1                      17   \n",
       "583131       115199        35.00               4                      18   \n",
       "583087       115199        42.00               4                      18   \n",
       "583118       115199        54.75               4                      22   \n",
       "583092       115199        36.00               4                      36   \n",
       "583103       115199        36.00               4                       2   \n",
       "583083       115199       147.00              11                       7   \n",
       "583114       115199         6.00               1                       6   \n",
       "583086       115199       105.50               7                      71   \n",
       "583126       115199        26.00               2                      16   \n",
       "583097       115199        22.00               2                      10   \n",
       "583120       115199         9.00               1                      12   \n",
       "583127       115199        61.50               6                      14   \n",
       "583129       115199        55.00               5                       1   \n",
       "583113       115199       112.50               9                       5   \n",
       "583090       115199        13.00               1                       4   \n",
       "583098       115199        80.00               8                      31   \n",
       "583084       115199        68.00               7                      37   \n",
       "583096       115199        88.00              11                      12   \n",
       "583108       115199        68.00               4                       2   \n",
       "583089       115199        11.00               1                      30   \n",
       "583106       115199        18.00               2                      45   \n",
       "583123       115199        84.00              11                       3   \n",
       "583121       115199        37.50               3                      20   \n",
       "583095       115199        13.00               3                       8   \n",
       "583082       115199        23.00               3                      88   \n",
       "583110       115199        41.00               4                      21   \n",
       "\n",
       "        AVG_DAYS_BETWEEN_PURCHASES  MAX_DAYS_WITHOUT_ITEM  \\\n",
       "583117                          20                     88   \n",
       "583115                          21                     88   \n",
       "583125                          20                     88   \n",
       "583133                          19                     88   \n",
       "583112                          22                     88   \n",
       "583093                          29                     88   \n",
       "583107                          22                     88   \n",
       "583104                          20                     88   \n",
       "583111                          21                     88   \n",
       "583124                          20                     88   \n",
       "583099                          24                     88   \n",
       "583094                          28                     88   \n",
       "583131                          19                     88   \n",
       "583087                          39                     88   \n",
       "583118                          20                     88   \n",
       "583092                          32                     88   \n",
       "583103                          21                     88   \n",
       "583083                          48                     88   \n",
       "583114                          21                     88   \n",
       "583086                          43                     88   \n",
       "583126                          20                     88   \n",
       "583097                          25                     88   \n",
       "583120                          21                     88   \n",
       "583127                          20                     88   \n",
       "583129                          19                     88   \n",
       "583113                          21                     88   \n",
       "583090                          33                     88   \n",
       "583098                          25                     88   \n",
       "583084                          44                     88   \n",
       "583096                          26                     88   \n",
       "583108                          21                     88   \n",
       "583089                          37                     88   \n",
       "583106                          21                     88   \n",
       "583123                          20                     88   \n",
       "583121                          21                     88   \n",
       "583095                          27                     88   \n",
       "583082                          88                     88   \n",
       "583110                          21                     88   \n",
       "\n",
       "        MIN_DAYS_WITHOUT_ITEM  FREQUENCY  MONETARYVALUE  AGE  \n",
       "583117                      2         36        1587.50   35  \n",
       "583115                      2         34        1469.50   35  \n",
       "583125                      2         44        1931.75   35  \n",
       "583133                      1         52        2375.25   35  \n",
       "583112                      2         31        1316.50   35  \n",
       "583093                      4         12         535.75   35  \n",
       "583107                      2         26        1034.50   35  \n",
       "583104                      2         23         932.50   35  \n",
       "583111                      2         30        1245.50   35  \n",
       "583124                      2         43        1860.75   35  \n",
       "583099                      3         18         806.50   35  \n",
       "583094                      4         13         546.75   35  \n",
       "583131                      1         50        2183.25   35  \n",
       "583087                      7          6         437.25   35  \n",
       "583118                      2         37        1642.25   35  \n",
       "583092                      4         11         524.75   35  \n",
       "583103                      2         22         890.50   35  \n",
       "583083                      7          2         170.00   35  \n",
       "583114                      2         33        1435.00   35  \n",
       "583086                      7          5         395.25   35  \n",
       "583126                      2         45        1957.75   35  \n",
       "583097                      4         16         669.75   35  \n",
       "583120                      2         39        1676.25   35  \n",
       "583127                      2         46        2019.25   35  \n",
       "583129                      1         48        2118.25   35  \n",
       "583113                      2         32        1429.00   35  \n",
       "583090                      4          9         482.75   35  \n",
       "583098                      4         17         749.75   35  \n",
       "583084                      7          3         238.00   35  \n",
       "583096                      4         15         647.75   35  \n",
       "583108                      2         27        1102.50   35  \n",
       "583089                      7          8         469.75   35  \n",
       "583106                      2         25         997.50   35  \n",
       "583123                      2         42        1852.75   35  \n",
       "583121                      2         40        1713.75   35  \n",
       "583095                      4         14         559.75   35  \n",
       "583082                     88          1          23.00   35  \n",
       "583110                      2         29        1212.50   35  "
      ]
     },
     "execution_count": 308,
     "metadata": {},
     "output_type": "execute_result"
    }
   ],
   "source": [
    "X_train[X_train['CUSTOMER_ID']==115199]"
   ]
  },
  {
   "attachments": {},
   "cell_type": "markdown",
   "id": "833da25a",
   "metadata": {},
   "source": [
    "# Model Training"
   ]
  },
  {
   "cell_type": "code",
   "execution_count": null,
   "id": "45b26b4e",
   "metadata": {},
   "outputs": [],
   "source": [
    "from xgboost import XGBClassifier\n",
    "from sklearn.neural_network import MLPClassifier"
   ]
  },
  {
   "cell_type": "code",
   "execution_count": null,
   "id": "9e0a68dc",
   "metadata": {},
   "outputs": [
    {
     "data": {
      "text/html": [
       "<style>#sk-container-id-7 {color: black;background-color: white;}#sk-container-id-7 pre{padding: 0;}#sk-container-id-7 div.sk-toggleable {background-color: white;}#sk-container-id-7 label.sk-toggleable__label {cursor: pointer;display: block;width: 100%;margin-bottom: 0;padding: 0.3em;box-sizing: border-box;text-align: center;}#sk-container-id-7 label.sk-toggleable__label-arrow:before {content: \"▸\";float: left;margin-right: 0.25em;color: #696969;}#sk-container-id-7 label.sk-toggleable__label-arrow:hover:before {color: black;}#sk-container-id-7 div.sk-estimator:hover label.sk-toggleable__label-arrow:before {color: black;}#sk-container-id-7 div.sk-toggleable__content {max-height: 0;max-width: 0;overflow: hidden;text-align: left;background-color: #f0f8ff;}#sk-container-id-7 div.sk-toggleable__content pre {margin: 0.2em;color: black;border-radius: 0.25em;background-color: #f0f8ff;}#sk-container-id-7 input.sk-toggleable__control:checked~div.sk-toggleable__content {max-height: 200px;max-width: 100%;overflow: auto;}#sk-container-id-7 input.sk-toggleable__control:checked~label.sk-toggleable__label-arrow:before {content: \"▾\";}#sk-container-id-7 div.sk-estimator input.sk-toggleable__control:checked~label.sk-toggleable__label {background-color: #d4ebff;}#sk-container-id-7 div.sk-label input.sk-toggleable__control:checked~label.sk-toggleable__label {background-color: #d4ebff;}#sk-container-id-7 input.sk-hidden--visually {border: 0;clip: rect(1px 1px 1px 1px);clip: rect(1px, 1px, 1px, 1px);height: 1px;margin: -1px;overflow: hidden;padding: 0;position: absolute;width: 1px;}#sk-container-id-7 div.sk-estimator {font-family: monospace;background-color: #f0f8ff;border: 1px dotted black;border-radius: 0.25em;box-sizing: border-box;margin-bottom: 0.5em;}#sk-container-id-7 div.sk-estimator:hover {background-color: #d4ebff;}#sk-container-id-7 div.sk-parallel-item::after {content: \"\";width: 100%;border-bottom: 1px solid gray;flex-grow: 1;}#sk-container-id-7 div.sk-label:hover label.sk-toggleable__label {background-color: #d4ebff;}#sk-container-id-7 div.sk-serial::before {content: \"\";position: absolute;border-left: 1px solid gray;box-sizing: border-box;top: 0;bottom: 0;left: 50%;z-index: 0;}#sk-container-id-7 div.sk-serial {display: flex;flex-direction: column;align-items: center;background-color: white;padding-right: 0.2em;padding-left: 0.2em;position: relative;}#sk-container-id-7 div.sk-item {position: relative;z-index: 1;}#sk-container-id-7 div.sk-parallel {display: flex;align-items: stretch;justify-content: center;background-color: white;position: relative;}#sk-container-id-7 div.sk-item::before, #sk-container-id-7 div.sk-parallel-item::before {content: \"\";position: absolute;border-left: 1px solid gray;box-sizing: border-box;top: 0;bottom: 0;left: 50%;z-index: -1;}#sk-container-id-7 div.sk-parallel-item {display: flex;flex-direction: column;z-index: 1;position: relative;background-color: white;}#sk-container-id-7 div.sk-parallel-item:first-child::after {align-self: flex-end;width: 50%;}#sk-container-id-7 div.sk-parallel-item:last-child::after {align-self: flex-start;width: 50%;}#sk-container-id-7 div.sk-parallel-item:only-child::after {width: 0;}#sk-container-id-7 div.sk-dashed-wrapped {border: 1px dashed gray;margin: 0 0.4em 0.5em 0.4em;box-sizing: border-box;padding-bottom: 0.4em;background-color: white;}#sk-container-id-7 div.sk-label label {font-family: monospace;font-weight: bold;display: inline-block;line-height: 1.2em;}#sk-container-id-7 div.sk-label-container {text-align: center;}#sk-container-id-7 div.sk-container {/* jupyter's `normalize.less` sets `[hidden] { display: none; }` but bootstrap.min.css set `[hidden] { display: none !important; }` so we also need the `!important` here to be able to override the default hidden behavior on the sphinx rendered scikit-learn.org. See: https://github.com/scikit-learn/scikit-learn/issues/21755 */display: inline-block !important;position: relative;}#sk-container-id-7 div.sk-text-repr-fallback {display: none;}</style><div id=\"sk-container-id-7\" class=\"sk-top-container\"><div class=\"sk-text-repr-fallback\"><pre>XGBClassifier(base_score=None, booster=None, callbacks=None,\n",
       "              colsample_bylevel=None, colsample_bynode=None,\n",
       "              colsample_bytree=None, early_stopping_rounds=None,\n",
       "              enable_categorical=False, eval_metric=&#x27;logloss&#x27;,\n",
       "              feature_types=None, gamma=None, gpu_id=None, grow_policy=None,\n",
       "              importance_type=None, interaction_constraints=None,\n",
       "              learning_rate=0.1, max_bin=None, max_cat_threshold=None,\n",
       "              max_cat_to_onehot=None, max_delta_step=None, max_depth=None,\n",
       "              max_leaves=None, min_child_weight=None, missing=nan,\n",
       "              monotone_constraints=None, n_estimators=20, n_jobs=None,\n",
       "              num_parallel_tree=None, objective=&#x27;multi:softprob&#x27;,\n",
       "              predictor=None, ...)</pre><b>In a Jupyter environment, please rerun this cell to show the HTML representation or trust the notebook. <br />On GitHub, the HTML representation is unable to render, please try loading this page with nbviewer.org.</b></div><div class=\"sk-container\" hidden><div class=\"sk-item\"><div class=\"sk-estimator sk-toggleable\"><input class=\"sk-toggleable__control sk-hidden--visually\" id=\"sk-estimator-id-7\" type=\"checkbox\" checked><label for=\"sk-estimator-id-7\" class=\"sk-toggleable__label sk-toggleable__label-arrow\">XGBClassifier</label><div class=\"sk-toggleable__content\"><pre>XGBClassifier(base_score=None, booster=None, callbacks=None,\n",
       "              colsample_bylevel=None, colsample_bynode=None,\n",
       "              colsample_bytree=None, early_stopping_rounds=None,\n",
       "              enable_categorical=False, eval_metric=&#x27;logloss&#x27;,\n",
       "              feature_types=None, gamma=None, gpu_id=None, grow_policy=None,\n",
       "              importance_type=None, interaction_constraints=None,\n",
       "              learning_rate=0.1, max_bin=None, max_cat_threshold=None,\n",
       "              max_cat_to_onehot=None, max_delta_step=None, max_depth=None,\n",
       "              max_leaves=None, min_child_weight=None, missing=nan,\n",
       "              monotone_constraints=None, n_estimators=20, n_jobs=None,\n",
       "              num_parallel_tree=None, objective=&#x27;multi:softprob&#x27;,\n",
       "              predictor=None, ...)</pre></div></div></div></div></div>"
      ],
      "text/plain": [
       "XGBClassifier(base_score=None, booster=None, callbacks=None,\n",
       "              colsample_bylevel=None, colsample_bynode=None,\n",
       "              colsample_bytree=None, early_stopping_rounds=None,\n",
       "              enable_categorical=False, eval_metric='logloss',\n",
       "              feature_types=None, gamma=None, gpu_id=None, grow_policy=None,\n",
       "              importance_type=None, interaction_constraints=None,\n",
       "              learning_rate=0.1, max_bin=None, max_cat_threshold=None,\n",
       "              max_cat_to_onehot=None, max_delta_step=None, max_depth=None,\n",
       "              max_leaves=None, min_child_weight=None, missing=nan,\n",
       "              monotone_constraints=None, n_estimators=20, n_jobs=None,\n",
       "              num_parallel_tree=None, objective='multi:softprob',\n",
       "              predictor=None, ...)"
      ]
     },
     "execution_count": 311,
     "metadata": {},
     "output_type": "execute_result"
    }
   ],
   "source": [
    "#Build XGBoost Model\n",
    "xgb = XGBClassifier(n_estimators = 20, learning_rate = 0.1, eval_metric='logloss')\n",
    "xgb.fit(X_train, y_train)"
   ]
  },
  {
   "cell_type": "code",
   "execution_count": null,
   "id": "f5fa9b0f",
   "metadata": {},
   "outputs": [],
   "source": [
    "#Function to show MSE, MAE, r-sq of Classification models\n",
    "def evaluateClassificationModelPerformance(model):\n",
    "    #Accuracy\n",
    "    print('Train Accuracy:',model.score(X_train, y_train),\n",
    "          '\\nTest Accuracy:',model.score(X_test, y_test))"
   ]
  },
  {
   "cell_type": "code",
   "execution_count": null,
   "id": "fa33c7c4",
   "metadata": {},
   "outputs": [
    {
     "name": "stdout",
     "output_type": "stream",
     "text": [
      "Train Accuracy: 0.911842700267414 \n",
      "Test Accuracy: 0.9119764483156898\n"
     ]
    }
   ],
   "source": [
    "#Evaluate XGBoost Model\n",
    "evaluateClassificationModelPerformance(xgb)"
   ]
  },
  {
   "cell_type": "code",
   "execution_count": null,
   "id": "74026038",
   "metadata": {},
   "outputs": [
    {
     "data": {
      "text/html": [
       "<div>\n",
       "<style scoped>\n",
       "    .dataframe tbody tr th:only-of-type {\n",
       "        vertical-align: middle;\n",
       "    }\n",
       "\n",
       "    .dataframe tbody tr th {\n",
       "        vertical-align: top;\n",
       "    }\n",
       "\n",
       "    .dataframe thead th {\n",
       "        text-align: right;\n",
       "    }\n",
       "</style>\n",
       "<table border=\"1\" class=\"dataframe\">\n",
       "  <thead>\n",
       "    <tr style=\"text-align: right;\">\n",
       "      <th></th>\n",
       "      <th>is_promoted</th>\n",
       "    </tr>\n",
       "  </thead>\n",
       "  <tbody>\n",
       "    <tr>\n",
       "      <th>FREQUENCY</th>\n",
       "      <td>0.812780</td>\n",
       "    </tr>\n",
       "    <tr>\n",
       "      <th>AVG_DAYS_BETWEEN_PURCHASES</th>\n",
       "      <td>0.070948</td>\n",
       "    </tr>\n",
       "    <tr>\n",
       "      <th>MAX_DAYS_WITHOUT_ITEM</th>\n",
       "      <td>0.036107</td>\n",
       "    </tr>\n",
       "    <tr>\n",
       "      <th>DAYS_SINCE_PRIOR_ORDER</th>\n",
       "      <td>0.014956</td>\n",
       "    </tr>\n",
       "    <tr>\n",
       "      <th>CUSTOMER_ID</th>\n",
       "      <td>0.013351</td>\n",
       "    </tr>\n",
       "    <tr>\n",
       "      <th>AGE</th>\n",
       "      <td>0.012764</td>\n",
       "    </tr>\n",
       "    <tr>\n",
       "      <th>ORDER_TOTAL</th>\n",
       "      <td>0.010782</td>\n",
       "    </tr>\n",
       "    <tr>\n",
       "      <th>MIN_DAYS_WITHOUT_ITEM</th>\n",
       "      <td>0.010632</td>\n",
       "    </tr>\n",
       "    <tr>\n",
       "      <th>MONETARYVALUE</th>\n",
       "      <td>0.009954</td>\n",
       "    </tr>\n",
       "    <tr>\n",
       "      <th>TOTAL_QUANTITY</th>\n",
       "      <td>0.007726</td>\n",
       "    </tr>\n",
       "  </tbody>\n",
       "</table>\n",
       "</div>"
      ],
      "text/plain": [
       "                            is_promoted\n",
       "FREQUENCY                      0.812780\n",
       "AVG_DAYS_BETWEEN_PURCHASES     0.070948\n",
       "MAX_DAYS_WITHOUT_ITEM          0.036107\n",
       "DAYS_SINCE_PRIOR_ORDER         0.014956\n",
       "CUSTOMER_ID                    0.013351\n",
       "AGE                            0.012764\n",
       "ORDER_TOTAL                    0.010782\n",
       "MIN_DAYS_WITHOUT_ITEM          0.010632\n",
       "MONETARYVALUE                  0.009954\n",
       "TOTAL_QUANTITY                 0.007726"
      ]
     },
     "execution_count": 283,
     "metadata": {},
     "output_type": "execute_result"
    }
   ],
   "source": [
    "#Check top 10 features based on feature importance\n",
    "ft_weights_xgb_clf = pd.DataFrame(xgb.feature_importances_, columns=['is_promoted'], index=X_train.columns)\n",
    "ft_weights_xgb_clf.sort_values('is_promoted', ascending=False, inplace=True)\n",
    "ft_weights_xgb_clf.tail(100)"
   ]
  },
  {
   "cell_type": "code",
   "execution_count": null,
   "id": "54d8f776",
   "metadata": {},
   "outputs": [],
   "source": []
  },
  {
   "attachments": {},
   "cell_type": "markdown",
   "id": "6958b53f",
   "metadata": {},
   "source": [
    "# Model Deployment"
   ]
  },
  {
   "cell_type": "code",
   "execution_count": null,
   "id": "6b7b6a1b",
   "metadata": {},
   "outputs": [],
   "source": []
  },
  {
   "attachments": {},
   "cell_type": "markdown",
   "id": "390ed8ec",
   "metadata": {},
   "source": [
    "# Model Utilization"
   ]
  },
  {
   "cell_type": "code",
   "execution_count": null,
   "id": "ed0b1579",
   "metadata": {},
   "outputs": [],
   "source": []
  },
  {
   "attachments": {},
   "cell_type": "markdown",
   "id": "3b888389",
   "metadata": {},
   "source": [
    "# Reset\n",
    "We will run the following cell to remove the objects from Snowflake that we created in this notebook. Dropping our stage will remove the model file. We will also close our Snowflake session.<br>"
   ]
  },
  {
   "cell_type": "code",
   "execution_count": 44,
   "id": "9edf53df",
   "metadata": {},
   "outputs": [
    {
     "data": {
      "text/plain": [
       "'# Drop training table\\nsession.sql(\"DROP TABLE IF EXISTS frostbyte_tasty_bytes.analytics.shift_sales_train\").collect()\\n\\n# Drop testing table\\nsession.sql(\"DROP TABLE IF EXISTS frostbyte_tasty_bytes.analytics.shift_sales_test\").collect()\\n\\n# Drop training stored procedure\\nsession.sql(\"DROP PROCEDURE IF EXISTS sproc_train_linreg(varchar, array, varchar, varchar)\").collect()\\n\\n# Drop inference user-defined function\\nsession.sql(\\n    \"DROP FUNCTION IF EXISTS udf_linreg_predict_location_sales(float, float, float, float, float, float, float, float)\"\\n).collect()\\n\\n# Drop stage\\nsession.sql(\"DROP STAGE IF EXISTS model_stage\").collect()\\n\\n# Scale down compute\\nsession.sql(\"ALTER WAREHOUSE tasty_ds_wh SET WAREHOUSE_SIZE = XSMALL\").collect()\\n\\n# Close the session\\nsession.close()'"
      ]
     },
     "execution_count": 44,
     "metadata": {},
     "output_type": "execute_result"
    }
   ],
   "source": [
    "\"\"\"# Drop training table\n",
    "session.sql(\"DROP TABLE IF EXISTS frostbyte_tasty_bytes.analytics.shift_sales_train\").collect()\n",
    "\n",
    "# Drop testing table\n",
    "session.sql(\"DROP TABLE IF EXISTS frostbyte_tasty_bytes.analytics.shift_sales_test\").collect()\n",
    "\n",
    "# Drop training stored procedure\n",
    "session.sql(\"DROP PROCEDURE IF EXISTS sproc_train_linreg(varchar, array, varchar, varchar)\").collect()\n",
    "\n",
    "# Drop inference user-defined function\n",
    "session.sql(\n",
    "    \"DROP FUNCTION IF EXISTS udf_linreg_predict_location_sales(float, float, float, float, float, float, float, float)\"\n",
    ").collect()\n",
    "\n",
    "# Drop stage\n",
    "session.sql(\"DROP STAGE IF EXISTS model_stage\").collect()\n",
    "\n",
    "# Scale down compute\n",
    "session.sql(\"ALTER WAREHOUSE tasty_ds_wh SET WAREHOUSE_SIZE = XSMALL\").collect()\n",
    "\n",
    "# Close the session\n",
    "session.close()\"\"\""
   ]
  }
 ],
 "metadata": {
  "kernelspec": {
   "display_name": "py38_env",
   "language": "python",
   "name": "python3"
  },
  "language_info": {
   "codemirror_mode": {
    "name": "ipython",
    "version": 3
   },
   "file_extension": ".py",
   "mimetype": "text/x-python",
   "name": "python",
   "nbconvert_exporter": "python",
   "pygments_lexer": "ipython3",
   "version": "3.8.16"
  }
 },
 "nbformat": 4,
 "nbformat_minor": 5
}
