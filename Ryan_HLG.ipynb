{
 "cells": [
  {
   "attachments": {},
   "cell_type": "markdown",
   "id": "0f547ef0",
   "metadata": {},
   "source": [
    "# 1. Setup"
   ]
  },
  {
   "attachments": {},
   "cell_type": "markdown",
   "id": "9f8d1940",
   "metadata": {},
   "source": [
    "## 1.1 Import Packages"
   ]
  },
  {
   "cell_type": "code",
   "execution_count": 1,
   "id": "2b76a42a",
   "metadata": {},
   "outputs": [],
   "source": [
    "#Import Python packages\n",
    "import pandas as pd\n",
    "import json\n",
    "import matplotlib.pyplot as plt\n",
    "import seaborn as sns\n",
    "import json\n",
    "import datetime\n",
    "import numpy as np\n",
    "from matplotlib.gridspec import GridSpec\n",
    "import matplotlib.cm as cm\n",
    "import matplotlib.colors as mcolors\n",
    "\n",
    "# for splitting of the dataset\n",
    "from sklearn.model_selection import train_test_split\n",
    "\n",
    "# for encoding/transforming the data\n",
    "from feature_engine.encoding import OneHotEncoder\n",
    "from feature_engine.encoding import RareLabelEncoder\n",
    "from feature_engine.outliers import Winsorizer\n",
    "from feature_engine.transformation import YeoJohnsonTransformer\n",
    "from sklearn.preprocessing import MinMaxScaler\n",
    "\n",
    "#ML-Models: Classification\n",
    "from xgboost import XGBClassifier\n",
    "from sklearn import tree\n",
    "from sklearn.linear_model import LogisticRegression\n",
    "from sklearn. ensemble import RandomForestClassifier\n",
    "from sklearn.tree import DecisionTreeClassifier\n",
    "from sklearn. ensemble import AdaBoostClassifier\n",
    "\n",
    "#Building clustering model\n",
    "from sklearn.cluster import KMeans \n",
    "\n",
    "# for getting metrics\n",
    "from sklearn.metrics import classification_report\n",
    "from sklearn.metrics import silhouette_score,silhouette_samples\n",
    "\n",
    "# model selection\n",
    "from sklearn.model_selection import GridSearchCV\n",
    "\n",
    "# Import Snowflake modules\n",
    "from snowflake.snowpark import Session\n",
    "import snowflake.snowpark.functions as F\n",
    "import snowflake.snowpark.types as T\n",
    "from snowflake.snowpark import Window\n",
    "# Define a simple scoring function\n",
    "from cachetools import cached"
   ]
  },
  {
   "attachments": {},
   "cell_type": "markdown",
   "id": "c689510f",
   "metadata": {},
   "source": [
    "## 1.2 Connect to Snowflake"
   ]
  },
  {
   "cell_type": "code",
   "execution_count": 2,
   "id": "9140d4bb",
   "metadata": {},
   "outputs": [],
   "source": [
    "# Get account credentials from a json file\n",
    "with open(\"data_scientist_auth.json\") as f:\n",
    "    data = json.load(f)\n",
    "    username = data[\"username\"]\n",
    "    password = data[\"password\"]\n",
    "    account = data[\"account\"]\n",
    "\n",
    "# Specify connection parameters\n",
    "connection_parameters = {\n",
    "    \"account\": account,\n",
    "    \"user\": username,\n",
    "    \"password\": password,\n",
    "    \"role\": \"TASTY_BI\",\n",
    "    \"warehouse\": \"TASTY_BI_WH\",\n",
    "    \"database\": \"frostbyte_tasty_bytes\",\n",
    "    \"schema\": \"analytics\",\n",
    "}\n",
    "\n",
    "# Create Snowpark session\n",
    "session = Session.builder.configs(connection_parameters).create()"
   ]
  },
  {
   "cell_type": "code",
   "execution_count": 3,
   "id": "113c796d",
   "metadata": {},
   "outputs": [
    {
     "data": {
      "text/plain": [
       "[Row(status='Statement executed successfully.')]"
      ]
     },
     "execution_count": 3,
     "metadata": {},
     "output_type": "execute_result"
    }
   ],
   "source": [
    "session.sql(\"ALTER WAREHOUSE TASTY_BI_WH SET WAREHOUSE_SIZE = MEDIUM\").collect()"
   ]
  },
  {
   "attachments": {},
   "cell_type": "markdown",
   "id": "c3d02814",
   "metadata": {},
   "source": [
    "## 1.3 Gathering Data as Snowpark DataFrame"
   ]
  },
  {
   "cell_type": "code",
   "execution_count": 4,
   "id": "9f5810e2",
   "metadata": {},
   "outputs": [],
   "source": [
    "# Orders_V\n",
    "# contains orders, trucks, shift information\n",
    "tasty_bytes_orders_v = session.table(\"frostbyte_tasty_bytes.analytics.orders_v\")\n",
    "# Customer Loyalty\n",
    "# contains information on signed up members\n",
    "tasty_bytes_customer_loyalty = session.table(\"frostbyte_tasty_bytes.raw_customer.customer_loyalty\")\n",
    "\n",
    "locations= session.table(\"frostbyte_tasty_bytes.raw_pos.location\")\n",
    "\n",
    "menu= session.table(\"frostbyte_tasty_bytes.raw_pos.menu\")\n",
    "#Sentiment_Survey_ds\n",
    "# contains NPS score\n",
    "SENTIMENT_DATA = session.table(\"ngee_ann_polytechnic_frostbyte_data_share.raw_survey.sentiment_survey_ds\")\n",
    "# Truck information data\n",
    "TRUCK_DATA = session.table(\"NGEE_ANN_POLYTECHNIC_FROSTBYTE_DATA_SHARE.raw_pos.truck\")\n",
    "# Comparison Data\n",
    "NPS_COMPARE = session.table(\"NPS_COMPARE\")"
   ]
  },
  {
   "attachments": {},
   "cell_type": "markdown",
   "id": "461b0173",
   "metadata": {},
   "source": [
    "# 2. Data Exploration "
   ]
  },
  {
   "attachments": {},
   "cell_type": "markdown",
   "id": "bde7f4bf",
   "metadata": {},
   "source": [
    "## 2.0 Model Value Towards Tasty Byte KPI"
   ]
  },
  {
   "attachments": {},
   "cell_type": "markdown",
   "id": "924e1d21",
   "metadata": {},
   "source": [
    "### 2.0.1 Define function - Remove Duplicate Columns from Joins"
   ]
  },
  {
   "cell_type": "code",
   "execution_count": 5,
   "id": "ce2a15cb",
   "metadata": {},
   "outputs": [],
   "source": [
    "#Function to remove and rename columns after inner join\n",
    "def remove_dup_join_col(df):\n",
    "    # capitalise all columns\n",
    "    for col in df.columns:\n",
    "        df = df.withColumnRenamed(col, col.upper())\n",
    "    \n",
    "    # get list of renamable columns for left and right join\n",
    "    left_dup_col = [col_name for col_name in df.columns if col_name.startswith('L_')]\n",
    "    right_dup_col = [col_name for col_name in df.columns if col_name.startswith('R_')]\n",
    "    old_columns = df.columns\n",
    "    \n",
    "    # rename the list with the most number of renamable columns\n",
    "    # drop the list of columns with less number of renamable columns\n",
    "    if len(left_dup_col)>len(right_dup_col):\n",
    "        columns_rename=left_dup_col\n",
    "        df= df.drop(*right_dup_col)\n",
    "    else:\n",
    "        columns_rename=right_dup_col\n",
    "        df= df.drop(*left_dup_col)\n",
    "    \n",
    "    for old_column in old_columns:\n",
    "        if old_column in columns_rename:\n",
    "            # get string to remove\n",
    "            string_to_replace = columns_rename[0][:7]\n",
    "            # replace starting string\n",
    "            new_column = old_column.replace(string_to_replace, \"\")\n",
    "            df = df.withColumnRenamed(old_column, new_column)\n",
    "    \n",
    "    return df"
   ]
  },
  {
   "attachments": {},
   "cell_type": "markdown",
   "id": "d0af527d",
   "metadata": {},
   "source": [
    "### 2.0.2 Model Value Towards Tasty Byte KPI\n",
    "\n",
    "The initial objectives of the model is to work towards improving two main KPI's. This section includes information regarding the correlation of identifying customer churn (or in the case of this stage, days to next order).\n",
    "\n",
    "The idea behind our model is that by identifying when customers will churn the marketing team can take steps to carry out targeted marketing to be able to prevent that and in turn improve NPS score and Sales YOY"
   ]
  },
  {
   "cell_type": "code",
   "execution_count": 6,
   "id": "222c32c2",
   "metadata": {},
   "outputs": [],
   "source": [
    "# # gather NPS required columns to analyse\n",
    "# SENTIMENT = TRUCK_DATA.join(SENTIMENT_DATA, SENTIMENT_DATA[\"TRUCK_ID\"] == TRUCK_DATA[\"TRUCK_ID\"], \"inner\")\n",
    "\n",
    "# SENTIMENT2 = SENTIMENT.dropna()\n",
    "\n",
    "# # setting up NPS Score by year, month and specific year months to compare\n",
    "# AVG_NPS_SCORE = SENTIMENT2.with_column(\"YEAR\", F.year(\"SURVEY_TS\"))\n",
    "# AVG_NPS_SCORE = AVG_NPS_SCORE.with_column(\"MONTH\", F.month(\"SURVEY_TS\"))\n",
    "# AVG_NPS_SCORE = AVG_NPS_SCORE.with_column(\"YEAR_MONTH\", F.concat(F.col(\"YEAR\"), F.col(\"MONTH\")))\n",
    "\n",
    "# AVG_NPS_SCORE_YEAR = AVG_NPS_SCORE.groupBy(F.col(\"YEAR\")).agg(F.avg(\"NPS_SCORE\"))\n",
    "# AVG_NPS_SCORE_MONTH = AVG_NPS_SCORE.groupBy(F.col(\"MONTH\")).agg(F.avg(\"NPS_SCORE\"))\n",
    "# AVG_NPS_SCORE_YM = AVG_NPS_SCORE.groupBy(F.col(\"YEAR\"), F.col(\"MONTH\")).agg(F.avg(\"NPS_SCORE\"))\n",
    "\n",
    "# # setting up comparison table (i.e. DTNO to KPI)\n",
    "# NPS_COMPARE = NPS_COMPARE.with_column(\"YEAR\", F.year(\"DATE\"))\n",
    "# NPS_COMPARE = NPS_COMPARE.with_column(\"MONTH\", F.month(\"DATE\"))\n",
    "# NPS_COMPARE = NPS_COMPARE.with_column(\"YEAR_MONTH\", F.concat(F.col(\"YEAR\"), F.col(\"MONTH\")))\n",
    "\n",
    "# AVG_DTNO_YEAR = NPS_COMPARE.groupBy(F.col(\"YEAR\")).agg(F.avg('\"DAYS_TO_NEXT_ORDER\"'))\n",
    "# AVG_DTNO_MONTH = NPS_COMPARE.groupBy(F.col(\"MONTH\")).agg(F.avg('\"DAYS_TO_NEXT_ORDER\"'))\n",
    "# AVG_DTNO_YM = NPS_COMPARE.groupBy(F.col(\"YEAR\"),F.col(\"MONTH\")).agg(F.avg('\"DAYS_TO_NEXT_ORDER\"'))\n",
    "\n",
    "# AVG_SALES_YM = NPS_COMPARE.groupBy(F.col(\"YEAR\"),F.col(\"MONTH\")).agg(F.avg('\"ORDER_TOTAL\"'))\n",
    "# SUM_SALES_YM = NPS_COMPARE.groupBy(F.col(\"YEAR\"),F.col(\"MONTH\")).agg(F.sum('\"ORDER_TOTAL\"'))"
   ]
  },
  {
   "attachments": {},
   "cell_type": "markdown",
   "id": "e0520c0a",
   "metadata": {},
   "source": [
    "Here we are comparing the average days to next order, which is what our model is predicting for in terms of the churn value, with the average net promoter score of the respective year. We can see that there exists a correlation that does not fit what we had set out to achieve.\n",
    "\n",
    "There is a positive correlation between the two values across the years and that is reflected as well when taking a look at the month and year month levels (Which is not shown in the jupyter notebook).\n",
    "\n",
    "It is expected that the two values do not have the correlation that we were looking for and hence we will be dropping the NPS as our target for this model due to this finding."
   ]
  },
  {
   "cell_type": "code",
   "execution_count": 7,
   "id": "34fa9766",
   "metadata": {},
   "outputs": [],
   "source": [
    "# # comparing the NPS with the DTNO VALUE\n",
    "# DTNO_TO_NPS_YEAR = AVG_DTNO_YEAR.join(AVG_NPS_SCORE_YEAR, AVG_DTNO_YEAR[\"YEAR\"] == AVG_NPS_SCORE_YEAR[\"YEAR\"])\n",
    "\n",
    "# SDTNO_TO_NPS_YEAR_LOW_COL = remove_dup_join_col(DTNO_TO_NPS_YEAR)\n",
    "\n",
    "# SDTNO_TO_NPS_YEAR_LOW_COL.show()"
   ]
  },
  {
   "attachments": {},
   "cell_type": "markdown",
   "id": "98e1a9a4",
   "metadata": {},
   "source": [
    "On the other hand we do see that the average days to next orders has a relationship with average sales by month that we can work with.\n",
    "\n",
    "We see that when the average days to next orders increase the total sales within the month decrease, and when average days to next orders decrease the total sales increase this means the customer recursion matters to the revenue.\n",
    "\n",
    "This acts as a proxy value to the KPI of revenue and ties our models output towards achieving company goals. As by taking actions to reduce the days to next order or churn rate down we can maximise our profits through creating loyal customers and encouraging customers to use the service more."
   ]
  },
  {
   "cell_type": "code",
   "execution_count": 8,
   "id": "122f4b82",
   "metadata": {},
   "outputs": [],
   "source": [
    "# SALES_VS_DTNO = SUM_SALES_YM.join(AVG_DTNO_YM, (SUM_SALES_YM[\"YEAR\"] == AVG_DTNO_YM[\"YEAR\"])&(SUM_SALES_YM[\"MONTH\"] == AVG_DTNO_YM[\"MONTH\"]))\n",
    "\n",
    "# SALES_VS_DTNO_LOW_COL = remove_dup_join_col(SALES_VS_DTNO)\n",
    "\n",
    "# SALES_VS_DTNO_LOW_COL.orderBy(F.col('YEAR'),F.col('MONTH').asc()).show()"
   ]
  },
  {
   "attachments": {},
   "cell_type": "markdown",
   "id": "eefed22f",
   "metadata": {},
   "source": [
    "## 2.2 Visualise the Data"
   ]
  },
  {
   "attachments": {},
   "cell_type": "markdown",
   "id": "56d1ecc6",
   "metadata": {},
   "source": [
    "### 2.2.2 Members in Country"
   ]
  },
  {
   "cell_type": "code",
   "execution_count": 9,
   "id": "c7a37387",
   "metadata": {},
   "outputs": [
    {
     "data": {
      "image/png": "[encoded data removed]",
      "text/plain": [
       "<Figure size 640x480 with 1 Axes>"
      ]
     },
     "metadata": {},
     "output_type": "display_data"
    }
   ],
   "source": [
    "# Unique members\n",
    "unique_Members=tasty_bytes_customer_loyalty.group_by(F.col('Country')).count().to_pandas().sort_values(by='COUNT',ascending=False)\n",
    "sns.barplot(x='COUNTRY',y='COUNT',data=unique_Members)\n",
    "plt.xticks(rotation=90)\n",
    "plt.title('Number of Members per Country')\n",
    "plt.show()"
   ]
  },
  {
   "attachments": {},
   "cell_type": "markdown",
   "id": "28de2027",
   "metadata": {},
   "source": [
    "It can be seen that the Unite States has the most number of members of all the countries Tasty Bytes serves. By choosing the United States, we will have the largest possible sample size of members to most closely mimic a global dataset."
   ]
  },
  {
   "attachments": {},
   "cell_type": "markdown",
   "id": "e77e1b47",
   "metadata": {},
   "source": [
    "### 2.2.3 Total number of Transactions"
   ]
  },
  {
   "cell_type": "code",
   "execution_count": 10,
   "id": "38ef8554",
   "metadata": {},
   "outputs": [
    {
     "data": {
      "image/png": "[encoded data removed]",
      "text/plain": [
       "<Figure size 640x480 with 1 Axes>"
      ]
     },
     "metadata": {},
     "output_type": "display_data"
    }
   ],
   "source": [
    "# Number of unique transactions\n",
    "unique_Transactions=tasty_bytes_orders_v.group_by(F.col('COUNTRY')).agg(F.countDistinct('ORDER_ID').alias('COUNT')).to_pandas().sort_values(by='COUNT',ascending=False)\n",
    "sns.barplot(x='COUNTRY',y='COUNT',data=unique_Transactions)\n",
    "plt.xticks(rotation=90)\n",
    "plt.title('Total number of Transactions')\n",
    "plt.show()"
   ]
  },
  {
   "attachments": {},
   "cell_type": "markdown",
   "id": "21c2abae",
   "metadata": {},
   "source": [
    "It can be seen that the United States has the 4th most number of transactions. We are able to get a balance of the number of members with sufficent data on each member from their orders"
   ]
  },
  {
   "attachments": {},
   "cell_type": "markdown",
   "id": "61eb6572",
   "metadata": {},
   "source": [
    "## 2.3 Churn Rate by Country"
   ]
  },
  {
   "attachments": {},
   "cell_type": "markdown",
   "id": "353bc62b",
   "metadata": {},
   "source": [
    "### 2.3.1 Get Churn Cut Off date by Country"
   ]
  },
  {
   "cell_type": "code",
   "execution_count": 11,
   "id": "10b4fddf",
   "metadata": {},
   "outputs": [],
   "source": [
    "#Get last transaction date for each country\n",
    "last_tran_country = tasty_bytes_orders_v.group_by(F.col('COUNTRY')).max(F.to_date(F.col('ORDER_TS'))).to_pandas()\n",
    "\n",
    "#Get assumed churned date which is two weeks before last transaction date, then get total number of customers in the assumed time period\n",
    "last_tran_country['CHURN_DATE']=last_tran_country['MAX(TO_DATE(ORDER_TS))']-datetime.timedelta(days=14)\n",
    "last_tran_country['CUSTOMER_COUNT_DATE']=last_tran_country['MAX(TO_DATE(ORDER_TS))']-datetime.timedelta(days=44)\n",
    "\n",
    "#Make pandas dataframe into a snowpark dataframe\n",
    "last_tran_country_sdf=session.createDataFrame(last_tran_country)\n",
    "\n",
    "#Merge \n",
    "last_tran_country_sdf_join = last_tran_country_sdf.join(\n",
    "    right=tasty_bytes_orders_v,\n",
    "    on=\"COUNTRY\",\n",
    "    how=\"inner\"\n",
    ")"
   ]
  },
  {
   "attachments": {},
   "cell_type": "markdown",
   "id": "93c661c1",
   "metadata": {},
   "source": [
    "We get the churn cut off date by country. This is done by subtracting 14 days from the latest order date, with 14 days being the assumed churn period. These values are compared with the time stamp so that we can identify which customers were active within the time frame and how many left. "
   ]
  },
  {
   "attachments": {},
   "cell_type": "markdown",
   "id": "f4756327",
   "metadata": {},
   "source": [
    "### 2.3.2 Calculate Churn Rate by Country"
   ]
  },
  {
   "cell_type": "code",
   "execution_count": 12,
   "id": "65c811f1",
   "metadata": {},
   "outputs": [],
   "source": [
    "#Filter dataframe to the assumed time period\n",
    "df = last_tran_country_sdf_join[last_tran_country_sdf_join[\"DATE\"] > last_tran_country_sdf_join[\"CUSTOMER_COUNT_DATE\"]]\n",
    "\n",
    "#Filter to get churned members dataset\n",
    "df2 = df[last_tran_country_sdf_join[\"DATE\"] > last_tran_country_sdf_join[\"CHURN_DATE\"]]\n",
    "\n",
    "#Number of customers before churn date\n",
    "cust_bef = df.groupBy(\"COUNTRY\").agg(F.countDistinct(F.col(\"CUSTOMER_ID\")).alias('COUNT_BEF'))\n",
    "#Number of customers after churn date\n",
    "cust_aft = df2.groupBy(\"COUNTRY\").agg(F.countDistinct(F.col(\"CUSTOMER_ID\")).alias('COUNT_AFT'))\n",
    "\n",
    "#Merge\n",
    "calculator = cust_aft.join(\n",
    "    right=cust_bef,\n",
    "    on=\"COUNTRY\",\n",
    "    how=\"inner\"\n",
    ")\n",
    "calc = calculator.to_pandas()\n",
    "\n",
    "#Calculate Churn rate \n",
    "calc[\"CHURN_RATE\"] = (((calc[\"COUNT_BEF\"] - calc[\"COUNT_AFT\"]) / calc[\"COUNT_BEF\"]) * 100)\n",
    "churn_Rate=calc.sort_values(by='CHURN_RATE',ascending=False)"
   ]
  },
  {
   "attachments": {},
   "cell_type": "markdown",
   "id": "0db0c2bf",
   "metadata": {},
   "source": [
    "We calculated the churn rate for each country. This is done by calculating the number of customers at the start and end of churn period. After doing so, the churn rate is grouped by the different countries."
   ]
  },
  {
   "attachments": {},
   "cell_type": "markdown",
   "id": "3b1212ca",
   "metadata": {},
   "source": [
    "### 2.3.3 Visualise Churn Rate"
   ]
  },
  {
   "cell_type": "code",
   "execution_count": 13,
   "id": "7859f70e",
   "metadata": {},
   "outputs": [
    {
     "data": {
      "image/png": "[encoded data removed]",
      "text/plain": [
       "<Figure size 640x480 with 1 Axes>"
      ]
     },
     "metadata": {},
     "output_type": "display_data"
    }
   ],
   "source": [
    "#Churn rate by Country\n",
    "sns.barplot(x='COUNTRY',y='CHURN_RATE',data=churn_Rate)\n",
    "plt.xticks(rotation=90)\n",
    "plt.title('Churn rate by Country')\n",
    "plt.show()"
   ]
  },
  {
   "attachments": {},
   "cell_type": "markdown",
   "id": "c8a3da66",
   "metadata": {},
   "source": [
    "<b>We decided to work on United States as it has the most number of customers, a high number of customers and quite a high Churn Rate."
   ]
  },
  {
   "attachments": {},
   "cell_type": "markdown",
   "id": "a4bf5f70",
   "metadata": {},
   "source": [
    "# 3. Data Engineering"
   ]
  },
  {
   "attachments": {},
   "cell_type": "markdown",
   "id": "acef3504",
   "metadata": {},
   "source": [
    "## 3.1 Generate new Columns"
   ]
  },
  {
   "cell_type": "code",
   "execution_count": 14,
   "id": "a9e19c3a",
   "metadata": {},
   "outputs": [],
   "source": [
    "#Merge to get loyal customers orders\n",
    "loyal_customer_orders=tasty_bytes_orders_v.join(\n",
    "    right=tasty_bytes_customer_loyalty,\n",
    "    on=\"CUSTOMER_ID\",\n",
    "    how=\"inner\"\n",
    ")"
   ]
  },
  {
   "cell_type": "code",
   "execution_count": 15,
   "id": "3f5edd2f",
   "metadata": {},
   "outputs": [],
   "source": [
    "#Remove duplicate columns\n",
    "loyal_customer_orders = remove_dup_join_col(loyal_customer_orders)\n",
    "\n",
    "#Remove duplicate order ids\n",
    "remove_dup = loyal_customer_orders.dropDuplicates(['ORDER_ID'])"
   ]
  },
  {
   "attachments": {},
   "cell_type": "markdown",
   "id": "c3465838",
   "metadata": {},
   "source": [
    "### 3.1.1 Get Latest Order Date"
   ]
  },
  {
   "cell_type": "code",
   "execution_count": 16,
   "id": "60b18852",
   "metadata": {},
   "outputs": [],
   "source": [
    "# called `orders` with columns `customer_id` and `order_ts`\n",
    "window_spec = Window.partitionBy('customer_id').orderBy(F.col('order_ts').desc())\n",
    "\n",
    "orders_with_rank = remove_dup.withColumn('rank', F.rank().over(window_spec))\n",
    "\n",
    "# Get max order of each customer\n",
    "max_order_ts = orders_with_rank.filter(F.col('rank') == 1).select('customer_id', 'order_ts')\n"
   ]
  },
  {
   "cell_type": "code",
   "execution_count": 17,
   "id": "956059ab",
   "metadata": {},
   "outputs": [
    {
     "name": "stdout",
     "output_type": "stream",
     "text": [
      "-----------------------\n",
      "|\"MAX(ORDER_TS)\"      |\n",
      "-----------------------\n",
      "|2022-11-01 22:59:57  |\n",
      "-----------------------\n",
      "\n"
     ]
    }
   ],
   "source": [
    "max_order_ts.agg(F.max(F.col('ORDER_TS'))).show()"
   ]
  },
  {
   "cell_type": "code",
   "execution_count": null,
   "id": "ebc3f79d",
   "metadata": {},
   "outputs": [],
   "source": [
    "simulation start"
   ]
  },
  {
   "cell_type": "code",
   "execution_count": 18,
   "id": "89b00001",
   "metadata": {},
   "outputs": [],
   "source": [
    "us_Orders=orders_with_rank.filter(F.col('COUNTRY')=='United States')"
   ]
  },
  {
   "cell_type": "code",
   "execution_count": 19,
   "id": "c72c5bbb",
   "metadata": {},
   "outputs": [],
   "source": [
    "simulation=us_Orders.group_by('CUSTOMER_ID').agg(F.round(F.avg('ORDER_TOTAL'),2).alias('AVERAGE_SPENDING'))"
   ]
  },
  {
   "cell_type": "code",
   "execution_count": 20,
   "id": "3e789a23",
   "metadata": {},
   "outputs": [
    {
     "name": "stdout",
     "output_type": "stream",
     "text": [
      "--------------------------------------\n",
      "|\"CUSTOMER_ID\"  |\"AVERAGE_SPENDING\"  |\n",
      "--------------------------------------\n",
      "|53761          |31.69               |\n",
      "|131298         |36.13               |\n",
      "|150223         |45.42               |\n",
      "|96679          |41.95               |\n",
      "|97983          |38.46               |\n",
      "|96048          |41.43               |\n",
      "|71537          |42.11               |\n",
      "|171452         |39.75               |\n",
      "|83690          |38.54               |\n",
      "|98238          |40.18               |\n",
      "--------------------------------------\n",
      "\n"
     ]
    }
   ],
   "source": [
    "simulation.show()"
   ]
  },
  {
   "cell_type": "code",
   "execution_count": 21,
   "id": "fdebc778",
   "metadata": {},
   "outputs": [
    {
     "ename": "SyntaxError",
     "evalue": "invalid syntax (416643176.py, line 1)",
     "output_type": "error",
     "traceback": [
      "\u001b[1;36m  Cell \u001b[1;32mIn[21], line 1\u001b[1;36m\u001b[0m\n\u001b[1;33m    simulation end\u001b[0m\n\u001b[1;37m               ^\u001b[0m\n\u001b[1;31mSyntaxError\u001b[0m\u001b[1;31m:\u001b[0m invalid syntax\n"
     ]
    }
   ],
   "source": [
    "simulation end"
   ]
  },
  {
   "cell_type": "code",
   "execution_count": 216,
   "id": "b1d0fb71",
   "metadata": {},
   "outputs": [
    {
     "name": "stdout",
     "output_type": "stream",
     "text": [
      "-----------------------------------------------------------------------------------------------------------------------------------------------------------------------------------------------------------------------------------------------------------------------------------------------------------------------------------------------------------------------------------------------------------------------------------------------------------------------------------------------------------------------------------------------------------------------------------------------------------------------------------------------------------------------------------------------------------------------------------\n",
      "|\"CUSTOMER_ID\"  |\"DATE\"      |\"ORDER_ID\"  |\"TRUCK_ID\"  |\"ORDER_TS\"           |\"ORDER_DETAIL_ID\"  |\"LINE_NUMBER\"  |\"TRUCK_BRAND_NAME\"  |\"MENU_TYPE\"  |\"PRIMARY_CITY\"  |\"REGION\"    |\"FRANCHISE_FLAG\"  |\"FRANCHISE_ID\"  |\"FRANCHISEE_FIRST_NAME\"  |\"FRANCHISEE_LAST_NAME\"  |\"LOCATION_ID\"  |\"MENU_ITEM_ID\"  |\"MENU_ITEM_NAME\"      |\"QUANTITY\"  |\"UNIT_PRICE\"  |\"PRICE\"  |\"ORDER_AMOUNT\"  |\"ORDER_TAX_AMOUNT\"  |\"ORDER_DISCOUNT_AMOUNT\"  |\"ORDER_TOTAL\"  |\"FIRST_NAME\"  |\"LAST_NAME\"  |\"CITY\"   |\"COUNTRY\"      |\"POSTAL_CODE\"  |\"PREFERRED_LANGUAGE\"  |\"GENDER\"  |\"FAVOURITE_BRAND\"  |\"MARITAL_STATUS\"  |\"CHILDREN_COUNT\"  |\"SIGN_UP_DATE\"  |\"BIRTHDAY_DATE\"  |\"E_MAIL\"            |\"PHONE_NUMBER\"  |\"MAX_ORDER_TS\"       |\"RANK\"  |\n",
      "-----------------------------------------------------------------------------------------------------------------------------------------------------------------------------------------------------------------------------------------------------------------------------------------------------------------------------------------------------------------------------------------------------------------------------------------------------------------------------------------------------------------------------------------------------------------------------------------------------------------------------------------------------------------------------------------------------------------------------------\n",
      "|185666         |2019-10-21  |452741366   |33          |2019-10-21 20:06:20  |886063524          |2              |Guac n' Roll        |Tacos        |Seattle         |Washington  |0                 |1               |Corporate                |Owned                   |15000          |38              |Lean Burrito Bowl     |3           |12.5000       |37.5000  |66.5000         |NULL                |NULL                     |66.5000        |Jaden         |Ryan         |Seattle  |United States  |98115          |English               |Female    |NULL               |Married           |2                 |2020-09-18      |1959-06-07       |Jaden.Ryan@aol.com  |262-090-1762    |2022-10-07 20:43:15  |1       |\n",
      "|185666         |2020-02-17  |452797366   |31          |2020-02-17 20:51:45  |886241404          |7              |Freezing Point      |Ice Cream    |Seattle         |Washington  |1                 |26              |Barbara                  |Davenport               |15004          |19              |Popsicle              |1           |3.0000        |3.0000   |41.5000         |NULL                |NULL                     |41.5000        |Jaden         |Ryan         |Seattle  |United States  |98115          |English               |Female    |NULL               |Married           |2                 |2020-09-18      |1959-06-07       |Jaden.Ryan@aol.com  |262-090-1762    |2022-10-07 20:43:15  |2       |\n",
      "|185666         |2020-03-11  |452812367   |31          |2020-03-11 17:55:40  |886288988          |1              |Freezing Point      |Ice Cream    |Seattle         |Washington  |1                 |26              |Barbara                  |Davenport               |14992          |19              |Popsicle              |1           |3.0000        |3.0000   |8.0000          |NULL                |NULL                     |8.0000         |Jaden         |Ryan         |Seattle  |United States  |98115          |English               |Female    |NULL               |Married           |2                 |2020-09-18      |1959-06-07       |Jaden.Ryan@aol.com  |262-090-1762    |2022-10-07 20:43:15  |3       |\n",
      "|185666         |2020-04-12  |452838759   |33          |2020-04-12 16:38:02  |886370609          |1              |Guac n' Roll        |Tacos        |Seattle         |Washington  |0                 |1               |Corporate                |Owned                   |1956           |31              |Two Taco Combo Plate  |1           |9.0000        |9.0000   |21.5000         |NULL                |NULL                     |21.5000        |Jaden         |Ryan         |Seattle  |United States  |98115          |English               |Female    |NULL               |Married           |2                 |2020-09-18      |1959-06-07       |Jaden.Ryan@aol.com  |262-090-1762    |2022-10-07 20:43:15  |4       |\n",
      "|185666         |2020-05-04  |452860803   |33          |2020-05-04 12:02:44  |886436216          |6              |Guac n' Roll        |Tacos        |Seattle         |Washington  |0                 |1               |Corporate                |Owned                   |15002          |31              |Two Taco Combo Plate  |1           |9.0000        |9.0000   |61.0000         |NULL                |NULL                     |61.0000        |Jaden         |Ryan         |Seattle  |United States  |98115          |English               |Female    |NULL               |Married           |2                 |2020-09-18      |1959-06-07       |Jaden.Ryan@aol.com  |262-090-1762    |2022-10-07 20:43:15  |5       |\n",
      "|185666         |2020-06-03  |452889916   |31          |2020-06-03 09:57:23  |886522353          |3              |Freezing Point      |Ice Cream    |Seattle         |Washington  |1                 |26              |Barbara                  |Davenport               |15109          |11              |Sugar Cone            |1           |6.0000        |6.0000   |22.0000         |NULL                |NULL                     |22.0000        |Jaden         |Ryan         |Seattle  |United States  |98115          |English               |Female    |NULL               |Married           |2                 |2020-09-18      |1959-06-07       |Jaden.Ryan@aol.com  |262-090-1762    |2022-10-07 20:43:15  |6       |\n",
      "|185666         |2020-06-06  |452892985   |31          |2020-06-06 09:09:47  |886531521          |4              |Freezing Point      |Ice Cream    |Seattle         |Washington  |1                 |26              |Barbara                  |Davenport               |1260           |18              |Mango Sticky Rice     |2           |5.0000        |10.0000  |26.5000         |NULL                |NULL                     |26.5000        |Jaden         |Ryan         |Seattle  |United States  |98115          |English               |Female    |NULL               |Married           |2                 |2020-09-18      |1959-06-07       |Jaden.Ryan@aol.com  |262-090-1762    |2022-10-07 20:43:15  |7       |\n",
      "|185666         |2020-08-19  |452987776   |31          |2020-08-19 08:57:12  |886806496          |0              |Freezing Point      |Ice Cream    |Seattle         |Washington  |1                 |26              |Barbara                  |Davenport               |4221           |19              |Popsicle              |1           |3.0000        |3.0000   |3.0000          |NULL                |NULL                     |3.0000         |Jaden         |Ryan         |Seattle  |United States  |98115          |English               |Female    |NULL               |Married           |2                 |2020-09-18      |1959-06-07       |Jaden.Ryan@aol.com  |262-090-1762    |2022-10-07 20:43:15  |8       |\n",
      "|185666         |2020-09-23  |453038457   |45          |2020-09-23 17:50:11  |886952418          |0              |Better Off Bread    |Sandwiches   |Seattle         |Washington  |1                 |38              |Toni                     |Carter                  |3322           |152             |Pastrami              |1           |11.0000       |11.0000  |77.0000         |NULL                |NULL                     |77.0000        |Jaden         |Ryan         |Seattle  |United States  |98115          |English               |Female    |NULL               |Married           |2                 |2020-09-18      |1959-06-07       |Jaden.Ryan@aol.com  |262-090-1762    |2022-10-07 20:43:15  |9       |\n",
      "|185666         |2020-09-28  |453044181   |31          |2020-09-28 18:04:48  |886969054          |0              |Freezing Point      |Ice Cream    |Seattle         |Washington  |1                 |26              |Barbara                  |Davenport               |4015           |18              |Mango Sticky Rice     |1           |5.0000        |5.0000   |5.0000          |NULL                |NULL                     |5.0000         |Jaden         |Ryan         |Seattle  |United States  |98115          |English               |Female    |NULL               |Married           |2                 |2020-09-18      |1959-06-07       |Jaden.Ryan@aol.com  |262-090-1762    |2022-10-07 20:43:15  |10      |\n",
      "-----------------------------------------------------------------------------------------------------------------------------------------------------------------------------------------------------------------------------------------------------------------------------------------------------------------------------------------------------------------------------------------------------------------------------------------------------------------------------------------------------------------------------------------------------------------------------------------------------------------------------------------------------------------------------------------------------------------------------------\n",
      "\n"
     ]
    }
   ],
   "source": [
    "us_Orders.show()"
   ]
  },
  {
   "cell_type": "code",
   "execution_count": 22,
   "id": "e0bdd393",
   "metadata": {},
   "outputs": [],
   "source": [
    "memb_Sign_Up = us_Orders.dropDuplicates(['CUSTOMER_ID'])\n",
    "memb_Sign_Up=memb_Sign_Up.with_column('SIGN_UP_YEAR', F.year('SIGN_UP_DATE'))\n",
    "memb_sign_up_by_year=memb_Sign_Up.group_by('SIGN_UP_YEAR').agg(F.round(F.count('CUSTOMER_ID')/1000,2).alias('TOTAL_SIGN_UPS_IN_THOUSANDS'))\n",
    "memb_sign_up_by_year=memb_sign_up_by_year.withColumnRenamed(F.col('SIGN_UP_YEAR'),'YEAR')\n",
    "memb_sign_up_by_year=memb_sign_up_by_year.sort('YEAR')"
   ]
  },
  {
   "cell_type": "code",
   "execution_count": 23,
   "id": "b0d58d1d",
   "metadata": {},
   "outputs": [
    {
     "name": "stdout",
     "output_type": "stream",
     "text": [
      "------------------------------------------\n",
      "|\"YEAR\"  |\"TOTAL_SIGN_UPS_IN_THOUSANDS\"  |\n",
      "------------------------------------------\n",
      "|2019    |13.18                          |\n",
      "|2020    |13.38                          |\n",
      "|2021    |13.23                          |\n",
      "|2022    |6.51                           |\n",
      "------------------------------------------\n",
      "\n"
     ]
    }
   ],
   "source": [
    "memb_sign_up_by_year.show()"
   ]
  },
  {
   "cell_type": "code",
   "execution_count": 24,
   "id": "7843c6c1",
   "metadata": {},
   "outputs": [],
   "source": [
    "bef_Conv=us_Orders.filter(F.col('DATE')<F.col('SIGN_UP_DATE'))\n",
    "aft_Conv=us_Orders.filter(F.col('DATE')>=F.col('SIGN_UP_DATE'))"
   ]
  },
  {
   "cell_type": "code",
   "execution_count": 25,
   "id": "186929a3",
   "metadata": {},
   "outputs": [],
   "source": [
    "# Define a window partitioned by customer and ordered by date\n",
    "window_spec = Window.partitionBy(\"CUSTOMER_ID\").orderBy(\"DATE\")\n",
    "\n",
    "# Add a column with the date of the next order for each customer\n",
    "bef_Conv_orders_df = bef_Conv.withColumn(\"DAYS_TO_NEXT_ORDER\", F.lead(\"DATE\").over(window_spec))\n",
    "\n",
    "# Calculate the number of days between the current order and the next order\n",
    "bef_Conv_orders_df= bef_Conv_orders_df.withColumn(\"DAYS_TO_NEXT_ORDER\", F.datediff(col1=\"DATE\", col2=\"DAYS_TO_NEXT_ORDER\",part='day'))\n",
    "\n",
    "#Remove null values in target variable\n",
    "bef_Conv_orders_df= bef_Conv_orders_df.na.drop(subset=[\"DAYS_TO_NEXT_ORDER\"])"
   ]
  },
  {
   "cell_type": "code",
   "execution_count": 26,
   "id": "858e3db5",
   "metadata": {},
   "outputs": [],
   "source": [
    "# Define a window partitioned by customer and ordered by date\n",
    "window_spec = Window.partitionBy(\"CUSTOMER_ID\").orderBy(\"DATE\")\n",
    "\n",
    "# Add a column with the date of the next order for each customer\n",
    "aft_Conv_orders_df = aft_Conv.withColumn(\"DAYS_TO_NEXT_ORDER\", F.lead(\"DATE\").over(window_spec))\n",
    "\n",
    "# Calculate the number of days between the current order and the next order\n",
    "aft_Conv_orders_df= aft_Conv_orders_df.withColumn(\"DAYS_TO_NEXT_ORDER\", F.datediff(col1=\"DATE\", col2=\"DAYS_TO_NEXT_ORDER\",part='day'))\n",
    "\n",
    "#Remove null values in target variable\n",
    "aft_Conv_orders_df= aft_Conv_orders_df.na.drop(subset=[\"DAYS_TO_NEXT_ORDER\"])"
   ]
  },
  {
   "cell_type": "code",
   "execution_count": 27,
   "id": "ec9b0626",
   "metadata": {},
   "outputs": [
    {
     "name": "stdout",
     "output_type": "stream",
     "text": [
      "-----------------------------\n",
      "|\"AVG(DAYS_TO_NEXT_ORDER)\"  |\n",
      "-----------------------------\n",
      "|27.847239                  |\n",
      "-----------------------------\n",
      "\n"
     ]
    }
   ],
   "source": [
    "bef_Conv_orders_df.agg(F.avg(F.col('DAYS_TO_NEXT_ORDER'))).show()"
   ]
  },
  {
   "cell_type": "code",
   "execution_count": 28,
   "id": "1c89b97d",
   "metadata": {},
   "outputs": [
    {
     "name": "stdout",
     "output_type": "stream",
     "text": [
      "-----------------------------\n",
      "|\"AVG(DAYS_TO_NEXT_ORDER)\"  |\n",
      "-----------------------------\n",
      "|17.385496                  |\n",
      "-----------------------------\n",
      "\n"
     ]
    }
   ],
   "source": [
    "aft_Conv_orders_df.agg(F.avg(F.col('DAYS_TO_NEXT_ORDER'))).show()"
   ]
  },
  {
   "cell_type": "code",
   "execution_count": 29,
   "id": "f7e99604",
   "metadata": {},
   "outputs": [],
   "source": [
    "bef_Conv_analysis=bef_Conv_orders_df.group_by('CUSTOMER_ID').agg(F.avg(F.col('DAYS_TO_NEXT_ORDER')).alias('BEF_AVG_DAYS_TO_NEXT_ORDER'))\n",
    "\n",
    "bef_Conv_analysis=bef_Conv_analysis.join(\n",
    "    right=bef_Conv_orders_df.group_by('CUSTOMER_ID').agg(F.count('*').alias('BEF_NUM_OF_ORDERS')),\n",
    "    on=\"CUSTOMER_ID\",\n",
    "    how=\"inner\"\n",
    ")\n",
    "\n",
    "bef_Conv_analysis=bef_Conv_analysis.join(\n",
    "    right=bef_Conv_orders_df.group_by('CUSTOMER_ID').agg(F.avg('ORDER_TOTAL').alias('BEF_AVERAGE_SPENDING')),\n",
    "    on=\"CUSTOMER_ID\",\n",
    "    how=\"inner\"\n",
    ")\n",
    "\n",
    "# bef_Conv_analysis.show()"
   ]
  },
  {
   "cell_type": "code",
   "execution_count": 30,
   "id": "0159189e",
   "metadata": {},
   "outputs": [],
   "source": [
    "aft_Conv_analysis=aft_Conv_orders_df.group_by('CUSTOMER_ID').agg(F.avg(F.col('DAYS_TO_NEXT_ORDER')).alias('AFT_AVG_DAYS_TO_NEXT_ORDER'))\n",
    "\n",
    "aft_Conv_analysis=aft_Conv_analysis.join(\n",
    "    right=aft_Conv_orders_df.group_by('CUSTOMER_ID').agg(F.count('*').alias('AFT_NUM_OF_ORDERS')),\n",
    "    on=\"CUSTOMER_ID\",\n",
    "    how=\"inner\"\n",
    ")\n",
    "\n",
    "aft_Conv_analysis=aft_Conv_analysis.join(\n",
    "    right=aft_Conv_orders_df.group_by('CUSTOMER_ID').agg(F.avg('ORDER_TOTAL').alias('AFT_AVERAGE_SPENDING')),\n",
    "    on=\"CUSTOMER_ID\",\n",
    "    how=\"inner\"\n",
    ")\n",
    "\n",
    "# aft_Conv_analysis.show()"
   ]
  },
  {
   "cell_type": "code",
   "execution_count": 31,
   "id": "7f4a22a2",
   "metadata": {},
   "outputs": [],
   "source": [
    "conv_Analysis=bef_Conv_analysis.join(\n",
    "    right=aft_Conv_analysis,\n",
    "    on=\"CUSTOMER_ID\",\n",
    "    how=\"inner\"\n",
    ")\n"
   ]
  },
  {
   "cell_type": "code",
   "execution_count": 32,
   "id": "8477169b",
   "metadata": {},
   "outputs": [],
   "source": [
    "conv_Analysis_df=conv_Analysis.to_pandas()"
   ]
  },
  {
   "cell_type": "code",
   "execution_count": 33,
   "id": "a4eee8a2",
   "metadata": {},
   "outputs": [
    {
     "data": {
      "image/png": "[encoded data removed]",
      "text/plain": [
       "<Figure size 800x600 with 1 Axes>"
      ]
     },
     "metadata": {},
     "output_type": "display_data"
    }
   ],
   "source": [
    "# Plot a box plot to compare 'BEF_AVG_DAYS_TO_NEXT_ORDER' and 'AFT_AVG_DAYS_TO_NEXT_ORDER'\n",
    "plt.figure(figsize=(8, 6))\n",
    "sns.boxplot(data=conv_Analysis_df[['BEF_AVG_DAYS_TO_NEXT_ORDER', 'AFT_AVG_DAYS_TO_NEXT_ORDER']], palette=['skyblue', 'lightgreen'])\n",
    "plt.xlabel('Membership Status')\n",
    "plt.ylabel('Avg Days to Next Order')\n",
    "plt.title('Comparison of Avg Days to Next Order\\n(Before - Non-Members vs. After - Members)')\n",
    "plt.xticks(ticks=[0, 1], labels=['Before (Non-Member)', 'After (Member)'])\n",
    "plt.show()\n",
    "\n"
   ]
  },
  {
   "cell_type": "code",
   "execution_count": 34,
   "id": "94c7463d",
   "metadata": {},
   "outputs": [],
   "source": [
    "# Assuming conv_Analysis_df contains the data and columns 'BEF_AVG_DAYS_TO_NEXT_ORDER' and 'AFT_AVG_DAYS_TO_NEXT_ORDER'\n",
    "\n",
    "conv_Analysis_df[['BEF_AVG_DAYS_TO_NEXT_ORDER', 'AFT_AVG_DAYS_TO_NEXT_ORDER','BEF_AVERAGE_SPENDING','AFT_AVERAGE_SPENDING']] = conv_Analysis_df[\n",
    "    ['BEF_AVG_DAYS_TO_NEXT_ORDER', 'AFT_AVG_DAYS_TO_NEXT_ORDER','BEF_AVERAGE_SPENDING','AFT_AVERAGE_SPENDING']].astype('float32')\n"
   ]
  },
  {
   "cell_type": "code",
   "execution_count": 35,
   "id": "ba466e63",
   "metadata": {},
   "outputs": [
    {
     "data": {
      "text/html": [
       "<div>\n",
       "<style scoped>\n",
       "    .dataframe tbody tr th:only-of-type {\n",
       "        vertical-align: middle;\n",
       "    }\n",
       "\n",
       "    .dataframe tbody tr th {\n",
       "        vertical-align: top;\n",
       "    }\n",
       "\n",
       "    .dataframe thead th {\n",
       "        text-align: right;\n",
       "    }\n",
       "</style>\n",
       "<table border=\"1\" class=\"dataframe\">\n",
       "  <thead>\n",
       "    <tr style=\"text-align: right;\">\n",
       "      <th></th>\n",
       "      <th>BEF_AVG_DAYS_TO_NEXT_ORDER</th>\n",
       "      <th>AFT_AVG_DAYS_TO_NEXT_ORDER</th>\n",
       "      <th>BEF_AVERAGE_SPENDING</th>\n",
       "      <th>AFT_AVERAGE_SPENDING</th>\n",
       "      <th>BEF_NUM_OF_ORDERS</th>\n",
       "      <th>AFT_NUM_OF_ORDERS</th>\n",
       "    </tr>\n",
       "  </thead>\n",
       "  <tbody>\n",
       "    <tr>\n",
       "      <th>count</th>\n",
       "      <td>33180.000000</td>\n",
       "      <td>33180.000000</td>\n",
       "      <td>33180.000000</td>\n",
       "      <td>33180.000000</td>\n",
       "      <td>33180.000000</td>\n",
       "      <td>33180.000000</td>\n",
       "    </tr>\n",
       "    <tr>\n",
       "      <th>mean</th>\n",
       "      <td>38.413445</td>\n",
       "      <td>16.139229</td>\n",
       "      <td>34.308620</td>\n",
       "      <td>39.740303</td>\n",
       "      <td>17.918264</td>\n",
       "      <td>34.343972</td>\n",
       "    </tr>\n",
       "    <tr>\n",
       "      <th>std</th>\n",
       "      <td>31.384529</td>\n",
       "      <td>4.710234</td>\n",
       "      <td>10.473815</td>\n",
       "      <td>5.840579</td>\n",
       "      <td>13.815220</td>\n",
       "      <td>14.796630</td>\n",
       "    </tr>\n",
       "    <tr>\n",
       "      <th>min</th>\n",
       "      <td>1.000000</td>\n",
       "      <td>5.222222</td>\n",
       "      <td>3.000000</td>\n",
       "      <td>7.333333</td>\n",
       "      <td>1.000000</td>\n",
       "      <td>2.000000</td>\n",
       "    </tr>\n",
       "    <tr>\n",
       "      <th>25%</th>\n",
       "      <td>21.822023</td>\n",
       "      <td>13.000000</td>\n",
       "      <td>28.937500</td>\n",
       "      <td>35.989361</td>\n",
       "      <td>6.000000</td>\n",
       "      <td>23.000000</td>\n",
       "    </tr>\n",
       "    <tr>\n",
       "      <th>50%</th>\n",
       "      <td>28.250000</td>\n",
       "      <td>15.297872</td>\n",
       "      <td>35.055557</td>\n",
       "      <td>39.514273</td>\n",
       "      <td>15.000000</td>\n",
       "      <td>34.000000</td>\n",
       "    </tr>\n",
       "    <tr>\n",
       "      <th>75%</th>\n",
       "      <td>42.602173</td>\n",
       "      <td>18.200001</td>\n",
       "      <td>40.227439</td>\n",
       "      <td>43.182199</td>\n",
       "      <td>28.000000</td>\n",
       "      <td>45.000000</td>\n",
       "    </tr>\n",
       "    <tr>\n",
       "      <th>max</th>\n",
       "      <td>502.000000</td>\n",
       "      <td>62.000000</td>\n",
       "      <td>141.000000</td>\n",
       "      <td>107.500000</td>\n",
       "      <td>74.000000</td>\n",
       "      <td>83.000000</td>\n",
       "    </tr>\n",
       "  </tbody>\n",
       "</table>\n",
       "</div>"
      ],
      "text/plain": [
       "       BEF_AVG_DAYS_TO_NEXT_ORDER  AFT_AVG_DAYS_TO_NEXT_ORDER  \\\n",
       "count                33180.000000                33180.000000   \n",
       "mean                    38.413445                   16.139229   \n",
       "std                     31.384529                    4.710234   \n",
       "min                      1.000000                    5.222222   \n",
       "25%                     21.822023                   13.000000   \n",
       "50%                     28.250000                   15.297872   \n",
       "75%                     42.602173                   18.200001   \n",
       "max                    502.000000                   62.000000   \n",
       "\n",
       "       BEF_AVERAGE_SPENDING  AFT_AVERAGE_SPENDING  BEF_NUM_OF_ORDERS  \\\n",
       "count          33180.000000          33180.000000       33180.000000   \n",
       "mean              34.308620             39.740303          17.918264   \n",
       "std               10.473815              5.840579          13.815220   \n",
       "min                3.000000              7.333333           1.000000   \n",
       "25%               28.937500             35.989361           6.000000   \n",
       "50%               35.055557             39.514273          15.000000   \n",
       "75%               40.227439             43.182199          28.000000   \n",
       "max              141.000000            107.500000          74.000000   \n",
       "\n",
       "       AFT_NUM_OF_ORDERS  \n",
       "count       33180.000000  \n",
       "mean           34.343972  \n",
       "std            14.796630  \n",
       "min             2.000000  \n",
       "25%            23.000000  \n",
       "50%            34.000000  \n",
       "75%            45.000000  \n",
       "max            83.000000  "
      ]
     },
     "execution_count": 35,
     "metadata": {},
     "output_type": "execute_result"
    }
   ],
   "source": [
    "conv_Analysis_df[['BEF_AVG_DAYS_TO_NEXT_ORDER','AFT_AVG_DAYS_TO_NEXT_ORDER','BEF_AVERAGE_SPENDING','AFT_AVERAGE_SPENDING','BEF_NUM_OF_ORDERS','AFT_NUM_OF_ORDERS']].describe()"
   ]
  },
  {
   "cell_type": "code",
   "execution_count": 36,
   "id": "cbaa607a",
   "metadata": {},
   "outputs": [],
   "source": [
    "# Rename columns\n",
    "max_order_ts = max_order_ts.withColumnRenamed('ORDER_TS','Max_Order_TS')"
   ]
  },
  {
   "cell_type": "code",
   "execution_count": 37,
   "id": "122d9f7e",
   "metadata": {},
   "outputs": [],
   "source": [
    "# Merge with second max order dataframe\n",
    "max_Order=remove_dup.join(right=max_order_ts,on='CUSTOMER_ID',how='inner')\n",
    "\n",
    "#Filter out last purchase\n",
    "filtered_df = max_Order.filter(F.col('ORDER_TS') < F.col('Max_Order_TS'))\n",
    "\n",
    "#Filter out last purchase\n",
    "filtered_df_2 = max_Order"
   ]
  },
  {
   "cell_type": "code",
   "execution_count": 38,
   "id": "12340323",
   "metadata": {},
   "outputs": [],
   "source": [
    "cust_Order = tasty_bytes_orders_v.dropDuplicates(['ORDER_ID'])\n",
    "cust_Order =cust_Order.with_column('YEAR', F.year(\"ORDER_TS\"))\n",
    "cust_Order =cust_Order.with_column('MONTH',F.month(\"ORDER_TS\"))\n",
    "cust_sales_by_year=cust_Order.group_by('YEAR').agg(F.round(F.sum('ORDER_TOTAL')/1000000,2).alias('TOTAL_SALES_IN_MILLIONS'))"
   ]
  },
  {
   "cell_type": "code",
   "execution_count": 39,
   "id": "d9883a8b",
   "metadata": {},
   "outputs": [],
   "source": [
    "cust_orders_by_year=cust_Order.group_by('YEAR').agg(F.round(F.count('ORDER_ID')/1000000,2).alias('TOTAL_ORDERS_IN_MILLIONS'))"
   ]
  },
  {
   "cell_type": "code",
   "execution_count": 40,
   "id": "0480ba48",
   "metadata": {},
   "outputs": [],
   "source": [
    "memb_sales=filtered_df_2.with_column('YEAR', F.year(\"ORDER_TS\"))\n",
    "memb_sales=memb_sales.with_column('MONTH',F.month(\"ORDER_TS\"))\n",
    "memb_sales_by_year=memb_sales.group_by('YEAR').agg(F.round(F.sum('ORDER_TOTAL')/1000000,2).alias('TOTAL_MEMBER_SALES_IN_MILLIONS'))"
   ]
  },
  {
   "cell_type": "code",
   "execution_count": 41,
   "id": "7775d002",
   "metadata": {},
   "outputs": [],
   "source": [
    "memb_orders_by_year=memb_sales.group_by('YEAR').agg(F.round(F.count('ORDER_ID')/1000000,2).alias('TOTAL_MEMBER_ORDERS_IN_MILLIONS'))"
   ]
  },
  {
   "cell_type": "code",
   "execution_count": 42,
   "id": "234d235b",
   "metadata": {},
   "outputs": [],
   "source": [
    "memb_Sign_Up = filtered_df_2.dropDuplicates(['CUSTOMER_ID'])\n",
    "memb_Sign_Up=memb_Sign_Up.with_column('SIGN_UP_YEAR', F.year('SIGN_UP_DATE'))\n",
    "memb_sign_up_by_year=memb_Sign_Up.group_by('SIGN_UP_YEAR').agg(F.round(F.count('CUSTOMER_ID')/1000,2).alias('TOTAL_SIGN_UPS_IN_THOUSANDS'))\n",
    "memb_sign_up_by_year=memb_sign_up_by_year.withColumnRenamed(F.col('SIGN_UP_YEAR'),'YEAR')"
   ]
  },
  {
   "cell_type": "code",
   "execution_count": 43,
   "id": "1ab956f8",
   "metadata": {},
   "outputs": [],
   "source": [
    "#Merge to get loyal customers orders\n",
    "sales_Analysis=cust_sales_by_year.join(\n",
    "    right=memb_sales_by_year,\n",
    "    on=\"YEAR\",\n",
    "    how=\"inner\"\n",
    ")\n",
    "sales_Analysis=sales_Analysis.join(\n",
    "    right=cust_orders_by_year,\n",
    "    on=\"YEAR\",\n",
    "    how=\"inner\"\n",
    ")\n",
    "\n",
    "sales_Analysis=sales_Analysis.join(\n",
    "    right=memb_orders_by_year,\n",
    "    on=\"YEAR\",\n",
    "    how=\"inner\"\n",
    ")\n",
    "\n",
    "sales_Analysis=sales_Analysis.join(\n",
    "    right=memb_sign_up_by_year,\n",
    "    on=\"YEAR\",\n",
    "    how=\"inner\"\n",
    ")\n",
    "\n",
    "sales_Analysis=sales_Analysis.sort('YEAR')"
   ]
  },
  {
   "cell_type": "code",
   "execution_count": 44,
   "id": "89236a0b",
   "metadata": {},
   "outputs": [],
   "source": [
    "# Define a window partitioned by customer and menu item, ordered by date\n",
    "window_spec = Window.orderBy(\"YEAR\")\n",
    "\n",
    "# Add a column with the date of the prior order for each customer \n",
    "sales_Analysis = sales_Analysis.withColumn(\"PREVIOUS_YEAR_SALES_IN_MILLIONS\", F.lag(\"TOTAL_SALES_IN_MILLIONS\").over(window_spec))"
   ]
  },
  {
   "cell_type": "code",
   "execution_count": 45,
   "id": "3ff341c7",
   "metadata": {},
   "outputs": [],
   "source": [
    "sales_Analysis=sales_Analysis.withColumn('YOY_SALES%',F.round(((F.col('TOTAL_SALES_IN_MILLIONS')-F.col(\"PREVIOUS_YEAR_SALES_IN_MILLIONS\"))/ F.col(\"PREVIOUS_YEAR_SALES_IN_MILLIONS\")) * 100,0))\n",
    "sales_Analysis=sales_Analysis.withColumn('MEMBER_SALES%',F.round((F.col('TOTAL_MEMBER_SALES_IN_MILLIONS')/F.col(\"TOTAL_SALES_IN_MILLIONS\"))*100,2))"
   ]
  },
  {
   "cell_type": "code",
   "execution_count": 46,
   "id": "41a1b63c",
   "metadata": {},
   "outputs": [
    {
     "name": "stdout",
     "output_type": "stream",
     "text": [
      "-----------------------------------------------------------------------------------------------------------------------------------------------------------------------------------------------------------------------------------------------\n",
      "|\"YEAR\"  |\"TOTAL_SALES_IN_MILLIONS\"  |\"TOTAL_MEMBER_SALES_IN_MILLIONS\"  |\"TOTAL_ORDERS_IN_MILLIONS\"  |\"TOTAL_MEMBER_ORDERS_IN_MILLIONS\"  |\"TOTAL_SIGN_UPS_IN_THOUSANDS\"  |\"PREVIOUS_YEAR_SALES_IN_MILLIONS\"  |\"YOY_SALES%\"  |\"MEMBER_SALES%\"  |\n",
      "-----------------------------------------------------------------------------------------------------------------------------------------------------------------------------------------------------------------------------------------------\n",
      "|2019    |192.35                     |18.80                             |4.90                        |0.51                               |79.62                          |NULL                               |NULL          |9.77             |\n",
      "|2020    |1381.94                    |122.16                            |33.13                       |2.95                               |57.12                          |192.35                             |618           |8.84             |\n",
      "|2021    |3456.92                    |195.20                            |83.85                       |4.74                               |57.14                          |1381.94                            |150           |5.65             |\n",
      "|2022    |5079.61                    |207.94                            |126.32                      |5.16                               |28.67                          |3456.92                            |47            |4.09             |\n",
      "-----------------------------------------------------------------------------------------------------------------------------------------------------------------------------------------------------------------------------------------------\n",
      "\n"
     ]
    }
   ],
   "source": [
    "sales_Analysis.show()"
   ]
  },
  {
   "cell_type": "code",
   "execution_count": 47,
   "id": "f1d2e9e3",
   "metadata": {},
   "outputs": [
    {
     "ename": "NameError",
     "evalue": "name 'stop' is not defined",
     "output_type": "error",
     "traceback": [
      "\u001b[1;31m---------------------------------------------------------------------------\u001b[0m",
      "\u001b[1;31mNameError\u001b[0m                                 Traceback (most recent call last)",
      "Cell \u001b[1;32mIn[47], line 1\u001b[0m\n\u001b[1;32m----> 1\u001b[0m stop\n",
      "\u001b[1;31mNameError\u001b[0m: name 'stop' is not defined"
     ]
    }
   ],
   "source": [
    "stop"
   ]
  },
  {
   "attachments": {},
   "cell_type": "markdown",
   "id": "45012b5c",
   "metadata": {},
   "source": [
    "### 3.1.2 RFM (Recency, Freqency, Monetary)"
   ]
  },
  {
   "cell_type": "code",
   "execution_count": 48,
   "id": "476754b5",
   "metadata": {},
   "outputs": [],
   "source": [
    "# Get last purchase date as a variable\n",
    "lastdate=filtered_df.select(F.max('ORDER_TS')).first()[0]\n",
    "\n",
    "# Recency\n",
    "recency = filtered_df.groupBy('CUSTOMER_ID').agg(F.max('ORDER_TS').alias('ORDER_TS'))\n",
    "recency = recency.withColumn('RECENCY', F.datediff(col1=F.col('ORDER_TS'), col2=F.lit(lastdate),part='day'))\n",
    "\n",
    "# Frequency\n",
    "frequency = filtered_df.groupBy('CUSTOMER_ID').agg(F.countDistinct('ORDER_ID').alias('frequency'))\n",
    "\n",
    "# Monetary\n",
    "monetary = filtered_df.groupBy('CUSTOMER_ID').agg(F.sum('ORDER_TOTAL').alias('monetary'))\n",
    "\n",
    "# Merge into RFM table\n",
    "RFM_table = recency.join(frequency, on='CUSTOMER_ID', how='inner')\n",
    "RFM_table = RFM_table.join(monetary, on='CUSTOMER_ID', how='inner')\n"
   ]
  },
  {
   "attachments": {},
   "cell_type": "markdown",
   "id": "ce7aacf0",
   "metadata": {},
   "source": [
    "This code is used to get RFM, Recency, Frequency, and Monetary for each customer. The purpose of doing this is to generate new features and show the customer's behavioural data."
   ]
  },
  {
   "attachments": {},
   "cell_type": "markdown",
   "id": "18d6061f",
   "metadata": {},
   "source": [
    "### 3.1.3 Average Time Difference, Max and Min Days without Purchase"
   ]
  },
  {
   "cell_type": "code",
   "execution_count": 49,
   "id": "419b542d",
   "metadata": {},
   "outputs": [],
   "source": [
    "# Define a window partitioned by customer and menu item, ordered by date\n",
    "window_spec = Window.partitionBy(\"CUSTOMER_ID\").orderBy(\"DATE\")\n",
    "\n",
    "# Add a column with the date of the prior order for each customer \n",
    "orders_df = filtered_df.withColumn(\"DAYS_SINCE_PRIOR_ORDER\", F.lag(\"DATE\").over(window_spec))\n",
    "\n",
    "# Calculate the number of days between the prior order and the current order for each customer and menu item\n",
    "orders_df = orders_df.withColumn(\"DAYS_SINCE_PRIOR_ORDER\", F.datediff(col1=\"DAYS_SINCE_PRIOR_ORDER\", col2=\"DATE\",part='day'))\n",
    "orders_df = orders_df.na.drop(subset=[\"DAYS_SINCE_PRIOR_ORDER\"])\n",
    "\n",
    "# Calculate the average purchase time difference for each customer\n",
    "avg_time_diff=orders_df.group_by('CUSTOMER_ID').agg(F.round(F.avg('DAYS_SINCE_PRIOR_ORDER'),0).alias('Avg_Days_Between_Purchase'))\n",
    "\n",
    "# Max Days without Purchase\n",
    "max_days=orders_df.group_by('CUSTOMER_ID').agg(F.max('DAYS_SINCE_PRIOR_ORDER').alias('Max_Days_Without_Purchase'))\n",
    "\n",
    "# Min Days without Purchase\n",
    "min_days=orders_df.group_by('CUSTOMER_ID').agg(F.min('DAYS_SINCE_PRIOR_ORDER').alias('Min_Days_Without_Purchase'))"
   ]
  },
  {
   "attachments": {},
   "cell_type": "markdown",
   "id": "e4adf10f",
   "metadata": {},
   "source": [
    "This code is used to get the average purchase time difference for each customers. This is done by calculating the most number of days a customer has gone without purchasing and the least number of days the customer has gone without purchasing. These features are also to show the behavioural information of each customer."
   ]
  },
  {
   "attachments": {},
   "cell_type": "markdown",
   "id": "883f6e7a",
   "metadata": {},
   "source": [
    "### 3.1.4 Creating Age and getting Customer's Gender, Marital Status and Country"
   ]
  },
  {
   "cell_type": "code",
   "execution_count": 50,
   "id": "973cd550",
   "metadata": {},
   "outputs": [
    {
     "name": "stdout",
     "output_type": "stream",
     "text": [
      "---------------------------------------------------------------------------------------------------------------------------------------------\n",
      "|\"CUSTOMER_ID\"  |\"BIRTHDAY_DATE\"  |\"GENDER\"     |\"MARITAL_STATUS\"  |\"COUNTRY\"  |\"CITY\"          |\"SIGN_UP_DATE\"  |\"CHILDREN_COUNT\"  |\"AGE\"  |\n",
      "---------------------------------------------------------------------------------------------------------------------------------------------\n",
      "|1              |1953-12-01       |Female       |Single            |Germany    |Hamburg         |2019-02-19      |0                 |69     |\n",
      "|2              |1973-09-21       |Male         |Single            |Brazil     |Rio de Janeiro  |2019-10-07      |0                 |49     |\n",
      "|3              |2000-09-04       |Female       |Married           |Poland     |Krakow          |2020-09-11      |2                 |22     |\n",
      "|4              |1950-03-05       |Female       |Single            |Poland     |Krakow          |2021-09-09      |1                 |72     |\n",
      "|5              |1978-10-29       |Female       |Married           |Spain      |Barcelona       |2022-06-17      |1                 |44     |\n",
      "|6              |1969-08-17       |Male         |Single            |Germany    |Hamburg         |2021-06-02      |0                 |53     |\n",
      "|7              |1961-12-23       |Male         |Undisclosed       |Spain      |Barcelona       |2020-09-29      |Undisclosed       |61     |\n",
      "|8              |1960-07-12       |Female       |Single            |Germany    |Hamburg         |2021-04-08      |0                 |62     |\n",
      "|9              |1970-09-11       |Male         |Single            |Sweden     |Stockholm       |2020-10-30      |0                 |52     |\n",
      "|10             |1989-05-27       |Undisclosed  |Single            |Egypt      |Cairo           |2020-06-04      |0                 |33     |\n",
      "---------------------------------------------------------------------------------------------------------------------------------------------\n",
      "\n"
     ]
    }
   ],
   "source": [
    "# Get Customer demographic\n",
    "cust_demo=tasty_bytes_customer_loyalty.select('CUSTOMER_ID','BIRTHDAY_DATE','GENDER','MARITAL_STATUS','COUNTRY','CITY','SIGN_UP_DATE','CHILDREN_COUNT')\n",
    "\n",
    "# get AGE variable\n",
    "cust_demo = cust_demo.withColumn(\"AGE\", F.datediff('year', F.col(\"BIRTHDAY_DATE\"),F.lit(lastdate)))\n",
    "\n",
    "# Show\n",
    "cust_demo.show()"
   ]
  },
  {
   "attachments": {},
   "cell_type": "markdown",
   "id": "74736857",
   "metadata": {},
   "source": [
    "We added a new column called \"AGE\" which contains the age of the customer at the time of the latest transaction. We also retrieved new columns like the customer's gender, marital status and country."
   ]
  },
  {
   "cell_type": "markdown",
   "id": "8cdd1eaa",
   "metadata": {},
   "source": [
    "### Attempted Improvements to the model"
   ]
  },
  {
   "cell_type": "markdown",
   "id": "5e68411f",
   "metadata": {},
   "source": [
    "#### Improved the Model"
   ]
  },
  {
   "cell_type": "code",
   "execution_count": 51,
   "id": "f35d4887",
   "metadata": {},
   "outputs": [],
   "source": [
    "# Number of locations visited\n",
    "num_of_locations_visited=filtered_df.group_by('CUSTOMER_ID').agg(F.countDistinct('LOCATION_ID').alias('NUM_OF_LOCATIONS_VISITED'))"
   ]
  },
  {
   "cell_type": "code",
   "execution_count": 52,
   "id": "2dd51461",
   "metadata": {},
   "outputs": [
    {
     "name": "stdout",
     "output_type": "stream",
     "text": [
      "--------------------------------------------\n",
      "|\"CUSTOMER_ID\"  |\"LENGTH_OF_RELATIONSHIP\"  |\n",
      "--------------------------------------------\n",
      "|130939         |1011                      |\n",
      "|124730         |1258                      |\n",
      "|34083          |1020                      |\n",
      "|64747          |901                       |\n",
      "|104694         |1208                      |\n",
      "|139560         |1001                      |\n",
      "|209298         |991                       |\n",
      "|134772         |1287                      |\n",
      "|63524          |1162                      |\n",
      "|158145         |1019                      |\n",
      "--------------------------------------------\n",
      "\n"
     ]
    }
   ],
   "source": [
    "# Add Length of relationship\n",
    "\n",
    "window_spec = Window.partitionBy('customer_id').orderBy(F.col('order_ts').asc())\n",
    "\n",
    "orders_with_rank = filtered_df.withColumn('rank', F.rank().over(window_spec))\n",
    "\n",
    "# Get max order of each customer\n",
    "first_order_ts = orders_with_rank.filter(F.col('rank') == 1).select('customer_id', 'order_ts')\n",
    "\n",
    "# Join the first_orders and last_orders DataFrames on customer_id\n",
    "joined_orders = first_order_ts.join(max_order_ts, 'customer_id')\n",
    "\n",
    "# Calculate the difference in days between the first and last order\n",
    "diff_in_days = joined_orders.withColumn('Length_of_Relationship', F.datediff(col1='order_ts', col2='max_order_ts',part='day'))\n",
    "\n",
    "diff_in_days=diff_in_days.drop(['ORDER_TS','MAX_ORDER_TS'])\n",
    "\n",
    "diff_in_days.show()"
   ]
  },
  {
   "attachments": {},
   "cell_type": "markdown",
   "id": "776061f6",
   "metadata": {},
   "source": [
    "### 3.1.5 Join Generated Variables"
   ]
  },
  {
   "cell_type": "code",
   "execution_count": 53,
   "id": "95506e69",
   "metadata": {},
   "outputs": [],
   "source": [
    "# Merge to get final dataframe\n",
    "final_df = RFM_table.join(max_order_ts, on='CUSTOMER_ID', how='inner')\n",
    "final_df = final_df.join(avg_time_diff, on='CUSTOMER_ID', how='inner')\n",
    "final_df = final_df.join(max_days, on='CUSTOMER_ID', how='inner')\n",
    "final_df = final_df.join(min_days, on='CUSTOMER_ID', how='inner')\n",
    "final_df = final_df.join(cust_demo,on='CUSTOMER_ID',how='inner')\n",
    "final_df = final_df.join(diff_in_days,on='CUSTOMER_ID',how='inner')\n",
    "final_df = final_df.join(num_of_locations_visited,on='CUSTOMER_ID',how='inner')"
   ]
  },
  {
   "attachments": {},
   "cell_type": "markdown",
   "id": "aeb90423",
   "metadata": {},
   "source": [
    "We joined all the different tables to get all the columns in the same table by inner joining all the different tables on the CUSTOMER_ID column. The joined table contains all the different features we will be using to predict the target."
   ]
  },
  {
   "cell_type": "markdown",
   "id": "de3f0b8f",
   "metadata": {},
   "source": [
    "#### Attempted Improvement: Created Relative Purchase Frequency and Monetary"
   ]
  },
  {
   "cell_type": "code",
   "execution_count": 54,
   "id": "e89be1d1",
   "metadata": {},
   "outputs": [],
   "source": [
    "final_df=final_df.with_column('RELATIVE_PURCHASE_FREQUENCY',(F.col('FREQUENCY')/F.col('Length_of_Relationship')).cast('float'))\n",
    "final_df=final_df.with_column('RELATIVE_PURCHASE_MONETARY',(F.col('MONETARY')/F.col('Length_of_Relationship')).cast('float'))"
   ]
  },
  {
   "attachments": {},
   "cell_type": "markdown",
   "id": "5d89694c",
   "metadata": {},
   "source": [
    "### 3.1.7 Filter to selected Country"
   ]
  },
  {
   "cell_type": "code",
   "execution_count": 55,
   "id": "8f8692f7",
   "metadata": {},
   "outputs": [],
   "source": [
    "# Filter to United States\n",
    "final_df=final_df.filter(F.col('COUNTRY')=='United States')"
   ]
  },
  {
   "attachments": {},
   "cell_type": "markdown",
   "id": "e84299d0",
   "metadata": {},
   "source": [
    "We filtered the data to only have records for the United States. This is because we are only interested in the United States as shown above due to its high churn rate and high number of customers"
   ]
  },
  {
   "cell_type": "code",
   "execution_count": 56,
   "id": "dc90e2f3",
   "metadata": {},
   "outputs": [],
   "source": [
    "# Sort CustomerID\n",
    "final_df=final_df.sort('CUSTOMER_ID')"
   ]
  },
  {
   "cell_type": "code",
   "execution_count": 57,
   "id": "c4d31ac2",
   "metadata": {},
   "outputs": [],
   "source": [
    "# Convert to pandas\n",
    "final_df=final_df.to_pandas()"
   ]
  },
  {
   "attachments": {},
   "cell_type": "markdown",
   "id": "96657bfa",
   "metadata": {},
   "source": [
    "We converted the table to pandas because we want to carry out data manipulation."
   ]
  },
  {
   "attachments": {},
   "cell_type": "markdown",
   "id": "40dc4f32",
   "metadata": {},
   "source": [
    "## 3.2 Outlier Handling"
   ]
  },
  {
   "attachments": {},
   "cell_type": "markdown",
   "id": "ad627369",
   "metadata": {},
   "source": [
    "### 3.2.1 Identify Numericals"
   ]
  },
  {
   "cell_type": "code",
   "execution_count": 58,
   "id": "be573be5",
   "metadata": {},
   "outputs": [],
   "source": [
    "num_cols=final_df.select_dtypes(exclude=['object','datetime64[ns]']).columns"
   ]
  },
  {
   "attachments": {},
   "cell_type": "markdown",
   "id": "75663bb9",
   "metadata": {},
   "source": [
    "### 3.2.2 Visualise Outliers"
   ]
  },
  {
   "cell_type": "code",
   "execution_count": 59,
   "id": "35026564",
   "metadata": {},
   "outputs": [],
   "source": [
    "# Function to explore the distributuion of variables\n",
    "def diagnostic_plots(df, variable):\n",
    "    # function takes a dataframe (df) and\n",
    "    # the variable of interest as arguments\n",
    "\n",
    "    # define figure size\n",
    "    fig=plt.figure(figsize=(12, 4))\n",
    "    fig.suptitle(variable)\n",
    "    \n",
    "    # histogram\n",
    "    plt.subplot(1, 2, 1)\n",
    "    sns.histplot(df[variable], bins=30,kde=True)\n",
    "    plt.title('Histogram')\n",
    "\n",
    "    # boxplot\n",
    "    plt.subplot(1, 2, 2)\n",
    "    sns.boxplot(y=df[variable])\n",
    "    plt.title('Boxplot')\n",
    "    \n",
    "    plt.show()"
   ]
  },
  {
   "cell_type": "code",
   "execution_count": 60,
   "id": "2ce723b3",
   "metadata": {},
   "outputs": [],
   "source": [
    "# function to create before and after histogram\n",
    "def before_after_histogram(df_before,df_after, variable):\n",
    "    # function takes a dataframe (df) and\n",
    "    # the variable of interest as arguments\n",
    "\n",
    "    # define figure size\n",
    "    plt.figure(figsize=(16, 4))\n",
    "\n",
    "    # histogram\n",
    "    plt.subplot(1, 2, 1)\n",
    "    sns.histplot(df_before[variable], bins=30)\n",
    "    plt.title('Before')\n",
    "\n",
    "    # histogram\n",
    "    plt.subplot(1, 2, 2)\n",
    "    sns.histplot(df_after[variable], bins=30)\n",
    "    plt.title('After')\n",
    "\n",
    "    plt.suptitle(variable)\n",
    "\n",
    "    plt.show()"
   ]
  },
  {
   "attachments": {},
   "cell_type": "markdown",
   "id": "7ec9b939",
   "metadata": {},
   "source": [
    "### 3.2.3 Cap the Outliers"
   ]
  },
  {
   "attachments": {},
   "cell_type": "markdown",
   "id": "7bc0ed82",
   "metadata": {},
   "source": [
    "#### 3.2.3.1 Cap by IQR"
   ]
  },
  {
   "cell_type": "code",
   "execution_count": 61,
   "id": "aaeac27e",
   "metadata": {},
   "outputs": [
    {
     "data": {
      "text/html": [
       "<style>#sk-container-id-1 {color: black;background-color: white;}#sk-container-id-1 pre{padding: 0;}#sk-container-id-1 div.sk-toggleable {background-color: white;}#sk-container-id-1 label.sk-toggleable__label {cursor: pointer;display: block;width: 100%;margin-bottom: 0;padding: 0.3em;box-sizing: border-box;text-align: center;}#sk-container-id-1 label.sk-toggleable__label-arrow:before {content: \"▸\";float: left;margin-right: 0.25em;color: #696969;}#sk-container-id-1 label.sk-toggleable__label-arrow:hover:before {color: black;}#sk-container-id-1 div.sk-estimator:hover label.sk-toggleable__label-arrow:before {color: black;}#sk-container-id-1 div.sk-toggleable__content {max-height: 0;max-width: 0;overflow: hidden;text-align: left;background-color: #f0f8ff;}#sk-container-id-1 div.sk-toggleable__content pre {margin: 0.2em;color: black;border-radius: 0.25em;background-color: #f0f8ff;}#sk-container-id-1 input.sk-toggleable__control:checked~div.sk-toggleable__content {max-height: 200px;max-width: 100%;overflow: auto;}#sk-container-id-1 input.sk-toggleable__control:checked~label.sk-toggleable__label-arrow:before {content: \"▾\";}#sk-container-id-1 div.sk-estimator input.sk-toggleable__control:checked~label.sk-toggleable__label {background-color: #d4ebff;}#sk-container-id-1 div.sk-label input.sk-toggleable__control:checked~label.sk-toggleable__label {background-color: #d4ebff;}#sk-container-id-1 input.sk-hidden--visually {border: 0;clip: rect(1px 1px 1px 1px);clip: rect(1px, 1px, 1px, 1px);height: 1px;margin: -1px;overflow: hidden;padding: 0;position: absolute;width: 1px;}#sk-container-id-1 div.sk-estimator {font-family: monospace;background-color: #f0f8ff;border: 1px dotted black;border-radius: 0.25em;box-sizing: border-box;margin-bottom: 0.5em;}#sk-container-id-1 div.sk-estimator:hover {background-color: #d4ebff;}#sk-container-id-1 div.sk-parallel-item::after {content: \"\";width: 100%;border-bottom: 1px solid gray;flex-grow: 1;}#sk-container-id-1 div.sk-label:hover label.sk-toggleable__label {background-color: #d4ebff;}#sk-container-id-1 div.sk-serial::before {content: \"\";position: absolute;border-left: 1px solid gray;box-sizing: border-box;top: 0;bottom: 0;left: 50%;z-index: 0;}#sk-container-id-1 div.sk-serial {display: flex;flex-direction: column;align-items: center;background-color: white;padding-right: 0.2em;padding-left: 0.2em;position: relative;}#sk-container-id-1 div.sk-item {position: relative;z-index: 1;}#sk-container-id-1 div.sk-parallel {display: flex;align-items: stretch;justify-content: center;background-color: white;position: relative;}#sk-container-id-1 div.sk-item::before, #sk-container-id-1 div.sk-parallel-item::before {content: \"\";position: absolute;border-left: 1px solid gray;box-sizing: border-box;top: 0;bottom: 0;left: 50%;z-index: -1;}#sk-container-id-1 div.sk-parallel-item {display: flex;flex-direction: column;z-index: 1;position: relative;background-color: white;}#sk-container-id-1 div.sk-parallel-item:first-child::after {align-self: flex-end;width: 50%;}#sk-container-id-1 div.sk-parallel-item:last-child::after {align-self: flex-start;width: 50%;}#sk-container-id-1 div.sk-parallel-item:only-child::after {width: 0;}#sk-container-id-1 div.sk-dashed-wrapped {border: 1px dashed gray;margin: 0 0.4em 0.5em 0.4em;box-sizing: border-box;padding-bottom: 0.4em;background-color: white;}#sk-container-id-1 div.sk-label label {font-family: monospace;font-weight: bold;display: inline-block;line-height: 1.2em;}#sk-container-id-1 div.sk-label-container {text-align: center;}#sk-container-id-1 div.sk-container {/* jupyter's `normalize.less` sets `[hidden] { display: none; }` but bootstrap.min.css set `[hidden] { display: none !important; }` so we also need the `!important` here to be able to override the default hidden behavior on the sphinx rendered scikit-learn.org. See: https://github.com/scikit-learn/scikit-learn/issues/21755 */display: inline-block !important;position: relative;}#sk-container-id-1 div.sk-text-repr-fallback {display: none;}</style><div id=\"sk-container-id-1\" class=\"sk-top-container\"><div class=\"sk-text-repr-fallback\"><pre>Winsorizer(capping_method=&#x27;iqr&#x27;, tail=&#x27;both&#x27;,\n",
       "           variables=[&#x27;RECENCY&#x27;, &#x27;AVG_DAYS_BETWEEN_PURCHASE&#x27;,\n",
       "                      &#x27;MAX_DAYS_WITHOUT_PURCHASE&#x27;])</pre><b>In a Jupyter environment, please rerun this cell to show the HTML representation or trust the notebook. <br />On GitHub, the HTML representation is unable to render, please try loading this page with nbviewer.org.</b></div><div class=\"sk-container\" hidden><div class=\"sk-item\"><div class=\"sk-estimator sk-toggleable\"><input class=\"sk-toggleable__control sk-hidden--visually\" id=\"sk-estimator-id-1\" type=\"checkbox\" checked><label for=\"sk-estimator-id-1\" class=\"sk-toggleable__label sk-toggleable__label-arrow\">Winsorizer</label><div class=\"sk-toggleable__content\"><pre>Winsorizer(capping_method=&#x27;iqr&#x27;, tail=&#x27;both&#x27;,\n",
       "           variables=[&#x27;RECENCY&#x27;, &#x27;AVG_DAYS_BETWEEN_PURCHASE&#x27;,\n",
       "                      &#x27;MAX_DAYS_WITHOUT_PURCHASE&#x27;])</pre></div></div></div></div></div>"
      ],
      "text/plain": [
       "Winsorizer(capping_method='iqr', tail='both',\n",
       "           variables=['RECENCY', 'AVG_DAYS_BETWEEN_PURCHASE',\n",
       "                      'MAX_DAYS_WITHOUT_PURCHASE'])"
      ]
     },
     "execution_count": 61,
     "metadata": {},
     "output_type": "execute_result"
    }
   ],
   "source": [
    "# create the capper\n",
    "windsorizer = Winsorizer(capping_method='iqr', # choose iqr for skewed or gaussian for normal\n",
    "                          tail='both', # cap left, right or both tails \n",
    "                          fold=3,\n",
    "                          variables=['RECENCY','AVG_DAYS_BETWEEN_PURCHASE','MAX_DAYS_WITHOUT_PURCHASE'])\n",
    "\n",
    "windsorizer.fit(final_df)\n"
   ]
  },
  {
   "cell_type": "code",
   "execution_count": 62,
   "id": "c15aa6be",
   "metadata": {},
   "outputs": [],
   "source": [
    "final_df_win = windsorizer.transform(final_df)"
   ]
  },
  {
   "attachments": {},
   "cell_type": "markdown",
   "id": "633de7f5",
   "metadata": {},
   "source": [
    "Cap by IQR for distributions with high skewness. (Outliers = 75th percentile onwards)"
   ]
  },
  {
   "attachments": {},
   "cell_type": "markdown",
   "id": "91c49b68",
   "metadata": {},
   "source": [
    "#### 3.2.3.2 Cap by Gaussian"
   ]
  },
  {
   "cell_type": "code",
   "execution_count": 63,
   "id": "124422d9",
   "metadata": {},
   "outputs": [
    {
     "data": {
      "text/html": [
       "<style>#sk-container-id-2 {color: black;background-color: white;}#sk-container-id-2 pre{padding: 0;}#sk-container-id-2 div.sk-toggleable {background-color: white;}#sk-container-id-2 label.sk-toggleable__label {cursor: pointer;display: block;width: 100%;margin-bottom: 0;padding: 0.3em;box-sizing: border-box;text-align: center;}#sk-container-id-2 label.sk-toggleable__label-arrow:before {content: \"▸\";float: left;margin-right: 0.25em;color: #696969;}#sk-container-id-2 label.sk-toggleable__label-arrow:hover:before {color: black;}#sk-container-id-2 div.sk-estimator:hover label.sk-toggleable__label-arrow:before {color: black;}#sk-container-id-2 div.sk-toggleable__content {max-height: 0;max-width: 0;overflow: hidden;text-align: left;background-color: #f0f8ff;}#sk-container-id-2 div.sk-toggleable__content pre {margin: 0.2em;color: black;border-radius: 0.25em;background-color: #f0f8ff;}#sk-container-id-2 input.sk-toggleable__control:checked~div.sk-toggleable__content {max-height: 200px;max-width: 100%;overflow: auto;}#sk-container-id-2 input.sk-toggleable__control:checked~label.sk-toggleable__label-arrow:before {content: \"▾\";}#sk-container-id-2 div.sk-estimator input.sk-toggleable__control:checked~label.sk-toggleable__label {background-color: #d4ebff;}#sk-container-id-2 div.sk-label input.sk-toggleable__control:checked~label.sk-toggleable__label {background-color: #d4ebff;}#sk-container-id-2 input.sk-hidden--visually {border: 0;clip: rect(1px 1px 1px 1px);clip: rect(1px, 1px, 1px, 1px);height: 1px;margin: -1px;overflow: hidden;padding: 0;position: absolute;width: 1px;}#sk-container-id-2 div.sk-estimator {font-family: monospace;background-color: #f0f8ff;border: 1px dotted black;border-radius: 0.25em;box-sizing: border-box;margin-bottom: 0.5em;}#sk-container-id-2 div.sk-estimator:hover {background-color: #d4ebff;}#sk-container-id-2 div.sk-parallel-item::after {content: \"\";width: 100%;border-bottom: 1px solid gray;flex-grow: 1;}#sk-container-id-2 div.sk-label:hover label.sk-toggleable__label {background-color: #d4ebff;}#sk-container-id-2 div.sk-serial::before {content: \"\";position: absolute;border-left: 1px solid gray;box-sizing: border-box;top: 0;bottom: 0;left: 50%;z-index: 0;}#sk-container-id-2 div.sk-serial {display: flex;flex-direction: column;align-items: center;background-color: white;padding-right: 0.2em;padding-left: 0.2em;position: relative;}#sk-container-id-2 div.sk-item {position: relative;z-index: 1;}#sk-container-id-2 div.sk-parallel {display: flex;align-items: stretch;justify-content: center;background-color: white;position: relative;}#sk-container-id-2 div.sk-item::before, #sk-container-id-2 div.sk-parallel-item::before {content: \"\";position: absolute;border-left: 1px solid gray;box-sizing: border-box;top: 0;bottom: 0;left: 50%;z-index: -1;}#sk-container-id-2 div.sk-parallel-item {display: flex;flex-direction: column;z-index: 1;position: relative;background-color: white;}#sk-container-id-2 div.sk-parallel-item:first-child::after {align-self: flex-end;width: 50%;}#sk-container-id-2 div.sk-parallel-item:last-child::after {align-self: flex-start;width: 50%;}#sk-container-id-2 div.sk-parallel-item:only-child::after {width: 0;}#sk-container-id-2 div.sk-dashed-wrapped {border: 1px dashed gray;margin: 0 0.4em 0.5em 0.4em;box-sizing: border-box;padding-bottom: 0.4em;background-color: white;}#sk-container-id-2 div.sk-label label {font-family: monospace;font-weight: bold;display: inline-block;line-height: 1.2em;}#sk-container-id-2 div.sk-label-container {text-align: center;}#sk-container-id-2 div.sk-container {/* jupyter's `normalize.less` sets `[hidden] { display: none; }` but bootstrap.min.css set `[hidden] { display: none !important; }` so we also need the `!important` here to be able to override the default hidden behavior on the sphinx rendered scikit-learn.org. See: https://github.com/scikit-learn/scikit-learn/issues/21755 */display: inline-block !important;position: relative;}#sk-container-id-2 div.sk-text-repr-fallback {display: none;}</style><div id=\"sk-container-id-2\" class=\"sk-top-container\"><div class=\"sk-text-repr-fallback\"><pre>Winsorizer(tail=&#x27;both&#x27;, variables=[&#x27;FREQUENCY&#x27;, &#x27;MONETARY&#x27;])</pre><b>In a Jupyter environment, please rerun this cell to show the HTML representation or trust the notebook. <br />On GitHub, the HTML representation is unable to render, please try loading this page with nbviewer.org.</b></div><div class=\"sk-container\" hidden><div class=\"sk-item\"><div class=\"sk-estimator sk-toggleable\"><input class=\"sk-toggleable__control sk-hidden--visually\" id=\"sk-estimator-id-2\" type=\"checkbox\" checked><label for=\"sk-estimator-id-2\" class=\"sk-toggleable__label sk-toggleable__label-arrow\">Winsorizer</label><div class=\"sk-toggleable__content\"><pre>Winsorizer(tail=&#x27;both&#x27;, variables=[&#x27;FREQUENCY&#x27;, &#x27;MONETARY&#x27;])</pre></div></div></div></div></div>"
      ],
      "text/plain": [
       "Winsorizer(tail='both', variables=['FREQUENCY', 'MONETARY'])"
      ]
     },
     "execution_count": 63,
     "metadata": {},
     "output_type": "execute_result"
    }
   ],
   "source": [
    "# create the capper\n",
    "windsorizer = Winsorizer(capping_method='gaussian', # choose iqr for skewed or gaussian for normal\n",
    "                          tail='both', # cap left, right or both tails \n",
    "                          fold=3,\n",
    "                          variables=['FREQUENCY','MONETARY'])\n",
    "\n",
    "windsorizer.fit(final_df_win)"
   ]
  },
  {
   "cell_type": "code",
   "execution_count": 64,
   "id": "8da1c9cf",
   "metadata": {},
   "outputs": [],
   "source": [
    "final_df_win = windsorizer.transform(final_df_win)"
   ]
  },
  {
   "attachments": {},
   "cell_type": "markdown",
   "id": "67f96370",
   "metadata": {},
   "source": [
    "Cap by gaussian for distributions with a normal ditribution. (Outliers = 3 Standard-deviations away)"
   ]
  },
  {
   "attachments": {},
   "cell_type": "markdown",
   "id": "9f08b426",
   "metadata": {},
   "source": [
    "It can be seen that much of the outliers have been 'Capped' where all values above a certain threshold are placed at the uppermost limit. This ensures that the machine learning model will not be trained for anomalies and outliers but for the majority of members\n",
    "\n",
    "We see that AVG_DAYS_BETWEEN_PURCHASE and MAX_DAYS_WITHOUT_PURCHASE has had a significant amount of outlier handling done, where the maximum values for both have been halved, down from 70 to 45 and 800 to 350 respectively.\n",
    "\n",
    "By reducing the variable range, it helps the model focus on the key patterns and relationships within the majority of the data."
   ]
  },
  {
   "attachments": {},
   "cell_type": "markdown",
   "id": "638ca938",
   "metadata": {},
   "source": [
    "## 3.3 Numerical Transformation"
   ]
  },
  {
   "attachments": {},
   "cell_type": "markdown",
   "id": "13904889",
   "metadata": {},
   "source": [
    "### 3.3.1 Visualise Numericals"
   ]
  },
  {
   "attachments": {},
   "cell_type": "markdown",
   "id": "6f6d83f8",
   "metadata": {},
   "source": [
    "### 3.3.2 YeoJohnson Transformer"
   ]
  },
  {
   "cell_type": "code",
   "execution_count": 65,
   "id": "29f1026c",
   "metadata": {},
   "outputs": [],
   "source": [
    "# create untransformed copy of the dataframe for customer segmentation\n",
    "cust_seg_ori = final_df_win.copy()"
   ]
  },
  {
   "cell_type": "code",
   "execution_count": 66,
   "id": "e11026f2",
   "metadata": {},
   "outputs": [
    {
     "data": {
      "text/html": [
       "<style>#sk-container-id-3 {color: black;background-color: white;}#sk-container-id-3 pre{padding: 0;}#sk-container-id-3 div.sk-toggleable {background-color: white;}#sk-container-id-3 label.sk-toggleable__label {cursor: pointer;display: block;width: 100%;margin-bottom: 0;padding: 0.3em;box-sizing: border-box;text-align: center;}#sk-container-id-3 label.sk-toggleable__label-arrow:before {content: \"▸\";float: left;margin-right: 0.25em;color: #696969;}#sk-container-id-3 label.sk-toggleable__label-arrow:hover:before {color: black;}#sk-container-id-3 div.sk-estimator:hover label.sk-toggleable__label-arrow:before {color: black;}#sk-container-id-3 div.sk-toggleable__content {max-height: 0;max-width: 0;overflow: hidden;text-align: left;background-color: #f0f8ff;}#sk-container-id-3 div.sk-toggleable__content pre {margin: 0.2em;color: black;border-radius: 0.25em;background-color: #f0f8ff;}#sk-container-id-3 input.sk-toggleable__control:checked~div.sk-toggleable__content {max-height: 200px;max-width: 100%;overflow: auto;}#sk-container-id-3 input.sk-toggleable__control:checked~label.sk-toggleable__label-arrow:before {content: \"▾\";}#sk-container-id-3 div.sk-estimator input.sk-toggleable__control:checked~label.sk-toggleable__label {background-color: #d4ebff;}#sk-container-id-3 div.sk-label input.sk-toggleable__control:checked~label.sk-toggleable__label {background-color: #d4ebff;}#sk-container-id-3 input.sk-hidden--visually {border: 0;clip: rect(1px 1px 1px 1px);clip: rect(1px, 1px, 1px, 1px);height: 1px;margin: -1px;overflow: hidden;padding: 0;position: absolute;width: 1px;}#sk-container-id-3 div.sk-estimator {font-family: monospace;background-color: #f0f8ff;border: 1px dotted black;border-radius: 0.25em;box-sizing: border-box;margin-bottom: 0.5em;}#sk-container-id-3 div.sk-estimator:hover {background-color: #d4ebff;}#sk-container-id-3 div.sk-parallel-item::after {content: \"\";width: 100%;border-bottom: 1px solid gray;flex-grow: 1;}#sk-container-id-3 div.sk-label:hover label.sk-toggleable__label {background-color: #d4ebff;}#sk-container-id-3 div.sk-serial::before {content: \"\";position: absolute;border-left: 1px solid gray;box-sizing: border-box;top: 0;bottom: 0;left: 50%;z-index: 0;}#sk-container-id-3 div.sk-serial {display: flex;flex-direction: column;align-items: center;background-color: white;padding-right: 0.2em;padding-left: 0.2em;position: relative;}#sk-container-id-3 div.sk-item {position: relative;z-index: 1;}#sk-container-id-3 div.sk-parallel {display: flex;align-items: stretch;justify-content: center;background-color: white;position: relative;}#sk-container-id-3 div.sk-item::before, #sk-container-id-3 div.sk-parallel-item::before {content: \"\";position: absolute;border-left: 1px solid gray;box-sizing: border-box;top: 0;bottom: 0;left: 50%;z-index: -1;}#sk-container-id-3 div.sk-parallel-item {display: flex;flex-direction: column;z-index: 1;position: relative;background-color: white;}#sk-container-id-3 div.sk-parallel-item:first-child::after {align-self: flex-end;width: 50%;}#sk-container-id-3 div.sk-parallel-item:last-child::after {align-self: flex-start;width: 50%;}#sk-container-id-3 div.sk-parallel-item:only-child::after {width: 0;}#sk-container-id-3 div.sk-dashed-wrapped {border: 1px dashed gray;margin: 0 0.4em 0.5em 0.4em;box-sizing: border-box;padding-bottom: 0.4em;background-color: white;}#sk-container-id-3 div.sk-label label {font-family: monospace;font-weight: bold;display: inline-block;line-height: 1.2em;}#sk-container-id-3 div.sk-label-container {text-align: center;}#sk-container-id-3 div.sk-container {/* jupyter's `normalize.less` sets `[hidden] { display: none; }` but bootstrap.min.css set `[hidden] { display: none !important; }` so we also need the `!important` here to be able to override the default hidden behavior on the sphinx rendered scikit-learn.org. See: https://github.com/scikit-learn/scikit-learn/issues/21755 */display: inline-block !important;position: relative;}#sk-container-id-3 div.sk-text-repr-fallback {display: none;}</style><div id=\"sk-container-id-3\" class=\"sk-top-container\"><div class=\"sk-text-repr-fallback\"><pre>YeoJohnsonTransformer(variables=[&#x27;RECENCY&#x27;, &#x27;AVG_DAYS_BETWEEN_PURCHASE&#x27;,\n",
       "                                 &#x27;MAX_DAYS_WITHOUT_PURCHASE&#x27;])</pre><b>In a Jupyter environment, please rerun this cell to show the HTML representation or trust the notebook. <br />On GitHub, the HTML representation is unable to render, please try loading this page with nbviewer.org.</b></div><div class=\"sk-container\" hidden><div class=\"sk-item\"><div class=\"sk-estimator sk-toggleable\"><input class=\"sk-toggleable__control sk-hidden--visually\" id=\"sk-estimator-id-3\" type=\"checkbox\" checked><label for=\"sk-estimator-id-3\" class=\"sk-toggleable__label sk-toggleable__label-arrow\">YeoJohnsonTransformer</label><div class=\"sk-toggleable__content\"><pre>YeoJohnsonTransformer(variables=[&#x27;RECENCY&#x27;, &#x27;AVG_DAYS_BETWEEN_PURCHASE&#x27;,\n",
       "                                 &#x27;MAX_DAYS_WITHOUT_PURCHASE&#x27;])</pre></div></div></div></div></div>"
      ],
      "text/plain": [
       "YeoJohnsonTransformer(variables=['RECENCY', 'AVG_DAYS_BETWEEN_PURCHASE',\n",
       "                                 'MAX_DAYS_WITHOUT_PURCHASE'])"
      ]
     },
     "execution_count": 66,
     "metadata": {},
     "output_type": "execute_result"
    }
   ],
   "source": [
    "# select variables to transform in a list\n",
    "cols = ['RECENCY', 'AVG_DAYS_BETWEEN_PURCHASE', 'MAX_DAYS_WITHOUT_PURCHASE']\n",
    "\n",
    "# initialize the transformer with a subset of variables to transform\n",
    "yjt = YeoJohnsonTransformer(variables = cols)\n",
    "\n",
    "# fit transformer to the dataframe\n",
    "yjt.fit(final_df_win)"
   ]
  },
  {
   "cell_type": "code",
   "execution_count": 67,
   "id": "bc6f8fb8",
   "metadata": {},
   "outputs": [],
   "source": [
    "# transform indicated variables\n",
    "final_df_yjt = yjt.transform(final_df_win)"
   ]
  },
  {
   "attachments": {},
   "cell_type": "markdown",
   "id": "c3ff00f0",
   "metadata": {},
   "source": [
    "It can be seen that the 3 variables to be transformed have achieved a more normal distribution. This ensures that the model avoids overfitting to the random noise of the data by reducing the variable range further, as well as further mitigates the effects of outliers."
   ]
  },
  {
   "cell_type": "code",
   "execution_count": 68,
   "id": "c6229d4f",
   "metadata": {},
   "outputs": [
    {
     "ename": "NameError",
     "evalue": "name 'Stop' is not defined",
     "output_type": "error",
     "traceback": [
      "\u001b[1;31m---------------------------------------------------------------------------\u001b[0m",
      "\u001b[1;31mNameError\u001b[0m                                 Traceback (most recent call last)",
      "Cell \u001b[1;32mIn[68], line 1\u001b[0m\n\u001b[1;32m----> 1\u001b[0m Stop\n",
      "\u001b[1;31mNameError\u001b[0m: name 'Stop' is not defined"
     ]
    }
   ],
   "source": [
    "Stop"
   ]
  },
  {
   "cell_type": "markdown",
   "id": "d008b212",
   "metadata": {},
   "source": [
    "# K-Means"
   ]
  },
  {
   "cell_type": "code",
   "execution_count": 94,
   "id": "bfc4d3f0",
   "metadata": {},
   "outputs": [],
   "source": [
    "# function to create change in silhoutte score and change against number of clusters\n",
    "def sse_eval(sse):\n",
    "    \n",
    "    percentage_change = [(sse[i+1] - sse[i]) / sse[i] * 100 for i in range(len(sse)-1)]\n",
    "\n",
    "    # define figure size\n",
    "    plt.figure(figsize=(16, 4))\n",
    "\n",
    "    # regular\n",
    "    plt.subplot(1, 2, 1)\n",
    "    plt.plot(range(1, 11), sse, 'b-*')\n",
    "    plt.title('Actual SSE')\n",
    "    plt.xlabel('Number of clusters')\n",
    "    plt.ylabel('SSE')\n",
    "\n",
    "    # difference\n",
    "    plt.subplot(1, 2, 2)\n",
    "    plt.plot(range(1, 10), percentage_change, 'b-*')\n",
    "    plt.title('% change in SSE')\n",
    "    plt.xlabel('Number of clusters')\n",
    "    plt.ylabel('% Change')\n",
    "\n",
    "    plt.suptitle('Sum of Squared Errors')\n",
    "\n",
    "    plt.show()"
   ]
  },
  {
   "cell_type": "code",
   "execution_count": 95,
   "id": "40a1eddd",
   "metadata": {},
   "outputs": [],
   "source": [
    "rfm_Table=cust_seg_ori[['RECENCY','FREQUENCY','MONETARY']]"
   ]
  },
  {
   "cell_type": "code",
   "execution_count": 96,
   "id": "3e49909c",
   "metadata": {},
   "outputs": [],
   "source": [
    "# With AGE\tLENGTH_OF_RELATIONSHIP\n",
    "# Min Max Scaler\n",
    "rfm_Table_Scaled=rfm_Table.copy()\n",
    "scaler = MinMaxScaler()\n",
    "\n",
    "# fit the scaler to the train set, it will learn the parameters\n",
    "scaler.fit(rfm_Table[['RECENCY','FREQUENCY','MONETARY']])\n",
    "\n",
    "# transform train and test sets\n",
    "rfm_Table_Scaled[['RECENCY','FREQUENCY','MONETARY']]= scaler.transform(rfm_Table[['RECENCY','FREQUENCY','MONETARY']])"
   ]
  },
  {
   "cell_type": "code",
   "execution_count": 97,
   "id": "569c8041",
   "metadata": {},
   "outputs": [],
   "source": [
    "# Find the optimal number of clusters (i.e. K) using elbow method\n",
    "sse = []\n",
    "for i in range(1, 11):\n",
    "    kmeans = KMeans(n_clusters=i, n_init=20, random_state=1)\n",
    "    kmeans.fit(rfm_Table_Scaled)\n",
    "    sse.append(kmeans.inertia_)"
   ]
  },
  {
   "cell_type": "code",
   "execution_count": 98,
   "id": "1dea4178",
   "metadata": {},
   "outputs": [
    {
     "data": {
      "image/png": "[encoded data removed]",
      "text/plain": [
       "<Figure size 1600x400 with 2 Axes>"
      ]
     },
     "metadata": {},
     "output_type": "display_data"
    }
   ],
   "source": [
    "sse_eval(sse)"
   ]
  },
  {
   "cell_type": "code",
   "execution_count": 99,
   "id": "d97aec40",
   "metadata": {},
   "outputs": [],
   "source": [
    "# num of clusters\n",
    "num_of_k_means_clusters = 5\n",
    "# Build a K-means clustering model\n",
    "km = KMeans(n_clusters=num_of_k_means_clusters, n_init=20, max_iter=300, random_state=1)\n",
    "# Fit the Model on our dataset\n",
    "km.fit(rfm_Table_Scaled)\n",
    "# Assign each data object/point to the cluster represented by its nearest centroid\n",
    "y_pred = km.predict(rfm_Table_Scaled)"
   ]
  },
  {
   "cell_type": "code",
   "execution_count": 100,
   "id": "6b02eb63",
   "metadata": {},
   "outputs": [
    {
     "data": {
      "text/html": [
       "<svg  width=\"275\" height=\"55\"><rect x=\"0\" y=\"0\" width=\"55\" height=\"55\" style=\"fill:#1f77b4;stroke-width:2;stroke:rgb(255,255,255)\"/><rect x=\"55\" y=\"0\" width=\"55\" height=\"55\" style=\"fill:#ff7f0e;stroke-width:2;stroke:rgb(255,255,255)\"/><rect x=\"110\" y=\"0\" width=\"55\" height=\"55\" style=\"fill:#2ca02c;stroke-width:2;stroke:rgb(255,255,255)\"/><rect x=\"165\" y=\"0\" width=\"55\" height=\"55\" style=\"fill:#d62728;stroke-width:2;stroke:rgb(255,255,255)\"/><rect x=\"220\" y=\"0\" width=\"55\" height=\"55\" style=\"fill:#9467bd;stroke-width:2;stroke:rgb(255,255,255)\"/></svg>"
      ],
      "text/plain": [
       "[(0.12156862745098039, 0.4666666666666667, 0.7058823529411765),\n",
       " (1.0, 0.4980392156862745, 0.054901960784313725),\n",
       " (0.17254901960784313, 0.6274509803921569, 0.17254901960784313),\n",
       " (0.8392156862745098, 0.15294117647058825, 0.1568627450980392),\n",
       " (0.5803921568627451, 0.403921568627451, 0.7411764705882353)]"
      ]
     },
     "execution_count": 100,
     "metadata": {},
     "output_type": "execute_result"
    }
   ],
   "source": [
    "# Define a custom color palette\n",
    "custom_palette_k_means = sns.color_palette(\"tab10\", n_colors=num_of_k_means_clusters)\n",
    "custom_palette_k_means"
   ]
  },
  {
   "cell_type": "code",
   "execution_count": 101,
   "id": "3750d891",
   "metadata": {},
   "outputs": [
    {
     "name": "stderr",
     "output_type": "stream",
     "text": [
      "C:\\Users\\ryanl\\AppData\\Local\\Temp\\ipykernel_26728\\289811850.py:2: SettingWithCopyWarning: \n",
      "A value is trying to be set on a copy of a slice from a DataFrame.\n",
      "Try using .loc[row_indexer,col_indexer] = value instead\n",
      "\n",
      "See the caveats in the documentation: https://pandas.pydata.org/pandas-docs/stable/user_guide/indexing.html#returning-a-view-versus-a-copy\n",
      "  rfm_Table['kmeans_cluster']=y_pred\n"
     ]
    }
   ],
   "source": [
    "# Add in cluster information into original dataframe (dat)\n",
    "rfm_Table['kmeans_cluster']=y_pred\n",
    "rfm_Table_Scaled['kmeans_cluster']=y_pred"
   ]
  },
  {
   "cell_type": "code",
   "execution_count": 102,
   "id": "6fdf3a99",
   "metadata": {},
   "outputs": [],
   "source": [
    "#test=rfm_Table.copy() #this is with the las torder"
   ]
  },
  {
   "cell_type": "code",
   "execution_count": 117,
   "id": "e5b8e00c",
   "metadata": {},
   "outputs": [
    {
     "name": "stderr",
     "output_type": "stream",
     "text": [
      "C:\\Users\\ryanl\\AppData\\Local\\Temp\\ipykernel_26728\\3805783098.py:16: FutureWarning: iteritems is deprecated and will be removed in a future version. Use .items instead.\n",
      "  for row_key, (ax,row) in box.iteritems():\n",
      "C:\\Users\\ryanl\\AppData\\Local\\Temp\\ipykernel_26728\\3805783098.py:16: FutureWarning: iteritems is deprecated and will be removed in a future version. Use .items instead.\n",
      "  for row_key, (ax,row) in box.iteritems():\n",
      "C:\\Users\\ryanl\\AppData\\Local\\Temp\\ipykernel_26728\\3805783098.py:16: FutureWarning: iteritems is deprecated and will be removed in a future version. Use .items instead.\n",
      "  for row_key, (ax,row) in box.iteritems():\n"
     ]
    },
    {
     "data": {
      "image/png": "[encoded data removed]",
      "text/plain": [
       "<Figure size 1200x400 with 3 Axes>"
      ]
     },
     "metadata": {},
     "output_type": "display_data"
    }
   ],
   "source": [
    "cluster_colors = ['#b4d2b1', '#cd7e59', '#ddb247', '#d15252', '#9b59b6', '#3498db', '#f39c12']\n",
    "# Add in cluster information into original dataframe (dat)\n",
    "\n",
    "\n",
    "# Groupped Boxplots\n",
    "\n",
    "features = ['RECENCY','FREQUENCY','MONETARY']\n",
    "ncols = 3\n",
    "nrows = len(features) // ncols + (len(features) % ncols > 0)\n",
    "fig = plt.figure(figsize=(12,4))\n",
    "\n",
    "for n, feature in enumerate(features):\n",
    "    ax = plt.subplot(nrows, ncols, n + 1)\n",
    "    box = rfm_Table[[feature, 'kmeans_cluster']].boxplot(by='kmeans_cluster',ax=ax,return_type='both',patch_artist = True)\n",
    "\n",
    "    for row_key, (ax,row) in box.iteritems():\n",
    "        ax.set_xlabel('cluster')\n",
    "        ax.set_title(feature,fontweight=\"bold\")\n",
    "        for i,box in enumerate(row['boxes']):\n",
    "            box.set_facecolor(cluster_colors[i])\n",
    "\n",
    "fig.suptitle('Feature distributions per cluster', fontsize=18, y=1)   \n",
    "plt.tight_layout()\n",
    "plt.show()"
   ]
  },
  {
   "cell_type": "code",
   "execution_count": 105,
   "id": "50214362",
   "metadata": {},
   "outputs": [],
   "source": [
    "analysis_df=rfm_Table[['RECENCY','FREQUENCY','MONETARY','kmeans_cluster']]"
   ]
  },
  {
   "cell_type": "code",
   "execution_count": 106,
   "id": "13b505d8",
   "metadata": {},
   "outputs": [
    {
     "name": "stdout",
     "output_type": "stream",
     "text": [
      "Cluster 0 Description:\n",
      "            RECENCY     FREQUENCY      MONETARY  kmeans_cluster\n",
      "count  15177.000000  15177.000000  15177.000000         15177.0\n",
      "mean      13.067668     54.285564   2062.624646             0.0\n",
      "std        7.122689      4.373209    201.630990             0.0\n",
      "min        0.000000     39.000000   1348.750000             0.0\n",
      "25%        7.000000     51.000000   1917.750000             0.0\n",
      "50%       12.000000     54.000000   2070.000000             0.0\n",
      "75%       19.000000     57.000000   2214.250000             0.0\n",
      "max       29.000000     68.000000   2690.000000             0.0\n",
      "------------\n",
      "Cluster 1 Description:\n",
      "           RECENCY    FREQUENCY     MONETARY  kmeans_cluster\n",
      "count  3896.000000  3896.000000  3896.000000          3896.0\n",
      "mean     61.972279    39.951761  1484.978976             1.0\n",
      "std      14.789746     7.405753   319.546959             0.0\n",
      "min      41.000000    20.686715   562.670357             1.0\n",
      "25%      49.000000    35.000000  1256.187500             1.0\n",
      "50%      59.000000    40.000000  1484.500000             1.0\n",
      "75%      73.000000    45.000000  1695.812500             1.0\n",
      "max      90.000000    66.000000  2542.750000             1.0\n",
      "------------\n",
      "Cluster 2 Description:\n",
      "            RECENCY     FREQUENCY      MONETARY  kmeans_cluster\n",
      "count  11256.000000  11256.000000  11256.000000         11256.0\n",
      "mean      13.726190     65.509465   2642.293556             2.0\n",
      "std        8.234028      5.019522    259.498999             0.0\n",
      "min        0.000000     51.000000   2003.250000             2.0\n",
      "25%        7.000000     62.000000   2454.687500             2.0\n",
      "50%       12.000000     65.000000   2599.750000             2.0\n",
      "75%       20.000000     68.000000   2794.250000             2.0\n",
      "max       51.000000     85.725942   3544.666943             2.0\n",
      "------------\n",
      "Cluster 3 Description:\n",
      "           RECENCY    FREQUENCY     MONETARY  kmeans_cluster\n",
      "count  6874.000000  6874.000000  6874.000000          6874.0\n",
      "mean     40.849142    56.231452  2189.397367             3.0\n",
      "std      11.195163     5.700753   278.640225             0.0\n",
      "min      26.000000    40.000000  1303.750000             3.0\n",
      "25%      32.000000    52.000000  1984.500000             3.0\n",
      "50%      38.000000    56.000000  2171.125000             3.0\n",
      "75%      47.000000    60.000000  2369.000000             3.0\n",
      "max      90.000000    80.000000  3342.250000             3.0\n",
      "------------\n",
      "Cluster 4 Description:\n",
      "           RECENCY    FREQUENCY     MONETARY  kmeans_cluster\n",
      "count  9097.000000  9097.000000  9097.000000          9097.0\n",
      "mean     20.222161    39.571548  1450.567495             4.0\n",
      "std       9.947952     5.418472   236.379771             0.0\n",
      "min       0.000000    20.686715   566.000000             4.0\n",
      "25%      12.000000    36.000000  1291.500000             4.0\n",
      "50%      20.000000    40.000000  1471.500000             4.0\n",
      "75%      28.000000    44.000000  1627.250000             4.0\n",
      "max      41.000000    53.000000  2171.750000             4.0\n",
      "------------\n"
     ]
    }
   ],
   "source": [
    "# Step 1: Group the DataFrame by 'kmeans_cluster'\n",
    "cluster_groups = analysis_df.groupby('kmeans_cluster')\n",
    "\n",
    "# Step 2: Iterate through each cluster group and apply .info() function\n",
    "for cluster, cluster_df in cluster_groups:\n",
    "    print(f\"Cluster {cluster} Description:\")\n",
    "    print(cluster_df.describe())\n",
    "    print(\"------------\")"
   ]
  },
  {
   "cell_type": "markdown",
   "id": "427a0957",
   "metadata": {},
   "source": [
    "**Cluster 0: \"Active Moderate-Value Customers\"**\n",
    "- Description: This cluster represents customers who are active, show moderate recency (recent purchases), and have a moderate level of spending (moderate monetary value).\n",
    "\n",
    "**Cluster 1: \"Inactive Low-Spending Customers\"**\n",
    "- Description: This cluster consists of customers who exhibit high recency (longest inactivity), low spending (lowest monetary value), and have low purchase frequency (low frequency). These customers are currently inactive and have not made recent purchases.\n",
    "\n",
    "**Cluster 2: \"High-Value Loyal Customers\"**\n",
    "- Description: This cluster includes customers who are both high-value and highly loyal to the business. They have moderate recency (recent purchases), a high purchase frequency (high frequency), and spend significantly (high monetary value). These customers are the most valuable and loyal members, representing a critical segment for the business's ongoing success.\n",
    "\n",
    "**Cluster 3: \"Engaged Moderate-Value Customers\"**\n",
    "- Description: This cluster comprises customers who show moderate recency (recent purchases), a moderate purchase frequency (moderate frequency), and have a moderate level of spending (moderate monetary value). They are actively engaged with the brand and contribute to the business's success.\n",
    "\n",
    "**Cluster 4: \"Active Low-Spending Customers\"**\n",
    "- Description: This cluster consists of customers who have made recent purchases (moderate recency), but their spending is relatively low (low monetary value). They exhibit moderate purchase frequency (moderate frequency) and represent an active but low-spending segment."
   ]
  },
  {
   "cell_type": "code",
   "execution_count": 107,
   "id": "c3dfcf9d",
   "metadata": {},
   "outputs": [],
   "source": [
    "# range_n_clusters = [2, 3, 4, 5, 6]\n",
    "\n",
    "# for n_clusters in range_n_clusters:\n",
    "#     # Create a subplot with 1 row and 1 column (removed ax2)\n",
    "#     fig, ax1 = plt.subplots(1, 1)\n",
    "#     fig.set_size_inches(12, 7)\n",
    "\n",
    "#     ax1.set_xlim([-0.1, 1])\n",
    "#     ax1.set_ylim([0, len(cust_seg_after_scaling) + (n_clusters + 1) * 10])\n",
    "\n",
    "#     clusterer = KMeans(n_clusters=n_clusters, n_init=20, max_iter=300, random_state=1)\n",
    "#     cluster_labels = clusterer.fit_predict(cust_seg_after_scaling)\n",
    "\n",
    "#     silhouette_avg = silhouette_score(cust_seg_after_scaling, cluster_labels)\n",
    "#     print(\"For n_clusters =\", n_clusters, \"The average silhouette_score is :\", silhouette_avg)\n",
    "\n",
    "#     sample_silhouette_values = silhouette_samples(cust_seg_after_scaling, cluster_labels)\n",
    "\n",
    "#     y_lower = 10\n",
    "#     for i in range(n_clusters):\n",
    "#         ith_cluster_silhouette_values = sample_silhouette_values[cluster_labels == i]\n",
    "#         ith_cluster_silhouette_values.sort()\n",
    "#         size_cluster_i = ith_cluster_silhouette_values.shape[0]\n",
    "#         y_upper = y_lower + size_cluster_i\n",
    "#         color = cm.nipy_spectral(float(i) / n_clusters)\n",
    "#         ax1.fill_betweenx(\n",
    "#             np.arange(y_lower, y_upper),\n",
    "#             0,\n",
    "#             ith_cluster_silhouette_values,\n",
    "#             facecolor=color,\n",
    "#             edgecolor=color,\n",
    "#             alpha=0.7,\n",
    "#         )\n",
    "#         ax1.text(-0.05, y_lower + 0.5 * size_cluster_i, str(i))\n",
    "#         y_lower = y_upper + 10\n",
    "\n",
    "#     ax1.set_title(\"The silhouette plot for the various clusters.\")\n",
    "#     ax1.set_xlabel(\"The silhouette coefficient values\")\n",
    "#     ax1.set_ylabel(\"Cluster label\")\n",
    "#     ax1.axvline(x=silhouette_avg, color=\"red\", linestyle=\"--\")\n",
    "#     ax1.set_yticks([])\n",
    "#     ax1.set_xticks([-0.1, 0, 0.2, 0.4, 0.6, 0.8, 1])\n",
    "\n",
    "#     plt.suptitle(\n",
    "#         \"Silhouette analysis for Hierarchical clustering on sample data with n_clusters = %d\"\n",
    "#         % n_clusters,\n",
    "#         fontsize=14,\n",
    "#         fontweight=\"bold\",\n",
    "#     )\n",
    "\n",
    "# plt.show()"
   ]
  },
  {
   "cell_type": "code",
   "execution_count": 108,
   "id": "c7d400a6",
   "metadata": {},
   "outputs": [
    {
     "data": {
      "text/html": [
       "<div>\n",
       "<style scoped>\n",
       "    .dataframe tbody tr th:only-of-type {\n",
       "        vertical-align: middle;\n",
       "    }\n",
       "\n",
       "    .dataframe tbody tr th {\n",
       "        vertical-align: top;\n",
       "    }\n",
       "\n",
       "    .dataframe thead th {\n",
       "        text-align: right;\n",
       "    }\n",
       "</style>\n",
       "<table border=\"1\" class=\"dataframe\">\n",
       "  <thead>\n",
       "    <tr style=\"text-align: right;\">\n",
       "      <th></th>\n",
       "      <th>RECENCY</th>\n",
       "      <th>FREQUENCY</th>\n",
       "      <th>MONETARY</th>\n",
       "      <th>kmeans_cluster</th>\n",
       "    </tr>\n",
       "  </thead>\n",
       "  <tbody>\n",
       "    <tr>\n",
       "      <th>0</th>\n",
       "      <td>0.155556</td>\n",
       "      <td>0.343074</td>\n",
       "      <td>0.282304</td>\n",
       "      <td>4</td>\n",
       "    </tr>\n",
       "    <tr>\n",
       "      <th>1</th>\n",
       "      <td>0.088889</td>\n",
       "      <td>0.281573</td>\n",
       "      <td>0.418790</td>\n",
       "      <td>4</td>\n",
       "    </tr>\n",
       "    <tr>\n",
       "      <th>2</th>\n",
       "      <td>0.288889</td>\n",
       "      <td>0.266198</td>\n",
       "      <td>0.232673</td>\n",
       "      <td>4</td>\n",
       "    </tr>\n",
       "    <tr>\n",
       "      <th>3</th>\n",
       "      <td>0.322222</td>\n",
       "      <td>0.327699</td>\n",
       "      <td>0.278531</td>\n",
       "      <td>4</td>\n",
       "    </tr>\n",
       "    <tr>\n",
       "      <th>4</th>\n",
       "      <td>0.200000</td>\n",
       "      <td>0.419951</td>\n",
       "      <td>0.514447</td>\n",
       "      <td>0</td>\n",
       "    </tr>\n",
       "    <tr>\n",
       "      <th>...</th>\n",
       "      <td>...</td>\n",
       "      <td>...</td>\n",
       "      <td>...</td>\n",
       "      <td>...</td>\n",
       "    </tr>\n",
       "    <tr>\n",
       "      <th>46295</th>\n",
       "      <td>0.211111</td>\n",
       "      <td>0.696707</td>\n",
       "      <td>0.675329</td>\n",
       "      <td>2</td>\n",
       "    </tr>\n",
       "    <tr>\n",
       "      <th>46296</th>\n",
       "      <td>0.044444</td>\n",
       "      <td>0.558329</td>\n",
       "      <td>0.544209</td>\n",
       "      <td>0</td>\n",
       "    </tr>\n",
       "    <tr>\n",
       "      <th>46297</th>\n",
       "      <td>0.655556</td>\n",
       "      <td>0.235447</td>\n",
       "      <td>0.246506</td>\n",
       "      <td>1</td>\n",
       "    </tr>\n",
       "    <tr>\n",
       "      <th>46298</th>\n",
       "      <td>0.344444</td>\n",
       "      <td>0.235447</td>\n",
       "      <td>0.217247</td>\n",
       "      <td>4</td>\n",
       "    </tr>\n",
       "    <tr>\n",
       "      <th>46299</th>\n",
       "      <td>0.366667</td>\n",
       "      <td>0.466077</td>\n",
       "      <td>0.507321</td>\n",
       "      <td>3</td>\n",
       "    </tr>\n",
       "  </tbody>\n",
       "</table>\n",
       "<p>46300 rows × 4 columns</p>\n",
       "</div>"
      ],
      "text/plain": [
       "        RECENCY  FREQUENCY  MONETARY  kmeans_cluster\n",
       "0      0.155556   0.343074  0.282304               4\n",
       "1      0.088889   0.281573  0.418790               4\n",
       "2      0.288889   0.266198  0.232673               4\n",
       "3      0.322222   0.327699  0.278531               4\n",
       "4      0.200000   0.419951  0.514447               0\n",
       "...         ...        ...       ...             ...\n",
       "46295  0.211111   0.696707  0.675329               2\n",
       "46296  0.044444   0.558329  0.544209               0\n",
       "46297  0.655556   0.235447  0.246506               1\n",
       "46298  0.344444   0.235447  0.217247               4\n",
       "46299  0.366667   0.466077  0.507321               3\n",
       "\n",
       "[46300 rows x 4 columns]"
      ]
     },
     "execution_count": 108,
     "metadata": {},
     "output_type": "execute_result"
    }
   ],
   "source": [
    "rfm_Table_Scaled"
   ]
  },
  {
   "cell_type": "code",
   "execution_count": 109,
   "id": "219b3378",
   "metadata": {},
   "outputs": [],
   "source": [
    "X = rfm_Table_Scaled.drop(['kmeans_cluster'], axis =1,\n",
    "                  errors='ignore')\n",
    "y = rfm_Table_Scaled[\"kmeans_cluster\"]\n",
    "\n",
    "\n",
    "X_train,X_test,y_train,y_test=train_test_split(X,y,test_size=0.6,random_state=42)"
   ]
  },
  {
   "cell_type": "code",
   "execution_count": 110,
   "id": "e85a76b2",
   "metadata": {},
   "outputs": [],
   "source": [
    "# Test and holdout split\n",
    "X_test,X_holdout,y_test,y_holdout=train_test_split(X_test,y_test,test_size=0.5,random_state=42)"
   ]
  },
  {
   "cell_type": "code",
   "execution_count": 111,
   "id": "95d2dabe",
   "metadata": {},
   "outputs": [],
   "source": [
    "# Function to show MSE, MAE, r-sq of Classification models\n",
    "def evaluateModel(model):\n",
    "\n",
    "    print('Train Accuracy: \\t{:.2f}%  \\\n",
    "          \\nTest Accuracy: \\t\\t{:.2f}%  \\\n",
    "          \\nHoldout Accuracy: \\t{:.2f}%'.format(model.score(X_train, y_train)*100,model.score(X_test, y_test)*100,model.score(X_holdout, y_holdout)*100))"
   ]
  },
  {
   "cell_type": "code",
   "execution_count": 119,
   "id": "c73f3c95",
   "metadata": {},
   "outputs": [
    {
     "name": "stdout",
     "output_type": "stream",
     "text": [
      "Train Accuracy: \t99.88%            \n",
      "Test Accuracy: \t\t98.73%            \n",
      "Holdout Accuracy: \t98.78%\n"
     ]
    }
   ],
   "source": [
    "# Build XGBoost Model\n",
    "xgb= XGBClassifier(n_estimators = 20, learning_rate = 0.1, eval_metric='logloss',max_depth = 20)\n",
    "xgb.fit(X_train, y_train)\n",
    "\n",
    "#E valuate XGBoost Model\n",
    "evaluateModel(xgb)"
   ]
  },
  {
   "cell_type": "code",
   "execution_count": 120,
   "id": "53cd60e2",
   "metadata": {},
   "outputs": [
    {
     "data": {
      "text/plain": [
       "kmeans_cluster\n",
       "0    15177\n",
       "2    11256\n",
       "4     9097\n",
       "3     6874\n",
       "1     3896\n",
       "dtype: int64"
      ]
     },
     "execution_count": 120,
     "metadata": {},
     "output_type": "execute_result"
    }
   ],
   "source": [
    "rfm_Table_Scaled.value_counts('kmeans_cluster')"
   ]
  },
  {
   "cell_type": "code",
   "execution_count": 121,
   "id": "510f0e40",
   "metadata": {},
   "outputs": [],
   "source": [
    "y_pred= xgb.predict(X_test)"
   ]
  },
  {
   "cell_type": "code",
   "execution_count": 122,
   "id": "24ab9f2f",
   "metadata": {},
   "outputs": [
    {
     "name": "stdout",
     "output_type": "stream",
     "text": [
      "              precision    recall  f1-score   support\n",
      "\n",
      "           0       0.99      0.99      0.99      4583\n",
      "           1       0.99      0.98      0.99      1173\n",
      "           2       0.99      0.99      0.99      3428\n",
      "           3       0.97      0.98      0.98      2045\n",
      "           4       0.99      0.99      0.99      2661\n",
      "\n",
      "    accuracy                           0.99     13890\n",
      "   macro avg       0.99      0.99      0.99     13890\n",
      "weighted avg       0.99      0.99      0.99     13890\n",
      "\n"
     ]
    }
   ],
   "source": [
    "print(classification_report(y_test, y_pred))"
   ]
  },
  {
   "cell_type": "code",
   "execution_count": 123,
   "id": "5bdb7ae3",
   "metadata": {},
   "outputs": [],
   "source": [
    "import joblib"
   ]
  },
  {
   "cell_type": "code",
   "execution_count": 116,
   "id": "64a95845",
   "metadata": {},
   "outputs": [
    {
     "ename": "NameError",
     "evalue": "name 'Kmodes' is not defined",
     "output_type": "error",
     "traceback": [
      "\u001b[1;31m---------------------------------------------------------------------------\u001b[0m",
      "\u001b[1;31mNameError\u001b[0m                                 Traceback (most recent call last)",
      "Cell \u001b[1;32mIn[116], line 1\u001b[0m\n\u001b[1;32m----> 1\u001b[0m Kmodes\n",
      "\u001b[1;31mNameError\u001b[0m: name 'Kmodes' is not defined"
     ]
    }
   ],
   "source": [
    "Kmodes"
   ]
  },
  {
   "cell_type": "code",
   "execution_count": null,
   "id": "f70f453b",
   "metadata": {},
   "outputs": [],
   "source": [
    "demo_df=cust_seg_ori.copy()"
   ]
  },
  {
   "cell_type": "code",
   "execution_count": null,
   "id": "23dfcdc3",
   "metadata": {},
   "outputs": [],
   "source": [
    "demo_df['CHILDREN_COUNT'] = demo_df['CHILDREN_COUNT'].map({\n",
    "    '0': \"No\",\n",
    "    '1': \"Yes\",\n",
    "    '2': \"Yes\",\n",
    "    '3': \"Yes\",\n",
    "    '4': \"Yes\",\n",
    "    '5+': \"Yes\",\n",
    "    'Undisclosed':'Undisclosed'})\n",
    "\n",
    "demo_df.rename({'CHILDREN_COUNT':'HAVE_CHILDREN'},inplace=True,errors='ignore',axis=1)"
   ]
  },
  {
   "cell_type": "code",
   "execution_count": null,
   "id": "79e28390",
   "metadata": {},
   "outputs": [],
   "source": [
    "demo_df=demo_df[['GENDER','MARITAL_STATUS','CITY','HAVE_CHILDREN','AGE']]"
   ]
  },
  {
   "cell_type": "code",
   "execution_count": null,
   "id": "18e58118",
   "metadata": {},
   "outputs": [],
   "source": [
    "# Define the age groups and corresponding labels\n",
    "age_bins = [15, 26, 46, 66, 83]\n",
    "age_labels = ['Young Adults', 'Adults', 'Middle-Aged Adults', 'Seniors']\n",
    "\n",
    "# Bin the age column based on the age groups and labels\n",
    "demo_df['AGE_GROUP'] = pd.cut(demo_df['AGE'], bins=age_bins, labels=age_labels)\n"
   ]
  },
  {
   "cell_type": "code",
   "execution_count": null,
   "id": "e54f8b5e",
   "metadata": {},
   "outputs": [],
   "source": [
    "from kmodes.kmodes import KModes"
   ]
  },
  {
   "cell_type": "code",
   "execution_count": null,
   "id": "abb033f1",
   "metadata": {},
   "outputs": [],
   "source": [
    "demo_df.drop('AGE',axis=1,inplace=True,errors='ignore')"
   ]
  },
  {
   "cell_type": "code",
   "execution_count": null,
   "id": "40e9fe54",
   "metadata": {},
   "outputs": [
    {
     "name": "stdout",
     "output_type": "stream",
     "text": [
      "Init: initializing centroids\n",
      "Init: initializing clusters\n",
      "Starting iterations...\n",
      "Run 1, iteration: 1/100, moves: 0, cost: 144727.0\n",
      "Init: initializing centroids\n",
      "Init: initializing clusters\n",
      "Starting iterations...\n",
      "Run 2, iteration: 1/100, moves: 0, cost: 144727.0\n",
      "Init: initializing centroids\n",
      "Init: initializing clusters\n",
      "Starting iterations...\n",
      "Run 3, iteration: 1/100, moves: 0, cost: 144727.0\n",
      "Init: initializing centroids\n",
      "Init: initializing clusters\n",
      "Starting iterations...\n",
      "Run 4, iteration: 1/100, moves: 0, cost: 144727.0\n",
      "Init: initializing centroids\n",
      "Init: initializing clusters\n",
      "Starting iterations...\n",
      "Run 5, iteration: 1/100, moves: 0, cost: 144727.0\n",
      "Best run was number 1\n",
      "Init: initializing centroids\n",
      "Init: initializing clusters\n",
      "Starting iterations...\n",
      "Run 1, iteration: 1/100, moves: 0, cost: 105680.0\n",
      "Init: initializing centroids\n",
      "Init: initializing clusters\n",
      "Starting iterations...\n",
      "Run 2, iteration: 1/100, moves: 14030, cost: 105576.0\n",
      "Run 2, iteration: 2/100, moves: 6975, cost: 105576.0\n",
      "Init: initializing centroids\n",
      "Init: initializing clusters\n",
      "Starting iterations...\n",
      "Run 3, iteration: 1/100, moves: 13944, cost: 107782.0\n",
      "Run 3, iteration: 2/100, moves: 1293, cost: 107782.0\n",
      "Init: initializing centroids\n",
      "Init: initializing clusters\n",
      "Starting iterations...\n",
      "Run 4, iteration: 1/100, moves: 8466, cost: 107202.0\n",
      "Init: initializing centroids\n",
      "Init: initializing clusters\n",
      "Starting iterations...\n",
      "Run 5, iteration: 1/100, moves: 11302, cost: 108432.0\n",
      "Run 5, iteration: 2/100, moves: 2881, cost: 108432.0\n",
      "Best run was number 2\n",
      "Init: initializing centroids\n",
      "Init: initializing clusters\n",
      "Starting iterations...\n",
      "Run 1, iteration: 1/100, moves: 12394, cost: 96280.0\n",
      "Init: initializing centroids\n",
      "Init: initializing clusters\n",
      "Starting iterations...\n",
      "Run 2, iteration: 1/100, moves: 4260, cost: 100615.0\n",
      "Init: initializing centroids\n",
      "Init: initializing clusters\n",
      "Starting iterations...\n",
      "Run 3, iteration: 1/100, moves: 5347, cost: 102945.0\n",
      "Init: initializing centroids\n",
      "Init: initializing clusters\n",
      "Starting iterations...\n",
      "Run 4, iteration: 1/100, moves: 8377, cost: 99469.0\n",
      "Run 4, iteration: 2/100, moves: 716, cost: 99469.0\n",
      "Init: initializing centroids\n",
      "Init: initializing clusters\n",
      "Starting iterations...\n",
      "Run 5, iteration: 1/100, moves: 13143, cost: 101192.0\n",
      "Best run was number 1\n",
      "Init: initializing centroids\n",
      "Init: initializing clusters\n",
      "Starting iterations...\n",
      "Run 1, iteration: 1/100, moves: 12533, cost: 88464.0\n",
      "Run 1, iteration: 2/100, moves: 1005, cost: 88464.0\n",
      "Init: initializing centroids\n",
      "Init: initializing clusters\n",
      "Starting iterations...\n",
      "Run 2, iteration: 1/100, moves: 7196, cost: 91509.0\n",
      "Init: initializing centroids\n",
      "Init: initializing clusters\n",
      "Starting iterations...\n",
      "Run 3, iteration: 1/100, moves: 4190, cost: 91648.0\n",
      "Init: initializing centroids\n",
      "Init: initializing clusters\n",
      "Starting iterations...\n",
      "Run 4, iteration: 1/100, moves: 9019, cost: 92900.0\n",
      "Init: initializing centroids\n",
      "Init: initializing clusters\n",
      "Starting iterations...\n",
      "Run 5, iteration: 1/100, moves: 2856, cost: 95786.0\n",
      "Best run was number 1\n"
     ]
    },
    {
     "data": {
      "image/png": "[encoded data removed]",
      "text/plain": [
       "<Figure size 640x480 with 1 Axes>"
      ]
     },
     "metadata": {},
     "output_type": "display_data"
    }
   ],
   "source": [
    "# Elbow curve to find optimal K\n",
    "cost = []\n",
    "K = range(1,5)\n",
    "for k in list(K):\n",
    "    kmode = KModes(n_clusters=k, init = \"random\", n_init = 5, verbose=1)\n",
    "    kmode.fit_predict(demo_df)\n",
    "    cost.append(kmode.cost_)\n",
    "      \n",
    "plt.plot(K, cost, 'x-')\n",
    "plt.xlabel('No. of clusters')\n",
    "plt.ylabel('Cost')\n",
    "plt.title('Elbow Curve')\n",
    "plt.show()"
   ]
  },
  {
   "cell_type": "code",
   "execution_count": null,
   "id": "fcaaf163",
   "metadata": {},
   "outputs": [
    {
     "name": "stdout",
     "output_type": "stream",
     "text": [
      "Init: initializing centroids\n",
      "Init: initializing clusters\n",
      "Starting iterations...\n",
      "Run 1, iteration: 1/100, moves: 14804, cost: 107351.0\n",
      "Run 1, iteration: 2/100, moves: 2354, cost: 107351.0\n",
      "Init: initializing centroids\n",
      "Init: initializing clusters\n",
      "Starting iterations...\n",
      "Run 2, iteration: 1/100, moves: 3491, cost: 108645.0\n",
      "Init: initializing centroids\n",
      "Init: initializing clusters\n",
      "Starting iterations...\n",
      "Run 3, iteration: 1/100, moves: 8445, cost: 107782.0\n",
      "Init: initializing centroids\n",
      "Init: initializing clusters\n",
      "Starting iterations...\n",
      "Run 4, iteration: 1/100, moves: 13231, cost: 106786.0\n",
      "Init: initializing centroids\n",
      "Init: initializing clusters\n",
      "Starting iterations...\n",
      "Run 5, iteration: 1/100, moves: 2731, cost: 107073.0\n",
      "Best run was number 4\n"
     ]
    }
   ],
   "source": [
    "# Building the model with 3 clusters\n",
    "kmode = KModes(n_clusters=2, init = \"random\", n_init = 5, verbose=1)\n",
    "clusters = kmode.fit_predict(demo_df)"
   ]
  },
  {
   "cell_type": "code",
   "execution_count": null,
   "id": "23c923f5",
   "metadata": {},
   "outputs": [],
   "source": [
    "demo_df['kmodes_cluster']=clusters "
   ]
  },
  {
   "cell_type": "code",
   "execution_count": null,
   "id": "8144acc8",
   "metadata": {},
   "outputs": [
    {
     "data": {
      "image/png": "[encoded data removed]",
      "text/plain": [
       "<Figure size 640x480 with 1 Axes>"
      ]
     },
     "metadata": {},
     "output_type": "display_data"
    },
    {
     "data": {
      "image/png": "[encoded data removed]",
      "text/plain": [
       "<Figure size 640x480 with 1 Axes>"
      ]
     },
     "metadata": {},
     "output_type": "display_data"
    },
    {
     "data": {
      "image/png": "[encoded data removed]",
      "text/plain": [
       "<Figure size 640x480 with 1 Axes>"
      ]
     },
     "metadata": {},
     "output_type": "display_data"
    },
    {
     "data": {
      "image/png": "[encoded data removed]",
      "text/plain": [
       "<Figure size 640x480 with 1 Axes>"
      ]
     },
     "metadata": {},
     "output_type": "display_data"
    },
    {
     "data": {
      "image/png": "[encoded data removed]",
      "text/plain": [
       "<Figure size 640x480 with 1 Axes>"
      ]
     },
     "metadata": {},
     "output_type": "display_data"
    },
    {
     "data": {
      "image/png": "[encoded data removed]",
      "text/plain": [
       "<Figure size 640x480 with 1 Axes>"
      ]
     },
     "metadata": {},
     "output_type": "display_data"
    }
   ],
   "source": [
    "for i in demo_df.columns:\n",
    "    sns.countplot(x=i,data=demo_df,hue='kmodes_cluster')\n",
    "    plt.show()"
   ]
  },
  {
   "cell_type": "code",
   "execution_count": null,
   "id": "03b8575f",
   "metadata": {},
   "outputs": [],
   "source": []
  }
 ],
 "metadata": {
  "kernelspec": {
   "display_name": "py38_env",
   "language": "python",
   "name": "python3"
  },
  "language_info": {
   "codemirror_mode": {
    "name": "ipython",
    "version": 3
   },
   "file_extension": ".py",
   "mimetype": "text/x-python",
   "name": "python",
   "nbconvert_exporter": "python",
   "pygments_lexer": "ipython3",
   "version": "3.8.16"
  }
 },
 "nbformat": 4,
 "nbformat_minor": 5
}
