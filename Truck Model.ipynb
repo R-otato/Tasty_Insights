{
 "cells": [
  {
   "cell_type": "markdown",
   "metadata": {},
   "source": [
    "# Import Statements"
   ]
  },
  {
   "cell_type": "code",
   "execution_count": 301,
   "metadata": {},
   "outputs": [],
   "source": [
    "# IMPORT STATEMENTS\n",
    "\n",
    "#Import Python packages\n",
    "import pandas as pd\n",
    "import json\n",
    "import matplotlib.pyplot as plt\n",
    "import numpy as np\n",
    "import ast\n",
    "\n",
    "# import matplotlib and seaborn to plot charts and graphs\n",
    "import matplotlib.pyplot as plt\n",
    "import seaborn as sns\n",
    "\n",
    "# to split training and testing data\n",
    "from sklearn.model_selection import train_test_split\n",
    "\n",
    "# carry out one hot encoding\n",
    "from feature_engine.encoding import OneHotEncoder\n",
    "\n",
    "# Import Scalers\n",
    "# for min-max scaling\n",
    "from sklearn.preprocessing import MinMaxScaler\n",
    "# for standardization\n",
    "from sklearn.preprocessing import StandardScaler\n",
    "# for robust scaling\n",
    "from sklearn.preprocessing import RobustScaler\n",
    "\n",
    "# import XGBRegressor from xgboost package\n",
    "from xgboost import XGBRegressor\n",
    "\n",
    "# to evaluate model metrics\n",
    "from sklearn.metrics import mean_squared_error, r2_score\n",
    "\n",
    "# import grid search cv to improve decision tree model by helping search for parameters\n",
    "from sklearn.model_selection import GridSearchCV\n",
    "\n",
    "# Import Snowflake modules\n",
    "from snowflake.snowpark import Session\n",
    "import snowflake.snowpark.functions as F\n",
    "\n",
    "# to export model\n",
    "import joblib"
   ]
  },
  {
   "cell_type": "markdown",
   "metadata": {},
   "source": [
    "# Functions"
   ]
  },
  {
   "cell_type": "code",
   "execution_count": 302,
   "metadata": {},
   "outputs": [],
   "source": [
    "def model_performance(model):\n",
    "    print('the training root mean squared error is: ',  np.sqrt(mean_squared_error(model.predict(X_train_scaled), y_train)))\n",
    "    print('the testing root mean squared error is: ',  np.sqrt(mean_squared_error(model.predict(X_test_scaled), y_test)))\n",
    "\n",
    "    print()\n",
    "\n",
    "    #training mse\n",
    "    train_mse = mean_squared_error(model.predict(X_train_scaled), y_train)\n",
    "    print('the training mean squared error is: ', train_mse)\n",
    "    #testing mse\n",
    "    test_mse = mean_squared_error(model.predict(X_test_scaled), y_test)\n",
    "    print('the testing mean squared error is: ', test_mse)\n",
    "\n",
    "    print()\n",
    "\n",
    "    print('training accuracy is: ', model.score(X_train_scaled, y_train))\n",
    "    print('testing accuracy is: ', model.score(X_test_scaled, y_test))\n"
   ]
  },
  {
   "cell_type": "markdown",
   "metadata": {},
   "source": [
    "# Load Tables From Snowflake"
   ]
  },
  {
   "cell_type": "code",
   "execution_count": 303,
   "metadata": {},
   "outputs": [],
   "source": [
    "# Get account credentials from a json file\n",
    "with open(\"data_scientist_auth.json\") as f:\n",
    "    data = json.load(f)\n",
    "    username = data[\"username\"]\n",
    "    password = data[\"password\"]\n",
    "    account = data[\"account\"]\n",
    "\n",
    "# Specify connection parameters\n",
    "connection_parameters = {\n",
    "    \"account\": account,\n",
    "    \"user\": username,\n",
    "    \"password\": password,\n",
    "    \"role\": \"TASTY_BI\",\n",
    "    \"warehouse\": \"TASTY_BI_WH\",\n",
    "    \"database\": \"frostbyte_tasty_bytes\",\n",
    "    \"schema\": \"analytics\",\n",
    "}\n",
    "\n",
    "# Create Snowpark session\n",
    "session = Session.builder.configs(connection_parameters).create()"
   ]
  },
  {
   "cell_type": "code",
   "execution_count": 304,
   "metadata": {},
   "outputs": [],
   "source": [
    "# retrieve order details usa table from snowflake\n",
    "order_data_from_snowflake = session.table(\"frostbyte_tasty_bytes.analytics.ORDER_DETAILS_USA_MATCHED\").collect()"
   ]
  },
  {
   "cell_type": "code",
   "execution_count": 305,
   "metadata": {},
   "outputs": [],
   "source": [
    "# convert order_data_from_snowflake to pandas dataframe\n",
    "order_df = pd.DataFrame(order_data_from_snowflake)\n",
    "#order_df = order_data_from_snowflake.to_pandas()"
   ]
  },
  {
   "cell_type": "code",
   "execution_count": 306,
   "metadata": {},
   "outputs": [],
   "source": [
    "# Get the total quantity sold for each menu item \n",
    "## group by 'MENU_ITEM_ID' and calculate the total quantity sold\n",
    "total_qty_sold_per_item = order_df.groupby('MENU_ITEM_ID')['QUANTITY'].sum().reset_index()\n",
    "\n",
    "## rename the 'QUANTITY' column to 'TOTAL_QTY_SOLD'\n",
    "total_qty_sold_per_item = total_qty_sold_per_item.rename(columns={'QUANTITY': 'TOTAL_QTY_SOLD'})"
   ]
  },
  {
   "cell_type": "markdown",
   "metadata": {},
   "source": [
    "# Menu Table "
   ]
  },
  {
   "cell_type": "code",
   "execution_count": 307,
   "metadata": {},
   "outputs": [],
   "source": [
    "# retrieve menu data from snowflake\n",
    "menu_data_from_snowflake = session.table(\"frostbyte_tasty_bytes.raw_pos.MENU\").collect()"
   ]
  },
  {
   "cell_type": "code",
   "execution_count": 308,
   "metadata": {},
   "outputs": [],
   "source": [
    "# convert menu_data_from_snowflake to pandas dataframe\n",
    "menu_df = pd.DataFrame(menu_data_from_snowflake)"
   ]
  },
  {
   "cell_type": "code",
   "execution_count": 309,
   "metadata": {},
   "outputs": [],
   "source": [
    "# merge total_qty_sold_per_item with final_product_df\n",
    "menu_df = pd.merge(menu_df, total_qty_sold_per_item, on='MENU_ITEM_ID')"
   ]
  },
  {
   "cell_type": "markdown",
   "metadata": {},
   "source": [
    "# Order Table"
   ]
  },
  {
   "cell_type": "code",
   "execution_count": 310,
   "metadata": {},
   "outputs": [
    {
     "data": {
      "text/html": [
       "<div>\n",
       "<style scoped>\n",
       "    .dataframe tbody tr th:only-of-type {\n",
       "        vertical-align: middle;\n",
       "    }\n",
       "\n",
       "    .dataframe tbody tr th {\n",
       "        vertical-align: top;\n",
       "    }\n",
       "\n",
       "    .dataframe thead th {\n",
       "        text-align: right;\n",
       "    }\n",
       "</style>\n",
       "<table border=\"1\" class=\"dataframe\">\n",
       "  <thead>\n",
       "    <tr style=\"text-align: right;\">\n",
       "      <th></th>\n",
       "      <th>ORDER_ID</th>\n",
       "      <th>CUSTOMER_ID</th>\n",
       "      <th>TRUCK_ID</th>\n",
       "      <th>LOCATION_ID</th>\n",
       "      <th>SHIFT_ID</th>\n",
       "      <th>SHIFT_START_TIME</th>\n",
       "      <th>SHIFT_END_TIME</th>\n",
       "      <th>ORDER_CHANNEL</th>\n",
       "      <th>ORDER_TS</th>\n",
       "      <th>SERVED_TS</th>\n",
       "      <th>...</th>\n",
       "      <th>E_MAIL</th>\n",
       "      <th>PHONE_NUMBER</th>\n",
       "      <th>ORDER_DETAIL_ID</th>\n",
       "      <th>MENU_ITEM_ID</th>\n",
       "      <th>DISCOUNT_ID</th>\n",
       "      <th>LINE_NUMBER</th>\n",
       "      <th>QUANTITY</th>\n",
       "      <th>UNIT_PRICE</th>\n",
       "      <th>PRICE</th>\n",
       "      <th>ORDER_ITEM_DISCOUNT_AMOUNT</th>\n",
       "    </tr>\n",
       "  </thead>\n",
       "  <tbody>\n",
       "    <tr>\n",
       "      <th>0</th>\n",
       "      <td>452165023</td>\n",
       "      <td>110872</td>\n",
       "      <td>17</td>\n",
       "      <td>14954.0</td>\n",
       "      <td>200544059</td>\n",
       "      <td>15:00:00</td>\n",
       "      <td>22:00:00</td>\n",
       "      <td>None</td>\n",
       "      <td>2022-07-30 17:34:42</td>\n",
       "      <td>None</td>\n",
       "      <td>...</td>\n",
       "      <td>Jase.Haynes@aol.com</td>\n",
       "      <td>861-138-0409</td>\n",
       "      <td>884494568</td>\n",
       "      <td>21</td>\n",
       "      <td>None</td>\n",
       "      <td>0</td>\n",
       "      <td>3</td>\n",
       "      <td>14.0000</td>\n",
       "      <td>42.0000</td>\n",
       "      <td>None</td>\n",
       "    </tr>\n",
       "    <tr>\n",
       "      <th>1</th>\n",
       "      <td>452165023</td>\n",
       "      <td>110872</td>\n",
       "      <td>17</td>\n",
       "      <td>14954.0</td>\n",
       "      <td>200544059</td>\n",
       "      <td>15:00:00</td>\n",
       "      <td>22:00:00</td>\n",
       "      <td>None</td>\n",
       "      <td>2022-07-30 17:34:42</td>\n",
       "      <td>None</td>\n",
       "      <td>...</td>\n",
       "      <td>Jase.Haynes@aol.com</td>\n",
       "      <td>861-138-0409</td>\n",
       "      <td>884494569</td>\n",
       "      <td>23</td>\n",
       "      <td>None</td>\n",
       "      <td>1</td>\n",
       "      <td>1</td>\n",
       "      <td>12.0000</td>\n",
       "      <td>12.0000</td>\n",
       "      <td>None</td>\n",
       "    </tr>\n",
       "    <tr>\n",
       "      <th>2</th>\n",
       "      <td>452165023</td>\n",
       "      <td>110872</td>\n",
       "      <td>17</td>\n",
       "      <td>14954.0</td>\n",
       "      <td>200544059</td>\n",
       "      <td>15:00:00</td>\n",
       "      <td>22:00:00</td>\n",
       "      <td>None</td>\n",
       "      <td>2022-07-30 17:34:42</td>\n",
       "      <td>None</td>\n",
       "      <td>...</td>\n",
       "      <td>Jase.Haynes@aol.com</td>\n",
       "      <td>861-138-0409</td>\n",
       "      <td>884494570</td>\n",
       "      <td>27</td>\n",
       "      <td>None</td>\n",
       "      <td>2</td>\n",
       "      <td>1</td>\n",
       "      <td>6.0000</td>\n",
       "      <td>6.0000</td>\n",
       "      <td>None</td>\n",
       "    </tr>\n",
       "    <tr>\n",
       "      <th>3</th>\n",
       "      <td>452165023</td>\n",
       "      <td>110872</td>\n",
       "      <td>17</td>\n",
       "      <td>14954.0</td>\n",
       "      <td>200544059</td>\n",
       "      <td>15:00:00</td>\n",
       "      <td>22:00:00</td>\n",
       "      <td>None</td>\n",
       "      <td>2022-07-30 17:34:42</td>\n",
       "      <td>None</td>\n",
       "      <td>...</td>\n",
       "      <td>Jase.Haynes@aol.com</td>\n",
       "      <td>861-138-0409</td>\n",
       "      <td>884494571</td>\n",
       "      <td>28</td>\n",
       "      <td>None</td>\n",
       "      <td>3</td>\n",
       "      <td>1</td>\n",
       "      <td>21.0000</td>\n",
       "      <td>21.0000</td>\n",
       "      <td>None</td>\n",
       "    </tr>\n",
       "    <tr>\n",
       "      <th>4</th>\n",
       "      <td>452165023</td>\n",
       "      <td>110872</td>\n",
       "      <td>17</td>\n",
       "      <td>14954.0</td>\n",
       "      <td>200544059</td>\n",
       "      <td>15:00:00</td>\n",
       "      <td>22:00:00</td>\n",
       "      <td>None</td>\n",
       "      <td>2022-07-30 17:34:42</td>\n",
       "      <td>None</td>\n",
       "      <td>...</td>\n",
       "      <td>Jase.Haynes@aol.com</td>\n",
       "      <td>861-138-0409</td>\n",
       "      <td>884494572</td>\n",
       "      <td>29</td>\n",
       "      <td>None</td>\n",
       "      <td>4</td>\n",
       "      <td>1</td>\n",
       "      <td>6.0000</td>\n",
       "      <td>6.0000</td>\n",
       "      <td>None</td>\n",
       "    </tr>\n",
       "  </tbody>\n",
       "</table>\n",
       "<p>5 rows × 38 columns</p>\n",
       "</div>"
      ],
      "text/plain": [
       "    ORDER_ID  CUSTOMER_ID  TRUCK_ID  LOCATION_ID   SHIFT_ID SHIFT_START_TIME  \\\n",
       "0  452165023       110872        17      14954.0  200544059         15:00:00   \n",
       "1  452165023       110872        17      14954.0  200544059         15:00:00   \n",
       "2  452165023       110872        17      14954.0  200544059         15:00:00   \n",
       "3  452165023       110872        17      14954.0  200544059         15:00:00   \n",
       "4  452165023       110872        17      14954.0  200544059         15:00:00   \n",
       "\n",
       "  SHIFT_END_TIME ORDER_CHANNEL            ORDER_TS SERVED_TS  ...  \\\n",
       "0       22:00:00          None 2022-07-30 17:34:42      None  ...   \n",
       "1       22:00:00          None 2022-07-30 17:34:42      None  ...   \n",
       "2       22:00:00          None 2022-07-30 17:34:42      None  ...   \n",
       "3       22:00:00          None 2022-07-30 17:34:42      None  ...   \n",
       "4       22:00:00          None 2022-07-30 17:34:42      None  ...   \n",
       "\n",
       "                E_MAIL  PHONE_NUMBER ORDER_DETAIL_ID MENU_ITEM_ID DISCOUNT_ID  \\\n",
       "0  Jase.Haynes@aol.com  861-138-0409       884494568           21        None   \n",
       "1  Jase.Haynes@aol.com  861-138-0409       884494569           23        None   \n",
       "2  Jase.Haynes@aol.com  861-138-0409       884494570           27        None   \n",
       "3  Jase.Haynes@aol.com  861-138-0409       884494571           28        None   \n",
       "4  Jase.Haynes@aol.com  861-138-0409       884494572           29        None   \n",
       "\n",
       "  LINE_NUMBER QUANTITY UNIT_PRICE    PRICE ORDER_ITEM_DISCOUNT_AMOUNT  \n",
       "0           0        3    14.0000  42.0000                       None  \n",
       "1           1        1    12.0000  12.0000                       None  \n",
       "2           2        1     6.0000   6.0000                       None  \n",
       "3           3        1    21.0000  21.0000                       None  \n",
       "4           4        1     6.0000   6.0000                       None  \n",
       "\n",
       "[5 rows x 38 columns]"
      ]
     },
     "execution_count": 310,
     "metadata": {},
     "output_type": "execute_result"
    }
   ],
   "source": [
    "# preview order table\n",
    "order_df.head()"
   ]
  },
  {
   "cell_type": "code",
   "execution_count": 311,
   "metadata": {},
   "outputs": [
    {
     "data": {
      "text/html": [
       "<div>\n",
       "<style scoped>\n",
       "    .dataframe tbody tr th:only-of-type {\n",
       "        vertical-align: middle;\n",
       "    }\n",
       "\n",
       "    .dataframe tbody tr th {\n",
       "        vertical-align: top;\n",
       "    }\n",
       "\n",
       "    .dataframe thead th {\n",
       "        text-align: right;\n",
       "    }\n",
       "</style>\n",
       "<table border=\"1\" class=\"dataframe\">\n",
       "  <thead>\n",
       "    <tr style=\"text-align: right;\">\n",
       "      <th></th>\n",
       "      <th>CUSTOMER_ID</th>\n",
       "      <th>TRUCK_ID</th>\n",
       "      <th>LOCATION_ID</th>\n",
       "      <th>ORDER_TS</th>\n",
       "      <th>ORDER_TOTAL</th>\n",
       "      <th>CITY</th>\n",
       "      <th>MENU_ITEM_ID</th>\n",
       "    </tr>\n",
       "  </thead>\n",
       "  <tbody>\n",
       "    <tr>\n",
       "      <th>0</th>\n",
       "      <td>110872</td>\n",
       "      <td>17</td>\n",
       "      <td>14954.0</td>\n",
       "      <td>2022-07-30 17:34:42</td>\n",
       "      <td>87.0000</td>\n",
       "      <td>Denver</td>\n",
       "      <td>21</td>\n",
       "    </tr>\n",
       "    <tr>\n",
       "      <th>1</th>\n",
       "      <td>110872</td>\n",
       "      <td>17</td>\n",
       "      <td>14954.0</td>\n",
       "      <td>2022-07-30 17:34:42</td>\n",
       "      <td>87.0000</td>\n",
       "      <td>Denver</td>\n",
       "      <td>23</td>\n",
       "    </tr>\n",
       "    <tr>\n",
       "      <th>2</th>\n",
       "      <td>110872</td>\n",
       "      <td>17</td>\n",
       "      <td>14954.0</td>\n",
       "      <td>2022-07-30 17:34:42</td>\n",
       "      <td>87.0000</td>\n",
       "      <td>Denver</td>\n",
       "      <td>27</td>\n",
       "    </tr>\n",
       "    <tr>\n",
       "      <th>3</th>\n",
       "      <td>110872</td>\n",
       "      <td>17</td>\n",
       "      <td>14954.0</td>\n",
       "      <td>2022-07-30 17:34:42</td>\n",
       "      <td>87.0000</td>\n",
       "      <td>Denver</td>\n",
       "      <td>28</td>\n",
       "    </tr>\n",
       "    <tr>\n",
       "      <th>4</th>\n",
       "      <td>110872</td>\n",
       "      <td>17</td>\n",
       "      <td>14954.0</td>\n",
       "      <td>2022-07-30 17:34:42</td>\n",
       "      <td>87.0000</td>\n",
       "      <td>Denver</td>\n",
       "      <td>29</td>\n",
       "    </tr>\n",
       "  </tbody>\n",
       "</table>\n",
       "</div>"
      ],
      "text/plain": [
       "   CUSTOMER_ID  TRUCK_ID  LOCATION_ID            ORDER_TS ORDER_TOTAL    CITY  \\\n",
       "0       110872        17      14954.0 2022-07-30 17:34:42     87.0000  Denver   \n",
       "1       110872        17      14954.0 2022-07-30 17:34:42     87.0000  Denver   \n",
       "2       110872        17      14954.0 2022-07-30 17:34:42     87.0000  Denver   \n",
       "3       110872        17      14954.0 2022-07-30 17:34:42     87.0000  Denver   \n",
       "4       110872        17      14954.0 2022-07-30 17:34:42     87.0000  Denver   \n",
       "\n",
       "   MENU_ITEM_ID  \n",
       "0            21  \n",
       "1            23  \n",
       "2            27  \n",
       "3            28  \n",
       "4            29  "
      ]
     },
     "execution_count": 311,
     "metadata": {},
     "output_type": "execute_result"
    }
   ],
   "source": [
    "order_df = order_df.drop([\"ORDER_ID\", \"SHIFT_ID\", \"SHIFT_START_TIME\", \"SHIFT_END_TIME\", \"ORDER_CHANNEL\", \"SERVED_TS\", \"E_MAIL\", \"PHONE_NUMBER\", \"ORDER_DETAIL_ID\", \"DISCOUNT_ID\", \"LINE_NUMBER\", \"QUANTITY\", \"UNIT_PRICE\", \"PRICE\", \"ORDER_ITEM_DISCOUNT_AMOUNT\", \"BIRTHDAY_DATE\", \"SIGN_UP_DATE\", \"CHILDREN_COUNT\", \"MARITAL_STATUS\", \"FAVOURITE_BRAND\", \"GENDER\", \"PREFERRED_LANGUAGE\", \"POSTAL_CODE\", \"COUNTRY\", \"FIRST_NAME\", \"MAX_ORDER_TS\", \"ORDER_DISCOUNT_AMOUNT\", \"ORDER_TAX_AMOUNT\", \"ORDER_AMOUNT\", \"ORDER_CURRENCY\", \"LAST_NAME\"], axis=1)\n",
    "\n",
    "order_df.head()"
   ]
  },
  {
   "cell_type": "code",
   "execution_count": 312,
   "metadata": {},
   "outputs": [
    {
     "data": {
      "text/html": [
       "<div>\n",
       "<style scoped>\n",
       "    .dataframe tbody tr th:only-of-type {\n",
       "        vertical-align: middle;\n",
       "    }\n",
       "\n",
       "    .dataframe tbody tr th {\n",
       "        vertical-align: top;\n",
       "    }\n",
       "\n",
       "    .dataframe thead th {\n",
       "        text-align: right;\n",
       "    }\n",
       "</style>\n",
       "<table border=\"1\" class=\"dataframe\">\n",
       "  <thead>\n",
       "    <tr style=\"text-align: right;\">\n",
       "      <th></th>\n",
       "      <th>CUSTOMER_ID</th>\n",
       "      <th>TRUCK_ID</th>\n",
       "      <th>LOCATION_ID</th>\n",
       "      <th>ORDER_TS</th>\n",
       "      <th>ORDER_TOTAL</th>\n",
       "      <th>CITY</th>\n",
       "      <th>MENU_ITEM_ID</th>\n",
       "      <th>YEAR</th>\n",
       "      <th>MONTH</th>\n",
       "    </tr>\n",
       "  </thead>\n",
       "  <tbody>\n",
       "    <tr>\n",
       "      <th>0</th>\n",
       "      <td>110872</td>\n",
       "      <td>17</td>\n",
       "      <td>14954.0</td>\n",
       "      <td>2022-07-30 17:34:42</td>\n",
       "      <td>87.0000</td>\n",
       "      <td>Denver</td>\n",
       "      <td>21</td>\n",
       "      <td>2022</td>\n",
       "      <td>7</td>\n",
       "    </tr>\n",
       "    <tr>\n",
       "      <th>1</th>\n",
       "      <td>110872</td>\n",
       "      <td>17</td>\n",
       "      <td>14954.0</td>\n",
       "      <td>2022-07-30 17:34:42</td>\n",
       "      <td>87.0000</td>\n",
       "      <td>Denver</td>\n",
       "      <td>23</td>\n",
       "      <td>2022</td>\n",
       "      <td>7</td>\n",
       "    </tr>\n",
       "    <tr>\n",
       "      <th>2</th>\n",
       "      <td>110872</td>\n",
       "      <td>17</td>\n",
       "      <td>14954.0</td>\n",
       "      <td>2022-07-30 17:34:42</td>\n",
       "      <td>87.0000</td>\n",
       "      <td>Denver</td>\n",
       "      <td>27</td>\n",
       "      <td>2022</td>\n",
       "      <td>7</td>\n",
       "    </tr>\n",
       "    <tr>\n",
       "      <th>3</th>\n",
       "      <td>110872</td>\n",
       "      <td>17</td>\n",
       "      <td>14954.0</td>\n",
       "      <td>2022-07-30 17:34:42</td>\n",
       "      <td>87.0000</td>\n",
       "      <td>Denver</td>\n",
       "      <td>28</td>\n",
       "      <td>2022</td>\n",
       "      <td>7</td>\n",
       "    </tr>\n",
       "    <tr>\n",
       "      <th>4</th>\n",
       "      <td>110872</td>\n",
       "      <td>17</td>\n",
       "      <td>14954.0</td>\n",
       "      <td>2022-07-30 17:34:42</td>\n",
       "      <td>87.0000</td>\n",
       "      <td>Denver</td>\n",
       "      <td>29</td>\n",
       "      <td>2022</td>\n",
       "      <td>7</td>\n",
       "    </tr>\n",
       "  </tbody>\n",
       "</table>\n",
       "</div>"
      ],
      "text/plain": [
       "   CUSTOMER_ID  TRUCK_ID  LOCATION_ID            ORDER_TS ORDER_TOTAL    CITY  \\\n",
       "0       110872        17      14954.0 2022-07-30 17:34:42     87.0000  Denver   \n",
       "1       110872        17      14954.0 2022-07-30 17:34:42     87.0000  Denver   \n",
       "2       110872        17      14954.0 2022-07-30 17:34:42     87.0000  Denver   \n",
       "3       110872        17      14954.0 2022-07-30 17:34:42     87.0000  Denver   \n",
       "4       110872        17      14954.0 2022-07-30 17:34:42     87.0000  Denver   \n",
       "\n",
       "   MENU_ITEM_ID  YEAR  MONTH  \n",
       "0            21  2022      7  \n",
       "1            23  2022      7  \n",
       "2            27  2022      7  \n",
       "3            28  2022      7  \n",
       "4            29  2022      7  "
      ]
     },
     "execution_count": 312,
     "metadata": {},
     "output_type": "execute_result"
    }
   ],
   "source": [
    "order_df['YEAR'] = order_df['ORDER_TS'].dt.year\n",
    "order_df['MONTH'] = order_df['ORDER_TS'].dt.month\n",
    "order_df.head()"
   ]
  },
  {
   "cell_type": "code",
   "execution_count": 313,
   "metadata": {},
   "outputs": [
    {
     "data": {
      "text/html": [
       "<div>\n",
       "<style scoped>\n",
       "    .dataframe tbody tr th:only-of-type {\n",
       "        vertical-align: middle;\n",
       "    }\n",
       "\n",
       "    .dataframe tbody tr th {\n",
       "        vertical-align: top;\n",
       "    }\n",
       "\n",
       "    .dataframe thead th {\n",
       "        text-align: right;\n",
       "    }\n",
       "</style>\n",
       "<table border=\"1\" class=\"dataframe\">\n",
       "  <thead>\n",
       "    <tr style=\"text-align: right;\">\n",
       "      <th></th>\n",
       "      <th>CUSTOMER_ID</th>\n",
       "      <th>TRUCK_ID</th>\n",
       "      <th>LOCATION_ID</th>\n",
       "      <th>ORDER_TS</th>\n",
       "      <th>ORDER_TOTAL</th>\n",
       "      <th>CITY</th>\n",
       "      <th>MENU_ITEM_ID</th>\n",
       "      <th>YEAR</th>\n",
       "      <th>MONTH</th>\n",
       "    </tr>\n",
       "  </thead>\n",
       "  <tbody>\n",
       "    <tr>\n",
       "      <th>0</th>\n",
       "      <td>110872</td>\n",
       "      <td>17</td>\n",
       "      <td>14954</td>\n",
       "      <td>2022-07-30 17:34:42</td>\n",
       "      <td>87.0000</td>\n",
       "      <td>Denver</td>\n",
       "      <td>21</td>\n",
       "      <td>2022</td>\n",
       "      <td>7</td>\n",
       "    </tr>\n",
       "    <tr>\n",
       "      <th>1</th>\n",
       "      <td>110872</td>\n",
       "      <td>17</td>\n",
       "      <td>14954</td>\n",
       "      <td>2022-07-30 17:34:42</td>\n",
       "      <td>87.0000</td>\n",
       "      <td>Denver</td>\n",
       "      <td>23</td>\n",
       "      <td>2022</td>\n",
       "      <td>7</td>\n",
       "    </tr>\n",
       "    <tr>\n",
       "      <th>2</th>\n",
       "      <td>110872</td>\n",
       "      <td>17</td>\n",
       "      <td>14954</td>\n",
       "      <td>2022-07-30 17:34:42</td>\n",
       "      <td>87.0000</td>\n",
       "      <td>Denver</td>\n",
       "      <td>27</td>\n",
       "      <td>2022</td>\n",
       "      <td>7</td>\n",
       "    </tr>\n",
       "    <tr>\n",
       "      <th>3</th>\n",
       "      <td>110872</td>\n",
       "      <td>17</td>\n",
       "      <td>14954</td>\n",
       "      <td>2022-07-30 17:34:42</td>\n",
       "      <td>87.0000</td>\n",
       "      <td>Denver</td>\n",
       "      <td>28</td>\n",
       "      <td>2022</td>\n",
       "      <td>7</td>\n",
       "    </tr>\n",
       "    <tr>\n",
       "      <th>4</th>\n",
       "      <td>110872</td>\n",
       "      <td>17</td>\n",
       "      <td>14954</td>\n",
       "      <td>2022-07-30 17:34:42</td>\n",
       "      <td>87.0000</td>\n",
       "      <td>Denver</td>\n",
       "      <td>29</td>\n",
       "      <td>2022</td>\n",
       "      <td>7</td>\n",
       "    </tr>\n",
       "  </tbody>\n",
       "</table>\n",
       "</div>"
      ],
      "text/plain": [
       "   CUSTOMER_ID  TRUCK_ID  LOCATION_ID            ORDER_TS ORDER_TOTAL    CITY  \\\n",
       "0       110872        17        14954 2022-07-30 17:34:42     87.0000  Denver   \n",
       "1       110872        17        14954 2022-07-30 17:34:42     87.0000  Denver   \n",
       "2       110872        17        14954 2022-07-30 17:34:42     87.0000  Denver   \n",
       "3       110872        17        14954 2022-07-30 17:34:42     87.0000  Denver   \n",
       "4       110872        17        14954 2022-07-30 17:34:42     87.0000  Denver   \n",
       "\n",
       "   MENU_ITEM_ID  YEAR  MONTH  \n",
       "0            21  2022      7  \n",
       "1            23  2022      7  \n",
       "2            27  2022      7  \n",
       "3            28  2022      7  \n",
       "4            29  2022      7  "
      ]
     },
     "execution_count": 313,
     "metadata": {},
     "output_type": "execute_result"
    }
   ],
   "source": [
    "# Convert 'location_id' column to integers\n",
    "order_df['LOCATION_ID'] = order_df['LOCATION_ID'].astype(int)\n",
    "\n",
    "order_df.head()"
   ]
  },
  {
   "cell_type": "code",
   "execution_count": 314,
   "metadata": {},
   "outputs": [
    {
     "data": {
      "text/html": [
       "<div>\n",
       "<style scoped>\n",
       "    .dataframe tbody tr th:only-of-type {\n",
       "        vertical-align: middle;\n",
       "    }\n",
       "\n",
       "    .dataframe tbody tr th {\n",
       "        vertical-align: top;\n",
       "    }\n",
       "\n",
       "    .dataframe thead th {\n",
       "        text-align: right;\n",
       "    }\n",
       "</style>\n",
       "<table border=\"1\" class=\"dataframe\">\n",
       "  <thead>\n",
       "    <tr style=\"text-align: right;\">\n",
       "      <th></th>\n",
       "      <th>YEAR</th>\n",
       "      <th>MONTH</th>\n",
       "      <th>TRUCK_ID</th>\n",
       "      <th>ORDER_TOTAL</th>\n",
       "    </tr>\n",
       "  </thead>\n",
       "  <tbody>\n",
       "    <tr>\n",
       "      <th>0</th>\n",
       "      <td>2022</td>\n",
       "      <td>6</td>\n",
       "      <td>4</td>\n",
       "      <td>50.0000</td>\n",
       "    </tr>\n",
       "    <tr>\n",
       "      <th>1</th>\n",
       "      <td>2022</td>\n",
       "      <td>6</td>\n",
       "      <td>5</td>\n",
       "      <td>215.0000</td>\n",
       "    </tr>\n",
       "    <tr>\n",
       "      <th>2</th>\n",
       "      <td>2022</td>\n",
       "      <td>6</td>\n",
       "      <td>8</td>\n",
       "      <td>360.0000</td>\n",
       "    </tr>\n",
       "    <tr>\n",
       "      <th>3</th>\n",
       "      <td>2022</td>\n",
       "      <td>6</td>\n",
       "      <td>14</td>\n",
       "      <td>66.0000</td>\n",
       "    </tr>\n",
       "    <tr>\n",
       "      <th>4</th>\n",
       "      <td>2022</td>\n",
       "      <td>6</td>\n",
       "      <td>15</td>\n",
       "      <td>410.0000</td>\n",
       "    </tr>\n",
       "  </tbody>\n",
       "</table>\n",
       "</div>"
      ],
      "text/plain": [
       "   YEAR  MONTH  TRUCK_ID ORDER_TOTAL\n",
       "0  2022      6         4     50.0000\n",
       "1  2022      6         5    215.0000\n",
       "2  2022      6         8    360.0000\n",
       "3  2022      6        14     66.0000\n",
       "4  2022      6        15    410.0000"
      ]
     },
     "execution_count": 314,
     "metadata": {},
     "output_type": "execute_result"
    }
   ],
   "source": [
    "# Group order total to truck id\n",
    "SUM_SALES_CITY = order_df.groupby(['YEAR', 'MONTH', 'TRUCK_ID'])['ORDER_TOTAL'].sum().reset_index()\n",
    "SUM_SALES_CITY.head()"
   ]
  },
  {
   "cell_type": "markdown",
   "metadata": {},
   "source": [
    "# Preview Menu Table"
   ]
  },
  {
   "cell_type": "code",
   "execution_count": 315,
   "metadata": {},
   "outputs": [
    {
     "data": {
      "text/html": [
       "<div>\n",
       "<style scoped>\n",
       "    .dataframe tbody tr th:only-of-type {\n",
       "        vertical-align: middle;\n",
       "    }\n",
       "\n",
       "    .dataframe tbody tr th {\n",
       "        vertical-align: top;\n",
       "    }\n",
       "\n",
       "    .dataframe thead th {\n",
       "        text-align: right;\n",
       "    }\n",
       "</style>\n",
       "<table border=\"1\" class=\"dataframe\">\n",
       "  <thead>\n",
       "    <tr style=\"text-align: right;\">\n",
       "      <th></th>\n",
       "      <th>MENU_ID</th>\n",
       "      <th>MENU_TYPE_ID</th>\n",
       "      <th>MENU_TYPE</th>\n",
       "      <th>TRUCK_BRAND_NAME</th>\n",
       "      <th>MENU_ITEM_ID</th>\n",
       "      <th>MENU_ITEM_NAME</th>\n",
       "      <th>ITEM_CATEGORY</th>\n",
       "      <th>ITEM_SUBCATEGORY</th>\n",
       "      <th>COST_OF_GOODS_USD</th>\n",
       "      <th>SALE_PRICE_USD</th>\n",
       "      <th>MENU_ITEM_HEALTH_METRICS_OBJ</th>\n",
       "      <th>TOTAL_QTY_SOLD</th>\n",
       "    </tr>\n",
       "  </thead>\n",
       "  <tbody>\n",
       "    <tr>\n",
       "      <th>0</th>\n",
       "      <td>10001</td>\n",
       "      <td>1</td>\n",
       "      <td>Ice Cream</td>\n",
       "      <td>Freezing Point</td>\n",
       "      <td>10</td>\n",
       "      <td>Lemonade</td>\n",
       "      <td>Beverage</td>\n",
       "      <td>Cold Option</td>\n",
       "      <td>0.6500</td>\n",
       "      <td>3.5000</td>\n",
       "      <td>{\\n  \"menu_item_health_metrics\": [\\n    {\\n   ...</td>\n",
       "      <td>607</td>\n",
       "    </tr>\n",
       "    <tr>\n",
       "      <th>1</th>\n",
       "      <td>10002</td>\n",
       "      <td>1</td>\n",
       "      <td>Ice Cream</td>\n",
       "      <td>Freezing Point</td>\n",
       "      <td>11</td>\n",
       "      <td>Sugar Cone</td>\n",
       "      <td>Dessert</td>\n",
       "      <td>Cold Option</td>\n",
       "      <td>2.5000</td>\n",
       "      <td>6.0000</td>\n",
       "      <td>{\\n  \"menu_item_health_metrics\": [\\n    {\\n   ...</td>\n",
       "      <td>1815</td>\n",
       "    </tr>\n",
       "    <tr>\n",
       "      <th>2</th>\n",
       "      <td>10003</td>\n",
       "      <td>1</td>\n",
       "      <td>Ice Cream</td>\n",
       "      <td>Freezing Point</td>\n",
       "      <td>12</td>\n",
       "      <td>Waffle Cone</td>\n",
       "      <td>Dessert</td>\n",
       "      <td>Cold Option</td>\n",
       "      <td>2.5000</td>\n",
       "      <td>6.0000</td>\n",
       "      <td>{\\n  \"menu_item_health_metrics\": [\\n    {\\n   ...</td>\n",
       "      <td>1786</td>\n",
       "    </tr>\n",
       "    <tr>\n",
       "      <th>3</th>\n",
       "      <td>10004</td>\n",
       "      <td>1</td>\n",
       "      <td>Ice Cream</td>\n",
       "      <td>Freezing Point</td>\n",
       "      <td>13</td>\n",
       "      <td>Two Scoop Bowl</td>\n",
       "      <td>Dessert</td>\n",
       "      <td>Cold Option</td>\n",
       "      <td>3.0000</td>\n",
       "      <td>7.0000</td>\n",
       "      <td>{\\n  \"menu_item_health_metrics\": [\\n    {\\n   ...</td>\n",
       "      <td>1682</td>\n",
       "    </tr>\n",
       "    <tr>\n",
       "      <th>4</th>\n",
       "      <td>10005</td>\n",
       "      <td>1</td>\n",
       "      <td>Ice Cream</td>\n",
       "      <td>Freezing Point</td>\n",
       "      <td>14</td>\n",
       "      <td>Bottled Water</td>\n",
       "      <td>Beverage</td>\n",
       "      <td>Cold Option</td>\n",
       "      <td>0.5000</td>\n",
       "      <td>2.0000</td>\n",
       "      <td>{\\n  \"menu_item_health_metrics\": [\\n    {\\n   ...</td>\n",
       "      <td>629</td>\n",
       "    </tr>\n",
       "  </tbody>\n",
       "</table>\n",
       "</div>"
      ],
      "text/plain": [
       "   MENU_ID  MENU_TYPE_ID  MENU_TYPE TRUCK_BRAND_NAME  MENU_ITEM_ID  \\\n",
       "0    10001             1  Ice Cream   Freezing Point            10   \n",
       "1    10002             1  Ice Cream   Freezing Point            11   \n",
       "2    10003             1  Ice Cream   Freezing Point            12   \n",
       "3    10004             1  Ice Cream   Freezing Point            13   \n",
       "4    10005             1  Ice Cream   Freezing Point            14   \n",
       "\n",
       "   MENU_ITEM_NAME ITEM_CATEGORY ITEM_SUBCATEGORY COST_OF_GOODS_USD  \\\n",
       "0        Lemonade      Beverage      Cold Option            0.6500   \n",
       "1      Sugar Cone       Dessert      Cold Option            2.5000   \n",
       "2     Waffle Cone       Dessert      Cold Option            2.5000   \n",
       "3  Two Scoop Bowl       Dessert      Cold Option            3.0000   \n",
       "4   Bottled Water      Beverage      Cold Option            0.5000   \n",
       "\n",
       "  SALE_PRICE_USD                       MENU_ITEM_HEALTH_METRICS_OBJ  \\\n",
       "0         3.5000  {\\n  \"menu_item_health_metrics\": [\\n    {\\n   ...   \n",
       "1         6.0000  {\\n  \"menu_item_health_metrics\": [\\n    {\\n   ...   \n",
       "2         6.0000  {\\n  \"menu_item_health_metrics\": [\\n    {\\n   ...   \n",
       "3         7.0000  {\\n  \"menu_item_health_metrics\": [\\n    {\\n   ...   \n",
       "4         2.0000  {\\n  \"menu_item_health_metrics\": [\\n    {\\n   ...   \n",
       "\n",
       "   TOTAL_QTY_SOLD  \n",
       "0             607  \n",
       "1            1815  \n",
       "2            1786  \n",
       "3            1682  \n",
       "4             629  "
      ]
     },
     "execution_count": 315,
     "metadata": {},
     "output_type": "execute_result"
    }
   ],
   "source": [
    "# preview menu table\n",
    "menu_df.head()"
   ]
  },
  {
   "cell_type": "code",
   "execution_count": 316,
   "metadata": {},
   "outputs": [],
   "source": [
    "menu_df = menu_df.drop([\"MENU_ID\", \"MENU_TYPE_ID\", \"MENU_ITEM_NAME\", \"COST_OF_GOODS_USD\", \"MENU_ITEM_HEALTH_METRICS_OBJ\"]\n",
    "                        , axis=1)"
   ]
  },
  {
   "cell_type": "code",
   "execution_count": 317,
   "metadata": {},
   "outputs": [
    {
     "data": {
      "text/html": [
       "<div>\n",
       "<style scoped>\n",
       "    .dataframe tbody tr th:only-of-type {\n",
       "        vertical-align: middle;\n",
       "    }\n",
       "\n",
       "    .dataframe tbody tr th {\n",
       "        vertical-align: top;\n",
       "    }\n",
       "\n",
       "    .dataframe thead th {\n",
       "        text-align: right;\n",
       "    }\n",
       "</style>\n",
       "<table border=\"1\" class=\"dataframe\">\n",
       "  <thead>\n",
       "    <tr style=\"text-align: right;\">\n",
       "      <th></th>\n",
       "      <th>MENU_TYPE</th>\n",
       "      <th>TRUCK_BRAND_NAME</th>\n",
       "      <th>MENU_ITEM_ID</th>\n",
       "      <th>ITEM_CATEGORY</th>\n",
       "      <th>ITEM_SUBCATEGORY</th>\n",
       "      <th>SALE_PRICE_USD</th>\n",
       "      <th>TOTAL_QTY_SOLD</th>\n",
       "    </tr>\n",
       "  </thead>\n",
       "  <tbody>\n",
       "    <tr>\n",
       "      <th>0</th>\n",
       "      <td>Ice Cream</td>\n",
       "      <td>Freezing Point</td>\n",
       "      <td>10</td>\n",
       "      <td>Beverage</td>\n",
       "      <td>Cold Option</td>\n",
       "      <td>3.5000</td>\n",
       "      <td>607</td>\n",
       "    </tr>\n",
       "    <tr>\n",
       "      <th>1</th>\n",
       "      <td>Ice Cream</td>\n",
       "      <td>Freezing Point</td>\n",
       "      <td>11</td>\n",
       "      <td>Dessert</td>\n",
       "      <td>Cold Option</td>\n",
       "      <td>6.0000</td>\n",
       "      <td>1815</td>\n",
       "    </tr>\n",
       "    <tr>\n",
       "      <th>2</th>\n",
       "      <td>Ice Cream</td>\n",
       "      <td>Freezing Point</td>\n",
       "      <td>12</td>\n",
       "      <td>Dessert</td>\n",
       "      <td>Cold Option</td>\n",
       "      <td>6.0000</td>\n",
       "      <td>1786</td>\n",
       "    </tr>\n",
       "    <tr>\n",
       "      <th>3</th>\n",
       "      <td>Ice Cream</td>\n",
       "      <td>Freezing Point</td>\n",
       "      <td>13</td>\n",
       "      <td>Dessert</td>\n",
       "      <td>Cold Option</td>\n",
       "      <td>7.0000</td>\n",
       "      <td>1682</td>\n",
       "    </tr>\n",
       "    <tr>\n",
       "      <th>4</th>\n",
       "      <td>Ice Cream</td>\n",
       "      <td>Freezing Point</td>\n",
       "      <td>14</td>\n",
       "      <td>Beverage</td>\n",
       "      <td>Cold Option</td>\n",
       "      <td>2.0000</td>\n",
       "      <td>629</td>\n",
       "    </tr>\n",
       "  </tbody>\n",
       "</table>\n",
       "</div>"
      ],
      "text/plain": [
       "   MENU_TYPE TRUCK_BRAND_NAME  MENU_ITEM_ID ITEM_CATEGORY ITEM_SUBCATEGORY  \\\n",
       "0  Ice Cream   Freezing Point            10      Beverage      Cold Option   \n",
       "1  Ice Cream   Freezing Point            11       Dessert      Cold Option   \n",
       "2  Ice Cream   Freezing Point            12       Dessert      Cold Option   \n",
       "3  Ice Cream   Freezing Point            13       Dessert      Cold Option   \n",
       "4  Ice Cream   Freezing Point            14      Beverage      Cold Option   \n",
       "\n",
       "  SALE_PRICE_USD  TOTAL_QTY_SOLD  \n",
       "0         3.5000             607  \n",
       "1         6.0000            1815  \n",
       "2         6.0000            1786  \n",
       "3         7.0000            1682  \n",
       "4         2.0000             629  "
      ]
     },
     "execution_count": 317,
     "metadata": {},
     "output_type": "execute_result"
    }
   ],
   "source": [
    "menu_df.head()"
   ]
  },
  {
   "cell_type": "markdown",
   "metadata": {},
   "source": [
    "# Merge menu table with order table and total sales"
   ]
  },
  {
   "cell_type": "code",
   "execution_count": 318,
   "metadata": {},
   "outputs": [
    {
     "ename": "KeyError",
     "evalue": "'MENU_ITEM_ID'",
     "output_type": "error",
     "traceback": [
      "\u001b[1;31m---------------------------------------------------------------------------\u001b[0m",
      "\u001b[1;31mKeyError\u001b[0m                                  Traceback (most recent call last)",
      "\u001b[1;32m~\\AppData\\Local\\Temp\\ipykernel_11164\\3246664603.py\u001b[0m in \u001b[0;36m?\u001b[1;34m()\u001b[0m\n\u001b[1;32m----> 2\u001b[1;33m \u001b[1;31m# merge menu table with order table\u001b[0m\u001b[1;33m\u001b[0m\u001b[1;33m\u001b[0m\u001b[1;33m\u001b[0m\u001b[0m\n\u001b[0m\u001b[0;32m      3\u001b[0m \u001b[0mmerge_df\u001b[0m \u001b[1;33m=\u001b[0m \u001b[0mpd\u001b[0m\u001b[1;33m.\u001b[0m\u001b[0mmerge\u001b[0m\u001b[1;33m(\u001b[0m\u001b[0mmenu_df\u001b[0m\u001b[1;33m,\u001b[0m \u001b[0mSUM_SALES_CITY\u001b[0m\u001b[1;33m,\u001b[0m \u001b[0mon\u001b[0m\u001b[1;33m=\u001b[0m\u001b[1;34m'MENU_ITEM_ID'\u001b[0m\u001b[1;33m)\u001b[0m\u001b[1;33m\u001b[0m\u001b[1;33m\u001b[0m\u001b[0m\n",
      "\u001b[1;32mc:\\Users\\Darryl koh\\.conda\\envs\\py38_env\\lib\\site-packages\\pandas\\core\\reshape\\merge.py\u001b[0m in \u001b[0;36m?\u001b[1;34m(left, right, how, on, left_on, right_on, left_index, right_index, sort, suffixes, copy, indicator, validate)\u001b[0m\n\u001b[0;32m    144\u001b[0m     \u001b[0mcopy\u001b[0m\u001b[1;33m:\u001b[0m \u001b[0mbool\u001b[0m \u001b[1;33m|\u001b[0m \u001b[1;32mNone\u001b[0m \u001b[1;33m=\u001b[0m \u001b[1;32mNone\u001b[0m\u001b[1;33m,\u001b[0m\u001b[1;33m\u001b[0m\u001b[1;33m\u001b[0m\u001b[0m\n\u001b[0;32m    145\u001b[0m     \u001b[0mindicator\u001b[0m\u001b[1;33m:\u001b[0m \u001b[0mstr\u001b[0m \u001b[1;33m|\u001b[0m \u001b[0mbool\u001b[0m \u001b[1;33m=\u001b[0m \u001b[1;32mFalse\u001b[0m\u001b[1;33m,\u001b[0m\u001b[1;33m\u001b[0m\u001b[1;33m\u001b[0m\u001b[0m\n\u001b[0;32m    146\u001b[0m     \u001b[0mvalidate\u001b[0m\u001b[1;33m:\u001b[0m \u001b[0mstr\u001b[0m \u001b[1;33m|\u001b[0m \u001b[1;32mNone\u001b[0m \u001b[1;33m=\u001b[0m \u001b[1;32mNone\u001b[0m\u001b[1;33m,\u001b[0m\u001b[1;33m\u001b[0m\u001b[1;33m\u001b[0m\u001b[0m\n\u001b[0;32m    147\u001b[0m ) -> DataFrame:\n\u001b[1;32m--> 148\u001b[1;33m     op = _MergeOperation(\n\u001b[0m\u001b[0;32m    149\u001b[0m         \u001b[0mleft\u001b[0m\u001b[1;33m,\u001b[0m\u001b[1;33m\u001b[0m\u001b[1;33m\u001b[0m\u001b[0m\n\u001b[0;32m    150\u001b[0m         \u001b[0mright\u001b[0m\u001b[1;33m,\u001b[0m\u001b[1;33m\u001b[0m\u001b[1;33m\u001b[0m\u001b[0m\n\u001b[0;32m    151\u001b[0m         \u001b[0mhow\u001b[0m\u001b[1;33m=\u001b[0m\u001b[0mhow\u001b[0m\u001b[1;33m,\u001b[0m\u001b[1;33m\u001b[0m\u001b[1;33m\u001b[0m\u001b[0m\n",
      "\u001b[1;32mc:\\Users\\Darryl koh\\.conda\\envs\\py38_env\\lib\\site-packages\\pandas\\core\\reshape\\merge.py\u001b[0m in \u001b[0;36m?\u001b[1;34m(self, left, right, how, on, left_on, right_on, axis, left_index, right_index, sort, suffixes, indicator, validate)\u001b[0m\n\u001b[0;32m    733\u001b[0m         (\n\u001b[0;32m    734\u001b[0m             \u001b[0mself\u001b[0m\u001b[1;33m.\u001b[0m\u001b[0mleft_join_keys\u001b[0m\u001b[1;33m,\u001b[0m\u001b[1;33m\u001b[0m\u001b[1;33m\u001b[0m\u001b[0m\n\u001b[0;32m    735\u001b[0m             \u001b[0mself\u001b[0m\u001b[1;33m.\u001b[0m\u001b[0mright_join_keys\u001b[0m\u001b[1;33m,\u001b[0m\u001b[1;33m\u001b[0m\u001b[1;33m\u001b[0m\u001b[0m\n\u001b[0;32m    736\u001b[0m             \u001b[0mself\u001b[0m\u001b[1;33m.\u001b[0m\u001b[0mjoin_names\u001b[0m\u001b[1;33m,\u001b[0m\u001b[1;33m\u001b[0m\u001b[1;33m\u001b[0m\u001b[0m\n\u001b[1;32m--> 737\u001b[1;33m         ) = self._get_merge_keys()\n\u001b[0m\u001b[0;32m    738\u001b[0m \u001b[1;33m\u001b[0m\u001b[0m\n\u001b[0;32m    739\u001b[0m         \u001b[1;31m# validate the merge keys dtypes. We may need to coerce\u001b[0m\u001b[1;33m\u001b[0m\u001b[1;33m\u001b[0m\u001b[1;33m\u001b[0m\u001b[0m\n\u001b[0;32m    740\u001b[0m         \u001b[1;31m# to avoid incompatible dtypes\u001b[0m\u001b[1;33m\u001b[0m\u001b[1;33m\u001b[0m\u001b[1;33m\u001b[0m\u001b[0m\n",
      "\u001b[1;32mc:\\Users\\Darryl koh\\.conda\\envs\\py38_env\\lib\\site-packages\\pandas\\core\\reshape\\merge.py\u001b[0m in \u001b[0;36m?\u001b[1;34m(self)\u001b[0m\n\u001b[0;32m   1199\u001b[0m                         \u001b[1;31m# Then we're either Hashable or a wrong-length arraylike,\u001b[0m\u001b[1;33m\u001b[0m\u001b[1;33m\u001b[0m\u001b[1;33m\u001b[0m\u001b[0m\n\u001b[0;32m   1200\u001b[0m                         \u001b[1;31m#  the latter of which will raise\u001b[0m\u001b[1;33m\u001b[0m\u001b[1;33m\u001b[0m\u001b[1;33m\u001b[0m\u001b[0m\n\u001b[0;32m   1201\u001b[0m                         \u001b[0mrk\u001b[0m \u001b[1;33m=\u001b[0m \u001b[0mcast\u001b[0m\u001b[1;33m(\u001b[0m\u001b[0mHashable\u001b[0m\u001b[1;33m,\u001b[0m \u001b[0mrk\u001b[0m\u001b[1;33m)\u001b[0m\u001b[1;33m\u001b[0m\u001b[1;33m\u001b[0m\u001b[0m\n\u001b[0;32m   1202\u001b[0m                         \u001b[1;32mif\u001b[0m \u001b[0mrk\u001b[0m \u001b[1;32mis\u001b[0m \u001b[1;32mnot\u001b[0m \u001b[1;32mNone\u001b[0m\u001b[1;33m:\u001b[0m\u001b[1;33m\u001b[0m\u001b[1;33m\u001b[0m\u001b[0m\n\u001b[1;32m-> 1203\u001b[1;33m                             \u001b[0mright_keys\u001b[0m\u001b[1;33m.\u001b[0m\u001b[0mappend\u001b[0m\u001b[1;33m(\u001b[0m\u001b[0mright\u001b[0m\u001b[1;33m.\u001b[0m\u001b[0m_get_label_or_level_values\u001b[0m\u001b[1;33m(\u001b[0m\u001b[0mrk\u001b[0m\u001b[1;33m)\u001b[0m\u001b[1;33m)\u001b[0m\u001b[1;33m\u001b[0m\u001b[1;33m\u001b[0m\u001b[0m\n\u001b[0m\u001b[0;32m   1204\u001b[0m                         \u001b[1;32melse\u001b[0m\u001b[1;33m:\u001b[0m\u001b[1;33m\u001b[0m\u001b[1;33m\u001b[0m\u001b[0m\n\u001b[0;32m   1205\u001b[0m                             \u001b[1;31m# work-around for merge_asof(right_index=True)\u001b[0m\u001b[1;33m\u001b[0m\u001b[1;33m\u001b[0m\u001b[1;33m\u001b[0m\u001b[0m\n\u001b[0;32m   1206\u001b[0m                             \u001b[0mright_keys\u001b[0m\u001b[1;33m.\u001b[0m\u001b[0mappend\u001b[0m\u001b[1;33m(\u001b[0m\u001b[0mright\u001b[0m\u001b[1;33m.\u001b[0m\u001b[0mindex\u001b[0m\u001b[1;33m)\u001b[0m\u001b[1;33m\u001b[0m\u001b[1;33m\u001b[0m\u001b[0m\n",
      "\u001b[1;32mc:\\Users\\Darryl koh\\.conda\\envs\\py38_env\\lib\\site-packages\\pandas\\core\\generic.py\u001b[0m in \u001b[0;36m?\u001b[1;34m(self, key, axis)\u001b[0m\n\u001b[0;32m   1774\u001b[0m             \u001b[0mvalues\u001b[0m \u001b[1;33m=\u001b[0m \u001b[0mself\u001b[0m\u001b[1;33m.\u001b[0m\u001b[0mxs\u001b[0m\u001b[1;33m(\u001b[0m\u001b[0mkey\u001b[0m\u001b[1;33m,\u001b[0m \u001b[0maxis\u001b[0m\u001b[1;33m=\u001b[0m\u001b[0mother_axes\u001b[0m\u001b[1;33m[\u001b[0m\u001b[1;36m0\u001b[0m\u001b[1;33m]\u001b[0m\u001b[1;33m)\u001b[0m\u001b[1;33m.\u001b[0m\u001b[0m_values\u001b[0m\u001b[1;33m\u001b[0m\u001b[1;33m\u001b[0m\u001b[0m\n\u001b[0;32m   1775\u001b[0m         \u001b[1;32melif\u001b[0m \u001b[0mself\u001b[0m\u001b[1;33m.\u001b[0m\u001b[0m_is_level_reference\u001b[0m\u001b[1;33m(\u001b[0m\u001b[0mkey\u001b[0m\u001b[1;33m,\u001b[0m \u001b[0maxis\u001b[0m\u001b[1;33m=\u001b[0m\u001b[0maxis\u001b[0m\u001b[1;33m)\u001b[0m\u001b[1;33m:\u001b[0m\u001b[1;33m\u001b[0m\u001b[1;33m\u001b[0m\u001b[0m\n\u001b[0;32m   1776\u001b[0m             \u001b[0mvalues\u001b[0m \u001b[1;33m=\u001b[0m \u001b[0mself\u001b[0m\u001b[1;33m.\u001b[0m\u001b[0maxes\u001b[0m\u001b[1;33m[\u001b[0m\u001b[0maxis\u001b[0m\u001b[1;33m]\u001b[0m\u001b[1;33m.\u001b[0m\u001b[0mget_level_values\u001b[0m\u001b[1;33m(\u001b[0m\u001b[0mkey\u001b[0m\u001b[1;33m)\u001b[0m\u001b[1;33m.\u001b[0m\u001b[0m_values\u001b[0m\u001b[1;33m\u001b[0m\u001b[1;33m\u001b[0m\u001b[0m\n\u001b[0;32m   1777\u001b[0m         \u001b[1;32melse\u001b[0m\u001b[1;33m:\u001b[0m\u001b[1;33m\u001b[0m\u001b[1;33m\u001b[0m\u001b[0m\n\u001b[1;32m-> 1778\u001b[1;33m             \u001b[1;32mraise\u001b[0m \u001b[0mKeyError\u001b[0m\u001b[1;33m(\u001b[0m\u001b[0mkey\u001b[0m\u001b[1;33m)\u001b[0m\u001b[1;33m\u001b[0m\u001b[1;33m\u001b[0m\u001b[0m\n\u001b[0m\u001b[0;32m   1779\u001b[0m \u001b[1;33m\u001b[0m\u001b[0m\n\u001b[0;32m   1780\u001b[0m         \u001b[1;31m# Check for duplicates\u001b[0m\u001b[1;33m\u001b[0m\u001b[1;33m\u001b[0m\u001b[1;33m\u001b[0m\u001b[0m\n\u001b[0;32m   1781\u001b[0m         \u001b[1;32mif\u001b[0m \u001b[0mvalues\u001b[0m\u001b[1;33m.\u001b[0m\u001b[0mndim\u001b[0m \u001b[1;33m>\u001b[0m \u001b[1;36m1\u001b[0m\u001b[1;33m:\u001b[0m\u001b[1;33m\u001b[0m\u001b[1;33m\u001b[0m\u001b[0m\n",
      "\u001b[1;31mKeyError\u001b[0m: 'MENU_ITEM_ID'"
     ]
    }
   ],
   "source": [
    "# merge menu table with order table\n",
    "merge_df = pd.merge(menu_df, order_df, on='MENU_ITEM_ID')"
   ]
  },
  {
   "cell_type": "code",
   "execution_count": null,
   "metadata": {},
   "outputs": [],
   "source": [
    "merge_df.head()"
   ]
  },
  {
   "cell_type": "code",
   "execution_count": null,
   "metadata": {},
   "outputs": [],
   "source": [
    "stop"
   ]
  },
  {
   "cell_type": "markdown",
   "metadata": {},
   "source": [
    "# Location Table"
   ]
  },
  {
   "cell_type": "code",
   "execution_count": null,
   "metadata": {},
   "outputs": [],
   "source": [
    "# retrieve menu data from snowflake\n",
    "location_data_from_snowflake = session.table(\"frostbyte_tasty_bytes.raw_pos.LOCATION\").collect()"
   ]
  },
  {
   "cell_type": "code",
   "execution_count": null,
   "metadata": {},
   "outputs": [],
   "source": [
    "# convert menu_data_from_snowflake to pandas dataframe\n",
    "location_df = pd.DataFrame(location_data_from_snowflake)"
   ]
  },
  {
   "cell_type": "code",
   "execution_count": null,
   "metadata": {},
   "outputs": [],
   "source": [
    "location_df.head()"
   ]
  },
  {
   "cell_type": "code",
   "execution_count": null,
   "metadata": {},
   "outputs": [],
   "source": [
    "location_df = location_df.drop([\"PLACEKEY\", \"ISO_COUNTRY_CODE\", \"CITY\", \"REGION\"], axis=1)\n",
    "\n",
    "location_df.head()"
   ]
  },
  {
   "cell_type": "markdown",
   "metadata": {},
   "source": [
    "# Final Table"
   ]
  },
  {
   "cell_type": "code",
   "execution_count": null,
   "metadata": {},
   "outputs": [],
   "source": [
    "# merge table with location table\n",
    "final_df = pd.merge(merge_df, location_df, on='LOCATION_ID')"
   ]
  },
  {
   "cell_type": "code",
   "execution_count": null,
   "metadata": {},
   "outputs": [],
   "source": [
    "final_df.head()"
   ]
  },
  {
   "cell_type": "code",
   "execution_count": null,
   "metadata": {},
   "outputs": [],
   "source": [
    "# Convert 'sale_price_usd' column to 2 decimal places\n",
    "final_df['SALE_PRICE_USD'] = final_df['SALE_PRICE_USD'].apply(lambda x: '{:.2f}'.format(x))\n",
    "\n",
    "final_df.head()"
   ]
  },
  {
   "cell_type": "code",
   "execution_count": null,
   "metadata": {},
   "outputs": [],
   "source": [
    "stop"
   ]
  },
  {
   "cell_type": "markdown",
   "metadata": {},
   "source": [
    "# Check for Missing Values"
   ]
  },
  {
   "cell_type": "code",
   "execution_count": null,
   "metadata": {},
   "outputs": [],
   "source": [
    "final_df.isnull().sum()"
   ]
  },
  {
   "cell_type": "markdown",
   "metadata": {},
   "source": [
    "No missing values have been detected. Hence, no process required at this stage."
   ]
  },
  {
   "cell_type": "markdown",
   "metadata": {},
   "source": [
    "# Dealing with Outliers"
   ]
  },
  {
   "cell_type": "code",
   "execution_count": null,
   "metadata": {},
   "outputs": [],
   "source": [
    "# plot box plot for 'TOTAL_QTY_SOLD' variable\n",
    "plt.figure(figsize=(3,5))\n",
    "sns.boxplot(y=final_df['TOTAL_QTY_SOLD'])\n",
    "plt.title('TOTAL_QTY_SOLD boxplot')\n",
    "plt.show()"
   ]
  },
  {
   "cell_type": "markdown",
   "metadata": {},
   "source": [
    "Based on the boxplot shown above, there are no outliers detected. Hence, no process required for this stage.\n",
    "\n",
    "Note: Outliers for the target variable wold not dealt with even if observed as it would be considered cherry picking convenient data. Furthermore, due to the relatively small number of menu items, if subsetting of the target variable was done, there might be too limited data to build an accurate model."
   ]
  },
  {
   "cell_type": "markdown",
   "metadata": {},
   "source": [
    "# Train Test Split"
   ]
  },
  {
   "cell_type": "code",
   "execution_count": null,
   "metadata": {},
   "outputs": [],
   "source": [
    "X_train, X_test, y_train, y_test = train_test_split(\n",
    "    final_df.drop('TOTAL_QTY_SOLD', axis=1), final_df['TOTAL_QTY_SOLD'], test_size=0.3, random_state=0)\n",
    "\n",
    "X_train.shape, X_test.shape"
   ]
  },
  {
   "cell_type": "markdown",
   "metadata": {},
   "source": [
    "# Categorical Variable Encoding "
   ]
  },
  {
   "cell_type": "code",
   "execution_count": null,
   "metadata": {},
   "outputs": [],
   "source": [
    "# let's create the encoder\n",
    "\n",
    "ohe_enc = OneHotEncoder(\n",
    "    top_categories=None,\n",
    "    drop_last=True)  # to return k-1, false to return k"
   ]
  },
  {
   "cell_type": "code",
   "execution_count": null,
   "metadata": {},
   "outputs": [],
   "source": [
    "# fit the encoder to the train set: it will learn the variables and \n",
    "# categories to encode\n",
    "\n",
    "ohe_enc.fit(X_train)"
   ]
  },
  {
   "cell_type": "code",
   "execution_count": null,
   "metadata": {},
   "outputs": [],
   "source": [
    "X_train = ohe_enc.transform(X_train)\n",
    "X_test = ohe_enc.transform(X_test)"
   ]
  },
  {
   "cell_type": "markdown",
   "metadata": {},
   "source": [
    "# Scaling"
   ]
  },
  {
   "cell_type": "markdown",
   "metadata": {},
   "source": [
    "## Min Max Scaler"
   ]
  },
  {
   "cell_type": "code",
   "execution_count": null,
   "metadata": {},
   "outputs": [],
   "source": [
    "# set up the scaler\n",
    "scaler = MinMaxScaler()\n",
    "\n",
    "# fit the scaler to the train set, it will learn the parameters\n",
    "scaler.fit(X_train)\n",
    "\n",
    "# transform train and test sets\n",
    "X_train_scaled = scaler.transform(X_train)\n",
    "X_test_scaled = scaler.transform(X_test)"
   ]
  },
  {
   "cell_type": "markdown",
   "metadata": {},
   "source": [
    "## Standard Scaler"
   ]
  },
  {
   "cell_type": "code",
   "execution_count": null,
   "metadata": {},
   "outputs": [],
   "source": [
    "# # set up the scaler\n",
    "# scaler = StandardScaler()\n",
    "\n",
    "# # fit the scaler to the train set, it will learn the parameters\n",
    "# scaler.fit(X_train)\n",
    "\n",
    "# # transform train and test sets\n",
    "# X_train_scaled = scaler.transform(X_train)\n",
    "# X_test_scaled = scaler.transform(X_test)"
   ]
  },
  {
   "cell_type": "markdown",
   "metadata": {},
   "source": [
    "Standard Scaler did not lead to a difference in result."
   ]
  },
  {
   "cell_type": "code",
   "execution_count": null,
   "metadata": {},
   "outputs": [],
   "source": [
    "# # set up the scaler\n",
    "# scaler = RobustScaler()\n",
    "\n",
    "# # fit the scaler to the train set, it will learn the parameters\n",
    "# scaler.fit(X_train)\n",
    "\n",
    "# # transform train and test sets\n",
    "# X_train_scaled = scaler.transform(X_train)\n",
    "# X_test_scaled = scaler.transform(X_test)"
   ]
  },
  {
   "cell_type": "markdown",
   "metadata": {},
   "source": [
    "Robust Scaler did not lead to a difference in result."
   ]
  },
  {
   "cell_type": "code",
   "execution_count": null,
   "metadata": {},
   "outputs": [],
   "source": [
    "# let's transform the returned NumPy arrays to dataframes\n",
    "X_train_scaled = pd.DataFrame(X_train_scaled, columns=X_train.columns)\n",
    "X_test_scaled = pd.DataFrame(X_test_scaled, columns=X_test.columns)"
   ]
  },
  {
   "cell_type": "markdown",
   "metadata": {},
   "source": [
    "# Build Model"
   ]
  },
  {
   "cell_type": "code",
   "execution_count": null,
   "metadata": {},
   "outputs": [],
   "source": [
    "# Build XGBoost Model\n",
    "xgb = XGBRegressor(n_estimators = 20, learning_rate = 0.1, use_label_encoder = False, eval_metric='logloss')\n",
    "# fit the model to the training data\n",
    "xgb.fit(X_train_scaled, y_train)\n",
    "model_performance(xgb)"
   ]
  },
  {
   "cell_type": "markdown",
   "metadata": {},
   "source": [
    "# Improve Model (GridSearch CV)"
   ]
  },
  {
   "cell_type": "code",
   "execution_count": null,
   "metadata": {},
   "outputs": [],
   "source": [
    "# param_grid = {'n_estimators': [30, 40, 50, 60],\n",
    "#               'learning_rate': [0.1, 0.2, 0.3, 0.4],\n",
    "#               'max_depth': [5,6,7,8]}\n",
    "\n",
    "# xgb_grid = GridSearchCV(xgb, param_grid, cv=5)\n",
    "# xgb_grid.fit(X_train_scaled, y_train)\n",
    "\n",
    "# print(\"Best parameters found: \", xgb_grid.best_params_)\n",
    "# print(\"Best score found: \", xgb_grid.best_score_)"
   ]
  },
  {
   "cell_type": "markdown",
   "metadata": {},
   "source": [
    "# Improved Model Results"
   ]
  },
  {
   "cell_type": "code",
   "execution_count": null,
   "metadata": {},
   "outputs": [],
   "source": [
    "# Build XGBoost Model\n",
    "xgb_improved = XGBRegressor(learning_rate = 0.1, max_depth = 5, n_estimators = 50)\n",
    "# fit the model to the training data\n",
    "xgb_improved.fit(X_train_scaled, y_train)\n",
    "\n",
    "model_performance(xgb_improved)"
   ]
  },
  {
   "cell_type": "code",
   "execution_count": null,
   "metadata": {},
   "outputs": [],
   "source": [
    "xgb_improved.feature_importances_"
   ]
  }
 ],
 "metadata": {
  "kernelspec": {
   "display_name": "streamlit_delete_later_env",
   "language": "python",
   "name": "python3"
  },
  "language_info": {
   "codemirror_mode": {
    "name": "ipython",
    "version": 3
   },
   "file_extension": ".py",
   "mimetype": "text/x-python",
   "name": "python",
   "nbconvert_exporter": "python",
   "pygments_lexer": "ipython3",
   "version": "3.8.16"
  },
  "orig_nbformat": 4
 },
 "nbformat": 4,
 "nbformat_minor": 2
}
